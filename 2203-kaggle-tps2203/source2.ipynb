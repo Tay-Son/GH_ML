{
 "cells": [
  {
   "cell_type": "code",
   "execution_count": 1,
   "id": "4156c326-c25c-4dcd-84e6-1847370bbf53",
   "metadata": {},
   "outputs": [],
   "source": [
    "# Notebook 출력설정\n",
    "# 주요 라이브러리 임포트\n",
    "\n",
    "import warnings\n",
    "warnings.filterwarnings('ignore')\n",
    "\n",
    "import numpy as np\n",
    "import pandas as pd\n",
    "pd.set_option('display.max_colwidth', -1)\n",
    "pd.set_option('display.max_rows', 500)\n",
    "pd.set_option('display.max_columns', 500)\n",
    "pd.set_option('display.width', 1000)\n",
    "\n",
    "%matplotlib inline\n",
    "import matplotlib.pylab as plt\n",
    "plt.rcParams[\"figure.figsize\"] = (15,5)\n",
    "plt.rcParams['lines.linewidth'] = 1\n",
    "plt.rcParams['axes.grid'] = True\n",
    "import seaborn as sns"
   ]
  },
  {
   "cell_type": "code",
   "execution_count": 2,
   "id": "28c82b88-8d0c-4802-a11d-f7fd13d8a8b0",
   "metadata": {},
   "outputs": [],
   "source": [
    "DIR_DATASET = \"C:/Users/0stix/Datasets/\"\n",
    "NAME_PROJECT = \"2203-kaggle-tps2203\"\n",
    "TARGET = \"congetion\""
   ]
  },
  {
   "cell_type": "code",
   "execution_count": null,
   "id": "bc1b4e8e-8d80-42e3-8621-bd91cbfc2c04",
   "metadata": {},
   "outputs": [],
   "source": [
    "# 고속 데이터셋 평가\n",
    "def eval_df(X, y, model=0):\n",
    "    "
   ]
  },
  {
   "cell_type": "code",
   "execution_count": null,
   "id": "dae441df-3b48-462c-a396-e91376ca9ea1",
   "metadata": {},
   "outputs": [],
   "source": [
    "from IPython.display import clear_output\n",
    "clear_output(wait=True)"
   ]
  },
  {
   "cell_type": "code",
   "execution_count": 3,
   "id": "2419c865-dac4-41ce-8d09-1ed61ee7b9c2",
   "metadata": {},
   "outputs": [],
   "source": [
    "# 원본 데이터셋 로드\n",
    "dir_dataset = \"C:/Users/0stix/Datasets/\"\n",
    "name_project = '2203-kaggle-tps2203'\n",
    "df_train = pd.read_csv(dir_dataset+name_project+'/train.csv')\n",
    "df_test = pd.read_csv(dir_dataset+name_project+'/test.csv')\n",
    "df_sub = pd.read_csv(dir_dataset+name_project+'/sample_submission.csv')\n",
    "\n",
    "len_train = len(df_train)\n",
    "df_all = pd.concat([df_train, df_test], axis=0)\n",
    "target = 'congetion'"
   ]
  },
  {
   "cell_type": "code",
   "execution_count": 4,
   "id": "c29cb404-0f03-4ba5-873d-ce5b3dbeb898",
   "metadata": {
    "tags": []
   },
   "outputs": [],
   "source": [
    "import os\n",
    "import warnings\n",
    "from pathlib import Path\n",
    "\n",
    "import matplotlib.pyplot as plt\n",
    "import numpy as np\n",
    "import pandas as pd\n",
    "import seaborn as sns\n",
    "from IPython.display import display\n",
    "from pandas.api.types import CategoricalDtype\n",
    "\n",
    "from sklearn.cluster import KMeans\n",
    "from sklearn.decomposition import PCA\n",
    "from sklearn.feature_selection import mutual_info_regression\n",
    "from sklearn.model_selection import KFold, cross_val_score\n",
    "from sklearn.preprocessing import LabelEncoder, OrdinalEncoder\n",
    "\n",
    "# Algorithms\n",
    "from xgboost import XGBRegressor\n",
    "# from lightgbm import LGBMRegressor\n",
    "from catboost import CatBoostRegressor\n",
    "\n",
    "# Optuna - Bayesian Optimization \n",
    "import optuna\n",
    "from optuna.samplers import TPESampler\n",
    "\n",
    "# # Plotly\n",
    "# import plotly.express as px\n",
    "# from plotly.subplots import make_subplots\n",
    "# import plotly.figure_factory as ff\n",
    "# import plotly.offline as offline\n",
    "# import plotly.graph_objs as go\n",
    "\n",
    "# warnings.filterwarnings('ignore')\n",
    "\n",
    "# def load_data():\n",
    "#     data_dir = Path(\"../input/tabular-playground-series-mar-2022\")\n",
    "#     df_train = pd.read_csv(data_dir / \"train.csv\")\n",
    "#     df_test = pd.read_csv(data_dir / \"test.csv\")\n",
    "#     # Merge the splits so we can process them together\n",
    "#     df = pd.concat([df_train, df_test])\n",
    "#     return df\n",
    "\n",
    "# df_data = load_data()"
   ]
  },
  {
   "cell_type": "code",
   "execution_count": 5,
   "id": "b2b370ec-5232-46c2-89f7-02e7c05bbdc2",
   "metadata": {},
   "outputs": [],
   "source": [
    "from xgboost import XGBRegressor\n",
    "from catboost import CatBoostRegressor\n",
    "from sklearn.preprocessing import LabelEncoder\n",
    "from sklearn.model_selection import cross_val_score\n",
    "\n",
    "# def score_dataset(X, y, model=XGBRegressor(tree_method='gpu_hist', predictor='gpu_predictor'), model_2 = CatBoostRegressor(task_type = 'GPU', silent=True)):\n",
    "def score_dataset(X, y, model=XGBRegressor(), model_2 = CatBoostRegressor(silent=True)):\n",
    "#def score_dataset(X, y, model=XGBRegressor(), model_2 = CatBoostRegressor(silent=True)):\n",
    "    # Label encoding is good for XGBoost and RandomForest, but one-hot\n",
    "    # would be better for models like Lasso or Ridge. The `cat.codes`\n",
    "    # attribute holds the category levels.\n",
    "    for colname in X.select_dtypes([\"object\"]).columns:\n",
    "        X[colname] = LabelEncoder().fit_transform(X[colname])\n",
    "    X['week'] = X['week'].astype(int)\n",
    "    X = X.drop('row_id',axis=1)\n",
    "    # Metric for TPS Mar22 competition is MAE (Mean Absolute Error)\n",
    "    score_xgb = cross_val_score(\n",
    "        model, X, y, cv=5, scoring=\"neg_mean_absolute_error\", n_jobs=1\n",
    "    )\n",
    "    \n",
    "    score_cat = cross_val_score(\n",
    "        model_2, X, y, cv=5, scoring=\"neg_mean_absolute_error\", n_jobs=1\n",
    "    )\n",
    "    \n",
    "    score = -0.5 * (score_xgb.mean() + score_cat.mean())\n",
    "    return score\n",
    "\n",
    "#df_data = df_data.reset_index().set_index('row_id')\n",
    "#df_data = df_data.drop(outliers_index,axis=0)\n",
    "#df_data = df_data.reset_index().set_index('time')\n",
    "\n",
    "# x = df_data[df_data['congestion'].isnull() == False].copy()\n",
    "# y = pd.DataFrame(x.pop('congestion'))\n",
    "\n",
    "# baseline_score = score_dataset(x, y)\n",
    "# print(f\"Baseline score: {baseline_score:.5f} MAE\")"
   ]
  },
  {
   "cell_type": "code",
   "execution_count": 6,
   "id": "6f6e8234-a0b7-43fb-8cc6-14578add1807",
   "metadata": {},
   "outputs": [
    {
     "name": "stdout",
     "output_type": "stream",
     "text": [
      "Mem. usage decreased to 27.60 Mb (39.3% reduction)\n",
      "Mem. usage decreased to 49.52 Mb (46.0% reduction)\n"
     ]
    }
   ],
   "source": [
    "df_data = df_all.copy()\n",
    "\n",
    "def reduce_mem_usage(df, verbose=True):\n",
    "    numerics = ['int8','int16', 'int32', 'int64', 'float16', 'float32', 'float64']\n",
    "    start_mem = df.memory_usage().sum() / 1024**2\n",
    "\n",
    "    for col in df.columns:\n",
    "        col_type = df[col].dtypes\n",
    "\n",
    "        if col_type in numerics:\n",
    "            c_min = df[col].min()\n",
    "            c_max = df[col].max()\n",
    "\n",
    "            if str(col_type)[:3] == 'int':\n",
    "                if c_min > np.iinfo(np.int8).min and c_max < np.iinfo(np.int8).max:\n",
    "                    df[col] = df[col].astype(np.int8)\n",
    "                elif c_min > np.iinfo(np.int16).min and c_max < np.iinfo(np.int16).max:\n",
    "                    df[col] = df[col].astype(np.int16)\n",
    "                elif c_min > np.iinfo(np.int32).min and c_max < np.iinfo(np.int32).max:\n",
    "                    df[col] = df[col].astype(np.int32)\n",
    "                elif c_min > np.iinfo(np.int64).min and c_max < np.iinfo(np.int64).max:\n",
    "                    df[col] = df[col].astype(np.int64)  \n",
    "            else:\n",
    "                if c_min > np.finfo(np.float32).min and c_max < np.finfo(np.float32).max:\n",
    "                    df[col] = df[col].astype(np.float32)\n",
    "                else:\n",
    "                    df[col] = df[col].astype(np.float64)\n",
    "\n",
    "    end_mem = df.memory_usage().sum() / 1024**2\n",
    "\n",
    "    if verbose:\n",
    "        print('Mem. usage decreased to {:5.2f} Mb ({:.1f}% reduction)'.format(end_mem, 100 * (start_mem - end_mem) / start_mem))\n",
    " \n",
    "    return df\n",
    "\n",
    "df_data = reduce_mem_usage(df_data)\n",
    "\n",
    "df_data.time = pd.to_datetime(df_data.time)\n",
    "df_data['year'] = df_data.time.dt.year\n",
    "df_data['month'] = df_data.time.dt.month\n",
    "df_data['week'] = df_data.time.dt.isocalendar().week\n",
    "df_data['hour'] = df_data.time.dt.hour\n",
    "df_data['minute'] = df_data.time.dt.minute\n",
    "df_data['day_of_week'] = df_data.time.dt.day_name()\n",
    "df_data['day_of_year'] = df_data.time.dt.dayofyear\n",
    "df_data['is_weekend'] = (df_data.time.dt.dayofweek >= 5).astype(\"int\")\n",
    "df_data = df_data.set_index('time')\n",
    "\n",
    "from math import sin, cos, pi, exp\n",
    "sin_vals = {\n",
    "    'NB': 0.0,\n",
    "    'NE': sin(1 * pi/4),\n",
    "    'EB': 1.0,\n",
    "    'SE': sin(3 * pi/4),\n",
    "    'SB': 0.0,\n",
    "    'SW': sin(5 * pi/4),    \n",
    "    'WB': -1.0,    \n",
    "    'NW': sin(7 * pi/4),  \n",
    "}\n",
    "\n",
    "cos_vals = {\n",
    "    'NB': 1.0,\n",
    "    'NE': cos(1 * pi/4),\n",
    "    'EB': 0.0,\n",
    "    'SE': cos(3 * pi/4),\n",
    "    'SB': -1.0,\n",
    "    'SW': cos(5 * pi/4),    \n",
    "    'WB': 0.0,    \n",
    "    'NW': cos(7 * pi/4),  \n",
    "}\n",
    "\n",
    "df_data['sin'] = df_data['direction'].map(sin_vals)\n",
    "df_data['cos'] = df_data['direction'].map(cos_vals)\n",
    "\n",
    "df_data['roadway'] = df_data.x.astype(str) + df_data.y.astype(str) + df_data.direction.astype(str)\n",
    "# px.box(df_data[df_data.congestion.isnull() == False], x=\"roadway\", y=\"congestion\", color = 'roadway')\n",
    "\n",
    "df_data['x_cos_hour'] = df_data.x * df_data.cos * df_data.hour\n",
    "df_data['y_sen_hour'] = df_data.y * df_data.sin * df_data.hour\n",
    "\n",
    "df_data = df_data.drop(['year','x','y','direction'], axis=1)\n",
    "\n",
    "df_data = df_data.reset_index()\n",
    "keys = ['roadway', 'day_of_week','hour', 'minute']\n",
    "\n",
    "df = df_data.groupby(by=keys).mean().reset_index().set_index(keys)\n",
    "df['mean congestion'] = df['congestion']\n",
    "df_data = df_data.merge(df['mean congestion'], how='left', left_on=keys, right_on=keys)\n",
    "\n",
    "df = df_data.groupby(by=keys).median().reset_index().set_index(keys)\n",
    "df['median congestion'] = df['congestion']\n",
    "df_data = df_data.merge(df['median congestion'], how='left', left_on=keys, right_on=keys)\n",
    "\n",
    "df = df_data.groupby(by=keys).min().reset_index().set_index(keys)\n",
    "df['min congestion'] = df['congestion']\n",
    "df_data = df_data.merge(df['min congestion'], how='left', left_on=keys, right_on=keys)\n",
    "\n",
    "df = df_data.groupby(by=keys).max().reset_index().set_index(keys)\n",
    "df['max congestion'] = df['congestion']\n",
    "df_data = df_data.merge(df['max congestion'], how='left', left_on=keys, right_on=keys)\n",
    "\n",
    "df_data = df_data.set_index('time')\n",
    "\n",
    "qualitative = [col for col in df_data if df_data[col].dtype == 'object']\n",
    "for feature in qualitative:\n",
    "    df_data[feature] = LabelEncoder().fit_transform(df_data[feature])\n",
    "df_data = reduce_mem_usage(df_data)\n",
    "\n",
    "df_data = df_data.drop(['month','minute','week','day_of_week','is_weekend','day_of_year','cos','sin'],axis=1)\n",
    "\n",
    "df_train = df_data[df_data.congestion.isnull() == False]\n",
    "df_test = df_data[df_data.congestion.isnull() == True]\n",
    "\n",
    "from sklearn.model_selection import train_test_split\n",
    "X = df_train.drop(['congestion','row_id'],axis = 1)\n",
    "y = df_train['congestion']"
   ]
  },
  {
   "cell_type": "code",
   "execution_count": 7,
   "id": "3769ea83-423c-4f87-b292-9104c710d1f6",
   "metadata": {},
   "outputs": [
    {
     "data": {
      "text/html": [
       "<div>\n",
       "<style scoped>\n",
       "    .dataframe tbody tr th:only-of-type {\n",
       "        vertical-align: middle;\n",
       "    }\n",
       "\n",
       "    .dataframe tbody tr th {\n",
       "        vertical-align: top;\n",
       "    }\n",
       "\n",
       "    .dataframe thead th {\n",
       "        text-align: right;\n",
       "    }\n",
       "</style>\n",
       "<table border=\"1\" class=\"dataframe\">\n",
       "  <thead>\n",
       "    <tr style=\"text-align: right;\">\n",
       "      <th></th>\n",
       "      <th>row_id</th>\n",
       "      <th>congestion</th>\n",
       "      <th>hour</th>\n",
       "      <th>roadway</th>\n",
       "      <th>x_cos_hour</th>\n",
       "      <th>y_sen_hour</th>\n",
       "      <th>mean congestion</th>\n",
       "      <th>median congestion</th>\n",
       "      <th>min congestion</th>\n",
       "      <th>max congestion</th>\n",
       "    </tr>\n",
       "    <tr>\n",
       "      <th>time</th>\n",
       "      <th></th>\n",
       "      <th></th>\n",
       "      <th></th>\n",
       "      <th></th>\n",
       "      <th></th>\n",
       "      <th></th>\n",
       "      <th></th>\n",
       "      <th></th>\n",
       "      <th></th>\n",
       "      <th></th>\n",
       "    </tr>\n",
       "  </thead>\n",
       "  <tbody>\n",
       "    <tr>\n",
       "      <th>1991-04-01</th>\n",
       "      <td>0</td>\n",
       "      <td>70.0</td>\n",
       "      <td>0</td>\n",
       "      <td>0</td>\n",
       "      <td>0.0</td>\n",
       "      <td>0.0</td>\n",
       "      <td>39.555557</td>\n",
       "      <td>35.0</td>\n",
       "      <td>30.0</td>\n",
       "      <td>80.0</td>\n",
       "    </tr>\n",
       "    <tr>\n",
       "      <th>1991-04-01</th>\n",
       "      <td>1</td>\n",
       "      <td>49.0</td>\n",
       "      <td>0</td>\n",
       "      <td>1</td>\n",
       "      <td>0.0</td>\n",
       "      <td>0.0</td>\n",
       "      <td>30.259260</td>\n",
       "      <td>29.0</td>\n",
       "      <td>13.0</td>\n",
       "      <td>69.0</td>\n",
       "    </tr>\n",
       "    <tr>\n",
       "      <th>1991-04-01</th>\n",
       "      <td>2</td>\n",
       "      <td>24.0</td>\n",
       "      <td>0</td>\n",
       "      <td>2</td>\n",
       "      <td>-0.0</td>\n",
       "      <td>0.0</td>\n",
       "      <td>37.962963</td>\n",
       "      <td>24.0</td>\n",
       "      <td>21.0</td>\n",
       "      <td>91.0</td>\n",
       "    </tr>\n",
       "    <tr>\n",
       "      <th>1991-04-01</th>\n",
       "      <td>3</td>\n",
       "      <td>18.0</td>\n",
       "      <td>0</td>\n",
       "      <td>3</td>\n",
       "      <td>0.0</td>\n",
       "      <td>0.0</td>\n",
       "      <td>15.740741</td>\n",
       "      <td>17.0</td>\n",
       "      <td>0.0</td>\n",
       "      <td>26.0</td>\n",
       "    </tr>\n",
       "    <tr>\n",
       "      <th>1991-04-01</th>\n",
       "      <td>4</td>\n",
       "      <td>60.0</td>\n",
       "      <td>0</td>\n",
       "      <td>4</td>\n",
       "      <td>0.0</td>\n",
       "      <td>0.0</td>\n",
       "      <td>61.962963</td>\n",
       "      <td>63.0</td>\n",
       "      <td>52.0</td>\n",
       "      <td>72.0</td>\n",
       "    </tr>\n",
       "  </tbody>\n",
       "</table>\n",
       "</div>"
      ],
      "text/plain": [
       "            row_id  congestion  hour  roadway  x_cos_hour  y_sen_hour  mean congestion  median congestion  min congestion  max congestion\n",
       "time                                                                                                                                     \n",
       "1991-04-01  0       70.0        0     0        0.0         0.0         39.555557        35.0               30.0            80.0          \n",
       "1991-04-01  1       49.0        0     1        0.0         0.0         30.259260        29.0               13.0            69.0          \n",
       "1991-04-01  2       24.0        0     2       -0.0         0.0         37.962963        24.0               21.0            91.0          \n",
       "1991-04-01  3       18.0        0     3        0.0         0.0         15.740741        17.0               0.0             26.0          \n",
       "1991-04-01  4       60.0        0     4        0.0         0.0         61.962963        63.0               52.0            72.0          "
      ]
     },
     "execution_count": 7,
     "metadata": {},
     "output_type": "execute_result"
    }
   ],
   "source": [
    "df_data.head()"
   ]
  },
  {
   "cell_type": "code",
   "execution_count": 8,
   "id": "eac467ec-e8c9-4ffe-9907-9efa08485c22",
   "metadata": {},
   "outputs": [],
   "source": [
    "from sklearn.metrics import mean_absolute_error as mae\n",
    "def objective(trial):\n",
    "    params = {\n",
    "        \"random_state\":trial.suggest_categorical(\"random_state\", [519632]),\n",
    "        'learning_rate' : trial.suggest_loguniform('learning_rate', 0.0001, 0.3),\n",
    "        'bagging_temperature' :trial.suggest_loguniform('bagging_temperature', 0.01, 100.00),\n",
    "        \"n_estimators\": 1000,\n",
    "        \"max_depth\":trial.suggest_int(\"max_depth\", 3, 10),\n",
    "        'random_strength' :trial.suggest_int('random_strength', 0, 100),\n",
    "        \"l2_leaf_reg\":trial.suggest_float(\"l2_leaf_reg\",1e-8,3e-5),\n",
    "        \"min_child_samples\": trial.suggest_int(\"min_child_samples\", 5, 100),\n",
    "        \"max_bin\": trial.suggest_int(\"max_bin\", 200, 500),\n",
    "        'od_type': trial.suggest_categorical('od_type', ['IncToDec', 'Iter']),\n",
    "        'task_type': trial.suggest_categorical('task_type', ['GPU']),\n",
    "        'loss_function': trial.suggest_categorical('loss_function', ['MAE']),\n",
    "        'eval_metric': trial.suggest_categorical('eval_metric', ['MAE'])\n",
    "    }\n",
    "\n",
    "    model = CatBoostRegressor(**params)\n",
    "    X_train_tmp, X_valid_tmp, y_train_tmp, y_valid_tmp = train_test_split(X, y, test_size=0.3, random_state=42)\n",
    "    model.fit(\n",
    "        X_train_tmp, y_train_tmp,\n",
    "        eval_set=[(X_valid_tmp, y_valid_tmp)],\n",
    "        early_stopping_rounds=25, verbose=0\n",
    "    )\n",
    "        \n",
    "    y_train_pred = model.predict(X_train_tmp)\n",
    "    y_valid_pred = model.predict(X_valid_tmp)\n",
    "    train_mae = mae(y_train_tmp, y_train_pred)\n",
    "    valid_mae = mae(y_valid_tmp, y_valid_pred)\n",
    "    \n",
    "    print(f'MAE of Train: {train_mae}')\n",
    "    print(f'MAE of Validation: {valid_mae}')\n",
    "    \n",
    "    return valid_mae"
   ]
  },
  {
   "cell_type": "code",
   "execution_count": 9,
   "id": "8b10e147-1a60-4938-a337-a49962cf47d8",
   "metadata": {},
   "outputs": [],
   "source": [
    "allow_optimize = 1"
   ]
  },
  {
   "cell_type": "code",
   "execution_count": 10,
   "id": "f6126b54-bcb4-4af4-bc67-bc08942923f6",
   "metadata": {
    "tags": []
   },
   "outputs": [
    {
     "name": "stderr",
     "output_type": "stream",
     "text": [
      "\u001b[32m[I 2022-03-26 00:51:09,425]\u001b[0m A new study created in memory with name: cat_parameter_opt\u001b[0m\n",
      "\u001b[32m[I 2022-03-26 00:51:13,859]\u001b[0m Trial 0 finished with value: 5.936856281194533 and parameters: {'random_state': 519632, 'learning_rate': 0.13637821802218406, 'bagging_temperature': 1.7826226239792804, 'max_depth': 6, 'random_strength': 57, 'l2_leaf_reg': 6.391527496038165e-06, 'min_child_samples': 99, 'max_bin': 266, 'od_type': 'IncToDec', 'task_type': 'GPU', 'loss_function': 'MAE', 'eval_metric': 'MAE'}. Best is trial 0 with value: 5.936856281194533.\u001b[0m\n"
     ]
    },
    {
     "name": "stdout",
     "output_type": "stream",
     "text": [
      "MAE of Train: 5.931145672195152\n",
      "MAE of Validation: 5.936856281194533\n"
     ]
    },
    {
     "name": "stderr",
     "output_type": "stream",
     "text": [
      "\u001b[32m[I 2022-03-26 00:51:20,108]\u001b[0m Trial 1 finished with value: 10.025576259105081 and parameters: {'random_state': 519632, 'learning_rate': 0.0005283375044626603, 'bagging_temperature': 0.7340262520013038, 'max_depth': 5, 'random_strength': 26, 'l2_leaf_reg': 2.65542125669681e-05, 'min_child_samples': 88, 'max_bin': 279, 'od_type': 'Iter', 'task_type': 'GPU', 'loss_function': 'MAE', 'eval_metric': 'MAE'}. Best is trial 0 with value: 5.936856281194533.\u001b[0m\n"
     ]
    },
    {
     "name": "stdout",
     "output_type": "stream",
     "text": [
      "MAE of Train: 10.01381313676633\n",
      "MAE of Validation: 10.025576259105081\n"
     ]
    },
    {
     "name": "stderr",
     "output_type": "stream",
     "text": [
      "\u001b[32m[I 2022-03-26 00:51:27,345]\u001b[0m Trial 2 finished with value: 13.852397175668155 and parameters: {'random_state': 519632, 'learning_rate': 0.003301199544227713, 'bagging_temperature': 67.53919280915215, 'max_depth': 6, 'random_strength': 5, 'l2_leaf_reg': 6.082325615930732e-06, 'min_child_samples': 75, 'max_bin': 445, 'od_type': 'Iter', 'task_type': 'GPU', 'loss_function': 'MAE', 'eval_metric': 'MAE'}. Best is trial 0 with value: 5.936856281194533.\u001b[0m\n"
     ]
    },
    {
     "name": "stdout",
     "output_type": "stream",
     "text": [
      "MAE of Train: 13.841723596348013\n",
      "MAE of Validation: 13.852397175668155\n"
     ]
    },
    {
     "name": "stderr",
     "output_type": "stream",
     "text": [
      "\u001b[32m[I 2022-03-26 00:51:34,589]\u001b[0m Trial 3 finished with value: 13.861276485317974 and parameters: {'random_state': 519632, 'learning_rate': 0.0005587782339724161, 'bagging_temperature': 59.55994331279238, 'max_depth': 5, 'random_strength': 95, 'l2_leaf_reg': 2.194571738819852e-05, 'min_child_samples': 95, 'max_bin': 352, 'od_type': 'Iter', 'task_type': 'GPU', 'loss_function': 'MAE', 'eval_metric': 'MAE'}. Best is trial 0 with value: 5.936856281194533.\u001b[0m\n"
     ]
    },
    {
     "name": "stdout",
     "output_type": "stream",
     "text": [
      "MAE of Train: 13.851238397562328\n",
      "MAE of Validation: 13.861276485317974\n"
     ]
    },
    {
     "name": "stderr",
     "output_type": "stream",
     "text": [
      "\u001b[32m[I 2022-03-26 00:51:41,242]\u001b[0m Trial 4 finished with value: 5.9201913472718966 and parameters: {'random_state': 519632, 'learning_rate': 0.09806848765004257, 'bagging_temperature': 2.8005401029793418, 'max_depth': 6, 'random_strength': 63, 'l2_leaf_reg': 2.342744279507182e-06, 'min_child_samples': 91, 'max_bin': 223, 'od_type': 'IncToDec', 'task_type': 'GPU', 'loss_function': 'MAE', 'eval_metric': 'MAE'}. Best is trial 4 with value: 5.9201913472718966.\u001b[0m\n"
     ]
    },
    {
     "name": "stdout",
     "output_type": "stream",
     "text": [
      "MAE of Train: 5.909837125574412\n",
      "MAE of Validation: 5.9201913472718966\n"
     ]
    },
    {
     "name": "stderr",
     "output_type": "stream",
     "text": [
      "\u001b[32m[I 2022-03-26 00:51:51,318]\u001b[0m Trial 5 finished with value: 9.089749105011572 and parameters: {'random_state': 519632, 'learning_rate': 0.0007103255463501752, 'bagging_temperature': 6.803241394781838, 'max_depth': 9, 'random_strength': 22, 'l2_leaf_reg': 2.0530460547921314e-05, 'min_child_samples': 54, 'max_bin': 316, 'od_type': 'IncToDec', 'task_type': 'GPU', 'loss_function': 'MAE', 'eval_metric': 'MAE'}. Best is trial 4 with value: 5.9201913472718966.\u001b[0m\n"
     ]
    },
    {
     "name": "stdout",
     "output_type": "stream",
     "text": [
      "MAE of Train: 9.077944535088248\n",
      "MAE of Validation: 9.089749105011572\n"
     ]
    },
    {
     "name": "stderr",
     "output_type": "stream",
     "text": [
      "\u001b[32m[I 2022-03-26 00:51:57,680]\u001b[0m Trial 6 finished with value: 5.98125395033958 and parameters: {'random_state': 519632, 'learning_rate': 0.11741269589140406, 'bagging_temperature': 11.615039639974764, 'max_depth': 3, 'random_strength': 93, 'l2_leaf_reg': 1.1727403740135924e-05, 'min_child_samples': 65, 'max_bin': 439, 'od_type': 'Iter', 'task_type': 'GPU', 'loss_function': 'MAE', 'eval_metric': 'MAE'}. Best is trial 4 with value: 5.9201913472718966.\u001b[0m\n"
     ]
    },
    {
     "name": "stdout",
     "output_type": "stream",
     "text": [
      "MAE of Train: 5.976598248523849\n",
      "MAE of Validation: 5.98125395033958\n"
     ]
    },
    {
     "name": "stderr",
     "output_type": "stream",
     "text": [
      "\u001b[32m[I 2022-03-26 00:52:06,554]\u001b[0m Trial 7 finished with value: 7.426587388237452 and parameters: {'random_state': 519632, 'learning_rate': 0.001245886898879424, 'bagging_temperature': 4.513489201184613, 'max_depth': 8, 'random_strength': 41, 'l2_leaf_reg': 3.6819778297925603e-06, 'min_child_samples': 25, 'max_bin': 492, 'od_type': 'IncToDec', 'task_type': 'GPU', 'loss_function': 'MAE', 'eval_metric': 'MAE'}. Best is trial 4 with value: 5.9201913472718966.\u001b[0m\n"
     ]
    },
    {
     "name": "stdout",
     "output_type": "stream",
     "text": [
      "MAE of Train: 7.415752886026237\n",
      "MAE of Validation: 7.426587388237452\n"
     ]
    },
    {
     "name": "stderr",
     "output_type": "stream",
     "text": [
      "\u001b[32m[I 2022-03-26 00:52:15,122]\u001b[0m Trial 8 finished with value: 11.725194590339875 and parameters: {'random_state': 519632, 'learning_rate': 0.0002464672742456697, 'bagging_temperature': 0.022986564098123462, 'max_depth': 8, 'random_strength': 100, 'l2_leaf_reg': 2.714659155323358e-05, 'min_child_samples': 47, 'max_bin': 380, 'od_type': 'IncToDec', 'task_type': 'GPU', 'loss_function': 'MAE', 'eval_metric': 'MAE'}. Best is trial 4 with value: 5.9201913472718966.\u001b[0m\n"
     ]
    },
    {
     "name": "stdout",
     "output_type": "stream",
     "text": [
      "MAE of Train: 11.71287679771292\n",
      "MAE of Validation: 11.725194590339875\n"
     ]
    },
    {
     "name": "stderr",
     "output_type": "stream",
     "text": [
      "\u001b[32m[I 2022-03-26 00:52:22,546]\u001b[0m Trial 9 finished with value: 6.007384666040977 and parameters: {'random_state': 519632, 'learning_rate': 0.004833826394832733, 'bagging_temperature': 0.04564435721766057, 'max_depth': 6, 'random_strength': 61, 'l2_leaf_reg': 9.873990241703941e-06, 'min_child_samples': 97, 'max_bin': 274, 'od_type': 'Iter', 'task_type': 'GPU', 'loss_function': 'MAE', 'eval_metric': 'MAE'}. Best is trial 4 with value: 5.9201913472718966.\u001b[0m\n"
     ]
    },
    {
     "name": "stdout",
     "output_type": "stream",
     "text": [
      "MAE of Train: 6.000316350732888\n",
      "MAE of Validation: 6.007384666040977\n"
     ]
    },
    {
     "name": "stderr",
     "output_type": "stream",
     "text": [
      "\u001b[32m[I 2022-03-26 00:52:29,425]\u001b[0m Trial 10 finished with value: 5.954917086348124 and parameters: {'random_state': 519632, 'learning_rate': 0.028486472106027172, 'bagging_temperature': 0.3257206473208412, 'max_depth': 3, 'random_strength': 74, 'l2_leaf_reg': 1.4758597278366753e-06, 'min_child_samples': 28, 'max_bin': 204, 'od_type': 'IncToDec', 'task_type': 'GPU', 'loss_function': 'MAE', 'eval_metric': 'MAE'}. Best is trial 4 with value: 5.9201913472718966.\u001b[0m\n"
     ]
    },
    {
     "name": "stdout",
     "output_type": "stream",
     "text": [
      "MAE of Train: 5.950271694878647\n",
      "MAE of Validation: 5.954917086348124\n"
     ]
    },
    {
     "name": "stderr",
     "output_type": "stream",
     "text": [
      "\u001b[32m[I 2022-03-26 00:52:31,213]\u001b[0m Trial 11 finished with value: 5.971413238219434 and parameters: {'random_state': 519632, 'learning_rate': 0.2625341523629419, 'bagging_temperature': 0.2829188705801753, 'max_depth': 7, 'random_strength': 63, 'l2_leaf_reg': 4.79476398730719e-07, 'min_child_samples': 75, 'max_bin': 206, 'od_type': 'IncToDec', 'task_type': 'GPU', 'loss_function': 'MAE', 'eval_metric': 'MAE'}. Best is trial 4 with value: 5.9201913472718966.\u001b[0m\n"
     ]
    },
    {
     "name": "stdout",
     "output_type": "stream",
     "text": [
      "MAE of Train: 5.964586353398298\n",
      "MAE of Validation: 5.971413238219434\n"
     ]
    },
    {
     "name": "stderr",
     "output_type": "stream",
     "text": [
      "\u001b[32m[I 2022-03-26 00:52:40,209]\u001b[0m Trial 12 finished with value: 5.932598890534813 and parameters: {'random_state': 519632, 'learning_rate': 0.03198488195954736, 'bagging_temperature': 3.83047562218934, 'max_depth': 10, 'random_strength': 46, 'l2_leaf_reg': 7.5242770283560336e-06, 'min_child_samples': 84, 'max_bin': 253, 'od_type': 'IncToDec', 'task_type': 'GPU', 'loss_function': 'MAE', 'eval_metric': 'MAE'}. Best is trial 4 with value: 5.9201913472718966.\u001b[0m\n"
     ]
    },
    {
     "name": "stdout",
     "output_type": "stream",
     "text": [
      "MAE of Train: 5.912037665287647\n",
      "MAE of Validation: 5.932598890534813\n"
     ]
    },
    {
     "name": "stderr",
     "output_type": "stream",
     "text": [
      "\u001b[32m[I 2022-03-26 00:52:51,877]\u001b[0m Trial 13 finished with value: 5.9930328322675015 and parameters: {'random_state': 519632, 'learning_rate': 0.02581805098968874, 'bagging_temperature': 12.84052679191206, 'max_depth': 10, 'random_strength': 40, 'l2_leaf_reg': 1.3283686646098888e-05, 'min_child_samples': 80, 'max_bin': 239, 'od_type': 'IncToDec', 'task_type': 'GPU', 'loss_function': 'MAE', 'eval_metric': 'MAE'}. Best is trial 4 with value: 5.9201913472718966.\u001b[0m\n"
     ]
    },
    {
     "name": "stdout",
     "output_type": "stream",
     "text": [
      "MAE of Train: 5.957713399965724\n",
      "MAE of Validation: 5.9930328322675015\n"
     ]
    },
    {
     "name": "stderr",
     "output_type": "stream",
     "text": [
      "\u001b[32m[I 2022-03-26 00:53:04,482]\u001b[0m Trial 14 finished with value: 5.934820546814116 and parameters: {'random_state': 519632, 'learning_rate': 0.025229052796009635, 'bagging_temperature': 1.4529955667441923, 'max_depth': 10, 'random_strength': 73, 'l2_leaf_reg': 8.05881372633403e-06, 'min_child_samples': 57, 'max_bin': 323, 'od_type': 'IncToDec', 'task_type': 'GPU', 'loss_function': 'MAE', 'eval_metric': 'MAE'}. Best is trial 4 with value: 5.9201913472718966.\u001b[0m\n"
     ]
    },
    {
     "name": "stdout",
     "output_type": "stream",
     "text": [
      "MAE of Train: 5.921231326791304\n",
      "MAE of Validation: 5.934820546814116\n"
     ]
    },
    {
     "name": "stderr",
     "output_type": "stream",
     "text": [
      "\u001b[32m[I 2022-03-26 00:53:10,750]\u001b[0m Trial 15 finished with value: 5.938388344000458 and parameters: {'random_state': 519632, 'learning_rate': 0.05453464035321974, 'bagging_temperature': 0.11300066863391418, 'max_depth': 4, 'random_strength': 46, 'l2_leaf_reg': 1.662483214258516e-05, 'min_child_samples': 5, 'max_bin': 238, 'od_type': 'IncToDec', 'task_type': 'GPU', 'loss_function': 'MAE', 'eval_metric': 'MAE'}. Best is trial 4 with value: 5.9201913472718966.\u001b[0m\n"
     ]
    },
    {
     "name": "stdout",
     "output_type": "stream",
     "text": [
      "MAE of Train: 5.933808120680049\n",
      "MAE of Validation: 5.938388344000458\n"
     ]
    },
    {
     "name": "stderr",
     "output_type": "stream",
     "text": [
      "\u001b[32m[I 2022-03-26 00:53:19,176]\u001b[0m Trial 16 finished with value: 6.086296277945161 and parameters: {'random_state': 519632, 'learning_rate': 0.011174837237729728, 'bagging_temperature': 27.422507771388187, 'max_depth': 8, 'random_strength': 78, 'l2_leaf_reg': 4.0976082909782694e-06, 'min_child_samples': 65, 'max_bin': 303, 'od_type': 'IncToDec', 'task_type': 'GPU', 'loss_function': 'MAE', 'eval_metric': 'MAE'}. Best is trial 4 with value: 5.9201913472718966.\u001b[0m\n"
     ]
    },
    {
     "name": "stdout",
     "output_type": "stream",
     "text": [
      "MAE of Train: 6.077018783377852\n",
      "MAE of Validation: 6.086296277945161\n"
     ]
    },
    {
     "name": "stderr",
     "output_type": "stream",
     "text": [
      "\u001b[32m[I 2022-03-26 00:53:27,570]\u001b[0m Trial 17 finished with value: 5.925785874823666 and parameters: {'random_state': 519632, 'learning_rate': 0.0672579853458732, 'bagging_temperature': 2.656445159366587, 'max_depth': 7, 'random_strength': 31, 'l2_leaf_reg': 1.7114426549528912e-05, 'min_child_samples': 82, 'max_bin': 234, 'od_type': 'IncToDec', 'task_type': 'GPU', 'loss_function': 'MAE', 'eval_metric': 'MAE'}. Best is trial 4 with value: 5.9201913472718966.\u001b[0m\n"
     ]
    },
    {
     "name": "stdout",
     "output_type": "stream",
     "text": [
      "MAE of Train: 5.916452602446569\n",
      "MAE of Validation: 5.925785874823666\n"
     ]
    },
    {
     "name": "stderr",
     "output_type": "stream",
     "text": [
      "\u001b[32m[I 2022-03-26 00:53:29,378]\u001b[0m Trial 18 finished with value: 5.96500322739496 and parameters: {'random_state': 519632, 'learning_rate': 0.28803151669684773, 'bagging_temperature': 0.6323681929441503, 'max_depth': 7, 'random_strength': 24, 'l2_leaf_reg': 1.6334768407489334e-05, 'min_child_samples': 39, 'max_bin': 202, 'od_type': 'IncToDec', 'task_type': 'GPU', 'loss_function': 'MAE', 'eval_metric': 'MAE'}. Best is trial 4 with value: 5.9201913472718966.\u001b[0m\n"
     ]
    },
    {
     "name": "stdout",
     "output_type": "stream",
     "text": [
      "MAE of Train: 5.956831173650693\n",
      "MAE of Validation: 5.96500322739496\n"
     ]
    },
    {
     "name": "stderr",
     "output_type": "stream",
     "text": [
      "\u001b[32m[I 2022-03-26 00:53:33,813]\u001b[0m Trial 19 finished with value: 5.949960782134173 and parameters: {'random_state': 519632, 'learning_rate': 0.0870335537527084, 'bagging_temperature': 2.020996319104684, 'max_depth': 5, 'random_strength': 5, 'l2_leaf_reg': 1.9726997459976795e-05, 'min_child_samples': 67, 'max_bin': 398, 'od_type': 'IncToDec', 'task_type': 'GPU', 'loss_function': 'MAE', 'eval_metric': 'MAE'}. Best is trial 4 with value: 5.9201913472718966.\u001b[0m\n"
     ]
    },
    {
     "name": "stdout",
     "output_type": "stream",
     "text": [
      "MAE of Train: 5.94329610419421\n",
      "MAE of Validation: 5.949960782134173\n"
     ]
    },
    {
     "name": "stderr",
     "output_type": "stream",
     "text": [
      "\u001b[32m[I 2022-03-26 00:53:41,672]\u001b[0m Trial 20 finished with value: 5.962857100788084 and parameters: {'random_state': 519632, 'learning_rate': 0.00863838606599169, 'bagging_temperature': 0.010304092877458058, 'max_depth': 7, 'random_strength': 31, 'l2_leaf_reg': 2.418824670653329e-05, 'min_child_samples': 92, 'max_bin': 233, 'od_type': 'IncToDec', 'task_type': 'GPU', 'loss_function': 'MAE', 'eval_metric': 'MAE'}. Best is trial 4 with value: 5.9201913472718966.\u001b[0m\n"
     ]
    },
    {
     "name": "stdout",
     "output_type": "stream",
     "text": [
      "MAE of Train: 5.955398585131526\n",
      "MAE of Validation: 5.962857100788084\n"
     ]
    },
    {
     "name": "stderr",
     "output_type": "stream",
     "text": [
      "\u001b[32m[I 2022-03-26 00:53:47,344]\u001b[0m Trial 21 finished with value: 5.929697098807905 and parameters: {'random_state': 519632, 'learning_rate': 0.04529940676016737, 'bagging_temperature': 4.029421104276044, 'max_depth': 9, 'random_strength': 53, 'l2_leaf_reg': 1.1115393383522393e-05, 'min_child_samples': 82, 'max_bin': 252, 'od_type': 'IncToDec', 'task_type': 'GPU', 'loss_function': 'MAE', 'eval_metric': 'MAE'}. Best is trial 4 with value: 5.9201913472718966.\u001b[0m\n"
     ]
    },
    {
     "name": "stdout",
     "output_type": "stream",
     "text": [
      "MAE of Train: 5.911958439338409\n",
      "MAE of Validation: 5.929697098807905\n"
     ]
    },
    {
     "name": "stderr",
     "output_type": "stream",
     "text": [
      "\u001b[32m[I 2022-03-26 00:53:57,267]\u001b[0m Trial 22 finished with value: 5.9877468904642726 and parameters: {'random_state': 519632, 'learning_rate': 0.057261248581452054, 'bagging_temperature': 22.481319402786227, 'max_depth': 9, 'random_strength': 53, 'l2_leaf_reg': 1.3690995066123794e-05, 'min_child_samples': 83, 'max_bin': 298, 'od_type': 'IncToDec', 'task_type': 'GPU', 'loss_function': 'MAE', 'eval_metric': 'MAE'}. Best is trial 4 with value: 5.9201913472718966.\u001b[0m\n"
     ]
    },
    {
     "name": "stdout",
     "output_type": "stream",
     "text": [
      "MAE of Train: 5.949351468972396\n",
      "MAE of Validation: 5.9877468904642726\n"
     ]
    },
    {
     "name": "stderr",
     "output_type": "stream",
     "text": [
      "\u001b[32m[I 2022-03-26 00:54:07,716]\u001b[0m Trial 23 finished with value: 5.937519918030664 and parameters: {'random_state': 519632, 'learning_rate': 0.011244970693094448, 'bagging_temperature': 3.274746625355501, 'max_depth': 9, 'random_strength': 34, 'l2_leaf_reg': 1.8230174969918694e-05, 'min_child_samples': 73, 'max_bin': 223, 'od_type': 'IncToDec', 'task_type': 'GPU', 'loss_function': 'MAE', 'eval_metric': 'MAE'}. Best is trial 4 with value: 5.9201913472718966.\u001b[0m\n"
     ]
    },
    {
     "name": "stdout",
     "output_type": "stream",
     "text": [
      "MAE of Train: 5.928892361145547\n",
      "MAE of Validation: 5.937519918030664\n"
     ]
    },
    {
     "name": "stderr",
     "output_type": "stream",
     "text": [
      "\u001b[32m[I 2022-03-26 00:54:09,879]\u001b[0m Trial 24 finished with value: 5.946463017021541 and parameters: {'random_state': 519632, 'learning_rate': 0.15897563431065104, 'bagging_temperature': 0.41398906888933146, 'max_depth': 8, 'random_strength': 13, 'l2_leaf_reg': 1.0084882419678804e-05, 'min_child_samples': 87, 'max_bin': 342, 'od_type': 'IncToDec', 'task_type': 'GPU', 'loss_function': 'MAE', 'eval_metric': 'MAE'}. Best is trial 4 with value: 5.9201913472718966.\u001b[0m\n"
     ]
    },
    {
     "name": "stdout",
     "output_type": "stream",
     "text": [
      "MAE of Train: 5.936894465261179\n",
      "MAE of Validation: 5.946463017021541\n"
     ]
    },
    {
     "name": "stderr",
     "output_type": "stream",
     "text": [
      "\u001b[32m[I 2022-03-26 00:54:17,079]\u001b[0m Trial 25 finished with value: 5.96268877617834 and parameters: {'random_state': 519632, 'learning_rate': 0.0485609115031238, 'bagging_temperature': 11.37779827569369, 'max_depth': 7, 'random_strength': 67, 'l2_leaf_reg': 1.4980155630838466e-05, 'min_child_samples': 79, 'max_bin': 253, 'od_type': 'IncToDec', 'task_type': 'GPU', 'loss_function': 'MAE', 'eval_metric': 'MAE'}. Best is trial 4 with value: 5.9201913472718966.\u001b[0m\n"
     ]
    },
    {
     "name": "stdout",
     "output_type": "stream",
     "text": [
      "MAE of Train: 5.9448355326444515\n",
      "MAE of Validation: 5.96268877617834\n"
     ]
    },
    {
     "name": "stderr",
     "output_type": "stream",
     "text": [
      "\u001b[32m[I 2022-03-26 00:54:23,989]\u001b[0m Trial 26 finished with value: 5.953113744533144 and parameters: {'random_state': 519632, 'learning_rate': 0.01787401242570794, 'bagging_temperature': 0.15273154350145524, 'max_depth': 4, 'random_strength': 84, 'l2_leaf_reg': 1.1308532593609117e-05, 'min_child_samples': 100, 'max_bin': 290, 'od_type': 'IncToDec', 'task_type': 'GPU', 'loss_function': 'MAE', 'eval_metric': 'MAE'}. Best is trial 4 with value: 5.9201913472718966.\u001b[0m\n"
     ]
    },
    {
     "name": "stdout",
     "output_type": "stream",
     "text": [
      "MAE of Train: 5.94721958116759\n",
      "MAE of Validation: 5.953113744533144\n"
     ]
    },
    {
     "name": "stderr",
     "output_type": "stream",
     "text": [
      "\u001b[32m[I 2022-03-26 00:54:28,738]\u001b[0m Trial 27 finished with value: 5.934586722254937 and parameters: {'random_state': 519632, 'learning_rate': 0.08750933670410987, 'bagging_temperature': 1.1941171203293117, 'max_depth': 6, 'random_strength': 51, 'l2_leaf_reg': 2.3219532292418072e-05, 'min_child_samples': 91, 'max_bin': 260, 'od_type': 'Iter', 'task_type': 'GPU', 'loss_function': 'MAE', 'eval_metric': 'MAE'}. Best is trial 4 with value: 5.9201913472718966.\u001b[0m\n"
     ]
    },
    {
     "name": "stdout",
     "output_type": "stream",
     "text": [
      "MAE of Train: 5.929517296005951\n",
      "MAE of Validation: 5.934586722254937\n"
     ]
    },
    {
     "name": "stderr",
     "output_type": "stream",
     "text": [
      "\u001b[32m[I 2022-03-26 00:54:31,220]\u001b[0m Trial 28 finished with value: 5.969673545967847 and parameters: {'random_state': 519632, 'learning_rate': 0.1851075706494983, 'bagging_temperature': 5.955874950036137, 'max_depth': 9, 'random_strength': 15, 'l2_leaf_reg': 3.6492705661549893e-06, 'min_child_samples': 69, 'max_bin': 216, 'od_type': 'IncToDec', 'task_type': 'GPU', 'loss_function': 'MAE', 'eval_metric': 'MAE'}. Best is trial 4 with value: 5.9201913472718966.\u001b[0m\n"
     ]
    },
    {
     "name": "stdout",
     "output_type": "stream",
     "text": [
      "MAE of Train: 5.9340250898800715\n",
      "MAE of Validation: 5.969673545967847\n"
     ]
    },
    {
     "name": "stderr",
     "output_type": "stream",
     "text": [
      "\u001b[32m[I 2022-03-26 00:54:37,866]\u001b[0m Trial 29 finished with value: 6.416211140036798 and parameters: {'random_state': 519632, 'learning_rate': 0.002216722635351347, 'bagging_temperature': 2.2797466720068047, 'max_depth': 5, 'random_strength': 54, 'l2_leaf_reg': 6.046549077328177e-06, 'min_child_samples': 60, 'max_bin': 267, 'od_type': 'IncToDec', 'task_type': 'GPU', 'loss_function': 'MAE', 'eval_metric': 'MAE'}. Best is trial 4 with value: 5.9201913472718966.\u001b[0m\n"
     ]
    },
    {
     "name": "stdout",
     "output_type": "stream",
     "text": [
      "MAE of Train: 6.408162043483723\n",
      "MAE of Validation: 6.416211140036798\n"
     ]
    },
    {
     "name": "stderr",
     "output_type": "stream",
     "text": [
      "\u001b[32m[I 2022-03-26 00:54:45,071]\u001b[0m Trial 30 finished with value: 5.982910873833843 and parameters: {'random_state': 519632, 'learning_rate': 0.09093913100403415, 'bagging_temperature': 29.2756284228312, 'max_depth': 7, 'random_strength': 59, 'l2_leaf_reg': 1.79310034121272e-05, 'min_child_samples': 48, 'max_bin': 232, 'od_type': 'IncToDec', 'task_type': 'GPU', 'loss_function': 'MAE', 'eval_metric': 'MAE'}. Best is trial 4 with value: 5.9201913472718966.\u001b[0m\n"
     ]
    },
    {
     "name": "stdout",
     "output_type": "stream",
     "text": [
      "MAE of Train: 5.957881130103454\n",
      "MAE of Validation: 5.982910873833843\n"
     ]
    },
    {
     "name": "stderr",
     "output_type": "stream",
     "text": [
      "\u001b[32m[I 2022-03-26 00:54:52,602]\u001b[0m Trial 31 finished with value: 5.932299096283364 and parameters: {'random_state': 519632, 'learning_rate': 0.04062645472296591, 'bagging_temperature': 2.935038632893338, 'max_depth': 10, 'random_strength': 47, 'l2_leaf_reg': 7.308338909059386e-06, 'min_child_samples': 83, 'max_bin': 251, 'od_type': 'IncToDec', 'task_type': 'GPU', 'loss_function': 'MAE', 'eval_metric': 'MAE'}. Best is trial 4 with value: 5.9201913472718966.\u001b[0m\n"
     ]
    },
    {
     "name": "stdout",
     "output_type": "stream",
     "text": [
      "MAE of Train: 5.916086948526781\n",
      "MAE of Validation: 5.932299096283364\n"
     ]
    },
    {
     "name": "stderr",
     "output_type": "stream",
     "text": [
      "\u001b[32m[I 2022-03-26 00:54:59,153]\u001b[0m Trial 32 finished with value: 5.935173154578255 and parameters: {'random_state': 519632, 'learning_rate': 0.05633196647349934, 'bagging_temperature': 0.8787272257600488, 'max_depth': 10, 'random_strength': 36, 'l2_leaf_reg': 8.378638300910965e-06, 'min_child_samples': 88, 'max_bin': 279, 'od_type': 'IncToDec', 'task_type': 'GPU', 'loss_function': 'MAE', 'eval_metric': 'MAE'}. Best is trial 4 with value: 5.9201913472718966.\u001b[0m\n"
     ]
    },
    {
     "name": "stdout",
     "output_type": "stream",
     "text": [
      "MAE of Train: 5.923484588874952\n",
      "MAE of Validation: 5.935173154578255\n"
     ]
    },
    {
     "name": "stderr",
     "output_type": "stream",
     "text": [
      "\u001b[32m[I 2022-03-26 00:55:06,668]\u001b[0m Trial 33 finished with value: 5.94093388913386 and parameters: {'random_state': 519632, 'learning_rate': 0.016243039102308506, 'bagging_temperature': 2.269093604011577, 'max_depth': 6, 'random_strength': 46, 'l2_leaf_reg': 2.9438436196635874e-05, 'min_child_samples': 81, 'max_bin': 249, 'od_type': 'IncToDec', 'task_type': 'GPU', 'loss_function': 'MAE', 'eval_metric': 'MAE'}. Best is trial 4 with value: 5.9201913472718966.\u001b[0m\n"
     ]
    },
    {
     "name": "stdout",
     "output_type": "stream",
     "text": [
      "MAE of Train: 5.934515850350709\n",
      "MAE of Validation: 5.94093388913386\n"
     ]
    },
    {
     "name": "stderr",
     "output_type": "stream",
     "text": [
      "\u001b[32m[I 2022-03-26 00:55:10,581]\u001b[0m Trial 34 finished with value: 5.978992057271516 and parameters: {'random_state': 519632, 'learning_rate': 0.16768853690127705, 'bagging_temperature': 7.355252826977304, 'max_depth': 9, 'random_strength': 29, 'l2_leaf_reg': 1.9634548520236073e-06, 'min_child_samples': 73, 'max_bin': 221, 'od_type': 'Iter', 'task_type': 'GPU', 'loss_function': 'MAE', 'eval_metric': 'MAE'}. Best is trial 4 with value: 5.9201913472718966.\u001b[0m\n"
     ]
    },
    {
     "name": "stdout",
     "output_type": "stream",
     "text": [
      "MAE of Train: 5.929191806876241\n",
      "MAE of Validation: 5.978992057271516\n"
     ]
    },
    {
     "name": "stderr",
     "output_type": "stream",
     "text": [
      "\u001b[32m[I 2022-03-26 00:55:17,864]\u001b[0m Trial 35 finished with value: 5.928614471554837 and parameters: {'random_state': 519632, 'learning_rate': 0.048297653950890994, 'bagging_temperature': 2.894000011416355, 'max_depth': 10, 'random_strength': 66, 'l2_leaf_reg': 6.523529657470891e-06, 'min_child_samples': 93, 'max_bin': 278, 'od_type': 'IncToDec', 'task_type': 'GPU', 'loss_function': 'MAE', 'eval_metric': 'MAE'}. Best is trial 4 with value: 5.9201913472718966.\u001b[0m\n"
     ]
    },
    {
     "name": "stdout",
     "output_type": "stream",
     "text": [
      "MAE of Train: 5.908946014383033\n",
      "MAE of Validation: 5.928614471554837\n"
     ]
    },
    {
     "name": "stderr",
     "output_type": "stream",
     "text": [
      "\u001b[32m[I 2022-03-26 00:55:20,547]\u001b[0m Trial 36 finished with value: 5.946138605646396 and parameters: {'random_state': 519632, 'learning_rate': 0.08140401467173584, 'bagging_temperature': 0.578346189904734, 'max_depth': 8, 'random_strength': 65, 'l2_leaf_reg': 5.4481185076397825e-06, 'min_child_samples': 94, 'max_bin': 325, 'od_type': 'Iter', 'task_type': 'GPU', 'loss_function': 'MAE', 'eval_metric': 'MAE'}. Best is trial 4 with value: 5.9201913472718966.\u001b[0m\n"
     ]
    },
    {
     "name": "stdout",
     "output_type": "stream",
     "text": [
      "MAE of Train: 5.936797049317225\n",
      "MAE of Validation: 5.946138605646396\n"
     ]
    },
    {
     "name": "stderr",
     "output_type": "stream",
     "text": [
      "\u001b[32m[I 2022-03-26 00:55:31,053]\u001b[0m Trial 37 finished with value: 5.957404945878879 and parameters: {'random_state': 519632, 'learning_rate': 0.007408707613013547, 'bagging_temperature': 1.3431482629049334, 'max_depth': 9, 'random_strength': 70, 'l2_leaf_reg': 1.2671042373583085e-05, 'min_child_samples': 98, 'max_bin': 292, 'od_type': 'IncToDec', 'task_type': 'GPU', 'loss_function': 'MAE', 'eval_metric': 'MAE'}. Best is trial 4 with value: 5.9201913472718966.\u001b[0m\n"
     ]
    },
    {
     "name": "stdout",
     "output_type": "stream",
     "text": [
      "MAE of Train: 5.9498693930052715\n",
      "MAE of Validation: 5.957404945878879\n"
     ]
    },
    {
     "name": "stderr",
     "output_type": "stream",
     "text": [
      "\u001b[32m[I 2022-03-26 00:55:38,232]\u001b[0m Trial 38 finished with value: 13.871680968160078 and parameters: {'random_state': 519632, 'learning_rate': 0.0001102553708806776, 'bagging_temperature': 85.69209714039825, 'max_depth': 5, 'random_strength': 86, 'l2_leaf_reg': 4.650278284519398e-06, 'min_child_samples': 89, 'max_bin': 373, 'od_type': 'Iter', 'task_type': 'GPU', 'loss_function': 'MAE', 'eval_metric': 'MAE'}. Best is trial 4 with value: 5.9201913472718966.\u001b[0m\n"
     ]
    },
    {
     "name": "stdout",
     "output_type": "stream",
     "text": [
      "MAE of Train: 13.862258623994084\n",
      "MAE of Validation: 13.871680968160078\n"
     ]
    },
    {
     "name": "stderr",
     "output_type": "stream",
     "text": [
      "\u001b[32m[I 2022-03-26 00:55:45,260]\u001b[0m Trial 39 finished with value: 5.949267735669383 and parameters: {'random_state': 519632, 'learning_rate': 0.1282772535010262, 'bagging_temperature': 7.680314458840405, 'max_depth': 6, 'random_strength': 60, 'l2_leaf_reg': 2.4653192891949716e-06, 'min_child_samples': 77, 'max_bin': 272, 'od_type': 'IncToDec', 'task_type': 'GPU', 'loss_function': 'MAE', 'eval_metric': 'MAE'}. Best is trial 4 with value: 5.9201913472718966.\u001b[0m\n"
     ]
    },
    {
     "name": "stdout",
     "output_type": "stream",
     "text": [
      "MAE of Train: 5.926173456407762\n",
      "MAE of Validation: 5.949267735669383\n"
     ]
    },
    {
     "name": "stderr",
     "output_type": "stream",
     "text": [
      "\u001b[32m[I 2022-03-26 00:55:52,203]\u001b[0m Trial 40 finished with value: 5.941899235763149 and parameters: {'random_state': 519632, 'learning_rate': 0.016881383727150975, 'bagging_temperature': 4.602353700355112, 'max_depth': 4, 'random_strength': 80, 'l2_leaf_reg': 9.886012462089007e-06, 'min_child_samples': 94, 'max_bin': 313, 'od_type': 'IncToDec', 'task_type': 'GPU', 'loss_function': 'MAE', 'eval_metric': 'MAE'}. Best is trial 4 with value: 5.9201913472718966.\u001b[0m\n"
     ]
    },
    {
     "name": "stdout",
     "output_type": "stream",
     "text": [
      "MAE of Train: 5.93795078996675\n",
      "MAE of Validation: 5.941899235763149\n"
     ]
    },
    {
     "name": "stderr",
     "output_type": "stream",
     "text": [
      "\u001b[32m[I 2022-03-26 00:56:01,487]\u001b[0m Trial 41 finished with value: 5.933418334412651 and parameters: {'random_state': 519632, 'learning_rate': 0.0396159921519286, 'bagging_temperature': 2.7996852367577887, 'max_depth': 10, 'random_strength': 56, 'l2_leaf_reg': 7.042544573474736e-06, 'min_child_samples': 85, 'max_bin': 223, 'od_type': 'IncToDec', 'task_type': 'GPU', 'loss_function': 'MAE', 'eval_metric': 'MAE'}. Best is trial 4 with value: 5.9201913472718966.\u001b[0m\n"
     ]
    },
    {
     "name": "stdout",
     "output_type": "stream",
     "text": [
      "MAE of Train: 5.916607650221538\n",
      "MAE of Validation: 5.933418334412651\n"
     ]
    },
    {
     "name": "stderr",
     "output_type": "stream",
     "text": [
      "\u001b[32m[I 2022-03-26 00:56:12,754]\u001b[0m Trial 42 finished with value: 5.992256551749656 and parameters: {'random_state': 519632, 'learning_rate': 0.038248696231947786, 'bagging_temperature': 14.83972335648206, 'max_depth': 10, 'random_strength': 39, 'l2_leaf_reg': 8.981080189601467e-06, 'min_child_samples': 90, 'max_bin': 244, 'od_type': 'IncToDec', 'task_type': 'GPU', 'loss_function': 'MAE', 'eval_metric': 'MAE'}. Best is trial 4 with value: 5.9201913472718966.\u001b[0m\n"
     ]
    },
    {
     "name": "stdout",
     "output_type": "stream",
     "text": [
      "MAE of Train: 5.946823053578073\n",
      "MAE of Validation: 5.992256551749656\n"
     ]
    },
    {
     "name": "stderr",
     "output_type": "stream",
     "text": [
      "\u001b[32m[I 2022-03-26 00:56:17,583]\u001b[0m Trial 43 finished with value: 5.937338519570488 and parameters: {'random_state': 519632, 'learning_rate': 0.07168074693755795, 'bagging_temperature': 4.594735224962746, 'max_depth': 9, 'random_strength': 48, 'l2_leaf_reg': 6.235161729094284e-06, 'min_child_samples': 100, 'max_bin': 266, 'od_type': 'IncToDec', 'task_type': 'GPU', 'loss_function': 'MAE', 'eval_metric': 'MAE'}. Best is trial 4 with value: 5.9201913472718966.\u001b[0m\n"
     ]
    },
    {
     "name": "stdout",
     "output_type": "stream",
     "text": [
      "MAE of Train: 5.912052237701594\n",
      "MAE of Validation: 5.937338519570488\n"
     ]
    },
    {
     "name": "stderr",
     "output_type": "stream",
     "text": [
      "\u001b[32m[I 2022-03-26 00:56:20,234]\u001b[0m Trial 44 finished with value: 5.942178478692176 and parameters: {'random_state': 519632, 'learning_rate': 0.11833554527616619, 'bagging_temperature': 0.922845250137319, 'max_depth': 10, 'random_strength': 67, 'l2_leaf_reg': 1.115628310616269e-05, 'min_child_samples': 71, 'max_bin': 280, 'od_type': 'IncToDec', 'task_type': 'GPU', 'loss_function': 'MAE', 'eval_metric': 'MAE'}. Best is trial 4 with value: 5.9201913472718966.\u001b[0m\n"
     ]
    },
    {
     "name": "stdout",
     "output_type": "stream",
     "text": [
      "MAE of Train: 5.931833997609781\n",
      "MAE of Validation: 5.942178478692176\n"
     ]
    },
    {
     "name": "stderr",
     "output_type": "stream",
     "text": [
      "\u001b[32m[I 2022-03-26 00:56:22,679]\u001b[0m Trial 45 finished with value: 5.932198742866408 and parameters: {'random_state': 519632, 'learning_rate': 0.21162119941143548, 'bagging_temperature': 3.095613465490297, 'max_depth': 8, 'random_strength': 20, 'l2_leaf_reg': 1.2755656342606852e-07, 'min_child_samples': 62, 'max_bin': 212, 'od_type': 'IncToDec', 'task_type': 'GPU', 'loss_function': 'MAE', 'eval_metric': 'MAE'}. Best is trial 4 with value: 5.9201913472718966.\u001b[0m\n"
     ]
    },
    {
     "name": "stdout",
     "output_type": "stream",
     "text": [
      "MAE of Train: 5.919439395142582\n",
      "MAE of Validation: 5.932198742866408\n"
     ]
    },
    {
     "name": "stderr",
     "output_type": "stream",
     "text": [
      "\u001b[32m[I 2022-03-26 00:56:25,375]\u001b[0m Trial 46 finished with value: 5.949460150212815 and parameters: {'random_state': 519632, 'learning_rate': 0.18842850826701962, 'bagging_temperature': 1.7903626518319273, 'max_depth': 8, 'random_strength': 19, 'l2_leaf_reg': 5.426519131854596e-07, 'min_child_samples': 62, 'max_bin': 215, 'od_type': 'Iter', 'task_type': 'GPU', 'loss_function': 'MAE', 'eval_metric': 'MAE'}. Best is trial 4 with value: 5.9201913472718966.\u001b[0m\n"
     ]
    },
    {
     "name": "stdout",
     "output_type": "stream",
     "text": [
      "MAE of Train: 5.941089199646376\n",
      "MAE of Validation: 5.949460150212815\n"
     ]
    },
    {
     "name": "stderr",
     "output_type": "stream",
     "text": [
      "\u001b[32m[I 2022-03-26 00:56:30,409]\u001b[0m Trial 47 finished with value: 5.990699977798526 and parameters: {'random_state': 519632, 'learning_rate': 0.23363571156371382, 'bagging_temperature': 8.99585012574095, 'max_depth': 8, 'random_strength': 3, 'l2_leaf_reg': 2.3749880868696253e-06, 'min_child_samples': 37, 'max_bin': 209, 'od_type': 'IncToDec', 'task_type': 'GPU', 'loss_function': 'MAE', 'eval_metric': 'MAE'}. Best is trial 4 with value: 5.9201913472718966.\u001b[0m\n"
     ]
    },
    {
     "name": "stdout",
     "output_type": "stream",
     "text": [
      "MAE of Train: 5.9345016704751075\n",
      "MAE of Validation: 5.990699977798526\n"
     ]
    },
    {
     "name": "stderr",
     "output_type": "stream",
     "text": [
      "\u001b[32m[I 2022-03-26 00:56:34,786]\u001b[0m Trial 48 finished with value: 5.940600357222881 and parameters: {'random_state': 519632, 'learning_rate': 0.12231855863050899, 'bagging_temperature': 5.415948352299676, 'max_depth': 7, 'random_strength': 18, 'l2_leaf_reg': 4.0132903926185813e-07, 'min_child_samples': 50, 'max_bin': 485, 'od_type': 'IncToDec', 'task_type': 'GPU', 'loss_function': 'MAE', 'eval_metric': 'MAE'}. Best is trial 4 with value: 5.9201913472718966.\u001b[0m\n"
     ]
    },
    {
     "name": "stdout",
     "output_type": "stream",
     "text": [
      "MAE of Train: 5.920426216630768\n",
      "MAE of Validation: 5.940600357222881\n"
     ]
    },
    {
     "name": "stderr",
     "output_type": "stream",
     "text": [
      "\u001b[32m[I 2022-03-26 00:56:42,679]\u001b[0m Trial 49 finished with value: 6.0074056640225795 and parameters: {'random_state': 519632, 'learning_rate': 0.024471574287546538, 'bagging_temperature': 16.05234032984383, 'max_depth': 8, 'random_strength': 8, 'l2_leaf_reg': 1.4476719688431061e-05, 'min_child_samples': 77, 'max_bin': 201, 'od_type': 'IncToDec', 'task_type': 'GPU', 'loss_function': 'MAE', 'eval_metric': 'MAE'}. Best is trial 4 with value: 5.9201913472718966.\u001b[0m\n"
     ]
    },
    {
     "name": "stdout",
     "output_type": "stream",
     "text": [
      "MAE of Train: 5.991036466290523\n",
      "MAE of Validation: 6.0074056640225795\n"
     ]
    },
    {
     "name": "stderr",
     "output_type": "stream",
     "text": [
      "\u001b[32m[I 2022-03-26 00:56:43,494]\u001b[0m Trial 50 finished with value: 13.852044360499841 and parameters: {'random_state': 519632, 'learning_rate': 0.2897333768154591, 'bagging_temperature': 42.16712523974343, 'max_depth': 7, 'random_strength': 26, 'l2_leaf_reg': 3.411703869055015e-06, 'min_child_samples': 43, 'max_bin': 233, 'od_type': 'IncToDec', 'task_type': 'GPU', 'loss_function': 'MAE', 'eval_metric': 'MAE'}. Best is trial 4 with value: 5.9201913472718966.\u001b[0m\n"
     ]
    },
    {
     "name": "stdout",
     "output_type": "stream",
     "text": [
      "MAE of Train: 13.841317749114031\n",
      "MAE of Validation: 13.852044360499841\n"
     ]
    },
    {
     "name": "stderr",
     "output_type": "stream",
     "text": [
      "\u001b[32m[I 2022-03-26 00:56:49,648]\u001b[0m Trial 51 finished with value: 5.9287238184045785 and parameters: {'random_state': 519632, 'learning_rate': 0.06524690949524808, 'bagging_temperature': 3.109122701589639, 'max_depth': 9, 'random_strength': 43, 'l2_leaf_reg': 4.80994100029675e-06, 'min_child_samples': 84, 'max_bin': 252, 'od_type': 'IncToDec', 'task_type': 'GPU', 'loss_function': 'MAE', 'eval_metric': 'MAE'}. Best is trial 4 with value: 5.9201913472718966.\u001b[0m\n"
     ]
    },
    {
     "name": "stdout",
     "output_type": "stream",
     "text": [
      "MAE of Train: 5.914261830270036\n",
      "MAE of Validation: 5.9287238184045785\n"
     ]
    },
    {
     "name": "stderr",
     "output_type": "stream",
     "text": [
      "\u001b[32m[I 2022-03-26 00:56:58,788]\u001b[0m Trial 52 finished with value: 5.930207651260534 and parameters: {'random_state': 519632, 'learning_rate': 0.059002510989596364, 'bagging_temperature': 1.387855574605839, 'max_depth': 9, 'random_strength': 42, 'l2_leaf_reg': 4.65617657807907e-06, 'min_child_samples': 95, 'max_bin': 238, 'od_type': 'IncToDec', 'task_type': 'GPU', 'loss_function': 'MAE', 'eval_metric': 'MAE'}. Best is trial 4 with value: 5.9201913472718966.\u001b[0m\n"
     ]
    },
    {
     "name": "stdout",
     "output_type": "stream",
     "text": [
      "MAE of Train: 5.917057115013957\n",
      "MAE of Validation: 5.930207651260534\n"
     ]
    },
    {
     "name": "stderr",
     "output_type": "stream",
     "text": [
      "\u001b[32m[I 2022-03-26 00:57:03,867]\u001b[0m Trial 53 finished with value: 5.940663560245101 and parameters: {'random_state': 519632, 'learning_rate': 0.06182729750326878, 'bagging_temperature': 1.4666971991019695, 'max_depth': 9, 'random_strength': 42, 'l2_leaf_reg': 5.1657610875860305e-06, 'min_child_samples': 96, 'max_bin': 259, 'od_type': 'IncToDec', 'task_type': 'GPU', 'loss_function': 'MAE', 'eval_metric': 'MAE'}. Best is trial 4 with value: 5.9201913472718966.\u001b[0m\n"
     ]
    },
    {
     "name": "stdout",
     "output_type": "stream",
     "text": [
      "MAE of Train: 5.929926103095941\n",
      "MAE of Validation: 5.940663560245101\n"
     ]
    },
    {
     "name": "stderr",
     "output_type": "stream",
     "text": [
      "\u001b[32m[I 2022-03-26 00:57:11,218]\u001b[0m Trial 54 finished with value: 5.9378092307999255 and parameters: {'random_state': 519632, 'learning_rate': 0.02992363253282396, 'bagging_temperature': 0.4816819676901006, 'max_depth': 9, 'random_strength': 57, 'l2_leaf_reg': 2.997823050578486e-06, 'min_child_samples': 95, 'max_bin': 235, 'od_type': 'IncToDec', 'task_type': 'GPU', 'loss_function': 'MAE', 'eval_metric': 'MAE'}. Best is trial 4 with value: 5.9201913472718966.\u001b[0m\n"
     ]
    },
    {
     "name": "stdout",
     "output_type": "stream",
     "text": [
      "MAE of Train: 5.926719958064008\n",
      "MAE of Validation: 5.9378092307999255\n"
     ]
    },
    {
     "name": "stderr",
     "output_type": "stream",
     "text": [
      "\u001b[32m[I 2022-03-26 00:57:14,388]\u001b[0m Trial 55 finished with value: 5.945024948450471 and parameters: {'random_state': 519632, 'learning_rate': 0.10257787599622406, 'bagging_temperature': 0.793152585365038, 'max_depth': 10, 'random_strength': 35, 'l2_leaf_reg': 4.262490246412656e-06, 'min_child_samples': 85, 'max_bin': 418, 'od_type': 'IncToDec', 'task_type': 'GPU', 'loss_function': 'MAE', 'eval_metric': 'MAE'}. Best is trial 4 with value: 5.9201913472718966.\u001b[0m\n"
     ]
    },
    {
     "name": "stdout",
     "output_type": "stream",
     "text": [
      "MAE of Train: 5.931729522097863\n",
      "MAE of Validation: 5.945024948450471\n"
     ]
    },
    {
     "name": "stderr",
     "output_type": "stream",
     "text": [
      "\u001b[32m[I 2022-03-26 00:57:19,044]\u001b[0m Trial 56 finished with value: 5.935933552484603 and parameters: {'random_state': 519632, 'learning_rate': 0.06802381155865843, 'bagging_temperature': 0.2336729771056991, 'max_depth': 9, 'random_strength': 42, 'l2_leaf_reg': 1.677947373036156e-05, 'min_child_samples': 6, 'max_bin': 283, 'od_type': 'IncToDec', 'task_type': 'GPU', 'loss_function': 'MAE', 'eval_metric': 'MAE'}. Best is trial 4 with value: 5.9201913472718966.\u001b[0m\n"
     ]
    },
    {
     "name": "stdout",
     "output_type": "stream",
     "text": [
      "MAE of Train: 5.925996472725008\n",
      "MAE of Validation: 5.935933552484603\n"
     ]
    },
    {
     "name": "stderr",
     "output_type": "stream",
     "text": [
      "\u001b[32m[I 2022-03-26 00:57:29,621]\u001b[0m Trial 57 finished with value: 5.929462826236887 and parameters: {'random_state': 519632, 'learning_rate': 0.0212524078821228, 'bagging_temperature': 3.834633927387563, 'max_depth': 9, 'random_strength': 62, 'l2_leaf_reg': 1.5100868693936804e-06, 'min_child_samples': 91, 'max_bin': 245, 'od_type': 'IncToDec', 'task_type': 'GPU', 'loss_function': 'MAE', 'eval_metric': 'MAE'}. Best is trial 4 with value: 5.9201913472718966.\u001b[0m\n"
     ]
    },
    {
     "name": "stdout",
     "output_type": "stream",
     "text": [
      "MAE of Train: 5.91427763352084\n",
      "MAE of Validation: 5.929462826236887\n"
     ]
    },
    {
     "name": "stderr",
     "output_type": "stream",
     "text": [
      "\u001b[32m[I 2022-03-26 00:57:36,786]\u001b[0m Trial 58 finished with value: 6.001297861084945 and parameters: {'random_state': 519632, 'learning_rate': 0.004159627879192023, 'bagging_temperature': 3.9805394814480017, 'max_depth': 6, 'random_strength': 74, 'l2_leaf_reg': 1.0853837989424744e-06, 'min_child_samples': 80, 'max_bin': 256, 'od_type': 'IncToDec', 'task_type': 'GPU', 'loss_function': 'MAE', 'eval_metric': 'MAE'}. Best is trial 4 with value: 5.9201913472718966.\u001b[0m\n"
     ]
    },
    {
     "name": "stdout",
     "output_type": "stream",
     "text": [
      "MAE of Train: 5.995424948860546\n",
      "MAE of Validation: 6.001297861084945\n"
     ]
    },
    {
     "name": "stderr",
     "output_type": "stream",
     "text": [
      "\u001b[32m[I 2022-03-26 00:57:43,415]\u001b[0m Trial 59 finished with value: 5.974229556190171 and parameters: {'random_state': 519632, 'learning_rate': 0.019946656711396553, 'bagging_temperature': 8.726115395469655, 'max_depth': 5, 'random_strength': 63, 'l2_leaf_reg': 1.2381258582571648e-05, 'min_child_samples': 87, 'max_bin': 305, 'od_type': 'Iter', 'task_type': 'GPU', 'loss_function': 'MAE', 'eval_metric': 'MAE'}. Best is trial 4 with value: 5.9201913472718966.\u001b[0m\n"
     ]
    },
    {
     "name": "stdout",
     "output_type": "stream",
     "text": [
      "MAE of Train: 5.969156718126013\n",
      "MAE of Validation: 5.974229556190171\n"
     ]
    },
    {
     "name": "stderr",
     "output_type": "stream",
     "text": [
      "\u001b[32m[I 2022-03-26 00:57:55,464]\u001b[0m Trial 60 finished with value: 5.938314344133754 and parameters: {'random_state': 519632, 'learning_rate': 0.012470928107072761, 'bagging_temperature': 2.3486325106262784, 'max_depth': 10, 'random_strength': 52, 'l2_leaf_reg': 2.1657079413603433e-05, 'min_child_samples': 91, 'max_bin': 227, 'od_type': 'IncToDec', 'task_type': 'GPU', 'loss_function': 'MAE', 'eval_metric': 'MAE'}. Best is trial 4 with value: 5.9201913472718966.\u001b[0m\n"
     ]
    },
    {
     "name": "stdout",
     "output_type": "stream",
     "text": [
      "MAE of Train: 5.927360482001681\n",
      "MAE of Validation: 5.938314344133754\n"
     ]
    },
    {
     "name": "stderr",
     "output_type": "stream",
     "text": [
      "\u001b[32m[I 2022-03-26 00:58:06,119]\u001b[0m Trial 61 finished with value: 5.925432650396114 and parameters: {'random_state': 519632, 'learning_rate': 0.04553875165917784, 'bagging_temperature': 1.6111585568886055, 'max_depth': 9, 'random_strength': 70, 'l2_leaf_reg': 1.3862931438552318e-06, 'min_child_samples': 93, 'max_bin': 243, 'od_type': 'IncToDec', 'task_type': 'GPU', 'loss_function': 'MAE', 'eval_metric': 'MAE'}. Best is trial 4 with value: 5.9201913472718966.\u001b[0m\n"
     ]
    },
    {
     "name": "stdout",
     "output_type": "stream",
     "text": [
      "MAE of Train: 5.9094998139567005\n",
      "MAE of Validation: 5.925432650396114\n"
     ]
    },
    {
     "name": "stderr",
     "output_type": "stream",
     "text": [
      "\u001b[32m[I 2022-03-26 00:58:13,438]\u001b[0m Trial 62 finished with value: 5.929463147866291 and parameters: {'random_state': 519632, 'learning_rate': 0.0417964011929615, 'bagging_temperature': 3.7942705671938506, 'max_depth': 9, 'random_strength': 70, 'l2_leaf_reg': 1.3360660576519801e-06, 'min_child_samples': 92, 'max_bin': 244, 'od_type': 'IncToDec', 'task_type': 'GPU', 'loss_function': 'MAE', 'eval_metric': 'MAE'}. Best is trial 4 with value: 5.9201913472718966.\u001b[0m\n"
     ]
    },
    {
     "name": "stdout",
     "output_type": "stream",
     "text": [
      "MAE of Train: 5.910210844616508\n",
      "MAE of Validation: 5.929463147866291\n"
     ]
    },
    {
     "name": "stderr",
     "output_type": "stream",
     "text": [
      "\u001b[32m[I 2022-03-26 00:58:21,220]\u001b[0m Trial 63 finished with value: 5.936286894605423 and parameters: {'random_state': 519632, 'learning_rate': 0.030743433503877288, 'bagging_temperature': 1.620188231924282, 'max_depth': 9, 'random_strength': 70, 'l2_leaf_reg': 1.9447267978252336e-06, 'min_child_samples': 91, 'max_bin': 244, 'od_type': 'IncToDec', 'task_type': 'GPU', 'loss_function': 'MAE', 'eval_metric': 'MAE'}. Best is trial 4 with value: 5.9201913472718966.\u001b[0m\n"
     ]
    },
    {
     "name": "stdout",
     "output_type": "stream",
     "text": [
      "MAE of Train: 5.924630519023499\n",
      "MAE of Validation: 5.936286894605423\n"
     ]
    },
    {
     "name": "stderr",
     "output_type": "stream",
     "text": [
      "\u001b[32m[I 2022-03-26 00:58:28,536]\u001b[0m Trial 64 finished with value: 5.932712829665852 and parameters: {'random_state': 519632, 'learning_rate': 0.05070720614323217, 'bagging_temperature': 1.0667123295626229, 'max_depth': 10, 'random_strength': 77, 'l2_leaf_reg': 1.7295466933991715e-06, 'min_child_samples': 98, 'max_bin': 266, 'od_type': 'IncToDec', 'task_type': 'GPU', 'loss_function': 'MAE', 'eval_metric': 'MAE'}. Best is trial 4 with value: 5.9201913472718966.\u001b[0m\n"
     ]
    },
    {
     "name": "stdout",
     "output_type": "stream",
     "text": [
      "MAE of Train: 5.919018003358516\n",
      "MAE of Validation: 5.932712829665852\n"
     ]
    },
    {
     "name": "stderr",
     "output_type": "stream",
     "text": [
      "\u001b[32m[I 2022-03-26 00:58:37,017]\u001b[0m Trial 65 finished with value: 5.936136787739905 and parameters: {'random_state': 519632, 'learning_rate': 0.022473713628071493, 'bagging_temperature': 5.672113616186197, 'max_depth': 8, 'random_strength': 70, 'l2_leaf_reg': 3.0609203137852793e-06, 'min_child_samples': 86, 'max_bin': 243, 'od_type': 'IncToDec', 'task_type': 'GPU', 'loss_function': 'MAE', 'eval_metric': 'MAE'}. Best is trial 4 with value: 5.9201913472718966.\u001b[0m\n"
     ]
    },
    {
     "name": "stdout",
     "output_type": "stream",
     "text": [
      "MAE of Train: 5.920775208632933\n",
      "MAE of Validation: 5.936136787739905\n"
     ]
    },
    {
     "name": "stderr",
     "output_type": "stream",
     "text": [
      "\u001b[32m[I 2022-03-26 00:58:47,909]\u001b[0m Trial 66 finished with value: 5.926219510924305 and parameters: {'random_state': 519632, 'learning_rate': 0.03685143661889727, 'bagging_temperature': 1.939566359803044, 'max_depth': 9, 'random_strength': 62, 'l2_leaf_reg': 1.2387844169296535e-06, 'min_child_samples': 88, 'max_bin': 262, 'od_type': 'IncToDec', 'task_type': 'GPU', 'loss_function': 'MAE', 'eval_metric': 'MAE'}. Best is trial 4 with value: 5.9201913472718966.\u001b[0m\n"
     ]
    },
    {
     "name": "stdout",
     "output_type": "stream",
     "text": [
      "MAE of Train: 5.912606035183581\n",
      "MAE of Validation: 5.926219510924305\n"
     ]
    },
    {
     "name": "stderr",
     "output_type": "stream",
     "text": [
      "\u001b[32m[I 2022-03-26 00:58:56,565]\u001b[0m Trial 67 finished with value: 5.93065897642442 and parameters: {'random_state': 519632, 'learning_rate': 0.03546724896420137, 'bagging_temperature': 1.9998676842878174, 'max_depth': 10, 'random_strength': 62, 'l2_leaf_reg': 4.011360463257866e-08, 'min_child_samples': 83, 'max_bin': 227, 'od_type': 'IncToDec', 'task_type': 'GPU', 'loss_function': 'MAE', 'eval_metric': 'MAE'}. Best is trial 4 with value: 5.9201913472718966.\u001b[0m\n"
     ]
    },
    {
     "name": "stdout",
     "output_type": "stream",
     "text": [
      "MAE of Train: 5.914930268444933\n",
      "MAE of Validation: 5.93065897642442\n"
     ]
    },
    {
     "name": "stderr",
     "output_type": "stream",
     "text": [
      "\u001b[32m[I 2022-03-26 00:59:05,454]\u001b[0m Trial 68 finished with value: 5.937442330366365 and parameters: {'random_state': 519632, 'learning_rate': 0.014066798873368454, 'bagging_temperature': 2.750392138988482, 'max_depth': 8, 'random_strength': 57, 'l2_leaf_reg': 4.000038082749655e-06, 'min_child_samples': 78, 'max_bin': 273, 'od_type': 'IncToDec', 'task_type': 'GPU', 'loss_function': 'MAE', 'eval_metric': 'MAE'}. Best is trial 4 with value: 5.9201913472718966.\u001b[0m\n"
     ]
    },
    {
     "name": "stdout",
     "output_type": "stream",
     "text": [
      "MAE of Train: 5.929888463455474\n",
      "MAE of Validation: 5.937442330366365\n"
     ]
    },
    {
     "name": "stderr",
     "output_type": "stream",
     "text": [
      "\u001b[32m[I 2022-03-26 00:59:08,530]\u001b[0m Trial 69 finished with value: 5.937268843404861 and parameters: {'random_state': 519632, 'learning_rate': 0.0949132631981925, 'bagging_temperature': 1.067922403372892, 'max_depth': 7, 'random_strength': 64, 'l2_leaf_reg': 5.769550774181451e-06, 'min_child_samples': 88, 'max_bin': 288, 'od_type': 'IncToDec', 'task_type': 'GPU', 'loss_function': 'MAE', 'eval_metric': 'MAE'}. Best is trial 4 with value: 5.9201913472718966.\u001b[0m\n"
     ]
    },
    {
     "name": "stdout",
     "output_type": "stream",
     "text": [
      "MAE of Train: 5.930203061693563\n",
      "MAE of Validation: 5.937268843404861\n"
     ]
    },
    {
     "name": "stderr",
     "output_type": "stream",
     "text": [
      "\u001b[32m[I 2022-03-26 00:59:19,071]\u001b[0m Trial 70 finished with value: 5.969626653772477 and parameters: {'random_state': 519632, 'learning_rate': 0.007428770686029756, 'bagging_temperature': 0.670720642678586, 'max_depth': 9, 'random_strength': 91, 'l2_leaf_reg': 2.6381892968162837e-06, 'min_child_samples': 74, 'max_bin': 257, 'od_type': 'IncToDec', 'task_type': 'GPU', 'loss_function': 'MAE', 'eval_metric': 'MAE'}. Best is trial 4 with value: 5.9201913472718966.\u001b[0m\n"
     ]
    },
    {
     "name": "stdout",
     "output_type": "stream",
     "text": [
      "MAE of Train: 5.96245657573739\n",
      "MAE of Validation: 5.969626653772477\n"
     ]
    },
    {
     "name": "stderr",
     "output_type": "stream",
     "text": [
      "\u001b[32m[I 2022-03-26 00:59:29,401]\u001b[0m Trial 71 finished with value: 5.929354490716319 and parameters: {'random_state': 519632, 'learning_rate': 0.042866137785010944, 'bagging_temperature': 3.544956126509629, 'max_depth': 9, 'random_strength': 73, 'l2_leaf_reg': 1.2178073367507166e-06, 'min_child_samples': 93, 'max_bin': 244, 'od_type': 'IncToDec', 'task_type': 'GPU', 'loss_function': 'MAE', 'eval_metric': 'MAE'}. Best is trial 4 with value: 5.9201913472718966.\u001b[0m\n"
     ]
    },
    {
     "name": "stdout",
     "output_type": "stream",
     "text": [
      "MAE of Train: 5.909351435668361\n",
      "MAE of Validation: 5.929354490716319\n"
     ]
    },
    {
     "name": "stderr",
     "output_type": "stream",
     "text": [
      "\u001b[32m[I 2022-03-26 00:59:36,281]\u001b[0m Trial 72 finished with value: 5.928157884845307 and parameters: {'random_state': 519632, 'learning_rate': 0.07304140411978756, 'bagging_temperature': 2.2817539223220282, 'max_depth': 9, 'random_strength': 76, 'l2_leaf_reg': 1.9398912279692544e-05, 'min_child_samples': 93, 'max_bin': 263, 'od_type': 'IncToDec', 'task_type': 'GPU', 'loss_function': 'MAE', 'eval_metric': 'MAE'}. Best is trial 4 with value: 5.9201913472718966.\u001b[0m\n"
     ]
    },
    {
     "name": "stdout",
     "output_type": "stream",
     "text": [
      "MAE of Train: 5.912076145225279\n",
      "MAE of Validation: 5.928157884845307\n"
     ]
    },
    {
     "name": "stderr",
     "output_type": "stream",
     "text": [
      "\u001b[32m[I 2022-03-26 00:59:38,286]\u001b[0m Trial 73 finished with value: 5.945539211834596 and parameters: {'random_state': 519632, 'learning_rate': 0.1436711002405816, 'bagging_temperature': 1.855502430523027, 'max_depth': 6, 'random_strength': 82, 'l2_leaf_reg': 1.9797511768172437e-05, 'min_child_samples': 97, 'max_bin': 263, 'od_type': 'IncToDec', 'task_type': 'GPU', 'loss_function': 'MAE', 'eval_metric': 'MAE'}. Best is trial 4 with value: 5.9201913472718966.\u001b[0m\n"
     ]
    },
    {
     "name": "stdout",
     "output_type": "stream",
     "text": [
      "MAE of Train: 5.941030085425601\n",
      "MAE of Validation: 5.945539211834596\n"
     ]
    },
    {
     "name": "stderr",
     "output_type": "stream",
     "text": [
      "\u001b[32m[I 2022-03-26 00:59:48,016]\u001b[0m Trial 74 finished with value: 7.1919119748795275 and parameters: {'random_state': 519632, 'learning_rate': 0.0013839660141835787, 'bagging_temperature': 2.5865790411915692, 'max_depth': 9, 'random_strength': 74, 'l2_leaf_reg': 1.7788925089256365e-05, 'min_child_samples': 94, 'max_bin': 219, 'od_type': 'IncToDec', 'task_type': 'GPU', 'loss_function': 'MAE', 'eval_metric': 'MAE'}. Best is trial 4 with value: 5.9201913472718966.\u001b[0m\n"
     ]
    },
    {
     "name": "stdout",
     "output_type": "stream",
     "text": [
      "MAE of Train: 7.181121567897417\n",
      "MAE of Validation: 7.1919119748795275\n"
     ]
    },
    {
     "name": "stderr",
     "output_type": "stream",
     "text": [
      "\u001b[32m[I 2022-03-26 00:59:54,627]\u001b[0m Trial 75 finished with value: 5.934552196670669 and parameters: {'random_state': 519632, 'learning_rate': 0.07599058023291912, 'bagging_temperature': 5.705547800078755, 'max_depth': 3, 'random_strength': 76, 'l2_leaf_reg': 2.1237670303393384e-05, 'min_child_samples': 88, 'max_bin': 351, 'od_type': 'IncToDec', 'task_type': 'GPU', 'loss_function': 'MAE', 'eval_metric': 'MAE'}. Best is trial 4 with value: 5.9201913472718966.\u001b[0m\n"
     ]
    },
    {
     "name": "stdout",
     "output_type": "stream",
     "text": [
      "MAE of Train: 5.9299318728948265\n",
      "MAE of Validation: 5.934552196670669\n"
     ]
    },
    {
     "name": "stderr",
     "output_type": "stream",
     "text": [
      "\u001b[32m[I 2022-03-26 01:00:02,538]\u001b[0m Trial 76 finished with value: 5.930289722843493 and parameters: {'random_state': 519632, 'learning_rate': 0.04583536786024674, 'bagging_temperature': 3.29284606532743, 'max_depth': 10, 'random_strength': 87, 'l2_leaf_reg': 1.5950041554990187e-05, 'min_child_samples': 93, 'max_bin': 275, 'od_type': 'Iter', 'task_type': 'GPU', 'loss_function': 'MAE', 'eval_metric': 'MAE'}. Best is trial 4 with value: 5.9201913472718966.\u001b[0m\n"
     ]
    },
    {
     "name": "stdout",
     "output_type": "stream",
     "text": [
      "MAE of Train: 5.910878935925019\n",
      "MAE of Validation: 5.930289722843493\n"
     ]
    },
    {
     "name": "stderr",
     "output_type": "stream",
     "text": [
      "\u001b[32m[I 2022-03-26 01:00:09,397]\u001b[0m Trial 77 finished with value: 5.967642216424593 and parameters: {'random_state': 519632, 'learning_rate': 0.09663045007863057, 'bagging_temperature': 10.425247217908888, 'max_depth': 8, 'random_strength': 68, 'l2_leaf_reg': 1.8720325676568545e-05, 'min_child_samples': 100, 'max_bin': 229, 'od_type': 'IncToDec', 'task_type': 'GPU', 'loss_function': 'MAE', 'eval_metric': 'MAE'}. Best is trial 4 with value: 5.9201913472718966.\u001b[0m\n"
     ]
    },
    {
     "name": "stdout",
     "output_type": "stream",
     "text": [
      "MAE of Train: 5.930142543040944\n",
      "MAE of Validation: 5.967642216424593\n"
     ]
    },
    {
     "name": "stderr",
     "output_type": "stream",
     "text": [
      "\u001b[32m[I 2022-03-26 01:00:16,523]\u001b[0m Trial 78 finished with value: 5.92518854414584 and parameters: {'random_state': 519632, 'learning_rate': 0.06643537697170801, 'bagging_temperature': 1.9005849458628081, 'max_depth': 9, 'random_strength': 80, 'l2_leaf_reg': 1.9926435399486622e-05, 'min_child_samples': 82, 'max_bin': 251, 'od_type': 'IncToDec', 'task_type': 'GPU', 'loss_function': 'MAE', 'eval_metric': 'MAE'}. Best is trial 4 with value: 5.9201913472718966.\u001b[0m\n"
     ]
    },
    {
     "name": "stdout",
     "output_type": "stream",
     "text": [
      "MAE of Train: 5.91015414488545\n",
      "MAE of Validation: 5.92518854414584\n"
     ]
    },
    {
     "name": "stderr",
     "output_type": "stream",
     "text": [
      "\u001b[32m[I 2022-03-26 01:00:19,033]\u001b[0m Trial 79 finished with value: 5.948812756903871 and parameters: {'random_state': 519632, 'learning_rate': 0.1508001919983644, 'bagging_temperature': 1.1803458433000575, 'max_depth': 10, 'random_strength': 79, 'l2_leaf_reg': 2.266919865487873e-05, 'min_child_samples': 81, 'max_bin': 339, 'od_type': 'IncToDec', 'task_type': 'GPU', 'loss_function': 'MAE', 'eval_metric': 'MAE'}. Best is trial 4 with value: 5.9201913472718966.\u001b[0m\n"
     ]
    },
    {
     "name": "stdout",
     "output_type": "stream",
     "text": [
      "MAE of Train: 5.935774681046961\n",
      "MAE of Validation: 5.948812756903871\n"
     ]
    },
    {
     "name": "stderr",
     "output_type": "stream",
     "text": [
      "\u001b[32m[I 2022-03-26 01:00:25,599]\u001b[0m Trial 80 finished with value: 5.923504328163481 and parameters: {'random_state': 519632, 'learning_rate': 0.07131812825301367, 'bagging_temperature': 1.763694303566334, 'max_depth': 6, 'random_strength': 97, 'l2_leaf_reg': 2.507699682551806e-05, 'min_child_samples': 83, 'max_bin': 299, 'od_type': 'IncToDec', 'task_type': 'GPU', 'loss_function': 'MAE', 'eval_metric': 'MAE'}. Best is trial 4 with value: 5.9201913472718966.\u001b[0m\n"
     ]
    },
    {
     "name": "stdout",
     "output_type": "stream",
     "text": [
      "MAE of Train: 5.915471197421564\n",
      "MAE of Validation: 5.923504328163481\n"
     ]
    },
    {
     "name": "stderr",
     "output_type": "stream",
     "text": [
      "\u001b[32m[I 2022-03-26 01:00:33,265]\u001b[0m Trial 81 finished with value: 5.926392202623999 and parameters: {'random_state': 519632, 'learning_rate': 0.06985308805422046, 'bagging_temperature': 1.903033058572766, 'max_depth': 6, 'random_strength': 100, 'l2_leaf_reg': 2.5509605705243458e-05, 'min_child_samples': 84, 'max_bin': 300, 'od_type': 'IncToDec', 'task_type': 'GPU', 'loss_function': 'MAE', 'eval_metric': 'MAE'}. Best is trial 4 with value: 5.9201913472718966.\u001b[0m\n"
     ]
    },
    {
     "name": "stdout",
     "output_type": "stream",
     "text": [
      "MAE of Train: 5.919436934295744\n",
      "MAE of Validation: 5.926392202623999\n"
     ]
    },
    {
     "name": "stderr",
     "output_type": "stream",
     "text": [
      "\u001b[32m[I 2022-03-26 01:00:37,848]\u001b[0m Trial 82 finished with value: 5.945176241465591 and parameters: {'random_state': 519632, 'learning_rate': 0.10751696862101497, 'bagging_temperature': 1.622296901743168, 'max_depth': 6, 'random_strength': 100, 'l2_leaf_reg': 2.486294271423517e-05, 'min_child_samples': 75, 'max_bin': 302, 'od_type': 'IncToDec', 'task_type': 'GPU', 'loss_function': 'MAE', 'eval_metric': 'MAE'}. Best is trial 4 with value: 5.9201913472718966.\u001b[0m\n"
     ]
    },
    {
     "name": "stdout",
     "output_type": "stream",
     "text": [
      "MAE of Train: 5.93889490163716\n",
      "MAE of Validation: 5.945176241465591\n"
     ]
    },
    {
     "name": "stderr",
     "output_type": "stream",
     "text": [
      "\u001b[32m[I 2022-03-26 01:00:44,048]\u001b[0m Trial 83 finished with value: 5.928281005432099 and parameters: {'random_state': 519632, 'learning_rate': 0.07198951501954719, 'bagging_temperature': 2.0209719850977277, 'max_depth': 6, 'random_strength': 95, 'l2_leaf_reg': 2.6124765657040525e-05, 'min_child_samples': 69, 'max_bin': 312, 'od_type': 'IncToDec', 'task_type': 'GPU', 'loss_function': 'MAE', 'eval_metric': 'MAE'}. Best is trial 4 with value: 5.9201913472718966.\u001b[0m\n"
     ]
    },
    {
     "name": "stdout",
     "output_type": "stream",
     "text": [
      "MAE of Train: 5.920626747618216\n",
      "MAE of Validation: 5.928281005432099\n"
     ]
    },
    {
     "name": "stderr",
     "output_type": "stream",
     "text": [
      "\u001b[32m[I 2022-03-26 01:00:49,493]\u001b[0m Trial 84 finished with value: 5.929198566060607 and parameters: {'random_state': 519632, 'learning_rate': 0.06970022542267611, 'bagging_temperature': 2.190372150917424, 'max_depth': 6, 'random_strength': 97, 'l2_leaf_reg': 2.7192495056002455e-05, 'min_child_samples': 79, 'max_bin': 319, 'od_type': 'IncToDec', 'task_type': 'GPU', 'loss_function': 'MAE', 'eval_metric': 'MAE'}. Best is trial 4 with value: 5.9201913472718966.\u001b[0m\n"
     ]
    },
    {
     "name": "stdout",
     "output_type": "stream",
     "text": [
      "MAE of Train: 5.922006405722939\n",
      "MAE of Validation: 5.929198566060607\n"
     ]
    },
    {
     "name": "stderr",
     "output_type": "stream",
     "text": [
      "\u001b[32m[I 2022-03-26 01:00:54,388]\u001b[0m Trial 85 finished with value: 5.943821139705811 and parameters: {'random_state': 519632, 'learning_rate': 0.08383724409619045, 'bagging_temperature': 0.9135375584371598, 'max_depth': 5, 'random_strength': 91, 'l2_leaf_reg': 2.6221842295617794e-05, 'min_child_samples': 68, 'max_bin': 365, 'od_type': 'IncToDec', 'task_type': 'GPU', 'loss_function': 'MAE', 'eval_metric': 'MAE'}. Best is trial 4 with value: 5.9201913472718966.\u001b[0m\n"
     ]
    },
    {
     "name": "stdout",
     "output_type": "stream",
     "text": [
      "MAE of Train: 5.938531883132256\n",
      "MAE of Validation: 5.943821139705811\n"
     ]
    },
    {
     "name": "stderr",
     "output_type": "stream",
     "text": [
      "\u001b[32m[I 2022-03-26 01:00:58,200]\u001b[0m Trial 86 finished with value: 5.943762658455165 and parameters: {'random_state': 519632, 'learning_rate': 0.13548752579100282, 'bagging_temperature': 0.5645700915711223, 'max_depth': 6, 'random_strength': 95, 'l2_leaf_reg': 2.4850280871194847e-05, 'min_child_samples': 71, 'max_bin': 297, 'od_type': 'IncToDec', 'task_type': 'GPU', 'loss_function': 'MAE', 'eval_metric': 'MAE'}. Best is trial 4 with value: 5.9201913472718966.\u001b[0m\n"
     ]
    },
    {
     "name": "stdout",
     "output_type": "stream",
     "text": [
      "MAE of Train: 5.937372387045365\n",
      "MAE of Validation: 5.943762658455165\n"
     ]
    },
    {
     "name": "stderr",
     "output_type": "stream",
     "text": [
      "\u001b[32m[I 2022-03-26 01:01:05,358]\u001b[0m Trial 87 finished with value: 5.9355503352636 and parameters: {'random_state': 519632, 'learning_rate': 0.03386504202532548, 'bagging_temperature': 1.2556315478744224, 'max_depth': 6, 'random_strength': 89, 'l2_leaf_reg': 2.9172235414760227e-05, 'min_child_samples': 56, 'max_bin': 335, 'od_type': 'IncToDec', 'task_type': 'GPU', 'loss_function': 'MAE', 'eval_metric': 'MAE'}. Best is trial 4 with value: 5.9201913472718966.\u001b[0m\n"
     ]
    },
    {
     "name": "stdout",
     "output_type": "stream",
     "text": [
      "MAE of Train: 5.928886481299312\n",
      "MAE of Validation: 5.9355503352636\n"
     ]
    },
    {
     "name": "stderr",
     "output_type": "stream",
     "text": [
      "\u001b[32m[I 2022-03-26 01:01:10,655]\u001b[0m Trial 88 finished with value: 5.929973814323258 and parameters: {'random_state': 519632, 'learning_rate': 0.056986401867894464, 'bagging_temperature': 1.9523384089086537, 'max_depth': 5, 'random_strength': 96, 'l2_leaf_reg': 2.7605062991927146e-05, 'min_child_samples': 82, 'max_bin': 284, 'od_type': 'Iter', 'task_type': 'GPU', 'loss_function': 'MAE', 'eval_metric': 'MAE'}. Best is trial 4 with value: 5.9201913472718966.\u001b[0m\n"
     ]
    },
    {
     "name": "stdout",
     "output_type": "stream",
     "text": [
      "MAE of Train: 5.925315069994636\n",
      "MAE of Validation: 5.929973814323258\n"
     ]
    },
    {
     "name": "stderr",
     "output_type": "stream",
     "text": [
      "\u001b[32m[I 2022-03-26 01:01:17,502]\u001b[0m Trial 89 finished with value: 9.962593576482096 and parameters: {'random_state': 519632, 'learning_rate': 0.0005402283243876832, 'bagging_temperature': 0.3306989455669653, 'max_depth': 6, 'random_strength': 93, 'l2_leaf_reg': 2.3561870603285044e-05, 'min_child_samples': 86, 'max_bin': 270, 'od_type': 'IncToDec', 'task_type': 'GPU', 'loss_function': 'MAE', 'eval_metric': 'MAE'}. Best is trial 4 with value: 5.9201913472718966.\u001b[0m\n"
     ]
    },
    {
     "name": "stdout",
     "output_type": "stream",
     "text": [
      "MAE of Train: 9.95088899206411\n",
      "MAE of Validation: 9.962593576482096\n"
     ]
    },
    {
     "name": "stderr",
     "output_type": "stream",
     "text": [
      "\u001b[32m[I 2022-03-26 01:01:20,400]\u001b[0m Trial 90 finished with value: 5.95006049530451 and parameters: {'random_state': 519632, 'learning_rate': 0.18569819848958255, 'bagging_temperature': 0.814212494578457, 'max_depth': 7, 'random_strength': 98, 'l2_leaf_reg': 2.0479977447403224e-05, 'min_child_samples': 89, 'max_bin': 307, 'od_type': 'IncToDec', 'task_type': 'GPU', 'loss_function': 'MAE', 'eval_metric': 'MAE'}. Best is trial 4 with value: 5.9201913472718966.\u001b[0m\n"
     ]
    },
    {
     "name": "stdout",
     "output_type": "stream",
     "text": [
      "MAE of Train: 5.941879276924852\n",
      "MAE of Validation: 5.95006049530451\n"
     ]
    },
    {
     "name": "stderr",
     "output_type": "stream",
     "text": [
      "\u001b[32m[I 2022-03-26 01:01:28,126]\u001b[0m Trial 91 finished with value: 5.929238485446823 and parameters: {'random_state': 519632, 'learning_rate': 0.04946708703760695, 'bagging_temperature': 2.427994362691786, 'max_depth': 6, 'random_strength': 86, 'l2_leaf_reg': 2.8336979490121194e-05, 'min_child_samples': 76, 'max_bin': 309, 'od_type': 'IncToDec', 'task_type': 'GPU', 'loss_function': 'MAE', 'eval_metric': 'MAE'}. Best is trial 4 with value: 5.9201913472718966.\u001b[0m\n"
     ]
    },
    {
     "name": "stdout",
     "output_type": "stream",
     "text": [
      "MAE of Train: 5.922678314775974\n",
      "MAE of Validation: 5.929238485446823\n"
     ]
    },
    {
     "name": "stderr",
     "output_type": "stream",
     "text": [
      "\u001b[32m[I 2022-03-26 01:01:34,538]\u001b[0m Trial 92 finished with value: 5.926505911673541 and parameters: {'random_state': 519632, 'learning_rate': 0.07652946879519829, 'bagging_temperature': 4.746711477896076, 'max_depth': 6, 'random_strength': 82, 'l2_leaf_reg': 2.5619415829423287e-05, 'min_child_samples': 84, 'max_bin': 288, 'od_type': 'IncToDec', 'task_type': 'GPU', 'loss_function': 'MAE', 'eval_metric': 'MAE'}. Best is trial 4 with value: 5.9201913472718966.\u001b[0m\n"
     ]
    },
    {
     "name": "stdout",
     "output_type": "stream",
     "text": [
      "MAE of Train: 5.913496161997279\n",
      "MAE of Validation: 5.926505911673541\n"
     ]
    },
    {
     "name": "stderr",
     "output_type": "stream",
     "text": [
      "\u001b[32m[I 2022-03-26 01:01:41,981]\u001b[0m Trial 93 finished with value: 5.9248334697207214 and parameters: {'random_state': 519632, 'learning_rate': 0.0771063728292337, 'bagging_temperature': 4.778797284556068, 'max_depth': 6, 'random_strength': 82, 'l2_leaf_reg': 2.6162513281702963e-05, 'min_child_samples': 84, 'max_bin': 291, 'od_type': 'IncToDec', 'task_type': 'GPU', 'loss_function': 'MAE', 'eval_metric': 'MAE'}. Best is trial 4 with value: 5.9201913472718966.\u001b[0m\n"
     ]
    },
    {
     "name": "stdout",
     "output_type": "stream",
     "text": [
      "MAE of Train: 5.909867107156721\n",
      "MAE of Validation: 5.9248334697207214\n"
     ]
    },
    {
     "name": "stderr",
     "output_type": "stream",
     "text": [
      "\u001b[32m[I 2022-03-26 01:01:49,062]\u001b[0m Trial 94 finished with value: 5.924673729137951 and parameters: {'random_state': 519632, 'learning_rate': 0.08224840717320801, 'bagging_temperature': 4.964746096554604, 'max_depth': 5, 'random_strength': 81, 'l2_leaf_reg': 2.4346370656731728e-05, 'min_child_samples': 84, 'max_bin': 295, 'od_type': 'IncToDec', 'task_type': 'GPU', 'loss_function': 'MAE', 'eval_metric': 'MAE'}. Best is trial 4 with value: 5.9201913472718966.\u001b[0m\n"
     ]
    },
    {
     "name": "stdout",
     "output_type": "stream",
     "text": [
      "MAE of Train: 5.915216691087378\n",
      "MAE of Validation: 5.924673729137951\n"
     ]
    },
    {
     "name": "stderr",
     "output_type": "stream",
     "text": [
      "\u001b[32m[I 2022-03-26 01:01:55,861]\u001b[0m Trial 95 finished with value: 5.940582678513048 and parameters: {'random_state': 519632, 'learning_rate': 0.11098687025374075, 'bagging_temperature': 6.60457009863169, 'max_depth': 5, 'random_strength': 83, 'l2_leaf_reg': 2.548262959995096e-05, 'min_child_samples': 85, 'max_bin': 326, 'od_type': 'IncToDec', 'task_type': 'GPU', 'loss_function': 'MAE', 'eval_metric': 'MAE'}. Best is trial 4 with value: 5.9201913472718966.\u001b[0m\n"
     ]
    },
    {
     "name": "stdout",
     "output_type": "stream",
     "text": [
      "MAE of Train: 5.9270076638283715\n",
      "MAE of Validation: 5.940582678513048\n"
     ]
    },
    {
     "name": "stderr",
     "output_type": "stream",
     "text": [
      "\u001b[32m[I 2022-03-26 01:01:59,444]\u001b[0m Trial 96 finished with value: 5.95877589870562 and parameters: {'random_state': 519632, 'learning_rate': 0.09057045452628125, 'bagging_temperature': 0.046859084606307014, 'max_depth': 4, 'random_strength': 81, 'l2_leaf_reg': 2.4187295522881293e-05, 'min_child_samples': 81, 'max_bin': 295, 'od_type': 'IncToDec', 'task_type': 'GPU', 'loss_function': 'MAE', 'eval_metric': 'MAE'}. Best is trial 4 with value: 5.9201913472718966.\u001b[0m\n"
     ]
    },
    {
     "name": "stdout",
     "output_type": "stream",
     "text": [
      "MAE of Train: 5.952669234779205\n",
      "MAE of Validation: 5.95877589870562\n"
     ]
    },
    {
     "name": "stderr",
     "output_type": "stream",
     "text": [
      "\u001b[32m[I 2022-03-26 01:02:06,204]\u001b[0m Trial 97 finished with value: 5.947320429986268 and parameters: {'random_state': 519632, 'learning_rate': 0.05453983041226398, 'bagging_temperature': 7.352363068628756, 'max_depth': 5, 'random_strength': 84, 'l2_leaf_reg': 2.552611348626775e-05, 'min_child_samples': 84, 'max_bin': 330, 'od_type': 'IncToDec', 'task_type': 'GPU', 'loss_function': 'MAE', 'eval_metric': 'MAE'}. Best is trial 4 with value: 5.9201913472718966.\u001b[0m\n"
     ]
    },
    {
     "name": "stdout",
     "output_type": "stream",
     "text": [
      "MAE of Train: 5.937481546692261\n",
      "MAE of Validation: 5.947320429986268\n"
     ]
    },
    {
     "name": "stderr",
     "output_type": "stream",
     "text": [
      "\u001b[32m[I 2022-03-26 01:02:14,491]\u001b[0m Trial 98 finished with value: 5.937963133734939 and parameters: {'random_state': 519632, 'learning_rate': 0.026406258765505126, 'bagging_temperature': 1.547389700271766, 'max_depth': 7, 'random_strength': 100, 'l2_leaf_reg': 2.2629982574896677e-05, 'min_child_samples': 78, 'max_bin': 281, 'od_type': 'IncToDec', 'task_type': 'GPU', 'loss_function': 'MAE', 'eval_metric': 'MAE'}. Best is trial 4 with value: 5.9201913472718966.\u001b[0m\n"
     ]
    },
    {
     "name": "stdout",
     "output_type": "stream",
     "text": [
      "MAE of Train: 5.931353775334633\n",
      "MAE of Validation: 5.937963133734939\n"
     ]
    },
    {
     "name": "stderr",
     "output_type": "stream",
     "text": [
      "\u001b[32m[I 2022-03-26 01:02:20,327]\u001b[0m Trial 99 finished with value: 5.9276642802179245 and parameters: {'random_state': 519632, 'learning_rate': 0.12121678647963634, 'bagging_temperature': 4.500004719741555, 'max_depth': 6, 'random_strength': 88, 'l2_leaf_reg': 2.8116946263270807e-05, 'min_child_samples': 90, 'max_bin': 290, 'od_type': 'IncToDec', 'task_type': 'GPU', 'loss_function': 'MAE', 'eval_metric': 'MAE'}. Best is trial 4 with value: 5.9201913472718966.\u001b[0m\n"
     ]
    },
    {
     "name": "stdout",
     "output_type": "stream",
     "text": [
      "MAE of Train: 5.912228381219322\n",
      "MAE of Validation: 5.9276642802179245\n"
     ]
    },
    {
     "name": "stderr",
     "output_type": "stream",
     "text": [
      "\u001b[32m[I 2022-03-26 01:02:27,409]\u001b[0m Trial 100 finished with value: 5.923360865333347 and parameters: {'random_state': 519632, 'learning_rate': 0.08055399421394419, 'bagging_temperature': 4.593457635087422, 'max_depth': 5, 'random_strength': 79, 'l2_leaf_reg': 2.391230855607168e-05, 'min_child_samples': 18, 'max_bin': 300, 'od_type': 'IncToDec', 'task_type': 'GPU', 'loss_function': 'MAE', 'eval_metric': 'MAE'}. Best is trial 4 with value: 5.9201913472718966.\u001b[0m\n"
     ]
    },
    {
     "name": "stdout",
     "output_type": "stream",
     "text": [
      "MAE of Train: 5.915283887222635\n",
      "MAE of Validation: 5.923360865333347\n"
     ]
    },
    {
     "name": "stderr",
     "output_type": "stream",
     "text": [
      "\u001b[32m[I 2022-03-26 01:02:34,518]\u001b[0m Trial 101 finished with value: 5.923594325807775 and parameters: {'random_state': 519632, 'learning_rate': 0.08046578982423847, 'bagging_temperature': 4.656081068760764, 'max_depth': 5, 'random_strength': 79, 'l2_leaf_reg': 2.6820951653529896e-05, 'min_child_samples': 33, 'max_bin': 316, 'od_type': 'IncToDec', 'task_type': 'GPU', 'loss_function': 'MAE', 'eval_metric': 'MAE'}. Best is trial 4 with value: 5.9201913472718966.\u001b[0m\n"
     ]
    },
    {
     "name": "stdout",
     "output_type": "stream",
     "text": [
      "MAE of Train: 5.914551507389074\n",
      "MAE of Validation: 5.923594325807775\n"
     ]
    },
    {
     "name": "stderr",
     "output_type": "stream",
     "text": [
      "\u001b[32m[I 2022-03-26 01:02:41,401]\u001b[0m Trial 102 finished with value: 5.928002264249279 and parameters: {'random_state': 519632, 'learning_rate': 0.061992708134784774, 'bagging_temperature': 4.98529193919137, 'max_depth': 4, 'random_strength': 79, 'l2_leaf_reg': 2.4020761621100453e-05, 'min_child_samples': 24, 'max_bin': 320, 'od_type': 'IncToDec', 'task_type': 'GPU', 'loss_function': 'MAE', 'eval_metric': 'MAE'}. Best is trial 4 with value: 5.9201913472718966.\u001b[0m\n"
     ]
    },
    {
     "name": "stdout",
     "output_type": "stream",
     "text": [
      "MAE of Train: 5.921614011395982\n",
      "MAE of Validation: 5.928002264249279\n"
     ]
    },
    {
     "name": "stderr",
     "output_type": "stream",
     "text": [
      "\u001b[32m[I 2022-03-26 01:02:46,179]\u001b[0m Trial 103 finished with value: 5.923328370959025 and parameters: {'random_state': 519632, 'learning_rate': 0.15928034805409533, 'bagging_temperature': 3.2257583984302554, 'max_depth': 5, 'random_strength': 72, 'l2_leaf_reg': 2.7006876232376467e-05, 'min_child_samples': 33, 'max_bin': 302, 'od_type': 'IncToDec', 'task_type': 'GPU', 'loss_function': 'MAE', 'eval_metric': 'MAE'}. Best is trial 4 with value: 5.9201913472718966.\u001b[0m\n"
     ]
    },
    {
     "name": "stdout",
     "output_type": "stream",
     "text": [
      "MAE of Train: 5.916869994838605\n",
      "MAE of Validation: 5.923328370959025\n"
     ]
    },
    {
     "name": "stderr",
     "output_type": "stream",
     "text": [
      "\u001b[32m[I 2022-03-26 01:02:52,759]\u001b[0m Trial 104 finished with value: 5.959390456651763 and parameters: {'random_state': 519632, 'learning_rate': 0.2071645458016111, 'bagging_temperature': 8.795878380401852, 'max_depth': 5, 'random_strength': 72, 'l2_leaf_reg': 2.6527850191157468e-05, 'min_child_samples': 30, 'max_bin': 313, 'od_type': 'IncToDec', 'task_type': 'GPU', 'loss_function': 'MAE', 'eval_metric': 'MAE'}. Best is trial 4 with value: 5.9201913472718966.\u001b[0m\n"
     ]
    },
    {
     "name": "stdout",
     "output_type": "stream",
     "text": [
      "MAE of Train: 5.941034490130015\n",
      "MAE of Validation: 5.959390456651763\n"
     ]
    },
    {
     "name": "stderr",
     "output_type": "stream",
     "text": [
      "\u001b[32m[I 2022-03-26 01:02:58,938]\u001b[0m Trial 105 finished with value: 5.977446691513437 and parameters: {'random_state': 519632, 'learning_rate': 0.16265511470795424, 'bagging_temperature': 14.230015966575126, 'max_depth': 5, 'random_strength': 77, 'l2_leaf_reg': 2.874187142804192e-05, 'min_child_samples': 16, 'max_bin': 237, 'od_type': 'IncToDec', 'task_type': 'GPU', 'loss_function': 'MAE', 'eval_metric': 'MAE'}. Best is trial 4 with value: 5.9201913472718966.\u001b[0m\n"
     ]
    },
    {
     "name": "stdout",
     "output_type": "stream",
     "text": [
      "MAE of Train: 5.962732884033576\n",
      "MAE of Validation: 5.977446691513437\n"
     ]
    },
    {
     "name": "stderr",
     "output_type": "stream",
     "text": [
      "\u001b[32m[I 2022-03-26 01:03:04,802]\u001b[0m Trial 106 finished with value: 11.333271692790982 and parameters: {'random_state': 519632, 'learning_rate': 0.00031066769607084385, 'bagging_temperature': 6.587101830223206, 'max_depth': 4, 'random_strength': 68, 'l2_leaf_reg': 2.2853537318225618e-05, 'min_child_samples': 14, 'max_bin': 295, 'od_type': 'IncToDec', 'task_type': 'GPU', 'loss_function': 'MAE', 'eval_metric': 'MAE'}. Best is trial 4 with value: 5.9201913472718966.\u001b[0m\n"
     ]
    },
    {
     "name": "stdout",
     "output_type": "stream",
     "text": [
      "MAE of Train: 11.320647015719722\n",
      "MAE of Validation: 11.333271692790982\n"
     ]
    },
    {
     "name": "stderr",
     "output_type": "stream",
     "text": [
      "\u001b[32m[I 2022-03-26 01:03:11,993]\u001b[0m Trial 107 finished with value: 5.920890150980656 and parameters: {'random_state': 519632, 'learning_rate': 0.2584849244927529, 'bagging_temperature': 3.1912741241487685, 'max_depth': 5, 'random_strength': 59, 'l2_leaf_reg': 2.7909451592998083e-05, 'min_child_samples': 37, 'max_bin': 207, 'od_type': 'Iter', 'task_type': 'GPU', 'loss_function': 'MAE', 'eval_metric': 'MAE'}. Best is trial 4 with value: 5.9201913472718966.\u001b[0m\n"
     ]
    },
    {
     "name": "stdout",
     "output_type": "stream",
     "text": [
      "MAE of Train: 5.909720249829647\n",
      "MAE of Validation: 5.920890150980656\n"
     ]
    },
    {
     "name": "stderr",
     "output_type": "stream",
     "text": [
      "\u001b[32m[I 2022-03-26 01:03:18,856]\u001b[0m Trial 108 finished with value: 5.925202308356847 and parameters: {'random_state': 519632, 'learning_rate': 0.246732139707318, 'bagging_temperature': 3.342734067511955, 'max_depth': 5, 'random_strength': 85, 'l2_leaf_reg': 2.7884147012968665e-05, 'min_child_samples': 36, 'max_bin': 204, 'od_type': 'Iter', 'task_type': 'GPU', 'loss_function': 'MAE', 'eval_metric': 'MAE'}. Best is trial 4 with value: 5.9201913472718966.\u001b[0m\n"
     ]
    },
    {
     "name": "stdout",
     "output_type": "stream",
     "text": [
      "MAE of Train: 5.915129401057246\n",
      "MAE of Validation: 5.925202308356847\n"
     ]
    },
    {
     "name": "stderr",
     "output_type": "stream",
     "text": [
      "\u001b[32m[I 2022-03-26 01:03:23,828]\u001b[0m Trial 109 finished with value: 5.926011892582989 and parameters: {'random_state': 519632, 'learning_rate': 0.23470302187202538, 'bagging_temperature': 4.071209125458312, 'max_depth': 5, 'random_strength': 80, 'l2_leaf_reg': 2.9702760285683454e-05, 'min_child_samples': 28, 'max_bin': 208, 'od_type': 'Iter', 'task_type': 'GPU', 'loss_function': 'MAE', 'eval_metric': 'MAE'}. Best is trial 4 with value: 5.9201913472718966.\u001b[0m\n"
     ]
    },
    {
     "name": "stdout",
     "output_type": "stream",
     "text": [
      "MAE of Train: 5.913071123411328\n",
      "MAE of Validation: 5.926011892582989\n"
     ]
    },
    {
     "name": "stderr",
     "output_type": "stream",
     "text": [
      "\u001b[32m[I 2022-03-26 01:03:29,122]\u001b[0m Trial 110 finished with value: 5.929116396605902 and parameters: {'random_state': 519632, 'learning_rate': 0.29695809790266176, 'bagging_temperature': 3.231766893869127, 'max_depth': 5, 'random_strength': 85, 'l2_leaf_reg': 2.7582348728689515e-05, 'min_child_samples': 37, 'max_bin': 200, 'od_type': 'Iter', 'task_type': 'GPU', 'loss_function': 'MAE', 'eval_metric': 'MAE'}. Best is trial 4 with value: 5.9201913472718966.\u001b[0m\n"
     ]
    },
    {
     "name": "stdout",
     "output_type": "stream",
     "text": [
      "MAE of Train: 5.920481416170006\n",
      "MAE of Validation: 5.929116396605902\n"
     ]
    },
    {
     "name": "stderr",
     "output_type": "stream",
     "text": [
      "\u001b[32m[I 2022-03-26 01:03:35,975]\u001b[0m Trial 111 finished with value: 5.922952912285933 and parameters: {'random_state': 519632, 'learning_rate': 0.2636645753356645, 'bagging_temperature': 2.7436315327867704, 'max_depth': 5, 'random_strength': 75, 'l2_leaf_reg': 2.690357804529191e-05, 'min_child_samples': 34, 'max_bin': 212, 'od_type': 'Iter', 'task_type': 'GPU', 'loss_function': 'MAE', 'eval_metric': 'MAE'}. Best is trial 4 with value: 5.9201913472718966.\u001b[0m\n"
     ]
    },
    {
     "name": "stdout",
     "output_type": "stream",
     "text": [
      "MAE of Train: 5.914355099507926\n",
      "MAE of Validation: 5.922952912285933\n"
     ]
    },
    {
     "name": "stderr",
     "output_type": "stream",
     "text": [
      "\u001b[32m[I 2022-03-26 01:03:38,408]\u001b[0m Trial 112 finished with value: 5.963208091303261 and parameters: {'random_state': 519632, 'learning_rate': 0.21937038405082315, 'bagging_temperature': 2.892961101976322, 'max_depth': 5, 'random_strength': 74, 'l2_leaf_reg': 2.7027590868535842e-05, 'min_child_samples': 33, 'max_bin': 214, 'od_type': 'Iter', 'task_type': 'GPU', 'loss_function': 'MAE', 'eval_metric': 'MAE'}. Best is trial 4 with value: 5.9201913472718966.\u001b[0m\n"
     ]
    },
    {
     "name": "stdout",
     "output_type": "stream",
     "text": [
      "MAE of Train: 5.95795495561905\n",
      "MAE of Validation: 5.963208091303261\n"
     ]
    },
    {
     "name": "stderr",
     "output_type": "stream",
     "text": [
      "\u001b[32m[I 2022-03-26 01:03:43,071]\u001b[0m Trial 113 finished with value: 5.934213620876546 and parameters: {'random_state': 519632, 'learning_rate': 0.15592312706563363, 'bagging_temperature': 5.216649424893731, 'max_depth': 5, 'random_strength': 59, 'l2_leaf_reg': 2.487670206013689e-05, 'min_child_samples': 41, 'max_bin': 208, 'od_type': 'Iter', 'task_type': 'GPU', 'loss_function': 'MAE', 'eval_metric': 'MAE'}. Best is trial 4 with value: 5.9201913472718966.\u001b[0m\n"
     ]
    },
    {
     "name": "stdout",
     "output_type": "stream",
     "text": [
      "MAE of Train: 5.9225173033955425\n",
      "MAE of Validation: 5.934213620876546\n"
     ]
    },
    {
     "name": "stderr",
     "output_type": "stream",
     "text": [
      "\u001b[32m[I 2022-03-26 01:03:49,540]\u001b[0m Trial 114 finished with value: 5.936347331846687 and parameters: {'random_state': 519632, 'learning_rate': 0.2579342746912775, 'bagging_temperature': 3.670420109829642, 'max_depth': 5, 'random_strength': 72, 'l2_leaf_reg': 2.799417613097306e-05, 'min_child_samples': 44, 'max_bin': 224, 'od_type': 'Iter', 'task_type': 'GPU', 'loss_function': 'MAE', 'eval_metric': 'MAE'}. Best is trial 4 with value: 5.9201913472718966.\u001b[0m\n"
     ]
    },
    {
     "name": "stdout",
     "output_type": "stream",
     "text": [
      "MAE of Train: 5.927632256505229\n",
      "MAE of Validation: 5.936347331846687\n"
     ]
    },
    {
     "name": "stderr",
     "output_type": "stream",
     "text": [
      "\u001b[32m[I 2022-03-26 01:03:55,603]\u001b[0m Trial 115 finished with value: 5.967707491696886 and parameters: {'random_state': 519632, 'learning_rate': 0.18205004106985243, 'bagging_temperature': 11.128480472873843, 'max_depth': 4, 'random_strength': 76, 'l2_leaf_reg': 2.7019933325046056e-05, 'min_child_samples': 21, 'max_bin': 219, 'od_type': 'Iter', 'task_type': 'GPU', 'loss_function': 'MAE', 'eval_metric': 'MAE'}. Best is trial 4 with value: 5.9201913472718966.\u001b[0m\n"
     ]
    },
    {
     "name": "stdout",
     "output_type": "stream",
     "text": [
      "MAE of Train: 5.958603910172417\n",
      "MAE of Validation: 5.967707491696886\n"
     ]
    },
    {
     "name": "stderr",
     "output_type": "stream",
     "text": [
      "\u001b[32m[I 2022-03-26 01:04:02,332]\u001b[0m Trial 116 finished with value: 5.946973244108146 and parameters: {'random_state': 519632, 'learning_rate': 0.24844367261448022, 'bagging_temperature': 6.151696512105987, 'max_depth': 5, 'random_strength': 65, 'l2_leaf_reg': 2.9890295361034177e-05, 'min_child_samples': 34, 'max_bin': 203, 'od_type': 'Iter', 'task_type': 'GPU', 'loss_function': 'MAE', 'eval_metric': 'MAE'}. Best is trial 4 with value: 5.9201913472718966.\u001b[0m\n"
     ]
    },
    {
     "name": "stdout",
     "output_type": "stream",
     "text": [
      "MAE of Train: 5.925317741720093\n",
      "MAE of Validation: 5.946973244108146\n"
     ]
    },
    {
     "name": "stderr",
     "output_type": "stream",
     "text": [
      "\u001b[32m[I 2022-03-26 01:04:06,454]\u001b[0m Trial 117 finished with value: 5.931653635983799 and parameters: {'random_state': 519632, 'learning_rate': 0.12957261068726933, 'bagging_temperature': 2.5713584127551057, 'max_depth': 5, 'random_strength': 78, 'l2_leaf_reg': 2.8889084707993824e-05, 'min_child_samples': 32, 'max_bin': 216, 'od_type': 'Iter', 'task_type': 'GPU', 'loss_function': 'MAE', 'eval_metric': 'MAE'}. Best is trial 4 with value: 5.9201913472718966.\u001b[0m\n"
     ]
    },
    {
     "name": "stdout",
     "output_type": "stream",
     "text": [
      "MAE of Train: 5.924615289395119\n",
      "MAE of Validation: 5.931653635983799\n"
     ]
    },
    {
     "name": "stderr",
     "output_type": "stream",
     "text": [
      "\u001b[32m[I 2022-03-26 01:04:13,470]\u001b[0m Trial 118 finished with value: 5.923168694195896 and parameters: {'random_state': 519632, 'learning_rate': 0.10558831464880518, 'bagging_temperature': 4.3157588073706, 'max_depth': 5, 'random_strength': 84, 'l2_leaf_reg': 2.6145695318567756e-05, 'min_child_samples': 28, 'max_bin': 210, 'od_type': 'Iter', 'task_type': 'GPU', 'loss_function': 'MAE', 'eval_metric': 'MAE'}. Best is trial 4 with value: 5.9201913472718966.\u001b[0m\n"
     ]
    },
    {
     "name": "stdout",
     "output_type": "stream",
     "text": [
      "MAE of Train: 5.912029904146981\n",
      "MAE of Validation: 5.923168694195896\n"
     ]
    },
    {
     "name": "stderr",
     "output_type": "stream",
     "text": [
      "\u001b[32m[I 2022-03-26 01:04:20,475]\u001b[0m Trial 119 finished with value: 5.924530372926049 and parameters: {'random_state': 519632, 'learning_rate': 0.10840328332652233, 'bagging_temperature': 4.065495098652633, 'max_depth': 5, 'random_strength': 90, 'l2_leaf_reg': 2.605607478457578e-05, 'min_child_samples': 37, 'max_bin': 209, 'od_type': 'Iter', 'task_type': 'GPU', 'loss_function': 'MAE', 'eval_metric': 'MAE'}. Best is trial 4 with value: 5.9201913472718966.\u001b[0m\n"
     ]
    },
    {
     "name": "stdout",
     "output_type": "stream",
     "text": [
      "MAE of Train: 5.915954200474788\n",
      "MAE of Validation: 5.924530372926049\n"
     ]
    },
    {
     "name": "stderr",
     "output_type": "stream",
     "text": [
      "\u001b[32m[I 2022-03-26 01:04:27,486]\u001b[0m Trial 120 finished with value: 5.923081059772675 and parameters: {'random_state': 519632, 'learning_rate': 0.11053616141671634, 'bagging_temperature': 4.343270850931909, 'max_depth': 5, 'random_strength': 91, 'l2_leaf_reg': 2.6686239283243046e-05, 'min_child_samples': 25, 'max_bin': 212, 'od_type': 'Iter', 'task_type': 'GPU', 'loss_function': 'MAE', 'eval_metric': 'MAE'}. Best is trial 4 with value: 5.9201913472718966.\u001b[0m\n"
     ]
    },
    {
     "name": "stdout",
     "output_type": "stream",
     "text": [
      "MAE of Train: 5.912172059281053\n",
      "MAE of Validation: 5.923081059772675\n"
     ]
    },
    {
     "name": "stderr",
     "output_type": "stream",
     "text": [
      "\u001b[32m[I 2022-03-26 01:04:34,659]\u001b[0m Trial 121 finished with value: 5.920897642633171 and parameters: {'random_state': 519632, 'learning_rate': 0.1049934455141653, 'bagging_temperature': 3.8802699423610125, 'max_depth': 5, 'random_strength': 90, 'l2_leaf_reg': 2.61224104241725e-05, 'min_child_samples': 22, 'max_bin': 212, 'od_type': 'Iter', 'task_type': 'GPU', 'loss_function': 'MAE', 'eval_metric': 'MAE'}. Best is trial 4 with value: 5.9201913472718966.\u001b[0m\n"
     ]
    },
    {
     "name": "stdout",
     "output_type": "stream",
     "text": [
      "MAE of Train: 5.911003656146734\n",
      "MAE of Validation: 5.920897642633171\n"
     ]
    },
    {
     "name": "stderr",
     "output_type": "stream",
     "text": [
      "\u001b[32m[I 2022-03-26 01:04:41,667]\u001b[0m Trial 122 finished with value: 5.924187866300475 and parameters: {'random_state': 519632, 'learning_rate': 0.09471750127742701, 'bagging_temperature': 4.326068956168363, 'max_depth': 5, 'random_strength': 94, 'l2_leaf_reg': 2.6580984149882092e-05, 'min_child_samples': 26, 'max_bin': 212, 'od_type': 'Iter', 'task_type': 'GPU', 'loss_function': 'MAE', 'eval_metric': 'MAE'}. Best is trial 4 with value: 5.9201913472718966.\u001b[0m\n"
     ]
    },
    {
     "name": "stdout",
     "output_type": "stream",
     "text": [
      "MAE of Train: 5.913018367595077\n",
      "MAE of Validation: 5.924187866300475\n"
     ]
    },
    {
     "name": "stderr",
     "output_type": "stream",
     "text": [
      "\u001b[32m[I 2022-03-26 01:04:47,804]\u001b[0m Trial 123 finished with value: 5.987874118454893 and parameters: {'random_state': 519632, 'learning_rate': 0.10744579853179373, 'bagging_temperature': 18.773311649885375, 'max_depth': 5, 'random_strength': 92, 'l2_leaf_reg': 2.6611468776781996e-05, 'min_child_samples': 24, 'max_bin': 212, 'od_type': 'Iter', 'task_type': 'GPU', 'loss_function': 'MAE', 'eval_metric': 'MAE'}. Best is trial 4 with value: 5.9201913472718966.\u001b[0m\n"
     ]
    },
    {
     "name": "stdout",
     "output_type": "stream",
     "text": [
      "MAE of Train: 5.976027542073286\n",
      "MAE of Validation: 5.987874118454893\n"
     ]
    },
    {
     "name": "stderr",
     "output_type": "stream",
     "text": [
      "\u001b[32m[I 2022-03-26 01:04:54,100]\u001b[0m Trial 124 finished with value: 5.958512837885582 and parameters: {'random_state': 519632, 'learning_rate': 0.13653805302119576, 'bagging_temperature': 8.29615410047657, 'max_depth': 4, 'random_strength': 89, 'l2_leaf_reg': 2.4561772521669282e-05, 'min_child_samples': 22, 'max_bin': 221, 'od_type': 'Iter', 'task_type': 'GPU', 'loss_function': 'MAE', 'eval_metric': 'MAE'}. Best is trial 4 with value: 5.9201913472718966.\u001b[0m\n"
     ]
    },
    {
     "name": "stdout",
     "output_type": "stream",
     "text": [
      "MAE of Train: 5.949842318833528\n",
      "MAE of Validation: 5.958512837885582\n"
     ]
    },
    {
     "name": "stderr",
     "output_type": "stream",
     "text": [
      "\u001b[32m[I 2022-03-26 01:05:01,105]\u001b[0m Trial 125 finished with value: 5.922788991795449 and parameters: {'random_state': 519632, 'learning_rate': 0.09230961015637637, 'bagging_temperature': 4.245785986025796, 'max_depth': 5, 'random_strength': 92, 'l2_leaf_reg': 2.696964175844065e-05, 'min_child_samples': 27, 'max_bin': 209, 'od_type': 'Iter', 'task_type': 'GPU', 'loss_function': 'MAE', 'eval_metric': 'MAE'}. Best is trial 4 with value: 5.9201913472718966.\u001b[0m\n"
     ]
    },
    {
     "name": "stdout",
     "output_type": "stream",
     "text": [
      "MAE of Train: 5.911986509492297\n",
      "MAE of Validation: 5.922788991795449\n"
     ]
    },
    {
     "name": "stderr",
     "output_type": "stream",
     "text": [
      "\u001b[32m[I 2022-03-26 01:05:08,243]\u001b[0m Trial 126 finished with value: 5.921430573023127 and parameters: {'random_state': 519632, 'learning_rate': 0.10365476629296307, 'bagging_temperature': 3.8733021055274355, 'max_depth': 5, 'random_strength': 93, 'l2_leaf_reg': 2.7001595295527443e-05, 'min_child_samples': 29, 'max_bin': 209, 'od_type': 'Iter', 'task_type': 'GPU', 'loss_function': 'MAE', 'eval_metric': 'MAE'}. Best is trial 4 with value: 5.9201913472718966.\u001b[0m\n"
     ]
    },
    {
     "name": "stdout",
     "output_type": "stream",
     "text": [
      "MAE of Train: 5.912184375935547\n",
      "MAE of Validation: 5.921430573023127\n"
     ]
    },
    {
     "name": "stderr",
     "output_type": "stream",
     "text": [
      "\u001b[32m[I 2022-03-26 01:05:14,840]\u001b[0m Trial 127 finished with value: 5.940138237136767 and parameters: {'random_state': 519632, 'learning_rate': 0.18012383153415332, 'bagging_temperature': 5.952662991599666, 'max_depth': 4, 'random_strength': 93, 'l2_leaf_reg': 2.85472571653456e-05, 'min_child_samples': 27, 'max_bin': 228, 'od_type': 'Iter', 'task_type': 'GPU', 'loss_function': 'MAE', 'eval_metric': 'MAE'}. Best is trial 4 with value: 5.9201913472718966.\u001b[0m\n"
     ]
    },
    {
     "name": "stdout",
     "output_type": "stream",
     "text": [
      "MAE of Train: 5.93061269615899\n",
      "MAE of Validation: 5.940138237136767\n"
     ]
    },
    {
     "name": "stderr",
     "output_type": "stream",
     "text": [
      "\u001b[32m[I 2022-03-26 01:05:19,165]\u001b[0m Trial 128 finished with value: 5.924908805712937 and parameters: {'random_state': 519632, 'learning_rate': 0.09352414398771754, 'bagging_temperature': 2.914785328083042, 'max_depth': 5, 'random_strength': 94, 'l2_leaf_reg': 2.6986126813316554e-05, 'min_child_samples': 20, 'max_bin': 360, 'od_type': 'Iter', 'task_type': 'GPU', 'loss_function': 'MAE', 'eval_metric': 'MAE'}. Best is trial 4 with value: 5.9201913472718966.\u001b[0m\n"
     ]
    },
    {
     "name": "stdout",
     "output_type": "stream",
     "text": [
      "MAE of Train: 5.919262803199029\n",
      "MAE of Validation: 5.924908805712937\n"
     ]
    },
    {
     "name": "stderr",
     "output_type": "stream",
     "text": [
      "\u001b[32m[I 2022-03-26 01:05:26,188]\u001b[0m Trial 129 finished with value: 5.923365672051867 and parameters: {'random_state': 519632, 'learning_rate': 0.14407074096396763, 'bagging_temperature': 4.146182865823583, 'max_depth': 5, 'random_strength': 88, 'l2_leaf_reg': 2.7595257249002393e-05, 'min_child_samples': 29, 'max_bin': 200, 'od_type': 'Iter', 'task_type': 'GPU', 'loss_function': 'MAE', 'eval_metric': 'MAE'}. Best is trial 4 with value: 5.9201913472718966.\u001b[0m\n"
     ]
    },
    {
     "name": "stdout",
     "output_type": "stream",
     "text": [
      "MAE of Train: 5.912546084024554\n",
      "MAE of Validation: 5.923365672051867\n"
     ]
    },
    {
     "name": "stderr",
     "output_type": "stream",
     "text": [
      "\u001b[32m[I 2022-03-26 01:05:32,868]\u001b[0m Trial 130 finished with value: 5.92859372837943 and parameters: {'random_state': 519632, 'learning_rate': 0.15881823205176113, 'bagging_temperature': 3.456288618447074, 'max_depth': 5, 'random_strength': 87, 'l2_leaf_reg': 2.7359746667168155e-05, 'min_child_samples': 30, 'max_bin': 200, 'od_type': 'Iter', 'task_type': 'GPU', 'loss_function': 'MAE', 'eval_metric': 'MAE'}. Best is trial 4 with value: 5.9201913472718966.\u001b[0m\n"
     ]
    },
    {
     "name": "stdout",
     "output_type": "stream",
     "text": [
      "MAE of Train: 5.921658074670705\n",
      "MAE of Validation: 5.92859372837943\n"
     ]
    },
    {
     "name": "stderr",
     "output_type": "stream",
     "text": [
      "\u001b[32m[I 2022-03-26 01:05:39,960]\u001b[0m Trial 131 finished with value: 5.921538770839692 and parameters: {'random_state': 519632, 'learning_rate': 0.12260876377202325, 'bagging_temperature': 4.081528947312557, 'max_depth': 5, 'random_strength': 93, 'l2_leaf_reg': 2.6794170131293532e-05, 'min_child_samples': 26, 'max_bin': 214, 'od_type': 'Iter', 'task_type': 'GPU', 'loss_function': 'MAE', 'eval_metric': 'MAE'}. Best is trial 4 with value: 5.9201913472718966.\u001b[0m\n"
     ]
    },
    {
     "name": "stdout",
     "output_type": "stream",
     "text": [
      "MAE of Train: 5.910555939509886\n",
      "MAE of Validation: 5.921538770839692\n"
     ]
    },
    {
     "name": "stderr",
     "output_type": "stream",
     "text": [
      "\u001b[32m[I 2022-03-26 01:05:46,586]\u001b[0m Trial 132 finished with value: 5.943553204102226 and parameters: {'random_state': 519632, 'learning_rate': 0.12536021761010102, 'bagging_temperature': 6.987628568262949, 'max_depth': 5, 'random_strength': 97, 'l2_leaf_reg': 2.5493448349664257e-05, 'min_child_samples': 18, 'max_bin': 206, 'od_type': 'Iter', 'task_type': 'GPU', 'loss_function': 'MAE', 'eval_metric': 'MAE'}. Best is trial 4 with value: 5.9201913472718966.\u001b[0m\n"
     ]
    },
    {
     "name": "stdout",
     "output_type": "stream",
     "text": [
      "MAE of Train: 5.929763310275756\n",
      "MAE of Validation: 5.943553204102226\n"
     ]
    },
    {
     "name": "stderr",
     "output_type": "stream",
     "text": [
      "\u001b[32m[I 2022-03-26 01:05:50,442]\u001b[0m Trial 133 finished with value: 5.945243626898359 and parameters: {'random_state': 519632, 'learning_rate': 0.20637872444093633, 'bagging_temperature': 2.7569535041269884, 'max_depth': 5, 'random_strength': 90, 'l2_leaf_reg': 2.773635007556503e-05, 'min_child_samples': 29, 'max_bin': 399, 'od_type': 'Iter', 'task_type': 'GPU', 'loss_function': 'MAE', 'eval_metric': 'MAE'}. Best is trial 4 with value: 5.9201913472718966.\u001b[0m\n"
     ]
    },
    {
     "name": "stdout",
     "output_type": "stream",
     "text": [
      "MAE of Train: 5.941057485492836\n",
      "MAE of Validation: 5.945243626898359\n"
     ]
    },
    {
     "name": "stderr",
     "output_type": "stream",
     "text": [
      "\u001b[32m[I 2022-03-26 01:05:57,558]\u001b[0m Trial 134 finished with value: 5.921983558944814 and parameters: {'random_state': 519632, 'learning_rate': 0.14396176789738932, 'bagging_temperature': 3.9806793546772563, 'max_depth': 5, 'random_strength': 88, 'l2_leaf_reg': 2.899121834865049e-05, 'min_child_samples': 31, 'max_bin': 217, 'od_type': 'Iter', 'task_type': 'GPU', 'loss_function': 'MAE', 'eval_metric': 'MAE'}. Best is trial 4 with value: 5.9201913472718966.\u001b[0m\n"
     ]
    },
    {
     "name": "stdout",
     "output_type": "stream",
     "text": [
      "MAE of Train: 5.9108333596141485\n",
      "MAE of Validation: 5.921983558944814\n"
     ]
    },
    {
     "name": "stderr",
     "output_type": "stream",
     "text": [
      "\u001b[32m[I 2022-03-26 01:06:03,206]\u001b[0m Trial 135 finished with value: 5.920898643567178 and parameters: {'random_state': 519632, 'learning_rate': 0.15702813911636007, 'bagging_temperature': 3.71052564427815, 'max_depth': 5, 'random_strength': 92, 'l2_leaf_reg': 2.919883911092535e-05, 'min_child_samples': 12, 'max_bin': 217, 'od_type': 'Iter', 'task_type': 'GPU', 'loss_function': 'MAE', 'eval_metric': 'MAE'}. Best is trial 4 with value: 5.9201913472718966.\u001b[0m\n"
     ]
    },
    {
     "name": "stdout",
     "output_type": "stream",
     "text": [
      "MAE of Train: 5.91118214805538\n",
      "MAE of Validation: 5.920898643567178\n"
     ]
    },
    {
     "name": "stderr",
     "output_type": "stream",
     "text": [
      "\u001b[32m[I 2022-03-26 01:06:09,533]\u001b[0m Trial 136 finished with value: 5.95990686022111 and parameters: {'random_state': 519632, 'learning_rate': 0.15460629258049063, 'bagging_temperature': 10.247746970967484, 'max_depth': 5, 'random_strength': 88, 'l2_leaf_reg': 2.911055009203212e-05, 'min_child_samples': 10, 'max_bin': 219, 'od_type': 'Iter', 'task_type': 'GPU', 'loss_function': 'MAE', 'eval_metric': 'MAE'}. Best is trial 4 with value: 5.9201913472718966.\u001b[0m\n"
     ]
    },
    {
     "name": "stdout",
     "output_type": "stream",
     "text": [
      "MAE of Train: 5.945427478143361\n",
      "MAE of Validation: 5.95990686022111\n"
     ]
    },
    {
     "name": "stderr",
     "output_type": "stream",
     "text": [
      "\u001b[32m[I 2022-03-26 01:06:16,522]\u001b[0m Trial 137 finished with value: 5.925045443980798 and parameters: {'random_state': 519632, 'learning_rate': 0.13604056679562437, 'bagging_temperature': 3.927601213540812, 'max_depth': 5, 'random_strength': 92, 'l2_leaf_reg': 2.8572502520797486e-05, 'min_child_samples': 25, 'max_bin': 232, 'od_type': 'Iter', 'task_type': 'GPU', 'loss_function': 'MAE', 'eval_metric': 'MAE'}. Best is trial 4 with value: 5.9201913472718966.\u001b[0m\n"
     ]
    },
    {
     "name": "stdout",
     "output_type": "stream",
     "text": [
      "MAE of Train: 5.914774307150714\n",
      "MAE of Validation: 5.925045443980798\n"
     ]
    },
    {
     "name": "stderr",
     "output_type": "stream",
     "text": [
      "\u001b[32m[I 2022-03-26 01:06:21,181]\u001b[0m Trial 138 finished with value: 5.942190673788665 and parameters: {'random_state': 519632, 'learning_rate': 0.29839156822660756, 'bagging_temperature': 5.570407108073602, 'max_depth': 5, 'random_strength': 91, 'l2_leaf_reg': 2.9229587223502457e-05, 'min_child_samples': 31, 'max_bin': 224, 'od_type': 'Iter', 'task_type': 'GPU', 'loss_function': 'MAE', 'eval_metric': 'MAE'}. Best is trial 4 with value: 5.9201913472718966.\u001b[0m\n"
     ]
    },
    {
     "name": "stdout",
     "output_type": "stream",
     "text": [
      "MAE of Train: 5.923600768380144\n",
      "MAE of Validation: 5.942190673788665\n"
     ]
    },
    {
     "name": "stderr",
     "output_type": "stream",
     "text": [
      "\u001b[32m[I 2022-03-26 01:06:26,739]\u001b[0m Trial 139 finished with value: 5.935526535565632 and parameters: {'random_state': 519632, 'learning_rate': 0.19786142407234292, 'bagging_temperature': 2.4559644406268597, 'max_depth': 4, 'random_strength': 86, 'l2_leaf_reg': 2.816615438858709e-05, 'min_child_samples': 12, 'max_bin': 214, 'od_type': 'Iter', 'task_type': 'GPU', 'loss_function': 'MAE', 'eval_metric': 'MAE'}. Best is trial 4 with value: 5.9201913472718966.\u001b[0m\n"
     ]
    },
    {
     "name": "stdout",
     "output_type": "stream",
     "text": [
      "MAE of Train: 5.929768034636641\n",
      "MAE of Validation: 5.935526535565632\n"
     ]
    },
    {
     "name": "stderr",
     "output_type": "stream",
     "text": [
      "\u001b[32m[I 2022-03-26 01:06:31,630]\u001b[0m Trial 140 finished with value: 5.932780018693758 and parameters: {'random_state': 519632, 'learning_rate': 0.16806984074103845, 'bagging_temperature': 3.6060064126563085, 'max_depth': 5, 'random_strength': 54, 'l2_leaf_reg': 2.732154771861753e-05, 'min_child_samples': 23, 'max_bin': 206, 'od_type': 'Iter', 'task_type': 'GPU', 'loss_function': 'MAE', 'eval_metric': 'MAE'}. Best is trial 4 with value: 5.9201913472718966.\u001b[0m\n"
     ]
    },
    {
     "name": "stdout",
     "output_type": "stream",
     "text": [
      "MAE of Train: 5.925034046158502\n",
      "MAE of Validation: 5.932780018693758\n"
     ]
    },
    {
     "name": "stderr",
     "output_type": "stream",
     "text": [
      "\u001b[32m[I 2022-03-26 01:06:37,857]\u001b[0m Trial 141 finished with value: 5.924824819286886 and parameters: {'random_state': 519632, 'learning_rate': 0.11085982923073295, 'bagging_temperature': 3.1136976478964935, 'max_depth': 5, 'random_strength': 98, 'l2_leaf_reg': 2.581647455790482e-05, 'min_child_samples': 19, 'max_bin': 200, 'od_type': 'Iter', 'task_type': 'GPU', 'loss_function': 'MAE', 'eval_metric': 'MAE'}. Best is trial 4 with value: 5.9201913472718966.\u001b[0m\n"
     ]
    },
    {
     "name": "stdout",
     "output_type": "stream",
     "text": [
      "MAE of Train: 5.9178451991528505\n",
      "MAE of Validation: 5.924824819286886\n"
     ]
    },
    {
     "name": "stderr",
     "output_type": "stream",
     "text": [
      "\u001b[32m[I 2022-03-26 01:06:44,942]\u001b[0m Trial 142 finished with value: 5.922430472818617 and parameters: {'random_state': 519632, 'learning_rate': 0.12192111081019712, 'bagging_temperature': 4.291363089439699, 'max_depth': 5, 'random_strength': 95, 'l2_leaf_reg': 2.508097709592516e-05, 'min_child_samples': 27, 'max_bin': 216, 'od_type': 'Iter', 'task_type': 'GPU', 'loss_function': 'MAE', 'eval_metric': 'MAE'}. Best is trial 4 with value: 5.9201913472718966.\u001b[0m\n"
     ]
    },
    {
     "name": "stdout",
     "output_type": "stream",
     "text": [
      "MAE of Train: 5.91064581531484\n",
      "MAE of Validation: 5.922430472818617\n"
     ]
    },
    {
     "name": "stderr",
     "output_type": "stream",
     "text": [
      "\u001b[32m[I 2022-03-26 01:06:51,538]\u001b[0m Trial 143 finished with value: 5.947722271763408 and parameters: {'random_state': 519632, 'learning_rate': 0.14399948171256471, 'bagging_temperature': 7.491641833486914, 'max_depth': 5, 'random_strength': 89, 'l2_leaf_reg': 2.6336949165089516e-05, 'min_child_samples': 27, 'max_bin': 217, 'od_type': 'Iter', 'task_type': 'GPU', 'loss_function': 'MAE', 'eval_metric': 'MAE'}. Best is trial 4 with value: 5.9201913472718966.\u001b[0m\n"
     ]
    },
    {
     "name": "stdout",
     "output_type": "stream",
     "text": [
      "MAE of Train: 5.932429925873557\n",
      "MAE of Validation: 5.947722271763408\n"
     ]
    },
    {
     "name": "stderr",
     "output_type": "stream",
     "text": [
      "\u001b[32m[I 2022-03-26 01:06:58,328]\u001b[0m Trial 144 finished with value: 5.936598250708106 and parameters: {'random_state': 519632, 'learning_rate': 0.12204421014466273, 'bagging_temperature': 6.036735948454206, 'max_depth': 5, 'random_strength': 94, 'l2_leaf_reg': 2.3536317983404025e-05, 'min_child_samples': 29, 'max_bin': 224, 'od_type': 'Iter', 'task_type': 'GPU', 'loss_function': 'MAE', 'eval_metric': 'MAE'}. Best is trial 4 with value: 5.9201913472718966.\u001b[0m\n"
     ]
    },
    {
     "name": "stdout",
     "output_type": "stream",
     "text": [
      "MAE of Train: 5.923557500529269\n",
      "MAE of Validation: 5.936598250708106\n"
     ]
    },
    {
     "name": "stderr",
     "output_type": "stream",
     "text": [
      "\u001b[32m[I 2022-03-26 01:07:05,430]\u001b[0m Trial 145 finished with value: 5.922924849460135 and parameters: {'random_state': 519632, 'learning_rate': 0.10135476305993002, 'bagging_temperature': 3.9471637177427685, 'max_depth': 5, 'random_strength': 87, 'l2_leaf_reg': 2.9484713433357216e-05, 'min_child_samples': 34, 'max_bin': 211, 'od_type': 'Iter', 'task_type': 'GPU', 'loss_function': 'MAE', 'eval_metric': 'MAE'}. Best is trial 4 with value: 5.9201913472718966.\u001b[0m\n"
     ]
    },
    {
     "name": "stdout",
     "output_type": "stream",
     "text": [
      "MAE of Train: 5.912548273165299\n",
      "MAE of Validation: 5.922924849460135\n"
     ]
    },
    {
     "name": "stderr",
     "output_type": "stream",
     "text": [
      "\u001b[32m[I 2022-03-26 01:07:12,365]\u001b[0m Trial 146 finished with value: 5.9278064915877415 and parameters: {'random_state': 519632, 'learning_rate': 0.10376700106077354, 'bagging_temperature': 4.9843790303639866, 'max_depth': 5, 'random_strength': 83, 'l2_leaf_reg': 2.9895592863522978e-05, 'min_child_samples': 40, 'max_bin': 230, 'od_type': 'Iter', 'task_type': 'GPU', 'loss_function': 'MAE', 'eval_metric': 'MAE'}. Best is trial 4 with value: 5.9201913472718966.\u001b[0m\n"
     ]
    },
    {
     "name": "stdout",
     "output_type": "stream",
     "text": [
      "MAE of Train: 5.9154248734496795\n",
      "MAE of Validation: 5.9278064915877415\n"
     ]
    },
    {
     "name": "stderr",
     "output_type": "stream",
     "text": [
      "\u001b[32m[I 2022-03-26 01:07:16,402]\u001b[0m Trial 147 finished with value: 5.931939721914735 and parameters: {'random_state': 519632, 'learning_rate': 0.21133505250366644, 'bagging_temperature': 3.2217684629270966, 'max_depth': 5, 'random_strength': 91, 'l2_leaf_reg': 2.8500227804506732e-05, 'min_child_samples': 35, 'max_bin': 213, 'od_type': 'Iter', 'task_type': 'GPU', 'loss_function': 'MAE', 'eval_metric': 'MAE'}. Best is trial 4 with value: 5.9201913472718966.\u001b[0m\n"
     ]
    },
    {
     "name": "stdout",
     "output_type": "stream",
     "text": [
      "MAE of Train: 5.924287253416338\n",
      "MAE of Validation: 5.931939721914735\n"
     ]
    },
    {
     "name": "stderr",
     "output_type": "stream",
     "text": [
      "\u001b[32m[I 2022-03-26 01:07:22,445]\u001b[0m Trial 148 finished with value: 6.271953581187975 and parameters: {'random_state': 519632, 'learning_rate': 0.002931374040870895, 'bagging_temperature': 2.5329977018118357, 'max_depth': 4, 'random_strength': 95, 'l2_leaf_reg': 2.9288208086145802e-05, 'min_child_samples': 16, 'max_bin': 236, 'od_type': 'Iter', 'task_type': 'GPU', 'loss_function': 'MAE', 'eval_metric': 'MAE'}. Best is trial 4 with value: 5.9201913472718966.\u001b[0m\n"
     ]
    },
    {
     "name": "stdout",
     "output_type": "stream",
     "text": [
      "MAE of Train: 6.264218929106843\n",
      "MAE of Validation: 6.271953581187975\n"
     ]
    },
    {
     "name": "stderr",
     "output_type": "stream",
     "text": [
      "\u001b[32m[I 2022-03-26 01:07:29,479]\u001b[0m Trial 149 finished with value: 5.923890880088618 and parameters: {'random_state': 519632, 'learning_rate': 0.17783138696433615, 'bagging_temperature': 3.9048791858966716, 'max_depth': 5, 'random_strength': 50, 'l2_leaf_reg': 2.8121876689876277e-05, 'min_child_samples': 26, 'max_bin': 209, 'od_type': 'Iter', 'task_type': 'GPU', 'loss_function': 'MAE', 'eval_metric': 'MAE'}. Best is trial 4 with value: 5.9201913472718966.\u001b[0m\n"
     ]
    },
    {
     "name": "stdout",
     "output_type": "stream",
     "text": [
      "MAE of Train: 5.913380385264166\n",
      "MAE of Validation: 5.923890880088618\n"
     ]
    },
    {
     "name": "stderr",
     "output_type": "stream",
     "text": [
      "\u001b[32m[I 2022-03-26 01:07:36,395]\u001b[0m Trial 150 finished with value: 5.929554520087238 and parameters: {'random_state': 519632, 'learning_rate': 0.0943798298202842, 'bagging_temperature': 5.382337314342732, 'max_depth': 5, 'random_strength': 84, 'l2_leaf_reg': 2.5265381225294333e-05, 'min_child_samples': 31, 'max_bin': 220, 'od_type': 'Iter', 'task_type': 'GPU', 'loss_function': 'MAE', 'eval_metric': 'MAE'}. Best is trial 4 with value: 5.9201913472718966.\u001b[0m\n"
     ]
    },
    {
     "name": "stdout",
     "output_type": "stream",
     "text": [
      "MAE of Train: 5.91793033282902\n",
      "MAE of Validation: 5.929554520087238\n"
     ]
    },
    {
     "name": "stderr",
     "output_type": "stream",
     "text": [
      "\u001b[32m[I 2022-03-26 01:07:43,332]\u001b[0m Trial 151 finished with value: 5.9237694231408256 and parameters: {'random_state': 519632, 'learning_rate': 0.12088952991133853, 'bagging_temperature': 4.2719765463564014, 'max_depth': 5, 'random_strength': 87, 'l2_leaf_reg': 2.7564421075664126e-05, 'min_child_samples': 28, 'max_bin': 206, 'od_type': 'Iter', 'task_type': 'GPU', 'loss_function': 'MAE', 'eval_metric': 'MAE'}. Best is trial 4 with value: 5.9201913472718966.\u001b[0m\n"
     ]
    },
    {
     "name": "stdout",
     "output_type": "stream",
     "text": [
      "MAE of Train: 5.912962706994002\n",
      "MAE of Validation: 5.9237694231408256\n"
     ]
    },
    {
     "name": "stderr",
     "output_type": "stream",
     "text": [
      "\u001b[32m[I 2022-03-26 01:07:50,138]\u001b[0m Trial 152 finished with value: 5.9301082413484245 and parameters: {'random_state': 519632, 'learning_rate': 0.13997141858193185, 'bagging_temperature': 3.5664780938973455, 'max_depth': 5, 'random_strength': 89, 'l2_leaf_reg': 2.66878403338103e-05, 'min_child_samples': 32, 'max_bin': 215, 'od_type': 'Iter', 'task_type': 'GPU', 'loss_function': 'MAE', 'eval_metric': 'MAE'}. Best is trial 4 with value: 5.9201913472718966.\u001b[0m\n"
     ]
    },
    {
     "name": "stdout",
     "output_type": "stream",
     "text": [
      "MAE of Train: 5.921693230437251\n",
      "MAE of Validation: 5.9301082413484245\n"
     ]
    },
    {
     "name": "stderr",
     "output_type": "stream",
     "text": [
      "\u001b[32m[I 2022-03-26 01:07:57,171]\u001b[0m Trial 153 finished with value: 5.922473301391588 and parameters: {'random_state': 519632, 'learning_rate': 0.08590348315502863, 'bagging_temperature': 4.418397998184674, 'max_depth': 5, 'random_strength': 92, 'l2_leaf_reg': 2.6046780336361515e-05, 'min_child_samples': 23, 'max_bin': 225, 'od_type': 'Iter', 'task_type': 'GPU', 'loss_function': 'MAE', 'eval_metric': 'MAE'}. Best is trial 4 with value: 5.9201913472718966.\u001b[0m\n"
     ]
    },
    {
     "name": "stdout",
     "output_type": "stream",
     "text": [
      "MAE of Train: 5.912606219633748\n",
      "MAE of Validation: 5.922473301391588\n"
     ]
    },
    {
     "name": "stderr",
     "output_type": "stream",
     "text": [
      "\u001b[32m[I 2022-03-26 01:08:02,342]\u001b[0m Trial 154 finished with value: 5.943324955470004 and parameters: {'random_state': 519632, 'learning_rate': 0.08623564925806672, 'bagging_temperature': 2.2449710785439305, 'max_depth': 5, 'random_strength': 92, 'l2_leaf_reg': 2.628358153984031e-05, 'min_child_samples': 23, 'max_bin': 227, 'od_type': 'Iter', 'task_type': 'GPU', 'loss_function': 'MAE', 'eval_metric': 'MAE'}. Best is trial 4 with value: 5.9201913472718966.\u001b[0m\n"
     ]
    },
    {
     "name": "stdout",
     "output_type": "stream",
     "text": [
      "MAE of Train: 5.938159155783238\n",
      "MAE of Validation: 5.943324955470004\n"
     ]
    },
    {
     "name": "stderr",
     "output_type": "stream",
     "text": [
      "\u001b[32m[I 2022-03-26 01:08:09,007]\u001b[0m Trial 155 finished with value: 5.93963285554999 and parameters: {'random_state': 519632, 'learning_rate': 0.10860552820180479, 'bagging_temperature': 6.888531840517684, 'max_depth': 5, 'random_strength': 95, 'l2_leaf_reg': 2.8792309016657066e-05, 'min_child_samples': 17, 'max_bin': 222, 'od_type': 'Iter', 'task_type': 'GPU', 'loss_function': 'MAE', 'eval_metric': 'MAE'}. Best is trial 4 with value: 5.9201913472718966.\u001b[0m\n"
     ]
    },
    {
     "name": "stdout",
     "output_type": "stream",
     "text": [
      "MAE of Train: 5.926973700571503\n",
      "MAE of Validation: 5.93963285554999\n"
     ]
    },
    {
     "name": "stderr",
     "output_type": "stream",
     "text": [
      "\u001b[32m[I 2022-03-26 01:08:16,145]\u001b[0m Trial 156 finished with value: 5.922285406268773 and parameters: {'random_state': 519632, 'learning_rate': 0.09151612054930935, 'bagging_temperature': 2.8748893412048266, 'max_depth': 5, 'random_strength': 85, 'l2_leaf_reg': 2.589692772537786e-05, 'min_child_samples': 21, 'max_bin': 209, 'od_type': 'Iter', 'task_type': 'GPU', 'loss_function': 'MAE', 'eval_metric': 'MAE'}. Best is trial 4 with value: 5.9201913472718966.\u001b[0m\n"
     ]
    },
    {
     "name": "stdout",
     "output_type": "stream",
     "text": [
      "MAE of Train: 5.915502019369978\n",
      "MAE of Validation: 5.922285406268773\n"
     ]
    },
    {
     "name": "stderr",
     "output_type": "stream",
     "text": [
      "\u001b[32m[I 2022-03-26 01:08:19,518]\u001b[0m Trial 157 finished with value: 5.942958503252557 and parameters: {'random_state': 519632, 'learning_rate': 0.17384985297480107, 'bagging_temperature': 3.1407798648073615, 'max_depth': 5, 'random_strength': 93, 'l2_leaf_reg': 2.7163420465916703e-05, 'min_child_samples': 21, 'max_bin': 211, 'od_type': 'Iter', 'task_type': 'GPU', 'loss_function': 'MAE', 'eval_metric': 'MAE'}. Best is trial 4 with value: 5.9201913472718966.\u001b[0m\n"
     ]
    },
    {
     "name": "stdout",
     "output_type": "stream",
     "text": [
      "MAE of Train: 5.937407657476534\n",
      "MAE of Validation: 5.942958503252557\n"
     ]
    },
    {
     "name": "stderr",
     "output_type": "stream",
     "text": [
      "\u001b[32m[I 2022-03-26 01:08:26,495]\u001b[0m Trial 158 finished with value: 5.926853641882804 and parameters: {'random_state': 519632, 'learning_rate': 0.10009518759373146, 'bagging_temperature': 2.6712917114503965, 'max_depth': 5, 'random_strength': 86, 'l2_leaf_reg': 2.5889892326639427e-05, 'min_child_samples': 25, 'max_bin': 231, 'od_type': 'Iter', 'task_type': 'GPU', 'loss_function': 'MAE', 'eval_metric': 'MAE'}. Best is trial 4 with value: 5.9201913472718966.\u001b[0m\n"
     ]
    },
    {
     "name": "stdout",
     "output_type": "stream",
     "text": [
      "MAE of Train: 5.920492142040877\n",
      "MAE of Validation: 5.926853641882804\n"
     ]
    },
    {
     "name": "stderr",
     "output_type": "stream",
     "text": [
      "\u001b[32m[I 2022-03-26 01:08:28,824]\u001b[0m Trial 159 finished with value: 5.991193850207925 and parameters: {'random_state': 519632, 'learning_rate': 0.26220720419917226, 'bagging_temperature': 2.222117721711966, 'max_depth': 4, 'random_strength': 98, 'l2_leaf_reg': 2.8002100581888434e-05, 'min_child_samples': 8, 'max_bin': 217, 'od_type': 'Iter', 'task_type': 'GPU', 'loss_function': 'MAE', 'eval_metric': 'MAE'}. Best is trial 4 with value: 5.9201913472718966.\u001b[0m\n"
     ]
    },
    {
     "name": "stdout",
     "output_type": "stream",
     "text": [
      "MAE of Train: 5.986147415370766\n",
      "MAE of Validation: 5.991193850207925\n"
     ]
    },
    {
     "name": "stderr",
     "output_type": "stream",
     "text": [
      "\u001b[32m[I 2022-03-26 01:08:35,659]\u001b[0m Trial 160 finished with value: 5.932931892814051 and parameters: {'random_state': 519632, 'learning_rate': 0.12943786442629868, 'bagging_temperature': 5.557248714327405, 'max_depth': 5, 'random_strength': 90, 'l2_leaf_reg': 2.6612248342075472e-05, 'min_child_samples': 34, 'max_bin': 206, 'od_type': 'Iter', 'task_type': 'GPU', 'loss_function': 'MAE', 'eval_metric': 'MAE'}. Best is trial 4 with value: 5.9201913472718966.\u001b[0m\n"
     ]
    },
    {
     "name": "stdout",
     "output_type": "stream",
     "text": [
      "MAE of Train: 5.920079777097708\n",
      "MAE of Validation: 5.932931892814051\n"
     ]
    },
    {
     "name": "stderr",
     "output_type": "stream",
     "text": [
      "\u001b[32m[I 2022-03-26 01:08:42,485]\u001b[0m Trial 161 finished with value: 5.929995854316272 and parameters: {'random_state': 519632, 'learning_rate': 0.0833623241468956, 'bagging_temperature': 4.042024028957934, 'max_depth': 5, 'random_strength': 84, 'l2_leaf_reg': 2.4893878441726054e-05, 'min_child_samples': 26, 'max_bin': 211, 'od_type': 'Iter', 'task_type': 'GPU', 'loss_function': 'MAE', 'eval_metric': 'MAE'}. Best is trial 4 with value: 5.9201913472718966.\u001b[0m\n"
     ]
    },
    {
     "name": "stdout",
     "output_type": "stream",
     "text": [
      "MAE of Train: 5.9227145929673135\n",
      "MAE of Validation: 5.929995854316272\n"
     ]
    },
    {
     "name": "stderr",
     "output_type": "stream",
     "text": [
      "\u001b[32m[I 2022-03-26 01:08:49,432]\u001b[0m Trial 162 finished with value: 5.928454449603345 and parameters: {'random_state': 519632, 'learning_rate': 0.11135182472572713, 'bagging_temperature': 4.878541696615507, 'max_depth': 5, 'random_strength': 93, 'l2_leaf_reg': 2.6043001883397282e-05, 'min_child_samples': 13, 'max_bin': 223, 'od_type': 'Iter', 'task_type': 'GPU', 'loss_function': 'MAE', 'eval_metric': 'MAE'}. Best is trial 4 with value: 5.9201913472718966.\u001b[0m\n"
     ]
    },
    {
     "name": "stdout",
     "output_type": "stream",
     "text": [
      "MAE of Train: 5.915587136537195\n",
      "MAE of Validation: 5.928454449603345\n"
     ]
    },
    {
     "name": "stderr",
     "output_type": "stream",
     "text": [
      "\u001b[32m[I 2022-03-26 01:08:56,748]\u001b[0m Trial 163 finished with value: 5.91810549344704 and parameters: {'random_state': 519632, 'learning_rate': 0.09352703259023801, 'bagging_temperature': 3.018812615865251, 'max_depth': 5, 'random_strength': 96, 'l2_leaf_reg': 2.9434792970377895e-05, 'min_child_samples': 22, 'max_bin': 454, 'od_type': 'Iter', 'task_type': 'GPU', 'loss_function': 'MAE', 'eval_metric': 'MAE'}. Best is trial 163 with value: 5.91810549344704.\u001b[0m\n"
     ]
    },
    {
     "name": "stdout",
     "output_type": "stream",
     "text": [
      "MAE of Train: 5.9098014541039925\n",
      "MAE of Validation: 5.91810549344704\n"
     ]
    },
    {
     "name": "stderr",
     "output_type": "stream",
     "text": [
      "\u001b[32m[I 2022-03-26 01:09:02,032]\u001b[0m Trial 164 finished with value: 5.925715037040233 and parameters: {'random_state': 519632, 'learning_rate': 0.09225752169737933, 'bagging_temperature': 2.994902683586734, 'max_depth': 5, 'random_strength': 95, 'l2_leaf_reg': 2.944886937253699e-05, 'min_child_samples': 23, 'max_bin': 402, 'od_type': 'Iter', 'task_type': 'GPU', 'loss_function': 'MAE', 'eval_metric': 'MAE'}. Best is trial 163 with value: 5.91810549344704.\u001b[0m\n"
     ]
    },
    {
     "name": "stdout",
     "output_type": "stream",
     "text": [
      "MAE of Train: 5.918762606002527\n",
      "MAE of Validation: 5.925715037040233\n"
     ]
    },
    {
     "name": "stderr",
     "output_type": "stream",
     "text": [
      "\u001b[32m[I 2022-03-26 01:09:07,099]\u001b[0m Trial 165 finished with value: 5.9261635371012025 and parameters: {'random_state': 519632, 'learning_rate': 0.1194422462057746, 'bagging_temperature': 3.6310315757217175, 'max_depth': 5, 'random_strength': 96, 'l2_leaf_reg': 2.8621990128779963e-05, 'min_child_samples': 21, 'max_bin': 455, 'od_type': 'Iter', 'task_type': 'GPU', 'loss_function': 'MAE', 'eval_metric': 'MAE'}. Best is trial 163 with value: 5.91810549344704.\u001b[0m\n"
     ]
    },
    {
     "name": "stdout",
     "output_type": "stream",
     "text": [
      "MAE of Train: 5.919596278161294\n",
      "MAE of Validation: 5.9261635371012025\n"
     ]
    },
    {
     "name": "stderr",
     "output_type": "stream",
     "text": [
      "\u001b[32m[I 2022-03-26 01:09:11,833]\u001b[0m Trial 166 finished with value: 5.934618127899158 and parameters: {'random_state': 519632, 'learning_rate': 0.15242700289230862, 'bagging_temperature': 2.6075131661108157, 'max_depth': 5, 'random_strength': 91, 'l2_leaf_reg': 2.9955386575855372e-05, 'min_child_samples': 38, 'max_bin': 476, 'od_type': 'Iter', 'task_type': 'GPU', 'loss_function': 'MAE', 'eval_metric': 'MAE'}. Best is trial 163 with value: 5.91810549344704.\u001b[0m\n"
     ]
    },
    {
     "name": "stdout",
     "output_type": "stream",
     "text": [
      "MAE of Train: 5.929255031580074\n",
      "MAE of Validation: 5.934618127899158\n"
     ]
    },
    {
     "name": "stderr",
     "output_type": "stream",
     "text": [
      "\u001b[32m[I 2022-03-26 01:09:18,725]\u001b[0m Trial 167 finished with value: 5.930838485853508 and parameters: {'random_state': 519632, 'learning_rate': 0.06298684059240632, 'bagging_temperature': 3.358690096301112, 'max_depth': 5, 'random_strength': 98, 'l2_leaf_reg': 2.6977525714017897e-05, 'min_child_samples': 31, 'max_bin': 217, 'od_type': 'Iter', 'task_type': 'GPU', 'loss_function': 'MAE', 'eval_metric': 'MAE'}. Best is trial 163 with value: 5.91810549344704.\u001b[0m\n"
     ]
    },
    {
     "name": "stdout",
     "output_type": "stream",
     "text": [
      "MAE of Train: 5.924962982026437\n",
      "MAE of Validation: 5.930838485853508\n"
     ]
    },
    {
     "name": "stderr",
     "output_type": "stream",
     "text": [
      "\u001b[32m[I 2022-03-26 01:09:24,970]\u001b[0m Trial 168 finished with value: 7.850264830911368 and parameters: {'random_state': 519632, 'learning_rate': 0.0011159387734574577, 'bagging_temperature': 4.558657517911247, 'max_depth': 5, 'random_strength': 88, 'l2_leaf_reg': 2.7721464089526318e-05, 'min_child_samples': 27, 'max_bin': 384, 'od_type': 'Iter', 'task_type': 'GPU', 'loss_function': 'MAE', 'eval_metric': 'MAE'}. Best is trial 163 with value: 5.91810549344704.\u001b[0m\n"
     ]
    },
    {
     "name": "stdout",
     "output_type": "stream",
     "text": [
      "MAE of Train: 7.83863930716937\n",
      "MAE of Validation: 7.850264830911368\n"
     ]
    },
    {
     "name": "stderr",
     "output_type": "stream",
     "text": [
      "\u001b[32m[I 2022-03-26 01:09:31,658]\u001b[0m Trial 169 finished with value: 5.947919173223538 and parameters: {'random_state': 519632, 'learning_rate': 0.21888733105200145, 'bagging_temperature': 6.356219408921996, 'max_depth': 5, 'random_strength': 59, 'l2_leaf_reg': 2.9047774086539847e-05, 'min_child_samples': 35, 'max_bin': 205, 'od_type': 'Iter', 'task_type': 'GPU', 'loss_function': 'MAE', 'eval_metric': 'MAE'}. Best is trial 163 with value: 5.91810549344704.\u001b[0m\n"
     ]
    },
    {
     "name": "stdout",
     "output_type": "stream",
     "text": [
      "MAE of Train: 5.927219470862871\n",
      "MAE of Validation: 5.947919173223538\n"
     ]
    },
    {
     "name": "stderr",
     "output_type": "stream",
     "text": [
      "\u001b[32m[I 2022-03-26 01:09:35,341]\u001b[0m Trial 170 finished with value: 5.939249053924361 and parameters: {'random_state': 519632, 'learning_rate': 0.09887375818378798, 'bagging_temperature': 2.139527217759909, 'max_depth': 5, 'random_strength': 92, 'l2_leaf_reg': 2.8137211533713535e-05, 'min_child_samples': 24, 'max_bin': 444, 'od_type': 'Iter', 'task_type': 'GPU', 'loss_function': 'MAE', 'eval_metric': 'MAE'}. Best is trial 163 with value: 5.91810549344704.\u001b[0m\n"
     ]
    },
    {
     "name": "stdout",
     "output_type": "stream",
     "text": [
      "MAE of Train: 5.934193336565689\n",
      "MAE of Validation: 5.939249053924361\n"
     ]
    },
    {
     "name": "stderr",
     "output_type": "stream",
     "text": [
      "\u001b[32m[I 2022-03-26 01:09:42,526]\u001b[0m Trial 171 finished with value: 5.9224055027773455 and parameters: {'random_state': 519632, 'learning_rate': 0.08475727480700784, 'bagging_temperature': 4.469352848371165, 'max_depth': 5, 'random_strength': 86, 'l2_leaf_reg': 2.5473470205719838e-05, 'min_child_samples': 21, 'max_bin': 423, 'od_type': 'Iter', 'task_type': 'GPU', 'loss_function': 'MAE', 'eval_metric': 'MAE'}. Best is trial 163 with value: 5.91810549344704.\u001b[0m\n"
     ]
    },
    {
     "name": "stdout",
     "output_type": "stream",
     "text": [
      "MAE of Train: 5.913182852306399\n",
      "MAE of Validation: 5.9224055027773455\n"
     ]
    },
    {
     "name": "stderr",
     "output_type": "stream",
     "text": [
      "\u001b[32m[I 2022-03-26 01:09:49,604]\u001b[0m Trial 172 finished with value: 5.925690572878905 and parameters: {'random_state': 519632, 'learning_rate': 0.080367279400541, 'bagging_temperature': 3.070950586771396, 'max_depth': 5, 'random_strength': 86, 'l2_leaf_reg': 2.594895257515107e-05, 'min_child_samples': 20, 'max_bin': 211, 'od_type': 'Iter', 'task_type': 'GPU', 'loss_function': 'MAE', 'eval_metric': 'MAE'}. Best is trial 163 with value: 5.91810549344704.\u001b[0m\n"
     ]
    },
    {
     "name": "stdout",
     "output_type": "stream",
     "text": [
      "MAE of Train: 5.918638019334015\n",
      "MAE of Validation: 5.925690572878905\n"
     ]
    },
    {
     "name": "stderr",
     "output_type": "stream",
     "text": [
      "\u001b[32m[I 2022-03-26 01:09:56,822]\u001b[0m Trial 173 finished with value: 5.923417945167308 and parameters: {'random_state': 519632, 'learning_rate': 0.12429031442132335, 'bagging_temperature': 4.003755684907684, 'max_depth': 5, 'random_strength': 90, 'l2_leaf_reg': 2.526293556692841e-05, 'min_child_samples': 28, 'max_bin': 456, 'od_type': 'Iter', 'task_type': 'GPU', 'loss_function': 'MAE', 'eval_metric': 'MAE'}. Best is trial 163 with value: 5.91810549344704.\u001b[0m\n"
     ]
    },
    {
     "name": "stdout",
     "output_type": "stream",
     "text": [
      "MAE of Train: 5.911903658335104\n",
      "MAE of Validation: 5.923417945167308\n"
     ]
    },
    {
     "name": "stderr",
     "output_type": "stream",
     "text": [
      "\u001b[32m[I 2022-03-26 01:10:03,820]\u001b[0m Trial 174 finished with value: 5.931368516531539 and parameters: {'random_state': 519632, 'learning_rate': 0.09068891420357902, 'bagging_temperature': 5.535324773264335, 'max_depth': 5, 'random_strength': 87, 'l2_leaf_reg': 2.7478617424453246e-05, 'min_child_samples': 25, 'max_bin': 425, 'od_type': 'Iter', 'task_type': 'GPU', 'loss_function': 'MAE', 'eval_metric': 'MAE'}. Best is trial 163 with value: 5.91810549344704.\u001b[0m\n"
     ]
    },
    {
     "name": "stdout",
     "output_type": "stream",
     "text": [
      "MAE of Train: 5.919493366213109\n",
      "MAE of Validation: 5.931368516531539\n"
     ]
    },
    {
     "name": "stderr",
     "output_type": "stream",
     "text": [
      "\u001b[32m[I 2022-03-26 01:10:09,873]\u001b[0m Trial 175 finished with value: 5.928705539595053 and parameters: {'random_state': 519632, 'learning_rate': 0.16191926767188747, 'bagging_temperature': 3.554787461455376, 'max_depth': 5, 'random_strength': 93, 'l2_leaf_reg': 2.6798655344819447e-05, 'min_child_samples': 33, 'max_bin': 496, 'od_type': 'Iter', 'task_type': 'GPU', 'loss_function': 'MAE', 'eval_metric': 'MAE'}. Best is trial 163 with value: 5.91810549344704.\u001b[0m\n"
     ]
    },
    {
     "name": "stdout",
     "output_type": "stream",
     "text": [
      "MAE of Train: 5.919509240211425\n",
      "MAE of Validation: 5.928705539595053\n"
     ]
    },
    {
     "name": "stderr",
     "output_type": "stream",
     "text": [
      "\u001b[32m[I 2022-03-26 01:10:16,812]\u001b[0m Trial 176 finished with value: 5.924402159339123 and parameters: {'random_state': 519632, 'learning_rate': 0.05902715733071153, 'bagging_temperature': 4.572261061783379, 'max_depth': 4, 'random_strength': 96, 'l2_leaf_reg': 2.9311552149615188e-05, 'min_child_samples': 22, 'max_bin': 430, 'od_type': 'Iter', 'task_type': 'GPU', 'loss_function': 'MAE', 'eval_metric': 'MAE'}. Best is trial 163 with value: 5.91810549344704.\u001b[0m\n"
     ]
    },
    {
     "name": "stdout",
     "output_type": "stream",
     "text": [
      "MAE of Train: 5.9208073619859185\n",
      "MAE of Validation: 5.924402159339123\n"
     ]
    },
    {
     "name": "stderr",
     "output_type": "stream",
     "text": [
      "\u001b[32m[I 2022-03-26 01:10:23,307]\u001b[0m Trial 177 finished with value: 5.94812718241768 and parameters: {'random_state': 519632, 'learning_rate': 0.11007219655713794, 'bagging_temperature': 8.354288491652358, 'max_depth': 5, 'random_strength': 100, 'l2_leaf_reg': 2.566219723191605e-05, 'min_child_samples': 15, 'max_bin': 227, 'od_type': 'Iter', 'task_type': 'GPU', 'loss_function': 'MAE', 'eval_metric': 'MAE'}. Best is trial 163 with value: 5.91810549344704.\u001b[0m\n"
     ]
    },
    {
     "name": "stdout",
     "output_type": "stream",
     "text": [
      "MAE of Train: 5.935752341343218\n",
      "MAE of Validation: 5.94812718241768\n"
     ]
    },
    {
     "name": "stderr",
     "output_type": "stream",
     "text": [
      "\u001b[32m[I 2022-03-26 01:10:29,688]\u001b[0m Trial 178 finished with value: 5.923255629102895 and parameters: {'random_state': 519632, 'learning_rate': 0.18981120441382102, 'bagging_temperature': 2.7323410667317596, 'max_depth': 5, 'random_strength': 89, 'l2_leaf_reg': 2.46676534987161e-05, 'min_child_samples': 30, 'max_bin': 215, 'od_type': 'Iter', 'task_type': 'GPU', 'loss_function': 'MAE', 'eval_metric': 'MAE'}. Best is trial 163 with value: 5.91810549344704.\u001b[0m\n"
     ]
    },
    {
     "name": "stdout",
     "output_type": "stream",
     "text": [
      "MAE of Train: 5.916965985281164\n",
      "MAE of Validation: 5.923255629102895\n"
     ]
    },
    {
     "name": "stderr",
     "output_type": "stream",
     "text": [
      "\u001b[32m[I 2022-03-26 01:10:31,554]\u001b[0m Trial 179 finished with value: 5.958418159422869 and parameters: {'random_state': 519632, 'learning_rate': 0.20268132893218976, 'bagging_temperature': 0.012821102260081915, 'max_depth': 5, 'random_strength': 90, 'l2_leaf_reg': 2.471678586644175e-05, 'min_child_samples': 30, 'max_bin': 477, 'od_type': 'Iter', 'task_type': 'GPU', 'loss_function': 'MAE', 'eval_metric': 'MAE'}. Best is trial 163 with value: 5.91810549344704.\u001b[0m\n"
     ]
    },
    {
     "name": "stdout",
     "output_type": "stream",
     "text": [
      "MAE of Train: 5.952413829141171\n",
      "MAE of Validation: 5.958418159422869\n"
     ]
    },
    {
     "name": "stderr",
     "output_type": "stream",
     "text": [
      "\u001b[32m[I 2022-03-26 01:10:35,437]\u001b[0m Trial 180 finished with value: 5.948219471329608 and parameters: {'random_state': 519632, 'learning_rate': 0.2422169139903823, 'bagging_temperature': 2.6459969850077396, 'max_depth': 6, 'random_strength': 84, 'l2_leaf_reg': 2.4377610698610744e-05, 'min_child_samples': 18, 'max_bin': 218, 'od_type': 'Iter', 'task_type': 'GPU', 'loss_function': 'MAE', 'eval_metric': 'MAE'}. Best is trial 163 with value: 5.91810549344704.\u001b[0m\n"
     ]
    },
    {
     "name": "stdout",
     "output_type": "stream",
     "text": [
      "MAE of Train: 5.941031086250346\n",
      "MAE of Validation: 5.948219471329608\n"
     ]
    },
    {
     "name": "stderr",
     "output_type": "stream",
     "text": [
      "\u001b[32m[I 2022-03-26 01:10:41,097]\u001b[0m Trial 181 finished with value: 5.940179102651774 and parameters: {'random_state': 519632, 'learning_rate': 0.17802504480780323, 'bagging_temperature': 2.958960791402189, 'max_depth': 5, 'random_strength': 88, 'l2_leaf_reg': 2.649627854579601e-05, 'min_child_samples': 28, 'max_bin': 211, 'od_type': 'Iter', 'task_type': 'GPU', 'loss_function': 'MAE', 'eval_metric': 'MAE'}. Best is trial 163 with value: 5.91810549344704.\u001b[0m\n"
     ]
    },
    {
     "name": "stdout",
     "output_type": "stream",
     "text": [
      "MAE of Train: 5.934931109216169\n",
      "MAE of Validation: 5.940179102651774\n"
     ]
    },
    {
     "name": "stderr",
     "output_type": "stream",
     "text": [
      "\u001b[32m[I 2022-03-26 01:10:48,151]\u001b[0m Trial 182 finished with value: 5.9223168176960455 and parameters: {'random_state': 519632, 'learning_rate': 0.13031497817983567, 'bagging_temperature': 3.8287481726603234, 'max_depth': 5, 'random_strength': 92, 'l2_leaf_reg': 2.7211584287994887e-05, 'min_child_samples': 26, 'max_bin': 205, 'od_type': 'Iter', 'task_type': 'GPU', 'loss_function': 'MAE', 'eval_metric': 'MAE'}. Best is trial 163 with value: 5.91810549344704.\u001b[0m\n"
     ]
    },
    {
     "name": "stdout",
     "output_type": "stream",
     "text": [
      "MAE of Train: 5.911463807542426\n",
      "MAE of Validation: 5.9223168176960455\n"
     ]
    },
    {
     "name": "stderr",
     "output_type": "stream",
     "text": [
      "\u001b[32m[I 2022-03-26 01:10:54,336]\u001b[0m Trial 183 finished with value: 12.935711506234302 and parameters: {'random_state': 519632, 'learning_rate': 0.00010061043363532464, 'bagging_temperature': 4.180643471751359, 'max_depth': 5, 'random_strength': 92, 'l2_leaf_reg': 2.5181176213798427e-05, 'min_child_samples': 25, 'max_bin': 200, 'od_type': 'Iter', 'task_type': 'GPU', 'loss_function': 'MAE', 'eval_metric': 'MAE'}. Best is trial 163 with value: 5.91810549344704.\u001b[0m\n"
     ]
    },
    {
     "name": "stdout",
     "output_type": "stream",
     "text": [
      "MAE of Train: 12.925527199506162\n",
      "MAE of Validation: 12.935711506234302\n"
     ]
    },
    {
     "name": "stderr",
     "output_type": "stream",
     "text": [
      "\u001b[32m[I 2022-03-26 01:11:00,221]\u001b[0m Trial 184 finished with value: 5.929783607908233 and parameters: {'random_state': 519632, 'learning_rate': 0.1335154056067368, 'bagging_temperature': 5.22203899055693, 'max_depth': 5, 'random_strength': 94, 'l2_leaf_reg': 2.8475261168655937e-05, 'min_child_samples': 23, 'max_bin': 206, 'od_type': 'Iter', 'task_type': 'GPU', 'loss_function': 'MAE', 'eval_metric': 'MAE'}. Best is trial 163 with value: 5.91810549344704.\u001b[0m\n"
     ]
    },
    {
     "name": "stdout",
     "output_type": "stream",
     "text": [
      "MAE of Train: 5.916723928851722\n",
      "MAE of Validation: 5.929783607908233\n"
     ]
    },
    {
     "name": "stderr",
     "output_type": "stream",
     "text": [
      "\u001b[32m[I 2022-03-26 01:11:06,322]\u001b[0m Trial 185 finished with value: 5.92475264932368 and parameters: {'random_state': 519632, 'learning_rate': 0.10178693900885481, 'bagging_temperature': 3.7037023739903083, 'max_depth': 5, 'random_strength': 89, 'l2_leaf_reg': 2.6111424727254416e-05, 'min_child_samples': 27, 'max_bin': 221, 'od_type': 'Iter', 'task_type': 'GPU', 'loss_function': 'MAE', 'eval_metric': 'MAE'}. Best is trial 163 with value: 5.91810549344704.\u001b[0m\n"
     ]
    },
    {
     "name": "stdout",
     "output_type": "stream",
     "text": [
      "MAE of Train: 5.916301882133308\n",
      "MAE of Validation: 5.92475264932368\n"
     ]
    },
    {
     "name": "stderr",
     "output_type": "stream",
     "text": [
      "\u001b[32m[I 2022-03-26 01:11:13,365]\u001b[0m Trial 186 finished with value: 5.926965846023905 and parameters: {'random_state': 519632, 'learning_rate': 0.07386237922149214, 'bagging_temperature': 2.335496338055478, 'max_depth': 5, 'random_strength': 91, 'l2_leaf_reg': 2.7147645325438292e-05, 'min_child_samples': 51, 'max_bin': 214, 'od_type': 'Iter', 'task_type': 'GPU', 'loss_function': 'MAE', 'eval_metric': 'MAE'}. Best is trial 163 with value: 5.91810549344704.\u001b[0m\n"
     ]
    },
    {
     "name": "stdout",
     "output_type": "stream",
     "text": [
      "MAE of Train: 5.920938290092213\n",
      "MAE of Validation: 5.926965846023905\n"
     ]
    },
    {
     "name": "stderr",
     "output_type": "stream",
     "text": [
      "\u001b[32m[I 2022-03-26 01:11:17,665]\u001b[0m Trial 187 finished with value: 5.940245717346135 and parameters: {'random_state': 519632, 'learning_rate': 0.13403183861137297, 'bagging_temperature': 1.7414672359164896, 'max_depth': 5, 'random_strength': 85, 'l2_leaf_reg': 2.8196131299869596e-05, 'min_child_samples': 30, 'max_bin': 204, 'od_type': 'Iter', 'task_type': 'GPU', 'loss_function': 'MAE', 'eval_metric': 'MAE'}. Best is trial 163 with value: 5.91810549344704.\u001b[0m\n"
     ]
    },
    {
     "name": "stdout",
     "output_type": "stream",
     "text": [
      "MAE of Train: 5.9339710892031095\n",
      "MAE of Validation: 5.940245717346135\n"
     ]
    },
    {
     "name": "stderr",
     "output_type": "stream",
     "text": [
      "\u001b[32m[I 2022-03-26 01:11:24,426]\u001b[0m Trial 188 finished with value: 5.93656037001684 and parameters: {'random_state': 519632, 'learning_rate': 0.11172299756275428, 'bagging_temperature': 6.0677895805939634, 'max_depth': 5, 'random_strength': 96, 'l2_leaf_reg': 2.7531555290476284e-05, 'min_child_samples': 20, 'max_bin': 223, 'od_type': 'Iter', 'task_type': 'GPU', 'loss_function': 'MAE', 'eval_metric': 'MAE'}. Best is trial 163 with value: 5.91810549344704.\u001b[0m\n"
     ]
    },
    {
     "name": "stdout",
     "output_type": "stream",
     "text": [
      "MAE of Train: 5.924384708324472\n",
      "MAE of Validation: 5.93656037001684\n"
     ]
    },
    {
     "name": "stderr",
     "output_type": "stream",
     "text": [
      "\u001b[32m[I 2022-03-26 01:11:31,285]\u001b[0m Trial 189 finished with value: 5.926106603053221 and parameters: {'random_state': 519632, 'learning_rate': 0.0857656235582356, 'bagging_temperature': 4.539248088715161, 'max_depth': 4, 'random_strength': 87, 'l2_leaf_reg': 1.4001775968280406e-05, 'min_child_samples': 26, 'max_bin': 216, 'od_type': 'Iter', 'task_type': 'GPU', 'loss_function': 'MAE', 'eval_metric': 'MAE'}. Best is trial 163 with value: 5.91810549344704.\u001b[0m\n"
     ]
    },
    {
     "name": "stdout",
     "output_type": "stream",
     "text": [
      "MAE of Train: 5.918634915057829\n",
      "MAE of Validation: 5.926106603053221\n"
     ]
    },
    {
     "name": "stderr",
     "output_type": "stream",
     "text": [
      "\u001b[32m[I 2022-03-26 01:11:36,233]\u001b[0m Trial 190 finished with value: 5.9327883912231885 and parameters: {'random_state': 519632, 'learning_rate': 0.14747961010415808, 'bagging_temperature': 2.7414594190739954, 'max_depth': 5, 'random_strength': 93, 'l2_leaf_reg': 2.5797689617808293e-05, 'min_child_samples': 22, 'max_bin': 234, 'od_type': 'Iter', 'task_type': 'GPU', 'loss_function': 'MAE', 'eval_metric': 'MAE'}. Best is trial 163 with value: 5.91810549344704.\u001b[0m\n"
     ]
    },
    {
     "name": "stdout",
     "output_type": "stream",
     "text": [
      "MAE of Train: 5.925693195235683\n",
      "MAE of Validation: 5.9327883912231885\n"
     ]
    },
    {
     "name": "stderr",
     "output_type": "stream",
     "text": [
      "\u001b[32m[I 2022-03-26 01:11:42,105]\u001b[0m Trial 191 finished with value: 5.929412600584765 and parameters: {'random_state': 519632, 'learning_rate': 0.17912736534923823, 'bagging_temperature': 3.28966105039425, 'max_depth': 5, 'random_strength': 89, 'l2_leaf_reg': 2.6638519149669564e-05, 'min_child_samples': 33, 'max_bin': 210, 'od_type': 'Iter', 'task_type': 'GPU', 'loss_function': 'MAE', 'eval_metric': 'MAE'}. Best is trial 163 with value: 5.91810549344704.\u001b[0m\n"
     ]
    },
    {
     "name": "stdout",
     "output_type": "stream",
     "text": [
      "MAE of Train: 5.921400218712275\n",
      "MAE of Validation: 5.929412600584765\n"
     ]
    },
    {
     "name": "stderr",
     "output_type": "stream",
     "text": [
      "\u001b[32m[I 2022-03-26 01:11:49,205]\u001b[0m Trial 192 finished with value: 5.921307466461126 and parameters: {'random_state': 519632, 'learning_rate': 0.12382432735073763, 'bagging_temperature': 3.7765224089556475, 'max_depth': 5, 'random_strength': 91, 'l2_leaf_reg': 2.7089407807184974e-05, 'min_child_samples': 31, 'max_bin': 209, 'od_type': 'Iter', 'task_type': 'GPU', 'loss_function': 'MAE', 'eval_metric': 'MAE'}. Best is trial 163 with value: 5.91810549344704.\u001b[0m\n"
     ]
    },
    {
     "name": "stdout",
     "output_type": "stream",
     "text": [
      "MAE of Train: 5.910921907114407\n",
      "MAE of Validation: 5.921307466461126\n"
     ]
    },
    {
     "name": "stderr",
     "output_type": "stream",
     "text": [
      "\u001b[32m[I 2022-03-26 01:11:56,270]\u001b[0m Trial 193 finished with value: 5.9219914206631765 and parameters: {'random_state': 519632, 'learning_rate': 0.12054086608796001, 'bagging_temperature': 3.99526191062107, 'max_depth': 5, 'random_strength': 94, 'l2_leaf_reg': 2.877930128558831e-05, 'min_child_samples': 29, 'max_bin': 207, 'od_type': 'Iter', 'task_type': 'GPU', 'loss_function': 'MAE', 'eval_metric': 'MAE'}. Best is trial 163 with value: 5.91810549344704.\u001b[0m\n"
     ]
    },
    {
     "name": "stdout",
     "output_type": "stream",
     "text": [
      "MAE of Train: 5.911611815085132\n",
      "MAE of Validation: 5.9219914206631765\n"
     ]
    },
    {
     "name": "stderr",
     "output_type": "stream",
     "text": [
      "\u001b[32m[I 2022-03-26 01:12:03,248]\u001b[0m Trial 194 finished with value: 5.922988578370556 and parameters: {'random_state': 519632, 'learning_rate': 0.09717521607262143, 'bagging_temperature': 3.9367542915905, 'max_depth': 5, 'random_strength': 98, 'l2_leaf_reg': 2.8838869303921162e-05, 'min_child_samples': 24, 'max_bin': 208, 'od_type': 'Iter', 'task_type': 'GPU', 'loss_function': 'MAE', 'eval_metric': 'MAE'}. Best is trial 163 with value: 5.91810549344704.\u001b[0m\n"
     ]
    },
    {
     "name": "stdout",
     "output_type": "stream",
     "text": [
      "MAE of Train: 5.914785697786207\n",
      "MAE of Validation: 5.922988578370556\n"
     ]
    },
    {
     "name": "stderr",
     "output_type": "stream",
     "text": [
      "\u001b[32m[I 2022-03-26 01:12:10,145]\u001b[0m Trial 195 finished with value: 5.928403221317273 and parameters: {'random_state': 519632, 'learning_rate': 0.095242982049922, 'bagging_temperature': 5.222361919396486, 'max_depth': 5, 'random_strength': 98, 'l2_leaf_reg': 1.0480782728335073e-05, 'min_child_samples': 24, 'max_bin': 200, 'od_type': 'Iter', 'task_type': 'GPU', 'loss_function': 'MAE', 'eval_metric': 'MAE'}. Best is trial 163 with value: 5.91810549344704.\u001b[0m\n"
     ]
    },
    {
     "name": "stdout",
     "output_type": "stream",
     "text": [
      "MAE of Train: 5.916261281427554\n",
      "MAE of Validation: 5.928403221317273\n"
     ]
    },
    {
     "name": "stderr",
     "output_type": "stream",
     "text": [
      "\u001b[32m[I 2022-03-26 01:12:17,286]\u001b[0m Trial 196 finished with value: 5.924355901600389 and parameters: {'random_state': 519632, 'learning_rate': 0.0689194761302909, 'bagging_temperature': 3.722250882039071, 'max_depth': 5, 'random_strength': 96, 'l2_leaf_reg': 2.9456699535396237e-05, 'min_child_samples': 20, 'max_bin': 205, 'od_type': 'Iter', 'task_type': 'GPU', 'loss_function': 'MAE', 'eval_metric': 'MAE'}. Best is trial 163 with value: 5.91810549344704.\u001b[0m\n"
     ]
    },
    {
     "name": "stdout",
     "output_type": "stream",
     "text": [
      "MAE of Train: 5.916952436369016\n",
      "MAE of Validation: 5.924355901600389\n"
     ]
    },
    {
     "name": "stderr",
     "output_type": "stream",
     "text": [
      "\u001b[32m[I 2022-03-26 01:12:24,087]\u001b[0m Trial 197 finished with value: 5.938903459894671 and parameters: {'random_state': 519632, 'learning_rate': 0.12093896516029128, 'bagging_temperature': 6.924590537439562, 'max_depth': 5, 'random_strength': 94, 'l2_leaf_reg': 2.9023000821211957e-05, 'min_child_samples': 26, 'max_bin': 410, 'od_type': 'Iter', 'task_type': 'GPU', 'loss_function': 'MAE', 'eval_metric': 'MAE'}. Best is trial 163 with value: 5.91810549344704.\u001b[0m\n"
     ]
    },
    {
     "name": "stdout",
     "output_type": "stream",
     "text": [
      "MAE of Train: 5.926542048412796\n",
      "MAE of Validation: 5.938903459894671\n"
     ]
    },
    {
     "name": "stderr",
     "output_type": "stream",
     "text": [
      "\u001b[32m[I 2022-03-26 01:12:31,157]\u001b[0m Trial 198 finished with value: 5.92324827270371 and parameters: {'random_state': 519632, 'learning_rate': 0.08201540309203058, 'bagging_temperature': 3.886503727097078, 'max_depth': 5, 'random_strength': 99, 'l2_leaf_reg': 2.8357793181605313e-05, 'min_child_samples': 36, 'max_bin': 220, 'od_type': 'Iter', 'task_type': 'GPU', 'loss_function': 'MAE', 'eval_metric': 'MAE'}. Best is trial 163 with value: 5.91810549344704.\u001b[0m\n"
     ]
    },
    {
     "name": "stdout",
     "output_type": "stream",
     "text": [
      "MAE of Train: 5.914472172378777\n",
      "MAE of Validation: 5.92324827270371\n"
     ]
    },
    {
     "name": "stderr",
     "output_type": "stream",
     "text": [
      "\u001b[32m[I 2022-03-26 01:12:38,133]\u001b[0m Trial 199 finished with value: 5.926490697786318 and parameters: {'random_state': 519632, 'learning_rate': 0.1223933633348754, 'bagging_temperature': 4.761173643991866, 'max_depth': 5, 'random_strength': 96, 'l2_leaf_reg': 8.473489422660848e-06, 'min_child_samples': 22, 'max_bin': 208, 'od_type': 'Iter', 'task_type': 'GPU', 'loss_function': 'MAE', 'eval_metric': 'MAE'}. Best is trial 163 with value: 5.91810549344704.\u001b[0m\n"
     ]
    },
    {
     "name": "stdout",
     "output_type": "stream",
     "text": [
      "MAE of Train: 5.913527316810139\n",
      "MAE of Validation: 5.926490697786318\n"
     ]
    },
    {
     "name": "stderr",
     "output_type": "stream",
     "text": [
      "\u001b[32m[I 2022-03-26 01:12:44,987]\u001b[0m Trial 200 finished with value: 12.551768594741079 and parameters: {'random_state': 519632, 'learning_rate': 0.00014394544328290355, 'bagging_temperature': 3.1875171630798023, 'max_depth': 6, 'random_strength': 92, 'l2_leaf_reg': 2.882745731436824e-05, 'min_child_samples': 31, 'max_bin': 461, 'od_type': 'Iter', 'task_type': 'GPU', 'loss_function': 'MAE', 'eval_metric': 'MAE'}. Best is trial 163 with value: 5.91810549344704.\u001b[0m\n"
     ]
    },
    {
     "name": "stdout",
     "output_type": "stream",
     "text": [
      "MAE of Train: 12.540827546690732\n",
      "MAE of Validation: 12.551768594741079\n"
     ]
    },
    {
     "name": "stderr",
     "output_type": "stream",
     "text": [
      "\u001b[32m[I 2022-03-26 01:12:52,077]\u001b[0m Trial 201 finished with value: 5.922857225652449 and parameters: {'random_state': 519632, 'learning_rate': 0.09558323412855005, 'bagging_temperature': 4.253002912883785, 'max_depth': 5, 'random_strength': 94, 'l2_leaf_reg': 1.5500796318861387e-05, 'min_child_samples': 28, 'max_bin': 210, 'od_type': 'Iter', 'task_type': 'GPU', 'loss_function': 'MAE', 'eval_metric': 'MAE'}. Best is trial 163 with value: 5.91810549344704.\u001b[0m\n"
     ]
    },
    {
     "name": "stdout",
     "output_type": "stream",
     "text": [
      "MAE of Train: 5.911551664685053\n",
      "MAE of Validation: 5.922857225652449\n"
     ]
    },
    {
     "name": "stderr",
     "output_type": "stream",
     "text": [
      "\u001b[32m[I 2022-03-26 01:12:59,143]\u001b[0m Trial 202 finished with value: 5.923159129712422 and parameters: {'random_state': 519632, 'learning_rate': 0.09457376452611878, 'bagging_temperature': 4.198500205184826, 'max_depth': 5, 'random_strength': 94, 'l2_leaf_reg': 2.7618973605821597e-05, 'min_child_samples': 24, 'max_bin': 214, 'od_type': 'Iter', 'task_type': 'GPU', 'loss_function': 'MAE', 'eval_metric': 'MAE'}. Best is trial 163 with value: 5.91810549344704.\u001b[0m\n"
     ]
    },
    {
     "name": "stdout",
     "output_type": "stream",
     "text": [
      "MAE of Train: 5.911955372503798\n",
      "MAE of Validation: 5.923159129712422\n"
     ]
    },
    {
     "name": "stderr",
     "output_type": "stream",
     "text": [
      "\u001b[32m[I 2022-03-26 01:13:06,008]\u001b[0m Trial 203 finished with value: 5.9288764097000906 and parameters: {'random_state': 519632, 'learning_rate': 0.11289259900917191, 'bagging_temperature': 5.545858143736671, 'max_depth': 5, 'random_strength': 97, 'l2_leaf_reg': 2.9695280066868767e-05, 'min_child_samples': 29, 'max_bin': 206, 'od_type': 'Iter', 'task_type': 'GPU', 'loss_function': 'MAE', 'eval_metric': 'MAE'}. Best is trial 163 with value: 5.91810549344704.\u001b[0m\n"
     ]
    },
    {
     "name": "stdout",
     "output_type": "stream",
     "text": [
      "MAE of Train: 5.917816105687409\n",
      "MAE of Validation: 5.9288764097000906\n"
     ]
    },
    {
     "name": "stderr",
     "output_type": "stream",
     "text": [
      "\u001b[32m[I 2022-03-26 01:13:13,188]\u001b[0m Trial 204 finished with value: 5.924496283759768 and parameters: {'random_state': 519632, 'learning_rate': 0.08675247102247542, 'bagging_temperature': 3.6821909015187986, 'max_depth': 5, 'random_strength': 91, 'l2_leaf_reg': 2.9939221269564238e-05, 'min_child_samples': 27, 'max_bin': 226, 'od_type': 'Iter', 'task_type': 'GPU', 'loss_function': 'MAE', 'eval_metric': 'MAE'}. Best is trial 163 with value: 5.91810549344704.\u001b[0m\n"
     ]
    },
    {
     "name": "stdout",
     "output_type": "stream",
     "text": [
      "MAE of Train: 5.9155660150909535\n",
      "MAE of Validation: 5.924496283759768\n"
     ]
    },
    {
     "name": "stderr",
     "output_type": "stream",
     "text": [
      "\u001b[32m[I 2022-03-26 01:13:20,160]\u001b[0m Trial 205 finished with value: 5.925983797583029 and parameters: {'random_state': 519632, 'learning_rate': 0.07334240711414242, 'bagging_temperature': 4.782583305410355, 'max_depth': 5, 'random_strength': 93, 'l2_leaf_reg': 1.5106284444649692e-05, 'min_child_samples': 25, 'max_bin': 200, 'od_type': 'Iter', 'task_type': 'GPU', 'loss_function': 'MAE', 'eval_metric': 'MAE'}. Best is trial 163 with value: 5.91810549344704.\u001b[0m\n"
     ]
    },
    {
     "name": "stdout",
     "output_type": "stream",
     "text": [
      "MAE of Train: 5.916231810176934\n",
      "MAE of Validation: 5.925983797583029\n"
     ]
    },
    {
     "name": "stderr",
     "output_type": "stream",
     "text": [
      "\u001b[32m[I 2022-03-26 01:13:26,973]\u001b[0m Trial 206 finished with value: 5.9326489554223025 and parameters: {'random_state': 519632, 'learning_rate': 0.14272945918616983, 'bagging_temperature': 3.403242972663672, 'max_depth': 5, 'random_strength': 95, 'l2_leaf_reg': 2.7979147158855262e-05, 'min_child_samples': 46, 'max_bin': 218, 'od_type': 'Iter', 'task_type': 'GPU', 'loss_function': 'MAE', 'eval_metric': 'MAE'}. Best is trial 163 with value: 5.91810549344704.\u001b[0m\n"
     ]
    },
    {
     "name": "stdout",
     "output_type": "stream",
     "text": [
      "MAE of Train: 5.925139019113795\n",
      "MAE of Validation: 5.9326489554223025\n"
     ]
    },
    {
     "name": "stderr",
     "output_type": "stream",
     "text": [
      "\u001b[32m[I 2022-03-26 01:13:31,408]\u001b[0m Trial 207 finished with value: 5.933988037559018 and parameters: {'random_state': 519632, 'learning_rate': 0.10149606929186795, 'bagging_temperature': 2.473382048111299, 'max_depth': 5, 'random_strength': 91, 'l2_leaf_reg': 2.879031358283823e-05, 'min_child_samples': 29, 'max_bin': 210, 'od_type': 'Iter', 'task_type': 'GPU', 'loss_function': 'MAE', 'eval_metric': 'MAE'}. Best is trial 163 with value: 5.91810549344704.\u001b[0m\n"
     ]
    },
    {
     "name": "stdout",
     "output_type": "stream",
     "text": [
      "MAE of Train: 5.928788995989229\n",
      "MAE of Validation: 5.933988037559018\n"
     ]
    },
    {
     "name": "stderr",
     "output_type": "stream",
     "text": [
      "\u001b[32m[I 2022-03-26 01:13:38,105]\u001b[0m Trial 208 finished with value: 5.996523299129558 and parameters: {'random_state': 519632, 'learning_rate': 0.005396120467654741, 'bagging_temperature': 5.939785203202127, 'max_depth': 5, 'random_strength': 99, 'l2_leaf_reg': 1.2143167610796152e-05, 'min_child_samples': 32, 'max_bin': 213, 'od_type': 'Iter', 'task_type': 'GPU', 'loss_function': 'MAE', 'eval_metric': 'MAE'}. Best is trial 163 with value: 5.91810549344704.\u001b[0m\n"
     ]
    },
    {
     "name": "stdout",
     "output_type": "stream",
     "text": [
      "MAE of Train: 5.990478326421038\n",
      "MAE of Validation: 5.996523299129558\n"
     ]
    },
    {
     "name": "stderr",
     "output_type": "stream",
     "text": [
      "\u001b[32m[I 2022-03-26 01:13:43,279]\u001b[0m Trial 209 finished with value: 5.9342301959756 and parameters: {'random_state': 519632, 'learning_rate': 0.13716960049897697, 'bagging_temperature': 3.02246082072079, 'max_depth': 5, 'random_strength': 94, 'l2_leaf_reg': 2.692311748412208e-05, 'min_child_samples': 19, 'max_bin': 223, 'od_type': 'Iter', 'task_type': 'GPU', 'loss_function': 'MAE', 'eval_metric': 'MAE'}. Best is trial 163 with value: 5.91810549344704.\u001b[0m\n"
     ]
    },
    {
     "name": "stdout",
     "output_type": "stream",
     "text": [
      "MAE of Train: 5.928021745788704\n",
      "MAE of Validation: 5.9342301959756\n"
     ]
    },
    {
     "name": "stderr",
     "output_type": "stream",
     "text": [
      "\u001b[32m[I 2022-03-26 01:13:50,367]\u001b[0m Trial 210 finished with value: 5.923715230766989 and parameters: {'random_state': 519632, 'learning_rate': 0.06456817452403417, 'bagging_temperature': 4.297019009053453, 'max_depth': 5, 'random_strength': 97, 'l2_leaf_reg': 1.736995102230855e-05, 'min_child_samples': 39, 'max_bin': 207, 'od_type': 'Iter', 'task_type': 'GPU', 'loss_function': 'MAE', 'eval_metric': 'MAE'}. Best is trial 163 with value: 5.91810549344704.\u001b[0m\n"
     ]
    },
    {
     "name": "stdout",
     "output_type": "stream",
     "text": [
      "MAE of Train: 5.914424257589202\n",
      "MAE of Validation: 5.923715230766989\n"
     ]
    },
    {
     "name": "stderr",
     "output_type": "stream",
     "text": [
      "\u001b[32m[I 2022-03-26 01:13:57,506]\u001b[0m Trial 211 finished with value: 5.92277227106318 and parameters: {'random_state': 519632, 'learning_rate': 0.09775093825336856, 'bagging_temperature': 4.170802588636233, 'max_depth': 5, 'random_strength': 91, 'l2_leaf_reg': 2.766131716714352e-05, 'min_child_samples': 22, 'max_bin': 215, 'od_type': 'Iter', 'task_type': 'GPU', 'loss_function': 'MAE', 'eval_metric': 'MAE'}. Best is trial 163 with value: 5.91810549344704.\u001b[0m\n"
     ]
    },
    {
     "name": "stdout",
     "output_type": "stream",
     "text": [
      "MAE of Train: 5.912640921957146\n",
      "MAE of Validation: 5.92277227106318\n"
     ]
    },
    {
     "name": "stderr",
     "output_type": "stream",
     "text": [
      "\u001b[32m[I 2022-03-26 01:14:04,397]\u001b[0m Trial 212 finished with value: 5.925708472649665 and parameters: {'random_state': 519632, 'learning_rate': 0.10051606991098178, 'bagging_temperature': 3.6187850704756817, 'max_depth': 5, 'random_strength': 91, 'l2_leaf_reg': 2.732239491195486e-05, 'min_child_samples': 22, 'max_bin': 217, 'od_type': 'Iter', 'task_type': 'GPU', 'loss_function': 'MAE', 'eval_metric': 'MAE'}. Best is trial 163 with value: 5.91810549344704.\u001b[0m\n"
     ]
    },
    {
     "name": "stdout",
     "output_type": "stream",
     "text": [
      "MAE of Train: 5.917927457263141\n",
      "MAE of Validation: 5.925708472649665\n"
     ]
    },
    {
     "name": "stderr",
     "output_type": "stream",
     "text": [
      "\u001b[32m[I 2022-03-26 01:14:10,265]\u001b[0m Trial 213 finished with value: 5.928576397216109 and parameters: {'random_state': 519632, 'learning_rate': 0.11772151198392691, 'bagging_temperature': 5.139904530049539, 'max_depth': 5, 'random_strength': 93, 'l2_leaf_reg': 2.800992637319168e-05, 'min_child_samples': 5, 'max_bin': 210, 'od_type': 'Iter', 'task_type': 'GPU', 'loss_function': 'MAE', 'eval_metric': 'MAE'}. Best is trial 163 with value: 5.91810549344704.\u001b[0m\n"
     ]
    },
    {
     "name": "stdout",
     "output_type": "stream",
     "text": [
      "MAE of Train: 5.917185675796298\n",
      "MAE of Validation: 5.928576397216109\n"
     ]
    },
    {
     "name": "stderr",
     "output_type": "stream",
     "text": [
      "\u001b[32m[I 2022-03-26 01:14:17,321]\u001b[0m Trial 214 finished with value: 5.9234824028182675 and parameters: {'random_state': 519632, 'learning_rate': 0.0880240325619176, 'bagging_temperature': 4.314999868738384, 'max_depth': 5, 'random_strength': 90, 'l2_leaf_reg': 2.880141415864951e-05, 'min_child_samples': 24, 'max_bin': 229, 'od_type': 'Iter', 'task_type': 'GPU', 'loss_function': 'MAE', 'eval_metric': 'MAE'}. Best is trial 163 with value: 5.91810549344704.\u001b[0m\n"
     ]
    },
    {
     "name": "stdout",
     "output_type": "stream",
     "text": [
      "MAE of Train: 5.913590813686087\n",
      "MAE of Validation: 5.9234824028182675\n"
     ]
    },
    {
     "name": "stderr",
     "output_type": "stream",
     "text": [
      "\u001b[32m[I 2022-03-26 01:14:24,208]\u001b[0m Trial 215 finished with value: 5.9260711704515465 and parameters: {'random_state': 519632, 'learning_rate': 0.07746348843604586, 'bagging_temperature': 3.1075258295393775, 'max_depth': 5, 'random_strength': 48, 'l2_leaf_reg': 2.6495597905111692e-05, 'min_child_samples': 27, 'max_bin': 384, 'od_type': 'Iter', 'task_type': 'GPU', 'loss_function': 'MAE', 'eval_metric': 'MAE'}. Best is trial 163 with value: 5.91810549344704.\u001b[0m\n"
     ]
    },
    {
     "name": "stdout",
     "output_type": "stream",
     "text": [
      "MAE of Train: 5.921048765555482\n",
      "MAE of Validation: 5.9260711704515465\n"
     ]
    },
    {
     "name": "stderr",
     "output_type": "stream",
     "text": [
      "\u001b[32m[I 2022-03-26 01:14:31,178]\u001b[0m Trial 216 finished with value: 5.925919391308841 and parameters: {'random_state': 519632, 'learning_rate': 0.11023600130960623, 'bagging_temperature': 3.8935895185471474, 'max_depth': 5, 'random_strength': 87, 'l2_leaf_reg': 2.7278839451098178e-05, 'min_child_samples': 17, 'max_bin': 205, 'od_type': 'Iter', 'task_type': 'GPU', 'loss_function': 'MAE', 'eval_metric': 'MAE'}. Best is trial 163 with value: 5.91810549344704.\u001b[0m\n"
     ]
    },
    {
     "name": "stdout",
     "output_type": "stream",
     "text": [
      "MAE of Train: 5.91734920221058\n",
      "MAE of Validation: 5.925919391308841\n"
     ]
    },
    {
     "name": "stderr",
     "output_type": "stream",
     "text": [
      "\u001b[32m[I 2022-03-26 01:14:37,891]\u001b[0m Trial 217 finished with value: 5.9390468691408556 and parameters: {'random_state': 519632, 'learning_rate': 0.12961657699749116, 'bagging_temperature': 6.477636835736246, 'max_depth': 5, 'random_strength': 95, 'l2_leaf_reg': 2.8236335649714147e-05, 'min_child_samples': 35, 'max_bin': 219, 'od_type': 'Iter', 'task_type': 'GPU', 'loss_function': 'MAE', 'eval_metric': 'MAE'}. Best is trial 163 with value: 5.91810549344704.\u001b[0m\n"
     ]
    },
    {
     "name": "stdout",
     "output_type": "stream",
     "text": [
      "MAE of Train: 5.925251494218992\n",
      "MAE of Validation: 5.9390468691408556\n"
     ]
    },
    {
     "name": "stderr",
     "output_type": "stream",
     "text": [
      "\u001b[32m[I 2022-03-26 01:14:44,915]\u001b[0m Trial 218 finished with value: 5.930186338645462 and parameters: {'random_state': 519632, 'learning_rate': 0.09545244388881112, 'bagging_temperature': 2.343693170531751, 'max_depth': 5, 'random_strength': 92, 'l2_leaf_reg': 2.9513464865493962e-05, 'min_child_samples': 11, 'max_bin': 213, 'od_type': 'Iter', 'task_type': 'GPU', 'loss_function': 'MAE', 'eval_metric': 'MAE'}. Best is trial 163 with value: 5.91810549344704.\u001b[0m\n"
     ]
    },
    {
     "name": "stdout",
     "output_type": "stream",
     "text": [
      "MAE of Train: 5.924791942592088\n",
      "MAE of Validation: 5.930186338645462\n"
     ]
    },
    {
     "name": "stderr",
     "output_type": "stream",
     "text": [
      "\u001b[32m[I 2022-03-26 01:14:50,693]\u001b[0m Trial 219 finished with value: 5.932314455207535 and parameters: {'random_state': 519632, 'learning_rate': 0.15281537247070426, 'bagging_temperature': 4.836437154034068, 'max_depth': 5, 'random_strength': 88, 'l2_leaf_reg': 2.7771459252196343e-05, 'min_child_samples': 21, 'max_bin': 225, 'od_type': 'Iter', 'task_type': 'GPU', 'loss_function': 'MAE', 'eval_metric': 'MAE'}. Best is trial 163 with value: 5.91810549344704.\u001b[0m\n"
     ]
    },
    {
     "name": "stdout",
     "output_type": "stream",
     "text": [
      "MAE of Train: 5.91879473805752\n",
      "MAE of Validation: 5.932314455207535\n"
     ]
    },
    {
     "name": "stderr",
     "output_type": "stream",
     "text": [
      "\u001b[32m[I 2022-03-26 01:14:57,814]\u001b[0m Trial 220 finished with value: 5.933239419255452 and parameters: {'random_state': 519632, 'learning_rate': 0.08175172173930863, 'bagging_temperature': 2.826377882904166, 'max_depth': 5, 'random_strength': 90, 'l2_leaf_reg': 2.6874210549395515e-05, 'min_child_samples': 26, 'max_bin': 200, 'od_type': 'Iter', 'task_type': 'GPU', 'loss_function': 'MAE', 'eval_metric': 'MAE'}. Best is trial 163 with value: 5.91810549344704.\u001b[0m\n"
     ]
    },
    {
     "name": "stdout",
     "output_type": "stream",
     "text": [
      "MAE of Train: 5.9269464927828475\n",
      "MAE of Validation: 5.933239419255452\n"
     ]
    },
    {
     "name": "stderr",
     "output_type": "stream",
     "text": [
      "\u001b[32m[I 2022-03-26 01:15:04,848]\u001b[0m Trial 221 finished with value: 5.923498661725353 and parameters: {'random_state': 519632, 'learning_rate': 0.10031606812368245, 'bagging_temperature': 4.174801803939582, 'max_depth': 5, 'random_strength': 94, 'l2_leaf_reg': 2.7737287610245087e-05, 'min_child_samples': 24, 'max_bin': 214, 'od_type': 'Iter', 'task_type': 'GPU', 'loss_function': 'MAE', 'eval_metric': 'MAE'}. Best is trial 163 with value: 5.91810549344704.\u001b[0m\n"
     ]
    },
    {
     "name": "stdout",
     "output_type": "stream",
     "text": [
      "MAE of Train: 5.913459386028119\n",
      "MAE of Validation: 5.923498661725353\n"
     ]
    },
    {
     "name": "stderr",
     "output_type": "stream",
     "text": [
      "\u001b[32m[I 2022-03-26 01:15:11,979]\u001b[0m Trial 222 finished with value: 5.920976621147197 and parameters: {'random_state': 519632, 'learning_rate': 0.09491091108831684, 'bagging_temperature': 3.5038963192381307, 'max_depth': 5, 'random_strength': 96, 'l2_leaf_reg': 2.7390579467557177e-05, 'min_child_samples': 23, 'max_bin': 215, 'od_type': 'Iter', 'task_type': 'GPU', 'loss_function': 'MAE', 'eval_metric': 'MAE'}. Best is trial 163 with value: 5.91810549344704.\u001b[0m\n"
     ]
    },
    {
     "name": "stdout",
     "output_type": "stream",
     "text": [
      "MAE of Train: 5.9118890752305635\n",
      "MAE of Validation: 5.920976621147197\n"
     ]
    },
    {
     "name": "stderr",
     "output_type": "stream",
     "text": [
      "\u001b[32m[I 2022-03-26 01:15:18,994]\u001b[0m Trial 223 finished with value: 5.973331142708437 and parameters: {'random_state': 519632, 'learning_rate': 0.009655477471874185, 'bagging_temperature': 3.4251547215169724, 'max_depth': 5, 'random_strength': 97, 'l2_leaf_reg': 2.630892007357074e-05, 'min_child_samples': 28, 'max_bin': 207, 'od_type': 'Iter', 'task_type': 'GPU', 'loss_function': 'MAE', 'eval_metric': 'MAE'}. Best is trial 163 with value: 5.91810549344704.\u001b[0m\n"
     ]
    },
    {
     "name": "stdout",
     "output_type": "stream",
     "text": [
      "MAE of Train: 5.966846256204491\n",
      "MAE of Validation: 5.973331142708437\n"
     ]
    },
    {
     "name": "stderr",
     "output_type": "stream",
     "text": [
      "\u001b[32m[I 2022-03-26 01:15:22,178]\u001b[0m Trial 224 finished with value: 5.946776688031133 and parameters: {'random_state': 519632, 'learning_rate': 0.12505742465345893, 'bagging_temperature': 0.06547792872691374, 'max_depth': 5, 'random_strength': 56, 'l2_leaf_reg': 2.8518578525933126e-05, 'min_child_samples': 19, 'max_bin': 220, 'od_type': 'Iter', 'task_type': 'GPU', 'loss_function': 'MAE', 'eval_metric': 'MAE'}. Best is trial 163 with value: 5.91810549344704.\u001b[0m\n"
     ]
    },
    {
     "name": "stdout",
     "output_type": "stream",
     "text": [
      "MAE of Train: 5.940651754773258\n",
      "MAE of Validation: 5.946776688031133\n"
     ]
    },
    {
     "name": "stderr",
     "output_type": "stream",
     "text": [
      "\u001b[32m[I 2022-03-26 01:15:29,407]\u001b[0m Trial 225 finished with value: 5.921135918732854 and parameters: {'random_state': 519632, 'learning_rate': 0.11366294121685028, 'bagging_temperature': 3.557997883917315, 'max_depth': 5, 'random_strength': 92, 'l2_leaf_reg': 2.5589206288184433e-05, 'min_child_samples': 23, 'max_bin': 210, 'od_type': 'Iter', 'task_type': 'GPU', 'loss_function': 'MAE', 'eval_metric': 'MAE'}. Best is trial 163 with value: 5.91810549344704.\u001b[0m\n"
     ]
    },
    {
     "name": "stdout",
     "output_type": "stream",
     "text": [
      "MAE of Train: 5.91100355491003\n",
      "MAE of Validation: 5.921135918732854\n"
     ]
    },
    {
     "name": "stderr",
     "output_type": "stream",
     "text": [
      "\u001b[32m[I 2022-03-26 01:15:36,307]\u001b[0m Trial 226 finished with value: 5.928992745460511 and parameters: {'random_state': 519632, 'learning_rate': 0.08979168051192332, 'bagging_temperature': 3.3395571357387235, 'max_depth': 5, 'random_strength': 0, 'l2_leaf_reg': 2.5481150046490297e-05, 'min_child_samples': 22, 'max_bin': 208, 'od_type': 'Iter', 'task_type': 'GPU', 'loss_function': 'MAE', 'eval_metric': 'MAE'}. Best is trial 163 with value: 5.91810549344704.\u001b[0m\n"
     ]
    },
    {
     "name": "stdout",
     "output_type": "stream",
     "text": [
      "MAE of Train: 5.923955147302363\n",
      "MAE of Validation: 5.928992745460511\n"
     ]
    },
    {
     "name": "stderr",
     "output_type": "stream",
     "text": [
      "\u001b[32m[I 2022-03-26 01:15:43,414]\u001b[0m Trial 227 finished with value: 5.924371562481341 and parameters: {'random_state': 519632, 'learning_rate': 0.07215822830466431, 'bagging_temperature': 2.821330266560707, 'max_depth': 5, 'random_strength': 93, 'l2_leaf_reg': 2.580916020722877e-05, 'min_child_samples': 31, 'max_bin': 219, 'od_type': 'Iter', 'task_type': 'GPU', 'loss_function': 'MAE', 'eval_metric': 'MAE'}. Best is trial 163 with value: 5.91810549344704.\u001b[0m\n"
     ]
    },
    {
     "name": "stdout",
     "output_type": "stream",
     "text": [
      "MAE of Train: 5.919058303486255\n",
      "MAE of Validation: 5.924371562481341\n"
     ]
    },
    {
     "name": "stderr",
     "output_type": "stream",
     "text": [
      "\u001b[32m[I 2022-03-26 01:15:47,007]\u001b[0m Trial 228 finished with value: 5.9407305570015945 and parameters: {'random_state': 519632, 'learning_rate': 0.11626542724016796, 'bagging_temperature': 2.1269916523712524, 'max_depth': 5, 'random_strength': 96, 'l2_leaf_reg': 2.923900142378227e-05, 'min_child_samples': 23, 'max_bin': 205, 'od_type': 'Iter', 'task_type': 'GPU', 'loss_function': 'MAE', 'eval_metric': 'MAE'}. Best is trial 163 with value: 5.91810549344704.\u001b[0m\n"
     ]
    },
    {
     "name": "stdout",
     "output_type": "stream",
     "text": [
      "MAE of Train: 5.934531820263378\n",
      "MAE of Validation: 5.9407305570015945\n"
     ]
    },
    {
     "name": "stderr",
     "output_type": "stream",
     "text": [
      "\u001b[32m[I 2022-03-26 01:15:54,140]\u001b[0m Trial 229 finished with value: 5.922052078130399 and parameters: {'random_state': 519632, 'learning_rate': 0.14462516473291892, 'bagging_temperature': 3.6679990796655075, 'max_depth': 5, 'random_strength': 100, 'l2_leaf_reg': 1.8515119830546352e-05, 'min_child_samples': 29, 'max_bin': 212, 'od_type': 'Iter', 'task_type': 'GPU', 'loss_function': 'MAE', 'eval_metric': 'MAE'}. Best is trial 163 with value: 5.91810549344704.\u001b[0m\n"
     ]
    },
    {
     "name": "stdout",
     "output_type": "stream",
     "text": [
      "MAE of Train: 5.91036710628986\n",
      "MAE of Validation: 5.922052078130399\n"
     ]
    },
    {
     "name": "stderr",
     "output_type": "stream",
     "text": [
      "\u001b[32m[I 2022-03-26 01:15:59,783]\u001b[0m Trial 230 finished with value: 5.931053257433715 and parameters: {'random_state': 519632, 'learning_rate': 0.16396971670901425, 'bagging_temperature': 5.042796202251581, 'max_depth': 5, 'random_strength': 95, 'l2_leaf_reg': 2.1162097703555185e-05, 'min_child_samples': 29, 'max_bin': 216, 'od_type': 'Iter', 'task_type': 'GPU', 'loss_function': 'MAE', 'eval_metric': 'MAE'}. Best is trial 163 with value: 5.91810549344704.\u001b[0m\n"
     ]
    },
    {
     "name": "stdout",
     "output_type": "stream",
     "text": [
      "MAE of Train: 5.917985784525982\n",
      "MAE of Validation: 5.931053257433715\n"
     ]
    },
    {
     "name": "stderr",
     "output_type": "stream",
     "text": [
      "\u001b[32m[I 2022-03-26 01:16:06,882]\u001b[0m Trial 231 finished with value: 5.921862646211462 and parameters: {'random_state': 519632, 'learning_rate': 0.1338473052175228, 'bagging_temperature': 3.5536477279362337, 'max_depth': 5, 'random_strength': 98, 'l2_leaf_reg': 1.5177580037873095e-05, 'min_child_samples': 32, 'max_bin': 210, 'od_type': 'Iter', 'task_type': 'GPU', 'loss_function': 'MAE', 'eval_metric': 'MAE'}. Best is trial 163 with value: 5.91810549344704.\u001b[0m\n"
     ]
    },
    {
     "name": "stdout",
     "output_type": "stream",
     "text": [
      "MAE of Train: 5.912212270378937\n",
      "MAE of Validation: 5.921862646211462\n"
     ]
    },
    {
     "name": "stderr",
     "output_type": "stream",
     "text": [
      "\u001b[32m[I 2022-03-26 01:16:11,643]\u001b[0m Trial 232 finished with value: 5.936131409250441 and parameters: {'random_state': 519632, 'learning_rate': 0.1308258757554164, 'bagging_temperature': 3.4695639778209393, 'max_depth': 5, 'random_strength': 99, 'l2_leaf_reg': 1.6156565143090805e-05, 'min_child_samples': 29, 'max_bin': 213, 'od_type': 'Iter', 'task_type': 'GPU', 'loss_function': 'MAE', 'eval_metric': 'MAE'}. Best is trial 163 with value: 5.91810549344704.\u001b[0m\n"
     ]
    },
    {
     "name": "stdout",
     "output_type": "stream",
     "text": [
      "MAE of Train: 5.929616420754088\n",
      "MAE of Validation: 5.936131409250441\n"
     ]
    },
    {
     "name": "stderr",
     "output_type": "stream",
     "text": [
      "\u001b[32m[I 2022-03-26 01:16:14,751]\u001b[0m Trial 233 finished with value: 5.941292352698924 and parameters: {'random_state': 519632, 'learning_rate': 0.1499380135869378, 'bagging_temperature': 2.8773862006227393, 'max_depth': 5, 'random_strength': 97, 'l2_leaf_reg': 2.71452965266813e-05, 'min_child_samples': 33, 'max_bin': 223, 'od_type': 'Iter', 'task_type': 'GPU', 'loss_function': 'MAE', 'eval_metric': 'MAE'}. Best is trial 163 with value: 5.91810549344704.\u001b[0m\n"
     ]
    },
    {
     "name": "stdout",
     "output_type": "stream",
     "text": [
      "MAE of Train: 5.935907482863038\n",
      "MAE of Validation: 5.941292352698924\n"
     ]
    },
    {
     "name": "stderr",
     "output_type": "stream",
     "text": [
      "\u001b[32m[I 2022-03-26 01:16:18,877]\u001b[0m Trial 234 finished with value: 5.929681847132418 and parameters: {'random_state': 519632, 'learning_rate': 0.299999205717633, 'bagging_temperature': 3.782165865200154, 'max_depth': 5, 'random_strength': 92, 'l2_leaf_reg': 1.3165919234454345e-05, 'min_child_samples': 31, 'max_bin': 200, 'od_type': 'Iter', 'task_type': 'GPU', 'loss_function': 'MAE', 'eval_metric': 'MAE'}. Best is trial 163 with value: 5.91810549344704.\u001b[0m\n"
     ]
    },
    {
     "name": "stdout",
     "output_type": "stream",
     "text": [
      "MAE of Train: 5.918831310830776\n",
      "MAE of Validation: 5.929681847132418\n"
     ]
    },
    {
     "name": "stderr",
     "output_type": "stream",
     "text": [
      "\u001b[32m[I 2022-03-26 01:16:25,840]\u001b[0m Trial 235 finished with value: 5.926012217250726 and parameters: {'random_state': 519632, 'learning_rate': 0.11133185194217425, 'bagging_temperature': 4.75507425875548, 'max_depth': 5, 'random_strength': 100, 'l2_leaf_reg': 1.542630717521355e-05, 'min_child_samples': 32, 'max_bin': 212, 'od_type': 'Iter', 'task_type': 'GPU', 'loss_function': 'MAE', 'eval_metric': 'MAE'}. Best is trial 163 with value: 5.91810549344704.\u001b[0m\n"
     ]
    },
    {
     "name": "stdout",
     "output_type": "stream",
     "text": [
      "MAE of Train: 5.912549071277177\n",
      "MAE of Validation: 5.926012217250726\n"
     ]
    },
    {
     "name": "stderr",
     "output_type": "stream",
     "text": [
      "\u001b[32m[I 2022-03-26 01:16:32,274]\u001b[0m Trial 236 finished with value: 5.939588623379172 and parameters: {'random_state': 519632, 'learning_rate': 0.1381282124574592, 'bagging_temperature': 2.57915307642527, 'max_depth': 5, 'random_strength': 89, 'l2_leaf_reg': 1.4142323160694959e-05, 'min_child_samples': 35, 'max_bin': 228, 'od_type': 'Iter', 'task_type': 'GPU', 'loss_function': 'MAE', 'eval_metric': 'MAE'}. Best is trial 163 with value: 5.91810549344704.\u001b[0m\n"
     ]
    },
    {
     "name": "stdout",
     "output_type": "stream",
     "text": [
      "MAE of Train: 5.933665500322225\n",
      "MAE of Validation: 5.939588623379172\n"
     ]
    },
    {
     "name": "stderr",
     "output_type": "stream",
     "text": [
      "\u001b[32m[I 2022-03-26 01:16:37,037]\u001b[0m Trial 237 finished with value: 5.928028912575788 and parameters: {'random_state': 519632, 'learning_rate': 0.16262225594937565, 'bagging_temperature': 3.2809059286487625, 'max_depth': 5, 'random_strength': 95, 'l2_leaf_reg': 1.4499096436665204e-05, 'min_child_samples': 27, 'max_bin': 434, 'od_type': 'Iter', 'task_type': 'GPU', 'loss_function': 'MAE', 'eval_metric': 'MAE'}. Best is trial 163 with value: 5.91810549344704.\u001b[0m\n"
     ]
    },
    {
     "name": "stdout",
     "output_type": "stream",
     "text": [
      "MAE of Train: 5.922255672288351\n",
      "MAE of Validation: 5.928028912575788\n"
     ]
    },
    {
     "name": "stderr",
     "output_type": "stream",
     "text": [
      "\u001b[32m[I 2022-03-26 01:16:44,172]\u001b[0m Trial 238 finished with value: 5.92297701874421 and parameters: {'random_state': 519632, 'learning_rate': 0.10863204372517034, 'bagging_temperature': 4.002610752634215, 'max_depth': 5, 'random_strength': 100, 'l2_leaf_reg': 2.5282049308943047e-05, 'min_child_samples': 26, 'max_bin': 218, 'od_type': 'Iter', 'task_type': 'GPU', 'loss_function': 'MAE', 'eval_metric': 'MAE'}. Best is trial 163 with value: 5.91810549344704.\u001b[0m\n"
     ]
    },
    {
     "name": "stdout",
     "output_type": "stream",
     "text": [
      "MAE of Train: 5.912904296952553\n",
      "MAE of Validation: 5.92297701874421\n"
     ]
    },
    {
     "name": "stderr",
     "output_type": "stream",
     "text": [
      "\u001b[32m[I 2022-03-26 01:16:50,982]\u001b[0m Trial 239 finished with value: 5.932615916369881 and parameters: {'random_state': 519632, 'learning_rate': 0.12495985943067392, 'bagging_temperature': 5.72082070853793, 'max_depth': 5, 'random_strength': 93, 'l2_leaf_reg': 1.6080833311811565e-05, 'min_child_samples': 34, 'max_bin': 205, 'od_type': 'Iter', 'task_type': 'GPU', 'loss_function': 'MAE', 'eval_metric': 'MAE'}. Best is trial 163 with value: 5.91810549344704.\u001b[0m\n"
     ]
    },
    {
     "name": "stdout",
     "output_type": "stream",
     "text": [
      "MAE of Train: 5.919110248862326\n",
      "MAE of Validation: 5.932615916369881\n"
     ]
    },
    {
     "name": "stderr",
     "output_type": "stream",
     "text": [
      "\u001b[32m[I 2022-03-26 01:16:58,172]\u001b[0m Trial 240 finished with value: 5.9222056802401175 and parameters: {'random_state': 519632, 'learning_rate': 0.08326939959940695, 'bagging_temperature': 3.053575365848452, 'max_depth': 5, 'random_strength': 91, 'l2_leaf_reg': 1.823986907553535e-05, 'min_child_samples': 20, 'max_bin': 211, 'od_type': 'Iter', 'task_type': 'GPU', 'loss_function': 'MAE', 'eval_metric': 'MAE'}. Best is trial 163 with value: 5.91810549344704.\u001b[0m\n"
     ]
    },
    {
     "name": "stdout",
     "output_type": "stream",
     "text": [
      "MAE of Train: 5.914642573505298\n",
      "MAE of Validation: 5.9222056802401175\n"
     ]
    },
    {
     "name": "stderr",
     "output_type": "stream",
     "text": [
      "\u001b[32m[I 2022-03-26 01:17:05,286]\u001b[0m Trial 241 finished with value: 5.922001912027985 and parameters: {'random_state': 519632, 'learning_rate': 0.08359610963208582, 'bagging_temperature': 3.0903786482516757, 'max_depth': 5, 'random_strength': 90, 'l2_leaf_reg': 1.4760221496985063e-05, 'min_child_samples': 20, 'max_bin': 212, 'od_type': 'Iter', 'task_type': 'GPU', 'loss_function': 'MAE', 'eval_metric': 'MAE'}. Best is trial 163 with value: 5.91810549344704.\u001b[0m\n"
     ]
    },
    {
     "name": "stdout",
     "output_type": "stream",
     "text": [
      "MAE of Train: 5.914056178987619\n",
      "MAE of Validation: 5.922001912027985\n"
     ]
    },
    {
     "name": "stderr",
     "output_type": "stream",
     "text": [
      "\u001b[32m[I 2022-03-26 01:17:12,512]\u001b[0m Trial 242 finished with value: 5.919723954318312 and parameters: {'random_state': 519632, 'learning_rate': 0.0869581060671096, 'bagging_temperature': 3.4549712363447687, 'max_depth': 5, 'random_strength': 39, 'l2_leaf_reg': 1.917874498959628e-05, 'min_child_samples': 19, 'max_bin': 211, 'od_type': 'Iter', 'task_type': 'GPU', 'loss_function': 'MAE', 'eval_metric': 'MAE'}. Best is trial 163 with value: 5.91810549344704.\u001b[0m\n"
     ]
    },
    {
     "name": "stdout",
     "output_type": "stream",
     "text": [
      "MAE of Train: 5.911654378086972\n",
      "MAE of Validation: 5.919723954318312\n"
     ]
    },
    {
     "name": "stderr",
     "output_type": "stream",
     "text": [
      "\u001b[32m[I 2022-03-26 01:17:19,091]\u001b[0m Trial 243 finished with value: 5.948948771752776 and parameters: {'random_state': 519632, 'learning_rate': 0.06443585141385559, 'bagging_temperature': 3.328692859054624, 'max_depth': 3, 'random_strength': 25, 'l2_leaf_reg': 1.947435639793092e-05, 'min_child_samples': 19, 'max_bin': 216, 'od_type': 'Iter', 'task_type': 'GPU', 'loss_function': 'MAE', 'eval_metric': 'MAE'}. Best is trial 163 with value: 5.91810549344704.\u001b[0m\n"
     ]
    },
    {
     "name": "stdout",
     "output_type": "stream",
     "text": [
      "MAE of Train: 5.94464258840747\n",
      "MAE of Validation: 5.948948771752776\n"
     ]
    },
    {
     "name": "stderr",
     "output_type": "stream",
     "text": [
      "\u001b[32m[I 2022-03-26 01:17:26,112]\u001b[0m Trial 244 finished with value: 5.927352292699637 and parameters: {'random_state': 519632, 'learning_rate': 0.08658774230313512, 'bagging_temperature': 3.041635855639062, 'max_depth': 5, 'random_strength': 91, 'l2_leaf_reg': 1.8429123236565778e-05, 'min_child_samples': 15, 'max_bin': 206, 'od_type': 'Iter', 'task_type': 'GPU', 'loss_function': 'MAE', 'eval_metric': 'MAE'}. Best is trial 163 with value: 5.91810549344704.\u001b[0m\n"
     ]
    },
    {
     "name": "stdout",
     "output_type": "stream",
     "text": [
      "MAE of Train: 5.9205157157322175\n",
      "MAE of Validation: 5.927352292699637\n"
     ]
    },
    {
     "name": "stderr",
     "output_type": "stream",
     "text": [
      "\u001b[32m[I 2022-03-26 01:17:33,191]\u001b[0m Trial 245 finished with value: 5.9265456081166255 and parameters: {'random_state': 519632, 'learning_rate': 0.05564553496308595, 'bagging_temperature': 4.514691996550314, 'max_depth': 5, 'random_strength': 39, 'l2_leaf_reg': 2.032090016148433e-05, 'min_child_samples': 21, 'max_bin': 223, 'od_type': 'Iter', 'task_type': 'GPU', 'loss_function': 'MAE', 'eval_metric': 'MAE'}. Best is trial 163 with value: 5.91810549344704.\u001b[0m\n"
     ]
    },
    {
     "name": "stdout",
     "output_type": "stream",
     "text": [
      "MAE of Train: 5.921495748257861\n",
      "MAE of Validation: 5.9265456081166255\n"
     ]
    },
    {
     "name": "stderr",
     "output_type": "stream",
     "text": [
      "\u001b[32m[I 2022-03-26 01:17:39,438]\u001b[0m Trial 246 finished with value: 5.930938494641017 and parameters: {'random_state': 519632, 'learning_rate': 0.08150309474834731, 'bagging_temperature': 2.28017576035429, 'max_depth': 5, 'random_strength': 93, 'l2_leaf_reg': 1.884746005907308e-05, 'min_child_samples': 18, 'max_bin': 210, 'od_type': 'Iter', 'task_type': 'GPU', 'loss_function': 'MAE', 'eval_metric': 'MAE'}. Best is trial 163 with value: 5.91810549344704.\u001b[0m\n"
     ]
    },
    {
     "name": "stdout",
     "output_type": "stream",
     "text": [
      "MAE of Train: 5.925461089649213\n",
      "MAE of Validation: 5.930938494641017\n"
     ]
    },
    {
     "name": "stderr",
     "output_type": "stream",
     "text": [
      "\u001b[32m[I 2022-03-26 01:17:46,554]\u001b[0m Trial 247 finished with value: 5.923281707187569 and parameters: {'random_state': 519632, 'learning_rate': 0.07110249583133771, 'bagging_temperature': 3.8242151055225055, 'max_depth': 5, 'random_strength': 90, 'l2_leaf_reg': 1.7074891316337793e-05, 'min_child_samples': 20, 'max_bin': 217, 'od_type': 'Iter', 'task_type': 'GPU', 'loss_function': 'MAE', 'eval_metric': 'MAE'}. Best is trial 163 with value: 5.91810549344704.\u001b[0m\n"
     ]
    },
    {
     "name": "stdout",
     "output_type": "stream",
     "text": [
      "MAE of Train: 5.914575403095056\n",
      "MAE of Validation: 5.923281707187569\n"
     ]
    },
    {
     "name": "stderr",
     "output_type": "stream",
     "text": [
      "\u001b[32m[I 2022-03-26 01:17:53,534]\u001b[0m Trial 248 finished with value: 5.931880568212385 and parameters: {'random_state': 519632, 'learning_rate': 0.09041010598367445, 'bagging_temperature': 2.8400988089679684, 'max_depth': 5, 'random_strength': 95, 'l2_leaf_reg': 1.7102055362247166e-05, 'min_child_samples': 22, 'max_bin': 203, 'od_type': 'Iter', 'task_type': 'GPU', 'loss_function': 'MAE', 'eval_metric': 'MAE'}. Best is trial 163 with value: 5.91810549344704.\u001b[0m\n"
     ]
    },
    {
     "name": "stdout",
     "output_type": "stream",
     "text": [
      "MAE of Train: 5.925805330321543\n",
      "MAE of Validation: 5.931880568212385\n"
     ]
    },
    {
     "name": "stderr",
     "output_type": "stream",
     "text": [
      "\u001b[32m[I 2022-03-26 01:18:00,607]\u001b[0m Trial 249 finished with value: 5.921813323209485 and parameters: {'random_state': 519632, 'learning_rate': 0.09985631247310066, 'bagging_temperature': 3.620325410377071, 'max_depth': 5, 'random_strength': 30, 'l2_leaf_reg': 1.8968709273744052e-05, 'min_child_samples': 59, 'max_bin': 210, 'od_type': 'Iter', 'task_type': 'GPU', 'loss_function': 'MAE', 'eval_metric': 'MAE'}. Best is trial 163 with value: 5.91810549344704.\u001b[0m\n"
     ]
    },
    {
     "name": "stdout",
     "output_type": "stream",
     "text": [
      "MAE of Train: 5.9134303332752225\n",
      "MAE of Validation: 5.921813323209485\n"
     ]
    },
    {
     "name": "stderr",
     "output_type": "stream",
     "text": [
      "\u001b[32m[I 2022-03-26 01:18:05,793]\u001b[0m Trial 250 finished with value: 5.929728136087751 and parameters: {'random_state': 519632, 'learning_rate': 0.07658926807134078, 'bagging_temperature': 3.418127855825354, 'max_depth': 5, 'random_strength': 38, 'l2_leaf_reg': 1.907715735738411e-05, 'min_child_samples': 17, 'max_bin': 220, 'od_type': 'Iter', 'task_type': 'GPU', 'loss_function': 'MAE', 'eval_metric': 'MAE'}. Best is trial 163 with value: 5.91810549344704.\u001b[0m\n"
     ]
    },
    {
     "name": "stdout",
     "output_type": "stream",
     "text": [
      "MAE of Train: 5.924192206273728\n",
      "MAE of Validation: 5.929728136087751\n"
     ]
    },
    {
     "name": "stderr",
     "output_type": "stream",
     "text": [
      "\u001b[32m[I 2022-03-26 01:18:12,801]\u001b[0m Trial 251 finished with value: 5.927197569128582 and parameters: {'random_state': 519632, 'learning_rate': 0.11171874259801082, 'bagging_temperature': 4.939982930816244, 'max_depth': 5, 'random_strength': 31, 'l2_leaf_reg': 1.9968705033388427e-05, 'min_child_samples': 21, 'max_bin': 214, 'od_type': 'Iter', 'task_type': 'GPU', 'loss_function': 'MAE', 'eval_metric': 'MAE'}. Best is trial 163 with value: 5.91810549344704.\u001b[0m\n"
     ]
    },
    {
     "name": "stdout",
     "output_type": "stream",
     "text": [
      "MAE of Train: 5.914961626897937\n",
      "MAE of Validation: 5.927197569128582\n"
     ]
    },
    {
     "name": "stderr",
     "output_type": "stream",
     "text": [
      "\u001b[32m[I 2022-03-26 01:18:17,729]\u001b[0m Trial 252 finished with value: 5.942133998241121 and parameters: {'random_state': 519632, 'learning_rate': 0.13556689076299316, 'bagging_temperature': 2.5759614809275755, 'max_depth': 5, 'random_strength': 22, 'l2_leaf_reg': 1.831094844903635e-05, 'min_child_samples': 23, 'max_bin': 205, 'od_type': 'Iter', 'task_type': 'GPU', 'loss_function': 'MAE', 'eval_metric': 'MAE'}. Best is trial 163 with value: 5.91810549344704.\u001b[0m\n"
     ]
    },
    {
     "name": "stdout",
     "output_type": "stream",
     "text": [
      "MAE of Train: 5.937540521856007\n",
      "MAE of Validation: 5.942133998241121\n"
     ]
    },
    {
     "name": "stderr",
     "output_type": "stream",
     "text": [
      "\u001b[32m[I 2022-03-26 01:18:22,868]\u001b[0m Trial 253 finished with value: 5.938957358361509 and parameters: {'random_state': 519632, 'learning_rate': 0.09794194665784828, 'bagging_temperature': 2.000193907387426, 'max_depth': 5, 'random_strength': 27, 'l2_leaf_reg': 1.7672147814028046e-05, 'min_child_samples': 20, 'max_bin': 224, 'od_type': 'Iter', 'task_type': 'GPU', 'loss_function': 'MAE', 'eval_metric': 'MAE'}. Best is trial 163 with value: 5.91810549344704.\u001b[0m\n"
     ]
    },
    {
     "name": "stdout",
     "output_type": "stream",
     "text": [
      "MAE of Train: 5.9334330676298\n",
      "MAE of Validation: 5.938957358361509\n"
     ]
    },
    {
     "name": "stderr",
     "output_type": "stream",
     "text": [
      "\u001b[32m[I 2022-03-26 01:18:27,203]\u001b[0m Trial 254 finished with value: 5.927529432756525 and parameters: {'random_state': 519632, 'learning_rate': 0.12131598463669137, 'bagging_temperature': 3.545953718339708, 'max_depth': 6, 'random_strength': 28, 'l2_leaf_reg': 2.114014593780781e-05, 'min_child_samples': 25, 'max_bin': 486, 'od_type': 'Iter', 'task_type': 'GPU', 'loss_function': 'MAE', 'eval_metric': 'MAE'}. Best is trial 163 with value: 5.91810549344704.\u001b[0m\n"
     ]
    },
    {
     "name": "stdout",
     "output_type": "stream",
     "text": [
      "MAE of Train: 5.918354151175512\n",
      "MAE of Validation: 5.927529432756525\n"
     ]
    },
    {
     "name": "stderr",
     "output_type": "stream",
     "text": [
      "\u001b[32m[I 2022-03-26 01:18:32,761]\u001b[0m Trial 255 finished with value: 5.933509733686029 and parameters: {'random_state': 519632, 'learning_rate': 0.08268314675291043, 'bagging_temperature': 3.0543628395349773, 'max_depth': 5, 'random_strength': 33, 'l2_leaf_reg': 1.8246420642205276e-05, 'min_child_samples': 63, 'max_bin': 234, 'od_type': 'Iter', 'task_type': 'GPU', 'loss_function': 'MAE', 'eval_metric': 'MAE'}. Best is trial 163 with value: 5.91810549344704.\u001b[0m\n"
     ]
    },
    {
     "name": "stdout",
     "output_type": "stream",
     "text": [
      "MAE of Train: 5.928175705238082\n",
      "MAE of Validation: 5.933509733686029\n"
     ]
    },
    {
     "name": "stderr",
     "output_type": "stream",
     "text": [
      "\u001b[32m[I 2022-03-26 01:18:39,795]\u001b[0m Trial 256 finished with value: 5.9219849901728265 and parameters: {'random_state': 519632, 'learning_rate': 0.1059244286693632, 'bagging_temperature': 4.221133223328783, 'max_depth': 5, 'random_strength': 44, 'l2_leaf_reg': 2.2227205785726844e-05, 'min_child_samples': 18, 'max_bin': 200, 'od_type': 'Iter', 'task_type': 'GPU', 'loss_function': 'MAE', 'eval_metric': 'MAE'}. Best is trial 163 with value: 5.91810549344704.\u001b[0m\n"
     ]
    },
    {
     "name": "stdout",
     "output_type": "stream",
     "text": [
      "MAE of Train: 5.91074316519223\n",
      "MAE of Validation: 5.9219849901728265\n"
     ]
    },
    {
     "name": "stderr",
     "output_type": "stream",
     "text": [
      "\u001b[32m[I 2022-03-26 01:18:46,644]\u001b[0m Trial 257 finished with value: 5.934893803560111 and parameters: {'random_state': 519632, 'learning_rate': 0.1131563212559415, 'bagging_temperature': 5.476586831014696, 'max_depth': 5, 'random_strength': 11, 'l2_leaf_reg': 2.0086550182913768e-05, 'min_child_samples': 14, 'max_bin': 200, 'od_type': 'Iter', 'task_type': 'GPU', 'loss_function': 'MAE', 'eval_metric': 'MAE'}. Best is trial 163 with value: 5.91810549344704.\u001b[0m\n"
     ]
    },
    {
     "name": "stdout",
     "output_type": "stream",
     "text": [
      "MAE of Train: 5.921408976129685\n",
      "MAE of Validation: 5.934893803560111\n"
     ]
    },
    {
     "name": "stderr",
     "output_type": "stream",
     "text": [
      "\u001b[32m[I 2022-03-26 01:18:51,926]\u001b[0m Trial 258 finished with value: 5.923151897977673 and parameters: {'random_state': 519632, 'learning_rate': 0.14806425788503597, 'bagging_temperature': 3.761545028754746, 'max_depth': 5, 'random_strength': 43, 'l2_leaf_reg': 2.1839007105068716e-05, 'min_child_samples': 19, 'max_bin': 469, 'od_type': 'Iter', 'task_type': 'GPU', 'loss_function': 'MAE', 'eval_metric': 'MAE'}. Best is trial 163 with value: 5.91810549344704.\u001b[0m\n"
     ]
    },
    {
     "name": "stdout",
     "output_type": "stream",
     "text": [
      "MAE of Train: 5.9137923010597095\n",
      "MAE of Validation: 5.923151897977673\n"
     ]
    },
    {
     "name": "stderr",
     "output_type": "stream",
     "text": [
      "\u001b[32m[I 2022-03-26 01:18:59,050]\u001b[0m Trial 259 finished with value: 5.922658494659191 and parameters: {'random_state': 519632, 'learning_rate': 0.10546921184403828, 'bagging_temperature': 2.3528405840644098, 'max_depth': 5, 'random_strength': 45, 'l2_leaf_reg': 2.2638812194615632e-05, 'min_child_samples': 16, 'max_bin': 211, 'od_type': 'Iter', 'task_type': 'GPU', 'loss_function': 'MAE', 'eval_metric': 'MAE'}. Best is trial 163 with value: 5.91810549344704.\u001b[0m\n"
     ]
    },
    {
     "name": "stdout",
     "output_type": "stream",
     "text": [
      "MAE of Train: 5.915889764642648\n",
      "MAE of Validation: 5.922658494659191\n"
     ]
    },
    {
     "name": "stderr",
     "output_type": "stream",
     "text": [
      "\u001b[32m[I 2022-03-26 01:19:02,612]\u001b[0m Trial 260 finished with value: 5.946601273357699 and parameters: {'random_state': 519632, 'learning_rate': 0.13114045136848243, 'bagging_temperature': 2.444966266274121, 'max_depth': 5, 'random_strength': 41, 'l2_leaf_reg': 1.896006892212254e-05, 'min_child_samples': 16, 'max_bin': 206, 'od_type': 'Iter', 'task_type': 'GPU', 'loss_function': 'MAE', 'eval_metric': 'MAE'}. Best is trial 163 with value: 5.91810549344704.\u001b[0m\n"
     ]
    },
    {
     "name": "stdout",
     "output_type": "stream",
     "text": [
      "MAE of Train: 5.940749883755331\n",
      "MAE of Validation: 5.946601273357699\n"
     ]
    },
    {
     "name": "stderr",
     "output_type": "stream",
     "text": [
      "\u001b[32m[I 2022-03-26 01:19:07,192]\u001b[0m Trial 261 finished with value: 5.932895724361041 and parameters: {'random_state': 519632, 'learning_rate': 0.10867345784140685, 'bagging_temperature': 2.0960482236914313, 'max_depth': 5, 'random_strength': 46, 'l2_leaf_reg': 2.23430470325684e-05, 'min_child_samples': 13, 'max_bin': 210, 'od_type': 'Iter', 'task_type': 'GPU', 'loss_function': 'MAE', 'eval_metric': 'MAE'}. Best is trial 163 with value: 5.91810549344704.\u001b[0m\n"
     ]
    },
    {
     "name": "stdout",
     "output_type": "stream",
     "text": [
      "MAE of Train: 5.9263299435321395\n",
      "MAE of Validation: 5.932895724361041\n"
     ]
    },
    {
     "name": "stderr",
     "output_type": "stream",
     "text": [
      "\u001b[32m[I 2022-03-26 01:19:13,835]\u001b[0m Trial 262 finished with value: 5.917214563261503 and parameters: {'random_state': 519632, 'learning_rate': 0.17623637793157723, 'bagging_temperature': 2.9100568122845534, 'max_depth': 5, 'random_strength': 37, 'l2_leaf_reg': 2.0847004301036116e-05, 'min_child_samples': 9, 'max_bin': 201, 'od_type': 'Iter', 'task_type': 'GPU', 'loss_function': 'MAE', 'eval_metric': 'MAE'}. Best is trial 262 with value: 5.917214563261503.\u001b[0m\n"
     ]
    },
    {
     "name": "stdout",
     "output_type": "stream",
     "text": [
      "MAE of Train: 5.907984461294135\n",
      "MAE of Validation: 5.917214563261503\n"
     ]
    },
    {
     "name": "stderr",
     "output_type": "stream",
     "text": [
      "\u001b[32m[I 2022-03-26 01:19:14,794]\u001b[0m Trial 263 finished with value: 13.852044038483612 and parameters: {'random_state': 519632, 'learning_rate': 0.15897268691728286, 'bagging_temperature': 51.60410807232775, 'max_depth': 5, 'random_strength': 36, 'l2_leaf_reg': 2.0851683625678683e-05, 'min_child_samples': 55, 'max_bin': 201, 'od_type': 'Iter', 'task_type': 'GPU', 'loss_function': 'MAE', 'eval_metric': 'MAE'}. Best is trial 262 with value: 5.917214563261503.\u001b[0m\n"
     ]
    },
    {
     "name": "stdout",
     "output_type": "stream",
     "text": [
      "MAE of Train: 13.841317376072439\n",
      "MAE of Validation: 13.852044038483612\n"
     ]
    },
    {
     "name": "stderr",
     "output_type": "stream",
     "text": [
      "\u001b[32m[I 2022-03-26 01:19:19,132]\u001b[0m Trial 264 finished with value: 5.928328518434001 and parameters: {'random_state': 519632, 'learning_rate': 0.19102246446022314, 'bagging_temperature': 2.8939214964422764, 'max_depth': 5, 'random_strength': 37, 'l2_leaf_reg': 1.938997480835441e-05, 'min_child_samples': 17, 'max_bin': 200, 'od_type': 'Iter', 'task_type': 'GPU', 'loss_function': 'MAE', 'eval_metric': 'MAE'}. Best is trial 262 with value: 5.917214563261503.\u001b[0m\n"
     ]
    },
    {
     "name": "stdout",
     "output_type": "stream",
     "text": [
      "MAE of Train: 5.9224137362402365\n",
      "MAE of Validation: 5.928328518434001\n"
     ]
    },
    {
     "name": "stderr",
     "output_type": "stream",
     "text": [
      "\u001b[32m[I 2022-03-26 01:19:23,892]\u001b[0m Trial 265 finished with value: 5.924179566616823 and parameters: {'random_state': 519632, 'learning_rate': 0.20735503924156784, 'bagging_temperature': 3.262266898470272, 'max_depth': 6, 'random_strength': 35, 'l2_leaf_reg': 1.8004165613973862e-05, 'min_child_samples': 7, 'max_bin': 206, 'od_type': 'Iter', 'task_type': 'GPU', 'loss_function': 'MAE', 'eval_metric': 'MAE'}. Best is trial 262 with value: 5.917214563261503.\u001b[0m\n"
     ]
    },
    {
     "name": "stdout",
     "output_type": "stream",
     "text": [
      "MAE of Train: 5.914450315295239\n",
      "MAE of Validation: 5.924179566616823\n"
     ]
    },
    {
     "name": "stderr",
     "output_type": "stream",
     "text": [
      "\u001b[32m[I 2022-03-26 01:19:27,812]\u001b[0m Trial 266 finished with value: 5.9426280298634095 and parameters: {'random_state': 519632, 'learning_rate': 0.1692057570879225, 'bagging_temperature': 2.8234171941874644, 'max_depth': 4, 'random_strength': 33, 'l2_leaf_reg': 1.93980170199772e-05, 'min_child_samples': 11, 'max_bin': 217, 'od_type': 'Iter', 'task_type': 'GPU', 'loss_function': 'MAE', 'eval_metric': 'MAE'}. Best is trial 262 with value: 5.917214563261503.\u001b[0m\n"
     ]
    },
    {
     "name": "stdout",
     "output_type": "stream",
     "text": [
      "MAE of Train: 5.939085821849228\n",
      "MAE of Validation: 5.9426280298634095\n"
     ]
    },
    {
     "name": "stderr",
     "output_type": "stream",
     "text": [
      "\u001b[32m[I 2022-03-26 01:19:34,314]\u001b[0m Trial 267 finished with value: 5.9214682167353265 and parameters: {'random_state': 519632, 'learning_rate': 0.14904138145862447, 'bagging_temperature': 3.6549726991734874, 'max_depth': 5, 'random_strength': 44, 'l2_leaf_reg': 2.1621297268690124e-05, 'min_child_samples': 10, 'max_bin': 228, 'od_type': 'Iter', 'task_type': 'GPU', 'loss_function': 'MAE', 'eval_metric': 'MAE'}. Best is trial 262 with value: 5.917214563261503.\u001b[0m\n"
     ]
    },
    {
     "name": "stdout",
     "output_type": "stream",
     "text": [
      "MAE of Train: 5.910037726524262\n",
      "MAE of Validation: 5.9214682167353265\n"
     ]
    },
    {
     "name": "stderr",
     "output_type": "stream",
     "text": [
      "\u001b[32m[I 2022-03-26 01:19:41,424]\u001b[0m Trial 268 finished with value: 5.92002710957627 and parameters: {'random_state': 519632, 'learning_rate': 0.14024248789074079, 'bagging_temperature': 3.434305226801007, 'max_depth': 5, 'random_strength': 43, 'l2_leaf_reg': 2.3086765501745917e-05, 'min_child_samples': 9, 'max_bin': 448, 'od_type': 'Iter', 'task_type': 'GPU', 'loss_function': 'MAE', 'eval_metric': 'MAE'}. Best is trial 262 with value: 5.917214563261503.\u001b[0m\n"
     ]
    },
    {
     "name": "stdout",
     "output_type": "stream",
     "text": [
      "MAE of Train: 5.911668093794816\n",
      "MAE of Validation: 5.92002710957627\n"
     ]
    },
    {
     "name": "stderr",
     "output_type": "stream",
     "text": [
      "\u001b[32m[I 2022-03-26 01:19:47,183]\u001b[0m Trial 269 finished with value: 5.927372430309973 and parameters: {'random_state': 519632, 'learning_rate': 0.18001797662779503, 'bagging_temperature': 3.289620096780287, 'max_depth': 5, 'random_strength': 44, 'l2_leaf_reg': 2.1968753694351535e-05, 'min_child_samples': 10, 'max_bin': 448, 'od_type': 'Iter', 'task_type': 'GPU', 'loss_function': 'MAE', 'eval_metric': 'MAE'}. Best is trial 262 with value: 5.917214563261503.\u001b[0m\n"
     ]
    },
    {
     "name": "stdout",
     "output_type": "stream",
     "text": [
      "MAE of Train: 5.919662523079173\n",
      "MAE of Validation: 5.927372430309973\n"
     ]
    },
    {
     "name": "stderr",
     "output_type": "stream",
     "text": [
      "\u001b[32m[I 2022-03-26 01:19:51,290]\u001b[0m Trial 270 finished with value: 5.944939141490705 and parameters: {'random_state': 519632, 'learning_rate': 0.15001237459875655, 'bagging_temperature': 1.6637976088338182, 'max_depth': 5, 'random_strength': 40, 'l2_leaf_reg': 2.164628217099961e-05, 'min_child_samples': 6, 'max_bin': 205, 'od_type': 'Iter', 'task_type': 'GPU', 'loss_function': 'MAE', 'eval_metric': 'MAE'}. Best is trial 262 with value: 5.917214563261503.\u001b[0m\n"
     ]
    },
    {
     "name": "stdout",
     "output_type": "stream",
     "text": [
      "MAE of Train: 5.940050899879884\n",
      "MAE of Validation: 5.944939141490705\n"
     ]
    },
    {
     "name": "stderr",
     "output_type": "stream",
     "text": [
      "\u001b[32m[I 2022-03-26 01:19:52,788]\u001b[0m Trial 271 finished with value: 5.960468298988626 and parameters: {'random_state': 519632, 'learning_rate': 0.23056640249701765, 'bagging_temperature': 2.5432580761455874, 'max_depth': 5, 'random_strength': 48, 'l2_leaf_reg': 2.3392453833305675e-05, 'min_child_samples': 8, 'max_bin': 450, 'od_type': 'Iter', 'task_type': 'GPU', 'loss_function': 'MAE', 'eval_metric': 'MAE'}. Best is trial 262 with value: 5.917214563261503.\u001b[0m\n"
     ]
    },
    {
     "name": "stdout",
     "output_type": "stream",
     "text": [
      "MAE of Train: 5.957404239597161\n",
      "MAE of Validation: 5.960468298988626\n"
     ]
    },
    {
     "name": "stderr",
     "output_type": "stream",
     "text": [
      "\u001b[32m[I 2022-03-26 01:19:59,892]\u001b[0m Trial 272 finished with value: 5.922628144666958 and parameters: {'random_state': 519632, 'learning_rate': 0.14047011721607758, 'bagging_temperature': 3.5959590901561023, 'max_depth': 5, 'random_strength': 41, 'l2_leaf_reg': 2.2046375891901e-05, 'min_child_samples': 9, 'max_bin': 210, 'od_type': 'Iter', 'task_type': 'GPU', 'loss_function': 'MAE', 'eval_metric': 'MAE'}. Best is trial 262 with value: 5.917214563261503.\u001b[0m\n"
     ]
    },
    {
     "name": "stdout",
     "output_type": "stream",
     "text": [
      "MAE of Train: 5.913723564519926\n",
      "MAE of Validation: 5.922628144666958\n"
     ]
    },
    {
     "name": "stderr",
     "output_type": "stream",
     "text": [
      "\u001b[32m[I 2022-03-26 01:20:01,729]\u001b[0m Trial 273 finished with value: 5.965853354071781 and parameters: {'random_state': 519632, 'learning_rate': 0.1797045553186888, 'bagging_temperature': 2.906923568771149, 'max_depth': 5, 'random_strength': 44, 'l2_leaf_reg': 2.1384750501039777e-05, 'min_child_samples': 11, 'max_bin': 442, 'od_type': 'Iter', 'task_type': 'GPU', 'loss_function': 'MAE', 'eval_metric': 'MAE'}. Best is trial 262 with value: 5.917214563261503.\u001b[0m\n"
     ]
    },
    {
     "name": "stdout",
     "output_type": "stream",
     "text": [
      "MAE of Train: 5.959387655289256\n",
      "MAE of Validation: 5.965853354071781\n"
     ]
    },
    {
     "name": "stderr",
     "output_type": "stream",
     "text": [
      "\u001b[32m[I 2022-03-26 01:20:06,514]\u001b[0m Trial 274 finished with value: 5.951363799841573 and parameters: {'random_state': 519632, 'learning_rate': 0.1412970568958534, 'bagging_temperature': 1.9082585400702294, 'max_depth': 5, 'random_strength': 49, 'l2_leaf_reg': 2.0414963950683338e-05, 'min_child_samples': 8, 'max_bin': 456, 'od_type': 'Iter', 'task_type': 'GPU', 'loss_function': 'MAE', 'eval_metric': 'MAE'}. Best is trial 262 with value: 5.917214563261503.\u001b[0m\n"
     ]
    },
    {
     "name": "stdout",
     "output_type": "stream",
     "text": [
      "MAE of Train: 5.945336043607187\n",
      "MAE of Validation: 5.951363799841573\n"
     ]
    },
    {
     "name": "stderr",
     "output_type": "stream",
     "text": [
      "\u001b[32m[I 2022-03-26 01:20:13,633]\u001b[0m Trial 275 finished with value: 5.9246389719539545 and parameters: {'random_state': 519632, 'learning_rate': 0.13243405238000794, 'bagging_temperature': 3.653208994498482, 'max_depth': 5, 'random_strength': 42, 'l2_leaf_reg': 2.3267385087808645e-05, 'min_child_samples': 12, 'max_bin': 204, 'od_type': 'Iter', 'task_type': 'GPU', 'loss_function': 'MAE', 'eval_metric': 'MAE'}. Best is trial 262 with value: 5.917214563261503.\u001b[0m\n"
     ]
    },
    {
     "name": "stdout",
     "output_type": "stream",
     "text": [
      "MAE of Train: 5.916225373165383\n",
      "MAE of Validation: 5.9246389719539545\n"
     ]
    },
    {
     "name": "stderr",
     "output_type": "stream",
     "text": [
      "\u001b[32m[I 2022-03-26 01:20:18,654]\u001b[0m Trial 276 finished with value: 5.929760057964509 and parameters: {'random_state': 519632, 'learning_rate': 0.16187154976317886, 'bagging_temperature': 4.756997968942028, 'max_depth': 5, 'random_strength': 46, 'l2_leaf_reg': 2.2581896349085538e-05, 'min_child_samples': 14, 'max_bin': 463, 'od_type': 'Iter', 'task_type': 'GPU', 'loss_function': 'MAE', 'eval_metric': 'MAE'}. Best is trial 262 with value: 5.917214563261503.\u001b[0m\n"
     ]
    },
    {
     "name": "stdout",
     "output_type": "stream",
     "text": [
      "MAE of Train: 5.917577016932335\n",
      "MAE of Validation: 5.929760057964509\n"
     ]
    },
    {
     "name": "stderr",
     "output_type": "stream",
     "text": [
      "\u001b[32m[I 2022-03-26 01:20:23,895]\u001b[0m Trial 277 finished with value: 5.936360089968967 and parameters: {'random_state': 519632, 'learning_rate': 0.12206684702940263, 'bagging_temperature': 2.546962535507966, 'max_depth': 5, 'random_strength': 39, 'l2_leaf_reg': 1.9731122331208068e-05, 'min_child_samples': 19, 'max_bin': 200, 'od_type': 'Iter', 'task_type': 'GPU', 'loss_function': 'MAE', 'eval_metric': 'MAE'}. Best is trial 262 with value: 5.917214563261503.\u001b[0m\n"
     ]
    },
    {
     "name": "stdout",
     "output_type": "stream",
     "text": [
      "MAE of Train: 5.930715409670144\n",
      "MAE of Validation: 5.936360089968967\n"
     ]
    },
    {
     "name": "stderr",
     "output_type": "stream",
     "text": [
      "\u001b[32m[I 2022-03-26 01:20:28,895]\u001b[0m Trial 278 finished with value: 5.929941882575314 and parameters: {'random_state': 519632, 'learning_rate': 0.20970327980421707, 'bagging_temperature': 3.1711465187424954, 'max_depth': 5, 'random_strength': 53, 'l2_leaf_reg': 7.0041235367877544e-06, 'min_child_samples': 8, 'max_bin': 212, 'od_type': 'Iter', 'task_type': 'GPU', 'loss_function': 'MAE', 'eval_metric': 'MAE'}. Best is trial 262 with value: 5.917214563261503.\u001b[0m\n"
     ]
    },
    {
     "name": "stdout",
     "output_type": "stream",
     "text": [
      "MAE of Train: 5.92375382045612\n",
      "MAE of Validation: 5.929941882575314\n"
     ]
    },
    {
     "name": "stderr",
     "output_type": "stream",
     "text": [
      "\u001b[32m[I 2022-03-26 01:20:33,854]\u001b[0m Trial 279 finished with value: 5.924217139159166 and parameters: {'random_state': 519632, 'learning_rate': 0.12189043161398595, 'bagging_temperature': 3.8887889664280126, 'max_depth': 6, 'random_strength': 43, 'l2_leaf_reg': 2.082938192388993e-05, 'min_child_samples': 48, 'max_bin': 220, 'od_type': 'Iter', 'task_type': 'GPU', 'loss_function': 'MAE', 'eval_metric': 'MAE'}. Best is trial 262 with value: 5.917214563261503.\u001b[0m\n"
     ]
    },
    {
     "name": "stdout",
     "output_type": "stream",
     "text": [
      "MAE of Train: 5.911332621462421\n",
      "MAE of Validation: 5.924217139159166\n"
     ]
    },
    {
     "name": "stderr",
     "output_type": "stream",
     "text": [
      "\u001b[32m[I 2022-03-26 01:20:40,238]\u001b[0m Trial 280 finished with value: 5.929053345466453 and parameters: {'random_state': 519632, 'learning_rate': 0.14487850048728657, 'bagging_temperature': 4.979143667686609, 'max_depth': 5, 'random_strength': 51, 'l2_leaf_reg': 1.8583733716944516e-05, 'min_child_samples': 5, 'max_bin': 231, 'od_type': 'Iter', 'task_type': 'GPU', 'loss_function': 'MAE', 'eval_metric': 'MAE'}. Best is trial 262 with value: 5.917214563261503.\u001b[0m\n"
     ]
    },
    {
     "name": "stdout",
     "output_type": "stream",
     "text": [
      "MAE of Train: 5.915510295276201\n",
      "MAE of Validation: 5.929053345466453\n"
     ]
    },
    {
     "name": "stderr",
     "output_type": "stream",
     "text": [
      "\u001b[32m[I 2022-03-26 01:20:46,498]\u001b[0m Trial 281 finished with value: 9.251382537707922 and parameters: {'random_state': 519632, 'learning_rate': 0.0006865896084873474, 'bagging_temperature': 2.9523879706677625, 'max_depth': 5, 'random_strength': 47, 'l2_leaf_reg': 1.6513174171399338e-05, 'min_child_samples': 60, 'max_bin': 344, 'od_type': 'Iter', 'task_type': 'GPU', 'loss_function': 'MAE', 'eval_metric': 'MAE'}. Best is trial 262 with value: 5.917214563261503.\u001b[0m\n"
     ]
    },
    {
     "name": "stdout",
     "output_type": "stream",
     "text": [
      "MAE of Train: 9.241025107339642\n",
      "MAE of Validation: 9.251382537707922\n"
     ]
    },
    {
     "name": "stderr",
     "output_type": "stream",
     "text": [
      "\u001b[32m[I 2022-03-26 01:20:50,028]\u001b[0m Trial 282 finished with value: 5.937228406629099 and parameters: {'random_state': 519632, 'learning_rate': 0.1009152344544488, 'bagging_temperature': 0.15332363593488466, 'max_depth': 5, 'random_strength': 44, 'l2_leaf_reg': 1.1419757085144048e-05, 'min_child_samples': 18, 'max_bin': 209, 'od_type': 'Iter', 'task_type': 'GPU', 'loss_function': 'MAE', 'eval_metric': 'MAE'}. Best is trial 262 with value: 5.917214563261503.\u001b[0m\n"
     ]
    },
    {
     "name": "stdout",
     "output_type": "stream",
     "text": [
      "MAE of Train: 5.930786343937018\n",
      "MAE of Validation: 5.937228406629099\n"
     ]
    },
    {
     "name": "stderr",
     "output_type": "stream",
     "text": [
      "\u001b[32m[I 2022-03-26 01:20:56,686]\u001b[0m Trial 283 finished with value: 5.939938273754861 and parameters: {'random_state': 519632, 'learning_rate': 0.06385011227432329, 'bagging_temperature': 3.8303917236031566, 'max_depth': 4, 'random_strength': 41, 'l2_leaf_reg': 1.752413738806963e-05, 'min_child_samples': 9, 'max_bin': 215, 'od_type': 'Iter', 'task_type': 'GPU', 'loss_function': 'MAE', 'eval_metric': 'MAE'}. Best is trial 262 with value: 5.917214563261503.\u001b[0m\n"
     ]
    },
    {
     "name": "stdout",
     "output_type": "stream",
     "text": [
      "MAE of Train: 5.935593146593341\n",
      "MAE of Validation: 5.939938273754861\n"
     ]
    },
    {
     "name": "stderr",
     "output_type": "stream",
     "text": [
      "\u001b[32m[I 2022-03-26 01:21:02,854]\u001b[0m Trial 284 finished with value: 6.719077130314926 and parameters: {'random_state': 519632, 'learning_rate': 0.001811570717462248, 'bagging_temperature': 5.836338122918208, 'max_depth': 5, 'random_strength': 97, 'l2_leaf_reg': 2.0708716999099747e-05, 'min_child_samples': 58, 'max_bin': 222, 'od_type': 'Iter', 'task_type': 'GPU', 'loss_function': 'MAE', 'eval_metric': 'MAE'}. Best is trial 262 with value: 5.917214563261503.\u001b[0m\n"
     ]
    },
    {
     "name": "stdout",
     "output_type": "stream",
     "text": [
      "MAE of Train: 6.711683564250082\n",
      "MAE of Validation: 6.719077130314926\n"
     ]
    },
    {
     "name": "stderr",
     "output_type": "stream",
     "text": [
      "\u001b[32m[I 2022-03-26 01:21:07,577]\u001b[0m Trial 285 finished with value: 5.935109087723771 and parameters: {'random_state': 519632, 'learning_rate': 0.07586787233621062, 'bagging_temperature': 2.1391571934104086, 'max_depth': 5, 'random_strength': 40, 'l2_leaf_reg': 2.3728723201207613e-05, 'min_child_samples': 21, 'max_bin': 206, 'od_type': 'Iter', 'task_type': 'GPU', 'loss_function': 'MAE', 'eval_metric': 'MAE'}. Best is trial 262 with value: 5.917214563261503.\u001b[0m\n"
     ]
    },
    {
     "name": "stdout",
     "output_type": "stream",
     "text": [
      "MAE of Train: 5.929718904813599\n",
      "MAE of Validation: 5.935109087723771\n"
     ]
    },
    {
     "name": "stderr",
     "output_type": "stream",
     "text": [
      "\u001b[32m[I 2022-03-26 01:21:14,577]\u001b[0m Trial 286 finished with value: 5.926682523964077 and parameters: {'random_state': 519632, 'learning_rate': 0.1821798987676991, 'bagging_temperature': 4.396053566458973, 'max_depth': 5, 'random_strength': 38, 'l2_leaf_reg': 1.3074005867299346e-05, 'min_child_samples': 10, 'max_bin': 200, 'od_type': 'Iter', 'task_type': 'GPU', 'loss_function': 'MAE', 'eval_metric': 'MAE'}. Best is trial 262 with value: 5.917214563261503.\u001b[0m\n"
     ]
    },
    {
     "name": "stdout",
     "output_type": "stream",
     "text": [
      "MAE of Train: 5.911937575939392\n",
      "MAE of Validation: 5.926682523964077\n"
     ]
    },
    {
     "name": "stderr",
     "output_type": "stream",
     "text": [
      "\u001b[32m[I 2022-03-26 01:21:18,783]\u001b[0m Trial 287 finished with value: 5.9325157972867 and parameters: {'random_state': 519632, 'learning_rate': 0.11916331247837622, 'bagging_temperature': 3.367645143818918, 'max_depth': 5, 'random_strength': 34, 'l2_leaf_reg': 2.183415458038804e-05, 'min_child_samples': 53, 'max_bin': 439, 'od_type': 'Iter', 'task_type': 'GPU', 'loss_function': 'MAE', 'eval_metric': 'MAE'}. Best is trial 262 with value: 5.917214563261503.\u001b[0m\n"
     ]
    },
    {
     "name": "stdout",
     "output_type": "stream",
     "text": [
      "MAE of Train: 5.928868300852669\n",
      "MAE of Validation: 5.9325157972867\n"
     ]
    },
    {
     "name": "stderr",
     "output_type": "stream",
     "text": [
      "\u001b[32m[I 2022-03-26 01:21:23,956]\u001b[0m Trial 288 finished with value: 5.93224249822379 and parameters: {'random_state': 519632, 'learning_rate': 0.08837461856265395, 'bagging_temperature': 2.506763029962193, 'max_depth': 5, 'random_strength': 89, 'l2_leaf_reg': 2.146629405650673e-05, 'min_child_samples': 12, 'max_bin': 214, 'od_type': 'Iter', 'task_type': 'GPU', 'loss_function': 'MAE', 'eval_metric': 'MAE'}. Best is trial 262 with value: 5.917214563261503.\u001b[0m\n"
     ]
    },
    {
     "name": "stdout",
     "output_type": "stream",
     "text": [
      "MAE of Train: 5.927389483369933\n",
      "MAE of Validation: 5.93224249822379\n"
     ]
    },
    {
     "name": "stderr",
     "output_type": "stream",
     "text": [
      "\u001b[32m[I 2022-03-26 01:21:30,042]\u001b[0m Trial 289 finished with value: 5.924014266169731 and parameters: {'random_state': 519632, 'learning_rate': 0.1615401630315405, 'bagging_temperature': 4.271570186413708, 'max_depth': 5, 'random_strength': 37, 'l2_leaf_reg': 1.7886308908215987e-05, 'min_child_samples': 24, 'max_bin': 228, 'od_type': 'Iter', 'task_type': 'GPU', 'loss_function': 'MAE', 'eval_metric': 'MAE'}. Best is trial 262 with value: 5.917214563261503.\u001b[0m\n"
     ]
    },
    {
     "name": "stdout",
     "output_type": "stream",
     "text": [
      "MAE of Train: 5.910529920163826\n",
      "MAE of Validation: 5.924014266169731\n"
     ]
    },
    {
     "name": "stderr",
     "output_type": "stream",
     "text": [
      "\u001b[32m[I 2022-03-26 01:21:37,088]\u001b[0m Trial 290 finished with value: 5.926851284424422 and parameters: {'random_state': 519632, 'learning_rate': 0.10606909648154239, 'bagging_temperature': 3.2749220354507074, 'max_depth': 5, 'random_strength': 29, 'l2_leaf_reg': 1.8861269173808085e-05, 'min_child_samples': 14, 'max_bin': 467, 'od_type': 'Iter', 'task_type': 'GPU', 'loss_function': 'MAE', 'eval_metric': 'MAE'}. Best is trial 262 with value: 5.917214563261503.\u001b[0m\n"
     ]
    },
    {
     "name": "stdout",
     "output_type": "stream",
     "text": [
      "MAE of Train: 5.920430630487276\n",
      "MAE of Validation: 5.926851284424422\n"
     ]
    },
    {
     "name": "stderr",
     "output_type": "stream",
     "text": [
      "\u001b[32m[I 2022-03-26 01:21:43,174]\u001b[0m Trial 291 finished with value: 5.923119470956455 and parameters: {'random_state': 519632, 'learning_rate': 0.13561289961243903, 'bagging_temperature': 2.750406190211478, 'max_depth': 5, 'random_strength': 86, 'l2_leaf_reg': 2.8138563388108512e-05, 'min_child_samples': 42, 'max_bin': 413, 'od_type': 'Iter', 'task_type': 'GPU', 'loss_function': 'MAE', 'eval_metric': 'MAE'}. Best is trial 262 with value: 5.917214563261503.\u001b[0m\n"
     ]
    },
    {
     "name": "stdout",
     "output_type": "stream",
     "text": [
      "MAE of Train: 5.916576836781918\n",
      "MAE of Validation: 5.923119470956455\n"
     ]
    },
    {
     "name": "stderr",
     "output_type": "stream",
     "text": [
      "\u001b[32m[I 2022-03-26 01:21:48,332]\u001b[0m Trial 292 finished with value: 5.931698845965482 and parameters: {'random_state': 519632, 'learning_rate': 0.0954993225728093, 'bagging_temperature': 5.270689736736309, 'max_depth': 6, 'random_strength': 100, 'l2_leaf_reg': 2.4434703216878107e-05, 'min_child_samples': 21, 'max_bin': 376, 'od_type': 'Iter', 'task_type': 'GPU', 'loss_function': 'MAE', 'eval_metric': 'MAE'}. Best is trial 262 with value: 5.917214563261503.\u001b[0m\n"
     ]
    },
    {
     "name": "stdout",
     "output_type": "stream",
     "text": [
      "MAE of Train: 5.918016832339088\n",
      "MAE of Validation: 5.931698845965482\n"
     ]
    },
    {
     "name": "stderr",
     "output_type": "stream",
     "text": [
      "\u001b[32m[I 2022-03-26 01:21:55,440]\u001b[0m Trial 293 finished with value: 5.923269336435524 and parameters: {'random_state': 519632, 'learning_rate': 0.07820762040359854, 'bagging_temperature': 4.1076106909680625, 'max_depth': 5, 'random_strength': 60, 'l2_leaf_reg': 2.314445982106215e-05, 'min_child_samples': 18, 'max_bin': 210, 'od_type': 'Iter', 'task_type': 'GPU', 'loss_function': 'MAE', 'eval_metric': 'MAE'}. Best is trial 262 with value: 5.917214563261503.\u001b[0m\n"
     ]
    },
    {
     "name": "stdout",
     "output_type": "stream",
     "text": [
      "MAE of Train: 5.913597754454018\n",
      "MAE of Validation: 5.923269336435524\n"
     ]
    },
    {
     "name": "stderr",
     "output_type": "stream",
     "text": [
      "\u001b[32m[I 2022-03-26 01:22:02,275]\u001b[0m Trial 294 finished with value: 5.94238078866931 and parameters: {'random_state': 519632, 'learning_rate': 0.11621568907617698, 'bagging_temperature': 6.486848962262338, 'max_depth': 5, 'random_strength': 32, 'l2_leaf_reg': 2.040788855572281e-05, 'min_child_samples': 23, 'max_bin': 423, 'od_type': 'Iter', 'task_type': 'GPU', 'loss_function': 'MAE', 'eval_metric': 'MAE'}. Best is trial 262 with value: 5.917214563261503.\u001b[0m\n"
     ]
    },
    {
     "name": "stdout",
     "output_type": "stream",
     "text": [
      "MAE of Train: 5.927771069876722\n",
      "MAE of Validation: 5.94238078866931\n"
     ]
    },
    {
     "name": "stderr",
     "output_type": "stream",
     "text": [
      "\u001b[32m[I 2022-03-26 01:22:09,152]\u001b[0m Trial 295 finished with value: 5.922252001802069 and parameters: {'random_state': 519632, 'learning_rate': 0.23071672495577075, 'bagging_temperature': 3.533865399492573, 'max_depth': 4, 'random_strength': 87, 'l2_leaf_reg': 2.6183773008484703e-05, 'min_child_samples': 30, 'max_bin': 221, 'od_type': 'Iter', 'task_type': 'GPU', 'loss_function': 'MAE', 'eval_metric': 'MAE'}. Best is trial 262 with value: 5.917214563261503.\u001b[0m\n"
     ]
    },
    {
     "name": "stdout",
     "output_type": "stream",
     "text": [
      "MAE of Train: 5.9132399920855825\n",
      "MAE of Validation: 5.922252001802069\n"
     ]
    },
    {
     "name": "stderr",
     "output_type": "stream",
     "text": [
      "\u001b[32m[I 2022-03-26 01:22:13,299]\u001b[0m Trial 296 finished with value: 5.985573894433416 and parameters: {'random_state': 519632, 'learning_rate': 0.19340341710675726, 'bagging_temperature': 3.4159422961257087, 'max_depth': 3, 'random_strength': 30, 'l2_leaf_reg': 2.6580952979013105e-05, 'min_child_samples': 30, 'max_bin': 222, 'od_type': 'Iter', 'task_type': 'GPU', 'loss_function': 'MAE', 'eval_metric': 'MAE'}. Best is trial 262 with value: 5.917214563261503.\u001b[0m\n"
     ]
    },
    {
     "name": "stdout",
     "output_type": "stream",
     "text": [
      "MAE of Train: 5.98335733575118\n",
      "MAE of Validation: 5.985573894433416\n"
     ]
    },
    {
     "name": "stderr",
     "output_type": "stream",
     "text": [
      "\u001b[32m[I 2022-03-26 01:22:15,349]\u001b[0m Trial 297 finished with value: 5.955697975005518 and parameters: {'random_state': 519632, 'learning_rate': 0.2361647110226077, 'bagging_temperature': 1.406499427150579, 'max_depth': 4, 'random_strength': 98, 'l2_leaf_reg': 2.244583739722619e-05, 'min_child_samples': 31, 'max_bin': 217, 'od_type': 'Iter', 'task_type': 'GPU', 'loss_function': 'MAE', 'eval_metric': 'MAE'}. Best is trial 262 with value: 5.917214563261503.\u001b[0m\n"
     ]
    },
    {
     "name": "stdout",
     "output_type": "stream",
     "text": [
      "MAE of Train: 5.948314773098977\n",
      "MAE of Validation: 5.955697975005518\n"
     ]
    },
    {
     "name": "stderr",
     "output_type": "stream",
     "text": [
      "\u001b[32m[I 2022-03-26 01:22:19,613]\u001b[0m Trial 298 finished with value: 5.9445668150746735 and parameters: {'random_state': 519632, 'learning_rate': 0.21274572589121987, 'bagging_temperature': 2.3627237761733286, 'max_depth': 4, 'random_strength': 56, 'l2_leaf_reg': 2.7389038216364872e-05, 'min_child_samples': 29, 'max_bin': 241, 'od_type': 'Iter', 'task_type': 'GPU', 'loss_function': 'MAE', 'eval_metric': 'MAE'}. Best is trial 262 with value: 5.917214563261503.\u001b[0m\n"
     ]
    },
    {
     "name": "stdout",
     "output_type": "stream",
     "text": [
      "MAE of Train: 5.939401445074422\n",
      "MAE of Validation: 5.9445668150746735\n"
     ]
    },
    {
     "name": "stderr",
     "output_type": "stream",
     "text": [
      "\u001b[32m[I 2022-03-26 01:22:21,316]\u001b[0m Trial 299 finished with value: 5.951724919180006 and parameters: {'random_state': 519632, 'learning_rate': 0.2781664603293269, 'bagging_temperature': 2.906087840754055, 'max_depth': 6, 'random_strength': 89, 'l2_leaf_reg': 2.9996229122456134e-05, 'min_child_samples': 26, 'max_bin': 226, 'od_type': 'Iter', 'task_type': 'GPU', 'loss_function': 'MAE', 'eval_metric': 'MAE'}. Best is trial 262 with value: 5.917214563261503.\u001b[0m\n"
     ]
    },
    {
     "name": "stdout",
     "output_type": "stream",
     "text": [
      "MAE of Train: 5.946034845155204\n",
      "MAE of Validation: 5.951724919180006\n"
     ]
    },
    {
     "name": "stderr",
     "output_type": "stream",
     "text": [
      "\u001b[32m[I 2022-03-26 01:22:28,169]\u001b[0m Trial 300 finished with value: 5.92750555082038 and parameters: {'random_state': 519632, 'learning_rate': 0.16271343317800135, 'bagging_temperature': 3.6488988809847793, 'max_depth': 3, 'random_strength': 45, 'l2_leaf_reg': 9.73733456264169e-06, 'min_child_samples': 32, 'max_bin': 207, 'od_type': 'Iter', 'task_type': 'GPU', 'loss_function': 'MAE', 'eval_metric': 'MAE'}. Best is trial 262 with value: 5.917214563261503.\u001b[0m\n"
     ]
    },
    {
     "name": "stdout",
     "output_type": "stream",
     "text": [
      "MAE of Train: 5.922300683792256\n",
      "MAE of Validation: 5.92750555082038\n"
     ]
    },
    {
     "name": "stderr",
     "output_type": "stream",
     "text": [
      "\u001b[32m[I 2022-03-26 01:22:32,362]\u001b[0m Trial 301 finished with value: 5.942577423402172 and parameters: {'random_state': 519632, 'learning_rate': 0.19523545666503803, 'bagging_temperature': 2.105540943160822, 'max_depth': 4, 'random_strength': 96, 'l2_leaf_reg': 1.9855965054426453e-05, 'min_child_samples': 7, 'max_bin': 218, 'od_type': 'Iter', 'task_type': 'GPU', 'loss_function': 'MAE', 'eval_metric': 'MAE'}. Best is trial 262 with value: 5.917214563261503.\u001b[0m\n"
     ]
    },
    {
     "name": "stdout",
     "output_type": "stream",
     "text": [
      "MAE of Train: 5.937550830682639\n",
      "MAE of Validation: 5.942577423402172\n"
     ]
    },
    {
     "name": "stderr",
     "output_type": "stream",
     "text": [
      "\u001b[32m[I 2022-03-26 01:22:39,505]\u001b[0m Trial 302 finished with value: 5.931600130278707 and parameters: {'random_state': 519632, 'learning_rate': 0.24288658819426587, 'bagging_temperature': 3.0184581742184453, 'max_depth': 6, 'random_strength': 17, 'l2_leaf_reg': 2.626963686629453e-05, 'min_child_samples': 25, 'max_bin': 212, 'od_type': 'Iter', 'task_type': 'GPU', 'loss_function': 'MAE', 'eval_metric': 'MAE'}. Best is trial 262 with value: 5.917214563261503.\u001b[0m\n"
     ]
    },
    {
     "name": "stdout",
     "output_type": "stream",
     "text": [
      "MAE of Train: 5.9230253033396885\n",
      "MAE of Validation: 5.931600130278707\n"
     ]
    },
    {
     "name": "stderr",
     "output_type": "stream",
     "text": [
      "\u001b[32m[I 2022-03-26 01:22:46,395]\u001b[0m Trial 303 finished with value: 5.924943476730795 and parameters: {'random_state': 519632, 'learning_rate': 0.15017611340997794, 'bagging_temperature': 3.7777082569512404, 'max_depth': 4, 'random_strength': 64, 'l2_leaf_reg': 2.869968998189627e-05, 'min_child_samples': 28, 'max_bin': 204, 'od_type': 'Iter', 'task_type': 'GPU', 'loss_function': 'MAE', 'eval_metric': 'MAE'}. Best is trial 262 with value: 5.917214563261503.\u001b[0m\n"
     ]
    },
    {
     "name": "stdout",
     "output_type": "stream",
     "text": [
      "MAE of Train: 5.918349742595057\n",
      "MAE of Validation: 5.924943476730795\n"
     ]
    },
    {
     "name": "stderr",
     "output_type": "stream",
     "text": [
      "\u001b[32m[I 2022-03-26 01:22:53,538]\u001b[0m Trial 304 finished with value: 5.930355850597311 and parameters: {'random_state': 519632, 'learning_rate': 0.13424929050579204, 'bagging_temperature': 2.5575515294163353, 'max_depth': 5, 'random_strength': 22, 'l2_leaf_reg': 2.8331099379500675e-05, 'min_child_samples': 30, 'max_bin': 220, 'od_type': 'Iter', 'task_type': 'GPU', 'loss_function': 'MAE', 'eval_metric': 'MAE'}. Best is trial 262 with value: 5.917214563261503.\u001b[0m\n"
     ]
    },
    {
     "name": "stdout",
     "output_type": "stream",
     "text": [
      "MAE of Train: 5.923587186353268\n",
      "MAE of Validation: 5.930355850597311\n"
     ]
    },
    {
     "name": "stderr",
     "output_type": "stream",
     "text": [
      "\u001b[32m[I 2022-03-26 01:22:57,396]\u001b[0m Trial 305 finished with value: 5.93370085672078 and parameters: {'random_state': 519632, 'learning_rate': 0.17242001527417447, 'bagging_temperature': 4.87463032564177, 'max_depth': 5, 'random_strength': 88, 'l2_leaf_reg': 1.916191688887977e-05, 'min_child_samples': 16, 'max_bin': 213, 'od_type': 'Iter', 'task_type': 'GPU', 'loss_function': 'MAE', 'eval_metric': 'MAE'}. Best is trial 262 with value: 5.917214563261503.\u001b[0m\n"
     ]
    },
    {
     "name": "stdout",
     "output_type": "stream",
     "text": [
      "MAE of Train: 5.923839963909322\n",
      "MAE of Validation: 5.93370085672078\n"
     ]
    },
    {
     "name": "stderr",
     "output_type": "stream",
     "text": [
      "\u001b[32m[I 2022-03-26 01:23:00,226]\u001b[0m Trial 306 finished with value: 5.947384079286126 and parameters: {'random_state': 519632, 'learning_rate': 0.22492374805565124, 'bagging_temperature': 3.13287617241276, 'max_depth': 7, 'random_strength': 93, 'l2_leaf_reg': 2.715584215502813e-05, 'min_child_samples': 10, 'max_bin': 200, 'od_type': 'Iter', 'task_type': 'GPU', 'loss_function': 'MAE', 'eval_metric': 'MAE'}. Best is trial 262 with value: 5.917214563261503.\u001b[0m\n"
     ]
    },
    {
     "name": "stdout",
     "output_type": "stream",
     "text": [
      "MAE of Train: 5.937507253416925\n",
      "MAE of Validation: 5.947384079286126\n"
     ]
    },
    {
     "name": "stderr",
     "output_type": "stream",
     "text": [
      "\u001b[32m[I 2022-03-26 01:23:07,184]\u001b[0m Trial 307 finished with value: 5.92382057639069 and parameters: {'random_state': 519632, 'learning_rate': 0.1073560098823054, 'bagging_temperature': 3.7950502179769714, 'max_depth': 5, 'random_strength': 91, 'l2_leaf_reg': 2.777750541557803e-05, 'min_child_samples': 26, 'max_bin': 230, 'od_type': 'Iter', 'task_type': 'GPU', 'loss_function': 'MAE', 'eval_metric': 'MAE'}. Best is trial 262 with value: 5.917214563261503.\u001b[0m\n"
     ]
    },
    {
     "name": "stdout",
     "output_type": "stream",
     "text": [
      "MAE of Train: 5.915586867324743\n",
      "MAE of Validation: 5.92382057639069\n"
     ]
    },
    {
     "name": "stderr",
     "output_type": "stream",
     "text": [
      "\u001b[32m[I 2022-03-26 01:23:12,667]\u001b[0m Trial 308 finished with value: 5.944223705488105 and parameters: {'random_state': 519632, 'learning_rate': 0.125130818987892, 'bagging_temperature': 1.7338399643945444, 'max_depth': 5, 'random_strength': 98, 'l2_leaf_reg': 2.926407226657633e-05, 'min_child_samples': 13, 'max_bin': 209, 'od_type': 'Iter', 'task_type': 'GPU', 'loss_function': 'MAE', 'eval_metric': 'MAE'}. Best is trial 262 with value: 5.917214563261503.\u001b[0m\n"
     ]
    },
    {
     "name": "stdout",
     "output_type": "stream",
     "text": [
      "MAE of Train: 5.939315535411649\n",
      "MAE of Validation: 5.944223705488105\n"
     ]
    },
    {
     "name": "stderr",
     "output_type": "stream",
     "text": [
      "\u001b[32m[I 2022-03-26 01:23:19,643]\u001b[0m Trial 309 finished with value: 5.92714238406618 and parameters: {'random_state': 519632, 'learning_rate': 0.1451707854688639, 'bagging_temperature': 4.670394317744009, 'max_depth': 5, 'random_strength': 42, 'l2_leaf_reg': 2.588563840158957e-05, 'min_child_samples': 24, 'max_bin': 215, 'od_type': 'Iter', 'task_type': 'GPU', 'loss_function': 'MAE', 'eval_metric': 'MAE'}. Best is trial 262 with value: 5.917214563261503.\u001b[0m\n"
     ]
    },
    {
     "name": "stdout",
     "output_type": "stream",
     "text": [
      "MAE of Train: 5.912679093819867\n",
      "MAE of Validation: 5.92714238406618\n"
     ]
    },
    {
     "name": "stderr",
     "output_type": "stream",
     "text": [
      "\u001b[32m[I 2022-03-26 01:23:23,693]\u001b[0m Trial 310 finished with value: 5.931428137547322 and parameters: {'random_state': 519632, 'learning_rate': 0.10324537313264862, 'bagging_temperature': 2.717570594023283, 'max_depth': 5, 'random_strength': 67, 'l2_leaf_reg': 1.8569039326317482e-05, 'min_child_samples': 28, 'max_bin': 224, 'od_type': 'Iter', 'task_type': 'GPU', 'loss_function': 'MAE', 'eval_metric': 'MAE'}. Best is trial 262 with value: 5.917214563261503.\u001b[0m\n"
     ]
    },
    {
     "name": "stdout",
     "output_type": "stream",
     "text": [
      "MAE of Train: 5.926311485571067\n",
      "MAE of Validation: 5.931428137547322\n"
     ]
    },
    {
     "name": "stderr",
     "output_type": "stream",
     "text": [
      "\u001b[32m[I 2022-03-26 01:23:29,961]\u001b[0m Trial 311 finished with value: 5.922088256293275 and parameters: {'random_state': 519632, 'learning_rate': 0.26074565443521847, 'bagging_temperature': 3.540411520609851, 'max_depth': 5, 'random_strength': 94, 'l2_leaf_reg': 2.636981091877957e-05, 'min_child_samples': 20, 'max_bin': 207, 'od_type': 'Iter', 'task_type': 'GPU', 'loss_function': 'MAE', 'eval_metric': 'MAE'}. Best is trial 262 with value: 5.917214563261503.\u001b[0m\n"
     ]
    },
    {
     "name": "stdout",
     "output_type": "stream",
     "text": [
      "MAE of Train: 5.911124818257994\n",
      "MAE of Validation: 5.922088256293275\n"
     ]
    },
    {
     "name": "stderr",
     "output_type": "stream",
     "text": [
      "\u001b[32m[I 2022-03-26 01:23:36,081]\u001b[0m Trial 312 finished with value: 10.625334604290524 and parameters: {'random_state': 519632, 'learning_rate': 0.0004194781510077484, 'bagging_temperature': 3.1953678168401773, 'max_depth': 5, 'random_strength': 95, 'l2_leaf_reg': 2.6449416264328888e-05, 'min_child_samples': 18, 'max_bin': 238, 'od_type': 'Iter', 'task_type': 'GPU', 'loss_function': 'MAE', 'eval_metric': 'MAE'}. Best is trial 262 with value: 5.917214563261503.\u001b[0m\n"
     ]
    },
    {
     "name": "stdout",
     "output_type": "stream",
     "text": [
      "MAE of Train: 10.613355306930533\n",
      "MAE of Validation: 10.625334604290524\n"
     ]
    },
    {
     "name": "stderr",
     "output_type": "stream",
     "text": [
      "\u001b[32m[I 2022-03-26 01:23:42,077]\u001b[0m Trial 313 finished with value: 5.9327028666779995 and parameters: {'random_state': 519632, 'learning_rate': 0.1923825757042608, 'bagging_temperature': 2.139303827986828, 'max_depth': 5, 'random_strength': 96, 'l2_leaf_reg': 2.4172759263247257e-05, 'min_child_samples': 19, 'max_bin': 219, 'od_type': 'Iter', 'task_type': 'GPU', 'loss_function': 'MAE', 'eval_metric': 'MAE'}. Best is trial 262 with value: 5.917214563261503.\u001b[0m\n"
     ]
    },
    {
     "name": "stdout",
     "output_type": "stream",
     "text": [
      "MAE of Train: 5.927644036432086\n",
      "MAE of Validation: 5.9327028666779995\n"
     ]
    },
    {
     "name": "stderr",
     "output_type": "stream",
     "text": [
      "\u001b[32m[I 2022-03-26 01:23:47,038]\u001b[0m Trial 314 finished with value: 5.926122548848752 and parameters: {'random_state': 519632, 'learning_rate': 0.24945158431851341, 'bagging_temperature': 4.254665130510244, 'max_depth': 5, 'random_strength': 94, 'l2_leaf_reg': 2.3017483625184242e-05, 'min_child_samples': 65, 'max_bin': 208, 'od_type': 'Iter', 'task_type': 'GPU', 'loss_function': 'MAE', 'eval_metric': 'MAE'}. Best is trial 262 with value: 5.917214563261503.\u001b[0m\n"
     ]
    },
    {
     "name": "stdout",
     "output_type": "stream",
     "text": [
      "MAE of Train: 5.914331841338171\n",
      "MAE of Validation: 5.926122548848752\n"
     ]
    },
    {
     "name": "stderr",
     "output_type": "stream",
     "text": [
      "\u001b[32m[I 2022-03-26 01:23:51,148]\u001b[0m Trial 315 finished with value: 5.94898742677054 and parameters: {'random_state': 519632, 'learning_rate': 0.27813527789772147, 'bagging_temperature': 2.511095502343659, 'max_depth': 4, 'random_strength': 90, 'l2_leaf_reg': 2.5667892932228907e-05, 'min_child_samples': 20, 'max_bin': 214, 'od_type': 'Iter', 'task_type': 'GPU', 'loss_function': 'MAE', 'eval_metric': 'MAE'}. Best is trial 262 with value: 5.917214563261503.\u001b[0m\n"
     ]
    },
    {
     "name": "stdout",
     "output_type": "stream",
     "text": [
      "MAE of Train: 5.943201089824843\n",
      "MAE of Validation: 5.94898742677054\n"
     ]
    },
    {
     "name": "stderr",
     "output_type": "stream",
     "text": [
      "\u001b[32m[I 2022-03-26 01:23:56,852]\u001b[0m Trial 316 finished with value: 5.943539906446489 and parameters: {'random_state': 519632, 'learning_rate': 0.29694065196002706, 'bagging_temperature': 5.569780381612502, 'max_depth': 5, 'random_strength': 98, 'l2_leaf_reg': 2.6668115459195115e-05, 'min_child_samples': 71, 'max_bin': 357, 'od_type': 'Iter', 'task_type': 'GPU', 'loss_function': 'MAE', 'eval_metric': 'MAE'}. Best is trial 262 with value: 5.917214563261503.\u001b[0m\n"
     ]
    },
    {
     "name": "stdout",
     "output_type": "stream",
     "text": [
      "MAE of Train: 5.922010414743772\n",
      "MAE of Validation: 5.943539906446489\n"
     ]
    },
    {
     "name": "stderr",
     "output_type": "stream",
     "text": [
      "\u001b[32m[I 2022-03-26 01:23:57,699]\u001b[0m Trial 317 finished with value: 13.852043617736298 and parameters: {'random_state': 519632, 'learning_rate': 0.2511021148185256, 'bagging_temperature': 94.85553766752346, 'max_depth': 5, 'random_strength': 88, 'l2_leaf_reg': 2.1199796655995876e-05, 'min_child_samples': 15, 'max_bin': 205, 'od_type': 'Iter', 'task_type': 'GPU', 'loss_function': 'MAE', 'eval_metric': 'MAE'}. Best is trial 262 with value: 5.917214563261503.\u001b[0m\n"
     ]
    },
    {
     "name": "stdout",
     "output_type": "stream",
     "text": [
      "MAE of Train: 13.84131689231532\n",
      "MAE of Validation: 13.852043617736298\n"
     ]
    },
    {
     "name": "stderr",
     "output_type": "stream",
     "text": [
      "\u001b[32m[I 2022-03-26 01:24:01,124]\u001b[0m Trial 318 finished with value: 5.94126107981526 and parameters: {'random_state': 519632, 'learning_rate': 0.22095065754990423, 'bagging_temperature': 3.246683326820623, 'max_depth': 5, 'random_strength': 92, 'l2_leaf_reg': 1.6786212583854167e-05, 'min_child_samples': 22, 'max_bin': 224, 'od_type': 'Iter', 'task_type': 'GPU', 'loss_function': 'MAE', 'eval_metric': 'MAE'}. Best is trial 262 with value: 5.917214563261503.\u001b[0m\n"
     ]
    },
    {
     "name": "stdout",
     "output_type": "stream",
     "text": [
      "MAE of Train: 5.934942254787034\n",
      "MAE of Validation: 5.94126107981526\n"
     ]
    },
    {
     "name": "stderr",
     "output_type": "stream",
     "text": [
      "\u001b[32m[I 2022-03-26 01:24:07,517]\u001b[0m Trial 319 finished with value: 5.923246409413011 and parameters: {'random_state': 519632, 'learning_rate': 0.17953237190997143, 'bagging_temperature': 3.7694938524786052, 'max_depth': 5, 'random_strength': 85, 'l2_leaf_reg': 1.202559046218816e-05, 'min_child_samples': 37, 'max_bin': 210, 'od_type': 'Iter', 'task_type': 'GPU', 'loss_function': 'MAE', 'eval_metric': 'MAE'}. Best is trial 262 with value: 5.917214563261503.\u001b[0m\n"
     ]
    },
    {
     "name": "stdout",
     "output_type": "stream",
     "text": [
      "MAE of Train: 5.910248837347184\n",
      "MAE of Validation: 5.923246409413011\n"
     ]
    },
    {
     "name": "stderr",
     "output_type": "stream",
     "text": [
      "\u001b[32m[I 2022-03-26 01:24:15,185]\u001b[0m Trial 320 finished with value: 5.918878563748735 and parameters: {'random_state': 519632, 'learning_rate': 0.06695553004136438, 'bagging_temperature': 2.840122914204954, 'max_depth': 6, 'random_strength': 50, 'l2_leaf_reg': 2.9092683624053977e-05, 'min_child_samples': 20, 'max_bin': 200, 'od_type': 'Iter', 'task_type': 'GPU', 'loss_function': 'MAE', 'eval_metric': 'MAE'}. Best is trial 262 with value: 5.917214563261503.\u001b[0m\n"
     ]
    },
    {
     "name": "stdout",
     "output_type": "stream",
     "text": [
      "MAE of Train: 5.909339589683894\n",
      "MAE of Validation: 5.918878563748735\n"
     ]
    },
    {
     "name": "stderr",
     "output_type": "stream",
     "text": [
      "\u001b[32m[I 2022-03-26 01:24:22,508]\u001b[0m Trial 321 finished with value: 5.925304318224824 and parameters: {'random_state': 519632, 'learning_rate': 0.05370551620386799, 'bagging_temperature': 4.7867729866713065, 'max_depth': 6, 'random_strength': 49, 'l2_leaf_reg': 2.920064147518025e-05, 'min_child_samples': 17, 'max_bin': 203, 'od_type': 'Iter', 'task_type': 'GPU', 'loss_function': 'MAE', 'eval_metric': 'MAE'}. Best is trial 262 with value: 5.917214563261503.\u001b[0m\n"
     ]
    },
    {
     "name": "stdout",
     "output_type": "stream",
     "text": [
      "MAE of Train: 5.912922462602994\n",
      "MAE of Validation: 5.925304318224824\n"
     ]
    },
    {
     "name": "stderr",
     "output_type": "stream",
     "text": [
      "\u001b[32m[I 2022-03-26 01:24:29,480]\u001b[0m Trial 322 finished with value: 5.943285849531579 and parameters: {'random_state': 519632, 'learning_rate': 0.06835325445276992, 'bagging_temperature': 7.183262681032974, 'max_depth': 6, 'random_strength': 51, 'l2_leaf_reg': 2.8804071163505485e-05, 'min_child_samples': 32, 'max_bin': 200, 'od_type': 'Iter', 'task_type': 'GPU', 'loss_function': 'MAE', 'eval_metric': 'MAE'}. Best is trial 262 with value: 5.917214563261503.\u001b[0m\n"
     ]
    },
    {
     "name": "stdout",
     "output_type": "stream",
     "text": [
      "MAE of Train: 5.927164394468708\n",
      "MAE of Validation: 5.943285849531579\n"
     ]
    },
    {
     "name": "stderr",
     "output_type": "stream",
     "text": [
      "\u001b[32m[I 2022-03-26 01:24:35,338]\u001b[0m Trial 323 finished with value: 5.925289999570583 and parameters: {'random_state': 519632, 'learning_rate': 0.15690721100088134, 'bagging_temperature': 3.4669425414525454, 'max_depth': 6, 'random_strength': 35, 'l2_leaf_reg': 2.9436485395449197e-05, 'min_child_samples': 20, 'max_bin': 217, 'od_type': 'Iter', 'task_type': 'GPU', 'loss_function': 'MAE', 'eval_metric': 'MAE'}. Best is trial 262 with value: 5.917214563261503.\u001b[0m\n"
     ]
    },
    {
     "name": "stdout",
     "output_type": "stream",
     "text": [
      "MAE of Train: 5.912417420341955\n",
      "MAE of Validation: 5.925289999570583\n"
     ]
    },
    {
     "name": "stderr",
     "output_type": "stream",
     "text": [
      "\u001b[32m[I 2022-03-26 01:24:42,842]\u001b[0m Trial 324 finished with value: 5.946831550842829 and parameters: {'random_state': 519632, 'learning_rate': 0.014405758844926213, 'bagging_temperature': 2.782704326181304, 'max_depth': 6, 'random_strength': 40, 'l2_leaf_reg': 2.829117595638e-05, 'min_child_samples': 9, 'max_bin': 230, 'od_type': 'Iter', 'task_type': 'GPU', 'loss_function': 'MAE', 'eval_metric': 'MAE'}. Best is trial 262 with value: 5.917214563261503.\u001b[0m\n"
     ]
    },
    {
     "name": "stdout",
     "output_type": "stream",
     "text": [
      "MAE of Train: 5.94061073209606\n",
      "MAE of Validation: 5.946831550842829\n"
     ]
    },
    {
     "name": "stderr",
     "output_type": "stream",
     "text": [
      "\u001b[32m[I 2022-03-26 01:24:44,917]\u001b[0m Trial 325 finished with value: 5.939865752543082 and parameters: {'random_state': 519632, 'learning_rate': 0.20841991566732315, 'bagging_temperature': 1.918758952068875, 'max_depth': 7, 'random_strength': 46, 'l2_leaf_reg': 2.232366663509188e-05, 'min_child_samples': 23, 'max_bin': 212, 'od_type': 'Iter', 'task_type': 'GPU', 'loss_function': 'MAE', 'eval_metric': 'MAE'}. Best is trial 262 with value: 5.917214563261503.\u001b[0m\n"
     ]
    },
    {
     "name": "stdout",
     "output_type": "stream",
     "text": [
      "MAE of Train: 5.931178008436511\n",
      "MAE of Validation: 5.939865752543082\n"
     ]
    },
    {
     "name": "stderr",
     "output_type": "stream",
     "text": [
      "\u001b[32m[I 2022-03-26 01:24:51,057]\u001b[0m Trial 326 finished with value: 5.925688008789629 and parameters: {'random_state': 519632, 'learning_rate': 0.08626573267544853, 'bagging_temperature': 4.491398637488489, 'max_depth': 6, 'random_strength': 53, 'l2_leaf_reg': 2.8417222154946307e-05, 'min_child_samples': 44, 'max_bin': 207, 'od_type': 'Iter', 'task_type': 'GPU', 'loss_function': 'MAE', 'eval_metric': 'MAE'}. Best is trial 262 with value: 5.917214563261503.\u001b[0m\n"
     ]
    },
    {
     "name": "stdout",
     "output_type": "stream",
     "text": [
      "MAE of Train: 5.911687865062199\n",
      "MAE of Validation: 5.925688008789629\n"
     ]
    },
    {
     "name": "stderr",
     "output_type": "stream",
     "text": [
      "\u001b[32m[I 2022-03-26 01:24:55,019]\u001b[0m Trial 327 finished with value: 5.940176724962265 and parameters: {'random_state': 519632, 'learning_rate': 0.11412799036621507, 'bagging_temperature': 2.2618869525028904, 'max_depth': 4, 'random_strength': 97, 'l2_leaf_reg': 2.7988674509125593e-05, 'min_child_samples': 15, 'max_bin': 200, 'od_type': 'Iter', 'task_type': 'GPU', 'loss_function': 'MAE', 'eval_metric': 'MAE'}. Best is trial 262 with value: 5.917214563261503.\u001b[0m\n"
     ]
    },
    {
     "name": "stdout",
     "output_type": "stream",
     "text": [
      "MAE of Train: 5.934510574655705\n",
      "MAE of Validation: 5.940176724962265\n"
     ]
    },
    {
     "name": "stderr",
     "output_type": "stream",
     "text": [
      "\u001b[32m[I 2022-03-26 01:25:01,688]\u001b[0m Trial 328 finished with value: 5.928427199650186 and parameters: {'random_state': 519632, 'learning_rate': 0.07792999987341998, 'bagging_temperature': 3.668517128497868, 'max_depth': 5, 'random_strength': 95, 'l2_leaf_reg': 1.8138882401946337e-05, 'min_child_samples': 30, 'max_bin': 218, 'od_type': 'Iter', 'task_type': 'GPU', 'loss_function': 'MAE', 'eval_metric': 'MAE'}. Best is trial 262 with value: 5.917214563261503.\u001b[0m\n"
     ]
    },
    {
     "name": "stdout",
     "output_type": "stream",
     "text": [
      "MAE of Train: 5.921055377042319\n",
      "MAE of Validation: 5.928427199650186\n"
     ]
    },
    {
     "name": "stderr",
     "output_type": "stream",
     "text": [
      "\u001b[32m[I 2022-03-26 01:25:08,187]\u001b[0m Trial 329 finished with value: 5.939807497568389 and parameters: {'random_state': 519632, 'learning_rate': 0.09601174984086978, 'bagging_temperature': 5.575186822982252, 'max_depth': 3, 'random_strength': 44, 'l2_leaf_reg': 2.9021108589189248e-05, 'min_child_samples': 19, 'max_bin': 222, 'od_type': 'Iter', 'task_type': 'GPU', 'loss_function': 'MAE', 'eval_metric': 'MAE'}. Best is trial 262 with value: 5.917214563261503.\u001b[0m\n"
     ]
    },
    {
     "name": "stdout",
     "output_type": "stream",
     "text": [
      "MAE of Train: 5.9342708291193835\n",
      "MAE of Validation: 5.939807497568389\n"
     ]
    },
    {
     "name": "stderr",
     "output_type": "stream",
     "text": [
      "\u001b[32m[I 2022-03-26 01:25:14,560]\u001b[0m Trial 330 finished with value: 5.924662788179992 and parameters: {'random_state': 519632, 'learning_rate': 0.12285867880158097, 'bagging_temperature': 3.16770568033737, 'max_depth': 7, 'random_strength': 58, 'l2_leaf_reg': 5.214048704393467e-06, 'min_child_samples': 6, 'max_bin': 212, 'od_type': 'Iter', 'task_type': 'GPU', 'loss_function': 'MAE', 'eval_metric': 'MAE'}. Best is trial 262 with value: 5.917214563261503.\u001b[0m\n"
     ]
    },
    {
     "name": "stdout",
     "output_type": "stream",
     "text": [
      "MAE of Train: 5.907199445773086\n",
      "MAE of Validation: 5.924662788179992\n"
     ]
    },
    {
     "name": "stderr",
     "output_type": "stream",
     "text": [
      "\u001b[32m[I 2022-03-26 01:25:20,808]\u001b[0m Trial 331 finished with value: 5.925105470952863 and parameters: {'random_state': 519632, 'learning_rate': 0.16544269578386342, 'bagging_temperature': 4.181647581899872, 'max_depth': 5, 'random_strength': 100, 'l2_leaf_reg': 2.9863987019582943e-05, 'min_child_samples': 11, 'max_bin': 206, 'od_type': 'Iter', 'task_type': 'GPU', 'loss_function': 'MAE', 'eval_metric': 'MAE'}. Best is trial 262 with value: 5.917214563261503.\u001b[0m\n"
     ]
    },
    {
     "name": "stdout",
     "output_type": "stream",
     "text": [
      "MAE of Train: 5.913553757783518\n",
      "MAE of Validation: 5.925105470952863\n"
     ]
    },
    {
     "name": "stderr",
     "output_type": "stream",
     "text": [
      "\u001b[32m[I 2022-03-26 01:25:27,192]\u001b[0m Trial 332 finished with value: 6.165757994038551 and parameters: {'random_state': 519632, 'learning_rate': 0.0031219784791704725, 'bagging_temperature': 2.710342878098552, 'max_depth': 5, 'random_strength': 37, 'l2_leaf_reg': 2.007934363951476e-05, 'min_child_samples': 22, 'max_bin': 216, 'od_type': 'Iter', 'task_type': 'GPU', 'loss_function': 'MAE', 'eval_metric': 'MAE'}. Best is trial 262 with value: 5.917214563261503.\u001b[0m\n"
     ]
    },
    {
     "name": "stdout",
     "output_type": "stream",
     "text": [
      "MAE of Train: 6.157831806256795\n",
      "MAE of Validation: 6.165757994038551\n"
     ]
    },
    {
     "name": "stderr",
     "output_type": "stream",
     "text": [
      "\u001b[32m[I 2022-03-26 01:25:34,301]\u001b[0m Trial 333 finished with value: 5.921048779421189 and parameters: {'random_state': 519632, 'learning_rate': 0.14324106824781088, 'bagging_temperature': 3.343328050813058, 'max_depth': 5, 'random_strength': 62, 'l2_leaf_reg': 2.746721019876417e-05, 'min_child_samples': 32, 'max_bin': 206, 'od_type': 'Iter', 'task_type': 'GPU', 'loss_function': 'MAE', 'eval_metric': 'MAE'}. Best is trial 262 with value: 5.917214563261503.\u001b[0m\n"
     ]
    },
    {
     "name": "stdout",
     "output_type": "stream",
     "text": [
      "MAE of Train: 5.911428391904564\n",
      "MAE of Validation: 5.921048779421189\n"
     ]
    },
    {
     "name": "stderr",
     "output_type": "stream",
     "text": [
      "\u001b[32m[I 2022-03-26 01:25:38,976]\u001b[0m Trial 334 finished with value: 5.950848470877657 and parameters: {'random_state': 519632, 'learning_rate': 0.13536312702634568, 'bagging_temperature': 2.348313678153452, 'max_depth': 5, 'random_strength': 62, 'l2_leaf_reg': 2.7510968894230003e-05, 'min_child_samples': 33, 'max_bin': 200, 'od_type': 'Iter', 'task_type': 'GPU', 'loss_function': 'MAE', 'eval_metric': 'MAE'}. Best is trial 262 with value: 5.917214563261503.\u001b[0m\n"
     ]
    },
    {
     "name": "stdout",
     "output_type": "stream",
     "text": [
      "MAE of Train: 5.945383457155681\n",
      "MAE of Validation: 5.950848470877657\n"
     ]
    },
    {
     "name": "stderr",
     "output_type": "stream",
     "text": [
      "\u001b[32m[I 2022-03-26 01:25:45,461]\u001b[0m Trial 335 finished with value: 5.932650176418615 and parameters: {'random_state': 519632, 'learning_rate': 0.10717425861311015, 'bagging_temperature': 3.027755244621454, 'max_depth': 5, 'random_strength': 62, 'l2_leaf_reg': 2.8794281691880192e-05, 'min_child_samples': 34, 'max_bin': 206, 'od_type': 'Iter', 'task_type': 'GPU', 'loss_function': 'MAE', 'eval_metric': 'MAE'}. Best is trial 262 with value: 5.917214563261503.\u001b[0m\n"
     ]
    },
    {
     "name": "stdout",
     "output_type": "stream",
     "text": [
      "MAE of Train: 5.9257780509920766\n",
      "MAE of Validation: 5.932650176418615\n"
     ]
    },
    {
     "name": "stderr",
     "output_type": "stream",
     "text": [
      "\u001b[32m[I 2022-03-26 01:25:50,302]\u001b[0m Trial 336 finished with value: 5.930079300138678 and parameters: {'random_state': 519632, 'learning_rate': 0.1504637867976099, 'bagging_temperature': 4.480216565830683, 'max_depth': 5, 'random_strength': 54, 'l2_leaf_reg': 2.7929399173345914e-05, 'min_child_samples': 17, 'max_bin': 210, 'od_type': 'Iter', 'task_type': 'GPU', 'loss_function': 'MAE', 'eval_metric': 'MAE'}. Best is trial 262 with value: 5.917214563261503.\u001b[0m\n"
     ]
    },
    {
     "name": "stdout",
     "output_type": "stream",
     "text": [
      "MAE of Train: 5.91882983706796\n",
      "MAE of Validation: 5.930079300138678\n"
     ]
    },
    {
     "name": "stderr",
     "output_type": "stream",
     "text": [
      "\u001b[32m[I 2022-03-26 01:25:57,195]\u001b[0m Trial 337 finished with value: 5.927477109052897 and parameters: {'random_state': 519632, 'learning_rate': 0.06437420017245238, 'bagging_temperature': 5.298349440640189, 'max_depth': 5, 'random_strength': 61, 'l2_leaf_reg': 2.0826670487078686e-05, 'min_child_samples': 20, 'max_bin': 205, 'od_type': 'Iter', 'task_type': 'GPU', 'loss_function': 'MAE', 'eval_metric': 'MAE'}. Best is trial 262 with value: 5.917214563261503.\u001b[0m\n"
     ]
    },
    {
     "name": "stdout",
     "output_type": "stream",
     "text": [
      "MAE of Train: 5.9192457164129735\n",
      "MAE of Validation: 5.927477109052897\n"
     ]
    },
    {
     "name": "stderr",
     "output_type": "stream",
     "text": [
      "\u001b[32m[I 2022-03-26 01:26:04,304]\u001b[0m Trial 338 finished with value: 5.921035370636366 and parameters: {'random_state': 519632, 'learning_rate': 0.12220807780455059, 'bagging_temperature': 3.773545877706474, 'max_depth': 5, 'random_strength': 94, 'l2_leaf_reg': 8.023691664110288e-06, 'min_child_samples': 24, 'max_bin': 212, 'od_type': 'Iter', 'task_type': 'GPU', 'loss_function': 'MAE', 'eval_metric': 'MAE'}. Best is trial 262 with value: 5.917214563261503.\u001b[0m\n"
     ]
    },
    {
     "name": "stdout",
     "output_type": "stream",
     "text": [
      "MAE of Train: 5.910277508296014\n",
      "MAE of Validation: 5.921035370636366\n"
     ]
    },
    {
     "name": "stderr",
     "output_type": "stream",
     "text": [
      "\u001b[32m[I 2022-03-26 01:26:06,991]\u001b[0m Trial 339 finished with value: 5.9530137545079445 and parameters: {'random_state': 519632, 'learning_rate': 0.12538554163418955, 'bagging_temperature': 0.021854493180150484, 'max_depth': 5, 'random_strength': 42, 'l2_leaf_reg': 7.602883287624699e-06, 'min_child_samples': 25, 'max_bin': 200, 'od_type': 'Iter', 'task_type': 'GPU', 'loss_function': 'MAE', 'eval_metric': 'MAE'}. Best is trial 262 with value: 5.917214563261503.\u001b[0m\n"
     ]
    },
    {
     "name": "stdout",
     "output_type": "stream",
     "text": [
      "MAE of Train: 5.945888601671629\n",
      "MAE of Validation: 5.9530137545079445\n"
     ]
    },
    {
     "name": "stderr",
     "output_type": "stream",
     "text": [
      "\u001b[32m[I 2022-03-26 01:26:13,750]\u001b[0m Trial 340 finished with value: 5.940799305574264 and parameters: {'random_state': 519632, 'learning_rate': 0.13874229357637582, 'bagging_temperature': 6.207909344042275, 'max_depth': 5, 'random_strength': 59, 'l2_leaf_reg': 1.2685816172421688e-05, 'min_child_samples': 27, 'max_bin': 214, 'od_type': 'Iter', 'task_type': 'GPU', 'loss_function': 'MAE', 'eval_metric': 'MAE'}. Best is trial 262 with value: 5.917214563261503.\u001b[0m\n"
     ]
    },
    {
     "name": "stdout",
     "output_type": "stream",
     "text": [
      "MAE of Train: 5.925428757945811\n",
      "MAE of Validation: 5.940799305574264\n"
     ]
    },
    {
     "name": "stderr",
     "output_type": "stream",
     "text": [
      "\u001b[32m[I 2022-03-26 01:26:20,617]\u001b[0m Trial 341 finished with value: 5.9217956671808825 and parameters: {'random_state': 519632, 'learning_rate': 0.12104992976441062, 'bagging_temperature': 3.7556279560637362, 'max_depth': 5, 'random_strength': 47, 'l2_leaf_reg': 9.798623654815894e-06, 'min_child_samples': 23, 'max_bin': 207, 'od_type': 'Iter', 'task_type': 'GPU', 'loss_function': 'MAE', 'eval_metric': 'MAE'}. Best is trial 262 with value: 5.917214563261503.\u001b[0m\n"
     ]
    },
    {
     "name": "stdout",
     "output_type": "stream",
     "text": [
      "MAE of Train: 5.913703881110168\n",
      "MAE of Validation: 5.9217956671808825\n"
     ]
    },
    {
     "name": "stderr",
     "output_type": "stream",
     "text": [
      "\u001b[32m[I 2022-03-26 01:26:27,664]\u001b[0m Trial 342 finished with value: 5.9226106775865315 and parameters: {'random_state': 519632, 'learning_rate': 0.10906779370954306, 'bagging_temperature': 4.146571119582867, 'max_depth': 5, 'random_strength': 48, 'l2_leaf_reg': 3.6263753795690396e-06, 'min_child_samples': 23, 'max_bin': 213, 'od_type': 'Iter', 'task_type': 'GPU', 'loss_function': 'MAE', 'eval_metric': 'MAE'}. Best is trial 262 with value: 5.917214563261503.\u001b[0m\n"
     ]
    },
    {
     "name": "stdout",
     "output_type": "stream",
     "text": [
      "MAE of Train: 5.9124581902528766\n",
      "MAE of Validation: 5.9226106775865315\n"
     ]
    },
    {
     "name": "stderr",
     "output_type": "stream",
     "text": [
      "\u001b[32m[I 2022-03-26 01:26:34,781]\u001b[0m Trial 343 finished with value: 5.921105298883828 and parameters: {'random_state': 519632, 'learning_rate': 0.11947212908154393, 'bagging_temperature': 4.069600249602121, 'max_depth': 5, 'random_strength': 47, 'l2_leaf_reg': 8.917638003771975e-06, 'min_child_samples': 39, 'max_bin': 226, 'od_type': 'Iter', 'task_type': 'GPU', 'loss_function': 'MAE', 'eval_metric': 'MAE'}. Best is trial 262 with value: 5.917214563261503.\u001b[0m\n"
     ]
    },
    {
     "name": "stdout",
     "output_type": "stream",
     "text": [
      "MAE of Train: 5.909731046335037\n",
      "MAE of Validation: 5.921105298883828\n"
     ]
    },
    {
     "name": "stderr",
     "output_type": "stream",
     "text": [
      "\u001b[32m[I 2022-03-26 01:26:41,331]\u001b[0m Trial 344 finished with value: 5.946670617739643 and parameters: {'random_state': 519632, 'learning_rate': 0.10222673668112861, 'bagging_temperature': 7.871817522753419, 'max_depth': 5, 'random_strength': 44, 'l2_leaf_reg': 8.373453688708552e-06, 'min_child_samples': 40, 'max_bin': 229, 'od_type': 'Iter', 'task_type': 'GPU', 'loss_function': 'MAE', 'eval_metric': 'MAE'}. Best is trial 262 with value: 5.917214563261503.\u001b[0m\n"
     ]
    },
    {
     "name": "stdout",
     "output_type": "stream",
     "text": [
      "MAE of Train: 5.934447908986628\n",
      "MAE of Validation: 5.946670617739643\n"
     ]
    },
    {
     "name": "stderr",
     "output_type": "stream",
     "text": [
      "\u001b[32m[I 2022-03-26 01:26:48,441]\u001b[0m Trial 345 finished with value: 5.9265474595489485 and parameters: {'random_state': 519632, 'learning_rate': 0.12050017839676323, 'bagging_temperature': 4.759065395397206, 'max_depth': 5, 'random_strength': 47, 'l2_leaf_reg': 9.923333385874284e-06, 'min_child_samples': 50, 'max_bin': 392, 'od_type': 'Iter', 'task_type': 'GPU', 'loss_function': 'MAE', 'eval_metric': 'MAE'}. Best is trial 262 with value: 5.917214563261503.\u001b[0m\n"
     ]
    },
    {
     "name": "stdout",
     "output_type": "stream",
     "text": [
      "MAE of Train: 5.914680954970266\n",
      "MAE of Validation: 5.9265474595489485\n"
     ]
    },
    {
     "name": "stderr",
     "output_type": "stream",
     "text": [
      "\u001b[32m[I 2022-03-26 01:26:55,580]\u001b[0m Trial 346 finished with value: 5.920300276134164 and parameters: {'random_state': 519632, 'learning_rate': 0.09118396942015267, 'bagging_temperature': 3.912890677312575, 'max_depth': 5, 'random_strength': 50, 'l2_leaf_reg': 9.44213128512725e-06, 'min_child_samples': 36, 'max_bin': 234, 'od_type': 'Iter', 'task_type': 'GPU', 'loss_function': 'MAE', 'eval_metric': 'MAE'}. Best is trial 262 with value: 5.917214563261503.\u001b[0m\n"
     ]
    },
    {
     "name": "stdout",
     "output_type": "stream",
     "text": [
      "MAE of Train: 5.9104372544761485\n",
      "MAE of Validation: 5.920300276134164\n"
     ]
    },
    {
     "name": "stderr",
     "output_type": "stream",
     "text": [
      "\u001b[32m[I 2022-03-26 01:27:02,393]\u001b[0m Trial 347 finished with value: 5.932613626869428 and parameters: {'random_state': 519632, 'learning_rate': 0.10008696653313706, 'bagging_temperature': 5.777405662658575, 'max_depth': 5, 'random_strength': 55, 'l2_leaf_reg': 8.886102191576737e-06, 'min_child_samples': 40, 'max_bin': 233, 'od_type': 'Iter', 'task_type': 'GPU', 'loss_function': 'MAE', 'eval_metric': 'MAE'}. Best is trial 262 with value: 5.917214563261503.\u001b[0m\n"
     ]
    },
    {
     "name": "stdout",
     "output_type": "stream",
     "text": [
      "MAE of Train: 5.9217144115273275\n",
      "MAE of Validation: 5.932613626869428\n"
     ]
    },
    {
     "name": "stderr",
     "output_type": "stream",
     "text": [
      "\u001b[32m[I 2022-03-26 01:27:09,445]\u001b[0m Trial 348 finished with value: 5.923002728659785 and parameters: {'random_state': 519632, 'learning_rate': 0.1167747321748119, 'bagging_temperature': 4.25027976356248, 'max_depth': 5, 'random_strength': 50, 'l2_leaf_reg': 9.243551057832323e-06, 'min_child_samples': 38, 'max_bin': 227, 'od_type': 'Iter', 'task_type': 'GPU', 'loss_function': 'MAE', 'eval_metric': 'MAE'}. Best is trial 262 with value: 5.917214563261503.\u001b[0m\n"
     ]
    },
    {
     "name": "stdout",
     "output_type": "stream",
     "text": [
      "MAE of Train: 5.911875527298432\n",
      "MAE of Validation: 5.923002728659785\n"
     ]
    },
    {
     "name": "stderr",
     "output_type": "stream",
     "text": [
      "\u001b[32m[I 2022-03-26 01:27:15,122]\u001b[0m Trial 349 finished with value: 5.9290456057110745 and parameters: {'random_state': 519632, 'learning_rate': 0.13895458426433005, 'bagging_temperature': 5.086632275971264, 'max_depth': 5, 'random_strength': 47, 'l2_leaf_reg': 9.211995092096041e-06, 'min_child_samples': 35, 'max_bin': 223, 'od_type': 'Iter', 'task_type': 'GPU', 'loss_function': 'MAE', 'eval_metric': 'MAE'}. Best is trial 262 with value: 5.917214563261503.\u001b[0m\n"
     ]
    },
    {
     "name": "stdout",
     "output_type": "stream",
     "text": [
      "MAE of Train: 5.917832573784154\n",
      "MAE of Validation: 5.9290456057110745\n"
     ]
    },
    {
     "name": "stderr",
     "output_type": "stream",
     "text": [
      "\u001b[32m[I 2022-03-26 01:27:22,080]\u001b[0m Trial 350 finished with value: 5.927240617023455 and parameters: {'random_state': 519632, 'learning_rate': 0.09550643896270247, 'bagging_temperature': 3.8941346832520343, 'max_depth': 5, 'random_strength': 51, 'l2_leaf_reg': 7.903964688408515e-06, 'min_child_samples': 36, 'max_bin': 237, 'od_type': 'Iter', 'task_type': 'GPU', 'loss_function': 'MAE', 'eval_metric': 'MAE'}. Best is trial 262 with value: 5.917214563261503.\u001b[0m\n"
     ]
    },
    {
     "name": "stdout",
     "output_type": "stream",
     "text": [
      "MAE of Train: 5.9196243605702294\n",
      "MAE of Validation: 5.927240617023455\n"
     ]
    },
    {
     "name": "stderr",
     "output_type": "stream",
     "text": [
      "\u001b[32m[I 2022-03-26 01:27:28,845]\u001b[0m Trial 351 finished with value: 5.942108138887443 and parameters: {'random_state': 519632, 'learning_rate': 0.12090877861166976, 'bagging_temperature': 6.569787154328819, 'max_depth': 5, 'random_strength': 47, 'l2_leaf_reg': 1.062504392898297e-05, 'min_child_samples': 39, 'max_bin': 220, 'od_type': 'Iter', 'task_type': 'GPU', 'loss_function': 'MAE', 'eval_metric': 'MAE'}. Best is trial 262 with value: 5.917214563261503.\u001b[0m\n"
     ]
    },
    {
     "name": "stdout",
     "output_type": "stream",
     "text": [
      "MAE of Train: 5.927507530507932\n",
      "MAE of Validation: 5.942108138887443\n"
     ]
    },
    {
     "name": "stderr",
     "output_type": "stream",
     "text": [
      "\u001b[32m[I 2022-03-26 01:27:34,977]\u001b[0m Trial 352 finished with value: 5.924049299522152 and parameters: {'random_state': 519632, 'learning_rate': 0.16202528260356983, 'bagging_temperature': 4.227504174204481, 'max_depth': 5, 'random_strength': 50, 'l2_leaf_reg': 1.0761611581674818e-05, 'min_child_samples': 36, 'max_bin': 450, 'od_type': 'Iter', 'task_type': 'GPU', 'loss_function': 'MAE', 'eval_metric': 'MAE'}. Best is trial 262 with value: 5.917214563261503.\u001b[0m\n"
     ]
    },
    {
     "name": "stdout",
     "output_type": "stream",
     "text": [
      "MAE of Train: 5.911190752062763\n",
      "MAE of Validation: 5.924049299522152\n"
     ]
    },
    {
     "name": "stderr",
     "output_type": "stream",
     "text": [
      "\u001b[32m[I 2022-03-26 01:27:41,901]\u001b[0m Trial 353 finished with value: 5.92522172364875 and parameters: {'random_state': 519632, 'learning_rate': 0.09429846166866157, 'bagging_temperature': 5.148472081101879, 'max_depth': 5, 'random_strength': 64, 'l2_leaf_reg': 2.2857937556271793e-06, 'min_child_samples': 37, 'max_bin': 236, 'od_type': 'Iter', 'task_type': 'GPU', 'loss_function': 'MAE', 'eval_metric': 'MAE'}. Best is trial 262 with value: 5.917214563261503.\u001b[0m\n"
     ]
    },
    {
     "name": "stdout",
     "output_type": "stream",
     "text": [
      "MAE of Train: 5.914230752059717\n",
      "MAE of Validation: 5.92522172364875\n"
     ]
    },
    {
     "name": "stderr",
     "output_type": "stream",
     "text": [
      "\u001b[32m[I 2022-03-26 01:27:49,117]\u001b[0m Trial 354 finished with value: 5.922107476713457 and parameters: {'random_state': 519632, 'learning_rate': 0.12881352264577622, 'bagging_temperature': 3.4833789535345434, 'max_depth': 5, 'random_strength': 45, 'l2_leaf_reg': 6.328221987521652e-06, 'min_child_samples': 33, 'max_bin': 246, 'od_type': 'Iter', 'task_type': 'GPU', 'loss_function': 'MAE', 'eval_metric': 'MAE'}. Best is trial 262 with value: 5.917214563261503.\u001b[0m\n"
     ]
    },
    {
     "name": "stdout",
     "output_type": "stream",
     "text": [
      "MAE of Train: 5.912370229448854\n",
      "MAE of Validation: 5.922107476713457\n"
     ]
    },
    {
     "name": "stderr",
     "output_type": "stream",
     "text": [
      "\u001b[32m[I 2022-03-26 01:27:54,320]\u001b[0m Trial 355 finished with value: 5.948778634553153 and parameters: {'random_state': 519632, 'learning_rate': 0.10706915135894803, 'bagging_temperature': 2.67664688501837, 'max_depth': 5, 'random_strength': 52, 'l2_leaf_reg': 9.748896054582364e-07, 'min_child_samples': 32, 'max_bin': 230, 'od_type': 'Iter', 'task_type': 'GPU', 'loss_function': 'MAE', 'eval_metric': 'MAE'}. Best is trial 262 with value: 5.917214563261503.\u001b[0m\n"
     ]
    },
    {
     "name": "stdout",
     "output_type": "stream",
     "text": [
      "MAE of Train: 5.941380146073985\n",
      "MAE of Validation: 5.948778634553153\n"
     ]
    },
    {
     "name": "stderr",
     "output_type": "stream",
     "text": [
      "\u001b[32m[I 2022-03-26 01:27:59,629]\u001b[0m Trial 356 finished with value: 5.924846591566684 and parameters: {'random_state': 519632, 'learning_rate': 0.1491910876828844, 'bagging_temperature': 3.8614295227709694, 'max_depth': 6, 'random_strength': 49, 'l2_leaf_reg': 2.9154797745935607e-05, 'min_child_samples': 43, 'max_bin': 219, 'od_type': 'Iter', 'task_type': 'GPU', 'loss_function': 'MAE', 'eval_metric': 'MAE'}. Best is trial 262 with value: 5.917214563261503.\u001b[0m\n"
     ]
    },
    {
     "name": "stdout",
     "output_type": "stream",
     "text": [
      "MAE of Train: 5.910304280678825\n",
      "MAE of Validation: 5.924846591566684\n"
     ]
    },
    {
     "name": "stderr",
     "output_type": "stream",
     "text": [
      "\u001b[32m[I 2022-03-26 01:28:06,230]\u001b[0m Trial 357 finished with value: 5.934225933358772 and parameters: {'random_state': 519632, 'learning_rate': 0.11438437332627774, 'bagging_temperature': 3.0828838086921166, 'max_depth': 5, 'random_strength': 66, 'l2_leaf_reg': 9.633694390711774e-06, 'min_child_samples': 35, 'max_bin': 206, 'od_type': 'Iter', 'task_type': 'GPU', 'loss_function': 'MAE', 'eval_metric': 'MAE'}. Best is trial 262 with value: 5.917214563261503.\u001b[0m\n"
     ]
    },
    {
     "name": "stdout",
     "output_type": "stream",
     "text": [
      "MAE of Train: 5.926635952182064\n",
      "MAE of Validation: 5.934225933358772\n"
     ]
    },
    {
     "name": "stderr",
     "output_type": "stream",
     "text": [
      "\u001b[32m[I 2022-03-26 01:28:13,218]\u001b[0m Trial 358 finished with value: 5.921822660561757 and parameters: {'random_state': 519632, 'learning_rate': 0.08874580459515029, 'bagging_temperature': 4.693877130373997, 'max_depth': 5, 'random_strength': 46, 'l2_leaf_reg': 8.731763544613417e-06, 'min_child_samples': 13, 'max_bin': 200, 'od_type': 'Iter', 'task_type': 'GPU', 'loss_function': 'MAE', 'eval_metric': 'MAE'}. Best is trial 262 with value: 5.917214563261503.\u001b[0m\n"
     ]
    },
    {
     "name": "stdout",
     "output_type": "stream",
     "text": [
      "MAE of Train: 5.911608142765771\n",
      "MAE of Validation: 5.921822660561757\n"
     ]
    },
    {
     "name": "stderr",
     "output_type": "stream",
     "text": [
      "\u001b[32m[I 2022-03-26 01:28:19,944]\u001b[0m Trial 359 finished with value: 5.9349849952646325 and parameters: {'random_state': 519632, 'learning_rate': 0.08502269652104374, 'bagging_temperature': 6.26790279299997, 'max_depth': 5, 'random_strength': 48, 'l2_leaf_reg': 8.437607556071839e-06, 'min_child_samples': 12, 'max_bin': 201, 'od_type': 'Iter', 'task_type': 'GPU', 'loss_function': 'MAE', 'eval_metric': 'MAE'}. Best is trial 262 with value: 5.917214563261503.\u001b[0m\n"
     ]
    },
    {
     "name": "stdout",
     "output_type": "stream",
     "text": [
      "MAE of Train: 5.924004000612424\n",
      "MAE of Validation: 5.9349849952646325\n"
     ]
    },
    {
     "name": "stderr",
     "output_type": "stream",
     "text": [
      "\u001b[32m[I 2022-03-26 01:28:26,828]\u001b[0m Trial 360 finished with value: 5.92600898801896 and parameters: {'random_state': 519632, 'learning_rate': 0.09254657015986849, 'bagging_temperature': 5.0674494409634425, 'max_depth': 5, 'random_strength': 44, 'l2_leaf_reg': 7.250391233485285e-06, 'min_child_samples': 13, 'max_bin': 226, 'od_type': 'Iter', 'task_type': 'GPU', 'loss_function': 'MAE', 'eval_metric': 'MAE'}. Best is trial 262 with value: 5.917214563261503.\u001b[0m\n"
     ]
    },
    {
     "name": "stdout",
     "output_type": "stream",
     "text": [
      "MAE of Train: 5.915944777704465\n",
      "MAE of Validation: 5.92600898801896\n"
     ]
    },
    {
     "name": "stderr",
     "output_type": "stream",
     "text": [
      "\u001b[32m[I 2022-03-26 01:28:33,857]\u001b[0m Trial 361 finished with value: 5.922781928312835 and parameters: {'random_state': 519632, 'learning_rate': 0.0794815972875741, 'bagging_temperature': 4.6017513792406834, 'max_depth': 5, 'random_strength': 46, 'l2_leaf_reg': 9.04424782897118e-06, 'min_child_samples': 9, 'max_bin': 200, 'od_type': 'Iter', 'task_type': 'GPU', 'loss_function': 'MAE', 'eval_metric': 'MAE'}. Best is trial 262 with value: 5.917214563261503.\u001b[0m\n"
     ]
    },
    {
     "name": "stdout",
     "output_type": "stream",
     "text": [
      "MAE of Train: 5.912752159696719\n",
      "MAE of Validation: 5.922781928312835\n"
     ]
    },
    {
     "name": "stderr",
     "output_type": "stream",
     "text": [
      "\u001b[32m[I 2022-03-26 01:28:40,285]\u001b[0m Trial 362 finished with value: 5.953063359745969 and parameters: {'random_state': 519632, 'learning_rate': 0.07539726276038548, 'bagging_temperature': 9.244366638786072, 'max_depth': 5, 'random_strength': 49, 'l2_leaf_reg': 8.76249575988793e-06, 'min_child_samples': 11, 'max_bin': 216, 'od_type': 'Iter', 'task_type': 'GPU', 'loss_function': 'MAE', 'eval_metric': 'MAE'}. Best is trial 262 with value: 5.917214563261503.\u001b[0m\n"
     ]
    },
    {
     "name": "stdout",
     "output_type": "stream",
     "text": [
      "MAE of Train: 5.9427519799487305\n",
      "MAE of Validation: 5.953063359745969\n"
     ]
    },
    {
     "name": "stderr",
     "output_type": "stream",
     "text": [
      "\u001b[32m[I 2022-03-26 01:28:42,960]\u001b[0m Trial 363 finished with value: 5.938461344674656 and parameters: {'random_state': 519632, 'learning_rate': 0.17287100945847525, 'bagging_temperature': 2.4496981878704474, 'max_depth': 5, 'random_strength': 51, 'l2_leaf_reg': 7.977538515457128e-06, 'min_child_samples': 14, 'max_bin': 207, 'od_type': 'Iter', 'task_type': 'GPU', 'loss_function': 'MAE', 'eval_metric': 'MAE'}. Best is trial 262 with value: 5.917214563261503.\u001b[0m\n"
     ]
    },
    {
     "name": "stdout",
     "output_type": "stream",
     "text": [
      "MAE of Train: 5.933520567974253\n",
      "MAE of Validation: 5.938461344674656\n"
     ]
    },
    {
     "name": "stderr",
     "output_type": "stream",
     "text": [
      "\u001b[32m[I 2022-03-26 01:28:50,068]\u001b[0m Trial 364 finished with value: 5.923608957531933 and parameters: {'random_state': 519632, 'learning_rate': 0.06815174641216996, 'bagging_temperature': 3.415656621259199, 'max_depth': 5, 'random_strength': 42, 'l2_leaf_reg': 5.92398008610334e-06, 'min_child_samples': 38, 'max_bin': 205, 'od_type': 'Iter', 'task_type': 'GPU', 'loss_function': 'MAE', 'eval_metric': 'MAE'}. Best is trial 262 with value: 5.917214563261503.\u001b[0m\n"
     ]
    },
    {
     "name": "stdout",
     "output_type": "stream",
     "text": [
      "MAE of Train: 5.917003202964281\n",
      "MAE of Validation: 5.923608957531933\n"
     ]
    },
    {
     "name": "stderr",
     "output_type": "stream",
     "text": [
      "\u001b[32m[I 2022-03-26 01:28:57,022]\u001b[0m Trial 365 finished with value: 5.922223004237586 and parameters: {'random_state': 519632, 'learning_rate': 0.10138664196996859, 'bagging_temperature': 4.18508782796914, 'max_depth': 5, 'random_strength': 47, 'l2_leaf_reg': 9.614218162664491e-06, 'min_child_samples': 46, 'max_bin': 223, 'od_type': 'Iter', 'task_type': 'GPU', 'loss_function': 'MAE', 'eval_metric': 'MAE'}. Best is trial 262 with value: 5.917214563261503.\u001b[0m\n"
     ]
    },
    {
     "name": "stdout",
     "output_type": "stream",
     "text": [
      "MAE of Train: 5.912247958111308\n",
      "MAE of Validation: 5.922223004237586\n"
     ]
    },
    {
     "name": "stderr",
     "output_type": "stream",
     "text": [
      "\u001b[32m[I 2022-03-26 01:29:04,494]\u001b[0m Trial 366 finished with value: 5.923385247805898 and parameters: {'random_state': 519632, 'learning_rate': 0.13001002265893824, 'bagging_temperature': 2.760610735229828, 'max_depth': 6, 'random_strength': 43, 'l2_leaf_reg': 6.9761216369762564e-06, 'min_child_samples': 8, 'max_bin': 217, 'od_type': 'Iter', 'task_type': 'GPU', 'loss_function': 'MAE', 'eval_metric': 'MAE'}. Best is trial 262 with value: 5.917214563261503.\u001b[0m\n"
     ]
    },
    {
     "name": "stdout",
     "output_type": "stream",
     "text": [
      "MAE of Train: 5.914173053480486\n",
      "MAE of Validation: 5.923385247805898\n"
     ]
    },
    {
     "name": "stderr",
     "output_type": "stream",
     "text": [
      "\u001b[32m[I 2022-03-26 01:29:11,332]\u001b[0m Trial 367 finished with value: 5.935724631091835 and parameters: {'random_state': 519632, 'learning_rate': 0.14599899525049878, 'bagging_temperature': 5.648295698898514, 'max_depth': 5, 'random_strength': 46, 'l2_leaf_reg': 4.392206139037694e-06, 'min_child_samples': 12, 'max_bin': 210, 'od_type': 'Iter', 'task_type': 'GPU', 'loss_function': 'MAE', 'eval_metric': 'MAE'}. Best is trial 262 with value: 5.917214563261503.\u001b[0m\n"
     ]
    },
    {
     "name": "stdout",
     "output_type": "stream",
     "text": [
      "MAE of Train: 5.921847395239595\n",
      "MAE of Validation: 5.935724631091835\n"
     ]
    },
    {
     "name": "stderr",
     "output_type": "stream",
     "text": [
      "\u001b[32m[I 2022-03-26 01:29:17,955]\u001b[0m Trial 368 finished with value: 5.940360758207704 and parameters: {'random_state': 519632, 'learning_rate': 0.09285596617503346, 'bagging_temperature': 7.317903816420322, 'max_depth': 5, 'random_strength': 45, 'l2_leaf_reg': 8.18897757166598e-06, 'min_child_samples': 67, 'max_bin': 200, 'od_type': 'Iter', 'task_type': 'GPU', 'loss_function': 'MAE', 'eval_metric': 'MAE'}. Best is trial 262 with value: 5.917214563261503.\u001b[0m\n"
     ]
    },
    {
     "name": "stdout",
     "output_type": "stream",
     "text": [
      "MAE of Train: 5.928402270047837\n",
      "MAE of Validation: 5.940360758207704\n"
     ]
    },
    {
     "name": "stderr",
     "output_type": "stream",
     "text": [
      "\u001b[32m[I 2022-03-26 01:29:25,110]\u001b[0m Trial 369 finished with value: 5.920560159931928 and parameters: {'random_state': 519632, 'learning_rate': 0.11148614374955162, 'bagging_temperature': 3.394273888113263, 'max_depth': 5, 'random_strength': 49, 'l2_leaf_reg': 1.0105727008801046e-05, 'min_child_samples': 25, 'max_bin': 214, 'od_type': 'Iter', 'task_type': 'GPU', 'loss_function': 'MAE', 'eval_metric': 'MAE'}. Best is trial 262 with value: 5.917214563261503.\u001b[0m\n"
     ]
    },
    {
     "name": "stdout",
     "output_type": "stream",
     "text": [
      "MAE of Train: 5.91142330826893\n",
      "MAE of Validation: 5.920560159931928\n"
     ]
    },
    {
     "name": "stderr",
     "output_type": "stream",
     "text": [
      "\u001b[32m[I 2022-03-26 01:29:32,044]\u001b[0m Trial 370 finished with value: 5.992565703252061 and parameters: {'random_state': 519632, 'learning_rate': 0.006983897530021645, 'bagging_temperature': 3.233055789083326, 'max_depth': 5, 'random_strength': 49, 'l2_leaf_reg': 1.0287811461501314e-05, 'min_child_samples': 24, 'max_bin': 226, 'od_type': 'Iter', 'task_type': 'GPU', 'loss_function': 'MAE', 'eval_metric': 'MAE'}. Best is trial 262 with value: 5.917214563261503.\u001b[0m\n"
     ]
    },
    {
     "name": "stdout",
     "output_type": "stream",
     "text": [
      "MAE of Train: 5.984726686555339\n",
      "MAE of Validation: 5.992565703252061\n"
     ]
    },
    {
     "name": "stderr",
     "output_type": "stream",
     "text": [
      "\u001b[32m[I 2022-03-26 01:29:36,922]\u001b[0m Trial 371 finished with value: 5.940090489128355 and parameters: {'random_state': 519632, 'learning_rate': 0.16921337495428096, 'bagging_temperature': 1.954988045247767, 'max_depth': 5, 'random_strength': 53, 'l2_leaf_reg': 1.1298882240547066e-05, 'min_child_samples': 25, 'max_bin': 219, 'od_type': 'Iter', 'task_type': 'GPU', 'loss_function': 'MAE', 'eval_metric': 'MAE'}. Best is trial 262 with value: 5.917214563261503.\u001b[0m\n"
     ]
    },
    {
     "name": "stdout",
     "output_type": "stream",
     "text": [
      "MAE of Train: 5.933895044550106\n",
      "MAE of Validation: 5.940090489128355\n"
     ]
    },
    {
     "name": "stderr",
     "output_type": "stream",
     "text": [
      "\u001b[32m[I 2022-03-26 01:29:41,509]\u001b[0m Trial 372 finished with value: 5.93404845082062 and parameters: {'random_state': 519632, 'learning_rate': 0.11843414682666416, 'bagging_temperature': 2.494524369366761, 'max_depth': 5, 'random_strength': 51, 'l2_leaf_reg': 1.031769846089087e-05, 'min_child_samples': 6, 'max_bin': 235, 'od_type': 'Iter', 'task_type': 'GPU', 'loss_function': 'MAE', 'eval_metric': 'MAE'}. Best is trial 262 with value: 5.917214563261503.\u001b[0m\n"
     ]
    },
    {
     "name": "stdout",
     "output_type": "stream",
     "text": [
      "MAE of Train: 5.927549535491154\n",
      "MAE of Validation: 5.93404845082062\n"
     ]
    },
    {
     "name": "stderr",
     "output_type": "stream",
     "text": [
      "\u001b[32m[I 2022-03-26 01:29:48,712]\u001b[0m Trial 373 finished with value: 5.922725722882398 and parameters: {'random_state': 519632, 'learning_rate': 0.058940109534335296, 'bagging_temperature': 3.5813993896011977, 'max_depth': 5, 'random_strength': 69, 'l2_leaf_reg': 9.855884984719838e-06, 'min_child_samples': 27, 'max_bin': 215, 'od_type': 'Iter', 'task_type': 'GPU', 'loss_function': 'MAE', 'eval_metric': 'MAE'}. Best is trial 262 with value: 5.917214563261503.\u001b[0m\n"
     ]
    },
    {
     "name": "stdout",
     "output_type": "stream",
     "text": [
      "MAE of Train: 5.914917540444796\n",
      "MAE of Validation: 5.922725722882398\n"
     ]
    },
    {
     "name": "stderr",
     "output_type": "stream",
     "text": [
      "\u001b[32m[I 2022-03-26 01:29:55,649]\u001b[0m Trial 374 finished with value: 5.927043755997053 and parameters: {'random_state': 519632, 'learning_rate': 0.13652534915071407, 'bagging_temperature': 2.9173385266479603, 'max_depth': 5, 'random_strength': 49, 'l2_leaf_reg': 9.811985270917645e-06, 'min_child_samples': 24, 'max_bin': 212, 'od_type': 'Iter', 'task_type': 'GPU', 'loss_function': 'MAE', 'eval_metric': 'MAE'}. Best is trial 262 with value: 5.917214563261503.\u001b[0m\n"
     ]
    },
    {
     "name": "stdout",
     "output_type": "stream",
     "text": [
      "MAE of Train: 5.918114994700767\n",
      "MAE of Validation: 5.927043755997053\n"
     ]
    },
    {
     "name": "stderr",
     "output_type": "stream",
     "text": [
      "\u001b[32m[I 2022-03-26 01:30:02,348]\u001b[0m Trial 375 finished with value: 5.92873753087587 and parameters: {'random_state': 519632, 'learning_rate': 0.08439786525235884, 'bagging_temperature': 1.510402185099298, 'max_depth': 6, 'random_strength': 52, 'l2_leaf_reg': 9.102269237756456e-06, 'min_child_samples': 31, 'max_bin': 223, 'od_type': 'Iter', 'task_type': 'GPU', 'loss_function': 'MAE', 'eval_metric': 'MAE'}. Best is trial 262 with value: 5.917214563261503.\u001b[0m\n"
     ]
    },
    {
     "name": "stdout",
     "output_type": "stream",
     "text": [
      "MAE of Train: 5.921976675202214\n",
      "MAE of Validation: 5.92873753087587\n"
     ]
    },
    {
     "name": "stderr",
     "output_type": "stream",
     "text": [
      "\u001b[32m[I 2022-03-26 01:30:09,595]\u001b[0m Trial 376 finished with value: 5.920547554123087 and parameters: {'random_state': 519632, 'learning_rate': 0.10001788425671354, 'bagging_temperature': 3.6077794597541932, 'max_depth': 5, 'random_strength': 40, 'l2_leaf_reg': 8.581326632616006e-06, 'min_child_samples': 10, 'max_bin': 459, 'od_type': 'Iter', 'task_type': 'GPU', 'loss_function': 'MAE', 'eval_metric': 'MAE'}. Best is trial 262 with value: 5.917214563261503.\u001b[0m\n"
     ]
    },
    {
     "name": "stdout",
     "output_type": "stream",
     "text": [
      "MAE of Train: 5.911334843321379\n",
      "MAE of Validation: 5.920547554123087\n"
     ]
    },
    {
     "name": "stderr",
     "output_type": "stream",
     "text": [
      "\u001b[32m[I 2022-03-26 01:30:16,433]\u001b[0m Trial 377 finished with value: 5.934198651156308 and parameters: {'random_state': 519632, 'learning_rate': 0.07554100556722472, 'bagging_temperature': 2.172465001205179, 'max_depth': 5, 'random_strength': 39, 'l2_leaf_reg': 9.153392516772978e-06, 'min_child_samples': 10, 'max_bin': 454, 'od_type': 'IncToDec', 'task_type': 'GPU', 'loss_function': 'MAE', 'eval_metric': 'MAE'}. Best is trial 262 with value: 5.917214563261503.\u001b[0m\n"
     ]
    },
    {
     "name": "stdout",
     "output_type": "stream",
     "text": [
      "MAE of Train: 5.928234909559583\n",
      "MAE of Validation: 5.934198651156308\n"
     ]
    },
    {
     "name": "stderr",
     "output_type": "stream",
     "text": [
      "\u001b[32m[I 2022-03-26 01:30:23,704]\u001b[0m Trial 378 finished with value: 5.920070034546682 and parameters: {'random_state': 519632, 'learning_rate': 0.10375422851331029, 'bagging_temperature': 3.4119895642162645, 'max_depth': 5, 'random_strength': 40, 'l2_leaf_reg': 8.262144416287722e-06, 'min_child_samples': 8, 'max_bin': 469, 'od_type': 'Iter', 'task_type': 'GPU', 'loss_function': 'MAE', 'eval_metric': 'MAE'}. Best is trial 262 with value: 5.917214563261503.\u001b[0m\n"
     ]
    },
    {
     "name": "stdout",
     "output_type": "stream",
     "text": [
      "MAE of Train: 5.913329383131353\n",
      "MAE of Validation: 5.920070034546682\n"
     ]
    },
    {
     "name": "stderr",
     "output_type": "stream",
     "text": [
      "\u001b[32m[I 2022-03-26 01:30:30,083]\u001b[0m Trial 379 finished with value: 5.922371469397111 and parameters: {'random_state': 519632, 'learning_rate': 0.10249958711166769, 'bagging_temperature': 2.8646311815089813, 'max_depth': 5, 'random_strength': 40, 'l2_leaf_reg': 7.765717824545392e-06, 'min_child_samples': 7, 'max_bin': 476, 'od_type': 'Iter', 'task_type': 'GPU', 'loss_function': 'MAE', 'eval_metric': 'MAE'}. Best is trial 262 with value: 5.917214563261503.\u001b[0m\n"
     ]
    },
    {
     "name": "stdout",
     "output_type": "stream",
     "text": [
      "MAE of Train: 5.916141763400992\n",
      "MAE of Validation: 5.922371469397111\n"
     ]
    },
    {
     "name": "stderr",
     "output_type": "stream",
     "text": [
      "\u001b[32m[I 2022-03-26 01:30:37,250]\u001b[0m Trial 380 finished with value: 5.925815469338013 and parameters: {'random_state': 519632, 'learning_rate': 0.0883121409340997, 'bagging_temperature': 3.356681559965137, 'max_depth': 5, 'random_strength': 37, 'l2_leaf_reg': 8.0118830378717e-06, 'min_child_samples': 5, 'max_bin': 458, 'od_type': 'Iter', 'task_type': 'GPU', 'loss_function': 'MAE', 'eval_metric': 'MAE'}. Best is trial 262 with value: 5.917214563261503.\u001b[0m\n"
     ]
    },
    {
     "name": "stdout",
     "output_type": "stream",
     "text": [
      "MAE of Train: 5.919019650895887\n",
      "MAE of Validation: 5.925815469338013\n"
     ]
    },
    {
     "name": "stderr",
     "output_type": "stream",
     "text": [
      "\u001b[32m[I 2022-03-26 01:30:41,748]\u001b[0m Trial 381 finished with value: 5.930277970405492 and parameters: {'random_state': 519632, 'learning_rate': 0.10549217474302477, 'bagging_temperature': 2.354992888818516, 'max_depth': 5, 'random_strength': 39, 'l2_leaf_reg': 9.401949158929196e-06, 'min_child_samples': 10, 'max_bin': 461, 'od_type': 'Iter', 'task_type': 'GPU', 'loss_function': 'MAE', 'eval_metric': 'MAE'}. Best is trial 262 with value: 5.917214563261503.\u001b[0m\n"
     ]
    },
    {
     "name": "stdout",
     "output_type": "stream",
     "text": [
      "MAE of Train: 5.923113891453359\n",
      "MAE of Validation: 5.930277970405492\n"
     ]
    },
    {
     "name": "stderr",
     "output_type": "stream",
     "text": [
      "\u001b[32m[I 2022-03-26 01:30:48,879]\u001b[0m Trial 382 finished with value: 5.923298396320828 and parameters: {'random_state': 519632, 'learning_rate': 0.07321328563764196, 'bagging_temperature': 4.575795418259259, 'max_depth': 5, 'random_strength': 40, 'l2_leaf_reg': 8.889448410530037e-06, 'min_child_samples': 8, 'max_bin': 465, 'od_type': 'Iter', 'task_type': 'GPU', 'loss_function': 'MAE', 'eval_metric': 'MAE'}. Best is trial 262 with value: 5.917214563261503.\u001b[0m\n"
     ]
    },
    {
     "name": "stdout",
     "output_type": "stream",
     "text": [
      "MAE of Train: 5.914307699237303\n",
      "MAE of Validation: 5.923298396320828\n"
     ]
    },
    {
     "name": "stderr",
     "output_type": "stream",
     "text": [
      "\u001b[32m[I 2022-03-26 01:30:55,612]\u001b[0m Trial 383 finished with value: 6.061661277116291 and parameters: {'random_state': 519632, 'learning_rate': 0.003718110032359546, 'bagging_temperature': 3.9025004260146265, 'max_depth': 5, 'random_strength': 35, 'l2_leaf_reg': 8.395950660023147e-06, 'min_child_samples': 9, 'max_bin': 478, 'od_type': 'Iter', 'task_type': 'GPU', 'loss_function': 'MAE', 'eval_metric': 'MAE'}. Best is trial 262 with value: 5.917214563261503.\u001b[0m\n"
     ]
    },
    {
     "name": "stdout",
     "output_type": "stream",
     "text": [
      "MAE of Train: 6.05456290964391\n",
      "MAE of Validation: 6.061661277116291\n"
     ]
    },
    {
     "name": "stderr",
     "output_type": "stream",
     "text": [
      "\u001b[32m[I 2022-03-26 01:31:02,745]\u001b[0m Trial 384 finished with value: 5.924248390997208 and parameters: {'random_state': 519632, 'learning_rate': 0.09025778181624566, 'bagging_temperature': 2.9848200399624734, 'max_depth': 5, 'random_strength': 43, 'l2_leaf_reg': 8.494059879980505e-06, 'min_child_samples': 12, 'max_bin': 468, 'od_type': 'Iter', 'task_type': 'GPU', 'loss_function': 'MAE', 'eval_metric': 'MAE'}. Best is trial 262 with value: 5.917214563261503.\u001b[0m\n"
     ]
    },
    {
     "name": "stdout",
     "output_type": "stream",
     "text": [
      "MAE of Train: 5.917450985451483\n",
      "MAE of Validation: 5.924248390997208\n"
     ]
    },
    {
     "name": "stderr",
     "output_type": "stream",
     "text": [
      "\u001b[32m[I 2022-03-26 01:31:05,472]\u001b[0m Trial 385 finished with value: 5.947732803848403 and parameters: {'random_state': 519632, 'learning_rate': 0.11103889854990999, 'bagging_temperature': 1.7492290220162454, 'max_depth': 7, 'random_strength': 42, 'l2_leaf_reg': 8.787220693114786e-06, 'min_child_samples': 24, 'max_bin': 469, 'od_type': 'Iter', 'task_type': 'GPU', 'loss_function': 'MAE', 'eval_metric': 'MAE'}. Best is trial 262 with value: 5.917214563261503.\u001b[0m\n"
     ]
    },
    {
     "name": "stdout",
     "output_type": "stream",
     "text": [
      "MAE of Train: 5.939885026068371\n",
      "MAE of Validation: 5.947732803848403\n"
     ]
    },
    {
     "name": "stderr",
     "output_type": "stream",
     "text": [
      "\u001b[32m[I 2022-03-26 01:31:10,732]\u001b[0m Trial 386 finished with value: 5.933723820868549 and parameters: {'random_state': 519632, 'learning_rate': 0.09053189541495717, 'bagging_temperature': 5.271960705060285, 'max_depth': 6, 'random_strength': 46, 'l2_leaf_reg': 6.7940767791348456e-06, 'min_child_samples': 7, 'max_bin': 483, 'od_type': 'Iter', 'task_type': 'GPU', 'loss_function': 'MAE', 'eval_metric': 'MAE'}. Best is trial 262 with value: 5.917214563261503.\u001b[0m\n"
     ]
    },
    {
     "name": "stdout",
     "output_type": "stream",
     "text": [
      "MAE of Train: 5.91943690094053\n",
      "MAE of Validation: 5.933723820868549\n"
     ]
    },
    {
     "name": "stderr",
     "output_type": "stream",
     "text": [
      "\u001b[32m[I 2022-03-26 01:31:17,795]\u001b[0m Trial 387 finished with value: 5.928768537774379 and parameters: {'random_state': 519632, 'learning_rate': 0.0669492605463422, 'bagging_temperature': 2.6254842716629665, 'max_depth': 5, 'random_strength': 37, 'l2_leaf_reg': 7.746988305101909e-06, 'min_child_samples': 10, 'max_bin': 448, 'od_type': 'Iter', 'task_type': 'GPU', 'loss_function': 'MAE', 'eval_metric': 'MAE'}. Best is trial 262 with value: 5.917214563261503.\u001b[0m\n"
     ]
    },
    {
     "name": "stdout",
     "output_type": "stream",
     "text": [
      "MAE of Train: 5.923056439166913\n",
      "MAE of Validation: 5.928768537774379\n"
     ]
    },
    {
     "name": "stderr",
     "output_type": "stream",
     "text": [
      "\u001b[32m[I 2022-03-26 01:31:25,083]\u001b[0m Trial 388 finished with value: 5.919884394414206 and parameters: {'random_state': 519632, 'learning_rate': 0.11634710961030911, 'bagging_temperature': 3.836041953965138, 'max_depth': 5, 'random_strength': 48, 'l2_leaf_reg': 1.0189027861512212e-05, 'min_child_samples': 12, 'max_bin': 443, 'od_type': 'IncToDec', 'task_type': 'GPU', 'loss_function': 'MAE', 'eval_metric': 'MAE'}. Best is trial 262 with value: 5.917214563261503.\u001b[0m\n"
     ]
    },
    {
     "name": "stdout",
     "output_type": "stream",
     "text": [
      "MAE of Train: 5.910280580768093\n",
      "MAE of Validation: 5.919884394414206\n"
     ]
    },
    {
     "name": "stderr",
     "output_type": "stream",
     "text": [
      "\u001b[32m[I 2022-03-26 01:31:30,348]\u001b[0m Trial 389 finished with value: 5.932115375436296 and parameters: {'random_state': 519632, 'learning_rate': 0.1225633789843302, 'bagging_temperature': 3.405977947445899, 'max_depth': 5, 'random_strength': 55, 'l2_leaf_reg': 1.0617338028070641e-05, 'min_child_samples': 5, 'max_bin': 457, 'od_type': 'IncToDec', 'task_type': 'GPU', 'loss_function': 'MAE', 'eval_metric': 'MAE'}. Best is trial 262 with value: 5.917214563261503.\u001b[0m\n"
     ]
    },
    {
     "name": "stdout",
     "output_type": "stream",
     "text": [
      "MAE of Train: 5.924584229206813\n",
      "MAE of Validation: 5.932115375436296\n"
     ]
    },
    {
     "name": "stderr",
     "output_type": "stream",
     "text": [
      "\u001b[32m[I 2022-03-26 01:31:34,800]\u001b[0m Trial 390 finished with value: 5.924738269849618 and parameters: {'random_state': 519632, 'learning_rate': 0.11134116506469773, 'bagging_temperature': 3.7622692084118228, 'max_depth': 5, 'random_strength': 49, 'l2_leaf_reg': 1.0811301060930372e-05, 'min_child_samples': 9, 'max_bin': 453, 'od_type': 'IncToDec', 'task_type': 'GPU', 'loss_function': 'MAE', 'eval_metric': 'MAE'}. Best is trial 262 with value: 5.917214563261503.\u001b[0m\n"
     ]
    },
    {
     "name": "stdout",
     "output_type": "stream",
     "text": [
      "MAE of Train: 5.916660085989694\n",
      "MAE of Validation: 5.924738269849618\n"
     ]
    },
    {
     "name": "stderr",
     "output_type": "stream",
     "text": [
      "\u001b[32m[I 2022-03-26 01:31:40,501]\u001b[0m Trial 391 finished with value: 5.93512548456277 and parameters: {'random_state': 519632, 'learning_rate': 0.12649398450593888, 'bagging_temperature': 2.9184210792225413, 'max_depth': 5, 'random_strength': 40, 'l2_leaf_reg': 9.521963829886675e-06, 'min_child_samples': 7, 'max_bin': 446, 'od_type': 'IncToDec', 'task_type': 'GPU', 'loss_function': 'MAE', 'eval_metric': 'MAE'}. Best is trial 262 with value: 5.917214563261503.\u001b[0m\n"
     ]
    },
    {
     "name": "stdout",
     "output_type": "stream",
     "text": [
      "MAE of Train: 5.928072806942169\n",
      "MAE of Validation: 5.93512548456277\n"
     ]
    },
    {
     "name": "stderr",
     "output_type": "stream",
     "text": [
      "\u001b[32m[I 2022-03-26 01:31:47,766]\u001b[0m Trial 392 finished with value: 5.931315032563642 and parameters: {'random_state': 519632, 'learning_rate': 0.04876039341157288, 'bagging_temperature': 2.493116814451394, 'max_depth': 5, 'random_strength': 48, 'l2_leaf_reg': 9.44272110488057e-06, 'min_child_samples': 22, 'max_bin': 438, 'od_type': 'IncToDec', 'task_type': 'GPU', 'loss_function': 'MAE', 'eval_metric': 'MAE'}. Best is trial 262 with value: 5.917214563261503.\u001b[0m\n"
     ]
    },
    {
     "name": "stdout",
     "output_type": "stream",
     "text": [
      "MAE of Train: 5.925499050377945\n",
      "MAE of Validation: 5.931315032563642\n"
     ]
    },
    {
     "name": "stderr",
     "output_type": "stream",
     "text": [
      "\u001b[32m[I 2022-03-26 01:31:55,036]\u001b[0m Trial 393 finished with value: 5.9212004806204135 and parameters: {'random_state': 519632, 'learning_rate': 0.14656291056423343, 'bagging_temperature': 3.3145450499286775, 'max_depth': 5, 'random_strength': 57, 'l2_leaf_reg': 1.016329268703973e-05, 'min_child_samples': 12, 'max_bin': 471, 'od_type': 'IncToDec', 'task_type': 'GPU', 'loss_function': 'MAE', 'eval_metric': 'MAE'}. Best is trial 262 with value: 5.917214563261503.\u001b[0m\n"
     ]
    },
    {
     "name": "stdout",
     "output_type": "stream",
     "text": [
      "MAE of Train: 5.912142007889695\n",
      "MAE of Validation: 5.9212004806204135\n"
     ]
    },
    {
     "name": "stderr",
     "output_type": "stream",
     "text": [
      "\u001b[32m[I 2022-03-26 01:31:57,058]\u001b[0m Trial 394 finished with value: 5.956318607227664 and parameters: {'random_state': 519632, 'learning_rate': 0.1907904557385231, 'bagging_temperature': 2.1579621005901997, 'max_depth': 5, 'random_strength': 60, 'l2_leaf_reg': 1.1224578067496966e-05, 'min_child_samples': 15, 'max_bin': 469, 'od_type': 'IncToDec', 'task_type': 'GPU', 'loss_function': 'MAE', 'eval_metric': 'MAE'}. Best is trial 262 with value: 5.917214563261503.\u001b[0m\n"
     ]
    },
    {
     "name": "stdout",
     "output_type": "stream",
     "text": [
      "MAE of Train: 5.949589603053946\n",
      "MAE of Validation: 5.956318607227664\n"
     ]
    },
    {
     "name": "stderr",
     "output_type": "stream",
     "text": [
      "\u001b[32m[I 2022-03-26 01:32:01,969]\u001b[0m Trial 395 finished with value: 5.926385107269903 and parameters: {'random_state': 519632, 'learning_rate': 0.15828213612741465, 'bagging_temperature': 3.1742852009835913, 'max_depth': 6, 'random_strength': 58, 'l2_leaf_reg': 1.0452768020772055e-05, 'min_child_samples': 11, 'max_bin': 484, 'od_type': 'IncToDec', 'task_type': 'GPU', 'loss_function': 'MAE', 'eval_metric': 'MAE'}. Best is trial 262 with value: 5.917214563261503.\u001b[0m\n"
     ]
    },
    {
     "name": "stdout",
     "output_type": "stream",
     "text": [
      "MAE of Train: 5.917018657150419\n",
      "MAE of Validation: 5.926385107269903\n"
     ]
    },
    {
     "name": "stderr",
     "output_type": "stream",
     "text": [
      "\u001b[32m[I 2022-03-26 01:32:08,438]\u001b[0m Trial 396 finished with value: 5.925415943107304 and parameters: {'random_state': 519632, 'learning_rate': 0.15015921462331594, 'bagging_temperature': 4.266510149959558, 'max_depth': 5, 'random_strength': 54, 'l2_leaf_reg': 1.0221535369109575e-05, 'min_child_samples': 13, 'max_bin': 473, 'od_type': 'IncToDec', 'task_type': 'GPU', 'loss_function': 'MAE', 'eval_metric': 'MAE'}. Best is trial 262 with value: 5.917214563261503.\u001b[0m\n"
     ]
    },
    {
     "name": "stdout",
     "output_type": "stream",
     "text": [
      "MAE of Train: 5.913492247640023\n",
      "MAE of Validation: 5.925415943107304\n"
     ]
    },
    {
     "name": "stderr",
     "output_type": "stream",
     "text": [
      "\u001b[32m[I 2022-03-26 01:32:10,234]\u001b[0m Trial 397 finished with value: 5.959581624192545 and parameters: {'random_state': 519632, 'learning_rate': 0.18298212628121913, 'bagging_temperature': 0.40378041993342767, 'max_depth': 5, 'random_strength': 63, 'l2_leaf_reg': 9.900616680465809e-06, 'min_child_samples': 11, 'max_bin': 462, 'od_type': 'IncToDec', 'task_type': 'GPU', 'loss_function': 'MAE', 'eval_metric': 'MAE'}. Best is trial 262 with value: 5.917214563261503.\u001b[0m\n"
     ]
    },
    {
     "name": "stdout",
     "output_type": "stream",
     "text": [
      "MAE of Train: 5.953635049865049\n",
      "MAE of Validation: 5.959581624192545\n"
     ]
    },
    {
     "name": "stderr",
     "output_type": "stream",
     "text": [
      "\u001b[32m[I 2022-03-26 01:32:17,399]\u001b[0m Trial 398 finished with value: 5.926366990233745 and parameters: {'random_state': 519632, 'learning_rate': 0.1395161329767279, 'bagging_temperature': 2.90883398068725, 'max_depth': 5, 'random_strength': 57, 'l2_leaf_reg': 3.148807160856086e-06, 'min_child_samples': 8, 'max_bin': 493, 'od_type': 'IncToDec', 'task_type': 'GPU', 'loss_function': 'MAE', 'eval_metric': 'MAE'}. Best is trial 262 with value: 5.917214563261503.\u001b[0m\n"
     ]
    },
    {
     "name": "stdout",
     "output_type": "stream",
     "text": [
      "MAE of Train: 5.919367827953245\n",
      "MAE of Validation: 5.926366990233745\n"
     ]
    },
    {
     "name": "stderr",
     "output_type": "stream",
     "text": [
      "\u001b[32m[I 2022-03-26 01:32:20,478]\u001b[0m Trial 399 finished with value: 5.946365198352285 and parameters: {'random_state': 519632, 'learning_rate': 0.11576809585369169, 'bagging_temperature': 1.164390683808198, 'max_depth': 5, 'random_strength': 56, 'l2_leaf_reg': 9.621277710051319e-06, 'min_child_samples': 10, 'max_bin': 460, 'od_type': 'IncToDec', 'task_type': 'GPU', 'loss_function': 'MAE', 'eval_metric': 'MAE'}. Best is trial 262 with value: 5.917214563261503.\u001b[0m\n"
     ]
    },
    {
     "name": "stdout",
     "output_type": "stream",
     "text": [
      "MAE of Train: 5.940806197697029\n",
      "MAE of Validation: 5.946365198352285\n"
     ]
    },
    {
     "name": "stderr",
     "output_type": "stream",
     "text": [
      "\u001b[32m[I 2022-03-26 01:32:27,709]\u001b[0m Trial 400 finished with value: 5.922558875398557 and parameters: {'random_state': 519632, 'learning_rate': 0.1627276505391749, 'bagging_temperature': 3.607066796037694, 'max_depth': 5, 'random_strength': 52, 'l2_leaf_reg': 1.1188523470335596e-05, 'min_child_samples': 14, 'max_bin': 475, 'od_type': 'IncToDec', 'task_type': 'GPU', 'loss_function': 'MAE', 'eval_metric': 'MAE'}. Best is trial 262 with value: 5.917214563261503.\u001b[0m\n"
     ]
    },
    {
     "name": "stdout",
     "output_type": "stream",
     "text": [
      "MAE of Train: 5.911564980993664\n",
      "MAE of Validation: 5.922558875398557\n"
     ]
    },
    {
     "name": "stderr",
     "output_type": "stream",
     "text": [
      "\u001b[32m[I 2022-03-26 01:32:31,667]\u001b[0m Trial 401 finished with value: 5.943320779286614 and parameters: {'random_state': 519632, 'learning_rate': 0.12886599429587614, 'bagging_temperature': 1.9901863355887899, 'max_depth': 5, 'random_strength': 38, 'l2_leaf_reg': 2.733703682322514e-05, 'min_child_samples': 12, 'max_bin': 445, 'od_type': 'IncToDec', 'task_type': 'GPU', 'loss_function': 'MAE', 'eval_metric': 'MAE'}. Best is trial 262 with value: 5.917214563261503.\u001b[0m\n"
     ]
    },
    {
     "name": "stdout",
     "output_type": "stream",
     "text": [
      "MAE of Train: 5.938925010501044\n",
      "MAE of Validation: 5.943320779286614\n"
     ]
    },
    {
     "name": "stderr",
     "output_type": "stream",
     "text": [
      "\u001b[32m[I 2022-03-26 01:32:37,996]\u001b[0m Trial 402 finished with value: 5.998333061213266 and parameters: {'random_state': 519632, 'learning_rate': 0.10425352848421583, 'bagging_temperature': 25.83157883599405, 'max_depth': 5, 'random_strength': 61, 'l2_leaf_reg': 7.1709439501500136e-06, 'min_child_samples': 26, 'max_bin': 432, 'od_type': 'IncToDec', 'task_type': 'GPU', 'loss_function': 'MAE', 'eval_metric': 'MAE'}. Best is trial 262 with value: 5.917214563261503.\u001b[0m\n"
     ]
    },
    {
     "name": "stdout",
     "output_type": "stream",
     "text": [
      "MAE of Train: 5.985778583979414\n",
      "MAE of Validation: 5.998333061213266\n"
     ]
    },
    {
     "name": "stderr",
     "output_type": "stream",
     "text": [
      "\u001b[32m[I 2022-03-26 01:32:44,442]\u001b[0m Trial 403 finished with value: 5.923989209267786 and parameters: {'random_state': 519632, 'learning_rate': 0.14349668035460034, 'bagging_temperature': 4.165865736170035, 'max_depth': 5, 'random_strength': 50, 'l2_leaf_reg': 1.0140906147096761e-05, 'min_child_samples': 23, 'max_bin': 464, 'od_type': 'IncToDec', 'task_type': 'GPU', 'loss_function': 'MAE', 'eval_metric': 'MAE'}. Best is trial 262 with value: 5.917214563261503.\u001b[0m\n"
     ]
    },
    {
     "name": "stdout",
     "output_type": "stream",
     "text": [
      "MAE of Train: 5.912633855258319\n",
      "MAE of Validation: 5.923989209267786\n"
     ]
    },
    {
     "name": "stderr",
     "output_type": "stream",
     "text": [
      "\u001b[32m[I 2022-03-26 01:32:48,154]\u001b[0m Trial 404 finished with value: 5.934029198504083 and parameters: {'random_state': 519632, 'learning_rate': 0.1167620953778778, 'bagging_temperature': 2.5164074066100346, 'max_depth': 5, 'random_strength': 41, 'l2_leaf_reg': 8.928927245829452e-06, 'min_child_samples': 9, 'max_bin': 454, 'od_type': 'IncToDec', 'task_type': 'GPU', 'loss_function': 'MAE', 'eval_metric': 'MAE'}. Best is trial 262 with value: 5.917214563261503.\u001b[0m\n"
     ]
    },
    {
     "name": "stdout",
     "output_type": "stream",
     "text": [
      "MAE of Train: 5.927979320574633\n",
      "MAE of Validation: 5.934029198504083\n"
     ]
    },
    {
     "name": "stderr",
     "output_type": "stream",
     "text": [
      "\u001b[32m[I 2022-03-26 01:32:53,002]\u001b[0m Trial 405 finished with value: 5.926867390712016 and parameters: {'random_state': 519632, 'learning_rate': 0.17730328042697535, 'bagging_temperature': 3.3304153140039654, 'max_depth': 5, 'random_strength': 65, 'l2_leaf_reg': 2.7046013111159485e-05, 'min_child_samples': 22, 'max_bin': 474, 'od_type': 'IncToDec', 'task_type': 'GPU', 'loss_function': 'MAE', 'eval_metric': 'MAE'}. Best is trial 262 with value: 5.917214563261503.\u001b[0m\n"
     ]
    },
    {
     "name": "stdout",
     "output_type": "stream",
     "text": [
      "MAE of Train: 5.9206389635576855\n",
      "MAE of Validation: 5.926867390712016\n"
     ]
    },
    {
     "name": "stderr",
     "output_type": "stream",
     "text": [
      "\u001b[32m[I 2022-03-26 01:32:59,023]\u001b[0m Trial 406 finished with value: 5.926392159917428 and parameters: {'random_state': 519632, 'learning_rate': 0.09840705767679896, 'bagging_temperature': 4.58224925593566, 'max_depth': 6, 'random_strength': 58, 'l2_leaf_reg': 1.1698838023320663e-05, 'min_child_samples': 7, 'max_bin': 330, 'od_type': 'IncToDec', 'task_type': 'GPU', 'loss_function': 'MAE', 'eval_metric': 'MAE'}. Best is trial 262 with value: 5.917214563261503.\u001b[0m\n"
     ]
    },
    {
     "name": "stdout",
     "output_type": "stream",
     "text": [
      "MAE of Train: 5.911899567485624\n",
      "MAE of Validation: 5.926392159917428\n"
     ]
    },
    {
     "name": "stderr",
     "output_type": "stream",
     "text": [
      "\u001b[32m[I 2022-03-26 01:33:05,377]\u001b[0m Trial 407 finished with value: 12.323555859478518 and parameters: {'random_state': 519632, 'learning_rate': 0.00017297516207141422, 'bagging_temperature': 2.8372511179639726, 'max_depth': 5, 'random_strength': 42, 'l2_leaf_reg': 1.0497686494258832e-05, 'min_child_samples': 26, 'max_bin': 440, 'od_type': 'Iter', 'task_type': 'GPU', 'loss_function': 'MAE', 'eval_metric': 'MAE'}. Best is trial 262 with value: 5.917214563261503.\u001b[0m\n"
     ]
    },
    {
     "name": "stdout",
     "output_type": "stream",
     "text": [
      "MAE of Train: 12.312236977203035\n",
      "MAE of Validation: 12.323555859478518\n"
     ]
    },
    {
     "name": "stderr",
     "output_type": "stream",
     "text": [
      "\u001b[32m[I 2022-03-26 01:33:09,944]\u001b[0m Trial 408 finished with value: 5.950925300878168 and parameters: {'random_state': 519632, 'learning_rate': 0.1309950752684719, 'bagging_temperature': 3.7152671433352196, 'max_depth': 4, 'random_strength': 45, 'l2_leaf_reg': 9.990115671122689e-06, 'min_child_samples': 15, 'max_bin': 452, 'od_type': 'Iter', 'task_type': 'GPU', 'loss_function': 'MAE', 'eval_metric': 'MAE'}. Best is trial 262 with value: 5.917214563261503.\u001b[0m\n"
     ]
    },
    {
     "name": "stdout",
     "output_type": "stream",
     "text": [
      "MAE of Train: 5.947217404925402\n",
      "MAE of Validation: 5.950925300878168\n"
     ]
    },
    {
     "name": "stderr",
     "output_type": "stream",
     "text": [
      "\u001b[32m[I 2022-03-26 01:33:16,946]\u001b[0m Trial 409 finished with value: 5.929933099263192 and parameters: {'random_state': 519632, 'learning_rate': 0.07699733694797838, 'bagging_temperature': 5.353202613177984, 'max_depth': 5, 'random_strength': 48, 'l2_leaf_reg': 8.178240183698956e-06, 'min_child_samples': 12, 'max_bin': 469, 'od_type': 'Iter', 'task_type': 'GPU', 'loss_function': 'MAE', 'eval_metric': 'MAE'}. Best is trial 262 with value: 5.917214563261503.\u001b[0m\n"
     ]
    },
    {
     "name": "stdout",
     "output_type": "stream",
     "text": [
      "MAE of Train: 5.919685189214087\n",
      "MAE of Validation: 5.929933099263192\n"
     ]
    },
    {
     "name": "stderr",
     "output_type": "stream",
     "text": [
      "\u001b[32m[I 2022-03-26 01:33:24,082]\u001b[0m Trial 410 finished with value: 5.939290561323239 and parameters: {'random_state': 519632, 'learning_rate': 0.15522711812211956, 'bagging_temperature': 2.2811361796676333, 'max_depth': 5, 'random_strength': 53, 'l2_leaf_reg': 2.7628365413347266e-05, 'min_child_samples': 25, 'max_bin': 460, 'od_type': 'Iter', 'task_type': 'GPU', 'loss_function': 'MAE', 'eval_metric': 'MAE'}. Best is trial 262 with value: 5.917214563261503.\u001b[0m\n"
     ]
    },
    {
     "name": "stdout",
     "output_type": "stream",
     "text": [
      "MAE of Train: 5.9336855409274\n",
      "MAE of Validation: 5.939290561323239\n"
     ]
    },
    {
     "name": "stderr",
     "output_type": "stream",
     "text": [
      "\u001b[32m[I 2022-03-26 01:33:31,313]\u001b[0m Trial 411 finished with value: 5.92323142442358 and parameters: {'random_state': 519632, 'learning_rate': 0.11348636070825487, 'bagging_temperature': 3.160240404218015, 'max_depth': 5, 'random_strength': 38, 'l2_leaf_reg': 9.279566934174381e-06, 'min_child_samples': 9, 'max_bin': 463, 'od_type': 'Iter', 'task_type': 'GPU', 'loss_function': 'MAE', 'eval_metric': 'MAE'}. Best is trial 262 with value: 5.917214563261503.\u001b[0m\n"
     ]
    },
    {
     "name": "stdout",
     "output_type": "stream",
     "text": [
      "MAE of Train: 5.9165614804897855\n",
      "MAE of Validation: 5.92323142442358\n"
     ]
    },
    {
     "name": "stderr",
     "output_type": "stream",
     "text": [
      "\u001b[32m[I 2022-03-26 01:33:36,863]\u001b[0m Trial 412 finished with value: 5.926791199247614 and parameters: {'random_state': 519632, 'learning_rate': 0.20082926668534637, 'bagging_temperature': 3.868434387977916, 'max_depth': 5, 'random_strength': 50, 'l2_leaf_reg': 2.666583888021917e-05, 'min_child_samples': 23, 'max_bin': 368, 'od_type': 'IncToDec', 'task_type': 'GPU', 'loss_function': 'MAE', 'eval_metric': 'MAE'}. Best is trial 262 with value: 5.917214563261503.\u001b[0m\n"
     ]
    },
    {
     "name": "stdout",
     "output_type": "stream",
     "text": [
      "MAE of Train: 5.918367689458028\n",
      "MAE of Validation: 5.926791199247614\n"
     ]
    },
    {
     "name": "stderr",
     "output_type": "stream",
     "text": [
      "\u001b[32m[I 2022-03-26 01:33:44,050]\u001b[0m Trial 413 finished with value: 5.923515657418435 and parameters: {'random_state': 519632, 'learning_rate': 0.09741236877756712, 'bagging_temperature': 4.565462811344241, 'max_depth': 5, 'random_strength': 43, 'l2_leaf_reg': 7.569382866162802e-06, 'min_child_samples': 28, 'max_bin': 447, 'od_type': 'Iter', 'task_type': 'GPU', 'loss_function': 'MAE', 'eval_metric': 'MAE'}. Best is trial 262 with value: 5.917214563261503.\u001b[0m\n"
     ]
    },
    {
     "name": "stdout",
     "output_type": "stream",
     "text": [
      "MAE of Train: 5.9126370896008815\n",
      "MAE of Validation: 5.923515657418435\n"
     ]
    },
    {
     "name": "stderr",
     "output_type": "stream",
     "text": [
      "\u001b[32m[I 2022-03-26 01:33:49,168]\u001b[0m Trial 414 finished with value: 5.943367274829698 and parameters: {'random_state': 519632, 'learning_rate': 0.12918703788567015, 'bagging_temperature': 6.35397962385921, 'max_depth': 6, 'random_strength': 36, 'l2_leaf_reg': 1.108859754394585e-05, 'min_child_samples': 11, 'max_bin': 239, 'od_type': 'Iter', 'task_type': 'GPU', 'loss_function': 'MAE', 'eval_metric': 'MAE'}. Best is trial 262 with value: 5.917214563261503.\u001b[0m\n"
     ]
    },
    {
     "name": "stdout",
     "output_type": "stream",
     "text": [
      "MAE of Train: 5.925092130142671\n",
      "MAE of Validation: 5.943367274829698\n"
     ]
    },
    {
     "name": "stderr",
     "output_type": "stream",
     "text": [
      "\u001b[32m[I 2022-03-26 01:33:56,434]\u001b[0m Trial 415 finished with value: 5.941168351294911 and parameters: {'random_state': 519632, 'learning_rate': 0.01866237619575888, 'bagging_temperature': 2.830300030035337, 'max_depth': 5, 'random_strength': 60, 'l2_leaf_reg': 2.7974027979773873e-05, 'min_child_samples': 41, 'max_bin': 480, 'od_type': 'Iter', 'task_type': 'GPU', 'loss_function': 'MAE', 'eval_metric': 'MAE'}. Best is trial 262 with value: 5.917214563261503.\u001b[0m\n"
     ]
    },
    {
     "name": "stdout",
     "output_type": "stream",
     "text": [
      "MAE of Train: 5.9363864897062735\n",
      "MAE of Validation: 5.941168351294911\n"
     ]
    },
    {
     "name": "stderr",
     "output_type": "stream",
     "text": [
      "\u001b[32m[I 2022-03-26 01:34:03,493]\u001b[0m Trial 416 finished with value: 5.930381082115203 and parameters: {'random_state': 519632, 'learning_rate': 0.07963346547828716, 'bagging_temperature': 3.5570368826823793, 'max_depth': 5, 'random_strength': 47, 'l2_leaf_reg': 4.910569213868864e-06, 'min_child_samples': 5, 'max_bin': 228, 'od_type': 'Iter', 'task_type': 'GPU', 'loss_function': 'MAE', 'eval_metric': 'MAE'}. Best is trial 262 with value: 5.917214563261503.\u001b[0m\n"
     ]
    },
    {
     "name": "stdout",
     "output_type": "stream",
     "text": [
      "MAE of Train: 5.923138130292186\n",
      "MAE of Validation: 5.930381082115203\n"
     ]
    },
    {
     "name": "stderr",
     "output_type": "stream",
     "text": [
      "\u001b[32m[I 2022-03-26 01:34:08,564]\u001b[0m Trial 417 finished with value: 5.933799334668609 and parameters: {'random_state': 519632, 'learning_rate': 0.1526436240884185, 'bagging_temperature': 4.969960593104802, 'max_depth': 5, 'random_strength': 45, 'l2_leaf_reg': 8.411769007073093e-06, 'min_child_samples': 22, 'max_bin': 471, 'od_type': 'Iter', 'task_type': 'GPU', 'loss_function': 'MAE', 'eval_metric': 'MAE'}. Best is trial 262 with value: 5.917214563261503.\u001b[0m\n"
     ]
    },
    {
     "name": "stdout",
     "output_type": "stream",
     "text": [
      "MAE of Train: 5.922680249652278\n",
      "MAE of Validation: 5.933799334668609\n"
     ]
    },
    {
     "name": "stderr",
     "output_type": "stream",
     "text": [
      "\u001b[32m[I 2022-03-26 01:34:14,639]\u001b[0m Trial 418 finished with value: 7.824869074756063 and parameters: {'random_state': 519632, 'learning_rate': 0.0011434593274337976, 'bagging_temperature': 2.4595862560734303, 'max_depth': 5, 'random_strength': 41, 'l2_leaf_reg': 2.7080319059653624e-05, 'min_child_samples': 14, 'max_bin': 231, 'od_type': 'Iter', 'task_type': 'GPU', 'loss_function': 'MAE', 'eval_metric': 'MAE'}. Best is trial 262 with value: 5.917214563261503.\u001b[0m\n"
     ]
    },
    {
     "name": "stdout",
     "output_type": "stream",
     "text": [
      "MAE of Train: 7.812829000668639\n",
      "MAE of Validation: 7.824869074756063\n"
     ]
    },
    {
     "name": "stderr",
     "output_type": "stream",
     "text": [
      "\u001b[32m[I 2022-03-26 01:34:19,528]\u001b[0m Trial 419 finished with value: 5.9233966143665775 and parameters: {'random_state': 519632, 'learning_rate': 0.1117912758718607, 'bagging_temperature': 3.16101228558568, 'max_depth': 5, 'random_strength': 52, 'l2_leaf_reg': 2.496417680933601e-05, 'min_child_samples': 16, 'max_bin': 457, 'od_type': 'Iter', 'task_type': 'GPU', 'loss_function': 'MAE', 'eval_metric': 'MAE'}. Best is trial 262 with value: 5.917214563261503.\u001b[0m\n"
     ]
    },
    {
     "name": "stdout",
     "output_type": "stream",
     "text": [
      "MAE of Train: 5.916354728782065\n",
      "MAE of Validation: 5.9233966143665775\n"
     ]
    },
    {
     "name": "stderr",
     "output_type": "stream",
     "text": [
      "\u001b[32m[I 2022-03-26 01:34:26,588]\u001b[0m Trial 420 finished with value: 5.923593169298088 and parameters: {'random_state': 519632, 'learning_rate': 0.09320078839167185, 'bagging_temperature': 4.314711077473944, 'max_depth': 5, 'random_strength': 55, 'l2_leaf_reg': 2.385410492506901e-05, 'min_child_samples': 25, 'max_bin': 219, 'od_type': 'IncToDec', 'task_type': 'GPU', 'loss_function': 'MAE', 'eval_metric': 'MAE'}. Best is trial 262 with value: 5.917214563261503.\u001b[0m\n"
     ]
    },
    {
     "name": "stdout",
     "output_type": "stream",
     "text": [
      "MAE of Train: 5.912604348290596\n",
      "MAE of Validation: 5.923593169298088\n"
     ]
    },
    {
     "name": "stderr",
     "output_type": "stream",
     "text": [
      "\u001b[32m[I 2022-03-26 01:34:31,038]\u001b[0m Trial 421 finished with value: 5.941825928970341 and parameters: {'random_state': 519632, 'learning_rate': 0.13532028583111158, 'bagging_temperature': 1.8637784535551454, 'max_depth': 5, 'random_strength': 34, 'l2_leaf_reg': 1.348028789103319e-05, 'min_child_samples': 27, 'max_bin': 225, 'od_type': 'Iter', 'task_type': 'GPU', 'loss_function': 'MAE', 'eval_metric': 'MAE'}. Best is trial 262 with value: 5.917214563261503.\u001b[0m\n"
     ]
    },
    {
     "name": "stdout",
     "output_type": "stream",
     "text": [
      "MAE of Train: 5.934986292274715\n",
      "MAE of Validation: 5.941825928970341\n"
     ]
    },
    {
     "name": "stderr",
     "output_type": "stream",
     "text": [
      "\u001b[32m[I 2022-03-26 01:34:36,079]\u001b[0m Trial 422 finished with value: 5.921822195418922 and parameters: {'random_state': 519632, 'learning_rate': 0.1754245427300269, 'bagging_temperature': 3.851155960459379, 'max_depth': 5, 'random_strength': 47, 'l2_leaf_reg': 1.2434898011558384e-05, 'min_child_samples': 8, 'max_bin': 215, 'od_type': 'Iter', 'task_type': 'GPU', 'loss_function': 'MAE', 'eval_metric': 'MAE'}. Best is trial 262 with value: 5.917214563261503.\u001b[0m\n"
     ]
    },
    {
     "name": "stdout",
     "output_type": "stream",
     "text": [
      "MAE of Train: 5.911756425736887\n",
      "MAE of Validation: 5.921822195418922\n"
     ]
    },
    {
     "name": "stderr",
     "output_type": "stream",
     "text": [
      "\u001b[32m[I 2022-03-26 01:34:43,330]\u001b[0m Trial 423 finished with value: 5.919904896608203 and parameters: {'random_state': 519632, 'learning_rate': 0.10748282384523467, 'bagging_temperature': 2.6541336132261195, 'max_depth': 5, 'random_strength': 50, 'l2_leaf_reg': 1.172071470300418e-05, 'min_child_samples': 38, 'max_bin': 221, 'od_type': 'Iter', 'task_type': 'GPU', 'loss_function': 'MAE', 'eval_metric': 'MAE'}. Best is trial 262 with value: 5.917214563261503.\u001b[0m\n"
     ]
    },
    {
     "name": "stdout",
     "output_type": "stream",
     "text": [
      "MAE of Train: 5.912337159791421\n",
      "MAE of Validation: 5.919904896608203\n"
     ]
    },
    {
     "name": "stderr",
     "output_type": "stream",
     "text": [
      "\u001b[32m[I 2022-03-26 01:34:49,738]\u001b[0m Trial 424 finished with value: 5.931238591802245 and parameters: {'random_state': 519632, 'learning_rate': 0.08386421325535288, 'bagging_temperature': 2.5501383785268983, 'max_depth': 6, 'random_strength': 54, 'l2_leaf_reg': 1.1496481609676398e-05, 'min_child_samples': 39, 'max_bin': 232, 'od_type': 'Iter', 'task_type': 'GPU', 'loss_function': 'MAE', 'eval_metric': 'MAE'}. Best is trial 262 with value: 5.917214563261503.\u001b[0m\n"
     ]
    },
    {
     "name": "stdout",
     "output_type": "stream",
     "text": [
      "MAE of Train: 5.923505192586567\n",
      "MAE of Validation: 5.931238591802245\n"
     ]
    },
    {
     "name": "stderr",
     "output_type": "stream",
     "text": [
      "\u001b[32m[I 2022-03-26 01:34:54,659]\u001b[0m Trial 425 finished with value: 5.937451110470131 and parameters: {'random_state': 519632, 'learning_rate': 0.05817177903130027, 'bagging_temperature': 1.5260378190982822, 'max_depth': 5, 'random_strength': 50, 'l2_leaf_reg': 2.840444824605158e-05, 'min_child_samples': 36, 'max_bin': 222, 'od_type': 'Iter', 'task_type': 'GPU', 'loss_function': 'MAE', 'eval_metric': 'MAE'}. Best is trial 262 with value: 5.917214563261503.\u001b[0m\n"
     ]
    },
    {
     "name": "stdout",
     "output_type": "stream",
     "text": [
      "MAE of Train: 5.931983843440538\n",
      "MAE of Validation: 5.937451110470131\n"
     ]
    },
    {
     "name": "stderr",
     "output_type": "stream",
     "text": [
      "\u001b[32m[I 2022-03-26 01:34:58,498]\u001b[0m Trial 426 finished with value: 5.938050134685285 and parameters: {'random_state': 519632, 'learning_rate': 0.10295151991571422, 'bagging_temperature': 2.0765061186008853, 'max_depth': 5, 'random_strength': 63, 'l2_leaf_reg': 1.1897665597220673e-05, 'min_child_samples': 38, 'max_bin': 228, 'od_type': 'Iter', 'task_type': 'GPU', 'loss_function': 'MAE', 'eval_metric': 'MAE'}. Best is trial 262 with value: 5.917214563261503.\u001b[0m\n"
     ]
    },
    {
     "name": "stdout",
     "output_type": "stream",
     "text": [
      "MAE of Train: 5.933596057662742\n",
      "MAE of Validation: 5.938050134685285\n"
     ]
    },
    {
     "name": "stderr",
     "output_type": "stream",
     "text": [
      "\u001b[32m[I 2022-03-26 01:35:05,293]\u001b[0m Trial 427 finished with value: 5.927542389844073 and parameters: {'random_state': 519632, 'learning_rate': 0.07121380932984556, 'bagging_temperature': 2.9545368916391817, 'max_depth': 5, 'random_strength': 51, 'l2_leaf_reg': 2.7624513534727636e-05, 'min_child_samples': 39, 'max_bin': 244, 'od_type': 'Iter', 'task_type': 'GPU', 'loss_function': 'MAE', 'eval_metric': 'MAE'}. Best is trial 262 with value: 5.917214563261503.\u001b[0m\n"
     ]
    },
    {
     "name": "stdout",
     "output_type": "stream",
     "text": [
      "MAE of Train: 5.921971756164753\n",
      "MAE of Validation: 5.927542389844073\n"
     ]
    },
    {
     "name": "stderr",
     "output_type": "stream",
     "text": [
      "\u001b[32m[I 2022-03-26 01:35:12,364]\u001b[0m Trial 428 finished with value: 5.921672315911828 and parameters: {'random_state': 519632, 'learning_rate': 0.10435596298538231, 'bagging_temperature': 2.445528317335895, 'max_depth': 5, 'random_strength': 39, 'l2_leaf_reg': 2.9738604337014174e-05, 'min_child_samples': 41, 'max_bin': 220, 'od_type': 'IncToDec', 'task_type': 'GPU', 'loss_function': 'MAE', 'eval_metric': 'MAE'}. Best is trial 262 with value: 5.917214563261503.\u001b[0m\n"
     ]
    },
    {
     "name": "stdout",
     "output_type": "stream",
     "text": [
      "MAE of Train: 5.914913687356232\n",
      "MAE of Validation: 5.921672315911828\n"
     ]
    },
    {
     "name": "stderr",
     "output_type": "stream",
     "text": [
      "\u001b[32m[I 2022-03-26 01:35:18,624]\u001b[0m Trial 429 finished with value: 6.3486434969235885 and parameters: {'random_state': 519632, 'learning_rate': 0.0024316531738850507, 'bagging_temperature': 3.2272159136734295, 'max_depth': 5, 'random_strength': 43, 'l2_leaf_reg': 2.6985899985034736e-05, 'min_child_samples': 10, 'max_bin': 235, 'od_type': 'Iter', 'task_type': 'GPU', 'loss_function': 'MAE', 'eval_metric': 'MAE'}. Best is trial 262 with value: 5.917214563261503.\u001b[0m\n"
     ]
    },
    {
     "name": "stdout",
     "output_type": "stream",
     "text": [
      "MAE of Train: 6.341026309694975\n",
      "MAE of Validation: 6.3486434969235885\n"
     ]
    },
    {
     "name": "stderr",
     "output_type": "stream",
     "text": [
      "\u001b[32m[I 2022-03-26 01:35:25,788]\u001b[0m Trial 430 finished with value: 5.924608275172188 and parameters: {'random_state': 519632, 'learning_rate': 0.0876226685184015, 'bagging_temperature': 2.754963333655229, 'max_depth': 5, 'random_strength': 93, 'l2_leaf_reg': 1.0702626896869522e-05, 'min_child_samples': 37, 'max_bin': 488, 'od_type': 'Iter', 'task_type': 'GPU', 'loss_function': 'MAE', 'eval_metric': 'MAE'}. Best is trial 262 with value: 5.917214563261503.\u001b[0m\n"
     ]
    },
    {
     "name": "stdout",
     "output_type": "stream",
     "text": [
      "MAE of Train: 5.9181085204919315\n",
      "MAE of Validation: 5.924608275172188\n"
     ]
    },
    {
     "name": "stderr",
     "output_type": "stream",
     "text": [
      "\u001b[32m[I 2022-03-26 01:35:31,229]\u001b[0m Trial 431 finished with value: 5.9323468737490295 and parameters: {'random_state': 519632, 'learning_rate': 0.14873736572941915, 'bagging_temperature': 5.212503011447094, 'max_depth': 5, 'random_strength': 57, 'l2_leaf_reg': 8.632395633804346e-06, 'min_child_samples': 36, 'max_bin': 215, 'od_type': 'Iter', 'task_type': 'GPU', 'loss_function': 'MAE', 'eval_metric': 'MAE'}. Best is trial 262 with value: 5.917214563261503.\u001b[0m\n"
     ]
    },
    {
     "name": "stdout",
     "output_type": "stream",
     "text": [
      "MAE of Train: 5.919247106792558\n",
      "MAE of Validation: 5.9323468737490295\n"
     ]
    },
    {
     "name": "stderr",
     "output_type": "stream",
     "text": [
      "\u001b[32m[I 2022-03-26 01:35:33,579]\u001b[0m Trial 432 finished with value: 5.957595435768422 and parameters: {'random_state': 519632, 'learning_rate': 0.12008210586368163, 'bagging_temperature': 0.21391742060798352, 'max_depth': 5, 'random_strength': 49, 'l2_leaf_reg': 2.8314422261994326e-05, 'min_child_samples': 42, 'max_bin': 452, 'od_type': 'Iter', 'task_type': 'GPU', 'loss_function': 'MAE', 'eval_metric': 'MAE'}. Best is trial 262 with value: 5.917214563261503.\u001b[0m\n"
     ]
    },
    {
     "name": "stdout",
     "output_type": "stream",
     "text": [
      "MAE of Train: 5.952044754807327\n",
      "MAE of Validation: 5.957595435768422\n"
     ]
    },
    {
     "name": "stderr",
     "output_type": "stream",
     "text": [
      "\u001b[32m[I 2022-03-26 01:35:36,415]\u001b[0m Trial 433 finished with value: 5.947661447904835 and parameters: {'random_state': 519632, 'learning_rate': 0.19772713583068838, 'bagging_temperature': 2.203532646827288, 'max_depth': 5, 'random_strength': 96, 'l2_leaf_reg': 3.646301433885548e-07, 'min_child_samples': 13, 'max_bin': 253, 'od_type': 'Iter', 'task_type': 'GPU', 'loss_function': 'MAE', 'eval_metric': 'MAE'}. Best is trial 262 with value: 5.917214563261503.\u001b[0m\n"
     ]
    },
    {
     "name": "stdout",
     "output_type": "stream",
     "text": [
      "MAE of Train: 5.942238313795542\n",
      "MAE of Validation: 5.947661447904835\n"
     ]
    },
    {
     "name": "stderr",
     "output_type": "stream",
     "text": [
      "\u001b[32m[I 2022-03-26 01:35:42,093]\u001b[0m Trial 434 finished with value: 5.92966777171811 and parameters: {'random_state': 519632, 'learning_rate': 0.09775684200777683, 'bagging_temperature': 3.3209155435816533, 'max_depth': 8, 'random_strength': 52, 'l2_leaf_reg': 6.482091538244715e-06, 'min_child_samples': 11, 'max_bin': 224, 'od_type': 'IncToDec', 'task_type': 'GPU', 'loss_function': 'MAE', 'eval_metric': 'MAE'}. Best is trial 262 with value: 5.917214563261503.\u001b[0m\n"
     ]
    },
    {
     "name": "stdout",
     "output_type": "stream",
     "text": [
      "MAE of Train: 5.914361825034892\n",
      "MAE of Validation: 5.92966777171811\n"
     ]
    },
    {
     "name": "stderr",
     "output_type": "stream",
     "text": [
      "\u001b[32m[I 2022-03-26 01:35:47,773]\u001b[0m Trial 435 finished with value: 8.553066029455564 and parameters: {'random_state': 519632, 'learning_rate': 0.0008926969587437069, 'bagging_temperature': 4.187436231775708, 'max_depth': 4, 'random_strength': 93, 'l2_leaf_reg': 9.244524883815822e-06, 'min_child_samples': 33, 'max_bin': 210, 'od_type': 'Iter', 'task_type': 'GPU', 'loss_function': 'MAE', 'eval_metric': 'MAE'}. Best is trial 262 with value: 5.917214563261503.\u001b[0m\n"
     ]
    },
    {
     "name": "stdout",
     "output_type": "stream",
     "text": [
      "MAE of Train: 8.5427235723056\n",
      "MAE of Validation: 8.553066029455564\n"
     ]
    },
    {
     "name": "stderr",
     "output_type": "stream",
     "text": [
      "\u001b[32m[I 2022-03-26 01:35:53,275]\u001b[0m Trial 436 finished with value: 5.927948208217805 and parameters: {'random_state': 519632, 'learning_rate': 0.1320691894817081, 'bagging_temperature': 3.293178632766762, 'max_depth': 5, 'random_strength': 38, 'l2_leaf_reg': 2.623485290310945e-05, 'min_child_samples': 7, 'max_bin': 467, 'od_type': 'Iter', 'task_type': 'GPU', 'loss_function': 'MAE', 'eval_metric': 'MAE'}. Best is trial 262 with value: 5.917214563261503.\u001b[0m\n"
     ]
    },
    {
     "name": "stdout",
     "output_type": "stream",
     "text": [
      "MAE of Train: 5.9215205209937665\n",
      "MAE of Validation: 5.927948208217805\n"
     ]
    },
    {
     "name": "stderr",
     "output_type": "stream",
     "text": [
      "\u001b[32m[I 2022-03-26 01:35:58,011]\u001b[0m Trial 437 finished with value: 5.93288019617047 and parameters: {'random_state': 519632, 'learning_rate': 0.06706958981569178, 'bagging_temperature': 1.7905382956164546, 'max_depth': 6, 'random_strength': 41, 'l2_leaf_reg': 2.7511551140384376e-05, 'min_child_samples': 34, 'max_bin': 218, 'od_type': 'Iter', 'task_type': 'GPU', 'loss_function': 'MAE', 'eval_metric': 'MAE'}. Best is trial 262 with value: 5.917214563261503.\u001b[0m\n"
     ]
    },
    {
     "name": "stdout",
     "output_type": "stream",
     "text": [
      "MAE of Train: 5.926441681067494\n",
      "MAE of Validation: 5.93288019617047\n"
     ]
    },
    {
     "name": "stderr",
     "output_type": "stream",
     "text": [
      "\u001b[32m[I 2022-03-26 01:36:02,379]\u001b[0m Trial 438 finished with value: 5.935073440723839 and parameters: {'random_state': 519632, 'learning_rate': 0.16495328305689685, 'bagging_temperature': 2.6898773792077937, 'max_depth': 5, 'random_strength': 61, 'l2_leaf_reg': 7.599881492257256e-06, 'min_child_samples': 13, 'max_bin': 215, 'od_type': 'Iter', 'task_type': 'GPU', 'loss_function': 'MAE', 'eval_metric': 'MAE'}. Best is trial 262 with value: 5.917214563261503.\u001b[0m\n"
     ]
    },
    {
     "name": "stdout",
     "output_type": "stream",
     "text": [
      "MAE of Train: 5.930067726507034\n",
      "MAE of Validation: 5.935073440723839\n"
     ]
    },
    {
     "name": "stderr",
     "output_type": "stream",
     "text": [
      "\u001b[32m[I 2022-03-26 01:36:09,231]\u001b[0m Trial 439 finished with value: 5.939511205309462 and parameters: {'random_state': 519632, 'learning_rate': 0.024936928197537272, 'bagging_temperature': 5.658370465535963, 'max_depth': 5, 'random_strength': 44, 'l2_leaf_reg': 1.0189202633202061e-05, 'min_child_samples': 9, 'max_bin': 227, 'od_type': 'Iter', 'task_type': 'GPU', 'loss_function': 'MAE', 'eval_metric': 'MAE'}. Best is trial 262 with value: 5.917214563261503.\u001b[0m\n"
     ]
    },
    {
     "name": "stdout",
     "output_type": "stream",
     "text": [
      "MAE of Train: 5.933270891324978\n",
      "MAE of Validation: 5.939511205309462\n"
     ]
    },
    {
     "name": "stderr",
     "output_type": "stream",
     "text": [
      "\u001b[32m[I 2022-03-26 01:36:16,461]\u001b[0m Trial 440 finished with value: 5.921648034394978 and parameters: {'random_state': 519632, 'learning_rate': 0.1128321770451112, 'bagging_temperature': 4.190112180522404, 'max_depth': 5, 'random_strength': 66, 'l2_leaf_reg': 2.5457276229914665e-05, 'min_child_samples': 16, 'max_bin': 445, 'od_type': 'IncToDec', 'task_type': 'GPU', 'loss_function': 'MAE', 'eval_metric': 'MAE'}. Best is trial 262 with value: 5.917214563261503.\u001b[0m\n"
     ]
    },
    {
     "name": "stdout",
     "output_type": "stream",
     "text": [
      "MAE of Train: 5.910926416595129\n",
      "MAE of Validation: 5.921648034394978\n"
     ]
    },
    {
     "name": "stderr",
     "output_type": "stream",
     "text": [
      "\u001b[32m[I 2022-03-26 01:36:23,809]\u001b[0m Trial 441 finished with value: 5.918659317184664 and parameters: {'random_state': 519632, 'learning_rate': 0.09140834667639118, 'bagging_temperature': 3.6368593372215283, 'max_depth': 5, 'random_strength': 48, 'l2_leaf_reg': 2.688890825511918e-05, 'min_child_samples': 28, 'max_bin': 406, 'od_type': 'Iter', 'task_type': 'GPU', 'loss_function': 'MAE', 'eval_metric': 'MAE'}. Best is trial 262 with value: 5.917214563261503.\u001b[0m\n"
     ]
    },
    {
     "name": "stdout",
     "output_type": "stream",
     "text": [
      "MAE of Train: 5.908917426227156\n",
      "MAE of Validation: 5.918659317184664\n"
     ]
    },
    {
     "name": "stderr",
     "output_type": "stream",
     "text": [
      "\u001b[32m[I 2022-03-26 01:36:28,256]\u001b[0m Trial 442 finished with value: 5.930894640407092 and parameters: {'random_state': 519632, 'learning_rate': 0.08429498843394881, 'bagging_temperature': 2.22351325588649, 'max_depth': 5, 'random_strength': 48, 'l2_leaf_reg': 2.8560027251034357e-05, 'min_child_samples': 29, 'max_bin': 390, 'od_type': 'Iter', 'task_type': 'GPU', 'loss_function': 'MAE', 'eval_metric': 'MAE'}. Best is trial 262 with value: 5.917214563261503.\u001b[0m\n"
     ]
    },
    {
     "name": "stdout",
     "output_type": "stream",
     "text": [
      "MAE of Train: 5.924589669837923\n",
      "MAE of Validation: 5.930894640407092\n"
     ]
    },
    {
     "name": "stderr",
     "output_type": "stream",
     "text": [
      "\u001b[32m[I 2022-03-26 01:36:35,567]\u001b[0m Trial 443 finished with value: 5.920333235485302 and parameters: {'random_state': 519632, 'learning_rate': 0.08310390290217495, 'bagging_temperature': 3.2532806458538435, 'max_depth': 5, 'random_strength': 51, 'l2_leaf_reg': 2.7830067212861893e-05, 'min_child_samples': 34, 'max_bin': 461, 'od_type': 'Iter', 'task_type': 'GPU', 'loss_function': 'MAE', 'eval_metric': 'MAE'}. Best is trial 262 with value: 5.917214563261503.\u001b[0m\n"
     ]
    },
    {
     "name": "stdout",
     "output_type": "stream",
     "text": [
      "MAE of Train: 5.912452551058341\n",
      "MAE of Validation: 5.920333235485302\n"
     ]
    },
    {
     "name": "stderr",
     "output_type": "stream",
     "text": [
      "\u001b[32m[I 2022-03-26 01:36:39,760]\u001b[0m Trial 444 finished with value: 5.942046716484291 and parameters: {'random_state': 519632, 'learning_rate': 0.05839565737028956, 'bagging_temperature': 0.741419346833503, 'max_depth': 5, 'random_strength': 53, 'l2_leaf_reg': 2.770596471289573e-05, 'min_child_samples': 38, 'max_bin': 417, 'od_type': 'Iter', 'task_type': 'GPU', 'loss_function': 'MAE', 'eval_metric': 'MAE'}. Best is trial 262 with value: 5.917214563261503.\u001b[0m\n"
     ]
    },
    {
     "name": "stdout",
     "output_type": "stream",
     "text": [
      "MAE of Train: 5.935880853607593\n",
      "MAE of Validation: 5.942046716484291\n"
     ]
    },
    {
     "name": "stderr",
     "output_type": "stream",
     "text": [
      "\u001b[32m[I 2022-03-26 01:36:43,508]\u001b[0m Trial 445 finished with value: 5.93664208244503 and parameters: {'random_state': 519632, 'learning_rate': 0.07391780002295696, 'bagging_temperature': 2.8029466308255, 'max_depth': 7, 'random_strength': 51, 'l2_leaf_reg': 2.9324114103504944e-05, 'min_child_samples': 34, 'max_bin': 428, 'od_type': 'Iter', 'task_type': 'GPU', 'loss_function': 'MAE', 'eval_metric': 'MAE'}. Best is trial 262 with value: 5.917214563261503.\u001b[0m\n"
     ]
    },
    {
     "name": "stdout",
     "output_type": "stream",
     "text": [
      "MAE of Train: 5.92924839808631\n",
      "MAE of Validation: 5.93664208244503\n"
     ]
    },
    {
     "name": "stderr",
     "output_type": "stream",
     "text": [
      "\u001b[32m[I 2022-03-26 01:36:50,796]\u001b[0m Trial 446 finished with value: 5.923709681296185 and parameters: {'random_state': 519632, 'learning_rate': 0.041957580280706765, 'bagging_temperature': 3.2022411497849164, 'max_depth': 5, 'random_strength': 54, 'l2_leaf_reg': 2.6787308215562545e-05, 'min_child_samples': 35, 'max_bin': 405, 'od_type': 'Iter', 'task_type': 'GPU', 'loss_function': 'MAE', 'eval_metric': 'MAE'}. Best is trial 262 with value: 5.917214563261503.\u001b[0m\n"
     ]
    },
    {
     "name": "stdout",
     "output_type": "stream",
     "text": [
      "MAE of Train: 5.918327504656569\n",
      "MAE of Validation: 5.923709681296185\n"
     ]
    },
    {
     "name": "stderr",
     "output_type": "stream",
     "text": [
      "\u001b[32m[I 2022-03-26 01:36:56,256]\u001b[0m Trial 447 finished with value: 5.934346183150415 and parameters: {'random_state': 519632, 'learning_rate': 0.07625163383437163, 'bagging_temperature': 2.5020062420833584, 'max_depth': 6, 'random_strength': 59, 'l2_leaf_reg': 2.819734730607691e-05, 'min_child_samples': 34, 'max_bin': 346, 'od_type': 'IncToDec', 'task_type': 'GPU', 'loss_function': 'MAE', 'eval_metric': 'MAE'}. Best is trial 262 with value: 5.917214563261503.\u001b[0m\n"
     ]
    },
    {
     "name": "stdout",
     "output_type": "stream",
     "text": [
      "MAE of Train: 5.9270204551363\n",
      "MAE of Validation: 5.934346183150415\n"
     ]
    },
    {
     "name": "stderr",
     "output_type": "stream",
     "text": [
      "\u001b[32m[I 2022-03-26 01:37:03,574]\u001b[0m Trial 448 finished with value: 5.919633069660065 and parameters: {'random_state': 519632, 'learning_rate': 0.087837455214896, 'bagging_temperature': 3.6086411432175383, 'max_depth': 5, 'random_strength': 56, 'l2_leaf_reg': 2.7225777734408634e-05, 'min_child_samples': 74, 'max_bin': 463, 'od_type': 'Iter', 'task_type': 'GPU', 'loss_function': 'MAE', 'eval_metric': 'MAE'}. Best is trial 262 with value: 5.917214563261503.\u001b[0m\n"
     ]
    },
    {
     "name": "stdout",
     "output_type": "stream",
     "text": [
      "MAE of Train: 5.909989456393116\n",
      "MAE of Validation: 5.919633069660065\n"
     ]
    },
    {
     "name": "stderr",
     "output_type": "stream",
     "text": [
      "\u001b[32m[I 2022-03-26 01:37:10,723]\u001b[0m Trial 449 finished with value: 5.931581850167549 and parameters: {'random_state': 519632, 'learning_rate': 0.06114146519833675, 'bagging_temperature': 1.9545126723055501, 'max_depth': 5, 'random_strength': 57, 'l2_leaf_reg': 2.7931649732236062e-05, 'min_child_samples': 38, 'max_bin': 461, 'od_type': 'Iter', 'task_type': 'GPU', 'loss_function': 'MAE', 'eval_metric': 'MAE'}. Best is trial 262 with value: 5.917214563261503.\u001b[0m\n"
     ]
    },
    {
     "name": "stdout",
     "output_type": "stream",
     "text": [
      "MAE of Train: 5.925391413166964\n",
      "MAE of Validation: 5.931581850167549\n"
     ]
    },
    {
     "name": "stderr",
     "output_type": "stream",
     "text": [
      "\u001b[32m[I 2022-03-26 01:37:18,082]\u001b[0m Trial 450 finished with value: 5.919181931337603 and parameters: {'random_state': 519632, 'learning_rate': 0.08186917095724244, 'bagging_temperature': 3.070332854077161, 'max_depth': 5, 'random_strength': 54, 'l2_leaf_reg': 2.7273625082673635e-05, 'min_child_samples': 37, 'max_bin': 464, 'od_type': 'Iter', 'task_type': 'GPU', 'loss_function': 'MAE', 'eval_metric': 'MAE'}. Best is trial 262 with value: 5.917214563261503.\u001b[0m\n"
     ]
    },
    {
     "name": "stdout",
     "output_type": "stream",
     "text": [
      "MAE of Train: 5.912385968321721\n",
      "MAE of Validation: 5.919181931337603\n"
     ]
    },
    {
     "name": "stderr",
     "output_type": "stream",
     "text": [
      "\u001b[32m[I 2022-03-26 01:37:25,187]\u001b[0m Trial 451 finished with value: 5.9321448340856175 and parameters: {'random_state': 519632, 'learning_rate': 0.05162131151314734, 'bagging_temperature': 2.8177193635264914, 'max_depth': 5, 'random_strength': 56, 'l2_leaf_reg': 2.8563733373470405e-05, 'min_child_samples': 96, 'max_bin': 469, 'od_type': 'Iter', 'task_type': 'GPU', 'loss_function': 'MAE', 'eval_metric': 'MAE'}. Best is trial 262 with value: 5.917214563261503.\u001b[0m\n"
     ]
    },
    {
     "name": "stdout",
     "output_type": "stream",
     "text": [
      "MAE of Train: 5.927333220170642\n",
      "MAE of Validation: 5.9321448340856175\n"
     ]
    },
    {
     "name": "stderr",
     "output_type": "stream",
     "text": [
      "\u001b[32m[I 2022-03-26 01:37:31,285]\u001b[0m Trial 452 finished with value: 5.942542187561859 and parameters: {'random_state': 519632, 'learning_rate': 0.0663092978078841, 'bagging_temperature': 2.251003009534989, 'max_depth': 5, 'random_strength': 54, 'l2_leaf_reg': 2.766453338322758e-05, 'min_child_samples': 37, 'max_bin': 465, 'od_type': 'Iter', 'task_type': 'GPU', 'loss_function': 'MAE', 'eval_metric': 'MAE'}. Best is trial 262 with value: 5.917214563261503.\u001b[0m\n"
     ]
    },
    {
     "name": "stdout",
     "output_type": "stream",
     "text": [
      "MAE of Train: 5.937696692047691\n",
      "MAE of Validation: 5.942542187561859\n"
     ]
    },
    {
     "name": "stderr",
     "output_type": "stream",
     "text": [
      "\u001b[32m[I 2022-03-26 01:37:37,635]\u001b[0m Trial 453 finished with value: 5.9283650747483625 and parameters: {'random_state': 519632, 'learning_rate': 0.07647127416447327, 'bagging_temperature': 3.2122724295440945, 'max_depth': 5, 'random_strength': 56, 'l2_leaf_reg': 2.8921162462607918e-05, 'min_child_samples': 41, 'max_bin': 458, 'od_type': 'Iter', 'task_type': 'GPU', 'loss_function': 'MAE', 'eval_metric': 'MAE'}. Best is trial 262 with value: 5.917214563261503.\u001b[0m\n"
     ]
    },
    {
     "name": "stdout",
     "output_type": "stream",
     "text": [
      "MAE of Train: 5.922407919883262\n",
      "MAE of Validation: 5.9283650747483625\n"
     ]
    },
    {
     "name": "stderr",
     "output_type": "stream",
     "text": [
      "\u001b[32m[I 2022-03-26 01:37:43,456]\u001b[0m Trial 454 finished with value: 5.9448279892255265 and parameters: {'random_state': 519632, 'learning_rate': 0.0692416773465562, 'bagging_temperature': 2.7201078223776785, 'max_depth': 4, 'random_strength': 55, 'l2_leaf_reg': 9.233898356629117e-06, 'min_child_samples': 74, 'max_bin': 474, 'od_type': 'IncToDec', 'task_type': 'GPU', 'loss_function': 'MAE', 'eval_metric': 'MAE'}. Best is trial 262 with value: 5.917214563261503.\u001b[0m\n"
     ]
    },
    {
     "name": "stdout",
     "output_type": "stream",
     "text": [
      "MAE of Train: 5.9394611976080744\n",
      "MAE of Validation: 5.9448279892255265\n"
     ]
    },
    {
     "name": "stderr",
     "output_type": "stream",
     "text": [
      "\u001b[32m[I 2022-03-26 01:37:50,811]\u001b[0m Trial 455 finished with value: 5.92045234888768 and parameters: {'random_state': 519632, 'learning_rate': 0.09179907319717154, 'bagging_temperature': 3.4980832249245966, 'max_depth': 5, 'random_strength': 58, 'l2_leaf_reg': 2.7250971938102184e-05, 'min_child_samples': 90, 'max_bin': 452, 'od_type': 'Iter', 'task_type': 'GPU', 'loss_function': 'MAE', 'eval_metric': 'MAE'}. Best is trial 262 with value: 5.917214563261503.\u001b[0m\n"
     ]
    },
    {
     "name": "stdout",
     "output_type": "stream",
     "text": [
      "MAE of Train: 5.9109380392867825\n",
      "MAE of Validation: 5.92045234888768\n"
     ]
    },
    {
     "name": "stderr",
     "output_type": "stream",
     "text": [
      "\u001b[32m[I 2022-03-26 01:37:58,008]\u001b[0m Trial 456 finished with value: 5.922476745083977 and parameters: {'random_state': 519632, 'learning_rate': 0.08210576040448933, 'bagging_temperature': 4.329494002602681, 'max_depth': 5, 'random_strength': 59, 'l2_leaf_reg': 2.7042387844388963e-05, 'min_child_samples': 90, 'max_bin': 447, 'od_type': 'Iter', 'task_type': 'GPU', 'loss_function': 'MAE', 'eval_metric': 'MAE'}. Best is trial 262 with value: 5.917214563261503.\u001b[0m\n"
     ]
    },
    {
     "name": "stdout",
     "output_type": "stream",
     "text": [
      "MAE of Train: 5.912883396008808\n",
      "MAE of Validation: 5.922476745083977\n"
     ]
    },
    {
     "name": "stderr",
     "output_type": "stream",
     "text": [
      "\u001b[32m[I 2022-03-26 01:38:05,082]\u001b[0m Trial 457 finished with value: 5.9259217952792405 and parameters: {'random_state': 519632, 'learning_rate': 0.08951692686906704, 'bagging_temperature': 3.398620414728945, 'max_depth': 5, 'random_strength': 51, 'l2_leaf_reg': 2.66361728322463e-05, 'min_child_samples': 89, 'max_bin': 455, 'od_type': 'Iter', 'task_type': 'GPU', 'loss_function': 'MAE', 'eval_metric': 'MAE'}. Best is trial 262 with value: 5.917214563261503.\u001b[0m\n"
     ]
    },
    {
     "name": "stdout",
     "output_type": "stream",
     "text": [
      "MAE of Train: 5.91897164912075\n",
      "MAE of Validation: 5.9259217952792405\n"
     ]
    },
    {
     "name": "stderr",
     "output_type": "stream",
     "text": [
      "\u001b[32m[I 2022-03-26 01:38:10,016]\u001b[0m Trial 458 finished with value: 5.937250992904857 and parameters: {'random_state': 519632, 'learning_rate': 0.08408274165573595, 'bagging_temperature': 1.6820601821497423, 'max_depth': 5, 'random_strength': 53, 'l2_leaf_reg': 2.6139936228930273e-05, 'min_child_samples': 87, 'max_bin': 434, 'od_type': 'Iter', 'task_type': 'GPU', 'loss_function': 'MAE', 'eval_metric': 'MAE'}. Best is trial 262 with value: 5.917214563261503.\u001b[0m\n"
     ]
    },
    {
     "name": "stdout",
     "output_type": "stream",
     "text": [
      "MAE of Train: 5.932310339074569\n",
      "MAE of Validation: 5.937250992904857\n"
     ]
    },
    {
     "name": "stderr",
     "output_type": "stream",
     "text": [
      "\u001b[32m[I 2022-03-26 01:38:17,562]\u001b[0m Trial 459 finished with value: 5.925016707018123 and parameters: {'random_state': 519632, 'learning_rate': 0.07170227205315823, 'bagging_temperature': 2.394608598102685, 'max_depth': 6, 'random_strength': 50, 'l2_leaf_reg': 2.8298007211562496e-05, 'min_child_samples': 78, 'max_bin': 438, 'od_type': 'Iter', 'task_type': 'GPU', 'loss_function': 'MAE', 'eval_metric': 'MAE'}. Best is trial 262 with value: 5.917214563261503.\u001b[0m\n"
     ]
    },
    {
     "name": "stdout",
     "output_type": "stream",
     "text": [
      "MAE of Train: 5.9170247807884815\n",
      "MAE of Validation: 5.925016707018123\n"
     ]
    },
    {
     "name": "stderr",
     "output_type": "stream",
     "text": [
      "\u001b[32m[I 2022-03-26 01:38:24,686]\u001b[0m Trial 460 finished with value: 5.926134491943997 and parameters: {'random_state': 519632, 'learning_rate': 0.06115094495500285, 'bagging_temperature': 4.851914355982716, 'max_depth': 5, 'random_strength': 59, 'l2_leaf_reg': 5.714604971471871e-06, 'min_child_samples': 44, 'max_bin': 453, 'od_type': 'Iter', 'task_type': 'GPU', 'loss_function': 'MAE', 'eval_metric': 'MAE'}. Best is trial 262 with value: 5.917214563261503.\u001b[0m\n"
     ]
    },
    {
     "name": "stdout",
     "output_type": "stream",
     "text": [
      "MAE of Train: 5.917159880201587\n",
      "MAE of Validation: 5.926134491943997\n"
     ]
    },
    {
     "name": "stderr",
     "output_type": "stream",
     "text": [
      "\u001b[32m[I 2022-03-26 01:38:31,903]\u001b[0m Trial 461 finished with value: 5.919757211840615 and parameters: {'random_state': 519632, 'learning_rate': 0.09031138460472407, 'bagging_temperature': 3.805261991008639, 'max_depth': 5, 'random_strength': 52, 'l2_leaf_reg': 2.7716551668073348e-05, 'min_child_samples': 40, 'max_bin': 460, 'od_type': 'Iter', 'task_type': 'GPU', 'loss_function': 'MAE', 'eval_metric': 'MAE'}. Best is trial 262 with value: 5.917214563261503.\u001b[0m\n"
     ]
    },
    {
     "name": "stdout",
     "output_type": "stream",
     "text": [
      "MAE of Train: 5.910659752475917\n",
      "MAE of Validation: 5.919757211840615\n"
     ]
    },
    {
     "name": "stderr",
     "output_type": "stream",
     "text": [
      "\u001b[32m[I 2022-03-26 01:38:39,186]\u001b[0m Trial 462 finished with value: 5.92244130578712 and parameters: {'random_state': 519632, 'learning_rate': 0.08601131878303996, 'bagging_temperature': 3.902357502427599, 'max_depth': 5, 'random_strength': 54, 'l2_leaf_reg': 2.8043464321830343e-05, 'min_child_samples': 99, 'max_bin': 462, 'od_type': 'Iter', 'task_type': 'GPU', 'loss_function': 'MAE', 'eval_metric': 'MAE'}. Best is trial 262 with value: 5.917214563261503.\u001b[0m\n"
     ]
    },
    {
     "name": "stdout",
     "output_type": "stream",
     "text": [
      "MAE of Train: 5.911732986049204\n",
      "MAE of Validation: 5.92244130578712\n"
     ]
    },
    {
     "name": "stderr",
     "output_type": "stream",
     "text": [
      "\u001b[32m[I 2022-03-26 01:38:46,093]\u001b[0m Trial 463 finished with value: 5.935412892643357 and parameters: {'random_state': 519632, 'learning_rate': 0.07090784102620006, 'bagging_temperature': 2.83324100067688, 'max_depth': 5, 'random_strength': 52, 'l2_leaf_reg': 2.7488636002546996e-05, 'min_child_samples': 91, 'max_bin': 458, 'od_type': 'Iter', 'task_type': 'GPU', 'loss_function': 'MAE', 'eval_metric': 'MAE'}. Best is trial 262 with value: 5.917214563261503.\u001b[0m\n"
     ]
    },
    {
     "name": "stdout",
     "output_type": "stream",
     "text": [
      "MAE of Train: 5.9301936420795\n",
      "MAE of Validation: 5.935412892643357\n"
     ]
    },
    {
     "name": "stderr",
     "output_type": "stream",
     "text": [
      "\u001b[32m[I 2022-03-26 01:38:53,173]\u001b[0m Trial 464 finished with value: 5.925468192251443 and parameters: {'random_state': 519632, 'learning_rate': 0.08923416412462998, 'bagging_temperature': 4.873593627040351, 'max_depth': 5, 'random_strength': 50, 'l2_leaf_reg': 2.9897629271509553e-05, 'min_child_samples': 92, 'max_bin': 464, 'od_type': 'Iter', 'task_type': 'GPU', 'loss_function': 'MAE', 'eval_metric': 'MAE'}. Best is trial 262 with value: 5.917214563261503.\u001b[0m\n"
     ]
    },
    {
     "name": "stdout",
     "output_type": "stream",
     "text": [
      "MAE of Train: 5.913974424079332\n",
      "MAE of Validation: 5.925468192251443\n"
     ]
    },
    {
     "name": "stderr",
     "output_type": "stream",
     "text": [
      "\u001b[32m[I 2022-03-26 01:39:00,539]\u001b[0m Trial 465 finished with value: 5.922628797174782 and parameters: {'random_state': 519632, 'learning_rate': 0.05303240385453128, 'bagging_temperature': 3.7650829663958696, 'max_depth': 5, 'random_strength': 55, 'l2_leaf_reg': 2.905658551979438e-05, 'min_child_samples': 95, 'max_bin': 452, 'od_type': 'Iter', 'task_type': 'GPU', 'loss_function': 'MAE', 'eval_metric': 'MAE'}. Best is trial 262 with value: 5.917214563261503.\u001b[0m\n"
     ]
    },
    {
     "name": "stdout",
     "output_type": "stream",
     "text": [
      "MAE of Train: 5.915109573230902\n",
      "MAE of Validation: 5.922628797174782\n"
     ]
    },
    {
     "name": "stderr",
     "output_type": "stream",
     "text": [
      "\u001b[32m[I 2022-03-26 01:39:07,842]\u001b[0m Trial 466 finished with value: 5.933699362931602 and parameters: {'random_state': 519632, 'learning_rate': 0.09558977280563681, 'bagging_temperature': 2.057388492046189, 'max_depth': 5, 'random_strength': 49, 'l2_leaf_reg': 2.7222059005219918e-05, 'min_child_samples': 41, 'max_bin': 440, 'od_type': 'Iter', 'task_type': 'GPU', 'loss_function': 'MAE', 'eval_metric': 'MAE'}. Best is trial 262 with value: 5.917214563261503.\u001b[0m\n"
     ]
    },
    {
     "name": "stdout",
     "output_type": "stream",
     "text": [
      "MAE of Train: 5.928005305076038\n",
      "MAE of Validation: 5.933699362931602\n"
     ]
    },
    {
     "name": "stderr",
     "output_type": "stream",
     "text": [
      "\u001b[32m[I 2022-03-26 01:39:14,732]\u001b[0m Trial 467 finished with value: 5.936804888716288 and parameters: {'random_state': 519632, 'learning_rate': 0.07665425778145818, 'bagging_temperature': 6.227192643982171, 'max_depth': 5, 'random_strength': 53, 'l2_leaf_reg': 2.8622119333622395e-05, 'min_child_samples': 39, 'max_bin': 448, 'od_type': 'Iter', 'task_type': 'GPU', 'loss_function': 'MAE', 'eval_metric': 'MAE'}. Best is trial 262 with value: 5.917214563261503.\u001b[0m\n"
     ]
    },
    {
     "name": "stdout",
     "output_type": "stream",
     "text": [
      "MAE of Train: 5.926160042931035\n",
      "MAE of Validation: 5.936804888716288\n"
     ]
    },
    {
     "name": "stderr",
     "output_type": "stream",
     "text": [
      "\u001b[32m[I 2022-03-26 01:39:22,688]\u001b[0m Trial 468 finished with value: 5.931307630646111 and parameters: {'random_state': 519632, 'learning_rate': 0.06251487160199598, 'bagging_temperature': 2.8387190432953533, 'max_depth': 7, 'random_strength': 52, 'l2_leaf_reg': 2.795963747298642e-05, 'min_child_samples': 36, 'max_bin': 458, 'od_type': 'Iter', 'task_type': 'GPU', 'loss_function': 'MAE', 'eval_metric': 'MAE'}. Best is trial 262 with value: 5.917214563261503.\u001b[0m\n"
     ]
    },
    {
     "name": "stdout",
     "output_type": "stream",
     "text": [
      "MAE of Train: 5.920890936601423\n",
      "MAE of Validation: 5.931307630646111\n"
     ]
    },
    {
     "name": "stderr",
     "output_type": "stream",
     "text": [
      "\u001b[32m[I 2022-03-26 01:39:29,793]\u001b[0m Trial 469 finished with value: 5.921001073219378 and parameters: {'random_state': 519632, 'learning_rate': 0.0962721488072277, 'bagging_temperature': 4.22280676943845, 'max_depth': 5, 'random_strength': 50, 'l2_leaf_reg': 2.741638763326042e-05, 'min_child_samples': 38, 'max_bin': 452, 'od_type': 'Iter', 'task_type': 'GPU', 'loss_function': 'MAE', 'eval_metric': 'MAE'}. Best is trial 262 with value: 5.917214563261503.\u001b[0m\n"
     ]
    },
    {
     "name": "stdout",
     "output_type": "stream",
     "text": [
      "MAE of Train: 5.911228093492074\n",
      "MAE of Validation: 5.921001073219378\n"
     ]
    },
    {
     "name": "stderr",
     "output_type": "stream",
     "text": [
      "\u001b[32m[I 2022-03-26 01:39:36,442]\u001b[0m Trial 470 finished with value: 5.926174614011006 and parameters: {'random_state': 519632, 'learning_rate': 0.09186579017744169, 'bagging_temperature': 3.339617175349633, 'max_depth': 6, 'random_strength': 57, 'l2_leaf_reg': 2.7221621801289286e-05, 'min_child_samples': 36, 'max_bin': 444, 'od_type': 'Iter', 'task_type': 'GPU', 'loss_function': 'MAE', 'eval_metric': 'MAE'}. Best is trial 262 with value: 5.917214563261503.\u001b[0m\n"
     ]
    },
    {
     "name": "stdout",
     "output_type": "stream",
     "text": [
      "MAE of Train: 5.915470124310143\n",
      "MAE of Validation: 5.926174614011006\n"
     ]
    },
    {
     "name": "stderr",
     "output_type": "stream",
     "text": [
      "\u001b[32m[I 2022-03-26 01:39:39,743]\u001b[0m Trial 471 finished with value: 5.945954315713997 and parameters: {'random_state': 519632, 'learning_rate': 0.07657520973311839, 'bagging_temperature': 0.09174703162819163, 'max_depth': 5, 'random_strength': 55, 'l2_leaf_reg': 2.7719863419455477e-05, 'min_child_samples': 80, 'max_bin': 450, 'od_type': 'Iter', 'task_type': 'GPU', 'loss_function': 'MAE', 'eval_metric': 'MAE'}. Best is trial 262 with value: 5.917214563261503.\u001b[0m\n"
     ]
    },
    {
     "name": "stdout",
     "output_type": "stream",
     "text": [
      "MAE of Train: 5.940488201625664\n",
      "MAE of Validation: 5.945954315713997\n"
     ]
    },
    {
     "name": "stderr",
     "output_type": "stream",
     "text": [
      "\u001b[32m[I 2022-03-26 01:39:45,697]\u001b[0m Trial 472 finished with value: 5.924924236527506 and parameters: {'random_state': 519632, 'learning_rate': 0.09635527987984578, 'bagging_temperature': 4.907084931502598, 'max_depth': 5, 'random_strength': 51, 'l2_leaf_reg': 2.9325509708793755e-05, 'min_child_samples': 37, 'max_bin': 457, 'od_type': 'Iter', 'task_type': 'GPU', 'loss_function': 'MAE', 'eval_metric': 'MAE'}. Best is trial 262 with value: 5.917214563261503.\u001b[0m\n"
     ]
    },
    {
     "name": "stdout",
     "output_type": "stream",
     "text": [
      "MAE of Train: 5.915480643610155\n",
      "MAE of Validation: 5.924924236527506\n"
     ]
    },
    {
     "name": "stderr",
     "output_type": "stream",
     "text": [
      "\u001b[32m[I 2022-03-26 01:39:52,052]\u001b[0m Trial 473 finished with value: 5.979003584804572 and parameters: {'random_state': 519632, 'learning_rate': 0.08289151002944105, 'bagging_temperature': 13.730409484687035, 'max_depth': 5, 'random_strength': 58, 'l2_leaf_reg': 2.7250489375846682e-05, 'min_child_samples': 43, 'max_bin': 465, 'od_type': 'Iter', 'task_type': 'GPU', 'loss_function': 'MAE', 'eval_metric': 'MAE'}. Best is trial 262 with value: 5.917214563261503.\u001b[0m\n"
     ]
    },
    {
     "name": "stdout",
     "output_type": "stream",
     "text": [
      "MAE of Train: 5.968519891914261\n",
      "MAE of Validation: 5.979003584804572\n"
     ]
    },
    {
     "name": "stderr",
     "output_type": "stream",
     "text": [
      "\u001b[32m[I 2022-03-26 01:39:58,689]\u001b[0m Trial 474 finished with value: 5.935818520197683 and parameters: {'random_state': 519632, 'learning_rate': 0.07023834106195921, 'bagging_temperature': 2.5131330570119497, 'max_depth': 4, 'random_strength': 52, 'l2_leaf_reg': 2.8042461096151034e-05, 'min_child_samples': 38, 'max_bin': 461, 'od_type': 'Iter', 'task_type': 'GPU', 'loss_function': 'MAE', 'eval_metric': 'MAE'}. Best is trial 262 with value: 5.917214563261503.\u001b[0m\n"
     ]
    },
    {
     "name": "stdout",
     "output_type": "stream",
     "text": [
      "MAE of Train: 5.932076704648947\n",
      "MAE of Validation: 5.935818520197683\n"
     ]
    },
    {
     "name": "stderr",
     "output_type": "stream",
     "text": [
      "\u001b[32m[I 2022-03-26 01:40:04,961]\u001b[0m Trial 475 finished with value: 5.99161266273556 and parameters: {'random_state': 519632, 'learning_rate': 0.09999036957215421, 'bagging_temperature': 19.273865163963467, 'max_depth': 5, 'random_strength': 55, 'l2_leaf_reg': 2.6588300044281325e-05, 'min_child_samples': 88, 'max_bin': 452, 'od_type': 'Iter', 'task_type': 'GPU', 'loss_function': 'MAE', 'eval_metric': 'MAE'}. Best is trial 262 with value: 5.917214563261503.\u001b[0m\n"
     ]
    },
    {
     "name": "stdout",
     "output_type": "stream",
     "text": [
      "MAE of Train: 5.97896252414881\n",
      "MAE of Validation: 5.99161266273556\n"
     ]
    },
    {
     "name": "stderr",
     "output_type": "stream",
     "text": [
      "\u001b[32m[I 2022-03-26 01:40:12,199]\u001b[0m Trial 476 finished with value: 5.921880869114746 and parameters: {'random_state': 519632, 'learning_rate': 0.08241193031406993, 'bagging_temperature': 4.048613359580869, 'max_depth': 5, 'random_strength': 36, 'l2_leaf_reg': 2.872122733509333e-05, 'min_child_samples': 72, 'max_bin': 455, 'od_type': 'Iter', 'task_type': 'GPU', 'loss_function': 'MAE', 'eval_metric': 'MAE'}. Best is trial 262 with value: 5.917214563261503.\u001b[0m\n"
     ]
    },
    {
     "name": "stdout",
     "output_type": "stream",
     "text": [
      "MAE of Train: 5.913466484960749\n",
      "MAE of Validation: 5.921880869114746\n"
     ]
    },
    {
     "name": "stderr",
     "output_type": "stream",
     "text": [
      "\u001b[32m[I 2022-03-26 01:40:19,271]\u001b[0m Trial 477 finished with value: 5.929208923177998 and parameters: {'random_state': 519632, 'learning_rate': 0.06170902088074244, 'bagging_temperature': 3.0548197076690653, 'max_depth': 5, 'random_strength': 50, 'l2_leaf_reg': 2.7487817869429204e-05, 'min_child_samples': 93, 'max_bin': 442, 'od_type': 'Iter', 'task_type': 'GPU', 'loss_function': 'MAE', 'eval_metric': 'MAE'}. Best is trial 262 with value: 5.917214563261503.\u001b[0m\n"
     ]
    },
    {
     "name": "stdout",
     "output_type": "stream",
     "text": [
      "MAE of Train: 5.923548503976267\n",
      "MAE of Validation: 5.929208923177998\n"
     ]
    },
    {
     "name": "stderr",
     "output_type": "stream",
     "text": [
      "\u001b[32m[I 2022-03-26 01:40:22,605]\u001b[0m Trial 478 finished with value: 5.945278123681902 and parameters: {'random_state': 519632, 'learning_rate': 0.0978998267348532, 'bagging_temperature': 0.9861016736620192, 'max_depth': 5, 'random_strength': 53, 'l2_leaf_reg': 2.8222132754690557e-05, 'min_child_samples': 40, 'max_bin': 466, 'od_type': 'Iter', 'task_type': 'GPU', 'loss_function': 'MAE', 'eval_metric': 'MAE'}. Best is trial 262 with value: 5.917214563261503.\u001b[0m\n"
     ]
    },
    {
     "name": "stdout",
     "output_type": "stream",
     "text": [
      "MAE of Train: 5.939115586442868\n",
      "MAE of Validation: 5.945278123681902\n"
     ]
    },
    {
     "name": "stderr",
     "output_type": "stream",
     "text": [
      "\u001b[32m[I 2022-03-26 01:40:29,808]\u001b[0m Trial 479 finished with value: 5.962613779795936 and parameters: {'random_state': 519632, 'learning_rate': 0.011622002867136704, 'bagging_temperature': 1.2640539241875404, 'max_depth': 5, 'random_strength': 48, 'l2_leaf_reg': 2.6867121179153824e-05, 'min_child_samples': 76, 'max_bin': 450, 'od_type': 'Iter', 'task_type': 'GPU', 'loss_function': 'MAE', 'eval_metric': 'MAE'}. Best is trial 262 with value: 5.917214563261503.\u001b[0m\n"
     ]
    },
    {
     "name": "stdout",
     "output_type": "stream",
     "text": [
      "MAE of Train: 5.956546115455319\n",
      "MAE of Validation: 5.962613779795936\n"
     ]
    },
    {
     "name": "stderr",
     "output_type": "stream",
     "text": [
      "\u001b[32m[I 2022-03-26 01:40:36,949]\u001b[0m Trial 480 finished with value: 5.924722256708089 and parameters: {'random_state': 519632, 'learning_rate': 0.10213299130687552, 'bagging_temperature': 3.55816933573051, 'max_depth': 5, 'random_strength': 60, 'l2_leaf_reg': 2.920988320108474e-05, 'min_child_samples': 34, 'max_bin': 461, 'od_type': 'Iter', 'task_type': 'GPU', 'loss_function': 'MAE', 'eval_metric': 'MAE'}. Best is trial 262 with value: 5.917214563261503.\u001b[0m\n"
     ]
    },
    {
     "name": "stdout",
     "output_type": "stream",
     "text": [
      "MAE of Train: 5.916585905679053\n",
      "MAE of Validation: 5.924722256708089\n"
     ]
    },
    {
     "name": "stderr",
     "output_type": "stream",
     "text": [
      "\u001b[32m[I 2022-03-26 01:40:43,371]\u001b[0m Trial 481 finished with value: 5.925303246371042 and parameters: {'random_state': 519632, 'learning_rate': 0.08137624143277866, 'bagging_temperature': 4.629904393056351, 'max_depth': 6, 'random_strength': 50, 'l2_leaf_reg': 2.9958747753227447e-05, 'min_child_samples': 38, 'max_bin': 476, 'od_type': 'Iter', 'task_type': 'GPU', 'loss_function': 'MAE', 'eval_metric': 'MAE'}. Best is trial 262 with value: 5.917214563261503.\u001b[0m\n"
     ]
    },
    {
     "name": "stdout",
     "output_type": "stream",
     "text": [
      "MAE of Train: 5.911700125149969\n",
      "MAE of Validation: 5.925303246371042\n"
     ]
    },
    {
     "name": "stderr",
     "output_type": "stream",
     "text": [
      "\u001b[32m[I 2022-03-26 01:40:50,340]\u001b[0m Trial 482 finished with value: 5.934000686282369 and parameters: {'random_state': 519632, 'learning_rate': 0.09379853415057436, 'bagging_temperature': 5.7728501680832185, 'max_depth': 5, 'random_strength': 56, 'l2_leaf_reg': 2.7550105067814606e-05, 'min_child_samples': 36, 'max_bin': 469, 'od_type': 'Iter', 'task_type': 'GPU', 'loss_function': 'MAE', 'eval_metric': 'MAE'}. Best is trial 262 with value: 5.917214563261503.\u001b[0m\n"
     ]
    },
    {
     "name": "stdout",
     "output_type": "stream",
     "text": [
      "MAE of Train: 5.921625822459654\n",
      "MAE of Validation: 5.934000686282369\n"
     ]
    },
    {
     "name": "stderr",
     "output_type": "stream",
     "text": [
      "\u001b[32m[I 2022-03-26 01:40:54,758]\u001b[0m Trial 483 finished with value: 5.937381553409838 and parameters: {'random_state': 519632, 'learning_rate': 0.06912363204183118, 'bagging_temperature': 2.299130310583265, 'max_depth': 5, 'random_strength': 53, 'l2_leaf_reg': 1.3996632121435063e-05, 'min_child_samples': 35, 'max_bin': 446, 'od_type': 'Iter', 'task_type': 'GPU', 'loss_function': 'MAE', 'eval_metric': 'MAE'}. Best is trial 262 with value: 5.917214563261503.\u001b[0m\n"
     ]
    },
    {
     "name": "stdout",
     "output_type": "stream",
     "text": [
      "MAE of Train: 5.931294781219636\n",
      "MAE of Validation: 5.937381553409838\n"
     ]
    },
    {
     "name": "stderr",
     "output_type": "stream",
     "text": [
      "\u001b[32m[I 2022-03-26 01:41:01,457]\u001b[0m Trial 484 finished with value: 5.950086758746997 and parameters: {'random_state': 519632, 'learning_rate': 0.10511320585784102, 'bagging_temperature': 7.810258231699676, 'max_depth': 5, 'random_strength': 61, 'l2_leaf_reg': 2.6336845742375364e-05, 'min_child_samples': 86, 'max_bin': 435, 'od_type': 'Iter', 'task_type': 'GPU', 'loss_function': 'MAE', 'eval_metric': 'MAE'}. Best is trial 262 with value: 5.917214563261503.\u001b[0m\n"
     ]
    },
    {
     "name": "stdout",
     "output_type": "stream",
     "text": [
      "MAE of Train: 5.936620133087402\n",
      "MAE of Validation: 5.950086758746997\n"
     ]
    },
    {
     "name": "stderr",
     "output_type": "stream",
     "text": [
      "\u001b[32m[I 2022-03-26 01:41:08,233]\u001b[0m Trial 485 finished with value: 6.0243559348928235 and parameters: {'random_state': 519632, 'learning_rate': 0.004526273713706238, 'bagging_temperature': 3.190512455636598, 'max_depth': 5, 'random_strength': 63, 'l2_leaf_reg': 2.8530656564440263e-05, 'min_child_samples': 97, 'max_bin': 452, 'od_type': 'Iter', 'task_type': 'GPU', 'loss_function': 'MAE', 'eval_metric': 'MAE'}. Best is trial 262 with value: 5.917214563261503.\u001b[0m\n"
     ]
    },
    {
     "name": "stdout",
     "output_type": "stream",
     "text": [
      "MAE of Train: 6.0164333170918365\n",
      "MAE of Validation: 6.0243559348928235\n"
     ]
    },
    {
     "name": "stderr",
     "output_type": "stream",
     "text": [
      "\u001b[32m[I 2022-03-26 01:41:15,623]\u001b[0m Trial 486 finished with value: 5.928120798546744 and parameters: {'random_state': 519632, 'learning_rate': 0.045196419941430324, 'bagging_temperature': 3.882264663061118, 'max_depth': 5, 'random_strength': 5, 'l2_leaf_reg': 2.7740830467912214e-05, 'min_child_samples': 56, 'max_bin': 456, 'od_type': 'Iter', 'task_type': 'GPU', 'loss_function': 'MAE', 'eval_metric': 'MAE'}. Best is trial 262 with value: 5.917214563261503.\u001b[0m\n"
     ]
    },
    {
     "name": "stdout",
     "output_type": "stream",
     "text": [
      "MAE of Train: 5.922897085623041\n",
      "MAE of Validation: 5.928120798546744\n"
     ]
    },
    {
     "name": "stderr",
     "output_type": "stream",
     "text": [
      "\u001b[32m[I 2022-03-26 01:41:18,112]\u001b[0m Trial 487 finished with value: 5.969448111725118 and parameters: {'random_state': 519632, 'learning_rate': 0.08551635806279524, 'bagging_temperature': 2.7362848040772296, 'max_depth': 4, 'random_strength': 48, 'l2_leaf_reg': 2.800971306134436e-05, 'min_child_samples': 36, 'max_bin': 442, 'od_type': 'Iter', 'task_type': 'GPU', 'loss_function': 'MAE', 'eval_metric': 'MAE'}. Best is trial 262 with value: 5.917214563261503.\u001b[0m\n"
     ]
    },
    {
     "name": "stdout",
     "output_type": "stream",
     "text": [
      "MAE of Train: 5.963731075612844\n",
      "MAE of Validation: 5.969448111725118\n"
     ]
    },
    {
     "name": "stderr",
     "output_type": "stream",
     "text": [
      "\u001b[32m[I 2022-03-26 01:41:25,282]\u001b[0m Trial 488 finished with value: 5.922573412015555 and parameters: {'random_state': 519632, 'learning_rate': 0.10631648990509893, 'bagging_temperature': 4.48550833427507, 'max_depth': 5, 'random_strength': 57, 'l2_leaf_reg': 2.7231219295538394e-05, 'min_child_samples': 93, 'max_bin': 464, 'od_type': 'Iter', 'task_type': 'GPU', 'loss_function': 'MAE', 'eval_metric': 'MAE'}. Best is trial 262 with value: 5.917214563261503.\u001b[0m\n"
     ]
    },
    {
     "name": "stdout",
     "output_type": "stream",
     "text": [
      "MAE of Train: 5.911305310399804\n",
      "MAE of Validation: 5.922573412015555\n"
     ]
    },
    {
     "name": "stderr",
     "output_type": "stream",
     "text": [
      "\u001b[32m[I 2022-03-26 01:41:32,715]\u001b[0m Trial 489 finished with value: 5.923963510833006 and parameters: {'random_state': 519632, 'learning_rate': 0.055761207933829784, 'bagging_temperature': 1.819885440214391, 'max_depth': 5, 'random_strength': 51, 'l2_leaf_reg': 2.677961369227933e-05, 'min_child_samples': 40, 'max_bin': 460, 'od_type': 'Iter', 'task_type': 'GPU', 'loss_function': 'MAE', 'eval_metric': 'MAE'}. Best is trial 262 with value: 5.917214563261503.\u001b[0m\n"
     ]
    },
    {
     "name": "stdout",
     "output_type": "stream",
     "text": [
      "MAE of Train: 5.917564545030348\n",
      "MAE of Validation: 5.923963510833006\n"
     ]
    },
    {
     "name": "stderr",
     "output_type": "stream",
     "text": [
      "\u001b[32m[I 2022-03-26 01:41:39,912]\u001b[0m Trial 490 finished with value: 5.932838049262503 and parameters: {'random_state': 519632, 'learning_rate': 0.07467933644558547, 'bagging_temperature': 3.269466639345264, 'max_depth': 5, 'random_strength': 49, 'l2_leaf_reg': 2.852714298146526e-05, 'min_child_samples': 67, 'max_bin': 470, 'od_type': 'Iter', 'task_type': 'GPU', 'loss_function': 'MAE', 'eval_metric': 'MAE'}. Best is trial 262 with value: 5.917214563261503.\u001b[0m\n"
     ]
    },
    {
     "name": "stdout",
     "output_type": "stream",
     "text": [
      "MAE of Train: 5.927043725670747\n",
      "MAE of Validation: 5.932838049262503\n"
     ]
    },
    {
     "name": "stderr",
     "output_type": "stream",
     "text": [
      "\u001b[32m[I 2022-03-26 01:41:47,213]\u001b[0m Trial 491 finished with value: 5.946312276696449 and parameters: {'random_state': 519632, 'learning_rate': 0.03185149947135758, 'bagging_temperature': 2.5612127072539677, 'max_depth': 5, 'random_strength': 34, 'l2_leaf_reg': 2.6071032113084532e-05, 'min_child_samples': 45, 'max_bin': 500, 'od_type': 'Iter', 'task_type': 'GPU', 'loss_function': 'MAE', 'eval_metric': 'MAE'}. Best is trial 262 with value: 5.917214563261503.\u001b[0m\n"
     ]
    },
    {
     "name": "stdout",
     "output_type": "stream",
     "text": [
      "MAE of Train: 5.941083587931915\n",
      "MAE of Validation: 5.946312276696449\n"
     ]
    },
    {
     "name": "stderr",
     "output_type": "stream",
     "text": [
      "\u001b[32m[I 2022-03-26 01:41:54,533]\u001b[0m Trial 492 finished with value: 5.920500710104903 and parameters: {'random_state': 519632, 'learning_rate': 0.09230152495899265, 'bagging_temperature': 3.6661089415322308, 'max_depth': 5, 'random_strength': 52, 'l2_leaf_reg': 2.936690267392922e-05, 'min_child_samples': 49, 'max_bin': 455, 'od_type': 'Iter', 'task_type': 'GPU', 'loss_function': 'MAE', 'eval_metric': 'MAE'}. Best is trial 262 with value: 5.917214563261503.\u001b[0m\n"
     ]
    },
    {
     "name": "stdout",
     "output_type": "stream",
     "text": [
      "MAE of Train: 5.9111076961700135\n",
      "MAE of Validation: 5.920500710104903\n"
     ]
    },
    {
     "name": "stderr",
     "output_type": "stream",
     "text": [
      "\u001b[32m[I 2022-03-26 01:42:00,505]\u001b[0m Trial 493 finished with value: 5.93071584016927 and parameters: {'random_state': 519632, 'learning_rate': 0.0835303835628701, 'bagging_temperature': 5.475531512812759, 'max_depth': 6, 'random_strength': 54, 'l2_leaf_reg': 2.9684815302791248e-05, 'min_child_samples': 43, 'max_bin': 450, 'od_type': 'Iter', 'task_type': 'GPU', 'loss_function': 'MAE', 'eval_metric': 'MAE'}. Best is trial 262 with value: 5.917214563261503.\u001b[0m\n"
     ]
    },
    {
     "name": "stdout",
     "output_type": "stream",
     "text": [
      "MAE of Train: 5.917121953577126\n",
      "MAE of Validation: 5.93071584016927\n"
     ]
    },
    {
     "name": "stderr",
     "output_type": "stream",
     "text": [
      "\u001b[32m[I 2022-03-26 01:42:07,719]\u001b[0m Trial 494 finished with value: 5.921877221141347 and parameters: {'random_state': 519632, 'learning_rate': 0.06683248977023735, 'bagging_temperature': 4.217021719139337, 'max_depth': 5, 'random_strength': 53, 'l2_leaf_reg': 2.913015714318331e-05, 'min_child_samples': 41, 'max_bin': 456, 'od_type': 'Iter', 'task_type': 'GPU', 'loss_function': 'MAE', 'eval_metric': 'MAE'}. Best is trial 262 with value: 5.917214563261503.\u001b[0m\n"
     ]
    },
    {
     "name": "stdout",
     "output_type": "stream",
     "text": [
      "MAE of Train: 5.9133882153031765\n",
      "MAE of Validation: 5.921877221141347\n"
     ]
    },
    {
     "name": "stderr",
     "output_type": "stream",
     "text": [
      "\u001b[32m[I 2022-03-26 01:42:14,576]\u001b[0m Trial 495 finished with value: 5.938330516786534 and parameters: {'random_state': 519632, 'learning_rate': 0.08716688554285289, 'bagging_temperature': 6.709150149509052, 'max_depth': 5, 'random_strength': 51, 'l2_leaf_reg': 2.9089017113885442e-05, 'min_child_samples': 48, 'max_bin': 463, 'od_type': 'Iter', 'task_type': 'GPU', 'loss_function': 'MAE', 'eval_metric': 'MAE'}. Best is trial 262 with value: 5.917214563261503.\u001b[0m\n"
     ]
    },
    {
     "name": "stdout",
     "output_type": "stream",
     "text": [
      "MAE of Train: 5.926429280472932\n",
      "MAE of Validation: 5.938330516786534\n"
     ]
    },
    {
     "name": "stderr",
     "output_type": "stream",
     "text": [
      "\u001b[32m[I 2022-03-26 01:42:21,067]\u001b[0m Trial 496 finished with value: 5.923452340486189 and parameters: {'random_state': 519632, 'learning_rate': 0.10234520955498355, 'bagging_temperature': 3.8871321301538737, 'max_depth': 5, 'random_strength': 48, 'l2_leaf_reg': 2.94399741145046e-05, 'min_child_samples': 57, 'max_bin': 445, 'od_type': 'Iter', 'task_type': 'GPU', 'loss_function': 'MAE', 'eval_metric': 'MAE'}. Best is trial 262 with value: 5.917214563261503.\u001b[0m\n"
     ]
    },
    {
     "name": "stdout",
     "output_type": "stream",
     "text": [
      "MAE of Train: 5.914745603870163\n",
      "MAE of Validation: 5.923452340486189\n"
     ]
    },
    {
     "name": "stderr",
     "output_type": "stream",
     "text": [
      "\u001b[32m[I 2022-03-26 01:42:28,131]\u001b[0m Trial 497 finished with value: 5.927159103468899 and parameters: {'random_state': 519632, 'learning_rate': 0.07340449774808032, 'bagging_temperature': 4.872691040175628, 'max_depth': 5, 'random_strength': 52, 'l2_leaf_reg': 4.027323572018832e-06, 'min_child_samples': 52, 'max_bin': 478, 'od_type': 'Iter', 'task_type': 'GPU', 'loss_function': 'MAE', 'eval_metric': 'MAE'}. Best is trial 262 with value: 5.917214563261503.\u001b[0m\n"
     ]
    },
    {
     "name": "stdout",
     "output_type": "stream",
     "text": [
      "MAE of Train: 5.91749336543312\n",
      "MAE of Validation: 5.927159103468899\n"
     ]
    },
    {
     "name": "stderr",
     "output_type": "stream",
     "text": [
      "\u001b[32m[I 2022-03-26 01:42:33,109]\u001b[0m Trial 498 finished with value: 5.933548176485478 and parameters: {'random_state': 519632, 'learning_rate': 0.09345703690211371, 'bagging_temperature': 0.04005311719007626, 'max_depth': 5, 'random_strength': 55, 'l2_leaf_reg': 1.2980353259110314e-05, 'min_child_samples': 49, 'max_bin': 452, 'od_type': 'Iter', 'task_type': 'GPU', 'loss_function': 'MAE', 'eval_metric': 'MAE'}. Best is trial 262 with value: 5.917214563261503.\u001b[0m\n"
     ]
    },
    {
     "name": "stdout",
     "output_type": "stream",
     "text": [
      "MAE of Train: 5.926922816770148\n",
      "MAE of Validation: 5.933548176485478\n"
     ]
    },
    {
     "name": "stderr",
     "output_type": "stream",
     "text": [
      "\u001b[32m[I 2022-03-26 01:42:40,341]\u001b[0m Trial 499 finished with value: 5.922944462209045 and parameters: {'random_state': 519632, 'learning_rate': 0.10988091116169797, 'bagging_temperature': 2.905013743065415, 'max_depth': 5, 'random_strength': 50, 'l2_leaf_reg': 2.8962883000568993e-05, 'min_child_samples': 90, 'max_bin': 458, 'od_type': 'Iter', 'task_type': 'GPU', 'loss_function': 'MAE', 'eval_metric': 'MAE'}. Best is trial 262 with value: 5.917214563261503.\u001b[0m\n"
     ]
    },
    {
     "name": "stdout",
     "output_type": "stream",
     "text": [
      "MAE of Train: 5.9160109201533615\n",
      "MAE of Validation: 5.922944462209045\n"
     ]
    },
    {
     "name": "stderr",
     "output_type": "stream",
     "text": [
      "\u001b[32m[I 2022-03-26 01:42:43,296]\u001b[0m Trial 500 finished with value: 5.941883997422688 and parameters: {'random_state': 519632, 'learning_rate': 0.06288768163046819, 'bagging_temperature': 2.242801057806493, 'max_depth': 5, 'random_strength': 39, 'l2_leaf_reg': 2.8370682745216758e-05, 'min_child_samples': 42, 'max_bin': 466, 'od_type': 'Iter', 'task_type': 'GPU', 'loss_function': 'MAE', 'eval_metric': 'MAE'}. Best is trial 262 with value: 5.917214563261503.\u001b[0m\n"
     ]
    },
    {
     "name": "stdout",
     "output_type": "stream",
     "text": [
      "MAE of Train: 5.93665390837959\n",
      "MAE of Validation: 5.941883997422688\n"
     ]
    },
    {
     "name": "stderr",
     "output_type": "stream",
     "text": [
      "\u001b[32m[I 2022-03-26 01:42:50,997]\u001b[0m Trial 501 finished with value: 5.92107391071248 and parameters: {'random_state': 519632, 'learning_rate': 0.07894559456342226, 'bagging_temperature': 3.5630357020435692, 'max_depth': 6, 'random_strength': 46, 'l2_leaf_reg': 2.8639882215167884e-05, 'min_child_samples': 53, 'max_bin': 447, 'od_type': 'Iter', 'task_type': 'GPU', 'loss_function': 'MAE', 'eval_metric': 'MAE'}. Best is trial 262 with value: 5.917214563261503.\u001b[0m\n"
     ]
    },
    {
     "name": "stdout",
     "output_type": "stream",
     "text": [
      "MAE of Train: 5.9096229131430045\n",
      "MAE of Validation: 5.92107391071248\n"
     ]
    },
    {
     "name": "stderr",
     "output_type": "stream",
     "text": [
      "\u001b[32m[I 2022-03-26 01:42:58,438]\u001b[0m Trial 502 finished with value: 5.916511005997932 and parameters: {'random_state': 519632, 'learning_rate': 0.0951365717175399, 'bagging_temperature': 3.045837760595911, 'max_depth': 5, 'random_strength': 52, 'l2_leaf_reg': 2.730400626665851e-06, 'min_child_samples': 21, 'max_bin': 459, 'od_type': 'Iter', 'task_type': 'GPU', 'loss_function': 'MAE', 'eval_metric': 'MAE'}. Best is trial 502 with value: 5.916511005997932.\u001b[0m\n"
     ]
    },
    {
     "name": "stdout",
     "output_type": "stream",
     "text": [
      "MAE of Train: 5.908604516106131\n",
      "MAE of Validation: 5.916511005997932\n"
     ]
    },
    {
     "name": "stderr",
     "output_type": "stream",
     "text": [
      "\u001b[32m[I 2022-03-26 01:43:04,724]\u001b[0m Trial 503 finished with value: 7.0552372312659575 and parameters: {'random_state': 519632, 'learning_rate': 0.0015458158631980468, 'bagging_temperature': 2.0444860734773664, 'max_depth': 5, 'random_strength': 54, 'l2_leaf_reg': 2.53546583309408e-06, 'min_child_samples': 64, 'max_bin': 472, 'od_type': 'Iter', 'task_type': 'GPU', 'loss_function': 'MAE', 'eval_metric': 'MAE'}. Best is trial 502 with value: 5.916511005997932.\u001b[0m\n"
     ]
    },
    {
     "name": "stdout",
     "output_type": "stream",
     "text": [
      "MAE of Train: 7.045214733198348\n",
      "MAE of Validation: 7.0552372312659575\n"
     ]
    },
    {
     "name": "stderr",
     "output_type": "stream",
     "text": [
      "\u001b[32m[I 2022-03-26 01:43:10,549]\u001b[0m Trial 504 finished with value: 5.927875304123064 and parameters: {'random_state': 519632, 'learning_rate': 0.09425851192676063, 'bagging_temperature': 2.703322958026257, 'max_depth': 5, 'random_strength': 52, 'l2_leaf_reg': 2.9906867506075633e-05, 'min_child_samples': 62, 'max_bin': 459, 'od_type': 'Iter', 'task_type': 'GPU', 'loss_function': 'MAE', 'eval_metric': 'MAE'}. Best is trial 502 with value: 5.916511005997932.\u001b[0m\n"
     ]
    },
    {
     "name": "stdout",
     "output_type": "stream",
     "text": [
      "MAE of Train: 5.921225977051705\n",
      "MAE of Validation: 5.927875304123064\n"
     ]
    },
    {
     "name": "stderr",
     "output_type": "stream",
     "text": [
      "\u001b[32m[I 2022-03-26 01:43:16,446]\u001b[0m Trial 505 finished with value: 5.936767915020061 and parameters: {'random_state': 519632, 'learning_rate': 0.07850047222805129, 'bagging_temperature': 2.894619984936256, 'max_depth': 5, 'random_strength': 50, 'l2_leaf_reg': 3.7165761839901974e-06, 'min_child_samples': 47, 'max_bin': 464, 'od_type': 'Iter', 'task_type': 'GPU', 'loss_function': 'MAE', 'eval_metric': 'MAE'}. Best is trial 502 with value: 5.916511005997932.\u001b[0m\n"
     ]
    },
    {
     "name": "stdout",
     "output_type": "stream",
     "text": [
      "MAE of Train: 5.931453418947366\n",
      "MAE of Validation: 5.936767915020061\n"
     ]
    },
    {
     "name": "stderr",
     "output_type": "stream",
     "text": [
      "\u001b[32m[I 2022-03-26 01:43:23,609]\u001b[0m Trial 506 finished with value: 5.931138659229342 and parameters: {'random_state': 519632, 'learning_rate': 0.09159428651251007, 'bagging_temperature': 3.1400312115302254, 'max_depth': 5, 'random_strength': 49, 'l2_leaf_reg': 2.684433691869625e-06, 'min_child_samples': 18, 'max_bin': 455, 'od_type': 'Iter', 'task_type': 'GPU', 'loss_function': 'MAE', 'eval_metric': 'MAE'}. Best is trial 502 with value: 5.916511005997932.\u001b[0m\n"
     ]
    },
    {
     "name": "stdout",
     "output_type": "stream",
     "text": [
      "MAE of Train: 5.924615987454543\n",
      "MAE of Validation: 5.931138659229342\n"
     ]
    },
    {
     "name": "stderr",
     "output_type": "stream",
     "text": [
      "\u001b[32m[I 2022-03-26 01:43:30,323]\u001b[0m Trial 507 finished with value: 5.928922008750486 and parameters: {'random_state': 519632, 'learning_rate': 0.05269378905368256, 'bagging_temperature': 2.531250107937296, 'max_depth': 5, 'random_strength': 56, 'l2_leaf_reg': 1.498090855656352e-06, 'min_child_samples': 20, 'max_bin': 480, 'od_type': 'Iter', 'task_type': 'GPU', 'loss_function': 'MAE', 'eval_metric': 'MAE'}. Best is trial 502 with value: 5.916511005997932.\u001b[0m\n"
     ]
    },
    {
     "name": "stdout",
     "output_type": "stream",
     "text": [
      "MAE of Train: 5.923520870287089\n",
      "MAE of Validation: 5.928922008750486\n"
     ]
    },
    {
     "name": "stderr",
     "output_type": "stream",
     "text": [
      "\u001b[32m[I 2022-03-26 01:43:36,563]\u001b[0m Trial 508 finished with value: 5.94498993378023 and parameters: {'random_state': 519632, 'learning_rate': 0.07247890088962208, 'bagging_temperature': 1.487593303225127, 'max_depth': 4, 'random_strength': 52, 'l2_leaf_reg': 2.80855375747045e-05, 'min_child_samples': 39, 'max_bin': 451, 'od_type': 'Iter', 'task_type': 'GPU', 'loss_function': 'MAE', 'eval_metric': 'MAE'}. Best is trial 502 with value: 5.916511005997932.\u001b[0m\n"
     ]
    },
    {
     "name": "stdout",
     "output_type": "stream",
     "text": [
      "MAE of Train: 5.940835568631061\n",
      "MAE of Validation: 5.94498993378023\n"
     ]
    },
    {
     "name": "stderr",
     "output_type": "stream",
     "text": [
      "\u001b[32m[I 2022-03-26 01:43:42,100]\u001b[0m Trial 509 finished with value: 5.923732162395816 and parameters: {'random_state': 519632, 'learning_rate': 0.10696452848123283, 'bagging_temperature': 4.382201626562937, 'max_depth': 5, 'random_strength': 46, 'l2_leaf_reg': 2.9228804207060573e-05, 'min_child_samples': 21, 'max_bin': 442, 'od_type': 'Iter', 'task_type': 'GPU', 'loss_function': 'MAE', 'eval_metric': 'MAE'}. Best is trial 502 with value: 5.916511005997932.\u001b[0m\n"
     ]
    },
    {
     "name": "stdout",
     "output_type": "stream",
     "text": [
      "MAE of Train: 5.915319784450527\n",
      "MAE of Validation: 5.923732162395816\n"
     ]
    },
    {
     "name": "stderr",
     "output_type": "stream",
     "text": [
      "\u001b[32m[I 2022-03-26 01:43:47,575]\u001b[0m Trial 510 finished with value: 5.9330574375522875 and parameters: {'random_state': 519632, 'learning_rate': 0.06392497160076961, 'bagging_temperature': 0.500762779804001, 'max_depth': 5, 'random_strength': 48, 'l2_leaf_reg': 3.2166643581746537e-06, 'min_child_samples': 45, 'max_bin': 467, 'od_type': 'Iter', 'task_type': 'GPU', 'loss_function': 'MAE', 'eval_metric': 'MAE'}. Best is trial 502 with value: 5.916511005997932.\u001b[0m\n"
     ]
    },
    {
     "name": "stdout",
     "output_type": "stream",
     "text": [
      "MAE of Train: 5.927578824030592\n",
      "MAE of Validation: 5.9330574375522875\n"
     ]
    },
    {
     "name": "stderr",
     "output_type": "stream",
     "text": [
      "\u001b[32m[I 2022-03-26 01:43:54,730]\u001b[0m Trial 511 finished with value: 5.923130610789081 and parameters: {'random_state': 519632, 'learning_rate': 0.08811799457495617, 'bagging_temperature': 3.4418043197247497, 'max_depth': 5, 'random_strength': 54, 'l2_leaf_reg': 1.6294117597908315e-06, 'min_child_samples': 18, 'max_bin': 459, 'od_type': 'Iter', 'task_type': 'GPU', 'loss_function': 'MAE', 'eval_metric': 'MAE'}. Best is trial 502 with value: 5.916511005997932.\u001b[0m\n"
     ]
    },
    {
     "name": "stdout",
     "output_type": "stream",
     "text": [
      "MAE of Train: 5.9153450011307385\n",
      "MAE of Validation: 5.923130610789081\n"
     ]
    },
    {
     "name": "stderr",
     "output_type": "stream",
     "text": [
      "\u001b[32m[I 2022-03-26 01:44:02,299]\u001b[0m Trial 512 finished with value: 5.9685962159429335 and parameters: {'random_state': 519632, 'learning_rate': 0.008566335456880105, 'bagging_temperature': 2.024731176881973, 'max_depth': 6, 'random_strength': 36, 'l2_leaf_reg': 2.766364539428658e-06, 'min_child_samples': 37, 'max_bin': 437, 'od_type': 'Iter', 'task_type': 'GPU', 'loss_function': 'MAE', 'eval_metric': 'MAE'}. Best is trial 502 with value: 5.916511005997932.\u001b[0m\n"
     ]
    },
    {
     "name": "stdout",
     "output_type": "stream",
     "text": [
      "MAE of Train: 5.961951445308366\n",
      "MAE of Validation: 5.9685962159429335\n"
     ]
    },
    {
     "name": "stderr",
     "output_type": "stream",
     "text": [
      "\u001b[32m[I 2022-03-26 01:44:10,275]\u001b[0m Trial 513 finished with value: 5.933067960678008 and parameters: {'random_state': 519632, 'learning_rate': 0.10723365254951714, 'bagging_temperature': 2.36276297475195, 'max_depth': 7, 'random_strength': 53, 'l2_leaf_reg': 2.9488577139192e-05, 'min_child_samples': 6, 'max_bin': 472, 'od_type': 'Iter', 'task_type': 'GPU', 'loss_function': 'MAE', 'eval_metric': 'MAE'}. Best is trial 502 with value: 5.916511005997932.\u001b[0m\n"
     ]
    },
    {
     "name": "stdout",
     "output_type": "stream",
     "text": [
      "MAE of Train: 5.922768355793274\n",
      "MAE of Validation: 5.933067960678008\n"
     ]
    },
    {
     "name": "stderr",
     "output_type": "stream",
     "text": [
      "\u001b[32m[I 2022-03-26 01:44:17,365]\u001b[0m Trial 514 finished with value: 5.9266000536571966 and parameters: {'random_state': 519632, 'learning_rate': 0.08142806100600598, 'bagging_temperature': 3.705857985375118, 'max_depth': 5, 'random_strength': 58, 'l2_leaf_reg': 2.3306607162124814e-06, 'min_child_samples': 21, 'max_bin': 421, 'od_type': 'Iter', 'task_type': 'GPU', 'loss_function': 'MAE', 'eval_metric': 'MAE'}. Best is trial 502 with value: 5.916511005997932.\u001b[0m\n"
     ]
    },
    {
     "name": "stdout",
     "output_type": "stream",
     "text": [
      "MAE of Train: 5.920679047400191\n",
      "MAE of Validation: 5.9266000536571966\n"
     ]
    },
    {
     "name": "stderr",
     "output_type": "stream",
     "text": [
      "\u001b[32m[I 2022-03-26 01:44:24,369]\u001b[0m Trial 515 finished with value: 5.927969913018991 and parameters: {'random_state': 519632, 'learning_rate': 0.09256186041512292, 'bagging_temperature': 5.449316554847081, 'max_depth': 5, 'random_strength': 51, 'l2_leaf_reg': 2.9978383987340995e-05, 'min_child_samples': 19, 'max_bin': 455, 'od_type': 'Iter', 'task_type': 'GPU', 'loss_function': 'MAE', 'eval_metric': 'MAE'}. Best is trial 502 with value: 5.916511005997932.\u001b[0m\n"
     ]
    },
    {
     "name": "stdout",
     "output_type": "stream",
     "text": [
      "MAE of Train: 5.91691359100819\n",
      "MAE of Validation: 5.927969913018991\n"
     ]
    },
    {
     "name": "stderr",
     "output_type": "stream",
     "text": [
      "\u001b[32m[I 2022-03-26 01:44:30,188]\u001b[0m Trial 516 finished with value: 5.923210986129549 and parameters: {'random_state': 519632, 'learning_rate': 0.11189910877534077, 'bagging_temperature': 3.0389541353342455, 'max_depth': 5, 'random_strength': 49, 'l2_leaf_reg': 2.6705000124520453e-05, 'min_child_samples': 39, 'max_bin': 448, 'od_type': 'Iter', 'task_type': 'GPU', 'loss_function': 'MAE', 'eval_metric': 'MAE'}. Best is trial 502 with value: 5.916511005997932.\u001b[0m\n"
     ]
    },
    {
     "name": "stdout",
     "output_type": "stream",
     "text": [
      "MAE of Train: 5.917587173596075\n",
      "MAE of Validation: 5.923210986129549\n"
     ]
    },
    {
     "name": "stderr",
     "output_type": "stream",
     "text": [
      "\u001b[32m[I 2022-03-26 01:44:37,422]\u001b[0m Trial 517 finished with value: 5.92190021622177 and parameters: {'random_state': 519632, 'learning_rate': 0.07025271160449977, 'bagging_temperature': 4.394283095717799, 'max_depth': 5, 'random_strength': 56, 'l2_leaf_reg': 1.2021211980899016e-05, 'min_child_samples': 17, 'max_bin': 462, 'od_type': 'Iter', 'task_type': 'GPU', 'loss_function': 'MAE', 'eval_metric': 'MAE'}. Best is trial 502 with value: 5.916511005997932.\u001b[0m\n"
     ]
    },
    {
     "name": "stdout",
     "output_type": "stream",
     "text": [
      "MAE of Train: 5.912961300078213\n",
      "MAE of Validation: 5.92190021622177\n"
     ]
    },
    {
     "name": "stderr",
     "output_type": "stream",
     "text": [
      "\u001b[32m[I 2022-03-26 01:44:44,747]\u001b[0m Trial 518 finished with value: 5.920335740581857 and parameters: {'random_state': 519632, 'learning_rate': 0.09648656970863871, 'bagging_temperature': 3.6220070651865424, 'max_depth': 5, 'random_strength': 46, 'l2_leaf_reg': 1.2066611794965008e-06, 'min_child_samples': 7, 'max_bin': 455, 'od_type': 'Iter', 'task_type': 'GPU', 'loss_function': 'MAE', 'eval_metric': 'MAE'}. Best is trial 502 with value: 5.916511005997932.\u001b[0m\n"
     ]
    },
    {
     "name": "stdout",
     "output_type": "stream",
     "text": [
      "MAE of Train: 5.910135645579535\n",
      "MAE of Validation: 5.920335740581857\n"
     ]
    },
    {
     "name": "stderr",
     "output_type": "stream",
     "text": [
      "\u001b[32m[I 2022-03-26 01:44:47,986]\u001b[0m Trial 519 finished with value: 5.938615122383251 and parameters: {'random_state': 519632, 'learning_rate': 0.10718747321674853, 'bagging_temperature': 2.690953353820013, 'max_depth': 5, 'random_strength': 45, 'l2_leaf_reg': 1.9522520966441146e-06, 'min_child_samples': 5, 'max_bin': 467, 'od_type': 'Iter', 'task_type': 'GPU', 'loss_function': 'MAE', 'eval_metric': 'MAE'}. Best is trial 502 with value: 5.916511005997932.\u001b[0m\n"
     ]
    },
    {
     "name": "stdout",
     "output_type": "stream",
     "text": [
      "MAE of Train: 5.932569166298589\n",
      "MAE of Validation: 5.938615122383251\n"
     ]
    },
    {
     "name": "stderr",
     "output_type": "stream",
     "text": [
      "\u001b[32m[I 2022-03-26 01:44:54,293]\u001b[0m Trial 520 finished with value: 11.190707837834768 and parameters: {'random_state': 519632, 'learning_rate': 0.00032696068147603717, 'bagging_temperature': 3.1966858627319517, 'max_depth': 5, 'random_strength': 42, 'l2_leaf_reg': 3.993283131714736e-08, 'min_child_samples': 7, 'max_bin': 458, 'od_type': 'Iter', 'task_type': 'GPU', 'loss_function': 'MAE', 'eval_metric': 'MAE'}. Best is trial 502 with value: 5.916511005997932.\u001b[0m\n"
     ]
    },
    {
     "name": "stdout",
     "output_type": "stream",
     "text": [
      "MAE of Train: 11.17804072249979\n",
      "MAE of Validation: 11.190707837834768\n"
     ]
    },
    {
     "name": "stderr",
     "output_type": "stream",
     "text": [
      "\u001b[32m[I 2022-03-26 01:44:59,581]\u001b[0m Trial 521 finished with value: 5.927931430956481 and parameters: {'random_state': 519632, 'learning_rate': 0.0791841015173706, 'bagging_temperature': 2.3726657373714075, 'max_depth': 5, 'random_strength': 46, 'l2_leaf_reg': 1.288221826180466e-06, 'min_child_samples': 8, 'max_bin': 373, 'od_type': 'Iter', 'task_type': 'GPU', 'loss_function': 'MAE', 'eval_metric': 'MAE'}. Best is trial 502 with value: 5.916511005997932.\u001b[0m\n"
     ]
    },
    {
     "name": "stdout",
     "output_type": "stream",
     "text": [
      "MAE of Train: 5.9216853244505945\n",
      "MAE of Validation: 5.927931430956481\n"
     ]
    },
    {
     "name": "stderr",
     "output_type": "stream",
     "text": [
      "\u001b[32m[I 2022-03-26 01:45:02,408]\u001b[0m Trial 522 finished with value: 5.943268040711129 and parameters: {'random_state': 519632, 'learning_rate': 0.1179822467736999, 'bagging_temperature': 1.785286497546433, 'max_depth': 5, 'random_strength': 44, 'l2_leaf_reg': 2.029165076912748e-06, 'min_child_samples': 5, 'max_bin': 466, 'od_type': 'Iter', 'task_type': 'GPU', 'loss_function': 'MAE', 'eval_metric': 'MAE'}. Best is trial 502 with value: 5.916511005997932.\u001b[0m\n"
     ]
    },
    {
     "name": "stdout",
     "output_type": "stream",
     "text": [
      "MAE of Train: 5.937181871044387\n",
      "MAE of Validation: 5.943268040711129\n"
     ]
    },
    {
     "name": "stderr",
     "output_type": "stream",
     "text": [
      "\u001b[32m[I 2022-03-26 01:45:09,977]\u001b[0m Trial 523 finished with value: 5.924094937288655 and parameters: {'random_state': 519632, 'learning_rate': 0.06522311149990052, 'bagging_temperature': 3.6701048983156976, 'max_depth': 6, 'random_strength': 47, 'l2_leaf_reg': 7.37321097157271e-07, 'min_child_samples': 7, 'max_bin': 472, 'od_type': 'Iter', 'task_type': 'GPU', 'loss_function': 'MAE', 'eval_metric': 'MAE'}. Best is trial 502 with value: 5.916511005997932.\u001b[0m\n"
     ]
    },
    {
     "name": "stdout",
     "output_type": "stream",
     "text": [
      "MAE of Train: 5.91377217217451\n",
      "MAE of Validation: 5.924094937288655\n"
     ]
    },
    {
     "name": "stderr",
     "output_type": "stream",
     "text": [
      "\u001b[32m[I 2022-03-26 01:45:17,313]\u001b[0m Trial 524 finished with value: 5.92412453102053 and parameters: {'random_state': 519632, 'learning_rate': 0.09111874056206341, 'bagging_temperature': 3.161177228940369, 'max_depth': 5, 'random_strength': 40, 'l2_leaf_reg': 7.430610679255445e-07, 'min_child_samples': 69, 'max_bin': 442, 'od_type': 'Iter', 'task_type': 'GPU', 'loss_function': 'MAE', 'eval_metric': 'MAE'}. Best is trial 502 with value: 5.916511005997932.\u001b[0m\n"
     ]
    },
    {
     "name": "stdout",
     "output_type": "stream",
     "text": [
      "MAE of Train: 5.917755791700053\n",
      "MAE of Validation: 5.92412453102053\n"
     ]
    },
    {
     "name": "stderr",
     "output_type": "stream",
     "text": [
      "\u001b[32m[I 2022-03-26 01:45:18,590]\u001b[0m Trial 525 finished with value: 13.852046782717432 and parameters: {'random_state': 519632, 'learning_rate': 0.08020689803918919, 'bagging_temperature': 39.35606194568602, 'max_depth': 5, 'random_strength': 45, 'l2_leaf_reg': 2.3441837696045065e-06, 'min_child_samples': 9, 'max_bin': 430, 'od_type': 'Iter', 'task_type': 'GPU', 'loss_function': 'MAE', 'eval_metric': 'MAE'}. Best is trial 502 with value: 5.916511005997932.\u001b[0m\n"
     ]
    },
    {
     "name": "stdout",
     "output_type": "stream",
     "text": [
      "MAE of Train: 13.841320541567313\n",
      "MAE of Validation: 13.852046782717432\n"
     ]
    },
    {
     "name": "stderr",
     "output_type": "stream",
     "text": [
      "\u001b[32m[I 2022-03-26 01:45:25,796]\u001b[0m Trial 526 finished with value: 5.922516840272494 and parameters: {'random_state': 519632, 'learning_rate': 0.05485723198362342, 'bagging_temperature': 2.6900404195668597, 'max_depth': 5, 'random_strength': 48, 'l2_leaf_reg': 1.0366194561317628e-06, 'min_child_samples': 9, 'max_bin': 457, 'od_type': 'Iter', 'task_type': 'GPU', 'loss_function': 'MAE', 'eval_metric': 'MAE'}. Best is trial 502 with value: 5.916511005997932.\u001b[0m\n"
     ]
    },
    {
     "name": "stdout",
     "output_type": "stream",
     "text": [
      "MAE of Train: 5.9162897210569945\n",
      "MAE of Validation: 5.922516840272494\n"
     ]
    },
    {
     "name": "stderr",
     "output_type": "stream",
     "text": [
      "\u001b[32m[I 2022-03-26 01:45:33,113]\u001b[0m Trial 527 finished with value: 5.919364147508768 and parameters: {'random_state': 519632, 'learning_rate': 0.12283011597085293, 'bagging_temperature': 3.7356354095356745, 'max_depth': 5, 'random_strength': 43, 'l2_leaf_reg': 1.7922276185949271e-06, 'min_child_samples': 83, 'max_bin': 488, 'od_type': 'Iter', 'task_type': 'GPU', 'loss_function': 'MAE', 'eval_metric': 'MAE'}. Best is trial 502 with value: 5.916511005997932.\u001b[0m\n"
     ]
    },
    {
     "name": "stdout",
     "output_type": "stream",
     "text": [
      "MAE of Train: 5.9101153380530755\n",
      "MAE of Validation: 5.919364147508768\n"
     ]
    },
    {
     "name": "stderr",
     "output_type": "stream",
     "text": [
      "\u001b[32m[I 2022-03-26 01:45:39,924]\u001b[0m Trial 528 finished with value: 5.928279946016343 and parameters: {'random_state': 519632, 'learning_rate': 0.12534773829012852, 'bagging_temperature': 5.002946122066078, 'max_depth': 4, 'random_strength': 43, 'l2_leaf_reg': 1.945556010790021e-06, 'min_child_samples': 86, 'max_bin': 481, 'od_type': 'Iter', 'task_type': 'GPU', 'loss_function': 'MAE', 'eval_metric': 'MAE'}. Best is trial 502 with value: 5.916511005997932.\u001b[0m\n"
     ]
    },
    {
     "name": "stdout",
     "output_type": "stream",
     "text": [
      "MAE of Train: 5.920153939665746\n",
      "MAE of Validation: 5.928279946016343\n"
     ]
    },
    {
     "name": "stderr",
     "output_type": "stream",
     "text": [
      "\u001b[32m[I 2022-03-26 01:45:42,915]\u001b[0m Trial 529 finished with value: 5.945239303779362 and parameters: {'random_state': 519632, 'learning_rate': 0.11882960533810881, 'bagging_temperature': 0.011382184204845967, 'max_depth': 5, 'random_strength': 41, 'l2_leaf_reg': 1.4795912365230515e-06, 'min_child_samples': 83, 'max_bin': 409, 'od_type': 'Iter', 'task_type': 'GPU', 'loss_function': 'MAE', 'eval_metric': 'MAE'}. Best is trial 502 with value: 5.916511005997932.\u001b[0m\n"
     ]
    },
    {
     "name": "stdout",
     "output_type": "stream",
     "text": [
      "MAE of Train: 5.939685405216647\n",
      "MAE of Validation: 5.945239303779362\n"
     ]
    },
    {
     "name": "stderr",
     "output_type": "stream",
     "text": [
      "\u001b[32m[I 2022-03-26 01:45:50,175]\u001b[0m Trial 530 finished with value: 5.9198265181304786 and parameters: {'random_state': 519632, 'learning_rate': 0.10567898807216053, 'bagging_temperature': 3.9199197625780293, 'max_depth': 5, 'random_strength': 39, 'l2_leaf_reg': 1.3221124424976255e-06, 'min_child_samples': 85, 'max_bin': 485, 'od_type': 'IncToDec', 'task_type': 'GPU', 'loss_function': 'MAE', 'eval_metric': 'MAE'}. Best is trial 502 with value: 5.916511005997932.\u001b[0m\n"
     ]
    },
    {
     "name": "stdout",
     "output_type": "stream",
     "text": [
      "MAE of Train: 5.909293214790418\n",
      "MAE of Validation: 5.9198265181304786\n"
     ]
    },
    {
     "name": "stderr",
     "output_type": "stream",
     "text": [
      "\u001b[32m[I 2022-03-26 01:45:57,461]\u001b[0m Trial 531 finished with value: 5.9208127133347395 and parameters: {'random_state': 519632, 'learning_rate': 0.10303341211823379, 'bagging_temperature': 4.001302584945781, 'max_depth': 5, 'random_strength': 38, 'l2_leaf_reg': 6.376434391119989e-07, 'min_child_samples': 89, 'max_bin': 496, 'od_type': 'IncToDec', 'task_type': 'GPU', 'loss_function': 'MAE', 'eval_metric': 'MAE'}. Best is trial 502 with value: 5.916511005997932.\u001b[0m\n"
     ]
    },
    {
     "name": "stdout",
     "output_type": "stream",
     "text": [
      "MAE of Train: 5.910083913199185\n",
      "MAE of Validation: 5.9208127133347395\n"
     ]
    },
    {
     "name": "stderr",
     "output_type": "stream",
     "text": [
      "\u001b[32m[I 2022-03-26 01:46:04,315]\u001b[0m Trial 532 finished with value: 5.936159961307027 and parameters: {'random_state': 519632, 'learning_rate': 0.1034970579093836, 'bagging_temperature': 6.274985556935749, 'max_depth': 5, 'random_strength': 37, 'l2_leaf_reg': 3.4450527909341273e-07, 'min_child_samples': 90, 'max_bin': 490, 'od_type': 'IncToDec', 'task_type': 'GPU', 'loss_function': 'MAE', 'eval_metric': 'MAE'}. Best is trial 502 with value: 5.916511005997932.\u001b[0m\n"
     ]
    },
    {
     "name": "stdout",
     "output_type": "stream",
     "text": [
      "MAE of Train: 5.924124794164396\n",
      "MAE of Validation: 5.936159961307027\n"
     ]
    },
    {
     "name": "stderr",
     "output_type": "stream",
     "text": [
      "\u001b[32m[I 2022-03-26 01:46:11,486]\u001b[0m Trial 533 finished with value: 5.922618541995018 and parameters: {'random_state': 519632, 'learning_rate': 0.0934536986460927, 'bagging_temperature': 4.514477428022532, 'max_depth': 5, 'random_strength': 32, 'l2_leaf_reg': 1.0698548754285822e-06, 'min_child_samples': 89, 'max_bin': 483, 'od_type': 'IncToDec', 'task_type': 'GPU', 'loss_function': 'MAE', 'eval_metric': 'MAE'}. Best is trial 502 with value: 5.916511005997932.\u001b[0m\n"
     ]
    },
    {
     "name": "stdout",
     "output_type": "stream",
     "text": [
      "MAE of Train: 5.91173157757936\n",
      "MAE of Validation: 5.922618541995018\n"
     ]
    },
    {
     "name": "stderr",
     "output_type": "stream",
     "text": [
      "\u001b[32m[I 2022-03-26 01:46:16,855]\u001b[0m Trial 534 finished with value: 5.923724835655484 and parameters: {'random_state': 519632, 'learning_rate': 0.11436146480733028, 'bagging_temperature': 3.7751566018402953, 'max_depth': 6, 'random_strength': 39, 'l2_leaf_reg': 1.4707568158288257e-06, 'min_child_samples': 88, 'max_bin': 494, 'od_type': 'IncToDec', 'task_type': 'GPU', 'loss_function': 'MAE', 'eval_metric': 'MAE'}. Best is trial 502 with value: 5.916511005997932.\u001b[0m\n"
     ]
    },
    {
     "name": "stdout",
     "output_type": "stream",
     "text": [
      "MAE of Train: 5.913739106401865\n",
      "MAE of Validation: 5.923724835655484\n"
     ]
    },
    {
     "name": "stderr",
     "output_type": "stream",
     "text": [
      "\u001b[32m[I 2022-03-26 01:46:24,059]\u001b[0m Trial 535 finished with value: 5.928011977981108 and parameters: {'random_state': 519632, 'learning_rate': 0.07652855735827334, 'bagging_temperature': 3.0052077197519633, 'max_depth': 5, 'random_strength': 37, 'l2_leaf_reg': 5.836807748811657e-07, 'min_child_samples': 86, 'max_bin': 496, 'od_type': 'IncToDec', 'task_type': 'GPU', 'loss_function': 'MAE', 'eval_metric': 'MAE'}. Best is trial 502 with value: 5.916511005997932.\u001b[0m\n"
     ]
    },
    {
     "name": "stdout",
     "output_type": "stream",
     "text": [
      "MAE of Train: 5.922434137086805\n",
      "MAE of Validation: 5.928011977981108\n"
     ]
    },
    {
     "name": "stderr",
     "output_type": "stream",
     "text": [
      "\u001b[32m[I 2022-03-26 01:46:27,807]\u001b[0m Trial 536 finished with value: 5.935072183255892 and parameters: {'random_state': 519632, 'learning_rate': 0.10007248609404051, 'bagging_temperature': 2.184123788148097, 'max_depth': 5, 'random_strength': 40, 'l2_leaf_reg': 4.575039718671741e-08, 'min_child_samples': 81, 'max_bin': 488, 'od_type': 'IncToDec', 'task_type': 'GPU', 'loss_function': 'MAE', 'eval_metric': 'MAE'}. Best is trial 502 with value: 5.916511005997932.\u001b[0m\n"
     ]
    },
    {
     "name": "stdout",
     "output_type": "stream",
     "text": [
      "MAE of Train: 5.92941540629279\n",
      "MAE of Validation: 5.935072183255892\n"
     ]
    },
    {
     "name": "stderr",
     "output_type": "stream",
     "text": [
      "\u001b[32m[I 2022-03-26 01:46:34,745]\u001b[0m Trial 537 finished with value: 5.923660707321729 and parameters: {'random_state': 519632, 'learning_rate': 0.08594331892536995, 'bagging_temperature': 3.71576751000199, 'max_depth': 5, 'random_strength': 38, 'l2_leaf_reg': 1.8381497047213853e-06, 'min_child_samples': 92, 'max_bin': 499, 'od_type': 'IncToDec', 'task_type': 'GPU', 'loss_function': 'MAE', 'eval_metric': 'MAE'}. Best is trial 502 with value: 5.916511005997932.\u001b[0m\n"
     ]
    },
    {
     "name": "stdout",
     "output_type": "stream",
     "text": [
      "MAE of Train: 5.916445899216393\n",
      "MAE of Validation: 5.923660707321729\n"
     ]
    },
    {
     "name": "stderr",
     "output_type": "stream",
     "text": [
      "\u001b[32m[I 2022-03-26 01:46:41,856]\u001b[0m Trial 538 finished with value: 5.928187259273668 and parameters: {'random_state': 519632, 'learning_rate': 0.12478396567879398, 'bagging_temperature': 4.891893256849597, 'max_depth': 5, 'random_strength': 42, 'l2_leaf_reg': 1.2282628014762733e-06, 'min_child_samples': 85, 'max_bin': 492, 'od_type': 'IncToDec', 'task_type': 'GPU', 'loss_function': 'MAE', 'eval_metric': 'MAE'}. Best is trial 502 with value: 5.916511005997932.\u001b[0m\n"
     ]
    },
    {
     "name": "stdout",
     "output_type": "stream",
     "text": [
      "MAE of Train: 5.916416634700118\n",
      "MAE of Validation: 5.928187259273668\n"
     ]
    },
    {
     "name": "stderr",
     "output_type": "stream",
     "text": [
      "\u001b[32m[I 2022-03-26 01:46:48,548]\u001b[0m Trial 539 finished with value: 5.935629449124128 and parameters: {'random_state': 519632, 'learning_rate': 0.07106512328982476, 'bagging_temperature': 2.9916880582620773, 'max_depth': 5, 'random_strength': 40, 'l2_leaf_reg': 2.7470662585810232e-06, 'min_child_samples': 94, 'max_bin': 496, 'od_type': 'IncToDec', 'task_type': 'GPU', 'loss_function': 'MAE', 'eval_metric': 'MAE'}. Best is trial 502 with value: 5.916511005997932.\u001b[0m\n"
     ]
    },
    {
     "name": "stdout",
     "output_type": "stream",
     "text": [
      "MAE of Train: 5.929667558333451\n",
      "MAE of Validation: 5.935629449124128\n"
     ]
    },
    {
     "name": "stderr",
     "output_type": "stream",
     "text": [
      "\u001b[32m[I 2022-03-26 01:46:55,697]\u001b[0m Trial 540 finished with value: 5.922707979274881 and parameters: {'random_state': 519632, 'learning_rate': 0.10229390942915109, 'bagging_temperature': 4.211305497401162, 'max_depth': 5, 'random_strength': 35, 'l2_leaf_reg': 1.0953387794107215e-06, 'min_child_samples': 88, 'max_bin': 488, 'od_type': 'IncToDec', 'task_type': 'GPU', 'loss_function': 'MAE', 'eval_metric': 'MAE'}. Best is trial 502 with value: 5.916511005997932.\u001b[0m\n"
     ]
    },
    {
     "name": "stdout",
     "output_type": "stream",
     "text": [
      "MAE of Train: 5.912125878914926\n",
      "MAE of Validation: 5.922707979274881\n"
     ]
    },
    {
     "name": "stderr",
     "output_type": "stream",
     "text": [
      "\u001b[32m[I 2022-03-26 01:47:02,656]\u001b[0m Trial 541 finished with value: 5.9349313843290865 and parameters: {'random_state': 519632, 'learning_rate': 0.08543030724848588, 'bagging_temperature': 2.5048130375278848, 'max_depth': 4, 'random_strength': 42, 'l2_leaf_reg': 1.9276173083861688e-06, 'min_child_samples': 83, 'max_bin': 484, 'od_type': 'IncToDec', 'task_type': 'GPU', 'loss_function': 'MAE', 'eval_metric': 'MAE'}. Best is trial 502 with value: 5.916511005997932.\u001b[0m\n"
     ]
    },
    {
     "name": "stdout",
     "output_type": "stream",
     "text": [
      "MAE of Train: 5.930338958016487\n",
      "MAE of Validation: 5.9349313843290865\n"
     ]
    },
    {
     "name": "stderr",
     "output_type": "stream",
     "text": [
      "\u001b[32m[I 2022-03-26 01:47:09,592]\u001b[0m Trial 542 finished with value: 5.934176921576966 and parameters: {'random_state': 519632, 'learning_rate': 0.11904254206265508, 'bagging_temperature': 5.797089126106746, 'max_depth': 5, 'random_strength': 38, 'l2_leaf_reg': 2.97482124523386e-06, 'min_child_samples': 90, 'max_bin': 490, 'od_type': 'IncToDec', 'task_type': 'GPU', 'loss_function': 'MAE', 'eval_metric': 'MAE'}. Best is trial 502 with value: 5.916511005997932.\u001b[0m\n"
     ]
    },
    {
     "name": "stdout",
     "output_type": "stream",
     "text": [
      "MAE of Train: 5.921704908326985\n",
      "MAE of Validation: 5.934176921576966\n"
     ]
    },
    {
     "name": "stderr",
     "output_type": "stream",
     "text": [
      "\u001b[32m[I 2022-03-26 01:47:15,581]\u001b[0m Trial 543 finished with value: 5.930093277014897 and parameters: {'random_state': 519632, 'learning_rate': 0.0936219267032572, 'bagging_temperature': 3.484441846815835, 'max_depth': 8, 'random_strength': 36, 'l2_leaf_reg': 1.545629603125017e-06, 'min_child_samples': 84, 'max_bin': 480, 'od_type': 'IncToDec', 'task_type': 'GPU', 'loss_function': 'MAE', 'eval_metric': 'MAE'}. Best is trial 502 with value: 5.916511005997932.\u001b[0m\n"
     ]
    },
    {
     "name": "stdout",
     "output_type": "stream",
     "text": [
      "MAE of Train: 5.912950930727378\n",
      "MAE of Validation: 5.930093277014897\n"
     ]
    },
    {
     "name": "stderr",
     "output_type": "stream",
     "text": [
      "\u001b[32m[I 2022-03-26 01:47:22,613]\u001b[0m Trial 544 finished with value: 5.926372229328804 and parameters: {'random_state': 519632, 'learning_rate': 0.06113135091125734, 'bagging_temperature': 3.062353487184036, 'max_depth': 5, 'random_strength': 44, 'l2_leaf_reg': 8.539015816478556e-07, 'min_child_samples': 88, 'max_bin': 476, 'od_type': 'IncToDec', 'task_type': 'GPU', 'loss_function': 'MAE', 'eval_metric': 'MAE'}. Best is trial 502 with value: 5.916511005997932.\u001b[0m\n"
     ]
    },
    {
     "name": "stdout",
     "output_type": "stream",
     "text": [
      "MAE of Train: 5.920987154736533\n",
      "MAE of Validation: 5.926372229328804\n"
     ]
    },
    {
     "name": "stderr",
     "output_type": "stream",
     "text": [
      "\u001b[32m[I 2022-03-26 01:47:29,894]\u001b[0m Trial 545 finished with value: 5.922842823571005 and parameters: {'random_state': 519632, 'learning_rate': 0.10857188694283648, 'bagging_temperature': 4.116825162350041, 'max_depth': 5, 'random_strength': 34, 'l2_leaf_reg': 1.6223179908477431e-06, 'min_child_samples': 92, 'max_bin': 494, 'od_type': 'IncToDec', 'task_type': 'GPU', 'loss_function': 'MAE', 'eval_metric': 'MAE'}. Best is trial 502 with value: 5.916511005997932.\u001b[0m\n"
     ]
    },
    {
     "name": "stdout",
     "output_type": "stream",
     "text": [
      "MAE of Train: 5.91156652479878\n",
      "MAE of Validation: 5.922842823571005\n"
     ]
    },
    {
     "name": "stderr",
     "output_type": "stream",
     "text": [
      "\u001b[32m[I 2022-03-26 01:47:34,675]\u001b[0m Trial 546 finished with value: 5.947049351653046 and parameters: {'random_state': 519632, 'learning_rate': 0.0773998753818981, 'bagging_temperature': 1.9625860413063327, 'max_depth': 5, 'random_strength': 40, 'l2_leaf_reg': 5.420902117023443e-07, 'min_child_samples': 87, 'max_bin': 393, 'od_type': 'IncToDec', 'task_type': 'GPU', 'loss_function': 'MAE', 'eval_metric': 'MAE'}. Best is trial 502 with value: 5.916511005997932.\u001b[0m\n"
     ]
    },
    {
     "name": "stdout",
     "output_type": "stream",
     "text": [
      "MAE of Train: 5.941908545258509\n",
      "MAE of Validation: 5.947049351653046\n"
     ]
    },
    {
     "name": "stderr",
     "output_type": "stream",
     "text": [
      "\u001b[32m[I 2022-03-26 01:47:39,659]\u001b[0m Trial 547 finished with value: 5.9357824067566884 and parameters: {'random_state': 519632, 'learning_rate': 0.12866388340381682, 'bagging_temperature': 2.5603470574279967, 'max_depth': 6, 'random_strength': 43, 'l2_leaf_reg': 2.159887720793868e-06, 'min_child_samples': 91, 'max_bin': 500, 'od_type': 'IncToDec', 'task_type': 'GPU', 'loss_function': 'MAE', 'eval_metric': 'MAE'}. Best is trial 502 with value: 5.916511005997932.\u001b[0m\n"
     ]
    },
    {
     "name": "stdout",
     "output_type": "stream",
     "text": [
      "MAE of Train: 5.926831924202119\n",
      "MAE of Validation: 5.9357824067566884\n"
     ]
    },
    {
     "name": "stderr",
     "output_type": "stream",
     "text": [
      "\u001b[32m[I 2022-03-26 01:47:46,807]\u001b[0m Trial 548 finished with value: 5.924164458542741 and parameters: {'random_state': 519632, 'learning_rate': 0.0944813569513991, 'bagging_temperature': 4.836062891182681, 'max_depth': 5, 'random_strength': 46, 'l2_leaf_reg': 7.315617861777744e-07, 'min_child_samples': 82, 'max_bin': 477, 'od_type': 'IncToDec', 'task_type': 'GPU', 'loss_function': 'MAE', 'eval_metric': 'MAE'}. Best is trial 502 with value: 5.916511005997932.\u001b[0m\n"
     ]
    },
    {
     "name": "stdout",
     "output_type": "stream",
     "text": [
      "MAE of Train: 5.913755664352019\n",
      "MAE of Validation: 5.924164458542741\n"
     ]
    },
    {
     "name": "stderr",
     "output_type": "stream",
     "text": [
      "\u001b[32m[I 2022-03-26 01:47:54,102]\u001b[0m Trial 549 finished with value: 5.927913142113843 and parameters: {'random_state': 519632, 'learning_rate': 0.0667260526945478, 'bagging_temperature': 3.5977660681550283, 'max_depth': 5, 'random_strength': 8, 'l2_leaf_reg': 8.78057816163316e-08, 'min_child_samples': 94, 'max_bin': 490, 'od_type': 'IncToDec', 'task_type': 'GPU', 'loss_function': 'MAE', 'eval_metric': 'MAE'}. Best is trial 502 with value: 5.916511005997932.\u001b[0m\n"
     ]
    },
    {
     "name": "stdout",
     "output_type": "stream",
     "text": [
      "MAE of Train: 5.922163087565178\n",
      "MAE of Validation: 5.927913142113843\n"
     ]
    },
    {
     "name": "stderr",
     "output_type": "stream",
     "text": [
      "\u001b[32m[I 2022-03-26 01:47:59,479]\u001b[0m Trial 550 finished with value: 5.937837130656498 and parameters: {'random_state': 519632, 'learning_rate': 0.1046283779932121, 'bagging_temperature': 2.9536139212244423, 'max_depth': 5, 'random_strength': 41, 'l2_leaf_reg': 3.691988364394842e-06, 'min_child_samples': 89, 'max_bin': 481, 'od_type': 'IncToDec', 'task_type': 'GPU', 'loss_function': 'MAE', 'eval_metric': 'MAE'}. Best is trial 502 with value: 5.916511005997932.\u001b[0m\n"
     ]
    },
    {
     "name": "stdout",
     "output_type": "stream",
     "text": [
      "MAE of Train: 5.932138888227727\n",
      "MAE of Validation: 5.937837130656498\n"
     ]
    },
    {
     "name": "stderr",
     "output_type": "stream",
     "text": [
      "\u001b[32m[I 2022-03-26 01:48:03,479]\u001b[0m Trial 551 finished with value: 5.931447668386427 and parameters: {'random_state': 519632, 'learning_rate': 0.0836881741319362, 'bagging_temperature': 2.271232373935699, 'max_depth': 5, 'random_strength': 39, 'l2_leaf_reg': 3.2578459850984953e-06, 'min_child_samples': 85, 'max_bin': 486, 'od_type': 'IncToDec', 'task_type': 'GPU', 'loss_function': 'MAE', 'eval_metric': 'MAE'}. Best is trial 502 with value: 5.916511005997932.\u001b[0m\n"
     ]
    },
    {
     "name": "stdout",
     "output_type": "stream",
     "text": [
      "MAE of Train: 5.925822033472039\n",
      "MAE of Validation: 5.931447668386427\n"
     ]
    },
    {
     "name": "stderr",
     "output_type": "stream",
     "text": [
      "\u001b[32m[I 2022-03-26 01:48:04,491]\u001b[0m Trial 552 finished with value: 13.852047557087516 and parameters: {'random_state': 519632, 'learning_rate': 0.13234486340462007, 'bagging_temperature': 75.9145223484594, 'max_depth': 5, 'random_strength': 45, 'l2_leaf_reg': 2.148777396917548e-06, 'min_child_samples': 91, 'max_bin': 473, 'od_type': 'IncToDec', 'task_type': 'GPU', 'loss_function': 'MAE', 'eval_metric': 'MAE'}. Best is trial 502 with value: 5.916511005997932.\u001b[0m\n"
     ]
    },
    {
     "name": "stdout",
     "output_type": "stream",
     "text": [
      "MAE of Train: 13.841321427633368\n",
      "MAE of Validation: 13.852047557087516\n"
     ]
    },
    {
     "name": "stderr",
     "output_type": "stream",
     "text": [
      "\u001b[32m[I 2022-03-26 01:48:11,766]\u001b[0m Trial 553 finished with value: 5.92281774483635 and parameters: {'random_state': 519632, 'learning_rate': 0.07328609637100254, 'bagging_temperature': 4.111649062546712, 'max_depth': 5, 'random_strength': 38, 'l2_leaf_reg': 1.7075066331594141e-06, 'min_child_samples': 87, 'max_bin': 463, 'od_type': 'IncToDec', 'task_type': 'GPU', 'loss_function': 'MAE', 'eval_metric': 'MAE'}. Best is trial 502 with value: 5.916511005997932.\u001b[0m\n"
     ]
    },
    {
     "name": "stdout",
     "output_type": "stream",
     "text": [
      "MAE of Train: 5.913817090142974\n",
      "MAE of Validation: 5.92281774483635\n"
     ]
    },
    {
     "name": "stderr",
     "output_type": "stream",
     "text": [
      "\u001b[32m[I 2022-03-26 01:48:18,750]\u001b[0m Trial 554 finished with value: 5.929959099460171 and parameters: {'random_state': 519632, 'learning_rate': 0.049421607668804254, 'bagging_temperature': 5.479206690893241, 'max_depth': 5, 'random_strength': 47, 'l2_leaf_reg': 9.796229188958439e-07, 'min_child_samples': 79, 'max_bin': 448, 'od_type': 'IncToDec', 'task_type': 'GPU', 'loss_function': 'MAE', 'eval_metric': 'MAE'}. Best is trial 502 with value: 5.916511005997932.\u001b[0m\n"
     ]
    },
    {
     "name": "stdout",
     "output_type": "stream",
     "text": [
      "MAE of Train: 5.921633234066506\n",
      "MAE of Validation: 5.929959099460171\n"
     ]
    },
    {
     "name": "stderr",
     "output_type": "stream",
     "text": [
      "\u001b[32m[I 2022-03-26 01:48:25,780]\u001b[0m Trial 555 finished with value: 5.927635307536779 and parameters: {'random_state': 519632, 'learning_rate': 0.11097241023163182, 'bagging_temperature': 3.2828110465134377, 'max_depth': 5, 'random_strength': 43, 'l2_leaf_reg': 1.6003242261687107e-05, 'min_child_samples': 95, 'max_bin': 452, 'od_type': 'IncToDec', 'task_type': 'GPU', 'loss_function': 'MAE', 'eval_metric': 'MAE'}. Best is trial 502 with value: 5.916511005997932.\u001b[0m\n"
     ]
    },
    {
     "name": "stdout",
     "output_type": "stream",
     "text": [
      "MAE of Train: 5.920979454401825\n",
      "MAE of Validation: 5.927635307536779\n"
     ]
    },
    {
     "name": "stderr",
     "output_type": "stream",
     "text": [
      "\u001b[32m[I 2022-03-26 01:48:30,437]\u001b[0m Trial 556 finished with value: 5.953193215587403 and parameters: {'random_state': 519632, 'learning_rate': 0.09173040933523209, 'bagging_temperature': 2.748692045539852, 'max_depth': 4, 'random_strength': 49, 'l2_leaf_reg': 2.6092635906072727e-06, 'min_child_samples': 86, 'max_bin': 485, 'od_type': 'Iter', 'task_type': 'GPU', 'loss_function': 'MAE', 'eval_metric': 'MAE'}. Best is trial 502 with value: 5.916511005997932.\u001b[0m\n"
     ]
    },
    {
     "name": "stdout",
     "output_type": "stream",
     "text": [
      "MAE of Train: 5.948739561833747\n",
      "MAE of Validation: 5.953193215587403\n"
     ]
    },
    {
     "name": "stderr",
     "output_type": "stream",
     "text": [
      "\u001b[32m[I 2022-03-26 01:48:37,584]\u001b[0m Trial 557 finished with value: 5.950625335808147 and parameters: {'random_state': 519632, 'learning_rate': 0.12944074928080587, 'bagging_temperature': 7.141422685140903, 'max_depth': 6, 'random_strength': 36, 'l2_leaf_reg': 1.2724720302760058e-06, 'min_child_samples': 89, 'max_bin': 460, 'od_type': 'Iter', 'task_type': 'GPU', 'loss_function': 'MAE', 'eval_metric': 'MAE'}. Best is trial 502 with value: 5.916511005997932.\u001b[0m\n"
     ]
    },
    {
     "name": "stdout",
     "output_type": "stream",
     "text": [
      "MAE of Train: 5.926091840535918\n",
      "MAE of Validation: 5.950625335808147\n"
     ]
    },
    {
     "name": "stderr",
     "output_type": "stream",
     "text": [
      "\u001b[32m[I 2022-03-26 01:48:43,310]\u001b[0m Trial 558 finished with value: 5.929317054288078 and parameters: {'random_state': 519632, 'learning_rate': 0.08146178156810342, 'bagging_temperature': 1.636598898813816, 'max_depth': 5, 'random_strength': 52, 'l2_leaf_reg': 8.705057206018912e-07, 'min_child_samples': 7, 'max_bin': 470, 'od_type': 'Iter', 'task_type': 'GPU', 'loss_function': 'MAE', 'eval_metric': 'MAE'}. Best is trial 502 with value: 5.916511005997932.\u001b[0m\n"
     ]
    },
    {
     "name": "stdout",
     "output_type": "stream",
     "text": [
      "MAE of Train: 5.924059374533193\n",
      "MAE of Validation: 5.929317054288078\n"
     ]
    },
    {
     "name": "stderr",
     "output_type": "stream",
     "text": [
      "\u001b[32m[I 2022-03-26 01:48:50,592]\u001b[0m Trial 559 finished with value: 5.929729919735793 and parameters: {'random_state': 519632, 'learning_rate': 0.10801850670857428, 'bagging_temperature': 3.5212585150993605, 'max_depth': 7, 'random_strength': 55, 'l2_leaf_reg': 4.318513718735223e-06, 'min_child_samples': 83, 'max_bin': 453, 'od_type': 'Iter', 'task_type': 'GPU', 'loss_function': 'MAE', 'eval_metric': 'MAE'}. Best is trial 502 with value: 5.916511005997932.\u001b[0m\n"
     ]
    },
    {
     "name": "stdout",
     "output_type": "stream",
     "text": [
      "MAE of Train: 5.9143796023981965\n",
      "MAE of Validation: 5.929729919735793\n"
     ]
    },
    {
     "name": "stderr",
     "output_type": "stream",
     "text": [
      "\u001b[32m[I 2022-03-26 01:48:57,696]\u001b[0m Trial 560 finished with value: 5.925111076068561 and parameters: {'random_state': 519632, 'learning_rate': 0.09735630490355296, 'bagging_temperature': 4.791219484752503, 'max_depth': 5, 'random_strength': 51, 'l2_leaf_reg': 2.1392740820781703e-06, 'min_child_samples': 92, 'max_bin': 493, 'od_type': 'IncToDec', 'task_type': 'GPU', 'loss_function': 'MAE', 'eval_metric': 'MAE'}. Best is trial 502 with value: 5.916511005997932.\u001b[0m\n"
     ]
    },
    {
     "name": "stdout",
     "output_type": "stream",
     "text": [
      "MAE of Train: 5.914163676916441\n",
      "MAE of Validation: 5.925111076068561\n"
     ]
    },
    {
     "name": "stderr",
     "output_type": "stream",
     "text": [
      "\u001b[32m[I 2022-03-26 01:49:04,683]\u001b[0m Trial 561 finished with value: 5.960167134234834 and parameters: {'random_state': 519632, 'learning_rate': 0.006424049839704906, 'bagging_temperature': 4.043957865946922, 'max_depth': 5, 'random_strength': 41, 'l2_leaf_reg': 1.1221473165072886e-05, 'min_child_samples': 5, 'max_bin': 274, 'od_type': 'Iter', 'task_type': 'GPU', 'loss_function': 'MAE', 'eval_metric': 'MAE'}. Best is trial 502 with value: 5.916511005997932.\u001b[0m\n"
     ]
    },
    {
     "name": "stdout",
     "output_type": "stream",
     "text": [
      "MAE of Train: 5.954696874894748\n",
      "MAE of Validation: 5.960167134234834\n"
     ]
    },
    {
     "name": "stderr",
     "output_type": "stream",
     "text": [
      "\u001b[32m[I 2022-03-26 01:49:09,553]\u001b[0m Trial 562 finished with value: 5.939019727735075 and parameters: {'random_state': 519632, 'learning_rate': 0.06650777583665085, 'bagging_temperature': 2.3699946252280566, 'max_depth': 5, 'random_strength': 33, 'l2_leaf_reg': 3.0717797264934013e-06, 'min_child_samples': 88, 'max_bin': 463, 'od_type': 'Iter', 'task_type': 'GPU', 'loss_function': 'MAE', 'eval_metric': 'MAE'}. Best is trial 502 with value: 5.916511005997932.\u001b[0m\n"
     ]
    },
    {
     "name": "stdout",
     "output_type": "stream",
     "text": [
      "MAE of Train: 5.932738217774601\n",
      "MAE of Validation: 5.939019727735075\n"
     ]
    },
    {
     "name": "stderr",
     "output_type": "stream",
     "text": [
      "\u001b[32m[I 2022-03-26 01:49:16,582]\u001b[0m Trial 563 finished with value: 5.937109483299792 and parameters: {'random_state': 519632, 'learning_rate': 0.03713853310305808, 'bagging_temperature': 3.225329937876927, 'max_depth': 5, 'random_strength': 58, 'l2_leaf_reg': 2.7192541957386364e-07, 'min_child_samples': 90, 'max_bin': 500, 'od_type': 'Iter', 'task_type': 'GPU', 'loss_function': 'MAE', 'eval_metric': 'MAE'}. Best is trial 502 with value: 5.916511005997932.\u001b[0m\n"
     ]
    },
    {
     "name": "stdout",
     "output_type": "stream",
     "text": [
      "MAE of Train: 5.931685708709162\n",
      "MAE of Validation: 5.937109483299792\n"
     ]
    },
    {
     "name": "stderr",
     "output_type": "stream",
     "text": [
      "\u001b[32m[I 2022-03-26 01:49:21,100]\u001b[0m Trial 564 finished with value: 5.926572389457537 and parameters: {'random_state': 519632, 'learning_rate': 0.2980556704450225, 'bagging_temperature': 4.262163252912367, 'max_depth': 5, 'random_strength': 47, 'l2_leaf_reg': 1.43217690280463e-06, 'min_child_samples': 50, 'max_bin': 445, 'od_type': 'Iter', 'task_type': 'GPU', 'loss_function': 'MAE', 'eval_metric': 'MAE'}. Best is trial 502 with value: 5.916511005997932.\u001b[0m\n"
     ]
    },
    {
     "name": "stdout",
     "output_type": "stream",
     "text": [
      "MAE of Train: 5.914350644296084\n",
      "MAE of Validation: 5.926572389457537\n"
     ]
    },
    {
     "name": "stderr",
     "output_type": "stream",
     "text": [
      "\u001b[32m[I 2022-03-26 01:49:27,556]\u001b[0m Trial 565 finished with value: 5.962694821909049 and parameters: {'random_state': 519632, 'learning_rate': 0.11872709744292248, 'bagging_temperature': 11.307862746684316, 'max_depth': 5, 'random_strength': 45, 'l2_leaf_reg': 2.3461672904871924e-06, 'min_child_samples': 85, 'max_bin': 437, 'od_type': 'Iter', 'task_type': 'GPU', 'loss_function': 'MAE', 'eval_metric': 'MAE'}. Best is trial 502 with value: 5.916511005997932.\u001b[0m\n"
     ]
    },
    {
     "name": "stdout",
     "output_type": "stream",
     "text": [
      "MAE of Train: 5.949625553417889\n",
      "MAE of Validation: 5.962694821909049\n"
     ]
    },
    {
     "name": "stderr",
     "output_type": "stream",
     "text": [
      "\u001b[32m[I 2022-03-26 01:49:34,795]\u001b[0m Trial 566 finished with value: 5.9212178207020525 and parameters: {'random_state': 519632, 'learning_rate': 0.08590636972197108, 'bagging_temperature': 2.670580086487661, 'max_depth': 5, 'random_strength': 53, 'l2_leaf_reg': 1.6682304864536673e-06, 'min_child_samples': 77, 'max_bin': 355, 'od_type': 'IncToDec', 'task_type': 'GPU', 'loss_function': 'MAE', 'eval_metric': 'MAE'}. Best is trial 502 with value: 5.916511005997932.\u001b[0m\n"
     ]
    },
    {
     "name": "stdout",
     "output_type": "stream",
     "text": [
      "MAE of Train: 5.914721922572951\n",
      "MAE of Validation: 5.9212178207020525\n"
     ]
    },
    {
     "name": "stderr",
     "output_type": "stream",
     "text": [
      "\u001b[32m[I 2022-03-26 01:49:42,178]\u001b[0m Trial 567 finished with value: 5.919130480223621 and parameters: {'random_state': 519632, 'learning_rate': 0.13688894945794158, 'bagging_temperature': 3.5039539621456472, 'max_depth': 5, 'random_strength': 50, 'l2_leaf_reg': 1.085244157434412e-06, 'min_child_samples': 81, 'max_bin': 473, 'od_type': 'Iter', 'task_type': 'GPU', 'loss_function': 'MAE', 'eval_metric': 'MAE'}. Best is trial 502 with value: 5.916511005997932.\u001b[0m\n"
     ]
    },
    {
     "name": "stdout",
     "output_type": "stream",
     "text": [
      "MAE of Train: 5.909430598074683\n",
      "MAE of Validation: 5.919130480223621\n"
     ]
    },
    {
     "name": "stderr",
     "output_type": "stream",
     "text": [
      "\u001b[32m[I 2022-03-26 01:49:47,899]\u001b[0m Trial 568 finished with value: 5.931390578144245 and parameters: {'random_state': 519632, 'learning_rate': 0.13603453569545523, 'bagging_temperature': 5.277795192980521, 'max_depth': 6, 'random_strength': 49, 'l2_leaf_reg': 4.149751213108812e-07, 'min_child_samples': 83, 'max_bin': 475, 'od_type': 'Iter', 'task_type': 'GPU', 'loss_function': 'MAE', 'eval_metric': 'MAE'}. Best is trial 502 with value: 5.916511005997932.\u001b[0m\n"
     ]
    },
    {
     "name": "stdout",
     "output_type": "stream",
     "text": [
      "MAE of Train: 5.912622421941887\n",
      "MAE of Validation: 5.931390578144245\n"
     ]
    },
    {
     "name": "stderr",
     "output_type": "stream",
     "text": [
      "\u001b[32m[I 2022-03-26 01:49:54,064]\u001b[0m Trial 569 finished with value: 5.922319980467412 and parameters: {'random_state': 519632, 'learning_rate': 0.14325648966794624, 'bagging_temperature': 3.5921824985702755, 'max_depth': 5, 'random_strength': 72, 'l2_leaf_reg': 1.0331043425024987e-06, 'min_child_samples': 82, 'max_bin': 482, 'od_type': 'Iter', 'task_type': 'GPU', 'loss_function': 'MAE', 'eval_metric': 'MAE'}. Best is trial 502 with value: 5.916511005997932.\u001b[0m\n"
     ]
    },
    {
     "name": "stdout",
     "output_type": "stream",
     "text": [
      "MAE of Train: 5.913584433184322\n",
      "MAE of Validation: 5.922319980467412\n"
     ]
    },
    {
     "name": "stderr",
     "output_type": "stream",
     "text": [
      "\u001b[32m[I 2022-03-26 01:50:01,280]\u001b[0m Trial 570 finished with value: 5.923397798803037 and parameters: {'random_state': 519632, 'learning_rate': 0.11779366630109735, 'bagging_temperature': 4.20733431186433, 'max_depth': 5, 'random_strength': 50, 'l2_leaf_reg': 3.8461578331016553e-08, 'min_child_samples': 81, 'max_bin': 472, 'od_type': 'Iter', 'task_type': 'GPU', 'loss_function': 'MAE', 'eval_metric': 'MAE'}. Best is trial 502 with value: 5.916511005997932.\u001b[0m\n"
     ]
    },
    {
     "name": "stdout",
     "output_type": "stream",
     "text": [
      "MAE of Train: 5.91208542278489\n",
      "MAE of Validation: 5.923397798803037\n"
     ]
    },
    {
     "name": "stderr",
     "output_type": "stream",
     "text": [
      "\u001b[32m[I 2022-03-26 01:50:08,224]\u001b[0m Trial 571 finished with value: 5.927410719444136 and parameters: {'random_state': 519632, 'learning_rate': 0.10176019172773557, 'bagging_temperature': 3.03846964869888, 'max_depth': 5, 'random_strength': 47, 'l2_leaf_reg': 1.8661266447050464e-06, 'min_child_samples': 79, 'max_bin': 469, 'od_type': 'Iter', 'task_type': 'GPU', 'loss_function': 'MAE', 'eval_metric': 'MAE'}. Best is trial 502 with value: 5.916511005997932.\u001b[0m\n"
     ]
    },
    {
     "name": "stdout",
     "output_type": "stream",
     "text": [
      "MAE of Train: 5.919749341309799\n",
      "MAE of Validation: 5.927410719444136\n"
     ]
    },
    {
     "name": "stderr",
     "output_type": "stream",
     "text": [
      "\u001b[32m[I 2022-03-26 01:50:13,068]\u001b[0m Trial 572 finished with value: 5.946218028627286 and parameters: {'random_state': 519632, 'learning_rate': 0.13237470032205703, 'bagging_temperature': 6.472783673528681, 'max_depth': 5, 'random_strength': 51, 'l2_leaf_reg': 1.4594573296615495e-05, 'min_child_samples': 80, 'max_bin': 479, 'od_type': 'IncToDec', 'task_type': 'GPU', 'loss_function': 'MAE', 'eval_metric': 'MAE'}. Best is trial 502 with value: 5.916511005997932.\u001b[0m\n"
     ]
    },
    {
     "name": "stdout",
     "output_type": "stream",
     "text": [
      "MAE of Train: 5.935712420477845\n",
      "MAE of Validation: 5.946218028627286\n"
     ]
    },
    {
     "name": "stderr",
     "output_type": "stream",
     "text": [
      "\u001b[32m[I 2022-03-26 01:50:20,155]\u001b[0m Trial 573 finished with value: 5.926733052124524 and parameters: {'random_state': 519632, 'learning_rate': 0.07539751925456624, 'bagging_temperature': 4.93777777075482, 'max_depth': 5, 'random_strength': 48, 'l2_leaf_reg': 7.576907937796192e-07, 'min_child_samples': 85, 'max_bin': 466, 'od_type': 'Iter', 'task_type': 'GPU', 'loss_function': 'MAE', 'eval_metric': 'MAE'}. Best is trial 502 with value: 5.916511005997932.\u001b[0m\n"
     ]
    },
    {
     "name": "stdout",
     "output_type": "stream",
     "text": [
      "MAE of Train: 5.916941316036125\n",
      "MAE of Validation: 5.926733052124524\n"
     ]
    },
    {
     "name": "stderr",
     "output_type": "stream",
     "text": [
      "\u001b[32m[I 2022-03-26 01:50:27,320]\u001b[0m Trial 574 finished with value: 5.922456959638855 and parameters: {'random_state': 519632, 'learning_rate': 0.10957459219470855, 'bagging_temperature': 3.6560819683936865, 'max_depth': 5, 'random_strength': 44, 'l2_leaf_reg': 1.3420861559011798e-06, 'min_child_samples': 85, 'max_bin': 487, 'od_type': 'Iter', 'task_type': 'GPU', 'loss_function': 'MAE', 'eval_metric': 'MAE'}. Best is trial 502 with value: 5.916511005997932.\u001b[0m\n"
     ]
    },
    {
     "name": "stdout",
     "output_type": "stream",
     "text": [
      "MAE of Train: 5.915009917427456\n",
      "MAE of Validation: 5.922456959638855\n"
     ]
    },
    {
     "name": "stderr",
     "output_type": "stream",
     "text": [
      "\u001b[32m[I 2022-03-26 01:50:33,678]\u001b[0m Trial 575 finished with value: 5.93422934630827 and parameters: {'random_state': 519632, 'learning_rate': 0.05563859299257465, 'bagging_temperature': 2.0352063434560246, 'max_depth': 5, 'random_strength': 38, 'l2_leaf_reg': 2.6147361480057657e-06, 'min_child_samples': 55, 'max_bin': 461, 'od_type': 'Iter', 'task_type': 'GPU', 'loss_function': 'MAE', 'eval_metric': 'MAE'}. Best is trial 502 with value: 5.916511005997932.\u001b[0m\n"
     ]
    },
    {
     "name": "stdout",
     "output_type": "stream",
     "text": [
      "MAE of Train: 5.928559540353158\n",
      "MAE of Validation: 5.93422934630827\n"
     ]
    },
    {
     "name": "stderr",
     "output_type": "stream",
     "text": [
      "\u001b[32m[I 2022-03-26 01:50:40,299]\u001b[0m Trial 576 finished with value: 5.955391349626648 and parameters: {'random_state': 519632, 'learning_rate': 0.08974836584452255, 'bagging_temperature': 8.863589986271757, 'max_depth': 5, 'random_strength': 51, 'l2_leaf_reg': 6.779068899449733e-07, 'min_child_samples': 10, 'max_bin': 456, 'od_type': 'Iter', 'task_type': 'GPU', 'loss_function': 'MAE', 'eval_metric': 'MAE'}. Best is trial 502 with value: 5.916511005997932.\u001b[0m\n"
     ]
    },
    {
     "name": "stdout",
     "output_type": "stream",
     "text": [
      "MAE of Train: 5.9428741710611295\n",
      "MAE of Validation: 5.955391349626648\n"
     ]
    },
    {
     "name": "stderr",
     "output_type": "stream",
     "text": [
      "\u001b[32m[I 2022-03-26 01:50:46,030]\u001b[0m Trial 577 finished with value: 5.925029359063709 and parameters: {'random_state': 519632, 'learning_rate': 0.14424433876333914, 'bagging_temperature': 3.0511663029072644, 'max_depth': 5, 'random_strength': 42, 'l2_leaf_reg': 1.0797592453452701e-05, 'min_child_samples': 81, 'max_bin': 476, 'od_type': 'Iter', 'task_type': 'GPU', 'loss_function': 'MAE', 'eval_metric': 'MAE'}. Best is trial 502 with value: 5.916511005997932.\u001b[0m\n"
     ]
    },
    {
     "name": "stdout",
     "output_type": "stream",
     "text": [
      "MAE of Train: 5.919353771929581\n",
      "MAE of Validation: 5.925029359063709\n"
     ]
    },
    {
     "name": "stderr",
     "output_type": "stream",
     "text": [
      "\u001b[32m[I 2022-03-26 01:50:53,213]\u001b[0m Trial 578 finished with value: 5.923050856380313 and parameters: {'random_state': 519632, 'learning_rate': 0.09705989197533302, 'bagging_temperature': 4.2995343047928225, 'max_depth': 5, 'random_strength': 53, 'l2_leaf_reg': 1.8674562387588532e-06, 'min_child_samples': 77, 'max_bin': 473, 'od_type': 'IncToDec', 'task_type': 'GPU', 'loss_function': 'MAE', 'eval_metric': 'MAE'}. Best is trial 502 with value: 5.916511005997932.\u001b[0m\n"
     ]
    },
    {
     "name": "stdout",
     "output_type": "stream",
     "text": [
      "MAE of Train: 5.911256911937241\n",
      "MAE of Validation: 5.923050856380313\n"
     ]
    },
    {
     "name": "stderr",
     "output_type": "stream",
     "text": [
      "\u001b[32m[I 2022-03-26 01:50:57,594]\u001b[0m Trial 579 finished with value: 5.943752213854902 and parameters: {'random_state': 519632, 'learning_rate': 0.11939502040133289, 'bagging_temperature': 2.5560480318963203, 'max_depth': 4, 'random_strength': 49, 'l2_leaf_reg': 1.544683433491268e-05, 'min_child_samples': 7, 'max_bin': 465, 'od_type': 'Iter', 'task_type': 'GPU', 'loss_function': 'MAE', 'eval_metric': 'MAE'}. Best is trial 502 with value: 5.916511005997932.\u001b[0m\n"
     ]
    },
    {
     "name": "stdout",
     "output_type": "stream",
     "text": [
      "MAE of Train: 5.940172361031268\n",
      "MAE of Validation: 5.943752213854902\n"
     ]
    },
    {
     "name": "stderr",
     "output_type": "stream",
     "text": [
      "\u001b[32m[I 2022-03-26 01:51:05,276]\u001b[0m Trial 580 finished with value: 5.939637431633307 and parameters: {'random_state': 519632, 'learning_rate': 0.015067164899842934, 'bagging_temperature': 3.6259996822854075, 'max_depth': 6, 'random_strength': 46, 'l2_leaf_reg': 1.3083551940114086e-06, 'min_child_samples': 75, 'max_bin': 456, 'od_type': 'Iter', 'task_type': 'GPU', 'loss_function': 'MAE', 'eval_metric': 'MAE'}. Best is trial 502 with value: 5.916511005997932.\u001b[0m\n"
     ]
    },
    {
     "name": "stdout",
     "output_type": "stream",
     "text": [
      "MAE of Train: 5.933610470122067\n",
      "MAE of Validation: 5.939637431633307\n"
     ]
    },
    {
     "name": "stderr",
     "output_type": "stream",
     "text": [
      "\u001b[32m[I 2022-03-26 01:51:12,307]\u001b[0m Trial 581 finished with value: 5.930088064471395 and parameters: {'random_state': 519632, 'learning_rate': 0.07927187450493876, 'bagging_temperature': 5.421998288823377, 'max_depth': 5, 'random_strength': 36, 'l2_leaf_reg': 2.304782398529859e-05, 'min_child_samples': 87, 'max_bin': 449, 'od_type': 'Iter', 'task_type': 'GPU', 'loss_function': 'MAE', 'eval_metric': 'MAE'}. Best is trial 502 with value: 5.916511005997932.\u001b[0m\n"
     ]
    },
    {
     "name": "stdout",
     "output_type": "stream",
     "text": [
      "MAE of Train: 5.919313165266925\n",
      "MAE of Validation: 5.930088064471395\n"
     ]
    },
    {
     "name": "stderr",
     "output_type": "stream",
     "text": [
      "\u001b[32m[I 2022-03-26 01:51:19,597]\u001b[0m Trial 582 finished with value: 5.9219522305732095 and parameters: {'random_state': 519632, 'learning_rate': 0.06592859931444543, 'bagging_temperature': 2.8644968977803167, 'max_depth': 5, 'random_strength': 40, 'l2_leaf_reg': 5.4293337242902085e-06, 'min_child_samples': 84, 'max_bin': 483, 'od_type': 'Iter', 'task_type': 'GPU', 'loss_function': 'MAE', 'eval_metric': 'MAE'}. Best is trial 502 with value: 5.916511005997932.\u001b[0m\n"
     ]
    },
    {
     "name": "stdout",
     "output_type": "stream",
     "text": [
      "MAE of Train: 5.916191635944358\n",
      "MAE of Validation: 5.9219522305732095\n"
     ]
    },
    {
     "name": "stderr",
     "output_type": "stream",
     "text": [
      "\u001b[32m[I 2022-03-26 01:51:24,983]\u001b[0m Trial 583 finished with value: 5.930850026069968 and parameters: {'random_state': 519632, 'learning_rate': 0.10481088434190676, 'bagging_temperature': 2.2658582711354303, 'max_depth': 5, 'random_strength': 48, 'l2_leaf_reg': 3.0193218757271798e-06, 'min_child_samples': 93, 'max_bin': 467, 'od_type': 'IncToDec', 'task_type': 'GPU', 'loss_function': 'MAE', 'eval_metric': 'MAE'}. Best is trial 502 with value: 5.916511005997932.\u001b[0m\n"
     ]
    },
    {
     "name": "stdout",
     "output_type": "stream",
     "text": [
      "MAE of Train: 5.925187555104401\n",
      "MAE of Validation: 5.930850026069968\n"
     ]
    },
    {
     "name": "stderr",
     "output_type": "stream",
     "text": [
      "\u001b[32m[I 2022-03-26 01:51:32,315]\u001b[0m Trial 584 finished with value: 5.922112386571973 and parameters: {'random_state': 519632, 'learning_rate': 0.08699655044459695, 'bagging_temperature': 3.4637291531598255, 'max_depth': 5, 'random_strength': 54, 'l2_leaf_reg': 1.0039433879760172e-05, 'min_child_samples': 91, 'max_bin': 456, 'od_type': 'Iter', 'task_type': 'GPU', 'loss_function': 'MAE', 'eval_metric': 'MAE'}. Best is trial 502 with value: 5.916511005997932.\u001b[0m\n"
     ]
    },
    {
     "name": "stdout",
     "output_type": "stream",
     "text": [
      "MAE of Train: 5.913897528142661\n",
      "MAE of Validation: 5.922112386571973\n"
     ]
    },
    {
     "name": "stderr",
     "output_type": "stream",
     "text": [
      "\u001b[32m[I 2022-03-26 01:51:39,503]\u001b[0m Trial 585 finished with value: 5.924521350394128 and parameters: {'random_state': 519632, 'learning_rate': 0.1299704903358807, 'bagging_temperature': 4.5626283831775005, 'max_depth': 5, 'random_strength': 44, 'l2_leaf_reg': 6.655647221888191e-07, 'min_child_samples': 8, 'max_bin': 492, 'od_type': 'Iter', 'task_type': 'GPU', 'loss_function': 'MAE', 'eval_metric': 'MAE'}. Best is trial 502 with value: 5.916511005997932.\u001b[0m\n"
     ]
    },
    {
     "name": "stdout",
     "output_type": "stream",
     "text": [
      "MAE of Train: 5.912611735051443\n",
      "MAE of Validation: 5.924521350394128\n"
     ]
    },
    {
     "name": "stderr",
     "output_type": "stream",
     "text": [
      "\u001b[32m[I 2022-03-26 01:51:44,082]\u001b[0m Trial 586 finished with value: 5.928461035896134 and parameters: {'random_state': 519632, 'learning_rate': 0.16170646833917862, 'bagging_temperature': 3.763616786730959, 'max_depth': 5, 'random_strength': 51, 'l2_leaf_reg': 1.2456105007570318e-05, 'min_child_samples': 9, 'max_bin': 460, 'od_type': 'Iter', 'task_type': 'GPU', 'loss_function': 'MAE', 'eval_metric': 'MAE'}. Best is trial 502 with value: 5.916511005997932.\u001b[0m\n"
     ]
    },
    {
     "name": "stdout",
     "output_type": "stream",
     "text": [
      "MAE of Train: 5.92059042611482\n",
      "MAE of Validation: 5.928461035896134\n"
     ]
    },
    {
     "name": "stderr",
     "output_type": "stream",
     "text": [
      "\u001b[32m[I 2022-03-26 01:51:47,808]\u001b[0m Trial 587 finished with value: 5.934667950874716 and parameters: {'random_state': 519632, 'learning_rate': 0.11069111327626376, 'bagging_temperature': 2.8070082448613443, 'max_depth': 6, 'random_strength': 42, 'l2_leaf_reg': 2.052324149830942e-06, 'min_child_samples': 60, 'max_bin': 399, 'od_type': 'Iter', 'task_type': 'GPU', 'loss_function': 'MAE', 'eval_metric': 'MAE'}. Best is trial 502 with value: 5.916511005997932.\u001b[0m\n"
     ]
    },
    {
     "name": "stdout",
     "output_type": "stream",
     "text": [
      "MAE of Train: 5.928108033648849\n",
      "MAE of Validation: 5.934667950874716\n"
     ]
    },
    {
     "name": "stderr",
     "output_type": "stream",
     "text": [
      "\u001b[32m[I 2022-03-26 01:51:55,038]\u001b[0m Trial 588 finished with value: 5.919899998314581 and parameters: {'random_state': 519632, 'learning_rate': 0.06000277620457245, 'bagging_temperature': 3.2756095816211377, 'max_depth': 5, 'random_strength': 13, 'l2_leaf_reg': 1.3916406279225595e-06, 'min_child_samples': 87, 'max_bin': 382, 'od_type': 'IncToDec', 'task_type': 'GPU', 'loss_function': 'MAE', 'eval_metric': 'MAE'}. Best is trial 502 with value: 5.916511005997932.\u001b[0m\n"
     ]
    },
    {
     "name": "stdout",
     "output_type": "stream",
     "text": [
      "MAE of Train: 5.91476142873945\n",
      "MAE of Validation: 5.919899998314581\n"
     ]
    },
    {
     "name": "stderr",
     "output_type": "stream",
     "text": [
      "\u001b[32m[I 2022-03-26 01:52:01,023]\u001b[0m Trial 589 finished with value: 5.9324372447086064 and parameters: {'random_state': 519632, 'learning_rate': 0.05701096818293552, 'bagging_temperature': 1.8368032988005099, 'max_depth': 5, 'random_strength': 22, 'l2_leaf_reg': 2.888743613063472e-06, 'min_child_samples': 86, 'max_bin': 427, 'od_type': 'Iter', 'task_type': 'GPU', 'loss_function': 'MAE', 'eval_metric': 'MAE'}. Best is trial 502 with value: 5.916511005997932.\u001b[0m\n"
     ]
    },
    {
     "name": "stdout",
     "output_type": "stream",
     "text": [
      "MAE of Train: 5.9267341469584105\n",
      "MAE of Validation: 5.9324372447086064\n"
     ]
    },
    {
     "name": "stderr",
     "output_type": "stream",
     "text": [
      "\u001b[32m[I 2022-03-26 01:52:08,026]\u001b[0m Trial 590 finished with value: 5.935994871930292 and parameters: {'random_state': 519632, 'learning_rate': 0.046033852626280305, 'bagging_temperature': 2.254979757778772, 'max_depth': 5, 'random_strength': 15, 'l2_leaf_reg': 2.1525073856294854e-06, 'min_child_samples': 83, 'max_bin': 414, 'od_type': 'Iter', 'task_type': 'GPU', 'loss_function': 'MAE', 'eval_metric': 'MAE'}. Best is trial 502 with value: 5.916511005997932.\u001b[0m\n"
     ]
    },
    {
     "name": "stdout",
     "output_type": "stream",
     "text": [
      "MAE of Train: 5.930940556036502\n",
      "MAE of Validation: 5.935994871930292\n"
     ]
    },
    {
     "name": "stderr",
     "output_type": "stream",
     "text": [
      "\u001b[32m[I 2022-03-26 01:52:12,767]\u001b[0m Trial 591 finished with value: 5.934269537772193 and parameters: {'random_state': 519632, 'learning_rate': 0.06657024451513016, 'bagging_temperature': 3.1721906612305246, 'max_depth': 5, 'random_strength': 50, 'l2_leaf_reg': 1.4321323494148187e-06, 'min_child_samples': 86, 'max_bin': 334, 'od_type': 'Iter', 'task_type': 'GPU', 'loss_function': 'MAE', 'eval_metric': 'MAE'}. Best is trial 502 with value: 5.916511005997932.\u001b[0m\n"
     ]
    },
    {
     "name": "stdout",
     "output_type": "stream",
     "text": [
      "MAE of Train: 5.9296164440312396\n",
      "MAE of Validation: 5.934269537772193\n"
     ]
    },
    {
     "name": "stderr",
     "output_type": "stream",
     "text": [
      "\u001b[32m[I 2022-03-26 01:52:19,486]\u001b[0m Trial 592 finished with value: 5.9250851412078935 and parameters: {'random_state': 519632, 'learning_rate': 0.05770280198293555, 'bagging_temperature': 2.4785123836148832, 'max_depth': 5, 'random_strength': 18, 'l2_leaf_reg': 9.671887042531289e-06, 'min_child_samples': 84, 'max_bin': 370, 'od_type': 'Iter', 'task_type': 'GPU', 'loss_function': 'MAE', 'eval_metric': 'MAE'}. Best is trial 502 with value: 5.916511005997932.\u001b[0m\n"
     ]
    },
    {
     "name": "stdout",
     "output_type": "stream",
     "text": [
      "MAE of Train: 5.919163842818482\n",
      "MAE of Validation: 5.9250851412078935\n"
     ]
    },
    {
     "name": "stderr",
     "output_type": "stream",
     "text": [
      "\u001b[32m[I 2022-03-26 01:52:25,256]\u001b[0m Trial 593 finished with value: 5.936764904053051 and parameters: {'random_state': 519632, 'learning_rate': 0.07105108579575536, 'bagging_temperature': 3.128573579032674, 'max_depth': 5, 'random_strength': 8, 'l2_leaf_reg': 2.4921320497755264e-06, 'min_child_samples': 11, 'max_bin': 379, 'od_type': 'IncToDec', 'task_type': 'GPU', 'loss_function': 'MAE', 'eval_metric': 'MAE'}. Best is trial 502 with value: 5.916511005997932.\u001b[0m\n"
     ]
    },
    {
     "name": "stdout",
     "output_type": "stream",
     "text": [
      "MAE of Train: 5.931967167061155\n",
      "MAE of Validation: 5.936764904053051\n"
     ]
    },
    {
     "name": "stderr",
     "output_type": "stream",
     "text": [
      "\u001b[32m[I 2022-03-26 01:52:32,579]\u001b[0m Trial 594 finished with value: 5.9238994621884595 and parameters: {'random_state': 519632, 'learning_rate': 0.07532269048369211, 'bagging_temperature': 2.6739134670361073, 'max_depth': 5, 'random_strength': 54, 'l2_leaf_reg': 1.382257371645225e-05, 'min_child_samples': 5, 'max_bin': 348, 'od_type': 'Iter', 'task_type': 'GPU', 'loss_function': 'MAE', 'eval_metric': 'MAE'}. Best is trial 502 with value: 5.916511005997932.\u001b[0m\n"
     ]
    },
    {
     "name": "stdout",
     "output_type": "stream",
     "text": [
      "MAE of Train: 5.917304831538125\n",
      "MAE of Validation: 5.9238994621884595\n"
     ]
    },
    {
     "name": "stderr",
     "output_type": "stream",
     "text": [
      "\u001b[32m[I 2022-03-26 01:52:39,436]\u001b[0m Trial 595 finished with value: 5.931239032077262 and parameters: {'random_state': 519632, 'learning_rate': 0.04750748852050092, 'bagging_temperature': 3.435797688190686, 'max_depth': 4, 'random_strength': 23, 'l2_leaf_reg': 2.3815963098262065e-05, 'min_child_samples': 88, 'max_bin': 323, 'od_type': 'Iter', 'task_type': 'GPU', 'loss_function': 'MAE', 'eval_metric': 'MAE'}. Best is trial 502 with value: 5.916511005997932.\u001b[0m\n"
     ]
    },
    {
     "name": "stdout",
     "output_type": "stream",
     "text": [
      "MAE of Train: 5.927481777858985\n",
      "MAE of Validation: 5.931239032077262\n"
     ]
    },
    {
     "name": "stderr",
     "output_type": "stream",
     "text": [
      "\u001b[32m[I 2022-03-26 01:52:46,525]\u001b[0m Trial 596 finished with value: 5.924468595851703 and parameters: {'random_state': 519632, 'learning_rate': 0.08453315792028149, 'bagging_temperature': 4.713342572440261, 'max_depth': 5, 'random_strength': 46, 'l2_leaf_reg': 1.1630072789246392e-05, 'min_child_samples': 7, 'max_bin': 442, 'od_type': 'Iter', 'task_type': 'GPU', 'loss_function': 'MAE', 'eval_metric': 'MAE'}. Best is trial 502 with value: 5.916511005997932.\u001b[0m\n"
     ]
    },
    {
     "name": "stdout",
     "output_type": "stream",
     "text": [
      "MAE of Train: 5.9136222136741\n",
      "MAE of Validation: 5.924468595851703\n"
     ]
    },
    {
     "name": "stderr",
     "output_type": "stream",
     "text": [
      "\u001b[32m[I 2022-03-26 01:52:50,242]\u001b[0m Trial 597 finished with value: 5.935365212803319 and parameters: {'random_state': 519632, 'learning_rate': 0.06127178892161264, 'bagging_temperature': 1.9631753755573011, 'max_depth': 5, 'random_strength': 25, 'l2_leaf_reg': 1.2293186682352545e-06, 'min_child_samples': 9, 'max_bin': 406, 'od_type': 'Iter', 'task_type': 'GPU', 'loss_function': 'MAE', 'eval_metric': 'MAE'}. Best is trial 502 with value: 5.916511005997932.\u001b[0m\n"
     ]
    },
    {
     "name": "stdout",
     "output_type": "stream",
     "text": [
      "MAE of Train: 5.929744875947427\n",
      "MAE of Validation: 5.935365212803319\n"
     ]
    },
    {
     "name": "stderr",
     "output_type": "stream",
     "text": [
      "\u001b[32m[I 2022-03-26 01:52:57,152]\u001b[0m Trial 598 finished with value: 5.926022084682186 and parameters: {'random_state': 519632, 'learning_rate': 0.07278253497649922, 'bagging_temperature': 1.517633565495885, 'max_depth': 6, 'random_strength': 52, 'l2_leaf_reg': 1.0678964889807371e-05, 'min_child_samples': 73, 'max_bin': 392, 'od_type': 'IncToDec', 'task_type': 'GPU', 'loss_function': 'MAE', 'eval_metric': 'MAE'}. Best is trial 502 with value: 5.916511005997932.\u001b[0m\n"
     ]
    },
    {
     "name": "stdout",
     "output_type": "stream",
     "text": [
      "MAE of Train: 5.917863905506125\n",
      "MAE of Validation: 5.926022084682186\n"
     ]
    },
    {
     "name": "stderr",
     "output_type": "stream",
     "text": [
      "\u001b[32m[I 2022-03-26 01:53:04,397]\u001b[0m Trial 599 finished with value: 5.923445517512233 and parameters: {'random_state': 519632, 'learning_rate': 0.08990646538890901, 'bagging_temperature': 2.8111548518474416, 'max_depth': 5, 'random_strength': 48, 'l2_leaf_reg': 1.7655276016454348e-06, 'min_child_samples': 81, 'max_bin': 449, 'od_type': 'Iter', 'task_type': 'GPU', 'loss_function': 'MAE', 'eval_metric': 'MAE'}. Best is trial 502 with value: 5.916511005997932.\u001b[0m\n"
     ]
    },
    {
     "name": "stdout",
     "output_type": "stream",
     "text": [
      "MAE of Train: 5.917868485644767\n",
      "MAE of Validation: 5.923445517512233\n"
     ]
    },
    {
     "name": "stderr",
     "output_type": "stream",
     "text": [
      "\u001b[32m[I 2022-03-26 01:53:11,704]\u001b[0m Trial 600 finished with value: 5.920143529743787 and parameters: {'random_state': 519632, 'learning_rate': 0.09186542511469485, 'bagging_temperature': 3.911794643777132, 'max_depth': 5, 'random_strength': 50, 'l2_leaf_reg': 8.518342434339679e-06, 'min_child_samples': 47, 'max_bin': 469, 'od_type': 'Iter', 'task_type': 'GPU', 'loss_function': 'MAE', 'eval_metric': 'MAE'}. Best is trial 502 with value: 5.916511005997932.\u001b[0m\n"
     ]
    },
    {
     "name": "stdout",
     "output_type": "stream",
     "text": [
      "MAE of Train: 5.910008789607789\n",
      "MAE of Validation: 5.920143529743787\n"
     ]
    },
    {
     "name": "stderr",
     "output_type": "stream",
     "text": [
      "\u001b[32m[I 2022-03-26 01:53:18,678]\u001b[0m Trial 601 finished with value: 5.933275448157954 and parameters: {'random_state': 519632, 'learning_rate': 0.06167960489025747, 'bagging_temperature': 5.853587365647683, 'max_depth': 5, 'random_strength': 6, 'l2_leaf_reg': 7.439969383574582e-06, 'min_child_samples': 44, 'max_bin': 380, 'od_type': 'Iter', 'task_type': 'GPU', 'loss_function': 'MAE', 'eval_metric': 'MAE'}. Best is trial 502 with value: 5.916511005997932.\u001b[0m\n"
     ]
    },
    {
     "name": "stdout",
     "output_type": "stream",
     "text": [
      "MAE of Train: 5.924199102171658\n",
      "MAE of Validation: 5.933275448157954\n"
     ]
    },
    {
     "name": "stderr",
     "output_type": "stream",
     "text": [
      "\u001b[32m[I 2022-03-26 01:53:25,961]\u001b[0m Trial 602 finished with value: 5.921661817034859 and parameters: {'random_state': 519632, 'learning_rate': 0.077123658725098, 'bagging_temperature': 3.970632419176229, 'max_depth': 5, 'random_strength': 56, 'l2_leaf_reg': 8.266798285603179e-06, 'min_child_samples': 45, 'max_bin': 471, 'od_type': 'Iter', 'task_type': 'GPU', 'loss_function': 'MAE', 'eval_metric': 'MAE'}. Best is trial 502 with value: 5.916511005997932.\u001b[0m\n"
     ]
    },
    {
     "name": "stdout",
     "output_type": "stream",
     "text": [
      "MAE of Train: 5.912349822356136\n",
      "MAE of Validation: 5.921661817034859\n"
     ]
    },
    {
     "name": "stderr",
     "output_type": "stream",
     "text": [
      "\u001b[32m[I 2022-03-26 01:53:32,898]\u001b[0m Trial 603 finished with value: 5.921741647628725 and parameters: {'random_state': 519632, 'learning_rate': 0.08678397789807597, 'bagging_temperature': 4.427074642986017, 'max_depth': 4, 'random_strength': 53, 'l2_leaf_reg': 6.875756342025912e-06, 'min_child_samples': 43, 'max_bin': 464, 'od_type': 'Iter', 'task_type': 'GPU', 'loss_function': 'MAE', 'eval_metric': 'MAE'}. Best is trial 502 with value: 5.916511005997932.\u001b[0m\n"
     ]
    },
    {
     "name": "stdout",
     "output_type": "stream",
     "text": [
      "MAE of Train: 5.916531665766521\n",
      "MAE of Validation: 5.921741647628725\n"
     ]
    },
    {
     "name": "stderr",
     "output_type": "stream",
     "text": [
      "\u001b[32m[I 2022-03-26 01:53:40,084]\u001b[0m Trial 604 finished with value: 5.921681686384748 and parameters: {'random_state': 519632, 'learning_rate': 0.0931953078104145, 'bagging_temperature': 3.6437616774353057, 'max_depth': 5, 'random_strength': 51, 'l2_leaf_reg': 3.5339329533674325e-06, 'min_child_samples': 47, 'max_bin': 384, 'od_type': 'IncToDec', 'task_type': 'GPU', 'loss_function': 'MAE', 'eval_metric': 'MAE'}. Best is trial 502 with value: 5.916511005997932.\u001b[0m\n"
     ]
    },
    {
     "name": "stdout",
     "output_type": "stream",
     "text": [
      "MAE of Train: 5.913986771181588\n",
      "MAE of Validation: 5.921681686384748\n"
     ]
    },
    {
     "name": "stderr",
     "output_type": "stream",
     "text": [
      "\u001b[32m[I 2022-03-26 01:53:44,245]\u001b[0m Trial 605 finished with value: 5.940412315751869 and parameters: {'random_state': 519632, 'learning_rate': 0.07393176554981071, 'bagging_temperature': 0.02001736480659458, 'max_depth': 5, 'random_strength': 55, 'l2_leaf_reg': 8.924700717816722e-06, 'min_child_samples': 15, 'max_bin': 474, 'od_type': 'Iter', 'task_type': 'GPU', 'loss_function': 'MAE', 'eval_metric': 'MAE'}. Best is trial 502 with value: 5.916511005997932.\u001b[0m\n"
     ]
    },
    {
     "name": "stdout",
     "output_type": "stream",
     "text": [
      "MAE of Train: 5.935656485201061\n",
      "MAE of Validation: 5.940412315751869\n"
     ]
    },
    {
     "name": "stderr",
     "output_type": "stream",
     "text": [
      "\u001b[32m[I 2022-03-26 01:53:51,365]\u001b[0m Trial 606 finished with value: 5.92886837987288 and parameters: {'random_state': 519632, 'learning_rate': 0.051415654027532134, 'bagging_temperature': 5.023942191081014, 'max_depth': 5, 'random_strength': 10, 'l2_leaf_reg': 8.421494182838603e-06, 'min_child_samples': 52, 'max_bin': 468, 'od_type': 'Iter', 'task_type': 'GPU', 'loss_function': 'MAE', 'eval_metric': 'MAE'}. Best is trial 502 with value: 5.916511005997932.\u001b[0m\n"
     ]
    },
    {
     "name": "stdout",
     "output_type": "stream",
     "text": [
      "MAE of Train: 5.920819221058957\n",
      "MAE of Validation: 5.92886837987288\n"
     ]
    },
    {
     "name": "stderr",
     "output_type": "stream",
     "text": [
      "\u001b[32m[I 2022-03-26 01:53:56,528]\u001b[0m Trial 607 finished with value: 5.933170146190154 and parameters: {'random_state': 519632, 'learning_rate': 0.06626236848209369, 'bagging_temperature': 3.0932910997518714, 'max_depth': 10, 'random_strength': 47, 'l2_leaf_reg': 1.6656894291305503e-05, 'min_child_samples': 12, 'max_bin': 365, 'od_type': 'Iter', 'task_type': 'GPU', 'loss_function': 'MAE', 'eval_metric': 'MAE'}. Best is trial 502 with value: 5.916511005997932.\u001b[0m\n"
     ]
    },
    {
     "name": "stdout",
     "output_type": "stream",
     "text": [
      "MAE of Train: 5.916795800692117\n",
      "MAE of Validation: 5.933170146190154\n"
     ]
    },
    {
     "name": "stderr",
     "output_type": "stream",
     "text": [
      "\u001b[32m[I 2022-03-26 01:54:00,369]\u001b[0m Trial 608 finished with value: 5.940037528793407 and parameters: {'random_state': 519632, 'learning_rate': 0.09371373549710879, 'bagging_temperature': 2.4102940808249516, 'max_depth': 5, 'random_strength': 77, 'l2_leaf_reg': 2.4977963787591666e-06, 'min_child_samples': 50, 'max_bin': 461, 'od_type': 'Iter', 'task_type': 'GPU', 'loss_function': 'MAE', 'eval_metric': 'MAE'}. Best is trial 502 with value: 5.916511005997932.\u001b[0m\n"
     ]
    },
    {
     "name": "stdout",
     "output_type": "stream",
     "text": [
      "MAE of Train: 5.934413533300121\n",
      "MAE of Validation: 5.940037528793407\n"
     ]
    },
    {
     "name": "stderr",
     "output_type": "stream",
     "text": [
      "\u001b[32m[I 2022-03-26 01:54:07,621]\u001b[0m Trial 609 finished with value: 5.920552337387402 and parameters: {'random_state': 519632, 'learning_rate': 0.08128860805860837, 'bagging_temperature': 4.028026005931905, 'max_depth': 5, 'random_strength': 50, 'l2_leaf_reg': 7.266441272212721e-06, 'min_child_samples': 45, 'max_bin': 453, 'od_type': 'IncToDec', 'task_type': 'GPU', 'loss_function': 'MAE', 'eval_metric': 'MAE'}. Best is trial 502 with value: 5.916511005997932.\u001b[0m\n"
     ]
    },
    {
     "name": "stdout",
     "output_type": "stream",
     "text": [
      "MAE of Train: 5.911339745874506\n",
      "MAE of Validation: 5.920552337387402\n"
     ]
    },
    {
     "name": "stderr",
     "output_type": "stream",
     "text": [
      "\u001b[32m[I 2022-03-26 01:54:14,781]\u001b[0m Trial 610 finished with value: 5.949561686964622 and parameters: {'random_state': 519632, 'learning_rate': 0.12261687786091596, 'bagging_temperature': 7.282736427237436, 'max_depth': 6, 'random_strength': 12, 'l2_leaf_reg': 9.095044870891179e-06, 'min_child_samples': 48, 'max_bin': 477, 'od_type': 'Iter', 'task_type': 'GPU', 'loss_function': 'MAE', 'eval_metric': 'MAE'}. Best is trial 502 with value: 5.916511005997932.\u001b[0m\n"
     ]
    },
    {
     "name": "stdout",
     "output_type": "stream",
     "text": [
      "MAE of Train: 5.926748058477742\n",
      "MAE of Validation: 5.949561686964622\n"
     ]
    },
    {
     "name": "stderr",
     "output_type": "stream",
     "text": [
      "\u001b[32m[I 2022-03-26 01:54:21,808]\u001b[0m Trial 611 finished with value: 5.929735102395846 and parameters: {'random_state': 519632, 'learning_rate': 0.09938810477631453, 'bagging_temperature': 5.50262164814531, 'max_depth': 5, 'random_strength': 53, 'l2_leaf_reg': 7.6128089013233355e-06, 'min_child_samples': 53, 'max_bin': 460, 'od_type': 'Iter', 'task_type': 'GPU', 'loss_function': 'MAE', 'eval_metric': 'MAE'}. Best is trial 502 with value: 5.916511005997932.\u001b[0m\n"
     ]
    },
    {
     "name": "stdout",
     "output_type": "stream",
     "text": [
      "MAE of Train: 5.918750654218382\n",
      "MAE of Validation: 5.929735102395846\n"
     ]
    },
    {
     "name": "stderr",
     "output_type": "stream",
     "text": [
      "\u001b[32m[I 2022-03-26 01:54:29,127]\u001b[0m Trial 612 finished with value: 5.927639489840711 and parameters: {'random_state': 519632, 'learning_rate': 0.14896062435832313, 'bagging_temperature': 3.3476784350455957, 'max_depth': 5, 'random_strength': 1, 'l2_leaf_reg': 6.469065426537866e-06, 'min_child_samples': 49, 'max_bin': 470, 'od_type': 'Iter', 'task_type': 'GPU', 'loss_function': 'MAE', 'eval_metric': 'MAE'}. Best is trial 502 with value: 5.916511005997932.\u001b[0m\n"
     ]
    },
    {
     "name": "stdout",
     "output_type": "stream",
     "text": [
      "MAE of Train: 5.921191448818631\n",
      "MAE of Validation: 5.927639489840711\n"
     ]
    },
    {
     "name": "stderr",
     "output_type": "stream",
     "text": [
      "\u001b[32m[I 2022-03-26 01:54:35,847]\u001b[0m Trial 613 finished with value: 5.932560790490762 and parameters: {'random_state': 519632, 'learning_rate': 0.06015483876559124, 'bagging_temperature': 2.763623148780882, 'max_depth': 5, 'random_strength': 28, 'l2_leaf_reg': 8.3782483816364e-06, 'min_child_samples': 46, 'max_bin': 445, 'od_type': 'Iter', 'task_type': 'GPU', 'loss_function': 'MAE', 'eval_metric': 'MAE'}. Best is trial 502 with value: 5.916511005997932.\u001b[0m\n"
     ]
    },
    {
     "name": "stdout",
     "output_type": "stream",
     "text": [
      "MAE of Train: 5.926997639137041\n",
      "MAE of Validation: 5.932560790490762\n"
     ]
    },
    {
     "name": "stderr",
     "output_type": "stream",
     "text": [
      "\u001b[32m[I 2022-03-26 01:54:43,088]\u001b[0m Trial 614 finished with value: 5.919408452649866 and parameters: {'random_state': 519632, 'learning_rate': 0.08000371250698418, 'bagging_temperature': 4.436902934395411, 'max_depth': 5, 'random_strength': 16, 'l2_leaf_reg': 1.0030134965675237e-06, 'min_child_samples': 52, 'max_bin': 464, 'od_type': 'IncToDec', 'task_type': 'GPU', 'loss_function': 'MAE', 'eval_metric': 'MAE'}. Best is trial 502 with value: 5.916511005997932.\u001b[0m\n"
     ]
    },
    {
     "name": "stdout",
     "output_type": "stream",
     "text": [
      "MAE of Train: 5.910170081085544\n",
      "MAE of Validation: 5.919408452649866\n"
     ]
    },
    {
     "name": "stderr",
     "output_type": "stream",
     "text": [
      "\u001b[32m[I 2022-03-26 01:54:49,949]\u001b[0m Trial 615 finished with value: 5.938473421479629 and parameters: {'random_state': 519632, 'learning_rate': 0.0709072511636541, 'bagging_temperature': 6.397672637630483, 'max_depth': 5, 'random_strength': 14, 'l2_leaf_reg': 1.154656410967522e-06, 'min_child_samples': 52, 'max_bin': 478, 'od_type': 'IncToDec', 'task_type': 'GPU', 'loss_function': 'MAE', 'eval_metric': 'MAE'}. Best is trial 502 with value: 5.916511005997932.\u001b[0m\n"
     ]
    },
    {
     "name": "stdout",
     "output_type": "stream",
     "text": [
      "MAE of Train: 5.927784874889492\n",
      "MAE of Validation: 5.938473421479629\n"
     ]
    },
    {
     "name": "stderr",
     "output_type": "stream",
     "text": [
      "\u001b[32m[I 2022-03-26 01:54:57,099]\u001b[0m Trial 616 finished with value: 5.922873289591989 and parameters: {'random_state': 519632, 'learning_rate': 0.08053550546985705, 'bagging_temperature': 4.820340472591579, 'max_depth': 5, 'random_strength': 20, 'l2_leaf_reg': 1.3950017766762201e-06, 'min_child_samples': 49, 'max_bin': 465, 'od_type': 'IncToDec', 'task_type': 'GPU', 'loss_function': 'MAE', 'eval_metric': 'MAE'}. Best is trial 502 with value: 5.916511005997932.\u001b[0m\n"
     ]
    },
    {
     "name": "stdout",
     "output_type": "stream",
     "text": [
      "MAE of Train: 5.9129872773773\n",
      "MAE of Validation: 5.922873289591989\n"
     ]
    },
    {
     "name": "stderr",
     "output_type": "stream",
     "text": [
      "\u001b[32m[I 2022-03-26 01:55:04,261]\u001b[0m Trial 617 finished with value: 5.9213106757772 and parameters: {'random_state': 519632, 'learning_rate': 0.056420204631239354, 'bagging_temperature': 4.401919777852901, 'max_depth': 5, 'random_strength': 14, 'l2_leaf_reg': 5.317427031782598e-07, 'min_child_samples': 56, 'max_bin': 400, 'od_type': 'IncToDec', 'task_type': 'GPU', 'loss_function': 'MAE', 'eval_metric': 'MAE'}. Best is trial 502 with value: 5.916511005997932.\u001b[0m\n"
     ]
    },
    {
     "name": "stdout",
     "output_type": "stream",
     "text": [
      "MAE of Train: 5.914519613031395\n",
      "MAE of Validation: 5.9213106757772\n"
     ]
    },
    {
     "name": "stderr",
     "output_type": "stream",
     "text": [
      "\u001b[32m[I 2022-03-26 01:55:11,364]\u001b[0m Trial 618 finished with value: 5.927378111945307 and parameters: {'random_state': 519632, 'learning_rate': 0.06745062996659841, 'bagging_temperature': 5.098952710252284, 'max_depth': 5, 'random_strength': 13, 'l2_leaf_reg': 1.8341685547953002e-06, 'min_child_samples': 54, 'max_bin': 470, 'od_type': 'IncToDec', 'task_type': 'GPU', 'loss_function': 'MAE', 'eval_metric': 'MAE'}. Best is trial 502 with value: 5.916511005997932.\u001b[0m\n"
     ]
    },
    {
     "name": "stdout",
     "output_type": "stream",
     "text": [
      "MAE of Train: 5.9178427793984465\n",
      "MAE of Validation: 5.927378111945307\n"
     ]
    },
    {
     "name": "stderr",
     "output_type": "stream",
     "text": [
      "\u001b[32m[I 2022-03-26 01:55:16,612]\u001b[0m Trial 619 finished with value: 5.924418738498884 and parameters: {'random_state': 519632, 'learning_rate': 0.08162837939201556, 'bagging_temperature': 4.009949624350844, 'max_depth': 7, 'random_strength': 17, 'l2_leaf_reg': 6.866773083403971e-07, 'min_child_samples': 49, 'max_bin': 361, 'od_type': 'IncToDec', 'task_type': 'GPU', 'loss_function': 'MAE', 'eval_metric': 'MAE'}. Best is trial 502 with value: 5.916511005997932.\u001b[0m\n"
     ]
    },
    {
     "name": "stdout",
     "output_type": "stream",
     "text": [
      "MAE of Train: 5.909751985253177\n",
      "MAE of Validation: 5.924418738498884\n"
     ]
    },
    {
     "name": "stderr",
     "output_type": "stream",
     "text": [
      "\u001b[32m[I 2022-03-26 01:55:23,876]\u001b[0m Trial 620 finished with value: 5.9184731669785515 and parameters: {'random_state': 519632, 'learning_rate': 0.09453911826594084, 'bagging_temperature': 3.2119345001643875, 'max_depth': 5, 'random_strength': 49, 'l2_leaf_reg': 6.491468813307939e-08, 'min_child_samples': 42, 'max_bin': 456, 'od_type': 'IncToDec', 'task_type': 'GPU', 'loss_function': 'MAE', 'eval_metric': 'MAE'}. Best is trial 502 with value: 5.916511005997932.\u001b[0m\n"
     ]
    },
    {
     "name": "stdout",
     "output_type": "stream",
     "text": [
      "MAE of Train: 5.9120839360719675\n",
      "MAE of Validation: 5.9184731669785515\n"
     ]
    },
    {
     "name": "stderr",
     "output_type": "stream",
     "text": [
      "\u001b[32m[I 2022-03-26 01:55:28,455]\u001b[0m Trial 621 finished with value: 5.941135115739419 and parameters: {'random_state': 519632, 'learning_rate': 0.11140422432102538, 'bagging_temperature': 2.182308766477136, 'max_depth': 5, 'random_strength': 46, 'l2_leaf_reg': 8.42778241529512e-07, 'min_child_samples': 42, 'max_bin': 465, 'od_type': 'IncToDec', 'task_type': 'GPU', 'loss_function': 'MAE', 'eval_metric': 'MAE'}. Best is trial 502 with value: 5.916511005997932.\u001b[0m\n"
     ]
    },
    {
     "name": "stdout",
     "output_type": "stream",
     "text": [
      "MAE of Train: 5.935821033490419\n",
      "MAE of Validation: 5.941135115739419\n"
     ]
    },
    {
     "name": "stderr",
     "output_type": "stream",
     "text": [
      "\u001b[32m[I 2022-03-26 01:55:36,349]\u001b[0m Trial 622 finished with value: 5.941116813686295 and parameters: {'random_state': 519632, 'learning_rate': 0.07431428191066794, 'bagging_temperature': 2.7011245989750274, 'max_depth': 5, 'random_strength': 11, 'l2_leaf_reg': 1.274854604448769e-06, 'min_child_samples': 41, 'max_bin': 474, 'od_type': 'IncToDec', 'task_type': 'GPU', 'loss_function': 'MAE', 'eval_metric': 'MAE'}. Best is trial 502 with value: 5.916511005997932.\u001b[0m\n"
     ]
    },
    {
     "name": "stdout",
     "output_type": "stream",
     "text": [
      "MAE of Train: 5.935330558153262\n",
      "MAE of Validation: 5.941116813686295\n"
     ]
    },
    {
     "name": "stderr",
     "output_type": "stream",
     "text": [
      "\u001b[32m[I 2022-03-26 01:55:41,568]\u001b[0m Trial 623 finished with value: 5.9366188009602405 and parameters: {'random_state': 519632, 'learning_rate': 0.04157643449901077, 'bagging_temperature': 1.7561589374535853, 'max_depth': 6, 'random_strength': 11, 'l2_leaf_reg': 7.915254357794983e-07, 'min_child_samples': 40, 'max_bin': 419, 'od_type': 'IncToDec', 'task_type': 'GPU', 'loss_function': 'MAE', 'eval_metric': 'MAE'}. Best is trial 502 with value: 5.916511005997932.\u001b[0m\n"
     ]
    },
    {
     "name": "stdout",
     "output_type": "stream",
     "text": [
      "MAE of Train: 5.929892744171233\n",
      "MAE of Validation: 5.9366188009602405\n"
     ]
    },
    {
     "name": "stderr",
     "output_type": "stream",
     "text": [
      "\u001b[32m[I 2022-03-26 01:55:46,353]\u001b[0m Trial 624 finished with value: 5.926231590721227 and parameters: {'random_state': 519632, 'learning_rate': 0.12390929550080158, 'bagging_temperature': 3.1299012697598254, 'max_depth': 5, 'random_strength': 49, 'l2_leaf_reg': 1.4351860128194234e-07, 'min_child_samples': 41, 'max_bin': 435, 'od_type': 'IncToDec', 'task_type': 'GPU', 'loss_function': 'MAE', 'eval_metric': 'MAE'}. Best is trial 502 with value: 5.916511005997932.\u001b[0m\n"
     ]
    },
    {
     "name": "stdout",
     "output_type": "stream",
     "text": [
      "MAE of Train: 5.920358914599471\n",
      "MAE of Validation: 5.926231590721227\n"
     ]
    },
    {
     "name": "stderr",
     "output_type": "stream",
     "text": [
      "\u001b[32m[I 2022-03-26 01:55:53,601]\u001b[0m Trial 625 finished with value: 5.928471935180899 and parameters: {'random_state': 519632, 'learning_rate': 0.09107778517586562, 'bagging_temperature': 2.3572114070943546, 'max_depth': 5, 'random_strength': 47, 'l2_leaf_reg': 2.9164444450192405e-07, 'min_child_samples': 42, 'max_bin': 458, 'od_type': 'IncToDec', 'task_type': 'GPU', 'loss_function': 'MAE', 'eval_metric': 'MAE'}. Best is trial 502 with value: 5.916511005997932.\u001b[0m\n"
     ]
    },
    {
     "name": "stdout",
     "output_type": "stream",
     "text": [
      "MAE of Train: 5.922228740191431\n",
      "MAE of Validation: 5.928471935180899\n"
     ]
    },
    {
     "name": "stderr",
     "output_type": "stream",
     "text": [
      "\u001b[32m[I 2022-03-26 01:56:00,733]\u001b[0m Trial 626 finished with value: 5.9410646680446915 and parameters: {'random_state': 519632, 'learning_rate': 0.17511429332025244, 'bagging_temperature': 6.165823064165913, 'max_depth': 5, 'random_strength': 16, 'l2_leaf_reg': 1.764586942738636e-06, 'min_child_samples': 40, 'max_bin': 451, 'od_type': 'IncToDec', 'task_type': 'GPU', 'loss_function': 'MAE', 'eval_metric': 'MAE'}. Best is trial 502 with value: 5.916511005997932.\u001b[0m\n"
     ]
    },
    {
     "name": "stdout",
     "output_type": "stream",
     "text": [
      "MAE of Train: 5.924220612560759\n",
      "MAE of Validation: 5.9410646680446915\n"
     ]
    },
    {
     "name": "stderr",
     "output_type": "stream",
     "text": [
      "\u001b[32m[I 2022-03-26 01:56:06,745]\u001b[0m Trial 627 finished with value: 5.925553371568917 and parameters: {'random_state': 519632, 'learning_rate': 0.10285202667887823, 'bagging_temperature': 3.2029268721889474, 'max_depth': 4, 'random_strength': 20, 'l2_leaf_reg': 9.27560309796126e-08, 'min_child_samples': 43, 'max_bin': 306, 'od_type': 'IncToDec', 'task_type': 'GPU', 'loss_function': 'MAE', 'eval_metric': 'MAE'}. Best is trial 502 with value: 5.916511005997932.\u001b[0m\n"
     ]
    },
    {
     "name": "stdout",
     "output_type": "stream",
     "text": [
      "MAE of Train: 5.922668329714952\n",
      "MAE of Validation: 5.925553371568917\n"
     ]
    },
    {
     "name": "stderr",
     "output_type": "stream",
     "text": [
      "\u001b[32m[I 2022-03-26 01:56:14,097]\u001b[0m Trial 628 finished with value: 5.9214734258844 and parameters: {'random_state': 519632, 'learning_rate': 0.061767893599788494, 'bagging_temperature': 4.186728019192653, 'max_depth': 5, 'random_strength': 10, 'l2_leaf_reg': 2.3431020280567404e-06, 'min_child_samples': 37, 'max_bin': 481, 'od_type': 'IncToDec', 'task_type': 'GPU', 'loss_function': 'MAE', 'eval_metric': 'MAE'}. Best is trial 502 with value: 5.916511005997932.\u001b[0m\n"
     ]
    },
    {
     "name": "stdout",
     "output_type": "stream",
     "text": [
      "MAE of Train: 5.914812355783707\n",
      "MAE of Validation: 5.9214734258844\n"
     ]
    },
    {
     "name": "stderr",
     "output_type": "stream",
     "text": [
      "\u001b[32m[I 2022-03-26 01:56:21,566]\u001b[0m Trial 629 finished with value: 5.931779584468878 and parameters: {'random_state': 519632, 'learning_rate': 0.13823088040237347, 'bagging_temperature': 2.6544524738316007, 'max_depth': 5, 'random_strength': 75, 'l2_leaf_reg': 9.92100952051142e-07, 'min_child_samples': 46, 'max_bin': 465, 'od_type': 'IncToDec', 'task_type': 'GPU', 'loss_function': 'MAE', 'eval_metric': 'MAE'}. Best is trial 502 with value: 5.916511005997932.\u001b[0m\n"
     ]
    },
    {
     "name": "stdout",
     "output_type": "stream",
     "text": [
      "MAE of Train: 5.9256743919353045\n",
      "MAE of Validation: 5.931779584468878\n"
     ]
    },
    {
     "name": "stderr",
     "output_type": "stream",
     "text": [
      "\u001b[32m[I 2022-03-26 01:56:28,043]\u001b[0m Trial 630 finished with value: 12.002735881702938 and parameters: {'random_state': 519632, 'learning_rate': 0.00021431124492296894, 'bagging_temperature': 3.3959873669271325, 'max_depth': 5, 'random_strength': 49, 'l2_leaf_reg': 1.6460682869031967e-06, 'min_child_samples': 79, 'max_bin': 261, 'od_type': 'IncToDec', 'task_type': 'GPU', 'loss_function': 'MAE', 'eval_metric': 'MAE'}. Best is trial 502 with value: 5.916511005997932.\u001b[0m\n"
     ]
    },
    {
     "name": "stdout",
     "output_type": "stream",
     "text": [
      "MAE of Train: 11.991107575412066\n",
      "MAE of Validation: 12.002735881702938\n"
     ]
    },
    {
     "name": "stderr",
     "output_type": "stream",
     "text": [
      "\u001b[32m[I 2022-03-26 01:56:35,280]\u001b[0m Trial 631 finished with value: 5.925200157245887 and parameters: {'random_state': 519632, 'learning_rate': 0.0806472075099042, 'bagging_temperature': 4.687004802159527, 'max_depth': 5, 'random_strength': 45, 'l2_leaf_reg': 3.46858711965326e-08, 'min_child_samples': 38, 'max_bin': 471, 'od_type': 'IncToDec', 'task_type': 'GPU', 'loss_function': 'MAE', 'eval_metric': 'MAE'}. Best is trial 502 with value: 5.916511005997932.\u001b[0m\n"
     ]
    },
    {
     "name": "stdout",
     "output_type": "stream",
     "text": [
      "MAE of Train: 5.9151310491288\n",
      "MAE of Validation: 5.925200157245887\n"
     ]
    },
    {
     "name": "stderr",
     "output_type": "stream",
     "text": [
      "\u001b[32m[I 2022-03-26 01:56:41,008]\u001b[0m Trial 632 finished with value: 5.925523683228934 and parameters: {'random_state': 519632, 'learning_rate': 0.11564666457764135, 'bagging_temperature': 2.2168062604380543, 'max_depth': 6, 'random_strength': 51, 'l2_leaf_reg': 1.034359322238263e-06, 'min_child_samples': 35, 'max_bin': 461, 'od_type': 'IncToDec', 'task_type': 'GPU', 'loss_function': 'MAE', 'eval_metric': 'MAE'}. Best is trial 502 with value: 5.916511005997932.\u001b[0m\n"
     ]
    },
    {
     "name": "stdout",
     "output_type": "stream",
     "text": [
      "MAE of Train: 5.9169656625248255\n",
      "MAE of Validation: 5.925523683228934\n"
     ]
    },
    {
     "name": "stderr",
     "output_type": "stream",
     "text": [
      "\u001b[32m[I 2022-03-26 01:56:44,331]\u001b[0m Trial 633 finished with value: 5.958852046799746 and parameters: {'random_state': 519632, 'learning_rate': 0.09015801776409749, 'bagging_temperature': 0.32697387976696535, 'max_depth': 5, 'random_strength': 2, 'l2_leaf_reg': 3.268386114678654e-06, 'min_child_samples': 58, 'max_bin': 388, 'od_type': 'IncToDec', 'task_type': 'GPU', 'loss_function': 'MAE', 'eval_metric': 'MAE'}. Best is trial 502 with value: 5.916511005997932.\u001b[0m\n"
     ]
    },
    {
     "name": "stdout",
     "output_type": "stream",
     "text": [
      "MAE of Train: 5.953308504496694\n",
      "MAE of Validation: 5.958852046799746\n"
     ]
    },
    {
     "name": "stderr",
     "output_type": "stream",
     "text": [
      "\u001b[32m[I 2022-03-26 01:56:51,711]\u001b[0m Trial 634 finished with value: 5.925225172954928 and parameters: {'random_state': 519632, 'learning_rate': 0.05240258665260923, 'bagging_temperature': 2.9307881297447365, 'max_depth': 5, 'random_strength': 45, 'l2_leaf_reg': 2.3743348339443277e-06, 'min_child_samples': 40, 'max_bin': 453, 'od_type': 'IncToDec', 'task_type': 'GPU', 'loss_function': 'MAE', 'eval_metric': 'MAE'}. Best is trial 502 with value: 5.916511005997932.\u001b[0m\n"
     ]
    },
    {
     "name": "stdout",
     "output_type": "stream",
     "text": [
      "MAE of Train: 5.919426538251746\n",
      "MAE of Validation: 5.925225172954928\n"
     ]
    },
    {
     "name": "stderr",
     "output_type": "stream",
     "text": [
      "\u001b[32m[I 2022-03-26 01:56:59,171]\u001b[0m Trial 635 finished with value: 5.920742991497037 and parameters: {'random_state': 519632, 'learning_rate': 0.07347816018231071, 'bagging_temperature': 3.4591123527930896, 'max_depth': 5, 'random_strength': 49, 'l2_leaf_reg': 5.520358432082411e-07, 'min_child_samples': 84, 'max_bin': 446, 'od_type': 'IncToDec', 'task_type': 'GPU', 'loss_function': 'MAE', 'eval_metric': 'MAE'}. Best is trial 502 with value: 5.916511005997932.\u001b[0m\n"
     ]
    },
    {
     "name": "stdout",
     "output_type": "stream",
     "text": [
      "MAE of Train: 5.912667466302232\n",
      "MAE of Validation: 5.920742991497037\n"
     ]
    },
    {
     "name": "stderr",
     "output_type": "stream",
     "text": [
      "\u001b[32m[I 2022-03-26 01:57:05,675]\u001b[0m Trial 636 finished with value: 6.369147363764288 and parameters: {'random_state': 519632, 'learning_rate': 0.0023148263757501912, 'bagging_temperature': 4.047992101218862, 'max_depth': 5, 'random_strength': 47, 'l2_leaf_reg': 2.4719260388886846e-05, 'min_child_samples': 87, 'max_bin': 468, 'od_type': 'IncToDec', 'task_type': 'GPU', 'loss_function': 'MAE', 'eval_metric': 'MAE'}. Best is trial 502 with value: 5.916511005997932.\u001b[0m\n"
     ]
    },
    {
     "name": "stdout",
     "output_type": "stream",
     "text": [
      "MAE of Train: 6.362612779358959\n",
      "MAE of Validation: 6.369147363764288\n"
     ]
    },
    {
     "name": "stderr",
     "output_type": "stream",
     "text": [
      "\u001b[32m[I 2022-03-26 01:57:12,754]\u001b[0m Trial 637 finished with value: 5.928489753518616 and parameters: {'random_state': 519632, 'learning_rate': 0.10089790678436722, 'bagging_temperature': 5.439137729977584, 'max_depth': 5, 'random_strength': 55, 'l2_leaf_reg': 1.7340605888835353e-05, 'min_child_samples': 90, 'max_bin': 458, 'od_type': 'IncToDec', 'task_type': 'GPU', 'loss_function': 'MAE', 'eval_metric': 'MAE'}. Best is trial 502 with value: 5.916511005997932.\u001b[0m\n"
     ]
    },
    {
     "name": "stdout",
     "output_type": "stream",
     "text": [
      "MAE of Train: 5.9179686541041585\n",
      "MAE of Validation: 5.928489753518616\n"
     ]
    },
    {
     "name": "stderr",
     "output_type": "stream",
     "text": [
      "\u001b[32m[I 2022-03-26 01:57:15,925]\u001b[0m Trial 638 finished with value: 5.948307714541862 and parameters: {'random_state': 519632, 'learning_rate': 0.13594287283473172, 'bagging_temperature': 1.967074989635406, 'max_depth': 5, 'random_strength': 52, 'l2_leaf_reg': 1.3266617731029082e-06, 'min_child_samples': 44, 'max_bin': 477, 'od_type': 'IncToDec', 'task_type': 'GPU', 'loss_function': 'MAE', 'eval_metric': 'MAE'}. Best is trial 502 with value: 5.916511005997932.\u001b[0m\n"
     ]
    },
    {
     "name": "stdout",
     "output_type": "stream",
     "text": [
      "MAE of Train: 5.9433161548798665\n",
      "MAE of Validation: 5.948307714541862\n"
     ]
    },
    {
     "name": "stderr",
     "output_type": "stream",
     "text": [
      "\u001b[32m[I 2022-03-26 01:57:22,233]\u001b[0m Trial 639 finished with value: 9.554706613527006 and parameters: {'random_state': 519632, 'learning_rate': 0.0006199367864547963, 'bagging_temperature': 2.688057489822721, 'max_depth': 5, 'random_strength': 50, 'l2_leaf_reg': 1.760038324802324e-06, 'min_child_samples': 51, 'max_bin': 441, 'od_type': 'IncToDec', 'task_type': 'GPU', 'loss_function': 'MAE', 'eval_metric': 'MAE'}. Best is trial 502 with value: 5.916511005997932.\u001b[0m\n"
     ]
    },
    {
     "name": "stdout",
     "output_type": "stream",
     "text": [
      "MAE of Train: 9.544130602546561\n",
      "MAE of Validation: 9.554706613527006\n"
     ]
    },
    {
     "name": "stderr",
     "output_type": "stream",
     "text": [
      "\u001b[32m[I 2022-03-26 01:57:29,605]\u001b[0m Trial 640 finished with value: 5.919461443391977 and parameters: {'random_state': 519632, 'learning_rate': 0.08470795107311425, 'bagging_temperature': 4.061808213889653, 'max_depth': 5, 'random_strength': 16, 'l2_leaf_reg': 2.2517647803308544e-06, 'min_child_samples': 82, 'max_bin': 340, 'od_type': 'IncToDec', 'task_type': 'GPU', 'loss_function': 'MAE', 'eval_metric': 'MAE'}. Best is trial 502 with value: 5.916511005997932.\u001b[0m\n"
     ]
    },
    {
     "name": "stdout",
     "output_type": "stream",
     "text": [
      "MAE of Train: 5.909952149359261\n",
      "MAE of Validation: 5.919461443391977\n"
     ]
    },
    {
     "name": "stderr",
     "output_type": "stream",
     "text": [
      "\u001b[32m[I 2022-03-26 01:57:36,419]\u001b[0m Trial 641 finished with value: 5.958827529078071 and parameters: {'random_state': 519632, 'learning_rate': 0.027553037192473727, 'bagging_temperature': 8.169999529469887, 'max_depth': 5, 'random_strength': 12, 'l2_leaf_reg': 3.818300095561824e-06, 'min_child_samples': 82, 'max_bin': 316, 'od_type': 'IncToDec', 'task_type': 'GPU', 'loss_function': 'MAE', 'eval_metric': 'MAE'}. Best is trial 502 with value: 5.916511005997932.\u001b[0m\n"
     ]
    },
    {
     "name": "stdout",
     "output_type": "stream",
     "text": [
      "MAE of Train: 5.952647621052254\n",
      "MAE of Validation: 5.958827529078071\n"
     ]
    },
    {
     "name": "stderr",
     "output_type": "stream",
     "text": [
      "\u001b[32m[I 2022-03-26 01:57:44,051]\u001b[0m Trial 642 finished with value: 5.923499137752289 and parameters: {'random_state': 519632, 'learning_rate': 0.06691380958719735, 'bagging_temperature': 4.724184094537462, 'max_depth': 6, 'random_strength': 19, 'l2_leaf_reg': 2.8253795362182427e-06, 'min_child_samples': 85, 'max_bin': 472, 'od_type': 'IncToDec', 'task_type': 'GPU', 'loss_function': 'MAE', 'eval_metric': 'MAE'}. Best is trial 502 with value: 5.916511005997932.\u001b[0m\n"
     ]
    },
    {
     "name": "stdout",
     "output_type": "stream",
     "text": [
      "MAE of Train: 5.909667353600151\n",
      "MAE of Validation: 5.923499137752289\n"
     ]
    },
    {
     "name": "stderr",
     "output_type": "stream",
     "text": [
      "\u001b[32m[I 2022-03-26 01:57:50,852]\u001b[0m Trial 643 finished with value: 5.935924608315404 and parameters: {'random_state': 519632, 'learning_rate': 0.08299016417223118, 'bagging_temperature': 5.688636052387257, 'max_depth': 4, 'random_strength': 17, 'l2_leaf_reg': 2.1469828710318245e-06, 'min_child_samples': 81, 'max_bin': 281, 'od_type': 'IncToDec', 'task_type': 'GPU', 'loss_function': 'MAE', 'eval_metric': 'MAE'}. Best is trial 502 with value: 5.916511005997932.\u001b[0m\n"
     ]
    },
    {
     "name": "stdout",
     "output_type": "stream",
     "text": [
      "MAE of Train: 5.9281924266457295\n",
      "MAE of Validation: 5.935924608315404\n"
     ]
    },
    {
     "name": "stderr",
     "output_type": "stream",
     "text": [
      "\u001b[32m[I 2022-03-26 01:57:58,090]\u001b[0m Trial 644 finished with value: 5.920503038588393 and parameters: {'random_state': 519632, 'learning_rate': 0.11070079124355155, 'bagging_temperature': 4.018391615732045, 'max_depth': 5, 'random_strength': 16, 'l2_leaf_reg': 3.012651086281092e-06, 'min_child_samples': 80, 'max_bin': 287, 'od_type': 'IncToDec', 'task_type': 'GPU', 'loss_function': 'MAE', 'eval_metric': 'MAE'}. Best is trial 502 with value: 5.916511005997932.\u001b[0m\n"
     ]
    },
    {
     "name": "stdout",
     "output_type": "stream",
     "text": [
      "MAE of Train: 5.909486822836053\n",
      "MAE of Validation: 5.920503038588393\n"
     ]
    },
    {
     "name": "stderr",
     "output_type": "stream",
     "text": [
      "\u001b[32m[I 2022-03-26 01:58:03,159]\u001b[0m Trial 645 finished with value: 5.9256750952690345 and parameters: {'random_state': 519632, 'learning_rate': 0.16750661277702975, 'bagging_temperature': 4.446049027889149, 'max_depth': 5, 'random_strength': 17, 'l2_leaf_reg': 1.9719304581375885e-06, 'min_child_samples': 78, 'max_bin': 480, 'od_type': 'IncToDec', 'task_type': 'GPU', 'loss_function': 'MAE', 'eval_metric': 'MAE'}. Best is trial 502 with value: 5.916511005997932.\u001b[0m\n"
     ]
    },
    {
     "name": "stdout",
     "output_type": "stream",
     "text": [
      "MAE of Train: 5.91493638418796\n",
      "MAE of Validation: 5.9256750952690345\n"
     ]
    },
    {
     "name": "stderr",
     "output_type": "stream",
     "text": [
      "\u001b[32m[I 2022-03-26 01:58:07,345]\u001b[0m Trial 646 finished with value: 5.9453762327870665 and parameters: {'random_state': 519632, 'learning_rate': 0.07170056040015522, 'bagging_temperature': 1.310156474393921, 'max_depth': 5, 'random_strength': 44, 'l2_leaf_reg': 2.4725373977163638e-06, 'min_child_samples': 82, 'max_bin': 484, 'od_type': 'IncToDec', 'task_type': 'GPU', 'loss_function': 'MAE', 'eval_metric': 'MAE'}. Best is trial 502 with value: 5.916511005997932.\u001b[0m\n"
     ]
    },
    {
     "name": "stdout",
     "output_type": "stream",
     "text": [
      "MAE of Train: 5.940073704613291\n",
      "MAE of Validation: 5.9453762327870665\n"
     ]
    },
    {
     "name": "stderr",
     "output_type": "stream",
     "text": [
      "\u001b[32m[I 2022-03-26 01:58:14,538]\u001b[0m Trial 647 finished with value: 5.923818727459007 and parameters: {'random_state': 519632, 'learning_rate': 0.055750254358562845, 'bagging_temperature': 3.1530244205905054, 'max_depth': 5, 'random_strength': 14, 'l2_leaf_reg': 4.873614401066445e-06, 'min_child_samples': 83, 'max_bin': 464, 'od_type': 'IncToDec', 'task_type': 'GPU', 'loss_function': 'MAE', 'eval_metric': 'MAE'}. Best is trial 502 with value: 5.916511005997932.\u001b[0m\n"
     ]
    },
    {
     "name": "stdout",
     "output_type": "stream",
     "text": [
      "MAE of Train: 5.9180479164905355\n",
      "MAE of Validation: 5.923818727459007\n"
     ]
    },
    {
     "name": "stderr",
     "output_type": "stream",
     "text": [
      "\u001b[32m[I 2022-03-26 01:58:20,828]\u001b[0m Trial 648 finished with value: 5.947621773436743 and parameters: {'random_state': 519632, 'learning_rate': 0.0837449879810762, 'bagging_temperature': 6.708499123636927, 'max_depth': 7, 'random_strength': 9, 'l2_leaf_reg': 1.1770050417042642e-06, 'min_child_samples': 39, 'max_bin': 412, 'od_type': 'IncToDec', 'task_type': 'GPU', 'loss_function': 'MAE', 'eval_metric': 'MAE'}. Best is trial 502 with value: 5.916511005997932.\u001b[0m\n"
     ]
    },
    {
     "name": "stdout",
     "output_type": "stream",
     "text": [
      "MAE of Train: 5.922472970735462\n",
      "MAE of Validation: 5.947621773436743\n"
     ]
    },
    {
     "name": "stderr",
     "output_type": "stream",
     "text": [
      "\u001b[32m[I 2022-03-26 01:58:25,104]\u001b[0m Trial 649 finished with value: 5.934094764340488 and parameters: {'random_state': 519632, 'learning_rate': 0.12118511509531107, 'bagging_temperature': 0.8474558363303238, 'max_depth': 5, 'random_strength': 13, 'l2_leaf_reg': 7.912615804680538e-08, 'min_child_samples': 80, 'max_bin': 426, 'od_type': 'IncToDec', 'task_type': 'GPU', 'loss_function': 'MAE', 'eval_metric': 'MAE'}. Best is trial 502 with value: 5.916511005997932.\u001b[0m\n"
     ]
    },
    {
     "name": "stdout",
     "output_type": "stream",
     "text": [
      "MAE of Train: 5.928964782365641\n",
      "MAE of Validation: 5.934094764340488\n"
     ]
    },
    {
     "name": "stderr",
     "output_type": "stream",
     "text": [
      "\u001b[32m[I 2022-03-26 01:58:32,294]\u001b[0m Trial 650 finished with value: 5.9218072078686665 and parameters: {'random_state': 519632, 'learning_rate': 0.09641071576301019, 'bagging_temperature': 3.9007864475748306, 'max_depth': 5, 'random_strength': 48, 'l2_leaf_reg': 2.06111007570082e-05, 'min_child_samples': 75, 'max_bin': 468, 'od_type': 'IncToDec', 'task_type': 'GPU', 'loss_function': 'MAE', 'eval_metric': 'MAE'}. Best is trial 502 with value: 5.916511005997932.\u001b[0m\n"
     ]
    },
    {
     "name": "stdout",
     "output_type": "stream",
     "text": [
      "MAE of Train: 5.912981145608469\n",
      "MAE of Validation: 5.9218072078686665\n"
     ]
    },
    {
     "name": "stderr",
     "output_type": "stream",
     "text": [
      "\u001b[32m[I 2022-03-26 01:58:39,343]\u001b[0m Trial 651 finished with value: 5.9306952816521985 and parameters: {'random_state': 519632, 'learning_rate': 0.15378448306655168, 'bagging_temperature': 5.155679340933804, 'max_depth': 5, 'random_strength': 70, 'l2_leaf_reg': 4.226414052337335e-06, 'min_child_samples': 35, 'max_bin': 339, 'od_type': 'IncToDec', 'task_type': 'GPU', 'loss_function': 'MAE', 'eval_metric': 'MAE'}. Best is trial 502 with value: 5.916511005997932.\u001b[0m\n"
     ]
    },
    {
     "name": "stdout",
     "output_type": "stream",
     "text": [
      "MAE of Train: 5.916758060463079\n",
      "MAE of Validation: 5.9306952816521985\n"
     ]
    },
    {
     "name": "stderr",
     "output_type": "stream",
     "text": [
      "\u001b[32m[I 2022-03-26 01:58:46,607]\u001b[0m Trial 652 finished with value: 5.923620746045728 and parameters: {'random_state': 519632, 'learning_rate': 0.061847441000568756, 'bagging_temperature': 2.5952916268332435, 'max_depth': 5, 'random_strength': 47, 'l2_leaf_reg': 1.4303634544720914e-06, 'min_child_samples': 82, 'max_bin': 364, 'od_type': 'IncToDec', 'task_type': 'GPU', 'loss_function': 'MAE', 'eval_metric': 'MAE'}. Best is trial 502 with value: 5.916511005997932.\u001b[0m\n"
     ]
    },
    {
     "name": "stdout",
     "output_type": "stream",
     "text": [
      "MAE of Train: 5.917434645353387\n",
      "MAE of Validation: 5.923620746045728\n"
     ]
    },
    {
     "name": "stderr",
     "output_type": "stream",
     "text": [
      "\u001b[32m[I 2022-03-26 01:58:53,629]\u001b[0m Trial 653 finished with value: 5.927088038891694 and parameters: {'random_state': 519632, 'learning_rate': 0.10660905281338305, 'bagging_temperature': 3.508535621266319, 'max_depth': 3, 'random_strength': 14, 'l2_leaf_reg': 8.293795745417727e-07, 'min_child_samples': 17, 'max_bin': 397, 'od_type': 'IncToDec', 'task_type': 'GPU', 'loss_function': 'MAE', 'eval_metric': 'MAE'}. Best is trial 502 with value: 5.916511005997932.\u001b[0m\n"
     ]
    },
    {
     "name": "stdout",
     "output_type": "stream",
     "text": [
      "MAE of Train: 5.921640180425464\n",
      "MAE of Validation: 5.927088038891694\n"
     ]
    },
    {
     "name": "stderr",
     "output_type": "stream",
     "text": [
      "\u001b[32m[I 2022-03-26 01:59:00,348]\u001b[0m Trial 654 finished with value: 5.926268176802984 and parameters: {'random_state': 519632, 'learning_rate': 0.07884087230852634, 'bagging_temperature': 3.0161961199525673, 'max_depth': 5, 'random_strength': 15, 'l2_leaf_reg': 3.2751080392426083e-06, 'min_child_samples': 37, 'max_bin': 462, 'od_type': 'IncToDec', 'task_type': 'GPU', 'loss_function': 'MAE', 'eval_metric': 'MAE'}. Best is trial 502 with value: 5.916511005997932.\u001b[0m\n"
     ]
    },
    {
     "name": "stdout",
     "output_type": "stream",
     "text": [
      "MAE of Train: 5.9206803781487904\n",
      "MAE of Validation: 5.926268176802984\n"
     ]
    },
    {
     "name": "stderr",
     "output_type": "stream",
     "text": [
      "\u001b[32m[I 2022-03-26 01:59:06,194]\u001b[0m Trial 655 finished with value: 5.927527356107092 and parameters: {'random_state': 519632, 'learning_rate': 0.13194263987760055, 'bagging_temperature': 4.274310816448361, 'max_depth': 6, 'random_strength': 44, 'l2_leaf_reg': 1.9561330064349034e-06, 'min_child_samples': 84, 'max_bin': 476, 'od_type': 'IncToDec', 'task_type': 'GPU', 'loss_function': 'MAE', 'eval_metric': 'MAE'}. Best is trial 502 with value: 5.916511005997932.\u001b[0m\n"
     ]
    },
    {
     "name": "stdout",
     "output_type": "stream",
     "text": [
      "MAE of Train: 5.9108804573388465\n",
      "MAE of Validation: 5.927527356107092\n"
     ]
    },
    {
     "name": "stderr",
     "output_type": "stream",
     "text": [
      "\u001b[32m[I 2022-03-26 01:59:09,382]\u001b[0m Trial 656 finished with value: 5.950570344019009 and parameters: {'random_state': 519632, 'learning_rate': 0.09416561287553225, 'bagging_temperature': 2.3675531721347225, 'max_depth': 5, 'random_strength': 26, 'l2_leaf_reg': 1.6211916892619338e-06, 'min_child_samples': 33, 'max_bin': 486, 'od_type': 'IncToDec', 'task_type': 'GPU', 'loss_function': 'MAE', 'eval_metric': 'MAE'}. Best is trial 502 with value: 5.916511005997932.\u001b[0m\n"
     ]
    },
    {
     "name": "stdout",
     "output_type": "stream",
     "text": [
      "MAE of Train: 5.945641242219814\n",
      "MAE of Validation: 5.950570344019009\n"
     ]
    },
    {
     "name": "stderr",
     "output_type": "stream",
     "text": [
      "\u001b[32m[I 2022-03-26 01:59:16,023]\u001b[0m Trial 657 finished with value: 5.931147400813691 and parameters: {'random_state': 519632, 'learning_rate': 0.06718526648692764, 'bagging_temperature': 0.6519458223031241, 'max_depth': 5, 'random_strength': 49, 'l2_leaf_reg': 2.452887564388681e-06, 'min_child_samples': 38, 'max_bin': 385, 'od_type': 'IncToDec', 'task_type': 'GPU', 'loss_function': 'MAE', 'eval_metric': 'MAE'}. Best is trial 502 with value: 5.916511005997932.\u001b[0m\n"
     ]
    },
    {
     "name": "stdout",
     "output_type": "stream",
     "text": [
      "MAE of Train: 5.9254785101513034\n",
      "MAE of Validation: 5.931147400813691\n"
     ]
    },
    {
     "name": "stderr",
     "output_type": "stream",
     "text": [
      "\u001b[32m[I 2022-03-26 01:59:23,153]\u001b[0m Trial 658 finished with value: 5.957363613059455 and parameters: {'random_state': 519632, 'learning_rate': 0.010104937017266205, 'bagging_temperature': 3.680354725327464, 'max_depth': 5, 'random_strength': 51, 'l2_leaf_reg': 1.1637889132214573e-08, 'min_child_samples': 41, 'max_bin': 352, 'od_type': 'IncToDec', 'task_type': 'GPU', 'loss_function': 'MAE', 'eval_metric': 'MAE'}. Best is trial 502 with value: 5.916511005997932.\u001b[0m\n"
     ]
    },
    {
     "name": "stdout",
     "output_type": "stream",
     "text": [
      "MAE of Train: 5.95215696419172\n",
      "MAE of Validation: 5.957363613059455\n"
     ]
    },
    {
     "name": "stderr",
     "output_type": "stream",
     "text": [
      "\u001b[32m[I 2022-03-26 01:59:30,111]\u001b[0m Trial 659 finished with value: 5.933305106896803 and parameters: {'random_state': 519632, 'learning_rate': 0.11401380308159545, 'bagging_temperature': 5.666561040481274, 'max_depth': 5, 'random_strength': 6, 'l2_leaf_reg': 1.9540834461655352e-05, 'min_child_samples': 47, 'max_bin': 458, 'od_type': 'IncToDec', 'task_type': 'GPU', 'loss_function': 'MAE', 'eval_metric': 'MAE'}. Best is trial 502 with value: 5.916511005997932.\u001b[0m\n"
     ]
    },
    {
     "name": "stdout",
     "output_type": "stream",
     "text": [
      "MAE of Train: 5.920369857315646\n",
      "MAE of Validation: 5.933305106896803\n"
     ]
    },
    {
     "name": "stderr",
     "output_type": "stream",
     "text": [
      "\u001b[32m[I 2022-03-26 01:59:33,040]\u001b[0m Trial 660 finished with value: 5.941013231381456 and parameters: {'random_state': 519632, 'learning_rate': 0.0825045908230492, 'bagging_temperature': 0.2273571444977541, 'max_depth': 8, 'random_strength': 21, 'l2_leaf_reg': 1.2749602259393567e-06, 'min_child_samples': 79, 'max_bin': 377, 'od_type': 'IncToDec', 'task_type': 'GPU', 'loss_function': 'MAE', 'eval_metric': 'MAE'}. Best is trial 502 with value: 5.916511005997932.\u001b[0m\n"
     ]
    },
    {
     "name": "stdout",
     "output_type": "stream",
     "text": [
      "MAE of Train: 5.932536444090701\n",
      "MAE of Validation: 5.941013231381456\n"
     ]
    },
    {
     "name": "stderr",
     "output_type": "stream",
     "text": [
      "\u001b[32m[I 2022-03-26 01:59:40,022]\u001b[0m Trial 661 finished with value: 6.003341695227076 and parameters: {'random_state': 519632, 'learning_rate': 0.005310795538203685, 'bagging_temperature': 2.969430817092336, 'max_depth': 5, 'random_strength': 43, 'l2_leaf_reg': 6.954469038619292e-07, 'min_child_samples': 84, 'max_bin': 471, 'od_type': 'IncToDec', 'task_type': 'GPU', 'loss_function': 'MAE', 'eval_metric': 'MAE'}. Best is trial 502 with value: 5.916511005997932.\u001b[0m\n"
     ]
    },
    {
     "name": "stdout",
     "output_type": "stream",
     "text": [
      "MAE of Train: 5.9958702264242225\n",
      "MAE of Validation: 6.003341695227076\n"
     ]
    },
    {
     "name": "stderr",
     "output_type": "stream",
     "text": [
      "\u001b[32m[I 2022-03-26 01:59:43,142]\u001b[0m Trial 662 finished with value: 5.947547446466495 and parameters: {'random_state': 519632, 'learning_rate': 0.19904175999859985, 'bagging_temperature': 2.0877150425268387, 'max_depth': 5, 'random_strength': 46, 'l2_leaf_reg': 2.161502122688458e-05, 'min_child_samples': 5, 'max_bin': 462, 'od_type': 'IncToDec', 'task_type': 'GPU', 'loss_function': 'MAE', 'eval_metric': 'MAE'}. Best is trial 502 with value: 5.916511005997932.\u001b[0m\n"
     ]
    },
    {
     "name": "stdout",
     "output_type": "stream",
     "text": [
      "MAE of Train: 5.941680498974379\n",
      "MAE of Validation: 5.947547446466495\n"
     ]
    },
    {
     "name": "stderr",
     "output_type": "stream",
     "text": [
      "\u001b[32m[I 2022-03-26 01:59:50,345]\u001b[0m Trial 663 finished with value: 5.924724048963067 and parameters: {'random_state': 519632, 'learning_rate': 0.04685547025192792, 'bagging_temperature': 4.40290724078374, 'max_depth': 5, 'random_strength': 48, 'l2_leaf_reg': 2.2772509804042675e-05, 'min_child_samples': 19, 'max_bin': 466, 'od_type': 'Iter', 'task_type': 'GPU', 'loss_function': 'MAE', 'eval_metric': 'MAE'}. Best is trial 502 with value: 5.916511005997932.\u001b[0m\n"
     ]
    },
    {
     "name": "stdout",
     "output_type": "stream",
     "text": [
      "MAE of Train: 5.917865086378117\n",
      "MAE of Validation: 5.924724048963067\n"
     ]
    },
    {
     "name": "stderr",
     "output_type": "stream",
     "text": [
      "\u001b[32m[I 2022-03-26 01:59:57,327]\u001b[0m Trial 664 finished with value: 5.927086465185847 and parameters: {'random_state': 519632, 'learning_rate': 0.10047826930665145, 'bagging_temperature': 3.6613928872526618, 'max_depth': 5, 'random_strength': 52, 'l2_leaf_reg': 2.878734948914589e-06, 'min_child_samples': 43, 'max_bin': 294, 'od_type': 'Iter', 'task_type': 'GPU', 'loss_function': 'MAE', 'eval_metric': 'MAE'}. Best is trial 502 with value: 5.916511005997932.\u001b[0m\n"
     ]
    },
    {
     "name": "stdout",
     "output_type": "stream",
     "text": [
      "MAE of Train: 5.920807087689348\n",
      "MAE of Validation: 5.927086465185847\n"
     ]
    },
    {
     "name": "stderr",
     "output_type": "stream",
     "text": [
      "\u001b[32m[I 2022-03-26 02:00:02,149]\u001b[0m Trial 665 finished with value: 5.932508741923471 and parameters: {'random_state': 519632, 'learning_rate': 0.1355867755550153, 'bagging_temperature': 2.7738904256279633, 'max_depth': 6, 'random_strength': 19, 'l2_leaf_reg': 1.9823920611058624e-06, 'min_child_samples': 7, 'max_bin': 404, 'od_type': 'IncToDec', 'task_type': 'GPU', 'loss_function': 'MAE', 'eval_metric': 'MAE'}. Best is trial 502 with value: 5.916511005997932.\u001b[0m\n"
     ]
    },
    {
     "name": "stdout",
     "output_type": "stream",
     "text": [
      "MAE of Train: 5.923823308036523\n",
      "MAE of Validation: 5.932508741923471\n"
     ]
    },
    {
     "name": "stderr",
     "output_type": "stream",
     "text": [
      "\u001b[32m[I 2022-03-26 02:00:09,246]\u001b[0m Trial 666 finished with value: 5.924609045221422 and parameters: {'random_state': 519632, 'learning_rate': 0.08699187096371852, 'bagging_temperature': 4.610960152681689, 'max_depth': 5, 'random_strength': 50, 'l2_leaf_reg': 7.55990770738829e-07, 'min_child_samples': 36, 'max_bin': 452, 'od_type': 'Iter', 'task_type': 'GPU', 'loss_function': 'MAE', 'eval_metric': 'MAE'}. Best is trial 502 with value: 5.916511005997932.\u001b[0m\n"
     ]
    },
    {
     "name": "stdout",
     "output_type": "stream",
     "text": [
      "MAE of Train: 5.914050661739454\n",
      "MAE of Validation: 5.924609045221422\n"
     ]
    },
    {
     "name": "stderr",
     "output_type": "stream",
     "text": [
      "\u001b[32m[I 2022-03-26 02:00:16,244]\u001b[0m Trial 667 finished with value: 5.925256320713251 and parameters: {'random_state': 519632, 'learning_rate': 0.0718967898986172, 'bagging_temperature': 3.2088299761858328, 'max_depth': 4, 'random_strength': 46, 'l2_leaf_reg': 2.5012806875223153e-06, 'min_child_samples': 71, 'max_bin': 475, 'od_type': 'Iter', 'task_type': 'GPU', 'loss_function': 'MAE', 'eval_metric': 'MAE'}. Best is trial 502 with value: 5.916511005997932.\u001b[0m\n"
     ]
    },
    {
     "name": "stdout",
     "output_type": "stream",
     "text": [
      "MAE of Train: 5.921415192299724\n",
      "MAE of Validation: 5.925256320713251\n"
     ]
    },
    {
     "name": "stderr",
     "output_type": "stream",
     "text": [
      "\u001b[32m[I 2022-03-26 02:00:23,706]\u001b[0m Trial 668 finished with value: 5.929254220557845 and parameters: {'random_state': 519632, 'learning_rate': 0.12049952536065278, 'bagging_temperature': 2.5694691298877075, 'max_depth': 5, 'random_strength': 42, 'l2_leaf_reg': 1.5088880267916366e-06, 'min_child_samples': 15, 'max_bin': 457, 'od_type': 'Iter', 'task_type': 'GPU', 'loss_function': 'MAE', 'eval_metric': 'MAE'}. Best is trial 502 with value: 5.916511005997932.\u001b[0m\n"
     ]
    },
    {
     "name": "stdout",
     "output_type": "stream",
     "text": [
      "MAE of Train: 5.923844473947386\n",
      "MAE of Validation: 5.929254220557845\n"
     ]
    },
    {
     "name": "stderr",
     "output_type": "stream",
     "text": [
      "\u001b[32m[I 2022-03-26 02:00:29,915]\u001b[0m Trial 669 finished with value: 5.92149271078889 and parameters: {'random_state': 519632, 'learning_rate': 0.15433964785185436, 'bagging_temperature': 3.9655682074829506, 'max_depth': 5, 'random_strength': 49, 'l2_leaf_reg': 5.847494273505826e-07, 'min_child_samples': 34, 'max_bin': 431, 'od_type': 'IncToDec', 'task_type': 'GPU', 'loss_function': 'MAE', 'eval_metric': 'MAE'}. Best is trial 502 with value: 5.916511005997932.\u001b[0m\n"
     ]
    },
    {
     "name": "stdout",
     "output_type": "stream",
     "text": [
      "MAE of Train: 5.910040299505821\n",
      "MAE of Validation: 5.92149271078889\n"
     ]
    },
    {
     "name": "stderr",
     "output_type": "stream",
     "text": [
      "\u001b[32m[I 2022-03-26 02:00:36,903]\u001b[0m Trial 670 finished with value: 5.928148408790557 and parameters: {'random_state': 519632, 'learning_rate': 0.10182400293843075, 'bagging_temperature': 5.5128154146899835, 'max_depth': 5, 'random_strength': 30, 'l2_leaf_reg': 1.11090077678033e-06, 'min_child_samples': 40, 'max_bin': 485, 'od_type': 'Iter', 'task_type': 'GPU', 'loss_function': 'MAE', 'eval_metric': 'MAE'}. Best is trial 502 with value: 5.916511005997932.\u001b[0m\n"
     ]
    },
    {
     "name": "stdout",
     "output_type": "stream",
     "text": [
      "MAE of Train: 5.917638767859169\n",
      "MAE of Validation: 5.928148408790557\n"
     ]
    },
    {
     "name": "stderr",
     "output_type": "stream",
     "text": [
      "\u001b[32m[I 2022-03-26 02:00:44,150]\u001b[0m Trial 671 finished with value: 5.926082375936016 and parameters: {'random_state': 519632, 'learning_rate': 0.07826226731497588, 'bagging_temperature': 3.293143537840364, 'max_depth': 5, 'random_strength': 80, 'l2_leaf_reg': 2.2147150237848414e-05, 'min_child_samples': 85, 'max_bin': 449, 'od_type': 'Iter', 'task_type': 'GPU', 'loss_function': 'MAE', 'eval_metric': 'MAE'}. Best is trial 502 with value: 5.916511005997932.\u001b[0m\n"
     ]
    },
    {
     "name": "stdout",
     "output_type": "stream",
     "text": [
      "MAE of Train: 5.919845878211191\n",
      "MAE of Validation: 5.926082375936016\n"
     ]
    },
    {
     "name": "stderr",
     "output_type": "stream",
     "text": [
      "\u001b[32m[I 2022-03-26 02:00:50,391]\u001b[0m Trial 672 finished with value: 5.943051615427268 and parameters: {'random_state': 519632, 'learning_rate': 0.062335397250613565, 'bagging_temperature': 2.023999215466632, 'max_depth': 5, 'random_strength': 68, 'l2_leaf_reg': 2.002078043102456e-05, 'min_child_samples': 77, 'max_bin': 470, 'od_type': 'IncToDec', 'task_type': 'GPU', 'loss_function': 'MAE', 'eval_metric': 'MAE'}. Best is trial 502 with value: 5.916511005997932.\u001b[0m\n"
     ]
    },
    {
     "name": "stdout",
     "output_type": "stream",
     "text": [
      "MAE of Train: 5.937518402550367\n",
      "MAE of Validation: 5.943051615427268\n"
     ]
    },
    {
     "name": "stderr",
     "output_type": "stream",
     "text": [
      "\u001b[32m[I 2022-03-26 02:00:57,153]\u001b[0m Trial 673 finished with value: 5.94308432111124 and parameters: {'random_state': 519632, 'learning_rate': 0.09195923580101072, 'bagging_temperature': 7.195728692667429, 'max_depth': 5, 'random_strength': 52, 'l2_leaf_reg': 1.292815188963889e-05, 'min_child_samples': 100, 'max_bin': 463, 'od_type': 'Iter', 'task_type': 'GPU', 'loss_function': 'MAE', 'eval_metric': 'MAE'}. Best is trial 502 with value: 5.916511005997932.\u001b[0m\n"
     ]
    },
    {
     "name": "stdout",
     "output_type": "stream",
     "text": [
      "MAE of Train: 5.931198890678859\n",
      "MAE of Validation: 5.94308432111124\n"
     ]
    },
    {
     "name": "stderr",
     "output_type": "stream",
     "text": [
      "\u001b[32m[I 2022-03-26 02:01:03,499]\u001b[0m Trial 674 finished with value: 5.925133337335095 and parameters: {'random_state': 519632, 'learning_rate': 0.11812758689644744, 'bagging_temperature': 4.7212920662684885, 'max_depth': 5, 'random_strength': 45, 'l2_leaf_reg': 2.0315718509175293e-06, 'min_child_samples': 13, 'max_bin': 265, 'od_type': 'Iter', 'task_type': 'GPU', 'loss_function': 'MAE', 'eval_metric': 'MAE'}. Best is trial 502 with value: 5.916511005997932.\u001b[0m\n"
     ]
    },
    {
     "name": "stdout",
     "output_type": "stream",
     "text": [
      "MAE of Train: 5.913970401810919\n",
      "MAE of Validation: 5.925133337335095\n"
     ]
    },
    {
     "name": "stderr",
     "output_type": "stream",
     "text": [
      "\u001b[32m[I 2022-03-26 02:01:10,938]\u001b[0m Trial 675 finished with value: 5.921572586286523 and parameters: {'random_state': 519632, 'learning_rate': 0.10113715129331272, 'bagging_temperature': 1.6924201748496028, 'max_depth': 5, 'random_strength': 54, 'l2_leaf_reg': 2.4096232643355177e-05, 'min_child_samples': 54, 'max_bin': 478, 'od_type': 'Iter', 'task_type': 'GPU', 'loss_function': 'MAE', 'eval_metric': 'MAE'}. Best is trial 502 with value: 5.916511005997932.\u001b[0m\n"
     ]
    },
    {
     "name": "stdout",
     "output_type": "stream",
     "text": [
      "MAE of Train: 5.915291745935892\n",
      "MAE of Validation: 5.921572586286523\n"
     ]
    },
    {
     "name": "stderr",
     "output_type": "stream",
     "text": [
      "\u001b[32m[I 2022-03-26 02:01:16,106]\u001b[0m Trial 676 finished with value: 5.923546753190345 and parameters: {'random_state': 519632, 'learning_rate': 0.14433138770387943, 'bagging_temperature': 3.7927642117842657, 'max_depth': 5, 'random_strength': 48, 'l2_leaf_reg': 1.3529876777620496e-06, 'min_child_samples': 87, 'max_bin': 455, 'od_type': 'IncToDec', 'task_type': 'GPU', 'loss_function': 'MAE', 'eval_metric': 'MAE'}. Best is trial 502 with value: 5.916511005997932.\u001b[0m\n"
     ]
    },
    {
     "name": "stdout",
     "output_type": "stream",
     "text": [
      "MAE of Train: 5.917216133798922\n",
      "MAE of Validation: 5.923546753190345\n"
     ]
    },
    {
     "name": "stderr",
     "output_type": "stream",
     "text": [
      "\u001b[32m[I 2022-03-26 02:01:23,521]\u001b[0m Trial 677 finished with value: 5.930466116298475 and parameters: {'random_state': 519632, 'learning_rate': 0.07218767576129943, 'bagging_temperature': 2.405753964456767, 'max_depth': 6, 'random_strength': 50, 'l2_leaf_reg': 3.6073017457052693e-06, 'min_child_samples': 39, 'max_bin': 442, 'od_type': 'Iter', 'task_type': 'GPU', 'loss_function': 'MAE', 'eval_metric': 'MAE'}. Best is trial 502 with value: 5.916511005997932.\u001b[0m\n"
     ]
    },
    {
     "name": "stdout",
     "output_type": "stream",
     "text": [
      "MAE of Train: 5.922645577699404\n",
      "MAE of Validation: 5.930466116298475\n"
     ]
    },
    {
     "name": "stderr",
     "output_type": "stream",
     "text": [
      "\u001b[32m[I 2022-03-26 02:01:29,717]\u001b[0m Trial 678 finished with value: 8.558059653583493 and parameters: {'random_state': 519632, 'learning_rate': 0.0008711070477437057, 'bagging_temperature': 2.9981093422189105, 'max_depth': 5, 'random_strength': 43, 'l2_leaf_reg': 5.013845332345951e-07, 'min_child_samples': 62, 'max_bin': 340, 'od_type': 'Iter', 'task_type': 'GPU', 'loss_function': 'MAE', 'eval_metric': 'MAE'}. Best is trial 502 with value: 5.916511005997932.\u001b[0m\n"
     ]
    },
    {
     "name": "stdout",
     "output_type": "stream",
     "text": [
      "MAE of Train: 8.54730209538226\n",
      "MAE of Validation: 8.558059653583493\n"
     ]
    },
    {
     "name": "stderr",
     "output_type": "stream",
     "text": [
      "\u001b[32m[I 2022-03-26 02:01:36,867]\u001b[0m Trial 679 finished with value: 5.922848350754645 and parameters: {'random_state': 519632, 'learning_rate': 0.08547220599479007, 'bagging_temperature': 3.61881736661458, 'max_depth': 5, 'random_strength': 16, 'l2_leaf_reg': 5.9509472306733316e-06, 'min_child_samples': 17, 'max_bin': 468, 'od_type': 'IncToDec', 'task_type': 'GPU', 'loss_function': 'MAE', 'eval_metric': 'MAE'}. Best is trial 502 with value: 5.916511005997932.\u001b[0m\n"
     ]
    },
    {
     "name": "stdout",
     "output_type": "stream",
     "text": [
      "MAE of Train: 5.914919850504469\n",
      "MAE of Validation: 5.922848350754645\n"
     ]
    },
    {
     "name": "stderr",
     "output_type": "stream",
     "text": [
      "\u001b[32m[I 2022-03-26 02:01:42,836]\u001b[0m Trial 680 finished with value: 5.9197620780079285 and parameters: {'random_state': 519632, 'learning_rate': 0.11422897622827914, 'bagging_temperature': 2.923239597790775, 'max_depth': 5, 'random_strength': 47, 'l2_leaf_reg': 2.7097898159337876e-06, 'min_child_samples': 81, 'max_bin': 460, 'od_type': 'Iter', 'task_type': 'GPU', 'loss_function': 'MAE', 'eval_metric': 'MAE'}. Best is trial 502 with value: 5.916511005997932.\u001b[0m\n"
     ]
    },
    {
     "name": "stdout",
     "output_type": "stream",
     "text": [
      "MAE of Train: 5.913406850086189\n",
      "MAE of Validation: 5.9197620780079285\n"
     ]
    },
    {
     "name": "stderr",
     "output_type": "stream",
     "text": [
      "\u001b[32m[I 2022-03-26 02:01:45,439]\u001b[0m Trial 681 finished with value: 5.956016442481931 and parameters: {'random_state': 519632, 'learning_rate': 0.17629078845161095, 'bagging_temperature': 2.2859431206709107, 'max_depth': 5, 'random_strength': 53, 'l2_leaf_reg': 3.6439623134021765e-06, 'min_child_samples': 80, 'max_bin': 463, 'od_type': 'Iter', 'task_type': 'GPU', 'loss_function': 'MAE', 'eval_metric': 'MAE'}. Best is trial 502 with value: 5.916511005997932.\u001b[0m\n"
     ]
    },
    {
     "name": "stdout",
     "output_type": "stream",
     "text": [
      "MAE of Train: 5.949620128595646\n",
      "MAE of Validation: 5.956016442481931\n"
     ]
    },
    {
     "name": "stderr",
     "output_type": "stream",
     "text": [
      "\u001b[32m[I 2022-03-26 02:01:50,161]\u001b[0m Trial 682 finished with value: 5.920731572641835 and parameters: {'random_state': 519632, 'learning_rate': 0.13146522752831882, 'bagging_temperature': 2.807660049135355, 'max_depth': 5, 'random_strength': 51, 'l2_leaf_reg': 3.1395949146303708e-06, 'min_child_samples': 81, 'max_bin': 326, 'od_type': 'Iter', 'task_type': 'GPU', 'loss_function': 'MAE', 'eval_metric': 'MAE'}. Best is trial 502 with value: 5.916511005997932.\u001b[0m\n"
     ]
    },
    {
     "name": "stdout",
     "output_type": "stream",
     "text": [
      "MAE of Train: 5.914391637235009\n",
      "MAE of Validation: 5.920731572641835\n"
     ]
    },
    {
     "name": "stderr",
     "output_type": "stream",
     "text": [
      "\u001b[32m[I 2022-03-26 02:01:52,993]\u001b[0m Trial 683 finished with value: 5.9377655060276355 and parameters: {'random_state': 519632, 'learning_rate': 0.11824853430200308, 'bagging_temperature': 1.9214255886687472, 'max_depth': 5, 'random_strength': 48, 'l2_leaf_reg': 3.145525018703355e-06, 'min_child_samples': 82, 'max_bin': 473, 'od_type': 'IncToDec', 'task_type': 'GPU', 'loss_function': 'MAE', 'eval_metric': 'MAE'}. Best is trial 502 with value: 5.916511005997932.\u001b[0m\n"
     ]
    },
    {
     "name": "stdout",
     "output_type": "stream",
     "text": [
      "MAE of Train: 5.932677786163638\n",
      "MAE of Validation: 5.9377655060276355\n"
     ]
    },
    {
     "name": "stderr",
     "output_type": "stream",
     "text": [
      "\u001b[32m[I 2022-03-26 02:01:58,798]\u001b[0m Trial 684 finished with value: 10.384988825401326 and parameters: {'random_state': 519632, 'learning_rate': 0.0004629833681621441, 'bagging_temperature': 2.4567119219493447, 'max_depth': 4, 'random_strength': 12, 'l2_leaf_reg': 2.553611592037706e-06, 'min_child_samples': 80, 'max_bin': 371, 'od_type': 'Iter', 'task_type': 'GPU', 'loss_function': 'MAE', 'eval_metric': 'MAE'}. Best is trial 502 with value: 5.916511005997932.\u001b[0m\n"
     ]
    },
    {
     "name": "stdout",
     "output_type": "stream",
     "text": [
      "MAE of Train: 10.372467498038782\n",
      "MAE of Validation: 10.384988825401326\n"
     ]
    },
    {
     "name": "stderr",
     "output_type": "stream",
     "text": [
      "\u001b[32m[I 2022-03-26 02:02:02,646]\u001b[0m Trial 685 finished with value: 5.936892673878195 and parameters: {'random_state': 519632, 'learning_rate': 0.1628224954895455, 'bagging_temperature': 3.0709733821186935, 'max_depth': 5, 'random_strength': 50, 'l2_leaf_reg': 2.3771469352096375e-06, 'min_child_samples': 78, 'max_bin': 480, 'od_type': 'Iter', 'task_type': 'GPU', 'loss_function': 'MAE', 'eval_metric': 'MAE'}. Best is trial 502 with value: 5.916511005997932.\u001b[0m\n"
     ]
    },
    {
     "name": "stdout",
     "output_type": "stream",
     "text": [
      "MAE of Train: 5.9315524387152925\n",
      "MAE of Validation: 5.936892673878195\n"
     ]
    },
    {
     "name": "stderr",
     "output_type": "stream",
     "text": [
      "\u001b[32m[I 2022-03-26 02:02:09,998]\u001b[0m Trial 686 finished with value: 5.921961674927172 and parameters: {'random_state': 519632, 'learning_rate': 0.11192669029907241, 'bagging_temperature': 2.713004573406682, 'max_depth': 6, 'random_strength': 53, 'l2_leaf_reg': 4.153788613704789e-06, 'min_child_samples': 82, 'max_bin': 468, 'od_type': 'IncToDec', 'task_type': 'GPU', 'loss_function': 'MAE', 'eval_metric': 'MAE'}. Best is trial 502 with value: 5.916511005997932.\u001b[0m\n"
     ]
    },
    {
     "name": "stdout",
     "output_type": "stream",
     "text": [
      "MAE of Train: 5.913145173110054\n",
      "MAE of Validation: 5.921961674927172\n"
     ]
    },
    {
     "name": "stderr",
     "output_type": "stream",
     "text": [
      "\u001b[32m[I 2022-03-26 02:02:14,872]\u001b[0m Trial 687 finished with value: 5.924538196010517 and parameters: {'random_state': 519632, 'learning_rate': 0.13499422366010164, 'bagging_temperature': 4.206387174297043, 'max_depth': 5, 'random_strength': 51, 'l2_leaf_reg': 1.3371625127003374e-05, 'min_child_samples': 83, 'max_bin': 460, 'od_type': 'Iter', 'task_type': 'GPU', 'loss_function': 'MAE', 'eval_metric': 'MAE'}. Best is trial 502 with value: 5.916511005997932.\u001b[0m\n"
     ]
    },
    {
     "name": "stdout",
     "output_type": "stream",
     "text": [
      "MAE of Train: 5.916780116177157\n",
      "MAE of Validation: 5.924538196010517\n"
     ]
    },
    {
     "name": "stderr",
     "output_type": "stream",
     "text": [
      "\u001b[32m[I 2022-03-26 02:02:21,480]\u001b[0m Trial 688 finished with value: 5.923903312460106 and parameters: {'random_state': 519632, 'learning_rate': 0.10339954383066283, 'bagging_temperature': 3.2335277588320426, 'max_depth': 5, 'random_strength': 47, 'l2_leaf_reg': 4.507740465364862e-06, 'min_child_samples': 86, 'max_bin': 486, 'od_type': 'Iter', 'task_type': 'GPU', 'loss_function': 'MAE', 'eval_metric': 'MAE'}. Best is trial 502 with value: 5.916511005997932.\u001b[0m\n"
     ]
    },
    {
     "name": "stdout",
     "output_type": "stream",
     "text": [
      "MAE of Train: 5.917146328588699\n",
      "MAE of Validation: 5.923903312460106\n"
     ]
    },
    {
     "name": "stderr",
     "output_type": "stream",
     "text": [
      "\u001b[32m[I 2022-03-26 02:02:28,697]\u001b[0m Trial 689 finished with value: 5.930619993768207 and parameters: {'random_state': 519632, 'learning_rate': 0.05570189102003453, 'bagging_temperature': 2.1775640320630223, 'max_depth': 5, 'random_strength': 49, 'l2_leaf_reg': 2.0901925813110936e-06, 'min_child_samples': 83, 'max_bin': 473, 'od_type': 'Iter', 'task_type': 'GPU', 'loss_function': 'MAE', 'eval_metric': 'MAE'}. Best is trial 502 with value: 5.916511005997932.\u001b[0m\n"
     ]
    },
    {
     "name": "stdout",
     "output_type": "stream",
     "text": [
      "MAE of Train: 5.92564383951508\n",
      "MAE of Validation: 5.930619993768207\n"
     ]
    },
    {
     "name": "stderr",
     "output_type": "stream",
     "text": [
      "\u001b[32m[I 2022-03-26 02:02:32,923]\u001b[0m Trial 690 finished with value: 5.947175452258896 and parameters: {'random_state': 519632, 'learning_rate': 0.08416510689992235, 'bagging_temperature': 0.04274997607135099, 'max_depth': 5, 'random_strength': 41, 'l2_leaf_reg': 2.8675783214646788e-06, 'min_child_samples': 79, 'max_bin': 464, 'od_type': 'IncToDec', 'task_type': 'GPU', 'loss_function': 'MAE', 'eval_metric': 'MAE'}. Best is trial 502 with value: 5.916511005997932.\u001b[0m\n"
     ]
    },
    {
     "name": "stdout",
     "output_type": "stream",
     "text": [
      "MAE of Train: 5.941449855381439\n",
      "MAE of Validation: 5.947175452258896\n"
     ]
    },
    {
     "name": "stderr",
     "output_type": "stream",
     "text": [
      "\u001b[32m[I 2022-03-26 02:02:35,426]\u001b[0m Trial 691 finished with value: 5.949082076871217 and parameters: {'random_state': 519632, 'learning_rate': 0.19552262958678604, 'bagging_temperature': 1.651106002212303, 'max_depth': 5, 'random_strength': 45, 'l2_leaf_reg': 3.2798309675008223e-06, 'min_child_samples': 42, 'max_bin': 359, 'od_type': 'Iter', 'task_type': 'GPU', 'loss_function': 'MAE', 'eval_metric': 'MAE'}. Best is trial 502 with value: 5.916511005997932.\u001b[0m\n"
     ]
    },
    {
     "name": "stdout",
     "output_type": "stream",
     "text": [
      "MAE of Train: 5.944053247885992\n",
      "MAE of Validation: 5.949082076871217\n"
     ]
    },
    {
     "name": "stderr",
     "output_type": "stream",
     "text": [
      "\u001b[32m[I 2022-03-26 02:02:40,393]\u001b[0m Trial 692 finished with value: 5.931209771090304 and parameters: {'random_state': 519632, 'learning_rate': 0.14194148655117744, 'bagging_temperature': 5.139630069160766, 'max_depth': 5, 'random_strength': 54, 'l2_leaf_reg': 2.3407637056484596e-05, 'min_child_samples': 85, 'max_bin': 449, 'od_type': 'Iter', 'task_type': 'GPU', 'loss_function': 'MAE', 'eval_metric': 'MAE'}. Best is trial 502 with value: 5.916511005997932.\u001b[0m\n"
     ]
    },
    {
     "name": "stdout",
     "output_type": "stream",
     "text": [
      "MAE of Train: 5.920981354041206\n",
      "MAE of Validation: 5.931209771090304\n"
     ]
    },
    {
     "name": "stderr",
     "output_type": "stream",
     "text": [
      "\u001b[32m[I 2022-03-26 02:02:47,667]\u001b[0m Trial 693 finished with value: 5.920050134944627 and parameters: {'random_state': 519632, 'learning_rate': 0.11866884352677906, 'bagging_temperature': 3.908098632310134, 'max_depth': 5, 'random_strength': 52, 'l2_leaf_reg': 2.0846442168952867e-05, 'min_child_samples': 35, 'max_bin': 421, 'od_type': 'IncToDec', 'task_type': 'GPU', 'loss_function': 'MAE', 'eval_metric': 'MAE'}. Best is trial 502 with value: 5.916511005997932.\u001b[0m\n"
     ]
    },
    {
     "name": "stdout",
     "output_type": "stream",
     "text": [
      "MAE of Train: 5.910206156255395\n",
      "MAE of Validation: 5.920050134944627\n"
     ]
    },
    {
     "name": "stderr",
     "output_type": "stream",
     "text": [
      "\u001b[32m[I 2022-03-26 02:02:54,109]\u001b[0m Trial 694 finished with value: 5.939773817217175 and parameters: {'random_state': 519632, 'learning_rate': 0.16588268736024442, 'bagging_temperature': 6.18120084908416, 'max_depth': 5, 'random_strength': 18, 'l2_leaf_reg': 2.130536191269565e-05, 'min_child_samples': 44, 'max_bin': 416, 'od_type': 'IncToDec', 'task_type': 'GPU', 'loss_function': 'MAE', 'eval_metric': 'MAE'}. Best is trial 502 with value: 5.916511005997932.\u001b[0m\n"
     ]
    },
    {
     "name": "stdout",
     "output_type": "stream",
     "text": [
      "MAE of Train: 5.923872875478115\n",
      "MAE of Validation: 5.939773817217175\n"
     ]
    },
    {
     "name": "stderr",
     "output_type": "stream",
     "text": [
      "\u001b[32m[I 2022-03-26 02:02:58,291]\u001b[0m Trial 695 finished with value: 5.932576423089182 and parameters: {'random_state': 519632, 'learning_rate': 0.12388426155348838, 'bagging_temperature': 4.692966015132179, 'max_depth': 7, 'random_strength': 15, 'l2_leaf_reg': 2.0256360061272607e-05, 'min_child_samples': 47, 'max_bin': 428, 'od_type': 'IncToDec', 'task_type': 'GPU', 'loss_function': 'MAE', 'eval_metric': 'MAE'}. Best is trial 502 with value: 5.916511005997932.\u001b[0m\n"
     ]
    },
    {
     "name": "stdout",
     "output_type": "stream",
     "text": [
      "MAE of Train: 5.914031162133493\n",
      "MAE of Validation: 5.932576423089182\n"
     ]
    },
    {
     "name": "stderr",
     "output_type": "stream",
     "text": [
      "\u001b[32m[I 2022-03-26 02:03:03,035]\u001b[0m Trial 696 finished with value: 5.923191688375263 and parameters: {'random_state': 519632, 'learning_rate': 0.14871410985220546, 'bagging_temperature': 3.909950030545978, 'max_depth': 5, 'random_strength': 56, 'l2_leaf_reg': 2.1087532327609916e-05, 'min_child_samples': 37, 'max_bin': 415, 'od_type': 'IncToDec', 'task_type': 'GPU', 'loss_function': 'MAE', 'eval_metric': 'MAE'}. Best is trial 502 with value: 5.916511005997932.\u001b[0m\n"
     ]
    },
    {
     "name": "stdout",
     "output_type": "stream",
     "text": [
      "MAE of Train: 5.913609673718482\n",
      "MAE of Validation: 5.923191688375263\n"
     ]
    },
    {
     "name": "stderr",
     "output_type": "stream",
     "text": [
      "\u001b[32m[I 2022-03-26 02:03:08,059]\u001b[0m Trial 697 finished with value: 5.9311334755955345 and parameters: {'random_state': 519632, 'learning_rate': 0.1176213945513295, 'bagging_temperature': 4.935055989355192, 'max_depth': 6, 'random_strength': 53, 'l2_leaf_reg': 1.9375501568841436e-05, 'min_child_samples': 20, 'max_bin': 425, 'od_type': 'IncToDec', 'task_type': 'GPU', 'loss_function': 'MAE', 'eval_metric': 'MAE'}. Best is trial 502 with value: 5.916511005997932.\u001b[0m\n"
     ]
    },
    {
     "name": "stdout",
     "output_type": "stream",
     "text": [
      "MAE of Train: 5.916756852099163\n",
      "MAE of Validation: 5.9311334755955345\n"
     ]
    },
    {
     "name": "stderr",
     "output_type": "stream",
     "text": [
      "\u001b[32m[I 2022-03-26 02:03:15,384]\u001b[0m Trial 698 finished with value: 5.920004997902542 and parameters: {'random_state': 519632, 'learning_rate': 0.13409377129649666, 'bagging_temperature': 3.7850174137258374, 'max_depth': 5, 'random_strength': 24, 'l2_leaf_reg': 2.1968120412767797e-05, 'min_child_samples': 77, 'max_bin': 432, 'od_type': 'IncToDec', 'task_type': 'GPU', 'loss_function': 'MAE', 'eval_metric': 'MAE'}. Best is trial 502 with value: 5.916511005997932.\u001b[0m\n"
     ]
    },
    {
     "name": "stdout",
     "output_type": "stream",
     "text": [
      "MAE of Train: 5.9093025330548015\n",
      "MAE of Validation: 5.920004997902542\n"
     ]
    },
    {
     "name": "stderr",
     "output_type": "stream",
     "text": [
      "\u001b[32m[I 2022-03-26 02:03:22,646]\u001b[0m Trial 699 finished with value: 5.93106885292434 and parameters: {'random_state': 519632, 'learning_rate': 0.020783415339695056, 'bagging_temperature': 2.8352288548884115, 'max_depth': 5, 'random_strength': 15, 'l2_leaf_reg': 2.1399799381052207e-05, 'min_child_samples': 79, 'max_bin': 426, 'od_type': 'IncToDec', 'task_type': 'GPU', 'loss_function': 'MAE', 'eval_metric': 'MAE'}. Best is trial 502 with value: 5.916511005997932.\u001b[0m\n"
     ]
    },
    {
     "name": "stdout",
     "output_type": "stream",
     "text": [
      "MAE of Train: 5.926214275114646\n",
      "MAE of Validation: 5.93106885292434\n"
     ]
    },
    {
     "name": "stderr",
     "output_type": "stream",
     "text": [
      "\u001b[32m[I 2022-03-26 02:03:26,126]\u001b[0m Trial 700 finished with value: 5.937512592407738 and parameters: {'random_state': 519632, 'learning_rate': 0.1762208768783409, 'bagging_temperature': 3.38224718940913, 'max_depth': 5, 'random_strength': 23, 'l2_leaf_reg': 2.1704166983369424e-05, 'min_child_samples': 78, 'max_bin': 420, 'od_type': 'IncToDec', 'task_type': 'GPU', 'loss_function': 'MAE', 'eval_metric': 'MAE'}. Best is trial 502 with value: 5.916511005997932.\u001b[0m\n"
     ]
    },
    {
     "name": "stdout",
     "output_type": "stream",
     "text": [
      "MAE of Train: 5.93236261984719\n",
      "MAE of Validation: 5.937512592407738\n"
     ]
    },
    {
     "name": "stderr",
     "output_type": "stream",
     "text": [
      "\u001b[32m[I 2022-03-26 02:03:26,995]\u001b[0m Trial 701 finished with value: 13.852047704425196 and parameters: {'random_state': 519632, 'learning_rate': 0.21415996539147256, 'bagging_temperature': 34.6186362310717, 'max_depth': 5, 'random_strength': 18, 'l2_leaf_reg': 2.078875084303894e-05, 'min_child_samples': 77, 'max_bin': 439, 'od_type': 'IncToDec', 'task_type': 'GPU', 'loss_function': 'MAE', 'eval_metric': 'MAE'}. Best is trial 502 with value: 5.916511005997932.\u001b[0m\n"
     ]
    },
    {
     "name": "stdout",
     "output_type": "stream",
     "text": [
      "MAE of Train: 13.841321593739789\n",
      "MAE of Validation: 13.852047704425196\n"
     ]
    },
    {
     "name": "stderr",
     "output_type": "stream",
     "text": [
      "\u001b[32m[I 2022-03-26 02:03:33,945]\u001b[0m Trial 702 finished with value: 5.92849750925064 and parameters: {'random_state': 519632, 'learning_rate': 0.14929483021083698, 'bagging_temperature': 4.251881839928416, 'max_depth': 5, 'random_strength': 12, 'l2_leaf_reg': 2.253089102450454e-05, 'min_child_samples': 80, 'max_bin': 432, 'od_type': 'IncToDec', 'task_type': 'GPU', 'loss_function': 'MAE', 'eval_metric': 'MAE'}. Best is trial 502 with value: 5.916511005997932.\u001b[0m\n"
     ]
    },
    {
     "name": "stdout",
     "output_type": "stream",
     "text": [
      "MAE of Train: 5.921167470582708\n",
      "MAE of Validation: 5.92849750925064\n"
     ]
    },
    {
     "name": "stderr",
     "output_type": "stream",
     "text": [
      "\u001b[32m[I 2022-03-26 02:03:40,622]\u001b[0m Trial 703 finished with value: 5.941644114677144 and parameters: {'random_state': 519632, 'learning_rate': 0.1358778100307383, 'bagging_temperature': 6.056924546430481, 'max_depth': 4, 'random_strength': 8, 'l2_leaf_reg': 2.211226794647144e-05, 'min_child_samples': 73, 'max_bin': 432, 'od_type': 'IncToDec', 'task_type': 'GPU', 'loss_function': 'MAE', 'eval_metric': 'MAE'}. Best is trial 502 with value: 5.916511005997932.\u001b[0m\n"
     ]
    },
    {
     "name": "stdout",
     "output_type": "stream",
     "text": [
      "MAE of Train: 5.932075761045993\n",
      "MAE of Validation: 5.941644114677144\n"
     ]
    },
    {
     "name": "stderr",
     "output_type": "stream",
     "text": [
      "\u001b[32m[I 2022-03-26 02:03:42,450]\u001b[0m Trial 704 finished with value: 5.953269996706204 and parameters: {'random_state': 519632, 'learning_rate': 0.17368839333230043, 'bagging_temperature': 1.1013904702129669, 'max_depth': 5, 'random_strength': 30, 'l2_leaf_reg': 2.0660761171632704e-05, 'min_child_samples': 82, 'max_bin': 438, 'od_type': 'IncToDec', 'task_type': 'GPU', 'loss_function': 'MAE', 'eval_metric': 'MAE'}. Best is trial 502 with value: 5.916511005997932.\u001b[0m\n"
     ]
    },
    {
     "name": "stdout",
     "output_type": "stream",
     "text": [
      "MAE of Train: 5.95055316738685\n",
      "MAE of Validation: 5.953269996706204\n"
     ]
    },
    {
     "name": "stderr",
     "output_type": "stream",
     "text": [
      "\u001b[32m[I 2022-03-26 02:03:49,253]\u001b[0m Trial 705 finished with value: 5.945561450285483 and parameters: {'random_state': 519632, 'learning_rate': 0.12980674458801278, 'bagging_temperature': 2.543299895947937, 'max_depth': 5, 'random_strength': 40, 'l2_leaf_reg': 2.0472332153734818e-05, 'min_child_samples': 76, 'max_bin': 438, 'od_type': 'IncToDec', 'task_type': 'GPU', 'loss_function': 'MAE', 'eval_metric': 'MAE'}. Best is trial 502 with value: 5.916511005997932.\u001b[0m\n"
     ]
    },
    {
     "name": "stdout",
     "output_type": "stream",
     "text": [
      "MAE of Train: 5.9388205130571805\n",
      "MAE of Validation: 5.945561450285483\n"
     ]
    },
    {
     "name": "stderr",
     "output_type": "stream",
     "text": [
      "\u001b[32m[I 2022-03-26 02:03:55,041]\u001b[0m Trial 706 finished with value: 5.922003695592553 and parameters: {'random_state': 519632, 'learning_rate': 0.15717385369980708, 'bagging_temperature': 3.758006093242596, 'max_depth': 5, 'random_strength': 28, 'l2_leaf_reg': 2.1193516910185715e-05, 'min_child_samples': 76, 'max_bin': 419, 'od_type': 'IncToDec', 'task_type': 'GPU', 'loss_function': 'MAE', 'eval_metric': 'MAE'}. Best is trial 502 with value: 5.916511005997932.\u001b[0m\n"
     ]
    },
    {
     "name": "stdout",
     "output_type": "stream",
     "text": [
      "MAE of Train: 5.911861570402312\n",
      "MAE of Validation: 5.922003695592553\n"
     ]
    },
    {
     "name": "stderr",
     "output_type": "stream",
     "text": [
      "\u001b[32m[I 2022-03-26 02:04:02,358]\u001b[0m Trial 707 finished with value: 5.921634841681112 and parameters: {'random_state': 519632, 'learning_rate': 0.1150401464790641, 'bagging_temperature': 3.2113708770559017, 'max_depth': 5, 'random_strength': 19, 'l2_leaf_reg': 2.2495356400061783e-05, 'min_child_samples': 80, 'max_bin': 434, 'od_type': 'IncToDec', 'task_type': 'GPU', 'loss_function': 'MAE', 'eval_metric': 'MAE'}. Best is trial 502 with value: 5.916511005997932.\u001b[0m\n"
     ]
    },
    {
     "name": "stdout",
     "output_type": "stream",
     "text": [
      "MAE of Train: 5.914532471363018\n",
      "MAE of Validation: 5.921634841681112\n"
     ]
    },
    {
     "name": "stderr",
     "output_type": "stream",
     "text": [
      "\u001b[32m[I 2022-03-26 02:04:06,525]\u001b[0m Trial 708 finished with value: 5.931058996279121 and parameters: {'random_state': 519632, 'learning_rate': 0.13293310525528743, 'bagging_temperature': 4.798589996092034, 'max_depth': 6, 'random_strength': 34, 'l2_leaf_reg': 2.3519219365615916e-05, 'min_child_samples': 78, 'max_bin': 411, 'od_type': 'IncToDec', 'task_type': 'GPU', 'loss_function': 'MAE', 'eval_metric': 'MAE'}. Best is trial 502 with value: 5.916511005997932.\u001b[0m\n"
     ]
    },
    {
     "name": "stdout",
     "output_type": "stream",
     "text": [
      "MAE of Train: 5.917946405540265\n",
      "MAE of Validation: 5.931058996279121\n"
     ]
    },
    {
     "name": "stderr",
     "output_type": "stream",
     "text": [
      "\u001b[32m[I 2022-03-26 02:04:13,058]\u001b[0m Trial 709 finished with value: 5.9573649567502045 and parameters: {'random_state': 519632, 'learning_rate': 0.11550063322452889, 'bagging_temperature': 9.740854812650424, 'max_depth': 5, 'random_strength': 42, 'l2_leaf_reg': 2.043117130302126e-05, 'min_child_samples': 74, 'max_bin': 409, 'od_type': 'IncToDec', 'task_type': 'GPU', 'loss_function': 'MAE', 'eval_metric': 'MAE'}. Best is trial 502 with value: 5.916511005997932.\u001b[0m\n"
     ]
    },
    {
     "name": "stdout",
     "output_type": "stream",
     "text": [
      "MAE of Train: 5.943645048033827\n",
      "MAE of Validation: 5.9573649567502045\n"
     ]
    },
    {
     "name": "stderr",
     "output_type": "stream",
     "text": [
      "\u001b[32m[I 2022-03-26 02:04:20,192]\u001b[0m Trial 710 finished with value: 5.919202374919887 and parameters: {'random_state': 519632, 'learning_rate': 0.1494835940887104, 'bagging_temperature': 3.986106465397387, 'max_depth': 5, 'random_strength': 16, 'l2_leaf_reg': 2.2086220311523485e-05, 'min_child_samples': 84, 'max_bin': 424, 'od_type': 'IncToDec', 'task_type': 'GPU', 'loss_function': 'MAE', 'eval_metric': 'MAE'}. Best is trial 502 with value: 5.916511005997932.\u001b[0m\n"
     ]
    },
    {
     "name": "stdout",
     "output_type": "stream",
     "text": [
      "MAE of Train: 5.909220821437311\n",
      "MAE of Validation: 5.919202374919887\n"
     ]
    },
    {
     "name": "stderr",
     "output_type": "stream",
     "text": [
      "\u001b[32m[I 2022-03-26 02:04:26,940]\u001b[0m Trial 711 finished with value: 5.953966701398806 and parameters: {'random_state': 519632, 'learning_rate': 0.16605924230620983, 'bagging_temperature': 7.445676235832829, 'max_depth': 5, 'random_strength': 25, 'l2_leaf_reg': 2.332978989963206e-05, 'min_child_samples': 83, 'max_bin': 427, 'od_type': 'IncToDec', 'task_type': 'GPU', 'loss_function': 'MAE', 'eval_metric': 'MAE'}. Best is trial 502 with value: 5.916511005997932.\u001b[0m\n"
     ]
    },
    {
     "name": "stdout",
     "output_type": "stream",
     "text": [
      "MAE of Train: 5.935439220574472\n",
      "MAE of Validation: 5.953966701398806\n"
     ]
    },
    {
     "name": "stderr",
     "output_type": "stream",
     "text": [
      "\u001b[32m[I 2022-03-26 02:04:32,889]\u001b[0m Trial 712 finished with value: 5.942922798007423 and parameters: {'random_state': 519632, 'learning_rate': 0.19077048984525932, 'bagging_temperature': 5.5402038432996425, 'max_depth': 5, 'random_strength': 21, 'l2_leaf_reg': 2.2073214363220002e-05, 'min_child_samples': 84, 'max_bin': 421, 'od_type': 'IncToDec', 'task_type': 'GPU', 'loss_function': 'MAE', 'eval_metric': 'MAE'}. Best is trial 502 with value: 5.916511005997932.\u001b[0m\n"
     ]
    },
    {
     "name": "stdout",
     "output_type": "stream",
     "text": [
      "MAE of Train: 5.9238870907578525\n",
      "MAE of Validation: 5.942922798007423\n"
     ]
    },
    {
     "name": "stderr",
     "output_type": "stream",
     "text": [
      "\u001b[32m[I 2022-03-26 02:04:38,387]\u001b[0m Trial 713 finished with value: 5.9274927528941275 and parameters: {'random_state': 519632, 'learning_rate': 0.22893867446145474, 'bagging_temperature': 4.283506310313629, 'max_depth': 5, 'random_strength': 14, 'l2_leaf_reg': 2.2671496533875536e-05, 'min_child_samples': 81, 'max_bin': 433, 'od_type': 'IncToDec', 'task_type': 'GPU', 'loss_function': 'MAE', 'eval_metric': 'MAE'}. Best is trial 502 with value: 5.916511005997932.\u001b[0m\n"
     ]
    },
    {
     "name": "stdout",
     "output_type": "stream",
     "text": [
      "MAE of Train: 5.912719418227651\n",
      "MAE of Validation: 5.9274927528941275\n"
     ]
    },
    {
     "name": "stderr",
     "output_type": "stream",
     "text": [
      "\u001b[32m[I 2022-03-26 02:04:44,441]\u001b[0m Trial 714 finished with value: 5.932502853340055 and parameters: {'random_state': 519632, 'learning_rate': 0.19515490423157997, 'bagging_temperature': 5.046501588087246, 'max_depth': 5, 'random_strength': 10, 'l2_leaf_reg': 2.169186634120059e-05, 'min_child_samples': 83, 'max_bin': 419, 'od_type': 'IncToDec', 'task_type': 'GPU', 'loss_function': 'MAE', 'eval_metric': 'MAE'}. Best is trial 502 with value: 5.916511005997932.\u001b[0m\n"
     ]
    },
    {
     "name": "stdout",
     "output_type": "stream",
     "text": [
      "MAE of Train: 5.916978951174941\n",
      "MAE of Validation: 5.932502853340055\n"
     ]
    },
    {
     "name": "stderr",
     "output_type": "stream",
     "text": [
      "\u001b[32m[I 2022-03-26 02:04:49,876]\u001b[0m Trial 715 finished with value: 5.924025246440555 and parameters: {'random_state': 519632, 'learning_rate': 0.1468762640892186, 'bagging_temperature': 3.9722659797435984, 'max_depth': 5, 'random_strength': 17, 'l2_leaf_reg': 2.193819850478228e-05, 'min_child_samples': 85, 'max_bin': 433, 'od_type': 'IncToDec', 'task_type': 'GPU', 'loss_function': 'MAE', 'eval_metric': 'MAE'}. Best is trial 502 with value: 5.916511005997932.\u001b[0m\n"
     ]
    },
    {
     "name": "stdout",
     "output_type": "stream",
     "text": [
      "MAE of Train: 5.9139066987708695\n",
      "MAE of Validation: 5.924025246440555\n"
     ]
    },
    {
     "name": "stderr",
     "output_type": "stream",
     "text": [
      "\u001b[32m[I 2022-03-26 02:04:56,792]\u001b[0m Trial 716 finished with value: 5.938786078457158 and parameters: {'random_state': 519632, 'learning_rate': 0.16081798041209092, 'bagging_temperature': 5.895620761144382, 'max_depth': 5, 'random_strength': 13, 'l2_leaf_reg': 2.1391977333124046e-05, 'min_child_samples': 82, 'max_bin': 420, 'od_type': 'IncToDec', 'task_type': 'GPU', 'loss_function': 'MAE', 'eval_metric': 'MAE'}. Best is trial 502 with value: 5.916511005997932.\u001b[0m\n"
     ]
    },
    {
     "name": "stdout",
     "output_type": "stream",
     "text": [
      "MAE of Train: 5.921850122561973\n",
      "MAE of Validation: 5.938786078457158\n"
     ]
    },
    {
     "name": "stderr",
     "output_type": "stream",
     "text": [
      "\u001b[32m[I 2022-03-26 02:05:03,135]\u001b[0m Trial 717 finished with value: 5.923861032020777 and parameters: {'random_state': 519632, 'learning_rate': 0.17932021701350434, 'bagging_temperature': 3.652891897593514, 'max_depth': 5, 'random_strength': 16, 'l2_leaf_reg': 1.975922530205805e-05, 'min_child_samples': 80, 'max_bin': 400, 'od_type': 'IncToDec', 'task_type': 'GPU', 'loss_function': 'MAE', 'eval_metric': 'MAE'}. Best is trial 502 with value: 5.916511005997932.\u001b[0m\n"
     ]
    },
    {
     "name": "stdout",
     "output_type": "stream",
     "text": [
      "MAE of Train: 5.91383255486123\n",
      "MAE of Validation: 5.923861032020777\n"
     ]
    },
    {
     "name": "stderr",
     "output_type": "stream",
     "text": [
      "\u001b[32m[I 2022-03-26 02:05:08,051]\u001b[0m Trial 718 finished with value: 5.926773200087492 and parameters: {'random_state': 519632, 'learning_rate': 0.14182665009245715, 'bagging_temperature': 4.721590683959544, 'max_depth': 5, 'random_strength': 21, 'l2_leaf_reg': 2.2916259998020362e-05, 'min_child_samples': 86, 'max_bin': 424, 'od_type': 'IncToDec', 'task_type': 'GPU', 'loss_function': 'MAE', 'eval_metric': 'MAE'}. Best is trial 502 with value: 5.916511005997932.\u001b[0m\n"
     ]
    },
    {
     "name": "stdout",
     "output_type": "stream",
     "text": [
      "MAE of Train: 5.917935805422389\n",
      "MAE of Validation: 5.926773200087492\n"
     ]
    },
    {
     "name": "stderr",
     "output_type": "stream",
     "text": [
      "\u001b[32m[I 2022-03-26 02:05:15,056]\u001b[0m Trial 719 finished with value: 5.926156008449572 and parameters: {'random_state': 519632, 'learning_rate': 0.1308960510220646, 'bagging_temperature': 3.3135193592534193, 'max_depth': 5, 'random_strength': 15, 'l2_leaf_reg': 2.1373032736846135e-05, 'min_child_samples': 76, 'max_bin': 408, 'od_type': 'IncToDec', 'task_type': 'GPU', 'loss_function': 'MAE', 'eval_metric': 'MAE'}. Best is trial 502 with value: 5.916511005997932.\u001b[0m\n"
     ]
    },
    {
     "name": "stdout",
     "output_type": "stream",
     "text": [
      "MAE of Train: 5.919375932672844\n",
      "MAE of Validation: 5.926156008449572\n"
     ]
    },
    {
     "name": "stderr",
     "output_type": "stream",
     "text": [
      "\u001b[32m[I 2022-03-26 02:05:17,443]\u001b[0m Trial 720 finished with value: 5.9714829456644845 and parameters: {'random_state': 519632, 'learning_rate': 0.10968318949388181, 'bagging_temperature': 0.1467101676802213, 'max_depth': 4, 'random_strength': 4, 'l2_leaf_reg': 2.0819112516450372e-05, 'min_child_samples': 82, 'max_bin': 435, 'od_type': 'IncToDec', 'task_type': 'GPU', 'loss_function': 'MAE', 'eval_metric': 'MAE'}. Best is trial 502 with value: 5.916511005997932.\u001b[0m\n"
     ]
    },
    {
     "name": "stdout",
     "output_type": "stream",
     "text": [
      "MAE of Train: 5.966773095541138\n",
      "MAE of Validation: 5.9714829456644845\n"
     ]
    },
    {
     "name": "stderr",
     "output_type": "stream",
     "text": [
      "\u001b[32m[I 2022-03-26 02:05:24,697]\u001b[0m Trial 721 finished with value: 5.923157177462798 and parameters: {'random_state': 519632, 'learning_rate': 0.1548220589654942, 'bagging_temperature': 4.140993097583951, 'max_depth': 5, 'random_strength': 19, 'l2_leaf_reg': 2.2273482390643928e-05, 'min_child_samples': 85, 'max_bin': 443, 'od_type': 'IncToDec', 'task_type': 'GPU', 'loss_function': 'MAE', 'eval_metric': 'MAE'}. Best is trial 502 with value: 5.916511005997932.\u001b[0m\n"
     ]
    },
    {
     "name": "stdout",
     "output_type": "stream",
     "text": [
      "MAE of Train: 5.910017864641617\n",
      "MAE of Validation: 5.923157177462798\n"
     ]
    },
    {
     "name": "stderr",
     "output_type": "stream",
     "text": [
      "\u001b[32m[I 2022-03-26 02:05:30,852]\u001b[0m Trial 722 finished with value: 5.929755564208339 and parameters: {'random_state': 519632, 'learning_rate': 0.19280694821649688, 'bagging_temperature': 2.954267007691943, 'max_depth': 5, 'random_strength': 12, 'l2_leaf_reg': 2.199864168782079e-05, 'min_child_samples': 78, 'max_bin': 427, 'od_type': 'IncToDec', 'task_type': 'GPU', 'loss_function': 'MAE', 'eval_metric': 'MAE'}. Best is trial 502 with value: 5.916511005997932.\u001b[0m\n"
     ]
    },
    {
     "name": "stdout",
     "output_type": "stream",
     "text": [
      "MAE of Train: 5.924057219530211\n",
      "MAE of Validation: 5.929755564208339\n"
     ]
    },
    {
     "name": "stderr",
     "output_type": "stream",
     "text": [
      "\u001b[32m[I 2022-03-26 02:05:37,697]\u001b[0m Trial 723 finished with value: 5.944664238645568 and parameters: {'random_state': 519632, 'learning_rate': 0.12878637258188025, 'bagging_temperature': 6.538939500431268, 'max_depth': 5, 'random_strength': 19, 'l2_leaf_reg': 2.0163637436303296e-05, 'min_child_samples': 81, 'max_bin': 445, 'od_type': 'IncToDec', 'task_type': 'GPU', 'loss_function': 'MAE', 'eval_metric': 'MAE'}. Best is trial 502 with value: 5.916511005997932.\u001b[0m\n"
     ]
    },
    {
     "name": "stdout",
     "output_type": "stream",
     "text": [
      "MAE of Train: 5.929504994153757\n",
      "MAE of Validation: 5.944664238645568\n"
     ]
    },
    {
     "name": "stderr",
     "output_type": "stream",
     "text": [
      "\u001b[32m[I 2022-03-26 02:05:44,671]\u001b[0m Trial 724 finished with value: 5.923902773354173 and parameters: {'random_state': 519632, 'learning_rate': 0.1051103719045348, 'bagging_temperature': 3.6289321786505027, 'max_depth': 5, 'random_strength': 13, 'l2_leaf_reg': 2.290083368626133e-05, 'min_child_samples': 74, 'max_bin': 447, 'od_type': 'IncToDec', 'task_type': 'GPU', 'loss_function': 'MAE', 'eval_metric': 'MAE'}. Best is trial 502 with value: 5.916511005997932.\u001b[0m\n"
     ]
    },
    {
     "name": "stdout",
     "output_type": "stream",
     "text": [
      "MAE of Train: 5.916486077293792\n",
      "MAE of Validation: 5.923902773354173\n"
     ]
    },
    {
     "name": "stderr",
     "output_type": "stream",
     "text": [
      "\u001b[32m[I 2022-03-26 02:05:51,053]\u001b[0m Trial 725 finished with value: 5.926300143131534 and parameters: {'random_state': 519632, 'learning_rate': 0.12404113991880134, 'bagging_temperature': 4.6811155629935275, 'max_depth': 5, 'random_strength': 24, 'l2_leaf_reg': 2.0904171074451065e-05, 'min_child_samples': 84, 'max_bin': 442, 'od_type': 'IncToDec', 'task_type': 'GPU', 'loss_function': 'MAE', 'eval_metric': 'MAE'}. Best is trial 502 with value: 5.916511005997932.\u001b[0m\n"
     ]
    },
    {
     "name": "stdout",
     "output_type": "stream",
     "text": [
      "MAE of Train: 5.915720911946092\n",
      "MAE of Validation: 5.926300143131534\n"
     ]
    },
    {
     "name": "stderr",
     "output_type": "stream",
     "text": [
      "\u001b[32m[I 2022-03-26 02:06:00,258]\u001b[0m Trial 726 finished with value: 5.926376808025532 and parameters: {'random_state': 519632, 'learning_rate': 0.03543581470455196, 'bagging_temperature': 2.881368154332573, 'max_depth': 8, 'random_strength': 32, 'l2_leaf_reg': 2.1879537115388226e-05, 'min_child_samples': 87, 'max_bin': 413, 'od_type': 'IncToDec', 'task_type': 'GPU', 'loss_function': 'MAE', 'eval_metric': 'MAE'}. Best is trial 502 with value: 5.916511005997932.\u001b[0m\n"
     ]
    },
    {
     "name": "stdout",
     "output_type": "stream",
     "text": [
      "MAE of Train: 5.914444094813246\n",
      "MAE of Validation: 5.926376808025532\n"
     ]
    },
    {
     "name": "stderr",
     "output_type": "stream",
     "text": [
      "\u001b[32m[I 2022-03-26 02:06:04,678]\u001b[0m Trial 727 finished with value: 5.9327777470897605 and parameters: {'random_state': 519632, 'learning_rate': 0.21860923498384202, 'bagging_temperature': 4.041025682531539, 'max_depth': 5, 'random_strength': 9, 'l2_leaf_reg': 2.1302645050121177e-05, 'min_child_samples': 18, 'max_bin': 430, 'od_type': 'IncToDec', 'task_type': 'GPU', 'loss_function': 'MAE', 'eval_metric': 'MAE'}. Best is trial 502 with value: 5.916511005997932.\u001b[0m\n"
     ]
    },
    {
     "name": "stdout",
     "output_type": "stream",
     "text": [
      "MAE of Train: 5.925760895278303\n",
      "MAE of Validation: 5.9327777470897605\n"
     ]
    },
    {
     "name": "stderr",
     "output_type": "stream",
     "text": [
      "\u001b[32m[I 2022-03-26 02:06:10,277]\u001b[0m Trial 728 finished with value: 5.9361293901574115 and parameters: {'random_state': 519632, 'learning_rate': 0.14929613829005606, 'bagging_temperature': 5.5139784377945835, 'max_depth': 5, 'random_strength': 15, 'l2_leaf_reg': 2.30426290602718e-05, 'min_child_samples': 46, 'max_bin': 415, 'od_type': 'IncToDec', 'task_type': 'GPU', 'loss_function': 'MAE', 'eval_metric': 'MAE'}. Best is trial 502 with value: 5.916511005997932.\u001b[0m\n"
     ]
    },
    {
     "name": "stdout",
     "output_type": "stream",
     "text": [
      "MAE of Train: 5.9236841899267425\n",
      "MAE of Validation: 5.9361293901574115\n"
     ]
    },
    {
     "name": "stderr",
     "output_type": "stream",
     "text": [
      "\u001b[32m[I 2022-03-26 02:06:15,680]\u001b[0m Trial 729 finished with value: 5.9211662818961734 and parameters: {'random_state': 519632, 'learning_rate': 0.10796827416001349, 'bagging_temperature': 3.3922021950309325, 'max_depth': 5, 'random_strength': 16, 'l2_leaf_reg': 1.4572455537895381e-05, 'min_child_samples': 84, 'max_bin': 425, 'od_type': 'IncToDec', 'task_type': 'GPU', 'loss_function': 'MAE', 'eval_metric': 'MAE'}. Best is trial 502 with value: 5.916511005997932.\u001b[0m\n"
     ]
    },
    {
     "name": "stdout",
     "output_type": "stream",
     "text": [
      "MAE of Train: 5.915021800671716\n",
      "MAE of Validation: 5.9211662818961734\n"
     ]
    },
    {
     "name": "stderr",
     "output_type": "stream",
     "text": [
      "\u001b[32m[I 2022-03-26 02:06:18,123]\u001b[0m Trial 730 finished with value: 5.949346191443657 and parameters: {'random_state': 519632, 'learning_rate': 0.09957411927693306, 'bagging_temperature': 0.05692343781167419, 'max_depth': 5, 'random_strength': 44, 'l2_leaf_reg': 2.440967897957621e-05, 'min_child_samples': 51, 'max_bin': 438, 'od_type': 'IncToDec', 'task_type': 'GPU', 'loss_function': 'MAE', 'eval_metric': 'MAE'}. Best is trial 502 with value: 5.916511005997932.\u001b[0m\n"
     ]
    },
    {
     "name": "stdout",
     "output_type": "stream",
     "text": [
      "MAE of Train: 5.942972109932507\n",
      "MAE of Validation: 5.949346191443657\n"
     ]
    },
    {
     "name": "stderr",
     "output_type": "stream",
     "text": [
      "\u001b[32m[I 2022-03-26 02:06:24,560]\u001b[0m Trial 731 finished with value: 5.919750328162759 and parameters: {'random_state': 519632, 'learning_rate': 0.13788127041431666, 'bagging_temperature': 2.618291485221981, 'max_depth': 5, 'random_strength': 42, 'l2_leaf_reg': 1.9632631297942054e-05, 'min_child_samples': 79, 'max_bin': 449, 'od_type': 'IncToDec', 'task_type': 'GPU', 'loss_function': 'MAE', 'eval_metric': 'MAE'}. Best is trial 502 with value: 5.916511005997932.\u001b[0m\n"
     ]
    },
    {
     "name": "stdout",
     "output_type": "stream",
     "text": [
      "MAE of Train: 5.91277142983239\n",
      "MAE of Validation: 5.919750328162759\n"
     ]
    },
    {
     "name": "stderr",
     "output_type": "stream",
     "text": [
      "\u001b[32m[I 2022-03-26 02:06:25,505]\u001b[0m Trial 732 finished with value: 13.852047980857309 and parameters: {'random_state': 519632, 'learning_rate': 0.1722497775701647, 'bagging_temperature': 61.04242963013104, 'max_depth': 5, 'random_strength': 39, 'l2_leaf_reg': 2.030413110959524e-05, 'min_child_samples': 80, 'max_bin': 435, 'od_type': 'IncToDec', 'task_type': 'GPU', 'loss_function': 'MAE', 'eval_metric': 'MAE'}. Best is trial 502 with value: 5.916511005997932.\u001b[0m\n"
     ]
    },
    {
     "name": "stdout",
     "output_type": "stream",
     "text": [
      "MAE of Train: 13.841321917197337\n",
      "MAE of Validation: 13.852047980857309\n"
     ]
    },
    {
     "name": "stderr",
     "output_type": "stream",
     "text": [
      "\u001b[32m[I 2022-03-26 02:06:31,849]\u001b[0m Trial 733 finished with value: 6.7254589327757115 and parameters: {'random_state': 519632, 'learning_rate': 0.00182192198142462, 'bagging_temperature': 2.2360816973532143, 'max_depth': 5, 'random_strength': 43, 'l2_leaf_reg': 1.9031038699560437e-05, 'min_child_samples': 79, 'max_bin': 445, 'od_type': 'IncToDec', 'task_type': 'GPU', 'loss_function': 'MAE', 'eval_metric': 'MAE'}. Best is trial 502 with value: 5.916511005997932.\u001b[0m\n"
     ]
    },
    {
     "name": "stdout",
     "output_type": "stream",
     "text": [
      "MAE of Train: 6.717287037586109\n",
      "MAE of Validation: 6.7254589327757115\n"
     ]
    },
    {
     "name": "stderr",
     "output_type": "stream",
     "text": [
      "\u001b[32m[I 2022-03-26 02:06:38,896]\u001b[0m Trial 734 finished with value: 5.926579168497968 and parameters: {'random_state': 519632, 'learning_rate': 0.14481050435719314, 'bagging_temperature': 1.9218762916840635, 'max_depth': 4, 'random_strength': 41, 'l2_leaf_reg': 1.973682409908864e-05, 'min_child_samples': 77, 'max_bin': 451, 'od_type': 'IncToDec', 'task_type': 'GPU', 'loss_function': 'MAE', 'eval_metric': 'MAE'}. Best is trial 502 with value: 5.916511005997932.\u001b[0m\n"
     ]
    },
    {
     "name": "stdout",
     "output_type": "stream",
     "text": [
      "MAE of Train: 5.920967568795102\n",
      "MAE of Validation: 5.926579168497968\n"
     ]
    },
    {
     "name": "stderr",
     "output_type": "stream",
     "text": [
      "\u001b[32m[I 2022-03-26 02:06:41,617]\u001b[0m Trial 735 finished with value: 5.9678858610171845 and parameters: {'random_state': 519632, 'learning_rate': 0.2073402961068182, 'bagging_temperature': 1.3313365306130212, 'max_depth': 5, 'random_strength': 37, 'l2_leaf_reg': 1.9601280492048066e-05, 'min_child_samples': 76, 'max_bin': 444, 'od_type': 'IncToDec', 'task_type': 'GPU', 'loss_function': 'MAE', 'eval_metric': 'MAE'}. Best is trial 502 with value: 5.916511005997932.\u001b[0m\n"
     ]
    },
    {
     "name": "stdout",
     "output_type": "stream",
     "text": [
      "MAE of Train: 5.9616703834024065\n",
      "MAE of Validation: 5.9678858610171845\n"
     ]
    },
    {
     "name": "stderr",
     "output_type": "stream",
     "text": [
      "\u001b[32m[I 2022-03-26 02:06:45,384]\u001b[0m Trial 736 finished with value: 5.936904310737732 and parameters: {'random_state': 519632, 'learning_rate': 0.16710817692668134, 'bagging_temperature': 2.344955933649668, 'max_depth': 5, 'random_strength': 42, 'l2_leaf_reg': 2.063595356108851e-05, 'min_child_samples': 65, 'max_bin': 439, 'od_type': 'IncToDec', 'task_type': 'GPU', 'loss_function': 'MAE', 'eval_metric': 'MAE'}. Best is trial 502 with value: 5.916511005997932.\u001b[0m\n"
     ]
    },
    {
     "name": "stdout",
     "output_type": "stream",
     "text": [
      "MAE of Train: 5.932533393651463\n",
      "MAE of Validation: 5.936904310737732\n"
     ]
    },
    {
     "name": "stderr",
     "output_type": "stream",
     "text": [
      "\u001b[32m[I 2022-03-26 02:06:47,919]\u001b[0m Trial 737 finished with value: 5.9494584703842746 and parameters: {'random_state': 519632, 'learning_rate': 0.12760092187171113, 'bagging_temperature': 2.7430408544972633, 'max_depth': 5, 'random_strength': 39, 'l2_leaf_reg': 1.9256750907175422e-05, 'min_child_samples': 78, 'max_bin': 450, 'od_type': 'IncToDec', 'task_type': 'GPU', 'loss_function': 'MAE', 'eval_metric': 'MAE'}. Best is trial 502 with value: 5.916511005997932.\u001b[0m\n"
     ]
    },
    {
     "name": "stdout",
     "output_type": "stream",
     "text": [
      "MAE of Train: 5.944226567778059\n",
      "MAE of Validation: 5.9494584703842746\n"
     ]
    },
    {
     "name": "stderr",
     "output_type": "stream",
     "text": [
      "\u001b[32m[I 2022-03-26 02:06:53,879]\u001b[0m Trial 738 finished with value: 5.928928439863439 and parameters: {'random_state': 519632, 'learning_rate': 0.1439378007063878, 'bagging_temperature': 2.4755521226673487, 'max_depth': 5, 'random_strength': 40, 'l2_leaf_reg': 1.8767179156059422e-05, 'min_child_samples': 79, 'max_bin': 430, 'od_type': 'IncToDec', 'task_type': 'GPU', 'loss_function': 'MAE', 'eval_metric': 'MAE'}. Best is trial 502 with value: 5.916511005997932.\u001b[0m\n"
     ]
    },
    {
     "name": "stdout",
     "output_type": "stream",
     "text": [
      "MAE of Train: 5.923724563716684\n",
      "MAE of Validation: 5.928928439863439\n"
     ]
    },
    {
     "name": "stderr",
     "output_type": "stream",
     "text": [
      "\u001b[32m[I 2022-03-26 02:06:59,806]\u001b[0m Trial 739 finished with value: 5.939387331112234 and parameters: {'random_state': 519632, 'learning_rate': 0.1813020988996037, 'bagging_temperature': 2.8197579241538717, 'max_depth': 5, 'random_strength': 18, 'l2_leaf_reg': 2.086262276597532e-05, 'min_child_samples': 16, 'max_bin': 439, 'od_type': 'IncToDec', 'task_type': 'GPU', 'loss_function': 'MAE', 'eval_metric': 'MAE'}. Best is trial 502 with value: 5.916511005997932.\u001b[0m\n"
     ]
    },
    {
     "name": "stdout",
     "output_type": "stream",
     "text": [
      "MAE of Train: 5.935278911801539\n",
      "MAE of Validation: 5.939387331112234\n"
     ]
    },
    {
     "name": "stderr",
     "output_type": "stream",
     "text": [
      "\u001b[32m[I 2022-03-26 02:07:04,337]\u001b[0m Trial 740 finished with value: 5.935747991897361 and parameters: {'random_state': 519632, 'learning_rate': 0.12387462680908236, 'bagging_temperature': 2.101451259852191, 'max_depth': 5, 'random_strength': 44, 'l2_leaf_reg': 2.167250656060844e-05, 'min_child_samples': 76, 'max_bin': 310, 'od_type': 'IncToDec', 'task_type': 'GPU', 'loss_function': 'MAE', 'eval_metric': 'MAE'}. Best is trial 502 with value: 5.916511005997932.\u001b[0m\n"
     ]
    },
    {
     "name": "stdout",
     "output_type": "stream",
     "text": [
      "MAE of Train: 5.93082283314078\n",
      "MAE of Validation: 5.935747991897361\n"
     ]
    },
    {
     "name": "stderr",
     "output_type": "stream",
     "text": [
      "\u001b[32m[I 2022-03-26 02:07:11,755]\u001b[0m Trial 741 finished with value: 5.9242210617279465 and parameters: {'random_state': 519632, 'learning_rate': 0.14943342617005767, 'bagging_temperature': 3.1541290963013013, 'max_depth': 5, 'random_strength': 42, 'l2_leaf_reg': 1.8277062730471287e-05, 'min_child_samples': 81, 'max_bin': 454, 'od_type': 'IncToDec', 'task_type': 'GPU', 'loss_function': 'MAE', 'eval_metric': 'MAE'}. Best is trial 502 with value: 5.916511005997932.\u001b[0m\n"
     ]
    },
    {
     "name": "stdout",
     "output_type": "stream",
     "text": [
      "MAE of Train: 5.916984472422476\n",
      "MAE of Validation: 5.9242210617279465\n"
     ]
    },
    {
     "name": "stderr",
     "output_type": "stream",
     "text": [
      "\u001b[32m[I 2022-03-26 02:07:14,748]\u001b[0m Trial 742 finished with value: 5.946407379501948 and parameters: {'random_state': 519632, 'learning_rate': 0.1154501729494134, 'bagging_temperature': 1.6366292338994597, 'max_depth': 5, 'random_strength': 37, 'l2_leaf_reg': 2.0471314836028532e-05, 'min_child_samples': 81, 'max_bin': 395, 'od_type': 'IncToDec', 'task_type': 'GPU', 'loss_function': 'MAE', 'eval_metric': 'MAE'}. Best is trial 502 with value: 5.916511005997932.\u001b[0m\n"
     ]
    },
    {
     "name": "stdout",
     "output_type": "stream",
     "text": [
      "MAE of Train: 5.941530004022062\n",
      "MAE of Validation: 5.946407379501948\n"
     ]
    },
    {
     "name": "stderr",
     "output_type": "stream",
     "text": [
      "\u001b[32m[I 2022-03-26 02:07:19,502]\u001b[0m Trial 743 finished with value: 5.930798315089199 and parameters: {'random_state': 519632, 'learning_rate': 0.12797234161930898, 'bagging_temperature': 2.4768595628653154, 'max_depth': 5, 'random_strength': 22, 'l2_leaf_reg': 2.1142585698336478e-05, 'min_child_samples': 82, 'max_bin': 445, 'od_type': 'IncToDec', 'task_type': 'GPU', 'loss_function': 'MAE', 'eval_metric': 'MAE'}. Best is trial 502 with value: 5.916511005997932.\u001b[0m\n"
     ]
    },
    {
     "name": "stdout",
     "output_type": "stream",
     "text": [
      "MAE of Train: 5.926395721467481\n",
      "MAE of Validation: 5.930798315089199\n"
     ]
    },
    {
     "name": "stderr",
     "output_type": "stream",
     "text": [
      "\u001b[32m[I 2022-03-26 02:07:23,961]\u001b[0m Trial 744 finished with value: 5.93039852509659 and parameters: {'random_state': 519632, 'learning_rate': 0.15796238511109378, 'bagging_temperature': 3.35284343351495, 'max_depth': 5, 'random_strength': 35, 'l2_leaf_reg': 1.9953527899947595e-05, 'min_child_samples': 75, 'max_bin': 422, 'od_type': 'IncToDec', 'task_type': 'GPU', 'loss_function': 'MAE', 'eval_metric': 'MAE'}. Best is trial 502 with value: 5.916511005997932.\u001b[0m\n"
     ]
    },
    {
     "name": "stdout",
     "output_type": "stream",
     "text": [
      "MAE of Train: 5.9260680099155385\n",
      "MAE of Validation: 5.93039852509659\n"
     ]
    },
    {
     "name": "stderr",
     "output_type": "stream",
     "text": [
      "\u001b[32m[I 2022-03-26 02:07:30,330]\u001b[0m Trial 745 finished with value: 12.730498130483058 and parameters: {'random_state': 519632, 'learning_rate': 0.00012386044478776385, 'bagging_temperature': 2.8434874636584158, 'max_depth': 5, 'random_strength': 26, 'l2_leaf_reg': 1.999190200417392e-05, 'min_child_samples': 21, 'max_bin': 455, 'od_type': 'IncToDec', 'task_type': 'GPU', 'loss_function': 'MAE', 'eval_metric': 'MAE'}. Best is trial 502 with value: 5.916511005997932.\u001b[0m\n"
     ]
    },
    {
     "name": "stdout",
     "output_type": "stream",
     "text": [
      "MAE of Train: 12.719902857178726\n",
      "MAE of Validation: 12.730498130483058\n"
     ]
    },
    {
     "name": "stderr",
     "output_type": "stream",
     "text": [
      "\u001b[32m[I 2022-03-26 02:07:36,239]\u001b[0m Trial 746 finished with value: 5.929510989551894 and parameters: {'random_state': 519632, 'learning_rate': 0.24048446818902622, 'bagging_temperature': 3.5001857587976457, 'max_depth': 5, 'random_strength': 45, 'l2_leaf_reg': 2.2278733447318063e-05, 'min_child_samples': 84, 'max_bin': 430, 'od_type': 'IncToDec', 'task_type': 'GPU', 'loss_function': 'MAE', 'eval_metric': 'MAE'}. Best is trial 502 with value: 5.916511005997932.\u001b[0m\n"
     ]
    },
    {
     "name": "stdout",
     "output_type": "stream",
     "text": [
      "MAE of Train: 5.922111252765884\n",
      "MAE of Validation: 5.929510989551894\n"
     ]
    },
    {
     "name": "stderr",
     "output_type": "stream",
     "text": [
      "\u001b[32m[I 2022-03-26 02:07:43,207]\u001b[0m Trial 747 finished with value: 5.938598487436097 and parameters: {'random_state': 519632, 'learning_rate': 0.13020663624135667, 'bagging_temperature': 1.9568329150898967, 'max_depth': 5, 'random_strength': 42, 'l2_leaf_reg': 2.1785676000558674e-05, 'min_child_samples': 83, 'max_bin': 452, 'od_type': 'IncToDec', 'task_type': 'GPU', 'loss_function': 'MAE', 'eval_metric': 'MAE'}. Best is trial 502 with value: 5.916511005997932.\u001b[0m\n"
     ]
    },
    {
     "name": "stdout",
     "output_type": "stream",
     "text": [
      "MAE of Train: 5.931751410143992\n",
      "MAE of Validation: 5.938598487436097\n"
     ]
    },
    {
     "name": "stderr",
     "output_type": "stream",
     "text": [
      "\u001b[32m[I 2022-03-26 02:07:50,413]\u001b[0m Trial 748 finished with value: 5.922996643749528 and parameters: {'random_state': 519632, 'learning_rate': 0.10660026836301746, 'bagging_temperature': 4.224385020687412, 'max_depth': 5, 'random_strength': 39, 'l2_leaf_reg': 2.093136170350458e-05, 'min_child_samples': 68, 'max_bin': 449, 'od_type': 'IncToDec', 'task_type': 'GPU', 'loss_function': 'MAE', 'eval_metric': 'MAE'}. Best is trial 502 with value: 5.916511005997932.\u001b[0m\n"
     ]
    },
    {
     "name": "stdout",
     "output_type": "stream",
     "text": [
      "MAE of Train: 5.911594731383117\n",
      "MAE of Validation: 5.922996643749528\n"
     ]
    },
    {
     "name": "stderr",
     "output_type": "stream",
     "text": [
      "\u001b[32m[I 2022-03-26 02:07:55,930]\u001b[0m Trial 749 finished with value: 5.926795234804205 and parameters: {'random_state': 519632, 'learning_rate': 0.10421015648595174, 'bagging_temperature': 2.619111328805139, 'max_depth': 5, 'random_strength': 47, 'l2_leaf_reg': 1.7933708559277857e-05, 'min_child_samples': 78, 'max_bin': 269, 'od_type': 'IncToDec', 'task_type': 'GPU', 'loss_function': 'MAE', 'eval_metric': 'MAE'}. Best is trial 502 with value: 5.916511005997932.\u001b[0m\n"
     ]
    },
    {
     "name": "stdout",
     "output_type": "stream",
     "text": [
      "MAE of Train: 5.921154291088045\n",
      "MAE of Validation: 5.926795234804205\n"
     ]
    },
    {
     "name": "stderr",
     "output_type": "stream",
     "text": [
      "\u001b[32m[I 2022-03-26 02:08:03,098]\u001b[0m Trial 750 finished with value: 5.945865940344637 and parameters: {'random_state': 519632, 'learning_rate': 0.18880781578579828, 'bagging_temperature': 3.358191086177997, 'max_depth': 5, 'random_strength': 17, 'l2_leaf_reg': 6.038047927751352e-08, 'min_child_samples': 80, 'max_bin': 456, 'od_type': 'IncToDec', 'task_type': 'GPU', 'loss_function': 'MAE', 'eval_metric': 'MAE'}. Best is trial 502 with value: 5.916511005997932.\u001b[0m\n"
     ]
    },
    {
     "name": "stdout",
     "output_type": "stream",
     "text": [
      "MAE of Train: 5.940102847070651\n",
      "MAE of Validation: 5.945865940344637\n"
     ]
    },
    {
     "name": "stderr",
     "output_type": "stream",
     "text": [
      "\u001b[32m[I 2022-03-26 02:08:08,265]\u001b[0m Trial 751 finished with value: 5.927847379482434 and parameters: {'random_state': 519632, 'learning_rate': 0.14638530679388054, 'bagging_temperature': 4.5868602178825695, 'max_depth': 5, 'random_strength': 44, 'l2_leaf_reg': 1.8761324053121795e-05, 'min_child_samples': 70, 'max_bin': 406, 'od_type': 'IncToDec', 'task_type': 'GPU', 'loss_function': 'MAE', 'eval_metric': 'MAE'}. Best is trial 502 with value: 5.916511005997932.\u001b[0m\n"
     ]
    },
    {
     "name": "stdout",
     "output_type": "stream",
     "text": [
      "MAE of Train: 5.917592516275084\n",
      "MAE of Validation: 5.927847379482434\n"
     ]
    },
    {
     "name": "stderr",
     "output_type": "stream",
     "text": [
      "\u001b[32m[I 2022-03-26 02:08:15,552]\u001b[0m Trial 752 finished with value: 5.929682893538558 and parameters: {'random_state': 519632, 'learning_rate': 0.09595757774748394, 'bagging_temperature': 2.9831124325914673, 'max_depth': 5, 'random_strength': 11, 'l2_leaf_reg': 1.935157970526759e-05, 'min_child_samples': 87, 'max_bin': 440, 'od_type': 'IncToDec', 'task_type': 'GPU', 'loss_function': 'MAE', 'eval_metric': 'MAE'}. Best is trial 502 with value: 5.916511005997932.\u001b[0m\n"
     ]
    },
    {
     "name": "stdout",
     "output_type": "stream",
     "text": [
      "MAE of Train: 5.923617929378223\n",
      "MAE of Validation: 5.929682893538558\n"
     ]
    },
    {
     "name": "stderr",
     "output_type": "stream",
     "text": [
      "\u001b[32m[I 2022-03-26 02:08:22,827]\u001b[0m Trial 753 finished with value: 5.9182118131613715 and parameters: {'random_state': 519632, 'learning_rate': 0.11855204173472293, 'bagging_temperature': 3.7897902336549825, 'max_depth': 5, 'random_strength': 13, 'l2_leaf_reg': 2.11575509729037e-05, 'min_child_samples': 19, 'max_bin': 448, 'od_type': 'IncToDec', 'task_type': 'GPU', 'loss_function': 'MAE', 'eval_metric': 'MAE'}. Best is trial 502 with value: 5.916511005997932.\u001b[0m\n"
     ]
    },
    {
     "name": "stdout",
     "output_type": "stream",
     "text": [
      "MAE of Train: 5.907540400811916\n",
      "MAE of Validation: 5.9182118131613715\n"
     ]
    },
    {
     "name": "stderr",
     "output_type": "stream",
     "text": [
      "\u001b[32m[I 2022-03-26 02:08:29,440]\u001b[0m Trial 754 finished with value: 6.082213911623527 and parameters: {'random_state': 519632, 'learning_rate': 0.0034898010171636037, 'bagging_temperature': 5.393841793155002, 'max_depth': 5, 'random_strength': 13, 'l2_leaf_reg': 2.0680798523926058e-05, 'min_child_samples': 19, 'max_bin': 445, 'od_type': 'IncToDec', 'task_type': 'GPU', 'loss_function': 'MAE', 'eval_metric': 'MAE'}. Best is trial 502 with value: 5.916511005997932.\u001b[0m\n"
     ]
    },
    {
     "name": "stdout",
     "output_type": "stream",
     "text": [
      "MAE of Train: 6.075768808739424\n",
      "MAE of Validation: 6.082213911623527\n"
     ]
    },
    {
     "name": "stderr",
     "output_type": "stream",
     "text": [
      "\u001b[32m[I 2022-03-26 02:08:36,428]\u001b[0m Trial 755 finished with value: 5.922442118049947 and parameters: {'random_state': 519632, 'learning_rate': 0.13673835181089125, 'bagging_temperature': 4.0962295035555565, 'max_depth': 4, 'random_strength': 12, 'l2_leaf_reg': 1.9858093292648572e-05, 'min_child_samples': 20, 'max_bin': 434, 'od_type': 'IncToDec', 'task_type': 'GPU', 'loss_function': 'MAE', 'eval_metric': 'MAE'}. Best is trial 502 with value: 5.916511005997932.\u001b[0m\n"
     ]
    },
    {
     "name": "stdout",
     "output_type": "stream",
     "text": [
      "MAE of Train: 5.915230923291545\n",
      "MAE of Validation: 5.922442118049947\n"
     ]
    },
    {
     "name": "stderr",
     "output_type": "stream",
     "text": [
      "\u001b[32m[I 2022-03-26 02:08:41,879]\u001b[0m Trial 756 finished with value: 5.92984856409674 and parameters: {'random_state': 519632, 'learning_rate': 0.17176606984397888, 'bagging_temperature': 4.874162577385561, 'max_depth': 5, 'random_strength': 10, 'l2_leaf_reg': 2.148321583213196e-05, 'min_child_samples': 60, 'max_bin': 447, 'od_type': 'IncToDec', 'task_type': 'GPU', 'loss_function': 'MAE', 'eval_metric': 'MAE'}. Best is trial 502 with value: 5.916511005997932.\u001b[0m\n"
     ]
    },
    {
     "name": "stdout",
     "output_type": "stream",
     "text": [
      "MAE of Train: 5.918010897486926\n",
      "MAE of Validation: 5.92984856409674\n"
     ]
    },
    {
     "name": "stderr",
     "output_type": "stream",
     "text": [
      "\u001b[32m[I 2022-03-26 02:08:49,139]\u001b[0m Trial 757 finished with value: 5.921950407807022 and parameters: {'random_state': 519632, 'learning_rate': 0.12155744227002567, 'bagging_temperature': 3.9556252531310867, 'max_depth': 5, 'random_strength': 17, 'l2_leaf_reg': 2.2407938990500833e-05, 'min_child_samples': 18, 'max_bin': 436, 'od_type': 'IncToDec', 'task_type': 'GPU', 'loss_function': 'MAE', 'eval_metric': 'MAE'}. Best is trial 502 with value: 5.916511005997932.\u001b[0m\n"
     ]
    },
    {
     "name": "stdout",
     "output_type": "stream",
     "text": [
      "MAE of Train: 5.909775270844962\n",
      "MAE of Validation: 5.921950407807022\n"
     ]
    },
    {
     "name": "stderr",
     "output_type": "stream",
     "text": [
      "\u001b[32m[I 2022-03-26 02:08:51,102]\u001b[0m Trial 758 finished with value: 5.9590611065210535 and parameters: {'random_state': 519632, 'learning_rate': 0.1192587393632547, 'bagging_temperature': 0.029057468561706917, 'max_depth': 5, 'random_strength': 15, 'l2_leaf_reg': 2.130049417981638e-05, 'min_child_samples': 22, 'max_bin': 444, 'od_type': 'IncToDec', 'task_type': 'GPU', 'loss_function': 'MAE', 'eval_metric': 'MAE'}. Best is trial 502 with value: 5.916511005997932.\u001b[0m\n"
     ]
    },
    {
     "name": "stdout",
     "output_type": "stream",
     "text": [
      "MAE of Train: 5.952195182543024\n",
      "MAE of Validation: 5.9590611065210535\n"
     ]
    },
    {
     "name": "stderr",
     "output_type": "stream",
     "text": [
      "\u001b[32m[I 2022-03-26 02:08:54,270]\u001b[0m Trial 759 finished with value: 5.940294274023102 and parameters: {'random_state': 519632, 'learning_rate': 0.21739734714519715, 'bagging_temperature': 2.635148785075469, 'max_depth': 5, 'random_strength': 15, 'l2_leaf_reg': 2.035225685335319e-05, 'min_child_samples': 16, 'max_bin': 423, 'od_type': 'IncToDec', 'task_type': 'GPU', 'loss_function': 'MAE', 'eval_metric': 'MAE'}. Best is trial 502 with value: 5.916511005997932.\u001b[0m\n"
     ]
    },
    {
     "name": "stdout",
     "output_type": "stream",
     "text": [
      "MAE of Train: 5.935587926408258\n",
      "MAE of Validation: 5.940294274023102\n"
     ]
    },
    {
     "name": "stderr",
     "output_type": "stream",
     "text": [
      "\u001b[32m[I 2022-03-26 02:09:01,129]\u001b[0m Trial 760 finished with value: 5.948643447041134 and parameters: {'random_state': 519632, 'learning_rate': 0.16150709962038587, 'bagging_temperature': 6.798049349674241, 'max_depth': 5, 'random_strength': 7, 'l2_leaf_reg': 2.1980855331767886e-05, 'min_child_samples': 21, 'max_bin': 450, 'od_type': 'IncToDec', 'task_type': 'GPU', 'loss_function': 'MAE', 'eval_metric': 'MAE'}. Best is trial 502 with value: 5.916511005997932.\u001b[0m\n"
     ]
    },
    {
     "name": "stdout",
     "output_type": "stream",
     "text": [
      "MAE of Train: 5.931158004749194\n",
      "MAE of Validation: 5.948643447041134\n"
     ]
    },
    {
     "name": "stderr",
     "output_type": "stream",
     "text": [
      "\u001b[32m[I 2022-03-26 02:09:08,324]\u001b[0m Trial 761 finished with value: 5.925570526396514 and parameters: {'random_state': 519632, 'learning_rate': 0.14139846469873202, 'bagging_temperature': 3.5579957920091094, 'max_depth': 5, 'random_strength': 10, 'l2_leaf_reg': 2.2786059957477776e-05, 'min_child_samples': 18, 'max_bin': 440, 'od_type': 'IncToDec', 'task_type': 'GPU', 'loss_function': 'MAE', 'eval_metric': 'MAE'}. Best is trial 502 with value: 5.916511005997932.\u001b[0m\n"
     ]
    },
    {
     "name": "stdout",
     "output_type": "stream",
     "text": [
      "MAE of Train: 5.9179850902107525\n",
      "MAE of Validation: 5.925570526396514\n"
     ]
    },
    {
     "name": "stderr",
     "output_type": "stream",
     "text": [
      "\u001b[32m[I 2022-03-26 02:09:10,712]\u001b[0m Trial 762 finished with value: 5.948358369148167 and parameters: {'random_state': 519632, 'learning_rate': 0.11268081030162502, 'bagging_temperature': 0.015821233365161978, 'max_depth': 5, 'random_strength': 13, 'l2_leaf_reg': 2.183036236182696e-05, 'min_child_samples': 14, 'max_bin': 454, 'od_type': 'IncToDec', 'task_type': 'GPU', 'loss_function': 'MAE', 'eval_metric': 'MAE'}. Best is trial 502 with value: 5.916511005997932.\u001b[0m\n"
     ]
    },
    {
     "name": "stdout",
     "output_type": "stream",
     "text": [
      "MAE of Train: 5.944321968799707\n",
      "MAE of Validation: 5.948358369148167\n"
     ]
    },
    {
     "name": "stderr",
     "output_type": "stream",
     "text": [
      "\u001b[32m[I 2022-03-26 02:09:15,257]\u001b[0m Trial 763 finished with value: 5.93884670918496 and parameters: {'random_state': 519632, 'learning_rate': 0.0927172232755303, 'bagging_temperature': 2.1708516718047752, 'max_depth': 5, 'random_strength': 14, 'l2_leaf_reg': 1.6211277414356008e-05, 'min_child_samples': 19, 'max_bin': 458, 'od_type': 'IncToDec', 'task_type': 'GPU', 'loss_function': 'MAE', 'eval_metric': 'MAE'}. Best is trial 502 with value: 5.916511005997932.\u001b[0m\n"
     ]
    },
    {
     "name": "stdout",
     "output_type": "stream",
     "text": [
      "MAE of Train: 5.93355112700195\n",
      "MAE of Validation: 5.93884670918496\n"
     ]
    },
    {
     "name": "stderr",
     "output_type": "stream",
     "text": [
      "\u001b[32m[I 2022-03-26 02:09:19,728]\u001b[0m Trial 764 finished with value: 5.9349111010079945 and parameters: {'random_state': 519632, 'learning_rate': 0.1276159255334211, 'bagging_temperature': 3.0690771176076606, 'max_depth': 5, 'random_strength': 19, 'l2_leaf_reg': 2.0805584120250133e-05, 'min_child_samples': 73, 'max_bin': 415, 'od_type': 'IncToDec', 'task_type': 'GPU', 'loss_function': 'MAE', 'eval_metric': 'MAE'}. Best is trial 502 with value: 5.916511005997932.\u001b[0m\n"
     ]
    },
    {
     "name": "stdout",
     "output_type": "stream",
     "text": [
      "MAE of Train: 5.9286232259378835\n",
      "MAE of Validation: 5.9349111010079945\n"
     ]
    },
    {
     "name": "stderr",
     "output_type": "stream",
     "text": [
      "\u001b[32m[I 2022-03-26 02:09:24,529]\u001b[0m Trial 765 finished with value: 5.923898278306204 and parameters: {'random_state': 519632, 'learning_rate': 0.10615102874433137, 'bagging_temperature': 4.439658747176133, 'max_depth': 5, 'random_strength': 16, 'l2_leaf_reg': 2.1053273217685685e-05, 'min_child_samples': 17, 'max_bin': 301, 'od_type': 'IncToDec', 'task_type': 'GPU', 'loss_function': 'MAE', 'eval_metric': 'MAE'}. Best is trial 502 with value: 5.916511005997932.\u001b[0m\n"
     ]
    },
    {
     "name": "stdout",
     "output_type": "stream",
     "text": [
      "MAE of Train: 5.91700176897469\n",
      "MAE of Validation: 5.923898278306204\n"
     ]
    },
    {
     "name": "stderr",
     "output_type": "stream",
     "text": [
      "\u001b[32m[I 2022-03-26 02:09:31,547]\u001b[0m Trial 766 finished with value: 5.9376796119357165 and parameters: {'random_state': 519632, 'learning_rate': 0.18884935851065654, 'bagging_temperature': 5.566481341050029, 'max_depth': 5, 'random_strength': 8, 'l2_leaf_reg': 2.1363300419190398e-05, 'min_child_samples': 21, 'max_bin': 448, 'od_type': 'IncToDec', 'task_type': 'GPU', 'loss_function': 'MAE', 'eval_metric': 'MAE'}. Best is trial 502 with value: 5.916511005997932.\u001b[0m\n"
     ]
    },
    {
     "name": "stdout",
     "output_type": "stream",
     "text": [
      "MAE of Train: 5.918358283089489\n",
      "MAE of Validation: 5.9376796119357165\n"
     ]
    },
    {
     "name": "stderr",
     "output_type": "stream",
     "text": [
      "\u001b[32m[I 2022-03-26 02:09:38,693]\u001b[0m Trial 767 finished with value: 5.91971413473028 and parameters: {'random_state': 519632, 'learning_rate': 0.15001578239178898, 'bagging_temperature': 3.800318783933474, 'max_depth': 4, 'random_strength': 13, 'l2_leaf_reg': 1.9685152591459923e-05, 'min_child_samples': 82, 'max_bin': 402, 'od_type': 'IncToDec', 'task_type': 'GPU', 'loss_function': 'MAE', 'eval_metric': 'MAE'}. Best is trial 502 with value: 5.916511005997932.\u001b[0m\n"
     ]
    },
    {
     "name": "stdout",
     "output_type": "stream",
     "text": [
      "MAE of Train: 5.9127890740785745\n",
      "MAE of Validation: 5.91971413473028\n"
     ]
    },
    {
     "name": "stderr",
     "output_type": "stream",
     "text": [
      "\u001b[32m[I 2022-03-26 02:09:41,154]\u001b[0m Trial 768 finished with value: 6.002187906652914 and parameters: {'random_state': 519632, 'learning_rate': 0.1653182486542027, 'bagging_temperature': 0.4219162506538152, 'max_depth': 4, 'random_strength': 12, 'l2_leaf_reg': 1.9661581610686025e-05, 'min_child_samples': 82, 'max_bin': 403, 'od_type': 'IncToDec', 'task_type': 'GPU', 'loss_function': 'MAE', 'eval_metric': 'MAE'}. Best is trial 502 with value: 5.916511005997932.\u001b[0m\n"
     ]
    },
    {
     "name": "stdout",
     "output_type": "stream",
     "text": [
      "MAE of Train: 5.995607410849094\n",
      "MAE of Validation: 6.002187906652914\n"
     ]
    },
    {
     "name": "stderr",
     "output_type": "stream",
     "text": [
      "\u001b[32m[I 2022-03-26 02:09:44,900]\u001b[0m Trial 769 finished with value: 5.94182126878268 and parameters: {'random_state': 519632, 'learning_rate': 0.18087621470352153, 'bagging_temperature': 2.4628178142178436, 'max_depth': 4, 'random_strength': 11, 'l2_leaf_reg': 1.8930673872166577e-05, 'min_child_samples': 78, 'max_bin': 405, 'od_type': 'IncToDec', 'task_type': 'GPU', 'loss_function': 'MAE', 'eval_metric': 'MAE'}. Best is trial 502 with value: 5.916511005997932.\u001b[0m\n"
     ]
    },
    {
     "name": "stdout",
     "output_type": "stream",
     "text": [
      "MAE of Train: 5.938120929635074\n",
      "MAE of Validation: 5.94182126878268\n"
     ]
    },
    {
     "name": "stderr",
     "output_type": "stream",
     "text": [
      "\u001b[32m[I 2022-03-26 02:09:48,807]\u001b[0m Trial 770 finished with value: 5.963236149048974 and parameters: {'random_state': 519632, 'learning_rate': 0.149697621186696, 'bagging_temperature': 3.274685226520254, 'max_depth': 3, 'random_strength': 14, 'l2_leaf_reg': 1.5421023438666698e-05, 'min_child_samples': 80, 'max_bin': 395, 'od_type': 'IncToDec', 'task_type': 'GPU', 'loss_function': 'MAE', 'eval_metric': 'MAE'}. Best is trial 502 with value: 5.916511005997932.\u001b[0m\n"
     ]
    },
    {
     "name": "stdout",
     "output_type": "stream",
     "text": [
      "MAE of Train: 5.959430016928672\n",
      "MAE of Validation: 5.963236149048974\n"
     ]
    },
    {
     "name": "stderr",
     "output_type": "stream",
     "text": [
      "\u001b[32m[I 2022-03-26 02:09:51,119]\u001b[0m Trial 771 finished with value: 5.970893026028667 and parameters: {'random_state': 519632, 'learning_rate': 0.22581240769005562, 'bagging_temperature': 2.9405008212270674, 'max_depth': 4, 'random_strength': 14, 'l2_leaf_reg': 1.8530063510716228e-05, 'min_child_samples': 83, 'max_bin': 379, 'od_type': 'IncToDec', 'task_type': 'GPU', 'loss_function': 'MAE', 'eval_metric': 'MAE'}. Best is trial 502 with value: 5.916511005997932.\u001b[0m\n"
     ]
    },
    {
     "name": "stdout",
     "output_type": "stream",
     "text": [
      "MAE of Train: 5.968001961366886\n",
      "MAE of Validation: 5.970893026028667\n"
     ]
    },
    {
     "name": "stderr",
     "output_type": "stream",
     "text": [
      "\u001b[32m[I 2022-03-26 02:09:57,892]\u001b[0m Trial 772 finished with value: 5.92903225325275 and parameters: {'random_state': 519632, 'learning_rate': 0.2074194287952991, 'bagging_temperature': 4.78297137367193, 'max_depth': 4, 'random_strength': 12, 'l2_leaf_reg': 1.7667296585534647e-05, 'min_child_samples': 86, 'max_bin': 253, 'od_type': 'IncToDec', 'task_type': 'GPU', 'loss_function': 'MAE', 'eval_metric': 'MAE'}. Best is trial 502 with value: 5.916511005997932.\u001b[0m\n"
     ]
    },
    {
     "name": "stdout",
     "output_type": "stream",
     "text": [
      "MAE of Train: 5.917207689886224\n",
      "MAE of Validation: 5.92903225325275\n"
     ]
    },
    {
     "name": "stderr",
     "output_type": "stream",
     "text": [
      "\u001b[32m[I 2022-03-26 02:09:59,493]\u001b[0m Trial 773 finished with value: 5.995318943629542 and parameters: {'random_state': 519632, 'learning_rate': 0.15050515688483082, 'bagging_temperature': 1.890907339366129, 'max_depth': 3, 'random_strength': 9, 'l2_leaf_reg': 1.9184851074157056e-05, 'min_child_samples': 85, 'max_bin': 457, 'od_type': 'IncToDec', 'task_type': 'GPU', 'loss_function': 'MAE', 'eval_metric': 'MAE'}. Best is trial 502 with value: 5.916511005997932.\u001b[0m\n"
     ]
    },
    {
     "name": "stdout",
     "output_type": "stream",
     "text": [
      "MAE of Train: 5.989376054367401\n",
      "MAE of Validation: 5.995318943629542\n"
     ]
    },
    {
     "name": "stderr",
     "output_type": "stream",
     "text": [
      "\u001b[32m[I 2022-03-26 02:10:06,503]\u001b[0m Trial 774 finished with value: 5.943507025293254 and parameters: {'random_state': 519632, 'learning_rate': 0.07394884310721808, 'bagging_temperature': 3.765089383491555, 'max_depth': 4, 'random_strength': 17, 'l2_leaf_reg': 2.0342417351047042e-05, 'min_child_samples': 80, 'max_bin': 389, 'od_type': 'IncToDec', 'task_type': 'GPU', 'loss_function': 'MAE', 'eval_metric': 'MAE'}. Best is trial 502 with value: 5.916511005997932.\u001b[0m\n"
     ]
    },
    {
     "name": "stdout",
     "output_type": "stream",
     "text": [
      "MAE of Train: 5.938697847020213\n",
      "MAE of Validation: 5.943507025293254\n"
     ]
    },
    {
     "name": "stderr",
     "output_type": "stream",
     "text": [
      "\u001b[32m[I 2022-03-26 02:10:09,110]\u001b[0m Trial 775 finished with value: 5.963896068738989 and parameters: {'random_state': 519632, 'learning_rate': 0.1372962478433583, 'bagging_temperature': 2.343008639128557, 'max_depth': 3, 'random_strength': 20, 'l2_leaf_reg': 2.3830026695950762e-05, 'min_child_samples': 82, 'max_bin': 394, 'od_type': 'IncToDec', 'task_type': 'GPU', 'loss_function': 'MAE', 'eval_metric': 'MAE'}. Best is trial 502 with value: 5.916511005997932.\u001b[0m\n"
     ]
    },
    {
     "name": "stdout",
     "output_type": "stream",
     "text": [
      "MAE of Train: 5.959618123527924\n",
      "MAE of Validation: 5.963896068738989\n"
     ]
    },
    {
     "name": "stderr",
     "output_type": "stream",
     "text": [
      "\u001b[32m[I 2022-03-26 02:10:16,208]\u001b[0m Trial 776 finished with value: 5.946385240849185 and parameters: {'random_state': 519632, 'learning_rate': 0.08732782752546486, 'bagging_temperature': 3.0935407737042016, 'max_depth': 3, 'random_strength': 11, 'l2_leaf_reg': 1.6300685652622114e-06, 'min_child_samples': 77, 'max_bin': 450, 'od_type': 'IncToDec', 'task_type': 'GPU', 'loss_function': 'MAE', 'eval_metric': 'MAE'}. Best is trial 502 with value: 5.916511005997932.\u001b[0m\n"
     ]
    },
    {
     "name": "stdout",
     "output_type": "stream",
     "text": [
      "MAE of Train: 5.942085341080581\n",
      "MAE of Validation: 5.946385240849185\n"
     ]
    },
    {
     "name": "stderr",
     "output_type": "stream",
     "text": [
      "\u001b[32m[I 2022-03-26 02:10:23,221]\u001b[0m Trial 777 finished with value: 5.922097774999946 and parameters: {'random_state': 519632, 'learning_rate': 0.06484287525222635, 'bagging_temperature': 4.112750848048893, 'max_depth': 4, 'random_strength': 16, 'l2_leaf_reg': 1.937382948783444e-05, 'min_child_samples': 84, 'max_bin': 442, 'od_type': 'IncToDec', 'task_type': 'GPU', 'loss_function': 'MAE', 'eval_metric': 'MAE'}. Best is trial 502 with value: 5.916511005997932.\u001b[0m\n"
     ]
    },
    {
     "name": "stdout",
     "output_type": "stream",
     "text": [
      "MAE of Train: 5.91674665404197\n",
      "MAE of Validation: 5.922097774999946\n"
     ]
    },
    {
     "name": "stderr",
     "output_type": "stream",
     "text": [
      "\u001b[32m[I 2022-03-26 02:10:30,418]\u001b[0m Trial 778 finished with value: 5.933268757544814 and parameters: {'random_state': 519632, 'learning_rate': 0.04397853645871336, 'bagging_temperature': 3.669146094624508, 'max_depth': 4, 'random_strength': 13, 'l2_leaf_reg': 9.353207035440568e-07, 'min_child_samples': 81, 'max_bin': 400, 'od_type': 'IncToDec', 'task_type': 'GPU', 'loss_function': 'MAE', 'eval_metric': 'MAE'}. Best is trial 502 with value: 5.916511005997932.\u001b[0m\n"
     ]
    },
    {
     "name": "stdout",
     "output_type": "stream",
     "text": [
      "MAE of Train: 5.929150384068006\n",
      "MAE of Validation: 5.933268757544814\n"
     ]
    },
    {
     "name": "stderr",
     "output_type": "stream",
     "text": [
      "\u001b[32m[I 2022-03-26 02:10:33,087]\u001b[0m Trial 779 finished with value: 5.979092067338803 and parameters: {'random_state': 519632, 'learning_rate': 0.16519667459491386, 'bagging_temperature': 2.7620636870953814, 'max_depth': 4, 'random_strength': 10, 'l2_leaf_reg': 1.98934112079197e-05, 'min_child_samples': 15, 'max_bin': 458, 'od_type': 'IncToDec', 'task_type': 'GPU', 'loss_function': 'MAE', 'eval_metric': 'MAE'}. Best is trial 502 with value: 5.916511005997932.\u001b[0m\n"
     ]
    },
    {
     "name": "stdout",
     "output_type": "stream",
     "text": [
      "MAE of Train: 5.973902108916274\n",
      "MAE of Validation: 5.979092067338803\n"
     ]
    },
    {
     "name": "stderr",
     "output_type": "stream",
     "text": [
      "\u001b[32m[I 2022-03-26 02:10:39,887]\u001b[0m Trial 780 finished with value: 5.929429910819984 and parameters: {'random_state': 519632, 'learning_rate': 0.10949839751989308, 'bagging_temperature': 5.207423495211756, 'max_depth': 4, 'random_strength': 14, 'l2_leaf_reg': 2.0020745477134245e-05, 'min_child_samples': 79, 'max_bin': 452, 'od_type': 'IncToDec', 'task_type': 'GPU', 'loss_function': 'MAE', 'eval_metric': 'MAE'}. Best is trial 502 with value: 5.916511005997932.\u001b[0m\n"
     ]
    },
    {
     "name": "stdout",
     "output_type": "stream",
     "text": [
      "MAE of Train: 5.921866480880254\n",
      "MAE of Validation: 5.929429910819984\n"
     ]
    },
    {
     "name": "stderr",
     "output_type": "stream",
     "text": [
      "\u001b[32m[I 2022-03-26 02:10:46,628]\u001b[0m Trial 781 finished with value: 5.988438067144878 and parameters: {'random_state': 519632, 'learning_rate': 0.008042542310801025, 'bagging_temperature': 3.3172576544772445, 'max_depth': 3, 'random_strength': 7, 'l2_leaf_reg': 1.8088278243248823e-06, 'min_child_samples': 83, 'max_bin': 489, 'od_type': 'IncToDec', 'task_type': 'GPU', 'loss_function': 'MAE', 'eval_metric': 'MAE'}. Best is trial 502 with value: 5.916511005997932.\u001b[0m\n"
     ]
    },
    {
     "name": "stdout",
     "output_type": "stream",
     "text": [
      "MAE of Train: 5.9818252375075796\n",
      "MAE of Validation: 5.988438067144878\n"
     ]
    },
    {
     "name": "stderr",
     "output_type": "stream",
     "text": [
      "\u001b[32m[I 2022-03-26 02:10:53,575]\u001b[0m Trial 782 finished with value: 5.920163884999986 and parameters: {'random_state': 519632, 'learning_rate': 0.0907622869852034, 'bagging_temperature': 4.268111831772322, 'max_depth': 5, 'random_strength': 18, 'l2_leaf_reg': 1.7301362097380355e-05, 'min_child_samples': 86, 'max_bin': 388, 'od_type': 'IncToDec', 'task_type': 'GPU', 'loss_function': 'MAE', 'eval_metric': 'MAE'}. Best is trial 502 with value: 5.916511005997932.\u001b[0m\n"
     ]
    },
    {
     "name": "stdout",
     "output_type": "stream",
     "text": [
      "MAE of Train: 5.9113639913995\n",
      "MAE of Validation: 5.920163884999986\n"
     ]
    },
    {
     "name": "stderr",
     "output_type": "stream",
     "text": [
      "\u001b[32m[I 2022-03-26 02:11:00,255]\u001b[0m Trial 783 finished with value: 5.939846150171446 and parameters: {'random_state': 519632, 'learning_rate': 0.13218953884976023, 'bagging_temperature': 6.111107627489807, 'max_depth': 4, 'random_strength': 23, 'l2_leaf_reg': 2.4917893809391997e-05, 'min_child_samples': 22, 'max_bin': 460, 'od_type': 'Iter', 'task_type': 'GPU', 'loss_function': 'MAE', 'eval_metric': 'MAE'}. Best is trial 502 with value: 5.916511005997932.\u001b[0m\n"
     ]
    },
    {
     "name": "stdout",
     "output_type": "stream",
     "text": [
      "MAE of Train: 5.931798292483485\n",
      "MAE of Validation: 5.939846150171446\n"
     ]
    },
    {
     "name": "stderr",
     "output_type": "stream",
     "text": [
      "\u001b[32m[I 2022-03-26 02:11:04,202]\u001b[0m Trial 784 finished with value: 5.937213369457571 and parameters: {'random_state': 519632, 'learning_rate': 0.1954826346563767, 'bagging_temperature': 2.265187759213678, 'max_depth': 5, 'random_strength': 46, 'l2_leaf_reg': 2.2588571709941247e-05, 'min_child_samples': 81, 'max_bin': 445, 'od_type': 'Iter', 'task_type': 'GPU', 'loss_function': 'MAE', 'eval_metric': 'MAE'}. Best is trial 502 with value: 5.916511005997932.\u001b[0m\n"
     ]
    },
    {
     "name": "stdout",
     "output_type": "stream",
     "text": [
      "MAE of Train: 5.931991231611337\n",
      "MAE of Validation: 5.937213369457571\n"
     ]
    },
    {
     "name": "stderr",
     "output_type": "stream",
     "text": [
      "\u001b[32m[I 2022-03-26 02:11:09,171]\u001b[0m Trial 785 finished with value: 5.943337133118003 and parameters: {'random_state': 519632, 'learning_rate': 0.07722492175740285, 'bagging_temperature': 2.6859429475889165, 'max_depth': 5, 'random_strength': 32, 'l2_leaf_reg': 1.0344503499190081e-08, 'min_child_samples': 19, 'max_bin': 383, 'od_type': 'IncToDec', 'task_type': 'GPU', 'loss_function': 'MAE', 'eval_metric': 'MAE'}. Best is trial 502 with value: 5.916511005997932.\u001b[0m\n"
     ]
    },
    {
     "name": "stdout",
     "output_type": "stream",
     "text": [
      "MAE of Train: 5.938312002131817\n",
      "MAE of Validation: 5.943337133118003\n"
     ]
    },
    {
     "name": "stderr",
     "output_type": "stream",
     "text": [
      "\u001b[32m[I 2022-03-26 02:11:15,839]\u001b[0m Trial 786 finished with value: 5.9495089400958 and parameters: {'random_state': 519632, 'learning_rate': 0.10112018437336522, 'bagging_temperature': 8.333207907283667, 'max_depth': 5, 'random_strength': 16, 'l2_leaf_reg': 1.4134506544262643e-05, 'min_child_samples': 85, 'max_bin': 373, 'od_type': 'Iter', 'task_type': 'GPU', 'loss_function': 'MAE', 'eval_metric': 'MAE'}. Best is trial 502 with value: 5.916511005997932.\u001b[0m\n"
     ]
    },
    {
     "name": "stdout",
     "output_type": "stream",
     "text": [
      "MAE of Train: 5.936045707748233\n",
      "MAE of Validation: 5.9495089400958\n"
     ]
    },
    {
     "name": "stderr",
     "output_type": "stream",
     "text": [
      "\u001b[32m[I 2022-03-26 02:11:22,758]\u001b[0m Trial 787 finished with value: 5.943136294387429 and parameters: {'random_state': 519632, 'learning_rate': 0.05115081459259798, 'bagging_temperature': 1.4726170002281638, 'max_depth': 5, 'random_strength': 21, 'l2_leaf_reg': 5.670070474401887e-07, 'min_child_samples': 76, 'max_bin': 334, 'od_type': 'IncToDec', 'task_type': 'GPU', 'loss_function': 'MAE', 'eval_metric': 'MAE'}. Best is trial 502 with value: 5.916511005997932.\u001b[0m\n"
     ]
    },
    {
     "name": "stdout",
     "output_type": "stream",
     "text": [
      "MAE of Train: 5.937971158753986\n",
      "MAE of Validation: 5.943136294387429\n"
     ]
    },
    {
     "name": "stderr",
     "output_type": "stream",
     "text": [
      "\u001b[32m[I 2022-03-26 02:11:29,541]\u001b[0m Trial 788 finished with value: 5.927574251873056 and parameters: {'random_state': 519632, 'learning_rate': 0.15729650608859366, 'bagging_temperature': 4.729426383872454, 'max_depth': 5, 'random_strength': 47, 'l2_leaf_reg': 1.826978778302746e-05, 'min_child_samples': 79, 'max_bin': 455, 'od_type': 'Iter', 'task_type': 'GPU', 'loss_function': 'MAE', 'eval_metric': 'MAE'}. Best is trial 502 with value: 5.916511005997932.\u001b[0m\n"
     ]
    },
    {
     "name": "stdout",
     "output_type": "stream",
     "text": [
      "MAE of Train: 5.913794702257267\n",
      "MAE of Validation: 5.927574251873056\n"
     ]
    },
    {
     "name": "stderr",
     "output_type": "stream",
     "text": [
      "\u001b[32m[I 2022-03-26 02:11:36,435]\u001b[0m Trial 789 finished with value: 5.926878572104806 and parameters: {'random_state': 519632, 'learning_rate': 0.11912224121384431, 'bagging_temperature': 3.5251597268909918, 'max_depth': 4, 'random_strength': 13, 'l2_leaf_reg': 2.5906929576789383e-05, 'min_child_samples': 82, 'max_bin': 436, 'od_type': 'IncToDec', 'task_type': 'GPU', 'loss_function': 'MAE', 'eval_metric': 'MAE'}. Best is trial 502 with value: 5.916511005997932.\u001b[0m\n"
     ]
    },
    {
     "name": "stdout",
     "output_type": "stream",
     "text": [
      "MAE of Train: 5.922061620081737\n",
      "MAE of Validation: 5.926878572104806\n"
     ]
    },
    {
     "name": "stderr",
     "output_type": "stream",
     "text": [
      "\u001b[32m[I 2022-03-26 02:11:43,302]\u001b[0m Trial 790 finished with value: 5.945948402131104 and parameters: {'random_state': 519632, 'learning_rate': 0.2562797495200078, 'bagging_temperature': 3.0722271770331515, 'max_depth': 5, 'random_strength': 3, 'l2_leaf_reg': 2.8764420215122198e-05, 'min_child_samples': 23, 'max_bin': 450, 'od_type': 'Iter', 'task_type': 'GPU', 'loss_function': 'MAE', 'eval_metric': 'MAE'}. Best is trial 502 with value: 5.916511005997932.\u001b[0m\n"
     ]
    },
    {
     "name": "stdout",
     "output_type": "stream",
     "text": [
      "MAE of Train: 5.939642277888253\n",
      "MAE of Validation: 5.945948402131104\n"
     ]
    },
    {
     "name": "stderr",
     "output_type": "stream",
     "text": [
      "\u001b[32m[I 2022-03-26 02:11:50,956]\u001b[0m Trial 791 finished with value: 5.9349539891598235 and parameters: {'random_state': 519632, 'learning_rate': 0.017102061098127723, 'bagging_temperature': 3.8277270456135795, 'max_depth': 6, 'random_strength': 44, 'l2_leaf_reg': 1.6465196434821737e-06, 'min_child_samples': 16, 'max_bin': 460, 'od_type': 'Iter', 'task_type': 'GPU', 'loss_function': 'MAE', 'eval_metric': 'MAE'}. Best is trial 502 with value: 5.916511005997932.\u001b[0m\n"
     ]
    },
    {
     "name": "stdout",
     "output_type": "stream",
     "text": [
      "MAE of Train: 5.928858296959967\n",
      "MAE of Validation: 5.9349539891598235\n"
     ]
    },
    {
     "name": "stderr",
     "output_type": "stream",
     "text": [
      "\u001b[32m[I 2022-03-26 02:11:58,432]\u001b[0m Trial 792 finished with value: 5.928141167661685 and parameters: {'random_state': 519632, 'learning_rate': 0.0902379919108923, 'bagging_temperature': 2.513323075672254, 'max_depth': 5, 'random_strength': 28, 'l2_leaf_reg': 2.4240974682142434e-06, 'min_child_samples': 83, 'max_bin': 400, 'od_type': 'IncToDec', 'task_type': 'GPU', 'loss_function': 'MAE', 'eval_metric': 'MAE'}. Best is trial 502 with value: 5.916511005997932.\u001b[0m\n"
     ]
    },
    {
     "name": "stdout",
     "output_type": "stream",
     "text": [
      "MAE of Train: 5.9216104159924665\n",
      "MAE of Validation: 5.928141167661685\n"
     ]
    },
    {
     "name": "stderr",
     "output_type": "stream",
     "text": [
      "\u001b[32m[I 2022-03-26 02:12:02,518]\u001b[0m Trial 793 finished with value: 5.948697755100538 and parameters: {'random_state': 519632, 'learning_rate': 0.1341147137720734, 'bagging_temperature': 2.0368187773418622, 'max_depth': 5, 'random_strength': 10, 'l2_leaf_reg': 2.3297544840846926e-05, 'min_child_samples': 79, 'max_bin': 441, 'od_type': 'Iter', 'task_type': 'GPU', 'loss_function': 'MAE', 'eval_metric': 'MAE'}. Best is trial 502 with value: 5.916511005997932.\u001b[0m\n"
     ]
    },
    {
     "name": "stdout",
     "output_type": "stream",
     "text": [
      "MAE of Train: 5.94323271679589\n",
      "MAE of Validation: 5.948697755100538\n"
     ]
    },
    {
     "name": "stderr",
     "output_type": "stream",
     "text": [
      "\u001b[32m[I 2022-03-26 02:12:09,763]\u001b[0m Trial 794 finished with value: 5.923559486137925 and parameters: {'random_state': 519632, 'learning_rate': 0.06948082647850219, 'bagging_temperature': 4.428368897465765, 'max_depth': 5, 'random_strength': 48, 'l2_leaf_reg': 1.9459781587311742e-05, 'min_child_samples': 84, 'max_bin': 464, 'od_type': 'IncToDec', 'task_type': 'GPU', 'loss_function': 'MAE', 'eval_metric': 'MAE'}. Best is trial 502 with value: 5.916511005997932.\u001b[0m\n"
     ]
    },
    {
     "name": "stdout",
     "output_type": "stream",
     "text": [
      "MAE of Train: 5.91433510901162\n",
      "MAE of Validation: 5.923559486137925\n"
     ]
    },
    {
     "name": "stderr",
     "output_type": "stream",
     "text": [
      "\u001b[32m[I 2022-03-26 02:12:17,183]\u001b[0m Trial 795 finished with value: 5.91766678660684 and parameters: {'random_state': 519632, 'learning_rate': 0.10232564883011767, 'bagging_temperature': 2.9631977120901785, 'max_depth': 5, 'random_strength': 46, 'l2_leaf_reg': 2.9881268634297597e-05, 'min_child_samples': 87, 'max_bin': 446, 'od_type': 'Iter', 'task_type': 'GPU', 'loss_function': 'MAE', 'eval_metric': 'MAE'}. Best is trial 502 with value: 5.916511005997932.\u001b[0m\n"
     ]
    },
    {
     "name": "stdout",
     "output_type": "stream",
     "text": [
      "MAE of Train: 5.909836884471393\n",
      "MAE of Validation: 5.91766678660684\n"
     ]
    },
    {
     "name": "stderr",
     "output_type": "stream",
     "text": [
      "\u001b[32m[I 2022-03-26 02:12:21,173]\u001b[0m Trial 796 finished with value: 5.936108700570246 and parameters: {'random_state': 519632, 'learning_rate': 0.07983913138818956, 'bagging_temperature': 1.8506896172610257, 'max_depth': 10, 'random_strength': 47, 'l2_leaf_reg': 2.9625329923314846e-05, 'min_child_samples': 86, 'max_bin': 409, 'od_type': 'Iter', 'task_type': 'GPU', 'loss_function': 'MAE', 'eval_metric': 'MAE'}. Best is trial 502 with value: 5.916511005997932.\u001b[0m\n"
     ]
    },
    {
     "name": "stdout",
     "output_type": "stream",
     "text": [
      "MAE of Train: 5.922652165936422\n",
      "MAE of Validation: 5.936108700570246\n"
     ]
    },
    {
     "name": "stderr",
     "output_type": "stream",
     "text": [
      "\u001b[32m[I 2022-03-26 02:12:27,011]\u001b[0m Trial 797 finished with value: 5.934977691531726 and parameters: {'random_state': 519632, 'learning_rate': 0.09760976244618738, 'bagging_temperature': 2.6123743307118454, 'max_depth': 5, 'random_strength': 46, 'l2_leaf_reg': 2.9260360766081615e-05, 'min_child_samples': 89, 'max_bin': 442, 'od_type': 'IncToDec', 'task_type': 'GPU', 'loss_function': 'MAE', 'eval_metric': 'MAE'}. Best is trial 502 with value: 5.916511005997932.\u001b[0m\n"
     ]
    },
    {
     "name": "stdout",
     "output_type": "stream",
     "text": [
      "MAE of Train: 5.929483256594067\n",
      "MAE of Validation: 5.934977691531726\n"
     ]
    },
    {
     "name": "stderr",
     "output_type": "stream",
     "text": [
      "\u001b[32m[I 2022-03-26 02:12:34,066]\u001b[0m Trial 798 finished with value: 5.931315421280061 and parameters: {'random_state': 519632, 'learning_rate': 0.06327528389137851, 'bagging_temperature': 3.0496423641845904, 'max_depth': 5, 'random_strength': 49, 'l2_leaf_reg': 2.963189749463332e-05, 'min_child_samples': 87, 'max_bin': 491, 'od_type': 'Iter', 'task_type': 'GPU', 'loss_function': 'MAE', 'eval_metric': 'MAE'}. Best is trial 502 with value: 5.916511005997932.\u001b[0m\n"
     ]
    },
    {
     "name": "stdout",
     "output_type": "stream",
     "text": [
      "MAE of Train: 5.925171254142756\n",
      "MAE of Validation: 5.931315421280061\n"
     ]
    },
    {
     "name": "stderr",
     "output_type": "stream",
     "text": [
      "\u001b[32m[I 2022-03-26 02:12:38,858]\u001b[0m Trial 799 finished with value: 5.940458740052135 and parameters: {'random_state': 519632, 'learning_rate': 0.08834279780713947, 'bagging_temperature': 2.1463767679908416, 'max_depth': 5, 'random_strength': 18, 'l2_leaf_reg': 2.9907048450757756e-05, 'min_child_samples': 88, 'max_bin': 449, 'od_type': 'IncToDec', 'task_type': 'GPU', 'loss_function': 'MAE', 'eval_metric': 'MAE'}. Best is trial 502 with value: 5.916511005997932.\u001b[0m\n"
     ]
    },
    {
     "name": "stdout",
     "output_type": "stream",
     "text": [
      "MAE of Train: 5.934976157556056\n",
      "MAE of Validation: 5.940458740052135\n"
     ]
    },
    {
     "name": "stderr",
     "output_type": "stream",
     "text": [
      "\u001b[32m[I 2022-03-26 02:12:44,046]\u001b[0m Trial 800 finished with value: 5.934145812615663 and parameters: {'random_state': 519632, 'learning_rate': 0.10813423021587876, 'bagging_temperature': 2.983865016047846, 'max_depth': 7, 'random_strength': 15, 'l2_leaf_reg': 2.9709243425810104e-05, 'min_child_samples': 87, 'max_bin': 454, 'od_type': 'Iter', 'task_type': 'GPU', 'loss_function': 'MAE', 'eval_metric': 'MAE'}. Best is trial 502 with value: 5.916511005997932.\u001b[0m\n"
     ]
    },
    {
     "name": "stdout",
     "output_type": "stream",
     "text": [
      "MAE of Train: 5.924628146872831\n",
      "MAE of Validation: 5.934145812615663\n"
     ]
    },
    {
     "name": "stderr",
     "output_type": "stream",
     "text": [
      "\u001b[32m[I 2022-03-26 02:12:49,902]\u001b[0m Trial 801 finished with value: 6.03789099435974 and parameters: {'random_state': 519632, 'learning_rate': 0.07714284404427198, 'bagging_temperature': 18.637273106099755, 'max_depth': 3, 'random_strength': 82, 'l2_leaf_reg': 2.8864420089951815e-05, 'min_child_samples': 88, 'max_bin': 319, 'od_type': 'IncToDec', 'task_type': 'GPU', 'loss_function': 'MAE', 'eval_metric': 'MAE'}. Best is trial 502 with value: 5.916511005997932.\u001b[0m\n"
     ]
    },
    {
     "name": "stdout",
     "output_type": "stream",
     "text": [
      "MAE of Train: 6.035615094647521\n",
      "MAE of Validation: 6.03789099435974\n"
     ]
    },
    {
     "name": "stderr",
     "output_type": "stream",
     "text": [
      "\u001b[32m[I 2022-03-26 02:12:57,113]\u001b[0m Trial 802 finished with value: 5.921872823276315 and parameters: {'random_state': 519632, 'learning_rate': 0.10576561820931264, 'bagging_temperature': 3.6662662070864376, 'max_depth': 5, 'random_strength': 46, 'l2_leaf_reg': 2.992973410987077e-05, 'min_child_samples': 85, 'max_bin': 430, 'od_type': 'Iter', 'task_type': 'GPU', 'loss_function': 'MAE', 'eval_metric': 'MAE'}. Best is trial 502 with value: 5.916511005997932.\u001b[0m\n"
     ]
    },
    {
     "name": "stdout",
     "output_type": "stream",
     "text": [
      "MAE of Train: 5.913526977340332\n",
      "MAE of Validation: 5.921872823276315\n"
     ]
    },
    {
     "name": "stderr",
     "output_type": "stream",
     "text": [
      "\u001b[32m[I 2022-03-26 02:13:03,645]\u001b[0m Trial 803 finished with value: 5.9401366047208395 and parameters: {'random_state': 519632, 'learning_rate': 0.05674970800849651, 'bagging_temperature': 2.3398703661937588, 'max_depth': 5, 'random_strength': 45, 'l2_leaf_reg': 2.9034539866850955e-05, 'min_child_samples': 84, 'max_bin': 463, 'od_type': 'Iter', 'task_type': 'GPU', 'loss_function': 'MAE', 'eval_metric': 'MAE'}. Best is trial 502 with value: 5.916511005997932.\u001b[0m\n"
     ]
    },
    {
     "name": "stdout",
     "output_type": "stream",
     "text": [
      "MAE of Train: 5.934338907927273\n",
      "MAE of Validation: 5.9401366047208395\n"
     ]
    },
    {
     "name": "stderr",
     "output_type": "stream",
     "text": [
      "\u001b[32m[I 2022-03-26 02:13:07,209]\u001b[0m Trial 804 finished with value: 5.941156846832385 and parameters: {'random_state': 519632, 'learning_rate': 0.08507553488187622, 'bagging_temperature': 1.6191006155347543, 'max_depth': 6, 'random_strength': 49, 'l2_leaf_reg': 2.8890451679673206e-05, 'min_child_samples': 82, 'max_bin': 456, 'od_type': 'IncToDec', 'task_type': 'GPU', 'loss_function': 'MAE', 'eval_metric': 'MAE'}. Best is trial 502 with value: 5.916511005997932.\u001b[0m\n"
     ]
    },
    {
     "name": "stdout",
     "output_type": "stream",
     "text": [
      "MAE of Train: 5.93473177384741\n",
      "MAE of Validation: 5.941156846832385\n"
     ]
    },
    {
     "name": "stderr",
     "output_type": "stream",
     "text": [
      "\u001b[32m[I 2022-03-26 02:13:14,001]\u001b[0m Trial 805 finished with value: 5.935591029801031 and parameters: {'random_state': 519632, 'learning_rate': 0.09645206260431258, 'bagging_temperature': 5.577335703999806, 'max_depth': 4, 'random_strength': 13, 'l2_leaf_reg': 2.8260789948095632e-05, 'min_child_samples': 74, 'max_bin': 438, 'od_type': 'Iter', 'task_type': 'GPU', 'loss_function': 'MAE', 'eval_metric': 'MAE'}. Best is trial 502 with value: 5.916511005997932.\u001b[0m\n"
     ]
    },
    {
     "name": "stdout",
     "output_type": "stream",
     "text": [
      "MAE of Train: 5.928108314702718\n",
      "MAE of Validation: 5.935591029801031\n"
     ]
    },
    {
     "name": "stderr",
     "output_type": "stream",
     "text": [
      "\u001b[32m[I 2022-03-26 02:13:20,962]\u001b[0m Trial 806 finished with value: 5.932041338898933 and parameters: {'random_state': 519632, 'learning_rate': 0.0729440322895134, 'bagging_temperature': 3.4132478790078076, 'max_depth': 5, 'random_strength': 48, 'l2_leaf_reg': 1.581322171013924e-05, 'min_child_samples': 20, 'max_bin': 482, 'od_type': 'IncToDec', 'task_type': 'GPU', 'loss_function': 'MAE', 'eval_metric': 'MAE'}. Best is trial 502 with value: 5.916511005997932.\u001b[0m\n"
     ]
    },
    {
     "name": "stdout",
     "output_type": "stream",
     "text": [
      "MAE of Train: 5.9267180963384805\n",
      "MAE of Validation: 5.932041338898933\n"
     ]
    },
    {
     "name": "stderr",
     "output_type": "stream",
     "text": [
      "\u001b[32m[I 2022-03-26 02:13:23,970]\u001b[0m Trial 807 finished with value: 5.938608601936656 and parameters: {'random_state': 519632, 'learning_rate': 0.11745329392832674, 'bagging_temperature': 4.476792927600956, 'max_depth': 9, 'random_strength': 17, 'l2_leaf_reg': 2.9924441113067514e-05, 'min_child_samples': 81, 'max_bin': 200, 'od_type': 'Iter', 'task_type': 'GPU', 'loss_function': 'MAE', 'eval_metric': 'MAE'}. Best is trial 502 with value: 5.916511005997932.\u001b[0m\n"
     ]
    },
    {
     "name": "stdout",
     "output_type": "stream",
     "text": [
      "MAE of Train: 5.9144107421266625\n",
      "MAE of Validation: 5.938608601936656\n"
     ]
    },
    {
     "name": "stderr",
     "output_type": "stream",
     "text": [
      "\u001b[32m[I 2022-03-26 02:13:30,669]\u001b[0m Trial 808 finished with value: 5.925263993991634 and parameters: {'random_state': 519632, 'learning_rate': 0.09545287092569817, 'bagging_temperature': 2.751492439007749, 'max_depth': 5, 'random_strength': 11, 'l2_leaf_reg': 2.8507824597682464e-05, 'min_child_samples': 77, 'max_bin': 447, 'od_type': 'IncToDec', 'task_type': 'GPU', 'loss_function': 'MAE', 'eval_metric': 'MAE'}. Best is trial 502 with value: 5.916511005997932.\u001b[0m\n"
     ]
    },
    {
     "name": "stdout",
     "output_type": "stream",
     "text": [
      "MAE of Train: 5.91959326341781\n",
      "MAE of Validation: 5.925263993991634\n"
     ]
    },
    {
     "name": "stderr",
     "output_type": "stream",
     "text": [
      "\u001b[32m[I 2022-03-26 02:13:37,940]\u001b[0m Trial 809 finished with value: 5.920813959027016 and parameters: {'random_state': 519632, 'learning_rate': 0.11444061227462046, 'bagging_temperature': 3.8376912453149132, 'max_depth': 5, 'random_strength': 51, 'l2_leaf_reg': 9.423125548375903e-07, 'min_child_samples': 86, 'max_bin': 461, 'od_type': 'Iter', 'task_type': 'GPU', 'loss_function': 'MAE', 'eval_metric': 'MAE'}. Best is trial 502 with value: 5.916511005997932.\u001b[0m\n"
     ]
    },
    {
     "name": "stdout",
     "output_type": "stream",
     "text": [
      "MAE of Train: 5.911100822554823\n",
      "MAE of Validation: 5.920813959027016\n"
     ]
    },
    {
     "name": "stderr",
     "output_type": "stream",
     "text": [
      "\u001b[32m[I 2022-03-26 02:13:43,066]\u001b[0m Trial 810 finished with value: 5.931159963553607 and parameters: {'random_state': 519632, 'learning_rate': 0.08091713906347871, 'bagging_temperature': 3.023148821784931, 'max_depth': 5, 'random_strength': 20, 'l2_leaf_reg': 2.933395702400176e-05, 'min_child_samples': 88, 'max_bin': 446, 'od_type': 'IncToDec', 'task_type': 'GPU', 'loss_function': 'MAE', 'eval_metric': 'MAE'}. Best is trial 502 with value: 5.916511005997932.\u001b[0m\n"
     ]
    },
    {
     "name": "stdout",
     "output_type": "stream",
     "text": [
      "MAE of Train: 5.925222355059621\n",
      "MAE of Validation: 5.931159963553607\n"
     ]
    },
    {
     "name": "stderr",
     "output_type": "stream",
     "text": [
      "\u001b[32m[I 2022-03-26 02:13:49,829]\u001b[0m Trial 811 finished with value: 5.944579425848568 and parameters: {'random_state': 519632, 'learning_rate': 0.066295267087043, 'bagging_temperature': 7.112106047038298, 'max_depth': 5, 'random_strength': 48, 'l2_leaf_reg': 1.8909760622964456e-05, 'min_child_samples': 83, 'max_bin': 455, 'od_type': 'Iter', 'task_type': 'GPU', 'loss_function': 'MAE', 'eval_metric': 'MAE'}. Best is trial 502 with value: 5.916511005997932.\u001b[0m\n"
     ]
    },
    {
     "name": "stdout",
     "output_type": "stream",
     "text": [
      "MAE of Train: 5.933837096647295\n",
      "MAE of Validation: 5.944579425848568\n"
     ]
    },
    {
     "name": "stderr",
     "output_type": "stream",
     "text": [
      "\u001b[32m[I 2022-03-26 02:13:56,879]\u001b[0m Trial 812 finished with value: 5.927971446124091 and parameters: {'random_state': 519632, 'learning_rate': 0.10369992259818017, 'bagging_temperature': 5.111176977718503, 'max_depth': 5, 'random_strength': 44, 'l2_leaf_reg': 2.997804923799712e-05, 'min_child_samples': 84, 'max_bin': 435, 'od_type': 'Iter', 'task_type': 'GPU', 'loss_function': 'MAE', 'eval_metric': 'MAE'}. Best is trial 502 with value: 5.916511005997932.\u001b[0m\n"
     ]
    },
    {
     "name": "stdout",
     "output_type": "stream",
     "text": [
      "MAE of Train: 5.916291769656946\n",
      "MAE of Validation: 5.927971446124091\n"
     ]
    },
    {
     "name": "stderr",
     "output_type": "stream",
     "text": [
      "\u001b[32m[I 2022-03-26 02:14:02,542]\u001b[0m Trial 813 finished with value: 5.9360154349313765 and parameters: {'random_state': 519632, 'learning_rate': 0.12535030470551004, 'bagging_temperature': 2.350599394382258, 'max_depth': 5, 'random_strength': 6, 'l2_leaf_reg': 1.4840433424663295e-06, 'min_child_samples': 58, 'max_bin': 465, 'od_type': 'IncToDec', 'task_type': 'GPU', 'loss_function': 'MAE', 'eval_metric': 'MAE'}. Best is trial 502 with value: 5.916511005997932.\u001b[0m\n"
     ]
    },
    {
     "name": "stdout",
     "output_type": "stream",
     "text": [
      "MAE of Train: 5.930488670744378\n",
      "MAE of Validation: 5.9360154349313765\n"
     ]
    },
    {
     "name": "stderr",
     "output_type": "stream",
     "text": [
      "\u001b[32m[I 2022-03-26 02:14:09,807]\u001b[0m Trial 814 finished with value: 5.920092583990977 and parameters: {'random_state': 519632, 'learning_rate': 0.09005521135289091, 'bagging_temperature': 4.099343676634477, 'max_depth': 5, 'random_strength': 50, 'l2_leaf_reg': 7.127285606130556e-07, 'min_child_samples': 18, 'max_bin': 386, 'od_type': 'Iter', 'task_type': 'GPU', 'loss_function': 'MAE', 'eval_metric': 'MAE'}. Best is trial 502 with value: 5.916511005997932.\u001b[0m\n"
     ]
    },
    {
     "name": "stdout",
     "output_type": "stream",
     "text": [
      "MAE of Train: 5.910387792913095\n",
      "MAE of Validation: 5.920092583990977\n"
     ]
    },
    {
     "name": "stderr",
     "output_type": "stream",
     "text": [
      "\u001b[32m[I 2022-03-26 02:14:17,100]\u001b[0m Trial 815 finished with value: 5.920048772076604 and parameters: {'random_state': 519632, 'learning_rate': 0.07532214318330346, 'bagging_temperature': 3.3587554773826693, 'max_depth': 5, 'random_strength': 15, 'l2_leaf_reg': 2.780483707061897e-06, 'min_child_samples': 23, 'max_bin': 477, 'od_type': 'IncToDec', 'task_type': 'GPU', 'loss_function': 'MAE', 'eval_metric': 'MAE'}. Best is trial 502 with value: 5.916511005997932.\u001b[0m\n"
     ]
    },
    {
     "name": "stdout",
     "output_type": "stream",
     "text": [
      "MAE of Train: 5.913489688717941\n",
      "MAE of Validation: 5.920048772076604\n"
     ]
    },
    {
     "name": "stderr",
     "output_type": "stream",
     "text": [
      "\u001b[32m[I 2022-03-26 02:14:22,519]\u001b[0m Trial 816 finished with value: 5.952584877866004 and parameters: {'random_state': 519632, 'learning_rate': 0.14182933575857556, 'bagging_temperature': 2.892151992443145, 'max_depth': 5, 'random_strength': 46, 'l2_leaf_reg': 2.1252019331430085e-06, 'min_child_samples': 81, 'max_bin': 411, 'od_type': 'Iter', 'task_type': 'GPU', 'loss_function': 'MAE', 'eval_metric': 'MAE'}. Best is trial 502 with value: 5.916511005997932.\u001b[0m\n"
     ]
    },
    {
     "name": "stdout",
     "output_type": "stream",
     "text": [
      "MAE of Train: 5.947436093144682\n",
      "MAE of Validation: 5.952584877866004\n"
     ]
    },
    {
     "name": "stderr",
     "output_type": "stream",
     "text": [
      "\u001b[32m[I 2022-03-26 02:14:26,983]\u001b[0m Trial 817 finished with value: 5.9484312504990955 and parameters: {'random_state': 519632, 'learning_rate': 0.11172535170631884, 'bagging_temperature': 1.792172946845873, 'max_depth': 5, 'random_strength': 52, 'l2_leaf_reg': 2.8961720017267728e-05, 'min_child_samples': 21, 'max_bin': 450, 'od_type': 'IncToDec', 'task_type': 'GPU', 'loss_function': 'MAE', 'eval_metric': 'MAE'}. Best is trial 502 with value: 5.916511005997932.\u001b[0m\n"
     ]
    },
    {
     "name": "stdout",
     "output_type": "stream",
     "text": [
      "MAE of Train: 5.942616481346095\n",
      "MAE of Validation: 5.9484312504990955\n"
     ]
    },
    {
     "name": "stderr",
     "output_type": "stream",
     "text": [
      "\u001b[32m[I 2022-03-26 02:14:33,825]\u001b[0m Trial 818 finished with value: 5.9245913674382376 and parameters: {'random_state': 519632, 'learning_rate': 0.0893846799555981, 'bagging_temperature': 4.70436389537403, 'max_depth': 4, 'random_strength': 9, 'l2_leaf_reg': 1.0150634387378317e-06, 'min_child_samples': 78, 'max_bin': 353, 'od_type': 'Iter', 'task_type': 'GPU', 'loss_function': 'MAE', 'eval_metric': 'MAE'}. Best is trial 502 with value: 5.916511005997932.\u001b[0m\n"
     ]
    },
    {
     "name": "stdout",
     "output_type": "stream",
     "text": [
      "MAE of Train: 5.917590142195454\n",
      "MAE of Validation: 5.9245913674382376\n"
     ]
    },
    {
     "name": "stderr",
     "output_type": "stream",
     "text": [
      "\u001b[32m[I 2022-03-26 02:14:39,071]\u001b[0m Trial 819 finished with value: 5.924029031286712 and parameters: {'random_state': 519632, 'learning_rate': 0.12612148155738098, 'bagging_temperature': 2.513679441304718, 'max_depth': 6, 'random_strength': 54, 'l2_leaf_reg': 1.653827858432391e-05, 'min_child_samples': 86, 'max_bin': 395, 'od_type': 'IncToDec', 'task_type': 'GPU', 'loss_function': 'MAE', 'eval_metric': 'MAE'}. Best is trial 502 with value: 5.916511005997932.\u001b[0m\n"
     ]
    },
    {
     "name": "stdout",
     "output_type": "stream",
     "text": [
      "MAE of Train: 5.916583079040969\n",
      "MAE of Validation: 5.924029031286712\n"
     ]
    },
    {
     "name": "stderr",
     "output_type": "stream",
     "text": [
      "\u001b[32m[I 2022-03-26 02:14:46,370]\u001b[0m Trial 820 finished with value: 5.9210828570190905 and parameters: {'random_state': 519632, 'learning_rate': 0.0604025131716302, 'bagging_temperature': 3.4511093253345355, 'max_depth': 5, 'random_strength': 47, 'l2_leaf_reg': 2.835118606181065e-05, 'min_child_samples': 80, 'max_bin': 442, 'od_type': 'Iter', 'task_type': 'GPU', 'loss_function': 'MAE', 'eval_metric': 'MAE'}. Best is trial 502 with value: 5.916511005997932.\u001b[0m\n"
     ]
    },
    {
     "name": "stdout",
     "output_type": "stream",
     "text": [
      "MAE of Train: 5.914815929921727\n",
      "MAE of Validation: 5.9210828570190905\n"
     ]
    },
    {
     "name": "stderr",
     "output_type": "stream",
     "text": [
      "\u001b[32m[I 2022-03-26 02:14:52,206]\u001b[0m Trial 821 finished with value: 5.922573327137191 and parameters: {'random_state': 519632, 'learning_rate': 0.1043581319966046, 'bagging_temperature': 4.1255211145195165, 'max_depth': 5, 'random_strength': 43, 'l2_leaf_reg': 3.7527594973137713e-06, 'min_child_samples': 75, 'max_bin': 459, 'od_type': 'Iter', 'task_type': 'GPU', 'loss_function': 'MAE', 'eval_metric': 'MAE'}. Best is trial 502 with value: 5.916511005997932.\u001b[0m\n"
     ]
    },
    {
     "name": "stdout",
     "output_type": "stream",
     "text": [
      "MAE of Train: 5.913243579033047\n",
      "MAE of Validation: 5.922573327137191\n"
     ]
    },
    {
     "name": "stderr",
     "output_type": "stream",
     "text": [
      "\u001b[32m[I 2022-03-26 02:14:59,143]\u001b[0m Trial 822 finished with value: 5.9422858526890625 and parameters: {'random_state': 519632, 'learning_rate': 0.1746007301724613, 'bagging_temperature': 5.755806651173191, 'max_depth': 5, 'random_strength': 24, 'l2_leaf_reg': 1.7883606123355372e-06, 'min_child_samples': 84, 'max_bin': 466, 'od_type': 'IncToDec', 'task_type': 'GPU', 'loss_function': 'MAE', 'eval_metric': 'MAE'}. Best is trial 502 with value: 5.916511005997932.\u001b[0m\n"
     ]
    },
    {
     "name": "stdout",
     "output_type": "stream",
     "text": [
      "MAE of Train: 5.922743315081481\n",
      "MAE of Validation: 5.9422858526890625\n"
     ]
    },
    {
     "name": "stderr",
     "output_type": "stream",
     "text": [
      "\u001b[32m[I 2022-03-26 02:15:06,120]\u001b[0m Trial 823 finished with value: 5.930185999673618 and parameters: {'random_state': 519632, 'learning_rate': 0.07907757599234438, 'bagging_temperature': 2.816549203126876, 'max_depth': 5, 'random_strength': 50, 'l2_leaf_reg': 1.4765977736513758e-05, 'min_child_samples': 20, 'max_bin': 346, 'od_type': 'Iter', 'task_type': 'GPU', 'loss_function': 'MAE', 'eval_metric': 'MAE'}. Best is trial 502 with value: 5.916511005997932.\u001b[0m\n"
     ]
    },
    {
     "name": "stdout",
     "output_type": "stream",
     "text": [
      "MAE of Train: 5.924474390916462\n",
      "MAE of Validation: 5.930185999673618\n"
     ]
    },
    {
     "name": "stderr",
     "output_type": "stream",
     "text": [
      "\u001b[32m[I 2022-03-26 02:15:13,490]\u001b[0m Trial 824 finished with value: 5.919585148719199 and parameters: {'random_state': 519632, 'learning_rate': 0.13946649663275426, 'bagging_temperature': 3.6067013725094825, 'max_depth': 5, 'random_strength': 12, 'l2_leaf_reg': 1.2489698784098699e-05, 'min_child_samples': 88, 'max_bin': 489, 'od_type': 'IncToDec', 'task_type': 'GPU', 'loss_function': 'MAE', 'eval_metric': 'MAE'}. Best is trial 502 with value: 5.916511005997932.\u001b[0m\n"
     ]
    },
    {
     "name": "stdout",
     "output_type": "stream",
     "text": [
      "MAE of Train: 5.90971721586913\n",
      "MAE of Validation: 5.919585148719199\n"
     ]
    },
    {
     "name": "stderr",
     "output_type": "stream",
     "text": [
      "\u001b[32m[I 2022-03-26 02:15:19,894]\u001b[0m Trial 825 finished with value: 5.926582016476658 and parameters: {'random_state': 519632, 'learning_rate': 0.09728523000344569, 'bagging_temperature': 2.1332832347157114, 'max_depth': 5, 'random_strength': 73, 'l2_leaf_reg': 1.417788446049787e-05, 'min_child_samples': 86, 'max_bin': 493, 'od_type': 'Iter', 'task_type': 'GPU', 'loss_function': 'MAE', 'eval_metric': 'MAE'}. Best is trial 502 with value: 5.916511005997932.\u001b[0m\n"
     ]
    },
    {
     "name": "stdout",
     "output_type": "stream",
     "text": [
      "MAE of Train: 5.920567742478923\n",
      "MAE of Validation: 5.926582016476658\n"
     ]
    },
    {
     "name": "stderr",
     "output_type": "stream",
     "text": [
      "\u001b[32m[I 2022-03-26 02:15:27,253]\u001b[0m Trial 826 finished with value: 5.920128498750764 and parameters: {'random_state': 519632, 'learning_rate': 0.15891002236910437, 'bagging_temperature': 3.2294392470862037, 'max_depth': 5, 'random_strength': 14, 'l2_leaf_reg': 1.2449962212567703e-05, 'min_child_samples': 91, 'max_bin': 493, 'od_type': 'IncToDec', 'task_type': 'GPU', 'loss_function': 'MAE', 'eval_metric': 'MAE'}. Best is trial 502 with value: 5.916511005997932.\u001b[0m\n"
     ]
    },
    {
     "name": "stdout",
     "output_type": "stream",
     "text": [
      "MAE of Train: 5.910875698596929\n",
      "MAE of Validation: 5.920128498750764\n"
     ]
    },
    {
     "name": "stderr",
     "output_type": "stream",
     "text": [
      "\u001b[32m[I 2022-03-26 02:15:34,803]\u001b[0m Trial 827 finished with value: 5.929058021197096 and parameters: {'random_state': 519632, 'learning_rate': 0.06538546004046347, 'bagging_temperature': 2.526198172232038, 'max_depth': 6, 'random_strength': 13, 'l2_leaf_reg': 1.7003915522208585e-05, 'min_child_samples': 66, 'max_bin': 486, 'od_type': 'Iter', 'task_type': 'GPU', 'loss_function': 'MAE', 'eval_metric': 'MAE'}. Best is trial 502 with value: 5.916511005997932.\u001b[0m\n"
     ]
    },
    {
     "name": "stdout",
     "output_type": "stream",
     "text": [
      "MAE of Train: 5.9212882693290245\n",
      "MAE of Validation: 5.929058021197096\n"
     ]
    },
    {
     "name": "stderr",
     "output_type": "stream",
     "text": [
      "\u001b[32m[I 2022-03-26 02:15:41,725]\u001b[0m Trial 828 finished with value: 5.92459882353738 and parameters: {'random_state': 519632, 'learning_rate': 0.11749253496377411, 'bagging_temperature': 4.568794503970914, 'max_depth': 4, 'random_strength': 11, 'l2_leaf_reg': 1.4929300941499823e-05, 'min_child_samples': 89, 'max_bin': 484, 'od_type': 'IncToDec', 'task_type': 'GPU', 'loss_function': 'MAE', 'eval_metric': 'MAE'}. Best is trial 502 with value: 5.916511005997932.\u001b[0m\n"
     ]
    },
    {
     "name": "stdout",
     "output_type": "stream",
     "text": [
      "MAE of Train: 5.9170013195904785\n",
      "MAE of Validation: 5.92459882353738\n"
     ]
    },
    {
     "name": "stderr",
     "output_type": "stream",
     "text": [
      "\u001b[32m[I 2022-03-26 02:15:48,954]\u001b[0m Trial 829 finished with value: 5.920335280600353 and parameters: {'random_state': 519632, 'learning_rate': 0.08045639209722193, 'bagging_temperature': 3.5545278995464544, 'max_depth': 5, 'random_strength': 8, 'l2_leaf_reg': 1.2020152143508826e-05, 'min_child_samples': 86, 'max_bin': 498, 'od_type': 'Iter', 'task_type': 'GPU', 'loss_function': 'MAE', 'eval_metric': 'MAE'}. Best is trial 502 with value: 5.916511005997932.\u001b[0m\n"
     ]
    },
    {
     "name": "stdout",
     "output_type": "stream",
     "text": [
      "MAE of Train: 5.914014679051931\n",
      "MAE of Validation: 5.920335280600353\n"
     ]
    },
    {
     "name": "stderr",
     "output_type": "stream",
     "text": [
      "\u001b[32m[I 2022-03-26 02:15:51,661]\u001b[0m Trial 830 finished with value: 5.979578252929532 and parameters: {'random_state': 519632, 'learning_rate': 0.14122885867558865, 'bagging_temperature': 2.9715965527868544, 'max_depth': 5, 'random_strength': 0, 'l2_leaf_reg': 1.1971803137185025e-06, 'min_child_samples': 90, 'max_bin': 484, 'od_type': 'IncToDec', 'task_type': 'GPU', 'loss_function': 'MAE', 'eval_metric': 'MAE'}. Best is trial 502 with value: 5.916511005997932.\u001b[0m\n"
     ]
    },
    {
     "name": "stdout",
     "output_type": "stream",
     "text": [
      "MAE of Train: 5.973250754834681\n",
      "MAE of Validation: 5.979578252929532\n"
     ]
    },
    {
     "name": "stderr",
     "output_type": "stream",
     "text": [
      "\u001b[32m[I 2022-03-26 02:15:58,972]\u001b[0m Trial 831 finished with value: 5.924889833083091 and parameters: {'random_state': 519632, 'learning_rate': 0.05096867669674019, 'bagging_temperature': 3.7930517449584604, 'max_depth': 5, 'random_strength': 10, 'l2_leaf_reg': 1.1492123882143843e-05, 'min_child_samples': 88, 'max_bin': 490, 'od_type': 'Iter', 'task_type': 'GPU', 'loss_function': 'MAE', 'eval_metric': 'MAE'}. Best is trial 502 with value: 5.916511005997932.\u001b[0m\n"
     ]
    },
    {
     "name": "stdout",
     "output_type": "stream",
     "text": [
      "MAE of Train: 5.9179634032591615\n",
      "MAE of Validation: 5.924889833083091\n"
     ]
    },
    {
     "name": "stderr",
     "output_type": "stream",
     "text": [
      "\u001b[32m[I 2022-03-26 02:16:01,520]\u001b[0m Trial 832 finished with value: 5.950636559142265 and parameters: {'random_state': 519632, 'learning_rate': 0.1038963590797632, 'bagging_temperature': 2.192129888393727, 'max_depth': 5, 'random_strength': 12, 'l2_leaf_reg': 1.2505661371481228e-05, 'min_child_samples': 89, 'max_bin': 480, 'od_type': 'Iter', 'task_type': 'GPU', 'loss_function': 'MAE', 'eval_metric': 'MAE'}. Best is trial 502 with value: 5.916511005997932.\u001b[0m\n"
     ]
    },
    {
     "name": "stdout",
     "output_type": "stream",
     "text": [
      "MAE of Train: 5.9464416387102474\n",
      "MAE of Validation: 5.950636559142265\n"
     ]
    },
    {
     "name": "stderr",
     "output_type": "stream",
     "text": [
      "\u001b[32m[I 2022-03-26 02:16:06,503]\u001b[0m Trial 833 finished with value: 5.933426201499163 and parameters: {'random_state': 519632, 'learning_rate': 0.19487361208047232, 'bagging_temperature': 4.8610980431495605, 'max_depth': 5, 'random_strength': 15, 'l2_leaf_reg': 1.3729890907483722e-05, 'min_child_samples': 87, 'max_bin': 495, 'od_type': 'IncToDec', 'task_type': 'GPU', 'loss_function': 'MAE', 'eval_metric': 'MAE'}. Best is trial 502 with value: 5.916511005997932.\u001b[0m\n"
     ]
    },
    {
     "name": "stdout",
     "output_type": "stream",
     "text": [
      "MAE of Train: 5.921748077159146\n",
      "MAE of Validation: 5.933426201499163\n"
     ]
    },
    {
     "name": "stderr",
     "output_type": "stream",
     "text": [
      "\u001b[32m[I 2022-03-26 02:16:14,157]\u001b[0m Trial 834 finished with value: 5.938916998240816 and parameters: {'random_state': 519632, 'learning_rate': 0.08793093342981315, 'bagging_temperature': 2.669451533022254, 'max_depth': 5, 'random_strength': 11, 'l2_leaf_reg': 2.5649099441500168e-05, 'min_child_samples': 88, 'max_bin': 475, 'od_type': 'Iter', 'task_type': 'GPU', 'loss_function': 'MAE', 'eval_metric': 'MAE'}. Best is trial 502 with value: 5.916511005997932.\u001b[0m\n"
     ]
    },
    {
     "name": "stdout",
     "output_type": "stream",
     "text": [
      "MAE of Train: 5.9321727748378645\n",
      "MAE of Validation: 5.938916998240816\n"
     ]
    },
    {
     "name": "stderr",
     "output_type": "stream",
     "text": [
      "\u001b[32m[I 2022-03-26 02:16:21,336]\u001b[0m Trial 835 finished with value: 5.923666575755554 and parameters: {'random_state': 519632, 'learning_rate': 0.07139676763178497, 'bagging_temperature': 3.2514340292261186, 'max_depth': 5, 'random_strength': 49, 'l2_leaf_reg': 1.2523836603189997e-05, 'min_child_samples': 85, 'max_bin': 478, 'od_type': 'IncToDec', 'task_type': 'GPU', 'loss_function': 'MAE', 'eval_metric': 'MAE'}. Best is trial 502 with value: 5.916511005997932.\u001b[0m\n"
     ]
    },
    {
     "name": "stdout",
     "output_type": "stream",
     "text": [
      "MAE of Train: 5.917944013475221\n",
      "MAE of Validation: 5.923666575755554\n"
     ]
    },
    {
     "name": "stderr",
     "output_type": "stream",
     "text": [
      "\u001b[32m[I 2022-03-26 02:16:28,228]\u001b[0m Trial 836 finished with value: 5.9395825858248354 and parameters: {'random_state': 519632, 'learning_rate': 0.1218671646537977, 'bagging_temperature': 6.299418849448935, 'max_depth': 5, 'random_strength': 45, 'l2_leaf_reg': 1.3008582456661376e-05, 'min_child_samples': 17, 'max_bin': 474, 'od_type': 'Iter', 'task_type': 'GPU', 'loss_function': 'MAE', 'eval_metric': 'MAE'}. Best is trial 502 with value: 5.916511005997932.\u001b[0m\n"
     ]
    },
    {
     "name": "stdout",
     "output_type": "stream",
     "text": [
      "MAE of Train: 5.925987767556894\n",
      "MAE of Validation: 5.9395825858248354\n"
     ]
    },
    {
     "name": "stderr",
     "output_type": "stream",
     "text": [
      "\u001b[32m[I 2022-03-26 02:16:35,283]\u001b[0m Trial 837 finished with value: 5.9233609867532575 and parameters: {'random_state': 519632, 'learning_rate': 0.16006976510592938, 'bagging_temperature': 4.055468357834606, 'max_depth': 5, 'random_strength': 56, 'l2_leaf_reg': 2.9202973081569555e-05, 'min_child_samples': 84, 'max_bin': 489, 'od_type': 'IncToDec', 'task_type': 'GPU', 'loss_function': 'MAE', 'eval_metric': 'MAE'}. Best is trial 502 with value: 5.916511005997932.\u001b[0m\n"
     ]
    },
    {
     "name": "stdout",
     "output_type": "stream",
     "text": [
      "MAE of Train: 5.910631065056769\n",
      "MAE of Validation: 5.9233609867532575\n"
     ]
    },
    {
     "name": "stderr",
     "output_type": "stream",
     "text": [
      "\u001b[32m[I 2022-03-26 02:16:42,607]\u001b[0m Trial 838 finished with value: 5.94887273329425 and parameters: {'random_state': 519632, 'learning_rate': 0.013095403831097363, 'bagging_temperature': 1.8627182143393746, 'max_depth': 5, 'random_strength': 5, 'l2_leaf_reg': 2.668649997974975e-05, 'min_child_samples': 25, 'max_bin': 470, 'od_type': 'Iter', 'task_type': 'GPU', 'loss_function': 'MAE', 'eval_metric': 'MAE'}. Best is trial 502 with value: 5.916511005997932.\u001b[0m\n"
     ]
    },
    {
     "name": "stdout",
     "output_type": "stream",
     "text": [
      "MAE of Train: 5.9429753546047355\n",
      "MAE of Validation: 5.94887273329425\n"
     ]
    },
    {
     "name": "stderr",
     "output_type": "stream",
     "text": [
      "\u001b[32m[I 2022-03-26 02:16:49,118]\u001b[0m Trial 839 finished with value: 6.2183591026272484 and parameters: {'random_state': 519632, 'learning_rate': 0.002671238548319829, 'bagging_temperature': 2.6167234158481016, 'max_depth': 5, 'random_strength': 8, 'l2_leaf_reg': 4.863226875085591e-07, 'min_child_samples': 87, 'max_bin': 485, 'od_type': 'IncToDec', 'task_type': 'GPU', 'loss_function': 'MAE', 'eval_metric': 'MAE'}. Best is trial 502 with value: 5.916511005997932.\u001b[0m\n"
     ]
    },
    {
     "name": "stdout",
     "output_type": "stream",
     "text": [
      "MAE of Train: 6.2120446037829495\n",
      "MAE of Validation: 6.2183591026272484\n"
     ]
    },
    {
     "name": "stderr",
     "output_type": "stream",
     "text": [
      "\u001b[32m[I 2022-03-26 02:16:54,603]\u001b[0m Trial 840 finished with value: 5.929034361134865 and parameters: {'random_state': 519632, 'learning_rate': 0.10396996846118238, 'bagging_temperature': 3.4732877608681916, 'max_depth': 6, 'random_strength': 13, 'l2_leaf_reg': 2.79972222584082e-05, 'min_child_samples': 63, 'max_bin': 467, 'od_type': 'Iter', 'task_type': 'GPU', 'loss_function': 'MAE', 'eval_metric': 'MAE'}. Best is trial 502 with value: 5.916511005997932.\u001b[0m\n"
     ]
    },
    {
     "name": "stdout",
     "output_type": "stream",
     "text": [
      "MAE of Train: 5.922695912047726\n",
      "MAE of Validation: 5.929034361134865\n"
     ]
    },
    {
     "name": "stderr",
     "output_type": "stream",
     "text": [
      "\u001b[32m[I 2022-03-26 02:17:01,480]\u001b[0m Trial 841 finished with value: 5.924578243558804 and parameters: {'random_state': 519632, 'learning_rate': 0.08975588410659287, 'bagging_temperature': 4.966489867680335, 'max_depth': 4, 'random_strength': 52, 'l2_leaf_reg': 1.298513983177254e-05, 'min_child_samples': 85, 'max_bin': 460, 'od_type': 'Iter', 'task_type': 'GPU', 'loss_function': 'MAE', 'eval_metric': 'MAE'}. Best is trial 502 with value: 5.916511005997932.\u001b[0m\n"
     ]
    },
    {
     "name": "stdout",
     "output_type": "stream",
     "text": [
      "MAE of Train: 5.917750029684526\n",
      "MAE of Validation: 5.924578243558804\n"
     ]
    },
    {
     "name": "stderr",
     "output_type": "stream",
     "text": [
      "\u001b[32m[I 2022-03-26 02:17:08,622]\u001b[0m Trial 842 finished with value: 5.922911140051067 and parameters: {'random_state': 519632, 'learning_rate': 0.1369040945906018, 'bagging_temperature': 4.264047207556775, 'max_depth': 5, 'random_strength': 48, 'l2_leaf_reg': 2.428385813982859e-06, 'min_child_samples': 82, 'max_bin': 492, 'od_type': 'IncToDec', 'task_type': 'GPU', 'loss_function': 'MAE', 'eval_metric': 'MAE'}. Best is trial 502 with value: 5.916511005997932.\u001b[0m\n"
     ]
    },
    {
     "name": "stdout",
     "output_type": "stream",
     "text": [
      "MAE of Train: 5.912394233070035\n",
      "MAE of Validation: 5.922911140051067\n"
     ]
    },
    {
     "name": "stderr",
     "output_type": "stream",
     "text": [
      "\u001b[32m[I 2022-03-26 02:17:15,600]\u001b[0m Trial 843 finished with value: 5.923517697564318 and parameters: {'random_state': 519632, 'learning_rate': 0.11578938511155644, 'bagging_temperature': 3.090275478725028, 'max_depth': 5, 'random_strength': 16, 'l2_leaf_reg': 1.1863625546024432e-05, 'min_child_samples': 89, 'max_bin': 479, 'od_type': 'Iter', 'task_type': 'GPU', 'loss_function': 'MAE', 'eval_metric': 'MAE'}. Best is trial 502 with value: 5.916511005997932.\u001b[0m\n"
     ]
    },
    {
     "name": "stdout",
     "output_type": "stream",
     "text": [
      "MAE of Train: 5.915973569554997\n",
      "MAE of Validation: 5.923517697564318\n"
     ]
    },
    {
     "name": "stderr",
     "output_type": "stream",
     "text": [
      "\u001b[32m[I 2022-03-26 02:17:22,272]\u001b[0m Trial 844 finished with value: 5.933085308550393 and parameters: {'random_state': 519632, 'learning_rate': 0.0718659604413241, 'bagging_temperature': 2.2675353091539105, 'max_depth': 5, 'random_strength': 41, 'l2_leaf_reg': 1.3561725312213706e-05, 'min_child_samples': 83, 'max_bin': 455, 'od_type': 'IncToDec', 'task_type': 'GPU', 'loss_function': 'MAE', 'eval_metric': 'MAE'}. Best is trial 502 with value: 5.916511005997932.\u001b[0m\n"
     ]
    },
    {
     "name": "stdout",
     "output_type": "stream",
     "text": [
      "MAE of Train: 5.927135330841337\n",
      "MAE of Validation: 5.933085308550393\n"
     ]
    },
    {
     "name": "stderr",
     "output_type": "stream",
     "text": [
      "\u001b[32m[I 2022-03-26 02:17:29,597]\u001b[0m Trial 845 finished with value: 5.924809085845665 and parameters: {'random_state': 519632, 'learning_rate': 0.03994982133863356, 'bagging_temperature': 3.754419259613341, 'max_depth': 5, 'random_strength': 46, 'l2_leaf_reg': 6.278447557563317e-08, 'min_child_samples': 23, 'max_bin': 470, 'od_type': 'Iter', 'task_type': 'GPU', 'loss_function': 'MAE', 'eval_metric': 'MAE'}. Best is trial 502 with value: 5.916511005997932.\u001b[0m\n"
     ]
    },
    {
     "name": "stdout",
     "output_type": "stream",
     "text": [
      "MAE of Train: 5.9185255377630925\n",
      "MAE of Validation: 5.924809085845665\n"
     ]
    },
    {
     "name": "stderr",
     "output_type": "stream",
     "text": [
      "\u001b[32m[I 2022-03-26 02:17:36,642]\u001b[0m Trial 846 finished with value: 5.920007401305264 and parameters: {'random_state': 519632, 'learning_rate': 0.09487178456920556, 'bagging_temperature': 2.9574854759474434, 'max_depth': 5, 'random_strength': 54, 'l2_leaf_reg': 1.7767481097162685e-05, 'min_child_samples': 18, 'max_bin': 489, 'od_type': 'IncToDec', 'task_type': 'GPU', 'loss_function': 'MAE', 'eval_metric': 'MAE'}. Best is trial 502 with value: 5.916511005997932.\u001b[0m\n"
     ]
    },
    {
     "name": "stdout",
     "output_type": "stream",
     "text": [
      "MAE of Train: 5.914253415647741\n",
      "MAE of Validation: 5.920007401305264\n"
     ]
    },
    {
     "name": "stderr",
     "output_type": "stream",
     "text": [
      "\u001b[32m[I 2022-03-26 02:17:42,680]\u001b[0m Trial 847 finished with value: 5.92350602508925 and parameters: {'random_state': 519632, 'learning_rate': 0.17741091673573312, 'bagging_temperature': 4.324534695300059, 'max_depth': 5, 'random_strength': 49, 'l2_leaf_reg': 1.9326967134674298e-05, 'min_child_samples': 87, 'max_bin': 200, 'od_type': 'Iter', 'task_type': 'GPU', 'loss_function': 'MAE', 'eval_metric': 'MAE'}. Best is trial 502 with value: 5.916511005997932.\u001b[0m\n"
     ]
    },
    {
     "name": "stdout",
     "output_type": "stream",
     "text": [
      "MAE of Train: 5.910157727199468\n",
      "MAE of Validation: 5.92350602508925\n"
     ]
    },
    {
     "name": "stderr",
     "output_type": "stream",
     "text": [
      "\u001b[32m[I 2022-03-26 02:17:49,658]\u001b[0m Trial 848 finished with value: 5.932098409333783 and parameters: {'random_state': 519632, 'learning_rate': 0.05864118798370342, 'bagging_temperature': 5.476865163923687, 'max_depth': 5, 'random_strength': 12, 'l2_leaf_reg': 1.118129005235289e-05, 'min_child_samples': 21, 'max_bin': 277, 'od_type': 'IncToDec', 'task_type': 'GPU', 'loss_function': 'MAE', 'eval_metric': 'MAE'}. Best is trial 502 with value: 5.916511005997932.\u001b[0m\n"
     ]
    },
    {
     "name": "stdout",
     "output_type": "stream",
     "text": [
      "MAE of Train: 5.9235526141267565\n",
      "MAE of Validation: 5.932098409333783\n"
     ]
    },
    {
     "name": "stderr",
     "output_type": "stream",
     "text": [
      "\u001b[32m[I 2022-03-26 02:17:52,525]\u001b[0m Trial 849 finished with value: 5.9514808943341855 and parameters: {'random_state': 519632, 'learning_rate': 0.14595055806813248, 'bagging_temperature': 0.0899940346142335, 'max_depth': 5, 'random_strength': 52, 'l2_leaf_reg': 1.9951504141749993e-05, 'min_child_samples': 91, 'max_bin': 462, 'od_type': 'Iter', 'task_type': 'GPU', 'loss_function': 'MAE', 'eval_metric': 'MAE'}. Best is trial 502 with value: 5.916511005997932.\u001b[0m\n"
     ]
    },
    {
     "name": "stdout",
     "output_type": "stream",
     "text": [
      "MAE of Train: 5.945300225472979\n",
      "MAE of Validation: 5.9514808943341855\n"
     ]
    },
    {
     "name": "stderr",
     "output_type": "stream",
     "text": [
      "\u001b[32m[I 2022-03-26 02:17:59,727]\u001b[0m Trial 850 finished with value: 5.928433628540496 and parameters: {'random_state': 519632, 'learning_rate': 0.08394361030494146, 'bagging_temperature': 2.4845194712749605, 'max_depth': 5, 'random_strength': 44, 'l2_leaf_reg': 1.992854598532124e-06, 'min_child_samples': 16, 'max_bin': 498, 'od_type': 'Iter', 'task_type': 'GPU', 'loss_function': 'MAE', 'eval_metric': 'MAE'}. Best is trial 502 with value: 5.916511005997932.\u001b[0m\n"
     ]
    },
    {
     "name": "stdout",
     "output_type": "stream",
     "text": [
      "MAE of Train: 5.922425832025372\n",
      "MAE of Validation: 5.928433628540496\n"
     ]
    },
    {
     "name": "stderr",
     "output_type": "stream",
     "text": [
      "\u001b[32m[I 2022-03-26 02:18:04,945]\u001b[0m Trial 851 finished with value: 5.924011496289173 and parameters: {'random_state': 519632, 'learning_rate': 0.11527814643701273, 'bagging_temperature': 3.5180148680688608, 'max_depth': 5, 'random_strength': 47, 'l2_leaf_reg': 1.2298132802566658e-06, 'min_child_samples': 84, 'max_bin': 404, 'od_type': 'IncToDec', 'task_type': 'GPU', 'loss_function': 'MAE', 'eval_metric': 'MAE'}. Best is trial 502 with value: 5.916511005997932.\u001b[0m\n"
     ]
    },
    {
     "name": "stdout",
     "output_type": "stream",
     "text": [
      "MAE of Train: 5.916148872264523\n",
      "MAE of Validation: 5.924011496289173\n"
     ]
    },
    {
     "name": "stderr",
     "output_type": "stream",
     "text": [
      "\u001b[32m[I 2022-03-26 02:18:08,092]\u001b[0m Trial 852 finished with value: 5.96011790280685 and parameters: {'random_state': 519632, 'learning_rate': 0.24127473590813514, 'bagging_temperature': 2.0261750393273594, 'max_depth': 5, 'random_strength': 50, 'l2_leaf_reg': 2.937127698191848e-05, 'min_child_samples': 24, 'max_bin': 481, 'od_type': 'Iter', 'task_type': 'GPU', 'loss_function': 'MAE', 'eval_metric': 'MAE'}. Best is trial 502 with value: 5.916511005997932.\u001b[0m\n"
     ]
    },
    {
     "name": "stdout",
     "output_type": "stream",
     "text": [
      "MAE of Train: 5.95408336271788\n",
      "MAE of Validation: 5.96011790280685\n"
     ]
    },
    {
     "name": "stderr",
     "output_type": "stream",
     "text": [
      "\u001b[32m[I 2022-03-26 02:18:14,997]\u001b[0m Trial 853 finished with value: 5.938765170142999 and parameters: {'random_state': 519632, 'learning_rate': 0.1031596008682903, 'bagging_temperature': 1.4670221166857542, 'max_depth': 4, 'random_strength': 17, 'l2_leaf_reg': 2.65200754625789e-06, 'min_child_samples': 19, 'max_bin': 454, 'od_type': 'IncToDec', 'task_type': 'GPU', 'loss_function': 'MAE', 'eval_metric': 'MAE'}. Best is trial 502 with value: 5.916511005997932.\u001b[0m\n"
     ]
    },
    {
     "name": "stdout",
     "output_type": "stream",
     "text": [
      "MAE of Train: 5.934322380774851\n",
      "MAE of Validation: 5.938765170142999\n"
     ]
    },
    {
     "name": "stderr",
     "output_type": "stream",
     "text": [
      "\u001b[32m[I 2022-03-26 02:18:18,296]\u001b[0m Trial 854 finished with value: 5.943517646320933 and parameters: {'random_state': 519632, 'learning_rate': 0.12957122654271744, 'bagging_temperature': 3.0582798305118377, 'max_depth': 5, 'random_strength': 14, 'l2_leaf_reg': 6.174194805397512e-07, 'min_child_samples': 86, 'max_bin': 365, 'od_type': 'Iter', 'task_type': 'GPU', 'loss_function': 'MAE', 'eval_metric': 'MAE'}. Best is trial 502 with value: 5.916511005997932.\u001b[0m\n"
     ]
    },
    {
     "name": "stdout",
     "output_type": "stream",
     "text": [
      "MAE of Train: 5.938436757198869\n",
      "MAE of Validation: 5.943517646320933\n"
     ]
    },
    {
     "name": "stderr",
     "output_type": "stream",
     "text": [
      "\u001b[32m[I 2022-03-26 02:18:25,877]\u001b[0m Trial 855 finished with value: 5.923804597363497 and parameters: {'random_state': 519632, 'learning_rate': 0.07456258337007197, 'bagging_temperature': 4.059482711148291, 'max_depth': 6, 'random_strength': 42, 'l2_leaf_reg': 2.8603760711729032e-05, 'min_child_samples': 83, 'max_bin': 376, 'od_type': 'IncToDec', 'task_type': 'GPU', 'loss_function': 'MAE', 'eval_metric': 'MAE'}. Best is trial 502 with value: 5.916511005997932.\u001b[0m\n"
     ]
    },
    {
     "name": "stdout",
     "output_type": "stream",
     "text": [
      "MAE of Train: 5.91007327500714\n",
      "MAE of Validation: 5.923804597363497\n"
     ]
    },
    {
     "name": "stderr",
     "output_type": "stream",
     "text": [
      "\u001b[32m[I 2022-03-26 02:18:32,680]\u001b[0m Trial 856 finished with value: 5.951213332807827 and parameters: {'random_state': 519632, 'learning_rate': 0.15299978035084705, 'bagging_temperature': 6.888892582377767, 'max_depth': 5, 'random_strength': 45, 'l2_leaf_reg': 2.529269006482592e-05, 'min_child_samples': 82, 'max_bin': 391, 'od_type': 'Iter', 'task_type': 'GPU', 'loss_function': 'MAE', 'eval_metric': 'MAE'}. Best is trial 502 with value: 5.916511005997932.\u001b[0m\n"
     ]
    },
    {
     "name": "stdout",
     "output_type": "stream",
     "text": [
      "MAE of Train: 5.934794399181938\n",
      "MAE of Validation: 5.951213332807827\n"
     ]
    },
    {
     "name": "stderr",
     "output_type": "stream",
     "text": [
      "\u001b[32m[I 2022-03-26 02:18:39,375]\u001b[0m Trial 857 finished with value: 5.930964824396081 and parameters: {'random_state': 519632, 'learning_rate': 0.09310499492163744, 'bagging_temperature': 5.24514145224381, 'max_depth': 3, 'random_strength': 55, 'l2_leaf_reg': 2.7582582170240497e-05, 'min_child_samples': 14, 'max_bin': 460, 'od_type': 'IncToDec', 'task_type': 'GPU', 'loss_function': 'MAE', 'eval_metric': 'MAE'}. Best is trial 502 with value: 5.916511005997932.\u001b[0m\n"
     ]
    },
    {
     "name": "stdout",
     "output_type": "stream",
     "text": [
      "MAE of Train: 5.9270930433266695\n",
      "MAE of Validation: 5.930964824396081\n"
     ]
    },
    {
     "name": "stderr",
     "output_type": "stream",
     "text": [
      "\u001b[32m[I 2022-03-26 02:18:44,050]\u001b[0m Trial 858 finished with value: 5.9323753195557485 and parameters: {'random_state': 519632, 'learning_rate': 0.2079418731226352, 'bagging_temperature': 2.60545735698696, 'max_depth': 5, 'random_strength': 71, 'l2_leaf_reg': 1.8692891472004207e-06, 'min_child_samples': 89, 'max_bin': 472, 'od_type': 'Iter', 'task_type': 'GPU', 'loss_function': 'MAE', 'eval_metric': 'MAE'}. Best is trial 502 with value: 5.916511005997932.\u001b[0m\n"
     ]
    },
    {
     "name": "stdout",
     "output_type": "stream",
     "text": [
      "MAE of Train: 5.925918083421748\n",
      "MAE of Validation: 5.9323753195557485\n"
     ]
    },
    {
     "name": "stderr",
     "output_type": "stream",
     "text": [
      "\u001b[32m[I 2022-03-26 02:18:49,174]\u001b[0m Trial 859 finished with value: 5.928748994274428 and parameters: {'random_state': 519632, 'learning_rate': 0.11332510337663045, 'bagging_temperature': 3.3908688042103656, 'max_depth': 8, 'random_strength': 9, 'l2_leaf_reg': 2.652434818066879e-05, 'min_child_samples': 22, 'max_bin': 466, 'od_type': 'Iter', 'task_type': 'GPU', 'loss_function': 'MAE', 'eval_metric': 'MAE'}. Best is trial 502 with value: 5.916511005997932.\u001b[0m\n"
     ]
    },
    {
     "name": "stdout",
     "output_type": "stream",
     "text": [
      "MAE of Train: 5.913125726773521\n",
      "MAE of Validation: 5.928748994274428\n"
     ]
    },
    {
     "name": "stderr",
     "output_type": "stream",
     "text": [
      "\u001b[32m[I 2022-03-26 02:18:56,406]\u001b[0m Trial 860 finished with value: 5.921581173926738 and parameters: {'random_state': 519632, 'learning_rate': 0.06670271489715948, 'bagging_temperature': 4.416453416173684, 'max_depth': 5, 'random_strength': 51, 'l2_leaf_reg': 1.8660440081377028e-05, 'min_child_samples': 85, 'max_bin': 450, 'od_type': 'IncToDec', 'task_type': 'GPU', 'loss_function': 'MAE', 'eval_metric': 'MAE'}. Best is trial 502 with value: 5.916511005997932.\u001b[0m\n"
     ]
    },
    {
     "name": "stdout",
     "output_type": "stream",
     "text": [
      "MAE of Train: 5.913237644774167\n",
      "MAE of Validation: 5.921581173926738\n"
     ]
    },
    {
     "name": "stderr",
     "output_type": "stream",
     "text": [
      "\u001b[32m[I 2022-03-26 02:19:02,702]\u001b[0m Trial 861 finished with value: 11.1979845878275 and parameters: {'random_state': 519632, 'learning_rate': 0.00032642743668310494, 'bagging_temperature': 2.8081706280518133, 'max_depth': 5, 'random_strength': 48, 'l2_leaf_reg': 3.3368098050959844e-06, 'min_child_samples': 87, 'max_bin': 459, 'od_type': 'Iter', 'task_type': 'GPU', 'loss_function': 'MAE', 'eval_metric': 'MAE'}. Best is trial 502 with value: 5.916511005997932.\u001b[0m\n"
     ]
    },
    {
     "name": "stdout",
     "output_type": "stream",
     "text": [
      "MAE of Train: 11.18513911725066\n",
      "MAE of Validation: 11.1979845878275\n"
     ]
    },
    {
     "name": "stderr",
     "output_type": "stream",
     "text": [
      "\u001b[32m[I 2022-03-26 02:19:09,748]\u001b[0m Trial 862 finished with value: 5.924802446104922 and parameters: {'random_state': 519632, 'learning_rate': 0.08736417824749941, 'bagging_temperature': 3.5657156013999933, 'max_depth': 7, 'random_strength': 38, 'l2_leaf_reg': 1.4164051032548727e-06, 'min_child_samples': 55, 'max_bin': 466, 'od_type': 'IncToDec', 'task_type': 'GPU', 'loss_function': 'MAE', 'eval_metric': 'MAE'}. Best is trial 502 with value: 5.916511005997932.\u001b[0m\n"
     ]
    },
    {
     "name": "stdout",
     "output_type": "stream",
     "text": [
      "MAE of Train: 5.909059643875357\n",
      "MAE of Validation: 5.924802446104922\n"
     ]
    },
    {
     "name": "stderr",
     "output_type": "stream",
     "text": [
      "\u001b[32m[I 2022-03-26 02:19:15,808]\u001b[0m Trial 863 finished with value: 5.925045679581518 and parameters: {'random_state': 519632, 'learning_rate': 0.12388981666633275, 'bagging_temperature': 2.260715584552269, 'max_depth': 5, 'random_strength': 77, 'l2_leaf_reg': 1.2014277143189183e-05, 'min_child_samples': 27, 'max_bin': 473, 'od_type': 'Iter', 'task_type': 'GPU', 'loss_function': 'MAE', 'eval_metric': 'MAE'}. Best is trial 502 with value: 5.916511005997932.\u001b[0m\n"
     ]
    },
    {
     "name": "stdout",
     "output_type": "stream",
     "text": [
      "MAE of Train: 5.919459204976691\n",
      "MAE of Validation: 5.925045679581518\n"
     ]
    },
    {
     "name": "stderr",
     "output_type": "stream",
     "text": [
      "\u001b[32m[I 2022-03-26 02:19:22,745]\u001b[0m Trial 864 finished with value: 5.932303309740865 and parameters: {'random_state': 519632, 'learning_rate': 0.1012271664714827, 'bagging_temperature': 5.992930844314791, 'max_depth': 5, 'random_strength': 43, 'l2_leaf_reg': 1.3527096527448226e-05, 'min_child_samples': 82, 'max_bin': 488, 'od_type': 'IncToDec', 'task_type': 'GPU', 'loss_function': 'MAE', 'eval_metric': 'MAE'}. Best is trial 502 with value: 5.916511005997932.\u001b[0m\n"
     ]
    },
    {
     "name": "stdout",
     "output_type": "stream",
     "text": [
      "MAE of Train: 5.921774859249212\n",
      "MAE of Validation: 5.932303309740865\n"
     ]
    },
    {
     "name": "stderr",
     "output_type": "stream",
     "text": [
      "\u001b[32m[I 2022-03-26 02:19:26,019]\u001b[0m Trial 865 finished with value: 5.933304731183853 and parameters: {'random_state': 519632, 'learning_rate': 0.18174247728800275, 'bagging_temperature': 3.2152726468205093, 'max_depth': 5, 'random_strength': 54, 'l2_leaf_reg': 2.941930942562473e-05, 'min_child_samples': 20, 'max_bin': 457, 'od_type': 'Iter', 'task_type': 'GPU', 'loss_function': 'MAE', 'eval_metric': 'MAE'}. Best is trial 502 with value: 5.916511005997932.\u001b[0m\n"
     ]
    },
    {
     "name": "stdout",
     "output_type": "stream",
     "text": [
      "MAE of Train: 5.92715290335518\n",
      "MAE of Validation: 5.933304731183853\n"
     ]
    },
    {
     "name": "stderr",
     "output_type": "stream",
     "text": [
      "\u001b[32m[I 2022-03-26 02:19:32,719]\u001b[0m Trial 866 finished with value: 5.924091320089753 and parameters: {'random_state': 519632, 'learning_rate': 0.07938686477100129, 'bagging_temperature': 4.7218434983055815, 'max_depth': 6, 'random_strength': 50, 'l2_leaf_reg': 2.7199476225036563e-05, 'min_child_samples': 41, 'max_bin': 480, 'od_type': 'IncToDec', 'task_type': 'GPU', 'loss_function': 'MAE', 'eval_metric': 'MAE'}. Best is trial 502 with value: 5.916511005997932.\u001b[0m\n"
     ]
    },
    {
     "name": "stdout",
     "output_type": "stream",
     "text": [
      "MAE of Train: 5.911590453502176\n",
      "MAE of Validation: 5.924091320089753\n"
     ]
    },
    {
     "name": "stderr",
     "output_type": "stream",
     "text": [
      "\u001b[32m[I 2022-03-26 02:19:39,534]\u001b[0m Trial 867 finished with value: 5.922352455560389 and parameters: {'random_state': 519632, 'learning_rate': 0.14618319264275567, 'bagging_temperature': 3.9220056070092553, 'max_depth': 5, 'random_strength': 12, 'l2_leaf_reg': 2.0247876553350088e-05, 'min_child_samples': 84, 'max_bin': 452, 'od_type': 'Iter', 'task_type': 'GPU', 'loss_function': 'MAE', 'eval_metric': 'MAE'}. Best is trial 502 with value: 5.916511005997932.\u001b[0m\n"
     ]
    },
    {
     "name": "stdout",
     "output_type": "stream",
     "text": [
      "MAE of Train: 5.912639927509042\n",
      "MAE of Validation: 5.922352455560389\n"
     ]
    },
    {
     "name": "stderr",
     "output_type": "stream",
     "text": [
      "\u001b[32m[I 2022-03-26 02:19:43,569]\u001b[0m Trial 868 finished with value: 5.9515029196738665 and parameters: {'random_state': 519632, 'learning_rate': 0.12216859489365255, 'bagging_temperature': 2.7329977413865483, 'max_depth': 5, 'random_strength': 16, 'l2_leaf_reg': 2.8020218032329464e-05, 'min_child_samples': 88, 'max_bin': 500, 'od_type': 'Iter', 'task_type': 'GPU', 'loss_function': 'MAE', 'eval_metric': 'MAE'}. Best is trial 502 with value: 5.916511005997932.\u001b[0m\n"
     ]
    },
    {
     "name": "stdout",
     "output_type": "stream",
     "text": [
      "MAE of Train: 5.947020939975707\n",
      "MAE of Validation: 5.9515029196738665\n"
     ]
    },
    {
     "name": "stderr",
     "output_type": "stream",
     "text": [
      "\u001b[32m[I 2022-03-26 02:19:48,522]\u001b[0m Trial 869 finished with value: 5.942830456521153 and parameters: {'random_state': 519632, 'learning_rate': 0.05876393959277684, 'bagging_temperature': 1.9264934176794362, 'max_depth': 5, 'random_strength': 41, 'l2_leaf_reg': 5.287220718553851e-07, 'min_child_samples': 81, 'max_bin': 464, 'od_type': 'IncToDec', 'task_type': 'GPU', 'loss_function': 'MAE', 'eval_metric': 'MAE'}. Best is trial 502 with value: 5.916511005997932.\u001b[0m\n"
     ]
    },
    {
     "name": "stdout",
     "output_type": "stream",
     "text": [
      "MAE of Train: 5.937802924363999\n",
      "MAE of Validation: 5.942830456521153\n"
     ]
    },
    {
     "name": "stderr",
     "output_type": "stream",
     "text": [
      "\u001b[32m[I 2022-03-26 02:19:55,033]\u001b[0m Trial 870 finished with value: 5.946409954484711 and parameters: {'random_state': 519632, 'learning_rate': 0.09873610260846528, 'bagging_temperature': 8.426920682860992, 'max_depth': 5, 'random_strength': 46, 'l2_leaf_reg': 2.8737272198307896e-05, 'min_child_samples': 18, 'max_bin': 200, 'od_type': 'Iter', 'task_type': 'GPU', 'loss_function': 'MAE', 'eval_metric': 'MAE'}. Best is trial 502 with value: 5.916511005997932.\u001b[0m\n"
     ]
    },
    {
     "name": "stdout",
     "output_type": "stream",
     "text": [
      "MAE of Train: 5.934210948401399\n",
      "MAE of Validation: 5.946409954484711\n"
     ]
    },
    {
     "name": "stderr",
     "output_type": "stream",
     "text": [
      "\u001b[32m[I 2022-03-26 02:20:01,844]\u001b[0m Trial 871 finished with value: 5.931905542214347 and parameters: {'random_state': 519632, 'learning_rate': 0.08083822068344748, 'bagging_temperature': 3.148130930488418, 'max_depth': 4, 'random_strength': 48, 'l2_leaf_reg': 2.9933766048196664e-05, 'min_child_samples': 31, 'max_bin': 399, 'od_type': 'IncToDec', 'task_type': 'GPU', 'loss_function': 'MAE', 'eval_metric': 'MAE'}. Best is trial 502 with value: 5.916511005997932.\u001b[0m\n"
     ]
    },
    {
     "name": "stdout",
     "output_type": "stream",
     "text": [
      "MAE of Train: 5.926682551888879\n",
      "MAE of Validation: 5.931905542214347\n"
     ]
    },
    {
     "name": "stderr",
     "output_type": "stream",
     "text": [
      "\u001b[32m[I 2022-03-26 02:20:09,048]\u001b[0m Trial 872 finished with value: 5.923757624427348 and parameters: {'random_state': 519632, 'learning_rate': 0.16857632107814838, 'bagging_temperature': 3.9593712304989945, 'max_depth': 5, 'random_strength': 52, 'l2_leaf_reg': 1.143064064752154e-06, 'min_child_samples': 15, 'max_bin': 258, 'od_type': 'Iter', 'task_type': 'GPU', 'loss_function': 'MAE', 'eval_metric': 'MAE'}. Best is trial 502 with value: 5.916511005997932.\u001b[0m\n"
     ]
    },
    {
     "name": "stdout",
     "output_type": "stream",
     "text": [
      "MAE of Train: 5.910215657246011\n",
      "MAE of Validation: 5.923757624427348\n"
     ]
    },
    {
     "name": "stderr",
     "output_type": "stream",
     "text": [
      "\u001b[32m[I 2022-03-26 02:20:15,209]\u001b[0m Trial 873 finished with value: 5.926493515557311 and parameters: {'random_state': 519632, 'learning_rate': 0.13702924768976696, 'bagging_temperature': 2.425583968532125, 'max_depth': 5, 'random_strength': 18, 'l2_leaf_reg': 2.8601274229208244e-06, 'min_child_samples': 85, 'max_bin': 449, 'od_type': 'IncToDec', 'task_type': 'GPU', 'loss_function': 'MAE', 'eval_metric': 'MAE'}. Best is trial 502 with value: 5.916511005997932.\u001b[0m\n"
     ]
    },
    {
     "name": "stdout",
     "output_type": "stream",
     "text": [
      "MAE of Train: 5.921306811013034\n",
      "MAE of Validation: 5.926493515557311\n"
     ]
    },
    {
     "name": "stderr",
     "output_type": "stream",
     "text": [
      "\u001b[32m[I 2022-03-26 02:20:22,174]\u001b[0m Trial 874 finished with value: 5.981732951780923 and parameters: {'random_state': 519632, 'learning_rate': 0.0058925450968423535, 'bagging_temperature': 5.020983473146645, 'max_depth': 5, 'random_strength': 14, 'l2_leaf_reg': 2.2598706535455446e-06, 'min_child_samples': 25, 'max_bin': 412, 'od_type': 'Iter', 'task_type': 'GPU', 'loss_function': 'MAE', 'eval_metric': 'MAE'}. Best is trial 502 with value: 5.916511005997932.\u001b[0m\n"
     ]
    },
    {
     "name": "stdout",
     "output_type": "stream",
     "text": [
      "MAE of Train: 5.975124604505482\n",
      "MAE of Validation: 5.981732951780923\n"
     ]
    },
    {
     "name": "stderr",
     "output_type": "stream",
     "text": [
      "\u001b[32m[I 2022-03-26 02:20:29,287]\u001b[0m Trial 875 finished with value: 5.932962636046611 and parameters: {'random_state': 519632, 'learning_rate': 0.04906078506799406, 'bagging_temperature': 3.621272788019949, 'max_depth': 5, 'random_strength': 57, 'l2_leaf_reg': 2.6009222225478258e-05, 'min_child_samples': 91, 'max_bin': 330, 'od_type': 'IncToDec', 'task_type': 'GPU', 'loss_function': 'MAE', 'eval_metric': 'MAE'}. Best is trial 502 with value: 5.916511005997932.\u001b[0m\n"
     ]
    },
    {
     "name": "stdout",
     "output_type": "stream",
     "text": [
      "MAE of Train: 5.928023961799977\n",
      "MAE of Validation: 5.932962636046611\n"
     ]
    },
    {
     "name": "stderr",
     "output_type": "stream",
     "text": [
      "\u001b[32m[I 2022-03-26 02:20:35,323]\u001b[0m Trial 876 finished with value: 5.93093436305415 and parameters: {'random_state': 519632, 'learning_rate': 0.06746246070756658, 'bagging_temperature': 2.8945059628380543, 'max_depth': 5, 'random_strength': 35, 'l2_leaf_reg': 4.9876732964821585e-06, 'min_child_samples': 81, 'max_bin': 382, 'od_type': 'Iter', 'task_type': 'GPU', 'loss_function': 'MAE', 'eval_metric': 'MAE'}. Best is trial 502 with value: 5.916511005997932.\u001b[0m\n"
     ]
    },
    {
     "name": "stdout",
     "output_type": "stream",
     "text": [
      "MAE of Train: 5.925504365112376\n",
      "MAE of Validation: 5.93093436305415\n"
     ]
    },
    {
     "name": "stderr",
     "output_type": "stream",
     "text": [
      "\u001b[32m[I 2022-03-26 02:20:42,475]\u001b[0m Trial 877 finished with value: 5.924718023667829 and parameters: {'random_state': 519632, 'learning_rate': 0.10843936312842962, 'bagging_temperature': 4.4805607100390885, 'max_depth': 5, 'random_strength': 53, 'l2_leaf_reg': 1.549121506307603e-06, 'min_child_samples': 60, 'max_bin': 405, 'od_type': 'IncToDec', 'task_type': 'GPU', 'loss_function': 'MAE', 'eval_metric': 'MAE'}. Best is trial 502 with value: 5.916511005997932.\u001b[0m\n"
     ]
    },
    {
     "name": "stdout",
     "output_type": "stream",
     "text": [
      "MAE of Train: 5.914152310118593\n",
      "MAE of Validation: 5.924718023667829\n"
     ]
    },
    {
     "name": "stderr",
     "output_type": "stream",
     "text": [
      "\u001b[32m[I 2022-03-26 02:20:47,228]\u001b[0m Trial 878 finished with value: 5.938521708420093 and parameters: {'random_state': 519632, 'learning_rate': 0.0924807058049542, 'bagging_temperature': 1.6740200524775137, 'max_depth': 6, 'random_strength': 10, 'l2_leaf_reg': 1.9660624255372134e-05, 'min_child_samples': 83, 'max_bin': 476, 'od_type': 'Iter', 'task_type': 'GPU', 'loss_function': 'MAE', 'eval_metric': 'MAE'}. Best is trial 502 with value: 5.916511005997932.\u001b[0m\n"
     ]
    },
    {
     "name": "stdout",
     "output_type": "stream",
     "text": [
      "MAE of Train: 5.9320620158416375\n",
      "MAE of Validation: 5.938521708420093\n"
     ]
    },
    {
     "name": "stderr",
     "output_type": "stream",
     "text": [
      "\u001b[32m[I 2022-03-26 02:20:54,413]\u001b[0m Trial 879 finished with value: 5.922398239182021 and parameters: {'random_state': 519632, 'learning_rate': 0.1288696210868892, 'bagging_temperature': 3.3670762221023653, 'max_depth': 5, 'random_strength': 50, 'l2_leaf_reg': 5.876377884427034e-07, 'min_child_samples': 22, 'max_bin': 454, 'od_type': 'Iter', 'task_type': 'GPU', 'loss_function': 'MAE', 'eval_metric': 'MAE'}. Best is trial 502 with value: 5.916511005997932.\u001b[0m\n"
     ]
    },
    {
     "name": "stdout",
     "output_type": "stream",
     "text": [
      "MAE of Train: 5.912511179250935\n",
      "MAE of Validation: 5.922398239182021\n"
     ]
    },
    {
     "name": "stderr",
     "output_type": "stream",
     "text": [
      "\u001b[32m[I 2022-03-26 02:21:00,294]\u001b[0m Trial 880 finished with value: 5.9369793734911855 and parameters: {'random_state': 519632, 'learning_rate': 0.07773240561688695, 'bagging_temperature': 2.362072665669707, 'max_depth': 5, 'random_strength': 45, 'l2_leaf_reg': 2.1104205418349983e-06, 'min_child_samples': 43, 'max_bin': 469, 'od_type': 'IncToDec', 'task_type': 'GPU', 'loss_function': 'MAE', 'eval_metric': 'MAE'}. Best is trial 502 with value: 5.916511005997932.\u001b[0m\n"
     ]
    },
    {
     "name": "stdout",
     "output_type": "stream",
     "text": [
      "MAE of Train: 5.931982905155455\n",
      "MAE of Validation: 5.9369793734911855\n"
     ]
    },
    {
     "name": "stderr",
     "output_type": "stream",
     "text": [
      "\u001b[32m[I 2022-03-26 02:21:06,987]\u001b[0m Trial 881 finished with value: 5.938471410394066 and parameters: {'random_state': 519632, 'learning_rate': 0.10884640536971463, 'bagging_temperature': 6.054651158581963, 'max_depth': 4, 'random_strength': 40, 'l2_leaf_reg': 1.8320110544984967e-05, 'min_child_samples': 87, 'max_bin': 461, 'od_type': 'Iter', 'task_type': 'GPU', 'loss_function': 'MAE', 'eval_metric': 'MAE'}. Best is trial 502 with value: 5.916511005997932.\u001b[0m\n"
     ]
    },
    {
     "name": "stdout",
     "output_type": "stream",
     "text": [
      "MAE of Train: 5.930127458867415\n",
      "MAE of Validation: 5.938471410394066\n"
     ]
    },
    {
     "name": "stderr",
     "output_type": "stream",
     "text": [
      "\u001b[32m[I 2022-03-26 02:21:14,138]\u001b[0m Trial 882 finished with value: 5.924325131344449 and parameters: {'random_state': 519632, 'learning_rate': 0.09069350977766007, 'bagging_temperature': 4.246340148441257, 'max_depth': 5, 'random_strength': 47, 'l2_leaf_reg': 2.7924811700614033e-05, 'min_child_samples': 85, 'max_bin': 289, 'od_type': 'IncToDec', 'task_type': 'GPU', 'loss_function': 'MAE', 'eval_metric': 'MAE'}. Best is trial 502 with value: 5.916511005997932.\u001b[0m\n"
     ]
    },
    {
     "name": "stdout",
     "output_type": "stream",
     "text": [
      "MAE of Train: 5.918222315051162\n",
      "MAE of Validation: 5.924325131344449\n"
     ]
    },
    {
     "name": "stderr",
     "output_type": "stream",
     "text": [
      "\u001b[32m[I 2022-03-26 02:21:21,483]\u001b[0m Trial 883 finished with value: 5.927061445583755 and parameters: {'random_state': 519632, 'learning_rate': 0.16531530284466003, 'bagging_temperature': 2.823941602820179, 'max_depth': 5, 'random_strength': 43, 'l2_leaf_reg': 2.8782980248303904e-05, 'min_child_samples': 20, 'max_bin': 446, 'od_type': 'Iter', 'task_type': 'GPU', 'loss_function': 'MAE', 'eval_metric': 'MAE'}. Best is trial 502 with value: 5.916511005997932.\u001b[0m\n"
     ]
    },
    {
     "name": "stdout",
     "output_type": "stream",
     "text": [
      "MAE of Train: 5.920075945526999\n",
      "MAE of Validation: 5.927061445583755\n"
     ]
    },
    {
     "name": "stderr",
     "output_type": "stream",
     "text": [
      "\u001b[32m[I 2022-03-26 02:21:26,673]\u001b[0m Trial 884 finished with value: 5.9275527860689134 and parameters: {'random_state': 519632, 'learning_rate': 0.14569697103141496, 'bagging_temperature': 3.718538050248442, 'max_depth': 5, 'random_strength': 49, 'l2_leaf_reg': 1.9080014031621853e-05, 'min_child_samples': 80, 'max_bin': 482, 'od_type': 'IncToDec', 'task_type': 'GPU', 'loss_function': 'MAE', 'eval_metric': 'MAE'}. Best is trial 502 with value: 5.916511005997932.\u001b[0m\n"
     ]
    },
    {
     "name": "stdout",
     "output_type": "stream",
     "text": [
      "MAE of Train: 5.920587971600241\n",
      "MAE of Validation: 5.9275527860689134\n"
     ]
    },
    {
     "name": "stderr",
     "output_type": "stream",
     "text": [
      "\u001b[32m[I 2022-03-26 02:21:33,425]\u001b[0m Trial 885 finished with value: 5.929566687677095 and parameters: {'random_state': 519632, 'learning_rate': 0.11940439698791969, 'bagging_temperature': 5.079422019258499, 'max_depth': 5, 'random_strength': 15, 'l2_leaf_reg': 3.86347501915803e-06, 'min_child_samples': 39, 'max_bin': 456, 'od_type': 'Iter', 'task_type': 'GPU', 'loss_function': 'MAE', 'eval_metric': 'MAE'}. Best is trial 502 with value: 5.916511005997932.\u001b[0m\n"
     ]
    },
    {
     "name": "stdout",
     "output_type": "stream",
     "text": [
      "MAE of Train: 5.917828304551508\n",
      "MAE of Validation: 5.929566687677095\n"
     ]
    },
    {
     "name": "stderr",
     "output_type": "stream",
     "text": [
      "\u001b[32m[I 2022-03-26 02:21:38,271]\u001b[0m Trial 886 finished with value: 5.938645187697488 and parameters: {'random_state': 519632, 'learning_rate': 0.06901252477681012, 'bagging_temperature': 2.092500181145387, 'max_depth': 5, 'random_strength': 51, 'l2_leaf_reg': 2.7022178101953155e-05, 'min_child_samples': 89, 'max_bin': 493, 'od_type': 'IncToDec', 'task_type': 'GPU', 'loss_function': 'MAE', 'eval_metric': 'MAE'}. Best is trial 502 with value: 5.916511005997932.\u001b[0m\n"
     ]
    },
    {
     "name": "stdout",
     "output_type": "stream",
     "text": [
      "MAE of Train: 5.9329498190304895\n",
      "MAE of Validation: 5.938645187697488\n"
     ]
    },
    {
     "name": "stderr",
     "output_type": "stream",
     "text": [
      "\u001b[32m[I 2022-03-26 02:21:40,463]\u001b[0m Trial 887 finished with value: 5.957660512930659 and parameters: {'random_state': 519632, 'learning_rate': 0.20347487808833817, 'bagging_temperature': 1.1260719669204857, 'max_depth': 5, 'random_strength': 37, 'l2_leaf_reg': 1.104206532402951e-06, 'min_child_samples': 83, 'max_bin': 248, 'od_type': 'Iter', 'task_type': 'GPU', 'loss_function': 'MAE', 'eval_metric': 'MAE'}. Best is trial 502 with value: 5.916511005997932.\u001b[0m\n"
     ]
    },
    {
     "name": "stdout",
     "output_type": "stream",
     "text": [
      "MAE of Train: 5.954369545597548\n",
      "MAE of Validation: 5.957660512930659\n"
     ]
    },
    {
     "name": "stderr",
     "output_type": "stream",
     "text": [
      "\u001b[32m[I 2022-03-26 02:21:45,988]\u001b[0m Trial 888 finished with value: 5.933911148483441 and parameters: {'random_state': 519632, 'learning_rate': 0.10370116990742125, 'bagging_temperature': 3.281142459098336, 'max_depth': 5, 'random_strength': 11, 'l2_leaf_reg': 1.731173357316103e-06, 'min_child_samples': 18, 'max_bin': 465, 'od_type': 'Iter', 'task_type': 'GPU', 'loss_function': 'MAE', 'eval_metric': 'MAE'}. Best is trial 502 with value: 5.916511005997932.\u001b[0m\n"
     ]
    },
    {
     "name": "stdout",
     "output_type": "stream",
     "text": [
      "MAE of Train: 5.926766800398569\n",
      "MAE of Validation: 5.933911148483441\n"
     ]
    },
    {
     "name": "stderr",
     "output_type": "stream",
     "text": [
      "\u001b[32m[I 2022-03-26 02:21:50,809]\u001b[0m Trial 889 finished with value: 5.927482107424553 and parameters: {'random_state': 519632, 'learning_rate': 0.08519600033369962, 'bagging_temperature': 2.6776939864162284, 'max_depth': 6, 'random_strength': 47, 'l2_leaf_reg': 2.9392930440404172e-05, 'min_child_samples': 29, 'max_bin': 487, 'od_type': 'IncToDec', 'task_type': 'GPU', 'loss_function': 'MAE', 'eval_metric': 'MAE'}. Best is trial 502 with value: 5.916511005997932.\u001b[0m\n"
     ]
    },
    {
     "name": "stdout",
     "output_type": "stream",
     "text": [
      "MAE of Train: 5.919948675264388\n",
      "MAE of Validation: 5.927482107424553\n"
     ]
    },
    {
     "name": "stderr",
     "output_type": "stream",
     "text": [
      "\u001b[32m[I 2022-03-26 02:21:58,065]\u001b[0m Trial 890 finished with value: 5.921355953498243 and parameters: {'random_state': 519632, 'learning_rate': 0.05698543725968997, 'bagging_temperature': 4.01147633301377, 'max_depth': 5, 'random_strength': 13, 'l2_leaf_reg': 2.9345061499774817e-06, 'min_child_samples': 24, 'max_bin': 475, 'od_type': 'Iter', 'task_type': 'GPU', 'loss_function': 'MAE', 'eval_metric': 'MAE'}. Best is trial 502 with value: 5.916511005997932.\u001b[0m\n"
     ]
    },
    {
     "name": "stdout",
     "output_type": "stream",
     "text": [
      "MAE of Train: 5.913393097135712\n",
      "MAE of Validation: 5.921355953498243\n"
     ]
    },
    {
     "name": "stderr",
     "output_type": "stream",
     "text": [
      "\u001b[32m[I 2022-03-26 02:22:02,354]\u001b[0m Trial 891 finished with value: 5.934019551092309 and parameters: {'random_state': 519632, 'learning_rate': 0.13278983239494632, 'bagging_temperature': 2.967923952733186, 'max_depth': 5, 'random_strength': 54, 'l2_leaf_reg': 2.842188744108261e-05, 'min_child_samples': 16, 'max_bin': 459, 'od_type': 'IncToDec', 'task_type': 'GPU', 'loss_function': 'MAE', 'eval_metric': 'MAE'}. Best is trial 502 with value: 5.916511005997932.\u001b[0m\n"
     ]
    },
    {
     "name": "stdout",
     "output_type": "stream",
     "text": [
      "MAE of Train: 5.928645620398455\n",
      "MAE of Validation: 5.934019551092309\n"
     ]
    },
    {
     "name": "stderr",
     "output_type": "stream",
     "text": [
      "\u001b[32m[I 2022-03-26 02:22:08,796]\u001b[0m Trial 892 finished with value: 5.960086300337022 and parameters: {'random_state': 519632, 'learning_rate': 0.0951731173191855, 'bagging_temperature': 11.470485097993487, 'max_depth': 5, 'random_strength': 44, 'l2_leaf_reg': 2.0301184527984128e-05, 'min_child_samples': 86, 'max_bin': 447, 'od_type': 'Iter', 'task_type': 'GPU', 'loss_function': 'MAE', 'eval_metric': 'MAE'}. Best is trial 502 with value: 5.916511005997932.\u001b[0m\n"
     ]
    },
    {
     "name": "stdout",
     "output_type": "stream",
     "text": [
      "MAE of Train: 5.948185327065146\n",
      "MAE of Validation: 5.960086300337022\n"
     ]
    },
    {
     "name": "stderr",
     "output_type": "stream",
     "text": [
      "\u001b[32m[I 2022-03-26 02:22:15,917]\u001b[0m Trial 893 finished with value: 5.925603641189102 and parameters: {'random_state': 519632, 'learning_rate': 0.1146338895035354, 'bagging_temperature': 4.4186552256866785, 'max_depth': 5, 'random_strength': 41, 'l2_leaf_reg': 1.5143889376761436e-05, 'min_child_samples': 79, 'max_bin': 464, 'od_type': 'IncToDec', 'task_type': 'GPU', 'loss_function': 'MAE', 'eval_metric': 'MAE'}. Best is trial 502 with value: 5.916511005997932.\u001b[0m\n"
     ]
    },
    {
     "name": "stdout",
     "output_type": "stream",
     "text": [
      "MAE of Train: 5.915266602518259\n",
      "MAE of Validation: 5.925603641189102\n"
     ]
    },
    {
     "name": "stderr",
     "output_type": "stream",
     "text": [
      "\u001b[32m[I 2022-03-26 02:22:21,628]\u001b[0m Trial 894 finished with value: 5.921254059298167 and parameters: {'random_state': 519632, 'learning_rate': 0.15876610282277048, 'bagging_temperature': 3.5329477219884007, 'max_depth': 5, 'random_strength': 52, 'l2_leaf_reg': 1.8323357762983156e-07, 'min_child_samples': 81, 'max_bin': 452, 'od_type': 'Iter', 'task_type': 'GPU', 'loss_function': 'MAE', 'eval_metric': 'MAE'}. Best is trial 502 with value: 5.916511005997932.\u001b[0m\n"
     ]
    },
    {
     "name": "stdout",
     "output_type": "stream",
     "text": [
      "MAE of Train: 5.912101240552769\n",
      "MAE of Validation: 5.921254059298167\n"
     ]
    },
    {
     "name": "stderr",
     "output_type": "stream",
     "text": [
      "\u001b[32m[I 2022-03-26 02:22:28,637]\u001b[0m Trial 895 finished with value: 5.932139703164406 and parameters: {'random_state': 519632, 'learning_rate': 0.07808429939624, 'bagging_temperature': 5.539763153507087, 'max_depth': 5, 'random_strength': 49, 'l2_leaf_reg': 1.2153893941236451e-06, 'min_child_samples': 42, 'max_bin': 443, 'od_type': 'IncToDec', 'task_type': 'GPU', 'loss_function': 'MAE', 'eval_metric': 'MAE'}. Best is trial 502 with value: 5.916511005997932.\u001b[0m\n"
     ]
    },
    {
     "name": "stdout",
     "output_type": "stream",
     "text": [
      "MAE of Train: 5.920893447163355\n",
      "MAE of Validation: 5.932139703164406\n"
     ]
    },
    {
     "name": "stderr",
     "output_type": "stream",
     "text": [
      "\u001b[32m[I 2022-03-26 02:22:33,332]\u001b[0m Trial 896 finished with value: 5.9349264063034415 and parameters: {'random_state': 519632, 'learning_rate': 0.10476870007124497, 'bagging_temperature': 2.287083386290426, 'max_depth': 4, 'random_strength': 19, 'l2_leaf_reg': 1.1704498845918083e-08, 'min_child_samples': 21, 'max_bin': 204, 'od_type': 'Iter', 'task_type': 'GPU', 'loss_function': 'MAE', 'eval_metric': 'MAE'}. Best is trial 502 with value: 5.916511005997932.\u001b[0m\n"
     ]
    },
    {
     "name": "stdout",
     "output_type": "stream",
     "text": [
      "MAE of Train: 5.929199834180375\n",
      "MAE of Validation: 5.9349264063034415\n"
     ]
    },
    {
     "name": "stderr",
     "output_type": "stream",
     "text": [
      "\u001b[32m[I 2022-03-26 02:22:39,831]\u001b[0m Trial 897 finished with value: 5.927479178874982 and parameters: {'random_state': 519632, 'learning_rate': 0.13514262279167139, 'bagging_temperature': 3.263978849110713, 'max_depth': 7, 'random_strength': 16, 'l2_leaf_reg': 1.1757752902020595e-05, 'min_child_samples': 13, 'max_bin': 468, 'od_type': 'Iter', 'task_type': 'GPU', 'loss_function': 'MAE', 'eval_metric': 'MAE'}. Best is trial 502 with value: 5.916511005997932.\u001b[0m\n"
     ]
    },
    {
     "name": "stdout",
     "output_type": "stream",
     "text": [
      "MAE of Train: 5.916419919857544\n",
      "MAE of Validation: 5.927479178874982\n"
     ]
    },
    {
     "name": "stderr",
     "output_type": "stream",
     "text": [
      "\u001b[32m[I 2022-03-26 02:22:45,627]\u001b[0m Trial 898 finished with value: 5.925807515711568 and parameters: {'random_state': 519632, 'learning_rate': 0.06585424559895309, 'bagging_temperature': 2.6170482019895496, 'max_depth': 5, 'random_strength': 7, 'l2_leaf_reg': 2.305571449066015e-06, 'min_child_samples': 84, 'max_bin': 456, 'od_type': 'IncToDec', 'task_type': 'GPU', 'loss_function': 'MAE', 'eval_metric': 'MAE'}. Best is trial 502 with value: 5.916511005997932.\u001b[0m\n"
     ]
    },
    {
     "name": "stdout",
     "output_type": "stream",
     "text": [
      "MAE of Train: 5.920454699727109\n",
      "MAE of Validation: 5.925807515711568\n"
     ]
    },
    {
     "name": "stderr",
     "output_type": "stream",
     "text": [
      "\u001b[32m[I 2022-03-26 02:22:51,246]\u001b[0m Trial 899 finished with value: 5.925711399785169 and parameters: {'random_state': 519632, 'learning_rate': 0.1861241086206336, 'bagging_temperature': 3.9760710826393217, 'max_depth': 5, 'random_strength': 39, 'l2_leaf_reg': 2.7498094581340206e-05, 'min_child_samples': 93, 'max_bin': 473, 'od_type': 'Iter', 'task_type': 'GPU', 'loss_function': 'MAE', 'eval_metric': 'MAE'}. Best is trial 502 with value: 5.916511005997932.\u001b[0m\n"
     ]
    },
    {
     "name": "stdout",
     "output_type": "stream",
     "text": [
      "MAE of Train: 5.913907708661914\n",
      "MAE of Validation: 5.925711399785169\n"
     ]
    },
    {
     "name": "stderr",
     "output_type": "stream",
     "text": [
      "\u001b[32m[I 2022-03-26 02:22:56,267]\u001b[0m Trial 900 finished with value: 5.926983759292129 and parameters: {'random_state': 519632, 'learning_rate': 0.08581403323375145, 'bagging_temperature': 4.879687027093954, 'max_depth': 5, 'random_strength': 46, 'l2_leaf_reg': 2.6343610208155833e-05, 'min_child_samples': 27, 'max_bin': 394, 'od_type': 'IncToDec', 'task_type': 'GPU', 'loss_function': 'MAE', 'eval_metric': 'MAE'}. Best is trial 502 with value: 5.916511005997932.\u001b[0m\n"
     ]
    },
    {
     "name": "stdout",
     "output_type": "stream",
     "text": [
      "MAE of Train: 5.91887734058905\n",
      "MAE of Validation: 5.926983759292129\n"
     ]
    },
    {
     "name": "stderr",
     "output_type": "stream",
     "text": [
      "\u001b[32m[I 2022-03-26 02:23:03,036]\u001b[0m Trial 901 finished with value: 5.948040338040407 and parameters: {'random_state': 519632, 'learning_rate': 0.1124063203519819, 'bagging_temperature': 7.398285332054481, 'max_depth': 5, 'random_strength': 43, 'l2_leaf_reg': 2.9284262717343658e-05, 'min_child_samples': 88, 'max_bin': 415, 'od_type': 'Iter', 'task_type': 'GPU', 'loss_function': 'MAE', 'eval_metric': 'MAE'}. Best is trial 502 with value: 5.916511005997932.\u001b[0m\n"
     ]
    },
    {
     "name": "stdout",
     "output_type": "stream",
     "text": [
      "MAE of Train: 5.934700896122376\n",
      "MAE of Validation: 5.948040338040407\n"
     ]
    },
    {
     "name": "stderr",
     "output_type": "stream",
     "text": [
      "\u001b[32m[I 2022-03-26 02:23:08,974]\u001b[0m Trial 902 finished with value: 5.934478440760051 and parameters: {'random_state': 519632, 'learning_rate': 0.1503840135646677, 'bagging_temperature': 1.7483072477590633, 'max_depth': 4, 'random_strength': 50, 'l2_leaf_reg': 8.25234213118101e-07, 'min_child_samples': 57, 'max_bin': 484, 'od_type': 'IncToDec', 'task_type': 'GPU', 'loss_function': 'MAE', 'eval_metric': 'MAE'}. Best is trial 502 with value: 5.916511005997932.\u001b[0m\n"
     ]
    },
    {
     "name": "stdout",
     "output_type": "stream",
     "text": [
      "MAE of Train: 5.929956774101435\n",
      "MAE of Validation: 5.934478440760051\n"
     ]
    },
    {
     "name": "stderr",
     "output_type": "stream",
     "text": [
      "\u001b[32m[I 2022-03-26 02:23:15,901]\u001b[0m Trial 903 finished with value: 5.9331731087248825 and parameters: {'random_state': 519632, 'learning_rate': 0.09598765153541379, 'bagging_temperature': 3.0861131433557496, 'max_depth': 3, 'random_strength': 48, 'l2_leaf_reg': 2.0147252647052366e-05, 'min_child_samples': 86, 'max_bin': 368, 'od_type': 'Iter', 'task_type': 'GPU', 'loss_function': 'MAE', 'eval_metric': 'MAE'}. Best is trial 502 with value: 5.916511005997932.\u001b[0m\n"
     ]
    },
    {
     "name": "stdout",
     "output_type": "stream",
     "text": [
      "MAE of Train: 5.930437075795768\n",
      "MAE of Validation: 5.9331731087248825\n"
     ]
    },
    {
     "name": "stderr",
     "output_type": "stream",
     "text": [
      "\u001b[32m[I 2022-03-26 02:23:21,264]\u001b[0m Trial 904 finished with value: 5.949538484929144 and parameters: {'random_state': 519632, 'learning_rate': 0.07737595900456481, 'bagging_temperature': 0.5316964342968384, 'max_depth': 5, 'random_strength': 55, 'l2_leaf_reg': 1.7329566074363164e-06, 'min_child_samples': 70, 'max_bin': 461, 'od_type': 'IncToDec', 'task_type': 'GPU', 'loss_function': 'MAE', 'eval_metric': 'MAE'}. Best is trial 502 with value: 5.916511005997932.\u001b[0m\n"
     ]
    },
    {
     "name": "stdout",
     "output_type": "stream",
     "text": [
      "MAE of Train: 5.944019312406233\n",
      "MAE of Validation: 5.949538484929144\n"
     ]
    },
    {
     "name": "stderr",
     "output_type": "stream",
     "text": [
      "\u001b[32m[I 2022-03-26 02:23:26,773]\u001b[0m Trial 905 finished with value: 5.9291872388085896 and parameters: {'random_state': 519632, 'learning_rate': 0.12650285907079775, 'bagging_temperature': 3.7711174206054396, 'max_depth': 6, 'random_strength': 13, 'l2_leaf_reg': 2.8140284638573902e-05, 'min_child_samples': 83, 'max_bin': 204, 'od_type': 'Iter', 'task_type': 'GPU', 'loss_function': 'MAE', 'eval_metric': 'MAE'}. Best is trial 502 with value: 5.916511005997932.\u001b[0m\n"
     ]
    },
    {
     "name": "stdout",
     "output_type": "stream",
     "text": [
      "MAE of Train: 5.919886908068831\n",
      "MAE of Validation: 5.9291872388085896\n"
     ]
    },
    {
     "name": "stderr",
     "output_type": "stream",
     "text": [
      "\u001b[32m[I 2022-03-26 02:23:33,023]\u001b[0m Trial 906 finished with value: 7.2503805333349565 and parameters: {'random_state': 519632, 'learning_rate': 0.0014203948556717647, 'bagging_temperature': 2.537039052000712, 'max_depth': 5, 'random_strength': 53, 'l2_leaf_reg': 2.9923519173444796e-05, 'min_child_samples': 17, 'max_bin': 452, 'od_type': 'Iter', 'task_type': 'GPU', 'loss_function': 'MAE', 'eval_metric': 'MAE'}. Best is trial 502 with value: 5.916511005997932.\u001b[0m\n"
     ]
    },
    {
     "name": "stdout",
     "output_type": "stream",
     "text": [
      "MAE of Train: 7.239384623185667\n",
      "MAE of Validation: 7.2503805333349565\n"
     ]
    },
    {
     "name": "stderr",
     "output_type": "stream",
     "text": [
      "\u001b[32m[I 2022-03-26 02:23:40,210]\u001b[0m Trial 907 finished with value: 5.923532658138762 and parameters: {'random_state': 519632, 'learning_rate': 0.09734565797554987, 'bagging_temperature': 4.530428074092027, 'max_depth': 5, 'random_strength': 79, 'l2_leaf_reg': 1.961978126245603e-05, 'min_child_samples': 23, 'max_bin': 479, 'od_type': 'IncToDec', 'task_type': 'GPU', 'loss_function': 'MAE', 'eval_metric': 'MAE'}. Best is trial 502 with value: 5.916511005997932.\u001b[0m\n"
     ]
    },
    {
     "name": "stdout",
     "output_type": "stream",
     "text": [
      "MAE of Train: 5.912764448192871\n",
      "MAE of Validation: 5.923532658138762\n"
     ]
    },
    {
     "name": "stderr",
     "output_type": "stream",
     "text": [
      "\u001b[32m[I 2022-03-26 02:23:47,526]\u001b[0m Trial 908 finished with value: 5.930649314549258 and parameters: {'random_state': 519632, 'learning_rate': 0.02936986265189711, 'bagging_temperature': 2.0702010176844445, 'max_depth': 5, 'random_strength': 57, 'l2_leaf_reg': 1.2638857559450943e-05, 'min_child_samples': 19, 'max_bin': 470, 'od_type': 'Iter', 'task_type': 'GPU', 'loss_function': 'MAE', 'eval_metric': 'MAE'}. Best is trial 502 with value: 5.916511005997932.\u001b[0m\n"
     ]
    },
    {
     "name": "stdout",
     "output_type": "stream",
     "text": [
      "MAE of Train: 5.925139003708726\n",
      "MAE of Validation: 5.930649314549258\n"
     ]
    },
    {
     "name": "stderr",
     "output_type": "stream",
     "text": [
      "\u001b[32m[I 2022-03-26 02:23:53,750]\u001b[0m Trial 909 finished with value: 5.951090797467668 and parameters: {'random_state': 519632, 'learning_rate': 0.23313783870802846, 'bagging_temperature': 3.1542386970555776, 'max_depth': 5, 'random_strength': 9, 'l2_leaf_reg': 3.1198350058474137e-06, 'min_child_samples': 90, 'max_bin': 360, 'od_type': 'IncToDec', 'task_type': 'GPU', 'loss_function': 'MAE', 'eval_metric': 'MAE'}. Best is trial 502 with value: 5.916511005997932.\u001b[0m\n"
     ]
    },
    {
     "name": "stdout",
     "output_type": "stream",
     "text": [
      "MAE of Train: 5.944728167038435\n",
      "MAE of Validation: 5.951090797467668\n"
     ]
    },
    {
     "name": "stderr",
     "output_type": "stream",
     "text": [
      "\u001b[32m[I 2022-03-26 02:24:00,696]\u001b[0m Trial 910 finished with value: 5.933693426131207 and parameters: {'random_state': 519632, 'learning_rate': 0.07276054040843818, 'bagging_temperature': 5.784522379857912, 'max_depth': 5, 'random_strength': 45, 'l2_leaf_reg': 4.2602637554601934e-06, 'min_child_samples': 40, 'max_bin': 446, 'od_type': 'Iter', 'task_type': 'GPU', 'loss_function': 'MAE', 'eval_metric': 'MAE'}. Best is trial 502 with value: 5.916511005997932.\u001b[0m\n"
     ]
    },
    {
     "name": "stdout",
     "output_type": "stream",
     "text": [
      "MAE of Train: 5.92306719457897\n",
      "MAE of Validation: 5.933693426131207\n"
     ]
    },
    {
     "name": "stderr",
     "output_type": "stream",
     "text": [
      "\u001b[32m[I 2022-03-26 02:24:08,053]\u001b[0m Trial 911 finished with value: 5.919694278797201 and parameters: {'random_state': 519632, 'learning_rate': 0.1180580791229074, 'bagging_temperature': 3.704472956882875, 'max_depth': 5, 'random_strength': 51, 'l2_leaf_reg': 1.0916597004221336e-05, 'min_child_samples': 83, 'max_bin': 460, 'od_type': 'IncToDec', 'task_type': 'GPU', 'loss_function': 'MAE', 'eval_metric': 'MAE'}. Best is trial 502 with value: 5.916511005997932.\u001b[0m\n"
     ]
    },
    {
     "name": "stdout",
     "output_type": "stream",
     "text": [
      "MAE of Train: 5.909756744761834\n",
      "MAE of Validation: 5.919694278797201\n"
     ]
    },
    {
     "name": "stderr",
     "output_type": "stream",
     "text": [
      "\u001b[32m[I 2022-03-26 02:24:12,807]\u001b[0m Trial 912 finished with value: 5.93077796865102 and parameters: {'random_state': 519632, 'learning_rate': 0.1707222400816737, 'bagging_temperature': 4.814763668413996, 'max_depth': 5, 'random_strength': 52, 'l2_leaf_reg': 2.4810194816954288e-06, 'min_child_samples': 82, 'max_bin': 460, 'od_type': 'IncToDec', 'task_type': 'GPU', 'loss_function': 'MAE', 'eval_metric': 'MAE'}. Best is trial 502 with value: 5.916511005997932.\u001b[0m\n"
     ]
    },
    {
     "name": "stdout",
     "output_type": "stream",
     "text": [
      "MAE of Train: 5.9185543732188055\n",
      "MAE of Validation: 5.93077796865102\n"
     ]
    },
    {
     "name": "stderr",
     "output_type": "stream",
     "text": [
      "\u001b[32m[I 2022-03-26 02:24:19,666]\u001b[0m Trial 913 finished with value: 5.941754432985955 and parameters: {'random_state': 519632, 'learning_rate': 0.14352055379769038, 'bagging_temperature': 6.300701913910416, 'max_depth': 5, 'random_strength': 55, 'l2_leaf_reg': 1.0751779411157802e-05, 'min_child_samples': 85, 'max_bin': 466, 'od_type': 'IncToDec', 'task_type': 'GPU', 'loss_function': 'MAE', 'eval_metric': 'MAE'}. Best is trial 502 with value: 5.916511005997932.\u001b[0m\n"
     ]
    },
    {
     "name": "stdout",
     "output_type": "stream",
     "text": [
      "MAE of Train: 5.926727854547755\n",
      "MAE of Validation: 5.941754432985955\n"
     ]
    },
    {
     "name": "stderr",
     "output_type": "stream",
     "text": [
      "\u001b[32m[I 2022-03-26 02:24:26,934]\u001b[0m Trial 914 finished with value: 5.920929243976244 and parameters: {'random_state': 519632, 'learning_rate': 0.1249201902304408, 'bagging_temperature': 4.048050569451138, 'max_depth': 5, 'random_strength': 17, 'l2_leaf_reg': 8.277649047427287e-07, 'min_child_samples': 80, 'max_bin': 454, 'od_type': 'IncToDec', 'task_type': 'GPU', 'loss_function': 'MAE', 'eval_metric': 'MAE'}. Best is trial 502 with value: 5.916511005997932.\u001b[0m\n"
     ]
    },
    {
     "name": "stdout",
     "output_type": "stream",
     "text": [
      "MAE of Train: 5.910821598389764\n",
      "MAE of Validation: 5.920929243976244\n"
     ]
    },
    {
     "name": "stderr",
     "output_type": "stream",
     "text": [
      "\u001b[32m[I 2022-03-26 02:24:31,906]\u001b[0m Trial 915 finished with value: 5.93395509138965 and parameters: {'random_state': 519632, 'learning_rate': 0.19292509042901618, 'bagging_temperature': 4.988446856809772, 'max_depth': 5, 'random_strength': 12, 'l2_leaf_reg': 2.8975943513710323e-05, 'min_child_samples': 82, 'max_bin': 459, 'od_type': 'IncToDec', 'task_type': 'GPU', 'loss_function': 'MAE', 'eval_metric': 'MAE'}. Best is trial 502 with value: 5.916511005997932.\u001b[0m\n"
     ]
    },
    {
     "name": "stdout",
     "output_type": "stream",
     "text": [
      "MAE of Train: 5.919585282466757\n",
      "MAE of Validation: 5.93395509138965\n"
     ]
    },
    {
     "name": "stderr",
     "output_type": "stream",
     "text": [
      "\u001b[32m[I 2022-03-26 02:24:39,059]\u001b[0m Trial 916 finished with value: 5.934232537855492 and parameters: {'random_state': 519632, 'learning_rate': 0.14894338554494083, 'bagging_temperature': 3.6974100261653837, 'max_depth': 4, 'random_strength': 33, 'l2_leaf_reg': 1.4595282732203117e-06, 'min_child_samples': 85, 'max_bin': 464, 'od_type': 'IncToDec', 'task_type': 'GPU', 'loss_function': 'MAE', 'eval_metric': 'MAE'}. Best is trial 502 with value: 5.916511005997932.\u001b[0m\n"
     ]
    },
    {
     "name": "stdout",
     "output_type": "stream",
     "text": [
      "MAE of Train: 5.930041096278872\n",
      "MAE of Validation: 5.934232537855492\n"
     ]
    },
    {
     "name": "stderr",
     "output_type": "stream",
     "text": [
      "\u001b[32m[I 2022-03-26 02:24:44,182]\u001b[0m Trial 917 finished with value: 5.925961503448023 and parameters: {'random_state': 519632, 'learning_rate': 0.11838282130548404, 'bagging_temperature': 4.378777088058157, 'max_depth': 6, 'random_strength': 38, 'l2_leaf_reg': 2.5285079781604703e-05, 'min_child_samples': 79, 'max_bin': 450, 'od_type': 'IncToDec', 'task_type': 'GPU', 'loss_function': 'MAE', 'eval_metric': 'MAE'}. Best is trial 502 with value: 5.916511005997932.\u001b[0m\n"
     ]
    },
    {
     "name": "stdout",
     "output_type": "stream",
     "text": [
      "MAE of Train: 5.9114305533523765\n",
      "MAE of Validation: 5.925961503448023\n"
     ]
    },
    {
     "name": "stderr",
     "output_type": "stream",
     "text": [
      "\u001b[32m[I 2022-03-26 02:24:51,545]\u001b[0m Trial 918 finished with value: 5.919317497166059 and parameters: {'random_state': 519632, 'learning_rate': 0.05730624470437873, 'bagging_temperature': 3.555386867827712, 'max_depth': 5, 'random_strength': 51, 'l2_leaf_reg': 2.685284583894188e-05, 'min_child_samples': 84, 'max_bin': 472, 'od_type': 'IncToDec', 'task_type': 'GPU', 'loss_function': 'MAE', 'eval_metric': 'MAE'}. Best is trial 502 with value: 5.916511005997932.\u001b[0m\n"
     ]
    },
    {
     "name": "stdout",
     "output_type": "stream",
     "text": [
      "MAE of Train: 5.911928222573798\n",
      "MAE of Validation: 5.919317497166059\n"
     ]
    },
    {
     "name": "stderr",
     "output_type": "stream",
     "text": [
      "\u001b[32m[I 2022-03-26 02:24:58,599]\u001b[0m Trial 919 finished with value: 5.9301487030399525 and parameters: {'random_state': 519632, 'learning_rate': 0.08728436634995786, 'bagging_temperature': 5.245360262656684, 'max_depth': 5, 'random_strength': 51, 'l2_leaf_reg': 2.709813490405022e-05, 'min_child_samples': 81, 'max_bin': 474, 'od_type': 'IncToDec', 'task_type': 'GPU', 'loss_function': 'MAE', 'eval_metric': 'MAE'}. Best is trial 502 with value: 5.916511005997932.\u001b[0m\n"
     ]
    },
    {
     "name": "stdout",
     "output_type": "stream",
     "text": [
      "MAE of Train: 5.918609918069586\n",
      "MAE of Validation: 5.9301487030399525\n"
     ]
    },
    {
     "name": "stderr",
     "output_type": "stream",
     "text": [
      "\u001b[32m[I 2022-03-26 02:25:05,801]\u001b[0m Trial 920 finished with value: 5.956657357663652 and parameters: {'random_state': 519632, 'learning_rate': 0.01038533746692851, 'bagging_temperature': 3.9401114419758945, 'max_depth': 5, 'random_strength': 54, 'l2_leaf_reg': 2.660313840069908e-05, 'min_child_samples': 83, 'max_bin': 471, 'od_type': 'IncToDec', 'task_type': 'GPU', 'loss_function': 'MAE', 'eval_metric': 'MAE'}. Best is trial 502 with value: 5.916511005997932.\u001b[0m\n"
     ]
    },
    {
     "name": "stdout",
     "output_type": "stream",
     "text": [
      "MAE of Train: 5.9510966701749615\n",
      "MAE of Validation: 5.956657357663652\n"
     ]
    },
    {
     "name": "stderr",
     "output_type": "stream",
     "text": [
      "\u001b[32m[I 2022-03-26 02:25:12,612]\u001b[0m Trial 921 finished with value: 5.943596297721729 and parameters: {'random_state': 519632, 'learning_rate': 0.1080599079207466, 'bagging_temperature': 6.680967835702984, 'max_depth': 5, 'random_strength': 52, 'l2_leaf_reg': 2.611452328210497e-05, 'min_child_samples': 84, 'max_bin': 479, 'od_type': 'IncToDec', 'task_type': 'GPU', 'loss_function': 'MAE', 'eval_metric': 'MAE'}. Best is trial 502 with value: 5.916511005997932.\u001b[0m\n"
     ]
    },
    {
     "name": "stdout",
     "output_type": "stream",
     "text": [
      "MAE of Train: 5.9308288132460385\n",
      "MAE of Validation: 5.943596297721729\n"
     ]
    },
    {
     "name": "stderr",
     "output_type": "stream",
     "text": [
      "\u001b[32m[I 2022-03-26 02:25:19,537]\u001b[0m Trial 922 finished with value: 5.920983232011426 and parameters: {'random_state': 519632, 'learning_rate': 0.16667972184170385, 'bagging_temperature': 3.624664749640598, 'max_depth': 5, 'random_strength': 56, 'l2_leaf_reg': 2.6838496813051862e-05, 'min_child_samples': 81, 'max_bin': 470, 'od_type': 'IncToDec', 'task_type': 'GPU', 'loss_function': 'MAE', 'eval_metric': 'MAE'}. Best is trial 502 with value: 5.916511005997932.\u001b[0m\n"
     ]
    },
    {
     "name": "stdout",
     "output_type": "stream",
     "text": [
      "MAE of Train: 5.908942388900948\n",
      "MAE of Validation: 5.920983232011426\n"
     ]
    },
    {
     "name": "stderr",
     "output_type": "stream",
     "text": [
      "\u001b[32m[I 2022-03-26 02:25:26,295]\u001b[0m Trial 923 finished with value: 5.92487570708782 and parameters: {'random_state': 519632, 'learning_rate': 0.13200614348621195, 'bagging_temperature': 4.56590671156505, 'max_depth': 5, 'random_strength': 49, 'l2_leaf_reg': 2.7394055179441917e-05, 'min_child_samples': 79, 'max_bin': 476, 'od_type': 'IncToDec', 'task_type': 'GPU', 'loss_function': 'MAE', 'eval_metric': 'MAE'}. Best is trial 502 with value: 5.916511005997932.\u001b[0m\n"
     ]
    },
    {
     "name": "stdout",
     "output_type": "stream",
     "text": [
      "MAE of Train: 5.914206006644356\n",
      "MAE of Validation: 5.92487570708782\n"
     ]
    },
    {
     "name": "stderr",
     "output_type": "stream",
     "text": [
      "\u001b[32m[I 2022-03-26 02:25:33,074]\u001b[0m Trial 924 finished with value: 6.06020665729581 and parameters: {'random_state': 519632, 'learning_rate': 0.0038969140368295217, 'bagging_temperature': 3.468955331787542, 'max_depth': 5, 'random_strength': 51, 'l2_leaf_reg': 2.6132865474013355e-05, 'min_child_samples': 83, 'max_bin': 464, 'od_type': 'IncToDec', 'task_type': 'GPU', 'loss_function': 'MAE', 'eval_metric': 'MAE'}. Best is trial 502 with value: 5.916511005997932.\u001b[0m\n"
     ]
    },
    {
     "name": "stdout",
     "output_type": "stream",
     "text": [
      "MAE of Train: 6.051957578806766\n",
      "MAE of Validation: 6.06020665729581\n"
     ]
    },
    {
     "name": "stderr",
     "output_type": "stream",
     "text": [
      "\u001b[32m[I 2022-03-26 02:25:40,084]\u001b[0m Trial 925 finished with value: 5.930096692440579 and parameters: {'random_state': 519632, 'learning_rate': 0.05078853410963845, 'bagging_temperature': 5.474162024627299, 'max_depth': 5, 'random_strength': 53, 'l2_leaf_reg': 2.6741663957944157e-05, 'min_child_samples': 81, 'max_bin': 469, 'od_type': 'IncToDec', 'task_type': 'GPU', 'loss_function': 'MAE', 'eval_metric': 'MAE'}. Best is trial 502 with value: 5.916511005997932.\u001b[0m\n"
     ]
    },
    {
     "name": "stdout",
     "output_type": "stream",
     "text": [
      "MAE of Train: 5.921733155986194\n",
      "MAE of Validation: 5.930096692440579\n"
     ]
    },
    {
     "name": "stderr",
     "output_type": "stream",
     "text": [
      "\u001b[32m[I 2022-03-26 02:25:45,967]\u001b[0m Trial 926 finished with value: 5.921841224085226 and parameters: {'random_state': 519632, 'learning_rate': 0.09936878939744806, 'bagging_temperature': 3.2166202734763103, 'max_depth': 5, 'random_strength': 47, 'l2_leaf_reg': 2.5559920781736835e-05, 'min_child_samples': 83, 'max_bin': 488, 'od_type': 'IncToDec', 'task_type': 'GPU', 'loss_function': 'MAE', 'eval_metric': 'MAE'}. Best is trial 502 with value: 5.916511005997932.\u001b[0m\n"
     ]
    },
    {
     "name": "stdout",
     "output_type": "stream",
     "text": [
      "MAE of Train: 5.914541378839243\n",
      "MAE of Validation: 5.921841224085226\n"
     ]
    },
    {
     "name": "stderr",
     "output_type": "stream",
     "text": [
      "\u001b[32m[I 2022-03-26 02:25:52,294]\u001b[0m Trial 927 finished with value: 6.635830839224851 and parameters: {'random_state': 519632, 'learning_rate': 0.0018989508747241464, 'bagging_temperature': 4.189414980340865, 'max_depth': 5, 'random_strength': 50, 'l2_leaf_reg': 2.7467214747176614e-05, 'min_child_samples': 79, 'max_bin': 457, 'od_type': 'IncToDec', 'task_type': 'GPU', 'loss_function': 'MAE', 'eval_metric': 'MAE'}. Best is trial 502 with value: 5.916511005997932.\u001b[0m\n"
     ]
    },
    {
     "name": "stdout",
     "output_type": "stream",
     "text": [
      "MAE of Train: 6.628483483999145\n",
      "MAE of Validation: 6.635830839224851\n"
     ]
    },
    {
     "name": "stderr",
     "output_type": "stream",
     "text": [
      "\u001b[32m[I 2022-03-26 02:25:59,503]\u001b[0m Trial 928 finished with value: 5.922762066144781 and parameters: {'random_state': 519632, 'learning_rate': 0.08110004146367322, 'bagging_temperature': 4.359538320355995, 'max_depth': 5, 'random_strength': 53, 'l2_leaf_reg': 2.8117050102965717e-05, 'min_child_samples': 84, 'max_bin': 476, 'od_type': 'IncToDec', 'task_type': 'GPU', 'loss_function': 'MAE', 'eval_metric': 'MAE'}. Best is trial 502 with value: 5.916511005997932.\u001b[0m\n"
     ]
    },
    {
     "name": "stdout",
     "output_type": "stream",
     "text": [
      "MAE of Train: 5.912748483784929\n",
      "MAE of Validation: 5.922762066144781\n"
     ]
    },
    {
     "name": "stderr",
     "output_type": "stream",
     "text": [
      "\u001b[32m[I 2022-03-26 02:26:03,989]\u001b[0m Trial 929 finished with value: 5.936255985634518 and parameters: {'random_state': 519632, 'learning_rate': 0.12125886629690372, 'bagging_temperature': 2.8976005312009203, 'max_depth': 6, 'random_strength': 48, 'l2_leaf_reg': 2.4839604041775966e-05, 'min_child_samples': 85, 'max_bin': 482, 'od_type': 'IncToDec', 'task_type': 'GPU', 'loss_function': 'MAE', 'eval_metric': 'MAE'}. Best is trial 502 with value: 5.916511005997932.\u001b[0m\n"
     ]
    },
    {
     "name": "stdout",
     "output_type": "stream",
     "text": [
      "MAE of Train: 5.9306043261302\n",
      "MAE of Validation: 5.936255985634518\n"
     ]
    },
    {
     "name": "stderr",
     "output_type": "stream",
     "text": [
      "\u001b[32m[I 2022-03-26 02:26:11,104]\u001b[0m Trial 930 finished with value: 5.927353172172477 and parameters: {'random_state': 519632, 'learning_rate': 0.061098848212331615, 'bagging_temperature': 3.486521301058927, 'max_depth': 5, 'random_strength': 50, 'l2_leaf_reg': 2.70738839616921e-05, 'min_child_samples': 83, 'max_bin': 465, 'od_type': 'IncToDec', 'task_type': 'GPU', 'loss_function': 'MAE', 'eval_metric': 'MAE'}. Best is trial 502 with value: 5.916511005997932.\u001b[0m\n"
     ]
    },
    {
     "name": "stdout",
     "output_type": "stream",
     "text": [
      "MAE of Train: 5.920422761149269\n",
      "MAE of Validation: 5.927353172172477\n"
     ]
    },
    {
     "name": "stderr",
     "output_type": "stream",
     "text": [
      "\u001b[32m[I 2022-03-26 02:26:17,381]\u001b[0m Trial 931 finished with value: 5.932915533802846 and parameters: {'random_state': 519632, 'learning_rate': 0.15447016783708675, 'bagging_temperature': 5.408846432275092, 'max_depth': 5, 'random_strength': 58, 'l2_leaf_reg': 2.7897141625331827e-05, 'min_child_samples': 81, 'max_bin': 461, 'od_type': 'IncToDec', 'task_type': 'GPU', 'loss_function': 'MAE', 'eval_metric': 'MAE'}. Best is trial 502 with value: 5.916511005997932.\u001b[0m\n"
     ]
    },
    {
     "name": "stdout",
     "output_type": "stream",
     "text": [
      "MAE of Train: 5.9197766287237945\n",
      "MAE of Validation: 5.932915533802846\n"
     ]
    },
    {
     "name": "stderr",
     "output_type": "stream",
     "text": [
      "\u001b[32m[I 2022-03-26 02:26:24,679]\u001b[0m Trial 932 finished with value: 5.9214582670050095 and parameters: {'random_state': 519632, 'learning_rate': 0.07039698190580687, 'bagging_temperature': 3.9988983388350285, 'max_depth': 5, 'random_strength': 75, 'l2_leaf_reg': 2.6408233367834763e-05, 'min_child_samples': 78, 'max_bin': 468, 'od_type': 'IncToDec', 'task_type': 'GPU', 'loss_function': 'MAE', 'eval_metric': 'MAE'}. Best is trial 502 with value: 5.916511005997932.\u001b[0m\n"
     ]
    },
    {
     "name": "stdout",
     "output_type": "stream",
     "text": [
      "MAE of Train: 5.913414786147684\n",
      "MAE of Validation: 5.9214582670050095\n"
     ]
    },
    {
     "name": "stderr",
     "output_type": "stream",
     "text": [
      "\u001b[32m[I 2022-03-26 02:26:31,409]\u001b[0m Trial 933 finished with value: 5.930037303610046 and parameters: {'random_state': 519632, 'learning_rate': 0.09480626598550017, 'bagging_temperature': 2.9320777790364616, 'max_depth': 4, 'random_strength': 46, 'l2_leaf_reg': 2.8408529220245927e-05, 'min_child_samples': 86, 'max_bin': 454, 'od_type': 'IncToDec', 'task_type': 'GPU', 'loss_function': 'MAE', 'eval_metric': 'MAE'}. Best is trial 502 with value: 5.916511005997932.\u001b[0m\n"
     ]
    },
    {
     "name": "stdout",
     "output_type": "stream",
     "text": [
      "MAE of Train: 5.924390682716463\n",
      "MAE of Validation: 5.930037303610046\n"
     ]
    },
    {
     "name": "stderr",
     "output_type": "stream",
     "text": [
      "\u001b[32m[I 2022-03-26 02:26:38,504]\u001b[0m Trial 934 finished with value: 5.924748735925721 and parameters: {'random_state': 519632, 'learning_rate': 0.1083897593592754, 'bagging_temperature': 4.793445122982017, 'max_depth': 5, 'random_strength': 55, 'l2_leaf_reg': 2.0705905038402e-05, 'min_child_samples': 14, 'max_bin': 494, 'od_type': 'IncToDec', 'task_type': 'GPU', 'loss_function': 'MAE', 'eval_metric': 'MAE'}. Best is trial 502 with value: 5.916511005997932.\u001b[0m\n"
     ]
    },
    {
     "name": "stdout",
     "output_type": "stream",
     "text": [
      "MAE of Train: 5.91373249510304\n",
      "MAE of Validation: 5.924748735925721\n"
     ]
    },
    {
     "name": "stderr",
     "output_type": "stream",
     "text": [
      "\u001b[32m[I 2022-03-26 02:26:43,812]\u001b[0m Trial 935 finished with value: 5.928681434523804 and parameters: {'random_state': 519632, 'learning_rate': 0.21902849411431666, 'bagging_temperature': 3.6682470727538523, 'max_depth': 5, 'random_strength': 48, 'l2_leaf_reg': 2.5846481922530666e-05, 'min_child_samples': 81, 'max_bin': 484, 'od_type': 'IncToDec', 'task_type': 'GPU', 'loss_function': 'MAE', 'eval_metric': 'MAE'}. Best is trial 502 with value: 5.916511005997932.\u001b[0m\n"
     ]
    },
    {
     "name": "stdout",
     "output_type": "stream",
     "text": [
      "MAE of Train: 5.9185181173174835\n",
      "MAE of Validation: 5.928681434523804\n"
     ]
    },
    {
     "name": "stderr",
     "output_type": "stream",
     "text": [
      "\u001b[32m[I 2022-03-26 02:26:51,150]\u001b[0m Trial 936 finished with value: 5.922511379764916 and parameters: {'random_state': 519632, 'learning_rate': 0.14344075074486476, 'bagging_temperature': 3.0367630110558705, 'max_depth': 5, 'random_strength': 67, 'l2_leaf_reg': 2.7646065464763685e-05, 'min_child_samples': 21, 'max_bin': 473, 'od_type': 'IncToDec', 'task_type': 'GPU', 'loss_function': 'MAE', 'eval_metric': 'MAE'}. Best is trial 502 with value: 5.916511005997932.\u001b[0m\n"
     ]
    },
    {
     "name": "stdout",
     "output_type": "stream",
     "text": [
      "MAE of Train: 5.914336105390711\n",
      "MAE of Validation: 5.922511379764916\n"
     ]
    },
    {
     "name": "stderr",
     "output_type": "stream",
     "text": [
      "\u001b[32m[I 2022-03-26 02:26:58,013]\u001b[0m Trial 937 finished with value: 5.940845621333137 and parameters: {'random_state': 519632, 'learning_rate': 0.08302476388169627, 'bagging_temperature': 6.747287542146467, 'max_depth': 5, 'random_strength': 42, 'l2_leaf_reg': 2.9995471425742105e-05, 'min_child_samples': 84, 'max_bin': 444, 'od_type': 'IncToDec', 'task_type': 'GPU', 'loss_function': 'MAE', 'eval_metric': 'MAE'}. Best is trial 502 with value: 5.916511005997932.\u001b[0m\n"
     ]
    },
    {
     "name": "stdout",
     "output_type": "stream",
     "text": [
      "MAE of Train: 5.929305156430437\n",
      "MAE of Validation: 5.940845621333137\n"
     ]
    },
    {
     "name": "stderr",
     "output_type": "stream",
     "text": [
      "\u001b[32m[I 2022-03-26 02:27:04,481]\u001b[0m Trial 938 finished with value: 5.9261043179931585 and parameters: {'random_state': 519632, 'learning_rate': 0.12407623722363377, 'bagging_temperature': 2.5808322405938653, 'max_depth': 5, 'random_strength': 52, 'l2_leaf_reg': 1.9223801993573316e-05, 'min_child_samples': 82, 'max_bin': 456, 'od_type': 'IncToDec', 'task_type': 'GPU', 'loss_function': 'MAE', 'eval_metric': 'MAE'}. Best is trial 502 with value: 5.916511005997932.\u001b[0m\n"
     ]
    },
    {
     "name": "stdout",
     "output_type": "stream",
     "text": [
      "MAE of Train: 5.919793376839259\n",
      "MAE of Validation: 5.9261043179931585\n"
     ]
    },
    {
     "name": "stderr",
     "output_type": "stream",
     "text": [
      "\u001b[32m[I 2022-03-26 02:27:11,671]\u001b[0m Trial 939 finished with value: 5.921028354795539 and parameters: {'random_state': 519632, 'learning_rate': 0.0979852864326057, 'bagging_temperature': 4.2217937361423195, 'max_depth': 5, 'random_strength': 49, 'l2_leaf_reg': 1.7850280357455757e-05, 'min_child_samples': 25, 'max_bin': 460, 'od_type': 'IncToDec', 'task_type': 'GPU', 'loss_function': 'MAE', 'eval_metric': 'MAE'}. Best is trial 502 with value: 5.916511005997932.\u001b[0m\n"
     ]
    },
    {
     "name": "stdout",
     "output_type": "stream",
     "text": [
      "MAE of Train: 5.91080458514528\n",
      "MAE of Validation: 5.921028354795539\n"
     ]
    },
    {
     "name": "stderr",
     "output_type": "stream",
     "text": [
      "\u001b[32m[I 2022-03-26 02:27:16,622]\u001b[0m Trial 940 finished with value: 5.946525959467208 and parameters: {'random_state': 519632, 'learning_rate': 0.18447450181686004, 'bagging_temperature': 3.4289621461234456, 'max_depth': 5, 'random_strength': 44, 'l2_leaf_reg': 2.8735569121165822e-05, 'min_child_samples': 87, 'max_bin': 449, 'od_type': 'IncToDec', 'task_type': 'GPU', 'loss_function': 'MAE', 'eval_metric': 'MAE'}. Best is trial 502 with value: 5.916511005997932.\u001b[0m\n"
     ]
    },
    {
     "name": "stdout",
     "output_type": "stream",
     "text": [
      "MAE of Train: 5.941130197280555\n",
      "MAE of Validation: 5.946525959467208\n"
     ]
    },
    {
     "name": "stderr",
     "output_type": "stream",
     "text": [
      "\u001b[32m[I 2022-03-26 02:27:23,660]\u001b[0m Trial 941 finished with value: 5.927570905012797 and parameters: {'random_state': 519632, 'learning_rate': 0.08388754570130898, 'bagging_temperature': 5.382581541063161, 'max_depth': 5, 'random_strength': 36, 'l2_leaf_reg': 2.7003679305469953e-05, 'min_child_samples': 19, 'max_bin': 466, 'od_type': 'IncToDec', 'task_type': 'GPU', 'loss_function': 'MAE', 'eval_metric': 'MAE'}. Best is trial 502 with value: 5.916511005997932.\u001b[0m\n"
     ]
    },
    {
     "name": "stdout",
     "output_type": "stream",
     "text": [
      "MAE of Train: 5.917250734154409\n",
      "MAE of Validation: 5.927570905012797\n"
     ]
    },
    {
     "name": "stderr",
     "output_type": "stream",
     "text": [
      "\u001b[32m[I 2022-03-26 02:27:31,003]\u001b[0m Trial 942 finished with value: 5.921503313994593 and parameters: {'random_state': 519632, 'learning_rate': 0.0696776140475897, 'bagging_temperature': 3.9576027627633166, 'max_depth': 5, 'random_strength': 51, 'l2_leaf_reg': 2.935962909837942e-05, 'min_child_samples': 16, 'max_bin': 478, 'od_type': 'IncToDec', 'task_type': 'GPU', 'loss_function': 'MAE', 'eval_metric': 'MAE'}. Best is trial 502 with value: 5.916511005997932.\u001b[0m\n"
     ]
    },
    {
     "name": "stdout",
     "output_type": "stream",
     "text": [
      "MAE of Train: 5.913758168487549\n",
      "MAE of Validation: 5.921503313994593\n"
     ]
    },
    {
     "name": "stderr",
     "output_type": "stream",
     "text": [
      "\u001b[32m[I 2022-03-26 02:27:37,734]\u001b[0m Trial 943 finished with value: 5.929401013178415 and parameters: {'random_state': 519632, 'learning_rate': 0.11356969625307066, 'bagging_temperature': 2.8645661132085687, 'max_depth': 5, 'random_strength': 40, 'l2_leaf_reg': 1.577140240602039e-05, 'min_child_samples': 80, 'max_bin': 313, 'od_type': 'IncToDec', 'task_type': 'GPU', 'loss_function': 'MAE', 'eval_metric': 'MAE'}. Best is trial 502 with value: 5.916511005997932.\u001b[0m\n"
     ]
    },
    {
     "name": "stdout",
     "output_type": "stream",
     "text": [
      "MAE of Train: 5.9236824681089315\n",
      "MAE of Validation: 5.929401013178415\n"
     ]
    },
    {
     "name": "stderr",
     "output_type": "stream",
     "text": [
      "\u001b[32m[I 2022-03-26 02:27:44,618]\u001b[0m Trial 944 finished with value: 5.926891752740585 and parameters: {'random_state': 519632, 'learning_rate': 0.14210021967772551, 'bagging_temperature': 4.654488253475621, 'max_depth': 4, 'random_strength': 46, 'l2_leaf_reg': 1.8790946613249756e-05, 'min_child_samples': 85, 'max_bin': 461, 'od_type': 'Iter', 'task_type': 'GPU', 'loss_function': 'MAE', 'eval_metric': 'MAE'}. Best is trial 502 with value: 5.916511005997932.\u001b[0m\n"
     ]
    },
    {
     "name": "stdout",
     "output_type": "stream",
     "text": [
      "MAE of Train: 5.919105360475666\n",
      "MAE of Validation: 5.926891752740585\n"
     ]
    },
    {
     "name": "stderr",
     "output_type": "stream",
     "text": [
      "\u001b[32m[I 2022-03-26 02:27:49,694]\u001b[0m Trial 945 finished with value: 5.923452167563802 and parameters: {'random_state': 519632, 'learning_rate': 0.12804954737962207, 'bagging_temperature': 3.299549515409566, 'max_depth': 6, 'random_strength': 54, 'l2_leaf_reg': 2.768309890700914e-05, 'min_child_samples': 22, 'max_bin': 440, 'od_type': 'IncToDec', 'task_type': 'GPU', 'loss_function': 'MAE', 'eval_metric': 'MAE'}. Best is trial 502 with value: 5.916511005997932.\u001b[0m\n"
     ]
    },
    {
     "name": "stdout",
     "output_type": "stream",
     "text": [
      "MAE of Train: 5.911160849163522\n",
      "MAE of Validation: 5.923452167563802\n"
     ]
    },
    {
     "name": "stderr",
     "output_type": "stream",
     "text": [
      "\u001b[32m[I 2022-03-26 02:27:54,238]\u001b[0m Trial 946 finished with value: 5.9400224848245005 and parameters: {'random_state': 519632, 'learning_rate': 0.09075206812229555, 'bagging_temperature': 2.4310823604417062, 'max_depth': 5, 'random_strength': 56, 'l2_leaf_reg': 2.0580536620245302e-05, 'min_child_samples': 72, 'max_bin': 452, 'od_type': 'Iter', 'task_type': 'GPU', 'loss_function': 'MAE', 'eval_metric': 'MAE'}. Best is trial 502 with value: 5.916511005997932.\u001b[0m\n"
     ]
    },
    {
     "name": "stdout",
     "output_type": "stream",
     "text": [
      "MAE of Train: 5.933828289239378\n",
      "MAE of Validation: 5.9400224848245005\n"
     ]
    },
    {
     "name": "stderr",
     "output_type": "stream",
     "text": [
      "\u001b[32m[I 2022-03-26 02:28:01,588]\u001b[0m Trial 947 finished with value: 5.919345836660907 and parameters: {'random_state': 519632, 'learning_rate': 0.108331476146821, 'bagging_temperature': 3.6952881307853933, 'max_depth': 5, 'random_strength': 48, 'l2_leaf_reg': 2.8496764991455303e-05, 'min_child_samples': 77, 'max_bin': 469, 'od_type': 'IncToDec', 'task_type': 'GPU', 'loss_function': 'MAE', 'eval_metric': 'MAE'}. Best is trial 502 with value: 5.916511005997932.\u001b[0m\n"
     ]
    },
    {
     "name": "stdout",
     "output_type": "stream",
     "text": [
      "MAE of Train: 5.909589736258371\n",
      "MAE of Validation: 5.919345836660907\n"
     ]
    },
    {
     "name": "stderr",
     "output_type": "stream",
     "text": [
      "\u001b[32m[I 2022-03-26 02:28:08,770]\u001b[0m Trial 948 finished with value: 5.932172035090074 and parameters: {'random_state': 519632, 'learning_rate': 0.042536409224986874, 'bagging_temperature': 2.935180606631612, 'max_depth': 5, 'random_strength': 51, 'l2_leaf_reg': 2.7579154575321843e-05, 'min_child_samples': 79, 'max_bin': 474, 'od_type': 'Iter', 'task_type': 'GPU', 'loss_function': 'MAE', 'eval_metric': 'MAE'}. Best is trial 502 with value: 5.916511005997932.\u001b[0m\n"
     ]
    },
    {
     "name": "stdout",
     "output_type": "stream",
     "text": [
      "MAE of Train: 5.926156629107227\n",
      "MAE of Validation: 5.932172035090074\n"
     ]
    },
    {
     "name": "stderr",
     "output_type": "stream",
     "text": [
      "\u001b[32m[I 2022-03-26 02:28:15,732]\u001b[0m Trial 949 finished with value: 5.927133800720001 and parameters: {'random_state': 519632, 'learning_rate': 0.0735735399131134, 'bagging_temperature': 3.5910576297850803, 'max_depth': 3, 'random_strength': 48, 'l2_leaf_reg': 2.851789977754497e-05, 'min_child_samples': 80, 'max_bin': 468, 'od_type': 'IncToDec', 'task_type': 'GPU', 'loss_function': 'MAE', 'eval_metric': 'MAE'}. Best is trial 502 with value: 5.916511005997932.\u001b[0m\n"
     ]
    },
    {
     "name": "stdout",
     "output_type": "stream",
     "text": [
      "MAE of Train: 5.92421048692399\n",
      "MAE of Validation: 5.927133800720001\n"
     ]
    },
    {
     "name": "stderr",
     "output_type": "stream",
     "text": [
      "\u001b[32m[I 2022-03-26 02:28:22,890]\u001b[0m Trial 950 finished with value: 5.929816642439575 and parameters: {'random_state': 519632, 'learning_rate': 0.05722763817514329, 'bagging_temperature': 2.4450498091388226, 'max_depth': 5, 'random_strength': 45, 'l2_leaf_reg': 2.8782315982439253e-05, 'min_child_samples': 76, 'max_bin': 482, 'od_type': 'Iter', 'task_type': 'GPU', 'loss_function': 'MAE', 'eval_metric': 'MAE'}. Best is trial 502 with value: 5.916511005997932.\u001b[0m\n"
     ]
    },
    {
     "name": "stdout",
     "output_type": "stream",
     "text": [
      "MAE of Train: 5.924404752654938\n",
      "MAE of Validation: 5.929816642439575\n"
     ]
    },
    {
     "name": "stderr",
     "output_type": "stream",
     "text": [
      "\u001b[32m[I 2022-03-26 02:28:26,664]\u001b[0m Trial 951 finished with value: 5.944724193181979 and parameters: {'random_state': 519632, 'learning_rate': 0.10004564982881255, 'bagging_temperature': 0.9140831938318962, 'max_depth': 5, 'random_strength': 53, 'l2_leaf_reg': 2.8356796150737958e-05, 'min_child_samples': 77, 'max_bin': 473, 'od_type': 'IncToDec', 'task_type': 'GPU', 'loss_function': 'MAE', 'eval_metric': 'MAE'}. Best is trial 502 with value: 5.916511005997932.\u001b[0m\n"
     ]
    },
    {
     "name": "stdout",
     "output_type": "stream",
     "text": [
      "MAE of Train: 5.939179702016629\n",
      "MAE of Validation: 5.944724193181979\n"
     ]
    },
    {
     "name": "stderr",
     "output_type": "stream",
     "text": [
      "\u001b[32m[I 2022-03-26 02:28:33,613]\u001b[0m Trial 952 finished with value: 5.931818818627724 and parameters: {'random_state': 519632, 'learning_rate': 0.08006410914754374, 'bagging_temperature': 5.854313559602863, 'max_depth': 5, 'random_strength': 43, 'l2_leaf_reg': 2.927673275846972e-05, 'min_child_samples': 74, 'max_bin': 471, 'od_type': 'Iter', 'task_type': 'GPU', 'loss_function': 'MAE', 'eval_metric': 'MAE'}. Best is trial 502 with value: 5.916511005997932.\u001b[0m\n"
     ]
    },
    {
     "name": "stdout",
     "output_type": "stream",
     "text": [
      "MAE of Train: 5.9215913159462055\n",
      "MAE of Validation: 5.931818818627724\n"
     ]
    },
    {
     "name": "stderr",
     "output_type": "stream",
     "text": [
      "\u001b[32m[I 2022-03-26 02:28:40,842]\u001b[0m Trial 953 finished with value: 5.924535373032694 and parameters: {'random_state': 519632, 'learning_rate': 0.11040102082568481, 'bagging_temperature': 4.451404001570656, 'max_depth': 5, 'random_strength': 50, 'l2_leaf_reg': 2.781862001089328e-05, 'min_child_samples': 77, 'max_bin': 466, 'od_type': 'IncToDec', 'task_type': 'GPU', 'loss_function': 'MAE', 'eval_metric': 'MAE'}. Best is trial 502 with value: 5.916511005997932.\u001b[0m\n"
     ]
    },
    {
     "name": "stdout",
     "output_type": "stream",
     "text": [
      "MAE of Train: 5.914081905529523\n",
      "MAE of Validation: 5.924535373032694\n"
     ]
    },
    {
     "name": "stderr",
     "output_type": "stream",
     "text": [
      "\u001b[32m[I 2022-03-26 02:28:47,666]\u001b[0m Trial 954 finished with value: 11.606823760337708 and parameters: {'random_state': 519632, 'learning_rate': 0.0002639444021647896, 'bagging_temperature': 3.2216929916170103, 'max_depth': 6, 'random_strength': 46, 'l2_leaf_reg': 2.8163144420444206e-05, 'min_child_samples': 78, 'max_bin': 488, 'od_type': 'Iter', 'task_type': 'GPU', 'loss_function': 'MAE', 'eval_metric': 'MAE'}. Best is trial 502 with value: 5.916511005997932.\u001b[0m\n"
     ]
    },
    {
     "name": "stdout",
     "output_type": "stream",
     "text": [
      "MAE of Train: 11.594612245003905\n",
      "MAE of Validation: 11.606823760337708\n"
     ]
    },
    {
     "name": "stderr",
     "output_type": "stream",
     "text": [
      "\u001b[32m[I 2022-03-26 02:28:52,377]\u001b[0m Trial 955 finished with value: 5.936579395573639 and parameters: {'random_state': 519632, 'learning_rate': 0.08991657814477581, 'bagging_temperature': 2.071161071258177, 'max_depth': 5, 'random_strength': 41, 'l2_leaf_reg': 2.8808664092085298e-05, 'min_child_samples': 78, 'max_bin': 480, 'od_type': 'IncToDec', 'task_type': 'GPU', 'loss_function': 'MAE', 'eval_metric': 'MAE'}. Best is trial 502 with value: 5.916511005997932.\u001b[0m\n"
     ]
    },
    {
     "name": "stdout",
     "output_type": "stream",
     "text": [
      "MAE of Train: 5.930785453576599\n",
      "MAE of Validation: 5.936579395573639\n"
     ]
    },
    {
     "name": "stderr",
     "output_type": "stream",
     "text": [
      "\u001b[32m[I 2022-03-26 02:28:59,515]\u001b[0m Trial 956 finished with value: 5.9230797052134685 and parameters: {'random_state': 519632, 'learning_rate': 0.16473168248018763, 'bagging_temperature': 3.815774190484947, 'max_depth': 5, 'random_strength': 48, 'l2_leaf_reg': 2.8616781130625723e-05, 'min_child_samples': 77, 'max_bin': 475, 'od_type': 'Iter', 'task_type': 'GPU', 'loss_function': 'MAE', 'eval_metric': 'MAE'}. Best is trial 502 with value: 5.916511005997932.\u001b[0m\n"
     ]
    },
    {
     "name": "stdout",
     "output_type": "stream",
     "text": [
      "MAE of Train: 5.9134899454104595\n",
      "MAE of Validation: 5.9230797052134685\n"
     ]
    },
    {
     "name": "stderr",
     "output_type": "stream",
     "text": [
      "\u001b[32m[I 2022-03-26 02:29:04,435]\u001b[0m Trial 957 finished with value: 5.929206933848753 and parameters: {'random_state': 519632, 'learning_rate': 0.06610323155711947, 'bagging_temperature': 2.771562166400146, 'max_depth': 5, 'random_strength': 39, 'l2_leaf_reg': 2.908394121515282e-05, 'min_child_samples': 76, 'max_bin': 463, 'od_type': 'IncToDec', 'task_type': 'GPU', 'loss_function': 'MAE', 'eval_metric': 'MAE'}. Best is trial 502 with value: 5.916511005997932.\u001b[0m\n"
     ]
    },
    {
     "name": "stdout",
     "output_type": "stream",
     "text": [
      "MAE of Train: 5.923176414826025\n",
      "MAE of Validation: 5.929206933848753\n"
     ]
    },
    {
     "name": "stderr",
     "output_type": "stream",
     "text": [
      "\u001b[32m[I 2022-03-26 02:29:07,982]\u001b[0m Trial 958 finished with value: 5.94415981833749 and parameters: {'random_state': 519632, 'learning_rate': 0.11009403002088165, 'bagging_temperature': 4.776100951217405, 'max_depth': 9, 'random_strength': 52, 'l2_leaf_reg': 2.7100641567877198e-05, 'min_child_samples': 80, 'max_bin': 468, 'od_type': 'Iter', 'task_type': 'GPU', 'loss_function': 'MAE', 'eval_metric': 'MAE'}. Best is trial 502 with value: 5.916511005997932.\u001b[0m\n"
     ]
    },
    {
     "name": "stdout",
     "output_type": "stream",
     "text": [
      "MAE of Train: 5.916061703348162\n",
      "MAE of Validation: 5.94415981833749\n"
     ]
    },
    {
     "name": "stderr",
     "output_type": "stream",
     "text": [
      "\u001b[32m[I 2022-03-26 02:29:13,768]\u001b[0m Trial 959 finished with value: 5.927710764386957 and parameters: {'random_state': 519632, 'learning_rate': 0.13288851079221578, 'bagging_temperature': 3.4499634210871926, 'max_depth': 7, 'random_strength': 59, 'l2_leaf_reg': 2.944293120958014e-05, 'min_child_samples': 82, 'max_bin': 493, 'od_type': 'IncToDec', 'task_type': 'GPU', 'loss_function': 'MAE', 'eval_metric': 'MAE'}. Best is trial 502 with value: 5.916511005997932.\u001b[0m\n"
     ]
    },
    {
     "name": "stdout",
     "output_type": "stream",
     "text": [
      "MAE of Train: 5.912836068322751\n",
      "MAE of Validation: 5.927710764386957\n"
     ]
    },
    {
     "name": "stderr",
     "output_type": "stream",
     "text": [
      "\u001b[32m[I 2022-03-26 02:29:20,944]\u001b[0m Trial 960 finished with value: 5.931160141309177 and parameters: {'random_state': 519632, 'learning_rate': 0.09473829636698923, 'bagging_temperature': 2.5452012292060475, 'max_depth': 4, 'random_strength': 49, 'l2_leaf_reg': 1.6699618722974494e-05, 'min_child_samples': 62, 'max_bin': 471, 'od_type': 'Iter', 'task_type': 'GPU', 'loss_function': 'MAE', 'eval_metric': 'MAE'}. Best is trial 502 with value: 5.916511005997932.\u001b[0m\n"
     ]
    },
    {
     "name": "stdout",
     "output_type": "stream",
     "text": [
      "MAE of Train: 5.927443243516936\n",
      "MAE of Validation: 5.931160141309177\n"
     ]
    },
    {
     "name": "stderr",
     "output_type": "stream",
     "text": [
      "\u001b[32m[I 2022-03-26 02:29:28,108]\u001b[0m Trial 961 finished with value: 5.922563758851491 and parameters: {'random_state': 519632, 'learning_rate': 0.07626657443736463, 'bagging_temperature': 4.048293000194022, 'max_depth': 5, 'random_strength': 54, 'l2_leaf_reg': 2.8111190064999715e-05, 'min_child_samples': 79, 'max_bin': 483, 'od_type': 'IncToDec', 'task_type': 'GPU', 'loss_function': 'MAE', 'eval_metric': 'MAE'}. Best is trial 502 with value: 5.916511005997932.\u001b[0m\n"
     ]
    },
    {
     "name": "stdout",
     "output_type": "stream",
     "text": [
      "MAE of Train: 5.9143076461236985\n",
      "MAE of Validation: 5.922563758851491\n"
     ]
    },
    {
     "name": "stderr",
     "output_type": "stream",
     "text": [
      "\u001b[32m[I 2022-03-26 02:29:33,456]\u001b[0m Trial 962 finished with value: 5.926200373679834 and parameters: {'random_state': 519632, 'learning_rate': 0.193255618045418, 'bagging_temperature': 3.1649330721459488, 'max_depth': 5, 'random_strength': 45, 'l2_leaf_reg': 2.799624372427673e-05, 'min_child_samples': 82, 'max_bin': 462, 'od_type': 'Iter', 'task_type': 'GPU', 'loss_function': 'MAE', 'eval_metric': 'MAE'}. Best is trial 502 with value: 5.916511005997932.\u001b[0m\n"
     ]
    },
    {
     "name": "stdout",
     "output_type": "stream",
     "text": [
      "MAE of Train: 5.919004694159402\n",
      "MAE of Validation: 5.926200373679834\n"
     ]
    },
    {
     "name": "stderr",
     "output_type": "stream",
     "text": [
      "\u001b[32m[I 2022-03-26 02:29:35,290]\u001b[0m Trial 963 finished with value: 5.9546851732101596 and parameters: {'random_state': 519632, 'learning_rate': 0.15597345149922573, 'bagging_temperature': 0.17432858944723964, 'max_depth': 5, 'random_strength': 51, 'l2_leaf_reg': 2.7483618264730988e-05, 'min_child_samples': 74, 'max_bin': 478, 'od_type': 'IncToDec', 'task_type': 'GPU', 'loss_function': 'MAE', 'eval_metric': 'MAE'}. Best is trial 502 with value: 5.916511005997932.\u001b[0m\n"
     ]
    },
    {
     "name": "stdout",
     "output_type": "stream",
     "text": [
      "MAE of Train: 5.94982939639071\n",
      "MAE of Validation: 5.9546851732101596\n"
     ]
    },
    {
     "name": "stderr",
     "output_type": "stream",
     "text": [
      "\u001b[32m[I 2022-03-26 02:29:42,011]\u001b[0m Trial 964 finished with value: 5.962791181825437 and parameters: {'random_state': 519632, 'learning_rate': 0.2650301487106393, 'bagging_temperature': 7.6030849522589286, 'max_depth': 5, 'random_strength': 20, 'l2_leaf_reg': 2.6511334956795567e-05, 'min_child_samples': 30, 'max_bin': 460, 'od_type': 'Iter', 'task_type': 'GPU', 'loss_function': 'MAE', 'eval_metric': 'MAE'}. Best is trial 502 with value: 5.916511005997932.\u001b[0m\n"
     ]
    },
    {
     "name": "stdout",
     "output_type": "stream",
     "text": [
      "MAE of Train: 5.941142019015723\n",
      "MAE of Validation: 5.962791181825437\n"
     ]
    },
    {
     "name": "stderr",
     "output_type": "stream",
     "text": [
      "\u001b[32m[I 2022-03-26 02:29:49,060]\u001b[0m Trial 965 finished with value: 5.926788660574137 and parameters: {'random_state': 519632, 'learning_rate': 0.10230914678623856, 'bagging_temperature': 5.28423363260952, 'max_depth': 5, 'random_strength': 42, 'l2_leaf_reg': 2.940385484246172e-05, 'min_child_samples': 76, 'max_bin': 488, 'od_type': 'Iter', 'task_type': 'GPU', 'loss_function': 'MAE', 'eval_metric': 'MAE'}. Best is trial 502 with value: 5.916511005997932.\u001b[0m\n"
     ]
    },
    {
     "name": "stdout",
     "output_type": "stream",
     "text": [
      "MAE of Train: 5.916259815598761\n",
      "MAE of Validation: 5.926788660574137\n"
     ]
    },
    {
     "name": "stderr",
     "output_type": "stream",
     "text": [
      "\u001b[32m[I 2022-03-26 02:29:55,706]\u001b[0m Trial 966 finished with value: 5.94390677046154 and parameters: {'random_state': 519632, 'learning_rate': 0.12343810016617476, 'bagging_temperature': 2.2662732795418483, 'max_depth': 5, 'random_strength': 47, 'l2_leaf_reg': 2.8693829569580647e-05, 'min_child_samples': 80, 'max_bin': 467, 'od_type': 'IncToDec', 'task_type': 'GPU', 'loss_function': 'MAE', 'eval_metric': 'MAE'}. Best is trial 502 with value: 5.916511005997932.\u001b[0m\n"
     ]
    },
    {
     "name": "stdout",
     "output_type": "stream",
     "text": [
      "MAE of Train: 5.938260327267787\n",
      "MAE of Validation: 5.94390677046154\n"
     ]
    },
    {
     "name": "stderr",
     "output_type": "stream",
     "text": [
      "\u001b[32m[I 2022-03-26 02:30:02,937]\u001b[0m Trial 967 finished with value: 5.922646910195413 and parameters: {'random_state': 519632, 'learning_rate': 0.08639944223001639, 'bagging_temperature': 4.087083073347183, 'max_depth': 5, 'random_strength': 36, 'l2_leaf_reg': 1.9619575550458712e-05, 'min_child_samples': 83, 'max_bin': 477, 'od_type': 'Iter', 'task_type': 'GPU', 'loss_function': 'MAE', 'eval_metric': 'MAE'}. Best is trial 502 with value: 5.916511005997932.\u001b[0m\n"
     ]
    },
    {
     "name": "stdout",
     "output_type": "stream",
     "text": [
      "MAE of Train: 5.911470981799697\n",
      "MAE of Validation: 5.922646910195413\n"
     ]
    },
    {
     "name": "stderr",
     "output_type": "stream",
     "text": [
      "\u001b[32m[I 2022-03-26 02:30:09,582]\u001b[0m Trial 968 finished with value: 5.93247966364165 and parameters: {'random_state': 519632, 'learning_rate': 0.06612905574869199, 'bagging_temperature': 2.907822039796828, 'max_depth': 5, 'random_strength': 57, 'l2_leaf_reg': 2.9045426151651873e-05, 'min_child_samples': 26, 'max_bin': 500, 'od_type': 'IncToDec', 'task_type': 'GPU', 'loss_function': 'MAE', 'eval_metric': 'MAE'}. Best is trial 502 with value: 5.916511005997932.\u001b[0m\n"
     ]
    },
    {
     "name": "stdout",
     "output_type": "stream",
     "text": [
      "MAE of Train: 5.925766319149935\n",
      "MAE of Validation: 5.93247966364165\n"
     ]
    },
    {
     "name": "stderr",
     "output_type": "stream",
     "text": [
      "\u001b[32m[I 2022-03-26 02:30:16,145]\u001b[0m Trial 969 finished with value: 5.957147431007187 and parameters: {'random_state': 519632, 'learning_rate': 0.13886963884303882, 'bagging_temperature': 9.396821543825448, 'max_depth': 5, 'random_strength': 50, 'l2_leaf_reg': 2.6986250750946522e-05, 'min_child_samples': 85, 'max_bin': 457, 'od_type': 'Iter', 'task_type': 'GPU', 'loss_function': 'MAE', 'eval_metric': 'MAE'}. Best is trial 502 with value: 5.916511005997932.\u001b[0m\n"
     ]
    },
    {
     "name": "stdout",
     "output_type": "stream",
     "text": [
      "MAE of Train: 5.9409057104743574\n",
      "MAE of Validation: 5.957147431007187\n"
     ]
    },
    {
     "name": "stderr",
     "output_type": "stream",
     "text": [
      "\u001b[32m[I 2022-03-26 02:30:17,747]\u001b[0m Trial 970 finished with value: 13.852047973309261 and parameters: {'random_state': 519632, 'learning_rate': 0.05083926512470666, 'bagging_temperature': 47.929159258226846, 'max_depth': 4, 'random_strength': 44, 'l2_leaf_reg': 2.8249276015684602e-05, 'min_child_samples': 78, 'max_bin': 471, 'od_type': 'IncToDec', 'task_type': 'GPU', 'loss_function': 'MAE', 'eval_metric': 'MAE'}. Best is trial 502 with value: 5.916511005997932.\u001b[0m\n"
     ]
    },
    {
     "name": "stdout",
     "output_type": "stream",
     "text": [
      "MAE of Train: 13.841321895748875\n",
      "MAE of Validation: 13.852047973309261\n"
     ]
    },
    {
     "name": "stderr",
     "output_type": "stream",
     "text": [
      "\u001b[32m[I 2022-03-26 02:30:20,136]\u001b[0m Trial 971 finished with value: 5.95347082740714 and parameters: {'random_state': 519632, 'learning_rate': 0.11177847490440708, 'bagging_temperature': 0.030864239506408785, 'max_depth': 5, 'random_strength': 53, 'l2_leaf_reg': 2.005353755014133e-05, 'min_child_samples': 82, 'max_bin': 464, 'od_type': 'Iter', 'task_type': 'GPU', 'loss_function': 'MAE', 'eval_metric': 'MAE'}. Best is trial 502 with value: 5.916511005997932.\u001b[0m\n"
     ]
    },
    {
     "name": "stdout",
     "output_type": "stream",
     "text": [
      "MAE of Train: 5.948688978085206\n",
      "MAE of Validation: 5.95347082740714\n"
     ]
    },
    {
     "name": "stderr",
     "output_type": "stream",
     "text": [
      "\u001b[32m[I 2022-03-26 02:30:27,889]\u001b[0m Trial 972 finished with value: 5.9215523013181715 and parameters: {'random_state': 519632, 'learning_rate': 0.08002341577734198, 'bagging_temperature': 3.5222237024990704, 'max_depth': 6, 'random_strength': 47, 'l2_leaf_reg': 2.990722095133803e-05, 'min_child_samples': 80, 'max_bin': 461, 'od_type': 'IncToDec', 'task_type': 'GPU', 'loss_function': 'MAE', 'eval_metric': 'MAE'}. Best is trial 502 with value: 5.916511005997932.\u001b[0m\n"
     ]
    },
    {
     "name": "stdout",
     "output_type": "stream",
     "text": [
      "MAE of Train: 5.911039017081802\n",
      "MAE of Validation: 5.9215523013181715\n"
     ]
    },
    {
     "name": "stderr",
     "output_type": "stream",
     "text": [
      "\u001b[32m[I 2022-03-26 02:30:35,053]\u001b[0m Trial 973 finished with value: 5.923940894266945 and parameters: {'random_state': 519632, 'learning_rate': 0.09782241608437012, 'bagging_temperature': 4.651224835621491, 'max_depth': 5, 'random_strength': 82, 'l2_leaf_reg': 5.42265176228698e-06, 'min_child_samples': 28, 'max_bin': 470, 'od_type': 'Iter', 'task_type': 'GPU', 'loss_function': 'MAE', 'eval_metric': 'MAE'}. Best is trial 502 with value: 5.916511005997932.\u001b[0m\n"
     ]
    },
    {
     "name": "stdout",
     "output_type": "stream",
     "text": [
      "MAE of Train: 5.912987202080193\n",
      "MAE of Validation: 5.923940894266945\n"
     ]
    },
    {
     "name": "stderr",
     "output_type": "stream",
     "text": [
      "\u001b[32m[I 2022-03-26 02:30:37,374]\u001b[0m Trial 974 finished with value: 5.953889952236292 and parameters: {'random_state': 519632, 'learning_rate': 0.17355281077000356, 'bagging_temperature': 0.27812598210014217, 'max_depth': 5, 'random_strength': 38, 'l2_leaf_reg': 2.765636710023766e-05, 'min_child_samples': 72, 'max_bin': 457, 'od_type': 'IncToDec', 'task_type': 'GPU', 'loss_function': 'MAE', 'eval_metric': 'MAE'}. Best is trial 502 with value: 5.916511005997932.\u001b[0m\n"
     ]
    },
    {
     "name": "stdout",
     "output_type": "stream",
     "text": [
      "MAE of Train: 5.947212507853779\n",
      "MAE of Validation: 5.953889952236292\n"
     ]
    },
    {
     "name": "stderr",
     "output_type": "stream",
     "text": [
      "\u001b[32m[I 2022-03-26 02:30:44,318]\u001b[0m Trial 975 finished with value: 5.936361698730156 and parameters: {'random_state': 519632, 'learning_rate': 0.11975312779415266, 'bagging_temperature': 5.965171360168177, 'max_depth': 5, 'random_strength': 55, 'l2_leaf_reg': 2.1112182377179663e-05, 'min_child_samples': 75, 'max_bin': 483, 'od_type': 'Iter', 'task_type': 'GPU', 'loss_function': 'MAE', 'eval_metric': 'MAE'}. Best is trial 502 with value: 5.916511005997932.\u001b[0m\n"
     ]
    },
    {
     "name": "stdout",
     "output_type": "stream",
     "text": [
      "MAE of Train: 5.922479235157892\n",
      "MAE of Validation: 5.936361698730156\n"
     ]
    },
    {
     "name": "stderr",
     "output_type": "stream",
     "text": [
      "\u001b[32m[I 2022-03-26 02:30:51,171]\u001b[0m Trial 976 finished with value: 5.9274290582929225 and parameters: {'random_state': 519632, 'learning_rate': 0.08386594012148972, 'bagging_temperature': 2.7667732717002917, 'max_depth': 5, 'random_strength': 49, 'l2_leaf_reg': 2.630582029565111e-05, 'min_child_samples': 87, 'max_bin': 476, 'od_type': 'IncToDec', 'task_type': 'GPU', 'loss_function': 'MAE', 'eval_metric': 'MAE'}. Best is trial 502 with value: 5.916511005997932.\u001b[0m\n"
     ]
    },
    {
     "name": "stdout",
     "output_type": "stream",
     "text": [
      "MAE of Train: 5.9198682694812845\n",
      "MAE of Validation: 5.9274290582929225\n"
     ]
    },
    {
     "name": "stderr",
     "output_type": "stream",
     "text": [
      "\u001b[32m[I 2022-03-26 02:30:58,404]\u001b[0m Trial 977 finished with value: 5.920984384869544 and parameters: {'random_state': 519632, 'learning_rate': 0.14443674246115296, 'bagging_temperature': 3.8768400331649375, 'max_depth': 5, 'random_strength': 42, 'l2_leaf_reg': 1.8528109670798646e-05, 'min_child_samples': 45, 'max_bin': 454, 'od_type': 'Iter', 'task_type': 'GPU', 'loss_function': 'MAE', 'eval_metric': 'MAE'}. Best is trial 502 with value: 5.916511005997932.\u001b[0m\n"
     ]
    },
    {
     "name": "stdout",
     "output_type": "stream",
     "text": [
      "MAE of Train: 5.911661551535739\n",
      "MAE of Validation: 5.920984384869544\n"
     ]
    },
    {
     "name": "stderr",
     "output_type": "stream",
     "text": [
      "\u001b[32m[I 2022-03-26 02:31:05,545]\u001b[0m Trial 978 finished with value: 5.941252986595518 and parameters: {'random_state': 519632, 'learning_rate': 0.06102501164249172, 'bagging_temperature': 2.044948043608958, 'max_depth': 5, 'random_strength': 40, 'l2_leaf_reg': 1.738371639912748e-05, 'min_child_samples': 53, 'max_bin': 491, 'od_type': 'IncToDec', 'task_type': 'GPU', 'loss_function': 'MAE', 'eval_metric': 'MAE'}. Best is trial 502 with value: 5.916511005997932.\u001b[0m\n"
     ]
    },
    {
     "name": "stdout",
     "output_type": "stream",
     "text": [
      "MAE of Train: 5.935851908732109\n",
      "MAE of Validation: 5.941252986595518\n"
     ]
    },
    {
     "name": "stderr",
     "output_type": "stream",
     "text": [
      "\u001b[32m[I 2022-03-26 02:31:12,785]\u001b[0m Trial 979 finished with value: 5.938906005328937 and parameters: {'random_state': 519632, 'learning_rate': 0.10268725074937247, 'bagging_temperature': 3.170521352920281, 'max_depth': 5, 'random_strength': 4, 'l2_leaf_reg': 2.83974036052959e-05, 'min_child_samples': 84, 'max_bin': 466, 'od_type': 'Iter', 'task_type': 'GPU', 'loss_function': 'MAE', 'eval_metric': 'MAE'}. Best is trial 502 with value: 5.916511005997932.\u001b[0m\n"
     ]
    },
    {
     "name": "stdout",
     "output_type": "stream",
     "text": [
      "MAE of Train: 5.93358673990625\n",
      "MAE of Validation: 5.938906005328937\n"
     ]
    },
    {
     "name": "stderr",
     "output_type": "stream",
     "text": [
      "\u001b[32m[I 2022-03-26 02:31:18,222]\u001b[0m Trial 980 finished with value: 5.926995174927544 and parameters: {'random_state': 519632, 'learning_rate': 0.21758649727591972, 'bagging_temperature': 4.47912275706045, 'max_depth': 5, 'random_strength': 51, 'l2_leaf_reg': 2.9216675169831172e-05, 'min_child_samples': 81, 'max_bin': 458, 'od_type': 'IncToDec', 'task_type': 'GPU', 'loss_function': 'MAE', 'eval_metric': 'MAE'}. Best is trial 502 with value: 5.916511005997932.\u001b[0m\n"
     ]
    },
    {
     "name": "stdout",
     "output_type": "stream",
     "text": [
      "MAE of Train: 5.915448458470959\n",
      "MAE of Validation: 5.926995174927544\n"
     ]
    },
    {
     "name": "stderr",
     "output_type": "stream",
     "text": [
      "\u001b[32m[I 2022-03-26 02:31:24,937]\u001b[0m Trial 981 finished with value: 5.934519431440282 and parameters: {'random_state': 519632, 'learning_rate': 0.07146009287328949, 'bagging_temperature': 2.3658772372968335, 'max_depth': 5, 'random_strength': 45, 'l2_leaf_reg': 3.4222692833420547e-06, 'min_child_samples': 79, 'max_bin': 471, 'od_type': 'Iter', 'task_type': 'GPU', 'loss_function': 'MAE', 'eval_metric': 'MAE'}. Best is trial 502 with value: 5.916511005997932.\u001b[0m\n"
     ]
    },
    {
     "name": "stdout",
     "output_type": "stream",
     "text": [
      "MAE of Train: 5.929225228877843\n",
      "MAE of Validation: 5.934519431440282\n"
     ]
    },
    {
     "name": "stderr",
     "output_type": "stream",
     "text": [
      "\u001b[32m[I 2022-03-26 02:31:32,587]\u001b[0m Trial 982 finished with value: 5.925552356772403 and parameters: {'random_state': 519632, 'learning_rate': 0.024964335212828134, 'bagging_temperature': 3.6454915399674763, 'max_depth': 6, 'random_strength': 47, 'l2_leaf_reg': 2.7116599703337444e-05, 'min_child_samples': 83, 'max_bin': 296, 'od_type': 'IncToDec', 'task_type': 'GPU', 'loss_function': 'MAE', 'eval_metric': 'MAE'}. Best is trial 502 with value: 5.916511005997932.\u001b[0m\n"
     ]
    },
    {
     "name": "stdout",
     "output_type": "stream",
     "text": [
      "MAE of Train: 5.918937781535865\n",
      "MAE of Validation: 5.925552356772403\n"
     ]
    },
    {
     "name": "stderr",
     "output_type": "stream",
     "text": [
      "\u001b[32m[I 2022-03-26 02:31:34,929]\u001b[0m Trial 983 finished with value: 5.947345237712813 and parameters: {'random_state': 519632, 'learning_rate': 0.1339500147349552, 'bagging_temperature': 2.8286872666831804, 'max_depth': 5, 'random_strength': 34, 'l2_leaf_reg': 2.4218250150984254e-05, 'min_child_samples': 88, 'max_bin': 463, 'od_type': 'Iter', 'task_type': 'GPU', 'loss_function': 'MAE', 'eval_metric': 'MAE'}. Best is trial 502 with value: 5.916511005997932.\u001b[0m\n"
     ]
    },
    {
     "name": "stdout",
     "output_type": "stream",
     "text": [
      "MAE of Train: 5.942936810959977\n",
      "MAE of Validation: 5.947345237712813\n"
     ]
    },
    {
     "name": "stderr",
     "output_type": "stream",
     "text": [
      "\u001b[32m[I 2022-03-26 02:31:41,948]\u001b[0m Trial 984 finished with value: 5.927019281893601 and parameters: {'random_state': 519632, 'learning_rate': 0.09090047679456778, 'bagging_temperature': 5.038392133257441, 'max_depth': 5, 'random_strength': 49, 'l2_leaf_reg': 2.0267778231542042e-05, 'min_child_samples': 24, 'max_bin': 487, 'od_type': 'IncToDec', 'task_type': 'GPU', 'loss_function': 'MAE', 'eval_metric': 'MAE'}. Best is trial 502 with value: 5.916511005997932.\u001b[0m\n"
     ]
    },
    {
     "name": "stdout",
     "output_type": "stream",
     "text": [
      "MAE of Train: 5.915920567932057\n",
      "MAE of Validation: 5.927019281893601\n"
     ]
    },
    {
     "name": "stderr",
     "output_type": "stream",
     "text": [
      "\u001b[32m[I 2022-03-26 02:31:49,203]\u001b[0m Trial 985 finished with value: 5.925908649950095 and parameters: {'random_state': 519632, 'learning_rate': 0.11685565532174431, 'bagging_temperature': 3.3383335952154973, 'max_depth': 5, 'random_strength': 18, 'l2_leaf_reg': 2.763814977328451e-05, 'min_child_samples': 20, 'max_bin': 452, 'od_type': 'Iter', 'task_type': 'GPU', 'loss_function': 'MAE', 'eval_metric': 'MAE'}. Best is trial 502 with value: 5.916511005997932.\u001b[0m\n"
     ]
    },
    {
     "name": "stdout",
     "output_type": "stream",
     "text": [
      "MAE of Train: 5.918217028100671\n",
      "MAE of Validation: 5.925908649950095\n"
     ]
    },
    {
     "name": "stderr",
     "output_type": "stream",
     "text": [
      "\u001b[32m[I 2022-03-26 02:31:53,922]\u001b[0m Trial 986 finished with value: 5.927838288424361 and parameters: {'random_state': 519632, 'learning_rate': 0.16271372628339884, 'bagging_temperature': 4.1477874364187235, 'max_depth': 5, 'random_strength': 31, 'l2_leaf_reg': 2.954809584649799e-05, 'min_child_samples': 32, 'max_bin': 480, 'od_type': 'IncToDec', 'task_type': 'GPU', 'loss_function': 'MAE', 'eval_metric': 'MAE'}. Best is trial 502 with value: 5.916511005997932.\u001b[0m\n"
     ]
    },
    {
     "name": "stdout",
     "output_type": "stream",
     "text": [
      "MAE of Train: 5.917592663952566\n",
      "MAE of Validation: 5.927838288424361\n"
     ]
    },
    {
     "name": "stderr",
     "output_type": "stream",
     "text": [
      "\u001b[32m[I 2022-03-26 02:31:59,840]\u001b[0m Trial 987 finished with value: 5.943144263701168 and parameters: {'random_state': 519632, 'learning_rate': 0.09927265019196524, 'bagging_temperature': 1.7317780109046956, 'max_depth': 4, 'random_strength': 53, 'l2_leaf_reg': 2.1071128294131837e-05, 'min_child_samples': 86, 'max_bin': 466, 'od_type': 'Iter', 'task_type': 'GPU', 'loss_function': 'MAE', 'eval_metric': 'MAE'}. Best is trial 502 with value: 5.916511005997932.\u001b[0m\n"
     ]
    },
    {
     "name": "stdout",
     "output_type": "stream",
     "text": [
      "MAE of Train: 5.938321735727737\n",
      "MAE of Validation: 5.943144263701168\n"
     ]
    },
    {
     "name": "stderr",
     "output_type": "stream",
     "text": [
      "\u001b[32m[I 2022-03-26 02:32:06,797]\u001b[0m Trial 988 finished with value: 5.932719416873541 and parameters: {'random_state': 519632, 'learning_rate': 0.0765580437875001, 'bagging_temperature': 5.889602153160946, 'max_depth': 5, 'random_strength': 69, 'l2_leaf_reg': 1.922915557621075e-05, 'min_child_samples': 82, 'max_bin': 473, 'od_type': 'IncToDec', 'task_type': 'GPU', 'loss_function': 'MAE', 'eval_metric': 'MAE'}. Best is trial 502 with value: 5.916511005997932.\u001b[0m\n"
     ]
    },
    {
     "name": "stdout",
     "output_type": "stream",
     "text": [
      "MAE of Train: 5.9223217509575\n",
      "MAE of Validation: 5.932719416873541\n"
     ]
    },
    {
     "name": "stderr",
     "output_type": "stream",
     "text": [
      "\u001b[32m[I 2022-03-26 02:32:11,100]\u001b[0m Trial 989 finished with value: 5.9274039488262735 and parameters: {'random_state': 519632, 'learning_rate': 0.12385666419622844, 'bagging_temperature': 2.615523651213336, 'max_depth': 5, 'random_strength': 43, 'l2_leaf_reg': 2.897456969117962e-05, 'min_child_samples': 51, 'max_bin': 458, 'od_type': 'Iter', 'task_type': 'GPU', 'loss_function': 'MAE', 'eval_metric': 'MAE'}. Best is trial 502 with value: 5.916511005997932.\u001b[0m\n"
     ]
    },
    {
     "name": "stdout",
     "output_type": "stream",
     "text": [
      "MAE of Train: 5.921924976502537\n",
      "MAE of Validation: 5.9274039488262735\n"
     ]
    },
    {
     "name": "stderr",
     "output_type": "stream",
     "text": [
      "\u001b[32m[I 2022-03-26 02:32:18,352]\u001b[0m Trial 990 finished with value: 5.924264033281186 and parameters: {'random_state': 519632, 'learning_rate': 0.08633014870192757, 'bagging_temperature': 3.2532372409502743, 'max_depth': 5, 'random_strength': 56, 'l2_leaf_reg': 2.5393869279987326e-05, 'min_child_samples': 78, 'max_bin': 476, 'od_type': 'IncToDec', 'task_type': 'GPU', 'loss_function': 'MAE', 'eval_metric': 'MAE'}. Best is trial 502 with value: 5.916511005997932.\u001b[0m\n"
     ]
    },
    {
     "name": "stdout",
     "output_type": "stream",
     "text": [
      "MAE of Train: 5.917000897956617\n",
      "MAE of Validation: 5.924264033281186\n"
     ]
    },
    {
     "name": "stderr",
     "output_type": "stream",
     "text": [
      "\u001b[32m[I 2022-03-26 02:32:25,673]\u001b[0m Trial 991 finished with value: 5.921884962208834 and parameters: {'random_state': 519632, 'learning_rate': 0.10533034513210816, 'bagging_temperature': 3.907742908969326, 'max_depth': 5, 'random_strength': 51, 'l2_leaf_reg': 2.811679676774709e-05, 'min_child_samples': 85, 'max_bin': 449, 'od_type': 'Iter', 'task_type': 'GPU', 'loss_function': 'MAE', 'eval_metric': 'MAE'}. Best is trial 502 with value: 5.916511005997932.\u001b[0m\n"
     ]
    },
    {
     "name": "stdout",
     "output_type": "stream",
     "text": [
      "MAE of Train: 5.911981129254624\n",
      "MAE of Validation: 5.921884962208834\n"
     ]
    },
    {
     "name": "stderr",
     "output_type": "stream",
     "text": [
      "\u001b[32m[I 2022-03-26 02:32:29,911]\u001b[0m Trial 992 finished with value: 5.929034134883555 and parameters: {'random_state': 519632, 'learning_rate': 0.14839327816239345, 'bagging_temperature': 4.613708081946622, 'max_depth': 6, 'random_strength': 47, 'l2_leaf_reg': 2.993841794415522e-05, 'min_child_samples': 23, 'max_bin': 304, 'od_type': 'Iter', 'task_type': 'GPU', 'loss_function': 'MAE', 'eval_metric': 'MAE'}. Best is trial 502 with value: 5.916511005997932.\u001b[0m\n"
     ]
    },
    {
     "name": "stdout",
     "output_type": "stream",
     "text": [
      "MAE of Train: 5.913494591452329\n",
      "MAE of Validation: 5.929034134883555\n"
     ]
    },
    {
     "name": "stderr",
     "output_type": "stream",
     "text": [
      "\u001b[32m[I 2022-03-26 02:32:36,810]\u001b[0m Trial 993 finished with value: 5.939629462823479 and parameters: {'random_state': 519632, 'learning_rate': 0.061257207194502526, 'bagging_temperature': 2.380449055289698, 'max_depth': 4, 'random_strength': 52, 'l2_leaf_reg': 6.416366735457072e-07, 'min_child_samples': 81, 'max_bin': 463, 'od_type': 'IncToDec', 'task_type': 'GPU', 'loss_function': 'MAE', 'eval_metric': 'MAE'}. Best is trial 502 with value: 5.916511005997932.\u001b[0m\n"
     ]
    },
    {
     "name": "stdout",
     "output_type": "stream",
     "text": [
      "MAE of Train: 5.935830398694875\n",
      "MAE of Validation: 5.939629462823479\n"
     ]
    },
    {
     "name": "stderr",
     "output_type": "stream",
     "text": [
      "\u001b[32m[I 2022-03-26 02:32:41,773]\u001b[0m Trial 994 finished with value: 5.955766463497514 and parameters: {'random_state': 519632, 'learning_rate': 0.18512565431644668, 'bagging_temperature': 3.022815268641174, 'max_depth': 5, 'random_strength': 16, 'l2_leaf_reg': 2.45527009228281e-06, 'min_child_samples': 84, 'max_bin': 496, 'od_type': 'Iter', 'task_type': 'GPU', 'loss_function': 'MAE', 'eval_metric': 'MAE'}. Best is trial 502 with value: 5.916511005997932.\u001b[0m\n"
     ]
    },
    {
     "name": "stdout",
     "output_type": "stream",
     "text": [
      "MAE of Train: 5.950976364104561\n",
      "MAE of Validation: 5.955766463497514\n"
     ]
    },
    {
     "name": "stderr",
     "output_type": "stream",
     "text": [
      "\u001b[32m[I 2022-03-26 02:32:48,927]\u001b[0m Trial 995 finished with value: 5.921848475957433 and parameters: {'random_state': 519632, 'learning_rate': 0.1130927035244667, 'bagging_temperature': 3.729219190846213, 'max_depth': 5, 'random_strength': 49, 'l2_leaf_reg': 2.6513555910018263e-05, 'min_child_samples': 88, 'max_bin': 484, 'od_type': 'IncToDec', 'task_type': 'GPU', 'loss_function': 'MAE', 'eval_metric': 'MAE'}. Best is trial 502 with value: 5.916511005997932.\u001b[0m\n"
     ]
    },
    {
     "name": "stdout",
     "output_type": "stream",
     "text": [
      "MAE of Train: 5.913058516616829\n",
      "MAE of Validation: 5.921848475957433\n"
     ]
    },
    {
     "name": "stderr",
     "output_type": "stream",
     "text": [
      "\u001b[32m[I 2022-03-26 02:32:55,992]\u001b[0m Trial 996 finished with value: 5.9276964351594925 and parameters: {'random_state': 519632, 'learning_rate': 0.07176705571046552, 'bagging_temperature': 5.036519646587023, 'max_depth': 5, 'random_strength': 45, 'l2_leaf_reg': 2.847876981816522e-05, 'min_child_samples': 21, 'max_bin': 456, 'od_type': 'Iter', 'task_type': 'GPU', 'loss_function': 'MAE', 'eval_metric': 'MAE'}. Best is trial 502 with value: 5.916511005997932.\u001b[0m\n"
     ]
    },
    {
     "name": "stdout",
     "output_type": "stream",
     "text": [
      "MAE of Train: 5.917372536844836\n",
      "MAE of Validation: 5.9276964351594925\n"
     ]
    },
    {
     "name": "stderr",
     "output_type": "stream",
     "text": [
      "\u001b[32m[I 2022-03-26 02:32:59,906]\u001b[0m Trial 997 finished with value: 5.941595268329229 and parameters: {'random_state': 519632, 'learning_rate': 0.0880405737442935, 'bagging_temperature': 1.3319861235703394, 'max_depth': 5, 'random_strength': 39, 'l2_leaf_reg': 1.9746870935563188e-05, 'min_child_samples': 18, 'max_bin': 469, 'od_type': 'IncToDec', 'task_type': 'GPU', 'loss_function': 'MAE', 'eval_metric': 'MAE'}. Best is trial 502 with value: 5.916511005997932.\u001b[0m\n"
     ]
    },
    {
     "name": "stdout",
     "output_type": "stream",
     "text": [
      "MAE of Train: 5.93642574785543\n",
      "MAE of Validation: 5.941595268329229\n"
     ]
    },
    {
     "name": "stderr",
     "output_type": "stream",
     "text": [
      "\u001b[32m[I 2022-03-26 02:33:06,125]\u001b[0m Trial 998 finished with value: 8.979097029495879 and parameters: {'random_state': 519632, 'learning_rate': 0.0007620478399019596, 'bagging_temperature': 6.843471067461405, 'max_depth': 5, 'random_strength': 55, 'l2_leaf_reg': 2.699159203698907e-05, 'min_child_samples': 80, 'max_bin': 461, 'od_type': 'Iter', 'task_type': 'GPU', 'loss_function': 'MAE', 'eval_metric': 'MAE'}. Best is trial 502 with value: 5.916511005997932.\u001b[0m\n"
     ]
    },
    {
     "name": "stdout",
     "output_type": "stream",
     "text": [
      "MAE of Train: 8.968560802483935\n",
      "MAE of Validation: 8.979097029495879\n"
     ]
    },
    {
     "name": "stderr",
     "output_type": "stream",
     "text": [
      "\u001b[32m[I 2022-03-26 02:33:09,155]\u001b[0m Trial 999 finished with value: 5.935409883147158 and parameters: {'random_state': 519632, 'learning_rate': 0.13275521896988085, 'bagging_temperature': 2.817209377439658, 'max_depth': 5, 'random_strength': 21, 'l2_leaf_reg': 1.9398801993732134e-06, 'min_child_samples': 86, 'max_bin': 450, 'od_type': 'IncToDec', 'task_type': 'GPU', 'loss_function': 'MAE', 'eval_metric': 'MAE'}. Best is trial 502 with value: 5.916511005997932.\u001b[0m\n"
     ]
    },
    {
     "name": "stdout",
     "output_type": "stream",
     "text": [
      "MAE of Train: 5.930628215606106\n",
      "MAE of Validation: 5.935409883147158\n",
      "Best Score: 5.916511005997932\n",
      "Best trial {'random_state': 519632, 'learning_rate': 0.0951365717175399, 'bagging_temperature': 3.045837760595911, 'max_depth': 5, 'random_strength': 52, 'l2_leaf_reg': 2.730400626665851e-06, 'min_child_samples': 21, 'max_bin': 459, 'od_type': 'Iter', 'task_type': 'GPU', 'loss_function': 'MAE', 'eval_metric': 'MAE'}\n",
      "0:\tlearn: 12.9253581\ttest: 12.9358927\tbest: 12.9358927 (0)\ttotal: 5.93ms\tremaining: 2m 57s\n",
      "1000:\tlearn: 5.9085957\ttest: 5.9165107\tbest: 5.9165107 (998)\ttotal: 6.79s\tremaining: 3m 16s\n",
      "bestTest = 5.91426305\n",
      "bestIteration = 1618\n",
      "Shrink model to first 1619 iterations.\n"
     ]
    }
   ],
   "source": [
    "TRIALS = 1000\n",
    "TIMEOUT = 3600 * 6\n",
    "\n",
    "if allow_optimize:\n",
    "    sampler = TPESampler(seed=362356)\n",
    "\n",
    "    study = optuna.create_study(\n",
    "        study_name = 'cat_parameter_opt',\n",
    "        direction = 'minimize',\n",
    "        sampler = sampler,\n",
    "    )\n",
    "    study.optimize(objective, n_trials=TRIALS)\n",
    "    print(\"Best Score:\",study.best_value)\n",
    "    print(\"Best trial\",study.best_trial.params)\n",
    "    \n",
    "    best_params = study.best_params\n",
    "    \n",
    "    X_train_tmp, X_valid_tmp, y_train_tmp, y_valid_tmp = train_test_split(X, y, test_size=0.3, random_state=42)\n",
    "    model_tmp = CatBoostRegressor(**best_params, n_estimators=30000, verbose=1000).fit(X_train_tmp, y_train_tmp, eval_set=[(X_valid_tmp, y_valid_tmp)], early_stopping_rounds=35)"
   ]
  },
  {
   "cell_type": "code",
   "execution_count": 11,
   "id": "8167ddf7-081d-4b28-a3e2-709f9aac03e5",
   "metadata": {},
   "outputs": [
    {
     "name": "stdout",
     "output_type": "stream",
     "text": [
      "0:\tlearn: 12.9457091\ttotal: 7.93ms\tremaining: 12.8s\n",
      "1000:\tlearn: 5.9141765\ttotal: 8.15s\tremaining: 5.02s\n",
      "1617:\tlearn: 5.9136846\ttotal: 12.9s\tremaining: 0us\n"
     ]
    }
   ],
   "source": [
    "if allow_optimize:\n",
    "    model = CatBoostRegressor(**best_params, n_estimators=model_tmp.get_best_iteration(), verbose=1000).fit(X, y)\n",
    "else:\n",
    "    model = CatBoostRegressor(\n",
    "        verbose=1000,\n",
    "        early_stopping_rounds=10,\n",
    "        #iterations=5000,\n",
    "        random_state = 2022, learning_rate = 0.0824038781081412, bagging_temperature = 0.03568558360430449, max_depth = 16, \n",
    "        random_strength = 47, l2_leaf_reg = 7.459775961819184e-06, min_child_samples = 49, max_bin = 320, od_type = 'Iter', \n",
    "        task_type = 'GPU', \n",
    "        loss_function = 'MAE', eval_metric = 'MAE'\n",
    "    ).fit(X, y)    "
   ]
  },
  {
   "cell_type": "code",
   "execution_count": 49,
   "id": "f08d5d3d-01c5-488b-bcc6-8db7d2e9846f",
   "metadata": {},
   "outputs": [
    {
     "ename": "NameError",
     "evalue": "name 'plot_feature_importance' is not defined",
     "output_type": "error",
     "traceback": [
      "\u001b[1;31m---------------------------------------------------------------------------\u001b[0m",
      "\u001b[1;31mNameError\u001b[0m                                 Traceback (most recent call last)",
      "\u001b[1;32m<ipython-input-49-d368faeeb3c6>\u001b[0m in \u001b[0;36m<module>\u001b[1;34m\u001b[0m\n\u001b[1;32m----> 1\u001b[1;33m \u001b[0mplot_feature_importance\u001b[0m\u001b[1;33m(\u001b[0m\u001b[0mmodel\u001b[0m\u001b[1;33m.\u001b[0m\u001b[0mget_feature_importance\u001b[0m\u001b[1;33m(\u001b[0m\u001b[1;33m)\u001b[0m\u001b[1;33m,\u001b[0m\u001b[0mX\u001b[0m\u001b[1;33m.\u001b[0m\u001b[0mcolumns\u001b[0m\u001b[1;33m,\u001b[0m\u001b[1;34m'CatBoost'\u001b[0m\u001b[1;33m)\u001b[0m\u001b[1;33m\u001b[0m\u001b[1;33m\u001b[0m\u001b[0m\n\u001b[0m",
      "\u001b[1;31mNameError\u001b[0m: name 'plot_feature_importance' is not defined"
     ]
    }
   ],
   "source": [
    "# plot_feature_importance(model.get_feature_importance(),X.columns,'CatBoost')"
   ]
  },
  {
   "cell_type": "code",
   "execution_count": 12,
   "id": "b83bc36e-9645-483e-a0e8-34955513ba13",
   "metadata": {},
   "outputs": [],
   "source": [
    "x_test = df_test.drop(['congestion','row_id'],axis = 1).copy()\n",
    "predictions = model.predict(x_test)\n",
    "submit_cat = pd.DataFrame({'row_id':df_test.row_id, 'congestion':predictions})\n",
    "submit_cat = submit_cat.reset_index().drop('time',axis=1).set_index('row_id')"
   ]
  },
  {
   "cell_type": "code",
   "execution_count": 70,
   "id": "1b76a6a5-c932-45ff-86b9-1c94817b90c3",
   "metadata": {},
   "outputs": [],
   "source": [
    "submit = pd.DataFrame({'congestion': submit_cat['congestion']+0*submit_xgb['congestion']})\n",
    "# special = pd.read_csv('../input/tps-mar-22-special-values/special v2.csv', index_col=\"row_id\")\n",
    "special = df_sub\n",
    "\n",
    "special = special[['congestion']].rename(columns={'congestion':'special'})\n",
    "submit = submit.merge(special, left_index=True, right_index=True, how='left')\n",
    "submit['special'] = submit['special'].fillna(submit['congestion']).round().astype(int)\n",
    "submit = submit.drop(['congestion'], axis=1).rename(columns={'special':'congestion'})\n",
    "submit['congestion'] = round(submit['congestion'])"
   ]
  },
  {
   "cell_type": "code",
   "execution_count": 14,
   "id": "4a4d013d-2ed0-4b7b-8607-aa051de861fa",
   "metadata": {},
   "outputs": [],
   "source": [
    "submit_cat.to_csv('./submission.csv')"
   ]
  },
  {
   "cell_type": "code",
   "execution_count": 67,
   "id": "0d9ed134-fe47-4b22-ba68-0f6af4cbb60d",
   "metadata": {},
   "outputs": [
    {
     "name": "stdout",
     "output_type": "stream",
     "text": [
      "Fitting 3 folds for each of 1 candidates, totalling 3 fits\n",
      "The best hyperparameters are :  \n",
      "\n",
      "{'max_depth': 5, 'min_child_weight': 1, 'n_estimators': 75}\n"
     ]
    }
   ],
   "source": [
    "from sklearn.model_selection import GridSearchCV\n",
    "allow_optimize = 1\n",
    "if allow_optimize:\n",
    "    param_grid={\n",
    "#         'max_depth': [4,5,6,7,8,9],\n",
    "        'max_depth': [5],\n",
    "        #'n_estimators': [100,200,300,400,500,600,700,800,900,1000],\n",
    "        'n_estimators': [75],\n",
    "#         'min_child_weight' : [1,2,3,4,5,6],\n",
    "        'min_child_weight' : [1],\n",
    "        \n",
    "#       'gpu_id' : [0]\n",
    "        }\n",
    "\n",
    "    regressor = XGBRegressor(\n",
    "#         tree_method = 'gpu_hist', \n",
    "#         predictor = 'gpu_predictor'\n",
    "    )\n",
    "    CV_regressor = GridSearchCV(regressor, param_grid, cv=3, scoring=\"neg_mean_absolute_error\", n_jobs= -1, return_train_score = True, verbose = 1)\n",
    "    CV_regressor.fit(X, y)\n",
    "    \n",
    "    print(\"The best hyperparameters are : \",\"\\n\")\n",
    "    print(CV_regressor.best_params_)"
   ]
  },
  {
   "cell_type": "code",
   "execution_count": 68,
   "id": "139d41f0-a170-4497-ae08-fcb110548a3d",
   "metadata": {},
   "outputs": [
    {
     "data": {
      "text/plain": [
       "XGBRegressor(base_score=0.5, booster='gbtree', colsample_bylevel=1,\n",
       "             colsample_bynode=1, colsample_bytree=1, enable_categorical=False,\n",
       "             gamma=0, gpu_id=-1, importance_type=None,\n",
       "             interaction_constraints='', learning_rate=0.300000012,\n",
       "             max_delta_step=0, max_depth=5, min_child_weight=1, missing=nan,\n",
       "             monotone_constraints='()', n_estimators=75, n_jobs=12,\n",
       "             num_parallel_tree=1, predictor='auto', random_state=0, reg_alpha=0,\n",
       "             reg_lambda=1, scale_pos_weight=1, subsample=1, tree_method='exact',\n",
       "             validate_parameters=1, verbosity=None)"
      ]
     },
     "execution_count": 68,
     "metadata": {},
     "output_type": "execute_result"
    }
   ],
   "source": [
    "if allow_optimize: \n",
    "    CV_regressor = CV_regressor.best_estimator_\n",
    "else:\n",
    "    CV_regressor = XGBRegressor(\n",
    "#         tree_method = 'gpu_hist',\n",
    "#         predictor = 'gpu_predictor', \n",
    "#         gpu_id = 0, \n",
    "        max_depth = 4, n_estimators = 100)\n",
    "CV_regressor.fit(X, y)"
   ]
  },
  {
   "cell_type": "code",
   "execution_count": null,
   "id": "2cfd2b5a-7205-41f8-8426-c493c510510e",
   "metadata": {},
   "outputs": [],
   "source": [
    "# plot_feature_importance(CV_regressor.feature_importances_,X.columns,'XGBOOST')"
   ]
  },
  {
   "cell_type": "code",
   "execution_count": 69,
   "id": "1b46ddb5-eeb7-4335-856a-1a0c10fee837",
   "metadata": {},
   "outputs": [],
   "source": [
    "predictions = CV_regressor.predict(x_test)\n",
    "submit_xgb = pd.DataFrame({'row_id':df_test.row_id, 'congestion':predictions})\n",
    "submit_xgb = submit_xgb.reset_index().drop('time',axis=1).set_index('row_id')"
   ]
  },
  {
   "cell_type": "code",
   "execution_count": 73,
   "id": "2932bd28-2ce9-42a2-a9e5-382eebd1795c",
   "metadata": {},
   "outputs": [
    {
     "data": {
      "text/html": [
       "<div>\n",
       "<style scoped>\n",
       "    .dataframe tbody tr th:only-of-type {\n",
       "        vertical-align: middle;\n",
       "    }\n",
       "\n",
       "    .dataframe tbody tr th {\n",
       "        vertical-align: top;\n",
       "    }\n",
       "\n",
       "    .dataframe thead th {\n",
       "        text-align: right;\n",
       "    }\n",
       "</style>\n",
       "<table border=\"1\" class=\"dataframe\">\n",
       "  <thead>\n",
       "    <tr style=\"text-align: right;\">\n",
       "      <th></th>\n",
       "      <th>hour</th>\n",
       "      <th>roadway</th>\n",
       "      <th>x_cos_hour</th>\n",
       "      <th>y_sen_hour</th>\n",
       "      <th>mean congestion</th>\n",
       "      <th>median congestion</th>\n",
       "      <th>min congestion</th>\n",
       "      <th>max congestion</th>\n",
       "    </tr>\n",
       "    <tr>\n",
       "      <th>time</th>\n",
       "      <th></th>\n",
       "      <th></th>\n",
       "      <th></th>\n",
       "      <th></th>\n",
       "      <th></th>\n",
       "      <th></th>\n",
       "      <th></th>\n",
       "      <th></th>\n",
       "    </tr>\n",
       "  </thead>\n",
       "  <tbody>\n",
       "    <tr>\n",
       "      <th>1991-04-01</th>\n",
       "      <td>0</td>\n",
       "      <td>0</td>\n",
       "      <td>0.0</td>\n",
       "      <td>0.0</td>\n",
       "      <td>39.555557</td>\n",
       "      <td>35.0</td>\n",
       "      <td>30.0</td>\n",
       "      <td>80.0</td>\n",
       "    </tr>\n",
       "    <tr>\n",
       "      <th>1991-04-01</th>\n",
       "      <td>0</td>\n",
       "      <td>1</td>\n",
       "      <td>0.0</td>\n",
       "      <td>0.0</td>\n",
       "      <td>30.259260</td>\n",
       "      <td>29.0</td>\n",
       "      <td>13.0</td>\n",
       "      <td>69.0</td>\n",
       "    </tr>\n",
       "    <tr>\n",
       "      <th>1991-04-01</th>\n",
       "      <td>0</td>\n",
       "      <td>2</td>\n",
       "      <td>-0.0</td>\n",
       "      <td>0.0</td>\n",
       "      <td>37.962963</td>\n",
       "      <td>24.0</td>\n",
       "      <td>21.0</td>\n",
       "      <td>91.0</td>\n",
       "    </tr>\n",
       "    <tr>\n",
       "      <th>1991-04-01</th>\n",
       "      <td>0</td>\n",
       "      <td>3</td>\n",
       "      <td>0.0</td>\n",
       "      <td>0.0</td>\n",
       "      <td>15.740741</td>\n",
       "      <td>17.0</td>\n",
       "      <td>0.0</td>\n",
       "      <td>26.0</td>\n",
       "    </tr>\n",
       "    <tr>\n",
       "      <th>1991-04-01</th>\n",
       "      <td>0</td>\n",
       "      <td>4</td>\n",
       "      <td>0.0</td>\n",
       "      <td>0.0</td>\n",
       "      <td>61.962963</td>\n",
       "      <td>63.0</td>\n",
       "      <td>52.0</td>\n",
       "      <td>72.0</td>\n",
       "    </tr>\n",
       "  </tbody>\n",
       "</table>\n",
       "</div>"
      ],
      "text/plain": [
       "            hour  roadway  x_cos_hour  y_sen_hour  mean congestion  median congestion  min congestion  max congestion\n",
       "time                                                                                                                 \n",
       "1991-04-01     0        0         0.0         0.0        39.555557               35.0            30.0            80.0\n",
       "1991-04-01     0        1         0.0         0.0        30.259260               29.0            13.0            69.0\n",
       "1991-04-01     0        2        -0.0         0.0        37.962963               24.0            21.0            91.0\n",
       "1991-04-01     0        3         0.0         0.0        15.740741               17.0             0.0            26.0\n",
       "1991-04-01     0        4         0.0         0.0        61.962963               63.0            52.0            72.0"
      ]
     },
     "execution_count": 73,
     "metadata": {},
     "output_type": "execute_result"
    }
   ],
   "source": [
    "X.head()"
   ]
  },
  {
   "cell_type": "code",
   "execution_count": null,
   "id": "2f6f0aba-8d95-4a5a-8cad-7968aaf3b0fc",
   "metadata": {},
   "outputs": [],
   "source": []
  }
 ],
 "metadata": {
  "kernelspec": {
   "display_name": "Python 3 (ipykernel)",
   "language": "python",
   "name": "python3"
  },
  "language_info": {
   "codemirror_mode": {
    "name": "ipython",
    "version": 3
   },
   "file_extension": ".py",
   "mimetype": "text/x-python",
   "name": "python",
   "nbconvert_exporter": "python",
   "pygments_lexer": "ipython3",
   "version": "3.8.12"
  },
  "widgets": {
   "application/vnd.jupyter.widget-state+json": {
    "state": {},
    "version_major": 2,
    "version_minor": 0
   }
  }
 },
 "nbformat": 4,
 "nbformat_minor": 5
}
