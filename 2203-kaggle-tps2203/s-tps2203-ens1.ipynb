{
 "cells": [
  {
   "cell_type": "code",
   "execution_count": 3,
   "id": "0be8b4f8-5949-4ae3-8cba-cdb2892bc547",
   "metadata": {},
   "outputs": [],
   "source": [
    "import pandas as pd\n",
    "\n",
    "DIR_DATASET = \"C:/Users/0stix/Datasets/\"\n",
    "NAME_PROJECT = \"2203-kaggle-tps2203\"\n",
    "\n",
    "sub_a = pd.read_csv(DIR_DATASET + NAME_PROJECT + '/sub_ens1_a.csv', index_col='row_id', )\n",
    "sub_b = pd.read_csv(DIR_DATASET + NAME_PROJECT + '/sub_ens1_b.csv', index_col='row_id', )\n",
    "\n",
    "pred_a = sub_a['congestion']\n",
    "pred_b = sub_b['congestion']\n",
    "\n",
    "sub_f = pd.read_csv(DIR_DATASET + NAME_PROJECT + '/sample_submission.csv', index_col='row_id', )\n",
    "sub_f['congestion'] = pred_a * .5 + pred_b * .5\n",
    "\n",
    "import datetime\n",
    "now = datetime.datetime.now()\n",
    "str_datetime = now.strftime(\"%y%m%d_%H%M%S\")\n",
    "sub_f.to_csv(DIR_DATASET+'submission-'+NAME_PROJECT+'-'+str_datetime+'.csv', index=True)"
   ]
  },
  {
   "cell_type": "code",
   "execution_count": null,
   "id": "4cacddf7-685b-48aa-9a66-55967caea5c3",
   "metadata": {},
   "outputs": [],
   "source": []
  }
 ],
 "metadata": {
  "kernelspec": {
   "display_name": "Python 3 (ipykernel)",
   "language": "python",
   "name": "python3"
  },
  "language_info": {
   "codemirror_mode": {
    "name": "ipython",
    "version": 3
   },
   "file_extension": ".py",
   "mimetype": "text/x-python",
   "name": "python",
   "nbconvert_exporter": "python",
   "pygments_lexer": "ipython3",
   "version": "3.8.10"
  },
  "widgets": {
   "application/vnd.jupyter.widget-state+json": {
    "state": {},
    "version_major": 2,
    "version_minor": 0
   }
  }
 },
 "nbformat": 4,
 "nbformat_minor": 5
}
