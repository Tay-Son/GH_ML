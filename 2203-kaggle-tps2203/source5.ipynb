{
 "cells": [
  {
   "cell_type": "code",
   "execution_count": 1,
   "id": "c5cfdc37-ef77-4f87-8c12-ea30a43344be",
   "metadata": {},
   "outputs": [],
   "source": [
    "# Notebook 출력설정\n",
    "# 주요 라이브러리 임포트\n",
    "\n",
    "import warnings\n",
    "warnings.filterwarnings('ignore')\n",
    "\n",
    "import numpy as np\n",
    "import pandas as pd\n",
    "pd.set_option('display.max_colwidth', -1)\n",
    "pd.set_option('display.max_rows', 500)\n",
    "pd.set_option('display.max_columns', 500)\n",
    "pd.set_option('display.width', 1000)\n",
    "\n",
    "%matplotlib inline\n",
    "import matplotlib.pylab as plt\n",
    "plt.rcParams[\"figure.figsize\"] = (15,5)\n",
    "plt.rcParams['lines.linewidth'] = 1\n",
    "plt.rcParams['axes.grid'] = True\n",
    "import seaborn as sns"
   ]
  },
  {
   "cell_type": "code",
   "execution_count": 2,
   "id": "0e7c1abd-0b6d-4e46-bdd7-cf50febbf870",
   "metadata": {},
   "outputs": [],
   "source": [
    "DIR_DATASET = \"C:/Users/0stix/Datasets/\"\n",
    "NAME_PROJECT = '2203-kaggle-tps2203'"
   ]
  },
  {
   "cell_type": "code",
   "execution_count": 3,
   "id": "b5f4eda3-ab76-44dd-af7b-cf125369cf2a",
   "metadata": {},
   "outputs": [],
   "source": [
    "df_train = pd.read_csv(DIR_DATASET + NAME_PROJECT + '/train.csv', index_col='row_id')\n",
    "df_test = pd.read_csv(DIR_DATASET + NAME_PROJECT + '/test.csv', index_col='row_id')\n",
    "\n",
    "len_train = len(df_train)\n",
    "df_all = pd.concat([df_train, df_test], axis=0)\n",
    "target_ = 'congestion'"
   ]
  },
  {
   "cell_type": "code",
   "execution_count": 4,
   "id": "84fa5e63-0d02-445d-aad6-15f2d4333fbc",
   "metadata": {},
   "outputs": [],
   "source": [
    "df_v0 = pd.DataFrame()\n",
    "df_v0[target_] = df_all[target_]\n",
    "df_v0['drop'] = False\n",
    "\n",
    "df_v0['dt'] = pd.to_datetime(df_all['time'])\n",
    "\n",
    "# df_v0['is_hd'] |= df_v0['dt'].dt.date.astype(str).str.contains('1991-05-27|1991-07-04|1991-09-02').astype('int')\n",
    "df_v0['drop'] |= df_v0['dt'].dt.date.astype(str).str.contains('1991-05-27|1991-07-04|1991-09-02')\n",
    "# df_v0[df_v0['is_hd'] == 1]['drop'] = 1\n",
    "# df_v0.drop('is_hd', axis=1, inplace=True)\n",
    "\n",
    "df_v0['dt_m'] = df_v0['dt'].dt.month\n",
    "df_v0['dt_d'] = df_v0['dt'].dt.dayofyear\n",
    "df_v0['dt_am'] = (6 < df_v0['dt'].dt.hour) & (df_v0['dt'].dt.hour < 12)\n",
    "df_v0['dt_wd'] = df_v0['dt'].dt.weekday\n",
    "df_v0['dt_t'] = (df_v0['dt'].dt.hour - 12) * 3 + (df_v0['dt'].dt.minute // 20)\n",
    "\n",
    "df_v0['drop'] |= df_v0['dt_m'] < 5\n",
    "df_v0['drop'] |= 3 < df_v0['dt_wd'] \n",
    "\n",
    "df_v0.drop('dt', axis=1, inplace=True)\n",
    "\n",
    "df_v0['x'] = df_all['x']\n",
    "df_v0['y'] = df_all['y']\n",
    "df_v0['direction'] = df_all['direction']\n",
    "\n",
    "\n",
    "df_v0['xydirday'] = df_all['x'].astype(str) + df_all['y'].astype(str) + df_all['direction'] + df_v0['dt_d'].astype(str)\n",
    "df_v0['xydir'] = df_all['x'].astype(str) + df_all['y'].astype(str) + df_all['direction']\n",
    "df_v0['all'] = df_v0['xydir'] + df_v0['dt_t'].astype(str)\n",
    "df_v0['drop'] |= df_v0['dt_t'] < 0\n",
    "\n",
    "# mapper_avg = df_v0[['all',target_]].groupby(['all']).median().to_dict()[target_]\n",
    "# df_v0['avg'] = df_v0['all'].map(mapper_avg)\n",
    "\n",
    "# train['avg']= train['all'].map(mapper_avg)\n",
    "# test['avg']= test['all'].map(mapper_avg)\n",
    "# train= train[train.time >=0]\n",
    "\n",
    "# df_v0.head()"
   ]
  },
  {
   "cell_type": "code",
   "execution_count": 5,
   "id": "f498c6af-afda-4b26-87c2-3a8db1cbecf1",
   "metadata": {},
   "outputs": [
    {
     "data": {
      "text/html": [
       "<div>\n",
       "<style scoped>\n",
       "    .dataframe tbody tr th:only-of-type {\n",
       "        vertical-align: middle;\n",
       "    }\n",
       "\n",
       "    .dataframe tbody tr th {\n",
       "        vertical-align: top;\n",
       "    }\n",
       "\n",
       "    .dataframe thead th {\n",
       "        text-align: right;\n",
       "    }\n",
       "</style>\n",
       "<table border=\"1\" class=\"dataframe\">\n",
       "  <thead>\n",
       "    <tr style=\"text-align: right;\">\n",
       "      <th></th>\n",
       "      <th>congestion</th>\n",
       "      <th>dt_m</th>\n",
       "      <th>dt_d</th>\n",
       "      <th>dt_am</th>\n",
       "      <th>dt_wd</th>\n",
       "      <th>dt_t</th>\n",
       "      <th>x</th>\n",
       "      <th>y</th>\n",
       "      <th>direction</th>\n",
       "      <th>xydirday</th>\n",
       "      <th>xydir</th>\n",
       "      <th>all</th>\n",
       "      <th>avg</th>\n",
       "    </tr>\n",
       "    <tr>\n",
       "      <th>row_id</th>\n",
       "      <th></th>\n",
       "      <th></th>\n",
       "      <th></th>\n",
       "      <th></th>\n",
       "      <th></th>\n",
       "      <th></th>\n",
       "      <th></th>\n",
       "      <th></th>\n",
       "      <th></th>\n",
       "      <th></th>\n",
       "      <th></th>\n",
       "      <th></th>\n",
       "      <th></th>\n",
       "    </tr>\n",
       "  </thead>\n",
       "  <tbody>\n",
       "    <tr>\n",
       "      <th>142220</th>\n",
       "      <td>27.0</td>\n",
       "      <td>5</td>\n",
       "      <td>121</td>\n",
       "      <td>False</td>\n",
       "      <td>2</td>\n",
       "      <td>0</td>\n",
       "      <td>0</td>\n",
       "      <td>0</td>\n",
       "      <td>EB</td>\n",
       "      <td>00EB121</td>\n",
       "      <td>00EB</td>\n",
       "      <td>00EB0</td>\n",
       "      <td>50.0</td>\n",
       "    </tr>\n",
       "    <tr>\n",
       "      <th>142221</th>\n",
       "      <td>24.0</td>\n",
       "      <td>5</td>\n",
       "      <td>121</td>\n",
       "      <td>False</td>\n",
       "      <td>2</td>\n",
       "      <td>0</td>\n",
       "      <td>0</td>\n",
       "      <td>0</td>\n",
       "      <td>NB</td>\n",
       "      <td>00NB121</td>\n",
       "      <td>00NB</td>\n",
       "      <td>00NB0</td>\n",
       "      <td>35.0</td>\n",
       "    </tr>\n",
       "    <tr>\n",
       "      <th>142222</th>\n",
       "      <td>52.0</td>\n",
       "      <td>5</td>\n",
       "      <td>121</td>\n",
       "      <td>False</td>\n",
       "      <td>2</td>\n",
       "      <td>0</td>\n",
       "      <td>0</td>\n",
       "      <td>0</td>\n",
       "      <td>SB</td>\n",
       "      <td>00SB121</td>\n",
       "      <td>00SB</td>\n",
       "      <td>00SB0</td>\n",
       "      <td>55.0</td>\n",
       "    </tr>\n",
       "    <tr>\n",
       "      <th>142223</th>\n",
       "      <td>27.0</td>\n",
       "      <td>5</td>\n",
       "      <td>121</td>\n",
       "      <td>False</td>\n",
       "      <td>2</td>\n",
       "      <td>0</td>\n",
       "      <td>0</td>\n",
       "      <td>1</td>\n",
       "      <td>EB</td>\n",
       "      <td>01EB121</td>\n",
       "      <td>01EB</td>\n",
       "      <td>01EB0</td>\n",
       "      <td>26.0</td>\n",
       "    </tr>\n",
       "    <tr>\n",
       "      <th>142224</th>\n",
       "      <td>72.0</td>\n",
       "      <td>5</td>\n",
       "      <td>121</td>\n",
       "      <td>False</td>\n",
       "      <td>2</td>\n",
       "      <td>0</td>\n",
       "      <td>0</td>\n",
       "      <td>1</td>\n",
       "      <td>NB</td>\n",
       "      <td>01NB121</td>\n",
       "      <td>01NB</td>\n",
       "      <td>01NB0</td>\n",
       "      <td>72.0</td>\n",
       "    </tr>\n",
       "  </tbody>\n",
       "</table>\n",
       "</div>"
      ],
      "text/plain": [
       "        congestion  dt_m  dt_d  dt_am  dt_wd  dt_t  x  y direction xydirday xydir    all   avg\n",
       "row_id                                                                                        \n",
       "142220  27.0        5     121   False  2      0     0  0  EB        00EB121  00EB  00EB0  50.0\n",
       "142221  24.0        5     121   False  2      0     0  0  NB        00NB121  00NB  00NB0  35.0\n",
       "142222  52.0        5     121   False  2      0     0  0  SB        00SB121  00SB  00SB0  55.0\n",
       "142223  27.0        5     121   False  2      0     0  1  EB        01EB121  01EB  01EB0  26.0\n",
       "142224  72.0        5     121   False  2      0     0  1  NB        01NB121  01NB  01NB0  72.0"
      ]
     },
     "execution_count": 5,
     "metadata": {},
     "output_type": "execute_result"
    }
   ],
   "source": [
    "df_v0_tr = df_v0[:len_train]\n",
    "df_v0_te = df_v0[len_train:]\n",
    "\n",
    "df_v0_tr.drop((df_v0_tr[df_v0_tr['drop'] == True]).index, inplace=True)\n",
    "df_v0_tr.drop('drop', axis=1, inplace=True)\n",
    "\n",
    "df_v0_te.drop((df_v0_te[df_v0_te['drop'] == True]).index, inplace=True)\n",
    "df_v0_te.drop('drop', axis=1, inplace=True)\n",
    "\n",
    "mapper_avg = df_v0_tr[['all',target_]].groupby(['all']).median().to_dict()[target_]\n",
    "df_v0_tr['avg'] = df_v0_tr['all'].map(mapper_avg)\n",
    "df_v0_te['avg'] = df_v0_te['all'].map(mapper_avg)\n",
    "\n",
    "df_v0_tr.head()"
   ]
  },
  {
   "cell_type": "code",
   "execution_count": 6,
   "id": "61d4b6f2-429a-4487-9918-e20f91a3e118",
   "metadata": {},
   "outputs": [
    {
     "data": {
      "text/plain": [
       "((193700, 13), (2340, 13), (851175, 13))"
      ]
     },
     "execution_count": 6,
     "metadata": {},
     "output_type": "execute_result"
    }
   ],
   "source": [
    "df_v0_tr.shape, df_v0_te.shape, df_v0.shape"
   ]
  },
  {
   "cell_type": "code",
   "execution_count": 7,
   "id": "57fb33b4-66cd-4307-9ea6-40e4ba3a4887",
   "metadata": {},
   "outputs": [
    {
     "data": {
      "text/html": [
       "<style type=\"text/css\">\n",
       "#T_5dada_row42_col1 {\n",
       "  background-color: lightgreen;\n",
       "}\n",
       "</style>\n",
       "<table id=\"T_5dada\">\n",
       "  <thead>\n",
       "    <tr>\n",
       "      <th class=\"blank level0\" >&nbsp;</th>\n",
       "      <th id=\"T_5dada_level0_col0\" class=\"col_heading level0 col0\" >Description</th>\n",
       "      <th id=\"T_5dada_level0_col1\" class=\"col_heading level0 col1\" >Value</th>\n",
       "    </tr>\n",
       "  </thead>\n",
       "  <tbody>\n",
       "    <tr>\n",
       "      <th id=\"T_5dada_level0_row0\" class=\"row_heading level0 row0\" >0</th>\n",
       "      <td id=\"T_5dada_row0_col0\" class=\"data row0 col0\" >session_id</td>\n",
       "      <td id=\"T_5dada_row0_col1\" class=\"data row0 col1\" >999</td>\n",
       "    </tr>\n",
       "    <tr>\n",
       "      <th id=\"T_5dada_level0_row1\" class=\"row_heading level0 row1\" >1</th>\n",
       "      <td id=\"T_5dada_row1_col0\" class=\"data row1 col0\" >Target</td>\n",
       "      <td id=\"T_5dada_row1_col1\" class=\"data row1 col1\" >congestion</td>\n",
       "    </tr>\n",
       "    <tr>\n",
       "      <th id=\"T_5dada_level0_row2\" class=\"row_heading level0 row2\" >2</th>\n",
       "      <td id=\"T_5dada_row2_col0\" class=\"data row2 col0\" >Original Data</td>\n",
       "      <td id=\"T_5dada_row2_col1\" class=\"data row2 col1\" >(193700, 13)</td>\n",
       "    </tr>\n",
       "    <tr>\n",
       "      <th id=\"T_5dada_level0_row3\" class=\"row_heading level0 row3\" >3</th>\n",
       "      <td id=\"T_5dada_row3_col0\" class=\"data row3 col0\" >Missing Values</td>\n",
       "      <td id=\"T_5dada_row3_col1\" class=\"data row3 col1\" >0</td>\n",
       "    </tr>\n",
       "    <tr>\n",
       "      <th id=\"T_5dada_level0_row4\" class=\"row_heading level0 row4\" >4</th>\n",
       "      <td id=\"T_5dada_row4_col0\" class=\"data row4 col0\" >Numeric Features</td>\n",
       "      <td id=\"T_5dada_row4_col1\" class=\"data row4 col1\" >2</td>\n",
       "    </tr>\n",
       "    <tr>\n",
       "      <th id=\"T_5dada_level0_row5\" class=\"row_heading level0 row5\" >5</th>\n",
       "      <td id=\"T_5dada_row5_col0\" class=\"data row5 col0\" >Categorical Features</td>\n",
       "      <td id=\"T_5dada_row5_col1\" class=\"data row5 col1\" >7</td>\n",
       "    </tr>\n",
       "    <tr>\n",
       "      <th id=\"T_5dada_level0_row6\" class=\"row_heading level0 row6\" >6</th>\n",
       "      <td id=\"T_5dada_row6_col0\" class=\"data row6 col0\" >Ordinal Features</td>\n",
       "      <td id=\"T_5dada_row6_col1\" class=\"data row6 col1\" >0</td>\n",
       "    </tr>\n",
       "    <tr>\n",
       "      <th id=\"T_5dada_level0_row7\" class=\"row_heading level0 row7\" >7</th>\n",
       "      <td id=\"T_5dada_row7_col0\" class=\"data row7 col0\" >High Cardinality Features</td>\n",
       "      <td id=\"T_5dada_row7_col1\" class=\"data row7 col1\" >0</td>\n",
       "    </tr>\n",
       "    <tr>\n",
       "      <th id=\"T_5dada_level0_row8\" class=\"row_heading level0 row8\" >8</th>\n",
       "      <td id=\"T_5dada_row8_col0\" class=\"data row8 col0\" >High Cardinality Method</td>\n",
       "      <td id=\"T_5dada_row8_col1\" class=\"data row8 col1\" >None</td>\n",
       "    </tr>\n",
       "    <tr>\n",
       "      <th id=\"T_5dada_level0_row9\" class=\"row_heading level0 row9\" >9</th>\n",
       "      <td id=\"T_5dada_row9_col0\" class=\"data row9 col0\" >Transformed Train Set</td>\n",
       "      <td id=\"T_5dada_row9_col1\" class=\"data row9 col1\" >(135589, 92)</td>\n",
       "    </tr>\n",
       "    <tr>\n",
       "      <th id=\"T_5dada_level0_row10\" class=\"row_heading level0 row10\" >10</th>\n",
       "      <td id=\"T_5dada_row10_col0\" class=\"data row10 col0\" >Transformed Test Set</td>\n",
       "      <td id=\"T_5dada_row10_col1\" class=\"data row10 col1\" >(58111, 92)</td>\n",
       "    </tr>\n",
       "    <tr>\n",
       "      <th id=\"T_5dada_level0_row11\" class=\"row_heading level0 row11\" >11</th>\n",
       "      <td id=\"T_5dada_row11_col0\" class=\"data row11 col0\" >Shuffle Train-Test</td>\n",
       "      <td id=\"T_5dada_row11_col1\" class=\"data row11 col1\" >True</td>\n",
       "    </tr>\n",
       "    <tr>\n",
       "      <th id=\"T_5dada_level0_row12\" class=\"row_heading level0 row12\" >12</th>\n",
       "      <td id=\"T_5dada_row12_col0\" class=\"data row12 col0\" >Stratify Train-Test</td>\n",
       "      <td id=\"T_5dada_row12_col1\" class=\"data row12 col1\" >False</td>\n",
       "    </tr>\n",
       "    <tr>\n",
       "      <th id=\"T_5dada_level0_row13\" class=\"row_heading level0 row13\" >13</th>\n",
       "      <td id=\"T_5dada_row13_col0\" class=\"data row13 col0\" >Fold Generator</td>\n",
       "      <td id=\"T_5dada_row13_col1\" class=\"data row13 col1\" >GroupKFold</td>\n",
       "    </tr>\n",
       "    <tr>\n",
       "      <th id=\"T_5dada_level0_row14\" class=\"row_heading level0 row14\" >14</th>\n",
       "      <td id=\"T_5dada_row14_col0\" class=\"data row14 col0\" >Fold Number</td>\n",
       "      <td id=\"T_5dada_row14_col1\" class=\"data row14 col1\" >4</td>\n",
       "    </tr>\n",
       "    <tr>\n",
       "      <th id=\"T_5dada_level0_row15\" class=\"row_heading level0 row15\" >15</th>\n",
       "      <td id=\"T_5dada_row15_col0\" class=\"data row15 col0\" >CPU Jobs</td>\n",
       "      <td id=\"T_5dada_row15_col1\" class=\"data row15 col1\" >-1</td>\n",
       "    </tr>\n",
       "    <tr>\n",
       "      <th id=\"T_5dada_level0_row16\" class=\"row_heading level0 row16\" >16</th>\n",
       "      <td id=\"T_5dada_row16_col0\" class=\"data row16 col0\" >Use GPU</td>\n",
       "      <td id=\"T_5dada_row16_col1\" class=\"data row16 col1\" >0</td>\n",
       "    </tr>\n",
       "    <tr>\n",
       "      <th id=\"T_5dada_level0_row17\" class=\"row_heading level0 row17\" >17</th>\n",
       "      <td id=\"T_5dada_row17_col0\" class=\"data row17 col0\" >Log Experiment</td>\n",
       "      <td id=\"T_5dada_row17_col1\" class=\"data row17 col1\" >0</td>\n",
       "    </tr>\n",
       "    <tr>\n",
       "      <th id=\"T_5dada_level0_row18\" class=\"row_heading level0 row18\" >18</th>\n",
       "      <td id=\"T_5dada_row18_col0\" class=\"data row18 col0\" >Experiment Name</td>\n",
       "      <td id=\"T_5dada_row18_col1\" class=\"data row18 col1\" >reg-default-name</td>\n",
       "    </tr>\n",
       "    <tr>\n",
       "      <th id=\"T_5dada_level0_row19\" class=\"row_heading level0 row19\" >19</th>\n",
       "      <td id=\"T_5dada_row19_col0\" class=\"data row19 col0\" >USI</td>\n",
       "      <td id=\"T_5dada_row19_col1\" class=\"data row19 col1\" >f0d0</td>\n",
       "    </tr>\n",
       "    <tr>\n",
       "      <th id=\"T_5dada_level0_row20\" class=\"row_heading level0 row20\" >20</th>\n",
       "      <td id=\"T_5dada_row20_col0\" class=\"data row20 col0\" >Imputation Type</td>\n",
       "      <td id=\"T_5dada_row20_col1\" class=\"data row20 col1\" >simple</td>\n",
       "    </tr>\n",
       "    <tr>\n",
       "      <th id=\"T_5dada_level0_row21\" class=\"row_heading level0 row21\" >21</th>\n",
       "      <td id=\"T_5dada_row21_col0\" class=\"data row21 col0\" >Iterative Imputation Iteration</td>\n",
       "      <td id=\"T_5dada_row21_col1\" class=\"data row21 col1\" >None</td>\n",
       "    </tr>\n",
       "    <tr>\n",
       "      <th id=\"T_5dada_level0_row22\" class=\"row_heading level0 row22\" >22</th>\n",
       "      <td id=\"T_5dada_row22_col0\" class=\"data row22 col0\" >Numeric Imputer</td>\n",
       "      <td id=\"T_5dada_row22_col1\" class=\"data row22 col1\" >mean</td>\n",
       "    </tr>\n",
       "    <tr>\n",
       "      <th id=\"T_5dada_level0_row23\" class=\"row_heading level0 row23\" >23</th>\n",
       "      <td id=\"T_5dada_row23_col0\" class=\"data row23 col0\" >Iterative Imputation Numeric Model</td>\n",
       "      <td id=\"T_5dada_row23_col1\" class=\"data row23 col1\" >None</td>\n",
       "    </tr>\n",
       "    <tr>\n",
       "      <th id=\"T_5dada_level0_row24\" class=\"row_heading level0 row24\" >24</th>\n",
       "      <td id=\"T_5dada_row24_col0\" class=\"data row24 col0\" >Categorical Imputer</td>\n",
       "      <td id=\"T_5dada_row24_col1\" class=\"data row24 col1\" >constant</td>\n",
       "    </tr>\n",
       "    <tr>\n",
       "      <th id=\"T_5dada_level0_row25\" class=\"row_heading level0 row25\" >25</th>\n",
       "      <td id=\"T_5dada_row25_col0\" class=\"data row25 col0\" >Iterative Imputation Categorical Model</td>\n",
       "      <td id=\"T_5dada_row25_col1\" class=\"data row25 col1\" >None</td>\n",
       "    </tr>\n",
       "    <tr>\n",
       "      <th id=\"T_5dada_level0_row26\" class=\"row_heading level0 row26\" >26</th>\n",
       "      <td id=\"T_5dada_row26_col0\" class=\"data row26 col0\" >Unknown Categoricals Handling</td>\n",
       "      <td id=\"T_5dada_row26_col1\" class=\"data row26 col1\" >least_frequent</td>\n",
       "    </tr>\n",
       "    <tr>\n",
       "      <th id=\"T_5dada_level0_row27\" class=\"row_heading level0 row27\" >27</th>\n",
       "      <td id=\"T_5dada_row27_col0\" class=\"data row27 col0\" >Normalize</td>\n",
       "      <td id=\"T_5dada_row27_col1\" class=\"data row27 col1\" >0</td>\n",
       "    </tr>\n",
       "    <tr>\n",
       "      <th id=\"T_5dada_level0_row28\" class=\"row_heading level0 row28\" >28</th>\n",
       "      <td id=\"T_5dada_row28_col0\" class=\"data row28 col0\" >Normalize Method</td>\n",
       "      <td id=\"T_5dada_row28_col1\" class=\"data row28 col1\" >None</td>\n",
       "    </tr>\n",
       "    <tr>\n",
       "      <th id=\"T_5dada_level0_row29\" class=\"row_heading level0 row29\" >29</th>\n",
       "      <td id=\"T_5dada_row29_col0\" class=\"data row29 col0\" >Transformation</td>\n",
       "      <td id=\"T_5dada_row29_col1\" class=\"data row29 col1\" >0</td>\n",
       "    </tr>\n",
       "    <tr>\n",
       "      <th id=\"T_5dada_level0_row30\" class=\"row_heading level0 row30\" >30</th>\n",
       "      <td id=\"T_5dada_row30_col0\" class=\"data row30 col0\" >Transformation Method</td>\n",
       "      <td id=\"T_5dada_row30_col1\" class=\"data row30 col1\" >None</td>\n",
       "    </tr>\n",
       "    <tr>\n",
       "      <th id=\"T_5dada_level0_row31\" class=\"row_heading level0 row31\" >31</th>\n",
       "      <td id=\"T_5dada_row31_col0\" class=\"data row31 col0\" >PCA</td>\n",
       "      <td id=\"T_5dada_row31_col1\" class=\"data row31 col1\" >0</td>\n",
       "    </tr>\n",
       "    <tr>\n",
       "      <th id=\"T_5dada_level0_row32\" class=\"row_heading level0 row32\" >32</th>\n",
       "      <td id=\"T_5dada_row32_col0\" class=\"data row32 col0\" >PCA Method</td>\n",
       "      <td id=\"T_5dada_row32_col1\" class=\"data row32 col1\" >None</td>\n",
       "    </tr>\n",
       "    <tr>\n",
       "      <th id=\"T_5dada_level0_row33\" class=\"row_heading level0 row33\" >33</th>\n",
       "      <td id=\"T_5dada_row33_col0\" class=\"data row33 col0\" >PCA Components</td>\n",
       "      <td id=\"T_5dada_row33_col1\" class=\"data row33 col1\" >None</td>\n",
       "    </tr>\n",
       "    <tr>\n",
       "      <th id=\"T_5dada_level0_row34\" class=\"row_heading level0 row34\" >34</th>\n",
       "      <td id=\"T_5dada_row34_col0\" class=\"data row34 col0\" >Ignore Low Variance</td>\n",
       "      <td id=\"T_5dada_row34_col1\" class=\"data row34 col1\" >0</td>\n",
       "    </tr>\n",
       "    <tr>\n",
       "      <th id=\"T_5dada_level0_row35\" class=\"row_heading level0 row35\" >35</th>\n",
       "      <td id=\"T_5dada_row35_col0\" class=\"data row35 col0\" >Combine Rare Levels</td>\n",
       "      <td id=\"T_5dada_row35_col1\" class=\"data row35 col1\" >0</td>\n",
       "    </tr>\n",
       "    <tr>\n",
       "      <th id=\"T_5dada_level0_row36\" class=\"row_heading level0 row36\" >36</th>\n",
       "      <td id=\"T_5dada_row36_col0\" class=\"data row36 col0\" >Rare Level Threshold</td>\n",
       "      <td id=\"T_5dada_row36_col1\" class=\"data row36 col1\" >None</td>\n",
       "    </tr>\n",
       "    <tr>\n",
       "      <th id=\"T_5dada_level0_row37\" class=\"row_heading level0 row37\" >37</th>\n",
       "      <td id=\"T_5dada_row37_col0\" class=\"data row37 col0\" >Numeric Binning</td>\n",
       "      <td id=\"T_5dada_row37_col1\" class=\"data row37 col1\" >0</td>\n",
       "    </tr>\n",
       "    <tr>\n",
       "      <th id=\"T_5dada_level0_row38\" class=\"row_heading level0 row38\" >38</th>\n",
       "      <td id=\"T_5dada_row38_col0\" class=\"data row38 col0\" >Remove Outliers</td>\n",
       "      <td id=\"T_5dada_row38_col1\" class=\"data row38 col1\" >0</td>\n",
       "    </tr>\n",
       "    <tr>\n",
       "      <th id=\"T_5dada_level0_row39\" class=\"row_heading level0 row39\" >39</th>\n",
       "      <td id=\"T_5dada_row39_col0\" class=\"data row39 col0\" >Outliers Threshold</td>\n",
       "      <td id=\"T_5dada_row39_col1\" class=\"data row39 col1\" >None</td>\n",
       "    </tr>\n",
       "    <tr>\n",
       "      <th id=\"T_5dada_level0_row40\" class=\"row_heading level0 row40\" >40</th>\n",
       "      <td id=\"T_5dada_row40_col0\" class=\"data row40 col0\" >Remove Multicollinearity</td>\n",
       "      <td id=\"T_5dada_row40_col1\" class=\"data row40 col1\" >0</td>\n",
       "    </tr>\n",
       "    <tr>\n",
       "      <th id=\"T_5dada_level0_row41\" class=\"row_heading level0 row41\" >41</th>\n",
       "      <td id=\"T_5dada_row41_col0\" class=\"data row41 col0\" >Multicollinearity Threshold</td>\n",
       "      <td id=\"T_5dada_row41_col1\" class=\"data row41 col1\" >None</td>\n",
       "    </tr>\n",
       "    <tr>\n",
       "      <th id=\"T_5dada_level0_row42\" class=\"row_heading level0 row42\" >42</th>\n",
       "      <td id=\"T_5dada_row42_col0\" class=\"data row42 col0\" >Remove Perfect Collinearity</td>\n",
       "      <td id=\"T_5dada_row42_col1\" class=\"data row42 col1\" >1</td>\n",
       "    </tr>\n",
       "    <tr>\n",
       "      <th id=\"T_5dada_level0_row43\" class=\"row_heading level0 row43\" >43</th>\n",
       "      <td id=\"T_5dada_row43_col0\" class=\"data row43 col0\" >Clustering</td>\n",
       "      <td id=\"T_5dada_row43_col1\" class=\"data row43 col1\" >0</td>\n",
       "    </tr>\n",
       "    <tr>\n",
       "      <th id=\"T_5dada_level0_row44\" class=\"row_heading level0 row44\" >44</th>\n",
       "      <td id=\"T_5dada_row44_col0\" class=\"data row44 col0\" >Clustering Iteration</td>\n",
       "      <td id=\"T_5dada_row44_col1\" class=\"data row44 col1\" >None</td>\n",
       "    </tr>\n",
       "    <tr>\n",
       "      <th id=\"T_5dada_level0_row45\" class=\"row_heading level0 row45\" >45</th>\n",
       "      <td id=\"T_5dada_row45_col0\" class=\"data row45 col0\" >Polynomial Features</td>\n",
       "      <td id=\"T_5dada_row45_col1\" class=\"data row45 col1\" >0</td>\n",
       "    </tr>\n",
       "    <tr>\n",
       "      <th id=\"T_5dada_level0_row46\" class=\"row_heading level0 row46\" >46</th>\n",
       "      <td id=\"T_5dada_row46_col0\" class=\"data row46 col0\" >Polynomial Degree</td>\n",
       "      <td id=\"T_5dada_row46_col1\" class=\"data row46 col1\" >None</td>\n",
       "    </tr>\n",
       "    <tr>\n",
       "      <th id=\"T_5dada_level0_row47\" class=\"row_heading level0 row47\" >47</th>\n",
       "      <td id=\"T_5dada_row47_col0\" class=\"data row47 col0\" >Trignometry Features</td>\n",
       "      <td id=\"T_5dada_row47_col1\" class=\"data row47 col1\" >0</td>\n",
       "    </tr>\n",
       "    <tr>\n",
       "      <th id=\"T_5dada_level0_row48\" class=\"row_heading level0 row48\" >48</th>\n",
       "      <td id=\"T_5dada_row48_col0\" class=\"data row48 col0\" >Polynomial Threshold</td>\n",
       "      <td id=\"T_5dada_row48_col1\" class=\"data row48 col1\" >None</td>\n",
       "    </tr>\n",
       "    <tr>\n",
       "      <th id=\"T_5dada_level0_row49\" class=\"row_heading level0 row49\" >49</th>\n",
       "      <td id=\"T_5dada_row49_col0\" class=\"data row49 col0\" >Group Features</td>\n",
       "      <td id=\"T_5dada_row49_col1\" class=\"data row49 col1\" >0</td>\n",
       "    </tr>\n",
       "    <tr>\n",
       "      <th id=\"T_5dada_level0_row50\" class=\"row_heading level0 row50\" >50</th>\n",
       "      <td id=\"T_5dada_row50_col0\" class=\"data row50 col0\" >Feature Selection</td>\n",
       "      <td id=\"T_5dada_row50_col1\" class=\"data row50 col1\" >0</td>\n",
       "    </tr>\n",
       "    <tr>\n",
       "      <th id=\"T_5dada_level0_row51\" class=\"row_heading level0 row51\" >51</th>\n",
       "      <td id=\"T_5dada_row51_col0\" class=\"data row51 col0\" >Feature Selection Method</td>\n",
       "      <td id=\"T_5dada_row51_col1\" class=\"data row51 col1\" >classic</td>\n",
       "    </tr>\n",
       "    <tr>\n",
       "      <th id=\"T_5dada_level0_row52\" class=\"row_heading level0 row52\" >52</th>\n",
       "      <td id=\"T_5dada_row52_col0\" class=\"data row52 col0\" >Features Selection Threshold</td>\n",
       "      <td id=\"T_5dada_row52_col1\" class=\"data row52 col1\" >None</td>\n",
       "    </tr>\n",
       "    <tr>\n",
       "      <th id=\"T_5dada_level0_row53\" class=\"row_heading level0 row53\" >53</th>\n",
       "      <td id=\"T_5dada_row53_col0\" class=\"data row53 col0\" >Feature Interaction</td>\n",
       "      <td id=\"T_5dada_row53_col1\" class=\"data row53 col1\" >0</td>\n",
       "    </tr>\n",
       "    <tr>\n",
       "      <th id=\"T_5dada_level0_row54\" class=\"row_heading level0 row54\" >54</th>\n",
       "      <td id=\"T_5dada_row54_col0\" class=\"data row54 col0\" >Feature Ratio</td>\n",
       "      <td id=\"T_5dada_row54_col1\" class=\"data row54 col1\" >0</td>\n",
       "    </tr>\n",
       "    <tr>\n",
       "      <th id=\"T_5dada_level0_row55\" class=\"row_heading level0 row55\" >55</th>\n",
       "      <td id=\"T_5dada_row55_col0\" class=\"data row55 col0\" >Interaction Threshold</td>\n",
       "      <td id=\"T_5dada_row55_col1\" class=\"data row55 col1\" >None</td>\n",
       "    </tr>\n",
       "    <tr>\n",
       "      <th id=\"T_5dada_level0_row56\" class=\"row_heading level0 row56\" >56</th>\n",
       "      <td id=\"T_5dada_row56_col0\" class=\"data row56 col0\" >Transform Target</td>\n",
       "      <td id=\"T_5dada_row56_col1\" class=\"data row56 col1\" >0</td>\n",
       "    </tr>\n",
       "    <tr>\n",
       "      <th id=\"T_5dada_level0_row57\" class=\"row_heading level0 row57\" >57</th>\n",
       "      <td id=\"T_5dada_row57_col0\" class=\"data row57 col0\" >Transform Target Method</td>\n",
       "      <td id=\"T_5dada_row57_col1\" class=\"data row57 col1\" >box-cox</td>\n",
       "    </tr>\n",
       "  </tbody>\n",
       "</table>\n"
      ],
      "text/plain": [
       "<pandas.io.formats.style.Styler at 0x292178c1970>"
      ]
     },
     "metadata": {},
     "output_type": "display_data"
    }
   ],
   "source": [
    "from pycaret.regression import setup as pc_setup\n",
    "\n",
    "reg = pc_setup(data = df_v0_tr,\n",
    "            target = target_,\n",
    "            session_id=999,\n",
    "            data_split_shuffle = True, \n",
    "            create_clusters = False,\n",
    "            fold_strategy = 'groupkfold',\n",
    "            fold_groups = 'dt_wd',\n",
    "            use_gpu = False,\n",
    "            silent = True,\n",
    "            fold=4,\n",
    "            ignore_features = ['all','dt_d','xydirday'],\n",
    "            n_jobs = -1)"
   ]
  },
  {
   "cell_type": "code",
   "execution_count": 8,
   "id": "92f65706-8d20-4698-a047-54d4972bf204",
   "metadata": {
    "tags": []
   },
   "outputs": [
    {
     "data": {
      "text/html": [
       "<style type=\"text/css\">\n",
       "#T_3973f th {\n",
       "  text-align: left;\n",
       "}\n",
       "#T_3973f_row0_col0, #T_3973f_row0_col6, #T_3973f_row1_col0, #T_3973f_row1_col1, #T_3973f_row1_col2, #T_3973f_row1_col3, #T_3973f_row1_col4, #T_3973f_row1_col5, #T_3973f_row1_col6, #T_3973f_row2_col0, #T_3973f_row2_col1, #T_3973f_row2_col2, #T_3973f_row2_col3, #T_3973f_row2_col4, #T_3973f_row2_col5, #T_3973f_row2_col6, #T_3973f_row3_col0, #T_3973f_row3_col1, #T_3973f_row3_col2, #T_3973f_row3_col3, #T_3973f_row3_col4, #T_3973f_row3_col5, #T_3973f_row4_col0, #T_3973f_row4_col1, #T_3973f_row4_col2, #T_3973f_row4_col3, #T_3973f_row4_col4, #T_3973f_row4_col5, #T_3973f_row4_col6, #T_3973f_row5_col0, #T_3973f_row5_col1, #T_3973f_row5_col2, #T_3973f_row5_col3, #T_3973f_row5_col4, #T_3973f_row5_col5, #T_3973f_row5_col6, #T_3973f_row6_col0, #T_3973f_row6_col1, #T_3973f_row6_col2, #T_3973f_row6_col3, #T_3973f_row6_col4, #T_3973f_row6_col5, #T_3973f_row6_col6, #T_3973f_row7_col0, #T_3973f_row7_col1, #T_3973f_row7_col2, #T_3973f_row7_col3, #T_3973f_row7_col4, #T_3973f_row7_col5, #T_3973f_row7_col6, #T_3973f_row8_col0, #T_3973f_row8_col1, #T_3973f_row8_col2, #T_3973f_row8_col3, #T_3973f_row8_col4, #T_3973f_row8_col5, #T_3973f_row8_col6, #T_3973f_row9_col0, #T_3973f_row9_col1, #T_3973f_row9_col2, #T_3973f_row9_col3, #T_3973f_row9_col4, #T_3973f_row9_col5, #T_3973f_row9_col6, #T_3973f_row10_col0, #T_3973f_row10_col1, #T_3973f_row10_col2, #T_3973f_row10_col3, #T_3973f_row10_col4, #T_3973f_row10_col5, #T_3973f_row10_col6, #T_3973f_row11_col0, #T_3973f_row11_col1, #T_3973f_row11_col2, #T_3973f_row11_col3, #T_3973f_row11_col4, #T_3973f_row11_col5, #T_3973f_row11_col6, #T_3973f_row12_col0, #T_3973f_row12_col1, #T_3973f_row12_col2, #T_3973f_row12_col3, #T_3973f_row12_col4, #T_3973f_row12_col5, #T_3973f_row12_col6, #T_3973f_row13_col0, #T_3973f_row13_col1, #T_3973f_row13_col2, #T_3973f_row13_col3, #T_3973f_row13_col4, #T_3973f_row13_col5, #T_3973f_row13_col6, #T_3973f_row14_col0, #T_3973f_row14_col1, #T_3973f_row14_col2, #T_3973f_row14_col3, #T_3973f_row14_col4, #T_3973f_row14_col5, #T_3973f_row14_col6, #T_3973f_row15_col0, #T_3973f_row15_col1, #T_3973f_row15_col2, #T_3973f_row15_col3, #T_3973f_row15_col4, #T_3973f_row15_col5, #T_3973f_row15_col6, #T_3973f_row16_col0, #T_3973f_row16_col1, #T_3973f_row16_col2, #T_3973f_row16_col3, #T_3973f_row16_col4, #T_3973f_row16_col5, #T_3973f_row16_col6 {\n",
       "  text-align: left;\n",
       "}\n",
       "#T_3973f_row0_col1, #T_3973f_row0_col2, #T_3973f_row0_col3, #T_3973f_row0_col4, #T_3973f_row0_col5, #T_3973f_row3_col6 {\n",
       "  text-align: left;\n",
       "  background-color: yellow;\n",
       "}\n",
       "#T_3973f_row0_col7, #T_3973f_row1_col7, #T_3973f_row2_col7, #T_3973f_row3_col7, #T_3973f_row4_col7, #T_3973f_row5_col7, #T_3973f_row6_col7, #T_3973f_row7_col7, #T_3973f_row8_col7, #T_3973f_row9_col7, #T_3973f_row10_col7, #T_3973f_row11_col7, #T_3973f_row12_col7, #T_3973f_row13_col7, #T_3973f_row14_col7, #T_3973f_row15_col7 {\n",
       "  text-align: left;\n",
       "  background-color: lightgrey;\n",
       "}\n",
       "#T_3973f_row16_col7 {\n",
       "  text-align: left;\n",
       "  background-color: yellow;\n",
       "  background-color: lightgrey;\n",
       "}\n",
       "</style>\n",
       "<table id=\"T_3973f\">\n",
       "  <thead>\n",
       "    <tr>\n",
       "      <th class=\"blank level0\" >&nbsp;</th>\n",
       "      <th id=\"T_3973f_level0_col0\" class=\"col_heading level0 col0\" >Model</th>\n",
       "      <th id=\"T_3973f_level0_col1\" class=\"col_heading level0 col1\" >MAE</th>\n",
       "      <th id=\"T_3973f_level0_col2\" class=\"col_heading level0 col2\" >MSE</th>\n",
       "      <th id=\"T_3973f_level0_col3\" class=\"col_heading level0 col3\" >RMSE</th>\n",
       "      <th id=\"T_3973f_level0_col4\" class=\"col_heading level0 col4\" >R2</th>\n",
       "      <th id=\"T_3973f_level0_col5\" class=\"col_heading level0 col5\" >RMSLE</th>\n",
       "      <th id=\"T_3973f_level0_col6\" class=\"col_heading level0 col6\" >MAPE</th>\n",
       "      <th id=\"T_3973f_level0_col7\" class=\"col_heading level0 col7\" >TT (Sec)</th>\n",
       "    </tr>\n",
       "  </thead>\n",
       "  <tbody>\n",
       "    <tr>\n",
       "      <th id=\"T_3973f_level0_row0\" class=\"row_heading level0 row0\" >catboost</th>\n",
       "      <td id=\"T_3973f_row0_col0\" class=\"data row0 col0\" >CatBoost Regressor</td>\n",
       "      <td id=\"T_3973f_row0_col1\" class=\"data row0 col1\" >5.4533</td>\n",
       "      <td id=\"T_3973f_row0_col2\" class=\"data row0 col2\" >58.9958</td>\n",
       "      <td id=\"T_3973f_row0_col3\" class=\"data row0 col3\" >7.6808</td>\n",
       "      <td id=\"T_3973f_row0_col4\" class=\"data row0 col4\" >0.7899</td>\n",
       "      <td id=\"T_3973f_row0_col5\" class=\"data row0 col5\" >0.1971</td>\n",
       "      <td id=\"T_3973f_row0_col6\" class=\"data row0 col6\" >0.1287</td>\n",
       "      <td id=\"T_3973f_row0_col7\" class=\"data row0 col7\" >3.7825</td>\n",
       "    </tr>\n",
       "    <tr>\n",
       "      <th id=\"T_3973f_level0_row1\" class=\"row_heading level0 row1\" >lightgbm</th>\n",
       "      <td id=\"T_3973f_row1_col0\" class=\"data row1 col0\" >Light Gradient Boosting Machine</td>\n",
       "      <td id=\"T_3973f_row1_col1\" class=\"data row1 col1\" >5.4700</td>\n",
       "      <td id=\"T_3973f_row1_col2\" class=\"data row1 col2\" >59.6567</td>\n",
       "      <td id=\"T_3973f_row1_col3\" class=\"data row1 col3\" >7.7237</td>\n",
       "      <td id=\"T_3973f_row1_col4\" class=\"data row1 col4\" >0.7875</td>\n",
       "      <td id=\"T_3973f_row1_col5\" class=\"data row1 col5\" >0.1982</td>\n",
       "      <td id=\"T_3973f_row1_col6\" class=\"data row1 col6\" >0.1292</td>\n",
       "      <td id=\"T_3973f_row1_col7\" class=\"data row1 col7\" >0.3250</td>\n",
       "    </tr>\n",
       "    <tr>\n",
       "      <th id=\"T_3973f_level0_row2\" class=\"row_heading level0 row2\" >xgboost</th>\n",
       "      <td id=\"T_3973f_row2_col0\" class=\"data row2 col0\" >Extreme Gradient Boosting</td>\n",
       "      <td id=\"T_3973f_row2_col1\" class=\"data row2 col1\" >5.4825</td>\n",
       "      <td id=\"T_3973f_row2_col2\" class=\"data row2 col2\" >59.6317</td>\n",
       "      <td id=\"T_3973f_row2_col3\" class=\"data row2 col3\" >7.7221</td>\n",
       "      <td id=\"T_3973f_row2_col4\" class=\"data row2 col4\" >0.7876</td>\n",
       "      <td id=\"T_3973f_row2_col5\" class=\"data row2 col5\" >0.1980</td>\n",
       "      <td id=\"T_3973f_row2_col6\" class=\"data row2 col6\" >0.1294</td>\n",
       "      <td id=\"T_3973f_row2_col7\" class=\"data row2 col7\" >4.0475</td>\n",
       "    </tr>\n",
       "    <tr>\n",
       "      <th id=\"T_3973f_level0_row3\" class=\"row_heading level0 row3\" >huber</th>\n",
       "      <td id=\"T_3973f_row3_col0\" class=\"data row3 col0\" >Huber Regressor</td>\n",
       "      <td id=\"T_3973f_row3_col1\" class=\"data row3 col1\" >5.4833</td>\n",
       "      <td id=\"T_3973f_row3_col2\" class=\"data row3 col2\" >61.3997</td>\n",
       "      <td id=\"T_3973f_row3_col3\" class=\"data row3 col3\" >7.8358</td>\n",
       "      <td id=\"T_3973f_row3_col4\" class=\"data row3 col4\" >0.7813</td>\n",
       "      <td id=\"T_3973f_row3_col5\" class=\"data row3 col5\" >0.1997</td>\n",
       "      <td id=\"T_3973f_row3_col6\" class=\"data row3 col6\" >0.1273</td>\n",
       "      <td id=\"T_3973f_row3_col7\" class=\"data row3 col7\" >6.6100</td>\n",
       "    </tr>\n",
       "    <tr>\n",
       "      <th id=\"T_3973f_level0_row4\" class=\"row_heading level0 row4\" >gbr</th>\n",
       "      <td id=\"T_3973f_row4_col0\" class=\"data row4 col0\" >Gradient Boosting Regressor</td>\n",
       "      <td id=\"T_3973f_row4_col1\" class=\"data row4 col1\" >5.5114</td>\n",
       "      <td id=\"T_3973f_row4_col2\" class=\"data row4 col2\" >60.7048</td>\n",
       "      <td id=\"T_3973f_row4_col3\" class=\"data row4 col3\" >7.7913</td>\n",
       "      <td id=\"T_3973f_row4_col4\" class=\"data row4 col4\" >0.7838</td>\n",
       "      <td id=\"T_3973f_row4_col5\" class=\"data row4 col5\" >0.1996</td>\n",
       "      <td id=\"T_3973f_row4_col6\" class=\"data row4 col6\" >0.1301</td>\n",
       "      <td id=\"T_3973f_row4_col7\" class=\"data row4 col7\" >4.9125</td>\n",
       "    </tr>\n",
       "    <tr>\n",
       "      <th id=\"T_3973f_level0_row5\" class=\"row_heading level0 row5\" >lasso</th>\n",
       "      <td id=\"T_3973f_row5_col0\" class=\"data row5 col0\" >Lasso Regression</td>\n",
       "      <td id=\"T_3973f_row5_col1\" class=\"data row5 col1\" >5.5210</td>\n",
       "      <td id=\"T_3973f_row5_col2\" class=\"data row5 col2\" >61.8099</td>\n",
       "      <td id=\"T_3973f_row5_col3\" class=\"data row5 col3\" >7.8619</td>\n",
       "      <td id=\"T_3973f_row5_col4\" class=\"data row5 col4\" >0.7798</td>\n",
       "      <td id=\"T_3973f_row5_col5\" class=\"data row5 col5\" >0.2010</td>\n",
       "      <td id=\"T_3973f_row5_col6\" class=\"data row5 col6\" >0.1293</td>\n",
       "      <td id=\"T_3973f_row5_col7\" class=\"data row5 col7\" >0.6850</td>\n",
       "    </tr>\n",
       "    <tr>\n",
       "      <th id=\"T_3973f_level0_row6\" class=\"row_heading level0 row6\" >en</th>\n",
       "      <td id=\"T_3973f_row6_col0\" class=\"data row6 col0\" >Elastic Net</td>\n",
       "      <td id=\"T_3973f_row6_col1\" class=\"data row6 col1\" >5.5210</td>\n",
       "      <td id=\"T_3973f_row6_col2\" class=\"data row6 col2\" >61.8098</td>\n",
       "      <td id=\"T_3973f_row6_col3\" class=\"data row6 col3\" >7.8619</td>\n",
       "      <td id=\"T_3973f_row6_col4\" class=\"data row6 col4\" >0.7798</td>\n",
       "      <td id=\"T_3973f_row6_col5\" class=\"data row6 col5\" >0.2010</td>\n",
       "      <td id=\"T_3973f_row6_col6\" class=\"data row6 col6\" >0.1293</td>\n",
       "      <td id=\"T_3973f_row6_col7\" class=\"data row6 col7\" >0.1400</td>\n",
       "    </tr>\n",
       "    <tr>\n",
       "      <th id=\"T_3973f_level0_row7\" class=\"row_heading level0 row7\" >omp</th>\n",
       "      <td id=\"T_3973f_row7_col0\" class=\"data row7 col0\" >Orthogonal Matching Pursuit</td>\n",
       "      <td id=\"T_3973f_row7_col1\" class=\"data row7 col1\" >5.5239</td>\n",
       "      <td id=\"T_3973f_row7_col2\" class=\"data row7 col2\" >61.1793</td>\n",
       "      <td id=\"T_3973f_row7_col3\" class=\"data row7 col3\" >7.8217</td>\n",
       "      <td id=\"T_3973f_row7_col4\" class=\"data row7 col4\" >0.7821</td>\n",
       "      <td id=\"T_3973f_row7_col5\" class=\"data row7 col5\" >0.2002</td>\n",
       "      <td id=\"T_3973f_row7_col6\" class=\"data row7 col6\" >0.1300</td>\n",
       "      <td id=\"T_3973f_row7_col7\" class=\"data row7 col7\" >0.1075</td>\n",
       "    </tr>\n",
       "    <tr>\n",
       "      <th id=\"T_3973f_level0_row8\" class=\"row_heading level0 row8\" >br</th>\n",
       "      <td id=\"T_3973f_row8_col0\" class=\"data row8 col0\" >Bayesian Ridge</td>\n",
       "      <td id=\"T_3973f_row8_col1\" class=\"data row8 col1\" >5.5272</td>\n",
       "      <td id=\"T_3973f_row8_col2\" class=\"data row8 col2\" >61.0999</td>\n",
       "      <td id=\"T_3973f_row8_col3\" class=\"data row8 col3\" >7.8166</td>\n",
       "      <td id=\"T_3973f_row8_col4\" class=\"data row8 col4\" >0.7824</td>\n",
       "      <td id=\"T_3973f_row8_col5\" class=\"data row8 col5\" >0.2001</td>\n",
       "      <td id=\"T_3973f_row8_col6\" class=\"data row8 col6\" >0.1302</td>\n",
       "      <td id=\"T_3973f_row8_col7\" class=\"data row8 col7\" >1.2250</td>\n",
       "    </tr>\n",
       "    <tr>\n",
       "      <th id=\"T_3973f_level0_row9\" class=\"row_heading level0 row9\" >ridge</th>\n",
       "      <td id=\"T_3973f_row9_col0\" class=\"data row9 col0\" >Ridge Regression</td>\n",
       "      <td id=\"T_3973f_row9_col1\" class=\"data row9 col1\" >5.5338</td>\n",
       "      <td id=\"T_3973f_row9_col2\" class=\"data row9 col2\" >61.1029</td>\n",
       "      <td id=\"T_3973f_row9_col3\" class=\"data row9 col3\" >7.8168</td>\n",
       "      <td id=\"T_3973f_row9_col4\" class=\"data row9 col4\" >0.7824</td>\n",
       "      <td id=\"T_3973f_row9_col5\" class=\"data row9 col5\" >0.2001</td>\n",
       "      <td id=\"T_3973f_row9_col6\" class=\"data row9 col6\" >0.1304</td>\n",
       "      <td id=\"T_3973f_row9_col7\" class=\"data row9 col7\" >0.6675</td>\n",
       "    </tr>\n",
       "    <tr>\n",
       "      <th id=\"T_3973f_level0_row10\" class=\"row_heading level0 row10\" >lr</th>\n",
       "      <td id=\"T_3973f_row10_col0\" class=\"data row10 col0\" >Linear Regression</td>\n",
       "      <td id=\"T_3973f_row10_col1\" class=\"data row10 col1\" >5.5346</td>\n",
       "      <td id=\"T_3973f_row10_col2\" class=\"data row10 col2\" >61.1043</td>\n",
       "      <td id=\"T_3973f_row10_col3\" class=\"data row10 col3\" >7.8169</td>\n",
       "      <td id=\"T_3973f_row10_col4\" class=\"data row10 col4\" >0.7824</td>\n",
       "      <td id=\"T_3973f_row10_col5\" class=\"data row10 col5\" >0.2001</td>\n",
       "      <td id=\"T_3973f_row10_col6\" class=\"data row10 col6\" >0.1305</td>\n",
       "      <td id=\"T_3973f_row10_col7\" class=\"data row10 col7\" >1.0725</td>\n",
       "    </tr>\n",
       "    <tr>\n",
       "      <th id=\"T_3973f_level0_row11\" class=\"row_heading level0 row11\" >knn</th>\n",
       "      <td id=\"T_3973f_row11_col0\" class=\"data row11 col0\" >K Neighbors Regressor</td>\n",
       "      <td id=\"T_3973f_row11_col1\" class=\"data row11 col1\" >5.9109</td>\n",
       "      <td id=\"T_3973f_row11_col2\" class=\"data row11 col2\" >68.6297</td>\n",
       "      <td id=\"T_3973f_row11_col3\" class=\"data row11 col3\" >8.2843</td>\n",
       "      <td id=\"T_3973f_row11_col4\" class=\"data row11 col4\" >0.7556</td>\n",
       "      <td id=\"T_3973f_row11_col5\" class=\"data row11 col5\" >0.2085</td>\n",
       "      <td id=\"T_3973f_row11_col6\" class=\"data row11 col6\" >0.1382</td>\n",
       "      <td id=\"T_3973f_row11_col7\" class=\"data row11 col7\" >1.7925</td>\n",
       "    </tr>\n",
       "    <tr>\n",
       "      <th id=\"T_3973f_level0_row12\" class=\"row_heading level0 row12\" >par</th>\n",
       "      <td id=\"T_3973f_row12_col0\" class=\"data row12 col0\" >Passive Aggressive Regressor</td>\n",
       "      <td id=\"T_3973f_row12_col1\" class=\"data row12 col1\" >6.2660</td>\n",
       "      <td id=\"T_3973f_row12_col2\" class=\"data row12 col2\" >71.8850</td>\n",
       "      <td id=\"T_3973f_row12_col3\" class=\"data row12 col3\" >8.4549</td>\n",
       "      <td id=\"T_3973f_row12_col4\" class=\"data row12 col4\" >0.7437</td>\n",
       "      <td id=\"T_3973f_row12_col5\" class=\"data row12 col5\" >0.2108</td>\n",
       "      <td id=\"T_3973f_row12_col6\" class=\"data row12 col6\" >0.1483</td>\n",
       "      <td id=\"T_3973f_row12_col7\" class=\"data row12 col7\" >0.2450</td>\n",
       "    </tr>\n",
       "    <tr>\n",
       "      <th id=\"T_3973f_level0_row13\" class=\"row_heading level0 row13\" >ada</th>\n",
       "      <td id=\"T_3973f_row13_col0\" class=\"data row13 col0\" >AdaBoost Regressor</td>\n",
       "      <td id=\"T_3973f_row13_col1\" class=\"data row13 col1\" >6.5241</td>\n",
       "      <td id=\"T_3973f_row13_col2\" class=\"data row13 col2\" >79.0356</td>\n",
       "      <td id=\"T_3973f_row13_col3\" class=\"data row13 col3\" >8.8898</td>\n",
       "      <td id=\"T_3973f_row13_col4\" class=\"data row13 col4\" >0.7185</td>\n",
       "      <td id=\"T_3973f_row13_col5\" class=\"data row13 col5\" >0.2450</td>\n",
       "      <td id=\"T_3973f_row13_col6\" class=\"data row13 col6\" >0.1779</td>\n",
       "      <td id=\"T_3973f_row13_col7\" class=\"data row13 col7\" >2.7050</td>\n",
       "    </tr>\n",
       "    <tr>\n",
       "      <th id=\"T_3973f_level0_row14\" class=\"row_heading level0 row14\" >dt</th>\n",
       "      <td id=\"T_3973f_row14_col0\" class=\"data row14 col0\" >Decision Tree Regressor</td>\n",
       "      <td id=\"T_3973f_row14_col1\" class=\"data row14 col1\" >6.8649</td>\n",
       "      <td id=\"T_3973f_row14_col2\" class=\"data row14 col2\" >94.0712</td>\n",
       "      <td id=\"T_3973f_row14_col3\" class=\"data row14 col3\" >9.6990</td>\n",
       "      <td id=\"T_3973f_row14_col4\" class=\"data row14 col4\" >0.6649</td>\n",
       "      <td id=\"T_3973f_row14_col5\" class=\"data row14 col5\" >0.2455</td>\n",
       "      <td id=\"T_3973f_row14_col6\" class=\"data row14 col6\" >0.1585</td>\n",
       "      <td id=\"T_3973f_row14_col7\" class=\"data row14 col7\" >0.2775</td>\n",
       "    </tr>\n",
       "    <tr>\n",
       "      <th id=\"T_3973f_level0_row15\" class=\"row_heading level0 row15\" >llar</th>\n",
       "      <td id=\"T_3973f_row15_col0\" class=\"data row15 col0\" >Lasso Least Angle Regression</td>\n",
       "      <td id=\"T_3973f_row15_col1\" class=\"data row15 col1\" >13.9281</td>\n",
       "      <td id=\"T_3973f_row15_col2\" class=\"data row15 col2\" >280.7900</td>\n",
       "      <td id=\"T_3973f_row15_col3\" class=\"data row15 col3\" >16.7566</td>\n",
       "      <td id=\"T_3973f_row15_col4\" class=\"data row15 col4\" >-0.0000</td>\n",
       "      <td id=\"T_3973f_row15_col5\" class=\"data row15 col5\" >0.3832</td>\n",
       "      <td id=\"T_3973f_row15_col6\" class=\"data row15 col6\" >0.3540</td>\n",
       "      <td id=\"T_3973f_row15_col7\" class=\"data row15 col7\" >0.1325</td>\n",
       "    </tr>\n",
       "    <tr>\n",
       "      <th id=\"T_3973f_level0_row16\" class=\"row_heading level0 row16\" >dummy</th>\n",
       "      <td id=\"T_3973f_row16_col0\" class=\"data row16 col0\" >Dummy Regressor</td>\n",
       "      <td id=\"T_3973f_row16_col1\" class=\"data row16 col1\" >13.9281</td>\n",
       "      <td id=\"T_3973f_row16_col2\" class=\"data row16 col2\" >280.7900</td>\n",
       "      <td id=\"T_3973f_row16_col3\" class=\"data row16 col3\" >16.7566</td>\n",
       "      <td id=\"T_3973f_row16_col4\" class=\"data row16 col4\" >-0.0000</td>\n",
       "      <td id=\"T_3973f_row16_col5\" class=\"data row16 col5\" >0.3832</td>\n",
       "      <td id=\"T_3973f_row16_col6\" class=\"data row16 col6\" >0.3540</td>\n",
       "      <td id=\"T_3973f_row16_col7\" class=\"data row16 col7\" >0.0775</td>\n",
       "    </tr>\n",
       "  </tbody>\n",
       "</table>\n"
      ],
      "text/plain": [
       "<pandas.io.formats.style.Styler at 0x29215bbe3d0>"
      ]
     },
     "metadata": {},
     "output_type": "display_data"
    }
   ],
   "source": [
    "from pycaret.regression import compare_models\n",
    "\n",
    "top5 = compare_models(sort='MAE', \n",
    "                      n_select=4, \n",
    "                      exclude=[\n",
    "                          'lar', \n",
    "                          'rf', \n",
    "                          'et', \n",
    "                          # 'gbr', \n",
    "                          # 'xgboost'\n",
    "                      ])"
   ]
  },
  {
   "cell_type": "code",
   "execution_count": 75,
   "id": "c526ea1d-0ad1-44eb-8830-374722258cbc",
   "metadata": {},
   "outputs": [],
   "source": [
    "top5[0] = model"
   ]
  },
  {
   "cell_type": "code",
   "execution_count": 76,
   "id": "e5ff1465-3080-434c-9618-b8ab13d9eb8b",
   "metadata": {
    "tags": []
   },
   "outputs": [
    {
     "data": {
      "text/html": [
       "<style type=\"text/css\">\n",
       "#T_2ea0c_row4_col0, #T_2ea0c_row4_col1, #T_2ea0c_row4_col2, #T_2ea0c_row4_col3, #T_2ea0c_row4_col4, #T_2ea0c_row4_col5 {\n",
       "  background: yellow;\n",
       "}\n",
       "</style>\n",
       "<table id=\"T_2ea0c\">\n",
       "  <thead>\n",
       "    <tr>\n",
       "      <th class=\"blank\" >&nbsp;</th>\n",
       "      <th class=\"blank level0\" >&nbsp;</th>\n",
       "      <th id=\"T_2ea0c_level0_col0\" class=\"col_heading level0 col0\" >MAE</th>\n",
       "      <th id=\"T_2ea0c_level0_col1\" class=\"col_heading level0 col1\" >MSE</th>\n",
       "      <th id=\"T_2ea0c_level0_col2\" class=\"col_heading level0 col2\" >RMSE</th>\n",
       "      <th id=\"T_2ea0c_level0_col3\" class=\"col_heading level0 col3\" >R2</th>\n",
       "      <th id=\"T_2ea0c_level0_col4\" class=\"col_heading level0 col4\" >RMSLE</th>\n",
       "      <th id=\"T_2ea0c_level0_col5\" class=\"col_heading level0 col5\" >MAPE</th>\n",
       "    </tr>\n",
       "    <tr>\n",
       "      <th class=\"index_name level0\" >Split</th>\n",
       "      <th class=\"index_name level1\" >Fold</th>\n",
       "      <th class=\"blank col0\" >&nbsp;</th>\n",
       "      <th class=\"blank col1\" >&nbsp;</th>\n",
       "      <th class=\"blank col2\" >&nbsp;</th>\n",
       "      <th class=\"blank col3\" >&nbsp;</th>\n",
       "      <th class=\"blank col4\" >&nbsp;</th>\n",
       "      <th class=\"blank col5\" >&nbsp;</th>\n",
       "    </tr>\n",
       "  </thead>\n",
       "  <tbody>\n",
       "    <tr>\n",
       "      <th id=\"T_2ea0c_level0_row0\" class=\"row_heading level0 row0\" rowspan=\"6\">CV-Val</th>\n",
       "      <th id=\"T_2ea0c_level1_row0\" class=\"row_heading level1 row0\" >0</th>\n",
       "      <td id=\"T_2ea0c_row0_col0\" class=\"data row0 col0\" >5.4019</td>\n",
       "      <td id=\"T_2ea0c_row0_col1\" class=\"data row0 col1\" >59.2199</td>\n",
       "      <td id=\"T_2ea0c_row0_col2\" class=\"data row0 col2\" >7.6954</td>\n",
       "      <td id=\"T_2ea0c_row0_col3\" class=\"data row0 col3\" >0.7865</td>\n",
       "      <td id=\"T_2ea0c_row0_col4\" class=\"data row0 col4\" >0.1945</td>\n",
       "      <td id=\"T_2ea0c_row0_col5\" class=\"data row0 col5\" >0.1250</td>\n",
       "    </tr>\n",
       "    <tr>\n",
       "      <th id=\"T_2ea0c_level1_row1\" class=\"row_heading level1 row1\" >1</th>\n",
       "      <td id=\"T_2ea0c_row1_col0\" class=\"data row1 col0\" >5.4254</td>\n",
       "      <td id=\"T_2ea0c_row1_col1\" class=\"data row1 col1\" >59.1775</td>\n",
       "      <td id=\"T_2ea0c_row1_col2\" class=\"data row1 col2\" >7.6927</td>\n",
       "      <td id=\"T_2ea0c_row1_col3\" class=\"data row1 col3\" >0.7896</td>\n",
       "      <td id=\"T_2ea0c_row1_col4\" class=\"data row1 col4\" >0.1952</td>\n",
       "      <td id=\"T_2ea0c_row1_col5\" class=\"data row1 col5\" >0.1279</td>\n",
       "    </tr>\n",
       "    <tr>\n",
       "      <th id=\"T_2ea0c_level1_row2\" class=\"row_heading level1 row2\" >2</th>\n",
       "      <td id=\"T_2ea0c_row2_col0\" class=\"data row2 col0\" >5.3959</td>\n",
       "      <td id=\"T_2ea0c_row2_col1\" class=\"data row2 col1\" >58.9760</td>\n",
       "      <td id=\"T_2ea0c_row2_col2\" class=\"data row2 col2\" >7.6796</td>\n",
       "      <td id=\"T_2ea0c_row2_col3\" class=\"data row2 col3\" >0.7893</td>\n",
       "      <td id=\"T_2ea0c_row2_col4\" class=\"data row2 col4\" >0.1925</td>\n",
       "      <td id=\"T_2ea0c_row2_col5\" class=\"data row2 col5\" >0.1239</td>\n",
       "    </tr>\n",
       "    <tr>\n",
       "      <th id=\"T_2ea0c_level1_row3\" class=\"row_heading level1 row3\" >3</th>\n",
       "      <td id=\"T_2ea0c_row3_col0\" class=\"data row3 col0\" >5.4328</td>\n",
       "      <td id=\"T_2ea0c_row3_col1\" class=\"data row3 col1\" >59.8942</td>\n",
       "      <td id=\"T_2ea0c_row3_col2\" class=\"data row3 col2\" >7.7391</td>\n",
       "      <td id=\"T_2ea0c_row3_col3\" class=\"data row3 col3\" >0.7896</td>\n",
       "      <td id=\"T_2ea0c_row3_col4\" class=\"data row3 col4\" >0.2060</td>\n",
       "      <td id=\"T_2ea0c_row3_col5\" class=\"data row3 col5\" >0.1294</td>\n",
       "    </tr>\n",
       "    <tr>\n",
       "      <th id=\"T_2ea0c_level1_row4\" class=\"row_heading level1 row4\" >Mean</th>\n",
       "      <td id=\"T_2ea0c_row4_col0\" class=\"data row4 col0\" >5.4140</td>\n",
       "      <td id=\"T_2ea0c_row4_col1\" class=\"data row4 col1\" >59.3169</td>\n",
       "      <td id=\"T_2ea0c_row4_col2\" class=\"data row4 col2\" >7.7017</td>\n",
       "      <td id=\"T_2ea0c_row4_col3\" class=\"data row4 col3\" >0.7887</td>\n",
       "      <td id=\"T_2ea0c_row4_col4\" class=\"data row4 col4\" >0.1971</td>\n",
       "      <td id=\"T_2ea0c_row4_col5\" class=\"data row4 col5\" >0.1266</td>\n",
       "    </tr>\n",
       "    <tr>\n",
       "      <th id=\"T_2ea0c_level1_row5\" class=\"row_heading level1 row5\" >Std</th>\n",
       "      <td id=\"T_2ea0c_row5_col0\" class=\"data row5 col0\" >0.0155</td>\n",
       "      <td id=\"T_2ea0c_row5_col1\" class=\"data row5 col1\" >0.3458</td>\n",
       "      <td id=\"T_2ea0c_row5_col2\" class=\"data row5 col2\" >0.0224</td>\n",
       "      <td id=\"T_2ea0c_row5_col3\" class=\"data row5 col3\" >0.0013</td>\n",
       "      <td id=\"T_2ea0c_row5_col4\" class=\"data row5 col4\" >0.0053</td>\n",
       "      <td id=\"T_2ea0c_row5_col5\" class=\"data row5 col5\" >0.0022</td>\n",
       "    </tr>\n",
       "    <tr>\n",
       "      <th id=\"T_2ea0c_level0_row6\" class=\"row_heading level0 row6\" >Train</th>\n",
       "      <th id=\"T_2ea0c_level1_row6\" class=\"row_heading level1 row6\" >nan</th>\n",
       "      <td id=\"T_2ea0c_row6_col0\" class=\"data row6 col0\" >5.3002</td>\n",
       "      <td id=\"T_2ea0c_row6_col1\" class=\"data row6 col1\" >57.0487</td>\n",
       "      <td id=\"T_2ea0c_row6_col2\" class=\"data row6 col2\" >7.5531</td>\n",
       "      <td id=\"T_2ea0c_row6_col3\" class=\"data row6 col3\" >0.7967</td>\n",
       "      <td id=\"T_2ea0c_row6_col4\" class=\"data row6 col4\" >0.1936</td>\n",
       "      <td id=\"T_2ea0c_row6_col5\" class=\"data row6 col5\" >0.1237</td>\n",
       "    </tr>\n",
       "  </tbody>\n",
       "</table>\n"
      ],
      "text/plain": [
       "<pandas.io.formats.style.Styler at 0x2929e171280>"
      ]
     },
     "metadata": {},
     "output_type": "display_data"
    }
   ],
   "source": [
    "from pycaret.regression import blend_models\n",
    "\n",
    "blender = blend_models(top5)"
   ]
  },
  {
   "cell_type": "code",
   "execution_count": 77,
   "id": "3ff7f991-9daf-4e07-a3f6-4afb37c42e03",
   "metadata": {},
   "outputs": [],
   "source": [
    "from pycaret.regression import finalize_model\n",
    "\n",
    "final = finalize_model(blender)"
   ]
  },
  {
   "cell_type": "code",
   "execution_count": 78,
   "id": "e56ec356-f5eb-4af9-a48c-3c5f062dd2c6",
   "metadata": {},
   "outputs": [],
   "source": [
    "df_sub = pd.read_csv(DIR_DATASET + NAME_PROJECT + '/sample_submission.csv', index_col='row_id')"
   ]
  },
  {
   "cell_type": "code",
   "execution_count": 79,
   "id": "65c733b6-6054-45a6-b2bf-23b0b6501867",
   "metadata": {},
   "outputs": [
    {
     "data": {
      "text/html": [
       "<style type=\"text/css\">\n",
       "</style>\n",
       "<table id=\"T_a5865\">\n",
       "  <thead>\n",
       "    <tr>\n",
       "      <th class=\"blank level0\" >&nbsp;</th>\n",
       "      <th id=\"T_a5865_level0_col0\" class=\"col_heading level0 col0\" >Model</th>\n",
       "      <th id=\"T_a5865_level0_col1\" class=\"col_heading level0 col1\" >MAE</th>\n",
       "      <th id=\"T_a5865_level0_col2\" class=\"col_heading level0 col2\" >MSE</th>\n",
       "      <th id=\"T_a5865_level0_col3\" class=\"col_heading level0 col3\" >RMSE</th>\n",
       "      <th id=\"T_a5865_level0_col4\" class=\"col_heading level0 col4\" >R2</th>\n",
       "      <th id=\"T_a5865_level0_col5\" class=\"col_heading level0 col5\" >RMSLE</th>\n",
       "      <th id=\"T_a5865_level0_col6\" class=\"col_heading level0 col6\" >MAPE</th>\n",
       "    </tr>\n",
       "  </thead>\n",
       "  <tbody>\n",
       "    <tr>\n",
       "      <th id=\"T_a5865_level0_row0\" class=\"row_heading level0 row0\" >0</th>\n",
       "      <td id=\"T_a5865_row0_col0\" class=\"data row0 col0\" >Voting Regressor</td>\n",
       "      <td id=\"T_a5865_row0_col1\" class=\"data row0 col1\" >0</td>\n",
       "      <td id=\"T_a5865_row0_col2\" class=\"data row0 col2\" >0</td>\n",
       "      <td id=\"T_a5865_row0_col3\" class=\"data row0 col3\" >0</td>\n",
       "      <td id=\"T_a5865_row0_col4\" class=\"data row0 col4\" >0</td>\n",
       "      <td id=\"T_a5865_row0_col5\" class=\"data row0 col5\" >0</td>\n",
       "      <td id=\"T_a5865_row0_col6\" class=\"data row0 col6\" >0</td>\n",
       "    </tr>\n",
       "  </tbody>\n",
       "</table>\n"
      ],
      "text/plain": [
       "<pandas.io.formats.style.Styler at 0x2929ce01550>"
      ]
     },
     "metadata": {},
     "output_type": "display_data"
    }
   ],
   "source": [
    "from pycaret.regression import predict_model\n",
    "\n",
    "df_sub[target_] = (predict_model(final, data=df_v0_te)['Label']).round().copy()\n",
    "# df_sub[target_] = predict_model(final, data=df_v0_te)\n",
    "# pred_ = predict_model(final, data=df_v0_te)\n",
    "\n",
    "sep = df_v0_tr[(df_v0_tr['dt_d'] >= 246) & (df_v0_tr['dt_t'] >= 0)]\n",
    "lower = sep.groupby(['dt_t', 'x', 'y', 'direction']).congestion.quantile(0.15).values\n",
    "upper = sep.groupby(['dt_t', 'x', 'y', 'direction']).congestion.quantile(0.7).values\n",
    "\n",
    "df_sub[target_] = df_sub[target_].clip(lower, upper)"
   ]
  },
  {
   "cell_type": "code",
   "execution_count": 80,
   "id": "39c2a1f6-53cb-4c29-add4-0d481d43caa2",
   "metadata": {},
   "outputs": [],
   "source": [
    "import datetime\n",
    "\n",
    "now = datetime.datetime.now()\n",
    "str_datetime = now.strftime(\"%y%m%d_%H%M%S\")\n",
    "# df_sub.to_csv(DIR_DATASET+'submission-'+NAME_PROJECT+'-'+str_datetime+'.csv', index = 0)\n",
    "df_sub.to_csv(DIR_DATASET+'submission-'+NAME_PROJECT+'-'+str_datetime+'.csv')"
   ]
  },
  {
   "cell_type": "code",
   "execution_count": null,
   "id": "834e3cea-7644-45c5-9a9f-f55914682786",
   "metadata": {},
   "outputs": [],
   "source": []
  },
  {
   "cell_type": "code",
   "execution_count": null,
   "id": "6c6c09ac-05dc-4c42-93c7-e073895589cd",
   "metadata": {},
   "outputs": [],
   "source": []
  },
  {
   "cell_type": "code",
   "execution_count": 41,
   "id": "9a83634e-0211-4149-a2dd-6c79ab97d7f7",
   "metadata": {},
   "outputs": [
    {
     "data": {
      "text/html": [
       "<div>\n",
       "<style scoped>\n",
       "    .dataframe tbody tr th:only-of-type {\n",
       "        vertical-align: middle;\n",
       "    }\n",
       "\n",
       "    .dataframe tbody tr th {\n",
       "        vertical-align: top;\n",
       "    }\n",
       "\n",
       "    .dataframe thead th {\n",
       "        text-align: right;\n",
       "    }\n",
       "</style>\n",
       "<table border=\"1\" class=\"dataframe\">\n",
       "  <thead>\n",
       "    <tr style=\"text-align: right;\">\n",
       "      <th></th>\n",
       "      <th>congestion</th>\n",
       "      <th>drop</th>\n",
       "      <th>dt_m</th>\n",
       "      <th>dt_d</th>\n",
       "      <th>dt_am</th>\n",
       "      <th>dt_wd</th>\n",
       "      <th>dt_t</th>\n",
       "      <th>x</th>\n",
       "      <th>y</th>\n",
       "      <th>direction</th>\n",
       "      <th>xydirday</th>\n",
       "      <th>xydir</th>\n",
       "      <th>all</th>\n",
       "    </tr>\n",
       "    <tr>\n",
       "      <th>row_id</th>\n",
       "      <th></th>\n",
       "      <th></th>\n",
       "      <th></th>\n",
       "      <th></th>\n",
       "      <th></th>\n",
       "      <th></th>\n",
       "      <th></th>\n",
       "      <th></th>\n",
       "      <th></th>\n",
       "      <th></th>\n",
       "      <th></th>\n",
       "      <th></th>\n",
       "      <th></th>\n",
       "    </tr>\n",
       "  </thead>\n",
       "  <tbody>\n",
       "    <tr>\n",
       "      <th>142220</th>\n",
       "      <td>27.0</td>\n",
       "      <td>False</td>\n",
       "      <td>5</td>\n",
       "      <td>121</td>\n",
       "      <td>False</td>\n",
       "      <td>2</td>\n",
       "      <td>0</td>\n",
       "      <td>0</td>\n",
       "      <td>0</td>\n",
       "      <td>EB</td>\n",
       "      <td>00EB121</td>\n",
       "      <td>00EB</td>\n",
       "      <td>00EB0</td>\n",
       "    </tr>\n",
       "    <tr>\n",
       "      <th>142221</th>\n",
       "      <td>24.0</td>\n",
       "      <td>False</td>\n",
       "      <td>5</td>\n",
       "      <td>121</td>\n",
       "      <td>False</td>\n",
       "      <td>2</td>\n",
       "      <td>0</td>\n",
       "      <td>0</td>\n",
       "      <td>0</td>\n",
       "      <td>NB</td>\n",
       "      <td>00NB121</td>\n",
       "      <td>00NB</td>\n",
       "      <td>00NB0</td>\n",
       "    </tr>\n",
       "    <tr>\n",
       "      <th>142222</th>\n",
       "      <td>52.0</td>\n",
       "      <td>False</td>\n",
       "      <td>5</td>\n",
       "      <td>121</td>\n",
       "      <td>False</td>\n",
       "      <td>2</td>\n",
       "      <td>0</td>\n",
       "      <td>0</td>\n",
       "      <td>0</td>\n",
       "      <td>SB</td>\n",
       "      <td>00SB121</td>\n",
       "      <td>00SB</td>\n",
       "      <td>00SB0</td>\n",
       "    </tr>\n",
       "    <tr>\n",
       "      <th>142223</th>\n",
       "      <td>27.0</td>\n",
       "      <td>False</td>\n",
       "      <td>5</td>\n",
       "      <td>121</td>\n",
       "      <td>False</td>\n",
       "      <td>2</td>\n",
       "      <td>0</td>\n",
       "      <td>0</td>\n",
       "      <td>1</td>\n",
       "      <td>EB</td>\n",
       "      <td>01EB121</td>\n",
       "      <td>01EB</td>\n",
       "      <td>01EB0</td>\n",
       "    </tr>\n",
       "    <tr>\n",
       "      <th>142224</th>\n",
       "      <td>72.0</td>\n",
       "      <td>False</td>\n",
       "      <td>5</td>\n",
       "      <td>121</td>\n",
       "      <td>False</td>\n",
       "      <td>2</td>\n",
       "      <td>0</td>\n",
       "      <td>0</td>\n",
       "      <td>1</td>\n",
       "      <td>NB</td>\n",
       "      <td>01NB121</td>\n",
       "      <td>01NB</td>\n",
       "      <td>01NB0</td>\n",
       "    </tr>\n",
       "  </tbody>\n",
       "</table>\n",
       "</div>"
      ],
      "text/plain": [
       "        congestion   drop  dt_m  dt_d  dt_am  dt_wd  dt_t  x  y direction xydirday xydir    all\n",
       "row_id                                                                                         \n",
       "142220  27.0        False  5     121   False  2      0     0  0  EB        00EB121  00EB  00EB0\n",
       "142221  24.0        False  5     121   False  2      0     0  0  NB        00NB121  00NB  00NB0\n",
       "142222  52.0        False  5     121   False  2      0     0  0  SB        00SB121  00SB  00SB0\n",
       "142223  27.0        False  5     121   False  2      0     0  1  EB        01EB121  01EB  01EB0\n",
       "142224  72.0        False  5     121   False  2      0     0  1  NB        01NB121  01NB  01NB0"
      ]
     },
     "execution_count": 41,
     "metadata": {},
     "output_type": "execute_result"
    }
   ],
   "source": [
    "df_v1 = df_v0.drop((df_v1[df_v1['drop'] == True]).index)\n",
    "df_v1.head()"
   ]
  },
  {
   "cell_type": "code",
   "execution_count": 57,
   "id": "c56fc85f-6e6b-4c55-98e9-ae11cd164f0c",
   "metadata": {},
   "outputs": [
    {
     "data": {
      "text/plain": [
       "((193700, 92), (2340, 92), (193700,))"
      ]
     },
     "execution_count": 57,
     "metadata": {},
     "output_type": "execute_result"
    }
   ],
   "source": [
    "df_v2 = pd.DataFrame()\n",
    "df_v2[target_] = df_v1[target_]\n",
    "df_v2 = pd.concat([df_v2, pd.get_dummies(df_v1['dt_m'].astype('category').cat.codes, prefix='dt_m')], axis=1)\n",
    "df_v2['dt_am'] = df_v1['dt_am'].astype(int)\n",
    "df_v2 = pd.concat([df_v2, pd.get_dummies(df_v1['dt_wd'].astype('category').cat.codes, prefix='dt_wd')], axis=1)\n",
    "df_v2['dt_t'] = df_v1['dt_t']\n",
    "df_v2 = pd.concat([df_v2, pd.get_dummies(df_v1['x'].astype('category').cat.codes, prefix='x')], axis=1)\n",
    "df_v2 = pd.concat([df_v2, pd.get_dummies(df_v1['y'].astype('category').cat.codes, prefix='y')], axis=1)\n",
    "df_v2 = pd.concat([df_v2, pd.get_dummies(df_v1['direction'].astype('category').cat.codes, prefix='direction')], axis=1)\n",
    "df_v2 = pd.concat([df_v2, pd.get_dummies(df_v1['xydir'].astype('category').cat.codes, prefix='xydir')], axis=1)\n",
    "df_v2['all'] = df_v1['all']\n",
    "\n",
    "df_v2_tr = df_v2[df_v2[target_].notnull()]\n",
    "df_v2_te = df_v2[df_v2[target_].isnull()]\n",
    "\n",
    "mapper_avg = df_v2_tr[['all',target_]].groupby(['all']).median().to_dict()[target_]\n",
    "df_v2_tr['avg'] = df_v2_tr['all'].map(mapper_avg)\n",
    "df_v2_te['avg'] = df_v2_te['all'].map(mapper_avg)\n",
    "\n",
    "df_v2_tr.drop('all', axis=1, inplace=True)\n",
    "df_v2_te.drop('all', axis=1, inplace=True)\n",
    "\n",
    "# df_v0_tr.head()\n",
    "\n",
    "# df_v2.head()\n",
    "# df_v2.info()\n",
    "\n",
    "X = df_v2_tr.drop(target_, axis=1)\n",
    "y = df_v2_tr[target_]\n",
    "df_test = df_v2_te.drop(target_, axis=1)\n",
    "\n",
    "# df_v2_tr.shape, df_v2_te.shape\n",
    "X_tr.shape, X_te.shape, y_tr.shape"
   ]
  },
  {
   "cell_type": "code",
   "execution_count": 58,
   "id": "f28352f2-5fec-4f9b-ba08-d7b9b730329a",
   "metadata": {},
   "outputs": [],
   "source": [
    "from sklearn.metrics import mean_absolute_error as mae\n",
    "def objective(trial):\n",
    "    params = {\n",
    "        \"random_state\":trial.suggest_categorical(\"random_state\", [519632]),\n",
    "        'learning_rate' : trial.suggest_loguniform('learning_rate', 0.0001, 0.3),\n",
    "        'bagging_temperature' :trial.suggest_loguniform('bagging_temperature', 0.01, 100.00),\n",
    "        \"n_estimators\": 1000,\n",
    "        \"max_depth\":trial.suggest_int(\"max_depth\", 3, 9),\n",
    "        'random_strength' :trial.suggest_int('random_strength', 0, 100),\n",
    "        \"l2_leaf_reg\":trial.suggest_float(\"l2_leaf_reg\",1e-8,3e-5),\n",
    "        \"min_child_samples\": trial.suggest_int(\"min_child_samples\", 5, 100),\n",
    "        \"max_bin\": trial.suggest_int(\"max_bin\", 200, 500),\n",
    "        'od_type': trial.suggest_categorical('od_type', ['IncToDec', 'Iter']),\n",
    "        'task_type': trial.suggest_categorical('task_type', ['GPU']),\n",
    "        'loss_function': trial.suggest_categorical('loss_function', ['MAE']),\n",
    "        'eval_metric': trial.suggest_categorical('eval_metric', ['MAE'])\n",
    "    }\n",
    "\n",
    "    model = CatBoostRegressor(**params)\n",
    "    X_train_tmp, X_valid_tmp, y_train_tmp, y_valid_tmp = train_test_split(X, y, test_size=0.3, random_state=42)\n",
    "    model.fit(\n",
    "        X_train_tmp, y_train_tmp,\n",
    "        eval_set=[(X_valid_tmp, y_valid_tmp)],\n",
    "        early_stopping_rounds=25, verbose=0\n",
    "    )\n",
    "        \n",
    "    y_train_pred = model.predict(X_train_tmp)\n",
    "    y_valid_pred = model.predict(X_valid_tmp)\n",
    "    train_mae = mae(y_train_tmp, y_train_pred)\n",
    "    valid_mae = mae(y_valid_tmp, y_valid_pred)\n",
    "    \n",
    "    print(f'MAE of Train: {train_mae}')\n",
    "    print(f'MAE of Validation: {valid_mae}')\n",
    "    \n",
    "    return valid_mae"
   ]
  },
  {
   "cell_type": "code",
   "execution_count": 59,
   "id": "cbb783b1-ae2e-47a0-8f46-44f3ce1db8e1",
   "metadata": {},
   "outputs": [],
   "source": [
    "allow_optimize = 1"
   ]
  },
  {
   "cell_type": "code",
   "execution_count": 62,
   "id": "73fe4f68-f6ab-46b1-b044-950afe72e1e5",
   "metadata": {
    "collapsed": true,
    "jupyter": {
     "outputs_hidden": true
    },
    "tags": []
   },
   "outputs": [
    {
     "name": "stderr",
     "output_type": "stream",
     "text": [
      "\u001b[32m[I 2022-03-27 03:44:42,514]\u001b[0m A new study created in memory with name: cat_parameter_opt\u001b[0m\n",
      "\u001b[32m[I 2022-03-27 03:44:56,560]\u001b[0m Trial 0 finished with value: 5.3595007811346385 and parameters: {'random_state': 519632, 'learning_rate': 0.13637821802218406, 'bagging_temperature': 1.7826226239792804, 'max_depth': 6, 'random_strength': 57, 'l2_leaf_reg': 6.391527496038165e-06, 'min_child_samples': 99, 'max_bin': 266, 'od_type': 'IncToDec', 'task_type': 'GPU', 'loss_function': 'MAE', 'eval_metric': 'MAE'}. Best is trial 0 with value: 5.3595007811346385.\u001b[0m\n"
     ]
    },
    {
     "name": "stdout",
     "output_type": "stream",
     "text": [
      "MAE of Train: 5.251877014183133\n",
      "MAE of Validation: 5.3595007811346385\n"
     ]
    },
    {
     "name": "stderr",
     "output_type": "stream",
     "text": [
      "\u001b[32m[I 2022-03-27 03:45:07,321]\u001b[0m Trial 1 finished with value: 10.071770574890106 and parameters: {'random_state': 519632, 'learning_rate': 0.0005283375044626603, 'bagging_temperature': 0.7340262520013038, 'max_depth': 5, 'random_strength': 26, 'l2_leaf_reg': 2.65542125669681e-05, 'min_child_samples': 88, 'max_bin': 279, 'od_type': 'Iter', 'task_type': 'GPU', 'loss_function': 'MAE', 'eval_metric': 'MAE'}. Best is trial 0 with value: 5.3595007811346385.\u001b[0m\n"
     ]
    },
    {
     "name": "stdout",
     "output_type": "stream",
     "text": [
      "MAE of Train: 10.070992866761705\n",
      "MAE of Validation: 10.071770574890106\n"
     ]
    },
    {
     "name": "stderr",
     "output_type": "stream",
     "text": [
      "\u001b[32m[I 2022-03-27 03:45:09,385]\u001b[0m Trial 2 finished with value: 13.91781104801239 and parameters: {'random_state': 519632, 'learning_rate': 0.003301199544227713, 'bagging_temperature': 67.53919280915215, 'max_depth': 5, 'random_strength': 5, 'l2_leaf_reg': 6.082325615930732e-06, 'min_child_samples': 75, 'max_bin': 445, 'od_type': 'Iter', 'task_type': 'GPU', 'loss_function': 'MAE', 'eval_metric': 'MAE'}. Best is trial 0 with value: 5.3595007811346385.\u001b[0m\n"
     ]
    },
    {
     "name": "stdout",
     "output_type": "stream",
     "text": [
      "MAE of Train: 13.91636551368095\n",
      "MAE of Validation: 13.91781104801239\n"
     ]
    },
    {
     "name": "stderr",
     "output_type": "stream",
     "text": [
      "\u001b[32m[I 2022-03-27 03:45:10,659]\u001b[0m Trial 3 finished with value: 13.91781104801239 and parameters: {'random_state': 519632, 'learning_rate': 0.0005587782339724161, 'bagging_temperature': 59.55994331279238, 'max_depth': 5, 'random_strength': 95, 'l2_leaf_reg': 2.194571738819852e-05, 'min_child_samples': 95, 'max_bin': 352, 'od_type': 'Iter', 'task_type': 'GPU', 'loss_function': 'MAE', 'eval_metric': 'MAE'}. Best is trial 0 with value: 5.3595007811346385.\u001b[0m\n"
     ]
    },
    {
     "name": "stdout",
     "output_type": "stream",
     "text": [
      "MAE of Train: 13.91636551368095\n",
      "MAE of Validation: 13.91781104801239\n"
     ]
    },
    {
     "name": "stderr",
     "output_type": "stream",
     "text": [
      "\u001b[32m[I 2022-03-27 03:45:21,633]\u001b[0m Trial 4 finished with value: 5.385799550775341 and parameters: {'random_state': 519632, 'learning_rate': 0.09806848765004257, 'bagging_temperature': 2.8005401029793418, 'max_depth': 5, 'random_strength': 63, 'l2_leaf_reg': 2.342744279507182e-06, 'min_child_samples': 91, 'max_bin': 223, 'od_type': 'IncToDec', 'task_type': 'GPU', 'loss_function': 'MAE', 'eval_metric': 'MAE'}. Best is trial 0 with value: 5.3595007811346385.\u001b[0m\n"
     ]
    },
    {
     "name": "stdout",
     "output_type": "stream",
     "text": [
      "MAE of Train: 5.350017912430324\n",
      "MAE of Validation: 5.385799550775341\n"
     ]
    },
    {
     "name": "stderr",
     "output_type": "stream",
     "text": [
      "\u001b[32m[I 2022-03-27 03:45:36,270]\u001b[0m Trial 5 finished with value: 8.882561202597035 and parameters: {'random_state': 519632, 'learning_rate': 0.0007103255463501752, 'bagging_temperature': 6.803241394781838, 'max_depth': 8, 'random_strength': 22, 'l2_leaf_reg': 2.0530460547921314e-05, 'min_child_samples': 54, 'max_bin': 316, 'od_type': 'IncToDec', 'task_type': 'GPU', 'loss_function': 'MAE', 'eval_metric': 'MAE'}. Best is trial 0 with value: 5.3595007811346385.\u001b[0m\n"
     ]
    },
    {
     "name": "stdout",
     "output_type": "stream",
     "text": [
      "MAE of Train: 8.874483706633121\n",
      "MAE of Validation: 8.882561202597035\n"
     ]
    },
    {
     "name": "stderr",
     "output_type": "stream",
     "text": [
      "\u001b[32m[I 2022-03-27 03:45:45,715]\u001b[0m Trial 6 finished with value: 5.44833216631022 and parameters: {'random_state': 519632, 'learning_rate': 0.11741269589140406, 'bagging_temperature': 11.615039639974764, 'max_depth': 3, 'random_strength': 93, 'l2_leaf_reg': 1.1727403740135924e-05, 'min_child_samples': 65, 'max_bin': 439, 'od_type': 'Iter', 'task_type': 'GPU', 'loss_function': 'MAE', 'eval_metric': 'MAE'}. Best is trial 0 with value: 5.3595007811346385.\u001b[0m\n"
     ]
    },
    {
     "name": "stdout",
     "output_type": "stream",
     "text": [
      "MAE of Train: 5.458513836099774\n",
      "MAE of Validation: 5.44833216631022\n"
     ]
    },
    {
     "name": "stderr",
     "output_type": "stream",
     "text": [
      "\u001b[32m[I 2022-03-27 03:45:50,018]\u001b[0m Trial 7 finished with value: 7.165063118440186 and parameters: {'random_state': 519632, 'learning_rate': 0.001245886898879424, 'bagging_temperature': 4.513489201184613, 'max_depth': 7, 'random_strength': 41, 'l2_leaf_reg': 3.6819778297925603e-06, 'min_child_samples': 25, 'max_bin': 492, 'od_type': 'IncToDec', 'task_type': 'GPU', 'loss_function': 'MAE', 'eval_metric': 'MAE'}. Best is trial 0 with value: 5.3595007811346385.\u001b[0m\n"
     ]
    },
    {
     "name": "stdout",
     "output_type": "stream",
     "text": [
      "MAE of Train: 7.1578944326393525\n",
      "MAE of Validation: 7.165063118440186\n"
     ]
    },
    {
     "name": "stderr",
     "output_type": "stream",
     "text": [
      "\u001b[32m[I 2022-03-27 03:45:54,312]\u001b[0m Trial 8 finished with value: 11.901252048253486 and parameters: {'random_state': 519632, 'learning_rate': 0.0002464672742456697, 'bagging_temperature': 0.022986564098123462, 'max_depth': 7, 'random_strength': 100, 'l2_leaf_reg': 2.714659155323358e-05, 'min_child_samples': 47, 'max_bin': 380, 'od_type': 'IncToDec', 'task_type': 'GPU', 'loss_function': 'MAE', 'eval_metric': 'MAE'}. Best is trial 0 with value: 5.3595007811346385.\u001b[0m\n"
     ]
    },
    {
     "name": "stdout",
     "output_type": "stream",
     "text": [
      "MAE of Train: 11.90195848148492\n",
      "MAE of Validation: 11.901252048253486\n"
     ]
    },
    {
     "name": "stderr",
     "output_type": "stream",
     "text": [
      "\u001b[32m[I 2022-03-27 03:45:58,154]\u001b[0m Trial 9 finished with value: 5.678203442264096 and parameters: {'random_state': 519632, 'learning_rate': 0.004833826394832733, 'bagging_temperature': 0.04564435721766057, 'max_depth': 5, 'random_strength': 61, 'l2_leaf_reg': 9.873990241703941e-06, 'min_child_samples': 97, 'max_bin': 274, 'od_type': 'Iter', 'task_type': 'GPU', 'loss_function': 'MAE', 'eval_metric': 'MAE'}. Best is trial 0 with value: 5.3595007811346385.\u001b[0m\n"
     ]
    },
    {
     "name": "stdout",
     "output_type": "stream",
     "text": [
      "MAE of Train: 5.679442980901736\n",
      "MAE of Validation: 5.678203442264096\n"
     ]
    },
    {
     "name": "stderr",
     "output_type": "stream",
     "text": [
      "\u001b[32m[I 2022-03-27 03:46:03,714]\u001b[0m Trial 10 finished with value: 5.388404286806554 and parameters: {'random_state': 519632, 'learning_rate': 0.02737258054095243, 'bagging_temperature': 0.246359604960563, 'max_depth': 9, 'random_strength': 74, 'l2_leaf_reg': 1.5924553458946105e-05, 'min_child_samples': 28, 'max_bin': 205, 'od_type': 'IncToDec', 'task_type': 'GPU', 'loss_function': 'MAE', 'eval_metric': 'MAE'}. Best is trial 0 with value: 5.3595007811346385.\u001b[0m\n"
     ]
    },
    {
     "name": "stdout",
     "output_type": "stream",
     "text": [
      "MAE of Train: 5.351415365776469\n",
      "MAE of Validation: 5.388404286806554\n"
     ]
    },
    {
     "name": "stderr",
     "output_type": "stream",
     "text": [
      "\u001b[32m[I 2022-03-27 03:46:06,940]\u001b[0m Trial 11 finished with value: 5.396794556891176 and parameters: {'random_state': 519632, 'learning_rate': 0.2625341523629419, 'bagging_temperature': 1.0679188011388459, 'max_depth': 3, 'random_strength': 63, 'l2_leaf_reg': 4.79476398730719e-07, 'min_child_samples': 75, 'max_bin': 206, 'od_type': 'IncToDec', 'task_type': 'GPU', 'loss_function': 'MAE', 'eval_metric': 'MAE'}. Best is trial 0 with value: 5.3595007811346385.\u001b[0m\n"
     ]
    },
    {
     "name": "stdout",
     "output_type": "stream",
     "text": [
      "MAE of Train: 5.369885238649157\n",
      "MAE of Validation: 5.396794556891176\n"
     ]
    },
    {
     "name": "stderr",
     "output_type": "stream",
     "text": [
      "\u001b[32m[I 2022-03-27 03:46:11,007]\u001b[0m Trial 12 finished with value: 5.40699156595169 and parameters: {'random_state': 519632, 'learning_rate': 0.03198488195954736, 'bagging_temperature': 0.6770617025299166, 'max_depth': 6, 'random_strength': 46, 'l2_leaf_reg': 3.5870196670870165e-07, 'min_child_samples': 84, 'max_bin': 253, 'od_type': 'IncToDec', 'task_type': 'GPU', 'loss_function': 'MAE', 'eval_metric': 'MAE'}. Best is trial 0 with value: 5.3595007811346385.\u001b[0m\n"
     ]
    },
    {
     "name": "stdout",
     "output_type": "stream",
     "text": [
      "MAE of Train: 5.3993090724061465\n",
      "MAE of Validation: 5.40699156595169\n"
     ]
    },
    {
     "name": "stderr",
     "output_type": "stream",
     "text": [
      "\u001b[32m[I 2022-03-27 03:46:14,501]\u001b[0m Trial 13 finished with value: 5.429281304955238 and parameters: {'random_state': 519632, 'learning_rate': 0.03622027670148507, 'bagging_temperature': 2.375337321267269, 'max_depth': 4, 'random_strength': 77, 'l2_leaf_reg': 6.525698532779119e-06, 'min_child_samples': 99, 'max_bin': 238, 'od_type': 'IncToDec', 'task_type': 'GPU', 'loss_function': 'MAE', 'eval_metric': 'MAE'}. Best is trial 0 with value: 5.3595007811346385.\u001b[0m\n"
     ]
    },
    {
     "name": "stdout",
     "output_type": "stream",
     "text": [
      "MAE of Train: 5.432073737682135\n",
      "MAE of Validation: 5.429281304955238\n"
     ]
    },
    {
     "name": "stderr",
     "output_type": "stream",
     "text": [
      "\u001b[32m[I 2022-03-27 03:46:18,793]\u001b[0m Trial 14 finished with value: 5.373197386110142 and parameters: {'random_state': 519632, 'learning_rate': 0.10297546918189668, 'bagging_temperature': 0.11132527882345282, 'max_depth': 6, 'random_strength': 54, 'l2_leaf_reg': 1.1036739175830268e-05, 'min_child_samples': 77, 'max_bin': 309, 'od_type': 'IncToDec', 'task_type': 'GPU', 'loss_function': 'MAE', 'eval_metric': 'MAE'}. Best is trial 0 with value: 5.3595007811346385.\u001b[0m\n"
     ]
    },
    {
     "name": "stdout",
     "output_type": "stream",
     "text": [
      "MAE of Train: 5.299600792506958\n",
      "MAE of Validation: 5.373197386110142\n"
     ]
    },
    {
     "name": "stderr",
     "output_type": "stream",
     "text": [
      "\u001b[32m[I 2022-03-27 03:46:23,527]\u001b[0m Trial 15 finished with value: 5.470109377445537 and parameters: {'random_state': 519632, 'learning_rate': 0.010995339024649168, 'bagging_temperature': 0.1132779116226167, 'max_depth': 7, 'random_strength': 34, 'l2_leaf_reg': 1.4498323427642164e-05, 'min_child_samples': 6, 'max_bin': 313, 'od_type': 'IncToDec', 'task_type': 'GPU', 'loss_function': 'MAE', 'eval_metric': 'MAE'}. Best is trial 0 with value: 5.3595007811346385.\u001b[0m\n"
     ]
    },
    {
     "name": "stdout",
     "output_type": "stream",
     "text": [
      "MAE of Train: 5.476898812466807\n",
      "MAE of Validation: 5.470109377445537\n"
     ]
    },
    {
     "name": "stderr",
     "output_type": "stream",
     "text": [
      "\u001b[32m[I 2022-03-27 03:46:26,754]\u001b[0m Trial 16 finished with value: 5.369449780390348 and parameters: {'random_state': 519632, 'learning_rate': 0.22670949117207745, 'bagging_temperature': 0.010888940667108781, 'max_depth': 6, 'random_strength': 56, 'l2_leaf_reg': 9.200627396333664e-06, 'min_child_samples': 73, 'max_bin': 316, 'od_type': 'IncToDec', 'task_type': 'GPU', 'loss_function': 'MAE', 'eval_metric': 'MAE'}. Best is trial 0 with value: 5.3595007811346385.\u001b[0m\n"
     ]
    },
    {
     "name": "stdout",
     "output_type": "stream",
     "text": [
      "MAE of Train: 5.286905286269684\n",
      "MAE of Validation: 5.369449780390348\n"
     ]
    },
    {
     "name": "stderr",
     "output_type": "stream",
     "text": [
      "\u001b[32m[I 2022-03-27 03:46:29,006]\u001b[0m Trial 17 finished with value: 5.367013870114672 and parameters: {'random_state': 519632, 'learning_rate': 0.2994148645583467, 'bagging_temperature': 0.010338081898424395, 'max_depth': 8, 'random_strength': 80, 'l2_leaf_reg': 7.617883293047502e-06, 'min_child_samples': 60, 'max_bin': 377, 'od_type': 'IncToDec', 'task_type': 'GPU', 'loss_function': 'MAE', 'eval_metric': 'MAE'}. Best is trial 0 with value: 5.3595007811346385.\u001b[0m\n"
     ]
    },
    {
     "name": "stdout",
     "output_type": "stream",
     "text": [
      "MAE of Train: 5.187563183398745\n",
      "MAE of Validation: 5.367013870114672\n"
     ]
    },
    {
     "name": "stderr",
     "output_type": "stream",
     "text": [
      "\u001b[32m[I 2022-03-27 03:46:34,736]\u001b[0m Trial 18 finished with value: 12.949183158521981 and parameters: {'random_state': 519632, 'learning_rate': 0.00010284049461900908, 'bagging_temperature': 22.490358394110714, 'max_depth': 9, 'random_strength': 80, 'l2_leaf_reg': 6.125441253669663e-06, 'min_child_samples': 46, 'max_bin': 390, 'od_type': 'IncToDec', 'task_type': 'GPU', 'loss_function': 'MAE', 'eval_metric': 'MAE'}. Best is trial 0 with value: 5.3595007811346385.\u001b[0m\n"
     ]
    },
    {
     "name": "stdout",
     "output_type": "stream",
     "text": [
      "MAE of Train: 12.947440720110647\n",
      "MAE of Validation: 12.949183158521981\n"
     ]
    },
    {
     "name": "stderr",
     "output_type": "stream",
     "text": [
      "\u001b[32m[I 2022-03-27 03:46:39,488]\u001b[0m Trial 19 finished with value: 5.489801789030153 and parameters: {'random_state': 519632, 'learning_rate': 0.011763130882298386, 'bagging_temperature': 0.3328437258833235, 'max_depth': 8, 'random_strength': 85, 'l2_leaf_reg': 1.5919517898820422e-05, 'min_child_samples': 62, 'max_bin': 398, 'od_type': 'IncToDec', 'task_type': 'GPU', 'loss_function': 'MAE', 'eval_metric': 'MAE'}. Best is trial 0 with value: 5.3595007811346385.\u001b[0m\n"
     ]
    },
    {
     "name": "stdout",
     "output_type": "stream",
     "text": [
      "MAE of Train: 5.49454840929274\n",
      "MAE of Validation: 5.489801789030153\n"
     ]
    },
    {
     "name": "stderr",
     "output_type": "stream",
     "text": [
      "\u001b[32m[I 2022-03-27 03:46:44,326]\u001b[0m Trial 20 finished with value: 5.357618015921518 and parameters: {'random_state': 519632, 'learning_rate': 0.08183816544848231, 'bagging_temperature': 0.05828094713141627, 'max_depth': 8, 'random_strength': 70, 'l2_leaf_reg': 1.3419215473672242e-05, 'min_child_samples': 28, 'max_bin': 355, 'od_type': 'IncToDec', 'task_type': 'GPU', 'loss_function': 'MAE', 'eval_metric': 'MAE'}. Best is trial 20 with value: 5.357618015921518.\u001b[0m\n"
     ]
    },
    {
     "name": "stdout",
     "output_type": "stream",
     "text": [
      "MAE of Train: 5.243172185173981\n",
      "MAE of Validation: 5.357618015921518\n"
     ]
    },
    {
     "name": "stderr",
     "output_type": "stream",
     "text": [
      "\u001b[32m[I 2022-03-27 03:46:49,143]\u001b[0m Trial 21 finished with value: 5.3692852746620625 and parameters: {'random_state': 519632, 'learning_rate': 0.05205471640754546, 'bagging_temperature': 0.011418801398464407, 'max_depth': 8, 'random_strength': 70, 'l2_leaf_reg': 1.349793905405719e-05, 'min_child_samples': 30, 'max_bin': 355, 'od_type': 'IncToDec', 'task_type': 'GPU', 'loss_function': 'MAE', 'eval_metric': 'MAE'}. Best is trial 20 with value: 5.357618015921518.\u001b[0m\n"
     ]
    },
    {
     "name": "stdout",
     "output_type": "stream",
     "text": [
      "MAE of Train: 5.297501694716455\n",
      "MAE of Validation: 5.3692852746620625\n"
     ]
    },
    {
     "name": "stderr",
     "output_type": "stream",
     "text": [
      "\u001b[32m[I 2022-03-27 03:46:51,066]\u001b[0m Trial 22 finished with value: 5.376865108094249 and parameters: {'random_state': 519632, 'learning_rate': 0.28582186897744843, 'bagging_temperature': 0.055733245846201075, 'max_depth': 8, 'random_strength': 84, 'l2_leaf_reg': 8.230332841634095e-06, 'min_child_samples': 11, 'max_bin': 423, 'od_type': 'IncToDec', 'task_type': 'GPU', 'loss_function': 'MAE', 'eval_metric': 'MAE'}. Best is trial 20 with value: 5.357618015921518.\u001b[0m\n"
     ]
    },
    {
     "name": "stdout",
     "output_type": "stream",
     "text": [
      "MAE of Train: 5.227099867971219\n",
      "MAE of Validation: 5.376865108094249\n"
     ]
    },
    {
     "name": "stderr",
     "output_type": "stream",
     "text": [
      "\u001b[32m[I 2022-03-27 03:46:55,150]\u001b[0m Trial 23 finished with value: 5.357385629832455 and parameters: {'random_state': 519632, 'learning_rate': 0.13621135433422357, 'bagging_temperature': 0.03918902058988378, 'max_depth': 7, 'random_strength': 69, 'l2_leaf_reg': 1.827400734187281e-05, 'min_child_samples': 37, 'max_bin': 368, 'od_type': 'IncToDec', 'task_type': 'GPU', 'loss_function': 'MAE', 'eval_metric': 'MAE'}. Best is trial 23 with value: 5.357385629832455.\u001b[0m\n"
     ]
    },
    {
     "name": "stdout",
     "output_type": "stream",
     "text": [
      "MAE of Train: 5.231908723473734\n",
      "MAE of Validation: 5.357385629832455\n"
     ]
    },
    {
     "name": "stderr",
     "output_type": "stream",
     "text": [
      "\u001b[32m[I 2022-03-27 03:46:59,842]\u001b[0m Trial 24 finished with value: 5.460647992324348 and parameters: {'random_state': 519632, 'learning_rate': 0.013641076926654342, 'bagging_temperature': 0.22260576920541422, 'max_depth': 7, 'random_strength': 47, 'l2_leaf_reg': 1.842433988296685e-05, 'min_child_samples': 35, 'max_bin': 331, 'od_type': 'IncToDec', 'task_type': 'GPU', 'loss_function': 'MAE', 'eval_metric': 'MAE'}. Best is trial 23 with value: 5.357385629832455.\u001b[0m\n"
     ]
    },
    {
     "name": "stdout",
     "output_type": "stream",
     "text": [
      "MAE of Train: 5.466872134803941\n",
      "MAE of Validation: 5.460647992324348\n"
     ]
    },
    {
     "name": "stderr",
     "output_type": "stream",
     "text": [
      "\u001b[32m[I 2022-03-27 03:47:04,367]\u001b[0m Trial 25 finished with value: 5.370024901349528 and parameters: {'random_state': 519632, 'learning_rate': 0.06608318427368268, 'bagging_temperature': 0.050104030239172384, 'max_depth': 7, 'random_strength': 69, 'l2_leaf_reg': 2.467313912454774e-05, 'min_child_samples': 17, 'max_bin': 279, 'od_type': 'IncToDec', 'task_type': 'GPU', 'loss_function': 'MAE', 'eval_metric': 'MAE'}. Best is trial 23 with value: 5.357385629832455.\u001b[0m\n"
     ]
    },
    {
     "name": "stdout",
     "output_type": "stream",
     "text": [
      "MAE of Train: 5.30999805560995\n",
      "MAE of Validation: 5.370024901349528\n"
     ]
    },
    {
     "name": "stderr",
     "output_type": "stream",
     "text": [
      "\u001b[32m[I 2022-03-27 03:47:07,731]\u001b[0m Trial 26 finished with value: 5.3551021389450195 and parameters: {'random_state': 519632, 'learning_rate': 0.14553967210658186, 'bagging_temperature': 1.339344283981575, 'max_depth': 9, 'random_strength': 67, 'l2_leaf_reg': 1.804256529366051e-05, 'min_child_samples': 39, 'max_bin': 413, 'od_type': 'Iter', 'task_type': 'GPU', 'loss_function': 'MAE', 'eval_metric': 'MAE'}. Best is trial 26 with value: 5.3551021389450195.\u001b[0m\n"
     ]
    },
    {
     "name": "stdout",
     "output_type": "stream",
     "text": [
      "MAE of Train: 5.155854634263862\n",
      "MAE of Validation: 5.3551021389450195\n"
     ]
    },
    {
     "name": "stderr",
     "output_type": "stream",
     "text": [
      "\u001b[32m[I 2022-03-27 03:47:13,442]\u001b[0m Trial 27 finished with value: 5.402422564443809 and parameters: {'random_state': 519632, 'learning_rate': 0.022884711486113877, 'bagging_temperature': 0.02562346917427266, 'max_depth': 9, 'random_strength': 69, 'l2_leaf_reg': 1.8343226255143724e-05, 'min_child_samples': 38, 'max_bin': 473, 'od_type': 'Iter', 'task_type': 'GPU', 'loss_function': 'MAE', 'eval_metric': 'MAE'}. Best is trial 26 with value: 5.3551021389450195.\u001b[0m\n"
     ]
    },
    {
     "name": "stdout",
     "output_type": "stream",
     "text": [
      "MAE of Train: 5.382085872196987\n",
      "MAE of Validation: 5.402422564443809\n"
     ]
    },
    {
     "name": "stderr",
     "output_type": "stream",
     "text": [
      "\u001b[32m[I 2022-03-27 03:47:18,476]\u001b[0m Trial 28 finished with value: 5.351103356064333 and parameters: {'random_state': 519632, 'learning_rate': 0.07492797529366527, 'bagging_temperature': 0.43366056968900984, 'max_depth': 9, 'random_strength': 87, 'l2_leaf_reg': 2.306635185410087e-05, 'min_child_samples': 19, 'max_bin': 408, 'od_type': 'Iter', 'task_type': 'GPU', 'loss_function': 'MAE', 'eval_metric': 'MAE'}. Best is trial 28 with value: 5.351103356064333.\u001b[0m\n"
     ]
    },
    {
     "name": "stdout",
     "output_type": "stream",
     "text": [
      "MAE of Train: 5.211545438464011\n",
      "MAE of Validation: 5.351103356064333\n"
     ]
    },
    {
     "name": "stderr",
     "output_type": "stream",
     "text": [
      "\u001b[32m[I 2022-03-27 03:47:21,539]\u001b[0m Trial 29 finished with value: 5.361553060057218 and parameters: {'random_state': 519632, 'learning_rate': 0.1696149625230437, 'bagging_temperature': 1.1955554538999065, 'max_depth': 9, 'random_strength': 85, 'l2_leaf_reg': 2.3425247504113413e-05, 'min_child_samples': 16, 'max_bin': 417, 'od_type': 'Iter', 'task_type': 'GPU', 'loss_function': 'MAE', 'eval_metric': 'MAE'}. Best is trial 28 with value: 5.351103356064333.\u001b[0m\n"
     ]
    },
    {
     "name": "stdout",
     "output_type": "stream",
     "text": [
      "MAE of Train: 5.1683342548496\n",
      "MAE of Validation: 5.361553060057218\n"
     ]
    },
    {
     "name": "stderr",
     "output_type": "stream",
     "text": [
      "\u001b[32m[I 2022-03-27 03:47:27,618]\u001b[0m Trial 30 finished with value: 5.35656094015591 and parameters: {'random_state': 519632, 'learning_rate': 0.05309855124127157, 'bagging_temperature': 0.49398647427232717, 'max_depth': 9, 'random_strength': 88, 'l2_leaf_reg': 1.87916430252315e-05, 'min_child_samples': 44, 'max_bin': 466, 'od_type': 'Iter', 'task_type': 'GPU', 'loss_function': 'MAE', 'eval_metric': 'MAE'}. Best is trial 28 with value: 5.351103356064333.\u001b[0m\n"
     ]
    },
    {
     "name": "stdout",
     "output_type": "stream",
     "text": [
      "MAE of Train: 5.240333145429809\n",
      "MAE of Validation: 5.35656094015591\n"
     ]
    },
    {
     "name": "stderr",
     "output_type": "stream",
     "text": [
      "\u001b[32m[I 2022-03-27 03:47:33,537]\u001b[0m Trial 31 finished with value: 5.354176341608087 and parameters: {'random_state': 519632, 'learning_rate': 0.0511279560769091, 'bagging_temperature': 0.6380143704940872, 'max_depth': 9, 'random_strength': 92, 'l2_leaf_reg': 1.858161667688896e-05, 'min_child_samples': 41, 'max_bin': 455, 'od_type': 'Iter', 'task_type': 'GPU', 'loss_function': 'MAE', 'eval_metric': 'MAE'}. Best is trial 28 with value: 5.351103356064333.\u001b[0m\n"
     ]
    },
    {
     "name": "stdout",
     "output_type": "stream",
     "text": [
      "MAE of Train: 5.239404200118599\n",
      "MAE of Validation: 5.354176341608087\n"
     ]
    },
    {
     "name": "stderr",
     "output_type": "stream",
     "text": [
      "\u001b[32m[I 2022-03-27 03:47:39,327]\u001b[0m Trial 32 finished with value: 5.355547164547194 and parameters: {'random_state': 519632, 'learning_rate': 0.060819229416248455, 'bagging_temperature': 0.4705153683940374, 'max_depth': 9, 'random_strength': 90, 'l2_leaf_reg': 2.9011539073287816e-05, 'min_child_samples': 44, 'max_bin': 462, 'od_type': 'Iter', 'task_type': 'GPU', 'loss_function': 'MAE', 'eval_metric': 'MAE'}. Best is trial 28 with value: 5.351103356064333.\u001b[0m\n"
     ]
    },
    {
     "name": "stdout",
     "output_type": "stream",
     "text": [
      "MAE of Train: 5.222761278369618\n",
      "MAE of Validation: 5.355547164547194\n"
     ]
    },
    {
     "name": "stderr",
     "output_type": "stream",
     "text": [
      "\u001b[32m[I 2022-03-27 03:47:45,013]\u001b[0m Trial 33 finished with value: 5.412549138607638 and parameters: {'random_state': 519632, 'learning_rate': 0.020856241838681632, 'bagging_temperature': 0.4355638468605004, 'max_depth': 9, 'random_strength': 100, 'l2_leaf_reg': 2.9778756041959485e-05, 'min_child_samples': 53, 'max_bin': 453, 'od_type': 'Iter', 'task_type': 'GPU', 'loss_function': 'MAE', 'eval_metric': 'MAE'}. Best is trial 28 with value: 5.351103356064333.\u001b[0m\n"
     ]
    },
    {
     "name": "stdout",
     "output_type": "stream",
     "text": [
      "MAE of Train: 5.396438762861194\n",
      "MAE of Validation: 5.412549138607638\n"
     ]
    },
    {
     "name": "stderr",
     "output_type": "stream",
     "text": [
      "\u001b[32m[I 2022-03-27 03:47:50,926]\u001b[0m Trial 34 finished with value: 5.3541996849369635 and parameters: {'random_state': 519632, 'learning_rate': 0.047105191509021246, 'bagging_temperature': 1.2311524195200823, 'max_depth': 9, 'random_strength': 92, 'l2_leaf_reg': 2.945980782952496e-05, 'min_child_samples': 21, 'max_bin': 495, 'od_type': 'Iter', 'task_type': 'GPU', 'loss_function': 'MAE', 'eval_metric': 'MAE'}. Best is trial 28 with value: 5.351103356064333.\u001b[0m\n"
     ]
    },
    {
     "name": "stdout",
     "output_type": "stream",
     "text": [
      "MAE of Train: 5.242957466288348\n",
      "MAE of Validation: 5.3541996849369635\n"
     ]
    },
    {
     "name": "stderr",
     "output_type": "stream",
     "text": [
      "\u001b[32m[I 2022-03-27 03:47:57,582]\u001b[0m Trial 35 finished with value: 6.22301377160295 and parameters: {'random_state': 519632, 'learning_rate': 0.0022874438768775, 'bagging_temperature': 1.4061162023732143, 'max_depth': 9, 'random_strength': 94, 'l2_leaf_reg': 2.538006399408712e-05, 'min_child_samples': 21, 'max_bin': 499, 'od_type': 'Iter', 'task_type': 'GPU', 'loss_function': 'MAE', 'eval_metric': 'MAE'}. Best is trial 28 with value: 5.351103356064333.\u001b[0m\n"
     ]
    },
    {
     "name": "stdout",
     "output_type": "stream",
     "text": [
      "MAE of Train: 6.211132548094483\n",
      "MAE of Validation: 6.22301377160295\n"
     ]
    },
    {
     "name": "stderr",
     "output_type": "stream",
     "text": [
      "\u001b[32m[I 2022-03-27 03:48:03,202]\u001b[0m Trial 36 finished with value: 5.409780322552676 and parameters: {'random_state': 519632, 'learning_rate': 0.15479603049477045, 'bagging_temperature': 2.113347844271941, 'max_depth': 8, 'random_strength': 2, 'l2_leaf_reg': 2.2563352759318305e-05, 'min_child_samples': 5, 'max_bin': 427, 'od_type': 'Iter', 'task_type': 'GPU', 'loss_function': 'MAE', 'eval_metric': 'MAE'}. Best is trial 28 with value: 5.351103356064333.\u001b[0m\n"
     ]
    },
    {
     "name": "stdout",
     "output_type": "stream",
     "text": [
      "MAE of Train: 5.377230517541735\n",
      "MAE of Validation: 5.409780322552676\n"
     ]
    },
    {
     "name": "stderr",
     "output_type": "stream",
     "text": [
      "\u001b[32m[I 2022-03-27 03:48:09,302]\u001b[0m Trial 37 finished with value: 5.413063886533026 and parameters: {'random_state': 519632, 'learning_rate': 0.008468970730800158, 'bagging_temperature': 5.109246198124202, 'max_depth': 9, 'random_strength': 16, 'l2_leaf_reg': 2.0880583382814357e-05, 'min_child_samples': 22, 'max_bin': 481, 'od_type': 'Iter', 'task_type': 'GPU', 'loss_function': 'MAE', 'eval_metric': 'MAE'}. Best is trial 28 with value: 5.351103356064333.\u001b[0m\n"
     ]
    },
    {
     "name": "stdout",
     "output_type": "stream",
     "text": [
      "MAE of Train: 5.393472582603531\n",
      "MAE of Validation: 5.413063886533026\n"
     ]
    },
    {
     "name": "stderr",
     "output_type": "stream",
     "text": [
      "\u001b[32m[I 2022-03-27 03:48:15,114]\u001b[0m Trial 38 finished with value: 5.368831179467517 and parameters: {'random_state': 519632, 'learning_rate': 0.043816570714839756, 'bagging_temperature': 0.7584463819408823, 'max_depth': 8, 'random_strength': 96, 'l2_leaf_reg': 2.6703642021976705e-05, 'min_child_samples': 34, 'max_bin': 405, 'od_type': 'Iter', 'task_type': 'GPU', 'loss_function': 'MAE', 'eval_metric': 'MAE'}. Best is trial 28 with value: 5.351103356064333.\u001b[0m\n"
     ]
    },
    {
     "name": "stdout",
     "output_type": "stream",
     "text": [
      "MAE of Train: 5.30954524535905\n",
      "MAE of Validation: 5.368831179467517\n"
     ]
    },
    {
     "name": "stderr",
     "output_type": "stream",
     "text": [
      "\u001b[32m[I 2022-03-27 03:48:21,733]\u001b[0m Trial 39 finished with value: 5.385858433831224 and parameters: {'random_state': 519632, 'learning_rate': 0.021335750955541553, 'bagging_temperature': 3.7758570293287295, 'max_depth': 9, 'random_strength': 90, 'l2_leaf_reg': 2.1264672749344048e-05, 'min_child_samples': 14, 'max_bin': 435, 'od_type': 'Iter', 'task_type': 'GPU', 'loss_function': 'MAE', 'eval_metric': 'MAE'}. Best is trial 28 with value: 5.351103356064333.\u001b[0m\n"
     ]
    },
    {
     "name": "stdout",
     "output_type": "stream",
     "text": [
      "MAE of Train: 5.345345386484279\n",
      "MAE of Validation: 5.385858433831224\n"
     ]
    },
    {
     "name": "stderr",
     "output_type": "stream",
     "text": [
      "\u001b[32m[I 2022-03-27 03:48:27,069]\u001b[0m Trial 40 finished with value: 5.365735195493321 and parameters: {'random_state': 519632, 'learning_rate': 0.08096650680599608, 'bagging_temperature': 8.75849965562984, 'max_depth': 8, 'random_strength': 80, 'l2_leaf_reg': 1.6472612872498947e-05, 'min_child_samples': 22, 'max_bin': 452, 'od_type': 'Iter', 'task_type': 'GPU', 'loss_function': 'MAE', 'eval_metric': 'MAE'}. Best is trial 28 with value: 5.351103356064333.\u001b[0m\n"
     ]
    },
    {
     "name": "stdout",
     "output_type": "stream",
     "text": [
      "MAE of Train: 5.224944784681686\n",
      "MAE of Validation: 5.365735195493321\n"
     ]
    },
    {
     "name": "stderr",
     "output_type": "stream",
     "text": [
      "\u001b[32m[I 2022-03-27 03:48:33,377]\u001b[0m Trial 41 finished with value: 5.352333405440319 and parameters: {'random_state': 519632, 'learning_rate': 0.07226439030731617, 'bagging_temperature': 0.16029161850388646, 'max_depth': 9, 'random_strength': 90, 'l2_leaf_reg': 2.99243498204232e-05, 'min_child_samples': 42, 'max_bin': 457, 'od_type': 'Iter', 'task_type': 'GPU', 'loss_function': 'MAE', 'eval_metric': 'MAE'}. Best is trial 28 with value: 5.351103356064333.\u001b[0m\n"
     ]
    },
    {
     "name": "stdout",
     "output_type": "stream",
     "text": [
      "MAE of Train: 5.184196700908114\n",
      "MAE of Validation: 5.352333405440319\n"
     ]
    },
    {
     "name": "stderr",
     "output_type": "stream",
     "text": [
      "\u001b[32m[I 2022-03-27 03:48:36,756]\u001b[0m Trial 42 finished with value: 5.366723721837598 and parameters: {'random_state': 519632, 'learning_rate': 0.1706951104029446, 'bagging_temperature': 0.16694741203443733, 'max_depth': 9, 'random_strength': 97, 'l2_leaf_reg': 2.8156712599201743e-05, 'min_child_samples': 40, 'max_bin': 483, 'od_type': 'Iter', 'task_type': 'GPU', 'loss_function': 'MAE', 'eval_metric': 'MAE'}. Best is trial 28 with value: 5.351103356064333.\u001b[0m\n"
     ]
    },
    {
     "name": "stdout",
     "output_type": "stream",
     "text": [
      "MAE of Train: 5.174820049212743\n",
      "MAE of Validation: 5.366723721837598\n"
     ]
    },
    {
     "name": "stderr",
     "output_type": "stream",
     "text": [
      "\u001b[32m[I 2022-03-27 03:48:41,354]\u001b[0m Trial 43 finished with value: 5.351741913594164 and parameters: {'random_state': 519632, 'learning_rate': 0.1070848895758982, 'bagging_temperature': 0.7847370863621811, 'max_depth': 9, 'random_strength': 91, 'l2_leaf_reg': 2.4836903951800614e-05, 'min_child_samples': 32, 'max_bin': 445, 'od_type': 'Iter', 'task_type': 'GPU', 'loss_function': 'MAE', 'eval_metric': 'MAE'}. Best is trial 28 with value: 5.351103356064333.\u001b[0m\n"
     ]
    },
    {
     "name": "stdout",
     "output_type": "stream",
     "text": [
      "MAE of Train: 5.173070078977972\n",
      "MAE of Validation: 5.351741913594164\n"
     ]
    },
    {
     "name": "stderr",
     "output_type": "stream",
     "text": [
      "\u001b[32m[I 2022-03-27 03:48:45,943]\u001b[0m Trial 44 finished with value: 5.352867473432569 and parameters: {'random_state': 519632, 'learning_rate': 0.10860020963766687, 'bagging_temperature': 0.7146221831621263, 'max_depth': 8, 'random_strength': 91, 'l2_leaf_reg': 2.4724082023946062e-05, 'min_child_samples': 28, 'max_bin': 442, 'od_type': 'Iter', 'task_type': 'GPU', 'loss_function': 'MAE', 'eval_metric': 'MAE'}. Best is trial 28 with value: 5.351103356064333.\u001b[0m\n"
     ]
    },
    {
     "name": "stdout",
     "output_type": "stream",
     "text": [
      "MAE of Train: 5.190603173755161\n",
      "MAE of Validation: 5.352867473432569\n"
     ]
    },
    {
     "name": "stderr",
     "output_type": "stream",
     "text": [
      "\u001b[32m[I 2022-03-27 03:48:50,706]\u001b[0m Trial 45 finished with value: 5.354007979072123 and parameters: {'random_state': 519632, 'learning_rate': 0.0982804257166053, 'bagging_temperature': 0.11600540562040067, 'max_depth': 8, 'random_strength': 76, 'l2_leaf_reg': 2.4049547824779697e-05, 'min_child_samples': 32, 'max_bin': 446, 'od_type': 'Iter', 'task_type': 'GPU', 'loss_function': 'MAE', 'eval_metric': 'MAE'}. Best is trial 28 with value: 5.351103356064333.\u001b[0m\n"
     ]
    },
    {
     "name": "stdout",
     "output_type": "stream",
     "text": [
      "MAE of Train: 5.2169351965965385\n",
      "MAE of Validation: 5.354007979072123\n"
     ]
    },
    {
     "name": "stderr",
     "output_type": "stream",
     "text": [
      "\u001b[32m[I 2022-03-27 03:48:55,142]\u001b[0m Trial 46 finished with value: 5.359675799522184 and parameters: {'random_state': 519632, 'learning_rate': 0.09859088174114174, 'bagging_temperature': 0.11120517813486701, 'max_depth': 8, 'random_strength': 77, 'l2_leaf_reg': 2.4966591332170907e-05, 'min_child_samples': 32, 'max_bin': 442, 'od_type': 'Iter', 'task_type': 'GPU', 'loss_function': 'MAE', 'eval_metric': 'MAE'}. Best is trial 28 with value: 5.351103356064333.\u001b[0m\n"
     ]
    },
    {
     "name": "stdout",
     "output_type": "stream",
     "text": [
      "MAE of Train: 5.230561950566386\n",
      "MAE of Validation: 5.359675799522184\n"
     ]
    },
    {
     "name": "stderr",
     "output_type": "stream",
     "text": [
      "\u001b[32m[I 2022-03-27 03:48:58,169]\u001b[0m Trial 47 finished with value: 5.366640479387992 and parameters: {'random_state': 519632, 'learning_rate': 0.2101255899269453, 'bagging_temperature': 0.17409107939600424, 'max_depth': 8, 'random_strength': 86, 'l2_leaf_reg': 2.2750788785415772e-05, 'min_child_samples': 50, 'max_bin': 437, 'od_type': 'Iter', 'task_type': 'GPU', 'loss_function': 'MAE', 'eval_metric': 'MAE'}. Best is trial 28 with value: 5.351103356064333.\u001b[0m\n"
     ]
    },
    {
     "name": "stdout",
     "output_type": "stream",
     "text": [
      "MAE of Train: 5.187364032365152\n",
      "MAE of Validation: 5.366640479387992\n"
     ]
    },
    {
     "name": "stderr",
     "output_type": "stream",
     "text": [
      "\u001b[32m[I 2022-03-27 03:49:01,838]\u001b[0m Trial 48 finished with value: 5.403685006684851 and parameters: {'random_state': 519632, 'learning_rate': 0.10774091324810194, 'bagging_temperature': 0.3038422150928983, 'max_depth': 4, 'random_strength': 76, 'l2_leaf_reg': 2.7681884647496925e-05, 'min_child_samples': 26, 'max_bin': 398, 'od_type': 'Iter', 'task_type': 'GPU', 'loss_function': 'MAE', 'eval_metric': 'MAE'}. Best is trial 28 with value: 5.351103356064333.\u001b[0m\n"
     ]
    },
    {
     "name": "stdout",
     "output_type": "stream",
     "text": [
      "MAE of Train: 5.382710368732224\n",
      "MAE of Validation: 5.403685006684851\n"
     ]
    },
    {
     "name": "stderr",
     "output_type": "stream",
     "text": [
      "\u001b[32m[I 2022-03-27 03:49:06,516]\u001b[0m Trial 49 finished with value: 5.36539446757078 and parameters: {'random_state': 519632, 'learning_rate': 0.07666581785795847, 'bagging_temperature': 0.08763207831862, 'max_depth': 7, 'random_strength': 100, 'l2_leaf_reg': 2.5867070266678735e-05, 'min_child_samples': 30, 'max_bin': 476, 'od_type': 'Iter', 'task_type': 'GPU', 'loss_function': 'MAE', 'eval_metric': 'MAE'}. Best is trial 28 with value: 5.351103356064333.\u001b[0m\n"
     ]
    },
    {
     "name": "stdout",
     "output_type": "stream",
     "text": [
      "MAE of Train: 5.283563861435713\n",
      "MAE of Validation: 5.36539446757078\n"
     ]
    },
    {
     "name": "stderr",
     "output_type": "stream",
     "text": [
      "\u001b[32m[I 2022-03-27 03:49:11,844]\u001b[0m Trial 50 finished with value: 5.382936424899957 and parameters: {'random_state': 519632, 'learning_rate': 0.033792075340896205, 'bagging_temperature': 0.8213280763792107, 'max_depth': 8, 'random_strength': 83, 'l2_leaf_reg': 2.3842862092786128e-05, 'min_child_samples': 50, 'max_bin': 427, 'od_type': 'Iter', 'task_type': 'GPU', 'loss_function': 'MAE', 'eval_metric': 'MAE'}. Best is trial 28 with value: 5.351103356064333.\u001b[0m\n"
     ]
    },
    {
     "name": "stdout",
     "output_type": "stream",
     "text": [
      "MAE of Train: 5.344421061322262\n",
      "MAE of Validation: 5.382936424899957\n"
     ]
    },
    {
     "name": "stderr",
     "output_type": "stream",
     "text": [
      "\u001b[32m[I 2022-03-27 03:49:15,626]\u001b[0m Trial 51 finished with value: 5.353517371371618 and parameters: {'random_state': 519632, 'learning_rate': 0.11503848227209465, 'bagging_temperature': 0.5568141617914917, 'max_depth': 9, 'random_strength': 93, 'l2_leaf_reg': 2.4112056805166008e-05, 'min_child_samples': 40, 'max_bin': 456, 'od_type': 'Iter', 'task_type': 'GPU', 'loss_function': 'MAE', 'eval_metric': 'MAE'}. Best is trial 28 with value: 5.351103356064333.\u001b[0m\n"
     ]
    },
    {
     "name": "stdout",
     "output_type": "stream",
     "text": [
      "MAE of Train: 5.1994130836888175\n",
      "MAE of Validation: 5.353517371371618\n"
     ]
    },
    {
     "name": "stderr",
     "output_type": "stream",
     "text": [
      "\u001b[32m[I 2022-03-27 03:49:19,979]\u001b[0m Trial 52 finished with value: 5.3541787912613765 and parameters: {'random_state': 519632, 'learning_rate': 0.11696649946267687, 'bagging_temperature': 0.17320733398617322, 'max_depth': 9, 'random_strength': 96, 'l2_leaf_reg': 2.0030192837380687e-05, 'min_child_samples': 57, 'max_bin': 444, 'od_type': 'Iter', 'task_type': 'GPU', 'loss_function': 'MAE', 'eval_metric': 'MAE'}. Best is trial 28 with value: 5.351103356064333.\u001b[0m\n"
     ]
    },
    {
     "name": "stdout",
     "output_type": "stream",
     "text": [
      "MAE of Train: 5.1759518860573825\n",
      "MAE of Validation: 5.3541787912613765\n"
     ]
    },
    {
     "name": "stderr",
     "output_type": "stream",
     "text": [
      "\u001b[32m[I 2022-03-27 03:49:22,737]\u001b[0m Trial 53 finished with value: 5.361021754237947 and parameters: {'random_state': 519632, 'learning_rate': 0.19549909358444925, 'bagging_temperature': 0.3518923828023447, 'max_depth': 9, 'random_strength': 90, 'l2_leaf_reg': 2.6248006795510223e-05, 'min_child_samples': 33, 'max_bin': 413, 'od_type': 'Iter', 'task_type': 'GPU', 'loss_function': 'MAE', 'eval_metric': 'MAE'}. Best is trial 28 with value: 5.351103356064333.\u001b[0m\n"
     ]
    },
    {
     "name": "stdout",
     "output_type": "stream",
     "text": [
      "MAE of Train: 5.195467354809606\n",
      "MAE of Validation: 5.361021754237947\n"
     ]
    },
    {
     "name": "stderr",
     "output_type": "stream",
     "text": [
      "\u001b[32m[I 2022-03-27 03:49:27,553]\u001b[0m Trial 54 finished with value: 5.360249215466098 and parameters: {'random_state': 519632, 'learning_rate': 0.08083515441589646, 'bagging_temperature': 0.2605486663798048, 'max_depth': 8, 'random_strength': 74, 'l2_leaf_reg': 2.4478667990617862e-05, 'min_child_samples': 26, 'max_bin': 465, 'od_type': 'Iter', 'task_type': 'GPU', 'loss_function': 'MAE', 'eval_metric': 'MAE'}. Best is trial 28 with value: 5.351103356064333.\u001b[0m\n"
     ]
    },
    {
     "name": "stdout",
     "output_type": "stream",
     "text": [
      "MAE of Train: 5.2468043899678305\n",
      "MAE of Validation: 5.360249215466098\n"
     ]
    },
    {
     "name": "stderr",
     "output_type": "stream",
     "text": [
      "\u001b[32m[I 2022-03-27 03:49:33,478]\u001b[0m Trial 55 finished with value: 5.368876462438977 and parameters: {'random_state': 519632, 'learning_rate': 0.037202019476511895, 'bagging_temperature': 0.0777064353270384, 'max_depth': 9, 'random_strength': 82, 'l2_leaf_reg': 2.8172260757908573e-05, 'min_child_samples': 9, 'max_bin': 431, 'od_type': 'Iter', 'task_type': 'GPU', 'loss_function': 'MAE', 'eval_metric': 'MAE'}. Best is trial 28 with value: 5.351103356064333.\u001b[0m\n"
     ]
    },
    {
     "name": "stdout",
     "output_type": "stream",
     "text": [
      "MAE of Train: 5.302844706021433\n",
      "MAE of Validation: 5.368876462438977\n"
     ]
    },
    {
     "name": "stderr",
     "output_type": "stream",
     "text": [
      "\u001b[32m[I 2022-03-27 03:49:36,958]\u001b[0m Trial 56 finished with value: 5.356729793919562 and parameters: {'random_state': 519632, 'learning_rate': 0.12456864123934341, 'bagging_temperature': 1.7764485768740144, 'max_depth': 8, 'random_strength': 88, 'l2_leaf_reg': 2.1908424035092515e-05, 'min_child_samples': 48, 'max_bin': 450, 'od_type': 'Iter', 'task_type': 'GPU', 'loss_function': 'MAE', 'eval_metric': 'MAE'}. Best is trial 28 with value: 5.351103356064333.\u001b[0m\n"
     ]
    },
    {
     "name": "stdout",
     "output_type": "stream",
     "text": [
      "MAE of Train: 5.209933210400576\n",
      "MAE of Validation: 5.356729793919562\n"
     ]
    },
    {
     "name": "stderr",
     "output_type": "stream",
     "text": [
      "\u001b[32m[I 2022-03-27 03:49:41,644]\u001b[0m Trial 57 finished with value: 5.398951820856832 and parameters: {'random_state': 519632, 'learning_rate': 0.02659558702360234, 'bagging_temperature': 3.00097420990404, 'max_depth': 7, 'random_strength': 38, 'l2_leaf_reg': 1.9909663851904832e-05, 'min_child_samples': 42, 'max_bin': 483, 'od_type': 'Iter', 'task_type': 'GPU', 'loss_function': 'MAE', 'eval_metric': 'MAE'}. Best is trial 28 with value: 5.351103356064333.\u001b[0m\n"
     ]
    },
    {
     "name": "stdout",
     "output_type": "stream",
     "text": [
      "MAE of Train: 5.378908234152659\n",
      "MAE of Validation: 5.398951820856832\n"
     ]
    },
    {
     "name": "stderr",
     "output_type": "stream",
     "text": [
      "\u001b[32m[I 2022-03-27 03:49:47,075]\u001b[0m Trial 58 finished with value: 8.922978454866584 and parameters: {'random_state': 519632, 'learning_rate': 0.0007857452831914365, 'bagging_temperature': 0.556330284437479, 'max_depth': 9, 'random_strength': 60, 'l2_leaf_reg': 2.6832319691125447e-05, 'min_child_samples': 36, 'max_bin': 463, 'od_type': 'Iter', 'task_type': 'GPU', 'loss_function': 'MAE', 'eval_metric': 'MAE'}. Best is trial 28 with value: 5.351103356064333.\u001b[0m\n"
     ]
    },
    {
     "name": "stdout",
     "output_type": "stream",
     "text": [
      "MAE of Train: 8.919133854980569\n",
      "MAE of Validation: 8.922978454866584\n"
     ]
    },
    {
     "name": "stderr",
     "output_type": "stream",
     "text": [
      "\u001b[32m[I 2022-03-27 03:49:49,663]\u001b[0m Trial 59 finished with value: 5.364010412422242 and parameters: {'random_state': 519632, 'learning_rate': 0.236286363998682, 'bagging_temperature': 0.1400386102942537, 'max_depth': 8, 'random_strength': 97, 'l2_leaf_reg': 2.3537475703087424e-05, 'min_child_samples': 19, 'max_bin': 389, 'od_type': 'Iter', 'task_type': 'GPU', 'loss_function': 'MAE', 'eval_metric': 'MAE'}. Best is trial 28 with value: 5.351103356064333.\u001b[0m\n"
     ]
    },
    {
     "name": "stdout",
     "output_type": "stream",
     "text": [
      "MAE of Train: 5.199408167952215\n",
      "MAE of Validation: 5.364010412422242\n"
     ]
    },
    {
     "name": "stderr",
     "output_type": "stream",
     "text": [
      "\u001b[32m[I 2022-03-27 03:49:54,098]\u001b[0m Trial 60 finished with value: 5.4530320290925145 and parameters: {'random_state': 519632, 'learning_rate': 0.01741484932775051, 'bagging_temperature': 0.849491399553092, 'max_depth': 6, 'random_strength': 87, 'l2_leaf_reg': 2.1859802090799332e-05, 'min_child_samples': 30, 'max_bin': 369, 'od_type': 'Iter', 'task_type': 'GPU', 'loss_function': 'MAE', 'eval_metric': 'MAE'}. Best is trial 28 with value: 5.351103356064333.\u001b[0m\n"
     ]
    },
    {
     "name": "stdout",
     "output_type": "stream",
     "text": [
      "MAE of Train: 5.4589531366333475\n",
      "MAE of Validation: 5.4530320290925145\n"
     ]
    },
    {
     "name": "stderr",
     "output_type": "stream",
     "text": [
      "\u001b[32m[I 2022-03-27 03:50:00,117]\u001b[0m Trial 61 finished with value: 5.354814252827202 and parameters: {'random_state': 519632, 'learning_rate': 0.06338365404655584, 'bagging_temperature': 0.6494073834754663, 'max_depth': 9, 'random_strength': 92, 'l2_leaf_reg': 2.4039575715792705e-05, 'min_child_samples': 24, 'max_bin': 457, 'od_type': 'Iter', 'task_type': 'GPU', 'loss_function': 'MAE', 'eval_metric': 'MAE'}. Best is trial 28 with value: 5.351103356064333.\u001b[0m\n"
     ]
    },
    {
     "name": "stdout",
     "output_type": "stream",
     "text": [
      "MAE of Train: 5.210151786717708\n",
      "MAE of Validation: 5.354814252827202\n"
     ]
    },
    {
     "name": "stderr",
     "output_type": "stream",
     "text": [
      "\u001b[32m[I 2022-03-27 03:50:04,775]\u001b[0m Trial 62 finished with value: 5.354629255452997 and parameters: {'random_state': 519632, 'learning_rate': 0.09790728007855284, 'bagging_temperature': 0.3653976112112558, 'max_depth': 9, 'random_strength': 93, 'l2_leaf_reg': 2.5354080339491043e-05, 'min_child_samples': 42, 'max_bin': 444, 'od_type': 'Iter', 'task_type': 'GPU', 'loss_function': 'MAE', 'eval_metric': 'MAE'}. Best is trial 28 with value: 5.351103356064333.\u001b[0m\n"
     ]
    },
    {
     "name": "stdout",
     "output_type": "stream",
     "text": [
      "MAE of Train: 5.203762003329712\n",
      "MAE of Validation: 5.354629255452997\n"
     ]
    },
    {
     "name": "stderr",
     "output_type": "stream",
     "text": [
      "\u001b[32m[I 2022-03-27 03:50:11,253]\u001b[0m Trial 63 finished with value: 5.365665374032996 and parameters: {'random_state': 519632, 'learning_rate': 0.041579614357265295, 'bagging_temperature': 0.1990094862227035, 'max_depth': 9, 'random_strength': 80, 'l2_leaf_reg': 1.7090743973686196e-05, 'min_child_samples': 39, 'max_bin': 470, 'od_type': 'Iter', 'task_type': 'GPU', 'loss_function': 'MAE', 'eval_metric': 'MAE'}. Best is trial 28 with value: 5.351103356064333.\u001b[0m\n"
     ]
    },
    {
     "name": "stdout",
     "output_type": "stream",
     "text": [
      "MAE of Train: 5.284092738709304\n",
      "MAE of Validation: 5.365665374032996\n"
     ]
    },
    {
     "name": "stderr",
     "output_type": "stream",
     "text": [
      "\u001b[32m[I 2022-03-27 03:50:15,668]\u001b[0m Trial 64 finished with value: 5.35122733598363 and parameters: {'random_state': 519632, 'learning_rate': 0.13474360298358445, 'bagging_temperature': 0.9710910700177641, 'max_depth': 9, 'random_strength': 89, 'l2_leaf_reg': 1.9741189663431505e-05, 'min_child_samples': 33, 'max_bin': 418, 'od_type': 'Iter', 'task_type': 'GPU', 'loss_function': 'MAE', 'eval_metric': 'MAE'}. Best is trial 28 with value: 5.351103356064333.\u001b[0m\n"
     ]
    },
    {
     "name": "stdout",
     "output_type": "stream",
     "text": [
      "MAE of Train: 5.130000967840984\n",
      "MAE of Validation: 5.35122733598363\n"
     ]
    },
    {
     "name": "stderr",
     "output_type": "stream",
     "text": [
      "\u001b[32m[I 2022-03-27 03:50:19,261]\u001b[0m Trial 65 finished with value: 5.355863378162947 and parameters: {'random_state': 519632, 'learning_rate': 0.12458485337059814, 'bagging_temperature': 1.7801857175642892, 'max_depth': 8, 'random_strength': 82, 'l2_leaf_reg': 2.2555320466581135e-05, 'min_child_samples': 32, 'max_bin': 409, 'od_type': 'Iter', 'task_type': 'GPU', 'loss_function': 'MAE', 'eval_metric': 'MAE'}. Best is trial 28 with value: 5.351103356064333.\u001b[0m\n"
     ]
    },
    {
     "name": "stdout",
     "output_type": "stream",
     "text": [
      "MAE of Train: 5.223236923109203\n",
      "MAE of Validation: 5.355863378162947\n"
     ]
    },
    {
     "name": "stderr",
     "output_type": "stream",
     "text": [
      "\u001b[32m[I 2022-03-27 03:50:22,351]\u001b[0m Trial 66 finished with value: 5.373977789430752 and parameters: {'random_state': 519632, 'learning_rate': 0.20391641710112962, 'bagging_temperature': 1.0195372797122482, 'max_depth': 5, 'random_strength': 88, 'l2_leaf_reg': 2.76382638643052e-05, 'min_child_samples': 28, 'max_bin': 419, 'od_type': 'Iter', 'task_type': 'GPU', 'loss_function': 'MAE', 'eval_metric': 'MAE'}. Best is trial 28 with value: 5.351103356064333.\u001b[0m\n"
     ]
    },
    {
     "name": "stdout",
     "output_type": "stream",
     "text": [
      "MAE of Train: 5.312221718436771\n",
      "MAE of Validation: 5.373977789430752\n"
     ]
    },
    {
     "name": "stderr",
     "output_type": "stream",
     "text": [
      "\u001b[32m[I 2022-03-27 03:50:28,584]\u001b[0m Trial 67 finished with value: 5.352938445799172 and parameters: {'random_state': 519632, 'learning_rate': 0.06506104298270893, 'bagging_temperature': 0.3755147097638779, 'max_depth': 9, 'random_strength': 73, 'l2_leaf_reg': 2.3291435889827933e-05, 'min_child_samples': 35, 'max_bin': 398, 'od_type': 'Iter', 'task_type': 'GPU', 'loss_function': 'MAE', 'eval_metric': 'MAE'}. Best is trial 28 with value: 5.351103356064333.\u001b[0m\n"
     ]
    },
    {
     "name": "stdout",
     "output_type": "stream",
     "text": [
      "MAE of Train: 5.209236316037658\n",
      "MAE of Validation: 5.352938445799172\n"
     ]
    },
    {
     "name": "stderr",
     "output_type": "stream",
     "text": [
      "\u001b[32m[I 2022-03-27 03:50:29,123]\u001b[0m Trial 68 finished with value: 13.91781104801239 and parameters: {'random_state': 519632, 'learning_rate': 0.06481132237092505, 'bagging_temperature': 51.55035840706543, 'max_depth': 9, 'random_strength': 100, 'l2_leaf_reg': 2.082749458787022e-05, 'min_child_samples': 45, 'max_bin': 385, 'od_type': 'Iter', 'task_type': 'GPU', 'loss_function': 'MAE', 'eval_metric': 'MAE'}. Best is trial 28 with value: 5.351103356064333.\u001b[0m\n"
     ]
    },
    {
     "name": "stdout",
     "output_type": "stream",
     "text": [
      "MAE of Train: 13.91636551368095\n",
      "MAE of Validation: 13.91781104801239\n"
     ]
    },
    {
     "name": "stderr",
     "output_type": "stream",
     "text": [
      "\u001b[32m[I 2022-03-27 03:50:34,890]\u001b[0m Trial 69 finished with value: 5.687082707977991 and parameters: {'random_state': 519632, 'learning_rate': 0.0039505607389682595, 'bagging_temperature': 0.4440839698186403, 'max_depth': 9, 'random_strength': 65, 'l2_leaf_reg': 1.9489392962342027e-05, 'min_child_samples': 37, 'max_bin': 402, 'od_type': 'Iter', 'task_type': 'GPU', 'loss_function': 'MAE', 'eval_metric': 'MAE'}. Best is trial 28 with value: 5.351103356064333.\u001b[0m\n"
     ]
    },
    {
     "name": "stdout",
     "output_type": "stream",
     "text": [
      "MAE of Train: 5.685207368324101\n",
      "MAE of Validation: 5.687082707977991\n"
     ]
    },
    {
     "name": "stderr",
     "output_type": "stream",
     "text": [
      "\u001b[32m[I 2022-03-27 03:50:40,587]\u001b[0m Trial 70 finished with value: 5.524298071618982 and parameters: {'random_state': 519632, 'learning_rate': 0.007428770686029756, 'bagging_temperature': 0.2712584686517602, 'max_depth': 9, 'random_strength': 74, 'l2_leaf_reg': 2.8803813673764622e-05, 'min_child_samples': 12, 'max_bin': 422, 'od_type': 'Iter', 'task_type': 'GPU', 'loss_function': 'MAE', 'eval_metric': 'MAE'}. Best is trial 28 with value: 5.351103356064333.\u001b[0m\n"
     ]
    },
    {
     "name": "stdout",
     "output_type": "stream",
     "text": [
      "MAE of Train: 5.527630277255041\n",
      "MAE of Validation: 5.524298071618982\n"
     ]
    },
    {
     "name": "stderr",
     "output_type": "stream",
     "text": [
      "\u001b[32m[I 2022-03-27 03:50:46,028]\u001b[0m Trial 71 finished with value: 5.348617822945316 and parameters: {'random_state': 519632, 'learning_rate': 0.08375299146991168, 'bagging_temperature': 0.9135196376436477, 'max_depth': 9, 'random_strength': 84, 'l2_leaf_reg': 2.3100590345629632e-05, 'min_child_samples': 25, 'max_bin': 434, 'od_type': 'Iter', 'task_type': 'GPU', 'loss_function': 'MAE', 'eval_metric': 'MAE'}. Best is trial 71 with value: 5.348617822945316.\u001b[0m\n"
     ]
    },
    {
     "name": "stdout",
     "output_type": "stream",
     "text": [
      "MAE of Train: 5.165828017841614\n",
      "MAE of Validation: 5.348617822945316\n"
     ]
    },
    {
     "name": "stderr",
     "output_type": "stream",
     "text": [
      "\u001b[32m[I 2022-03-27 03:50:49,414]\u001b[0m Trial 72 finished with value: 5.357332817224923 and parameters: {'random_state': 519632, 'learning_rate': 0.16583039942803093, 'bagging_temperature': 0.9738140692624756, 'max_depth': 9, 'random_strength': 85, 'l2_leaf_reg': 2.5726813529671404e-05, 'min_child_samples': 24, 'max_bin': 397, 'od_type': 'Iter', 'task_type': 'GPU', 'loss_function': 'MAE', 'eval_metric': 'MAE'}. Best is trial 71 with value: 5.348617822945316.\u001b[0m\n"
     ]
    },
    {
     "name": "stdout",
     "output_type": "stream",
     "text": [
      "MAE of Train: 5.151556896188053\n",
      "MAE of Validation: 5.357332817224923\n"
     ]
    },
    {
     "name": "stderr",
     "output_type": "stream",
     "text": [
      "\u001b[32m[I 2022-03-27 03:50:54,703]\u001b[0m Trial 73 finished with value: 5.354225649313475 and parameters: {'random_state': 519632, 'learning_rate': 0.07611505916197119, 'bagging_temperature': 0.582217423728598, 'max_depth': 9, 'random_strength': 89, 'l2_leaf_reg': 2.3011923477422574e-05, 'min_child_samples': 18, 'max_bin': 433, 'od_type': 'Iter', 'task_type': 'GPU', 'loss_function': 'MAE', 'eval_metric': 'MAE'}. Best is trial 71 with value: 5.348617822945316.\u001b[0m\n"
     ]
    },
    {
     "name": "stdout",
     "output_type": "stream",
     "text": [
      "MAE of Train: 5.193633034340951\n",
      "MAE of Validation: 5.354225649313475\n"
     ]
    },
    {
     "name": "stderr",
     "output_type": "stream",
     "text": [
      "\u001b[32m[I 2022-03-27 03:50:56,567]\u001b[0m Trial 74 finished with value: 5.371558034007081 and parameters: {'random_state': 519632, 'learning_rate': 0.2857836949437589, 'bagging_temperature': 1.4214590442028832, 'max_depth': 9, 'random_strength': 94, 'l2_leaf_reg': 2.1463564705862747e-05, 'min_child_samples': 35, 'max_bin': 371, 'od_type': 'Iter', 'task_type': 'GPU', 'loss_function': 'MAE', 'eval_metric': 'MAE'}. Best is trial 71 with value: 5.348617822945316.\u001b[0m\n"
     ]
    },
    {
     "name": "stdout",
     "output_type": "stream",
     "text": [
      "MAE of Train: 5.196958513003098\n",
      "MAE of Validation: 5.371558034007081\n"
     ]
    },
    {
     "name": "stderr",
     "output_type": "stream",
     "text": [
      "\u001b[32m[I 2022-03-27 03:51:02,724]\u001b[0m Trial 75 finished with value: 5.354038322019112 and parameters: {'random_state': 519632, 'learning_rate': 0.05424218758111112, 'bagging_temperature': 0.4158907643898342, 'max_depth': 9, 'random_strength': 81, 'l2_leaf_reg': 4.060543669091881e-06, 'min_child_samples': 28, 'max_bin': 418, 'od_type': 'Iter', 'task_type': 'GPU', 'loss_function': 'MAE', 'eval_metric': 'MAE'}. Best is trial 71 with value: 5.348617822945316.\u001b[0m\n"
     ]
    },
    {
     "name": "stdout",
     "output_type": "stream",
     "text": [
      "MAE of Train: 5.228940088486644\n",
      "MAE of Validation: 5.354038322019112\n"
     ]
    },
    {
     "name": "stderr",
     "output_type": "stream",
     "text": [
      "\u001b[32m[I 2022-03-27 03:51:06,005]\u001b[0m Trial 76 finished with value: 5.356884765439344 and parameters: {'random_state': 519632, 'learning_rate': 0.1270115381383238, 'bagging_temperature': 2.3622878977575192, 'max_depth': 9, 'random_strength': 28, 'l2_leaf_reg': 2.4564470453280554e-05, 'min_child_samples': 89, 'max_bin': 342, 'od_type': 'Iter', 'task_type': 'GPU', 'loss_function': 'MAE', 'eval_metric': 'MAE'}. Best is trial 71 with value: 5.348617822945316.\u001b[0m\n"
     ]
    },
    {
     "name": "stdout",
     "output_type": "stream",
     "text": [
      "MAE of Train: 5.189442880574488\n",
      "MAE of Validation: 5.356884765439344\n"
     ]
    },
    {
     "name": "stderr",
     "output_type": "stream",
     "text": [
      "\u001b[32m[I 2022-03-27 03:51:11,976]\u001b[0m Trial 77 finished with value: 5.380571805685528 and parameters: {'random_state': 519632, 'learning_rate': 0.030220578149627652, 'bagging_temperature': 0.7804658961143073, 'max_depth': 9, 'random_strength': 78, 'l2_leaf_reg': 2.23887002726838e-05, 'min_child_samples': 69, 'max_bin': 436, 'od_type': 'Iter', 'task_type': 'GPU', 'loss_function': 'MAE', 'eval_metric': 'MAE'}. Best is trial 71 with value: 5.348617822945316.\u001b[0m\n"
     ]
    },
    {
     "name": "stdout",
     "output_type": "stream",
     "text": [
      "MAE of Train: 5.334347840523967\n",
      "MAE of Validation: 5.380571805685528\n"
     ]
    },
    {
     "name": "stderr",
     "output_type": "stream",
     "text": [
      "\u001b[32m[I 2022-03-27 03:51:16,263]\u001b[0m Trial 78 finished with value: 5.356435820432444 and parameters: {'random_state': 519632, 'learning_rate': 0.09204210926949823, 'bagging_temperature': 0.24501639554211463, 'max_depth': 8, 'random_strength': 85, 'l2_leaf_reg': 2.642053227205345e-05, 'min_child_samples': 25, 'max_bin': 458, 'od_type': 'Iter', 'task_type': 'GPU', 'loss_function': 'MAE', 'eval_metric': 'MAE'}. Best is trial 71 with value: 5.348617822945316.\u001b[0m\n"
     ]
    },
    {
     "name": "stdout",
     "output_type": "stream",
     "text": [
      "MAE of Train: 5.232937299219455\n",
      "MAE of Validation: 5.356435820432444\n"
     ]
    },
    {
     "name": "stderr",
     "output_type": "stream",
     "text": [
      "\u001b[32m[I 2022-03-27 03:51:20,133]\u001b[0m Trial 79 finished with value: 5.412645670738306 and parameters: {'random_state': 519632, 'learning_rate': 0.07040572116605305, 'bagging_temperature': 0.5272311780397443, 'max_depth': 4, 'random_strength': 91, 'l2_leaf_reg': 2.329164237782867e-05, 'min_child_samples': 16, 'max_bin': 487, 'od_type': 'Iter', 'task_type': 'GPU', 'loss_function': 'MAE', 'eval_metric': 'MAE'}. Best is trial 71 with value: 5.348617822945316.\u001b[0m\n"
     ]
    },
    {
     "name": "stdout",
     "output_type": "stream",
     "text": [
      "MAE of Train: 5.405570570893537\n",
      "MAE of Validation: 5.412645670738306\n"
     ]
    },
    {
     "name": "stderr",
     "output_type": "stream",
     "text": [
      "\u001b[32m[I 2022-03-27 03:51:23,761]\u001b[0m Trial 80 finished with value: 5.358780187299847 and parameters: {'random_state': 519632, 'learning_rate': 0.14735446077596182, 'bagging_temperature': 1.0668208110721769, 'max_depth': 9, 'random_strength': 97, 'l2_leaf_reg': 1.9372368591298285e-05, 'min_child_samples': 30, 'max_bin': 409, 'od_type': 'Iter', 'task_type': 'GPU', 'loss_function': 'MAE', 'eval_metric': 'MAE'}. Best is trial 71 with value: 5.348617822945316.\u001b[0m\n"
     ]
    },
    {
     "name": "stdout",
     "output_type": "stream",
     "text": [
      "MAE of Train: 5.160680572020537\n",
      "MAE of Validation: 5.358780187299847\n"
     ]
    },
    {
     "name": "stderr",
     "output_type": "stream",
     "text": [
      "\u001b[32m[I 2022-03-27 03:51:28,797]\u001b[0m Trial 81 finished with value: 5.35373577137131 and parameters: {'random_state': 519632, 'learning_rate': 0.09476974605502775, 'bagging_temperature': 0.3259858909280036, 'max_depth': 8, 'random_strength': 74, 'l2_leaf_reg': 2.425001290448396e-05, 'min_child_samples': 33, 'max_bin': 448, 'od_type': 'Iter', 'task_type': 'GPU', 'loss_function': 'MAE', 'eval_metric': 'MAE'}. Best is trial 71 with value: 5.348617822945316.\u001b[0m\n"
     ]
    },
    {
     "name": "stdout",
     "output_type": "stream",
     "text": [
      "MAE of Train: 5.205132276446951\n",
      "MAE of Validation: 5.35373577137131\n"
     ]
    },
    {
     "name": "stderr",
     "output_type": "stream",
     "text": [
      "\u001b[32m[I 2022-03-27 03:51:35,085]\u001b[0m Trial 82 finished with value: 5.363510738243899 and parameters: {'random_state': 519632, 'learning_rate': 0.045184907391646816, 'bagging_temperature': 0.34632694732974056, 'max_depth': 9, 'random_strength': 73, 'l2_leaf_reg': 2.061407477470236e-05, 'min_child_samples': 36, 'max_bin': 428, 'od_type': 'Iter', 'task_type': 'GPU', 'loss_function': 'MAE', 'eval_metric': 'MAE'}. Best is trial 71 with value: 5.348617822945316.\u001b[0m\n"
     ]
    },
    {
     "name": "stdout",
     "output_type": "stream",
     "text": [
      "MAE of Train: 5.271869804822515\n",
      "MAE of Validation: 5.363510738243899\n"
     ]
    },
    {
     "name": "stderr",
     "output_type": "stream",
     "text": [
      "\u001b[32m[I 2022-03-27 03:51:39,990]\u001b[0m Trial 83 finished with value: 5.3535237902188015 and parameters: {'random_state': 519632, 'learning_rate': 0.08957027072875023, 'bagging_temperature': 0.6416139141810532, 'max_depth': 8, 'random_strength': 72, 'l2_leaf_reg': 2.535018389579111e-05, 'min_child_samples': 34, 'max_bin': 453, 'od_type': 'Iter', 'task_type': 'GPU', 'loss_function': 'MAE', 'eval_metric': 'MAE'}. Best is trial 71 with value: 5.348617822945316.\u001b[0m\n"
     ]
    },
    {
     "name": "stdout",
     "output_type": "stream",
     "text": [
      "MAE of Train: 5.215390534569082\n",
      "MAE of Validation: 5.3535237902188015\n"
     ]
    },
    {
     "name": "stderr",
     "output_type": "stream",
     "text": [
      "\u001b[32m[I 2022-03-27 03:51:46,173]\u001b[0m Trial 84 finished with value: 5.347049188645763 and parameters: {'random_state': 519632, 'learning_rate': 0.056683018175706514, 'bagging_temperature': 1.3944823868250893, 'max_depth': 9, 'random_strength': 49, 'l2_leaf_reg': 2.531642440021036e-05, 'min_child_samples': 42, 'max_bin': 472, 'od_type': 'Iter', 'task_type': 'GPU', 'loss_function': 'MAE', 'eval_metric': 'MAE'}. Best is trial 84 with value: 5.347049188645763.\u001b[0m\n"
     ]
    },
    {
     "name": "stdout",
     "output_type": "stream",
     "text": [
      "MAE of Train: 5.198721219675097\n",
      "MAE of Validation: 5.347049188645763\n"
     ]
    },
    {
     "name": "stderr",
     "output_type": "stream",
     "text": [
      "\u001b[32m[I 2022-03-27 03:51:48,661]\u001b[0m Trial 85 finished with value: 5.3578563458849855 and parameters: {'random_state': 519632, 'learning_rate': 0.19099933224976107, 'bagging_temperature': 1.3650057300982483, 'max_depth': 9, 'random_strength': 50, 'l2_leaf_reg': 2.7030588396891374e-05, 'min_child_samples': 43, 'max_bin': 437, 'od_type': 'Iter', 'task_type': 'GPU', 'loss_function': 'MAE', 'eval_metric': 'MAE'}. Best is trial 84 with value: 5.347049188645763.\u001b[0m\n"
     ]
    },
    {
     "name": "stdout",
     "output_type": "stream",
     "text": [
      "MAE of Train: 5.169638890033497\n",
      "MAE of Validation: 5.3578563458849855\n"
     ]
    },
    {
     "name": "stderr",
     "output_type": "stream",
     "text": [
      "\u001b[32m[I 2022-03-27 03:51:54,528]\u001b[0m Trial 86 finished with value: 5.350952601343007 and parameters: {'random_state': 519632, 'learning_rate': 0.061763324425874955, 'bagging_temperature': 2.956386443911227, 'max_depth': 9, 'random_strength': 53, 'l2_leaf_reg': 2.4948095033706388e-05, 'min_child_samples': 47, 'max_bin': 475, 'od_type': 'Iter', 'task_type': 'GPU', 'loss_function': 'MAE', 'eval_metric': 'MAE'}. Best is trial 84 with value: 5.347049188645763.\u001b[0m\n"
     ]
    },
    {
     "name": "stdout",
     "output_type": "stream",
     "text": [
      "MAE of Train: 5.174940507105812\n",
      "MAE of Validation: 5.350952601343007\n"
     ]
    },
    {
     "name": "stderr",
     "output_type": "stream",
     "text": [
      "\u001b[32m[I 2022-03-27 03:52:00,609]\u001b[0m Trial 87 finished with value: 5.351373075618279 and parameters: {'random_state': 519632, 'learning_rate': 0.05660450790313855, 'bagging_temperature': 3.2890951330966347, 'max_depth': 9, 'random_strength': 52, 'l2_leaf_reg': 2.8646945268605272e-05, 'min_child_samples': 48, 'max_bin': 472, 'od_type': 'Iter', 'task_type': 'GPU', 'loss_function': 'MAE', 'eval_metric': 'MAE'}. Best is trial 84 with value: 5.347049188645763.\u001b[0m\n"
     ]
    },
    {
     "name": "stdout",
     "output_type": "stream",
     "text": [
      "MAE of Train: 5.193732962910335\n",
      "MAE of Validation: 5.351373075618279\n"
     ]
    },
    {
     "name": "stderr",
     "output_type": "stream",
     "text": [
      "\u001b[32m[I 2022-03-27 03:52:06,354]\u001b[0m Trial 88 finished with value: 12.25075524258538 and parameters: {'random_state': 519632, 'learning_rate': 0.0001715199498667116, 'bagging_temperature': 5.524683917518751, 'max_depth': 9, 'random_strength': 54, 'l2_leaf_reg': 2.9000340281176317e-05, 'min_child_samples': 55, 'max_bin': 487, 'od_type': 'Iter', 'task_type': 'GPU', 'loss_function': 'MAE', 'eval_metric': 'MAE'}. Best is trial 84 with value: 5.347049188645763.\u001b[0m\n"
     ]
    },
    {
     "name": "stdout",
     "output_type": "stream",
     "text": [
      "MAE of Train: 12.247627712484745\n",
      "MAE of Validation: 12.25075524258538\n"
     ]
    },
    {
     "name": "stderr",
     "output_type": "stream",
     "text": [
      "\u001b[32m[I 2022-03-27 03:52:09,615]\u001b[0m Trial 89 finished with value: 5.441060523748433 and parameters: {'random_state': 519632, 'learning_rate': 0.03687309392637224, 'bagging_temperature': 3.2688027703062628, 'max_depth': 3, 'random_strength': 44, 'l2_leaf_reg': 2.986412849843091e-05, 'min_child_samples': 49, 'max_bin': 471, 'od_type': 'Iter', 'task_type': 'GPU', 'loss_function': 'MAE', 'eval_metric': 'MAE'}. Best is trial 84 with value: 5.347049188645763.\u001b[0m\n"
     ]
    },
    {
     "name": "stdout",
     "output_type": "stream",
     "text": [
      "MAE of Train: 5.449623372252019\n",
      "MAE of Validation: 5.441060523748433\n"
     ]
    },
    {
     "name": "stderr",
     "output_type": "stream",
     "text": [
      "\u001b[32m[I 2022-03-27 03:52:15,395]\u001b[0m Trial 90 finished with value: 5.349438057876756 and parameters: {'random_state': 519632, 'learning_rate': 0.05722844015671279, 'bagging_temperature': 1.982052966483268, 'max_depth': 9, 'random_strength': 51, 'l2_leaf_reg': 2.7953081377324653e-05, 'min_child_samples': 52, 'max_bin': 473, 'od_type': 'IncToDec', 'task_type': 'GPU', 'loss_function': 'MAE', 'eval_metric': 'MAE'}. Best is trial 84 with value: 5.347049188645763.\u001b[0m\n"
     ]
    },
    {
     "name": "stdout",
     "output_type": "stream",
     "text": [
      "MAE of Train: 5.194513229269456\n",
      "MAE of Validation: 5.349438057876756\n"
     ]
    },
    {
     "name": "stderr",
     "output_type": "stream",
     "text": [
      "\u001b[32m[I 2022-03-27 03:52:20,682]\u001b[0m Trial 91 finished with value: 5.35725921829754 and parameters: {'random_state': 519632, 'learning_rate': 0.060225620157446244, 'bagging_temperature': 4.161048147803923, 'max_depth': 9, 'random_strength': 52, 'l2_leaf_reg': 2.780992084090917e-05, 'min_child_samples': 59, 'max_bin': 478, 'od_type': 'IncToDec', 'task_type': 'GPU', 'loss_function': 'MAE', 'eval_metric': 'MAE'}. Best is trial 84 with value: 5.347049188645763.\u001b[0m\n"
     ]
    },
    {
     "name": "stdout",
     "output_type": "stream",
     "text": [
      "MAE of Train: 5.2017874616136845\n",
      "MAE of Validation: 5.35725921829754\n"
     ]
    },
    {
     "name": "stderr",
     "output_type": "stream",
     "text": [
      "\u001b[32m[I 2022-03-27 03:52:26,407]\u001b[0m Trial 92 finished with value: 5.359361470690771 and parameters: {'random_state': 519632, 'learning_rate': 0.05290907461953874, 'bagging_temperature': 7.459652219306297, 'max_depth': 9, 'random_strength': 58, 'l2_leaf_reg': 2.8576585899799365e-05, 'min_child_samples': 46, 'max_bin': 498, 'od_type': 'IncToDec', 'task_type': 'GPU', 'loss_function': 'MAE', 'eval_metric': 'MAE'}. Best is trial 84 with value: 5.347049188645763.\u001b[0m\n"
     ]
    },
    {
     "name": "stdout",
     "output_type": "stream",
     "text": [
      "MAE of Train: 5.205280310810853\n",
      "MAE of Validation: 5.359361470690771\n"
     ]
    },
    {
     "name": "stderr",
     "output_type": "stream",
     "text": [
      "\u001b[32m[I 2022-03-27 03:52:29,288]\u001b[0m Trial 93 finished with value: 5.358739433201821 and parameters: {'random_state': 519632, 'learning_rate': 0.1441983446706933, 'bagging_temperature': 1.9568867192303452, 'max_depth': 9, 'random_strength': 46, 'l2_leaf_reg': 2.7103335009751414e-05, 'min_child_samples': 51, 'max_bin': 470, 'od_type': 'IncToDec', 'task_type': 'GPU', 'loss_function': 'MAE', 'eval_metric': 'MAE'}. Best is trial 84 with value: 5.347049188645763.\u001b[0m\n"
     ]
    },
    {
     "name": "stdout",
     "output_type": "stream",
     "text": [
      "MAE of Train: 5.180243373858485\n",
      "MAE of Validation: 5.358739433201821\n"
     ]
    },
    {
     "name": "stderr",
     "output_type": "stream",
     "text": [
      "\u001b[32m[I 2022-03-27 03:52:35,028]\u001b[0m Trial 94 finished with value: 5.373647214953347 and parameters: {'random_state': 519632, 'learning_rate': 0.024544750344784844, 'bagging_temperature': 2.51626268375132, 'max_depth': 9, 'random_strength': 14, 'l2_leaf_reg': 2.487188722943051e-05, 'min_child_samples': 55, 'max_bin': 464, 'od_type': 'IncToDec', 'task_type': 'GPU', 'loss_function': 'MAE', 'eval_metric': 'MAE'}. Best is trial 84 with value: 5.347049188645763.\u001b[0m\n"
     ]
    },
    {
     "name": "stdout",
     "output_type": "stream",
     "text": [
      "MAE of Train: 5.31580902910332\n",
      "MAE of Validation: 5.373647214953347\n"
     ]
    },
    {
     "name": "stderr",
     "output_type": "stream",
     "text": [
      "\u001b[32m[I 2022-03-27 03:52:40,781]\u001b[0m Trial 95 finished with value: 5.367039309853727 and parameters: {'random_state': 519632, 'learning_rate': 0.040157367217201125, 'bagging_temperature': 10.325494296913797, 'max_depth': 9, 'random_strength': 49, 'l2_leaf_reg': 2.5872204267611996e-05, 'min_child_samples': 52, 'max_bin': 493, 'od_type': 'IncToDec', 'task_type': 'GPU', 'loss_function': 'MAE', 'eval_metric': 'MAE'}. Best is trial 84 with value: 5.347049188645763.\u001b[0m\n"
     ]
    },
    {
     "name": "stdout",
     "output_type": "stream",
     "text": [
      "MAE of Train: 5.225286561012178\n",
      "MAE of Validation: 5.367039309853727\n"
     ]
    },
    {
     "name": "stderr",
     "output_type": "stream",
     "text": [
      "\u001b[32m[I 2022-03-27 03:52:46,474]\u001b[0m Trial 96 finished with value: 5.418367600688725 and parameters: {'random_state': 519632, 'learning_rate': 0.01615124573735607, 'bagging_temperature': 1.5790421323857993, 'max_depth': 9, 'random_strength': 41, 'l2_leaf_reg': 2.912712355438361e-05, 'min_child_samples': 63, 'max_bin': 476, 'od_type': 'Iter', 'task_type': 'GPU', 'loss_function': 'MAE', 'eval_metric': 'MAE'}. Best is trial 84 with value: 5.347049188645763.\u001b[0m\n"
     ]
    },
    {
     "name": "stdout",
     "output_type": "stream",
     "text": [
      "MAE of Train: 5.41077882846063\n",
      "MAE of Validation: 5.418367600688725\n"
     ]
    },
    {
     "name": "stderr",
     "output_type": "stream",
     "text": [
      "\u001b[32m[I 2022-03-27 03:52:52,490]\u001b[0m Trial 97 finished with value: 5.3708638254585495 and parameters: {'random_state': 519632, 'learning_rate': 0.029482548008626465, 'bagging_temperature': 2.15009674771526, 'max_depth': 9, 'random_strength': 35, 'l2_leaf_reg': 2.8157847391719228e-05, 'min_child_samples': 45, 'max_bin': 461, 'od_type': 'Iter', 'task_type': 'GPU', 'loss_function': 'MAE', 'eval_metric': 'MAE'}. Best is trial 84 with value: 5.347049188645763.\u001b[0m\n"
     ]
    },
    {
     "name": "stdout",
     "output_type": "stream",
     "text": [
      "MAE of Train: 5.308183036730487\n",
      "MAE of Validation: 5.3708638254585495\n"
     ]
    },
    {
     "name": "stderr",
     "output_type": "stream",
     "text": [
      "\u001b[32m[I 2022-03-27 03:52:56,576]\u001b[0m Trial 98 finished with value: 5.380705945990255 and parameters: {'random_state': 519632, 'learning_rate': 0.07752561302279284, 'bagging_temperature': 3.7133724203013507, 'max_depth': 6, 'random_strength': 56, 'l2_leaf_reg': 2.6132594994561975e-05, 'min_child_samples': 53, 'max_bin': 489, 'od_type': 'IncToDec', 'task_type': 'GPU', 'loss_function': 'MAE', 'eval_metric': 'MAE'}. Best is trial 84 with value: 5.347049188645763.\u001b[0m\n"
     ]
    },
    {
     "name": "stdout",
     "output_type": "stream",
     "text": [
      "MAE of Train: 5.3288343441562365\n",
      "MAE of Validation: 5.380705945990255\n"
     ]
    },
    {
     "name": "stderr",
     "output_type": "stream",
     "text": [
      "\u001b[32m[I 2022-03-27 03:53:02,575]\u001b[0m Trial 99 finished with value: 5.3525069523304385 and parameters: {'random_state': 519632, 'learning_rate': 0.05529421925016586, 'bagging_temperature': 2.7876674794782397, 'max_depth': 9, 'random_strength': 52, 'l2_leaf_reg': 2.7570484304235816e-05, 'min_child_samples': 47, 'max_bin': 444, 'od_type': 'Iter', 'task_type': 'GPU', 'loss_function': 'MAE', 'eval_metric': 'MAE'}. Best is trial 84 with value: 5.347049188645763.\u001b[0m\n"
     ]
    },
    {
     "name": "stdout",
     "output_type": "stream",
     "text": [
      "MAE of Train: 5.193507019205711\n",
      "MAE of Validation: 5.3525069523304385\n"
     ]
    },
    {
     "name": "stderr",
     "output_type": "stream",
     "text": [
      "\u001b[32m[I 2022-03-27 03:53:08,330]\u001b[0m Trial 100 finished with value: 5.747826563205474 and parameters: {'random_state': 519632, 'learning_rate': 0.002606285661561516, 'bagging_temperature': 5.192182506941923, 'max_depth': 9, 'random_strength': 53, 'l2_leaf_reg': 2.760308293849962e-05, 'min_child_samples': 49, 'max_bin': 467, 'od_type': 'Iter', 'task_type': 'GPU', 'loss_function': 'MAE', 'eval_metric': 'MAE'}. Best is trial 84 with value: 5.347049188645763.\u001b[0m\n"
     ]
    },
    {
     "name": "stdout",
     "output_type": "stream",
     "text": [
      "MAE of Train: 5.744982477053408\n",
      "MAE of Validation: 5.747826563205474\n"
     ]
    },
    {
     "name": "stderr",
     "output_type": "stream",
     "text": [
      "\u001b[32m[I 2022-03-27 03:53:14,244]\u001b[0m Trial 101 finished with value: 5.355065561680188 and parameters: {'random_state': 519632, 'learning_rate': 0.04846646683645574, 'bagging_temperature': 3.1652287741788228, 'max_depth': 9, 'random_strength': 44, 'l2_leaf_reg': 2.6820951653529896e-05, 'min_child_samples': 47, 'max_bin': 443, 'od_type': 'Iter', 'task_type': 'GPU', 'loss_function': 'MAE', 'eval_metric': 'MAE'}. Best is trial 84 with value: 5.347049188645763.\u001b[0m\n"
     ]
    },
    {
     "name": "stdout",
     "output_type": "stream",
     "text": [
      "MAE of Train: 5.215659419731456\n",
      "MAE of Validation: 5.355065561680188\n"
     ]
    },
    {
     "name": "stderr",
     "output_type": "stream",
     "text": [
      "\u001b[32m[I 2022-03-27 03:53:18,194]\u001b[0m Trial 102 finished with value: 5.355832160428455 and parameters: {'random_state': 519632, 'learning_rate': 0.11330565825204289, 'bagging_temperature': 0.9289027069284919, 'max_depth': 9, 'random_strength': 62, 'l2_leaf_reg': 2.958441883064613e-05, 'min_child_samples': 20, 'max_bin': 448, 'od_type': 'Iter', 'task_type': 'GPU', 'loss_function': 'MAE', 'eval_metric': 'MAE'}. Best is trial 84 with value: 5.347049188645763.\u001b[0m\n"
     ]
    },
    {
     "name": "stdout",
     "output_type": "stream",
     "text": [
      "MAE of Train: 5.178897378375088\n",
      "MAE of Validation: 5.355832160428455\n"
     ]
    },
    {
     "name": "stderr",
     "output_type": "stream",
     "text": [
      "\u001b[32m[I 2022-03-27 03:53:23,186]\u001b[0m Trial 103 finished with value: 5.357861373480486 and parameters: {'random_state': 519632, 'learning_rate': 0.06038939628331278, 'bagging_temperature': 1.1406097436684204, 'max_depth': 8, 'random_strength': 49, 'l2_leaf_reg': 2.51266971506234e-05, 'min_child_samples': 41, 'max_bin': 425, 'od_type': 'Iter', 'task_type': 'GPU', 'loss_function': 'MAE', 'eval_metric': 'MAE'}. Best is trial 84 with value: 5.347049188645763.\u001b[0m\n"
     ]
    },
    {
     "name": "stdout",
     "output_type": "stream",
     "text": [
      "MAE of Train: 5.25332713995058\n",
      "MAE of Validation: 5.357861373480486\n"
     ]
    },
    {
     "name": "stderr",
     "output_type": "stream",
     "text": [
      "\u001b[32m[I 2022-03-27 03:53:27,621]\u001b[0m Trial 104 finished with value: 5.357011040684089 and parameters: {'random_state': 519632, 'learning_rate': 0.08448057162175993, 'bagging_temperature': 2.42479639302698, 'max_depth': 9, 'random_strength': 59, 'l2_leaf_reg': 2.7374299903867137e-05, 'min_child_samples': 57, 'max_bin': 440, 'od_type': 'Iter', 'task_type': 'GPU', 'loss_function': 'MAE', 'eval_metric': 'MAE'}. Best is trial 84 with value: 5.347049188645763.\u001b[0m\n"
     ]
    },
    {
     "name": "stdout",
     "output_type": "stream",
     "text": [
      "MAE of Train: 5.181566338404431\n",
      "MAE of Validation: 5.357011040684089\n"
     ]
    },
    {
     "name": "stderr",
     "output_type": "stream",
     "text": [
      "\u001b[32m[I 2022-03-27 03:53:33,371]\u001b[0m Trial 105 finished with value: 5.351149417176965 and parameters: {'random_state': 519632, 'learning_rate': 0.06977856640537992, 'bagging_temperature': 1.5918323832468317, 'max_depth': 9, 'random_strength': 56, 'l2_leaf_reg': 2.8544287145221496e-05, 'min_child_samples': 38, 'max_bin': 474, 'od_type': 'Iter', 'task_type': 'GPU', 'loss_function': 'MAE', 'eval_metric': 'MAE'}. Best is trial 84 with value: 5.347049188645763.\u001b[0m\n"
     ]
    },
    {
     "name": "stdout",
     "output_type": "stream",
     "text": [
      "MAE of Train: 5.163864962559415\n",
      "MAE of Validation: 5.351149417176965\n"
     ]
    },
    {
     "name": "stderr",
     "output_type": "stream",
     "text": [
      "\u001b[32m[I 2022-03-27 03:53:39,213]\u001b[0m Trial 106 finished with value: 5.3485870448711506 and parameters: {'random_state': 519632, 'learning_rate': 0.05677669350620084, 'bagging_temperature': 1.5597972987847262, 'max_depth': 9, 'random_strength': 52, 'l2_leaf_reg': 2.9309473036805527e-05, 'min_child_samples': 39, 'max_bin': 481, 'od_type': 'Iter', 'task_type': 'GPU', 'loss_function': 'MAE', 'eval_metric': 'MAE'}. Best is trial 84 with value: 5.347049188645763.\u001b[0m\n"
     ]
    },
    {
     "name": "stdout",
     "output_type": "stream",
     "text": [
      "MAE of Train: 5.204254154683591\n",
      "MAE of Validation: 5.3485870448711506\n"
     ]
    },
    {
     "name": "stderr",
     "output_type": "stream",
     "text": [
      "\u001b[32m[I 2022-03-27 03:53:44,983]\u001b[0m Trial 107 finished with value: 5.364218025475259 and parameters: {'random_state': 519632, 'learning_rate': 0.03407584534360614, 'bagging_temperature': 1.7155034237367301, 'max_depth': 9, 'random_strength': 56, 'l2_leaf_reg': 2.9981349738124803e-05, 'min_child_samples': 40, 'max_bin': 479, 'od_type': 'Iter', 'task_type': 'GPU', 'loss_function': 'MAE', 'eval_metric': 'MAE'}. Best is trial 84 with value: 5.347049188645763.\u001b[0m\n"
     ]
    },
    {
     "name": "stdout",
     "output_type": "stream",
     "text": [
      "MAE of Train: 5.29336796684266\n",
      "MAE of Validation: 5.364218025475259\n"
     ]
    },
    {
     "name": "stderr",
     "output_type": "stream",
     "text": [
      "\u001b[32m[I 2022-03-27 03:53:50,852]\u001b[0m Trial 108 finished with value: 5.3496559746175745 and parameters: {'random_state': 519632, 'learning_rate': 0.07163164016886861, 'bagging_temperature': 1.4885814726208908, 'max_depth': 9, 'random_strength': 47, 'l2_leaf_reg': 2.8491651295080837e-05, 'min_child_samples': 38, 'max_bin': 500, 'od_type': 'Iter', 'task_type': 'GPU', 'loss_function': 'MAE', 'eval_metric': 'MAE'}. Best is trial 84 with value: 5.347049188645763.\u001b[0m\n"
     ]
    },
    {
     "name": "stdout",
     "output_type": "stream",
     "text": [
      "MAE of Train: 5.165507641504418\n",
      "MAE of Validation: 5.3496559746175745\n"
     ]
    },
    {
     "name": "stderr",
     "output_type": "stream",
     "text": [
      "\u001b[32m[I 2022-03-27 03:53:56,929]\u001b[0m Trial 109 finished with value: 5.356731283415615 and parameters: {'random_state': 519632, 'learning_rate': 0.045965149876719597, 'bagging_temperature': 1.298505828130133, 'max_depth': 9, 'random_strength': 47, 'l2_leaf_reg': 2.8545160952637993e-05, 'min_child_samples': 37, 'max_bin': 499, 'od_type': 'Iter', 'task_type': 'GPU', 'loss_function': 'MAE', 'eval_metric': 'MAE'}. Best is trial 84 with value: 5.347049188645763.\u001b[0m\n"
     ]
    },
    {
     "name": "stdout",
     "output_type": "stream",
     "text": [
      "MAE of Train: 5.248566062154857\n",
      "MAE of Validation: 5.356731283415615\n"
     ]
    },
    {
     "name": "stderr",
     "output_type": "stream",
     "text": [
      "\u001b[32m[I 2022-03-27 03:54:01,771]\u001b[0m Trial 110 finished with value: 5.351911471680408 and parameters: {'random_state': 519632, 'learning_rate': 0.07331212679477715, 'bagging_temperature': 1.5130982316056139, 'max_depth': 9, 'random_strength': 41, 'l2_leaf_reg': 2.6414023105652687e-05, 'min_child_samples': 38, 'max_bin': 483, 'od_type': 'IncToDec', 'task_type': 'GPU', 'loss_function': 'MAE', 'eval_metric': 'MAE'}. Best is trial 84 with value: 5.347049188645763.\u001b[0m\n"
     ]
    },
    {
     "name": "stdout",
     "output_type": "stream",
     "text": [
      "MAE of Train: 5.197646634406276\n",
      "MAE of Validation: 5.351911471680408\n"
     ]
    },
    {
     "name": "stderr",
     "output_type": "stream",
     "text": [
      "\u001b[32m[I 2022-03-27 03:54:07,605]\u001b[0m Trial 111 finished with value: 5.350377425782327 and parameters: {'random_state': 519632, 'learning_rate': 0.07575609595785963, 'bagging_temperature': 1.5629918322889311, 'max_depth': 9, 'random_strength': 41, 'l2_leaf_reg': 2.6380917679961756e-05, 'min_child_samples': 43, 'max_bin': 484, 'od_type': 'IncToDec', 'task_type': 'GPU', 'loss_function': 'MAE', 'eval_metric': 'MAE'}. Best is trial 84 with value: 5.347049188645763.\u001b[0m\n"
     ]
    },
    {
     "name": "stdout",
     "output_type": "stream",
     "text": [
      "MAE of Train: 5.141338272793457\n",
      "MAE of Validation: 5.350377425782327\n"
     ]
    },
    {
     "name": "stderr",
     "output_type": "stream",
     "text": [
      "\u001b[32m[I 2022-03-27 03:54:13,087]\u001b[0m Trial 112 finished with value: 5.351779203513177 and parameters: {'random_state': 519632, 'learning_rate': 0.0877790286985246, 'bagging_temperature': 1.7959106804513556, 'max_depth': 9, 'random_strength': 45, 'l2_leaf_reg': 2.9167765394960445e-05, 'min_child_samples': 44, 'max_bin': 492, 'od_type': 'IncToDec', 'task_type': 'GPU', 'loss_function': 'MAE', 'eval_metric': 'MAE'}. Best is trial 84 with value: 5.347049188645763.\u001b[0m\n"
     ]
    },
    {
     "name": "stdout",
     "output_type": "stream",
     "text": [
      "MAE of Train: 5.126706070477083\n",
      "MAE of Validation: 5.351779203513177\n"
     ]
    },
    {
     "name": "stderr",
     "output_type": "stream",
     "text": [
      "\u001b[32m[I 2022-03-27 03:54:19,014]\u001b[0m Trial 113 finished with value: 5.359863195829939 and parameters: {'random_state': 519632, 'learning_rate': 0.04093825054579243, 'bagging_temperature': 1.1295849662449844, 'max_depth': 9, 'random_strength': 42, 'l2_leaf_reg': 2.818116417167298e-05, 'min_child_samples': 38, 'max_bin': 474, 'od_type': 'IncToDec', 'task_type': 'GPU', 'loss_function': 'MAE', 'eval_metric': 'MAE'}. Best is trial 84 with value: 5.347049188645763.\u001b[0m\n"
     ]
    },
    {
     "name": "stdout",
     "output_type": "stream",
     "text": [
      "MAE of Train: 5.273441676225077\n",
      "MAE of Validation: 5.359863195829939\n"
     ]
    },
    {
     "name": "stderr",
     "output_type": "stream",
     "text": [
      "\u001b[32m[I 2022-03-27 03:54:24,556]\u001b[0m Trial 114 finished with value: 5.350274410866846 and parameters: {'random_state': 519632, 'learning_rate': 0.06946333971932266, 'bagging_temperature': 0.9011038308374771, 'max_depth': 9, 'random_strength': 35, 'l2_leaf_reg': 2.5641228384684934e-05, 'min_child_samples': 43, 'max_bin': 483, 'od_type': 'IncToDec', 'task_type': 'GPU', 'loss_function': 'MAE', 'eval_metric': 'MAE'}. Best is trial 84 with value: 5.347049188645763.\u001b[0m\n"
     ]
    },
    {
     "name": "stdout",
     "output_type": "stream",
     "text": [
      "MAE of Train: 5.1875704420199344\n",
      "MAE of Validation: 5.350274410866846\n"
     ]
    },
    {
     "name": "stderr",
     "output_type": "stream",
     "text": [
      "\u001b[32m[I 2022-03-27 03:54:29,958]\u001b[0m Trial 115 finished with value: 5.348288633958116 and parameters: {'random_state': 519632, 'learning_rate': 0.06715112104081879, 'bagging_temperature': 2.1182991853588815, 'max_depth': 9, 'random_strength': 38, 'l2_leaf_reg': 1.4133574413306691e-05, 'min_child_samples': 43, 'max_bin': 485, 'od_type': 'IncToDec', 'task_type': 'GPU', 'loss_function': 'MAE', 'eval_metric': 'MAE'}. Best is trial 84 with value: 5.347049188645763.\u001b[0m\n"
     ]
    },
    {
     "name": "stdout",
     "output_type": "stream",
     "text": [
      "MAE of Train: 5.183259153175831\n",
      "MAE of Validation: 5.348288633958116\n"
     ]
    },
    {
     "name": "stderr",
     "output_type": "stream",
     "text": [
      "\u001b[32m[I 2022-03-27 03:54:35,659]\u001b[0m Trial 116 finished with value: 5.348418996977428 and parameters: {'random_state': 519632, 'learning_rate': 0.06683231858192519, 'bagging_temperature': 2.1048864322313134, 'max_depth': 9, 'random_strength': 33, 'l2_leaf_reg': 1.2646915590885695e-05, 'min_child_samples': 42, 'max_bin': 485, 'od_type': 'IncToDec', 'task_type': 'GPU', 'loss_function': 'MAE', 'eval_metric': 'MAE'}. Best is trial 84 with value: 5.347049188645763.\u001b[0m\n"
     ]
    },
    {
     "name": "stdout",
     "output_type": "stream",
     "text": [
      "MAE of Train: 5.176932813619876\n",
      "MAE of Validation: 5.348418996977428\n"
     ]
    },
    {
     "name": "stderr",
     "output_type": "stream",
     "text": [
      "\u001b[32m[I 2022-03-27 03:54:41,228]\u001b[0m Trial 117 finished with value: 5.35120787258526 and parameters: {'random_state': 519632, 'learning_rate': 0.06904492135750945, 'bagging_temperature': 2.284893650668755, 'max_depth': 9, 'random_strength': 31, 'l2_leaf_reg': 1.1748877416187711e-05, 'min_child_samples': 44, 'max_bin': 485, 'od_type': 'IncToDec', 'task_type': 'GPU', 'loss_function': 'MAE', 'eval_metric': 'MAE'}. Best is trial 84 with value: 5.347049188645763.\u001b[0m\n"
     ]
    },
    {
     "name": "stdout",
     "output_type": "stream",
     "text": [
      "MAE of Train: 5.170869686237845\n",
      "MAE of Validation: 5.35120787258526\n"
     ]
    },
    {
     "name": "stderr",
     "output_type": "stream",
     "text": [
      "\u001b[32m[I 2022-03-27 03:54:47,238]\u001b[0m Trial 118 finished with value: 5.3526352805184905 and parameters: {'random_state': 519632, 'learning_rate': 0.0506694797980445, 'bagging_temperature': 1.881036864209807, 'max_depth': 9, 'random_strength': 38, 'l2_leaf_reg': 1.4269668798045956e-05, 'min_child_samples': 41, 'max_bin': 493, 'od_type': 'IncToDec', 'task_type': 'GPU', 'loss_function': 'MAE', 'eval_metric': 'MAE'}. Best is trial 84 with value: 5.347049188645763.\u001b[0m\n"
     ]
    },
    {
     "name": "stdout",
     "output_type": "stream",
     "text": [
      "MAE of Train: 5.218113037613348\n",
      "MAE of Validation: 5.3526352805184905\n"
     ]
    },
    {
     "name": "stderr",
     "output_type": "stream",
     "text": [
      "\u001b[32m[I 2022-03-27 03:54:52,945]\u001b[0m Trial 119 finished with value: 5.349662760146873 and parameters: {'random_state': 519632, 'learning_rate': 0.06541301574756975, 'bagging_temperature': 1.2736371174370276, 'max_depth': 9, 'random_strength': 38, 'l2_leaf_reg': 1.0894929880354851e-05, 'min_child_samples': 43, 'max_bin': 499, 'od_type': 'IncToDec', 'task_type': 'GPU', 'loss_function': 'MAE', 'eval_metric': 'MAE'}. Best is trial 84 with value: 5.347049188645763.\u001b[0m\n"
     ]
    },
    {
     "name": "stdout",
     "output_type": "stream",
     "text": [
      "MAE of Train: 5.191567457935357\n",
      "MAE of Validation: 5.349662760146873\n"
     ]
    },
    {
     "name": "stderr",
     "output_type": "stream",
     "text": [
      "\u001b[32m[I 2022-03-27 03:54:59,065]\u001b[0m Trial 120 finished with value: 5.363295519374634 and parameters: {'random_state': 519632, 'learning_rate': 0.03303685776663085, 'bagging_temperature': 2.7595036213387685, 'max_depth': 9, 'random_strength': 34, 'l2_leaf_reg': 1.1318347490136257e-05, 'min_child_samples': 43, 'max_bin': 498, 'od_type': 'IncToDec', 'task_type': 'GPU', 'loss_function': 'MAE', 'eval_metric': 'MAE'}. Best is trial 84 with value: 5.347049188645763.\u001b[0m\n"
     ]
    },
    {
     "name": "stdout",
     "output_type": "stream",
     "text": [
      "MAE of Train: 5.278502073087372\n",
      "MAE of Validation: 5.363295519374634\n"
     ]
    },
    {
     "name": "stderr",
     "output_type": "stream",
     "text": [
      "\u001b[32m[I 2022-03-27 03:55:05,076]\u001b[0m Trial 121 finished with value: 5.343377942063889 and parameters: {'random_state': 519632, 'learning_rate': 0.06613991920995126, 'bagging_temperature': 1.447292201383705, 'max_depth': 9, 'random_strength': 38, 'l2_leaf_reg': 1.1891771199513387e-05, 'min_child_samples': 46, 'max_bin': 481, 'od_type': 'IncToDec', 'task_type': 'GPU', 'loss_function': 'MAE', 'eval_metric': 'MAE'}. Best is trial 121 with value: 5.343377942063889.\u001b[0m\n"
     ]
    },
    {
     "name": "stdout",
     "output_type": "stream",
     "text": [
      "MAE of Train: 5.155793610442235\n",
      "MAE of Validation: 5.343377942063889\n"
     ]
    },
    {
     "name": "stderr",
     "output_type": "stream",
     "text": [
      "\u001b[32m[I 2022-03-27 03:55:11,356]\u001b[0m Trial 122 finished with value: 5.354849380149776 and parameters: {'random_state': 519632, 'learning_rate': 0.04451855734117684, 'bagging_temperature': 1.2676353544711538, 'max_depth': 9, 'random_strength': 38, 'l2_leaf_reg': 1.2582597085342297e-05, 'min_child_samples': 45, 'max_bin': 481, 'od_type': 'IncToDec', 'task_type': 'GPU', 'loss_function': 'MAE', 'eval_metric': 'MAE'}. Best is trial 121 with value: 5.343377942063889.\u001b[0m\n"
     ]
    },
    {
     "name": "stdout",
     "output_type": "stream",
     "text": [
      "MAE of Train: 5.251438700993686\n",
      "MAE of Validation: 5.354849380149776\n"
     ]
    },
    {
     "name": "stderr",
     "output_type": "stream",
     "text": [
      "\u001b[32m[I 2022-03-27 03:55:15,683]\u001b[0m Trial 123 finished with value: 5.353304385562634 and parameters: {'random_state': 519632, 'learning_rate': 0.10430323773679463, 'bagging_temperature': 2.070682942094631, 'max_depth': 9, 'random_strength': 36, 'l2_leaf_reg': 1.023357531990497e-05, 'min_child_samples': 81, 'max_bin': 490, 'od_type': 'IncToDec', 'task_type': 'GPU', 'loss_function': 'MAE', 'eval_metric': 'MAE'}. Best is trial 121 with value: 5.343377942063889.\u001b[0m\n"
     ]
    },
    {
     "name": "stdout",
     "output_type": "stream",
     "text": [
      "MAE of Train: 5.167073371041544\n",
      "MAE of Validation: 5.353304385562634\n"
     ]
    },
    {
     "name": "stderr",
     "output_type": "stream",
     "text": [
      "\u001b[32m[I 2022-03-27 03:55:20,325]\u001b[0m Trial 124 finished with value: 5.351487874144618 and parameters: {'random_state': 519632, 'learning_rate': 0.08332159750718061, 'bagging_temperature': 0.8695688652897898, 'max_depth': 9, 'random_strength': 30, 'l2_leaf_reg': 1.3110606038193237e-05, 'min_child_samples': 50, 'max_bin': 500, 'od_type': 'IncToDec', 'task_type': 'GPU', 'loss_function': 'MAE', 'eval_metric': 'MAE'}. Best is trial 121 with value: 5.343377942063889.\u001b[0m\n"
     ]
    },
    {
     "name": "stdout",
     "output_type": "stream",
     "text": [
      "MAE of Train: 5.201694983812363\n",
      "MAE of Validation: 5.351487874144618\n"
     ]
    },
    {
     "name": "stderr",
     "output_type": "stream",
     "text": [
      "\u001b[32m[I 2022-03-27 03:55:26,556]\u001b[0m Trial 125 finished with value: 5.348797329884028 and parameters: {'random_state': 519632, 'learning_rate': 0.062188023251083434, 'bagging_temperature': 1.458583726676152, 'max_depth': 9, 'random_strength': 33, 'l2_leaf_reg': 8.551232419058286e-06, 'min_child_samples': 47, 'max_bin': 486, 'od_type': 'IncToDec', 'task_type': 'GPU', 'loss_function': 'MAE', 'eval_metric': 'MAE'}. Best is trial 121 with value: 5.343377942063889.\u001b[0m\n"
     ]
    },
    {
     "name": "stdout",
     "output_type": "stream",
     "text": [
      "MAE of Train: 5.181117629761997\n",
      "MAE of Validation: 5.348797329884028\n"
     ]
    },
    {
     "name": "stderr",
     "output_type": "stream",
     "text": [
      "\u001b[32m[I 2022-03-27 03:55:32,693]\u001b[0m Trial 126 finished with value: 5.34697859998523 and parameters: {'random_state': 519632, 'learning_rate': 0.06021639947536421, 'bagging_temperature': 1.4481666368196977, 'max_depth': 9, 'random_strength': 33, 'l2_leaf_reg': 7.6123747286492406e-06, 'min_child_samples': 46, 'max_bin': 487, 'od_type': 'IncToDec', 'task_type': 'GPU', 'loss_function': 'MAE', 'eval_metric': 'MAE'}. Best is trial 121 with value: 5.343377942063889.\u001b[0m\n"
     ]
    },
    {
     "name": "stdout",
     "output_type": "stream",
     "text": [
      "MAE of Train: 5.177954426547897\n",
      "MAE of Validation: 5.34697859998523\n"
     ]
    },
    {
     "name": "stderr",
     "output_type": "stream",
     "text": [
      "\u001b[32m[I 2022-03-27 03:55:38,918]\u001b[0m Trial 127 finished with value: 5.351754961500024 and parameters: {'random_state': 519632, 'learning_rate': 0.05022973986553753, 'bagging_temperature': 1.4141980859484133, 'max_depth': 9, 'random_strength': 25, 'l2_leaf_reg': 9.080526649364006e-06, 'min_child_samples': 43, 'max_bin': 487, 'od_type': 'IncToDec', 'task_type': 'GPU', 'loss_function': 'MAE', 'eval_metric': 'MAE'}. Best is trial 121 with value: 5.343377942063889.\u001b[0m\n"
     ]
    },
    {
     "name": "stdout",
     "output_type": "stream",
     "text": [
      "MAE of Train: 5.216621570369836\n",
      "MAE of Validation: 5.351754961500024\n"
     ]
    },
    {
     "name": "stderr",
     "output_type": "stream",
     "text": [
      "\u001b[32m[I 2022-03-27 03:55:45,180]\u001b[0m Trial 128 finished with value: 5.3478162993371345 and parameters: {'random_state': 519632, 'learning_rate': 0.059030672046469654, 'bagging_temperature': 1.082006364469587, 'max_depth': 9, 'random_strength': 32, 'l2_leaf_reg': 6.9417187604336345e-06, 'min_child_samples': 40, 'max_bin': 481, 'od_type': 'IncToDec', 'task_type': 'GPU', 'loss_function': 'MAE', 'eval_metric': 'MAE'}. Best is trial 121 with value: 5.343377942063889.\u001b[0m\n"
     ]
    },
    {
     "name": "stdout",
     "output_type": "stream",
     "text": [
      "MAE of Train: 5.199906992697099\n",
      "MAE of Validation: 5.3478162993371345\n"
     ]
    },
    {
     "name": "stderr",
     "output_type": "stream",
     "text": [
      "\u001b[32m[I 2022-03-27 03:55:50,695]\u001b[0m Trial 129 finished with value: 5.372899959660341 and parameters: {'random_state': 519632, 'learning_rate': 0.03772131245492884, 'bagging_temperature': 0.7397534784849031, 'max_depth': 8, 'random_strength': 32, 'l2_leaf_reg': 7.045297589109415e-06, 'min_child_samples': 52, 'max_bin': 493, 'od_type': 'IncToDec', 'task_type': 'GPU', 'loss_function': 'MAE', 'eval_metric': 'MAE'}. Best is trial 121 with value: 5.343377942063889.\u001b[0m\n"
     ]
    },
    {
     "name": "stdout",
     "output_type": "stream",
     "text": [
      "MAE of Train: 5.3251622417297995\n",
      "MAE of Validation: 5.372899959660341\n"
     ]
    },
    {
     "name": "stderr",
     "output_type": "stream",
     "text": [
      "\u001b[32m[I 2022-03-27 03:55:54,720]\u001b[0m Trial 130 finished with value: 5.392526310843046 and parameters: {'random_state': 519632, 'learning_rate': 0.06286850210459921, 'bagging_temperature': 1.087946749966842, 'max_depth': 5, 'random_strength': 25, 'l2_leaf_reg': 5.206686523182091e-06, 'min_child_samples': 40, 'max_bin': 479, 'od_type': 'IncToDec', 'task_type': 'GPU', 'loss_function': 'MAE', 'eval_metric': 'MAE'}. Best is trial 121 with value: 5.343377942063889.\u001b[0m\n"
     ]
    },
    {
     "name": "stdout",
     "output_type": "stream",
     "text": [
      "MAE of Train: 5.370897033996735\n",
      "MAE of Validation: 5.392526310843046\n"
     ]
    },
    {
     "name": "stderr",
     "output_type": "stream",
     "text": [
      "\u001b[32m[I 2022-03-27 03:55:58,972]\u001b[0m Trial 131 finished with value: 5.351291693040689 and parameters: {'random_state': 519632, 'learning_rate': 0.09080640837882627, 'bagging_temperature': 1.2239305258680768, 'max_depth': 9, 'random_strength': 28, 'l2_leaf_reg': 8.398809818203211e-06, 'min_child_samples': 42, 'max_bin': 289, 'od_type': 'IncToDec', 'task_type': 'GPU', 'loss_function': 'MAE', 'eval_metric': 'MAE'}. Best is trial 121 with value: 5.343377942063889.\u001b[0m\n"
     ]
    },
    {
     "name": "stdout",
     "output_type": "stream",
     "text": [
      "MAE of Train: 5.202140115866232\n",
      "MAE of Validation: 5.351291693040689\n"
     ]
    },
    {
     "name": "stderr",
     "output_type": "stream",
     "text": [
      "\u001b[32m[I 2022-03-27 03:56:05,026]\u001b[0m Trial 132 finished with value: 5.350322153374812 and parameters: {'random_state': 519632, 'learning_rate': 0.05683108181599864, 'bagging_temperature': 1.6165997245073442, 'max_depth': 9, 'random_strength': 39, 'l2_leaf_reg': 1.519695771791108e-05, 'min_child_samples': 46, 'max_bin': 484, 'od_type': 'IncToDec', 'task_type': 'GPU', 'loss_function': 'MAE', 'eval_metric': 'MAE'}. Best is trial 121 with value: 5.343377942063889.\u001b[0m\n"
     ]
    },
    {
     "name": "stdout",
     "output_type": "stream",
     "text": [
      "MAE of Train: 5.19677987542452\n",
      "MAE of Validation: 5.350322153374812\n"
     ]
    },
    {
     "name": "stderr",
     "output_type": "stream",
     "text": [
      "\u001b[32m[I 2022-03-27 03:56:11,014]\u001b[0m Trial 133 finished with value: 5.354294687477825 and parameters: {'random_state': 519632, 'learning_rate': 0.05359723705081903, 'bagging_temperature': 0.9530986126989203, 'max_depth': 9, 'random_strength': 36, 'l2_leaf_reg': 1.5117399875011895e-05, 'min_child_samples': 46, 'max_bin': 490, 'od_type': 'IncToDec', 'task_type': 'GPU', 'loss_function': 'MAE', 'eval_metric': 'MAE'}. Best is trial 121 with value: 5.343377942063889.\u001b[0m\n"
     ]
    },
    {
     "name": "stdout",
     "output_type": "stream",
     "text": [
      "MAE of Train: 5.221838917410093\n",
      "MAE of Validation: 5.354294687477825\n"
     ]
    },
    {
     "name": "stderr",
     "output_type": "stream",
     "text": [
      "\u001b[32m[I 2022-03-27 03:56:16,971]\u001b[0m Trial 134 finished with value: 5.356852785700441 and parameters: {'random_state': 519632, 'learning_rate': 0.04196495729436533, 'bagging_temperature': 1.694826007015553, 'max_depth': 9, 'random_strength': 39, 'l2_leaf_reg': 9.894538469306604e-06, 'min_child_samples': 48, 'max_bin': 467, 'od_type': 'IncToDec', 'task_type': 'GPU', 'loss_function': 'MAE', 'eval_metric': 'MAE'}. Best is trial 121 with value: 5.343377942063889.\u001b[0m\n"
     ]
    },
    {
     "name": "stdout",
     "output_type": "stream",
     "text": [
      "MAE of Train: 5.255746650129911\n",
      "MAE of Validation: 5.356852785700441\n"
     ]
    },
    {
     "name": "stderr",
     "output_type": "stream",
     "text": [
      "\u001b[32m[I 2022-03-27 03:56:23,138]\u001b[0m Trial 135 finished with value: 5.350492430098245 and parameters: {'random_state': 519632, 'learning_rate': 0.0587569468771538, 'bagging_temperature': 1.8846035512577632, 'max_depth': 9, 'random_strength': 33, 'l2_leaf_reg': 7.491723532389751e-06, 'min_child_samples': 40, 'max_bin': 500, 'od_type': 'IncToDec', 'task_type': 'GPU', 'loss_function': 'MAE', 'eval_metric': 'MAE'}. Best is trial 121 with value: 5.343377942063889.\u001b[0m\n"
     ]
    },
    {
     "name": "stdout",
     "output_type": "stream",
     "text": [
      "MAE of Train: 5.190981780539531\n",
      "MAE of Validation: 5.350492430098245\n"
     ]
    },
    {
     "name": "stderr",
     "output_type": "stream",
     "text": [
      "\u001b[32m[I 2022-03-27 03:56:29,680]\u001b[0m Trial 136 finished with value: 7.2486230160379375 and parameters: {'random_state': 519632, 'learning_rate': 0.0012418295685344767, 'bagging_temperature': 2.3301271710076996, 'max_depth': 9, 'random_strength': 30, 'l2_leaf_reg': 1.2217008532191602e-05, 'min_child_samples': 46, 'max_bin': 481, 'od_type': 'IncToDec', 'task_type': 'GPU', 'loss_function': 'MAE', 'eval_metric': 'MAE'}. Best is trial 121 with value: 5.343377942063889.\u001b[0m\n"
     ]
    },
    {
     "name": "stdout",
     "output_type": "stream",
     "text": [
      "MAE of Train: 7.238415149391557\n",
      "MAE of Validation: 7.2486230160379375\n"
     ]
    },
    {
     "name": "stderr",
     "output_type": "stream",
     "text": [
      "\u001b[32m[I 2022-03-27 03:56:36,124]\u001b[0m Trial 137 finished with value: 5.373198710891306 and parameters: {'random_state': 519632, 'learning_rate': 0.02921564999228148, 'bagging_temperature': 1.2513449562015675, 'max_depth': 9, 'random_strength': 28, 'l2_leaf_reg': 5.830801871134085e-06, 'min_child_samples': 49, 'max_bin': 492, 'od_type': 'IncToDec', 'task_type': 'GPU', 'loss_function': 'MAE', 'eval_metric': 'MAE'}. Best is trial 121 with value: 5.343377942063889.\u001b[0m\n"
     ]
    },
    {
     "name": "stdout",
     "output_type": "stream",
     "text": [
      "MAE of Train: 5.319690115806462\n",
      "MAE of Validation: 5.373198710891306\n"
     ]
    },
    {
     "name": "stderr",
     "output_type": "stream",
     "text": [
      "\u001b[32m[I 2022-03-27 03:56:42,306]\u001b[0m Trial 138 finished with value: 5.34803734158231 and parameters: {'random_state': 519632, 'learning_rate': 0.0635597945030642, 'bagging_temperature': 0.7078485126085818, 'max_depth': 9, 'random_strength': 23, 'l2_leaf_reg': 1.0968432328695178e-05, 'min_child_samples': 45, 'max_bin': 485, 'od_type': 'IncToDec', 'task_type': 'GPU', 'loss_function': 'MAE', 'eval_metric': 'MAE'}. Best is trial 121 with value: 5.343377942063889.\u001b[0m\n"
     ]
    },
    {
     "name": "stdout",
     "output_type": "stream",
     "text": [
      "MAE of Train: 5.192402045165985\n",
      "MAE of Validation: 5.34803734158231\n"
     ]
    },
    {
     "name": "stderr",
     "output_type": "stream",
     "text": [
      "\u001b[32m[I 2022-03-27 03:56:46,625]\u001b[0m Trial 139 finished with value: 5.357541796624063 and parameters: {'random_state': 519632, 'learning_rate': 0.06892946280158198, 'bagging_temperature': 0.6700510128628038, 'max_depth': 9, 'random_strength': 20, 'l2_leaf_reg': 1.0671377509705852e-05, 'min_child_samples': 41, 'max_bin': 212, 'od_type': 'IncToDec', 'task_type': 'GPU', 'loss_function': 'MAE', 'eval_metric': 'MAE'}. Best is trial 121 with value: 5.343377942063889.\u001b[0m\n"
     ]
    },
    {
     "name": "stdout",
     "output_type": "stream",
     "text": [
      "MAE of Train: 5.246752025217856\n",
      "MAE of Validation: 5.357541796624063\n"
     ]
    },
    {
     "name": "stderr",
     "output_type": "stream",
     "text": [
      "\u001b[32m[I 2022-03-27 03:56:51,144]\u001b[0m Trial 140 finished with value: 5.350135714256432 and parameters: {'random_state': 519632, 'learning_rate': 0.10426746257874692, 'bagging_temperature': 0.8343566207403426, 'max_depth': 9, 'random_strength': 21, 'l2_leaf_reg': 8.397633190265754e-06, 'min_child_samples': 51, 'max_bin': 467, 'od_type': 'IncToDec', 'task_type': 'GPU', 'loss_function': 'MAE', 'eval_metric': 'MAE'}. Best is trial 121 with value: 5.343377942063889.\u001b[0m\n"
     ]
    },
    {
     "name": "stdout",
     "output_type": "stream",
     "text": [
      "MAE of Train: 5.171193142828095\n",
      "MAE of Validation: 5.350135714256432\n"
     ]
    },
    {
     "name": "stderr",
     "output_type": "stream",
     "text": [
      "\u001b[32m[I 2022-03-27 03:56:55,166]\u001b[0m Trial 141 finished with value: 5.3549340740127835 and parameters: {'random_state': 519632, 'learning_rate': 0.09987900587572893, 'bagging_temperature': 0.8776986994922482, 'max_depth': 9, 'random_strength': 36, 'l2_leaf_reg': 9.504627262380549e-06, 'min_child_samples': 54, 'max_bin': 469, 'od_type': 'IncToDec', 'task_type': 'GPU', 'loss_function': 'MAE', 'eval_metric': 'MAE'}. Best is trial 121 with value: 5.343377942063889.\u001b[0m\n"
     ]
    },
    {
     "name": "stdout",
     "output_type": "stream",
     "text": [
      "MAE of Train: 5.199845795496579\n",
      "MAE of Validation: 5.3549340740127835\n"
     ]
    },
    {
     "name": "stderr",
     "output_type": "stream",
     "text": [
      "\u001b[32m[I 2022-03-27 03:57:00,738]\u001b[0m Trial 142 finished with value: 5.345202063799559 and parameters: {'random_state': 519632, 'learning_rate': 0.08463953835073389, 'bagging_temperature': 1.0685351348370926, 'max_depth': 9, 'random_strength': 24, 'l2_leaf_reg': 8.16453818826871e-06, 'min_child_samples': 51, 'max_bin': 462, 'od_type': 'IncToDec', 'task_type': 'GPU', 'loss_function': 'MAE', 'eval_metric': 'MAE'}. Best is trial 121 with value: 5.343377942063889.\u001b[0m\n"
     ]
    },
    {
     "name": "stdout",
     "output_type": "stream",
     "text": [
      "MAE of Train: 5.150042539356914\n",
      "MAE of Validation: 5.345202063799559\n"
     ]
    },
    {
     "name": "stderr",
     "output_type": "stream",
     "text": [
      "\u001b[32m[I 2022-03-27 03:57:04,403]\u001b[0m Trial 143 finished with value: 5.351844241084608 and parameters: {'random_state': 519632, 'learning_rate': 0.12224304251652424, 'bagging_temperature': 1.0633761201277752, 'max_depth': 9, 'random_strength': 22, 'l2_leaf_reg': 8.621776826464211e-06, 'min_child_samples': 51, 'max_bin': 463, 'od_type': 'IncToDec', 'task_type': 'GPU', 'loss_function': 'MAE', 'eval_metric': 'MAE'}. Best is trial 121 with value: 5.343377942063889.\u001b[0m\n"
     ]
    },
    {
     "name": "stdout",
     "output_type": "stream",
     "text": [
      "MAE of Train: 5.167390472539218\n",
      "MAE of Validation: 5.351844241084608\n"
     ]
    },
    {
     "name": "stderr",
     "output_type": "stream",
     "text": [
      "\u001b[32m[I 2022-03-27 03:57:10,043]\u001b[0m Trial 144 finished with value: 5.346808999700317 and parameters: {'random_state': 519632, 'learning_rate': 0.08073150419447839, 'bagging_temperature': 0.7519534429023873, 'max_depth': 9, 'random_strength': 16, 'l2_leaf_reg': 7.795842495016528e-06, 'min_child_samples': 51, 'max_bin': 477, 'od_type': 'IncToDec', 'task_type': 'GPU', 'loss_function': 'MAE', 'eval_metric': 'MAE'}. Best is trial 121 with value: 5.343377942063889.\u001b[0m\n"
     ]
    },
    {
     "name": "stdout",
     "output_type": "stream",
     "text": [
      "MAE of Train: 5.150080708147727\n",
      "MAE of Validation: 5.346808999700317\n"
     ]
    },
    {
     "name": "stderr",
     "output_type": "stream",
     "text": [
      "\u001b[32m[I 2022-03-27 03:57:14,418]\u001b[0m Trial 145 finished with value: 5.352782279960987 and parameters: {'random_state': 519632, 'learning_rate': 0.08017882478921791, 'bagging_temperature': 0.5876643310249889, 'max_depth': 9, 'random_strength': 15, 'l2_leaf_reg': 6.8479587835227045e-06, 'min_child_samples': 57, 'max_bin': 474, 'od_type': 'IncToDec', 'task_type': 'GPU', 'loss_function': 'MAE', 'eval_metric': 'MAE'}. Best is trial 121 with value: 5.343377942063889.\u001b[0m\n"
     ]
    },
    {
     "name": "stdout",
     "output_type": "stream",
     "text": [
      "MAE of Train: 5.2138557734173485\n",
      "MAE of Validation: 5.352782279960987\n"
     ]
    },
    {
     "name": "stderr",
     "output_type": "stream",
     "text": [
      "\u001b[32m[I 2022-03-27 03:57:20,439]\u001b[0m Trial 146 finished with value: 5.350405264829217 and parameters: {'random_state': 519632, 'learning_rate': 0.04850313490073928, 'bagging_temperature': 1.362618757639504, 'max_depth': 9, 'random_strength': 19, 'l2_leaf_reg': 1.3759010301106928e-05, 'min_child_samples': 48, 'max_bin': 494, 'od_type': 'IncToDec', 'task_type': 'GPU', 'loss_function': 'MAE', 'eval_metric': 'MAE'}. Best is trial 121 with value: 5.343377942063889.\u001b[0m\n"
     ]
    },
    {
     "name": "stdout",
     "output_type": "stream",
     "text": [
      "MAE of Train: 5.225823497368363\n",
      "MAE of Validation: 5.350405264829217\n"
     ]
    },
    {
     "name": "stderr",
     "output_type": "stream",
     "text": [
      "\u001b[32m[I 2022-03-27 03:57:25,206]\u001b[0m Trial 147 finished with value: 5.347322284062976 and parameters: {'random_state': 519632, 'learning_rate': 0.09005772173154292, 'bagging_temperature': 0.755291236609681, 'max_depth': 9, 'random_strength': 13, 'l2_leaf_reg': 7.648462725767922e-06, 'min_child_samples': 54, 'max_bin': 478, 'od_type': 'IncToDec', 'task_type': 'GPU', 'loss_function': 'MAE', 'eval_metric': 'MAE'}. Best is trial 121 with value: 5.343377942063889.\u001b[0m\n"
     ]
    },
    {
     "name": "stdout",
     "output_type": "stream",
     "text": [
      "MAE of Train: 5.174628315388637\n",
      "MAE of Validation: 5.347322284062976\n"
     ]
    },
    {
     "name": "stderr",
     "output_type": "stream",
     "text": [
      "\u001b[32m[I 2022-03-27 03:57:29,277]\u001b[0m Trial 148 finished with value: 5.352984767739379 and parameters: {'random_state': 519632, 'learning_rate': 0.0908006749264803, 'bagging_temperature': 0.7052136173122764, 'max_depth': 9, 'random_strength': 17, 'l2_leaf_reg': 7.5957274140840245e-06, 'min_child_samples': 59, 'max_bin': 458, 'od_type': 'IncToDec', 'task_type': 'GPU', 'loss_function': 'MAE', 'eval_metric': 'MAE'}. Best is trial 121 with value: 5.343377942063889.\u001b[0m\n"
     ]
    },
    {
     "name": "stdout",
     "output_type": "stream",
     "text": [
      "MAE of Train: 5.205487053122063\n",
      "MAE of Validation: 5.352984767739379\n"
     ]
    },
    {
     "name": "stderr",
     "output_type": "stream",
     "text": [
      "\u001b[32m[I 2022-03-27 03:57:32,656]\u001b[0m Trial 149 finished with value: 5.351057120729562 and parameters: {'random_state': 519632, 'learning_rate': 0.13528044249075127, 'bagging_temperature': 1.0477978227104292, 'max_depth': 9, 'random_strength': 11, 'l2_leaf_reg': 5.898036975049116e-06, 'min_child_samples': 53, 'max_bin': 479, 'od_type': 'IncToDec', 'task_type': 'GPU', 'loss_function': 'MAE', 'eval_metric': 'MAE'}. Best is trial 121 with value: 5.343377942063889.\u001b[0m\n"
     ]
    },
    {
     "name": "stdout",
     "output_type": "stream",
     "text": [
      "MAE of Train: 5.169953061484213\n",
      "MAE of Validation: 5.351057120729562\n"
     ]
    },
    {
     "name": "stderr",
     "output_type": "stream",
     "text": [
      "\u001b[32m[I 2022-03-27 03:57:38,272]\u001b[0m Trial 150 finished with value: 10.226342678417424 and parameters: {'random_state': 519632, 'learning_rate': 0.00045564573227158253, 'bagging_temperature': 0.5015379055489102, 'max_depth': 9, 'random_strength': 9, 'l2_leaf_reg': 7.89534265717636e-06, 'min_child_samples': 55, 'max_bin': 476, 'od_type': 'IncToDec', 'task_type': 'GPU', 'loss_function': 'MAE', 'eval_metric': 'MAE'}. Best is trial 121 with value: 5.343377942063889.\u001b[0m\n"
     ]
    },
    {
     "name": "stdout",
     "output_type": "stream",
     "text": [
      "MAE of Train: 10.22114044966085\n",
      "MAE of Validation: 10.226342678417424\n"
     ]
    },
    {
     "name": "stderr",
     "output_type": "stream",
     "text": [
      "\u001b[32m[I 2022-03-27 03:57:44,213]\u001b[0m Trial 151 finished with value: 5.349364491289513 and parameters: {'random_state': 519632, 'learning_rate': 0.06181004736350837, 'bagging_temperature': 2.1197008884601174, 'max_depth': 9, 'random_strength': 7, 'l2_leaf_reg': 1.1114008985547665e-05, 'min_child_samples': 50, 'max_bin': 489, 'od_type': 'IncToDec', 'task_type': 'GPU', 'loss_function': 'MAE', 'eval_metric': 'MAE'}. Best is trial 121 with value: 5.343377942063889.\u001b[0m\n"
     ]
    },
    {
     "name": "stdout",
     "output_type": "stream",
     "text": [
      "MAE of Train: 5.162771868394527\n",
      "MAE of Validation: 5.349364491289513\n"
     ]
    },
    {
     "name": "stderr",
     "output_type": "stream",
     "text": [
      "\u001b[32m[I 2022-03-27 03:57:49,983]\u001b[0m Trial 152 finished with value: 5.348681136499719 and parameters: {'random_state': 519632, 'learning_rate': 0.07638579383266365, 'bagging_temperature': 1.9355716076164562, 'max_depth': 9, 'random_strength': 8, 'l2_leaf_reg': 9.021220958117021e-06, 'min_child_samples': 56, 'max_bin': 487, 'od_type': 'IncToDec', 'task_type': 'GPU', 'loss_function': 'MAE', 'eval_metric': 'MAE'}. Best is trial 121 with value: 5.343377942063889.\u001b[0m\n"
     ]
    },
    {
     "name": "stdout",
     "output_type": "stream",
     "text": [
      "MAE of Train: 5.13999265733477\n",
      "MAE of Validation: 5.348681136499719\n"
     ]
    },
    {
     "name": "stderr",
     "output_type": "stream",
     "text": [
      "\u001b[32m[I 2022-03-27 03:57:53,709]\u001b[0m Trial 153 finished with value: 5.4469267869760705 and parameters: {'random_state': 519632, 'learning_rate': 0.08289830169846744, 'bagging_temperature': 2.0343091050495974, 'max_depth': 4, 'random_strength': 3, 'l2_leaf_reg': 8.76917808855152e-06, 'min_child_samples': 57, 'max_bin': 487, 'od_type': 'IncToDec', 'task_type': 'GPU', 'loss_function': 'MAE', 'eval_metric': 'MAE'}. Best is trial 121 with value: 5.343377942063889.\u001b[0m\n"
     ]
    },
    {
     "name": "stdout",
     "output_type": "stream",
     "text": [
      "MAE of Train: 5.458710992596955\n",
      "MAE of Validation: 5.4469267869760705\n"
     ]
    },
    {
     "name": "stderr",
     "output_type": "stream",
     "text": [
      "\u001b[32m[I 2022-03-27 03:57:59,812]\u001b[0m Trial 154 finished with value: 5.351117158616919 and parameters: {'random_state': 519632, 'learning_rate': 0.05753265240498437, 'bagging_temperature': 2.612649770243976, 'max_depth': 9, 'random_strength': 12, 'l2_leaf_reg': 1.0425711496990908e-05, 'min_child_samples': 62, 'max_bin': 471, 'od_type': 'IncToDec', 'task_type': 'GPU', 'loss_function': 'MAE', 'eval_metric': 'MAE'}. Best is trial 121 with value: 5.343377942063889.\u001b[0m\n"
     ]
    },
    {
     "name": "stdout",
     "output_type": "stream",
     "text": [
      "MAE of Train: 5.176074732856425\n",
      "MAE of Validation: 5.351117158616919\n"
     ]
    },
    {
     "name": "stderr",
     "output_type": "stream",
     "text": [
      "\u001b[32m[I 2022-03-27 03:58:05,788]\u001b[0m Trial 155 finished with value: 5.356696731893014 and parameters: {'random_state': 519632, 'learning_rate': 0.04532620043489447, 'bagging_temperature': 3.77963191426889, 'max_depth': 9, 'random_strength': 5, 'l2_leaf_reg': 9.507060005097088e-06, 'min_child_samples': 55, 'max_bin': 478, 'od_type': 'IncToDec', 'task_type': 'GPU', 'loss_function': 'MAE', 'eval_metric': 'MAE'}. Best is trial 121 with value: 5.343377942063889.\u001b[0m\n"
     ]
    },
    {
     "name": "stdout",
     "output_type": "stream",
     "text": [
      "MAE of Train: 5.216694000163935\n",
      "MAE of Validation: 5.356696731893014\n"
     ]
    },
    {
     "name": "stderr",
     "output_type": "stream",
     "text": [
      "\u001b[32m[I 2022-03-27 03:58:09,200]\u001b[0m Trial 156 finished with value: 5.35586445144901 and parameters: {'random_state': 519632, 'learning_rate': 0.10981766405018407, 'bagging_temperature': 2.0841585420657633, 'max_depth': 9, 'random_strength': 8, 'l2_leaf_reg': 1.1833111709374047e-05, 'min_child_samples': 52, 'max_bin': 463, 'od_type': 'IncToDec', 'task_type': 'GPU', 'loss_function': 'MAE', 'eval_metric': 'MAE'}. Best is trial 121 with value: 5.343377942063889.\u001b[0m\n"
     ]
    },
    {
     "name": "stdout",
     "output_type": "stream",
     "text": [
      "MAE of Train: 5.18349092037607\n",
      "MAE of Validation: 5.35586445144901\n"
     ]
    },
    {
     "name": "stderr",
     "output_type": "stream",
     "text": [
      "\u001b[32m[I 2022-03-27 03:58:14,273]\u001b[0m Trial 157 finished with value: 5.346755022317521 and parameters: {'random_state': 519632, 'learning_rate': 0.08011420490757669, 'bagging_temperature': 0.7290875262852645, 'max_depth': 9, 'random_strength': 8, 'l2_leaf_reg': 1.2866111175992629e-05, 'min_child_samples': 50, 'max_bin': 488, 'od_type': 'IncToDec', 'task_type': 'GPU', 'loss_function': 'MAE', 'eval_metric': 'MAE'}. Best is trial 121 with value: 5.343377942063889.\u001b[0m\n"
     ]
    },
    {
     "name": "stdout",
     "output_type": "stream",
     "text": [
      "MAE of Train: 5.188257048289268\n",
      "MAE of Validation: 5.346755022317521\n"
     ]
    },
    {
     "name": "stderr",
     "output_type": "stream",
     "text": [
      "\u001b[32m[I 2022-03-27 03:58:19,099]\u001b[0m Trial 158 finished with value: 5.347852561624003 and parameters: {'random_state': 519632, 'learning_rate': 0.09081530094463679, 'bagging_temperature': 0.7412236273032152, 'max_depth': 9, 'random_strength': 6, 'l2_leaf_reg': 1.303719081375142e-05, 'min_child_samples': 50, 'max_bin': 487, 'od_type': 'IncToDec', 'task_type': 'GPU', 'loss_function': 'MAE', 'eval_metric': 'MAE'}. Best is trial 121 with value: 5.343377942063889.\u001b[0m\n"
     ]
    },
    {
     "name": "stdout",
     "output_type": "stream",
     "text": [
      "MAE of Train: 5.177760399570983\n",
      "MAE of Validation: 5.347852561624003\n"
     ]
    },
    {
     "name": "stderr",
     "output_type": "stream",
     "text": [
      "\u001b[32m[I 2022-03-27 03:58:21,708]\u001b[0m Trial 159 finished with value: 5.357403381692157 and parameters: {'random_state': 519632, 'learning_rate': 0.15401017854583068, 'bagging_temperature': 0.7326287878988386, 'max_depth': 9, 'random_strength': 12, 'l2_leaf_reg': 1.3181287144102373e-05, 'min_child_samples': 49, 'max_bin': 484, 'od_type': 'IncToDec', 'task_type': 'GPU', 'loss_function': 'MAE', 'eval_metric': 'MAE'}. Best is trial 121 with value: 5.343377942063889.\u001b[0m\n"
     ]
    },
    {
     "name": "stdout",
     "output_type": "stream",
     "text": [
      "MAE of Train: 5.211707171504644\n",
      "MAE of Validation: 5.357403381692157\n"
     ]
    },
    {
     "name": "stderr",
     "output_type": "stream",
     "text": [
      "\u001b[32m[I 2022-03-27 03:58:25,656]\u001b[0m Trial 160 finished with value: 5.356689435861666 and parameters: {'random_state': 519632, 'learning_rate': 0.09007880180283974, 'bagging_temperature': 0.5026874031646058, 'max_depth': 9, 'random_strength': 4, 'l2_leaf_reg': 6.416424744351745e-06, 'min_child_samples': 45, 'max_bin': 493, 'od_type': 'IncToDec', 'task_type': 'GPU', 'loss_function': 'MAE', 'eval_metric': 'MAE'}. Best is trial 121 with value: 5.343377942063889.\u001b[0m\n"
     ]
    },
    {
     "name": "stdout",
     "output_type": "stream",
     "text": [
      "MAE of Train: 5.229022278422958\n",
      "MAE of Validation: 5.356689435861666\n"
     ]
    },
    {
     "name": "stderr",
     "output_type": "stream",
     "text": [
      "\u001b[32m[I 2022-03-27 03:58:27,359]\u001b[0m Trial 161 finished with value: 5.431327203914353 and parameters: {'random_state': 519632, 'learning_rate': 0.07254406369340048, 'bagging_temperature': 0.6675547121149237, 'max_depth': 9, 'random_strength': 0, 'l2_leaf_reg': 1.3904455761242207e-05, 'min_child_samples': 50, 'max_bin': 485, 'od_type': 'IncToDec', 'task_type': 'GPU', 'loss_function': 'MAE', 'eval_metric': 'MAE'}. Best is trial 121 with value: 5.343377942063889.\u001b[0m\n"
     ]
    },
    {
     "name": "stdout",
     "output_type": "stream",
     "text": [
      "MAE of Train: 5.423055449105816\n",
      "MAE of Validation: 5.431327203914353\n"
     ]
    },
    {
     "name": "stderr",
     "output_type": "stream",
     "text": [
      "\u001b[32m[I 2022-03-27 03:58:32,944]\u001b[0m Trial 162 finished with value: 5.347170950904649 and parameters: {'random_state': 519632, 'learning_rate': 0.07921359013627113, 'bagging_temperature': 1.0543828367063448, 'max_depth': 9, 'random_strength': 18, 'l2_leaf_reg': 1.2618553549805494e-05, 'min_child_samples': 47, 'max_bin': 488, 'od_type': 'IncToDec', 'task_type': 'GPU', 'loss_function': 'MAE', 'eval_metric': 'MAE'}. Best is trial 121 with value: 5.343377942063889.\u001b[0m\n"
     ]
    },
    {
     "name": "stdout",
     "output_type": "stream",
     "text": [
      "MAE of Train: 5.148553528421981\n",
      "MAE of Validation: 5.347170950904649\n"
     ]
    },
    {
     "name": "stderr",
     "output_type": "stream",
     "text": [
      "\u001b[32m[I 2022-03-27 03:58:37,945]\u001b[0m Trial 163 finished with value: 5.349864779122138 and parameters: {'random_state': 519632, 'learning_rate': 0.08159273441117161, 'bagging_temperature': 1.0123605492018635, 'max_depth': 9, 'random_strength': 18, 'l2_leaf_reg': 1.2541158828291548e-05, 'min_child_samples': 47, 'max_bin': 478, 'od_type': 'IncToDec', 'task_type': 'GPU', 'loss_function': 'MAE', 'eval_metric': 'MAE'}. Best is trial 121 with value: 5.343377942063889.\u001b[0m\n"
     ]
    },
    {
     "name": "stdout",
     "output_type": "stream",
     "text": [
      "MAE of Train: 5.175542296812285\n",
      "MAE of Validation: 5.349864779122138\n"
     ]
    },
    {
     "name": "stderr",
     "output_type": "stream",
     "text": [
      "\u001b[32m[I 2022-03-27 03:58:41,229]\u001b[0m Trial 164 finished with value: 5.362174831461911 and parameters: {'random_state': 519632, 'learning_rate': 0.11946350631604154, 'bagging_temperature': 0.8058141315227891, 'max_depth': 9, 'random_strength': 23, 'l2_leaf_reg': 7.153233486064097e-06, 'min_child_samples': 54, 'max_bin': 489, 'od_type': 'IncToDec', 'task_type': 'GPU', 'loss_function': 'MAE', 'eval_metric': 'MAE'}. Best is trial 121 with value: 5.343377942063889.\u001b[0m\n"
     ]
    },
    {
     "name": "stdout",
     "output_type": "stream",
     "text": [
      "MAE of Train: 5.23021520304706\n",
      "MAE of Validation: 5.362174831461911\n"
     ]
    },
    {
     "name": "stderr",
     "output_type": "stream",
     "text": [
      "\u001b[32m[I 2022-03-27 03:58:44,480]\u001b[0m Trial 165 finished with value: 5.3577825286057275 and parameters: {'random_state': 519632, 'learning_rate': 0.0999829489221821, 'bagging_temperature': 1.2164725378861474, 'max_depth': 9, 'random_strength': 14, 'l2_leaf_reg': 1.4571169148632192e-05, 'min_child_samples': 48, 'max_bin': 471, 'od_type': 'IncToDec', 'task_type': 'GPU', 'loss_function': 'MAE', 'eval_metric': 'MAE'}. Best is trial 121 with value: 5.343377942063889.\u001b[0m\n"
     ]
    },
    {
     "name": "stdout",
     "output_type": "stream",
     "text": [
      "MAE of Train: 5.235747753522197\n",
      "MAE of Validation: 5.3577825286057275\n"
     ]
    },
    {
     "name": "stderr",
     "output_type": "stream",
     "text": [
      "\u001b[32m[I 2022-03-27 03:58:48,425]\u001b[0m Trial 166 finished with value: 5.356117785290352 and parameters: {'random_state': 519632, 'learning_rate': 0.07828004871111492, 'bagging_temperature': 0.42591539971436976, 'max_depth': 9, 'random_strength': 6, 'l2_leaf_reg': 1.2834586613347286e-05, 'min_child_samples': 95, 'max_bin': 482, 'od_type': 'IncToDec', 'task_type': 'GPU', 'loss_function': 'MAE', 'eval_metric': 'MAE'}. Best is trial 121 with value: 5.343377942063889.\u001b[0m\n"
     ]
    },
    {
     "name": "stdout",
     "output_type": "stream",
     "text": [
      "MAE of Train: 5.251757017833863\n",
      "MAE of Validation: 5.356117785290352\n"
     ]
    },
    {
     "name": "stderr",
     "output_type": "stream",
     "text": [
      "\u001b[32m[I 2022-03-27 03:58:52,599]\u001b[0m Trial 167 finished with value: 5.3531740963101795 and parameters: {'random_state': 519632, 'learning_rate': 0.0949342703820524, 'bagging_temperature': 0.915128826210117, 'max_depth': 9, 'random_strength': 10, 'l2_leaf_reg': 1.2125870458705797e-05, 'min_child_samples': 67, 'max_bin': 477, 'od_type': 'IncToDec', 'task_type': 'GPU', 'loss_function': 'MAE', 'eval_metric': 'MAE'}. Best is trial 121 with value: 5.343377942063889.\u001b[0m\n"
     ]
    },
    {
     "name": "stdout",
     "output_type": "stream",
     "text": [
      "MAE of Train: 5.198180020643503\n",
      "MAE of Validation: 5.3531740963101795\n"
     ]
    },
    {
     "name": "stderr",
     "output_type": "stream",
     "text": [
      "\u001b[32m[I 2022-03-27 03:58:58,475]\u001b[0m Trial 168 finished with value: 5.352678658664496 and parameters: {'random_state': 519632, 'learning_rate': 0.05069611016837477, 'bagging_temperature': 0.5789754374590986, 'max_depth': 9, 'random_strength': 24, 'l2_leaf_reg': 7.857239504647671e-06, 'min_child_samples': 45, 'max_bin': 495, 'od_type': 'IncToDec', 'task_type': 'GPU', 'loss_function': 'MAE', 'eval_metric': 'MAE'}. Best is trial 121 with value: 5.343377942063889.\u001b[0m\n"
     ]
    },
    {
     "name": "stdout",
     "output_type": "stream",
     "text": [
      "MAE of Train: 5.240864428926316\n",
      "MAE of Validation: 5.352678658664496\n"
     ]
    },
    {
     "name": "stderr",
     "output_type": "stream",
     "text": [
      "\u001b[32m[I 2022-03-27 03:59:04,390]\u001b[0m Trial 169 finished with value: 5.349109724904707 and parameters: {'random_state': 519632, 'learning_rate': 0.06749873353512967, 'bagging_temperature': 1.4708085344399169, 'max_depth': 9, 'random_strength': 27, 'l2_leaf_reg': 1.0035330811440878e-05, 'min_child_samples': 57, 'max_bin': 488, 'od_type': 'IncToDec', 'task_type': 'GPU', 'loss_function': 'MAE', 'eval_metric': 'MAE'}. Best is trial 121 with value: 5.343377942063889.\u001b[0m\n"
     ]
    },
    {
     "name": "stdout",
     "output_type": "stream",
     "text": [
      "MAE of Train: 5.161328887866455\n",
      "MAE of Validation: 5.349109724904707\n"
     ]
    },
    {
     "name": "stderr",
     "output_type": "stream",
     "text": [
      "\u001b[32m[I 2022-03-27 03:59:07,110]\u001b[0m Trial 170 finished with value: 5.357908797501036 and parameters: {'random_state': 519632, 'learning_rate': 0.173097451867779, 'bagging_temperature': 1.0988753574629924, 'max_depth': 9, 'random_strength': 16, 'l2_leaf_reg': 5.289110113007362e-06, 'min_child_samples': 53, 'max_bin': 458, 'od_type': 'IncToDec', 'task_type': 'GPU', 'loss_function': 'MAE', 'eval_metric': 'MAE'}. Best is trial 121 with value: 5.343377942063889.\u001b[0m\n"
     ]
    },
    {
     "name": "stdout",
     "output_type": "stream",
     "text": [
      "MAE of Train: 5.194556262624589\n",
      "MAE of Validation: 5.357908797501036\n"
     ]
    },
    {
     "name": "stderr",
     "output_type": "stream",
     "text": [
      "\u001b[32m[I 2022-03-27 03:59:13,051]\u001b[0m Trial 171 finished with value: 5.346631838652473 and parameters: {'random_state': 519632, 'learning_rate': 0.06483529548156983, 'bagging_temperature': 1.547927981092383, 'max_depth': 9, 'random_strength': 27, 'l2_leaf_reg': 1.1356051060458495e-05, 'min_child_samples': 58, 'max_bin': 488, 'od_type': 'IncToDec', 'task_type': 'GPU', 'loss_function': 'MAE', 'eval_metric': 'MAE'}. Best is trial 121 with value: 5.343377942063889.\u001b[0m\n"
     ]
    },
    {
     "name": "stdout",
     "output_type": "stream",
     "text": [
      "MAE of Train: 5.166014405466418\n",
      "MAE of Validation: 5.346631838652473\n"
     ]
    },
    {
     "name": "stderr",
     "output_type": "stream",
     "text": [
      "\u001b[32m[I 2022-03-27 03:59:13,571]\u001b[0m Trial 172 finished with value: 13.91781104801239 and parameters: {'random_state': 519632, 'learning_rate': 0.08220845737390782, 'bagging_temperature': 95.57630202425865, 'max_depth': 9, 'random_strength': 30, 'l2_leaf_reg': 1.1499442182302121e-05, 'min_child_samples': 47, 'max_bin': 484, 'od_type': 'IncToDec', 'task_type': 'GPU', 'loss_function': 'MAE', 'eval_metric': 'MAE'}. Best is trial 121 with value: 5.343377942063889.\u001b[0m\n"
     ]
    },
    {
     "name": "stdout",
     "output_type": "stream",
     "text": [
      "MAE of Train: 13.91636551368095\n",
      "MAE of Validation: 13.91781104801239\n"
     ]
    },
    {
     "name": "stderr",
     "output_type": "stream",
     "text": [
      "\u001b[32m[I 2022-03-27 03:59:19,544]\u001b[0m Trial 173 finished with value: 5.345417279792975 and parameters: {'random_state': 519632, 'learning_rate': 0.06516902372991336, 'bagging_temperature': 0.7765252612908202, 'max_depth': 9, 'random_strength': 33, 'l2_leaf_reg': 1.3543442731999313e-05, 'min_child_samples': 60, 'max_bin': 493, 'od_type': 'IncToDec', 'task_type': 'GPU', 'loss_function': 'MAE', 'eval_metric': 'MAE'}. Best is trial 121 with value: 5.343377942063889.\u001b[0m\n"
     ]
    },
    {
     "name": "stdout",
     "output_type": "stream",
     "text": [
      "MAE of Train: 5.184616468462268\n",
      "MAE of Validation: 5.345417279792975\n"
     ]
    },
    {
     "name": "stderr",
     "output_type": "stream",
     "text": [
      "\u001b[32m[I 2022-03-27 03:59:25,287]\u001b[0m Trial 174 finished with value: 5.3517357091214555 and parameters: {'random_state': 519632, 'learning_rate': 0.07111427083401563, 'bagging_temperature': 0.7122253333872913, 'max_depth': 9, 'random_strength': 32, 'l2_leaf_reg': 1.456911414203815e-05, 'min_child_samples': 62, 'max_bin': 493, 'od_type': 'IncToDec', 'task_type': 'GPU', 'loss_function': 'MAE', 'eval_metric': 'MAE'}. Best is trial 121 with value: 5.343377942063889.\u001b[0m\n"
     ]
    },
    {
     "name": "stdout",
     "output_type": "stream",
     "text": [
      "MAE of Train: 5.1953859211266415\n",
      "MAE of Validation: 5.3517357091214555\n"
     ]
    },
    {
     "name": "stderr",
     "output_type": "stream",
     "text": [
      "\u001b[32m[I 2022-03-27 03:59:28,740]\u001b[0m Trial 175 finished with value: 5.35609567622277 and parameters: {'random_state': 519632, 'learning_rate': 0.12333880303753077, 'bagging_temperature': 0.8252826710279396, 'max_depth': 9, 'random_strength': 13, 'l2_leaf_reg': 1.3592703152655359e-05, 'min_child_samples': 59, 'max_bin': 478, 'od_type': 'IncToDec', 'task_type': 'GPU', 'loss_function': 'MAE', 'eval_metric': 'MAE'}. Best is trial 121 with value: 5.343377942063889.\u001b[0m\n"
     ]
    },
    {
     "name": "stdout",
     "output_type": "stream",
     "text": [
      "MAE of Train: 5.193022368216469\n",
      "MAE of Validation: 5.35609567622277\n"
     ]
    },
    {
     "name": "stderr",
     "output_type": "stream",
     "text": [
      "\u001b[32m[I 2022-03-27 03:59:34,577]\u001b[0m Trial 176 finished with value: 5.355663150750233 and parameters: {'random_state': 519632, 'learning_rate': 0.05168767624965135, 'bagging_temperature': 0.5950793972141576, 'max_depth': 9, 'random_strength': 27, 'l2_leaf_reg': 1.5800599344145715e-05, 'min_child_samples': 63, 'max_bin': 248, 'od_type': 'IncToDec', 'task_type': 'GPU', 'loss_function': 'MAE', 'eval_metric': 'MAE'}. Best is trial 121 with value: 5.343377942063889.\u001b[0m\n"
     ]
    },
    {
     "name": "stdout",
     "output_type": "stream",
     "text": [
      "MAE of Train: 5.247853645274045\n",
      "MAE of Validation: 5.355663150750233\n"
     ]
    },
    {
     "name": "stderr",
     "output_type": "stream",
     "text": [
      "\u001b[32m[I 2022-03-27 03:59:38,778]\u001b[0m Trial 177 finished with value: 5.34981798320811 and parameters: {'random_state': 519632, 'learning_rate': 0.10425243250977638, 'bagging_temperature': 1.1186932271463994, 'max_depth': 9, 'random_strength': 20, 'l2_leaf_reg': 1.2358790645297365e-05, 'min_child_samples': 59, 'max_bin': 468, 'od_type': 'IncToDec', 'task_type': 'GPU', 'loss_function': 'MAE', 'eval_metric': 'MAE'}. Best is trial 121 with value: 5.343377942063889.\u001b[0m\n"
     ]
    },
    {
     "name": "stdout",
     "output_type": "stream",
     "text": [
      "MAE of Train: 5.162269014300568\n",
      "MAE of Validation: 5.34981798320811\n"
     ]
    },
    {
     "name": "stderr",
     "output_type": "stream",
     "text": [
      "\u001b[32m[I 2022-03-27 03:59:44,426]\u001b[0m Trial 178 finished with value: 5.492443062299025 and parameters: {'random_state': 519632, 'learning_rate': 0.005531619686727471, 'bagging_temperature': 0.891273514899591, 'max_depth': 9, 'random_strength': 23, 'l2_leaf_reg': 1.336000048436387e-05, 'min_child_samples': 60, 'max_bin': 493, 'od_type': 'IncToDec', 'task_type': 'GPU', 'loss_function': 'MAE', 'eval_metric': 'MAE'}. Best is trial 121 with value: 5.343377942063889.\u001b[0m\n"
     ]
    },
    {
     "name": "stdout",
     "output_type": "stream",
     "text": [
      "MAE of Train: 5.498563744911999\n",
      "MAE of Validation: 5.492443062299025\n"
     ]
    },
    {
     "name": "stderr",
     "output_type": "stream",
     "text": [
      "\u001b[32m[I 2022-03-27 03:59:50,299]\u001b[0m Trial 179 finished with value: 5.357921622806072 and parameters: {'random_state': 519632, 'learning_rate': 0.040410979838004006, 'bagging_temperature': 1.2899532732497365, 'max_depth': 9, 'random_strength': 9, 'l2_leaf_reg': 1.2948634296761286e-05, 'min_child_samples': 55, 'max_bin': 475, 'od_type': 'IncToDec', 'task_type': 'GPU', 'loss_function': 'MAE', 'eval_metric': 'MAE'}. Best is trial 121 with value: 5.343377942063889.\u001b[0m\n"
     ]
    },
    {
     "name": "stdout",
     "output_type": "stream",
     "text": [
      "MAE of Train: 5.255788127116713\n",
      "MAE of Validation: 5.357921622806072\n"
     ]
    },
    {
     "name": "stderr",
     "output_type": "stream",
     "text": [
      "\u001b[32m[I 2022-03-27 03:59:55,479]\u001b[0m Trial 180 finished with value: 5.350810342431523 and parameters: {'random_state': 519632, 'learning_rate': 0.08883913424033099, 'bagging_temperature': 1.6580002184951066, 'max_depth': 8, 'random_strength': 29, 'l2_leaf_reg': 1.1656136417384206e-05, 'min_child_samples': 66, 'max_bin': 482, 'od_type': 'IncToDec', 'task_type': 'GPU', 'loss_function': 'MAE', 'eval_metric': 'MAE'}. Best is trial 121 with value: 5.343377942063889.\u001b[0m\n"
     ]
    },
    {
     "name": "stdout",
     "output_type": "stream",
     "text": [
      "MAE of Train: 5.1768890731842525\n",
      "MAE of Validation: 5.350810342431523\n"
     ]
    },
    {
     "name": "stderr",
     "output_type": "stream",
     "text": [
      "\u001b[32m[I 2022-03-27 04:00:01,750]\u001b[0m Trial 181 finished with value: 5.349501296042535 and parameters: {'random_state': 519632, 'learning_rate': 0.057913181760934865, 'bagging_temperature': 1.4581738056647096, 'max_depth': 9, 'random_strength': 32, 'l2_leaf_reg': 8.091744446583743e-06, 'min_child_samples': 45, 'max_bin': 488, 'od_type': 'IncToDec', 'task_type': 'GPU', 'loss_function': 'MAE', 'eval_metric': 'MAE'}. Best is trial 121 with value: 5.343377942063889.\u001b[0m\n"
     ]
    },
    {
     "name": "stdout",
     "output_type": "stream",
     "text": [
      "MAE of Train: 5.1918711618462945\n",
      "MAE of Validation: 5.349501296042535\n"
     ]
    },
    {
     "name": "stderr",
     "output_type": "stream",
     "text": [
      "\u001b[32m[I 2022-03-27 04:00:07,863]\u001b[0m Trial 182 finished with value: 5.350794406489107 and parameters: {'random_state': 519632, 'learning_rate': 0.06515764297052135, 'bagging_temperature': 0.9932407735380936, 'max_depth': 9, 'random_strength': 26, 'l2_leaf_reg': 9.437192986106e-06, 'min_child_samples': 51, 'max_bin': 487, 'od_type': 'IncToDec', 'task_type': 'GPU', 'loss_function': 'MAE', 'eval_metric': 'MAE'}. Best is trial 121 with value: 5.343377942063889.\u001b[0m\n"
     ]
    },
    {
     "name": "stdout",
     "output_type": "stream",
     "text": [
      "MAE of Train: 5.174995169152108\n",
      "MAE of Validation: 5.350794406489107\n"
     ]
    },
    {
     "name": "stderr",
     "output_type": "stream",
     "text": [
      "\u001b[32m[I 2022-03-27 04:00:13,026]\u001b[0m Trial 183 finished with value: 5.350949668132552 and parameters: {'random_state': 519632, 'learning_rate': 0.07776195368954168, 'bagging_temperature': 0.767469452532763, 'max_depth': 9, 'random_strength': 32, 'l2_leaf_reg': 1.4071670286428447e-05, 'min_child_samples': 49, 'max_bin': 496, 'od_type': 'IncToDec', 'task_type': 'GPU', 'loss_function': 'MAE', 'eval_metric': 'MAE'}. Best is trial 121 with value: 5.343377942063889.\u001b[0m\n"
     ]
    },
    {
     "name": "stdout",
     "output_type": "stream",
     "text": [
      "MAE of Train: 5.197175505961458\n",
      "MAE of Validation: 5.350949668132552\n"
     ]
    },
    {
     "name": "stderr",
     "output_type": "stream",
     "text": [
      "\u001b[32m[I 2022-03-27 04:00:18,087]\u001b[0m Trial 184 finished with value: 5.350963382729128 and parameters: {'random_state': 519632, 'learning_rate': 0.06189833445561749, 'bagging_temperature': 1.7939625588208576, 'max_depth': 9, 'random_strength': 34, 'l2_leaf_reg': 6.5637876182067365e-06, 'min_child_samples': 56, 'max_bin': 323, 'od_type': 'IncToDec', 'task_type': 'GPU', 'loss_function': 'MAE', 'eval_metric': 'MAE'}. Best is trial 121 with value: 5.343377942063889.\u001b[0m\n"
     ]
    },
    {
     "name": "stdout",
     "output_type": "stream",
     "text": [
      "MAE of Train: 5.225532028130175\n",
      "MAE of Validation: 5.350963382729128\n"
     ]
    },
    {
     "name": "stderr",
     "output_type": "stream",
     "text": [
      "\u001b[32m[I 2022-03-27 04:00:23,940]\u001b[0m Trial 185 finished with value: 5.354023042255075 and parameters: {'random_state': 519632, 'learning_rate': 0.0517960118651545, 'bagging_temperature': 1.2247490634966676, 'max_depth': 9, 'random_strength': 34, 'l2_leaf_reg': 9.116523084961151e-06, 'min_child_samples': 42, 'max_bin': 482, 'od_type': 'IncToDec', 'task_type': 'GPU', 'loss_function': 'MAE', 'eval_metric': 'MAE'}. Best is trial 121 with value: 5.343377942063889.\u001b[0m\n"
     ]
    },
    {
     "name": "stdout",
     "output_type": "stream",
     "text": [
      "MAE of Train: 5.224704495415625\n",
      "MAE of Validation: 5.354023042255075\n"
     ]
    },
    {
     "name": "stderr",
     "output_type": "stream",
     "text": [
      "\u001b[32m[I 2022-03-27 04:00:29,432]\u001b[0m Trial 186 finished with value: 5.354725399896026 and parameters: {'random_state': 519632, 'learning_rate': 0.07176949331805468, 'bagging_temperature': 0.5081494320028225, 'max_depth': 9, 'random_strength': 26, 'l2_leaf_reg': 1.0950915717257826e-05, 'min_child_samples': 52, 'max_bin': 471, 'od_type': 'IncToDec', 'task_type': 'GPU', 'loss_function': 'MAE', 'eval_metric': 'MAE'}. Best is trial 121 with value: 5.343377942063889.\u001b[0m\n"
     ]
    },
    {
     "name": "stdout",
     "output_type": "stream",
     "text": [
      "MAE of Train: 5.2001161859665475\n",
      "MAE of Validation: 5.354725399896026\n"
     ]
    },
    {
     "name": "stderr",
     "output_type": "stream",
     "text": [
      "\u001b[32m[I 2022-03-27 04:00:34,153]\u001b[0m Trial 187 finished with value: 5.3546822750384395 and parameters: {'random_state': 519632, 'learning_rate': 0.08262947273685617, 'bagging_temperature': 0.633448513357554, 'max_depth': 9, 'random_strength': 17, 'l2_leaf_reg': 1.2665801744090708e-05, 'min_child_samples': 44, 'max_bin': 500, 'od_type': 'IncToDec', 'task_type': 'GPU', 'loss_function': 'MAE', 'eval_metric': 'MAE'}. Best is trial 121 with value: 5.343377942063889.\u001b[0m\n"
     ]
    },
    {
     "name": "stdout",
     "output_type": "stream",
     "text": [
      "MAE of Train: 5.207498596070886\n",
      "MAE of Validation: 5.3546822750384395\n"
     ]
    },
    {
     "name": "stderr",
     "output_type": "stream",
     "text": [
      "\u001b[32m[I 2022-03-27 04:00:40,024]\u001b[0m Trial 188 finished with value: 5.3557635972035325 and parameters: {'random_state': 519632, 'learning_rate': 0.04704449045494758, 'bagging_temperature': 1.539791876565688, 'max_depth': 9, 'random_strength': 64, 'l2_leaf_reg': 7.63062231226155e-06, 'min_child_samples': 48, 'max_bin': 489, 'od_type': 'IncToDec', 'task_type': 'GPU', 'loss_function': 'MAE', 'eval_metric': 'MAE'}. Best is trial 121 with value: 5.343377942063889.\u001b[0m\n"
     ]
    },
    {
     "name": "stdout",
     "output_type": "stream",
     "text": [
      "MAE of Train: 5.241537726623394\n",
      "MAE of Validation: 5.3557635972035325\n"
     ]
    },
    {
     "name": "stderr",
     "output_type": "stream",
     "text": [
      "\u001b[32m[I 2022-03-27 04:00:43,888]\u001b[0m Trial 189 finished with value: 5.350607599908192 and parameters: {'random_state': 519632, 'learning_rate': 0.10652465859070535, 'bagging_temperature': 0.9844537327932796, 'max_depth': 9, 'random_strength': 37, 'l2_leaf_reg': 1.7035028316518745e-05, 'min_child_samples': 8, 'max_bin': 479, 'od_type': 'IncToDec', 'task_type': 'GPU', 'loss_function': 'MAE', 'eval_metric': 'MAE'}. Best is trial 121 with value: 5.343377942063889.\u001b[0m\n"
     ]
    },
    {
     "name": "stdout",
     "output_type": "stream",
     "text": [
      "MAE of Train: 5.1892763194309435\n",
      "MAE of Validation: 5.350607599908192\n"
     ]
    },
    {
     "name": "stderr",
     "output_type": "stream",
     "text": [
      "\u001b[32m[I 2022-03-27 04:00:49,716]\u001b[0m Trial 190 finished with value: 5.34926859243465 and parameters: {'random_state': 519632, 'learning_rate': 0.0625258423630125, 'bagging_temperature': 1.1697781148768207, 'max_depth': 9, 'random_strength': 22, 'l2_leaf_reg': 7.175788772161313e-06, 'min_child_samples': 40, 'max_bin': 473, 'od_type': 'IncToDec', 'task_type': 'GPU', 'loss_function': 'MAE', 'eval_metric': 'MAE'}. Best is trial 121 with value: 5.343377942063889.\u001b[0m\n"
     ]
    },
    {
     "name": "stdout",
     "output_type": "stream",
     "text": [
      "MAE of Train: 5.185007244124299\n",
      "MAE of Validation: 5.34926859243465\n"
     ]
    },
    {
     "name": "stderr",
     "output_type": "stream",
     "text": [
      "\u001b[32m[I 2022-03-27 04:00:55,555]\u001b[0m Trial 191 finished with value: 5.3460172253361256 and parameters: {'random_state': 519632, 'learning_rate': 0.06859946239065406, 'bagging_temperature': 1.4054179945023912, 'max_depth': 9, 'random_strength': 28, 'l2_leaf_reg': 1.0543481897918919e-05, 'min_child_samples': 57, 'max_bin': 488, 'od_type': 'IncToDec', 'task_type': 'GPU', 'loss_function': 'MAE', 'eval_metric': 'MAE'}. Best is trial 121 with value: 5.343377942063889.\u001b[0m\n"
     ]
    },
    {
     "name": "stdout",
     "output_type": "stream",
     "text": [
      "MAE of Train: 5.161054515453847\n",
      "MAE of Validation: 5.3460172253361256\n"
     ]
    },
    {
     "name": "stderr",
     "output_type": "stream",
     "text": [
      "\u001b[32m[I 2022-03-27 04:01:00,066]\u001b[0m Trial 192 finished with value: 5.3566234662636445 and parameters: {'random_state': 519632, 'learning_rate': 0.09309291063447643, 'bagging_temperature': 1.4446740380562144, 'max_depth': 7, 'random_strength': 28, 'l2_leaf_reg': 1.0422646878449216e-05, 'min_child_samples': 58, 'max_bin': 493, 'od_type': 'IncToDec', 'task_type': 'GPU', 'loss_function': 'MAE', 'eval_metric': 'MAE'}. Best is trial 121 with value: 5.343377942063889.\u001b[0m\n"
     ]
    },
    {
     "name": "stdout",
     "output_type": "stream",
     "text": [
      "MAE of Train: 5.230775415935581\n",
      "MAE of Validation: 5.3566234662636445\n"
     ]
    },
    {
     "name": "stderr",
     "output_type": "stream",
     "text": [
      "\u001b[32m[I 2022-03-27 04:01:04,758]\u001b[0m Trial 193 finished with value: 5.354102052660552 and parameters: {'random_state': 519632, 'learning_rate': 0.06699765063381599, 'bagging_temperature': 2.522942884055412, 'max_depth': 9, 'random_strength': 30, 'l2_leaf_reg': 8.605542351325357e-06, 'min_child_samples': 54, 'max_bin': 486, 'od_type': 'IncToDec', 'task_type': 'GPU', 'loss_function': 'MAE', 'eval_metric': 'MAE'}. Best is trial 121 with value: 5.343377942063889.\u001b[0m\n"
     ]
    },
    {
     "name": "stdout",
     "output_type": "stream",
     "text": [
      "MAE of Train: 5.206118814251056\n",
      "MAE of Validation: 5.354102052660552\n"
     ]
    },
    {
     "name": "stderr",
     "output_type": "stream",
     "text": [
      "\u001b[32m[I 2022-03-27 04:01:10,678]\u001b[0m Trial 194 finished with value: 5.3555903433268375 and parameters: {'random_state': 519632, 'learning_rate': 0.05500567303053349, 'bagging_temperature': 0.017591400412185626, 'max_depth': 9, 'random_strength': 7, 'l2_leaf_reg': 1.146742094840491e-05, 'min_child_samples': 61, 'max_bin': 481, 'od_type': 'IncToDec', 'task_type': 'GPU', 'loss_function': 'MAE', 'eval_metric': 'MAE'}. Best is trial 121 with value: 5.343377942063889.\u001b[0m\n"
     ]
    },
    {
     "name": "stdout",
     "output_type": "stream",
     "text": [
      "MAE of Train: 5.2408794987925145\n",
      "MAE of Validation: 5.3555903433268375\n"
     ]
    },
    {
     "name": "stderr",
     "output_type": "stream",
     "text": [
      "\u001b[32m[I 2022-03-27 04:01:15,394]\u001b[0m Trial 195 finished with value: 5.350011362617148 and parameters: {'random_state': 519632, 'learning_rate': 0.07639205715700942, 'bagging_temperature': 1.8529454022486913, 'max_depth': 9, 'random_strength': 25, 'l2_leaf_reg': 1.2057332157822206e-05, 'min_child_samples': 50, 'max_bin': 465, 'od_type': 'IncToDec', 'task_type': 'GPU', 'loss_function': 'MAE', 'eval_metric': 'MAE'}. Best is trial 121 with value: 5.343377942063889.\u001b[0m\n"
     ]
    },
    {
     "name": "stdout",
     "output_type": "stream",
     "text": [
      "MAE of Train: 5.183787636942193\n",
      "MAE of Validation: 5.350011362617148\n"
     ]
    },
    {
     "name": "stderr",
     "output_type": "stream",
     "text": [
      "\u001b[32m[I 2022-03-27 04:01:17,517]\u001b[0m Trial 196 finished with value: 5.433664413937588 and parameters: {'random_state': 519632, 'learning_rate': 0.09168044375208023, 'bagging_temperature': 0.7760060013182171, 'max_depth': 9, 'random_strength': 1, 'l2_leaf_reg': 1.3588380450219847e-05, 'min_child_samples': 47, 'max_bin': 490, 'od_type': 'IncToDec', 'task_type': 'GPU', 'loss_function': 'MAE', 'eval_metric': 'MAE'}. Best is trial 121 with value: 5.343377942063889.\u001b[0m\n"
     ]
    },
    {
     "name": "stdout",
     "output_type": "stream",
     "text": [
      "MAE of Train: 5.420283716853796\n",
      "MAE of Validation: 5.433664413937588\n"
     ]
    },
    {
     "name": "stderr",
     "output_type": "stream",
     "text": [
      "\u001b[32m[I 2022-03-27 04:01:23,419]\u001b[0m Trial 197 finished with value: 5.351733853427617 and parameters: {'random_state': 519632, 'learning_rate': 0.06130330679965214, 'bagging_temperature': 0.9647630315548201, 'max_depth': 9, 'random_strength': 33, 'l2_leaf_reg': 1.076477493113483e-05, 'min_child_samples': 56, 'max_bin': 479, 'od_type': 'IncToDec', 'task_type': 'GPU', 'loss_function': 'MAE', 'eval_metric': 'MAE'}. Best is trial 121 with value: 5.343377942063889.\u001b[0m\n"
     ]
    },
    {
     "name": "stdout",
     "output_type": "stream",
     "text": [
      "MAE of Train: 5.197072548146009\n",
      "MAE of Validation: 5.351733853427617\n"
     ]
    },
    {
     "name": "stderr",
     "output_type": "stream",
     "text": [
      "\u001b[32m[I 2022-03-27 04:01:29,291]\u001b[0m Trial 198 finished with value: 5.354141464428046 and parameters: {'random_state': 519632, 'learning_rate': 0.042561196604409886, 'bagging_temperature': 1.2723280209765924, 'max_depth': 9, 'random_strength': 11, 'l2_leaf_reg': 8.963579350042067e-06, 'min_child_samples': 44, 'max_bin': 474, 'od_type': 'IncToDec', 'task_type': 'GPU', 'loss_function': 'MAE', 'eval_metric': 'MAE'}. Best is trial 121 with value: 5.343377942063889.\u001b[0m\n"
     ]
    },
    {
     "name": "stdout",
     "output_type": "stream",
     "text": [
      "MAE of Train: 5.247817189585008\n",
      "MAE of Validation: 5.354141464428046\n"
     ]
    },
    {
     "name": "stderr",
     "output_type": "stream",
     "text": [
      "\u001b[32m[I 2022-03-27 04:01:33,567]\u001b[0m Trial 199 finished with value: 5.349946347624376 and parameters: {'random_state': 519632, 'learning_rate': 0.07458160157024069, 'bagging_temperature': 1.6561587909424873, 'max_depth': 9, 'random_strength': 19, 'l2_leaf_reg': 8.06980730574813e-06, 'min_child_samples': 53, 'max_bin': 485, 'od_type': 'IncToDec', 'task_type': 'GPU', 'loss_function': 'MAE', 'eval_metric': 'MAE'}. Best is trial 121 with value: 5.343377942063889.\u001b[0m\n"
     ]
    },
    {
     "name": "stdout",
     "output_type": "stream",
     "text": [
      "MAE of Train: 5.212998303669586\n",
      "MAE of Validation: 5.349946347624376\n"
     ]
    },
    {
     "name": "stderr",
     "output_type": "stream",
     "text": [
      "\u001b[32m[I 2022-03-27 04:01:37,071]\u001b[0m Trial 200 finished with value: 5.357421278096637 and parameters: {'random_state': 519632, 'learning_rate': 0.11862027215081462, 'bagging_temperature': 2.2964910259758065, 'max_depth': 9, 'random_strength': 43, 'l2_leaf_reg': 9.854745161429947e-06, 'min_child_samples': 51, 'max_bin': 497, 'od_type': 'IncToDec', 'task_type': 'GPU', 'loss_function': 'MAE', 'eval_metric': 'MAE'}. Best is trial 121 with value: 5.343377942063889.\u001b[0m\n"
     ]
    },
    {
     "name": "stdout",
     "output_type": "stream",
     "text": [
      "MAE of Train: 5.174119106618509\n",
      "MAE of Validation: 5.357421278096637\n"
     ]
    },
    {
     "name": "stderr",
     "output_type": "stream",
     "text": [
      "\u001b[32m[I 2022-03-27 04:01:42,743]\u001b[0m Trial 201 finished with value: 5.346259874282649 and parameters: {'random_state': 519632, 'learning_rate': 0.0641945253808902, 'bagging_temperature': 1.4408401774602566, 'max_depth': 9, 'random_strength': 27, 'l2_leaf_reg': 9.948976414598926e-06, 'min_child_samples': 57, 'max_bin': 490, 'od_type': 'IncToDec', 'task_type': 'GPU', 'loss_function': 'MAE', 'eval_metric': 'MAE'}. Best is trial 121 with value: 5.343377942063889.\u001b[0m\n"
     ]
    },
    {
     "name": "stdout",
     "output_type": "stream",
     "text": [
      "MAE of Train: 5.18537030940193\n",
      "MAE of Validation: 5.346259874282649\n"
     ]
    },
    {
     "name": "stderr",
     "output_type": "stream",
     "text": [
      "\u001b[32m[I 2022-03-27 04:01:48,606]\u001b[0m Trial 202 finished with value: 5.349710028043662 and parameters: {'random_state': 519632, 'learning_rate': 0.055465937219930095, 'bagging_temperature': 1.4290727330244017, 'max_depth': 9, 'random_strength': 29, 'l2_leaf_reg': 9.641622612115474e-06, 'min_child_samples': 58, 'max_bin': 491, 'od_type': 'IncToDec', 'task_type': 'GPU', 'loss_function': 'MAE', 'eval_metric': 'MAE'}. Best is trial 121 with value: 5.343377942063889.\u001b[0m\n"
     ]
    },
    {
     "name": "stdout",
     "output_type": "stream",
     "text": [
      "MAE of Train: 5.196416516112966\n",
      "MAE of Validation: 5.349710028043662\n"
     ]
    },
    {
     "name": "stderr",
     "output_type": "stream",
     "text": [
      "\u001b[32m[I 2022-03-27 04:01:54,451]\u001b[0m Trial 203 finished with value: 5.3481536063091655 and parameters: {'random_state': 519632, 'learning_rate': 0.06697298586623793, 'bagging_temperature': 1.0964157975571767, 'max_depth': 9, 'random_strength': 30, 'l2_leaf_reg': 1.129526519883402e-05, 'min_child_samples': 54, 'max_bin': 484, 'od_type': 'IncToDec', 'task_type': 'GPU', 'loss_function': 'MAE', 'eval_metric': 'MAE'}. Best is trial 121 with value: 5.343377942063889.\u001b[0m\n"
     ]
    },
    {
     "name": "stdout",
     "output_type": "stream",
     "text": [
      "MAE of Train: 5.170101583914158\n",
      "MAE of Validation: 5.3481536063091655\n"
     ]
    },
    {
     "name": "stderr",
     "output_type": "stream",
     "text": [
      "\u001b[32m[I 2022-03-27 04:01:59,318]\u001b[0m Trial 204 finished with value: 5.3490918741835465 and parameters: {'random_state': 519632, 'learning_rate': 0.08407329387189441, 'bagging_temperature': 1.0757692248747717, 'max_depth': 9, 'random_strength': 24, 'l2_leaf_reg': 1.1234142387928518e-05, 'min_child_samples': 56, 'max_bin': 479, 'od_type': 'IncToDec', 'task_type': 'GPU', 'loss_function': 'MAE', 'eval_metric': 'MAE'}. Best is trial 121 with value: 5.343377942063889.\u001b[0m\n"
     ]
    },
    {
     "name": "stdout",
     "output_type": "stream",
     "text": [
      "MAE of Train: 5.176963424977155\n",
      "MAE of Validation: 5.3490918741835465\n"
     ]
    },
    {
     "name": "stderr",
     "output_type": "stream",
     "text": [
      "\u001b[32m[I 2022-03-27 04:02:05,176]\u001b[0m Trial 205 finished with value: 5.348805836565626 and parameters: {'random_state': 519632, 'learning_rate': 0.07016608153267974, 'bagging_temperature': 0.8340944607601806, 'max_depth': 9, 'random_strength': 31, 'l2_leaf_reg': 1.19142384061868e-05, 'min_child_samples': 60, 'max_bin': 495, 'od_type': 'IncToDec', 'task_type': 'GPU', 'loss_function': 'MAE', 'eval_metric': 'MAE'}. Best is trial 121 with value: 5.343377942063889.\u001b[0m\n"
     ]
    },
    {
     "name": "stdout",
     "output_type": "stream",
     "text": [
      "MAE of Train: 5.172577641213763\n",
      "MAE of Validation: 5.348805836565626\n"
     ]
    },
    {
     "name": "stderr",
     "output_type": "stream",
     "text": [
      "\u001b[32m[I 2022-03-27 04:02:11,057]\u001b[0m Trial 206 finished with value: 5.357720620428608 and parameters: {'random_state': 519632, 'learning_rate': 0.04719620610670047, 'bagging_temperature': 0.6535559531248916, 'max_depth': 9, 'random_strength': 28, 'l2_leaf_reg': 1.2936642174463551e-05, 'min_child_samples': 64, 'max_bin': 484, 'od_type': 'IncToDec', 'task_type': 'GPU', 'loss_function': 'MAE', 'eval_metric': 'MAE'}. Best is trial 121 with value: 5.343377942063889.\u001b[0m\n"
     ]
    },
    {
     "name": "stdout",
     "output_type": "stream",
     "text": [
      "MAE of Train: 5.253204925000242\n",
      "MAE of Validation: 5.357720620428608\n"
     ]
    },
    {
     "name": "stderr",
     "output_type": "stream",
     "text": [
      "\u001b[32m[I 2022-03-27 04:02:15,332]\u001b[0m Trial 207 finished with value: 5.35103449881836 and parameters: {'random_state': 519632, 'learning_rate': 0.09219582832583399, 'bagging_temperature': 1.1437816337938718, 'max_depth': 9, 'random_strength': 15, 'l2_leaf_reg': 1.062092448675256e-05, 'min_child_samples': 54, 'max_bin': 474, 'od_type': 'IncToDec', 'task_type': 'GPU', 'loss_function': 'MAE', 'eval_metric': 'MAE'}. Best is trial 121 with value: 5.343377942063889.\u001b[0m\n"
     ]
    },
    {
     "name": "stdout",
     "output_type": "stream",
     "text": [
      "MAE of Train: 5.187825463303343\n",
      "MAE of Validation: 5.35103449881836\n"
     ]
    },
    {
     "name": "stderr",
     "output_type": "stream",
     "text": [
      "\u001b[32m[I 2022-03-27 04:02:20,214]\u001b[0m Trial 208 finished with value: 5.349028678886624 and parameters: {'random_state': 519632, 'learning_rate': 0.07522779114592207, 'bagging_temperature': 0.9062616133078376, 'max_depth': 9, 'random_strength': 25, 'l2_leaf_reg': 1.2217088468489452e-05, 'min_child_samples': 57, 'max_bin': 489, 'od_type': 'IncToDec', 'task_type': 'GPU', 'loss_function': 'MAE', 'eval_metric': 'MAE'}. Best is trial 121 with value: 5.343377942063889.\u001b[0m\n"
     ]
    },
    {
     "name": "stdout",
     "output_type": "stream",
     "text": [
      "MAE of Train: 5.193459895371962\n",
      "MAE of Validation: 5.349028678886624\n"
     ]
    },
    {
     "name": "stderr",
     "output_type": "stream",
     "text": [
      "\u001b[32m[I 2022-03-27 04:02:26,238]\u001b[0m Trial 209 finished with value: 5.348612171445652 and parameters: {'random_state': 519632, 'learning_rate': 0.06452667267228408, 'bagging_temperature': 1.8537029027716148, 'max_depth': 9, 'random_strength': 21, 'l2_leaf_reg': 1.0036595853662567e-05, 'min_child_samples': 61, 'max_bin': 468, 'od_type': 'IncToDec', 'task_type': 'GPU', 'loss_function': 'MAE', 'eval_metric': 'MAE'}. Best is trial 121 with value: 5.343377942063889.\u001b[0m\n"
     ]
    },
    {
     "name": "stdout",
     "output_type": "stream",
     "text": [
      "MAE of Train: 5.163819260375411\n",
      "MAE of Validation: 5.348612171445652\n"
     ]
    },
    {
     "name": "stderr",
     "output_type": "stream",
     "text": [
      "\u001b[32m[I 2022-03-27 04:02:31,409]\u001b[0m Trial 210 finished with value: 5.3529925692347105 and parameters: {'random_state': 519632, 'learning_rate': 0.05513772714293801, 'bagging_temperature': 0.6994908349428387, 'max_depth': 9, 'random_strength': 21, 'l2_leaf_reg': 1.128815164472957e-05, 'min_child_samples': 61, 'max_bin': 471, 'od_type': 'IncToDec', 'task_type': 'GPU', 'loss_function': 'MAE', 'eval_metric': 'MAE'}. Best is trial 121 with value: 5.343377942063889.\u001b[0m\n"
     ]
    },
    {
     "name": "stdout",
     "output_type": "stream",
     "text": [
      "MAE of Train: 5.245401078806678\n",
      "MAE of Validation: 5.3529925692347105\n"
     ]
    },
    {
     "name": "stderr",
     "output_type": "stream",
     "text": [
      "\u001b[32m[I 2022-03-27 04:02:36,935]\u001b[0m Trial 211 finished with value: 5.3478160598023 and parameters: {'random_state': 519632, 'learning_rate': 0.06449854617798823, 'bagging_temperature': 1.7889297309709689, 'max_depth': 9, 'random_strength': 22, 'l2_leaf_reg': 1.3283872927791633e-05, 'min_child_samples': 59, 'max_bin': 480, 'od_type': 'IncToDec', 'task_type': 'GPU', 'loss_function': 'MAE', 'eval_metric': 'MAE'}. Best is trial 121 with value: 5.343377942063889.\u001b[0m\n"
     ]
    },
    {
     "name": "stdout",
     "output_type": "stream",
     "text": [
      "MAE of Train: 5.184710531235492\n",
      "MAE of Validation: 5.3478160598023\n"
     ]
    },
    {
     "name": "stderr",
     "output_type": "stream",
     "text": [
      "\u001b[32m[I 2022-03-27 04:02:42,847]\u001b[0m Trial 212 finished with value: 5.346476976525457 and parameters: {'random_state': 519632, 'learning_rate': 0.06516790082271573, 'bagging_temperature': 1.6443569805230493, 'max_depth': 9, 'random_strength': 22, 'l2_leaf_reg': 1.3232830598447895e-05, 'min_child_samples': 61, 'max_bin': 467, 'od_type': 'IncToDec', 'task_type': 'GPU', 'loss_function': 'MAE', 'eval_metric': 'MAE'}. Best is trial 121 with value: 5.343377942063889.\u001b[0m\n"
     ]
    },
    {
     "name": "stdout",
     "output_type": "stream",
     "text": [
      "MAE of Train: 5.168698275183922\n",
      "MAE of Validation: 5.346476976525457\n"
     ]
    },
    {
     "name": "stderr",
     "output_type": "stream",
     "text": [
      "\u001b[32m[I 2022-03-27 04:02:48,681]\u001b[0m Trial 213 finished with value: 5.347435259694057 and parameters: {'random_state': 519632, 'learning_rate': 0.0637007199145604, 'bagging_temperature': 1.7096590288772575, 'max_depth': 9, 'random_strength': 22, 'l2_leaf_reg': 1.4399900075930653e-05, 'min_child_samples': 60, 'max_bin': 461, 'od_type': 'IncToDec', 'task_type': 'GPU', 'loss_function': 'MAE', 'eval_metric': 'MAE'}. Best is trial 121 with value: 5.343377942063889.\u001b[0m\n"
     ]
    },
    {
     "name": "stdout",
     "output_type": "stream",
     "text": [
      "MAE of Train: 5.169413277529583\n",
      "MAE of Validation: 5.347435259694057\n"
     ]
    },
    {
     "name": "stderr",
     "output_type": "stream",
     "text": [
      "\u001b[32m[I 2022-03-27 04:02:54,616]\u001b[0m Trial 214 finished with value: 5.351272237793959 and parameters: {'random_state': 519632, 'learning_rate': 0.05048096147230511, 'bagging_temperature': 1.3253487393727563, 'max_depth': 9, 'random_strength': 23, 'l2_leaf_reg': 1.4814249362932327e-05, 'min_child_samples': 59, 'max_bin': 464, 'od_type': 'IncToDec', 'task_type': 'GPU', 'loss_function': 'MAE', 'eval_metric': 'MAE'}. Best is trial 121 with value: 5.343377942063889.\u001b[0m\n"
     ]
    },
    {
     "name": "stdout",
     "output_type": "stream",
     "text": [
      "MAE of Train: 5.225428802200398\n",
      "MAE of Validation: 5.351272237793959\n"
     ]
    },
    {
     "name": "stderr",
     "output_type": "stream",
     "text": [
      "\u001b[32m[I 2022-03-27 04:03:00,566]\u001b[0m Trial 215 finished with value: 5.344423278155192 and parameters: {'random_state': 519632, 'learning_rate': 0.061984409699630184, 'bagging_temperature': 1.6613626952324978, 'max_depth': 9, 'random_strength': 26, 'l2_leaf_reg': 1.3983865268772336e-05, 'min_child_samples': 65, 'max_bin': 460, 'od_type': 'IncToDec', 'task_type': 'GPU', 'loss_function': 'MAE', 'eval_metric': 'MAE'}. Best is trial 121 with value: 5.343377942063889.\u001b[0m\n"
     ]
    },
    {
     "name": "stdout",
     "output_type": "stream",
     "text": [
      "MAE of Train: 5.180543313244338\n",
      "MAE of Validation: 5.344423278155192\n"
     ]
    },
    {
     "name": "stderr",
     "output_type": "stream",
     "text": [
      "\u001b[32m[I 2022-03-27 04:03:06,515]\u001b[0m Trial 216 finished with value: 5.360362426821066 and parameters: {'random_state': 519632, 'learning_rate': 0.0371222305442569, 'bagging_temperature': 1.754033321006798, 'max_depth': 9, 'random_strength': 26, 'l2_leaf_reg': 1.4156979020934198e-05, 'min_child_samples': 65, 'max_bin': 460, 'od_type': 'IncToDec', 'task_type': 'GPU', 'loss_function': 'MAE', 'eval_metric': 'MAE'}. Best is trial 121 with value: 5.343377942063889.\u001b[0m\n"
     ]
    },
    {
     "name": "stdout",
     "output_type": "stream",
     "text": [
      "MAE of Train: 5.273582534583143\n",
      "MAE of Validation: 5.360362426821066\n"
     ]
    },
    {
     "name": "stderr",
     "output_type": "stream",
     "text": [
      "\u001b[32m[I 2022-03-27 04:03:11,304]\u001b[0m Trial 217 finished with value: 5.355463168576038 and parameters: {'random_state': 519632, 'learning_rate': 0.06409364818714261, 'bagging_temperature': 2.4533648435627082, 'max_depth': 9, 'random_strength': 23, 'l2_leaf_reg': 1.3631111205179526e-05, 'min_child_samples': 70, 'max_bin': 296, 'od_type': 'IncToDec', 'task_type': 'GPU', 'loss_function': 'MAE', 'eval_metric': 'MAE'}. Best is trial 121 with value: 5.343377942063889.\u001b[0m\n"
     ]
    },
    {
     "name": "stdout",
     "output_type": "stream",
     "text": [
      "MAE of Train: 5.211500256242576\n",
      "MAE of Validation: 5.355463168576038\n"
     ]
    },
    {
     "name": "stderr",
     "output_type": "stream",
     "text": [
      "\u001b[32m[I 2022-03-27 04:03:16,771]\u001b[0m Trial 218 finished with value: 5.348454845088263 and parameters: {'random_state': 519632, 'learning_rate': 0.0688457169165763, 'bagging_temperature': 2.1065145998397585, 'max_depth': 9, 'random_strength': 19, 'l2_leaf_reg': 1.5473698511776868e-05, 'min_child_samples': 67, 'max_bin': 460, 'od_type': 'IncToDec', 'task_type': 'GPU', 'loss_function': 'MAE', 'eval_metric': 'MAE'}. Best is trial 121 with value: 5.343377942063889.\u001b[0m\n"
     ]
    },
    {
     "name": "stdout",
     "output_type": "stream",
     "text": [
      "MAE of Train: 5.1656542037324344\n",
      "MAE of Validation: 5.348454845088263\n"
     ]
    },
    {
     "name": "stderr",
     "output_type": "stream",
     "text": [
      "\u001b[32m[I 2022-03-27 04:03:21,239]\u001b[0m Trial 219 finished with value: 5.355299539019391 and parameters: {'random_state': 519632, 'learning_rate': 0.09866143237746632, 'bagging_temperature': 2.900333227766663, 'max_depth': 9, 'random_strength': 30, 'l2_leaf_reg': 1.325315304227573e-05, 'min_child_samples': 65, 'max_bin': 476, 'od_type': 'IncToDec', 'task_type': 'GPU', 'loss_function': 'MAE', 'eval_metric': 'MAE'}. Best is trial 121 with value: 5.343377942063889.\u001b[0m\n"
     ]
    },
    {
     "name": "stdout",
     "output_type": "stream",
     "text": [
      "MAE of Train: 5.149978949627568\n",
      "MAE of Validation: 5.355299539019391\n"
     ]
    },
    {
     "name": "stderr",
     "output_type": "stream",
     "text": [
      "\u001b[32m[I 2022-03-27 04:03:27,307]\u001b[0m Trial 220 finished with value: 5.3496095795340555 and parameters: {'random_state': 519632, 'learning_rate': 0.06007084819609636, 'bagging_temperature': 1.2527458395374835, 'max_depth': 9, 'random_strength': 27, 'l2_leaf_reg': 1.4481449551766588e-05, 'min_child_samples': 61, 'max_bin': 453, 'od_type': 'IncToDec', 'task_type': 'GPU', 'loss_function': 'MAE', 'eval_metric': 'MAE'}. Best is trial 121 with value: 5.343377942063889.\u001b[0m\n"
     ]
    },
    {
     "name": "stdout",
     "output_type": "stream",
     "text": [
      "MAE of Train: 5.19152190856706\n",
      "MAE of Validation: 5.3496095795340555\n"
     ]
    },
    {
     "name": "stderr",
     "output_type": "stream",
     "text": [
      "\u001b[32m[I 2022-03-27 04:03:32,518]\u001b[0m Trial 221 finished with value: 5.3511802848025996 and parameters: {'random_state': 519632, 'learning_rate': 0.07146696753646846, 'bagging_temperature': 2.197194557234449, 'max_depth': 9, 'random_strength': 17, 'l2_leaf_reg': 1.2530044753744581e-05, 'min_child_samples': 68, 'max_bin': 453, 'od_type': 'IncToDec', 'task_type': 'GPU', 'loss_function': 'MAE', 'eval_metric': 'MAE'}. Best is trial 121 with value: 5.343377942063889.\u001b[0m\n"
     ]
    },
    {
     "name": "stdout",
     "output_type": "stream",
     "text": [
      "MAE of Train: 5.179019712424546\n",
      "MAE of Validation: 5.3511802848025996\n"
     ]
    },
    {
     "name": "stderr",
     "output_type": "stream",
     "text": [
      "\u001b[32m[I 2022-03-27 04:03:37,641]\u001b[0m Trial 222 finished with value: 5.347820374407799 and parameters: {'random_state': 519632, 'learning_rate': 0.08252411722869434, 'bagging_temperature': 1.6903038885635235, 'max_depth': 9, 'random_strength': 21, 'l2_leaf_reg': 1.568104225704607e-05, 'min_child_samples': 63, 'max_bin': 463, 'od_type': 'IncToDec', 'task_type': 'GPU', 'loss_function': 'MAE', 'eval_metric': 'MAE'}. Best is trial 121 with value: 5.343377942063889.\u001b[0m\n"
     ]
    },
    {
     "name": "stdout",
     "output_type": "stream",
     "text": [
      "MAE of Train: 5.15613258018948\n",
      "MAE of Validation: 5.347820374407799\n"
     ]
    },
    {
     "name": "stderr",
     "output_type": "stream",
     "text": [
      "\u001b[32m[I 2022-03-27 04:03:42,261]\u001b[0m Trial 223 finished with value: 5.352070096610151 and parameters: {'random_state': 519632, 'learning_rate': 0.08297964882701098, 'bagging_temperature': 1.5480562092769774, 'max_depth': 9, 'random_strength': 21, 'l2_leaf_reg': 1.3990053898701759e-05, 'min_child_samples': 63, 'max_bin': 465, 'od_type': 'IncToDec', 'task_type': 'GPU', 'loss_function': 'MAE', 'eval_metric': 'MAE'}. Best is trial 121 with value: 5.343377942063889.\u001b[0m\n"
     ]
    },
    {
     "name": "stdout",
     "output_type": "stream",
     "text": [
      "MAE of Train: 5.180067592941072\n",
      "MAE of Validation: 5.352070096610151\n"
     ]
    },
    {
     "name": "stderr",
     "output_type": "stream",
     "text": [
      "\u001b[32m[I 2022-03-27 04:03:48,230]\u001b[0m Trial 224 finished with value: 5.351545234695876 and parameters: {'random_state': 519632, 'learning_rate': 0.04739953246981316, 'bagging_temperature': 1.754920436432211, 'max_depth': 9, 'random_strength': 24, 'l2_leaf_reg': 1.3089430189023568e-05, 'min_child_samples': 59, 'max_bin': 472, 'od_type': 'IncToDec', 'task_type': 'GPU', 'loss_function': 'MAE', 'eval_metric': 'MAE'}. Best is trial 121 with value: 5.343377942063889.\u001b[0m\n"
     ]
    },
    {
     "name": "stdout",
     "output_type": "stream",
     "text": [
      "MAE of Train: 5.224406743189392\n",
      "MAE of Validation: 5.351545234695876\n"
     ]
    },
    {
     "name": "stderr",
     "output_type": "stream",
     "text": [
      "\u001b[32m[I 2022-03-27 04:03:53,747]\u001b[0m Trial 225 finished with value: 5.347563959193863 and parameters: {'random_state': 519632, 'learning_rate': 0.08037433156095532, 'bagging_temperature': 1.1164745762317216, 'max_depth': 9, 'random_strength': 19, 'l2_leaf_reg': 1.25932979633921e-05, 'min_child_samples': 63, 'max_bin': 480, 'od_type': 'IncToDec', 'task_type': 'GPU', 'loss_function': 'MAE', 'eval_metric': 'MAE'}. Best is trial 121 with value: 5.343377942063889.\u001b[0m\n"
     ]
    },
    {
     "name": "stdout",
     "output_type": "stream",
     "text": [
      "MAE of Train: 5.154354344709456\n",
      "MAE of Validation: 5.347563959193863\n"
     ]
    },
    {
     "name": "stderr",
     "output_type": "stream",
     "text": [
      "\u001b[32m[I 2022-03-27 04:03:58,101]\u001b[0m Trial 226 finished with value: 5.353229836079532 and parameters: {'random_state': 519632, 'learning_rate': 0.0838953031868943, 'bagging_temperature': 1.0501461512367685, 'max_depth': 9, 'random_strength': 18, 'l2_leaf_reg': 1.4849257049228268e-05, 'min_child_samples': 62, 'max_bin': 478, 'od_type': 'IncToDec', 'task_type': 'GPU', 'loss_function': 'MAE', 'eval_metric': 'MAE'}. Best is trial 121 with value: 5.343377942063889.\u001b[0m\n"
     ]
    },
    {
     "name": "stdout",
     "output_type": "stream",
     "text": [
      "MAE of Train: 5.209035585712537\n",
      "MAE of Validation: 5.353229836079532\n"
     ]
    },
    {
     "name": "stderr",
     "output_type": "stream",
     "text": [
      "\u001b[32m[I 2022-03-27 04:04:02,853]\u001b[0m Trial 227 finished with value: 5.348090362723658 and parameters: {'random_state': 519632, 'learning_rate': 0.10301061758108201, 'bagging_temperature': 1.2795424045880732, 'max_depth': 9, 'random_strength': 22, 'l2_leaf_reg': 1.342955608864009e-05, 'min_child_samples': 63, 'max_bin': 467, 'od_type': 'IncToDec', 'task_type': 'GPU', 'loss_function': 'MAE', 'eval_metric': 'MAE'}. Best is trial 121 with value: 5.343377942063889.\u001b[0m\n"
     ]
    },
    {
     "name": "stdout",
     "output_type": "stream",
     "text": [
      "MAE of Train: 5.143864340241971\n",
      "MAE of Validation: 5.348090362723658\n"
     ]
    },
    {
     "name": "stderr",
     "output_type": "stream",
     "text": [
      "\u001b[32m[I 2022-03-27 04:04:07,816]\u001b[0m Trial 228 finished with value: 5.379443923773286 and parameters: {'random_state': 519632, 'learning_rate': 0.10806576827799694, 'bagging_temperature': 25.911984979618897, 'max_depth': 9, 'random_strength': 20, 'l2_leaf_reg': 1.2003101967625815e-05, 'min_child_samples': 63, 'max_bin': 467, 'od_type': 'IncToDec', 'task_type': 'GPU', 'loss_function': 'MAE', 'eval_metric': 'MAE'}. Best is trial 121 with value: 5.343377942063889.\u001b[0m\n"
     ]
    },
    {
     "name": "stdout",
     "output_type": "stream",
     "text": [
      "MAE of Train: 5.182003237581311\n",
      "MAE of Validation: 5.379443923773286\n"
     ]
    },
    {
     "name": "stderr",
     "output_type": "stream",
     "text": [
      "\u001b[32m[I 2022-03-27 04:04:12,040]\u001b[0m Trial 229 finished with value: 5.4581430281267505 and parameters: {'random_state': 519632, 'learning_rate': 0.010823022594650962, 'bagging_temperature': 1.1821511206318642, 'max_depth': 6, 'random_strength': 21, 'l2_leaf_reg': 1.2936136750112239e-05, 'min_child_samples': 65, 'max_bin': 456, 'od_type': 'IncToDec', 'task_type': 'GPU', 'loss_function': 'MAE', 'eval_metric': 'MAE'}. Best is trial 121 with value: 5.343377942063889.\u001b[0m\n"
     ]
    },
    {
     "name": "stdout",
     "output_type": "stream",
     "text": [
      "MAE of Train: 5.465485091142006\n",
      "MAE of Validation: 5.4581430281267505\n"
     ]
    },
    {
     "name": "stderr",
     "output_type": "stream",
     "text": [
      "\u001b[32m[I 2022-03-27 04:04:15,661]\u001b[0m Trial 230 finished with value: 5.352478694850052 and parameters: {'random_state': 519632, 'learning_rate': 0.1309024547307582, 'bagging_temperature': 1.3680857293445627, 'max_depth': 9, 'random_strength': 23, 'l2_leaf_reg': 1.3409493838905744e-05, 'min_child_samples': 64, 'max_bin': 461, 'od_type': 'IncToDec', 'task_type': 'GPU', 'loss_function': 'MAE', 'eval_metric': 'MAE'}. Best is trial 121 with value: 5.343377942063889.\u001b[0m\n"
     ]
    },
    {
     "name": "stdout",
     "output_type": "stream",
     "text": [
      "MAE of Train: 5.160816925181926\n",
      "MAE of Validation: 5.352478694850052\n"
     ]
    },
    {
     "name": "stderr",
     "output_type": "stream",
     "text": [
      "\u001b[32m[I 2022-03-27 04:04:19,446]\u001b[0m Trial 231 finished with value: 5.35187818353885 and parameters: {'random_state': 519632, 'learning_rate': 0.09486283433936112, 'bagging_temperature': 1.0038984070090637, 'max_depth': 9, 'random_strength': 26, 'l2_leaf_reg': 1.419116496718428e-05, 'min_child_samples': 58, 'max_bin': 470, 'od_type': 'IncToDec', 'task_type': 'GPU', 'loss_function': 'MAE', 'eval_metric': 'MAE'}. Best is trial 121 with value: 5.343377942063889.\u001b[0m\n"
     ]
    },
    {
     "name": "stdout",
     "output_type": "stream",
     "text": [
      "MAE of Train: 5.2117257120969125\n",
      "MAE of Validation: 5.35187818353885\n"
     ]
    },
    {
     "name": "stderr",
     "output_type": "stream",
     "text": [
      "\u001b[32m[I 2022-03-27 04:04:23,743]\u001b[0m Trial 232 finished with value: 5.34792190323796 and parameters: {'random_state': 519632, 'learning_rate': 0.08240326970434012, 'bagging_temperature': 1.517110264493497, 'max_depth': 9, 'random_strength': 18, 'l2_leaf_reg': 1.3513917201130078e-05, 'min_child_samples': 61, 'max_bin': 481, 'od_type': 'IncToDec', 'task_type': 'GPU', 'loss_function': 'MAE', 'eval_metric': 'MAE'}. Best is trial 121 with value: 5.343377942063889.\u001b[0m\n"
     ]
    },
    {
     "name": "stdout",
     "output_type": "stream",
     "text": [
      "MAE of Train: 5.195388260101598\n",
      "MAE of Validation: 5.34792190323796\n"
     ]
    },
    {
     "name": "stderr",
     "output_type": "stream",
     "text": [
      "\u001b[32m[I 2022-03-27 04:04:28,554]\u001b[0m Trial 233 finished with value: 5.352706343541995 and parameters: {'random_state': 519632, 'learning_rate': 0.07925674478593527, 'bagging_temperature': 1.4396043466415862, 'max_depth': 9, 'random_strength': 18, 'l2_leaf_reg': 1.2633309821116363e-05, 'min_child_samples': 61, 'max_bin': 479, 'od_type': 'IncToDec', 'task_type': 'GPU', 'loss_function': 'MAE', 'eval_metric': 'MAE'}. Best is trial 121 with value: 5.343377942063889.\u001b[0m\n"
     ]
    },
    {
     "name": "stdout",
     "output_type": "stream",
     "text": [
      "MAE of Train: 5.180227066668797\n",
      "MAE of Validation: 5.352706343541995\n"
     ]
    },
    {
     "name": "stderr",
     "output_type": "stream",
     "text": [
      "\u001b[32m[I 2022-03-27 04:04:31,898]\u001b[0m Trial 234 finished with value: 5.354079372151732 and parameters: {'random_state': 519632, 'learning_rate': 0.09329142840419202, 'bagging_temperature': 0.8656380940377257, 'max_depth': 9, 'random_strength': 16, 'l2_leaf_reg': 1.3467379378252163e-05, 'min_child_samples': 60, 'max_bin': 475, 'od_type': 'IncToDec', 'task_type': 'GPU', 'loss_function': 'MAE', 'eval_metric': 'MAE'}. Best is trial 121 with value: 5.343377942063889.\u001b[0m\n"
     ]
    },
    {
     "name": "stdout",
     "output_type": "stream",
     "text": [
      "MAE of Train: 5.238428558939285\n",
      "MAE of Validation: 5.354079372151732\n"
     ]
    },
    {
     "name": "stderr",
     "output_type": "stream",
     "text": [
      "\u001b[32m[I 2022-03-27 04:04:35,501]\u001b[0m Trial 235 finished with value: 5.350980001829438 and parameters: {'random_state': 519632, 'learning_rate': 0.10399278531399973, 'bagging_temperature': 1.1248069798888283, 'max_depth': 9, 'random_strength': 22, 'l2_leaf_reg': 1.1794325009654827e-05, 'min_child_samples': 62, 'max_bin': 467, 'od_type': 'IncToDec', 'task_type': 'GPU', 'loss_function': 'MAE', 'eval_metric': 'MAE'}. Best is trial 121 with value: 5.343377942063889.\u001b[0m\n"
     ]
    },
    {
     "name": "stdout",
     "output_type": "stream",
     "text": [
      "MAE of Train: 5.206803571668263\n",
      "MAE of Validation: 5.350980001829438\n"
     ]
    },
    {
     "name": "stderr",
     "output_type": "stream",
     "text": [
      "\u001b[32m[I 2022-03-27 04:04:41,382]\u001b[0m Trial 236 finished with value: 5.3472215571881225 and parameters: {'random_state': 519632, 'learning_rate': 0.0587091930182381, 'bagging_temperature': 1.6438518248501066, 'max_depth': 9, 'random_strength': 20, 'l2_leaf_reg': 1.2478660323951942e-05, 'min_child_samples': 64, 'max_bin': 482, 'od_type': 'IncToDec', 'task_type': 'GPU', 'loss_function': 'MAE', 'eval_metric': 'MAE'}. Best is trial 121 with value: 5.343377942063889.\u001b[0m\n"
     ]
    },
    {
     "name": "stdout",
     "output_type": "stream",
     "text": [
      "MAE of Train: 5.1834489391657845\n",
      "MAE of Validation: 5.3472215571881225\n"
     ]
    },
    {
     "name": "stderr",
     "output_type": "stream",
     "text": [
      "\u001b[32m[I 2022-03-27 04:04:47,292]\u001b[0m Trial 237 finished with value: 5.348575141354374 and parameters: {'random_state': 519632, 'learning_rate': 0.05665369420317067, 'bagging_temperature': 1.6567329480677488, 'max_depth': 9, 'random_strength': 19, 'l2_leaf_reg': 1.2545829836946667e-05, 'min_child_samples': 69, 'max_bin': 492, 'od_type': 'IncToDec', 'task_type': 'GPU', 'loss_function': 'MAE', 'eval_metric': 'MAE'}. Best is trial 121 with value: 5.343377942063889.\u001b[0m\n"
     ]
    },
    {
     "name": "stdout",
     "output_type": "stream",
     "text": [
      "MAE of Train: 5.196948320882176\n",
      "MAE of Validation: 5.348575141354374\n"
     ]
    },
    {
     "name": "stderr",
     "output_type": "stream",
     "text": [
      "\u001b[32m[I 2022-03-27 04:04:52,670]\u001b[0m Trial 238 finished with value: 5.347406707887275 and parameters: {'random_state': 519632, 'learning_rate': 0.07518064582982362, 'bagging_temperature': 1.3680079655843127, 'max_depth': 9, 'random_strength': 14, 'l2_leaf_reg': 1.3037706470786357e-05, 'min_child_samples': 65, 'max_bin': 480, 'od_type': 'IncToDec', 'task_type': 'GPU', 'loss_function': 'MAE', 'eval_metric': 'MAE'}. Best is trial 121 with value: 5.343377942063889.\u001b[0m\n"
     ]
    },
    {
     "name": "stdout",
     "output_type": "stream",
     "text": [
      "MAE of Train: 5.168147387622202\n",
      "MAE of Validation: 5.347406707887275\n"
     ]
    },
    {
     "name": "stderr",
     "output_type": "stream",
     "text": [
      "\u001b[32m[I 2022-03-27 04:04:57,445]\u001b[0m Trial 239 finished with value: 5.34962954201355 and parameters: {'random_state': 519632, 'learning_rate': 0.07645285456358882, 'bagging_temperature': 1.6168049809796592, 'max_depth': 9, 'random_strength': 15, 'l2_leaf_reg': 6.710853959184917e-06, 'min_child_samples': 67, 'max_bin': 481, 'od_type': 'IncToDec', 'task_type': 'GPU', 'loss_function': 'MAE', 'eval_metric': 'MAE'}. Best is trial 121 with value: 5.343377942063889.\u001b[0m\n"
     ]
    },
    {
     "name": "stdout",
     "output_type": "stream",
     "text": [
      "MAE of Train: 5.185887111168124\n",
      "MAE of Validation: 5.34962954201355\n"
     ]
    },
    {
     "name": "stderr",
     "output_type": "stream",
     "text": [
      "\u001b[32m[I 2022-03-27 04:05:03,356]\u001b[0m Trial 240 finished with value: 5.347544011498951 and parameters: {'random_state': 519632, 'learning_rate': 0.05570892661259843, 'bagging_temperature': 1.4478340088418287, 'max_depth': 9, 'random_strength': 13, 'l2_leaf_reg': 1.2077511752344937e-05, 'min_child_samples': 66, 'max_bin': 474, 'od_type': 'IncToDec', 'task_type': 'GPU', 'loss_function': 'MAE', 'eval_metric': 'MAE'}. Best is trial 121 with value: 5.343377942063889.\u001b[0m\n"
     ]
    },
    {
     "name": "stdout",
     "output_type": "stream",
     "text": [
      "MAE of Train: 5.198146826559556\n",
      "MAE of Validation: 5.347544011498951\n"
     ]
    },
    {
     "name": "stderr",
     "output_type": "stream",
     "text": [
      "\u001b[32m[I 2022-03-27 04:05:09,272]\u001b[0m Trial 241 finished with value: 5.349705723373665 and parameters: {'random_state': 519632, 'learning_rate': 0.05754356879654862, 'bagging_temperature': 1.3848518133926848, 'max_depth': 9, 'random_strength': 14, 'l2_leaf_reg': 1.2212198304410864e-05, 'min_child_samples': 65, 'max_bin': 475, 'od_type': 'IncToDec', 'task_type': 'GPU', 'loss_function': 'MAE', 'eval_metric': 'MAE'}. Best is trial 121 with value: 5.343377942063889.\u001b[0m\n"
     ]
    },
    {
     "name": "stdout",
     "output_type": "stream",
     "text": [
      "MAE of Train: 5.193060224249469\n",
      "MAE of Validation: 5.349705723373665\n"
     ]
    },
    {
     "name": "stderr",
     "output_type": "stream",
     "text": [
      "\u001b[32m[I 2022-03-27 04:05:15,176]\u001b[0m Trial 242 finished with value: 5.3480194617099235 and parameters: {'random_state': 519632, 'learning_rate': 0.06275639588090948, 'bagging_temperature': 1.6668242673200313, 'max_depth': 9, 'random_strength': 17, 'l2_leaf_reg': 1.277996242525212e-05, 'min_child_samples': 66, 'max_bin': 342, 'od_type': 'IncToDec', 'task_type': 'GPU', 'loss_function': 'MAE', 'eval_metric': 'MAE'}. Best is trial 121 with value: 5.343377942063889.\u001b[0m\n"
     ]
    },
    {
     "name": "stdout",
     "output_type": "stream",
     "text": [
      "MAE of Train: 5.171360580300489\n",
      "MAE of Validation: 5.3480194617099235\n"
     ]
    },
    {
     "name": "stderr",
     "output_type": "stream",
     "text": [
      "\u001b[32m[I 2022-03-27 04:05:20,417]\u001b[0m Trial 243 finished with value: 5.348851294006748 and parameters: {'random_state': 519632, 'learning_rate': 0.07551795097854329, 'bagging_temperature': 1.7279784096610797, 'max_depth': 9, 'random_strength': 12, 'l2_leaf_reg': 1.2969784711345513e-05, 'min_child_samples': 73, 'max_bin': 340, 'od_type': 'IncToDec', 'task_type': 'GPU', 'loss_function': 'MAE', 'eval_metric': 'MAE'}. Best is trial 121 with value: 5.343377942063889.\u001b[0m\n"
     ]
    },
    {
     "name": "stdout",
     "output_type": "stream",
     "text": [
      "MAE of Train: 5.164142296494392\n",
      "MAE of Validation: 5.348851294006748\n"
     ]
    },
    {
     "name": "stderr",
     "output_type": "stream",
     "text": [
      "\u001b[32m[I 2022-03-27 04:05:26,262]\u001b[0m Trial 244 finished with value: 5.353564450153963 and parameters: {'random_state': 519632, 'learning_rate': 0.049761450707885325, 'bagging_temperature': 1.4805197689446679, 'max_depth': 9, 'random_strength': 16, 'l2_leaf_reg': 1.3839006575528395e-05, 'min_child_samples': 66, 'max_bin': 350, 'od_type': 'IncToDec', 'task_type': 'GPU', 'loss_function': 'MAE', 'eval_metric': 'MAE'}. Best is trial 121 with value: 5.343377942063889.\u001b[0m\n"
     ]
    },
    {
     "name": "stdout",
     "output_type": "stream",
     "text": [
      "MAE of Train: 5.222465621048154\n",
      "MAE of Validation: 5.353564450153963\n"
     ]
    },
    {
     "name": "stderr",
     "output_type": "stream",
     "text": [
      "\u001b[32m[I 2022-03-27 04:05:32,173]\u001b[0m Trial 245 finished with value: 5.347908724746627 and parameters: {'random_state': 519632, 'learning_rate': 0.06021606886558715, 'bagging_temperature': 1.8502572162674888, 'max_depth': 9, 'random_strength': 13, 'l2_leaf_reg': 1.2892591181226276e-05, 'min_child_samples': 64, 'max_bin': 337, 'od_type': 'IncToDec', 'task_type': 'GPU', 'loss_function': 'MAE', 'eval_metric': 'MAE'}. Best is trial 121 with value: 5.343377942063889.\u001b[0m\n"
     ]
    },
    {
     "name": "stdout",
     "output_type": "stream",
     "text": [
      "MAE of Train: 5.177703750521019\n",
      "MAE of Validation: 5.347908724746627\n"
     ]
    },
    {
     "name": "stderr",
     "output_type": "stream",
     "text": [
      "\u001b[32m[I 2022-03-27 04:05:37,448]\u001b[0m Trial 246 finished with value: 5.345990878741591 and parameters: {'random_state': 519632, 'learning_rate': 0.08275762190638095, 'bagging_temperature': 1.3091143325071513, 'max_depth': 9, 'random_strength': 13, 'l2_leaf_reg': 1.1910536588048943e-05, 'min_child_samples': 71, 'max_bin': 480, 'od_type': 'IncToDec', 'task_type': 'GPU', 'loss_function': 'MAE', 'eval_metric': 'MAE'}. Best is trial 121 with value: 5.343377942063889.\u001b[0m\n"
     ]
    },
    {
     "name": "stdout",
     "output_type": "stream",
     "text": [
      "MAE of Train: 5.148100382862803\n",
      "MAE of Validation: 5.345990878741591\n"
     ]
    },
    {
     "name": "stderr",
     "output_type": "stream",
     "text": [
      "\u001b[32m[I 2022-03-27 04:05:43,351]\u001b[0m Trial 247 finished with value: 5.349653262165123 and parameters: {'random_state': 519632, 'learning_rate': 0.05630006281674488, 'bagging_temperature': 1.9096994459955896, 'max_depth': 9, 'random_strength': 12, 'l2_leaf_reg': 1.1923688729879205e-05, 'min_child_samples': 71, 'max_bin': 327, 'od_type': 'IncToDec', 'task_type': 'GPU', 'loss_function': 'MAE', 'eval_metric': 'MAE'}. Best is trial 121 with value: 5.343377942063889.\u001b[0m\n"
     ]
    },
    {
     "name": "stdout",
     "output_type": "stream",
     "text": [
      "MAE of Train: 5.188810895678108\n",
      "MAE of Validation: 5.349653262165123\n"
     ]
    },
    {
     "name": "stderr",
     "output_type": "stream",
     "text": [
      "\u001b[32m[I 2022-03-27 04:05:49,122]\u001b[0m Trial 248 finished with value: 5.348351483017843 and parameters: {'random_state': 519632, 'learning_rate': 0.07133919095575718, 'bagging_temperature': 1.2432903376872455, 'max_depth': 9, 'random_strength': 13, 'l2_leaf_reg': 1.234775132816463e-05, 'min_child_samples': 78, 'max_bin': 337, 'od_type': 'IncToDec', 'task_type': 'GPU', 'loss_function': 'MAE', 'eval_metric': 'MAE'}. Best is trial 121 with value: 5.343377942063889.\u001b[0m\n"
     ]
    },
    {
     "name": "stdout",
     "output_type": "stream",
     "text": [
      "MAE of Train: 5.171825537960472\n",
      "MAE of Validation: 5.348351483017843\n"
     ]
    },
    {
     "name": "stderr",
     "output_type": "stream",
     "text": [
      "\u001b[32m[I 2022-03-27 04:05:55,271]\u001b[0m Trial 249 finished with value: 5.355199243840446 and parameters: {'random_state': 519632, 'learning_rate': 0.04698592344472006, 'bagging_temperature': 0.9727230041967964, 'max_depth': 9, 'random_strength': 10, 'l2_leaf_reg': 3.2090350016085986e-06, 'min_child_samples': 64, 'max_bin': 474, 'od_type': 'IncToDec', 'task_type': 'GPU', 'loss_function': 'MAE', 'eval_metric': 'MAE'}. Best is trial 121 with value: 5.343377942063889.\u001b[0m\n"
     ]
    },
    {
     "name": "stdout",
     "output_type": "stream",
     "text": [
      "MAE of Train: 5.24115531782189\n",
      "MAE of Validation: 5.355199243840446\n"
     ]
    },
    {
     "name": "stderr",
     "output_type": "stream",
     "text": [
      "\u001b[32m[I 2022-03-27 04:06:00,603]\u001b[0m Trial 250 finished with value: 5.34712541284362 and parameters: {'random_state': 519632, 'learning_rate': 0.08665533640786859, 'bagging_temperature': 1.940032986781671, 'max_depth': 9, 'random_strength': 14, 'l2_leaf_reg': 7.463562962873399e-06, 'min_child_samples': 72, 'max_bin': 489, 'od_type': 'IncToDec', 'task_type': 'GPU', 'loss_function': 'MAE', 'eval_metric': 'MAE'}. Best is trial 121 with value: 5.343377942063889.\u001b[0m\n"
     ]
    },
    {
     "name": "stdout",
     "output_type": "stream",
     "text": [
      "MAE of Train: 5.142959912899985\n",
      "MAE of Validation: 5.34712541284362\n"
     ]
    },
    {
     "name": "stderr",
     "output_type": "stream",
     "text": [
      "\u001b[32m[I 2022-03-27 04:06:05,233]\u001b[0m Trial 251 finished with value: 5.351031115212772 and parameters: {'random_state': 519632, 'learning_rate': 0.08756674236518355, 'bagging_temperature': 1.2088292123022444, 'max_depth': 9, 'random_strength': 15, 'l2_leaf_reg': 7.178317899780009e-06, 'min_child_samples': 74, 'max_bin': 491, 'od_type': 'IncToDec', 'task_type': 'GPU', 'loss_function': 'MAE', 'eval_metric': 'MAE'}. Best is trial 121 with value: 5.343377942063889.\u001b[0m\n"
     ]
    },
    {
     "name": "stdout",
     "output_type": "stream",
     "text": [
      "MAE of Train: 5.1813163409003415\n",
      "MAE of Validation: 5.351031115212772\n"
     ]
    },
    {
     "name": "stderr",
     "output_type": "stream",
     "text": [
      "\u001b[32m[I 2022-03-27 04:06:09,624]\u001b[0m Trial 252 finished with value: 5.347516215281232 and parameters: {'random_state': 519632, 'learning_rate': 0.08498612260517485, 'bagging_temperature': 1.3591975206321871, 'max_depth': 9, 'random_strength': 10, 'l2_leaf_reg': 7.617820128273323e-07, 'min_child_samples': 71, 'max_bin': 495, 'od_type': 'IncToDec', 'task_type': 'GPU', 'loss_function': 'MAE', 'eval_metric': 'MAE'}. Best is trial 121 with value: 5.343377942063889.\u001b[0m\n"
     ]
    },
    {
     "name": "stdout",
     "output_type": "stream",
     "text": [
      "MAE of Train: 5.189953293612675\n",
      "MAE of Validation: 5.347516215281232\n"
     ]
    },
    {
     "name": "stderr",
     "output_type": "stream",
     "text": [
      "\u001b[32m[I 2022-03-27 04:06:14,059]\u001b[0m Trial 253 finished with value: 5.3505845602167375 and parameters: {'random_state': 519632, 'learning_rate': 0.07848620438347831, 'bagging_temperature': 2.011771846887439, 'max_depth': 9, 'random_strength': 9, 'l2_leaf_reg': 6.25868211142918e-06, 'min_child_samples': 70, 'max_bin': 496, 'od_type': 'IncToDec', 'task_type': 'GPU', 'loss_function': 'MAE', 'eval_metric': 'MAE'}. Best is trial 121 with value: 5.343377942063889.\u001b[0m\n"
     ]
    },
    {
     "name": "stdout",
     "output_type": "stream",
     "text": [
      "MAE of Train: 5.182425104017671\n",
      "MAE of Validation: 5.3505845602167375\n"
     ]
    },
    {
     "name": "stderr",
     "output_type": "stream",
     "text": [
      "\u001b[32m[I 2022-03-27 04:06:19,551]\u001b[0m Trial 254 finished with value: 5.348320818124851 and parameters: {'random_state': 519632, 'learning_rate': 0.06979869131663338, 'bagging_temperature': 1.3908002730378655, 'max_depth': 9, 'random_strength': 14, 'l2_leaf_reg': 5.953713741058213e-07, 'min_child_samples': 72, 'max_bin': 500, 'od_type': 'IncToDec', 'task_type': 'GPU', 'loss_function': 'MAE', 'eval_metric': 'MAE'}. Best is trial 121 with value: 5.343377942063889.\u001b[0m\n"
     ]
    },
    {
     "name": "stdout",
     "output_type": "stream",
     "text": [
      "MAE of Train: 5.172668820910765\n",
      "MAE of Validation: 5.348320818124851\n"
     ]
    },
    {
     "name": "stderr",
     "output_type": "stream",
     "text": [
      "\u001b[32m[I 2022-03-27 04:06:23,068]\u001b[0m Trial 255 finished with value: 5.349605330174833 and parameters: {'random_state': 519632, 'learning_rate': 0.11364797984510916, 'bagging_temperature': 1.3571603850896683, 'max_depth': 9, 'random_strength': 10, 'l2_leaf_reg': 4.646711630144404e-06, 'min_child_samples': 69, 'max_bin': 492, 'od_type': 'IncToDec', 'task_type': 'GPU', 'loss_function': 'MAE', 'eval_metric': 'MAE'}. Best is trial 121 with value: 5.343377942063889.\u001b[0m\n"
     ]
    },
    {
     "name": "stdout",
     "output_type": "stream",
     "text": [
      "MAE of Train: 5.1787583342763055\n",
      "MAE of Validation: 5.349605330174833\n"
     ]
    },
    {
     "name": "stderr",
     "output_type": "stream",
     "text": [
      "\u001b[32m[I 2022-03-27 04:06:28,883]\u001b[0m Trial 256 finished with value: 5.350436572590043 and parameters: {'random_state': 519632, 'learning_rate': 0.05404218892598949, 'bagging_temperature': 2.4885768322827193, 'max_depth': 9, 'random_strength': 19, 'l2_leaf_reg': 9.329782423163473e-07, 'min_child_samples': 72, 'max_bin': 481, 'od_type': 'IncToDec', 'task_type': 'GPU', 'loss_function': 'MAE', 'eval_metric': 'MAE'}. Best is trial 121 with value: 5.343377942063889.\u001b[0m\n"
     ]
    },
    {
     "name": "stdout",
     "output_type": "stream",
     "text": [
      "MAE of Train: 5.19024688289568\n",
      "MAE of Validation: 5.350436572590043\n"
     ]
    },
    {
     "name": "stderr",
     "output_type": "stream",
     "text": [
      "\u001b[32m[I 2022-03-27 04:06:34,076]\u001b[0m Trial 257 finished with value: 5.347041201670857 and parameters: {'random_state': 519632, 'learning_rate': 0.08389303960540773, 'bagging_temperature': 1.6456734721530792, 'max_depth': 9, 'random_strength': 11, 'l2_leaf_reg': 2.082649775671512e-06, 'min_child_samples': 75, 'max_bin': 489, 'od_type': 'IncToDec', 'task_type': 'GPU', 'loss_function': 'MAE', 'eval_metric': 'MAE'}. Best is trial 121 with value: 5.343377942063889.\u001b[0m\n"
     ]
    },
    {
     "name": "stdout",
     "output_type": "stream",
     "text": [
      "MAE of Train: 5.139558708252254\n",
      "MAE of Validation: 5.347041201670857\n"
     ]
    },
    {
     "name": "stderr",
     "output_type": "stream",
     "text": [
      "\u001b[32m[I 2022-03-27 04:06:38,732]\u001b[0m Trial 258 finished with value: 5.353517942734867 and parameters: {'random_state': 519632, 'learning_rate': 0.06820395558602542, 'bagging_temperature': 1.080675772430028, 'max_depth': 9, 'random_strength': 11, 'l2_leaf_reg': 8.006461741974882e-06, 'min_child_samples': 80, 'max_bin': 488, 'od_type': 'IncToDec', 'task_type': 'GPU', 'loss_function': 'MAE', 'eval_metric': 'MAE'}. Best is trial 121 with value: 5.343377942063889.\u001b[0m\n"
     ]
    },
    {
     "name": "stdout",
     "output_type": "stream",
     "text": [
      "MAE of Train: 5.220547789389836\n",
      "MAE of Validation: 5.353517942734867\n"
     ]
    },
    {
     "name": "stderr",
     "output_type": "stream",
     "text": [
      "\u001b[32m[I 2022-03-27 04:06:44,762]\u001b[0m Trial 259 finished with value: 5.35423729114477 and parameters: {'random_state': 519632, 'learning_rate': 0.0437890189825798, 'bagging_temperature': 1.5289418003905866, 'max_depth': 9, 'random_strength': 13, 'l2_leaf_reg': 2.0907669984462215e-06, 'min_child_samples': 76, 'max_bin': 493, 'od_type': 'IncToDec', 'task_type': 'GPU', 'loss_function': 'MAE', 'eval_metric': 'MAE'}. Best is trial 121 with value: 5.343377942063889.\u001b[0m\n"
     ]
    },
    {
     "name": "stdout",
     "output_type": "stream",
     "text": [
      "MAE of Train: 5.240364494285864\n",
      "MAE of Validation: 5.35423729114477\n"
     ]
    },
    {
     "name": "stderr",
     "output_type": "stream",
     "text": [
      "\u001b[32m[I 2022-03-27 04:06:48,494]\u001b[0m Trial 260 finished with value: 5.355500389967738 and parameters: {'random_state': 519632, 'learning_rate': 0.09481046844818694, 'bagging_temperature': 1.2020841484543878, 'max_depth': 9, 'random_strength': 15, 'l2_leaf_reg': 1.219669281847986e-06, 'min_child_samples': 74, 'max_bin': 484, 'od_type': 'IncToDec', 'task_type': 'GPU', 'loss_function': 'MAE', 'eval_metric': 'MAE'}. Best is trial 121 with value: 5.343377942063889.\u001b[0m\n"
     ]
    },
    {
     "name": "stdout",
     "output_type": "stream",
     "text": [
      "MAE of Train: 5.21217691369282\n",
      "MAE of Validation: 5.355500389967738\n"
     ]
    },
    {
     "name": "stderr",
     "output_type": "stream",
     "text": [
      "\u001b[32m[I 2022-03-27 04:06:54,463]\u001b[0m Trial 261 finished with value: 5.351339314220788 and parameters: {'random_state': 519632, 'learning_rate': 0.06470788304814212, 'bagging_temperature': 2.0102065838337175, 'max_depth': 9, 'random_strength': 25, 'l2_leaf_reg': 3.257645967973325e-06, 'min_child_samples': 76, 'max_bin': 478, 'od_type': 'IncToDec', 'task_type': 'GPU', 'loss_function': 'MAE', 'eval_metric': 'MAE'}. Best is trial 121 with value: 5.343377942063889.\u001b[0m\n"
     ]
    },
    {
     "name": "stdout",
     "output_type": "stream",
     "text": [
      "MAE of Train: 5.1799148467428715\n",
      "MAE of Validation: 5.351339314220788\n"
     ]
    },
    {
     "name": "stderr",
     "output_type": "stream",
     "text": [
      "\u001b[32m[I 2022-03-27 04:06:59,416]\u001b[0m Trial 262 finished with value: 5.349406650630115 and parameters: {'random_state': 519632, 'learning_rate': 0.07649612143373552, 'bagging_temperature': 0.8966776803560658, 'max_depth': 9, 'random_strength': 11, 'l2_leaf_reg': 1.689285506888293e-06, 'min_child_samples': 69, 'max_bin': 488, 'od_type': 'IncToDec', 'task_type': 'GPU', 'loss_function': 'MAE', 'eval_metric': 'MAE'}. Best is trial 121 with value: 5.343377942063889.\u001b[0m\n"
     ]
    },
    {
     "name": "stdout",
     "output_type": "stream",
     "text": [
      "MAE of Train: 5.201438083824692\n",
      "MAE of Validation: 5.349406650630115\n"
     ]
    },
    {
     "name": "stderr",
     "output_type": "stream",
     "text": [
      "\u001b[32m[I 2022-03-27 04:07:04,168]\u001b[0m Trial 263 finished with value: 5.351353018104292 and parameters: {'random_state': 519632, 'learning_rate': 0.08700839599912077, 'bagging_temperature': 1.3609858438600455, 'max_depth': 9, 'random_strength': 8, 'l2_leaf_reg': 2.492950756787508e-06, 'min_child_samples': 78, 'max_bin': 496, 'od_type': 'IncToDec', 'task_type': 'GPU', 'loss_function': 'MAE', 'eval_metric': 'MAE'}. Best is trial 121 with value: 5.343377942063889.\u001b[0m\n"
     ]
    },
    {
     "name": "stdout",
     "output_type": "stream",
     "text": [
      "MAE of Train: 5.17250576453686\n",
      "MAE of Validation: 5.351353018104292\n"
     ]
    },
    {
     "name": "stderr",
     "output_type": "stream",
     "text": [
      "\u001b[32m[I 2022-03-27 04:07:10,150]\u001b[0m Trial 264 finished with value: 5.348970078556811 and parameters: {'random_state': 519632, 'learning_rate': 0.05221743533279602, 'bagging_temperature': 1.0309008228188463, 'max_depth': 9, 'random_strength': 16, 'l2_leaf_reg': 4.5251596378780586e-07, 'min_child_samples': 73, 'max_bin': 482, 'od_type': 'IncToDec', 'task_type': 'GPU', 'loss_function': 'MAE', 'eval_metric': 'MAE'}. Best is trial 121 with value: 5.343377942063889.\u001b[0m\n"
     ]
    },
    {
     "name": "stdout",
     "output_type": "stream",
     "text": [
      "MAE of Train: 5.212494237516022\n",
      "MAE of Validation: 5.348970078556811\n"
     ]
    },
    {
     "name": "stderr",
     "output_type": "stream",
     "text": [
      "\u001b[32m[I 2022-03-27 04:07:15,871]\u001b[0m Trial 265 finished with value: 6.522050406985992 and parameters: {'random_state': 519632, 'learning_rate': 0.001610841971544242, 'bagging_temperature': 1.750045320728388, 'max_depth': 9, 'random_strength': 13, 'l2_leaf_reg': 7.526311867282249e-06, 'min_child_samples': 71, 'max_bin': 474, 'od_type': 'IncToDec', 'task_type': 'GPU', 'loss_function': 'MAE', 'eval_metric': 'MAE'}. Best is trial 121 with value: 5.343377942063889.\u001b[0m\n"
     ]
    },
    {
     "name": "stdout",
     "output_type": "stream",
     "text": [
      "MAE of Train: 6.513154418996554\n",
      "MAE of Validation: 6.522050406985992\n"
     ]
    },
    {
     "name": "stderr",
     "output_type": "stream",
     "text": [
      "\u001b[32m[I 2022-03-27 04:07:21,284]\u001b[0m Trial 266 finished with value: 5.351464636119381 and parameters: {'random_state': 519632, 'learning_rate': 0.059784515659490646, 'bagging_temperature': 2.4151238746647903, 'max_depth': 9, 'random_strength': 28, 'l2_leaf_reg': 1.1533235912288138e-05, 'min_child_samples': 58, 'max_bin': 488, 'od_type': 'IncToDec', 'task_type': 'GPU', 'loss_function': 'MAE', 'eval_metric': 'MAE'}. Best is trial 121 with value: 5.343377942063889.\u001b[0m\n"
     ]
    },
    {
     "name": "stdout",
     "output_type": "stream",
     "text": [
      "MAE of Train: 5.1949240142182935\n",
      "MAE of Validation: 5.351464636119381\n"
     ]
    },
    {
     "name": "stderr",
     "output_type": "stream",
     "text": [
      "\u001b[32m[I 2022-03-27 04:07:26,615]\u001b[0m Trial 267 finished with value: 5.34612815949493 and parameters: {'random_state': 519632, 'learning_rate': 0.07024280636576063, 'bagging_temperature': 1.2597068894780825, 'max_depth': 9, 'random_strength': 26, 'l2_leaf_reg': 1.174668341904753e-05, 'min_child_samples': 67, 'max_bin': 478, 'od_type': 'IncToDec', 'task_type': 'GPU', 'loss_function': 'MAE', 'eval_metric': 'MAE'}. Best is trial 121 with value: 5.343377942063889.\u001b[0m\n"
     ]
    },
    {
     "name": "stdout",
     "output_type": "stream",
     "text": [
      "MAE of Train: 5.182432065013656\n",
      "MAE of Validation: 5.34612815949493\n"
     ]
    },
    {
     "name": "stderr",
     "output_type": "stream",
     "text": [
      "\u001b[32m[I 2022-03-27 04:07:31,227]\u001b[0m Trial 268 finished with value: 5.350181456484331 and parameters: {'random_state': 519632, 'learning_rate': 0.0711344286296775, 'bagging_temperature': 1.4693966716059033, 'max_depth': 9, 'random_strength': 25, 'l2_leaf_reg': 1.1545344954239176e-05, 'min_child_samples': 68, 'max_bin': 473, 'od_type': 'IncToDec', 'task_type': 'GPU', 'loss_function': 'MAE', 'eval_metric': 'MAE'}. Best is trial 121 with value: 5.343377942063889.\u001b[0m\n"
     ]
    },
    {
     "name": "stdout",
     "output_type": "stream",
     "text": [
      "MAE of Train: 5.20752238533271\n",
      "MAE of Validation: 5.350181456484331\n"
     ]
    },
    {
     "name": "stderr",
     "output_type": "stream",
     "text": [
      "\u001b[32m[I 2022-03-27 04:07:34,489]\u001b[0m Trial 269 finished with value: 5.413398069631255 and parameters: {'random_state': 519632, 'learning_rate': 0.11319227492245934, 'bagging_temperature': 1.9238454852888358, 'max_depth': 3, 'random_strength': 20, 'l2_leaf_reg': 1.2238556436018044e-05, 'min_child_samples': 67, 'max_bin': 495, 'od_type': 'IncToDec', 'task_type': 'GPU', 'loss_function': 'MAE', 'eval_metric': 'MAE'}. Best is trial 121 with value: 5.343377942063889.\u001b[0m\n"
     ]
    },
    {
     "name": "stdout",
     "output_type": "stream",
     "text": [
      "MAE of Train: 5.407807367889805\n",
      "MAE of Validation: 5.413398069631255\n"
     ]
    },
    {
     "name": "stderr",
     "output_type": "stream",
     "text": [
      "\u001b[32m[I 2022-03-27 04:07:38,861]\u001b[0m Trial 270 finished with value: 5.350914311935809 and parameters: {'random_state': 519632, 'learning_rate': 0.09023400775662348, 'bagging_temperature': 1.2967444818232141, 'max_depth': 9, 'random_strength': 24, 'l2_leaf_reg': 1.0954338809358069e-05, 'min_child_samples': 71, 'max_bin': 469, 'od_type': 'IncToDec', 'task_type': 'GPU', 'loss_function': 'MAE', 'eval_metric': 'MAE'}. Best is trial 121 with value: 5.343377942063889.\u001b[0m\n"
     ]
    },
    {
     "name": "stdout",
     "output_type": "stream",
     "text": [
      "MAE of Train: 5.184523339943509\n",
      "MAE of Validation: 5.350914311935809\n"
     ]
    },
    {
     "name": "stderr",
     "output_type": "stream",
     "text": [
      "\u001b[32m[I 2022-03-27 04:07:44,282]\u001b[0m Trial 271 finished with value: 5.350078988788812 and parameters: {'random_state': 519632, 'learning_rate': 0.07622879647406174, 'bagging_temperature': 0.8377588326804611, 'max_depth': 9, 'random_strength': 17, 'l2_leaf_reg': 1.0422124674637094e-05, 'min_child_samples': 66, 'max_bin': 479, 'od_type': 'IncToDec', 'task_type': 'GPU', 'loss_function': 'MAE', 'eval_metric': 'MAE'}. Best is trial 121 with value: 5.343377942063889.\u001b[0m\n"
     ]
    },
    {
     "name": "stdout",
     "output_type": "stream",
     "text": [
      "MAE of Train: 5.174950146258676\n",
      "MAE of Validation: 5.350078988788812\n"
     ]
    },
    {
     "name": "stderr",
     "output_type": "stream",
     "text": [
      "\u001b[32m[I 2022-03-27 04:07:48,258]\u001b[0m Trial 272 finished with value: 5.349282880269445 and parameters: {'random_state': 519632, 'learning_rate': 0.10218248909179999, 'bagging_temperature': 1.5884297189601417, 'max_depth': 9, 'random_strength': 27, 'l2_leaf_reg': 1.187009344339404e-05, 'min_child_samples': 74, 'max_bin': 487, 'od_type': 'IncToDec', 'task_type': 'GPU', 'loss_function': 'MAE', 'eval_metric': 'MAE'}. Best is trial 121 with value: 5.343377942063889.\u001b[0m\n"
     ]
    },
    {
     "name": "stdout",
     "output_type": "stream",
     "text": [
      "MAE of Train: 5.163802089670293\n",
      "MAE of Validation: 5.349282880269445\n"
     ]
    },
    {
     "name": "stderr",
     "output_type": "stream",
     "text": [
      "\u001b[32m[I 2022-03-27 04:07:53,450]\u001b[0m Trial 273 finished with value: 5.352367398110194 and parameters: {'random_state': 519632, 'learning_rate': 0.06799155038993465, 'bagging_temperature': 1.1979891842885866, 'max_depth': 9, 'random_strength': 10, 'l2_leaf_reg': 1.4497427035384867e-05, 'min_child_samples': 58, 'max_bin': 483, 'od_type': 'IncToDec', 'task_type': 'GPU', 'loss_function': 'MAE', 'eval_metric': 'MAE'}. Best is trial 121 with value: 5.343377942063889.\u001b[0m\n"
     ]
    },
    {
     "name": "stdout",
     "output_type": "stream",
     "text": [
      "MAE of Train: 5.191485802055327\n",
      "MAE of Validation: 5.352367398110194\n"
     ]
    },
    {
     "name": "stderr",
     "output_type": "stream",
     "text": [
      "\u001b[32m[I 2022-03-27 04:07:57,862]\u001b[0m Trial 274 finished with value: 5.35284593977431 and parameters: {'random_state': 519632, 'learning_rate': 0.0852967591132535, 'bagging_temperature': 2.072203845287478, 'max_depth': 9, 'random_strength': 14, 'l2_leaf_reg': 1.2406179931813863e-05, 'min_child_samples': 60, 'max_bin': 499, 'od_type': 'IncToDec', 'task_type': 'GPU', 'loss_function': 'MAE', 'eval_metric': 'MAE'}. Best is trial 121 with value: 5.343377942063889.\u001b[0m\n"
     ]
    },
    {
     "name": "stdout",
     "output_type": "stream",
     "text": [
      "MAE of Train: 5.171050436194207\n",
      "MAE of Validation: 5.35284593977431\n"
     ]
    },
    {
     "name": "stderr",
     "output_type": "stream",
     "text": [
      "\u001b[32m[I 2022-03-27 04:08:01,168]\u001b[0m Trial 275 finished with value: 5.356559757342776 and parameters: {'random_state': 519632, 'learning_rate': 0.1399887308149439, 'bagging_temperature': 1.637369700734196, 'max_depth': 9, 'random_strength': 26, 'l2_leaf_reg': 1.390037687381695e-05, 'min_child_samples': 56, 'max_bin': 491, 'od_type': 'IncToDec', 'task_type': 'GPU', 'loss_function': 'MAE', 'eval_metric': 'MAE'}. Best is trial 121 with value: 5.343377942063889.\u001b[0m\n"
     ]
    },
    {
     "name": "stdout",
     "output_type": "stream",
     "text": [
      "MAE of Train: 5.150706816454566\n",
      "MAE of Validation: 5.356559757342776\n"
     ]
    },
    {
     "name": "stderr",
     "output_type": "stream",
     "text": [
      "\u001b[32m[I 2022-03-27 04:08:07,031]\u001b[0m Trial 276 finished with value: 5.347218502843605 and parameters: {'random_state': 519632, 'learning_rate': 0.05619893274570804, 'bagging_temperature': 0.9895936392616635, 'max_depth': 9, 'random_strength': 23, 'l2_leaf_reg': 1.1783876848401653e-05, 'min_child_samples': 70, 'max_bin': 477, 'od_type': 'IncToDec', 'task_type': 'GPU', 'loss_function': 'MAE', 'eval_metric': 'MAE'}. Best is trial 121 with value: 5.343377942063889.\u001b[0m\n"
     ]
    },
    {
     "name": "stdout",
     "output_type": "stream",
     "text": [
      "MAE of Train: 5.202852857474014\n",
      "MAE of Validation: 5.347218502843605\n"
     ]
    },
    {
     "name": "stderr",
     "output_type": "stream",
     "text": [
      "\u001b[32m[I 2022-03-27 04:08:12,784]\u001b[0m Trial 277 finished with value: 5.352181574448195 and parameters: {'random_state': 519632, 'learning_rate': 0.0457276072246671, 'bagging_temperature': 0.9650630733238061, 'max_depth': 9, 'random_strength': 24, 'l2_leaf_reg': 1.0644355973120127e-05, 'min_child_samples': 68, 'max_bin': 470, 'od_type': 'IncToDec', 'task_type': 'GPU', 'loss_function': 'MAE', 'eval_metric': 'MAE'}. Best is trial 121 with value: 5.343377942063889.\u001b[0m\n"
     ]
    },
    {
     "name": "stdout",
     "output_type": "stream",
     "text": [
      "MAE of Train: 5.244681814604651\n",
      "MAE of Validation: 5.352181574448195\n"
     ]
    },
    {
     "name": "stderr",
     "output_type": "stream",
     "text": [
      "\u001b[32m[I 2022-03-27 04:08:17,259]\u001b[0m Trial 278 finished with value: 5.380363029566978 and parameters: {'random_state': 519632, 'learning_rate': 0.04099430923744114, 'bagging_temperature': 0.7976126224349409, 'max_depth': 7, 'random_strength': 19, 'l2_leaf_reg': 1.1404548868045163e-05, 'min_child_samples': 72, 'max_bin': 476, 'od_type': 'IncToDec', 'task_type': 'GPU', 'loss_function': 'MAE', 'eval_metric': 'MAE'}. Best is trial 121 with value: 5.343377942063889.\u001b[0m\n"
     ]
    },
    {
     "name": "stdout",
     "output_type": "stream",
     "text": [
      "MAE of Train: 5.3452196697802306\n",
      "MAE of Validation: 5.380363029566978\n"
     ]
    },
    {
     "name": "stderr",
     "output_type": "stream",
     "text": [
      "\u001b[32m[I 2022-03-27 04:08:21,175]\u001b[0m Trial 279 finished with value: 5.393489106857063 and parameters: {'random_state': 519632, 'learning_rate': 0.05516449495229169, 'bagging_temperature': 1.264966309899199, 'max_depth': 5, 'random_strength': 12, 'l2_leaf_reg': 1.1793961564623048e-05, 'min_child_samples': 68, 'max_bin': 463, 'od_type': 'IncToDec', 'task_type': 'GPU', 'loss_function': 'MAE', 'eval_metric': 'MAE'}. Best is trial 121 with value: 5.343377942063889.\u001b[0m\n"
     ]
    },
    {
     "name": "stdout",
     "output_type": "stream",
     "text": [
      "MAE of Train: 5.379241945649424\n",
      "MAE of Validation: 5.393489106857063\n"
     ]
    },
    {
     "name": "stderr",
     "output_type": "stream",
     "text": [
      "\u001b[32m[I 2022-03-27 04:08:26,407]\u001b[0m Trial 280 finished with value: 5.354671396790471 and parameters: {'random_state': 519632, 'learning_rate': 0.0807252495010413, 'bagging_temperature': 0.9977461135406877, 'max_depth': 9, 'random_strength': 28, 'l2_leaf_reg': 1.0996783227253781e-05, 'min_child_samples': 75, 'max_bin': 377, 'od_type': 'IncToDec', 'task_type': 'GPU', 'loss_function': 'MAE', 'eval_metric': 'MAE'}. Best is trial 121 with value: 5.343377942063889.\u001b[0m\n"
     ]
    },
    {
     "name": "stdout",
     "output_type": "stream",
     "text": [
      "MAE of Train: 5.192730488701668\n",
      "MAE of Validation: 5.354671396790471\n"
     ]
    },
    {
     "name": "stderr",
     "output_type": "stream",
     "text": [
      "\u001b[32m[I 2022-03-27 04:08:32,280]\u001b[0m Trial 281 finished with value: 5.349276717449336 and parameters: {'random_state': 519632, 'learning_rate': 0.0514491220422017, 'bagging_temperature': 1.110288160015116, 'max_depth': 9, 'random_strength': 6, 'l2_leaf_reg': 1.6513174171399338e-05, 'min_child_samples': 70, 'max_bin': 490, 'od_type': 'IncToDec', 'task_type': 'GPU', 'loss_function': 'MAE', 'eval_metric': 'MAE'}. Best is trial 121 with value: 5.343377942063889.\u001b[0m\n"
     ]
    },
    {
     "name": "stdout",
     "output_type": "stream",
     "text": [
      "MAE of Train: 5.211765449395557\n",
      "MAE of Validation: 5.349276717449336\n"
     ]
    },
    {
     "name": "stderr",
     "output_type": "stream",
     "text": [
      "\u001b[32m[I 2022-03-27 04:08:35,730]\u001b[0m Trial 282 finished with value: 11.435642335678176 and parameters: {'random_state': 519632, 'learning_rate': 0.00030075078000320484, 'bagging_temperature': 0.7724934726126399, 'max_depth': 4, 'random_strength': 16, 'l2_leaf_reg': 1.2162935232337293e-05, 'min_child_samples': 70, 'max_bin': 357, 'od_type': 'IncToDec', 'task_type': 'GPU', 'loss_function': 'MAE', 'eval_metric': 'MAE'}. Best is trial 121 with value: 5.343377942063889.\u001b[0m\n"
     ]
    },
    {
     "name": "stdout",
     "output_type": "stream",
     "text": [
      "MAE of Train: 11.436340826800008\n",
      "MAE of Validation: 11.435642335678176\n"
     ]
    },
    {
     "name": "stderr",
     "output_type": "stream",
     "text": [
      "\u001b[32m[I 2022-03-27 04:08:41,363]\u001b[0m Trial 283 finished with value: 5.3451207026663745 and parameters: {'random_state': 519632, 'learning_rate': 0.06688685409440702, 'bagging_temperature': 1.3939134537579503, 'max_depth': 9, 'random_strength': 8, 'l2_leaf_reg': 1.0292232753629659e-05, 'min_child_samples': 65, 'max_bin': 484, 'od_type': 'IncToDec', 'task_type': 'GPU', 'loss_function': 'MAE', 'eval_metric': 'MAE'}. Best is trial 121 with value: 5.343377942063889.\u001b[0m\n"
     ]
    },
    {
     "name": "stdout",
     "output_type": "stream",
     "text": [
      "MAE of Train: 5.168726479784229\n",
      "MAE of Validation: 5.3451207026663745\n"
     ]
    },
    {
     "name": "stderr",
     "output_type": "stream",
     "text": [
      "\u001b[32m[I 2022-03-27 04:08:47,173]\u001b[0m Trial 284 finished with value: 5.3469254485127875 and parameters: {'random_state': 519632, 'learning_rate': 0.05984761625624468, 'bagging_temperature': 1.4471848677458932, 'max_depth': 9, 'random_strength': 8, 'l2_leaf_reg': 1.0238803734345132e-05, 'min_child_samples': 65, 'max_bin': 486, 'od_type': 'IncToDec', 'task_type': 'GPU', 'loss_function': 'MAE', 'eval_metric': 'MAE'}. Best is trial 121 with value: 5.343377942063889.\u001b[0m\n"
     ]
    },
    {
     "name": "stdout",
     "output_type": "stream",
     "text": [
      "MAE of Train: 5.179934213553424\n",
      "MAE of Validation: 5.3469254485127875\n"
     ]
    },
    {
     "name": "stderr",
     "output_type": "stream",
     "text": [
      "\u001b[32m[I 2022-03-27 04:08:52,549]\u001b[0m Trial 285 finished with value: 5.348451370564755 and parameters: {'random_state': 519632, 'learning_rate': 0.06493609288878886, 'bagging_temperature': 1.416107046272045, 'max_depth': 9, 'random_strength': 5, 'l2_leaf_reg': 1.054087005940378e-05, 'min_child_samples': 65, 'max_bin': 496, 'od_type': 'IncToDec', 'task_type': 'GPU', 'loss_function': 'MAE', 'eval_metric': 'MAE'}. Best is trial 121 with value: 5.343377942063889.\u001b[0m\n"
     ]
    },
    {
     "name": "stdout",
     "output_type": "stream",
     "text": [
      "MAE of Train: 5.186707218625056\n",
      "MAE of Validation: 5.348451370564755\n"
     ]
    },
    {
     "name": "stderr",
     "output_type": "stream",
     "text": [
      "\u001b[32m[I 2022-03-27 04:08:57,361]\u001b[0m Trial 286 finished with value: 5.352788781224127 and parameters: {'random_state': 519632, 'learning_rate': 0.06909877245428322, 'bagging_temperature': 2.2402151357871682, 'max_depth': 9, 'random_strength': 9, 'l2_leaf_reg': 1.0104802011081065e-05, 'min_child_samples': 68, 'max_bin': 487, 'od_type': 'IncToDec', 'task_type': 'GPU', 'loss_function': 'MAE', 'eval_metric': 'MAE'}. Best is trial 121 with value: 5.343377942063889.\u001b[0m\n"
     ]
    },
    {
     "name": "stdout",
     "output_type": "stream",
     "text": [
      "MAE of Train: 5.183247284200261\n",
      "MAE of Validation: 5.352788781224127\n"
     ]
    },
    {
     "name": "stderr",
     "output_type": "stream",
     "text": [
      "\u001b[32m[I 2022-03-27 04:09:01,256]\u001b[0m Trial 287 finished with value: 5.353680881457106 and parameters: {'random_state': 519632, 'learning_rate': 0.09913479525565917, 'bagging_temperature': 0.534573415394071, 'max_depth': 9, 'random_strength': 3, 'l2_leaf_reg': 9.059072515286005e-06, 'min_child_samples': 53, 'max_bin': 266, 'od_type': 'IncToDec', 'task_type': 'GPU', 'loss_function': 'MAE', 'eval_metric': 'MAE'}. Best is trial 121 with value: 5.343377942063889.\u001b[0m\n"
     ]
    },
    {
     "name": "stdout",
     "output_type": "stream",
     "text": [
      "MAE of Train: 5.212215735519516\n",
      "MAE of Validation: 5.353680881457106\n"
     ]
    },
    {
     "name": "stderr",
     "output_type": "stream",
     "text": [
      "\u001b[32m[I 2022-03-27 04:09:06,734]\u001b[0m Trial 288 finished with value: 5.35089694644906 and parameters: {'random_state': 519632, 'learning_rate': 0.06126434367157891, 'bagging_temperature': 1.6775340097849958, 'max_depth': 9, 'random_strength': 8, 'l2_leaf_reg': 9.5493504443465e-06, 'min_child_samples': 72, 'max_bin': 485, 'od_type': 'IncToDec', 'task_type': 'GPU', 'loss_function': 'MAE', 'eval_metric': 'MAE'}. Best is trial 121 with value: 5.343377942063889.\u001b[0m\n"
     ]
    },
    {
     "name": "stdout",
     "output_type": "stream",
     "text": [
      "MAE of Train: 5.18505555609256\n",
      "MAE of Validation: 5.35089694644906\n"
     ]
    },
    {
     "name": "stderr",
     "output_type": "stream",
     "text": [
      "\u001b[32m[I 2022-03-27 04:09:11,878]\u001b[0m Trial 289 finished with value: 5.347909841632369 and parameters: {'random_state': 519632, 'learning_rate': 0.07589912833367132, 'bagging_temperature': 1.2591162500682183, 'max_depth': 9, 'random_strength': 9, 'l2_leaf_reg': 9.962210326850306e-06, 'min_child_samples': 66, 'max_bin': 500, 'od_type': 'IncToDec', 'task_type': 'GPU', 'loss_function': 'MAE', 'eval_metric': 'MAE'}. Best is trial 121 with value: 5.343377942063889.\u001b[0m\n"
     ]
    },
    {
     "name": "stdout",
     "output_type": "stream",
     "text": [
      "MAE of Train: 5.169481753938656\n",
      "MAE of Validation: 5.347909841632369\n"
     ]
    },
    {
     "name": "stderr",
     "output_type": "stream",
     "text": [
      "\u001b[32m[I 2022-03-27 04:09:17,687]\u001b[0m Trial 290 finished with value: 5.357133622766984 and parameters: {'random_state': 519632, 'learning_rate': 0.03838971957067937, 'bagging_temperature': 0.9034588997686178, 'max_depth': 9, 'random_strength': 7, 'l2_leaf_reg': 1.1067592201533269e-05, 'min_child_samples': 62, 'max_bin': 491, 'od_type': 'IncToDec', 'task_type': 'GPU', 'loss_function': 'MAE', 'eval_metric': 'MAE'}. Best is trial 121 with value: 5.343377942063889.\u001b[0m\n"
     ]
    },
    {
     "name": "stdout",
     "output_type": "stream",
     "text": [
      "MAE of Train: 5.261901790543099\n",
      "MAE of Validation: 5.357133622766984\n"
     ]
    },
    {
     "name": "stderr",
     "output_type": "stream",
     "text": [
      "\u001b[32m[I 2022-03-27 04:09:21,154]\u001b[0m Trial 291 finished with value: 5.357749048469806 and parameters: {'random_state': 519632, 'learning_rate': 0.11426257024913584, 'bagging_temperature': 2.954984627740173, 'max_depth': 9, 'random_strength': 11, 'l2_leaf_reg': 9.479252785931583e-06, 'min_child_samples': 64, 'max_bin': 482, 'od_type': 'IncToDec', 'task_type': 'GPU', 'loss_function': 'MAE', 'eval_metric': 'MAE'}. Best is trial 121 with value: 5.343377942063889.\u001b[0m\n"
     ]
    },
    {
     "name": "stdout",
     "output_type": "stream",
     "text": [
      "MAE of Train: 5.176477340987851\n",
      "MAE of Validation: 5.357749048469806\n"
     ]
    },
    {
     "name": "stderr",
     "output_type": "stream",
     "text": [
      "\u001b[32m[I 2022-03-27 04:09:27,064]\u001b[0m Trial 292 finished with value: 5.350715194000127 and parameters: {'random_state': 519632, 'learning_rate': 0.05047582696497954, 'bagging_temperature': 1.5546729965132635, 'max_depth': 9, 'random_strength': 25, 'l2_leaf_reg': 8.30170823128014e-06, 'min_child_samples': 70, 'max_bin': 493, 'od_type': 'IncToDec', 'task_type': 'GPU', 'loss_function': 'MAE', 'eval_metric': 'MAE'}. Best is trial 121 with value: 5.343377942063889.\u001b[0m\n"
     ]
    },
    {
     "name": "stdout",
     "output_type": "stream",
     "text": [
      "MAE of Train: 5.2170607863905225\n",
      "MAE of Validation: 5.350715194000127\n"
     ]
    },
    {
     "name": "stderr",
     "output_type": "stream",
     "text": [
      "\u001b[32m[I 2022-03-27 04:09:32,129]\u001b[0m Trial 293 finished with value: 5.348385979246335 and parameters: {'random_state': 519632, 'learning_rate': 0.0927792275803052, 'bagging_temperature': 1.1238037002189702, 'max_depth': 9, 'random_strength': 27, 'l2_leaf_reg': 2.216786571761603e-08, 'min_child_samples': 51, 'max_bin': 485, 'od_type': 'IncToDec', 'task_type': 'GPU', 'loss_function': 'MAE', 'eval_metric': 'MAE'}. Best is trial 121 with value: 5.343377942063889.\u001b[0m\n"
     ]
    },
    {
     "name": "stdout",
     "output_type": "stream",
     "text": [
      "MAE of Train: 5.150884058743653\n",
      "MAE of Validation: 5.348385979246335\n"
     ]
    },
    {
     "name": "stderr",
     "output_type": "stream",
     "text": [
      "\u001b[32m[I 2022-03-27 04:09:38,026]\u001b[0m Trial 294 finished with value: 5.348045626561472 and parameters: {'random_state': 519632, 'learning_rate': 0.07312781883710845, 'bagging_temperature': 0.5852311317726901, 'max_depth': 9, 'random_strength': 29, 'l2_leaf_reg': 1.0298607497118908e-05, 'min_child_samples': 55, 'max_bin': 476, 'od_type': 'IncToDec', 'task_type': 'GPU', 'loss_function': 'MAE', 'eval_metric': 'MAE'}. Best is trial 121 with value: 5.343377942063889.\u001b[0m\n"
     ]
    },
    {
     "name": "stdout",
     "output_type": "stream",
     "text": [
      "MAE of Train: 5.174683397294975\n",
      "MAE of Validation: 5.348045626561472\n"
     ]
    },
    {
     "name": "stderr",
     "output_type": "stream",
     "text": [
      "\u001b[32m[I 2022-03-27 04:09:43,856]\u001b[0m Trial 295 finished with value: 5.34971331984399 and parameters: {'random_state': 519632, 'learning_rate': 0.06254413181382283, 'bagging_temperature': 1.9342784381456282, 'max_depth': 9, 'random_strength': 6, 'l2_leaf_reg': 1.5188737108084447e-05, 'min_child_samples': 49, 'max_bin': 469, 'od_type': 'IncToDec', 'task_type': 'GPU', 'loss_function': 'MAE', 'eval_metric': 'MAE'}. Best is trial 121 with value: 5.343377942063889.\u001b[0m\n"
     ]
    },
    {
     "name": "stdout",
     "output_type": "stream",
     "text": [
      "MAE of Train: 5.1642678719638315\n",
      "MAE of Validation: 5.34971331984399\n"
     ]
    },
    {
     "name": "stderr",
     "output_type": "stream",
     "text": [
      "\u001b[32m[I 2022-03-27 04:09:47,957]\u001b[0m Trial 296 finished with value: 5.35009606755622 and parameters: {'random_state': 519632, 'learning_rate': 0.08680091974832933, 'bagging_temperature': 1.3923247009810502, 'max_depth': 9, 'random_strength': 22, 'l2_leaf_reg': 8.76753328353215e-06, 'min_child_samples': 75, 'max_bin': 456, 'od_type': 'IncToDec', 'task_type': 'GPU', 'loss_function': 'MAE', 'eval_metric': 'MAE'}. Best is trial 121 with value: 5.343377942063889.\u001b[0m\n"
     ]
    },
    {
     "name": "stdout",
     "output_type": "stream",
     "text": [
      "MAE of Train: 5.1987825444822\n",
      "MAE of Validation: 5.35009606755622\n"
     ]
    },
    {
     "name": "stderr",
     "output_type": "stream",
     "text": [
      "\u001b[32m[I 2022-03-27 04:09:52,969]\u001b[0m Trial 297 finished with value: 5.356332270134116 and parameters: {'random_state': 519632, 'learning_rate': 0.0562099514546084, 'bagging_temperature': 1.0127555658190617, 'max_depth': 9, 'random_strength': 4, 'l2_leaf_reg': 1.1309381682851096e-05, 'min_child_samples': 60, 'max_bin': 490, 'od_type': 'IncToDec', 'task_type': 'GPU', 'loss_function': 'MAE', 'eval_metric': 'MAE'}. Best is trial 121 with value: 5.343377942063889.\u001b[0m\n"
     ]
    },
    {
     "name": "stdout",
     "output_type": "stream",
     "text": [
      "MAE of Train: 5.2321464672326465\n",
      "MAE of Validation: 5.356332270134116\n"
     ]
    },
    {
     "name": "stderr",
     "output_type": "stream",
     "text": [
      "\u001b[32m[I 2022-03-27 04:09:58,061]\u001b[0m Trial 298 finished with value: 5.349558701158809 and parameters: {'random_state': 519632, 'learning_rate': 0.06914929555844494, 'bagging_temperature': 0.6417448272263817, 'max_depth': 9, 'random_strength': 11, 'l2_leaf_reg': 5.412515204480911e-06, 'min_child_samples': 67, 'max_bin': 500, 'od_type': 'IncToDec', 'task_type': 'GPU', 'loss_function': 'MAE', 'eval_metric': 'MAE'}. Best is trial 121 with value: 5.343377942063889.\u001b[0m\n"
     ]
    },
    {
     "name": "stdout",
     "output_type": "stream",
     "text": [
      "MAE of Train: 5.207192359775061\n",
      "MAE of Validation: 5.349558701158809\n"
     ]
    },
    {
     "name": "stderr",
     "output_type": "stream",
     "text": [
      "\u001b[32m[I 2022-03-27 04:10:03,887]\u001b[0m Trial 299 finished with value: 5.354583446475711 and parameters: {'random_state': 519632, 'learning_rate': 0.045527247775258496, 'bagging_temperature': 2.361713928733583, 'max_depth': 9, 'random_strength': 23, 'l2_leaf_reg': 7.338500950779179e-06, 'min_child_samples': 57, 'max_bin': 479, 'od_type': 'IncToDec', 'task_type': 'GPU', 'loss_function': 'MAE', 'eval_metric': 'MAE'}. Best is trial 121 with value: 5.343377942063889.\u001b[0m\n"
     ]
    },
    {
     "name": "stdout",
     "output_type": "stream",
     "text": [
      "MAE of Train: 5.2284410107082895\n",
      "MAE of Validation: 5.354583446475711\n"
     ]
    },
    {
     "name": "stderr",
     "output_type": "stream",
     "text": [
      "\u001b[32m[I 2022-03-27 04:10:07,484]\u001b[0m Trial 300 finished with value: 5.352454290729152 and parameters: {'random_state': 519632, 'learning_rate': 0.10047202402562772, 'bagging_temperature': 1.2686641086557107, 'max_depth': 9, 'random_strength': 8, 'l2_leaf_reg': 1.2918777819492968e-06, 'min_child_samples': 64, 'max_bin': 485, 'od_type': 'IncToDec', 'task_type': 'GPU', 'loss_function': 'MAE', 'eval_metric': 'MAE'}. Best is trial 121 with value: 5.343377942063889.\u001b[0m\n"
     ]
    },
    {
     "name": "stdout",
     "output_type": "stream",
     "text": [
      "MAE of Train: 5.198312395855139\n",
      "MAE of Validation: 5.352454290729152\n"
     ]
    },
    {
     "name": "stderr",
     "output_type": "stream",
     "text": [
      "\u001b[32m[I 2022-03-27 04:10:12,389]\u001b[0m Trial 301 finished with value: 5.356293345144913 and parameters: {'random_state': 519632, 'learning_rate': 0.078398555897848, 'bagging_temperature': 0.8741341586555612, 'max_depth': 8, 'random_strength': 31, 'l2_leaf_reg': 1.085838843363131e-05, 'min_child_samples': 52, 'max_bin': 493, 'od_type': 'IncToDec', 'task_type': 'GPU', 'loss_function': 'MAE', 'eval_metric': 'MAE'}. Best is trial 121 with value: 5.343377942063889.\u001b[0m\n"
     ]
    },
    {
     "name": "stdout",
     "output_type": "stream",
     "text": [
      "MAE of Train: 5.214886918438067\n",
      "MAE of Validation: 5.356293345144913\n"
     ]
    },
    {
     "name": "stderr",
     "output_type": "stream",
     "text": [
      "\u001b[32m[I 2022-03-27 04:10:15,877]\u001b[0m Trial 302 finished with value: 5.350877141657006 and parameters: {'random_state': 519632, 'learning_rate': 0.12109311129021058, 'bagging_temperature': 1.7259266336231027, 'max_depth': 9, 'random_strength': 14, 'l2_leaf_reg': 1.1513663550443273e-05, 'min_child_samples': 62, 'max_bin': 476, 'od_type': 'IncToDec', 'task_type': 'GPU', 'loss_function': 'MAE', 'eval_metric': 'MAE'}. Best is trial 121 with value: 5.343377942063889.\u001b[0m\n"
     ]
    },
    {
     "name": "stdout",
     "output_type": "stream",
     "text": [
      "MAE of Train: 5.167264162955015\n",
      "MAE of Validation: 5.350877141657006\n"
     ]
    },
    {
     "name": "stderr",
     "output_type": "stream",
     "text": [
      "\u001b[32m[I 2022-03-27 04:10:21,661]\u001b[0m Trial 303 finished with value: 5.348473997716228 and parameters: {'random_state': 519632, 'learning_rate': 0.06107789915642072, 'bagging_temperature': 1.5037295057644984, 'max_depth': 9, 'random_strength': 25, 'l2_leaf_reg': 1.312504267082428e-05, 'min_child_samples': 69, 'max_bin': 450, 'od_type': 'IncToDec', 'task_type': 'GPU', 'loss_function': 'MAE', 'eval_metric': 'MAE'}. Best is trial 121 with value: 5.343377942063889.\u001b[0m\n"
     ]
    },
    {
     "name": "stdout",
     "output_type": "stream",
     "text": [
      "MAE of Train: 5.1826241342570265\n",
      "MAE of Validation: 5.348473997716228\n"
     ]
    },
    {
     "name": "stderr",
     "output_type": "stream",
     "text": [
      "\u001b[32m[I 2022-03-27 04:10:26,074]\u001b[0m Trial 304 finished with value: 5.353680298112672 and parameters: {'random_state': 519632, 'learning_rate': 0.08747440025719402, 'bagging_temperature': 0.7497039467663928, 'max_depth': 9, 'random_strength': 27, 'l2_leaf_reg': 4.358639324767685e-06, 'min_child_samples': 72, 'max_bin': 484, 'od_type': 'IncToDec', 'task_type': 'GPU', 'loss_function': 'MAE', 'eval_metric': 'MAE'}. Best is trial 121 with value: 5.343377942063889.\u001b[0m\n"
     ]
    },
    {
     "name": "stdout",
     "output_type": "stream",
     "text": [
      "MAE of Train: 5.1885778096413775\n",
      "MAE of Validation: 5.353680298112672\n"
     ]
    },
    {
     "name": "stderr",
     "output_type": "stream",
     "text": [
      "\u001b[32m[I 2022-03-27 04:10:31,821]\u001b[0m Trial 305 finished with value: 5.3544931062880785 and parameters: {'random_state': 519632, 'learning_rate': 0.052402879664634174, 'bagging_temperature': 1.1447070814928035, 'max_depth': 9, 'random_strength': 40, 'l2_leaf_reg': 7.948967047855441e-06, 'min_child_samples': 55, 'max_bin': 470, 'od_type': 'IncToDec', 'task_type': 'GPU', 'loss_function': 'MAE', 'eval_metric': 'MAE'}. Best is trial 121 with value: 5.343377942063889.\u001b[0m\n"
     ]
    },
    {
     "name": "stdout",
     "output_type": "stream",
     "text": [
      "MAE of Train: 5.222911119104844\n",
      "MAE of Validation: 5.3544931062880785\n"
     ]
    },
    {
     "name": "stderr",
     "output_type": "stream",
     "text": [
      "\u001b[32m[I 2022-03-27 04:10:37,595]\u001b[0m Trial 306 finished with value: 5.348714407594224 and parameters: {'random_state': 519632, 'learning_rate': 0.0722200385230682, 'bagging_temperature': 2.0029687292148366, 'max_depth': 9, 'random_strength': 35, 'l2_leaf_reg': 1.0411002891054027e-05, 'min_child_samples': 66, 'max_bin': 463, 'od_type': 'IncToDec', 'task_type': 'GPU', 'loss_function': 'MAE', 'eval_metric': 'MAE'}. Best is trial 121 with value: 5.343377942063889.\u001b[0m\n"
     ]
    },
    {
     "name": "stdout",
     "output_type": "stream",
     "text": [
      "MAE of Train: 5.150591475285713\n",
      "MAE of Validation: 5.348714407594224\n"
     ]
    },
    {
     "name": "stderr",
     "output_type": "stream",
     "text": [
      "\u001b[32m[I 2022-03-27 04:10:43,429]\u001b[0m Trial 307 finished with value: 5.349988272345396 and parameters: {'random_state': 519632, 'learning_rate': 0.06144717016057567, 'bagging_temperature': 0.9550807806536474, 'max_depth': 9, 'random_strength': 20, 'l2_leaf_reg': 1.4122766363896333e-05, 'min_child_samples': 47, 'max_bin': 494, 'od_type': 'IncToDec', 'task_type': 'GPU', 'loss_function': 'MAE', 'eval_metric': 'MAE'}. Best is trial 121 with value: 5.343377942063889.\u001b[0m\n"
     ]
    },
    {
     "name": "stdout",
     "output_type": "stream",
     "text": [
      "MAE of Train: 5.193750212726948\n",
      "MAE of Validation: 5.349988272345396\n"
     ]
    },
    {
     "name": "stderr",
     "output_type": "stream",
     "text": [
      "\u001b[32m[I 2022-03-27 04:10:47,227]\u001b[0m Trial 308 finished with value: 5.350479488314314 and parameters: {'random_state': 519632, 'learning_rate': 0.09679974334692519, 'bagging_temperature': 1.338221453408193, 'max_depth': 9, 'random_strength': 10, 'l2_leaf_reg': 9.541784124552317e-06, 'min_child_samples': 60, 'max_bin': 480, 'od_type': 'IncToDec', 'task_type': 'GPU', 'loss_function': 'MAE', 'eval_metric': 'MAE'}. Best is trial 121 with value: 5.343377942063889.\u001b[0m\n"
     ]
    },
    {
     "name": "stdout",
     "output_type": "stream",
     "text": [
      "MAE of Train: 5.193929572762795\n",
      "MAE of Validation: 5.350479488314314\n"
     ]
    },
    {
     "name": "stderr",
     "output_type": "stream",
     "text": [
      "\u001b[32m[I 2022-03-27 04:10:52,397]\u001b[0m Trial 309 finished with value: 5.351616163572038 and parameters: {'random_state': 519632, 'learning_rate': 0.07508148334356732, 'bagging_temperature': 1.738068917587677, 'max_depth': 9, 'random_strength': 17, 'l2_leaf_reg': 6.375797693172409e-06, 'min_child_samples': 78, 'max_bin': 489, 'od_type': 'IncToDec', 'task_type': 'GPU', 'loss_function': 'MAE', 'eval_metric': 'MAE'}. Best is trial 121 with value: 5.343377942063889.\u001b[0m\n"
     ]
    },
    {
     "name": "stdout",
     "output_type": "stream",
     "text": [
      "MAE of Train: 5.174532335178371\n",
      "MAE of Validation: 5.351616163572038\n"
     ]
    },
    {
     "name": "stderr",
     "output_type": "stream",
     "text": [
      "\u001b[32m[I 2022-03-27 04:10:58,191]\u001b[0m Trial 310 finished with value: 5.404673906873604 and parameters: {'random_state': 519632, 'learning_rate': 0.019447034310495458, 'bagging_temperature': 1.1189754509824184, 'max_depth': 9, 'random_strength': 23, 'l2_leaf_reg': 1.2664142986929071e-05, 'min_child_samples': 49, 'max_bin': 472, 'od_type': 'IncToDec', 'task_type': 'GPU', 'loss_function': 'MAE', 'eval_metric': 'MAE'}. Best is trial 121 with value: 5.343377942063889.\u001b[0m\n"
     ]
    },
    {
     "name": "stdout",
     "output_type": "stream",
     "text": [
      "MAE of Train: 5.388736970906457\n",
      "MAE of Validation: 5.404673906873604\n"
     ]
    },
    {
     "name": "stderr",
     "output_type": "stream",
     "text": [
      "\u001b[32m[I 2022-03-27 04:11:04,124]\u001b[0m Trial 311 finished with value: 5.356365643868118 and parameters: {'random_state': 519632, 'learning_rate': 0.04662845519681774, 'bagging_temperature': 2.7888770744883544, 'max_depth': 9, 'random_strength': 29, 'l2_leaf_reg': 1.3580318343459922e-05, 'min_child_samples': 68, 'max_bin': 485, 'od_type': 'IncToDec', 'task_type': 'GPU', 'loss_function': 'MAE', 'eval_metric': 'MAE'}. Best is trial 121 with value: 5.343377942063889.\u001b[0m\n"
     ]
    },
    {
     "name": "stdout",
     "output_type": "stream",
     "text": [
      "MAE of Train: 5.2220287651499\n",
      "MAE of Validation: 5.356365643868118\n"
     ]
    },
    {
     "name": "stderr",
     "output_type": "stream",
     "text": [
      "\u001b[32m[I 2022-03-27 04:11:08,788]\u001b[0m Trial 312 finished with value: 5.347720479093121 and parameters: {'random_state': 519632, 'learning_rate': 0.08430165278296196, 'bagging_temperature': 1.5659140399325657, 'max_depth': 9, 'random_strength': 12, 'l2_leaf_reg': 2.4661591934786866e-06, 'min_child_samples': 64, 'max_bin': 477, 'od_type': 'IncToDec', 'task_type': 'GPU', 'loss_function': 'MAE', 'eval_metric': 'MAE'}. Best is trial 121 with value: 5.343377942063889.\u001b[0m\n"
     ]
    },
    {
     "name": "stdout",
     "output_type": "stream",
     "text": [
      "MAE of Train: 5.164503653191332\n",
      "MAE of Validation: 5.347720479093121\n"
     ]
    },
    {
     "name": "stderr",
     "output_type": "stream",
     "text": [
      "\u001b[32m[I 2022-03-27 04:11:14,352]\u001b[0m Trial 313 finished with value: 5.348535045065351 and parameters: {'random_state': 519632, 'learning_rate': 0.06608246738274631, 'bagging_temperature': 2.2127264953652617, 'max_depth': 9, 'random_strength': 15, 'l2_leaf_reg': 1.1795961409764069e-05, 'min_child_samples': 73, 'max_bin': 495, 'od_type': 'IncToDec', 'task_type': 'GPU', 'loss_function': 'MAE', 'eval_metric': 'MAE'}. Best is trial 121 with value: 5.343377942063889.\u001b[0m\n"
     ]
    },
    {
     "name": "stdout",
     "output_type": "stream",
     "text": [
      "MAE of Train: 5.175449124697482\n",
      "MAE of Validation: 5.348535045065351\n"
     ]
    },
    {
     "name": "stderr",
     "output_type": "stream",
     "text": [
      "\u001b[32m[I 2022-03-27 04:11:20,192]\u001b[0m Trial 314 finished with value: 5.5260440835817155 and parameters: {'random_state': 519632, 'learning_rate': 0.0038145057811689084, 'bagging_temperature': 1.3547539825011174, 'max_depth': 9, 'random_strength': 7, 'l2_leaf_reg': 8.332884729037401e-06, 'min_child_samples': 62, 'max_bin': 488, 'od_type': 'IncToDec', 'task_type': 'GPU', 'loss_function': 'MAE', 'eval_metric': 'MAE'}. Best is trial 121 with value: 5.343377942063889.\u001b[0m\n"
     ]
    },
    {
     "name": "stdout",
     "output_type": "stream",
     "text": [
      "MAE of Train: 5.533453041470297\n",
      "MAE of Validation: 5.5260440835817155\n"
     ]
    },
    {
     "name": "stderr",
     "output_type": "stream",
     "text": [
      "\u001b[32m[I 2022-03-27 04:11:26,011]\u001b[0m Trial 315 finished with value: 5.351130728389453 and parameters: {'random_state': 519632, 'learning_rate': 0.05478150431892986, 'bagging_temperature': 0.7567779579152941, 'max_depth': 9, 'random_strength': 21, 'l2_leaf_reg': 1.089572593796124e-05, 'min_child_samples': 58, 'max_bin': 461, 'od_type': 'IncToDec', 'task_type': 'GPU', 'loss_function': 'MAE', 'eval_metric': 'MAE'}. Best is trial 121 with value: 5.343377942063889.\u001b[0m\n"
     ]
    },
    {
     "name": "stdout",
     "output_type": "stream",
     "text": [
      "MAE of Train: 5.211093569876749\n",
      "MAE of Validation: 5.351130728389453\n"
     ]
    },
    {
     "name": "stderr",
     "output_type": "stream",
     "text": [
      "\u001b[32m[I 2022-03-27 04:11:30,978]\u001b[0m Trial 316 finished with value: 5.374731324919999 and parameters: {'random_state': 519632, 'learning_rate': 0.03405757642538801, 'bagging_temperature': 0.9710427527480049, 'max_depth': 8, 'random_strength': 26, 'l2_leaf_reg': 1.2331149957858042e-05, 'min_child_samples': 53, 'max_bin': 234, 'od_type': 'IncToDec', 'task_type': 'GPU', 'loss_function': 'MAE', 'eval_metric': 'MAE'}. Best is trial 121 with value: 5.343377942063889.\u001b[0m\n"
     ]
    },
    {
     "name": "stdout",
     "output_type": "stream",
     "text": [
      "MAE of Train: 5.332195911950438\n",
      "MAE of Validation: 5.374731324919999\n"
     ]
    },
    {
     "name": "stderr",
     "output_type": "stream",
     "text": [
      "\u001b[32m[I 2022-03-27 04:11:34,196]\u001b[0m Trial 317 finished with value: 5.353243736656964 and parameters: {'random_state': 519632, 'learning_rate': 0.11380770295592542, 'bagging_temperature': 1.7767021138170094, 'max_depth': 9, 'random_strength': 17, 'l2_leaf_reg': 1.4976283602074556e-05, 'min_child_samples': 70, 'max_bin': 482, 'od_type': 'IncToDec', 'task_type': 'GPU', 'loss_function': 'MAE', 'eval_metric': 'MAE'}. Best is trial 121 with value: 5.343377942063889.\u001b[0m\n"
     ]
    },
    {
     "name": "stdout",
     "output_type": "stream",
     "text": [
      "MAE of Train: 5.198216585350447\n",
      "MAE of Validation: 5.353243736656964\n"
     ]
    },
    {
     "name": "stderr",
     "output_type": "stream",
     "text": [
      "\u001b[32m[I 2022-03-27 04:11:40,308]\u001b[0m Trial 318 finished with value: 5.349359468794025 and parameters: {'random_state': 519632, 'learning_rate': 0.07217180909839642, 'bagging_temperature': 1.2352378161169075, 'max_depth': 9, 'random_strength': 24, 'l2_leaf_reg': 1.1514132560833531e-05, 'min_child_samples': 56, 'max_bin': 467, 'od_type': 'IncToDec', 'task_type': 'GPU', 'loss_function': 'MAE', 'eval_metric': 'MAE'}. Best is trial 121 with value: 5.343377942063889.\u001b[0m\n"
     ]
    },
    {
     "name": "stdout",
     "output_type": "stream",
     "text": [
      "MAE of Train: 5.15252546304935\n",
      "MAE of Validation: 5.349359468794025\n"
     ]
    },
    {
     "name": "stderr",
     "output_type": "stream",
     "text": [
      "\u001b[32m[I 2022-03-27 04:11:44,799]\u001b[0m Trial 319 finished with value: 5.349953641036561 and parameters: {'random_state': 519632, 'learning_rate': 0.08548126562831325, 'bagging_temperature': 1.5500567643855285, 'max_depth': 9, 'random_strength': 10, 'l2_leaf_reg': 9.979882642984086e-06, 'min_child_samples': 65, 'max_bin': 475, 'od_type': 'IncToDec', 'task_type': 'GPU', 'loss_function': 'MAE', 'eval_metric': 'MAE'}. Best is trial 121 with value: 5.343377942063889.\u001b[0m\n"
     ]
    },
    {
     "name": "stdout",
     "output_type": "stream",
     "text": [
      "MAE of Train: 5.184053941101124\n",
      "MAE of Validation: 5.349953641036561\n"
     ]
    },
    {
     "name": "stderr",
     "output_type": "stream",
     "text": [
      "\u001b[32m[I 2022-03-27 04:11:49,029]\u001b[0m Trial 320 finished with value: 5.379149722919034 and parameters: {'random_state': 519632, 'learning_rate': 0.06220804577761801, 'bagging_temperature': 0.8599142459102557, 'max_depth': 6, 'random_strength': 30, 'l2_leaf_reg': 1.3266239519753962e-05, 'min_child_samples': 51, 'max_bin': 489, 'od_type': 'IncToDec', 'task_type': 'GPU', 'loss_function': 'MAE', 'eval_metric': 'MAE'}. Best is trial 121 with value: 5.343377942063889.\u001b[0m\n"
     ]
    },
    {
     "name": "stdout",
     "output_type": "stream",
     "text": [
      "MAE of Train: 5.337780466405655\n",
      "MAE of Validation: 5.379149722919034\n"
     ]
    },
    {
     "name": "stderr",
     "output_type": "stream",
     "text": [
      "\u001b[32m[I 2022-03-27 04:11:54,981]\u001b[0m Trial 321 finished with value: 5.354071618537286 and parameters: {'random_state': 519632, 'learning_rate': 0.042916420535336036, 'bagging_temperature': 2.0225125856087542, 'max_depth': 9, 'random_strength': 14, 'l2_leaf_reg': 1.4496853163321765e-05, 'min_child_samples': 46, 'max_bin': 500, 'od_type': 'IncToDec', 'task_type': 'GPU', 'loss_function': 'MAE', 'eval_metric': 'MAE'}. Best is trial 121 with value: 5.343377942063889.\u001b[0m\n"
     ]
    },
    {
     "name": "stdout",
     "output_type": "stream",
     "text": [
      "MAE of Train: 5.23956513373355\n",
      "MAE of Validation: 5.354071618537286\n"
     ]
    },
    {
     "name": "stderr",
     "output_type": "stream",
     "text": [
      "\u001b[32m[I 2022-03-27 04:12:00,947]\u001b[0m Trial 322 finished with value: 5.35064601053218 and parameters: {'random_state': 519632, 'learning_rate': 0.05271437075453468, 'bagging_temperature': 0.6611583364132742, 'max_depth': 9, 'random_strength': 20, 'l2_leaf_reg': 8.942233952611456e-06, 'min_child_samples': 60, 'max_bin': 480, 'od_type': 'IncToDec', 'task_type': 'GPU', 'loss_function': 'MAE', 'eval_metric': 'MAE'}. Best is trial 121 with value: 5.343377942063889.\u001b[0m\n"
     ]
    },
    {
     "name": "stdout",
     "output_type": "stream",
     "text": [
      "MAE of Train: 5.230004638797072\n",
      "MAE of Validation: 5.35064601053218\n"
     ]
    },
    {
     "name": "stderr",
     "output_type": "stream",
     "text": [
      "\u001b[32m[I 2022-03-27 04:12:04,401]\u001b[0m Trial 323 finished with value: 5.356255864010364 and parameters: {'random_state': 519632, 'learning_rate': 0.13371532223124843, 'bagging_temperature': 1.087467692684163, 'max_depth': 9, 'random_strength': 27, 'l2_leaf_reg': 6.889006255249714e-06, 'min_child_samples': 67, 'max_bin': 494, 'od_type': 'IncToDec', 'task_type': 'GPU', 'loss_function': 'MAE', 'eval_metric': 'MAE'}. Best is trial 121 with value: 5.343377942063889.\u001b[0m\n"
     ]
    },
    {
     "name": "stdout",
     "output_type": "stream",
     "text": [
      "MAE of Train: 5.16936051794639\n",
      "MAE of Validation: 5.356255864010364\n"
     ]
    },
    {
     "name": "stderr",
     "output_type": "stream",
     "text": [
      "\u001b[32m[I 2022-03-27 04:12:09,971]\u001b[0m Trial 324 finished with value: 5.4926338331691476 and parameters: {'random_state': 519632, 'learning_rate': 0.007531504713456057, 'bagging_temperature': 1.3650786798839114, 'max_depth': 9, 'random_strength': 67, 'l2_leaf_reg': 1.3873949509998793e-05, 'min_child_samples': 74, 'max_bin': 470, 'od_type': 'IncToDec', 'task_type': 'GPU', 'loss_function': 'MAE', 'eval_metric': 'MAE'}. Best is trial 121 with value: 5.343377942063889.\u001b[0m\n"
     ]
    },
    {
     "name": "stdout",
     "output_type": "stream",
     "text": [
      "MAE of Train: 5.49874157272856\n",
      "MAE of Validation: 5.4926338331691476\n"
     ]
    },
    {
     "name": "stderr",
     "output_type": "stream",
     "text": [
      "\u001b[32m[I 2022-03-27 04:12:14,231]\u001b[0m Trial 325 finished with value: 5.350639198862001 and parameters: {'random_state': 519632, 'learning_rate': 0.09750704553326082, 'bagging_temperature': 1.7725425952687766, 'max_depth': 9, 'random_strength': 18, 'l2_leaf_reg': 1.279339199527558e-05, 'min_child_samples': 76, 'max_bin': 485, 'od_type': 'IncToDec', 'task_type': 'GPU', 'loss_function': 'MAE', 'eval_metric': 'MAE'}. Best is trial 121 with value: 5.343377942063889.\u001b[0m\n"
     ]
    },
    {
     "name": "stdout",
     "output_type": "stream",
     "text": [
      "MAE of Train: 5.166826164015041\n",
      "MAE of Validation: 5.350639198862001\n"
     ]
    },
    {
     "name": "stderr",
     "output_type": "stream",
     "text": [
      "\u001b[32m[I 2022-03-27 04:12:18,537]\u001b[0m Trial 326 finished with value: 5.355361722620177 and parameters: {'random_state': 519632, 'learning_rate': 0.07591135082819535, 'bagging_temperature': 2.4426494928723446, 'max_depth': 9, 'random_strength': 12, 'l2_leaf_reg': 1.7649143547444815e-05, 'min_child_samples': 63, 'max_bin': 475, 'od_type': 'IncToDec', 'task_type': 'GPU', 'loss_function': 'MAE', 'eval_metric': 'MAE'}. Best is trial 121 with value: 5.343377942063889.\u001b[0m\n"
     ]
    },
    {
     "name": "stdout",
     "output_type": "stream",
     "text": [
      "MAE of Train: 5.200475247993621\n",
      "MAE of Validation: 5.355361722620177\n"
     ]
    },
    {
     "name": "stderr",
     "output_type": "stream",
     "text": [
      "\u001b[32m[I 2022-03-27 04:12:24,392]\u001b[0m Trial 327 finished with value: 5.352128504685113 and parameters: {'random_state': 519632, 'learning_rate': 0.06190712507378098, 'bagging_temperature': 0.4709164886108653, 'max_depth': 9, 'random_strength': 48, 'l2_leaf_reg': 7.611013653546477e-06, 'min_child_samples': 84, 'max_bin': 458, 'od_type': 'IncToDec', 'task_type': 'GPU', 'loss_function': 'MAE', 'eval_metric': 'MAE'}. Best is trial 121 with value: 5.343377942063889.\u001b[0m\n"
     ]
    },
    {
     "name": "stdout",
     "output_type": "stream",
     "text": [
      "MAE of Train: 5.2095123434622845\n",
      "MAE of Validation: 5.352128504685113\n"
     ]
    },
    {
     "name": "stderr",
     "output_type": "stream",
     "text": [
      "\u001b[32m[I 2022-03-27 04:12:29,968]\u001b[0m Trial 328 finished with value: 5.347539278860125 and parameters: {'random_state': 519632, 'learning_rate': 0.08642987135272283, 'bagging_temperature': 1.2135773998624084, 'max_depth': 9, 'random_strength': 23, 'l2_leaf_reg': 1.1080709716251228e-05, 'min_child_samples': 71, 'max_bin': 482, 'od_type': 'IncToDec', 'task_type': 'GPU', 'loss_function': 'MAE', 'eval_metric': 'MAE'}. Best is trial 121 with value: 5.343377942063889.\u001b[0m\n"
     ]
    },
    {
     "name": "stdout",
     "output_type": "stream",
     "text": [
      "MAE of Train: 5.142008494586583\n",
      "MAE of Validation: 5.347539278860125\n"
     ]
    },
    {
     "name": "stderr",
     "output_type": "stream",
     "text": [
      "\u001b[32m[I 2022-03-27 04:12:34,416]\u001b[0m Trial 329 finished with value: 5.353320470671469 and parameters: {'random_state': 519632, 'learning_rate': 0.10505301356658502, 'bagging_temperature': 0.9422660512496133, 'max_depth': 8, 'random_strength': 15, 'l2_leaf_reg': 1.1925957010793888e-05, 'min_child_samples': 58, 'max_bin': 490, 'od_type': 'IncToDec', 'task_type': 'GPU', 'loss_function': 'MAE', 'eval_metric': 'MAE'}. Best is trial 121 with value: 5.343377942063889.\u001b[0m\n"
     ]
    },
    {
     "name": "stdout",
     "output_type": "stream",
     "text": [
      "MAE of Train: 5.182805092902661\n",
      "MAE of Validation: 5.353320470671469\n"
     ]
    },
    {
     "name": "stderr",
     "output_type": "stream",
     "text": [
      "\u001b[32m[I 2022-03-27 04:12:39,257]\u001b[0m Trial 330 finished with value: 5.349025388096738 and parameters: {'random_state': 519632, 'learning_rate': 0.07092479689530198, 'bagging_temperature': 1.5145334468508012, 'max_depth': 9, 'random_strength': 9, 'l2_leaf_reg': 5.75449658167522e-06, 'min_child_samples': 49, 'max_bin': 465, 'od_type': 'IncToDec', 'task_type': 'GPU', 'loss_function': 'MAE', 'eval_metric': 'MAE'}. Best is trial 121 with value: 5.343377942063889.\u001b[0m\n"
     ]
    },
    {
     "name": "stdout",
     "output_type": "stream",
     "text": [
      "MAE of Train: 5.193223720309226\n",
      "MAE of Validation: 5.349025388096738\n"
     ]
    },
    {
     "name": "stderr",
     "output_type": "stream",
     "text": [
      "\u001b[32m[I 2022-03-27 04:12:43,069]\u001b[0m Trial 331 finished with value: 5.400770907133688 and parameters: {'random_state': 519632, 'learning_rate': 0.05124088829639783, 'bagging_temperature': 1.969956199054838, 'max_depth': 5, 'random_strength': 25, 'l2_leaf_reg': 1.043393607693726e-05, 'min_child_samples': 54, 'max_bin': 495, 'od_type': 'IncToDec', 'task_type': 'GPU', 'loss_function': 'MAE', 'eval_metric': 'MAE'}. Best is trial 121 with value: 5.343377942063889.\u001b[0m\n"
     ]
    },
    {
     "name": "stdout",
     "output_type": "stream",
     "text": [
      "MAE of Train: 5.3864912362787996\n",
      "MAE of Validation: 5.400770907133688\n"
     ]
    },
    {
     "name": "stderr",
     "output_type": "stream",
     "text": [
      "\u001b[32m[I 2022-03-27 04:12:48,954]\u001b[0m Trial 332 finished with value: 5.349384892961416 and parameters: {'random_state': 519632, 'learning_rate': 0.05786557799871905, 'bagging_temperature': 1.0762063061248963, 'max_depth': 9, 'random_strength': 29, 'l2_leaf_reg': 1.3108349179786812e-05, 'min_child_samples': 65, 'max_bin': 479, 'od_type': 'IncToDec', 'task_type': 'GPU', 'loss_function': 'MAE', 'eval_metric': 'MAE'}. Best is trial 121 with value: 5.343377942063889.\u001b[0m\n"
     ]
    },
    {
     "name": "stdout",
     "output_type": "stream",
     "text": [
      "MAE of Train: 5.198229110078184\n",
      "MAE of Validation: 5.349384892961416\n"
     ]
    },
    {
     "name": "stderr",
     "output_type": "stream",
     "text": [
      "\u001b[32m[I 2022-03-27 04:12:54,300]\u001b[0m Trial 333 finished with value: 5.351703196428876 and parameters: {'random_state': 519632, 'learning_rate': 0.07986803478967568, 'bagging_temperature': 0.7747570628716443, 'max_depth': 9, 'random_strength': 36, 'l2_leaf_reg': 1.2585328937040074e-05, 'min_child_samples': 61, 'max_bin': 487, 'od_type': 'IncToDec', 'task_type': 'GPU', 'loss_function': 'MAE', 'eval_metric': 'MAE'}. Best is trial 121 with value: 5.343377942063889.\u001b[0m\n"
     ]
    },
    {
     "name": "stdout",
     "output_type": "stream",
     "text": [
      "MAE of Train: 5.176508116665726\n",
      "MAE of Validation: 5.351703196428876\n"
     ]
    },
    {
     "name": "stderr",
     "output_type": "stream",
     "text": [
      "\u001b[32m[I 2022-03-27 04:13:00,195]\u001b[0m Trial 334 finished with value: 5.357455478003535 and parameters: {'random_state': 519632, 'learning_rate': 0.039639055298387536, 'bagging_temperature': 1.361045609861516, 'max_depth': 9, 'random_strength': 5, 'l2_leaf_reg': 1.634577619064412e-06, 'min_child_samples': 69, 'max_bin': 470, 'od_type': 'IncToDec', 'task_type': 'GPU', 'loss_function': 'MAE', 'eval_metric': 'MAE'}. Best is trial 121 with value: 5.343377942063889.\u001b[0m\n"
     ]
    },
    {
     "name": "stdout",
     "output_type": "stream",
     "text": [
      "MAE of Train: 5.256054459570111\n",
      "MAE of Validation: 5.357455478003535\n"
     ]
    },
    {
     "name": "stderr",
     "output_type": "stream",
     "text": [
      "\u001b[32m[I 2022-03-27 04:13:05,220]\u001b[0m Trial 335 finished with value: 5.356549846432738 and parameters: {'random_state': 519632, 'learning_rate': 0.06832359402763981, 'bagging_temperature': 0.03918265945004921, 'max_depth': 9, 'random_strength': 32, 'l2_leaf_reg': 9.85198154676274e-06, 'min_child_samples': 67, 'max_bin': 476, 'od_type': 'IncToDec', 'task_type': 'GPU', 'loss_function': 'MAE', 'eval_metric': 'MAE'}. Best is trial 121 with value: 5.343377942063889.\u001b[0m\n"
     ]
    },
    {
     "name": "stdout",
     "output_type": "stream",
     "text": [
      "MAE of Train: 5.233603219528318\n",
      "MAE of Validation: 5.356549846432738\n"
     ]
    },
    {
     "name": "stderr",
     "output_type": "stream",
     "text": [
      "\u001b[32m[I 2022-03-27 04:13:09,194]\u001b[0m Trial 336 finished with value: 5.3546855691668105 and parameters: {'random_state': 519632, 'learning_rate': 0.09370427121858424, 'bagging_temperature': 1.531965080819304, 'max_depth': 9, 'random_strength': 21, 'l2_leaf_reg': 1.183917891994328e-05, 'min_child_samples': 52, 'max_bin': 485, 'od_type': 'IncToDec', 'task_type': 'GPU', 'loss_function': 'MAE', 'eval_metric': 'MAE'}. Best is trial 121 with value: 5.343377942063889.\u001b[0m\n"
     ]
    },
    {
     "name": "stdout",
     "output_type": "stream",
     "text": [
      "MAE of Train: 5.195356679191496\n",
      "MAE of Validation: 5.3546855691668105\n"
     ]
    },
    {
     "name": "stderr",
     "output_type": "stream",
     "text": [
      "\u001b[32m[I 2022-03-27 04:13:15,083]\u001b[0m Trial 337 finished with value: 5.34973988172626 and parameters: {'random_state': 519632, 'learning_rate': 0.060925263884951744, 'bagging_temperature': 0.5872344501737071, 'max_depth': 9, 'random_strength': 12, 'l2_leaf_reg': 1.1018024116413255e-05, 'min_child_samples': 57, 'max_bin': 493, 'od_type': 'IncToDec', 'task_type': 'GPU', 'loss_function': 'MAE', 'eval_metric': 'MAE'}. Best is trial 121 with value: 5.343377942063889.\u001b[0m\n"
     ]
    },
    {
     "name": "stdout",
     "output_type": "stream",
     "text": [
      "MAE of Train: 5.194080847311763\n",
      "MAE of Validation: 5.34973988172626\n"
     ]
    },
    {
     "name": "stderr",
     "output_type": "stream",
     "text": [
      "\u001b[32m[I 2022-03-27 04:13:20,978]\u001b[0m Trial 338 finished with value: 5.350714057447494 and parameters: {'random_state': 519632, 'learning_rate': 0.050810530924106756, 'bagging_temperature': 1.1570725481878912, 'max_depth': 9, 'random_strength': 7, 'l2_leaf_reg': 1.3730486700769175e-05, 'min_child_samples': 47, 'max_bin': 500, 'od_type': 'IncToDec', 'task_type': 'GPU', 'loss_function': 'MAE', 'eval_metric': 'MAE'}. Best is trial 121 with value: 5.343377942063889.\u001b[0m\n"
     ]
    },
    {
     "name": "stdout",
     "output_type": "stream",
     "text": [
      "MAE of Train: 5.212559529783631\n",
      "MAE of Validation: 5.350714057447494\n"
     ]
    },
    {
     "name": "stderr",
     "output_type": "stream",
     "text": [
      "\u001b[32m[I 2022-03-27 04:13:26,247]\u001b[0m Trial 339 finished with value: 5.37296932854306 and parameters: {'random_state': 519632, 'learning_rate': 0.07924040724057634, 'bagging_temperature': 15.884269486374453, 'max_depth': 9, 'random_strength': 18, 'l2_leaf_reg': 1.23851510003642e-05, 'min_child_samples': 71, 'max_bin': 449, 'od_type': 'IncToDec', 'task_type': 'GPU', 'loss_function': 'MAE', 'eval_metric': 'MAE'}. Best is trial 121 with value: 5.343377942063889.\u001b[0m\n"
     ]
    },
    {
     "name": "stdout",
     "output_type": "stream",
     "text": [
      "MAE of Train: 5.172507037145986\n",
      "MAE of Validation: 5.37296932854306\n"
     ]
    },
    {
     "name": "stderr",
     "output_type": "stream",
     "text": [
      "\u001b[32m[I 2022-03-27 04:13:31,364]\u001b[0m Trial 340 finished with value: 5.352579874837778 and parameters: {'random_state': 519632, 'learning_rate': 0.06825179101661485, 'bagging_temperature': 3.4428712918965347, 'max_depth': 9, 'random_strength': 27, 'l2_leaf_reg': 3.012819275915786e-08, 'min_child_samples': 62, 'max_bin': 481, 'od_type': 'IncToDec', 'task_type': 'GPU', 'loss_function': 'MAE', 'eval_metric': 'MAE'}. Best is trial 121 with value: 5.343377942063889.\u001b[0m\n"
     ]
    },
    {
     "name": "stdout",
     "output_type": "stream",
     "text": [
      "MAE of Train: 5.191526097154003\n",
      "MAE of Validation: 5.352579874837778\n"
     ]
    },
    {
     "name": "stderr",
     "output_type": "stream",
     "text": [
      "\u001b[32m[I 2022-03-27 04:13:35,861]\u001b[0m Trial 341 finished with value: 5.358577066200135 and parameters: {'random_state': 519632, 'learning_rate': 0.10086803935360622, 'bagging_temperature': 0.8940907505931228, 'max_depth': 7, 'random_strength': 22, 'l2_leaf_reg': 1.1356365901593251e-05, 'min_child_samples': 59, 'max_bin': 490, 'od_type': 'IncToDec', 'task_type': 'GPU', 'loss_function': 'MAE', 'eval_metric': 'MAE'}. Best is trial 121 with value: 5.343377942063889.\u001b[0m\n"
     ]
    },
    {
     "name": "stdout",
     "output_type": "stream",
     "text": [
      "MAE of Train: 5.235169114027875\n",
      "MAE of Validation: 5.358577066200135\n"
     ]
    },
    {
     "name": "stderr",
     "output_type": "stream",
     "text": [
      "\u001b[32m[I 2022-03-27 04:13:38,794]\u001b[0m Trial 342 finished with value: 5.354120107545395 and parameters: {'random_state': 519632, 'learning_rate': 0.11786636909343717, 'bagging_temperature': 2.20863832285436, 'max_depth': 9, 'random_strength': 13, 'l2_leaf_reg': 9.288701669424532e-06, 'min_child_samples': 50, 'max_bin': 474, 'od_type': 'IncToDec', 'task_type': 'GPU', 'loss_function': 'MAE', 'eval_metric': 'MAE'}. Best is trial 121 with value: 5.343377942063889.\u001b[0m\n"
     ]
    },
    {
     "name": "stdout",
     "output_type": "stream",
     "text": [
      "MAE of Train: 5.202671678046158\n",
      "MAE of Validation: 5.354120107545395\n"
     ]
    },
    {
     "name": "stderr",
     "output_type": "stream",
     "text": [
      "\u001b[32m[I 2022-03-27 04:13:44,329]\u001b[0m Trial 343 finished with value: 8.859103990820783 and parameters: {'random_state': 519632, 'learning_rate': 0.0007205341251141409, 'bagging_temperature': 1.7867873076510083, 'max_depth': 9, 'random_strength': 16, 'l2_leaf_reg': 8.308382264710904e-06, 'min_child_samples': 55, 'max_bin': 466, 'od_type': 'IncToDec', 'task_type': 'GPU', 'loss_function': 'MAE', 'eval_metric': 'MAE'}. Best is trial 121 with value: 5.343377942063889.\u001b[0m\n"
     ]
    },
    {
     "name": "stdout",
     "output_type": "stream",
     "text": [
      "MAE of Train: 8.851599282798174\n",
      "MAE of Validation: 8.859103990820783\n"
     ]
    },
    {
     "name": "stderr",
     "output_type": "stream",
     "text": [
      "\u001b[32m[I 2022-03-27 04:13:48,937]\u001b[0m Trial 344 finished with value: 5.35107514699464 and parameters: {'random_state': 519632, 'learning_rate': 0.086309903408163, 'bagging_temperature': 1.2840123756864061, 'max_depth': 9, 'random_strength': 24, 'l2_leaf_reg': 1.4275323492877498e-05, 'min_child_samples': 64, 'max_bin': 484, 'od_type': 'IncToDec', 'task_type': 'GPU', 'loss_function': 'MAE', 'eval_metric': 'MAE'}. Best is trial 121 with value: 5.343377942063889.\u001b[0m\n"
     ]
    },
    {
     "name": "stdout",
     "output_type": "stream",
     "text": [
      "MAE of Train: 5.17927964351108\n",
      "MAE of Validation: 5.35107514699464\n"
     ]
    },
    {
     "name": "stderr",
     "output_type": "stream",
     "text": [
      "\u001b[32m[I 2022-03-27 04:13:54,803]\u001b[0m Trial 345 finished with value: 5.347319277742831 and parameters: {'random_state': 519632, 'learning_rate': 0.05912196741851332, 'bagging_temperature': 1.542343969069497, 'max_depth': 9, 'random_strength': 34, 'l2_leaf_reg': 7.594950965697871e-06, 'min_child_samples': 68, 'max_bin': 457, 'od_type': 'IncToDec', 'task_type': 'GPU', 'loss_function': 'MAE', 'eval_metric': 'MAE'}. Best is trial 121 with value: 5.343377942063889.\u001b[0m\n"
     ]
    },
    {
     "name": "stdout",
     "output_type": "stream",
     "text": [
      "MAE of Train: 5.191346844420592\n",
      "MAE of Validation: 5.347319277742831\n"
     ]
    },
    {
     "name": "stderr",
     "output_type": "stream",
     "text": [
      "\u001b[32m[I 2022-03-27 04:14:00,650]\u001b[0m Trial 346 finished with value: 5.351402872672682 and parameters: {'random_state': 519632, 'learning_rate': 0.0482311053220959, 'bagging_temperature': 1.6395669193540663, 'max_depth': 9, 'random_strength': 34, 'l2_leaf_reg': 8.06788634335272e-06, 'min_child_samples': 66, 'max_bin': 462, 'od_type': 'IncToDec', 'task_type': 'GPU', 'loss_function': 'MAE', 'eval_metric': 'MAE'}. Best is trial 121 with value: 5.343377942063889.\u001b[0m\n"
     ]
    },
    {
     "name": "stdout",
     "output_type": "stream",
     "text": [
      "MAE of Train: 5.2306144384990745\n",
      "MAE of Validation: 5.351402872672682\n"
     ]
    },
    {
     "name": "stderr",
     "output_type": "stream",
     "text": [
      "\u001b[32m[I 2022-03-27 04:14:06,201]\u001b[0m Trial 347 finished with value: 5.350822150404166 and parameters: {'random_state': 519632, 'learning_rate': 0.057406171632015245, 'bagging_temperature': 2.651244061004516, 'max_depth': 9, 'random_strength': 33, 'l2_leaf_reg': 6.574380736658625e-06, 'min_child_samples': 45, 'max_bin': 455, 'od_type': 'IncToDec', 'task_type': 'GPU', 'loss_function': 'MAE', 'eval_metric': 'MAE'}. Best is trial 121 with value: 5.343377942063889.\u001b[0m\n"
     ]
    },
    {
     "name": "stdout",
     "output_type": "stream",
     "text": [
      "MAE of Train: 5.204379063755395\n",
      "MAE of Validation: 5.350822150404166\n"
     ]
    },
    {
     "name": "stderr",
     "output_type": "stream",
     "text": [
      "\u001b[32m[I 2022-03-27 04:14:12,071]\u001b[0m Trial 348 finished with value: 5.3576097425475 and parameters: {'random_state': 519632, 'learning_rate': 0.04312873432605509, 'bagging_temperature': 1.8876054639514865, 'max_depth': 9, 'random_strength': 31, 'l2_leaf_reg': 7.396370738409863e-06, 'min_child_samples': 69, 'max_bin': 309, 'od_type': 'IncToDec', 'task_type': 'GPU', 'loss_function': 'MAE', 'eval_metric': 'MAE'}. Best is trial 121 with value: 5.343377942063889.\u001b[0m\n"
     ]
    },
    {
     "name": "stdout",
     "output_type": "stream",
     "text": [
      "MAE of Train: 5.244594795927407\n",
      "MAE of Validation: 5.3576097425475\n"
     ]
    },
    {
     "name": "stderr",
     "output_type": "stream",
     "text": [
      "\u001b[32m[I 2022-03-27 04:14:17,043]\u001b[0m Trial 349 finished with value: 5.35331985842208 and parameters: {'random_state': 519632, 'learning_rate': 0.06499869597868571, 'bagging_temperature': 1.0302302612689285, 'max_depth': 9, 'random_strength': 31, 'l2_leaf_reg': 8.683747589485673e-06, 'min_child_samples': 61, 'max_bin': 470, 'od_type': 'IncToDec', 'task_type': 'GPU', 'loss_function': 'MAE', 'eval_metric': 'MAE'}. Best is trial 121 with value: 5.343377942063889.\u001b[0m\n"
     ]
    },
    {
     "name": "stdout",
     "output_type": "stream",
     "text": [
      "MAE of Train: 5.219617046828092\n",
      "MAE of Validation: 5.35331985842208\n"
     ]
    },
    {
     "name": "stderr",
     "output_type": "stream",
     "text": [
      "\u001b[32m[I 2022-03-27 04:14:22,878]\u001b[0m Trial 350 finished with value: 5.352615463423319 and parameters: {'random_state': 519632, 'learning_rate': 0.05563525698368289, 'bagging_temperature': 0.7622943227480191, 'max_depth': 9, 'random_strength': 36, 'l2_leaf_reg': 7.610696129305086e-06, 'min_child_samples': 100, 'max_bin': 458, 'od_type': 'IncToDec', 'task_type': 'GPU', 'loss_function': 'MAE', 'eval_metric': 'MAE'}. Best is trial 121 with value: 5.343377942063889.\u001b[0m\n"
     ]
    },
    {
     "name": "stdout",
     "output_type": "stream",
     "text": [
      "MAE of Train: 5.214263527391964\n",
      "MAE of Validation: 5.352615463423319\n"
     ]
    },
    {
     "name": "stderr",
     "output_type": "stream",
     "text": [
      "\u001b[32m[I 2022-03-27 04:14:28,765]\u001b[0m Trial 351 finished with value: 5.345995201616245 and parameters: {'random_state': 519632, 'learning_rate': 0.07116298526594984, 'bagging_temperature': 1.550026187974724, 'max_depth': 9, 'random_strength': 34, 'l2_leaf_reg': 6.832956714896145e-06, 'min_child_samples': 68, 'max_bin': 451, 'od_type': 'IncToDec', 'task_type': 'GPU', 'loss_function': 'MAE', 'eval_metric': 'MAE'}. Best is trial 121 with value: 5.343377942063889.\u001b[0m\n"
     ]
    },
    {
     "name": "stdout",
     "output_type": "stream",
     "text": [
      "MAE of Train: 5.154563396741021\n",
      "MAE of Validation: 5.345995201616245\n"
     ]
    },
    {
     "name": "stderr",
     "output_type": "stream",
     "text": [
      "\u001b[32m[I 2022-03-27 04:14:33,806]\u001b[0m Trial 352 finished with value: 5.3494047828081746 and parameters: {'random_state': 519632, 'learning_rate': 0.07277838738239027, 'bagging_temperature': 1.4835718039309507, 'max_depth': 9, 'random_strength': 34, 'l2_leaf_reg': 6.9177971679203196e-06, 'min_child_samples': 67, 'max_bin': 477, 'od_type': 'IncToDec', 'task_type': 'GPU', 'loss_function': 'MAE', 'eval_metric': 'MAE'}. Best is trial 121 with value: 5.343377942063889.\u001b[0m\n"
     ]
    },
    {
     "name": "stdout",
     "output_type": "stream",
     "text": [
      "MAE of Train: 5.193408867859196\n",
      "MAE of Validation: 5.3494047828081746\n"
     ]
    },
    {
     "name": "stderr",
     "output_type": "stream",
     "text": [
      "\u001b[32m[I 2022-03-27 04:14:39,612]\u001b[0m Trial 353 finished with value: 5.3564769297949475 and parameters: {'random_state': 519632, 'learning_rate': 0.04923262876715838, 'bagging_temperature': 1.1780457342681323, 'max_depth': 9, 'random_strength': 36, 'l2_leaf_reg': 7.63723456947443e-06, 'min_child_samples': 68, 'max_bin': 456, 'od_type': 'IncToDec', 'task_type': 'GPU', 'loss_function': 'MAE', 'eval_metric': 'MAE'}. Best is trial 121 with value: 5.343377942063889.\u001b[0m\n"
     ]
    },
    {
     "name": "stdout",
     "output_type": "stream",
     "text": [
      "MAE of Train: 5.2381283189241845\n",
      "MAE of Validation: 5.3564769297949475\n"
     ]
    },
    {
     "name": "stderr",
     "output_type": "stream",
     "text": [
      "\u001b[32m[I 2022-03-27 04:14:44,326]\u001b[0m Trial 354 finished with value: 5.352998236625866 and parameters: {'random_state': 519632, 'learning_rate': 0.07146936728368657, 'bagging_temperature': 0.9331176022363865, 'max_depth': 9, 'random_strength': 32, 'l2_leaf_reg': 6.772507522868926e-06, 'min_child_samples': 66, 'max_bin': 472, 'od_type': 'IncToDec', 'task_type': 'GPU', 'loss_function': 'MAE', 'eval_metric': 'MAE'}. Best is trial 121 with value: 5.343377942063889.\u001b[0m\n"
     ]
    },
    {
     "name": "stdout",
     "output_type": "stream",
     "text": [
      "MAE of Train: 5.214973233131353\n",
      "MAE of Validation: 5.352998236625866\n"
     ]
    },
    {
     "name": "stderr",
     "output_type": "stream",
     "text": [
      "\u001b[32m[I 2022-03-27 04:14:50,175]\u001b[0m Trial 355 finished with value: 5.3461291707919525 and parameters: {'random_state': 519632, 'learning_rate': 0.06112868550665515, 'bagging_temperature': 1.4331062505178187, 'max_depth': 9, 'random_strength': 29, 'l2_leaf_reg': 8.651029544235494e-06, 'min_child_samples': 69, 'max_bin': 448, 'od_type': 'IncToDec', 'task_type': 'GPU', 'loss_function': 'MAE', 'eval_metric': 'MAE'}. Best is trial 121 with value: 5.343377942063889.\u001b[0m\n"
     ]
    },
    {
     "name": "stdout",
     "output_type": "stream",
     "text": [
      "MAE of Train: 5.180804802055352\n",
      "MAE of Validation: 5.3461291707919525\n"
     ]
    },
    {
     "name": "stderr",
     "output_type": "stream",
     "text": [
      "\u001b[32m[I 2022-03-27 04:14:56,013]\u001b[0m Trial 356 finished with value: 5.3620851651333075 and parameters: {'random_state': 519632, 'learning_rate': 0.03481252071308571, 'bagging_temperature': 1.899903361502978, 'max_depth': 9, 'random_strength': 29, 'l2_leaf_reg': 8.73185110104519e-06, 'min_child_samples': 69, 'max_bin': 453, 'od_type': 'IncToDec', 'task_type': 'GPU', 'loss_function': 'MAE', 'eval_metric': 'MAE'}. Best is trial 121 with value: 5.343377942063889.\u001b[0m\n"
     ]
    },
    {
     "name": "stdout",
     "output_type": "stream",
     "text": [
      "MAE of Train: 5.280723904287342\n",
      "MAE of Validation: 5.3620851651333075\n"
     ]
    },
    {
     "name": "stderr",
     "output_type": "stream",
     "text": [
      "\u001b[32m[I 2022-03-27 04:15:01,812]\u001b[0m Trial 357 finished with value: 5.358301404615415 and parameters: {'random_state': 519632, 'learning_rate': 0.04420536663302892, 'bagging_temperature': 0.6967446739492101, 'max_depth': 9, 'random_strength': 39, 'l2_leaf_reg': 8.652109628325907e-06, 'min_child_samples': 73, 'max_bin': 464, 'od_type': 'IncToDec', 'task_type': 'GPU', 'loss_function': 'MAE', 'eval_metric': 'MAE'}. Best is trial 121 with value: 5.343377942063889.\u001b[0m\n"
     ]
    },
    {
     "name": "stdout",
     "output_type": "stream",
     "text": [
      "MAE of Train: 5.266262918004084\n",
      "MAE of Validation: 5.358301404615415\n"
     ]
    },
    {
     "name": "stderr",
     "output_type": "stream",
     "text": [
      "\u001b[32m[I 2022-03-27 04:15:07,675]\u001b[0m Trial 358 finished with value: 5.353754148753671 and parameters: {'random_state': 519632, 'learning_rate': 0.057942921942657835, 'bagging_temperature': 2.1951315823937105, 'max_depth': 9, 'random_strength': 34, 'l2_leaf_reg': 7.96844143574186e-06, 'min_child_samples': 48, 'max_bin': 433, 'od_type': 'IncToDec', 'task_type': 'GPU', 'loss_function': 'MAE', 'eval_metric': 'MAE'}. Best is trial 121 with value: 5.343377942063889.\u001b[0m\n"
     ]
    },
    {
     "name": "stdout",
     "output_type": "stream",
     "text": [
      "MAE of Train: 5.182204950910986\n",
      "MAE of Validation: 5.353754148753671\n"
     ]
    },
    {
     "name": "stderr",
     "output_type": "stream",
     "text": [
      "\u001b[32m[I 2022-03-27 04:15:13,559]\u001b[0m Trial 359 finished with value: 5.345148446195506 and parameters: {'random_state': 519632, 'learning_rate': 0.05988686737419551, 'bagging_temperature': 1.5669251048200883, 'max_depth': 9, 'random_strength': 30, 'l2_leaf_reg': 9.596233550139905e-06, 'min_child_samples': 70, 'max_bin': 456, 'od_type': 'IncToDec', 'task_type': 'GPU', 'loss_function': 'MAE', 'eval_metric': 'MAE'}. Best is trial 121 with value: 5.343377942063889.\u001b[0m\n"
     ]
    },
    {
     "name": "stdout",
     "output_type": "stream",
     "text": [
      "MAE of Train: 5.182377202945681\n",
      "MAE of Validation: 5.345148446195506\n"
     ]
    },
    {
     "name": "stderr",
     "output_type": "stream",
     "text": [
      "\u001b[32m[I 2022-03-27 04:15:19,373]\u001b[0m Trial 360 finished with value: 5.351774602741791 and parameters: {'random_state': 519632, 'learning_rate': 0.049830693796307154, 'bagging_temperature': 1.5844364047533217, 'max_depth': 9, 'random_strength': 30, 'l2_leaf_reg': 9.472506997333575e-06, 'min_child_samples': 71, 'max_bin': 438, 'od_type': 'IncToDec', 'task_type': 'GPU', 'loss_function': 'MAE', 'eval_metric': 'MAE'}. Best is trial 121 with value: 5.343377942063889.\u001b[0m\n"
     ]
    },
    {
     "name": "stdout",
     "output_type": "stream",
     "text": [
      "MAE of Train: 5.224608996890723\n",
      "MAE of Validation: 5.351774602741791\n"
     ]
    },
    {
     "name": "stderr",
     "output_type": "stream",
     "text": [
      "\u001b[32m[I 2022-03-27 04:15:25,200]\u001b[0m Trial 361 finished with value: 5.349037703220605 and parameters: {'random_state': 519632, 'learning_rate': 0.05869204864054934, 'bagging_temperature': 1.4607681201125016, 'max_depth': 9, 'random_strength': 32, 'l2_leaf_reg': 9.743363624174086e-06, 'min_child_samples': 73, 'max_bin': 455, 'od_type': 'IncToDec', 'task_type': 'GPU', 'loss_function': 'MAE', 'eval_metric': 'MAE'}. Best is trial 121 with value: 5.343377942063889.\u001b[0m\n"
     ]
    },
    {
     "name": "stdout",
     "output_type": "stream",
     "text": [
      "MAE of Train: 5.188046755023585\n",
      "MAE of Validation: 5.349037703220605\n"
     ]
    },
    {
     "name": "stderr",
     "output_type": "stream",
     "text": [
      "\u001b[32m[I 2022-03-27 04:15:30,948]\u001b[0m Trial 362 finished with value: 5.4224904655549135 and parameters: {'random_state': 519632, 'learning_rate': 0.01313561963987015, 'bagging_temperature': 2.4576963644196455, 'max_depth': 9, 'random_strength': 28, 'l2_leaf_reg': 1.024370224434102e-05, 'min_child_samples': 69, 'max_bin': 450, 'od_type': 'IncToDec', 'task_type': 'GPU', 'loss_function': 'MAE', 'eval_metric': 'MAE'}. Best is trial 121 with value: 5.343377942063889.\u001b[0m\n"
     ]
    },
    {
     "name": "stdout",
     "output_type": "stream",
     "text": [
      "MAE of Train: 5.418039902274223\n",
      "MAE of Validation: 5.4224904655549135\n"
     ]
    },
    {
     "name": "stderr",
     "output_type": "stream",
     "text": [
      "\u001b[32m[I 2022-03-27 04:15:36,778]\u001b[0m Trial 363 finished with value: 5.356811368746537 and parameters: {'random_state': 519632, 'learning_rate': 0.043330294551883, 'bagging_temperature': 1.1764806414011761, 'max_depth': 9, 'random_strength': 37, 'l2_leaf_reg': 1.0427981647721931e-05, 'min_child_samples': 70, 'max_bin': 444, 'od_type': 'IncToDec', 'task_type': 'GPU', 'loss_function': 'MAE', 'eval_metric': 'MAE'}. Best is trial 121 with value: 5.343377942063889.\u001b[0m\n"
     ]
    },
    {
     "name": "stdout",
     "output_type": "stream",
     "text": [
      "MAE of Train: 5.256278749559887\n",
      "MAE of Validation: 5.356811368746537\n"
     ]
    },
    {
     "name": "stderr",
     "output_type": "stream",
     "text": [
      "\u001b[32m[I 2022-03-27 04:15:42,677]\u001b[0m Trial 364 finished with value: 5.349938496667958 and parameters: {'random_state': 519632, 'learning_rate': 0.06279876302953256, 'bagging_temperature': 1.930532191335663, 'max_depth': 9, 'random_strength': 29, 'l2_leaf_reg': 9.269929951142743e-06, 'min_child_samples': 75, 'max_bin': 452, 'od_type': 'IncToDec', 'task_type': 'GPU', 'loss_function': 'MAE', 'eval_metric': 'MAE'}. Best is trial 121 with value: 5.343377942063889.\u001b[0m\n"
     ]
    },
    {
     "name": "stdout",
     "output_type": "stream",
     "text": [
      "MAE of Train: 5.174322112477936\n",
      "MAE of Validation: 5.349938496667958\n"
     ]
    },
    {
     "name": "stderr",
     "output_type": "stream",
     "text": [
      "\u001b[32m[I 2022-03-27 04:15:48,537]\u001b[0m Trial 365 finished with value: 5.351240502386987 and parameters: {'random_state': 519632, 'learning_rate': 0.05210426306419812, 'bagging_temperature': 1.692573633557837, 'max_depth': 9, 'random_strength': 31, 'l2_leaf_reg': 8.82311642177274e-06, 'min_child_samples': 68, 'max_bin': 441, 'od_type': 'IncToDec', 'task_type': 'GPU', 'loss_function': 'MAE', 'eval_metric': 'MAE'}. Best is trial 121 with value: 5.343377942063889.\u001b[0m\n"
     ]
    },
    {
     "name": "stdout",
     "output_type": "stream",
     "text": [
      "MAE of Train: 5.210805374011096\n",
      "MAE of Validation: 5.351240502386987\n"
     ]
    },
    {
     "name": "stderr",
     "output_type": "stream",
     "text": [
      "\u001b[32m[I 2022-03-27 04:15:54,349]\u001b[0m Trial 366 finished with value: 5.35961994909883 and parameters: {'random_state': 519632, 'learning_rate': 0.03955323586894079, 'bagging_temperature': 1.2951061374800723, 'max_depth': 9, 'random_strength': 34, 'l2_leaf_reg': 9.892454677405565e-06, 'min_child_samples': 71, 'max_bin': 445, 'od_type': 'IncToDec', 'task_type': 'GPU', 'loss_function': 'MAE', 'eval_metric': 'MAE'}. Best is trial 121 with value: 5.343377942063889.\u001b[0m\n"
     ]
    },
    {
     "name": "stdout",
     "output_type": "stream",
     "text": [
      "MAE of Train: 5.272043095704702\n",
      "MAE of Validation: 5.35961994909883\n"
     ]
    },
    {
     "name": "stderr",
     "output_type": "stream",
     "text": [
      "\u001b[32m[I 2022-03-27 04:15:59,348]\u001b[0m Trial 367 finished with value: 5.353670294798203 and parameters: {'random_state': 519632, 'learning_rate': 0.06723651561402819, 'bagging_temperature': 1.0648596713917446, 'max_depth': 8, 'random_strength': 27, 'l2_leaf_reg': 9.222438167081253e-06, 'min_child_samples': 67, 'max_bin': 447, 'od_type': 'IncToDec', 'task_type': 'GPU', 'loss_function': 'MAE', 'eval_metric': 'MAE'}. Best is trial 121 with value: 5.343377942063889.\u001b[0m\n"
     ]
    },
    {
     "name": "stdout",
     "output_type": "stream",
     "text": [
      "MAE of Train: 5.231166111072036\n",
      "MAE of Validation: 5.353670294798203\n"
     ]
    },
    {
     "name": "stderr",
     "output_type": "stream",
     "text": [
      "\u001b[32m[I 2022-03-27 04:16:05,218]\u001b[0m Trial 368 finished with value: 5.347776580430401 and parameters: {'random_state': 519632, 'learning_rate': 0.05337804315290108, 'bagging_temperature': 1.5720672782543264, 'max_depth': 9, 'random_strength': 29, 'l2_leaf_reg': 5.962312815860715e-06, 'min_child_samples': 64, 'max_bin': 462, 'od_type': 'IncToDec', 'task_type': 'GPU', 'loss_function': 'MAE', 'eval_metric': 'MAE'}. Best is trial 121 with value: 5.343377942063889.\u001b[0m\n"
     ]
    },
    {
     "name": "stdout",
     "output_type": "stream",
     "text": [
      "MAE of Train: 5.20619158205849\n",
      "MAE of Validation: 5.347776580430401\n"
     ]
    },
    {
     "name": "stderr",
     "output_type": "stream",
     "text": [
      "\u001b[32m[I 2022-03-27 04:16:10,790]\u001b[0m Trial 369 finished with value: 5.348604351023001 and parameters: {'random_state': 519632, 'learning_rate': 0.07036293850779032, 'bagging_temperature': 2.1218672597288513, 'max_depth': 9, 'random_strength': 26, 'l2_leaf_reg': 8.271633076765689e-06, 'min_child_samples': 69, 'max_bin': 450, 'od_type': 'IncToDec', 'task_type': 'GPU', 'loss_function': 'MAE', 'eval_metric': 'MAE'}. Best is trial 121 with value: 5.343377942063889.\u001b[0m\n"
     ]
    },
    {
     "name": "stdout",
     "output_type": "stream",
     "text": [
      "MAE of Train: 5.1615932777893745\n",
      "MAE of Validation: 5.348604351023001\n"
     ]
    },
    {
     "name": "stderr",
     "output_type": "stream",
     "text": [
      "\u001b[32m[I 2022-03-27 04:16:16,673]\u001b[0m Trial 370 finished with value: 5.349551527916819 and parameters: {'random_state': 519632, 'learning_rate': 0.06033492355856141, 'bagging_temperature': 1.2909163807969366, 'max_depth': 9, 'random_strength': 35, 'l2_leaf_reg': 1.0723736370384593e-05, 'min_child_samples': 43, 'max_bin': 459, 'od_type': 'Iter', 'task_type': 'GPU', 'loss_function': 'MAE', 'eval_metric': 'MAE'}. Best is trial 121 with value: 5.343377942063889.\u001b[0m\n"
     ]
    },
    {
     "name": "stdout",
     "output_type": "stream",
     "text": [
      "MAE of Train: 5.191712473199371\n",
      "MAE of Validation: 5.349551527916819\n"
     ]
    },
    {
     "name": "stderr",
     "output_type": "stream",
     "text": [
      "\u001b[32m[I 2022-03-27 04:16:21,445]\u001b[0m Trial 371 finished with value: 5.349758742734779 and parameters: {'random_state': 519632, 'learning_rate': 0.07714796829508969, 'bagging_temperature': 1.5510811635531974, 'max_depth': 9, 'random_strength': 31, 'l2_leaf_reg': 1.0060330015379565e-05, 'min_child_samples': 72, 'max_bin': 466, 'od_type': 'IncToDec', 'task_type': 'GPU', 'loss_function': 'MAE', 'eval_metric': 'MAE'}. Best is trial 121 with value: 5.343377942063889.\u001b[0m\n"
     ]
    },
    {
     "name": "stdout",
     "output_type": "stream",
     "text": [
      "MAE of Train: 5.183988728610332\n",
      "MAE of Validation: 5.349758742734779\n"
     ]
    },
    {
     "name": "stderr",
     "output_type": "stream",
     "text": [
      "\u001b[32m[I 2022-03-27 04:16:26,942]\u001b[0m Trial 372 finished with value: 5.819572531149995 and parameters: {'random_state': 519632, 'learning_rate': 0.002783377948419081, 'bagging_temperature': 1.046913553446959, 'max_depth': 9, 'random_strength': 33, 'l2_leaf_reg': 1.135045536921045e-05, 'min_child_samples': 67, 'max_bin': 487, 'od_type': 'IncToDec', 'task_type': 'GPU', 'loss_function': 'MAE', 'eval_metric': 'MAE'}. Best is trial 121 with value: 5.343377942063889.\u001b[0m\n"
     ]
    },
    {
     "name": "stdout",
     "output_type": "stream",
     "text": [
      "MAE of Train: 5.815368598006246\n",
      "MAE of Validation: 5.819572531149995\n"
     ]
    },
    {
     "name": "stderr",
     "output_type": "stream",
     "text": [
      "\u001b[32m[I 2022-03-27 04:16:32,795]\u001b[0m Trial 373 finished with value: 5.35238059566663 and parameters: {'random_state': 519632, 'learning_rate': 0.04708103584551127, 'bagging_temperature': 1.9617858605127279, 'max_depth': 9, 'random_strength': 45, 'l2_leaf_reg': 8.162880157046557e-06, 'min_child_samples': 65, 'max_bin': 459, 'od_type': 'IncToDec', 'task_type': 'GPU', 'loss_function': 'MAE', 'eval_metric': 'MAE'}. Best is trial 121 with value: 5.343377942063889.\u001b[0m\n"
     ]
    },
    {
     "name": "stdout",
     "output_type": "stream",
     "text": [
      "MAE of Train: 5.228132331339771\n",
      "MAE of Validation: 5.35238059566663\n"
     ]
    },
    {
     "name": "stderr",
     "output_type": "stream",
     "text": [
      "\u001b[32m[I 2022-03-27 04:16:37,105]\u001b[0m Trial 374 finished with value: 5.35142789398372 and parameters: {'random_state': 519632, 'learning_rate': 0.08181620696212294, 'bagging_temperature': 1.3264524290258979, 'max_depth': 9, 'random_strength': 26, 'l2_leaf_reg': 1.0596161630726864e-05, 'min_child_samples': 80, 'max_bin': 470, 'od_type': 'IncToDec', 'task_type': 'GPU', 'loss_function': 'MAE', 'eval_metric': 'MAE'}. Best is trial 121 with value: 5.343377942063889.\u001b[0m\n"
     ]
    },
    {
     "name": "stdout",
     "output_type": "stream",
     "text": [
      "MAE of Train: 5.202825369398136\n",
      "MAE of Validation: 5.35142789398372\n"
     ]
    },
    {
     "name": "stderr",
     "output_type": "stream",
     "text": [
      "\u001b[32m[I 2022-03-27 04:16:42,990]\u001b[0m Trial 375 finished with value: 5.351011531386334 and parameters: {'random_state': 519632, 'learning_rate': 0.06317710084615631, 'bagging_temperature': 2.8948335294429928, 'max_depth': 9, 'random_strength': 27, 'l2_leaf_reg': 1.1991461982326225e-05, 'min_child_samples': 77, 'max_bin': 491, 'od_type': 'IncToDec', 'task_type': 'GPU', 'loss_function': 'MAE', 'eval_metric': 'MAE'}. Best is trial 121 with value: 5.343377942063889.\u001b[0m\n"
     ]
    },
    {
     "name": "stdout",
     "output_type": "stream",
     "text": [
      "MAE of Train: 5.167116758674089\n",
      "MAE of Validation: 5.351011531386334\n"
     ]
    },
    {
     "name": "stderr",
     "output_type": "stream",
     "text": [
      "\u001b[32m[I 2022-03-27 04:16:48,836]\u001b[0m Trial 376 finished with value: 5.348666593372147 and parameters: {'random_state': 519632, 'learning_rate': 0.05720830683513911, 'bagging_temperature': 1.6654873455970396, 'max_depth': 9, 'random_strength': 29, 'l2_leaf_reg': 7.387461358351439e-06, 'min_child_samples': 46, 'max_bin': 483, 'od_type': 'IncToDec', 'task_type': 'GPU', 'loss_function': 'MAE', 'eval_metric': 'MAE'}. Best is trial 121 with value: 5.343377942063889.\u001b[0m\n"
     ]
    },
    {
     "name": "stdout",
     "output_type": "stream",
     "text": [
      "MAE of Train: 5.197682644039665\n",
      "MAE of Validation: 5.348666593372147\n"
     ]
    },
    {
     "name": "stderr",
     "output_type": "stream",
     "text": [
      "\u001b[32m[I 2022-03-27 04:16:53,521]\u001b[0m Trial 377 finished with value: 5.348976984776518 and parameters: {'random_state': 519632, 'learning_rate': 0.09376812014451846, 'bagging_temperature': 1.1404994862399431, 'max_depth': 9, 'random_strength': 31, 'l2_leaf_reg': 9.337874440976374e-06, 'min_child_samples': 70, 'max_bin': 476, 'od_type': 'IncToDec', 'task_type': 'GPU', 'loss_function': 'MAE', 'eval_metric': 'MAE'}. Best is trial 121 with value: 5.343377942063889.\u001b[0m\n"
     ]
    },
    {
     "name": "stdout",
     "output_type": "stream",
     "text": [
      "MAE of Train: 5.161604709120239\n",
      "MAE of Validation: 5.348976984776518\n"
     ]
    },
    {
     "name": "stderr",
     "output_type": "stream",
     "text": [
      "\u001b[32m[I 2022-03-27 04:16:59,289]\u001b[0m Trial 378 finished with value: 5.3730438644771175 and parameters: {'random_state': 519632, 'learning_rate': 0.029715010578920505, 'bagging_temperature': 1.3806783374332838, 'max_depth': 9, 'random_strength': 33, 'l2_leaf_reg': 1.1195539120554836e-05, 'min_child_samples': 63, 'max_bin': 487, 'od_type': 'IncToDec', 'task_type': 'GPU', 'loss_function': 'MAE', 'eval_metric': 'MAE'}. Best is trial 121 with value: 5.343377942063889.\u001b[0m\n"
     ]
    },
    {
     "name": "stdout",
     "output_type": "stream",
     "text": [
      "MAE of Train: 5.3179192974063785\n",
      "MAE of Validation: 5.3730438644771175\n"
     ]
    },
    {
     "name": "stderr",
     "output_type": "stream",
     "text": [
      "\u001b[32m[I 2022-03-27 04:17:04,619]\u001b[0m Trial 379 finished with value: 9.898845903933548 and parameters: {'random_state': 519632, 'learning_rate': 0.0005506552769936493, 'bagging_temperature': 0.922337278482156, 'max_depth': 9, 'random_strength': 42, 'l2_leaf_reg': 3.940760200307381e-06, 'min_child_samples': 74, 'max_bin': 466, 'od_type': 'IncToDec', 'task_type': 'GPU', 'loss_function': 'MAE', 'eval_metric': 'MAE'}. Best is trial 121 with value: 5.343377942063889.\u001b[0m\n"
     ]
    },
    {
     "name": "stdout",
     "output_type": "stream",
     "text": [
      "MAE of Train: 9.896156808444951\n",
      "MAE of Validation: 9.898845903933548\n"
     ]
    },
    {
     "name": "stderr",
     "output_type": "stream",
     "text": [
      "\u001b[32m[I 2022-03-27 04:17:10,039]\u001b[0m Trial 380 finished with value: 7.485027047876424 and parameters: {'random_state': 519632, 'learning_rate': 0.0011715272688546763, 'bagging_temperature': 2.0948811038728468, 'max_depth': 9, 'random_strength': 37, 'l2_leaf_reg': 8.709371821092332e-06, 'min_child_samples': 50, 'max_bin': 454, 'od_type': 'IncToDec', 'task_type': 'GPU', 'loss_function': 'MAE', 'eval_metric': 'MAE'}. Best is trial 121 with value: 5.343377942063889.\u001b[0m\n"
     ]
    },
    {
     "name": "stdout",
     "output_type": "stream",
     "text": [
      "MAE of Train: 7.476462605166198\n",
      "MAE of Validation: 7.485027047876424\n"
     ]
    },
    {
     "name": "stderr",
     "output_type": "stream",
     "text": [
      "\u001b[32m[I 2022-03-27 04:17:15,499]\u001b[0m Trial 381 finished with value: 12.555773439565979 and parameters: {'random_state': 519632, 'learning_rate': 0.0001435999104916565, 'bagging_temperature': 1.7847836095259992, 'max_depth': 9, 'random_strength': 24, 'l2_leaf_reg': 1.2139770850162104e-05, 'min_child_samples': 67, 'max_bin': 495, 'od_type': 'Iter', 'task_type': 'GPU', 'loss_function': 'MAE', 'eval_metric': 'MAE'}. Best is trial 121 with value: 5.343377942063889.\u001b[0m\n"
     ]
    },
    {
     "name": "stdout",
     "output_type": "stream",
     "text": [
      "MAE of Train: 12.553552764863287\n",
      "MAE of Validation: 12.555773439565979\n"
     ]
    },
    {
     "name": "stderr",
     "output_type": "stream",
     "text": [
      "\u001b[32m[I 2022-03-27 04:17:20,359]\u001b[0m Trial 382 finished with value: 5.347620023916999 and parameters: {'random_state': 519632, 'learning_rate': 0.0774022031907588, 'bagging_temperature': 1.467243445178137, 'max_depth': 9, 'random_strength': 25, 'l2_leaf_reg': 1.0071536070712872e-05, 'min_child_samples': 72, 'max_bin': 478, 'od_type': 'IncToDec', 'task_type': 'GPU', 'loss_function': 'MAE', 'eval_metric': 'MAE'}. Best is trial 121 with value: 5.343377942063889.\u001b[0m\n"
     ]
    },
    {
     "name": "stdout",
     "output_type": "stream",
     "text": [
      "MAE of Train: 5.1844361070972305\n",
      "MAE of Validation: 5.347620023916999\n"
     ]
    },
    {
     "name": "stderr",
     "output_type": "stream",
     "text": [
      "\u001b[32m[I 2022-03-27 04:17:26,254]\u001b[0m Trial 383 finished with value: 5.347662168514349 and parameters: {'random_state': 519632, 'learning_rate': 0.06797956667480394, 'bagging_temperature': 2.5033666207760352, 'max_depth': 9, 'random_strength': 28, 'l2_leaf_reg': 6.979349720835572e-06, 'min_child_samples': 48, 'max_bin': 483, 'od_type': 'IncToDec', 'task_type': 'GPU', 'loss_function': 'MAE', 'eval_metric': 'MAE'}. Best is trial 121 with value: 5.343377942063889.\u001b[0m\n"
     ]
    },
    {
     "name": "stdout",
     "output_type": "stream",
     "text": [
      "MAE of Train: 5.152288818550663\n",
      "MAE of Validation: 5.347662168514349\n"
     ]
    },
    {
     "name": "stderr",
     "output_type": "stream",
     "text": [
      "\u001b[32m[I 2022-03-27 04:17:32,042]\u001b[0m Trial 384 finished with value: 5.460301767485468 and parameters: {'random_state': 519632, 'learning_rate': 0.0053845671276576265, 'bagging_temperature': 1.1919802452485946, 'max_depth': 9, 'random_strength': 2, 'l2_leaf_reg': 1.1531735492252763e-05, 'min_child_samples': 65, 'max_bin': 446, 'od_type': 'IncToDec', 'task_type': 'GPU', 'loss_function': 'MAE', 'eval_metric': 'MAE'}. Best is trial 121 with value: 5.343377942063889.\u001b[0m\n"
     ]
    },
    {
     "name": "stdout",
     "output_type": "stream",
     "text": [
      "MAE of Train: 5.463383264480563\n",
      "MAE of Validation: 5.460301767485468\n"
     ]
    },
    {
     "name": "stderr",
     "output_type": "stream",
     "text": [
      "\u001b[32m[I 2022-03-27 04:17:37,885]\u001b[0m Trial 385 finished with value: 5.3521014016083335 and parameters: {'random_state': 519632, 'learning_rate': 0.051926743328669485, 'bagging_temperature': 0.9601941669833364, 'max_depth': 9, 'random_strength': 30, 'l2_leaf_reg': 1.0852924786003234e-05, 'min_child_samples': 44, 'max_bin': 490, 'od_type': 'IncToDec', 'task_type': 'GPU', 'loss_function': 'MAE', 'eval_metric': 'MAE'}. Best is trial 121 with value: 5.343377942063889.\u001b[0m\n"
     ]
    },
    {
     "name": "stdout",
     "output_type": "stream",
     "text": [
      "MAE of Train: 5.225556848573678\n",
      "MAE of Validation: 5.3521014016083335\n"
     ]
    },
    {
     "name": "stderr",
     "output_type": "stream",
     "text": [
      "\u001b[32m[I 2022-03-27 04:17:42,800]\u001b[0m Trial 386 finished with value: 5.347168578836414 and parameters: {'random_state': 519632, 'learning_rate': 0.08561829136753962, 'bagging_temperature': 1.7107690251848175, 'max_depth': 9, 'random_strength': 26, 'l2_leaf_reg': 9.27972638061157e-06, 'min_child_samples': 69, 'max_bin': 472, 'od_type': 'IncToDec', 'task_type': 'GPU', 'loss_function': 'MAE', 'eval_metric': 'MAE'}. Best is trial 121 with value: 5.343377942063889.\u001b[0m\n"
     ]
    },
    {
     "name": "stdout",
     "output_type": "stream",
     "text": [
      "MAE of Train: 5.1501848943275\n",
      "MAE of Validation: 5.347168578836414\n"
     ]
    },
    {
     "name": "stderr",
     "output_type": "stream",
     "text": [
      "\u001b[32m[I 2022-03-27 04:17:46,448]\u001b[0m Trial 387 finished with value: 5.352733346258922 and parameters: {'random_state': 519632, 'learning_rate': 0.10684280612630051, 'bagging_temperature': 1.7861609038235413, 'max_depth': 9, 'random_strength': 25, 'l2_leaf_reg': 9.280502715391863e-06, 'min_child_samples': 51, 'max_bin': 473, 'od_type': 'IncToDec', 'task_type': 'GPU', 'loss_function': 'MAE', 'eval_metric': 'MAE'}. Best is trial 121 with value: 5.343377942063889.\u001b[0m\n"
     ]
    },
    {
     "name": "stdout",
     "output_type": "stream",
     "text": [
      "MAE of Train: 5.18575211979246\n",
      "MAE of Validation: 5.352733346258922\n"
     ]
    },
    {
     "name": "stderr",
     "output_type": "stream",
     "text": [
      "\u001b[32m[I 2022-03-27 04:17:50,244]\u001b[0m Trial 388 finished with value: 5.352464288467124 and parameters: {'random_state': 519632, 'learning_rate': 0.08936222414142986, 'bagging_temperature': 2.185579911799684, 'max_depth': 9, 'random_strength': 28, 'l2_leaf_reg': 9.784365823950691e-06, 'min_child_samples': 69, 'max_bin': 471, 'od_type': 'IncToDec', 'task_type': 'GPU', 'loss_function': 'MAE', 'eval_metric': 'MAE'}. Best is trial 121 with value: 5.343377942063889.\u001b[0m\n"
     ]
    },
    {
     "name": "stdout",
     "output_type": "stream",
     "text": [
      "MAE of Train: 5.198055649126197\n",
      "MAE of Validation: 5.352464288467124\n"
     ]
    },
    {
     "name": "stderr",
     "output_type": "stream",
     "text": [
      "\u001b[32m[I 2022-03-27 04:17:53,856]\u001b[0m Trial 389 finished with value: 5.352809345308291 and parameters: {'random_state': 519632, 'learning_rate': 0.13118895113865167, 'bagging_temperature': 1.2983163268100137, 'max_depth': 9, 'random_strength': 26, 'l2_leaf_reg': 8.955017703092476e-06, 'min_child_samples': 73, 'max_bin': 481, 'od_type': 'IncToDec', 'task_type': 'GPU', 'loss_function': 'MAE', 'eval_metric': 'MAE'}. Best is trial 121 with value: 5.343377942063889.\u001b[0m\n"
     ]
    },
    {
     "name": "stdout",
     "output_type": "stream",
     "text": [
      "MAE of Train: 5.162952122814025\n",
      "MAE of Validation: 5.352809345308291\n"
     ]
    },
    {
     "name": "stderr",
     "output_type": "stream",
     "text": [
      "\u001b[32m[I 2022-03-27 04:17:59,465]\u001b[0m Trial 390 finished with value: 5.346239375037982 and parameters: {'random_state': 519632, 'learning_rate': 0.07950177717610889, 'bagging_temperature': 1.0660380831090037, 'max_depth': 9, 'random_strength': 23, 'l2_leaf_reg': 1.0571792069053616e-05, 'min_child_samples': 46, 'max_bin': 487, 'od_type': 'IncToDec', 'task_type': 'GPU', 'loss_function': 'MAE', 'eval_metric': 'MAE'}. Best is trial 121 with value: 5.343377942063889.\u001b[0m\n"
     ]
    },
    {
     "name": "stdout",
     "output_type": "stream",
     "text": [
      "MAE of Train: 5.146629692976288\n",
      "MAE of Validation: 5.346239375037982\n"
     ]
    },
    {
     "name": "stderr",
     "output_type": "stream",
     "text": [
      "\u001b[32m[I 2022-03-27 04:18:03,288]\u001b[0m Trial 391 finished with value: 5.349742514676162 and parameters: {'random_state': 519632, 'learning_rate': 0.10585487952250931, 'bagging_temperature': 0.7633014528006103, 'max_depth': 9, 'random_strength': 24, 'l2_leaf_reg': 1.0031254157616412e-05, 'min_child_samples': 46, 'max_bin': 495, 'od_type': 'IncToDec', 'task_type': 'GPU', 'loss_function': 'MAE', 'eval_metric': 'MAE'}. Best is trial 121 with value: 5.343377942063889.\u001b[0m\n"
     ]
    },
    {
     "name": "stdout",
     "output_type": "stream",
     "text": [
      "MAE of Train: 5.189884880525654\n",
      "MAE of Validation: 5.349742514676162\n"
     ]
    },
    {
     "name": "stderr",
     "output_type": "stream",
     "text": [
      "\u001b[32m[I 2022-03-27 04:18:07,990]\u001b[0m Trial 392 finished with value: 5.349709297786768 and parameters: {'random_state': 519632, 'learning_rate': 0.08374750407815937, 'bagging_temperature': 0.8707726889859011, 'max_depth': 9, 'random_strength': 23, 'l2_leaf_reg': 1.0873519615470376e-05, 'min_child_samples': 48, 'max_bin': 489, 'od_type': 'Iter', 'task_type': 'GPU', 'loss_function': 'MAE', 'eval_metric': 'MAE'}. Best is trial 121 with value: 5.343377942063889.\u001b[0m\n"
     ]
    },
    {
     "name": "stdout",
     "output_type": "stream",
     "text": [
      "MAE of Train: 5.187054909535345\n",
      "MAE of Validation: 5.349709297786768\n"
     ]
    },
    {
     "name": "stderr",
     "output_type": "stream",
     "text": [
      "\u001b[32m[I 2022-03-27 04:18:12,104]\u001b[0m Trial 393 finished with value: 5.350596144952147 and parameters: {'random_state': 519632, 'learning_rate': 0.10020373790721374, 'bagging_temperature': 1.0257045804456153, 'max_depth': 9, 'random_strength': 60, 'l2_leaf_reg': 1.0380808963822913e-05, 'min_child_samples': 42, 'max_bin': 487, 'od_type': 'IncToDec', 'task_type': 'GPU', 'loss_function': 'MAE', 'eval_metric': 'MAE'}. Best is trial 121 with value: 5.343377942063889.\u001b[0m\n"
     ]
    },
    {
     "name": "stdout",
     "output_type": "stream",
     "text": [
      "MAE of Train: 5.182818084003481\n",
      "MAE of Validation: 5.350596144952147\n"
     ]
    },
    {
     "name": "stderr",
     "output_type": "stream",
     "text": [
      "\u001b[32m[I 2022-03-27 04:18:15,798]\u001b[0m Trial 394 finished with value: 5.355320715665798 and parameters: {'random_state': 519632, 'learning_rate': 0.14795352905654827, 'bagging_temperature': 0.5924490165335001, 'max_depth': 8, 'random_strength': 27, 'l2_leaf_reg': 1.0560928491090962e-05, 'min_child_samples': 44, 'max_bin': 500, 'od_type': 'IncToDec', 'task_type': 'GPU', 'loss_function': 'MAE', 'eval_metric': 'MAE'}. Best is trial 121 with value: 5.343377942063889.\u001b[0m\n"
     ]
    },
    {
     "name": "stdout",
     "output_type": "stream",
     "text": [
      "MAE of Train: 5.181709084478313\n",
      "MAE of Validation: 5.355320715665798\n"
     ]
    },
    {
     "name": "stderr",
     "output_type": "stream",
     "text": [
      "\u001b[32m[I 2022-03-27 04:18:21,620]\u001b[0m Trial 395 finished with value: 5.346636206139408 and parameters: {'random_state': 519632, 'learning_rate': 0.07818182163363879, 'bagging_temperature': 1.144619035964056, 'max_depth': 9, 'random_strength': 54, 'l2_leaf_reg': 9.874526070437482e-06, 'min_child_samples': 46, 'max_bin': 477, 'od_type': 'IncToDec', 'task_type': 'GPU', 'loss_function': 'MAE', 'eval_metric': 'MAE'}. Best is trial 121 with value: 5.343377942063889.\u001b[0m\n"
     ]
    },
    {
     "name": "stdout",
     "output_type": "stream",
     "text": [
      "MAE of Train: 5.139824752036479\n",
      "MAE of Validation: 5.346636206139408\n"
     ]
    },
    {
     "name": "stderr",
     "output_type": "stream",
     "text": [
      "\u001b[32m[I 2022-03-27 04:18:26,529]\u001b[0m Trial 396 finished with value: 5.347719483421213 and parameters: {'random_state': 519632, 'learning_rate': 0.08893850897761017, 'bagging_temperature': 1.1236260947221002, 'max_depth': 9, 'random_strength': 28, 'l2_leaf_reg': 1.9022333610183026e-05, 'min_child_samples': 46, 'max_bin': 493, 'od_type': 'IncToDec', 'task_type': 'GPU', 'loss_function': 'MAE', 'eval_metric': 'MAE'}. Best is trial 121 with value: 5.343377942063889.\u001b[0m\n"
     ]
    },
    {
     "name": "stdout",
     "output_type": "stream",
     "text": [
      "MAE of Train: 5.159266629382925\n",
      "MAE of Validation: 5.347719483421213\n"
     ]
    },
    {
     "name": "stderr",
     "output_type": "stream",
     "text": [
      "\u001b[32m[I 2022-03-27 04:18:31,839]\u001b[0m Trial 397 finished with value: 5.348034673163455 and parameters: {'random_state': 519632, 'learning_rate': 0.0767554408005518, 'bagging_temperature': 1.2832740685734805, 'max_depth': 9, 'random_strength': 62, 'l2_leaf_reg': 9.314203075647684e-06, 'min_child_samples': 45, 'max_bin': 467, 'od_type': 'IncToDec', 'task_type': 'GPU', 'loss_function': 'MAE', 'eval_metric': 'MAE'}. Best is trial 121 with value: 5.343377942063889.\u001b[0m\n"
     ]
    },
    {
     "name": "stdout",
     "output_type": "stream",
     "text": [
      "MAE of Train: 5.17250822711622\n",
      "MAE of Validation: 5.348034673163455\n"
     ]
    },
    {
     "name": "stderr",
     "output_type": "stream",
     "text": [
      "\u001b[32m[I 2022-03-27 04:18:35,145]\u001b[0m Trial 398 finished with value: 5.35920181349856 and parameters: {'random_state': 519632, 'learning_rate': 0.11368847595992895, 'bagging_temperature': 0.8361863729770365, 'max_depth': 8, 'random_strength': 31, 'l2_leaf_reg': 9.59194279688737e-06, 'min_child_samples': 49, 'max_bin': 483, 'od_type': 'IncToDec', 'task_type': 'GPU', 'loss_function': 'MAE', 'eval_metric': 'MAE'}. Best is trial 121 with value: 5.343377942063889.\u001b[0m\n"
     ]
    },
    {
     "name": "stdout",
     "output_type": "stream",
     "text": [
      "MAE of Train: 5.236101928353415\n",
      "MAE of Validation: 5.35920181349856\n"
     ]
    },
    {
     "name": "stderr",
     "output_type": "stream",
     "text": [
      "\u001b[32m[I 2022-03-27 04:18:38,469]\u001b[0m Trial 399 finished with value: 5.418274624516155 and parameters: {'random_state': 519632, 'learning_rate': 0.09174672328613448, 'bagging_temperature': 1.4397722925214265, 'max_depth': 3, 'random_strength': 56, 'l2_leaf_reg': 4.909521670841697e-06, 'min_child_samples': 48, 'max_bin': 472, 'od_type': 'IncToDec', 'task_type': 'GPU', 'loss_function': 'MAE', 'eval_metric': 'MAE'}. Best is trial 121 with value: 5.343377942063889.\u001b[0m\n"
     ]
    },
    {
     "name": "stdout",
     "output_type": "stream",
     "text": [
      "MAE of Train: 5.419208879458374\n",
      "MAE of Validation: 5.418274624516155\n"
     ]
    },
    {
     "name": "stderr",
     "output_type": "stream",
     "text": [
      "\u001b[32m[I 2022-03-27 04:18:44,067]\u001b[0m Trial 400 finished with value: 5.347990534438465 and parameters: {'random_state': 519632, 'learning_rate': 0.07256782968546724, 'bagging_temperature': 1.189891827757653, 'max_depth': 9, 'random_strength': 50, 'l2_leaf_reg': 8.432906505441986e-06, 'min_child_samples': 43, 'max_bin': 479, 'od_type': 'IncToDec', 'task_type': 'GPU', 'loss_function': 'MAE', 'eval_metric': 'MAE'}. Best is trial 121 with value: 5.343377942063889.\u001b[0m\n"
     ]
    },
    {
     "name": "stdout",
     "output_type": "stream",
     "text": [
      "MAE of Train: 5.170240133660105\n",
      "MAE of Validation: 5.347990534438465\n"
     ]
    },
    {
     "name": "stderr",
     "output_type": "stream",
     "text": [
      "\u001b[32m[I 2022-03-27 04:18:48,328]\u001b[0m Trial 401 finished with value: 5.37181669093017 and parameters: {'random_state': 519632, 'learning_rate': 0.07895087656173311, 'bagging_temperature': 1.9014638294588422, 'max_depth': 6, 'random_strength': 52, 'l2_leaf_reg': 8.97843223264884e-06, 'min_child_samples': 47, 'max_bin': 387, 'od_type': 'IncToDec', 'task_type': 'GPU', 'loss_function': 'MAE', 'eval_metric': 'MAE'}. Best is trial 121 with value: 5.343377942063889.\u001b[0m\n"
     ]
    },
    {
     "name": "stdout",
     "output_type": "stream",
     "text": [
      "MAE of Train: 5.313125073988727\n",
      "MAE of Validation: 5.37181669093017\n"
     ]
    },
    {
     "name": "stderr",
     "output_type": "stream",
     "text": [
      "\u001b[32m[I 2022-03-27 04:18:52,914]\u001b[0m Trial 402 finished with value: 5.350848454039574 and parameters: {'random_state': 519632, 'learning_rate': 0.10060597329180965, 'bagging_temperature': 1.5370229256209171, 'max_depth': 9, 'random_strength': 55, 'l2_leaf_reg': 9.935316790944043e-06, 'min_child_samples': 52, 'max_bin': 487, 'od_type': 'IncToDec', 'task_type': 'GPU', 'loss_function': 'MAE', 'eval_metric': 'MAE'}. Best is trial 121 with value: 5.343377942063889.\u001b[0m\n"
     ]
    },
    {
     "name": "stdout",
     "output_type": "stream",
     "text": [
      "MAE of Train: 5.155443403235961\n",
      "MAE of Validation: 5.350848454039574\n"
     ]
    },
    {
     "name": "stderr",
     "output_type": "stream",
     "text": [
      "\u001b[32m[I 2022-03-27 04:18:58,914]\u001b[0m Trial 403 finished with value: 5.3484484415292854 and parameters: {'random_state': 519632, 'learning_rate': 0.07204159218574832, 'bagging_temperature': 1.0581007172533277, 'max_depth': 9, 'random_strength': 59, 'l2_leaf_reg': 1.0378238031668377e-05, 'min_child_samples': 45, 'max_bin': 495, 'od_type': 'IncToDec', 'task_type': 'GPU', 'loss_function': 'MAE', 'eval_metric': 'MAE'}. Best is trial 121 with value: 5.343377942063889.\u001b[0m\n"
     ]
    },
    {
     "name": "stdout",
     "output_type": "stream",
     "text": [
      "MAE of Train: 5.15942353160903\n",
      "MAE of Validation: 5.3484484415292854\n"
     ]
    },
    {
     "name": "stderr",
     "output_type": "stream",
     "text": [
      "\u001b[32m[I 2022-03-27 04:19:03,294]\u001b[0m Trial 404 finished with value: 5.351950334906657 and parameters: {'random_state': 519632, 'learning_rate': 0.08619783192808828, 'bagging_temperature': 1.3384542488665951, 'max_depth': 9, 'random_strength': 29, 'l2_leaf_reg': 9.612412913273103e-06, 'min_child_samples': 42, 'max_bin': 465, 'od_type': 'Iter', 'task_type': 'GPU', 'loss_function': 'MAE', 'eval_metric': 'MAE'}. Best is trial 121 with value: 5.343377942063889.\u001b[0m\n"
     ]
    },
    {
     "name": "stdout",
     "output_type": "stream",
     "text": [
      "MAE of Train: 5.192467436871151\n",
      "MAE of Validation: 5.351950334906657\n"
     ]
    },
    {
     "name": "stderr",
     "output_type": "stream",
     "text": [
      "\u001b[32m[I 2022-03-27 04:19:06,768]\u001b[0m Trial 405 finished with value: 5.356915409361318 and parameters: {'random_state': 519632, 'learning_rate': 0.11743176514492454, 'bagging_temperature': 2.4371115996678596, 'max_depth': 9, 'random_strength': 5, 'l2_leaf_reg': 8.32009059016402e-06, 'min_child_samples': 53, 'max_bin': 477, 'od_type': 'IncToDec', 'task_type': 'GPU', 'loss_function': 'MAE', 'eval_metric': 'MAE'}. Best is trial 121 with value: 5.343377942063889.\u001b[0m\n"
     ]
    },
    {
     "name": "stdout",
     "output_type": "stream",
     "text": [
      "MAE of Train: 5.1646867588271785\n",
      "MAE of Validation: 5.356915409361318\n"
     ]
    },
    {
     "name": "stderr",
     "output_type": "stream",
     "text": [
      "\u001b[32m[I 2022-03-27 04:19:09,002]\u001b[0m Trial 406 finished with value: 5.3648346388831945 and parameters: {'random_state': 519632, 'learning_rate': 0.24460687637707199, 'bagging_temperature': 0.8675793225094883, 'max_depth': 9, 'random_strength': 54, 'l2_leaf_reg': 3.326062702340201e-06, 'min_child_samples': 47, 'max_bin': 487, 'od_type': 'IncToDec', 'task_type': 'GPU', 'loss_function': 'MAE', 'eval_metric': 'MAE'}. Best is trial 121 with value: 5.343377942063889.\u001b[0m\n"
     ]
    },
    {
     "name": "stdout",
     "output_type": "stream",
     "text": [
      "MAE of Train: 5.171778572150321\n",
      "MAE of Validation: 5.3648346388831945\n"
     ]
    },
    {
     "name": "stderr",
     "output_type": "stream",
     "text": [
      "\u001b[32m[I 2022-03-27 04:19:14,341]\u001b[0m Trial 407 finished with value: 5.3498412058171025 and parameters: {'random_state': 519632, 'learning_rate': 0.06912594641677575, 'bagging_temperature': 1.8333565942779038, 'max_depth': 9, 'random_strength': 57, 'l2_leaf_reg': 9.042989029693283e-06, 'min_child_samples': 50, 'max_bin': 473, 'od_type': 'IncToDec', 'task_type': 'GPU', 'loss_function': 'MAE', 'eval_metric': 'MAE'}. Best is trial 121 with value: 5.343377942063889.\u001b[0m\n"
     ]
    },
    {
     "name": "stdout",
     "output_type": "stream",
     "text": [
      "MAE of Train: 5.184046194753193\n",
      "MAE of Validation: 5.3498412058171025\n"
     ]
    },
    {
     "name": "stderr",
     "output_type": "stream",
     "text": [
      "\u001b[32m[I 2022-03-27 04:19:18,990]\u001b[0m Trial 408 finished with value: 5.349708746182354 and parameters: {'random_state': 519632, 'learning_rate': 0.07971841752577612, 'bagging_temperature': 1.1559544000163497, 'max_depth': 9, 'random_strength': 25, 'l2_leaf_reg': 1.0725393324044815e-05, 'min_child_samples': 40, 'max_bin': 483, 'od_type': 'IncToDec', 'task_type': 'GPU', 'loss_function': 'MAE', 'eval_metric': 'MAE'}. Best is trial 121 with value: 5.343377942063889.\u001b[0m\n"
     ]
    },
    {
     "name": "stdout",
     "output_type": "stream",
     "text": [
      "MAE of Train: 5.201972379838466\n",
      "MAE of Validation: 5.349708746182354\n"
     ]
    },
    {
     "name": "stderr",
     "output_type": "stream",
     "text": [
      "\u001b[32m[I 2022-03-27 04:19:22,741]\u001b[0m Trial 409 finished with value: 5.396541237082779 and parameters: {'random_state': 519632, 'learning_rate': 0.09602796395356411, 'bagging_temperature': 0.3940385100983002, 'max_depth': 4, 'random_strength': 27, 'l2_leaf_reg': 9.945409367175345e-06, 'min_child_samples': 50, 'max_bin': 492, 'od_type': 'IncToDec', 'task_type': 'GPU', 'loss_function': 'MAE', 'eval_metric': 'MAE'}. Best is trial 121 with value: 5.343377942063889.\u001b[0m\n"
     ]
    },
    {
     "name": "stdout",
     "output_type": "stream",
     "text": [
      "MAE of Train: 5.383240646495555\n",
      "MAE of Validation: 5.396541237082779\n"
     ]
    },
    {
     "name": "stderr",
     "output_type": "stream",
     "text": [
      "\u001b[32m[I 2022-03-27 04:19:27,953]\u001b[0m Trial 410 finished with value: 5.3477911511986385 and parameters: {'random_state': 519632, 'learning_rate': 0.06941680006534824, 'bagging_temperature': 1.5323372625894116, 'max_depth': 9, 'random_strength': 7, 'l2_leaf_reg': 1.1301150371176049e-05, 'min_child_samples': 45, 'max_bin': 462, 'od_type': 'IncToDec', 'task_type': 'GPU', 'loss_function': 'MAE', 'eval_metric': 'MAE'}. Best is trial 121 with value: 5.343377942063889.\u001b[0m\n"
     ]
    },
    {
     "name": "stdout",
     "output_type": "stream",
     "text": [
      "MAE of Train: 5.193116313241636\n",
      "MAE of Validation: 5.3477911511986385\n"
     ]
    },
    {
     "name": "stderr",
     "output_type": "stream",
     "text": [
      "\u001b[32m[I 2022-03-27 04:19:33,672]\u001b[0m Trial 411 finished with value: 5.350964849684763 and parameters: {'random_state': 519632, 'learning_rate': 0.06398625175600918, 'bagging_temperature': 0.6458324825049444, 'max_depth': 9, 'random_strength': 51, 'l2_leaf_reg': 8.314199345709275e-06, 'min_child_samples': 56, 'max_bin': 394, 'od_type': 'IncToDec', 'task_type': 'GPU', 'loss_function': 'MAE', 'eval_metric': 'MAE'}. Best is trial 121 with value: 5.343377942063889.\u001b[0m\n"
     ]
    },
    {
     "name": "stdout",
     "output_type": "stream",
     "text": [
      "MAE of Train: 5.193091170435193\n",
      "MAE of Validation: 5.350964849684763\n"
     ]
    },
    {
     "name": "stderr",
     "output_type": "stream",
     "text": [
      "\u001b[32m[I 2022-03-27 04:19:35,904]\u001b[0m Trial 412 finished with value: 5.368778824546111 and parameters: {'random_state': 519632, 'learning_rate': 0.1854235283841673, 'bagging_temperature': 3.191084033744306, 'max_depth': 9, 'random_strength': 31, 'l2_leaf_reg': 9.446064723519729e-06, 'min_child_samples': 52, 'max_bin': 500, 'od_type': 'IncToDec', 'task_type': 'GPU', 'loss_function': 'MAE', 'eval_metric': 'MAE'}. Best is trial 121 with value: 5.343377942063889.\u001b[0m\n"
     ]
    },
    {
     "name": "stdout",
     "output_type": "stream",
     "text": [
      "MAE of Train: 5.190381265734963\n",
      "MAE of Validation: 5.368778824546111\n"
     ]
    },
    {
     "name": "stderr",
     "output_type": "stream",
     "text": [
      "\u001b[32m[I 2022-03-27 04:19:41,250]\u001b[0m Trial 413 finished with value: 5.349520710045278 and parameters: {'random_state': 519632, 'learning_rate': 0.08041508966856502, 'bagging_temperature': 1.0266601691408208, 'max_depth': 9, 'random_strength': 29, 'l2_leaf_reg': 1.0465923561323856e-05, 'min_child_samples': 49, 'max_bin': 479, 'od_type': 'IncToDec', 'task_type': 'GPU', 'loss_function': 'MAE', 'eval_metric': 'MAE'}. Best is trial 121 with value: 5.343377942063889.\u001b[0m\n"
     ]
    },
    {
     "name": "stdout",
     "output_type": "stream",
     "text": [
      "MAE of Train: 5.151355732029986\n",
      "MAE of Validation: 5.349520710045278\n"
     ]
    },
    {
     "name": "stderr",
     "output_type": "stream",
     "text": [
      "\u001b[32m[I 2022-03-27 04:19:45,930]\u001b[0m Trial 414 finished with value: 5.350428856352592 and parameters: {'random_state': 519632, 'learning_rate': 0.0899390467526655, 'bagging_temperature': 1.325934905620196, 'max_depth': 9, 'random_strength': 26, 'l2_leaf_reg': 8.815502198569838e-06, 'min_child_samples': 91, 'max_bin': 470, 'od_type': 'IncToDec', 'task_type': 'GPU', 'loss_function': 'MAE', 'eval_metric': 'MAE'}. Best is trial 121 with value: 5.343377942063889.\u001b[0m\n"
     ]
    },
    {
     "name": "stdout",
     "output_type": "stream",
     "text": [
      "MAE of Train: 5.1655154003310075\n",
      "MAE of Validation: 5.350428856352592\n"
     ]
    },
    {
     "name": "stderr",
     "output_type": "stream",
     "text": [
      "\u001b[32m[I 2022-03-27 04:19:51,197]\u001b[0m Trial 415 finished with value: 5.350978111883397 and parameters: {'random_state': 519632, 'learning_rate': 0.06527409117363289, 'bagging_temperature': 1.7831748457244103, 'max_depth': 9, 'random_strength': 9, 'l2_leaf_reg': 7.952331351063855e-06, 'min_child_samples': 76, 'max_bin': 489, 'od_type': 'Iter', 'task_type': 'GPU', 'loss_function': 'MAE', 'eval_metric': 'MAE'}. Best is trial 121 with value: 5.343377942063889.\u001b[0m\n"
     ]
    },
    {
     "name": "stdout",
     "output_type": "stream",
     "text": [
      "MAE of Train: 5.185240419560789\n",
      "MAE of Validation: 5.350978111883397\n"
     ]
    },
    {
     "name": "stderr",
     "output_type": "stream",
     "text": [
      "\u001b[32m[I 2022-03-27 04:19:51,699]\u001b[0m Trial 416 finished with value: 13.91781104801239 and parameters: {'random_state': 519632, 'learning_rate': 0.10565349735454907, 'bagging_temperature': 54.957619849813895, 'max_depth': 7, 'random_strength': 54, 'l2_leaf_reg': 1.1181769852944192e-05, 'min_child_samples': 59, 'max_bin': 484, 'od_type': 'IncToDec', 'task_type': 'GPU', 'loss_function': 'MAE', 'eval_metric': 'MAE'}. Best is trial 121 with value: 5.343377942063889.\u001b[0m\n"
     ]
    },
    {
     "name": "stdout",
     "output_type": "stream",
     "text": [
      "MAE of Train: 13.91636551368095\n",
      "MAE of Validation: 13.91781104801239\n"
     ]
    },
    {
     "name": "stderr",
     "output_type": "stream",
     "text": [
      "\u001b[32m[I 2022-03-27 04:19:55,947]\u001b[0m Trial 417 finished with value: 5.350267938357425 and parameters: {'random_state': 519632, 'learning_rate': 0.07751912256802944, 'bagging_temperature': 2.2628655713767887, 'max_depth': 9, 'random_strength': 48, 'l2_leaf_reg': 1.3157860824491133e-05, 'min_child_samples': 48, 'max_bin': 477, 'od_type': 'IncToDec', 'task_type': 'GPU', 'loss_function': 'MAE', 'eval_metric': 'MAE'}. Best is trial 121 with value: 5.343377942063889.\u001b[0m\n"
     ]
    },
    {
     "name": "stdout",
     "output_type": "stream",
     "text": [
      "MAE of Train: 5.195765786896668\n",
      "MAE of Validation: 5.350267938357425\n"
     ]
    },
    {
     "name": "stderr",
     "output_type": "stream",
     "text": [
      "\u001b[32m[I 2022-03-27 04:20:01,517]\u001b[0m Trial 418 finished with value: 5.351022496946325 and parameters: {'random_state': 519632, 'learning_rate': 0.06497161101877369, 'bagging_temperature': 0.8493742600836851, 'max_depth': 9, 'random_strength': 22, 'l2_leaf_reg': 6.209683010500072e-06, 'min_child_samples': 44, 'max_bin': 496, 'od_type': 'IncToDec', 'task_type': 'GPU', 'loss_function': 'MAE', 'eval_metric': 'MAE'}. Best is trial 121 with value: 5.343377942063889.\u001b[0m\n"
     ]
    },
    {
     "name": "stdout",
     "output_type": "stream",
     "text": [
      "MAE of Train: 5.194115026435439\n",
      "MAE of Validation: 5.351022496946325\n"
     ]
    },
    {
     "name": "stderr",
     "output_type": "stream",
     "text": [
      "\u001b[32m[I 2022-03-27 04:20:06,667]\u001b[0m Trial 419 finished with value: 5.347842018374642 and parameters: {'random_state': 519632, 'learning_rate': 0.0893990743480473, 'bagging_temperature': 1.5559328861770725, 'max_depth': 9, 'random_strength': 40, 'l2_leaf_reg': 1.0091270207500755e-05, 'min_child_samples': 71, 'max_bin': 491, 'od_type': 'IncToDec', 'task_type': 'GPU', 'loss_function': 'MAE', 'eval_metric': 'MAE'}. Best is trial 121 with value: 5.343377942063889.\u001b[0m\n"
     ]
    },
    {
     "name": "stdout",
     "output_type": "stream",
     "text": [
      "MAE of Train: 5.134860191195696\n",
      "MAE of Validation: 5.347842018374642\n"
     ]
    },
    {
     "name": "stderr",
     "output_type": "stream",
     "text": [
      "\u001b[32m[I 2022-03-27 04:20:12,345]\u001b[0m Trial 420 finished with value: 5.350193672890426 and parameters: {'random_state': 519632, 'learning_rate': 0.054592461556848715, 'bagging_temperature': 1.2167601538475274, 'max_depth': 9, 'random_strength': 32, 'l2_leaf_reg': 1.1621904152964632e-05, 'min_child_samples': 57, 'max_bin': 468, 'od_type': 'IncToDec', 'task_type': 'GPU', 'loss_function': 'MAE', 'eval_metric': 'MAE'}. Best is trial 121 with value: 5.343377942063889.\u001b[0m\n"
     ]
    },
    {
     "name": "stdout",
     "output_type": "stream",
     "text": [
      "MAE of Train: 5.2046177251034225\n",
      "MAE of Validation: 5.350193672890426\n"
     ]
    },
    {
     "name": "stderr",
     "output_type": "stream",
     "text": [
      "\u001b[32m[I 2022-03-27 04:20:16,087]\u001b[0m Trial 421 finished with value: 5.389090913574461 and parameters: {'random_state': 519632, 'learning_rate': 0.07419125298791297, 'bagging_temperature': 1.0012850697297937, 'max_depth': 5, 'random_strength': 25, 'l2_leaf_reg': 1.2485889617544275e-05, 'min_child_samples': 54, 'max_bin': 483, 'od_type': 'IncToDec', 'task_type': 'GPU', 'loss_function': 'MAE', 'eval_metric': 'MAE'}. Best is trial 121 with value: 5.343377942063889.\u001b[0m\n"
     ]
    },
    {
     "name": "stdout",
     "output_type": "stream",
     "text": [
      "MAE of Train: 5.364715290406567\n",
      "MAE of Validation: 5.389090913574461\n"
     ]
    },
    {
     "name": "stderr",
     "output_type": "stream",
     "text": [
      "\u001b[32m[I 2022-03-27 04:20:21,773]\u001b[0m Trial 422 finished with value: 5.349198906969465 and parameters: {'random_state': 519632, 'learning_rate': 0.06268599586900978, 'bagging_temperature': 1.9691996137609342, 'max_depth': 9, 'random_strength': 20, 'l2_leaf_reg': 9.277286980014284e-06, 'min_child_samples': 46, 'max_bin': 475, 'od_type': 'IncToDec', 'task_type': 'GPU', 'loss_function': 'MAE', 'eval_metric': 'MAE'}. Best is trial 121 with value: 5.343377942063889.\u001b[0m\n"
     ]
    },
    {
     "name": "stdout",
     "output_type": "stream",
     "text": [
      "MAE of Train: 5.168111606951649\n",
      "MAE of Validation: 5.349198906969465\n"
     ]
    },
    {
     "name": "stderr",
     "output_type": "stream",
     "text": [
      "\u001b[32m[I 2022-03-27 04:20:25,171]\u001b[0m Trial 423 finished with value: 5.35190842663828 and parameters: {'random_state': 519632, 'learning_rate': 0.1123655256986846, 'bagging_temperature': 1.4069103904284896, 'max_depth': 9, 'random_strength': 30, 'l2_leaf_reg': 1.0498243474572843e-05, 'min_child_samples': 74, 'max_bin': 461, 'od_type': 'IncToDec', 'task_type': 'GPU', 'loss_function': 'MAE', 'eval_metric': 'MAE'}. Best is trial 121 with value: 5.343377942063889.\u001b[0m\n"
     ]
    },
    {
     "name": "stdout",
     "output_type": "stream",
     "text": [
      "MAE of Train: 5.192649872129837\n",
      "MAE of Validation: 5.35190842663828\n"
     ]
    },
    {
     "name": "stderr",
     "output_type": "stream",
     "text": [
      "\u001b[32m[I 2022-03-27 04:20:28,764]\u001b[0m Trial 424 finished with value: 5.3556745486930755 and parameters: {'random_state': 519632, 'learning_rate': 0.12632071433836986, 'bagging_temperature': 0.6843740769654547, 'max_depth': 9, 'random_strength': 28, 'l2_leaf_reg': 7.78378474227005e-06, 'min_child_samples': 41, 'max_bin': 488, 'od_type': 'IncToDec', 'task_type': 'GPU', 'loss_function': 'MAE', 'eval_metric': 'MAE'}. Best is trial 121 with value: 5.343377942063889.\u001b[0m\n"
     ]
    },
    {
     "name": "stdout",
     "output_type": "stream",
     "text": [
      "MAE of Train: 5.161019941971312\n",
      "MAE of Validation: 5.3556745486930755\n"
     ]
    },
    {
     "name": "stderr",
     "output_type": "stream",
     "text": [
      "\u001b[32m[I 2022-03-27 04:20:34,489]\u001b[0m Trial 425 finished with value: 5.349409522470083 and parameters: {'random_state': 519632, 'learning_rate': 0.04676747857888718, 'bagging_temperature': 1.641581809693954, 'max_depth': 9, 'random_strength': 8, 'l2_leaf_reg': 9.702313031158572e-06, 'min_child_samples': 62, 'max_bin': 294, 'od_type': 'IncToDec', 'task_type': 'GPU', 'loss_function': 'MAE', 'eval_metric': 'MAE'}. Best is trial 121 with value: 5.343377942063889.\u001b[0m\n"
     ]
    },
    {
     "name": "stdout",
     "output_type": "stream",
     "text": [
      "MAE of Train: 5.218299496049405\n",
      "MAE of Validation: 5.349409522470083\n"
     ]
    },
    {
     "name": "stderr",
     "output_type": "stream",
     "text": [
      "\u001b[32m[I 2022-03-27 04:20:39,007]\u001b[0m Trial 426 finished with value: 5.354678149440084 and parameters: {'random_state': 519632, 'learning_rate': 0.0792520117011277, 'bagging_temperature': 0.5101487094900952, 'max_depth': 9, 'random_strength': 35, 'l2_leaf_reg': 1.109506843394699e-05, 'min_child_samples': 66, 'max_bin': 481, 'od_type': 'Iter', 'task_type': 'GPU', 'loss_function': 'MAE', 'eval_metric': 'MAE'}. Best is trial 121 with value: 5.343377942063889.\u001b[0m\n"
     ]
    },
    {
     "name": "stdout",
     "output_type": "stream",
     "text": [
      "MAE of Train: 5.209857930966701\n",
      "MAE of Validation: 5.354678149440084\n"
     ]
    },
    {
     "name": "stderr",
     "output_type": "stream",
     "text": [
      "\u001b[32m[I 2022-03-27 04:20:43,192]\u001b[0m Trial 427 finished with value: 5.351102756458102 and parameters: {'random_state': 519632, 'learning_rate': 0.09487870906444998, 'bagging_temperature': 1.262066174187582, 'max_depth': 9, 'random_strength': 24, 'l2_leaf_reg': 7.118332344320545e-06, 'min_child_samples': 51, 'max_bin': 475, 'od_type': 'IncToDec', 'task_type': 'GPU', 'loss_function': 'MAE', 'eval_metric': 'MAE'}. Best is trial 121 with value: 5.343377942063889.\u001b[0m\n"
     ]
    },
    {
     "name": "stdout",
     "output_type": "stream",
     "text": [
      "MAE of Train: 5.177227570331489\n",
      "MAE of Validation: 5.351102756458102\n"
     ]
    },
    {
     "name": "stderr",
     "output_type": "stream",
     "text": [
      "\u001b[32m[I 2022-03-27 04:20:48,595]\u001b[0m Trial 428 finished with value: 5.3574990011751495 and parameters: {'random_state': 519632, 'learning_rate': 0.06984932754992891, 'bagging_temperature': 4.48033026439067, 'max_depth': 9, 'random_strength': 27, 'l2_leaf_reg': 8.55857894373473e-06, 'min_child_samples': 68, 'max_bin': 492, 'od_type': 'IncToDec', 'task_type': 'GPU', 'loss_function': 'MAE', 'eval_metric': 'MAE'}. Best is trial 121 with value: 5.343377942063889.\u001b[0m\n"
     ]
    },
    {
     "name": "stdout",
     "output_type": "stream",
     "text": [
      "MAE of Train: 5.175784822837458\n",
      "MAE of Validation: 5.3574990011751495\n"
     ]
    },
    {
     "name": "stderr",
     "output_type": "stream",
     "text": [
      "\u001b[32m[I 2022-03-27 04:20:54,242]\u001b[0m Trial 429 finished with value: 5.4347216810738095 and parameters: {'random_state': 519632, 'learning_rate': 0.009335633301969218, 'bagging_temperature': 1.1118971952958747, 'max_depth': 9, 'random_strength': 4, 'l2_leaf_reg': 1.37305322520052e-05, 'min_child_samples': 60, 'max_bin': 467, 'od_type': 'IncToDec', 'task_type': 'GPU', 'loss_function': 'MAE', 'eval_metric': 'MAE'}. Best is trial 121 with value: 5.343377942063889.\u001b[0m\n"
     ]
    },
    {
     "name": "stdout",
     "output_type": "stream",
     "text": [
      "MAE of Train: 5.431109531257956\n",
      "MAE of Validation: 5.4347216810738095\n"
     ]
    },
    {
     "name": "stderr",
     "output_type": "stream",
     "text": [
      "\u001b[32m[I 2022-03-27 04:20:59,952]\u001b[0m Trial 430 finished with value: 5.350732713160541 and parameters: {'random_state': 519632, 'learning_rate': 0.05835885658890288, 'bagging_temperature': 2.7157592914718576, 'max_depth': 9, 'random_strength': 33, 'l2_leaf_reg': 1.2803926523449242e-05, 'min_child_samples': 71, 'max_bin': 486, 'od_type': 'IncToDec', 'task_type': 'GPU', 'loss_function': 'MAE', 'eval_metric': 'MAE'}. Best is trial 121 with value: 5.343377942063889.\u001b[0m\n"
     ]
    },
    {
     "name": "stdout",
     "output_type": "stream",
     "text": [
      "MAE of Train: 5.181375876152677\n",
      "MAE of Validation: 5.350732713160541\n"
     ]
    },
    {
     "name": "stderr",
     "output_type": "stream",
     "text": [
      "\u001b[32m[I 2022-03-27 04:21:02,659]\u001b[0m Trial 431 finished with value: 5.356999774919376 and parameters: {'random_state': 519632, 'learning_rate': 0.16181021087919428, 'bagging_temperature': 2.0237228472335027, 'max_depth': 9, 'random_strength': 11, 'l2_leaf_reg': 1.063621397196021e-05, 'min_child_samples': 47, 'max_bin': 495, 'od_type': 'IncToDec', 'task_type': 'GPU', 'loss_function': 'MAE', 'eval_metric': 'MAE'}. Best is trial 121 with value: 5.343377942063889.\u001b[0m\n"
     ]
    },
    {
     "name": "stdout",
     "output_type": "stream",
     "text": [
      "MAE of Train: 5.169445195894326\n",
      "MAE of Validation: 5.356999774919376\n"
     ]
    },
    {
     "name": "stderr",
     "output_type": "stream",
     "text": [
      "\u001b[32m[I 2022-03-27 04:21:07,940]\u001b[0m Trial 432 finished with value: 10.646188928922612 and parameters: {'random_state': 519632, 'learning_rate': 0.00040472596716241156, 'bagging_temperature': 0.8227903868139149, 'max_depth': 9, 'random_strength': 22, 'l2_leaf_reg': 1.187512518548194e-05, 'min_child_samples': 54, 'max_bin': 458, 'od_type': 'IncToDec', 'task_type': 'GPU', 'loss_function': 'MAE', 'eval_metric': 'MAE'}. Best is trial 121 with value: 5.343377942063889.\u001b[0m\n"
     ]
    },
    {
     "name": "stdout",
     "output_type": "stream",
     "text": [
      "MAE of Train: 10.643575962756472\n",
      "MAE of Validation: 10.646188928922612\n"
     ]
    },
    {
     "name": "stderr",
     "output_type": "stream",
     "text": [
      "\u001b[32m[I 2022-03-27 04:21:12,880]\u001b[0m Trial 433 finished with value: 5.345135662893604 and parameters: {'random_state': 519632, 'learning_rate': 0.08537568355348076, 'bagging_temperature': 1.6010796873410267, 'max_depth': 9, 'random_strength': 18, 'l2_leaf_reg': 9.986541023373887e-06, 'min_child_samples': 43, 'max_bin': 451, 'od_type': 'IncToDec', 'task_type': 'GPU', 'loss_function': 'MAE', 'eval_metric': 'MAE'}. Best is trial 121 with value: 5.343377942063889.\u001b[0m\n"
     ]
    },
    {
     "name": "stdout",
     "output_type": "stream",
     "text": [
      "MAE of Train: 5.146819956717927\n",
      "MAE of Validation: 5.345135662893604\n"
     ]
    },
    {
     "name": "stderr",
     "output_type": "stream",
     "text": [
      "\u001b[32m[I 2022-03-27 04:21:18,591]\u001b[0m Trial 434 finished with value: 5.358787403826931 and parameters: {'random_state': 519632, 'learning_rate': 0.038160349739031985, 'bagging_temperature': 1.6807730156624912, 'max_depth': 9, 'random_strength': 30, 'l2_leaf_reg': 1.0114893212959526e-05, 'min_child_samples': 38, 'max_bin': 450, 'od_type': 'IncToDec', 'task_type': 'GPU', 'loss_function': 'MAE', 'eval_metric': 'MAE'}. Best is trial 121 with value: 5.343377942063889.\u001b[0m\n"
     ]
    },
    {
     "name": "stdout",
     "output_type": "stream",
     "text": [
      "MAE of Train: 5.268757319153856\n",
      "MAE of Validation: 5.358787403826931\n"
     ]
    },
    {
     "name": "stderr",
     "output_type": "stream",
     "text": [
      "\u001b[32m[I 2022-03-27 04:21:21,925]\u001b[0m Trial 435 finished with value: 5.359077550924477 and parameters: {'random_state': 519632, 'learning_rate': 0.09826512921270818, 'bagging_temperature': 2.2621741378585827, 'max_depth': 9, 'random_strength': 38, 'l2_leaf_reg': 9.433495868691922e-06, 'min_child_samples': 41, 'max_bin': 448, 'od_type': 'IncToDec', 'task_type': 'GPU', 'loss_function': 'MAE', 'eval_metric': 'MAE'}. Best is trial 121 with value: 5.343377942063889.\u001b[0m\n"
     ]
    },
    {
     "name": "stdout",
     "output_type": "stream",
     "text": [
      "MAE of Train: 5.210733453600397\n",
      "MAE of Validation: 5.359077550924477\n"
     ]
    },
    {
     "name": "stderr",
     "output_type": "stream",
     "text": [
      "\u001b[32m[I 2022-03-27 04:21:25,832]\u001b[0m Trial 436 finished with value: 5.358888998578086 and parameters: {'random_state': 519632, 'learning_rate': 0.08294631802697973, 'bagging_temperature': 0.01225925497887821, 'max_depth': 9, 'random_strength': 26, 'l2_leaf_reg': 8.96664726313285e-06, 'min_child_samples': 43, 'max_bin': 365, 'od_type': 'IncToDec', 'task_type': 'GPU', 'loss_function': 'MAE', 'eval_metric': 'MAE'}. Best is trial 121 with value: 5.343377942063889.\u001b[0m\n"
     ]
    },
    {
     "name": "stdout",
     "output_type": "stream",
     "text": [
      "MAE of Train: 5.243052887877342\n",
      "MAE of Validation: 5.358888998578086\n"
     ]
    },
    {
     "name": "stderr",
     "output_type": "stream",
     "text": [
      "\u001b[32m[I 2022-03-27 04:21:31,514]\u001b[0m Trial 437 finished with value: 5.350066730978286 and parameters: {'random_state': 519632, 'learning_rate': 0.05085044312590448, 'bagging_temperature': 1.5229985253233824, 'max_depth': 9, 'random_strength': 16, 'l2_leaf_reg': 2.139006205454919e-05, 'min_child_samples': 44, 'max_bin': 438, 'od_type': 'IncToDec', 'task_type': 'GPU', 'loss_function': 'MAE', 'eval_metric': 'MAE'}. Best is trial 121 with value: 5.343377942063889.\u001b[0m\n"
     ]
    },
    {
     "name": "stdout",
     "output_type": "stream",
     "text": [
      "MAE of Train: 5.212507751966916\n",
      "MAE of Validation: 5.350066730978286\n"
     ]
    },
    {
     "name": "stderr",
     "output_type": "stream",
     "text": [
      "\u001b[32m[I 2022-03-27 04:21:36,148]\u001b[0m Trial 438 finished with value: 5.350785133509001 and parameters: {'random_state': 519632, 'learning_rate': 0.06735231651681366, 'bagging_temperature': 1.9361350697228468, 'max_depth': 9, 'random_strength': 32, 'l2_leaf_reg': 9.895068447882972e-06, 'min_child_samples': 39, 'max_bin': 443, 'od_type': 'Iter', 'task_type': 'GPU', 'loss_function': 'MAE', 'eval_metric': 'MAE'}. Best is trial 121 with value: 5.343377942063889.\u001b[0m\n"
     ]
    },
    {
     "name": "stdout",
     "output_type": "stream",
     "text": [
      "MAE of Train: 5.207578014186984\n",
      "MAE of Validation: 5.350785133509001\n"
     ]
    },
    {
     "name": "stderr",
     "output_type": "stream",
     "text": [
      "\u001b[32m[I 2022-03-27 04:21:41,863]\u001b[0m Trial 439 finished with value: 5.348759449035857 and parameters: {'random_state': 519632, 'learning_rate': 0.058089766338653724, 'bagging_temperature': 1.4098347659956145, 'max_depth': 9, 'random_strength': 10, 'l2_leaf_reg': 8.519828353440824e-06, 'min_child_samples': 69, 'max_bin': 455, 'od_type': 'IncToDec', 'task_type': 'GPU', 'loss_function': 'MAE', 'eval_metric': 'MAE'}. Best is trial 121 with value: 5.343377942063889.\u001b[0m\n"
     ]
    },
    {
     "name": "stdout",
     "output_type": "stream",
     "text": [
      "MAE of Train: 5.190821090648801\n",
      "MAE of Validation: 5.348759449035857\n"
     ]
    },
    {
     "name": "stderr",
     "output_type": "stream",
     "text": [
      "\u001b[32m[I 2022-03-27 04:21:45,132]\u001b[0m Trial 440 finished with value: 5.358001512592827 and parameters: {'random_state': 519632, 'learning_rate': 0.1376676168997178, 'bagging_temperature': 1.7658685736652744, 'max_depth': 9, 'random_strength': 19, 'l2_leaf_reg': 1.0963466295732891e-05, 'min_child_samples': 42, 'max_bin': 426, 'od_type': 'IncToDec', 'task_type': 'GPU', 'loss_function': 'MAE', 'eval_metric': 'MAE'}. Best is trial 121 with value: 5.343377942063889.\u001b[0m\n"
     ]
    },
    {
     "name": "stdout",
     "output_type": "stream",
     "text": [
      "MAE of Train: 5.154386379672654\n",
      "MAE of Validation: 5.358001512592827\n"
     ]
    },
    {
     "name": "stderr",
     "output_type": "stream",
     "text": [
      "\u001b[32m[I 2022-03-27 04:21:49,690]\u001b[0m Trial 441 finished with value: 5.35117021709928 and parameters: {'random_state': 519632, 'learning_rate': 0.08415117389363225, 'bagging_temperature': 2.6593157369972267, 'max_depth': 9, 'random_strength': 28, 'l2_leaf_reg': 1.0271897640343206e-05, 'min_child_samples': 64, 'max_bin': 460, 'od_type': 'IncToDec', 'task_type': 'GPU', 'loss_function': 'MAE', 'eval_metric': 'MAE'}. Best is trial 121 with value: 5.343377942063889.\u001b[0m\n"
     ]
    },
    {
     "name": "stdout",
     "output_type": "stream",
     "text": [
      "MAE of Train: 5.1665951905498355\n",
      "MAE of Validation: 5.35117021709928\n"
     ]
    },
    {
     "name": "stderr",
     "output_type": "stream",
     "text": [
      "\u001b[32m[I 2022-03-27 04:21:53,374]\u001b[0m Trial 442 finished with value: 5.353496153823042 and parameters: {'random_state': 519632, 'learning_rate': 0.10897968717342771, 'bagging_temperature': 1.3421944012704983, 'max_depth': 9, 'random_strength': 23, 'l2_leaf_reg': 9.54661895828398e-06, 'min_child_samples': 58, 'max_bin': 413, 'od_type': 'IncToDec', 'task_type': 'GPU', 'loss_function': 'MAE', 'eval_metric': 'MAE'}. Best is trial 121 with value: 5.343377942063889.\u001b[0m\n"
     ]
    },
    {
     "name": "stdout",
     "output_type": "stream",
     "text": [
      "MAE of Train: 5.184191146897268\n",
      "MAE of Validation: 5.353496153823042\n"
     ]
    },
    {
     "name": "stderr",
     "output_type": "stream",
     "text": [
      "\u001b[32m[I 2022-03-27 04:21:58,198]\u001b[0m Trial 443 finished with value: 5.354338501360684 and parameters: {'random_state': 519632, 'learning_rate': 0.0677337328914811, 'bagging_temperature': 2.098838996082818, 'max_depth': 8, 'random_strength': 26, 'l2_leaf_reg': 7.730146192347247e-06, 'min_child_samples': 73, 'max_bin': 453, 'od_type': 'IncToDec', 'task_type': 'GPU', 'loss_function': 'MAE', 'eval_metric': 'MAE'}. Best is trial 121 with value: 5.343377942063889.\u001b[0m\n"
     ]
    },
    {
     "name": "stdout",
     "output_type": "stream",
     "text": [
      "MAE of Train: 5.222579510381947\n",
      "MAE of Validation: 5.354338501360684\n"
     ]
    },
    {
     "name": "stderr",
     "output_type": "stream",
     "text": [
      "\u001b[32m[I 2022-03-27 04:22:03,906]\u001b[0m Trial 444 finished with value: 5.349418570040208 and parameters: {'random_state': 519632, 'learning_rate': 0.04391541140680597, 'bagging_temperature': 1.5453283800527131, 'max_depth': 9, 'random_strength': 6, 'l2_leaf_reg': 9.027545940188475e-06, 'min_child_samples': 56, 'max_bin': 464, 'od_type': 'IncToDec', 'task_type': 'GPU', 'loss_function': 'MAE', 'eval_metric': 'MAE'}. Best is trial 121 with value: 5.343377942063889.\u001b[0m\n"
     ]
    },
    {
     "name": "stdout",
     "output_type": "stream",
     "text": [
      "MAE of Train: 5.228464779283767\n",
      "MAE of Validation: 5.349418570040208\n"
     ]
    },
    {
     "name": "stderr",
     "output_type": "stream",
     "text": [
      "\u001b[32m[I 2022-03-27 04:22:08,553]\u001b[0m Trial 445 finished with value: 5.345980352936931 and parameters: {'random_state': 519632, 'learning_rate': 0.09141683055063873, 'bagging_temperature': 1.179486307635627, 'max_depth': 9, 'random_strength': 14, 'l2_leaf_reg': 1.1150429068777132e-05, 'min_child_samples': 66, 'max_bin': 470, 'od_type': 'IncToDec', 'task_type': 'GPU', 'loss_function': 'MAE', 'eval_metric': 'MAE'}. Best is trial 121 with value: 5.343377942063889.\u001b[0m\n"
     ]
    },
    {
     "name": "stdout",
     "output_type": "stream",
     "text": [
      "MAE of Train: 5.153940524410113\n",
      "MAE of Validation: 5.345980352936931\n"
     ]
    },
    {
     "name": "stderr",
     "output_type": "stream",
     "text": [
      "\u001b[32m[I 2022-03-27 04:22:12,265]\u001b[0m Trial 446 finished with value: 5.354483045971465 and parameters: {'random_state': 519632, 'learning_rate': 0.0977871984875678, 'bagging_temperature': 0.9728411841010798, 'max_depth': 9, 'random_strength': 14, 'l2_leaf_reg': 1.123228734623114e-05, 'min_child_samples': 61, 'max_bin': 450, 'od_type': 'IncToDec', 'task_type': 'GPU', 'loss_function': 'MAE', 'eval_metric': 'MAE'}. Best is trial 121 with value: 5.343377942063889.\u001b[0m\n"
     ]
    },
    {
     "name": "stdout",
     "output_type": "stream",
     "text": [
      "MAE of Train: 5.205905075852394\n",
      "MAE of Validation: 5.354483045971465\n"
     ]
    },
    {
     "name": "stderr",
     "output_type": "stream",
     "text": [
      "\u001b[32m[I 2022-03-27 04:22:15,614]\u001b[0m Trial 447 finished with value: 5.351768535460375 and parameters: {'random_state': 519632, 'learning_rate': 0.12275074458997177, 'bagging_temperature': 1.0881817316169895, 'max_depth': 9, 'random_strength': 12, 'l2_leaf_reg': 1.1566273126315343e-05, 'min_child_samples': 63, 'max_bin': 463, 'od_type': 'IncToDec', 'task_type': 'GPU', 'loss_function': 'MAE', 'eval_metric': 'MAE'}. Best is trial 121 with value: 5.343377942063889.\u001b[0m\n"
     ]
    },
    {
     "name": "stdout",
     "output_type": "stream",
     "text": [
      "MAE of Train: 5.177988471881909\n",
      "MAE of Validation: 5.351768535460375\n"
     ]
    },
    {
     "name": "stderr",
     "output_type": "stream",
     "text": [
      "\u001b[32m[I 2022-03-27 04:22:21,285]\u001b[0m Trial 448 finished with value: 5.348629858946049 and parameters: {'random_state': 519632, 'learning_rate': 0.05301878413197753, 'bagging_temperature': 1.221102057424538, 'max_depth': 9, 'random_strength': 16, 'l2_leaf_reg': 1.0726972585718337e-05, 'min_child_samples': 64, 'max_bin': 472, 'od_type': 'IncToDec', 'task_type': 'GPU', 'loss_function': 'MAE', 'eval_metric': 'MAE'}. Best is trial 121 with value: 5.343377942063889.\u001b[0m\n"
     ]
    },
    {
     "name": "stdout",
     "output_type": "stream",
     "text": [
      "MAE of Train: 5.209655824133953\n",
      "MAE of Validation: 5.348629858946049\n"
     ]
    },
    {
     "name": "stderr",
     "output_type": "stream",
     "text": [
      "\u001b[32m[I 2022-03-27 04:22:25,595]\u001b[0m Trial 449 finished with value: 5.355400373019761 and parameters: {'random_state': 519632, 'learning_rate': 0.07220206752362056, 'bagging_temperature': 0.8879118091611018, 'max_depth': 9, 'random_strength': 11, 'l2_leaf_reg': 1.200220497394256e-05, 'min_child_samples': 14, 'max_bin': 479, 'od_type': 'Iter', 'task_type': 'GPU', 'loss_function': 'MAE', 'eval_metric': 'MAE'}. Best is trial 121 with value: 5.343377942063889.\u001b[0m\n"
     ]
    },
    {
     "name": "stdout",
     "output_type": "stream",
     "text": [
      "MAE of Train: 5.224179947063055\n",
      "MAE of Validation: 5.355400373019761\n"
     ]
    },
    {
     "name": "stderr",
     "output_type": "stream",
     "text": [
      "\u001b[32m[I 2022-03-27 04:22:31,252]\u001b[0m Trial 450 finished with value: 5.345320076112293 and parameters: {'random_state': 519632, 'learning_rate': 0.06306769395264276, 'bagging_temperature': 1.1761420402097045, 'max_depth': 9, 'random_strength': 14, 'l2_leaf_reg': 1.0907489596744835e-05, 'min_child_samples': 66, 'max_bin': 457, 'od_type': 'IncToDec', 'task_type': 'GPU', 'loss_function': 'MAE', 'eval_metric': 'MAE'}. Best is trial 121 with value: 5.343377942063889.\u001b[0m\n"
     ]
    },
    {
     "name": "stdout",
     "output_type": "stream",
     "text": [
      "MAE of Train: 5.184766946982676\n",
      "MAE of Validation: 5.345320076112293\n"
     ]
    },
    {
     "name": "stderr",
     "output_type": "stream",
     "text": [
      "\u001b[32m[I 2022-03-27 04:22:31,761]\u001b[0m Trial 451 finished with value: 13.91781104801239 and parameters: {'random_state': 519632, 'learning_rate': 0.0471544823656035, 'bagging_temperature': 41.828903478796185, 'max_depth': 9, 'random_strength': 13, 'l2_leaf_reg': 1.101256939873714e-05, 'min_child_samples': 66, 'max_bin': 454, 'od_type': 'IncToDec', 'task_type': 'GPU', 'loss_function': 'MAE', 'eval_metric': 'MAE'}. Best is trial 121 with value: 5.343377942063889.\u001b[0m\n"
     ]
    },
    {
     "name": "stdout",
     "output_type": "stream",
     "text": [
      "MAE of Train: 13.91636551368095\n",
      "MAE of Validation: 13.91781104801239\n"
     ]
    },
    {
     "name": "stderr",
     "output_type": "stream",
     "text": [
      "\u001b[32m[I 2022-03-27 04:22:37,395]\u001b[0m Trial 452 finished with value: 5.413922096931333 and parameters: {'random_state': 519632, 'learning_rate': 0.01566706024405272, 'bagging_temperature': 1.1479164650038416, 'max_depth': 9, 'random_strength': 18, 'l2_leaf_reg': 1.0318068819351183e-05, 'min_child_samples': 67, 'max_bin': 458, 'od_type': 'IncToDec', 'task_type': 'GPU', 'loss_function': 'MAE', 'eval_metric': 'MAE'}. Best is trial 121 with value: 5.343377942063889.\u001b[0m\n"
     ]
    },
    {
     "name": "stdout",
     "output_type": "stream",
     "text": [
      "MAE of Train: 5.4054930970545305\n",
      "MAE of Validation: 5.413922096931333\n"
     ]
    },
    {
     "name": "stderr",
     "output_type": "stream",
     "text": [
      "\u001b[32m[I 2022-03-27 04:22:43,116]\u001b[0m Trial 453 finished with value: 5.348495861179269 and parameters: {'random_state': 519632, 'learning_rate': 0.06043439629182634, 'bagging_temperature': 0.6970929442983332, 'max_depth': 9, 'random_strength': 8, 'l2_leaf_reg': 1.1562187795041105e-05, 'min_child_samples': 65, 'max_bin': 445, 'od_type': 'IncToDec', 'task_type': 'GPU', 'loss_function': 'MAE', 'eval_metric': 'MAE'}. Best is trial 121 with value: 5.343377942063889.\u001b[0m\n"
     ]
    },
    {
     "name": "stdout",
     "output_type": "stream",
     "text": [
      "MAE of Train: 5.200675217879727\n",
      "MAE of Validation: 5.348495861179269\n"
     ]
    },
    {
     "name": "stderr",
     "output_type": "stream",
     "text": [
      "\u001b[32m[I 2022-03-27 04:22:48,810]\u001b[0m Trial 454 finished with value: 5.352117042641308 and parameters: {'random_state': 519632, 'learning_rate': 0.05176913079284874, 'bagging_temperature': 0.9511792633285517, 'max_depth': 9, 'random_strength': 17, 'l2_leaf_reg': 1.077260970408828e-05, 'min_child_samples': 63, 'max_bin': 433, 'od_type': 'IncToDec', 'task_type': 'GPU', 'loss_function': 'MAE', 'eval_metric': 'MAE'}. Best is trial 121 with value: 5.343377942063889.\u001b[0m\n"
     ]
    },
    {
     "name": "stdout",
     "output_type": "stream",
     "text": [
      "MAE of Train: 5.230846929043557\n",
      "MAE of Validation: 5.352117042641308\n"
     ]
    },
    {
     "name": "stderr",
     "output_type": "stream",
     "text": [
      "\u001b[32m[I 2022-03-27 04:22:54,593]\u001b[0m Trial 455 finished with value: 5.350701702979486 and parameters: {'random_state': 519632, 'learning_rate': 0.06163552777523813, 'bagging_temperature': 1.198343382619008, 'max_depth': 9, 'random_strength': 15, 'l2_leaf_reg': 1.120632081592655e-05, 'min_child_samples': 61, 'max_bin': 466, 'od_type': 'IncToDec', 'task_type': 'GPU', 'loss_function': 'MAE', 'eval_metric': 'MAE'}. Best is trial 121 with value: 5.343377942063889.\u001b[0m\n"
     ]
    },
    {
     "name": "stdout",
     "output_type": "stream",
     "text": [
      "MAE of Train: 5.178946244496436\n",
      "MAE of Validation: 5.350701702979486\n"
     ]
    },
    {
     "name": "stderr",
     "output_type": "stream",
     "text": [
      "\u001b[32m[I 2022-03-27 04:23:00,524]\u001b[0m Trial 456 finished with value: 5.350833422119698 and parameters: {'random_state': 519632, 'learning_rate': 0.07166396379957556, 'bagging_temperature': 1.3938271914048062, 'max_depth': 9, 'random_strength': 35, 'l2_leaf_reg': 1.6045211553494117e-05, 'min_child_samples': 66, 'max_bin': 452, 'od_type': 'IncToDec', 'task_type': 'GPU', 'loss_function': 'MAE', 'eval_metric': 'MAE'}. Best is trial 121 with value: 5.343377942063889.\u001b[0m\n"
     ]
    },
    {
     "name": "stdout",
     "output_type": "stream",
     "text": [
      "MAE of Train: 5.155714007203819\n",
      "MAE of Validation: 5.350833422119698\n"
     ]
    },
    {
     "name": "stderr",
     "output_type": "stream",
     "text": [
      "\u001b[32m[I 2022-03-27 04:23:06,510]\u001b[0m Trial 457 finished with value: 5.350107988668113 and parameters: {'random_state': 519632, 'learning_rate': 0.06000252398158551, 'bagging_temperature': 0.7861371549365533, 'max_depth': 9, 'random_strength': 43, 'l2_leaf_reg': 2.051543592852022e-05, 'min_child_samples': 59, 'max_bin': 459, 'od_type': 'IncToDec', 'task_type': 'GPU', 'loss_function': 'MAE', 'eval_metric': 'MAE'}. Best is trial 121 with value: 5.343377942063889.\u001b[0m\n"
     ]
    },
    {
     "name": "stdout",
     "output_type": "stream",
     "text": [
      "MAE of Train: 5.210997054906638\n",
      "MAE of Validation: 5.350107988668113\n"
     ]
    },
    {
     "name": "stderr",
     "output_type": "stream",
     "text": [
      "\u001b[32m[I 2022-03-27 04:23:12,215]\u001b[0m Trial 458 finished with value: 5.363470989098381 and parameters: {'random_state': 519632, 'learning_rate': 0.03519852259332634, 'bagging_temperature': 1.0167388221083236, 'max_depth': 9, 'random_strength': 10, 'l2_leaf_reg': 9.99169907789035e-06, 'min_child_samples': 62, 'max_bin': 439, 'od_type': 'IncToDec', 'task_type': 'GPU', 'loss_function': 'MAE', 'eval_metric': 'MAE'}. Best is trial 121 with value: 5.343377942063889.\u001b[0m\n"
     ]
    },
    {
     "name": "stdout",
     "output_type": "stream",
     "text": [
      "MAE of Train: 5.2848335354832985\n",
      "MAE of Validation: 5.363470989098381\n"
     ]
    },
    {
     "name": "stderr",
     "output_type": "stream",
     "text": [
      "\u001b[32m[I 2022-03-27 04:23:17,506]\u001b[0m Trial 459 finished with value: 8.232595288614142 and parameters: {'random_state': 519632, 'learning_rate': 0.0009058789775065976, 'bagging_temperature': 1.2954092634677603, 'max_depth': 9, 'random_strength': 21, 'l2_leaf_reg': 1.2119520597122984e-05, 'min_child_samples': 65, 'max_bin': 467, 'od_type': 'IncToDec', 'task_type': 'GPU', 'loss_function': 'MAE', 'eval_metric': 'MAE'}. Best is trial 121 with value: 5.343377942063889.\u001b[0m\n"
     ]
    },
    {
     "name": "stdout",
     "output_type": "stream",
     "text": [
      "MAE of Train: 8.22563334866796\n",
      "MAE of Validation: 8.232595288614142\n"
     ]
    },
    {
     "name": "stderr",
     "output_type": "stream",
     "text": [
      "\u001b[32m[I 2022-03-27 04:23:22,129]\u001b[0m Trial 460 finished with value: 5.3494498818733405 and parameters: {'random_state': 519632, 'learning_rate': 0.07571416454790796, 'bagging_temperature': 1.1427313005382764, 'max_depth': 9, 'random_strength': 30, 'l2_leaf_reg': 1.0628573635779003e-05, 'min_child_samples': 67, 'max_bin': 447, 'od_type': 'IncToDec', 'task_type': 'GPU', 'loss_function': 'MAE', 'eval_metric': 'MAE'}. Best is trial 121 with value: 5.343377942063889.\u001b[0m\n"
     ]
    },
    {
     "name": "stdout",
     "output_type": "stream",
     "text": [
      "MAE of Train: 5.20110553339383\n",
      "MAE of Validation: 5.3494498818733405\n"
     ]
    },
    {
     "name": "stderr",
     "output_type": "stream",
     "text": [
      "\u001b[32m[I 2022-03-27 04:23:27,769]\u001b[0m Trial 461 finished with value: 5.358320086129858 and parameters: {'random_state': 519632, 'learning_rate': 0.04311784425852755, 'bagging_temperature': 0.8921439514227558, 'max_depth': 9, 'random_strength': 53, 'l2_leaf_reg': 1.1664491174242836e-05, 'min_child_samples': 45, 'max_bin': 458, 'od_type': 'Iter', 'task_type': 'GPU', 'loss_function': 'MAE', 'eval_metric': 'MAE'}. Best is trial 121 with value: 5.343377942063889.\u001b[0m\n"
     ]
    },
    {
     "name": "stdout",
     "output_type": "stream",
     "text": [
      "MAE of Train: 5.269370257484589\n",
      "MAE of Validation: 5.358320086129858\n"
     ]
    },
    {
     "name": "stderr",
     "output_type": "stream",
     "text": [
      "\u001b[32m[I 2022-03-27 04:23:33,459]\u001b[0m Trial 462 finished with value: 5.347701800692114 and parameters: {'random_state': 519632, 'learning_rate': 0.06604830152028485, 'bagging_temperature': 1.5145506805265072, 'max_depth': 9, 'random_strength': 58, 'l2_leaf_reg': 1.4871219658071983e-05, 'min_child_samples': 82, 'max_bin': 468, 'od_type': 'IncToDec', 'task_type': 'GPU', 'loss_function': 'MAE', 'eval_metric': 'MAE'}. Best is trial 121 with value: 5.343377942063889.\u001b[0m\n"
     ]
    },
    {
     "name": "stdout",
     "output_type": "stream",
     "text": [
      "MAE of Train: 5.168864724571547\n",
      "MAE of Validation: 5.347701800692114\n"
     ]
    },
    {
     "name": "stderr",
     "output_type": "stream",
     "text": [
      "\u001b[32m[I 2022-03-27 04:23:38,301]\u001b[0m Trial 463 finished with value: 5.359317739682807 and parameters: {'random_state': 519632, 'learning_rate': 0.05348066733570599, 'bagging_temperature': 0.608781374300977, 'max_depth': 8, 'random_strength': 15, 'l2_leaf_reg': 1.013868884085826e-05, 'min_child_samples': 42, 'max_bin': 277, 'od_type': 'IncToDec', 'task_type': 'GPU', 'loss_function': 'MAE', 'eval_metric': 'MAE'}. Best is trial 121 with value: 5.343377942063889.\u001b[0m\n"
     ]
    },
    {
     "name": "stdout",
     "output_type": "stream",
     "text": [
      "MAE of Train: 5.270148236303748\n",
      "MAE of Validation: 5.359317739682807\n"
     ]
    },
    {
     "name": "stderr",
     "output_type": "stream",
     "text": [
      "\u001b[32m[I 2022-03-27 04:23:42,749]\u001b[0m Trial 464 finished with value: 5.348452276824391 and parameters: {'random_state': 519632, 'learning_rate': 0.07932252438891423, 'bagging_temperature': 1.3526511313585845, 'max_depth': 9, 'random_strength': 12, 'l2_leaf_reg': 1.244618579326285e-05, 'min_child_samples': 63, 'max_bin': 473, 'od_type': 'IncToDec', 'task_type': 'GPU', 'loss_function': 'MAE', 'eval_metric': 'MAE'}. Best is trial 121 with value: 5.343377942063889.\u001b[0m\n"
     ]
    },
    {
     "name": "stdout",
     "output_type": "stream",
     "text": [
      "MAE of Train: 5.193578788209837\n",
      "MAE of Validation: 5.348452276824391\n"
     ]
    },
    {
     "name": "stderr",
     "output_type": "stream",
     "text": [
      "\u001b[32m[I 2022-03-27 04:23:46,860]\u001b[0m Trial 465 finished with value: 5.347501930141084 and parameters: {'random_state': 519632, 'learning_rate': 0.09843599333911206, 'bagging_temperature': 1.0431150210234685, 'max_depth': 9, 'random_strength': 33, 'l2_leaf_reg': 1.3531751050933249e-05, 'min_child_samples': 57, 'max_bin': 462, 'od_type': 'IncToDec', 'task_type': 'GPU', 'loss_function': 'MAE', 'eval_metric': 'MAE'}. Best is trial 121 with value: 5.343377942063889.\u001b[0m\n"
     ]
    },
    {
     "name": "stdout",
     "output_type": "stream",
     "text": [
      "MAE of Train: 5.184096813818136\n",
      "MAE of Validation: 5.347501930141084\n"
     ]
    },
    {
     "name": "stderr",
     "output_type": "stream",
     "text": [
      "\u001b[32m[I 2022-03-27 04:23:52,541]\u001b[0m Trial 466 finished with value: 5.3492614778326955 and parameters: {'random_state': 519632, 'learning_rate': 0.06600671069941806, 'bagging_temperature': 0.7380071441579613, 'max_depth': 9, 'random_strength': 20, 'l2_leaf_reg': 1.1027968760704275e-05, 'min_child_samples': 67, 'max_bin': 473, 'od_type': 'IncToDec', 'task_type': 'GPU', 'loss_function': 'MAE', 'eval_metric': 'MAE'}. Best is trial 121 with value: 5.343377942063889.\u001b[0m\n"
     ]
    },
    {
     "name": "stdout",
     "output_type": "stream",
     "text": [
      "MAE of Train: 5.180425591170805\n",
      "MAE of Validation: 5.3492614778326955\n"
     ]
    },
    {
     "name": "stderr",
     "output_type": "stream",
     "text": [
      "\u001b[32m[I 2022-03-27 04:23:56,554]\u001b[0m Trial 467 finished with value: 5.38278927765872 and parameters: {'random_state': 519632, 'learning_rate': 0.05641403532104102, 'bagging_temperature': 1.6150289726338212, 'max_depth': 6, 'random_strength': 46, 'l2_leaf_reg': 1.1599217407623534e-05, 'min_child_samples': 53, 'max_bin': 479, 'od_type': 'IncToDec', 'task_type': 'GPU', 'loss_function': 'MAE', 'eval_metric': 'MAE'}. Best is trial 121 with value: 5.343377942063889.\u001b[0m\n"
     ]
    },
    {
     "name": "stdout",
     "output_type": "stream",
     "text": [
      "MAE of Train: 5.347118062277825\n",
      "MAE of Validation: 5.38278927765872\n"
     ]
    },
    {
     "name": "stderr",
     "output_type": "stream",
     "text": [
      "\u001b[32m[I 2022-03-27 04:24:00,957]\u001b[0m Trial 468 finished with value: 5.347376822162674 and parameters: {'random_state': 519632, 'learning_rate': 0.08728675663367431, 'bagging_temperature': 1.2078033184397103, 'max_depth': 9, 'random_strength': 8, 'l2_leaf_reg': 9.805368984219498e-06, 'min_child_samples': 44, 'max_bin': 453, 'od_type': 'IncToDec', 'task_type': 'GPU', 'loss_function': 'MAE', 'eval_metric': 'MAE'}. Best is trial 121 with value: 5.343377942063889.\u001b[0m\n"
     ]
    },
    {
     "name": "stdout",
     "output_type": "stream",
     "text": [
      "MAE of Train: 5.173125244261381\n",
      "MAE of Validation: 5.347376822162674\n"
     ]
    },
    {
     "name": "stderr",
     "output_type": "stream",
     "text": [
      "\u001b[32m[I 2022-03-27 04:24:06,641]\u001b[0m Trial 469 finished with value: 5.352950982239641 and parameters: {'random_state': 519632, 'learning_rate': 0.047482760246584835, 'bagging_temperature': 0.9132405830080763, 'max_depth': 9, 'random_strength': 37, 'l2_leaf_reg': 1.0468199620608492e-05, 'min_child_samples': 49, 'max_bin': 482, 'od_type': 'IncToDec', 'task_type': 'GPU', 'loss_function': 'MAE', 'eval_metric': 'MAE'}. Best is trial 121 with value: 5.343377942063889.\u001b[0m\n"
     ]
    },
    {
     "name": "stdout",
     "output_type": "stream",
     "text": [
      "MAE of Train: 5.23909636642991\n",
      "MAE of Validation: 5.352950982239641\n"
     ]
    },
    {
     "name": "stderr",
     "output_type": "stream",
     "text": [
      "\u001b[32m[I 2022-03-27 04:24:12,011]\u001b[0m Trial 470 finished with value: 5.347185555046528 and parameters: {'random_state': 519632, 'learning_rate': 0.0756560520553617, 'bagging_temperature': 1.3818353176964395, 'max_depth': 9, 'random_strength': 29, 'l2_leaf_reg': 1.278487334050917e-05, 'min_child_samples': 55, 'max_bin': 441, 'od_type': 'IncToDec', 'task_type': 'GPU', 'loss_function': 'MAE', 'eval_metric': 'MAE'}. Best is trial 121 with value: 5.343377942063889.\u001b[0m\n"
     ]
    },
    {
     "name": "stdout",
     "output_type": "stream",
     "text": [
      "MAE of Train: 5.1610713523630345\n",
      "MAE of Validation: 5.347185555046528\n"
     ]
    },
    {
     "name": "stderr",
     "output_type": "stream",
     "text": [
      "\u001b[32m[I 2022-03-27 04:24:16,814]\u001b[0m Trial 471 finished with value: 5.356062282655423 and parameters: {'random_state': 519632, 'learning_rate': 0.06603228444923374, 'bagging_temperature': 0.09174703162819163, 'max_depth': 9, 'random_strength': 18, 'l2_leaf_reg': 1.2079818186043845e-05, 'min_child_samples': 65, 'max_bin': 464, 'od_type': 'IncToDec', 'task_type': 'GPU', 'loss_function': 'MAE', 'eval_metric': 'MAE'}. Best is trial 121 with value: 5.343377942063889.\u001b[0m\n"
     ]
    },
    {
     "name": "stdout",
     "output_type": "stream",
     "text": [
      "MAE of Train: 5.235001982698664\n",
      "MAE of Validation: 5.356062282655423\n"
     ]
    },
    {
     "name": "stderr",
     "output_type": "stream",
     "text": [
      "\u001b[32m[I 2022-03-27 04:24:22,563]\u001b[0m Trial 472 finished with value: 5.3471999109262605 and parameters: {'random_state': 519632, 'learning_rate': 0.056172032534796676, 'bagging_temperature': 1.6970018537780607, 'max_depth': 9, 'random_strength': 50, 'l2_leaf_reg': 1.0865836669313706e-05, 'min_child_samples': 46, 'max_bin': 475, 'od_type': 'Iter', 'task_type': 'GPU', 'loss_function': 'MAE', 'eval_metric': 'MAE'}. Best is trial 121 with value: 5.343377942063889.\u001b[0m\n"
     ]
    },
    {
     "name": "stdout",
     "output_type": "stream",
     "text": [
      "MAE of Train: 5.202221026318073\n",
      "MAE of Validation: 5.3471999109262605\n"
     ]
    },
    {
     "name": "stderr",
     "output_type": "stream",
     "text": [
      "\u001b[32m[I 2022-03-27 04:24:26,371]\u001b[0m Trial 473 finished with value: 5.350968328677797 and parameters: {'random_state': 519632, 'learning_rate': 0.0907338710478674, 'bagging_temperature': 1.105654216391937, 'max_depth': 9, 'random_strength': 13, 'l2_leaf_reg': 9.714728631224396e-06, 'min_child_samples': 40, 'max_bin': 484, 'od_type': 'IncToDec', 'task_type': 'GPU', 'loss_function': 'MAE', 'eval_metric': 'MAE'}. Best is trial 121 with value: 5.343377942063889.\u001b[0m\n"
     ]
    },
    {
     "name": "stdout",
     "output_type": "stream",
     "text": [
      "MAE of Train: 5.207228296355936\n",
      "MAE of Validation: 5.350968328677797\n"
     ]
    },
    {
     "name": "stderr",
     "output_type": "stream",
     "text": [
      "\u001b[32m[I 2022-03-27 04:24:31,184]\u001b[0m Trial 474 finished with value: 5.3477208482788265 and parameters: {'random_state': 519632, 'learning_rate': 0.07501258203742105, 'bagging_temperature': 1.4090962041521602, 'max_depth': 9, 'random_strength': 6, 'l2_leaf_reg': 1.14437220138759e-05, 'min_child_samples': 60, 'max_bin': 467, 'od_type': 'IncToDec', 'task_type': 'GPU', 'loss_function': 'MAE', 'eval_metric': 'MAE'}. Best is trial 121 with value: 5.343377942063889.\u001b[0m\n"
     ]
    },
    {
     "name": "stdout",
     "output_type": "stream",
     "text": [
      "MAE of Train: 5.180343204041755\n",
      "MAE of Validation: 5.3477208482788265\n"
     ]
    },
    {
     "name": "stderr",
     "output_type": "stream",
     "text": [
      "\u001b[32m[I 2022-03-27 04:24:35,571]\u001b[0m Trial 475 finished with value: 5.354962828352138 and parameters: {'random_state': 519632, 'learning_rate': 0.10793913194421452, 'bagging_temperature': 0.8099901679170288, 'max_depth': 7, 'random_strength': 32, 'l2_leaf_reg': 1.412106412578619e-05, 'min_child_samples': 36, 'max_bin': 479, 'od_type': 'IncToDec', 'task_type': 'GPU', 'loss_function': 'MAE', 'eval_metric': 'MAE'}. Best is trial 121 with value: 5.343377942063889.\u001b[0m\n"
     ]
    },
    {
     "name": "stdout",
     "output_type": "stream",
     "text": [
      "MAE of Train: 5.227429003038293\n",
      "MAE of Validation: 5.354962828352138\n"
     ]
    },
    {
     "name": "stderr",
     "output_type": "stream",
     "text": [
      "\u001b[32m[I 2022-03-27 04:24:40,229]\u001b[0m Trial 476 finished with value: 5.350814401786573 and parameters: {'random_state': 519632, 'learning_rate': 0.0643191807592148, 'bagging_temperature': 1.749043908445624, 'max_depth': 9, 'random_strength': 23, 'l2_leaf_reg': 1.3233430848632543e-05, 'min_child_samples': 68, 'max_bin': 458, 'od_type': 'IncToDec', 'task_type': 'GPU', 'loss_function': 'MAE', 'eval_metric': 'MAE'}. Best is trial 121 with value: 5.343377942063889.\u001b[0m\n"
     ]
    },
    {
     "name": "stdout",
     "output_type": "stream",
     "text": [
      "MAE of Train: 5.212928893655279\n",
      "MAE of Validation: 5.350814401786573\n"
     ]
    },
    {
     "name": "stderr",
     "output_type": "stream",
     "text": [
      "\u001b[32m[I 2022-03-27 04:24:45,938]\u001b[0m Trial 477 finished with value: 5.3557857405003775 and parameters: {'random_state': 519632, 'learning_rate': 0.04203565215529849, 'bagging_temperature': 1.1893151444053616, 'max_depth': 9, 'random_strength': 10, 'l2_leaf_reg': 1.0217133168049444e-05, 'min_child_samples': 51, 'max_bin': 249, 'od_type': 'IncToDec', 'task_type': 'GPU', 'loss_function': 'MAE', 'eval_metric': 'MAE'}. Best is trial 121 with value: 5.343377942063889.\u001b[0m\n"
     ]
    },
    {
     "name": "stdout",
     "output_type": "stream",
     "text": [
      "MAE of Train: 5.250460380252032\n",
      "MAE of Validation: 5.3557857405003775\n"
     ]
    },
    {
     "name": "stderr",
     "output_type": "stream",
     "text": [
      "\u001b[32m[I 2022-03-27 04:24:50,065]\u001b[0m Trial 478 finished with value: 5.352518481287328 and parameters: {'random_state': 519632, 'learning_rate': 0.0798643014567491, 'bagging_temperature': 0.5442959963091274, 'max_depth': 9, 'random_strength': 3, 'l2_leaf_reg': 1.091686641384943e-05, 'min_child_samples': 62, 'max_bin': 492, 'od_type': 'IncToDec', 'task_type': 'GPU', 'loss_function': 'MAE', 'eval_metric': 'MAE'}. Best is trial 121 with value: 5.343377942063889.\u001b[0m\n"
     ]
    },
    {
     "name": "stdout",
     "output_type": "stream",
     "text": [
      "MAE of Train: 5.220190160976995\n",
      "MAE of Validation: 5.352518481287328\n"
     ]
    },
    {
     "name": "stderr",
     "output_type": "stream",
     "text": [
      "\u001b[32m[I 2022-03-27 04:24:55,740]\u001b[0m Trial 479 finished with value: 5.350737305526319 and parameters: {'random_state': 519632, 'learning_rate': 0.05080175854697541, 'bagging_temperature': 0.9668436769573521, 'max_depth': 9, 'random_strength': 28, 'l2_leaf_reg': 1.2259114298936173e-05, 'min_child_samples': 59, 'max_bin': 500, 'od_type': 'IncToDec', 'task_type': 'GPU', 'loss_function': 'MAE', 'eval_metric': 'MAE'}. Best is trial 121 with value: 5.343377942063889.\u001b[0m\n"
     ]
    },
    {
     "name": "stdout",
     "output_type": "stream",
     "text": [
      "MAE of Train: 5.225091329238249\n",
      "MAE of Validation: 5.350737305526319\n"
     ]
    },
    {
     "name": "stderr",
     "output_type": "stream",
     "text": [
      "\u001b[32m[I 2022-03-27 04:25:00,348]\u001b[0m Trial 480 finished with value: 5.351640139748073 and parameters: {'random_state': 519632, 'learning_rate': 0.0703521504557817, 'bagging_temperature': 1.4513926327748556, 'max_depth': 9, 'random_strength': 24, 'l2_leaf_reg': 9.646535802043125e-06, 'min_child_samples': 66, 'max_bin': 485, 'od_type': 'IncToDec', 'task_type': 'GPU', 'loss_function': 'MAE', 'eval_metric': 'MAE'}. Best is trial 121 with value: 5.343377942063889.\u001b[0m\n"
     ]
    },
    {
     "name": "stdout",
     "output_type": "stream",
     "text": [
      "MAE of Train: 5.209697332085972\n",
      "MAE of Validation: 5.351640139748073\n"
     ]
    },
    {
     "name": "stderr",
     "output_type": "stream",
     "text": [
      "\u001b[32m[I 2022-03-27 04:25:05,978]\u001b[0m Trial 481 finished with value: 5.382440136290396 and parameters: {'random_state': 519632, 'learning_rate': 0.024869910141738023, 'bagging_temperature': 1.2374004261978624, 'max_depth': 9, 'random_strength': 30, 'l2_leaf_reg': 1.0413616466583832e-05, 'min_child_samples': 48, 'max_bin': 471, 'od_type': 'IncToDec', 'task_type': 'GPU', 'loss_function': 'MAE', 'eval_metric': 'MAE'}. Best is trial 121 with value: 5.343377942063889.\u001b[0m\n"
     ]
    },
    {
     "name": "stdout",
     "output_type": "stream",
     "text": [
      "MAE of Train: 5.343844602687967\n",
      "MAE of Validation: 5.382440136290396\n"
     ]
    },
    {
     "name": "stderr",
     "output_type": "stream",
     "text": [
      "\u001b[32m[I 2022-03-27 04:25:10,025]\u001b[0m Trial 482 finished with value: 5.352033380466349 and parameters: {'random_state': 519632, 'learning_rate': 0.09229322666960717, 'bagging_temperature': 1.9442523921744446, 'max_depth': 9, 'random_strength': 16, 'l2_leaf_reg': 2.768087986772848e-06, 'min_child_samples': 57, 'max_bin': 452, 'od_type': 'IncToDec', 'task_type': 'GPU', 'loss_function': 'MAE', 'eval_metric': 'MAE'}. Best is trial 121 with value: 5.343377942063889.\u001b[0m\n"
     ]
    },
    {
     "name": "stdout",
     "output_type": "stream",
     "text": [
      "MAE of Train: 5.173059642412632\n",
      "MAE of Validation: 5.352033380466349\n"
     ]
    },
    {
     "name": "stderr",
     "output_type": "stream",
     "text": [
      "\u001b[32m[I 2022-03-27 04:25:15,732]\u001b[0m Trial 483 finished with value: 5.347165539822646 and parameters: {'random_state': 519632, 'learning_rate': 0.059138885419845376, 'bagging_temperature': 1.5564745040409294, 'max_depth': 9, 'random_strength': 34, 'l2_leaf_reg': 2.2290554799122786e-05, 'min_child_samples': 69, 'max_bin': 214, 'od_type': 'Iter', 'task_type': 'GPU', 'loss_function': 'MAE', 'eval_metric': 'MAE'}. Best is trial 121 with value: 5.343377942063889.\u001b[0m\n"
     ]
    },
    {
     "name": "stdout",
     "output_type": "stream",
     "text": [
      "MAE of Train: 5.186897203493638\n",
      "MAE of Validation: 5.347165539822646\n"
     ]
    },
    {
     "name": "stderr",
     "output_type": "stream",
     "text": [
      "\u001b[32m[I 2022-03-27 04:25:19,217]\u001b[0m Trial 484 finished with value: 5.368588186386345 and parameters: {'random_state': 519632, 'learning_rate': 0.11911049245736395, 'bagging_temperature': 6.456624905731046, 'max_depth': 9, 'random_strength': 12, 'l2_leaf_reg': 1.1739668387188197e-05, 'min_child_samples': 64, 'max_bin': 478, 'od_type': 'IncToDec', 'task_type': 'GPU', 'loss_function': 'MAE', 'eval_metric': 'MAE'}. Best is trial 121 with value: 5.343377942063889.\u001b[0m\n"
     ]
    },
    {
     "name": "stdout",
     "output_type": "stream",
     "text": [
      "MAE of Train: 5.182054191385192\n",
      "MAE of Validation: 5.368588186386345\n"
     ]
    },
    {
     "name": "stderr",
     "output_type": "stream",
     "text": [
      "\u001b[32m[I 2022-03-27 04:25:24,050]\u001b[0m Trial 485 finished with value: 5.352030331863725 and parameters: {'random_state': 519632, 'learning_rate': 0.07476168120128927, 'bagging_temperature': 0.7119480526955934, 'max_depth': 8, 'random_strength': 19, 'l2_leaf_reg': 8.93889077658788e-06, 'min_child_samples': 52, 'max_bin': 486, 'od_type': 'IncToDec', 'task_type': 'GPU', 'loss_function': 'MAE', 'eval_metric': 'MAE'}. Best is trial 121 with value: 5.343377942063889.\u001b[0m\n"
     ]
    },
    {
     "name": "stdout",
     "output_type": "stream",
     "text": [
      "MAE of Train: 5.21770396111709\n",
      "MAE of Validation: 5.352030331863725\n"
     ]
    },
    {
     "name": "stderr",
     "output_type": "stream",
     "text": [
      "\u001b[32m[I 2022-03-27 04:25:29,937]\u001b[0m Trial 486 finished with value: 5.349869610738154 and parameters: {'random_state': 519632, 'learning_rate': 0.05465081568260882, 'bagging_temperature': 1.1103110235436204, 'max_depth': 9, 'random_strength': 21, 'l2_leaf_reg': 1.3021298255156844e-05, 'min_child_samples': 42, 'max_bin': 493, 'od_type': 'IncToDec', 'task_type': 'GPU', 'loss_function': 'MAE', 'eval_metric': 'MAE'}. Best is trial 121 with value: 5.343377942063889.\u001b[0m\n"
     ]
    },
    {
     "name": "stdout",
     "output_type": "stream",
     "text": [
      "MAE of Train: 5.208079601874918\n",
      "MAE of Validation: 5.349869610738154\n"
     ]
    },
    {
     "name": "stderr",
     "output_type": "stream",
     "text": [
      "\u001b[32m[I 2022-03-27 04:25:34,233]\u001b[0m Trial 487 finished with value: 5.347490376456127 and parameters: {'random_state': 519632, 'learning_rate': 0.08761332418000402, 'bagging_temperature': 0.940001015651683, 'max_depth': 9, 'random_strength': 25, 'l2_leaf_reg': 1.1290586064663491e-05, 'min_child_samples': 46, 'max_bin': 462, 'od_type': 'IncToDec', 'task_type': 'GPU', 'loss_function': 'MAE', 'eval_metric': 'MAE'}. Best is trial 121 with value: 5.343377942063889.\u001b[0m\n"
     ]
    },
    {
     "name": "stdout",
     "output_type": "stream",
     "text": [
      "MAE of Train: 5.200547798106268\n",
      "MAE of Validation: 5.347490376456127\n"
     ]
    },
    {
     "name": "stderr",
     "output_type": "stream",
     "text": [
      "\u001b[32m[I 2022-03-27 04:25:40,021]\u001b[0m Trial 488 finished with value: 5.348607509115809 and parameters: {'random_state': 519632, 'learning_rate': 0.06279968916998695, 'bagging_temperature': 1.7132183107861747, 'max_depth': 9, 'random_strength': 31, 'l2_leaf_reg': 8.384817893414647e-06, 'min_child_samples': 62, 'max_bin': 447, 'od_type': 'IncToDec', 'task_type': 'GPU', 'loss_function': 'MAE', 'eval_metric': 'MAE'}. Best is trial 121 with value: 5.343377942063889.\u001b[0m\n"
     ]
    },
    {
     "name": "stdout",
     "output_type": "stream",
     "text": [
      "MAE of Train: 5.176008960185294\n",
      "MAE of Validation: 5.348607509115809\n"
     ]
    },
    {
     "name": "stderr",
     "output_type": "stream",
     "text": [
      "\u001b[32m[I 2022-03-27 04:25:43,485]\u001b[0m Trial 489 finished with value: 5.416651163660477 and parameters: {'random_state': 519632, 'learning_rate': 0.047068283932763334, 'bagging_temperature': 1.2993123528308386, 'max_depth': 4, 'random_strength': 8, 'l2_leaf_reg': 1.0357998951704855e-05, 'min_child_samples': 55, 'max_bin': 471, 'od_type': 'IncToDec', 'task_type': 'GPU', 'loss_function': 'MAE', 'eval_metric': 'MAE'}. Best is trial 121 with value: 5.343377942063889.\u001b[0m\n"
     ]
    },
    {
     "name": "stdout",
     "output_type": "stream",
     "text": [
      "MAE of Train: 5.415435568077696\n",
      "MAE of Validation: 5.416651163660477\n"
     ]
    },
    {
     "name": "stderr",
     "output_type": "stream",
     "text": [
      "\u001b[32m[I 2022-03-27 04:25:47,893]\u001b[0m Trial 490 finished with value: 5.344871781270736 and parameters: {'random_state': 519632, 'learning_rate': 0.10301577764615301, 'bagging_temperature': 1.4703945158810876, 'max_depth': 9, 'random_strength': 15, 'l2_leaf_reg': 9.277438629627345e-06, 'min_child_samples': 50, 'max_bin': 479, 'od_type': 'IncToDec', 'task_type': 'GPU', 'loss_function': 'MAE', 'eval_metric': 'MAE'}. Best is trial 121 with value: 5.343377942063889.\u001b[0m\n"
     ]
    },
    {
     "name": "stdout",
     "output_type": "stream",
     "text": [
      "MAE of Train: 5.141117231316756\n",
      "MAE of Validation: 5.344871781270736\n"
     ]
    },
    {
     "name": "stderr",
     "output_type": "stream",
     "text": [
      "\u001b[32m[I 2022-03-27 04:25:50,906]\u001b[0m Trial 491 finished with value: 5.356934503206597 and parameters: {'random_state': 519632, 'learning_rate': 0.1541201950722376, 'bagging_temperature': 2.03644497857389, 'max_depth': 9, 'random_strength': 15, 'l2_leaf_reg': 9.339306798911081e-06, 'min_child_samples': 49, 'max_bin': 201, 'od_type': 'IncToDec', 'task_type': 'GPU', 'loss_function': 'MAE', 'eval_metric': 'MAE'}. Best is trial 121 with value: 5.343377942063889.\u001b[0m\n"
     ]
    },
    {
     "name": "stdout",
     "output_type": "stream",
     "text": [
      "MAE of Train: 5.1648601875442814\n",
      "MAE of Validation: 5.356934503206597\n"
     ]
    },
    {
     "name": "stderr",
     "output_type": "stream",
     "text": [
      "\u001b[32m[I 2022-03-27 04:25:56,856]\u001b[0m Trial 492 finished with value: 5.37359935479679 and parameters: {'random_state': 519632, 'learning_rate': 0.13707131485452423, 'bagging_temperature': 2.2590552957633467, 'max_depth': 9, 'random_strength': 15, 'l2_leaf_reg': 8.872000829592121e-06, 'min_child_samples': 50, 'max_bin': 489, 'od_type': 'IncToDec', 'task_type': 'GPU', 'loss_function': 'MAE', 'eval_metric': 'MAE'}. Best is trial 121 with value: 5.343377942063889.\u001b[0m\n"
     ]
    },
    {
     "name": "stdout",
     "output_type": "stream",
     "text": [
      "MAE of Train: 5.267293741255168\n",
      "MAE of Validation: 5.37359935479679\n"
     ]
    },
    {
     "name": "stderr",
     "output_type": "stream",
     "text": [
      "\u001b[32m[I 2022-03-27 04:26:01,268]\u001b[0m Trial 493 finished with value: 5.351221053421846 and parameters: {'random_state': 519632, 'learning_rate': 0.11376239532055374, 'bagging_temperature': 1.5027704958196404, 'max_depth': 9, 'random_strength': 17, 'l2_leaf_reg': 9.585134443252716e-06, 'min_child_samples': 52, 'max_bin': 482, 'od_type': 'IncToDec', 'task_type': 'GPU', 'loss_function': 'MAE', 'eval_metric': 'MAE'}. Best is trial 121 with value: 5.343377942063889.\u001b[0m\n"
     ]
    },
    {
     "name": "stdout",
     "output_type": "stream",
     "text": [
      "MAE of Train: 5.1326735646829835\n",
      "MAE of Validation: 5.351221053421846\n"
     ]
    },
    {
     "name": "stderr",
     "output_type": "stream",
     "text": [
      "\u001b[32m[I 2022-03-27 04:26:06,170]\u001b[0m Trial 494 finished with value: 5.351964819259333 and parameters: {'random_state': 519632, 'learning_rate': 0.10007079573889288, 'bagging_temperature': 0.8339145914949178, 'max_depth': 9, 'random_strength': 13, 'l2_leaf_reg': 9.989764516459458e-06, 'min_child_samples': 48, 'max_bin': 495, 'od_type': 'IncToDec', 'task_type': 'GPU', 'loss_function': 'MAE', 'eval_metric': 'MAE'}. Best is trial 121 with value: 5.343377942063889.\u001b[0m\n"
     ]
    },
    {
     "name": "stdout",
     "output_type": "stream",
     "text": [
      "MAE of Train: 5.151769196150859\n",
      "MAE of Validation: 5.351964819259333\n"
     ]
    },
    {
     "name": "stderr",
     "output_type": "stream",
     "text": [
      "\u001b[32m[I 2022-03-27 04:26:10,328]\u001b[0m Trial 495 finished with value: 5.35046169142097 and parameters: {'random_state': 519632, 'learning_rate': 0.09596265360469207, 'bagging_temperature': 1.087315836501035, 'max_depth': 9, 'random_strength': 18, 'l2_leaf_reg': 8.524275749446158e-06, 'min_child_samples': 53, 'max_bin': 477, 'od_type': 'IncToDec', 'task_type': 'GPU', 'loss_function': 'MAE', 'eval_metric': 'MAE'}. Best is trial 121 with value: 5.343377942063889.\u001b[0m\n"
     ]
    },
    {
     "name": "stdout",
     "output_type": "stream",
     "text": [
      "MAE of Train: 5.192326084612084\n",
      "MAE of Validation: 5.35046169142097\n"
     ]
    },
    {
     "name": "stderr",
     "output_type": "stream",
     "text": [
      "\u001b[32m[I 2022-03-27 04:26:13,195]\u001b[0m Trial 496 finished with value: 5.35435172701126 and parameters: {'random_state': 519632, 'learning_rate': 0.12702761343032118, 'bagging_temperature': 1.7712289336386202, 'max_depth': 9, 'random_strength': 10, 'l2_leaf_reg': 1.0954816435441201e-05, 'min_child_samples': 50, 'max_bin': 263, 'od_type': 'IncToDec', 'task_type': 'GPU', 'loss_function': 'MAE', 'eval_metric': 'MAE'}. Best is trial 121 with value: 5.343377942063889.\u001b[0m\n"
     ]
    },
    {
     "name": "stdout",
     "output_type": "stream",
     "text": [
      "MAE of Train: 5.202338511472546\n",
      "MAE of Validation: 5.35435172701126\n"
     ]
    },
    {
     "name": "stderr",
     "output_type": "stream",
     "text": [
      "\u001b[32m[I 2022-03-27 04:26:17,114]\u001b[0m Trial 497 finished with value: 5.353561719348389 and parameters: {'random_state': 519632, 'learning_rate': 0.0841860836104209, 'bagging_temperature': 0.4490100764010664, 'max_depth': 9, 'random_strength': 12, 'l2_leaf_reg': 9.105794154785488e-06, 'min_child_samples': 70, 'max_bin': 485, 'od_type': 'IncToDec', 'task_type': 'GPU', 'loss_function': 'MAE', 'eval_metric': 'MAE'}. Best is trial 121 with value: 5.343377942063889.\u001b[0m\n"
     ]
    },
    {
     "name": "stdout",
     "output_type": "stream",
     "text": [
      "MAE of Train: 5.242892757072873\n",
      "MAE of Validation: 5.353561719348389\n"
     ]
    },
    {
     "name": "stderr",
     "output_type": "stream",
     "text": [
      "\u001b[32m[I 2022-03-27 04:26:20,945]\u001b[0m Trial 498 finished with value: 5.34784940774987 and parameters: {'random_state': 519632, 'learning_rate': 0.10297257753510555, 'bagging_temperature': 1.3602746732429865, 'max_depth': 9, 'random_strength': 14, 'l2_leaf_reg': 1.0021140434697582e-05, 'min_child_samples': 79, 'max_bin': 500, 'od_type': 'IncToDec', 'task_type': 'GPU', 'loss_function': 'MAE', 'eval_metric': 'MAE'}. Best is trial 121 with value: 5.343377942063889.\u001b[0m\n"
     ]
    },
    {
     "name": "stdout",
     "output_type": "stream",
     "text": [
      "MAE of Train: 5.183122564589052\n",
      "MAE of Validation: 5.34784940774987\n"
     ]
    },
    {
     "name": "stderr",
     "output_type": "stream",
     "text": [
      "\u001b[32m[I 2022-03-27 04:26:25,537]\u001b[0m Trial 499 finished with value: 5.352514966117274 and parameters: {'random_state': 519632, 'learning_rate': 0.07971329636778952, 'bagging_temperature': 1.1735626468665843, 'max_depth': 9, 'random_strength': 21, 'l2_leaf_reg': 8.12912654047205e-06, 'min_child_samples': 67, 'max_bin': 489, 'od_type': 'IncToDec', 'task_type': 'GPU', 'loss_function': 'MAE', 'eval_metric': 'MAE'}. Best is trial 121 with value: 5.343377942063889.\u001b[0m\n"
     ]
    },
    {
     "name": "stdout",
     "output_type": "stream",
     "text": [
      "MAE of Train: 5.193748749925226\n",
      "MAE of Validation: 5.352514966117274\n"
     ]
    },
    {
     "name": "stderr",
     "output_type": "stream",
     "text": [
      "\u001b[32m[I 2022-03-27 04:26:29,134]\u001b[0m Trial 500 finished with value: 5.351660735162548 and parameters: {'random_state': 519632, 'learning_rate': 0.11393774320788062, 'bagging_temperature': 1.0009284935005673, 'max_depth': 9, 'random_strength': 27, 'l2_leaf_reg': 1.2418339307736949e-05, 'min_child_samples': 55, 'max_bin': 478, 'od_type': 'IncToDec', 'task_type': 'GPU', 'loss_function': 'MAE', 'eval_metric': 'MAE'}. Best is trial 121 with value: 5.343377942063889.\u001b[0m\n"
     ]
    },
    {
     "name": "stdout",
     "output_type": "stream",
     "text": [
      "MAE of Train: 5.191020203858884\n",
      "MAE of Validation: 5.351660735162548\n"
     ]
    },
    {
     "name": "stderr",
     "output_type": "stream",
     "text": [
      "\u001b[32m[I 2022-03-27 04:26:34,826]\u001b[0m Trial 501 finished with value: 5.351438219656309 and parameters: {'random_state': 519632, 'learning_rate': 0.07487649784674824, 'bagging_temperature': 0.6442217206529023, 'max_depth': 9, 'random_strength': 17, 'l2_leaf_reg': 1.0536619536770681e-05, 'min_child_samples': 51, 'max_bin': 482, 'od_type': 'IncToDec', 'task_type': 'GPU', 'loss_function': 'MAE', 'eval_metric': 'MAE'}. Best is trial 121 with value: 5.343377942063889.\u001b[0m\n"
     ]
    },
    {
     "name": "stdout",
     "output_type": "stream",
     "text": [
      "MAE of Train: 5.170731560966381\n",
      "MAE of Validation: 5.351438219656309\n"
     ]
    },
    {
     "name": "stderr",
     "output_type": "stream",
     "text": [
      "\u001b[32m[I 2022-03-27 04:26:39,214]\u001b[0m Trial 502 finished with value: 5.347295536541627 and parameters: {'random_state': 519632, 'learning_rate': 0.09036730902244523, 'bagging_temperature': 1.6074177465267354, 'max_depth': 9, 'random_strength': 10, 'l2_leaf_reg': 1.1675871801142373e-05, 'min_child_samples': 58, 'max_bin': 467, 'od_type': 'IncToDec', 'task_type': 'GPU', 'loss_function': 'MAE', 'eval_metric': 'MAE'}. Best is trial 121 with value: 5.343377942063889.\u001b[0m\n"
     ]
    },
    {
     "name": "stdout",
     "output_type": "stream",
     "text": [
      "MAE of Train: 5.160650593812457\n",
      "MAE of Validation: 5.347295536541627\n"
     ]
    },
    {
     "name": "stderr",
     "output_type": "stream",
     "text": [
      "\u001b[32m[I 2022-03-27 04:26:44,728]\u001b[0m Trial 503 finished with value: 6.594642961154617 and parameters: {'random_state': 519632, 'learning_rate': 0.0015458158631980468, 'bagging_temperature': 2.291994643646551, 'max_depth': 9, 'random_strength': 14, 'l2_leaf_reg': 1.3502011108112948e-05, 'min_child_samples': 65, 'max_bin': 456, 'od_type': 'IncToDec', 'task_type': 'GPU', 'loss_function': 'MAE', 'eval_metric': 'MAE'}. Best is trial 121 with value: 5.343377942063889.\u001b[0m\n"
     ]
    },
    {
     "name": "stdout",
     "output_type": "stream",
     "text": [
      "MAE of Train: 6.58635799723548\n",
      "MAE of Validation: 6.594642961154617\n"
     ]
    },
    {
     "name": "stderr",
     "output_type": "stream",
     "text": [
      "\u001b[32m[I 2022-03-27 04:26:50,132]\u001b[0m Trial 504 finished with value: 5.345848535151641 and parameters: {'random_state': 519632, 'learning_rate': 0.0660782929390855, 'bagging_temperature': 1.3368215852920553, 'max_depth': 9, 'random_strength': 28, 'l2_leaf_reg': 9.533085633109888e-06, 'min_child_samples': 47, 'max_bin': 491, 'od_type': 'IncToDec', 'task_type': 'GPU', 'loss_function': 'MAE', 'eval_metric': 'MAE'}. Best is trial 121 with value: 5.343377942063889.\u001b[0m\n"
     ]
    },
    {
     "name": "stdout",
     "output_type": "stream",
     "text": [
      "MAE of Train: 5.183941528172011\n",
      "MAE of Validation: 5.345848535151641\n"
     ]
    },
    {
     "name": "stderr",
     "output_type": "stream",
     "text": [
      "\u001b[32m[I 2022-03-27 04:26:55,666]\u001b[0m Trial 505 finished with value: 5.350973235596382 and parameters: {'random_state': 519632, 'learning_rate': 0.06873509962293589, 'bagging_temperature': 0.8062136016627258, 'max_depth': 9, 'random_strength': 29, 'l2_leaf_reg': 6.92735899731911e-06, 'min_child_samples': 46, 'max_bin': 496, 'od_type': 'IncToDec', 'task_type': 'GPU', 'loss_function': 'MAE', 'eval_metric': 'MAE'}. Best is trial 121 with value: 5.343377942063889.\u001b[0m\n"
     ]
    },
    {
     "name": "stdout",
     "output_type": "stream",
     "text": [
      "MAE of Train: 5.179237056467844\n",
      "MAE of Validation: 5.350973235596382\n"
     ]
    },
    {
     "name": "stderr",
     "output_type": "stream",
     "text": [
      "\u001b[32m[I 2022-03-27 04:27:01,404]\u001b[0m Trial 506 finished with value: 5.348034713185251 and parameters: {'random_state': 519632, 'learning_rate': 0.06075099240341571, 'bagging_temperature': 1.295742033909708, 'max_depth': 9, 'random_strength': 27, 'l2_leaf_reg': 9.399633736226863e-06, 'min_child_samples': 48, 'max_bin': 404, 'od_type': 'IncToDec', 'task_type': 'GPU', 'loss_function': 'MAE', 'eval_metric': 'MAE'}. Best is trial 121 with value: 5.343377942063889.\u001b[0m\n"
     ]
    },
    {
     "name": "stdout",
     "output_type": "stream",
     "text": [
      "MAE of Train: 5.189343705256167\n",
      "MAE of Validation: 5.348034713185251\n"
     ]
    },
    {
     "name": "stderr",
     "output_type": "stream",
     "text": [
      "\u001b[32m[I 2022-03-27 04:27:07,154]\u001b[0m Trial 507 finished with value: 5.360298973491125 and parameters: {'random_state': 519632, 'learning_rate': 0.04009761493155975, 'bagging_temperature': 0.9650086076456551, 'max_depth': 9, 'random_strength': 24, 'l2_leaf_reg': 7.862180363904273e-06, 'min_child_samples': 46, 'max_bin': 488, 'od_type': 'IncToDec', 'task_type': 'GPU', 'loss_function': 'MAE', 'eval_metric': 'MAE'}. Best is trial 121 with value: 5.343377942063889.\u001b[0m\n"
     ]
    },
    {
     "name": "stdout",
     "output_type": "stream",
     "text": [
      "MAE of Train: 5.271263854087884\n",
      "MAE of Validation: 5.360298973491125\n"
     ]
    },
    {
     "name": "stderr",
     "output_type": "stream",
     "text": [
      "\u001b[32m[I 2022-03-27 04:27:12,994]\u001b[0m Trial 508 finished with value: 5.349260020166314 and parameters: {'random_state': 519632, 'learning_rate': 0.06687274340682259, 'bagging_temperature': 1.1609780272735757, 'max_depth': 9, 'random_strength': 32, 'l2_leaf_reg': 6.371357440644988e-06, 'min_child_samples': 49, 'max_bin': 473, 'od_type': 'IncToDec', 'task_type': 'GPU', 'loss_function': 'MAE', 'eval_metric': 'MAE'}. Best is trial 121 with value: 5.343377942063889.\u001b[0m\n"
     ]
    },
    {
     "name": "stdout",
     "output_type": "stream",
     "text": [
      "MAE of Train: 5.170073680414179\n",
      "MAE of Validation: 5.349260020166314\n"
     ]
    },
    {
     "name": "stderr",
     "output_type": "stream",
     "text": [
      "\u001b[32m[I 2022-03-27 04:27:18,825]\u001b[0m Trial 509 finished with value: 5.350449981723235 and parameters: {'random_state': 519632, 'learning_rate': 0.052621670077731345, 'bagging_temperature': 1.389890072182084, 'max_depth': 9, 'random_strength': 29, 'l2_leaf_reg': 7.364103274432028e-06, 'min_child_samples': 47, 'max_bin': 443, 'od_type': 'IncToDec', 'task_type': 'GPU', 'loss_function': 'MAE', 'eval_metric': 'MAE'}. Best is trial 121 with value: 5.343377942063889.\u001b[0m\n"
     ]
    },
    {
     "name": "stdout",
     "output_type": "stream",
     "text": [
      "MAE of Train: 5.213327413799187\n",
      "MAE of Validation: 5.350449981723235\n"
     ]
    },
    {
     "name": "stderr",
     "output_type": "stream",
     "text": [
      "\u001b[32m[I 2022-03-27 04:27:23,687]\u001b[0m Trial 510 finished with value: 5.349748580128095 and parameters: {'random_state': 519632, 'learning_rate': 0.0723730559068418, 'bagging_temperature': 1.0577259933444527, 'max_depth': 9, 'random_strength': 26, 'l2_leaf_reg': 9.749587058730488e-06, 'min_child_samples': 51, 'max_bin': 481, 'od_type': 'IncToDec', 'task_type': 'GPU', 'loss_function': 'MAE', 'eval_metric': 'MAE'}. Best is trial 121 with value: 5.343377942063889.\u001b[0m\n"
     ]
    },
    {
     "name": "stdout",
     "output_type": "stream",
     "text": [
      "MAE of Train: 5.20395906532138\n",
      "MAE of Validation: 5.349748580128095\n"
     ]
    },
    {
     "name": "stderr",
     "output_type": "stream",
     "text": [
      "\u001b[32m[I 2022-03-27 04:27:29,559]\u001b[0m Trial 511 finished with value: 5.347339403420649 and parameters: {'random_state': 519632, 'learning_rate': 0.05915417680677143, 'bagging_temperature': 0.8522170621945625, 'max_depth': 9, 'random_strength': 22, 'l2_leaf_reg': 8.772854549326194e-06, 'min_child_samples': 44, 'max_bin': 492, 'od_type': 'IncToDec', 'task_type': 'GPU', 'loss_function': 'MAE', 'eval_metric': 'MAE'}. Best is trial 121 with value: 5.343377942063889.\u001b[0m\n"
     ]
    },
    {
     "name": "stdout",
     "output_type": "stream",
     "text": [
      "MAE of Train: 5.19865520037508\n",
      "MAE of Validation: 5.347339403420649\n"
     ]
    },
    {
     "name": "stderr",
     "output_type": "stream",
     "text": [
      "\u001b[32m[I 2022-03-27 04:27:35,532]\u001b[0m Trial 512 finished with value: 5.3502693480001815 and parameters: {'random_state': 519632, 'learning_rate': 0.049903018978396795, 'bagging_temperature': 1.473088596422522, 'max_depth': 9, 'random_strength': 28, 'l2_leaf_reg': 8.12179214655224e-06, 'min_child_samples': 49, 'max_bin': 462, 'od_type': 'IncToDec', 'task_type': 'GPU', 'loss_function': 'MAE', 'eval_metric': 'MAE'}. Best is trial 121 with value: 5.343377942063889.\u001b[0m\n"
     ]
    },
    {
     "name": "stdout",
     "output_type": "stream",
     "text": [
      "MAE of Train: 5.2203932890293165\n",
      "MAE of Validation: 5.3502693480001815\n"
     ]
    },
    {
     "name": "stderr",
     "output_type": "stream",
     "text": [
      "\u001b[32m[I 2022-03-27 04:27:40,102]\u001b[0m Trial 513 finished with value: 5.351373155865549 and parameters: {'random_state': 519632, 'learning_rate': 0.08019901936554145, 'bagging_temperature': 1.8689614803035444, 'max_depth': 9, 'random_strength': 25, 'l2_leaf_reg': 1.0634558674907866e-05, 'min_child_samples': 53, 'max_bin': 475, 'od_type': 'IncToDec', 'task_type': 'GPU', 'loss_function': 'MAE', 'eval_metric': 'MAE'}. Best is trial 121 with value: 5.343377942063889.\u001b[0m\n"
     ]
    },
    {
     "name": "stdout",
     "output_type": "stream",
     "text": [
      "MAE of Train: 5.187143244201543\n",
      "MAE of Validation: 5.351373155865549\n"
     ]
    },
    {
     "name": "stderr",
     "output_type": "stream",
     "text": [
      "\u001b[32m[I 2022-03-27 04:27:46,134]\u001b[0m Trial 514 finished with value: 5.347440818402725 and parameters: {'random_state': 519632, 'learning_rate': 0.06699205605486734, 'bagging_temperature': 1.203013214103977, 'max_depth': 9, 'random_strength': 31, 'l2_leaf_reg': 9.142803158312428e-06, 'min_child_samples': 61, 'max_bin': 484, 'od_type': 'IncToDec', 'task_type': 'GPU', 'loss_function': 'MAE', 'eval_metric': 'MAE'}. Best is trial 121 with value: 5.343377942063889.\u001b[0m\n"
     ]
    },
    {
     "name": "stdout",
     "output_type": "stream",
     "text": [
      "MAE of Train: 5.16362128260468\n",
      "MAE of Validation: 5.347440818402725\n"
     ]
    },
    {
     "name": "stderr",
     "output_type": "stream",
     "text": [
      "\u001b[32m[I 2022-03-27 04:27:51,090]\u001b[0m Trial 515 finished with value: 5.3553728041140625 and parameters: {'random_state': 519632, 'learning_rate': 0.1004879601513008, 'bagging_temperature': 0.704916266331453, 'max_depth': 9, 'random_strength': 0, 'l2_leaf_reg': 9.856734262633971e-06, 'min_child_samples': 47, 'max_bin': 450, 'od_type': 'IncToDec', 'task_type': 'GPU', 'loss_function': 'MAE', 'eval_metric': 'MAE'}. Best is trial 121 with value: 5.343377942063889.\u001b[0m\n"
     ]
    },
    {
     "name": "stdout",
     "output_type": "stream",
     "text": [
      "MAE of Train: 5.21145261814721\n",
      "MAE of Validation: 5.3553728041140625\n"
     ]
    },
    {
     "name": "stderr",
     "output_type": "stream",
     "text": [
      "\u001b[32m[I 2022-03-27 04:27:56,626]\u001b[0m Trial 516 finished with value: 5.34931612569025 and parameters: {'random_state': 519632, 'learning_rate': 0.05839152338324335, 'bagging_temperature': 1.4676692249568954, 'max_depth': 9, 'random_strength': 20, 'l2_leaf_reg': 1.1115982731287663e-05, 'min_child_samples': 45, 'max_bin': 468, 'od_type': 'IncToDec', 'task_type': 'GPU', 'loss_function': 'MAE', 'eval_metric': 'MAE'}. Best is trial 121 with value: 5.343377942063889.\u001b[0m\n"
     ]
    },
    {
     "name": "stdout",
     "output_type": "stream",
     "text": [
      "MAE of Train: 5.207027256311266\n",
      "MAE of Validation: 5.34931612569025\n"
     ]
    },
    {
     "name": "stderr",
     "output_type": "stream",
     "text": [
      "\u001b[32m[I 2022-03-27 04:28:00,434]\u001b[0m Trial 517 finished with value: 5.387535117273861 and parameters: {'random_state': 519632, 'learning_rate': 0.08299937164312318, 'bagging_temperature': 0.9721204373742233, 'max_depth': 5, 'random_strength': 23, 'l2_leaf_reg': 8.454955246318365e-06, 'min_child_samples': 63, 'max_bin': 490, 'od_type': 'IncToDec', 'task_type': 'GPU', 'loss_function': 'MAE', 'eval_metric': 'MAE'}. Best is trial 121 with value: 5.343377942063889.\u001b[0m\n"
     ]
    },
    {
     "name": "stdout",
     "output_type": "stream",
     "text": [
      "MAE of Train: 5.354986240169256\n",
      "MAE of Validation: 5.387535117273861\n"
     ]
    },
    {
     "name": "stderr",
     "output_type": "stream",
     "text": [
      "\u001b[32m[I 2022-03-27 04:28:06,164]\u001b[0m Trial 518 finished with value: 5.347600906649725 and parameters: {'random_state': 519632, 'learning_rate': 0.07200031520934351, 'bagging_temperature': 1.7800855767950836, 'max_depth': 9, 'random_strength': 34, 'l2_leaf_reg': 1.0446708260672614e-05, 'min_child_samples': 67, 'max_bin': 478, 'od_type': 'IncToDec', 'task_type': 'GPU', 'loss_function': 'MAE', 'eval_metric': 'MAE'}. Best is trial 121 with value: 5.343377942063889.\u001b[0m\n"
     ]
    },
    {
     "name": "stdout",
     "output_type": "stream",
     "text": [
      "MAE of Train: 5.145526158588846\n",
      "MAE of Validation: 5.347600906649725\n"
     ]
    },
    {
     "name": "stderr",
     "output_type": "stream",
     "text": [
      "\u001b[32m[I 2022-03-27 04:28:11,876]\u001b[0m Trial 519 finished with value: 5.353084534491223 and parameters: {'random_state': 519632, 'learning_rate': 0.05032045262187944, 'bagging_temperature': 1.2143828542780968, 'max_depth': 9, 'random_strength': 30, 'l2_leaf_reg': 9.209206274568596e-06, 'min_child_samples': 50, 'max_bin': 496, 'od_type': 'IncToDec', 'task_type': 'GPU', 'loss_function': 'MAE', 'eval_metric': 'MAE'}. Best is trial 121 with value: 5.343377942063889.\u001b[0m\n"
     ]
    },
    {
     "name": "stdout",
     "output_type": "stream",
     "text": [
      "MAE of Train: 5.233977831055539\n",
      "MAE of Validation: 5.353084534491223\n"
     ]
    },
    {
     "name": "stderr",
     "output_type": "stream",
     "text": [
      "\u001b[32m[I 2022-03-27 04:28:14,292]\u001b[0m Trial 520 finished with value: 5.358081675035108 and parameters: {'random_state': 519632, 'learning_rate': 0.21588222363973386, 'bagging_temperature': 1.3790998622293418, 'max_depth': 8, 'random_strength': 27, 'l2_leaf_reg': 1.1370155703744158e-05, 'min_child_samples': 60, 'max_bin': 458, 'od_type': 'IncToDec', 'task_type': 'GPU', 'loss_function': 'MAE', 'eval_metric': 'MAE'}. Best is trial 121 with value: 5.343377942063889.\u001b[0m\n"
     ]
    },
    {
     "name": "stdout",
     "output_type": "stream",
     "text": [
      "MAE of Train: 5.188054950503049\n",
      "MAE of Validation: 5.358081675035108\n"
     ]
    },
    {
     "name": "stderr",
     "output_type": "stream",
     "text": [
      "\u001b[32m[I 2022-03-27 04:28:20,064]\u001b[0m Trial 521 finished with value: 5.349666368654824 and parameters: {'random_state': 519632, 'learning_rate': 0.06363766024227108, 'bagging_temperature': 1.0374548311619678, 'max_depth': 9, 'random_strength': 35, 'l2_leaf_reg': 7.121844646559031e-06, 'min_child_samples': 68, 'max_bin': 484, 'od_type': 'IncToDec', 'task_type': 'GPU', 'loss_function': 'MAE', 'eval_metric': 'MAE'}. Best is trial 121 with value: 5.343377942063889.\u001b[0m\n"
     ]
    },
    {
     "name": "stdout",
     "output_type": "stream",
     "text": [
      "MAE of Train: 5.189325190359584\n",
      "MAE of Validation: 5.349666368654824\n"
     ]
    },
    {
     "name": "stderr",
     "output_type": "stream",
     "text": [
      "\u001b[32m[I 2022-03-27 04:28:24,590]\u001b[0m Trial 522 finished with value: 5.352412871581289 and parameters: {'random_state': 519632, 'learning_rate': 0.0919535825836315, 'bagging_temperature': 2.0436853208158485, 'max_depth': 9, 'random_strength': 19, 'l2_leaf_reg': 9.938135761312796e-06, 'min_child_samples': 65, 'max_bin': 471, 'od_type': 'IncToDec', 'task_type': 'GPU', 'loss_function': 'MAE', 'eval_metric': 'MAE'}. Best is trial 121 with value: 5.343377942063889.\u001b[0m\n"
     ]
    },
    {
     "name": "stdout",
     "output_type": "stream",
     "text": [
      "MAE of Train: 5.1602408533692\n",
      "MAE of Validation: 5.352412871581289\n"
     ]
    },
    {
     "name": "stderr",
     "output_type": "stream",
     "text": [
      "\u001b[32m[I 2022-03-27 04:28:30,396]\u001b[0m Trial 523 finished with value: 5.3697725094323925 and parameters: {'random_state': 519632, 'learning_rate': 0.03263216035944036, 'bagging_temperature': 0.5598662833420794, 'max_depth': 9, 'random_strength': 24, 'l2_leaf_reg': 1.2427147102849668e-05, 'min_child_samples': 56, 'max_bin': 378, 'od_type': 'IncToDec', 'task_type': 'GPU', 'loss_function': 'MAE', 'eval_metric': 'MAE'}. Best is trial 121 with value: 5.343377942063889.\u001b[0m\n"
     ]
    },
    {
     "name": "stdout",
     "output_type": "stream",
     "text": [
      "MAE of Train: 5.310179675290933\n",
      "MAE of Validation: 5.3697725094323925\n"
     ]
    },
    {
     "name": "stderr",
     "output_type": "stream",
     "text": [
      "\u001b[32m[I 2022-03-27 04:28:34,691]\u001b[0m Trial 524 finished with value: 5.353972193390591 and parameters: {'random_state': 519632, 'learning_rate': 0.07551224459565636, 'bagging_temperature': 0.8392168746716588, 'max_depth': 9, 'random_strength': 28, 'l2_leaf_reg': 1.1969094553564072e-05, 'min_child_samples': 54, 'max_bin': 480, 'od_type': 'IncToDec', 'task_type': 'GPU', 'loss_function': 'MAE', 'eval_metric': 'MAE'}. Best is trial 121 with value: 5.343377942063889.\u001b[0m\n"
     ]
    },
    {
     "name": "stdout",
     "output_type": "stream",
     "text": [
      "MAE of Train: 5.226219905218749\n",
      "MAE of Validation: 5.353972193390591\n"
     ]
    },
    {
     "name": "stderr",
     "output_type": "stream",
     "text": [
      "\u001b[32m[I 2022-03-27 04:28:40,434]\u001b[0m Trial 525 finished with value: 5.355706735325806 and parameters: {'random_state': 519632, 'learning_rate': 0.04251772682577651, 'bagging_temperature': 1.5047034367670853, 'max_depth': 9, 'random_strength': 32, 'l2_leaf_reg': 1.084693858352911e-05, 'min_child_samples': 47, 'max_bin': 464, 'od_type': 'IncToDec', 'task_type': 'GPU', 'loss_function': 'MAE', 'eval_metric': 'MAE'}. Best is trial 121 with value: 5.343377942063889.\u001b[0m\n"
     ]
    },
    {
     "name": "stdout",
     "output_type": "stream",
     "text": [
      "MAE of Train: 5.25723277626611\n",
      "MAE of Validation: 5.355706735325806\n"
     ]
    },
    {
     "name": "stderr",
     "output_type": "stream",
     "text": [
      "\u001b[32m[I 2022-03-27 04:28:45,801]\u001b[0m Trial 526 finished with value: 12.907767912291128 and parameters: {'random_state': 519632, 'learning_rate': 0.00010443714664245111, 'bagging_temperature': 1.7622878014335195, 'max_depth': 9, 'random_strength': 25, 'l2_leaf_reg': 9.404416063722885e-06, 'min_child_samples': 44, 'max_bin': 489, 'od_type': 'IncToDec', 'task_type': 'GPU', 'loss_function': 'MAE', 'eval_metric': 'MAE'}. Best is trial 121 with value: 5.343377942063889.\u001b[0m\n"
     ]
    },
    {
     "name": "stdout",
     "output_type": "stream",
     "text": [
      "MAE of Train: 12.905948581708468\n",
      "MAE of Validation: 12.907767912291128\n"
     ]
    },
    {
     "name": "stderr",
     "output_type": "stream",
     "text": [
      "\u001b[32m[I 2022-03-27 04:28:49,474]\u001b[0m Trial 527 finished with value: 5.355490578477628 and parameters: {'random_state': 519632, 'learning_rate': 0.10622856823426734, 'bagging_temperature': 0.02961963504274286, 'max_depth': 9, 'random_strength': 37, 'l2_leaf_reg': 1.4169890657581937e-05, 'min_child_samples': 63, 'max_bin': 495, 'od_type': 'IncToDec', 'task_type': 'GPU', 'loss_function': 'MAE', 'eval_metric': 'MAE'}. Best is trial 121 with value: 5.343377942063889.\u001b[0m\n"
     ]
    },
    {
     "name": "stdout",
     "output_type": "stream",
     "text": [
      "MAE of Train: 5.210182986926004\n",
      "MAE of Validation: 5.355490578477628\n"
     ]
    },
    {
     "name": "stderr",
     "output_type": "stream",
     "text": [
      "\u001b[32m[I 2022-03-27 04:28:55,242]\u001b[0m Trial 528 finished with value: 5.347803282402205 and parameters: {'random_state': 519632, 'learning_rate': 0.0587165649160321, 'bagging_temperature': 1.212133460616948, 'max_depth': 9, 'random_strength': 4, 'l2_leaf_reg': 1.028095497066011e-05, 'min_child_samples': 52, 'max_bin': 454, 'od_type': 'IncToDec', 'task_type': 'GPU', 'loss_function': 'MAE', 'eval_metric': 'MAE'}. Best is trial 121 with value: 5.343377942063889.\u001b[0m\n"
     ]
    },
    {
     "name": "stdout",
     "output_type": "stream",
     "text": [
      "MAE of Train: 5.179331655097176\n",
      "MAE of Validation: 5.347803282402205\n"
     ]
    },
    {
     "name": "stderr",
     "output_type": "stream",
     "text": [
      "\u001b[32m[I 2022-03-27 04:28:59,464]\u001b[0m Trial 529 finished with value: 5.352056313444793 and parameters: {'random_state': 519632, 'learning_rate': 0.08341559694014125, 'bagging_temperature': 2.317455629147899, 'max_depth': 9, 'random_strength': 17, 'l2_leaf_reg': 5.545079240082413e-06, 'min_child_samples': 70, 'max_bin': 474, 'od_type': 'IncToDec', 'task_type': 'GPU', 'loss_function': 'MAE', 'eval_metric': 'MAE'}. Best is trial 121 with value: 5.343377942063889.\u001b[0m\n"
     ]
    },
    {
     "name": "stdout",
     "output_type": "stream",
     "text": [
      "MAE of Train: 5.190734177002664\n",
      "MAE of Validation: 5.352056313444793\n"
     ]
    },
    {
     "name": "stderr",
     "output_type": "stream",
     "text": [
      "\u001b[32m[I 2022-03-27 04:29:03,313]\u001b[0m Trial 530 finished with value: 5.355583544570142 and parameters: {'random_state': 519632, 'learning_rate': 0.13541829536694241, 'bagging_temperature': 1.020962259072041, 'max_depth': 9, 'random_strength': 22, 'l2_leaf_reg': 7.723028769423334e-06, 'min_child_samples': 59, 'max_bin': 500, 'od_type': 'IncToDec', 'task_type': 'GPU', 'loss_function': 'MAE', 'eval_metric': 'MAE'}. Best is trial 121 with value: 5.343377942063889.\u001b[0m\n"
     ]
    },
    {
     "name": "stdout",
     "output_type": "stream",
     "text": [
      "MAE of Train: 5.131383763290001\n",
      "MAE of Validation: 5.355583544570142\n"
     ]
    },
    {
     "name": "stderr",
     "output_type": "stream",
     "text": [
      "\u001b[32m[I 2022-03-27 04:29:08,160]\u001b[0m Trial 531 finished with value: 5.348516433746709 and parameters: {'random_state': 519632, 'learning_rate': 0.06991482293344362, 'bagging_temperature': 1.6664724618408675, 'max_depth': 9, 'random_strength': 30, 'l2_leaf_reg': 8.56124790214539e-06, 'min_child_samples': 66, 'max_bin': 484, 'od_type': 'IncToDec', 'task_type': 'GPU', 'loss_function': 'MAE', 'eval_metric': 'MAE'}. Best is trial 121 with value: 5.343377942063889.\u001b[0m\n"
     ]
    },
    {
     "name": "stdout",
     "output_type": "stream",
     "text": [
      "MAE of Train: 5.201756877432333\n",
      "MAE of Validation: 5.348516433746709\n"
     ]
    },
    {
     "name": "stderr",
     "output_type": "stream",
     "text": [
      "\u001b[32m[I 2022-03-27 04:29:13,930]\u001b[0m Trial 532 finished with value: 5.354074987945038 and parameters: {'random_state': 519632, 'learning_rate': 0.05317127913282349, 'bagging_temperature': 0.7345033958791019, 'max_depth': 9, 'random_strength': 26, 'l2_leaf_reg': 1.1340996295740548e-05, 'min_child_samples': 49, 'max_bin': 469, 'od_type': 'IncToDec', 'task_type': 'GPU', 'loss_function': 'MAE', 'eval_metric': 'MAE'}. Best is trial 121 with value: 5.343377942063889.\u001b[0m\n"
     ]
    },
    {
     "name": "stdout",
     "output_type": "stream",
     "text": [
      "MAE of Train: 5.228921750969284\n",
      "MAE of Validation: 5.354074987945038\n"
     ]
    },
    {
     "name": "stderr",
     "output_type": "stream",
     "text": [
      "\u001b[32m[I 2022-03-27 04:29:18,472]\u001b[0m Trial 533 finished with value: 5.351769332923331 and parameters: {'random_state': 519632, 'learning_rate': 0.09438854571248145, 'bagging_temperature': 1.2319833812639347, 'max_depth': 9, 'random_strength': 33, 'l2_leaf_reg': 1.2844412747942904e-05, 'min_child_samples': 68, 'max_bin': 322, 'od_type': 'IncToDec', 'task_type': 'GPU', 'loss_function': 'MAE', 'eval_metric': 'MAE'}. Best is trial 121 with value: 5.343377942063889.\u001b[0m\n"
     ]
    },
    {
     "name": "stdout",
     "output_type": "stream",
     "text": [
      "MAE of Train: 5.1701038504691255\n",
      "MAE of Validation: 5.351769332923331\n"
     ]
    },
    {
     "name": "stderr",
     "output_type": "stream",
     "text": [
      "\u001b[32m[I 2022-03-27 04:29:23,914]\u001b[0m Trial 534 finished with value: 5.3544848290318345 and parameters: {'random_state': 519632, 'learning_rate': 0.06275632367352743, 'bagging_temperature': 2.8558649224519903, 'max_depth': 9, 'random_strength': 28, 'l2_leaf_reg': 1.5341638198887174e-05, 'min_child_samples': 57, 'max_bin': 436, 'od_type': 'IncToDec', 'task_type': 'GPU', 'loss_function': 'MAE', 'eval_metric': 'MAE'}. Best is trial 121 with value: 5.343377942063889.\u001b[0m\n"
     ]
    },
    {
     "name": "stdout",
     "output_type": "stream",
     "text": [
      "MAE of Train: 5.187371284257022\n",
      "MAE of Validation: 5.3544848290318345\n"
     ]
    },
    {
     "name": "stderr",
     "output_type": "stream",
     "text": [
      "\u001b[32m[I 2022-03-27 04:29:28,324]\u001b[0m Trial 535 finished with value: 5.350266392521373 and parameters: {'random_state': 519632, 'learning_rate': 0.08003396759389611, 'bagging_temperature': 1.5038911381799085, 'max_depth': 9, 'random_strength': 21, 'l2_leaf_reg': 9.932687996604246e-06, 'min_child_samples': 64, 'max_bin': 478, 'od_type': 'IncToDec', 'task_type': 'GPU', 'loss_function': 'MAE', 'eval_metric': 'MAE'}. Best is trial 121 with value: 5.343377942063889.\u001b[0m\n"
     ]
    },
    {
     "name": "stdout",
     "output_type": "stream",
     "text": [
      "MAE of Train: 5.200903805645019\n",
      "MAE of Validation: 5.350266392521373\n"
     ]
    },
    {
     "name": "stderr",
     "output_type": "stream",
     "text": [
      "\u001b[32m[I 2022-03-27 04:29:34,229]\u001b[0m Trial 536 finished with value: 5.35722304769474 and parameters: {'random_state': 519632, 'learning_rate': 0.047736790383922194, 'bagging_temperature': 1.0021282639691167, 'max_depth': 9, 'random_strength': 16, 'l2_leaf_reg': 1.0684881739477366e-05, 'min_child_samples': 61, 'max_bin': 490, 'od_type': 'IncToDec', 'task_type': 'GPU', 'loss_function': 'MAE', 'eval_metric': 'MAE'}. Best is trial 121 with value: 5.343377942063889.\u001b[0m\n"
     ]
    },
    {
     "name": "stdout",
     "output_type": "stream",
     "text": [
      "MAE of Train: 5.239668307097923\n",
      "MAE of Validation: 5.35722304769474\n"
     ]
    },
    {
     "name": "stderr",
     "output_type": "stream",
     "text": [
      "\u001b[32m[I 2022-03-27 04:29:39,002]\u001b[0m Trial 537 finished with value: 5.352113050062126 and parameters: {'random_state': 519632, 'learning_rate': 0.06841615461420796, 'bagging_temperature': 1.3346160045367843, 'max_depth': 9, 'random_strength': 19, 'l2_leaf_reg': 6.2196402042748345e-06, 'min_child_samples': 70, 'max_bin': 463, 'od_type': 'IncToDec', 'task_type': 'GPU', 'loss_function': 'MAE', 'eval_metric': 'MAE'}. Best is trial 121 with value: 5.343377942063889.\u001b[0m\n"
     ]
    },
    {
     "name": "stdout",
     "output_type": "stream",
     "text": [
      "MAE of Train: 5.211066420731481\n",
      "MAE of Validation: 5.352113050062126\n"
     ]
    },
    {
     "name": "stderr",
     "output_type": "stream",
     "text": [
      "\u001b[32m[I 2022-03-27 04:29:42,942]\u001b[0m Trial 538 finished with value: 5.355986329421524 and parameters: {'random_state': 519632, 'learning_rate': 0.11795827485522349, 'bagging_temperature': 1.9746453028663327, 'max_depth': 8, 'random_strength': 30, 'l2_leaf_reg': 1.197504923475908e-05, 'min_child_samples': 51, 'max_bin': 485, 'od_type': 'IncToDec', 'task_type': 'GPU', 'loss_function': 'MAE', 'eval_metric': 'MAE'}. Best is trial 121 with value: 5.343377942063889.\u001b[0m\n"
     ]
    },
    {
     "name": "stdout",
     "output_type": "stream",
     "text": [
      "MAE of Train: 5.189954271244067\n",
      "MAE of Validation: 5.355986329421524\n"
     ]
    },
    {
     "name": "stderr",
     "output_type": "stream",
     "text": [
      "\u001b[32m[I 2022-03-27 04:29:47,298]\u001b[0m Trial 539 finished with value: 5.352128302979035 and parameters: {'random_state': 519632, 'learning_rate': 0.0899736272310211, 'bagging_temperature': 0.8752588523538882, 'max_depth': 9, 'random_strength': 24, 'l2_leaf_reg': 9.208191311810156e-06, 'min_child_samples': 46, 'max_bin': 448, 'od_type': 'IncToDec', 'task_type': 'GPU', 'loss_function': 'MAE', 'eval_metric': 'MAE'}. Best is trial 121 with value: 5.343377942063889.\u001b[0m\n"
     ]
    },
    {
     "name": "stdout",
     "output_type": "stream",
     "text": [
      "MAE of Train: 5.1902667154908\n",
      "MAE of Validation: 5.352128302979035\n"
     ]
    },
    {
     "name": "stderr",
     "output_type": "stream",
     "text": [
      "\u001b[32m[I 2022-03-27 04:29:53,695]\u001b[0m Trial 540 finished with value: 5.349406557281565 and parameters: {'random_state': 519632, 'learning_rate': 0.057394017599370004, 'bagging_temperature': 1.610850572405221, 'max_depth': 9, 'random_strength': 26, 'l2_leaf_reg': 1.3624390535332684e-05, 'min_child_samples': 48, 'max_bin': 475, 'od_type': 'IncToDec', 'task_type': 'GPU', 'loss_function': 'MAE', 'eval_metric': 'MAE'}. Best is trial 121 with value: 5.343377942063889.\u001b[0m\n"
     ]
    },
    {
     "name": "stdout",
     "output_type": "stream",
     "text": [
      "MAE of Train: 5.193664891743074\n",
      "MAE of Validation: 5.349406557281565\n"
     ]
    },
    {
     "name": "stderr",
     "output_type": "stream",
     "text": [
      "\u001b[32m[I 2022-03-27 04:30:00,356]\u001b[0m Trial 541 finished with value: 5.347286477699756 and parameters: {'random_state': 519632, 'learning_rate': 0.071950275529748, 'bagging_temperature': 0.637680220575453, 'max_depth': 9, 'random_strength': 6, 'l2_leaf_reg': 8.133201807586834e-06, 'min_child_samples': 54, 'max_bin': 456, 'od_type': 'IncToDec', 'task_type': 'GPU', 'loss_function': 'MAE', 'eval_metric': 'MAE'}. Best is trial 121 with value: 5.343377942063889.\u001b[0m\n"
     ]
    },
    {
     "name": "stdout",
     "output_type": "stream",
     "text": [
      "MAE of Train: 5.189933474166565\n",
      "MAE of Validation: 5.347286477699756\n"
     ]
    },
    {
     "name": "stderr",
     "output_type": "stream",
     "text": [
      "\u001b[32m[I 2022-03-27 04:30:04,938]\u001b[0m Trial 542 finished with value: 5.350318907184503 and parameters: {'random_state': 519632, 'learning_rate': 0.10361354645356516, 'bagging_temperature': 1.177619088112049, 'max_depth': 9, 'random_strength': 28, 'l2_leaf_reg': 6.738464525954962e-06, 'min_child_samples': 44, 'max_bin': 494, 'od_type': 'IncToDec', 'task_type': 'GPU', 'loss_function': 'MAE', 'eval_metric': 'MAE'}. Best is trial 121 with value: 5.343377942063889.\u001b[0m\n"
     ]
    },
    {
     "name": "stdout",
     "output_type": "stream",
     "text": [
      "MAE of Train: 5.189913742451283\n",
      "MAE of Validation: 5.350318907184503\n"
     ]
    },
    {
     "name": "stderr",
     "output_type": "stream",
     "text": [
      "\u001b[32m[I 2022-03-27 04:30:09,830]\u001b[0m Trial 543 finished with value: 5.354048273862423 and parameters: {'random_state': 519632, 'learning_rate': 0.08161394830327408, 'bagging_temperature': 1.388522184777229, 'max_depth': 9, 'random_strength': 32, 'l2_leaf_reg': 1.4741565761602143e-05, 'min_child_samples': 66, 'max_bin': 481, 'od_type': 'IncToDec', 'task_type': 'GPU', 'loss_function': 'MAE', 'eval_metric': 'MAE'}. Best is trial 121 with value: 5.343377942063889.\u001b[0m\n"
     ]
    },
    {
     "name": "stdout",
     "output_type": "stream",
     "text": [
      "MAE of Train: 5.1767591364799275\n",
      "MAE of Validation: 5.354048273862423\n"
     ]
    },
    {
     "name": "stderr",
     "output_type": "stream",
     "text": [
      "\u001b[32m[I 2022-03-27 04:30:15,658]\u001b[0m Trial 544 finished with value: 5.353880861805056 and parameters: {'random_state': 519632, 'learning_rate': 0.04621783515759828, 'bagging_temperature': 1.8550813743599024, 'max_depth': 9, 'random_strength': 36, 'l2_leaf_reg': 9.803845931045758e-06, 'min_child_samples': 68, 'max_bin': 237, 'od_type': 'IncToDec', 'task_type': 'GPU', 'loss_function': 'MAE', 'eval_metric': 'MAE'}. Best is trial 121 with value: 5.343377942063889.\u001b[0m\n"
     ]
    },
    {
     "name": "stdout",
     "output_type": "stream",
     "text": [
      "MAE of Train: 5.232548068142051\n",
      "MAE of Validation: 5.353880861805056\n"
     ]
    },
    {
     "name": "stderr",
     "output_type": "stream",
     "text": [
      "\u001b[32m[I 2022-03-27 04:30:21,514]\u001b[0m Trial 545 finished with value: 5.348652925862008 and parameters: {'random_state': 519632, 'learning_rate': 0.06411285379137807, 'bagging_temperature': 1.050119372014913, 'max_depth': 9, 'random_strength': 30, 'l2_leaf_reg': 8.750222441296488e-06, 'min_child_samples': 64, 'max_bin': 470, 'od_type': 'IncToDec', 'task_type': 'GPU', 'loss_function': 'MAE', 'eval_metric': 'MAE'}. Best is trial 121 with value: 5.343377942063889.\u001b[0m\n"
     ]
    },
    {
     "name": "stdout",
     "output_type": "stream",
     "text": [
      "MAE of Train: 5.1799346567511675\n",
      "MAE of Validation: 5.348652925862008\n"
     ]
    },
    {
     "name": "stderr",
     "output_type": "stream",
     "text": [
      "\u001b[32m[I 2022-03-27 04:30:27,341]\u001b[0m Trial 546 finished with value: 5.358860153163057 and parameters: {'random_state': 519632, 'learning_rate': 0.03908196148964433, 'bagging_temperature': 0.8044626893179448, 'max_depth': 9, 'random_strength': 14, 'l2_leaf_reg': 1.1245758416050893e-05, 'min_child_samples': 59, 'max_bin': 487, 'od_type': 'IncToDec', 'task_type': 'GPU', 'loss_function': 'MAE', 'eval_metric': 'MAE'}. Best is trial 121 with value: 5.343377942063889.\u001b[0m\n"
     ]
    },
    {
     "name": "stdout",
     "output_type": "stream",
     "text": [
      "MAE of Train: 5.2757789442845455\n",
      "MAE of Validation: 5.358860153163057\n"
     ]
    },
    {
     "name": "stderr",
     "output_type": "stream",
     "text": [
      "\u001b[32m[I 2022-03-27 04:30:32,852]\u001b[0m Trial 547 finished with value: 5.35420653996305 and parameters: {'random_state': 519632, 'learning_rate': 0.05424429334364082, 'bagging_temperature': 2.4353429747563204, 'max_depth': 9, 'random_strength': 23, 'l2_leaf_reg': 1.0742462343335192e-05, 'min_child_samples': 50, 'max_bin': 461, 'od_type': 'IncToDec', 'task_type': 'GPU', 'loss_function': 'MAE', 'eval_metric': 'MAE'}. Best is trial 121 with value: 5.343377942063889.\u001b[0m\n"
     ]
    },
    {
     "name": "stdout",
     "output_type": "stream",
     "text": [
      "MAE of Train: 5.2062566392279015\n",
      "MAE of Validation: 5.35420653996305\n"
     ]
    },
    {
     "name": "stderr",
     "output_type": "stream",
     "text": [
      "\u001b[32m[I 2022-03-27 04:30:38,732]\u001b[0m Trial 548 finished with value: 5.345710935405091 and parameters: {'random_state': 519632, 'learning_rate': 0.07596678016842415, 'bagging_temperature': 1.2969944490828333, 'max_depth': 9, 'random_strength': 19, 'l2_leaf_reg': 1.2972139398788498e-05, 'min_child_samples': 47, 'max_bin': 477, 'od_type': 'IncToDec', 'task_type': 'GPU', 'loss_function': 'MAE', 'eval_metric': 'MAE'}. Best is trial 121 with value: 5.343377942063889.\u001b[0m\n"
     ]
    },
    {
     "name": "stdout",
     "output_type": "stream",
     "text": [
      "MAE of Train: 5.1437661300251065\n",
      "MAE of Validation: 5.345710935405091\n"
     ]
    },
    {
     "name": "stderr",
     "output_type": "stream",
     "text": [
      "\u001b[32m[I 2022-03-27 04:30:44,368]\u001b[0m Trial 549 finished with value: 5.471706011073661 and parameters: {'random_state': 519632, 'learning_rate': 0.006604936365426467, 'bagging_temperature': 0.929604185552136, 'max_depth': 9, 'random_strength': 18, 'l2_leaf_reg': 1.3316244126849731e-05, 'min_child_samples': 62, 'max_bin': 469, 'od_type': 'IncToDec', 'task_type': 'GPU', 'loss_function': 'MAE', 'eval_metric': 'MAE'}. Best is trial 121 with value: 5.343377942063889.\u001b[0m\n"
     ]
    },
    {
     "name": "stdout",
     "output_type": "stream",
     "text": [
      "MAE of Train: 5.477243770406125\n",
      "MAE of Validation: 5.471706011073661\n"
     ]
    },
    {
     "name": "stderr",
     "output_type": "stream",
     "text": [
      "\u001b[32m[I 2022-03-27 04:30:49,864]\u001b[0m Trial 550 finished with value: 5.536929776270377 and parameters: {'random_state': 519632, 'learning_rate': 0.004177961201381569, 'bagging_temperature': 1.1729740930540695, 'max_depth': 9, 'random_strength': 21, 'l2_leaf_reg': 1.291468438022976e-05, 'min_child_samples': 48, 'max_bin': 478, 'od_type': 'IncToDec', 'task_type': 'GPU', 'loss_function': 'MAE', 'eval_metric': 'MAE'}. Best is trial 121 with value: 5.343377942063889.\u001b[0m\n"
     ]
    },
    {
     "name": "stdout",
     "output_type": "stream",
     "text": [
      "MAE of Train: 5.542595126355716\n",
      "MAE of Validation: 5.536929776270377\n"
     ]
    },
    {
     "name": "stderr",
     "output_type": "stream",
     "text": [
      "\u001b[32m[I 2022-03-27 04:30:54,301]\u001b[0m Trial 551 finished with value: 5.3492071873351925 and parameters: {'random_state': 519632, 'learning_rate': 0.09431171755933444, 'bagging_temperature': 1.3709853548558866, 'max_depth': 9, 'random_strength': 20, 'l2_leaf_reg': 1.3993564435306351e-05, 'min_child_samples': 52, 'max_bin': 308, 'od_type': 'IncToDec', 'task_type': 'GPU', 'loss_function': 'MAE', 'eval_metric': 'MAE'}. Best is trial 121 with value: 5.343377942063889.\u001b[0m\n"
     ]
    },
    {
     "name": "stdout",
     "output_type": "stream",
     "text": [
      "MAE of Train: 5.152221623370085\n",
      "MAE of Validation: 5.3492071873351925\n"
     ]
    },
    {
     "name": "stderr",
     "output_type": "stream",
     "text": [
      "\u001b[32m[I 2022-03-27 04:30:58,953]\u001b[0m Trial 552 finished with value: 5.347735791211599 and parameters: {'random_state': 519632, 'learning_rate': 0.11478319984298675, 'bagging_temperature': 0.301922371561915, 'max_depth': 9, 'random_strength': 20, 'l2_leaf_reg': 1.2300565740982286e-05, 'min_child_samples': 56, 'max_bin': 444, 'od_type': 'IncToDec', 'task_type': 'GPU', 'loss_function': 'MAE', 'eval_metric': 'MAE'}. Best is trial 121 with value: 5.343377942063889.\u001b[0m\n"
     ]
    },
    {
     "name": "stdout",
     "output_type": "stream",
     "text": [
      "MAE of Train: 5.15748781090011\n",
      "MAE of Validation: 5.347735791211599\n"
     ]
    },
    {
     "name": "stderr",
     "output_type": "stream",
     "text": [
      "\u001b[32m[I 2022-03-27 04:31:03,161]\u001b[0m Trial 553 finished with value: 5.353139018308174 and parameters: {'random_state': 519632, 'learning_rate': 0.08030947879091674, 'bagging_temperature': 1.6895483248983876, 'max_depth': 9, 'random_strength': 17, 'l2_leaf_reg': 1.2728595436144585e-05, 'min_child_samples': 69, 'max_bin': 474, 'od_type': 'IncToDec', 'task_type': 'GPU', 'loss_function': 'MAE', 'eval_metric': 'MAE'}. Best is trial 121 with value: 5.343377942063889.\u001b[0m\n"
     ]
    },
    {
     "name": "stdout",
     "output_type": "stream",
     "text": [
      "MAE of Train: 5.202923882146914\n",
      "MAE of Validation: 5.353139018308174\n"
     ]
    },
    {
     "name": "stderr",
     "output_type": "stream",
     "text": [
      "\u001b[32m[I 2022-03-27 04:31:06,025]\u001b[0m Trial 554 finished with value: 5.355269759377995 and parameters: {'random_state': 519632, 'learning_rate': 0.15798184455628808, 'bagging_temperature': 1.157743402367303, 'max_depth': 9, 'random_strength': 17, 'l2_leaf_reg': 1.178653379591308e-05, 'min_child_samples': 71, 'max_bin': 464, 'od_type': 'IncToDec', 'task_type': 'GPU', 'loss_function': 'MAE', 'eval_metric': 'MAE'}. Best is trial 121 with value: 5.343377942063889.\u001b[0m\n"
     ]
    },
    {
     "name": "stdout",
     "output_type": "stream",
     "text": [
      "MAE of Train: 5.178685374260856\n",
      "MAE of Validation: 5.355269759377995\n"
     ]
    },
    {
     "name": "stderr",
     "output_type": "stream",
     "text": [
      "\u001b[32m[I 2022-03-27 04:31:11,655]\u001b[0m Trial 555 finished with value: 5.349822182596305 and parameters: {'random_state': 519632, 'learning_rate': 0.07375769780821223, 'bagging_temperature': 0.7555016607084075, 'max_depth': 9, 'random_strength': 22, 'l2_leaf_reg': 1.3266863551700374e-05, 'min_child_samples': 66, 'max_bin': 458, 'od_type': 'IncToDec', 'task_type': 'GPU', 'loss_function': 'MAE', 'eval_metric': 'MAE'}. Best is trial 121 with value: 5.343377942063889.\u001b[0m\n"
     ]
    },
    {
     "name": "stdout",
     "output_type": "stream",
     "text": [
      "MAE of Train: 5.177194057161362\n",
      "MAE of Validation: 5.349822182596305\n"
     ]
    },
    {
     "name": "stderr",
     "output_type": "stream",
     "text": [
      "\u001b[32m[I 2022-03-27 04:31:15,929]\u001b[0m Trial 556 finished with value: 5.35084737634105 and parameters: {'random_state': 519632, 'learning_rate': 0.08986811010099213, 'bagging_temperature': 1.4341718037392606, 'max_depth': 9, 'random_strength': 19, 'l2_leaf_reg': 1.2122182314156636e-05, 'min_child_samples': 53, 'max_bin': 452, 'od_type': 'IncToDec', 'task_type': 'GPU', 'loss_function': 'MAE', 'eval_metric': 'MAE'}. Best is trial 121 with value: 5.343377942063889.\u001b[0m\n"
     ]
    },
    {
     "name": "stdout",
     "output_type": "stream",
     "text": [
      "MAE of Train: 5.180044103846592\n",
      "MAE of Validation: 5.35084737634105\n"
     ]
    },
    {
     "name": "stderr",
     "output_type": "stream",
     "text": [
      "\u001b[32m[I 2022-03-27 04:31:20,271]\u001b[0m Trial 557 finished with value: 5.352377194726916 and parameters: {'random_state': 519632, 'learning_rate': 0.10515600681302252, 'bagging_temperature': 0.9234514364549109, 'max_depth': 9, 'random_strength': 16, 'l2_leaf_reg': 1.3844010157027837e-05, 'min_child_samples': 50, 'max_bin': 475, 'od_type': 'IncToDec', 'task_type': 'GPU', 'loss_function': 'MAE', 'eval_metric': 'MAE'}. Best is trial 121 with value: 5.343377942063889.\u001b[0m\n"
     ]
    },
    {
     "name": "stdout",
     "output_type": "stream",
     "text": [
      "MAE of Train: 5.1657533116664816\n",
      "MAE of Validation: 5.352377194726916\n"
     ]
    },
    {
     "name": "stderr",
     "output_type": "stream",
     "text": [
      "\u001b[32m[I 2022-03-27 04:31:23,828]\u001b[0m Trial 558 finished with value: 5.410419013737375 and parameters: {'random_state': 519632, 'learning_rate': 0.06793180706755557, 'bagging_temperature': 0.466031885180204, 'max_depth': 4, 'random_strength': 24, 'l2_leaf_reg': 1.1383050848403476e-05, 'min_child_samples': 46, 'max_bin': 466, 'od_type': 'IncToDec', 'task_type': 'GPU', 'loss_function': 'MAE', 'eval_metric': 'MAE'}. Best is trial 121 with value: 5.343377942063889.\u001b[0m\n"
     ]
    },
    {
     "name": "stdout",
     "output_type": "stream",
     "text": [
      "MAE of Train: 5.400903247175466\n",
      "MAE of Validation: 5.410419013737375\n"
     ]
    },
    {
     "name": "stderr",
     "output_type": "stream",
     "text": [
      "\u001b[32m[I 2022-03-27 04:31:28,056]\u001b[0m Trial 559 finished with value: 5.349042099530902 and parameters: {'random_state': 519632, 'learning_rate': 0.08435950065629581, 'bagging_temperature': 2.0459212069891666, 'max_depth': 9, 'random_strength': 14, 'l2_leaf_reg': 1.0468695350881138e-05, 'min_child_samples': 61, 'max_bin': 479, 'od_type': 'IncToDec', 'task_type': 'GPU', 'loss_function': 'MAE', 'eval_metric': 'MAE'}. Best is trial 121 with value: 5.343377942063889.\u001b[0m\n"
     ]
    },
    {
     "name": "stdout",
     "output_type": "stream",
     "text": [
      "MAE of Train: 5.183768191847421\n",
      "MAE of Validation: 5.349042099530902\n"
     ]
    },
    {
     "name": "stderr",
     "output_type": "stream",
     "text": [
      "\u001b[32m[I 2022-03-27 04:31:32,541]\u001b[0m Trial 560 finished with value: 5.359858090308485 and parameters: {'random_state': 519632, 'learning_rate': 0.07274508965457957, 'bagging_temperature': 1.0748232424151318, 'max_depth': 7, 'random_strength': 26, 'l2_leaf_reg': 1.2820253030968639e-05, 'min_child_samples': 64, 'max_bin': 485, 'od_type': 'IncToDec', 'task_type': 'GPU', 'loss_function': 'MAE', 'eval_metric': 'MAE'}. Best is trial 121 with value: 5.343377942063889.\u001b[0m\n"
     ]
    },
    {
     "name": "stdout",
     "output_type": "stream",
     "text": [
      "MAE of Train: 5.272180680700969\n",
      "MAE of Validation: 5.359858090308485\n"
     ]
    },
    {
     "name": "stderr",
     "output_type": "stream",
     "text": [
      "\u001b[32m[I 2022-03-27 04:31:38,337]\u001b[0m Trial 561 finished with value: 5.372526262793983 and parameters: {'random_state': 519632, 'learning_rate': 0.06234788861164838, 'bagging_temperature': 12.506501760434642, 'max_depth': 9, 'random_strength': 18, 'l2_leaf_reg': 1.018921674632214e-05, 'min_child_samples': 57, 'max_bin': 473, 'od_type': 'IncToDec', 'task_type': 'GPU', 'loss_function': 'MAE', 'eval_metric': 'MAE'}. Best is trial 121 with value: 5.343377942063889.\u001b[0m\n"
     ]
    },
    {
     "name": "stdout",
     "output_type": "stream",
     "text": [
      "MAE of Train: 5.173315828140915\n",
      "MAE of Validation: 5.372526262793983\n"
     ]
    },
    {
     "name": "stderr",
     "output_type": "stream",
     "text": [
      "\u001b[32m[I 2022-03-27 04:31:42,729]\u001b[0m Trial 562 finished with value: 5.350609240786335 and parameters: {'random_state': 519632, 'learning_rate': 0.09407296006535709, 'bagging_temperature': 1.599659051192304, 'max_depth': 9, 'random_strength': 22, 'l2_leaf_reg': 9.537792733257776e-06, 'min_child_samples': 43, 'max_bin': 429, 'od_type': 'IncToDec', 'task_type': 'GPU', 'loss_function': 'MAE', 'eval_metric': 'MAE'}. Best is trial 121 with value: 5.343377942063889.\u001b[0m\n"
     ]
    },
    {
     "name": "stdout",
     "output_type": "stream",
     "text": [
      "MAE of Train: 5.156647910501277\n",
      "MAE of Validation: 5.350609240786335\n"
     ]
    },
    {
     "name": "stderr",
     "output_type": "stream",
     "text": [
      "\u001b[32m[I 2022-03-27 04:31:47,735]\u001b[0m Trial 563 finished with value: 5.348205855781625 and parameters: {'random_state': 519632, 'learning_rate': 0.08041548869566018, 'bagging_temperature': 1.3078592551011894, 'max_depth': 9, 'random_strength': 25, 'l2_leaf_reg': 1.2332468431047113e-05, 'min_child_samples': 68, 'max_bin': 492, 'od_type': 'IncToDec', 'task_type': 'GPU', 'loss_function': 'MAE', 'eval_metric': 'MAE'}. Best is trial 121 with value: 5.343377942063889.\u001b[0m\n"
     ]
    },
    {
     "name": "stdout",
     "output_type": "stream",
     "text": [
      "MAE of Train: 5.165597263193099\n",
      "MAE of Validation: 5.348205855781625\n"
     ]
    },
    {
     "name": "stderr",
     "output_type": "stream",
     "text": [
      "\u001b[32m[I 2022-03-27 04:31:51,108]\u001b[0m Trial 564 finished with value: 5.354814328273799 and parameters: {'random_state': 519632, 'learning_rate': 0.1216333035169898, 'bagging_temperature': 1.8354593873001281, 'max_depth': 9, 'random_strength': 55, 'l2_leaf_reg': 1.4364247243297602e-05, 'min_child_samples': 48, 'max_bin': 482, 'od_type': 'IncToDec', 'task_type': 'GPU', 'loss_function': 'MAE', 'eval_metric': 'MAE'}. Best is trial 121 with value: 5.343377942063889.\u001b[0m\n"
     ]
    },
    {
     "name": "stdout",
     "output_type": "stream",
     "text": [
      "MAE of Train: 5.172475768948042\n",
      "MAE of Validation: 5.354814328273799\n"
     ]
    },
    {
     "name": "stderr",
     "output_type": "stream",
     "text": [
      "\u001b[32m[I 2022-03-27 04:31:56,720]\u001b[0m Trial 565 finished with value: 5.353933039198765 and parameters: {'random_state': 519632, 'learning_rate': 0.056649531516737524, 'bagging_temperature': 0.6909300596391557, 'max_depth': 9, 'random_strength': 27, 'l2_leaf_reg': 1.1565762395487411e-05, 'min_child_samples': 58, 'max_bin': 468, 'od_type': 'IncToDec', 'task_type': 'GPU', 'loss_function': 'MAE', 'eval_metric': 'MAE'}. Best is trial 121 with value: 5.343377942063889.\u001b[0m\n"
     ]
    },
    {
     "name": "stdout",
     "output_type": "stream",
     "text": [
      "MAE of Train: 5.231343770906315\n",
      "MAE of Validation: 5.353933039198765\n"
     ]
    },
    {
     "name": "stderr",
     "output_type": "stream",
     "text": [
      "\u001b[32m[I 2022-03-27 04:32:01,965]\u001b[0m Trial 566 finished with value: 5.347655872544859 and parameters: {'random_state': 519632, 'learning_rate': 0.06978238076369107, 'bagging_temperature': 0.8943248488743925, 'max_depth': 9, 'random_strength': 2, 'l2_leaf_reg': 1.0949652334653346e-05, 'min_child_samples': 66, 'max_bin': 461, 'od_type': 'IncToDec', 'task_type': 'GPU', 'loss_function': 'MAE', 'eval_metric': 'MAE'}. Best is trial 121 with value: 5.343377942063889.\u001b[0m\n"
     ]
    },
    {
     "name": "stdout",
     "output_type": "stream",
     "text": [
      "MAE of Train: 5.196424490359022\n",
      "MAE of Validation: 5.347655872544859\n"
     ]
    },
    {
     "name": "stderr",
     "output_type": "stream",
     "text": [
      "\u001b[32m[I 2022-03-27 04:32:06,296]\u001b[0m Trial 567 finished with value: 5.351849913683648 and parameters: {'random_state': 519632, 'learning_rate': 0.0953479724973615, 'bagging_temperature': 1.2451779069796625, 'max_depth': 9, 'random_strength': 15, 'l2_leaf_reg': 1.3240276883954155e-05, 'min_child_samples': 45, 'max_bin': 448, 'od_type': 'IncToDec', 'task_type': 'GPU', 'loss_function': 'MAE', 'eval_metric': 'MAE'}. Best is trial 121 with value: 5.343377942063889.\u001b[0m\n"
     ]
    },
    {
     "name": "stdout",
     "output_type": "stream",
     "text": [
      "MAE of Train: 5.168460226072474\n",
      "MAE of Validation: 5.351849913683648\n"
     ]
    },
    {
     "name": "stderr",
     "output_type": "stream",
     "text": [
      "\u001b[32m[I 2022-03-27 04:32:11,222]\u001b[0m Trial 568 finished with value: 5.349444179883521 and parameters: {'random_state': 519632, 'learning_rate': 0.06394170862893107, 'bagging_temperature': 1.558177451351716, 'max_depth': 9, 'random_strength': 12, 'l2_leaf_reg': 1.0327176624933755e-05, 'min_child_samples': 63, 'max_bin': 480, 'od_type': 'IncToDec', 'task_type': 'GPU', 'loss_function': 'MAE', 'eval_metric': 'MAE'}. Best is trial 121 with value: 5.343377942063889.\u001b[0m\n"
     ]
    },
    {
     "name": "stdout",
     "output_type": "stream",
     "text": [
      "MAE of Train: 5.203209828668165\n",
      "MAE of Validation: 5.349444179883521\n"
     ]
    },
    {
     "name": "stderr",
     "output_type": "stream",
     "text": [
      "\u001b[32m[I 2022-03-27 04:32:16,684]\u001b[0m Trial 569 finished with value: 5.347539913523136 and parameters: {'random_state': 519632, 'learning_rate': 0.07833255337510873, 'bagging_temperature': 1.066256342747699, 'max_depth': 9, 'random_strength': 20, 'l2_leaf_reg': 9.201596733273116e-06, 'min_child_samples': 71, 'max_bin': 489, 'od_type': 'IncToDec', 'task_type': 'GPU', 'loss_function': 'MAE', 'eval_metric': 'MAE'}. Best is trial 121 with value: 5.343377942063889.\u001b[0m\n"
     ]
    },
    {
     "name": "stdout",
     "output_type": "stream",
     "text": [
      "MAE of Train: 5.153884223289326\n",
      "MAE of Validation: 5.347539913523136\n"
     ]
    },
    {
     "name": "stderr",
     "output_type": "stream",
     "text": [
      "\u001b[32m[I 2022-03-27 04:32:22,421]\u001b[0m Trial 570 finished with value: 5.352616391376595 and parameters: {'random_state': 519632, 'learning_rate': 0.051838130231361294, 'bagging_temperature': 0.5895564629127042, 'max_depth': 9, 'random_strength': 8, 'l2_leaf_reg': 1.1850702678480384e-05, 'min_child_samples': 54, 'max_bin': 472, 'od_type': 'IncToDec', 'task_type': 'GPU', 'loss_function': 'MAE', 'eval_metric': 'MAE'}. Best is trial 121 with value: 5.343377942063889.\u001b[0m\n"
     ]
    },
    {
     "name": "stdout",
     "output_type": "stream",
     "text": [
      "MAE of Train: 5.228176828534068\n",
      "MAE of Validation: 5.352616391376595\n"
     ]
    },
    {
     "name": "stderr",
     "output_type": "stream",
     "text": [
      "\u001b[32m[I 2022-03-27 04:32:26,064]\u001b[0m Trial 571 finished with value: 5.354119211549701 and parameters: {'random_state': 519632, 'learning_rate': 0.13277552780620605, 'bagging_temperature': 1.322827202608648, 'max_depth': 8, 'random_strength': 28, 'l2_leaf_reg': 1.1135132065318484e-05, 'min_child_samples': 50, 'max_bin': 500, 'od_type': 'IncToDec', 'task_type': 'GPU', 'loss_function': 'MAE', 'eval_metric': 'MAE'}. Best is trial 121 with value: 5.343377942063889.\u001b[0m\n"
     ]
    },
    {
     "name": "stdout",
     "output_type": "stream",
     "text": [
      "MAE of Train: 5.17653432347427\n",
      "MAE of Validation: 5.354119211549701\n"
     ]
    },
    {
     "name": "stderr",
     "output_type": "stream",
     "text": [
      "\u001b[32m[I 2022-03-27 04:32:30,158]\u001b[0m Trial 572 finished with value: 5.352172118723404 and parameters: {'random_state': 519632, 'learning_rate': 0.10029988276623301, 'bagging_temperature': 2.107825737999027, 'max_depth': 9, 'random_strength': 23, 'l2_leaf_reg': 9.66930393266779e-06, 'min_child_samples': 60, 'max_bin': 483, 'od_type': 'IncToDec', 'task_type': 'GPU', 'loss_function': 'MAE', 'eval_metric': 'MAE'}. Best is trial 121 with value: 5.343377942063889.\u001b[0m\n"
     ]
    },
    {
     "name": "stdout",
     "output_type": "stream",
     "text": [
      "MAE of Train: 5.162117389255462\n",
      "MAE of Validation: 5.352172118723404\n"
     ]
    },
    {
     "name": "stderr",
     "output_type": "stream",
     "text": [
      "\u001b[32m[I 2022-03-27 04:32:35,235]\u001b[0m Trial 573 finished with value: 5.351289956632835 and parameters: {'random_state': 519632, 'learning_rate': 0.06160525375399636, 'bagging_temperature': 1.6851003529168103, 'max_depth': 9, 'random_strength': 25, 'l2_leaf_reg': 1.2532045990508405e-05, 'min_child_samples': 47, 'max_bin': 455, 'od_type': 'IncToDec', 'task_type': 'GPU', 'loss_function': 'MAE', 'eval_metric': 'MAE'}. Best is trial 121 with value: 5.343377942063889.\u001b[0m\n"
     ]
    },
    {
     "name": "stdout",
     "output_type": "stream",
     "text": [
      "MAE of Train: 5.206299150398371\n",
      "MAE of Validation: 5.351289956632835\n"
     ]
    },
    {
     "name": "stderr",
     "output_type": "stream",
     "text": [
      "\u001b[32m[I 2022-03-27 04:32:38,039]\u001b[0m Trial 574 finished with value: 5.448129446261468 and parameters: {'random_state': 519632, 'learning_rate': 0.0770441692695941, 'bagging_temperature': 1.0388390971271506, 'max_depth': 3, 'random_strength': 5, 'l2_leaf_reg': 1.0048125334170745e-05, 'min_child_samples': 68, 'max_bin': 494, 'od_type': 'IncToDec', 'task_type': 'GPU', 'loss_function': 'MAE', 'eval_metric': 'MAE'}. Best is trial 121 with value: 5.343377942063889.\u001b[0m\n"
     ]
    },
    {
     "name": "stdout",
     "output_type": "stream",
     "text": [
      "MAE of Train: 5.459536083561311\n",
      "MAE of Validation: 5.448129446261468\n"
     ]
    },
    {
     "name": "stderr",
     "output_type": "stream",
     "text": [
      "\u001b[32m[I 2022-03-27 04:32:43,693]\u001b[0m Trial 575 finished with value: 5.356084528388065 and parameters: {'random_state': 519632, 'learning_rate': 0.04507665024503846, 'bagging_temperature': 0.8274719443680214, 'max_depth': 9, 'random_strength': 15, 'l2_leaf_reg': 1.0646425951337376e-05, 'min_child_samples': 52, 'max_bin': 441, 'od_type': 'IncToDec', 'task_type': 'GPU', 'loss_function': 'MAE', 'eval_metric': 'MAE'}. Best is trial 121 with value: 5.343377942063889.\u001b[0m\n"
     ]
    },
    {
     "name": "stdout",
     "output_type": "stream",
     "text": [
      "MAE of Train: 5.254381303908448\n",
      "MAE of Validation: 5.356084528388065\n"
     ]
    },
    {
     "name": "stderr",
     "output_type": "stream",
     "text": [
      "\u001b[32m[I 2022-03-27 04:32:48,705]\u001b[0m Trial 576 finished with value: 5.354082120624293 and parameters: {'random_state': 519632, 'learning_rate': 0.08516335180041218, 'bagging_temperature': 2.598223697007034, 'max_depth': 8, 'random_strength': 11, 'l2_leaf_reg': 1.3590925857162696e-05, 'min_child_samples': 65, 'max_bin': 467, 'od_type': 'IncToDec', 'task_type': 'GPU', 'loss_function': 'MAE', 'eval_metric': 'MAE'}. Best is trial 121 with value: 5.343377942063889.\u001b[0m\n"
     ]
    },
    {
     "name": "stdout",
     "output_type": "stream",
     "text": [
      "MAE of Train: 5.190989059980798\n",
      "MAE of Validation: 5.354082120624293\n"
     ]
    },
    {
     "name": "stderr",
     "output_type": "stream",
     "text": [
      "\u001b[32m[I 2022-03-27 04:32:54,494]\u001b[0m Trial 577 finished with value: 5.349078915116392 and parameters: {'random_state': 519632, 'learning_rate': 0.06830660895957932, 'bagging_temperature': 1.3906633331916853, 'max_depth': 9, 'random_strength': 19, 'l2_leaf_reg': 8.787379887821315e-06, 'min_child_samples': 69, 'max_bin': 477, 'od_type': 'IncToDec', 'task_type': 'GPU', 'loss_function': 'MAE', 'eval_metric': 'MAE'}. Best is trial 121 with value: 5.343377942063889.\u001b[0m\n"
     ]
    },
    {
     "name": "stdout",
     "output_type": "stream",
     "text": [
      "MAE of Train: 5.161571564127124\n",
      "MAE of Validation: 5.349078915116392\n"
     ]
    },
    {
     "name": "stderr",
     "output_type": "stream",
     "text": [
      "\u001b[32m[I 2022-03-27 04:33:00,207]\u001b[0m Trial 578 finished with value: 5.349083840784462 and parameters: {'random_state': 519632, 'learning_rate': 0.05504221101453204, 'bagging_temperature': 1.1820314688492635, 'max_depth': 9, 'random_strength': 23, 'l2_leaf_reg': 1.1556345073906889e-05, 'min_child_samples': 97, 'max_bin': 489, 'od_type': 'IncToDec', 'task_type': 'GPU', 'loss_function': 'MAE', 'eval_metric': 'MAE'}. Best is trial 121 with value: 5.343377942063889.\u001b[0m\n"
     ]
    },
    {
     "name": "stdout",
     "output_type": "stream",
     "text": [
      "MAE of Train: 5.213485774243506\n",
      "MAE of Validation: 5.349083840784462\n"
     ]
    },
    {
     "name": "stderr",
     "output_type": "stream",
     "text": [
      "\u001b[32m[I 2022-03-27 04:33:03,618]\u001b[0m Trial 579 finished with value: 5.358748453974753 and parameters: {'random_state': 519632, 'learning_rate': 0.11553881274441118, 'bagging_temperature': 1.6236370550269232, 'max_depth': 9, 'random_strength': 29, 'l2_leaf_reg': 9.533494284456376e-06, 'min_child_samples': 55, 'max_bin': 475, 'od_type': 'IncToDec', 'task_type': 'GPU', 'loss_function': 'MAE', 'eval_metric': 'MAE'}. Best is trial 121 with value: 5.343377942063889.\u001b[0m\n"
     ]
    },
    {
     "name": "stdout",
     "output_type": "stream",
     "text": [
      "MAE of Train: 5.183058760884858\n",
      "MAE of Validation: 5.358748453974753\n"
     ]
    },
    {
     "name": "stderr",
     "output_type": "stream",
     "text": [
      "\u001b[32m[I 2022-03-27 04:33:08,553]\u001b[0m Trial 580 finished with value: 5.351079659663058 and parameters: {'random_state': 519632, 'learning_rate': 0.0732866492503039, 'bagging_temperature': 2.018575646597816, 'max_depth': 9, 'random_strength': 13, 'l2_leaf_reg': 1.4473270095407372e-05, 'min_child_samples': 62, 'max_bin': 483, 'od_type': 'IncToDec', 'task_type': 'GPU', 'loss_function': 'MAE', 'eval_metric': 'MAE'}. Best is trial 121 with value: 5.343377942063889.\u001b[0m\n"
     ]
    },
    {
     "name": "stdout",
     "output_type": "stream",
     "text": [
      "MAE of Train: 5.174123925381672\n",
      "MAE of Validation: 5.351079659663058\n"
     ]
    },
    {
     "name": "stderr",
     "output_type": "stream",
     "text": [
      "\u001b[32m[I 2022-03-27 04:33:14,195]\u001b[0m Trial 581 finished with value: 6.067204140998175 and parameters: {'random_state': 519632, 'learning_rate': 0.001984570502865388, 'bagging_temperature': 3.2329559485983874, 'max_depth': 9, 'random_strength': 9, 'l2_leaf_reg': 1.0937941005511353e-05, 'min_child_samples': 50, 'max_bin': 347, 'od_type': 'IncToDec', 'task_type': 'GPU', 'loss_function': 'MAE', 'eval_metric': 'MAE'}. Best is trial 121 with value: 5.343377942063889.\u001b[0m\n"
     ]
    },
    {
     "name": "stdout",
     "output_type": "stream",
     "text": [
      "MAE of Train: 6.064353830011814\n",
      "MAE of Validation: 6.067204140998175\n"
     ]
    },
    {
     "name": "stderr",
     "output_type": "stream",
     "text": [
      "\u001b[32m[I 2022-03-27 04:33:18,931]\u001b[0m Trial 582 finished with value: 5.344961568141242 and parameters: {'random_state': 519632, 'learning_rate': 0.09073367466195953, 'bagging_temperature': 0.9405088681966198, 'max_depth': 9, 'random_strength': 27, 'l2_leaf_reg': 1.2800324673419917e-05, 'min_child_samples': 72, 'max_bin': 420, 'od_type': 'IncToDec', 'task_type': 'GPU', 'loss_function': 'MAE', 'eval_metric': 'MAE'}. Best is trial 121 with value: 5.343377942063889.\u001b[0m\n"
     ]
    },
    {
     "name": "stdout",
     "output_type": "stream",
     "text": [
      "MAE of Train: 5.169198169944383\n",
      "MAE of Validation: 5.344961568141242\n"
     ]
    },
    {
     "name": "stderr",
     "output_type": "stream",
     "text": [
      "\u001b[32m[I 2022-03-27 04:33:22,922]\u001b[0m Trial 583 finished with value: 5.351250193101015 and parameters: {'random_state': 519632, 'learning_rate': 0.10793620758631181, 'bagging_temperature': 0.7294727148593029, 'max_depth': 9, 'random_strength': 26, 'l2_leaf_reg': 1.2745993229504038e-05, 'min_child_samples': 73, 'max_bin': 424, 'od_type': 'IncToDec', 'task_type': 'GPU', 'loss_function': 'MAE', 'eval_metric': 'MAE'}. Best is trial 121 with value: 5.343377942063889.\u001b[0m\n"
     ]
    },
    {
     "name": "stdout",
     "output_type": "stream",
     "text": [
      "MAE of Train: 5.1901946205758165\n",
      "MAE of Validation: 5.351250193101015\n"
     ]
    },
    {
     "name": "stderr",
     "output_type": "stream",
     "text": [
      "\u001b[32m[I 2022-03-27 04:33:26,663]\u001b[0m Trial 584 finished with value: 5.355339869843512 and parameters: {'random_state': 519632, 'learning_rate': 0.13842980790509107, 'bagging_temperature': 0.8304362275164049, 'max_depth': 9, 'random_strength': 27, 'l2_leaf_reg': 1.374053486382805e-05, 'min_child_samples': 72, 'max_bin': 449, 'od_type': 'IncToDec', 'task_type': 'GPU', 'loss_function': 'MAE', 'eval_metric': 'MAE'}. Best is trial 121 with value: 5.343377942063889.\u001b[0m\n"
     ]
    },
    {
     "name": "stdout",
     "output_type": "stream",
     "text": [
      "MAE of Train: 5.146984347093867\n",
      "MAE of Validation: 5.355339869843512\n"
     ]
    },
    {
     "name": "stderr",
     "output_type": "stream",
     "text": [
      "\u001b[32m[I 2022-03-27 04:33:30,804]\u001b[0m Trial 585 finished with value: 5.349906685439703 and parameters: {'random_state': 519632, 'learning_rate': 0.09778315229423694, 'bagging_temperature': 0.5810949333900667, 'max_depth': 9, 'random_strength': 30, 'l2_leaf_reg': 1.306394943582357e-05, 'min_child_samples': 72, 'max_bin': 440, 'od_type': 'IncToDec', 'task_type': 'GPU', 'loss_function': 'MAE', 'eval_metric': 'MAE'}. Best is trial 121 with value: 5.343377942063889.\u001b[0m\n"
     ]
    },
    {
     "name": "stdout",
     "output_type": "stream",
     "text": [
      "MAE of Train: 5.182059794780071\n",
      "MAE of Validation: 5.349906685439703\n"
     ]
    },
    {
     "name": "stderr",
     "output_type": "stream",
     "text": [
      "\u001b[32m[I 2022-03-27 04:33:36,554]\u001b[0m Trial 586 finished with value: 5.3532657146706955 and parameters: {'random_state': 519632, 'learning_rate': 0.08358027254214094, 'bagging_temperature': 0.14621074792187908, 'max_depth': 9, 'random_strength': 28, 'l2_leaf_reg': 1.212065534937032e-05, 'min_child_samples': 70, 'max_bin': 419, 'od_type': 'IncToDec', 'task_type': 'GPU', 'loss_function': 'MAE', 'eval_metric': 'MAE'}. Best is trial 121 with value: 5.343377942063889.\u001b[0m\n"
     ]
    },
    {
     "name": "stdout",
     "output_type": "stream",
     "text": [
      "MAE of Train: 5.171278309566735\n",
      "MAE of Validation: 5.3532657146706955\n"
     ]
    },
    {
     "name": "stderr",
     "output_type": "stream",
     "text": [
      "\u001b[32m[I 2022-03-27 04:33:40,098]\u001b[0m Trial 587 finished with value: 5.349081272186373 and parameters: {'random_state': 519632, 'learning_rate': 0.10487255227553896, 'bagging_temperature': 0.9402199823468191, 'max_depth': 9, 'random_strength': 23, 'l2_leaf_reg': 1.3446530511935827e-05, 'min_child_samples': 75, 'max_bin': 432, 'od_type': 'IncToDec', 'task_type': 'GPU', 'loss_function': 'MAE', 'eval_metric': 'MAE'}. Best is trial 121 with value: 5.343377942063889.\u001b[0m\n"
     ]
    },
    {
     "name": "stdout",
     "output_type": "stream",
     "text": [
      "MAE of Train: 5.201345997114017\n",
      "MAE of Validation: 5.349081272186373\n"
     ]
    },
    {
     "name": "stderr",
     "output_type": "stream",
     "text": [
      "\u001b[32m[I 2022-03-27 04:33:44,294]\u001b[0m Trial 588 finished with value: 5.351737078483232 and parameters: {'random_state': 519632, 'learning_rate': 0.09403930453309402, 'bagging_temperature': 0.9758991236950224, 'max_depth': 9, 'random_strength': 26, 'l2_leaf_reg': 1.2349975862088945e-05, 'min_child_samples': 71, 'max_bin': 460, 'od_type': 'IncToDec', 'task_type': 'GPU', 'loss_function': 'MAE', 'eval_metric': 'MAE'}. Best is trial 121 with value: 5.343377942063889.\u001b[0m\n"
     ]
    },
    {
     "name": "stdout",
     "output_type": "stream",
     "text": [
      "MAE of Train: 5.173911310890677\n",
      "MAE of Validation: 5.351737078483232\n"
     ]
    },
    {
     "name": "stderr",
     "output_type": "stream",
     "text": [
      "\u001b[32m[I 2022-03-27 04:33:48,286]\u001b[0m Trial 589 finished with value: 5.3610162768494956 and parameters: {'random_state': 519632, 'learning_rate': 0.11998773185000079, 'bagging_temperature': 0.7013047597949325, 'max_depth': 6, 'random_strength': 25, 'l2_leaf_reg': 1.4786330598458982e-05, 'min_child_samples': 43, 'max_bin': 454, 'od_type': 'IncToDec', 'task_type': 'GPU', 'loss_function': 'MAE', 'eval_metric': 'MAE'}. Best is trial 121 with value: 5.343377942063889.\u001b[0m\n"
     ]
    },
    {
     "name": "stdout",
     "output_type": "stream",
     "text": [
      "MAE of Train: 5.275201444951176\n",
      "MAE of Validation: 5.3610162768494956\n"
     ]
    },
    {
     "name": "stderr",
     "output_type": "stream",
     "text": [
      "\u001b[32m[I 2022-03-27 04:33:52,950]\u001b[0m Trial 590 finished with value: 5.3501355278959 and parameters: {'random_state': 519632, 'learning_rate': 0.07974265412639657, 'bagging_temperature': 1.1262402380670242, 'max_depth': 9, 'random_strength': 21, 'l2_leaf_reg': 1.1866410954224926e-05, 'min_child_samples': 48, 'max_bin': 392, 'od_type': 'IncToDec', 'task_type': 'GPU', 'loss_function': 'MAE', 'eval_metric': 'MAE'}. Best is trial 121 with value: 5.343377942063889.\u001b[0m\n"
     ]
    },
    {
     "name": "stdout",
     "output_type": "stream",
     "text": [
      "MAE of Train: 5.184322208402977\n",
      "MAE of Validation: 5.3501355278959\n"
     ]
    },
    {
     "name": "stderr",
     "output_type": "stream",
     "text": [
      "\u001b[32m[I 2022-03-27 04:33:57,236]\u001b[0m Trial 591 finished with value: 5.350635372886943 and parameters: {'random_state': 519632, 'learning_rate': 0.0888996460977499, 'bagging_temperature': 0.8311002693352126, 'max_depth': 9, 'random_strength': 31, 'l2_leaf_reg': 1.2885995981485095e-05, 'min_child_samples': 46, 'max_bin': 465, 'od_type': 'IncToDec', 'task_type': 'GPU', 'loss_function': 'MAE', 'eval_metric': 'MAE'}. Best is trial 121 with value: 5.343377942063889.\u001b[0m\n"
     ]
    },
    {
     "name": "stdout",
     "output_type": "stream",
     "text": [
      "MAE of Train: 5.196514637793407\n",
      "MAE of Validation: 5.350635372886943\n"
     ]
    },
    {
     "name": "stderr",
     "output_type": "stream",
     "text": [
      "\u001b[32m[I 2022-03-27 04:34:02,192]\u001b[0m Trial 592 finished with value: 5.378740697423428 and parameters: {'random_state': 519632, 'learning_rate': 0.0713821015998406, 'bagging_temperature': 33.4955664759973, 'max_depth': 9, 'random_strength': 29, 'l2_leaf_reg': 1.4067843649632322e-05, 'min_child_samples': 73, 'max_bin': 360, 'od_type': 'IncToDec', 'task_type': 'GPU', 'loss_function': 'MAE', 'eval_metric': 'MAE'}. Best is trial 121 with value: 5.343377942063889.\u001b[0m\n"
     ]
    },
    {
     "name": "stdout",
     "output_type": "stream",
     "text": [
      "MAE of Train: 5.2448984061841895\n",
      "MAE of Validation: 5.378740697423428\n"
     ]
    },
    {
     "name": "stderr",
     "output_type": "stream",
     "text": [
      "\u001b[32m[I 2022-03-27 04:34:02,702]\u001b[0m Trial 593 finished with value: 13.91781104801239 and parameters: {'random_state': 519632, 'learning_rate': 0.087750298531618, 'bagging_temperature': 75.85852237550525, 'max_depth': 9, 'random_strength': 17, 'l2_leaf_reg': 1.2580707054667478e-05, 'min_child_samples': 52, 'max_bin': 458, 'od_type': 'IncToDec', 'task_type': 'GPU', 'loss_function': 'MAE', 'eval_metric': 'MAE'}. Best is trial 121 with value: 5.343377942063889.\u001b[0m\n"
     ]
    },
    {
     "name": "stdout",
     "output_type": "stream",
     "text": [
      "MAE of Train: 13.91636551368095\n",
      "MAE of Validation: 13.91781104801239\n"
     ]
    },
    {
     "name": "stderr",
     "output_type": "stream",
     "text": [
      "\u001b[32m[I 2022-03-27 04:34:07,899]\u001b[0m Trial 594 finished with value: 5.34919545996322 and parameters: {'random_state': 519632, 'learning_rate': 0.06475126221591977, 'bagging_temperature': 1.0662222046120398, 'max_depth': 9, 'random_strength': 24, 'l2_leaf_reg': 1.1929382640187571e-05, 'min_child_samples': 58, 'max_bin': 469, 'od_type': 'IncToDec', 'task_type': 'GPU', 'loss_function': 'MAE', 'eval_metric': 'MAE'}. Best is trial 121 with value: 5.343377942063889.\u001b[0m\n"
     ]
    },
    {
     "name": "stdout",
     "output_type": "stream",
     "text": [
      "MAE of Train: 5.206116378393704\n",
      "MAE of Validation: 5.34919545996322\n"
     ]
    },
    {
     "name": "stderr",
     "output_type": "stream",
     "text": [
      "\u001b[32m[I 2022-03-27 04:34:12,199]\u001b[0m Trial 595 finished with value: 5.351264380474293 and parameters: {'random_state': 519632, 'learning_rate': 0.10751986762631474, 'bagging_temperature': 1.2704259808657175, 'max_depth': 9, 'random_strength': 28, 'l2_leaf_reg': 1.3130884138454004e-05, 'min_child_samples': 45, 'max_bin': 443, 'od_type': 'IncToDec', 'task_type': 'GPU', 'loss_function': 'MAE', 'eval_metric': 'MAE'}. Best is trial 121 with value: 5.343377942063889.\u001b[0m\n"
     ]
    },
    {
     "name": "stdout",
     "output_type": "stream",
     "text": [
      "MAE of Train: 5.147896472209343\n",
      "MAE of Validation: 5.351264380474293\n"
     ]
    },
    {
     "name": "stderr",
     "output_type": "stream",
     "text": [
      "\u001b[32m[I 2022-03-27 04:34:16,555]\u001b[0m Trial 596 finished with value: 5.355593751645234 and parameters: {'random_state': 519632, 'learning_rate': 0.07786804940959074, 'bagging_temperature': 0.4970365426220666, 'max_depth': 9, 'random_strength': 21, 'l2_leaf_reg': 1.1415713687878125e-05, 'min_child_samples': 5, 'max_bin': 412, 'od_type': 'IncToDec', 'task_type': 'GPU', 'loss_function': 'MAE', 'eval_metric': 'MAE'}. Best is trial 121 with value: 5.343377942063889.\u001b[0m\n"
     ]
    },
    {
     "name": "stdout",
     "output_type": "stream",
     "text": [
      "MAE of Train: 5.2251005372041055\n",
      "MAE of Validation: 5.355593751645234\n"
     ]
    },
    {
     "name": "stderr",
     "output_type": "stream",
     "text": [
      "\u001b[32m[I 2022-03-27 04:34:18,989]\u001b[0m Trial 597 finished with value: 5.364343637916545 and parameters: {'random_state': 519632, 'learning_rate': 0.17112741493581804, 'bagging_temperature': 0.980102307031009, 'max_depth': 9, 'random_strength': 32, 'l2_leaf_reg': 1.2248802302167483e-05, 'min_child_samples': 49, 'max_bin': 398, 'od_type': 'IncToDec', 'task_type': 'GPU', 'loss_function': 'MAE', 'eval_metric': 'MAE'}. Best is trial 121 with value: 5.343377942063889.\u001b[0m\n"
     ]
    },
    {
     "name": "stdout",
     "output_type": "stream",
     "text": [
      "MAE of Train: 5.219364151103162\n",
      "MAE of Validation: 5.364343637916545\n"
     ]
    },
    {
     "name": "stderr",
     "output_type": "stream",
     "text": [
      "\u001b[32m[I 2022-03-27 04:34:24,457]\u001b[0m Trial 598 finished with value: 5.347751299997202 and parameters: {'random_state': 519632, 'learning_rate': 0.06899062012411042, 'bagging_temperature': 1.3746480300166581, 'max_depth': 9, 'random_strength': 27, 'l2_leaf_reg': 1.3297886461341775e-05, 'min_child_samples': 70, 'max_bin': 285, 'od_type': 'IncToDec', 'task_type': 'GPU', 'loss_function': 'MAE', 'eval_metric': 'MAE'}. Best is trial 121 with value: 5.343377942063889.\u001b[0m\n"
     ]
    },
    {
     "name": "stdout",
     "output_type": "stream",
     "text": [
      "MAE of Train: 5.171421191450049\n",
      "MAE of Validation: 5.347751299997202\n"
     ]
    },
    {
     "name": "stderr",
     "output_type": "stream",
     "text": [
      "\u001b[32m[I 2022-03-27 04:34:28,514]\u001b[0m Trial 599 finished with value: 5.35446991961106 and parameters: {'random_state': 519632, 'learning_rate': 0.08998629046758963, 'bagging_temperature': 0.641459607550979, 'max_depth': 9, 'random_strength': 18, 'l2_leaf_reg': 8.75685083180096e-06, 'min_child_samples': 68, 'max_bin': 449, 'od_type': 'IncToDec', 'task_type': 'GPU', 'loss_function': 'MAE', 'eval_metric': 'MAE'}. Best is trial 121 with value: 5.343377942063889.\u001b[0m\n"
     ]
    },
    {
     "name": "stdout",
     "output_type": "stream",
     "text": [
      "MAE of Train: 5.20936848081693\n",
      "MAE of Validation: 5.35446991961106\n"
     ]
    },
    {
     "name": "stderr",
     "output_type": "stream",
     "text": [
      "\u001b[32m[I 2022-03-27 04:34:33,806]\u001b[0m Trial 600 finished with value: 11.619768164446576 and parameters: {'random_state': 519632, 'learning_rate': 0.000262183164003952, 'bagging_temperature': 1.2100225836217537, 'max_depth': 9, 'random_strength': 25, 'l2_leaf_reg': 1.0825814319363844e-05, 'min_child_samples': 41, 'max_bin': 460, 'od_type': 'IncToDec', 'task_type': 'GPU', 'loss_function': 'MAE', 'eval_metric': 'MAE'}. Best is trial 121 with value: 5.343377942063889.\u001b[0m\n"
     ]
    },
    {
     "name": "stdout",
     "output_type": "stream",
     "text": [
      "MAE of Train: 11.618281254373453\n",
      "MAE of Validation: 11.619768164446576\n"
     ]
    },
    {
     "name": "stderr",
     "output_type": "stream",
     "text": [
      "\u001b[32m[I 2022-03-27 04:34:39,711]\u001b[0m Trial 601 finished with value: 5.350275367706196 and parameters: {'random_state': 519632, 'learning_rate': 0.057273313428022804, 'bagging_temperature': 0.853235854024818, 'max_depth': 9, 'random_strength': 22, 'l2_leaf_reg': 1.4091980705420069e-05, 'min_child_samples': 56, 'max_bin': 473, 'od_type': 'IncToDec', 'task_type': 'GPU', 'loss_function': 'MAE', 'eval_metric': 'MAE'}. Best is trial 121 with value: 5.343377942063889.\u001b[0m\n"
     ]
    },
    {
     "name": "stdout",
     "output_type": "stream",
     "text": [
      "MAE of Train: 5.212083555767026\n",
      "MAE of Validation: 5.350275367706196\n"
     ]
    },
    {
     "name": "stderr",
     "output_type": "stream",
     "text": [
      "\u001b[32m[I 2022-03-27 04:34:43,185]\u001b[0m Trial 602 finished with value: 5.348418573927364 and parameters: {'random_state': 519632, 'learning_rate': 0.13084393335119054, 'bagging_temperature': 1.643571247652515, 'max_depth': 9, 'random_strength': 57, 'l2_leaf_reg': 7.954368291642762e-06, 'min_child_samples': 47, 'max_bin': 464, 'od_type': 'IncToDec', 'task_type': 'GPU', 'loss_function': 'MAE', 'eval_metric': 'MAE'}. Best is trial 121 with value: 5.343377942063889.\u001b[0m\n"
     ]
    },
    {
     "name": "stdout",
     "output_type": "stream",
     "text": [
      "MAE of Train: 5.15884766951248\n",
      "MAE of Validation: 5.348418573927364\n"
     ]
    },
    {
     "name": "stderr",
     "output_type": "stream",
     "text": [
      "\u001b[32m[I 2022-03-27 04:34:47,841]\u001b[0m Trial 603 finished with value: 5.354131420222234 and parameters: {'random_state': 519632, 'learning_rate': 0.0779531238882526, 'bagging_temperature': 1.0643971223081292, 'max_depth': 9, 'random_strength': 30, 'l2_leaf_reg': 1.1403635484588936e-05, 'min_child_samples': 54, 'max_bin': 453, 'od_type': 'IncToDec', 'task_type': 'GPU', 'loss_function': 'MAE', 'eval_metric': 'MAE'}. Best is trial 121 with value: 5.343377942063889.\u001b[0m\n"
     ]
    },
    {
     "name": "stdout",
     "output_type": "stream",
     "text": [
      "MAE of Train: 5.198317319558446\n",
      "MAE of Validation: 5.354131420222234\n"
     ]
    },
    {
     "name": "stderr",
     "output_type": "stream",
     "text": [
      "\u001b[32m[I 2022-03-27 04:34:51,861]\u001b[0m Trial 604 finished with value: 5.347724990556558 and parameters: {'random_state': 519632, 'learning_rate': 0.10170714286197574, 'bagging_temperature': 1.9150346949412618, 'max_depth': 9, 'random_strength': 19, 'l2_leaf_reg': 1.0034074276818536e-05, 'min_child_samples': 51, 'max_bin': 478, 'od_type': 'IncToDec', 'task_type': 'GPU', 'loss_function': 'MAE', 'eval_metric': 'MAE'}. Best is trial 121 with value: 5.343377942063889.\u001b[0m\n"
     ]
    },
    {
     "name": "stdout",
     "output_type": "stream",
     "text": [
      "MAE of Train: 5.1667483012467965\n",
      "MAE of Validation: 5.347724990556558\n"
     ]
    },
    {
     "name": "stderr",
     "output_type": "stream",
     "text": [
      "\u001b[32m[I 2022-03-27 04:34:57,394]\u001b[0m Trial 605 finished with value: 5.34807613367447 and parameters: {'random_state': 519632, 'learning_rate': 0.06388260868576214, 'bagging_temperature': 1.4520829387968937, 'max_depth': 9, 'random_strength': 16, 'l2_leaf_reg': 9.291166221674879e-06, 'min_child_samples': 67, 'max_bin': 435, 'od_type': 'IncToDec', 'task_type': 'GPU', 'loss_function': 'MAE', 'eval_metric': 'MAE'}. Best is trial 121 with value: 5.343377942063889.\u001b[0m\n"
     ]
    },
    {
     "name": "stdout",
     "output_type": "stream",
     "text": [
      "MAE of Train: 5.182372227139381\n",
      "MAE of Validation: 5.34807613367447\n"
     ]
    },
    {
     "name": "stderr",
     "output_type": "stream",
     "text": [
      "\u001b[32m[I 2022-03-27 04:35:03,107]\u001b[0m Trial 606 finished with value: 5.351491619201243 and parameters: {'random_state': 519632, 'learning_rate': 0.0507822967918558, 'bagging_temperature': 1.2515408002657786, 'max_depth': 9, 'random_strength': 24, 'l2_leaf_reg': 1.2482375974223597e-05, 'min_child_samples': 44, 'max_bin': 470, 'od_type': 'IncToDec', 'task_type': 'GPU', 'loss_function': 'MAE', 'eval_metric': 'MAE'}. Best is trial 121 with value: 5.343377942063889.\u001b[0m\n"
     ]
    },
    {
     "name": "stdout",
     "output_type": "stream",
     "text": [
      "MAE of Train: 5.219279284548844\n",
      "MAE of Validation: 5.351491619201243\n"
     ]
    },
    {
     "name": "stderr",
     "output_type": "stream",
     "text": [
      "\u001b[32m[I 2022-03-27 04:35:07,998]\u001b[0m Trial 607 finished with value: 5.3511732049602205 and parameters: {'random_state': 519632, 'learning_rate': 0.08762788441500427, 'bagging_temperature': 0.7722978496451794, 'max_depth': 9, 'random_strength': 27, 'l2_leaf_reg': 1.3579841956987785e-05, 'min_child_samples': 59, 'max_bin': 493, 'od_type': 'IncToDec', 'task_type': 'GPU', 'loss_function': 'MAE', 'eval_metric': 'MAE'}. Best is trial 121 with value: 5.343377942063889.\u001b[0m\n"
     ]
    },
    {
     "name": "stdout",
     "output_type": "stream",
     "text": [
      "MAE of Train: 5.174525874986302\n",
      "MAE of Validation: 5.3511732049602205\n"
     ]
    },
    {
     "name": "stderr",
     "output_type": "stream",
     "text": [
      "\u001b[32m[I 2022-03-27 04:35:13,772]\u001b[0m Trial 608 finished with value: 5.350110267810581 and parameters: {'random_state': 519632, 'learning_rate': 0.0702406394112308, 'bagging_temperature': 2.215423836683217, 'max_depth': 9, 'random_strength': 52, 'l2_leaf_reg': 1.037491535391236e-05, 'min_child_samples': 70, 'max_bin': 486, 'od_type': 'IncToDec', 'task_type': 'GPU', 'loss_function': 'MAE', 'eval_metric': 'MAE'}. Best is trial 121 with value: 5.343377942063889.\u001b[0m\n"
     ]
    },
    {
     "name": "stdout",
     "output_type": "stream",
     "text": [
      "MAE of Train: 5.148823896347787\n",
      "MAE of Validation: 5.350110267810581\n"
     ]
    },
    {
     "name": "stderr",
     "output_type": "stream",
     "text": [
      "\u001b[32m[I 2022-03-27 04:35:19,529]\u001b[0m Trial 609 finished with value: 5.351220469277915 and parameters: {'random_state': 519632, 'learning_rate': 0.05779019535845206, 'bagging_temperature': 0.940897509330648, 'max_depth': 9, 'random_strength': 34, 'l2_leaf_reg': 1.5241689285108043e-05, 'min_child_samples': 47, 'max_bin': 479, 'od_type': 'IncToDec', 'task_type': 'GPU', 'loss_function': 'MAE', 'eval_metric': 'MAE'}. Best is trial 121 with value: 5.343377942063889.\u001b[0m\n"
     ]
    },
    {
     "name": "stdout",
     "output_type": "stream",
     "text": [
      "MAE of Train: 5.205413279992184\n",
      "MAE of Validation: 5.351220469277915\n"
     ]
    },
    {
     "name": "stderr",
     "output_type": "stream",
     "text": [
      "\u001b[32m[I 2022-03-27 04:35:23,271]\u001b[0m Trial 610 finished with value: 5.348759744201882 and parameters: {'random_state': 519632, 'learning_rate': 0.10719615694863198, 'bagging_temperature': 1.508455722243141, 'max_depth': 9, 'random_strength': 29, 'l2_leaf_reg': 1.1752094824712444e-05, 'min_child_samples': 49, 'max_bin': 465, 'od_type': 'IncToDec', 'task_type': 'GPU', 'loss_function': 'MAE', 'eval_metric': 'MAE'}. Best is trial 121 with value: 5.343377942063889.\u001b[0m\n"
     ]
    },
    {
     "name": "stdout",
     "output_type": "stream",
     "text": [
      "MAE of Train: 5.1733167134896725\n",
      "MAE of Validation: 5.348759744201882\n"
     ]
    },
    {
     "name": "stderr",
     "output_type": "stream",
     "text": [
      "\u001b[32m[I 2022-03-27 04:35:28,399]\u001b[0m Trial 611 finished with value: 5.353399179650769 and parameters: {'random_state': 519632, 'learning_rate': 0.07915509050641419, 'bagging_temperature': 0.2012302324827955, 'max_depth': 9, 'random_strength': 15, 'l2_leaf_reg': 8.653209367863182e-06, 'min_child_samples': 53, 'max_bin': 472, 'od_type': 'IncToDec', 'task_type': 'GPU', 'loss_function': 'MAE', 'eval_metric': 'MAE'}. Best is trial 121 with value: 5.343377942063889.\u001b[0m\n"
     ]
    },
    {
     "name": "stdout",
     "output_type": "stream",
     "text": [
      "MAE of Train: 5.209315308945327\n",
      "MAE of Validation: 5.353399179650769\n"
     ]
    },
    {
     "name": "stderr",
     "output_type": "stream",
     "text": [
      "\u001b[32m[I 2022-03-27 04:35:34,264]\u001b[0m Trial 612 finished with value: 5.351412938657021 and parameters: {'random_state': 519632, 'learning_rate': 0.04682252823147631, 'bagging_temperature': 1.8162560910286663, 'max_depth': 9, 'random_strength': 32, 'l2_leaf_reg': 1.2835949062516867e-05, 'min_child_samples': 72, 'max_bin': 457, 'od_type': 'IncToDec', 'task_type': 'GPU', 'loss_function': 'MAE', 'eval_metric': 'MAE'}. Best is trial 121 with value: 5.343377942063889.\u001b[0m\n"
     ]
    },
    {
     "name": "stdout",
     "output_type": "stream",
     "text": [
      "MAE of Train: 5.229591702248728\n",
      "MAE of Validation: 5.351412938657021\n"
     ]
    },
    {
     "name": "stderr",
     "output_type": "stream",
     "text": [
      "\u001b[32m[I 2022-03-27 04:35:40,021]\u001b[0m Trial 613 finished with value: 5.3479473110778395 and parameters: {'random_state': 519632, 'learning_rate': 0.0630013504071998, 'bagging_temperature': 1.1763003882055414, 'max_depth': 9, 'random_strength': 21, 'l2_leaf_reg': 1.0947343986095222e-05, 'min_child_samples': 88, 'max_bin': 496, 'od_type': 'IncToDec', 'task_type': 'GPU', 'loss_function': 'MAE', 'eval_metric': 'MAE'}. Best is trial 121 with value: 5.343377942063889.\u001b[0m\n"
     ]
    },
    {
     "name": "stdout",
     "output_type": "stream",
     "text": [
      "MAE of Train: 5.177158703155428\n",
      "MAE of Validation: 5.3479473110778395\n"
     ]
    },
    {
     "name": "stderr",
     "output_type": "stream",
     "text": [
      "\u001b[32m[I 2022-03-27 04:35:43,809]\u001b[0m Trial 614 finished with value: 5.35891044806244 and parameters: {'random_state': 519632, 'learning_rate': 0.08844422917360027, 'bagging_temperature': 1.5368197326744646, 'max_depth': 8, 'random_strength': 24, 'l2_leaf_reg': 9.94632036608505e-06, 'min_child_samples': 74, 'max_bin': 482, 'od_type': 'IncToDec', 'task_type': 'GPU', 'loss_function': 'MAE', 'eval_metric': 'MAE'}. Best is trial 121 with value: 5.343377942063889.\u001b[0m\n"
     ]
    },
    {
     "name": "stdout",
     "output_type": "stream",
     "text": [
      "MAE of Train: 5.238895708000118\n",
      "MAE of Validation: 5.35891044806244\n"
     ]
    },
    {
     "name": "stderr",
     "output_type": "stream",
     "text": [
      "\u001b[32m[I 2022-03-27 04:35:48,868]\u001b[0m Trial 615 finished with value: 5.353063400045296 and parameters: {'random_state': 519632, 'learning_rate': 0.07276247005450803, 'bagging_temperature': 0.6872437906120014, 'max_depth': 9, 'random_strength': 40, 'l2_leaf_reg': 9.304899894513784e-06, 'min_child_samples': 61, 'max_bin': 488, 'od_type': 'IncToDec', 'task_type': 'GPU', 'loss_function': 'MAE', 'eval_metric': 'MAE'}. Best is trial 121 with value: 5.343377942063889.\u001b[0m\n"
     ]
    },
    {
     "name": "stdout",
     "output_type": "stream",
     "text": [
      "MAE of Train: 5.207900420132371\n",
      "MAE of Validation: 5.353063400045296\n"
     ]
    },
    {
     "name": "stderr",
     "output_type": "stream",
     "text": [
      "\u001b[32m[I 2022-03-27 04:35:54,681]\u001b[0m Trial 616 finished with value: 5.352012080377999 and parameters: {'random_state': 519632, 'learning_rate': 0.055014529497546406, 'bagging_temperature': 0.9468794761749203, 'max_depth': 9, 'random_strength': 26, 'l2_leaf_reg': 1.1251428810164785e-05, 'min_child_samples': 67, 'max_bin': 447, 'od_type': 'IncToDec', 'task_type': 'GPU', 'loss_function': 'MAE', 'eval_metric': 'MAE'}. Best is trial 121 with value: 5.343377942063889.\u001b[0m\n"
     ]
    },
    {
     "name": "stdout",
     "output_type": "stream",
     "text": [
      "MAE of Train: 5.212063087669143\n",
      "MAE of Validation: 5.352012080377999\n"
     ]
    },
    {
     "name": "stderr",
     "output_type": "stream",
     "text": [
      "\u001b[32m[I 2022-03-27 04:36:00,469]\u001b[0m Trial 617 finished with value: 5.3969973480561215 and parameters: {'random_state': 519632, 'learning_rate': 0.021415653831168682, 'bagging_temperature': 1.2799985480029583, 'max_depth': 9, 'random_strength': 29, 'l2_leaf_reg': 8.222472400424448e-06, 'min_child_samples': 57, 'max_bin': 476, 'od_type': 'IncToDec', 'task_type': 'GPU', 'loss_function': 'MAE', 'eval_metric': 'MAE'}. Best is trial 121 with value: 5.343377942063889.\u001b[0m\n"
     ]
    },
    {
     "name": "stdout",
     "output_type": "stream",
     "text": [
      "MAE of Train: 5.371223805193903\n",
      "MAE of Validation: 5.3969973480561215\n"
     ]
    },
    {
     "name": "stderr",
     "output_type": "stream",
     "text": [
      "\u001b[32m[I 2022-03-27 04:36:03,637]\u001b[0m Trial 618 finished with value: 5.354339114507422 and parameters: {'random_state': 519632, 'learning_rate': 0.14738419316201337, 'bagging_temperature': 1.0951602066356294, 'max_depth': 9, 'random_strength': 19, 'l2_leaf_reg': 7.433520995467336e-06, 'min_child_samples': 51, 'max_bin': 462, 'od_type': 'IncToDec', 'task_type': 'GPU', 'loss_function': 'MAE', 'eval_metric': 'MAE'}. Best is trial 121 with value: 5.343377942063889.\u001b[0m\n"
     ]
    },
    {
     "name": "stdout",
     "output_type": "stream",
     "text": [
      "MAE of Train: 5.189565998837088\n",
      "MAE of Validation: 5.354339114507422\n"
     ]
    },
    {
     "name": "stderr",
     "output_type": "stream",
     "text": [
      "\u001b[32m[I 2022-03-27 04:36:08,369]\u001b[0m Trial 619 finished with value: 5.350430795177068 and parameters: {'random_state': 519632, 'learning_rate': 0.09718305085959612, 'bagging_temperature': 2.3610452013472703, 'max_depth': 9, 'random_strength': 13, 'l2_leaf_reg': 1.2269757655878373e-05, 'min_child_samples': 69, 'max_bin': 469, 'od_type': 'IncToDec', 'task_type': 'GPU', 'loss_function': 'MAE', 'eval_metric': 'MAE'}. Best is trial 121 with value: 5.343377942063889.\u001b[0m\n"
     ]
    },
    {
     "name": "stdout",
     "output_type": "stream",
     "text": [
      "MAE of Train: 5.146394714434359\n",
      "MAE of Validation: 5.350430795177068\n"
     ]
    },
    {
     "name": "stderr",
     "output_type": "stream",
     "text": [
      "\u001b[32m[I 2022-03-27 04:36:10,317]\u001b[0m Trial 620 finished with value: 5.371684504002964 and parameters: {'random_state': 519632, 'learning_rate': 0.2741023617868321, 'bagging_temperature': 1.777478353847373, 'max_depth': 9, 'random_strength': 22, 'l2_leaf_reg': 1.0660343285044775e-05, 'min_child_samples': 43, 'max_bin': 490, 'od_type': 'IncToDec', 'task_type': 'GPU', 'loss_function': 'MAE', 'eval_metric': 'MAE'}. Best is trial 121 with value: 5.343377942063889.\u001b[0m\n"
     ]
    },
    {
     "name": "stdout",
     "output_type": "stream",
     "text": [
      "MAE of Train: 5.1847129788096415\n",
      "MAE of Validation: 5.371684504002964\n"
     ]
    },
    {
     "name": "stderr",
     "output_type": "stream",
     "text": [
      "\u001b[32m[I 2022-03-27 04:36:15,666]\u001b[0m Trial 621 finished with value: 5.352153319561901 and parameters: {'random_state': 519632, 'learning_rate': 0.06632952218047204, 'bagging_temperature': 1.4100762874964579, 'max_depth': 9, 'random_strength': 31, 'l2_leaf_reg': 9.665370826984653e-06, 'min_child_samples': 65, 'max_bin': 484, 'od_type': 'IncToDec', 'task_type': 'GPU', 'loss_function': 'MAE', 'eval_metric': 'MAE'}. Best is trial 121 with value: 5.343377942063889.\u001b[0m\n"
     ]
    },
    {
     "name": "stdout",
     "output_type": "stream",
     "text": [
      "MAE of Train: 5.194762504020048\n",
      "MAE of Validation: 5.352153319561901\n"
     ]
    },
    {
     "name": "stderr",
     "output_type": "stream",
     "text": [
      "\u001b[32m[I 2022-03-27 04:36:20,060]\u001b[0m Trial 622 finished with value: 5.356557374058985 and parameters: {'random_state': 519632, 'learning_rate': 0.1189215861008317, 'bagging_temperature': 0.8253855427235386, 'max_depth': 7, 'random_strength': 17, 'l2_leaf_reg': 1.4493276101411526e-05, 'min_child_samples': 48, 'max_bin': 382, 'od_type': 'IncToDec', 'task_type': 'GPU', 'loss_function': 'MAE', 'eval_metric': 'MAE'}. Best is trial 121 with value: 5.343377942063889.\u001b[0m\n"
     ]
    },
    {
     "name": "stdout",
     "output_type": "stream",
     "text": [
      "MAE of Train: 5.213492445449089\n",
      "MAE of Validation: 5.356557374058985\n"
     ]
    },
    {
     "name": "stderr",
     "output_type": "stream",
     "text": [
      "\u001b[32m[I 2022-03-27 04:36:24,950]\u001b[0m Trial 623 finished with value: 5.352067681576902 and parameters: {'random_state': 519632, 'learning_rate': 0.07871590824162991, 'bagging_temperature': 0.5479146462564799, 'max_depth': 9, 'random_strength': 27, 'l2_leaf_reg': 1.1671471177228853e-05, 'min_child_samples': 45, 'max_bin': 453, 'od_type': 'IncToDec', 'task_type': 'GPU', 'loss_function': 'MAE', 'eval_metric': 'MAE'}. Best is trial 121 with value: 5.343377942063889.\u001b[0m\n"
     ]
    },
    {
     "name": "stdout",
     "output_type": "stream",
     "text": [
      "MAE of Train: 5.192894234489713\n",
      "MAE of Validation: 5.352067681576902\n"
     ]
    },
    {
     "name": "stderr",
     "output_type": "stream",
     "text": [
      "\u001b[32m[I 2022-03-27 04:36:30,666]\u001b[0m Trial 624 finished with value: 5.360498130288059 and parameters: {'random_state': 519632, 'learning_rate': 0.037173162860454884, 'bagging_temperature': 1.0704826888142565, 'max_depth': 9, 'random_strength': 25, 'l2_leaf_reg': 1.3793489818568369e-05, 'min_child_samples': 55, 'max_bin': 477, 'od_type': 'IncToDec', 'task_type': 'GPU', 'loss_function': 'MAE', 'eval_metric': 'MAE'}. Best is trial 121 with value: 5.343377942063889.\u001b[0m\n"
     ]
    },
    {
     "name": "stdout",
     "output_type": "stream",
     "text": [
      "MAE of Train: 5.28166708099336\n",
      "MAE of Validation: 5.360498130288059\n"
     ]
    },
    {
     "name": "stderr",
     "output_type": "stream",
     "text": [
      "\u001b[32m[I 2022-03-27 04:36:36,375]\u001b[0m Trial 625 finished with value: 5.355966204754095 and parameters: {'random_state': 519632, 'learning_rate': 0.05126074959756259, 'bagging_temperature': 0.3802499835713817, 'max_depth': 9, 'random_strength': 35, 'l2_leaf_reg': 1.3041564854335204e-05, 'min_child_samples': 63, 'max_bin': 500, 'od_type': 'IncToDec', 'task_type': 'GPU', 'loss_function': 'MAE', 'eval_metric': 'MAE'}. Best is trial 121 with value: 5.343377942063889.\u001b[0m\n"
     ]
    },
    {
     "name": "stdout",
     "output_type": "stream",
     "text": [
      "MAE of Train: 5.242230770395618\n",
      "MAE of Validation: 5.355966204754095\n"
     ]
    },
    {
     "name": "stderr",
     "output_type": "stream",
     "text": [
      "\u001b[32m[I 2022-03-27 04:36:42,124]\u001b[0m Trial 626 finished with value: 5.346927779298571 and parameters: {'random_state': 519632, 'learning_rate': 0.06420226945460468, 'bagging_temperature': 1.6150805759367046, 'max_depth': 9, 'random_strength': 15, 'l2_leaf_reg': 8.958144385685106e-06, 'min_child_samples': 9, 'max_bin': 482, 'od_type': 'IncToDec', 'task_type': 'GPU', 'loss_function': 'MAE', 'eval_metric': 'MAE'}. Best is trial 121 with value: 5.343377942063889.\u001b[0m\n"
     ]
    },
    {
     "name": "stdout",
     "output_type": "stream",
     "text": [
      "MAE of Train: 5.166327817541221\n",
      "MAE of Validation: 5.346927779298571\n"
     ]
    },
    {
     "name": "stderr",
     "output_type": "stream",
     "text": [
      "\u001b[32m[I 2022-03-27 04:36:47,132]\u001b[0m Trial 627 finished with value: 5.34804578435577 and parameters: {'random_state': 519632, 'learning_rate': 0.08915339634570786, 'bagging_temperature': 1.27930164194693, 'max_depth': 9, 'random_strength': 29, 'l2_leaf_reg': 1.019098594701203e-05, 'min_child_samples': 59, 'max_bin': 471, 'od_type': 'IncToDec', 'task_type': 'GPU', 'loss_function': 'MAE', 'eval_metric': 'MAE'}. Best is trial 121 with value: 5.343377942063889.\u001b[0m\n"
     ]
    },
    {
     "name": "stdout",
     "output_type": "stream",
     "text": [
      "MAE of Train: 5.148885842807911\n",
      "MAE of Validation: 5.34804578435577\n"
     ]
    },
    {
     "name": "stderr",
     "output_type": "stream",
     "text": [
      "\u001b[32m[I 2022-03-27 04:36:51,799]\u001b[0m Trial 628 finished with value: 5.349632538915824 and parameters: {'random_state': 519632, 'learning_rate': 0.07501717778498161, 'bagging_temperature': 1.997371418185687, 'max_depth': 9, 'random_strength': 20, 'l2_leaf_reg': 1.199779468667682e-05, 'min_child_samples': 67, 'max_bin': 492, 'od_type': 'IncToDec', 'task_type': 'GPU', 'loss_function': 'MAE', 'eval_metric': 'MAE'}. Best is trial 121 with value: 5.343377942063889.\u001b[0m\n"
     ]
    },
    {
     "name": "stdout",
     "output_type": "stream",
     "text": [
      "MAE of Train: 5.192215829687305\n",
      "MAE of Validation: 5.349632538915824\n"
     ]
    },
    {
     "name": "stderr",
     "output_type": "stream",
     "text": [
      "\u001b[32m[I 2022-03-27 04:36:56,082]\u001b[0m Trial 629 finished with value: 5.3495244995228255 and parameters: {'random_state': 519632, 'learning_rate': 0.10399932970292099, 'bagging_temperature': 0.9300647098280335, 'max_depth': 9, 'random_strength': 27, 'l2_leaf_reg': 1.1113740199592953e-05, 'min_child_samples': 71, 'max_bin': 369, 'od_type': 'IncToDec', 'task_type': 'GPU', 'loss_function': 'MAE', 'eval_metric': 'MAE'}. Best is trial 121 with value: 5.343377942063889.\u001b[0m\n"
     ]
    },
    {
     "name": "stdout",
     "output_type": "stream",
     "text": [
      "MAE of Train: 5.167029822200608\n",
      "MAE of Validation: 5.3495244995228255\n"
     ]
    },
    {
     "name": "stderr",
     "output_type": "stream",
     "text": [
      "\u001b[32m[I 2022-03-27 04:37:01,911]\u001b[0m Trial 630 finished with value: 5.352018535499149 and parameters: {'random_state': 519632, 'learning_rate': 0.05890820628484365, 'bagging_temperature': 1.3906892123326016, 'max_depth': 9, 'random_strength': 70, 'l2_leaf_reg': 1.042006543212735e-05, 'min_child_samples': 49, 'max_bin': 464, 'od_type': 'IncToDec', 'task_type': 'GPU', 'loss_function': 'MAE', 'eval_metric': 'MAE'}. Best is trial 121 with value: 5.343377942063889.\u001b[0m\n"
     ]
    },
    {
     "name": "stdout",
     "output_type": "stream",
     "text": [
      "MAE of Train: 5.195923896811799\n",
      "MAE of Validation: 5.352018535499149\n"
     ]
    },
    {
     "name": "stderr",
     "output_type": "stream",
     "text": [
      "\u001b[32m[I 2022-03-27 04:37:07,696]\u001b[0m Trial 631 finished with value: 5.352661576282523 and parameters: {'random_state': 519632, 'learning_rate': 0.04549093375602606, 'bagging_temperature': 1.1273853444831958, 'max_depth': 9, 'random_strength': 24, 'l2_leaf_reg': 8.13321457719508e-06, 'min_child_samples': 41, 'max_bin': 458, 'od_type': 'IncToDec', 'task_type': 'GPU', 'loss_function': 'MAE', 'eval_metric': 'MAE'}. Best is trial 121 with value: 5.343377942063889.\u001b[0m\n"
     ]
    },
    {
     "name": "stdout",
     "output_type": "stream",
     "text": [
      "MAE of Train: 5.244110368065964\n",
      "MAE of Validation: 5.352661576282523\n"
     ]
    },
    {
     "name": "stderr",
     "output_type": "stream",
     "text": [
      "\u001b[32m[I 2022-03-27 04:37:11,500]\u001b[0m Trial 632 finished with value: 5.356184047019108 and parameters: {'random_state': 519632, 'learning_rate': 0.08258861821140145, 'bagging_temperature': 0.7655988351128381, 'max_depth': 9, 'random_strength': 32, 'l2_leaf_reg': 1.2933537004683691e-05, 'min_child_samples': 51, 'max_bin': 476, 'od_type': 'IncToDec', 'task_type': 'GPU', 'loss_function': 'MAE', 'eval_metric': 'MAE'}. Best is trial 121 with value: 5.343377942063889.\u001b[0m\n"
     ]
    },
    {
     "name": "stdout",
     "output_type": "stream",
     "text": [
      "MAE of Train: 5.243411714870199\n",
      "MAE of Validation: 5.356184047019108\n"
     ]
    },
    {
     "name": "stderr",
     "output_type": "stream",
     "text": [
      "\u001b[32m[I 2022-03-27 04:37:16,810]\u001b[0m Trial 633 finished with value: 5.3486841684907205 and parameters: {'random_state': 519632, 'learning_rate': 0.0705420963935864, 'bagging_temperature': 1.7002268361116049, 'max_depth': 9, 'random_strength': 22, 'l2_leaf_reg': 9.727149609702606e-06, 'min_child_samples': 46, 'max_bin': 445, 'od_type': 'IncToDec', 'task_type': 'GPU', 'loss_function': 'MAE', 'eval_metric': 'MAE'}. Best is trial 121 with value: 5.343377942063889.\u001b[0m\n"
     ]
    },
    {
     "name": "stdout",
     "output_type": "stream",
     "text": [
      "MAE of Train: 5.175884268930411\n",
      "MAE of Validation: 5.3486841684907205\n"
     ]
    },
    {
     "name": "stderr",
     "output_type": "stream",
     "text": [
      "\u001b[32m[I 2022-03-27 04:37:22,683]\u001b[0m Trial 634 finished with value: 5.347823019175753 and parameters: {'random_state': 519632, 'learning_rate': 0.0579094356161077, 'bagging_temperature': 2.3805285421852127, 'max_depth': 9, 'random_strength': 17, 'l2_leaf_reg': 8.964409381514064e-06, 'min_child_samples': 76, 'max_bin': 487, 'od_type': 'IncToDec', 'task_type': 'GPU', 'loss_function': 'MAE', 'eval_metric': 'MAE'}. Best is trial 121 with value: 5.343377942063889.\u001b[0m\n"
     ]
    },
    {
     "name": "stdout",
     "output_type": "stream",
     "text": [
      "MAE of Train: 5.185912729049168\n",
      "MAE of Validation: 5.347823019175753\n"
     ]
    },
    {
     "name": "stderr",
     "output_type": "stream",
     "text": [
      "\u001b[32m[I 2022-03-27 04:37:26,619]\u001b[0m Trial 635 finished with value: 5.354756647905847 and parameters: {'random_state': 519632, 'learning_rate': 0.09342449354492399, 'bagging_temperature': 1.300681028472329, 'max_depth': 9, 'random_strength': 13, 'l2_leaf_reg': 1.2414291693314695e-05, 'min_child_samples': 69, 'max_bin': 495, 'od_type': 'IncToDec', 'task_type': 'GPU', 'loss_function': 'MAE', 'eval_metric': 'MAE'}. Best is trial 121 with value: 5.343377942063889.\u001b[0m\n"
     ]
    },
    {
     "name": "stdout",
     "output_type": "stream",
     "text": [
      "MAE of Train: 5.200243494492734\n",
      "MAE of Validation: 5.354756647905847\n"
     ]
    },
    {
     "name": "stderr",
     "output_type": "stream",
     "text": [
      "\u001b[32m[I 2022-03-27 04:37:30,536]\u001b[0m Trial 636 finished with value: 5.3544956823496 and parameters: {'random_state': 519632, 'learning_rate': 0.1176568774376153, 'bagging_temperature': 0.07072408977076863, 'max_depth': 9, 'random_strength': 30, 'l2_leaf_reg': 1.1026262999333294e-05, 'min_child_samples': 61, 'max_bin': 469, 'od_type': 'IncToDec', 'task_type': 'GPU', 'loss_function': 'MAE', 'eval_metric': 'MAE'}. Best is trial 121 with value: 5.343377942063889.\u001b[0m\n"
     ]
    },
    {
     "name": "stdout",
     "output_type": "stream",
     "text": [
      "MAE of Train: 5.182336978364196\n",
      "MAE of Validation: 5.3544956823496\n"
     ]
    },
    {
     "name": "stderr",
     "output_type": "stream",
     "text": [
      "\u001b[32m[I 2022-03-27 04:37:36,079]\u001b[0m Trial 637 finished with value: 5.352025672873882 and parameters: {'random_state': 519632, 'learning_rate': 0.0716414511650515, 'bagging_temperature': 0.645017406796397, 'max_depth': 9, 'random_strength': 27, 'l2_leaf_reg': 7.0533694595630715e-06, 'min_child_samples': 65, 'max_bin': 482, 'od_type': 'IncToDec', 'task_type': 'GPU', 'loss_function': 'MAE', 'eval_metric': 'MAE'}. Best is trial 121 with value: 5.343377942063889.\u001b[0m\n"
     ]
    },
    {
     "name": "stdout",
     "output_type": "stream",
     "text": [
      "MAE of Train: 5.180349867190003\n",
      "MAE of Validation: 5.352025672873882\n"
     ]
    },
    {
     "name": "stderr",
     "output_type": "stream",
     "text": [
      "\u001b[32m[I 2022-03-27 04:37:40,943]\u001b[0m Trial 638 finished with value: 5.348719207372509 and parameters: {'random_state': 519632, 'learning_rate': 0.08353664778950624, 'bagging_temperature': 0.9604659756897191, 'max_depth': 9, 'random_strength': 23, 'l2_leaf_reg': 1.142537930442643e-05, 'min_child_samples': 63, 'max_bin': 228, 'od_type': 'IncToDec', 'task_type': 'GPU', 'loss_function': 'MAE', 'eval_metric': 'MAE'}. Best is trial 121 with value: 5.343377942063889.\u001b[0m\n"
     ]
    },
    {
     "name": "stdout",
     "output_type": "stream",
     "text": [
      "MAE of Train: 5.181286687265881\n",
      "MAE of Validation: 5.348719207372509\n"
     ]
    },
    {
     "name": "stderr",
     "output_type": "stream",
     "text": [
      "\u001b[32m[I 2022-03-27 04:37:46,668]\u001b[0m Trial 639 finished with value: 5.351073147494592 and parameters: {'random_state': 519632, 'learning_rate': 0.06588028707967947, 'bagging_temperature': 1.5252574808337753, 'max_depth': 9, 'random_strength': 33, 'l2_leaf_reg': 1.3746551118754542e-05, 'min_child_samples': 53, 'max_bin': 452, 'od_type': 'IncToDec', 'task_type': 'GPU', 'loss_function': 'MAE', 'eval_metric': 'MAE'}. Best is trial 121 with value: 5.343377942063889.\u001b[0m\n"
     ]
    },
    {
     "name": "stdout",
     "output_type": "stream",
     "text": [
      "MAE of Train: 5.167786311050933\n",
      "MAE of Validation: 5.351073147494592\n"
     ]
    },
    {
     "name": "stderr",
     "output_type": "stream",
     "text": [
      "\u001b[32m[I 2022-03-27 04:37:52,527]\u001b[0m Trial 640 finished with value: 5.352107983855997 and parameters: {'random_state': 519632, 'learning_rate': 0.05288383658950082, 'bagging_temperature': 1.7684024633866882, 'max_depth': 9, 'random_strength': 25, 'l2_leaf_reg': 1.0453947405710518e-05, 'min_child_samples': 57, 'max_bin': 476, 'od_type': 'IncToDec', 'task_type': 'GPU', 'loss_function': 'MAE', 'eval_metric': 'MAE'}. Best is trial 121 with value: 5.343377942063889.\u001b[0m\n"
     ]
    },
    {
     "name": "stdout",
     "output_type": "stream",
     "text": [
      "MAE of Train: 5.207580823248868\n",
      "MAE of Validation: 5.352107983855997\n"
     ]
    },
    {
     "name": "stderr",
     "output_type": "stream",
     "text": [
      "\u001b[32m[I 2022-03-27 04:37:56,838]\u001b[0m Trial 641 finished with value: 5.350783580747392 and parameters: {'random_state': 519632, 'learning_rate': 0.10135654540336184, 'bagging_temperature': 1.1577840008329658, 'max_depth': 9, 'random_strength': 54, 'l2_leaf_reg': 1.596547549974404e-05, 'min_child_samples': 47, 'max_bin': 490, 'od_type': 'IncToDec', 'task_type': 'GPU', 'loss_function': 'MAE', 'eval_metric': 'MAE'}. Best is trial 121 with value: 5.343377942063889.\u001b[0m\n"
     ]
    },
    {
     "name": "stdout",
     "output_type": "stream",
     "text": [
      "MAE of Train: 5.157392628369593\n",
      "MAE of Validation: 5.350783580747392\n"
     ]
    },
    {
     "name": "stderr",
     "output_type": "stream",
     "text": [
      "\u001b[32m[I 2022-03-27 04:38:01,678]\u001b[0m Trial 642 finished with value: 5.353163697820882 and parameters: {'random_state': 519632, 'learning_rate': 0.07769075887040379, 'bagging_temperature': 0.8493551544803835, 'max_depth': 8, 'random_strength': 19, 'l2_leaf_reg': 9.521961861865871e-06, 'min_child_samples': 67, 'max_bin': 462, 'od_type': 'Iter', 'task_type': 'GPU', 'loss_function': 'MAE', 'eval_metric': 'MAE'}. Best is trial 121 with value: 5.343377942063889.\u001b[0m\n"
     ]
    },
    {
     "name": "stdout",
     "output_type": "stream",
     "text": [
      "MAE of Train: 5.2171961507775135\n",
      "MAE of Validation: 5.353163697820882\n"
     ]
    },
    {
     "name": "stderr",
     "output_type": "stream",
     "text": [
      "\u001b[32m[I 2022-03-27 04:38:07,542]\u001b[0m Trial 643 finished with value: 5.355025163728663 and parameters: {'random_state': 519632, 'learning_rate': 0.040704078365190584, 'bagging_temperature': 2.7098675012989983, 'max_depth': 9, 'random_strength': 16, 'l2_leaf_reg': 1.166663475852914e-05, 'min_child_samples': 73, 'max_bin': 481, 'od_type': 'IncToDec', 'task_type': 'GPU', 'loss_function': 'MAE', 'eval_metric': 'MAE'}. Best is trial 121 with value: 5.343377942063889.\u001b[0m\n"
     ]
    },
    {
     "name": "stdout",
     "output_type": "stream",
     "text": [
      "MAE of Train: 5.23703329761067\n",
      "MAE of Validation: 5.355025163728663\n"
     ]
    },
    {
     "name": "stderr",
     "output_type": "stream",
     "text": [
      "\u001b[32m[I 2022-03-27 04:38:13,349]\u001b[0m Trial 644 finished with value: 5.350665888987543 and parameters: {'random_state': 519632, 'learning_rate': 0.06251781712136067, 'bagging_temperature': 1.9838277755224087, 'max_depth': 9, 'random_strength': 39, 'l2_leaf_reg': 8.688495680867609e-06, 'min_child_samples': 44, 'max_bin': 472, 'od_type': 'IncToDec', 'task_type': 'GPU', 'loss_function': 'MAE', 'eval_metric': 'MAE'}. Best is trial 121 with value: 5.343377942063889.\u001b[0m\n"
     ]
    },
    {
     "name": "stdout",
     "output_type": "stream",
     "text": [
      "MAE of Train: 5.177873799298397\n",
      "MAE of Validation: 5.350665888987543\n"
     ]
    },
    {
     "name": "stderr",
     "output_type": "stream",
     "text": [
      "\u001b[32m[I 2022-03-27 04:38:17,790]\u001b[0m Trial 645 finished with value: 5.348314350034435 and parameters: {'random_state': 519632, 'learning_rate': 0.09391608273130857, 'bagging_temperature': 1.4391635294752476, 'max_depth': 9, 'random_strength': 12, 'l2_leaf_reg': 1.3393985101590863e-05, 'min_child_samples': 50, 'max_bin': 440, 'od_type': 'IncToDec', 'task_type': 'GPU', 'loss_function': 'MAE', 'eval_metric': 'MAE'}. Best is trial 121 with value: 5.343377942063889.\u001b[0m\n"
     ]
    },
    {
     "name": "stdout",
     "output_type": "stream",
     "text": [
      "MAE of Train: 5.157487286714523\n",
      "MAE of Validation: 5.348314350034435\n"
     ]
    },
    {
     "name": "stderr",
     "output_type": "stream",
     "text": [
      "\u001b[32m[I 2022-03-27 04:38:23,506]\u001b[0m Trial 646 finished with value: 5.3533840862571 and parameters: {'random_state': 519632, 'learning_rate': 0.04919165794947614, 'bagging_temperature': 1.079567408735298, 'max_depth': 9, 'random_strength': 28, 'l2_leaf_reg': 1.2534851706923188e-05, 'min_child_samples': 60, 'max_bin': 486, 'od_type': 'IncToDec', 'task_type': 'GPU', 'loss_function': 'MAE', 'eval_metric': 'MAE'}. Best is trial 121 with value: 5.343377942063889.\u001b[0m\n"
     ]
    },
    {
     "name": "stdout",
     "output_type": "stream",
     "text": [
      "MAE of Train: 5.23278341584173\n",
      "MAE of Validation: 5.3533840862571\n"
     ]
    },
    {
     "name": "stderr",
     "output_type": "stream",
     "text": [
      "\u001b[32m[I 2022-03-27 04:38:29,088]\u001b[0m Trial 647 finished with value: 5.34698876373867 and parameters: {'random_state': 519632, 'learning_rate': 0.07297710080226577, 'bagging_temperature': 1.2423686541570393, 'max_depth': 9, 'random_strength': 31, 'l2_leaf_reg': 7.647485308253968e-06, 'min_child_samples': 70, 'max_bin': 495, 'od_type': 'IncToDec', 'task_type': 'GPU', 'loss_function': 'MAE', 'eval_metric': 'MAE'}. Best is trial 121 with value: 5.343377942063889.\u001b[0m\n"
     ]
    },
    {
     "name": "stdout",
     "output_type": "stream",
     "text": [
      "MAE of Train: 5.160749111417959\n",
      "MAE of Validation: 5.34698876373867\n"
     ]
    },
    {
     "name": "stderr",
     "output_type": "stream",
     "text": [
      "\u001b[32m[I 2022-03-27 04:38:34,751]\u001b[0m Trial 648 finished with value: 5.374760324071006 and parameters: {'random_state': 519632, 'learning_rate': 0.02796200939599491, 'bagging_temperature': 1.5938487844348048, 'max_depth': 9, 'random_strength': 26, 'l2_leaf_reg': 9.93243147892267e-06, 'min_child_samples': 65, 'max_bin': 466, 'od_type': 'IncToDec', 'task_type': 'GPU', 'loss_function': 'MAE', 'eval_metric': 'MAE'}. Best is trial 121 with value: 5.343377942063889.\u001b[0m\n"
     ]
    },
    {
     "name": "stdout",
     "output_type": "stream",
     "text": [
      "MAE of Train: 5.322073857014264\n",
      "MAE of Validation: 5.374760324071006\n"
     ]
    },
    {
     "name": "stderr",
     "output_type": "stream",
     "text": [
      "\u001b[32m[I 2022-03-27 04:38:38,840]\u001b[0m Trial 649 finished with value: 5.348128510162768 and parameters: {'random_state': 519632, 'learning_rate': 0.1309740071041759, 'bagging_temperature': 0.9233420665591594, 'max_depth': 9, 'random_strength': 14, 'l2_leaf_reg': 1.0690556111596562e-05, 'min_child_samples': 55, 'max_bin': 458, 'od_type': 'IncToDec', 'task_type': 'GPU', 'loss_function': 'MAE', 'eval_metric': 'MAE'}. Best is trial 121 with value: 5.343377942063889.\u001b[0m\n"
     ]
    },
    {
     "name": "stdout",
     "output_type": "stream",
     "text": [
      "MAE of Train: 5.1279382026790685\n",
      "MAE of Validation: 5.348128510162768\n"
     ]
    },
    {
     "name": "stderr",
     "output_type": "stream",
     "text": [
      "\u001b[32m[I 2022-03-27 04:38:44,462]\u001b[0m Trial 650 finished with value: 5.444690356880287 and parameters: {'random_state': 519632, 'learning_rate': 0.009373735202274313, 'bagging_temperature': 2.057702595512954, 'max_depth': 9, 'random_strength': 21, 'l2_leaf_reg': 1.195440516516853e-05, 'min_child_samples': 49, 'max_bin': 478, 'od_type': 'IncToDec', 'task_type': 'GPU', 'loss_function': 'MAE', 'eval_metric': 'MAE'}. Best is trial 121 with value: 5.343377942063889.\u001b[0m\n"
     ]
    },
    {
     "name": "stdout",
     "output_type": "stream",
     "text": [
      "MAE of Train: 5.447396831933758\n",
      "MAE of Validation: 5.444690356880287\n"
     ]
    },
    {
     "name": "stderr",
     "output_type": "stream",
     "text": [
      "\u001b[32m[I 2022-03-27 04:38:49,653]\u001b[0m Trial 651 finished with value: 5.34712644022066 and parameters: {'random_state': 519632, 'learning_rate': 0.08416303184912333, 'bagging_temperature': 1.3313776457676472, 'max_depth': 9, 'random_strength': 37, 'l2_leaf_reg': 9.545182711704611e-06, 'min_child_samples': 68, 'max_bin': 486, 'od_type': 'IncToDec', 'task_type': 'GPU', 'loss_function': 'MAE', 'eval_metric': 'MAE'}. Best is trial 121 with value: 5.343377942063889.\u001b[0m\n"
     ]
    },
    {
     "name": "stdout",
     "output_type": "stream",
     "text": [
      "MAE of Train: 5.147437086777765\n",
      "MAE of Validation: 5.34712644022066\n"
     ]
    },
    {
     "name": "stderr",
     "output_type": "stream",
     "text": [
      "\u001b[32m[I 2022-03-27 04:38:55,359]\u001b[0m Trial 652 finished with value: 5.349141200783292 and parameters: {'random_state': 519632, 'learning_rate': 0.05770252999925682, 'bagging_temperature': 1.027569483922826, 'max_depth': 9, 'random_strength': 24, 'l2_leaf_reg': 1.4204553620759679e-05, 'min_child_samples': 45, 'max_bin': 407, 'od_type': 'IncToDec', 'task_type': 'GPU', 'loss_function': 'MAE', 'eval_metric': 'MAE'}. Best is trial 121 with value: 5.343377942063889.\u001b[0m\n"
     ]
    },
    {
     "name": "stdout",
     "output_type": "stream",
     "text": [
      "MAE of Train: 5.199753484151345\n",
      "MAE of Validation: 5.349141200783292\n"
     ]
    },
    {
     "name": "stderr",
     "output_type": "stream",
     "text": [
      "\u001b[32m[I 2022-03-27 04:39:01,135]\u001b[0m Trial 653 finished with value: 5.414563044647358 and parameters: {'random_state': 519632, 'learning_rate': 0.017561437301671357, 'bagging_temperature': 0.7453422547344337, 'max_depth': 9, 'random_strength': 29, 'l2_leaf_reg': 8.194623083233432e-06, 'min_child_samples': 58, 'max_bin': 473, 'od_type': 'IncToDec', 'task_type': 'GPU', 'loss_function': 'MAE', 'eval_metric': 'MAE'}. Best is trial 121 with value: 5.343377942063889.\u001b[0m\n"
     ]
    },
    {
     "name": "stdout",
     "output_type": "stream",
     "text": [
      "MAE of Train: 5.403275558890808\n",
      "MAE of Validation: 5.414563044647358\n"
     ]
    },
    {
     "name": "stderr",
     "output_type": "stream",
     "text": [
      "\u001b[32m[I 2022-03-27 04:39:04,605]\u001b[0m Trial 654 finished with value: 5.3505649023618 and parameters: {'random_state': 519632, 'learning_rate': 0.1095319820584856, 'bagging_temperature': 1.6029954416536187, 'max_depth': 9, 'random_strength': 18, 'l2_leaf_reg': 1.0932623661163053e-05, 'min_child_samples': 72, 'max_bin': 451, 'od_type': 'IncToDec', 'task_type': 'GPU', 'loss_function': 'MAE', 'eval_metric': 'MAE'}. Best is trial 121 with value: 5.343377942063889.\u001b[0m\n"
     ]
    },
    {
     "name": "stdout",
     "output_type": "stream",
     "text": [
      "MAE of Train: 5.187849395774342\n",
      "MAE of Validation: 5.3505649023618\n"
     ]
    },
    {
     "name": "stderr",
     "output_type": "stream",
     "text": [
      "\u001b[32m[I 2022-03-27 04:39:10,498]\u001b[0m Trial 655 finished with value: 5.3489958679760985 and parameters: {'random_state': 519632, 'learning_rate': 0.06764841878828483, 'bagging_temperature': 1.1829486973825174, 'max_depth': 9, 'random_strength': 34, 'l2_leaf_reg': 5.7795101167722875e-06, 'min_child_samples': 63, 'max_bin': 492, 'od_type': 'IncToDec', 'task_type': 'GPU', 'loss_function': 'MAE', 'eval_metric': 'MAE'}. Best is trial 121 with value: 5.343377942063889.\u001b[0m\n"
     ]
    },
    {
     "name": "stdout",
     "output_type": "stream",
     "text": [
      "MAE of Train: 5.1694106719287785\n",
      "MAE of Validation: 5.3489958679760985\n"
     ]
    },
    {
     "name": "stderr",
     "output_type": "stream",
     "text": [
      "\u001b[32m[I 2022-03-27 04:39:14,715]\u001b[0m Trial 656 finished with value: 5.350987435428018 and parameters: {'random_state': 519632, 'learning_rate': 0.08578798270940305, 'bagging_temperature': 1.7833301935214174, 'max_depth': 9, 'random_strength': 11, 'l2_leaf_reg': 6.3954992118358985e-06, 'min_child_samples': 53, 'max_bin': 468, 'od_type': 'IncToDec', 'task_type': 'GPU', 'loss_function': 'MAE', 'eval_metric': 'MAE'}. Best is trial 121 with value: 5.343377942063889.\u001b[0m\n"
     ]
    },
    {
     "name": "stdout",
     "output_type": "stream",
     "text": [
      "MAE of Train: 5.179233475255006\n",
      "MAE of Validation: 5.350987435428018\n"
     ]
    },
    {
     "name": "stderr",
     "output_type": "stream",
     "text": [
      "\u001b[32m[I 2022-03-27 04:39:20,365]\u001b[0m Trial 657 finished with value: 5.349642400737838 and parameters: {'random_state': 519632, 'learning_rate': 0.057746897249527876, 'bagging_temperature': 1.4057530253758417, 'max_depth': 9, 'random_strength': 26, 'l2_leaf_reg': 9.09386022450427e-06, 'min_child_samples': 42, 'max_bin': 500, 'od_type': 'IncToDec', 'task_type': 'GPU', 'loss_function': 'MAE', 'eval_metric': 'MAE'}. Best is trial 121 with value: 5.343377942063889.\u001b[0m\n"
     ]
    },
    {
     "name": "stdout",
     "output_type": "stream",
     "text": [
      "MAE of Train: 5.199456313536418\n",
      "MAE of Validation: 5.349642400737838\n"
     ]
    },
    {
     "name": "stderr",
     "output_type": "stream",
     "text": [
      "\u001b[32m[I 2022-03-27 04:39:25,866]\u001b[0m Trial 658 finished with value: 5.349501138506073 and parameters: {'random_state': 519632, 'learning_rate': 0.07304868185845985, 'bagging_temperature': 0.8025708758067888, 'max_depth': 9, 'random_strength': 23, 'l2_leaf_reg': 1.2846240518680637e-05, 'min_child_samples': 39, 'max_bin': 481, 'od_type': 'IncToDec', 'task_type': 'GPU', 'loss_function': 'MAE', 'eval_metric': 'MAE'}. Best is trial 121 with value: 5.343377942063889.\u001b[0m\n"
     ]
    },
    {
     "name": "stdout",
     "output_type": "stream",
     "text": [
      "MAE of Train: 5.178484180234875\n",
      "MAE of Validation: 5.349501138506073\n"
     ]
    },
    {
     "name": "stderr",
     "output_type": "stream",
     "text": [
      "\u001b[32m[I 2022-03-27 04:39:29,621]\u001b[0m Trial 659 finished with value: 5.405649551476254 and parameters: {'random_state': 519632, 'learning_rate': 0.045453336647874897, 'bagging_temperature': 0.6343051564857219, 'max_depth': 5, 'random_strength': 28, 'l2_leaf_reg': 1.0322066515872964e-05, 'min_child_samples': 47, 'max_bin': 457, 'od_type': 'IncToDec', 'task_type': 'GPU', 'loss_function': 'MAE', 'eval_metric': 'MAE'}. Best is trial 121 with value: 5.343377942063889.\u001b[0m\n"
     ]
    },
    {
     "name": "stdout",
     "output_type": "stream",
     "text": [
      "MAE of Train: 5.395381258206448\n",
      "MAE of Validation: 5.405649551476254\n"
     ]
    },
    {
     "name": "stderr",
     "output_type": "stream",
     "text": [
      "\u001b[32m[I 2022-03-27 04:39:33,723]\u001b[0m Trial 660 finished with value: 5.352312281333958 and parameters: {'random_state': 519632, 'learning_rate': 0.09416114243476774, 'bagging_temperature': 1.0508693913004121, 'max_depth': 9, 'random_strength': 20, 'l2_leaf_reg': 1.1456790611867004e-05, 'min_child_samples': 66, 'max_bin': 486, 'od_type': 'IncToDec', 'task_type': 'GPU', 'loss_function': 'MAE', 'eval_metric': 'MAE'}. Best is trial 121 with value: 5.343377942063889.\u001b[0m\n"
     ]
    },
    {
     "name": "stdout",
     "output_type": "stream",
     "text": [
      "MAE of Train: 5.193305998402927\n",
      "MAE of Validation: 5.352312281333958\n"
     ]
    },
    {
     "name": "stderr",
     "output_type": "stream",
     "text": [
      "\u001b[32m[I 2022-03-27 04:39:38,782]\u001b[0m Trial 661 finished with value: 5.355321075512704 and parameters: {'random_state': 519632, 'learning_rate': 0.0644051422536175, 'bagging_temperature': 2.1763542228799686, 'max_depth': 8, 'random_strength': 61, 'l2_leaf_reg': 1.3422969871670754e-05, 'min_child_samples': 52, 'max_bin': 478, 'od_type': 'Iter', 'task_type': 'GPU', 'loss_function': 'MAE', 'eval_metric': 'MAE'}. Best is trial 121 with value: 5.343377942063889.\u001b[0m\n"
     ]
    },
    {
     "name": "stdout",
     "output_type": "stream",
     "text": [
      "MAE of Train: 5.232278504861186\n",
      "MAE of Validation: 5.355321075512704\n"
     ]
    },
    {
     "name": "stderr",
     "output_type": "stream",
     "text": [
      "\u001b[32m[I 2022-03-27 04:39:43,973]\u001b[0m Trial 662 finished with value: 5.347947257958962 and parameters: {'random_state': 519632, 'learning_rate': 0.07898761964195397, 'bagging_temperature': 1.3052951475139551, 'max_depth': 9, 'random_strength': 49, 'l2_leaf_reg': 1.20644350800065e-05, 'min_child_samples': 69, 'max_bin': 465, 'od_type': 'IncToDec', 'task_type': 'GPU', 'loss_function': 'MAE', 'eval_metric': 'MAE'}. Best is trial 121 with value: 5.343377942063889.\u001b[0m\n"
     ]
    },
    {
     "name": "stdout",
     "output_type": "stream",
     "text": [
      "MAE of Train: 5.173063721905741\n",
      "MAE of Validation: 5.347947257958962\n"
     ]
    },
    {
     "name": "stderr",
     "output_type": "stream",
     "text": [
      "\u001b[32m[I 2022-03-27 04:39:49,948]\u001b[0m Trial 663 finished with value: 5.348384061446562 and parameters: {'random_state': 519632, 'learning_rate': 0.05430514598635946, 'bagging_temperature': 1.7779149141524706, 'max_depth': 9, 'random_strength': 15, 'l2_leaf_reg': 1.0096082280942084e-05, 'min_child_samples': 60, 'max_bin': 490, 'od_type': 'IncToDec', 'task_type': 'GPU', 'loss_function': 'MAE', 'eval_metric': 'MAE'}. Best is trial 121 with value: 5.343377942063889.\u001b[0m\n"
     ]
    },
    {
     "name": "stdout",
     "output_type": "stream",
     "text": [
      "MAE of Train: 5.198115737267792\n",
      "MAE of Validation: 5.348384061446562\n"
     ]
    },
    {
     "name": "stderr",
     "output_type": "stream",
     "text": [
      "\u001b[32m[I 2022-03-27 04:39:54,091]\u001b[0m Trial 664 finished with value: 5.3517841275262485 and parameters: {'random_state': 519632, 'learning_rate': 0.10966209408615286, 'bagging_temperature': 0.917114504174835, 'max_depth': 9, 'random_strength': 30, 'l2_leaf_reg': 1.5094967550526985e-05, 'min_child_samples': 56, 'max_bin': 436, 'od_type': 'IncToDec', 'task_type': 'GPU', 'loss_function': 'MAE', 'eval_metric': 'MAE'}. Best is trial 121 with value: 5.343377942063889.\u001b[0m\n"
     ]
    },
    {
     "name": "stdout",
     "output_type": "stream",
     "text": [
      "MAE of Train: 5.1772967320786485\n",
      "MAE of Validation: 5.3517841275262485\n"
     ]
    },
    {
     "name": "stderr",
     "output_type": "stream",
     "text": [
      "\u001b[32m[I 2022-03-27 04:39:59,725]\u001b[0m Trial 665 finished with value: 5.349075682577116 and parameters: {'random_state': 519632, 'learning_rate': 0.06584094565321202, 'bagging_temperature': 1.48936984814868, 'max_depth': 9, 'random_strength': 17, 'l2_leaf_reg': 8.54168885441809e-06, 'min_child_samples': 49, 'max_bin': 473, 'od_type': 'IncToDec', 'task_type': 'GPU', 'loss_function': 'MAE', 'eval_metric': 'MAE'}. Best is trial 121 with value: 5.343377942063889.\u001b[0m\n"
     ]
    },
    {
     "name": "stdout",
     "output_type": "stream",
     "text": [
      "MAE of Train: 5.183858580845623\n",
      "MAE of Validation: 5.349075682577116\n"
     ]
    },
    {
     "name": "stderr",
     "output_type": "stream",
     "text": [
      "\u001b[32m[I 2022-03-27 04:40:04,123]\u001b[0m Trial 666 finished with value: 5.352191568940615 and parameters: {'random_state': 519632, 'learning_rate': 0.08703751203195512, 'bagging_temperature': 0.5235453379749727, 'max_depth': 9, 'random_strength': 25, 'l2_leaf_reg': 1.0873318349101211e-05, 'min_child_samples': 62, 'max_bin': 446, 'od_type': 'IncToDec', 'task_type': 'GPU', 'loss_function': 'MAE', 'eval_metric': 'MAE'}. Best is trial 121 with value: 5.343377942063889.\u001b[0m\n"
     ]
    },
    {
     "name": "stdout",
     "output_type": "stream",
     "text": [
      "MAE of Train: 5.201376065402162\n",
      "MAE of Validation: 5.352191568940615\n"
     ]
    },
    {
     "name": "stderr",
     "output_type": "stream",
     "text": [
      "\u001b[32m[I 2022-03-27 04:40:09,049]\u001b[0m Trial 667 finished with value: 5.350108751427963 and parameters: {'random_state': 519632, 'learning_rate': 0.07497710261644128, 'bagging_temperature': 1.1462011114590842, 'max_depth': 9, 'random_strength': 22, 'l2_leaf_reg': 9.302602414899584e-06, 'min_child_samples': 66, 'max_bin': 481, 'od_type': 'IncToDec', 'task_type': 'GPU', 'loss_function': 'MAE', 'eval_metric': 'MAE'}. Best is trial 121 with value: 5.343377942063889.\u001b[0m\n"
     ]
    },
    {
     "name": "stdout",
     "output_type": "stream",
     "text": [
      "MAE of Train: 5.185283252929123\n",
      "MAE of Validation: 5.350108751427963\n"
     ]
    },
    {
     "name": "stderr",
     "output_type": "stream",
     "text": [
      "\u001b[32m[I 2022-03-27 04:40:11,971]\u001b[0m Trial 668 finished with value: 5.358809028610491 and parameters: {'random_state': 519632, 'learning_rate': 0.12460265209767307, 'bagging_temperature': 1.4521188266685232, 'max_depth': 9, 'random_strength': 32, 'l2_leaf_reg': 1.2405908711869226e-05, 'min_child_samples': 71, 'max_bin': 462, 'od_type': 'IncToDec', 'task_type': 'GPU', 'loss_function': 'MAE', 'eval_metric': 'MAE'}. Best is trial 121 with value: 5.343377942063889.\u001b[0m\n"
     ]
    },
    {
     "name": "stdout",
     "output_type": "stream",
     "text": [
      "MAE of Train: 5.204585497058138\n",
      "MAE of Validation: 5.358809028610491\n"
     ]
    },
    {
     "name": "stderr",
     "output_type": "stream",
     "text": [
      "\u001b[32m[I 2022-03-27 04:40:16,383]\u001b[0m Trial 669 finished with value: 5.372423100933117 and parameters: {'random_state': 519632, 'learning_rate': 0.05086935470357085, 'bagging_temperature': 1.037430451481974, 'max_depth': 7, 'random_strength': 27, 'l2_leaf_reg': 7.27499203505113e-06, 'min_child_samples': 74, 'max_bin': 494, 'od_type': 'IncToDec', 'task_type': 'GPU', 'loss_function': 'MAE', 'eval_metric': 'MAE'}. Best is trial 121 with value: 5.343377942063889.\u001b[0m\n"
     ]
    },
    {
     "name": "stdout",
     "output_type": "stream",
     "text": [
      "MAE of Train: 5.3212740581848434\n",
      "MAE of Validation: 5.372423100933117\n"
     ]
    },
    {
     "name": "stderr",
     "output_type": "stream",
     "text": [
      "\u001b[32m[I 2022-03-27 04:40:22,126]\u001b[0m Trial 670 finished with value: 5.346398360901806 and parameters: {'random_state': 519632, 'learning_rate': 0.061185732528376016, 'bagging_temperature': 1.9022047243209403, 'max_depth': 9, 'random_strength': 13, 'l2_leaf_reg': 1.1459106536689572e-05, 'min_child_samples': 46, 'max_bin': 454, 'od_type': 'IncToDec', 'task_type': 'GPU', 'loss_function': 'MAE', 'eval_metric': 'MAE'}. Best is trial 121 with value: 5.343377942063889.\u001b[0m\n"
     ]
    },
    {
     "name": "stdout",
     "output_type": "stream",
     "text": [
      "MAE of Train: 5.17138589040533\n",
      "MAE of Validation: 5.346398360901806\n"
     ]
    },
    {
     "name": "stderr",
     "output_type": "stream",
     "text": [
      "\u001b[32m[I 2022-03-27 04:40:27,871]\u001b[0m Trial 671 finished with value: 5.3546552640605425 and parameters: {'random_state': 519632, 'learning_rate': 0.041447413219450245, 'bagging_temperature': 2.7383152545260088, 'max_depth': 9, 'random_strength': 12, 'l2_leaf_reg': 1.1516797891998762e-05, 'min_child_samples': 43, 'max_bin': 447, 'od_type': 'IncToDec', 'task_type': 'GPU', 'loss_function': 'MAE', 'eval_metric': 'MAE'}. Best is trial 121 with value: 5.343377942063889.\u001b[0m\n"
     ]
    },
    {
     "name": "stdout",
     "output_type": "stream",
     "text": [
      "MAE of Train: 5.230413774653317\n",
      "MAE of Validation: 5.3546552640605425\n"
     ]
    },
    {
     "name": "stderr",
     "output_type": "stream",
     "text": [
      "\u001b[32m[I 2022-03-27 04:40:33,611]\u001b[0m Trial 672 finished with value: 5.357398063109267 and parameters: {'random_state': 519632, 'learning_rate': 0.0359789653799361, 'bagging_temperature': 2.350689713728202, 'max_depth': 9, 'random_strength': 8, 'l2_leaf_reg': 1.1815319387106072e-05, 'min_child_samples': 42, 'max_bin': 455, 'od_type': 'IncToDec', 'task_type': 'GPU', 'loss_function': 'MAE', 'eval_metric': 'MAE'}. Best is trial 121 with value: 5.343377942063889.\u001b[0m\n"
     ]
    },
    {
     "name": "stdout",
     "output_type": "stream",
     "text": [
      "MAE of Train: 5.2540331014294\n",
      "MAE of Validation: 5.357398063109267\n"
     ]
    },
    {
     "name": "stderr",
     "output_type": "stream",
     "text": [
      "\u001b[32m[I 2022-03-27 04:40:39,348]\u001b[0m Trial 673 finished with value: 5.352874677552182 and parameters: {'random_state': 519632, 'learning_rate': 0.049794411426827195, 'bagging_temperature': 3.1164193088802756, 'max_depth': 9, 'random_strength': 11, 'l2_leaf_reg': 1.1106216782760203e-05, 'min_child_samples': 45, 'max_bin': 449, 'od_type': 'IncToDec', 'task_type': 'GPU', 'loss_function': 'MAE', 'eval_metric': 'MAE'}. Best is trial 121 with value: 5.343377942063889.\u001b[0m\n"
     ]
    },
    {
     "name": "stdout",
     "output_type": "stream",
     "text": [
      "MAE of Train: 5.20769824550331\n",
      "MAE of Validation: 5.352874677552182\n"
     ]
    },
    {
     "name": "stderr",
     "output_type": "stream",
     "text": [
      "\u001b[32m[I 2022-03-27 04:40:44,024]\u001b[0m Trial 674 finished with value: 5.351086011700751 and parameters: {'random_state': 519632, 'learning_rate': 0.05988642048428197, 'bagging_temperature': 1.992155403036039, 'max_depth': 9, 'random_strength': 10, 'l2_leaf_reg': 1.061862640550807e-05, 'min_child_samples': 44, 'max_bin': 442, 'od_type': 'IncToDec', 'task_type': 'GPU', 'loss_function': 'MAE', 'eval_metric': 'MAE'}. Best is trial 121 with value: 5.343377942063889.\u001b[0m\n"
     ]
    },
    {
     "name": "stdout",
     "output_type": "stream",
     "text": [
      "MAE of Train: 5.215768917550503\n",
      "MAE of Validation: 5.351086011700751\n"
     ]
    },
    {
     "name": "stderr",
     "output_type": "stream",
     "text": [
      "\u001b[32m[I 2022-03-27 04:40:49,768]\u001b[0m Trial 675 finished with value: 5.348154168704619 and parameters: {'random_state': 519632, 'learning_rate': 0.054052492032355744, 'bagging_temperature': 1.8392404269410836, 'max_depth': 9, 'random_strength': 13, 'l2_leaf_reg': 1.2627186422867685e-05, 'min_child_samples': 47, 'max_bin': 456, 'od_type': 'IncToDec', 'task_type': 'GPU', 'loss_function': 'MAE', 'eval_metric': 'MAE'}. Best is trial 121 with value: 5.343377942063889.\u001b[0m\n"
     ]
    },
    {
     "name": "stdout",
     "output_type": "stream",
     "text": [
      "MAE of Train: 5.194450266311008\n",
      "MAE of Validation: 5.348154168704619\n"
     ]
    },
    {
     "name": "stderr",
     "output_type": "stream",
     "text": [
      "\u001b[32m[I 2022-03-27 04:40:55,524]\u001b[0m Trial 676 finished with value: 5.351555188072623 and parameters: {'random_state': 519632, 'learning_rate': 0.06089290896063849, 'bagging_temperature': 2.5299255113436465, 'max_depth': 9, 'random_strength': 29, 'l2_leaf_reg': 1.13752930342563e-05, 'min_child_samples': 46, 'max_bin': 456, 'od_type': 'IncToDec', 'task_type': 'GPU', 'loss_function': 'MAE', 'eval_metric': 'MAE'}. Best is trial 121 with value: 5.343377942063889.\u001b[0m\n"
     ]
    },
    {
     "name": "stdout",
     "output_type": "stream",
     "text": [
      "MAE of Train: 5.173947319398749\n",
      "MAE of Validation: 5.351555188072623\n"
     ]
    },
    {
     "name": "stderr",
     "output_type": "stream",
     "text": [
      "\u001b[32m[I 2022-03-27 04:41:01,247]\u001b[0m Trial 677 finished with value: 5.354981883557342 and parameters: {'random_state': 519632, 'learning_rate': 0.044704343901861024, 'bagging_temperature': 2.1584013469521617, 'max_depth': 9, 'random_strength': 34, 'l2_leaf_reg': 1.2195346797379731e-05, 'min_child_samples': 64, 'max_bin': 452, 'od_type': 'IncToDec', 'task_type': 'GPU', 'loss_function': 'MAE', 'eval_metric': 'MAE'}. Best is trial 121 with value: 5.343377942063889.\u001b[0m\n"
     ]
    },
    {
     "name": "stdout",
     "output_type": "stream",
     "text": [
      "MAE of Train: 5.238213448808893\n",
      "MAE of Validation: 5.354981883557342\n"
     ]
    },
    {
     "name": "stderr",
     "output_type": "stream",
     "text": [
      "\u001b[32m[I 2022-03-27 04:41:06,973]\u001b[0m Trial 678 finished with value: 5.345469720676518 and parameters: {'random_state': 519632, 'learning_rate': 0.06726282516984687, 'bagging_temperature': 1.6816154816424322, 'max_depth': 9, 'random_strength': 98, 'l2_leaf_reg': 1.0135519869961089e-05, 'min_child_samples': 45, 'max_bin': 461, 'od_type': 'IncToDec', 'task_type': 'GPU', 'loss_function': 'MAE', 'eval_metric': 'MAE'}. Best is trial 121 with value: 5.343377942063889.\u001b[0m\n"
     ]
    },
    {
     "name": "stdout",
     "output_type": "stream",
     "text": [
      "MAE of Train: 5.168741825891067\n",
      "MAE of Validation: 5.345469720676518\n"
     ]
    },
    {
     "name": "stderr",
     "output_type": "stream",
     "text": [
      "\u001b[32m[I 2022-03-27 04:41:11,048]\u001b[0m Trial 679 finished with value: 5.378055655487418 and parameters: {'random_state': 519632, 'learning_rate': 0.06545811850020912, 'bagging_temperature': 1.7721193191857199, 'max_depth': 6, 'random_strength': 72, 'l2_leaf_reg': 1.0135961537939228e-05, 'min_child_samples': 42, 'max_bin': 458, 'od_type': 'IncToDec', 'task_type': 'GPU', 'loss_function': 'MAE', 'eval_metric': 'MAE'}. Best is trial 121 with value: 5.343377942063889.\u001b[0m\n"
     ]
    },
    {
     "name": "stdout",
     "output_type": "stream",
     "text": [
      "MAE of Train: 5.332906112359657\n",
      "MAE of Validation: 5.378055655487418\n"
     ]
    },
    {
     "name": "stderr",
     "output_type": "stream",
     "text": [
      "\u001b[32m[I 2022-03-27 04:41:16,696]\u001b[0m Trial 680 finished with value: 5.350367037120981 and parameters: {'random_state': 519632, 'learning_rate': 0.05051903346225479, 'bagging_temperature': 2.043767830700001, 'max_depth': 9, 'random_strength': 100, 'l2_leaf_reg': 9.761763922491044e-06, 'min_child_samples': 40, 'max_bin': 461, 'od_type': 'Iter', 'task_type': 'GPU', 'loss_function': 'MAE', 'eval_metric': 'MAE'}. Best is trial 121 with value: 5.343377942063889.\u001b[0m\n"
     ]
    },
    {
     "name": "stdout",
     "output_type": "stream",
     "text": [
      "MAE of Train: 5.218425623950763\n",
      "MAE of Validation: 5.350367037120981\n"
     ]
    },
    {
     "name": "stderr",
     "output_type": "stream",
     "text": [
      "\u001b[32m[I 2022-03-27 04:41:21,818]\u001b[0m Trial 681 finished with value: 5.3575799537609035 and parameters: {'random_state': 519632, 'learning_rate': 0.06663930491490096, 'bagging_temperature': 3.9956362249899193, 'max_depth': 9, 'random_strength': 42, 'l2_leaf_reg': 1.0498450874233558e-05, 'min_child_samples': 44, 'max_bin': 447, 'od_type': 'IncToDec', 'task_type': 'GPU', 'loss_function': 'MAE', 'eval_metric': 'MAE'}. Best is trial 121 with value: 5.343377942063889.\u001b[0m\n"
     ]
    },
    {
     "name": "stdout",
     "output_type": "stream",
     "text": [
      "MAE of Train: 5.191690474819151\n",
      "MAE of Validation: 5.3575799537609035\n"
     ]
    },
    {
     "name": "stderr",
     "output_type": "stream",
     "text": [
      "\u001b[32m[I 2022-03-27 04:41:27,515]\u001b[0m Trial 682 finished with value: 5.349055327549252 and parameters: {'random_state': 519632, 'learning_rate': 0.05656494895011312, 'bagging_temperature': 1.6706020999476616, 'max_depth': 9, 'random_strength': 38, 'l2_leaf_reg': 1.0155736033867965e-05, 'min_child_samples': 45, 'max_bin': 452, 'od_type': 'IncToDec', 'task_type': 'GPU', 'loss_function': 'MAE', 'eval_metric': 'MAE'}. Best is trial 121 with value: 5.343377942063889.\u001b[0m\n"
     ]
    },
    {
     "name": "stdout",
     "output_type": "stream",
     "text": [
      "MAE of Train: 5.196314309902146\n",
      "MAE of Validation: 5.349055327549252\n"
     ]
    },
    {
     "name": "stderr",
     "output_type": "stream",
     "text": [
      "\u001b[32m[I 2022-03-27 04:41:32,707]\u001b[0m Trial 683 finished with value: 10.865391127291115 and parameters: {'random_state': 519632, 'learning_rate': 0.0003805269754152915, 'bagging_temperature': 2.3387859520327825, 'max_depth': 9, 'random_strength': 78, 'l2_leaf_reg': 1.10378469529065e-05, 'min_child_samples': 44, 'max_bin': 461, 'od_type': 'IncToDec', 'task_type': 'GPU', 'loss_function': 'MAE', 'eval_metric': 'MAE'}. Best is trial 121 with value: 5.343377942063889.\u001b[0m\n"
     ]
    },
    {
     "name": "stdout",
     "output_type": "stream",
     "text": [
      "MAE of Train: 10.864695327155626\n",
      "MAE of Validation: 10.865391127291115\n"
     ]
    },
    {
     "name": "stderr",
     "output_type": "stream",
     "text": [
      "\u001b[32m[I 2022-03-27 04:41:37,957]\u001b[0m Trial 684 finished with value: 5.347648672829238 and parameters: {'random_state': 519632, 'learning_rate': 0.07114319636503026, 'bagging_temperature': 1.595767291090508, 'max_depth': 9, 'random_strength': 80, 'l2_leaf_reg': 9.633894959852579e-06, 'min_child_samples': 41, 'max_bin': 465, 'od_type': 'IncToDec', 'task_type': 'GPU', 'loss_function': 'MAE', 'eval_metric': 'MAE'}. Best is trial 121 with value: 5.343377942063889.\u001b[0m\n"
     ]
    },
    {
     "name": "stdout",
     "output_type": "stream",
     "text": [
      "MAE of Train: 5.181158771728672\n",
      "MAE of Validation: 5.347648672829238\n"
     ]
    },
    {
     "name": "stderr",
     "output_type": "stream",
     "text": [
      "\u001b[32m[I 2022-03-27 04:41:43,203]\u001b[0m Trial 685 finished with value: 8.305897422058159 and parameters: {'random_state': 519632, 'learning_rate': 0.0009290579512199957, 'bagging_temperature': 1.8712176809519174, 'max_depth': 9, 'random_strength': 64, 'l2_leaf_reg': 1.0701630521468937e-05, 'min_child_samples': 43, 'max_bin': 438, 'od_type': 'IncToDec', 'task_type': 'GPU', 'loss_function': 'MAE', 'eval_metric': 'MAE'}. Best is trial 121 with value: 5.343377942063889.\u001b[0m\n"
     ]
    },
    {
     "name": "stdout",
     "output_type": "stream",
     "text": [
      "MAE of Train: 8.300794100386334\n",
      "MAE of Validation: 8.305897422058159\n"
     ]
    },
    {
     "name": "stderr",
     "output_type": "stream",
     "text": [
      "\u001b[32m[I 2022-03-27 04:41:48,862]\u001b[0m Trial 686 finished with value: 5.443237775010572 and parameters: {'random_state': 519632, 'learning_rate': 0.011594229147356099, 'bagging_temperature': 1.4472000921286963, 'max_depth': 9, 'random_strength': 30, 'l2_leaf_reg': 1.0223241490441393e-05, 'min_child_samples': 47, 'max_bin': 455, 'od_type': 'IncToDec', 'task_type': 'GPU', 'loss_function': 'MAE', 'eval_metric': 'MAE'}. Best is trial 121 with value: 5.343377942063889.\u001b[0m\n"
     ]
    },
    {
     "name": "stdout",
     "output_type": "stream",
     "text": [
      "MAE of Train: 5.446476985447337\n",
      "MAE of Validation: 5.443237775010572\n"
     ]
    },
    {
     "name": "stderr",
     "output_type": "stream",
     "text": [
      "\u001b[32m[I 2022-03-27 04:41:54,559]\u001b[0m Trial 687 finished with value: 5.358174975870273 and parameters: {'random_state': 519632, 'learning_rate': 0.04815140699134088, 'bagging_temperature': 2.871521757454684, 'max_depth': 9, 'random_strength': 87, 'l2_leaf_reg': 1.1172655302022444e-05, 'min_child_samples': 68, 'max_bin': 443, 'od_type': 'IncToDec', 'task_type': 'GPU', 'loss_function': 'MAE', 'eval_metric': 'MAE'}. Best is trial 121 with value: 5.343377942063889.\u001b[0m\n"
     ]
    },
    {
     "name": "stdout",
     "output_type": "stream",
     "text": [
      "MAE of Train: 5.225065392873478\n",
      "MAE of Validation: 5.358174975870273\n"
     ]
    },
    {
     "name": "stderr",
     "output_type": "stream",
     "text": [
      "\u001b[32m[I 2022-03-27 04:42:00,222]\u001b[0m Trial 688 finished with value: 5.367833558083204 and parameters: {'random_state': 519632, 'learning_rate': 0.03192636735009819, 'bagging_temperature': 1.5405036749211183, 'max_depth': 9, 'random_strength': 36, 'l2_leaf_reg': 9.455265551334367e-06, 'min_child_samples': 45, 'max_bin': 466, 'od_type': 'IncToDec', 'task_type': 'GPU', 'loss_function': 'MAE', 'eval_metric': 'MAE'}. Best is trial 121 with value: 5.343377942063889.\u001b[0m\n"
     ]
    },
    {
     "name": "stdout",
     "output_type": "stream",
     "text": [
      "MAE of Train: 5.303370862738988\n",
      "MAE of Validation: 5.367833558083204\n"
     ]
    },
    {
     "name": "stderr",
     "output_type": "stream",
     "text": [
      "\u001b[32m[I 2022-03-27 04:42:04,892]\u001b[0m Trial 689 finished with value: 5.999503288411065 and parameters: {'random_state': 519632, 'learning_rate': 0.0027951286670835447, 'bagging_temperature': 1.267337788365574, 'max_depth': 8, 'random_strength': 96, 'l2_leaf_reg': 1.060000160873608e-05, 'min_child_samples': 46, 'max_bin': 450, 'od_type': 'IncToDec', 'task_type': 'GPU', 'loss_function': 'MAE', 'eval_metric': 'MAE'}. Best is trial 121 with value: 5.343377942063889.\u001b[0m\n"
     ]
    },
    {
     "name": "stdout",
     "output_type": "stream",
     "text": [
      "MAE of Train: 5.9898982734459745\n",
      "MAE of Validation: 5.999503288411065\n"
     ]
    },
    {
     "name": "stderr",
     "output_type": "stream",
     "text": [
      "\u001b[32m[I 2022-03-27 04:42:08,182]\u001b[0m Trial 690 finished with value: 5.42754562656929 and parameters: {'random_state': 519632, 'learning_rate': 0.05821797295188064, 'bagging_temperature': 2.132620735051968, 'max_depth': 3, 'random_strength': 68, 'l2_leaf_reg': 9.846110280029949e-06, 'min_child_samples': 38, 'max_bin': 430, 'od_type': 'IncToDec', 'task_type': 'GPU', 'loss_function': 'MAE', 'eval_metric': 'MAE'}. Best is trial 121 with value: 5.343377942063889.\u001b[0m\n"
     ]
    },
    {
     "name": "stdout",
     "output_type": "stream",
     "text": [
      "MAE of Train: 5.433290050664839\n",
      "MAE of Validation: 5.42754562656929\n"
     ]
    },
    {
     "name": "stderr",
     "output_type": "stream",
     "text": [
      "\u001b[32m[I 2022-03-27 04:42:13,857]\u001b[0m Trial 691 finished with value: 5.357171659322832 and parameters: {'random_state': 519632, 'learning_rate': 0.04201691572878254, 'bagging_temperature': 1.8302518827219527, 'max_depth': 9, 'random_strength': 76, 'l2_leaf_reg': 1.1503479771735259e-05, 'min_child_samples': 70, 'max_bin': 462, 'od_type': 'IncToDec', 'task_type': 'GPU', 'loss_function': 'MAE', 'eval_metric': 'MAE'}. Best is trial 121 with value: 5.343377942063889.\u001b[0m\n"
     ]
    },
    {
     "name": "stdout",
     "output_type": "stream",
     "text": [
      "MAE of Train: 5.255488256062288\n",
      "MAE of Validation: 5.357171659322832\n"
     ]
    },
    {
     "name": "stderr",
     "output_type": "stream",
     "text": [
      "\u001b[32m[I 2022-03-27 04:42:18,869]\u001b[0m Trial 692 finished with value: 5.353932889906739 and parameters: {'random_state': 519632, 'learning_rate': 0.07566394706555307, 'bagging_temperature': 3.5134839038053554, 'max_depth': 9, 'random_strength': 67, 'l2_leaf_reg': 1.0779229901745597e-05, 'min_child_samples': 59, 'max_bin': 469, 'od_type': 'IncToDec', 'task_type': 'GPU', 'loss_function': 'MAE', 'eval_metric': 'MAE'}. Best is trial 121 with value: 5.343377942063889.\u001b[0m\n"
     ]
    },
    {
     "name": "stdout",
     "output_type": "stream",
     "text": [
      "MAE of Train: 5.1780813875632985\n",
      "MAE of Validation: 5.353932889906739\n"
     ]
    },
    {
     "name": "stderr",
     "output_type": "stream",
     "text": [
      "\u001b[32m[I 2022-03-27 04:42:24,263]\u001b[0m Trial 693 finished with value: 5.3470928547232 and parameters: {'random_state': 519632, 'learning_rate': 0.06482519167596491, 'bagging_temperature': 1.3081474698409, 'max_depth': 9, 'random_strength': 89, 'l2_leaf_reg': 9.291718768712888e-06, 'min_child_samples': 63, 'max_bin': 457, 'od_type': 'IncToDec', 'task_type': 'GPU', 'loss_function': 'MAE', 'eval_metric': 'MAE'}. Best is trial 121 with value: 5.343377942063889.\u001b[0m\n"
     ]
    },
    {
     "name": "stdout",
     "output_type": "stream",
     "text": [
      "MAE of Train: 5.196230449044104\n",
      "MAE of Validation: 5.3470928547232\n"
     ]
    },
    {
     "name": "stderr",
     "output_type": "stream",
     "text": [
      "\u001b[32m[I 2022-03-27 04:42:26,332]\u001b[0m Trial 694 finished with value: 5.3678883932688075 and parameters: {'random_state': 519632, 'learning_rate': 0.19145805808335967, 'bagging_temperature': 1.5268575417746164, 'max_depth': 9, 'random_strength': 25, 'l2_leaf_reg': 9.986964105686382e-06, 'min_child_samples': 67, 'max_bin': 331, 'od_type': 'IncToDec', 'task_type': 'GPU', 'loss_function': 'MAE', 'eval_metric': 'MAE'}. Best is trial 121 with value: 5.343377942063889.\u001b[0m\n"
     ]
    },
    {
     "name": "stdout",
     "output_type": "stream",
     "text": [
      "MAE of Train: 5.224767196871559\n",
      "MAE of Validation: 5.3678883932688075\n"
     ]
    },
    {
     "name": "stderr",
     "output_type": "stream",
     "text": [
      "\u001b[32m[I 2022-03-27 04:42:30,527]\u001b[0m Trial 695 finished with value: 5.353009800037937 and parameters: {'random_state': 519632, 'learning_rate': 0.08577828121461246, 'bagging_temperature': 2.4274296352589984, 'max_depth': 9, 'random_strength': 28, 'l2_leaf_reg': 1.1563978491133228e-05, 'min_child_samples': 72, 'max_bin': 461, 'od_type': 'IncToDec', 'task_type': 'GPU', 'loss_function': 'MAE', 'eval_metric': 'MAE'}. Best is trial 121 with value: 5.343377942063889.\u001b[0m\n"
     ]
    },
    {
     "name": "stdout",
     "output_type": "stream",
     "text": [
      "MAE of Train: 5.185976610928828\n",
      "MAE of Validation: 5.353009800037937\n"
     ]
    },
    {
     "name": "stderr",
     "output_type": "stream",
     "text": [
      "\u001b[32m[I 2022-03-27 04:42:36,312]\u001b[0m Trial 696 finished with value: 5.34977601280262 and parameters: {'random_state': 519632, 'learning_rate': 0.055232150616456775, 'bagging_temperature': 1.6419397345860136, 'max_depth': 9, 'random_strength': 33, 'l2_leaf_reg': 9.006776644349788e-06, 'min_child_samples': 61, 'max_bin': 468, 'od_type': 'IncToDec', 'task_type': 'GPU', 'loss_function': 'MAE', 'eval_metric': 'MAE'}. Best is trial 121 with value: 5.343377942063889.\u001b[0m\n"
     ]
    },
    {
     "name": "stdout",
     "output_type": "stream",
     "text": [
      "MAE of Train: 5.203567341064313\n",
      "MAE of Validation: 5.34977601280262\n"
     ]
    },
    {
     "name": "stderr",
     "output_type": "stream",
     "text": [
      "\u001b[32m[I 2022-03-27 04:42:41,569]\u001b[0m Trial 697 finished with value: 5.347015569138673 and parameters: {'random_state': 519632, 'learning_rate': 0.07277835821535016, 'bagging_temperature': 1.2890522969295508, 'max_depth': 9, 'random_strength': 23, 'l2_leaf_reg': 1.0531862527410639e-05, 'min_child_samples': 65, 'max_bin': 451, 'od_type': 'IncToDec', 'task_type': 'GPU', 'loss_function': 'MAE', 'eval_metric': 'MAE'}. Best is trial 121 with value: 5.343377942063889.\u001b[0m\n"
     ]
    },
    {
     "name": "stdout",
     "output_type": "stream",
     "text": [
      "MAE of Train: 5.174696785650462\n",
      "MAE of Validation: 5.347015569138673\n"
     ]
    },
    {
     "name": "stderr",
     "output_type": "stream",
     "text": [
      "\u001b[32m[I 2022-03-27 04:42:46,038]\u001b[0m Trial 698 finished with value: 5.350338282427777 and parameters: {'random_state': 519632, 'learning_rate': 0.09475357149106738, 'bagging_temperature': 1.941236736024024, 'max_depth': 9, 'random_strength': 70, 'l2_leaf_reg': 1.203737988890308e-05, 'min_child_samples': 43, 'max_bin': 469, 'od_type': 'IncToDec', 'task_type': 'GPU', 'loss_function': 'MAE', 'eval_metric': 'MAE'}. Best is trial 121 with value: 5.343377942063889.\u001b[0m\n"
     ]
    },
    {
     "name": "stdout",
     "output_type": "stream",
     "text": [
      "MAE of Train: 5.149395262034439\n",
      "MAE of Validation: 5.350338282427777\n"
     ]
    },
    {
     "name": "stderr",
     "output_type": "stream",
     "text": [
      "\u001b[32m[I 2022-03-27 04:42:51,768]\u001b[0m Trial 699 finished with value: 5.346322394509829 and parameters: {'random_state': 519632, 'learning_rate': 0.06270741576827192, 'bagging_temperature': 1.2536163539477732, 'max_depth': 9, 'random_strength': 31, 'l2_leaf_reg': 1.1064721103137981e-05, 'min_child_samples': 69, 'max_bin': 444, 'od_type': 'Iter', 'task_type': 'GPU', 'loss_function': 'MAE', 'eval_metric': 'MAE'}. Best is trial 121 with value: 5.343377942063889.\u001b[0m\n"
     ]
    },
    {
     "name": "stdout",
     "output_type": "stream",
     "text": [
      "MAE of Train: 5.18477976112824\n",
      "MAE of Validation: 5.346322394509829\n"
     ]
    },
    {
     "name": "stderr",
     "output_type": "stream",
     "text": [
      "\u001b[32m[I 2022-03-27 04:42:57,463]\u001b[0m Trial 700 finished with value: 5.353740947978134 and parameters: {'random_state': 519632, 'learning_rate': 0.0491545603332859, 'bagging_temperature': 1.55280733410768, 'max_depth': 9, 'random_strength': 31, 'l2_leaf_reg': 1.1218896697544469e-05, 'min_child_samples': 69, 'max_bin': 439, 'od_type': 'Iter', 'task_type': 'GPU', 'loss_function': 'MAE', 'eval_metric': 'MAE'}. Best is trial 121 with value: 5.343377942063889.\u001b[0m\n"
     ]
    },
    {
     "name": "stdout",
     "output_type": "stream",
     "text": [
      "MAE of Train: 5.230142043383217\n",
      "MAE of Validation: 5.353740947978134\n"
     ]
    },
    {
     "name": "stderr",
     "output_type": "stream",
     "text": [
      "\u001b[32m[I 2022-03-27 04:43:03,218]\u001b[0m Trial 701 finished with value: 5.359420388607139 and parameters: {'random_state': 519632, 'learning_rate': 0.04009393016043087, 'bagging_temperature': 1.279056588651041, 'max_depth': 9, 'random_strength': 33, 'l2_leaf_reg': 1.185867384238737e-05, 'min_child_samples': 71, 'max_bin': 442, 'od_type': 'IncToDec', 'task_type': 'GPU', 'loss_function': 'MAE', 'eval_metric': 'MAE'}. Best is trial 121 with value: 5.343377942063889.\u001b[0m\n"
     ]
    },
    {
     "name": "stdout",
     "output_type": "stream",
     "text": [
      "MAE of Train: 5.266857153761177\n",
      "MAE of Validation: 5.359420388607139\n"
     ]
    },
    {
     "name": "stderr",
     "output_type": "stream",
     "text": [
      "\u001b[32m[I 2022-03-27 04:43:08,893]\u001b[0m Trial 702 finished with value: 5.35007959878507 and parameters: {'random_state': 519632, 'learning_rate': 0.06006319406844615, 'bagging_temperature': 1.9075916864807592, 'max_depth': 9, 'random_strength': 31, 'l2_leaf_reg': 1.1108486883493849e-05, 'min_child_samples': 74, 'max_bin': 447, 'od_type': 'Iter', 'task_type': 'GPU', 'loss_function': 'MAE', 'eval_metric': 'MAE'}. Best is trial 121 with value: 5.343377942063889.\u001b[0m\n"
     ]
    },
    {
     "name": "stdout",
     "output_type": "stream",
     "text": [
      "MAE of Train: 5.1812527561814585\n",
      "MAE of Validation: 5.35007959878507\n"
     ]
    },
    {
     "name": "stderr",
     "output_type": "stream",
     "text": [
      "\u001b[32m[I 2022-03-27 04:43:14,535]\u001b[0m Trial 703 finished with value: 5.354264369417428 and parameters: {'random_state': 519632, 'learning_rate': 0.04989758617479837, 'bagging_temperature': 1.4874513386765995, 'max_depth': 9, 'random_strength': 82, 'l2_leaf_reg': 1.1717552499681324e-05, 'min_child_samples': 69, 'max_bin': 444, 'od_type': 'Iter', 'task_type': 'GPU', 'loss_function': 'MAE', 'eval_metric': 'MAE'}. Best is trial 121 with value: 5.343377942063889.\u001b[0m\n"
     ]
    },
    {
     "name": "stdout",
     "output_type": "stream",
     "text": [
      "MAE of Train: 5.2371569714404735\n",
      "MAE of Validation: 5.354264369417428\n"
     ]
    },
    {
     "name": "stderr",
     "output_type": "stream",
     "text": [
      "\u001b[32m[I 2022-03-27 04:43:20,189]\u001b[0m Trial 704 finished with value: 5.34714527492124 and parameters: {'random_state': 519632, 'learning_rate': 0.0642108467298062, 'bagging_temperature': 2.419411677932437, 'max_depth': 9, 'random_strength': 94, 'l2_leaf_reg': 1.1085053971185314e-05, 'min_child_samples': 68, 'max_bin': 452, 'od_type': 'Iter', 'task_type': 'GPU', 'loss_function': 'MAE', 'eval_metric': 'MAE'}. Best is trial 121 with value: 5.343377942063889.\u001b[0m\n"
     ]
    },
    {
     "name": "stdout",
     "output_type": "stream",
     "text": [
      "MAE of Train: 5.180296167252946\n",
      "MAE of Validation: 5.34714527492124\n"
     ]
    },
    {
     "name": "stderr",
     "output_type": "stream",
     "text": [
      "\u001b[32m[I 2022-03-27 04:43:25,882]\u001b[0m Trial 705 finished with value: 5.350346959872719 and parameters: {'random_state': 519632, 'learning_rate': 0.05442663375110577, 'bagging_temperature': 1.6744165745113881, 'max_depth': 9, 'random_strength': 98, 'l2_leaf_reg': 1.237100571250798e-05, 'min_child_samples': 22, 'max_bin': 426, 'od_type': 'IncToDec', 'task_type': 'GPU', 'loss_function': 'MAE', 'eval_metric': 'MAE'}. Best is trial 121 with value: 5.343377942063889.\u001b[0m\n"
     ]
    },
    {
     "name": "stdout",
     "output_type": "stream",
     "text": [
      "MAE of Train: 5.209607908234935\n",
      "MAE of Validation: 5.350346959872719\n"
     ]
    },
    {
     "name": "stderr",
     "output_type": "stream",
     "text": [
      "\u001b[32m[I 2022-03-27 04:43:31,562]\u001b[0m Trial 706 finished with value: 5.356018744811622 and parameters: {'random_state': 519632, 'learning_rate': 0.04457485453706923, 'bagging_temperature': 1.2617638024529096, 'max_depth': 9, 'random_strength': 35, 'l2_leaf_reg': 1.0431026678347864e-05, 'min_child_samples': 66, 'max_bin': 432, 'od_type': 'Iter', 'task_type': 'GPU', 'loss_function': 'MAE', 'eval_metric': 'MAE'}. Best is trial 121 with value: 5.343377942063889.\u001b[0m\n"
     ]
    },
    {
     "name": "stdout",
     "output_type": "stream",
     "text": [
      "MAE of Train: 5.251136624351552\n",
      "MAE of Validation: 5.356018744811622\n"
     ]
    },
    {
     "name": "stderr",
     "output_type": "stream",
     "text": [
      "\u001b[32m[I 2022-03-27 04:43:37,338]\u001b[0m Trial 707 finished with value: 5.349556463834349 and parameters: {'random_state': 519632, 'learning_rate': 0.06758656949550165, 'bagging_temperature': 1.1486755298087437, 'max_depth': 9, 'random_strength': 28, 'l2_leaf_reg': 5.045608474788072e-06, 'min_child_samples': 77, 'max_bin': 453, 'od_type': 'Iter', 'task_type': 'GPU', 'loss_function': 'MAE', 'eval_metric': 'MAE'}. Best is trial 121 with value: 5.343377942063889.\u001b[0m\n"
     ]
    },
    {
     "name": "stdout",
     "output_type": "stream",
     "text": [
      "MAE of Train: 5.168828056241327\n",
      "MAE of Validation: 5.349556463834349\n"
     ]
    },
    {
     "name": "stderr",
     "output_type": "stream",
     "text": [
      "\u001b[32m[I 2022-03-27 04:43:43,437]\u001b[0m Trial 708 finished with value: 5.348978422045209 and parameters: {'random_state': 519632, 'learning_rate': 0.05849617222914784, 'bagging_temperature': 2.0661367236620176, 'max_depth': 9, 'random_strength': 84, 'l2_leaf_reg': 1.3051265302993893e-05, 'min_child_samples': 72, 'max_bin': 446, 'od_type': 'Iter', 'task_type': 'GPU', 'loss_function': 'MAE', 'eval_metric': 'MAE'}. Best is trial 121 with value: 5.343377942063889.\u001b[0m\n"
     ]
    },
    {
     "name": "stdout",
     "output_type": "stream",
     "text": [
      "MAE of Train: 5.188344067307622\n",
      "MAE of Validation: 5.348978422045209\n"
     ]
    },
    {
     "name": "stderr",
     "output_type": "stream",
     "text": [
      "\u001b[32m[I 2022-03-27 04:43:48,032]\u001b[0m Trial 709 finished with value: 5.353211243979264 and parameters: {'random_state': 519632, 'learning_rate': 0.07429638947105927, 'bagging_temperature': 1.352131135646432, 'max_depth': 9, 'random_strength': 30, 'l2_leaf_reg': 1.188484548402426e-05, 'min_child_samples': 70, 'max_bin': 458, 'od_type': 'Iter', 'task_type': 'GPU', 'loss_function': 'MAE', 'eval_metric': 'MAE'}. Best is trial 121 with value: 5.343377942063889.\u001b[0m\n"
     ]
    },
    {
     "name": "stdout",
     "output_type": "stream",
     "text": [
      "MAE of Train: 5.209931623157244\n",
      "MAE of Validation: 5.353211243979264\n"
     ]
    },
    {
     "name": "stderr",
     "output_type": "stream",
     "text": [
      "\u001b[32m[I 2022-03-27 04:43:53,780]\u001b[0m Trial 710 finished with value: 5.363782125211979 and parameters: {'random_state': 519632, 'learning_rate': 0.035391204403752693, 'bagging_temperature': 1.656487849853653, 'max_depth': 9, 'random_strength': 26, 'l2_leaf_reg': 1.0980531559641698e-05, 'min_child_samples': 66, 'max_bin': 448, 'od_type': 'Iter', 'task_type': 'GPU', 'loss_function': 'MAE', 'eval_metric': 'MAE'}. Best is trial 121 with value: 5.343377942063889.\u001b[0m\n"
     ]
    },
    {
     "name": "stdout",
     "output_type": "stream",
     "text": [
      "MAE of Train: 5.280572967748245\n",
      "MAE of Validation: 5.363782125211979\n"
     ]
    },
    {
     "name": "stderr",
     "output_type": "stream",
     "text": [
      "\u001b[32m[I 2022-03-27 04:43:58,625]\u001b[0m Trial 711 finished with value: 5.352884467444086 and parameters: {'random_state': 519632, 'learning_rate': 0.08208310737070068, 'bagging_temperature': 1.4173757186263607, 'max_depth': 9, 'random_strength': 31, 'l2_leaf_reg': 1.05301614355093e-05, 'min_child_samples': 68, 'max_bin': 435, 'od_type': 'Iter', 'task_type': 'GPU', 'loss_function': 'MAE', 'eval_metric': 'MAE'}. Best is trial 121 with value: 5.343377942063889.\u001b[0m\n"
     ]
    },
    {
     "name": "stdout",
     "output_type": "stream",
     "text": [
      "MAE of Train: 5.177752438905533\n",
      "MAE of Validation: 5.352884467444086\n"
     ]
    },
    {
     "name": "stderr",
     "output_type": "stream",
     "text": [
      "\u001b[32m[I 2022-03-27 04:44:04,330]\u001b[0m Trial 712 finished with value: 5.35190936513041 and parameters: {'random_state': 519632, 'learning_rate': 0.06307892240587362, 'bagging_temperature': 0.015647679454916952, 'max_depth': 9, 'random_strength': 33, 'l2_leaf_reg': 1.14622856366688e-05, 'min_child_samples': 64, 'max_bin': 454, 'od_type': 'Iter', 'task_type': 'GPU', 'loss_function': 'MAE', 'eval_metric': 'MAE'}. Best is trial 121 with value: 5.343377942063889.\u001b[0m\n"
     ]
    },
    {
     "name": "stdout",
     "output_type": "stream",
     "text": [
      "MAE of Train: 5.221062966674492\n",
      "MAE of Validation: 5.35190936513041\n"
     ]
    },
    {
     "name": "stderr",
     "output_type": "stream",
     "text": [
      "\u001b[32m[I 2022-03-27 04:44:10,109]\u001b[0m Trial 713 finished with value: 5.350006093624875 and parameters: {'random_state': 519632, 'learning_rate': 0.05526570227029326, 'bagging_temperature': 1.1044951231155926, 'max_depth': 9, 'random_strength': 27, 'l2_leaf_reg': 1.238812621327129e-05, 'min_child_samples': 75, 'max_bin': 441, 'od_type': 'Iter', 'task_type': 'GPU', 'loss_function': 'MAE', 'eval_metric': 'MAE'}. Best is trial 121 with value: 5.343377942063889.\u001b[0m\n"
     ]
    },
    {
     "name": "stdout",
     "output_type": "stream",
     "text": [
      "MAE of Train: 5.206385662462783\n",
      "MAE of Validation: 5.350006093624875\n"
     ]
    },
    {
     "name": "stderr",
     "output_type": "stream",
     "text": [
      "\u001b[32m[I 2022-03-27 04:44:15,607]\u001b[0m Trial 714 finished with value: 5.34583752157849 and parameters: {'random_state': 519632, 'learning_rate': 0.07190091365625957, 'bagging_temperature': 1.874968740902463, 'max_depth': 9, 'random_strength': 29, 'l2_leaf_reg': 1.4596201704932405e-05, 'min_child_samples': 67, 'max_bin': 461, 'od_type': 'Iter', 'task_type': 'GPU', 'loss_function': 'MAE', 'eval_metric': 'MAE'}. Best is trial 121 with value: 5.343377942063889.\u001b[0m\n"
     ]
    },
    {
     "name": "stdout",
     "output_type": "stream",
     "text": [
      "MAE of Train: 5.160086801460497\n",
      "MAE of Validation: 5.34583752157849\n"
     ]
    },
    {
     "name": "stderr",
     "output_type": "stream",
     "text": [
      "\u001b[32m[I 2022-03-27 04:44:20,097]\u001b[0m Trial 715 finished with value: 5.352024765851468 and parameters: {'random_state': 519632, 'learning_rate': 0.09896926090640429, 'bagging_temperature': 2.815548254280485, 'max_depth': 9, 'random_strength': 36, 'l2_leaf_reg': 1.5482526275956047e-05, 'min_child_samples': 67, 'max_bin': 420, 'od_type': 'Iter', 'task_type': 'GPU', 'loss_function': 'MAE', 'eval_metric': 'MAE'}. Best is trial 121 with value: 5.343377942063889.\u001b[0m\n"
     ]
    },
    {
     "name": "stdout",
     "output_type": "stream",
     "text": [
      "MAE of Train: 5.148184303182878\n",
      "MAE of Validation: 5.352024765851468\n"
     ]
    },
    {
     "name": "stderr",
     "output_type": "stream",
     "text": [
      "\u001b[32m[I 2022-03-27 04:44:25,364]\u001b[0m Trial 716 finished with value: 5.349387664888272 and parameters: {'random_state': 519632, 'learning_rate': 0.0767076597806724, 'bagging_temperature': 2.216089857552164, 'max_depth': 9, 'random_strength': 32, 'l2_leaf_reg': 1.4728952195535893e-05, 'min_child_samples': 70, 'max_bin': 460, 'od_type': 'Iter', 'task_type': 'GPU', 'loss_function': 'MAE', 'eval_metric': 'MAE'}. Best is trial 121 with value: 5.343377942063889.\u001b[0m\n"
     ]
    },
    {
     "name": "stdout",
     "output_type": "stream",
     "text": [
      "MAE of Train: 5.15267878142896\n",
      "MAE of Validation: 5.349387664888272\n"
     ]
    },
    {
     "name": "stderr",
     "output_type": "stream",
     "text": [
      "\u001b[32m[I 2022-03-27 04:44:29,265]\u001b[0m Trial 717 finished with value: 5.350733570107211 and parameters: {'random_state': 519632, 'learning_rate': 0.0867942071013698, 'bagging_temperature': 1.879222883629008, 'max_depth': 9, 'random_strength': 29, 'l2_leaf_reg': 1.3988523229370393e-05, 'min_child_samples': 68, 'max_bin': 458, 'od_type': 'Iter', 'task_type': 'GPU', 'loss_function': 'MAE', 'eval_metric': 'MAE'}. Best is trial 121 with value: 5.343377942063889.\u001b[0m\n"
     ]
    },
    {
     "name": "stdout",
     "output_type": "stream",
     "text": [
      "MAE of Train: 5.19481490757178\n",
      "MAE of Validation: 5.350733570107211\n"
     ]
    },
    {
     "name": "stderr",
     "output_type": "stream",
     "text": [
      "\u001b[32m[I 2022-03-27 04:44:31,835]\u001b[0m Trial 718 finished with value: 5.359891229362617 and parameters: {'random_state': 519632, 'learning_rate': 0.1590016004077767, 'bagging_temperature': 2.2805748933603898, 'max_depth': 9, 'random_strength': 34, 'l2_leaf_reg': 1.6749792665966765e-05, 'min_child_samples': 65, 'max_bin': 463, 'od_type': 'Iter', 'task_type': 'GPU', 'loss_function': 'MAE', 'eval_metric': 'MAE'}. Best is trial 121 with value: 5.343377942063889.\u001b[0m\n"
     ]
    },
    {
     "name": "stdout",
     "output_type": "stream",
     "text": [
      "MAE of Train: 5.181037467496696\n",
      "MAE of Validation: 5.359891229362617\n"
     ]
    },
    {
     "name": "stderr",
     "output_type": "stream",
     "text": [
      "\u001b[32m[I 2022-03-27 04:44:36,672]\u001b[0m Trial 719 finished with value: 5.3546143143115685 and parameters: {'random_state': 519632, 'learning_rate': 0.07063561124403711, 'bagging_temperature': 1.74455514628173, 'max_depth': 8, 'random_strength': 29, 'l2_leaf_reg': 1.5103441872959878e-05, 'min_child_samples': 69, 'max_bin': 451, 'od_type': 'Iter', 'task_type': 'GPU', 'loss_function': 'MAE', 'eval_metric': 'MAE'}. Best is trial 121 with value: 5.343377942063889.\u001b[0m\n"
     ]
    },
    {
     "name": "stdout",
     "output_type": "stream",
     "text": [
      "MAE of Train: 5.217967336708425\n",
      "MAE of Validation: 5.3546143143115685\n"
     ]
    },
    {
     "name": "stderr",
     "output_type": "stream",
     "text": [
      "\u001b[32m[I 2022-03-27 04:44:39,998]\u001b[0m Trial 720 finished with value: 5.35686421229834 and parameters: {'random_state': 519632, 'learning_rate': 0.1070029129905333, 'bagging_temperature': 2.801865382558494, 'max_depth': 9, 'random_strength': 31, 'l2_leaf_reg': 1.4417891582475359e-05, 'min_child_samples': 71, 'max_bin': 454, 'od_type': 'Iter', 'task_type': 'GPU', 'loss_function': 'MAE', 'eval_metric': 'MAE'}. Best is trial 121 with value: 5.343377942063889.\u001b[0m\n"
     ]
    },
    {
     "name": "stdout",
     "output_type": "stream",
     "text": [
      "MAE of Train: 5.197600473025207\n",
      "MAE of Validation: 5.35686421229834\n"
     ]
    },
    {
     "name": "stderr",
     "output_type": "stream",
     "text": [
      "\u001b[32m[I 2022-03-27 04:44:44,064]\u001b[0m Trial 721 finished with value: 5.350954133849027 and parameters: {'random_state': 519632, 'learning_rate': 0.08782506183695864, 'bagging_temperature': 1.4648321934945256, 'max_depth': 9, 'random_strength': 14, 'l2_leaf_reg': 1.5624917248042987e-05, 'min_child_samples': 67, 'max_bin': 463, 'od_type': 'Iter', 'task_type': 'GPU', 'loss_function': 'MAE', 'eval_metric': 'MAE'}. Best is trial 121 with value: 5.343377942063889.\u001b[0m\n"
     ]
    },
    {
     "name": "stdout",
     "output_type": "stream",
     "text": [
      "MAE of Train: 5.193006080405513\n",
      "MAE of Validation: 5.350954133849027\n"
     ]
    },
    {
     "name": "stderr",
     "output_type": "stream",
     "text": [
      "\u001b[32m[I 2022-03-27 04:44:49,782]\u001b[0m Trial 722 finished with value: 5.3468286109811425 and parameters: {'random_state': 519632, 'learning_rate': 0.0656376602209419, 'bagging_temperature': 1.1579692436067064, 'max_depth': 9, 'random_strength': 20, 'l2_leaf_reg': 1.4293962144547631e-05, 'min_child_samples': 65, 'max_bin': 458, 'od_type': 'Iter', 'task_type': 'GPU', 'loss_function': 'MAE', 'eval_metric': 'MAE'}. Best is trial 121 with value: 5.343377942063889.\u001b[0m\n"
     ]
    },
    {
     "name": "stdout",
     "output_type": "stream",
     "text": [
      "MAE of Train: 5.171915935409197\n",
      "MAE of Validation: 5.3468286109811425\n"
     ]
    },
    {
     "name": "stderr",
     "output_type": "stream",
     "text": [
      "\u001b[32m[I 2022-03-27 04:44:55,499]\u001b[0m Trial 723 finished with value: 5.353728922152892 and parameters: {'random_state': 519632, 'learning_rate': 0.04706002794842508, 'bagging_temperature': 1.8928745663984525, 'max_depth': 9, 'random_strength': 26, 'l2_leaf_reg': 1.4828573968459369e-05, 'min_child_samples': 73, 'max_bin': 446, 'od_type': 'Iter', 'task_type': 'GPU', 'loss_function': 'MAE', 'eval_metric': 'MAE'}. Best is trial 121 with value: 5.343377942063889.\u001b[0m\n"
     ]
    },
    {
     "name": "stdout",
     "output_type": "stream",
     "text": [
      "MAE of Train: 5.2228175700768436\n",
      "MAE of Validation: 5.353728922152892\n"
     ]
    },
    {
     "name": "stderr",
     "output_type": "stream",
     "text": [
      "\u001b[32m[I 2022-03-27 04:45:00,865]\u001b[0m Trial 724 finished with value: 5.345778711138845 and parameters: {'random_state': 519632, 'learning_rate': 0.07551867077980408, 'bagging_temperature': 1.3541966379669665, 'max_depth': 9, 'random_strength': 16, 'l2_leaf_reg': 1.3073155929421717e-05, 'min_child_samples': 67, 'max_bin': 452, 'od_type': 'Iter', 'task_type': 'GPU', 'loss_function': 'MAE', 'eval_metric': 'MAE'}. Best is trial 121 with value: 5.343377942063889.\u001b[0m\n"
     ]
    },
    {
     "name": "stdout",
     "output_type": "stream",
     "text": [
      "MAE of Train: 5.162159260551538\n",
      "MAE of Validation: 5.345778711138845\n"
     ]
    },
    {
     "name": "stderr",
     "output_type": "stream",
     "text": [
      "\u001b[32m[I 2022-03-27 04:45:05,088]\u001b[0m Trial 725 finished with value: 5.352861024513475 and parameters: {'random_state': 519632, 'learning_rate': 0.09936683037877765, 'bagging_temperature': 1.0139739312027243, 'max_depth': 9, 'random_strength': 15, 'l2_leaf_reg': 1.3830783539110369e-05, 'min_child_samples': 69, 'max_bin': 438, 'od_type': 'Iter', 'task_type': 'GPU', 'loss_function': 'MAE', 'eval_metric': 'MAE'}. Best is trial 121 with value: 5.343377942063889.\u001b[0m\n"
     ]
    },
    {
     "name": "stdout",
     "output_type": "stream",
     "text": [
      "MAE of Train: 5.1790662808615675\n",
      "MAE of Validation: 5.352861024513475\n"
     ]
    },
    {
     "name": "stderr",
     "output_type": "stream",
     "text": [
      "\u001b[32m[I 2022-03-27 04:45:10,593]\u001b[0m Trial 726 finished with value: 5.348107538146035 and parameters: {'random_state': 519632, 'learning_rate': 0.0792849301613017, 'bagging_temperature': 1.276517922768162, 'max_depth': 9, 'random_strength': 16, 'l2_leaf_reg': 1.6004816379291772e-05, 'min_child_samples': 67, 'max_bin': 447, 'od_type': 'Iter', 'task_type': 'GPU', 'loss_function': 'MAE', 'eval_metric': 'MAE'}. Best is trial 121 with value: 5.343377942063889.\u001b[0m\n"
     ]
    },
    {
     "name": "stdout",
     "output_type": "stream",
     "text": [
      "MAE of Train: 5.1460945388231245\n",
      "MAE of Validation: 5.348107538146035\n"
     ]
    },
    {
     "name": "stderr",
     "output_type": "stream",
     "text": [
      "\u001b[32m[I 2022-03-27 04:45:14,319]\u001b[0m Trial 727 finished with value: 5.35285223305952 and parameters: {'random_state': 519632, 'learning_rate': 0.1231922079851938, 'bagging_temperature': 1.0158768146412924, 'max_depth': 9, 'random_strength': 14, 'l2_leaf_reg': 1.3650618812474767e-05, 'min_child_samples': 70, 'max_bin': 453, 'od_type': 'Iter', 'task_type': 'GPU', 'loss_function': 'MAE', 'eval_metric': 'MAE'}. Best is trial 121 with value: 5.343377942063889.\u001b[0m\n"
     ]
    },
    {
     "name": "stdout",
     "output_type": "stream",
     "text": [
      "MAE of Train: 5.156166127556227\n",
      "MAE of Validation: 5.35285223305952\n"
     ]
    },
    {
     "name": "stderr",
     "output_type": "stream",
     "text": [
      "\u001b[32m[I 2022-03-27 04:45:18,453]\u001b[0m Trial 728 finished with value: 5.3499994021183115 and parameters: {'random_state': 519632, 'learning_rate': 0.09327634965894248, 'bagging_temperature': 1.3345405598489193, 'max_depth': 9, 'random_strength': 13, 'l2_leaf_reg': 1.3087381210771007e-05, 'min_child_samples': 72, 'max_bin': 445, 'od_type': 'Iter', 'task_type': 'GPU', 'loss_function': 'MAE', 'eval_metric': 'MAE'}. Best is trial 121 with value: 5.343377942063889.\u001b[0m\n"
     ]
    },
    {
     "name": "stdout",
     "output_type": "stream",
     "text": [
      "MAE of Train: 5.188978210274344\n",
      "MAE of Validation: 5.3499994021183115\n"
     ]
    },
    {
     "name": "stderr",
     "output_type": "stream",
     "text": [
      "\u001b[32m[I 2022-03-27 04:45:23,652]\u001b[0m Trial 729 finished with value: 5.350108805614078 and parameters: {'random_state': 519632, 'learning_rate': 0.07846763749322448, 'bagging_temperature': 1.1524300335909599, 'max_depth': 9, 'random_strength': 16, 'l2_leaf_reg': 9.718179165341999e-06, 'min_child_samples': 68, 'max_bin': 450, 'od_type': 'Iter', 'task_type': 'GPU', 'loss_function': 'MAE', 'eval_metric': 'MAE'}. Best is trial 121 with value: 5.343377942063889.\u001b[0m\n"
     ]
    },
    {
     "name": "stdout",
     "output_type": "stream",
     "text": [
      "MAE of Train: 5.15967418958389\n",
      "MAE of Validation: 5.350108805614078\n"
     ]
    },
    {
     "name": "stderr",
     "output_type": "stream",
     "text": [
      "\u001b[32m[I 2022-03-27 04:45:29,353]\u001b[0m Trial 730 finished with value: 5.346074493862588 and parameters: {'random_state': 519632, 'learning_rate': 0.07034566334043946, 'bagging_temperature': 1.4839579475974927, 'max_depth': 9, 'random_strength': 18, 'l2_leaf_reg': 8.784249433383002e-06, 'min_child_samples': 70, 'max_bin': 438, 'od_type': 'Iter', 'task_type': 'GPU', 'loss_function': 'MAE', 'eval_metric': 'MAE'}. Best is trial 121 with value: 5.343377942063889.\u001b[0m\n"
     ]
    },
    {
     "name": "stdout",
     "output_type": "stream",
     "text": [
      "MAE of Train: 5.16088238309118\n",
      "MAE of Validation: 5.346074493862588\n"
     ]
    },
    {
     "name": "stderr",
     "output_type": "stream",
     "text": [
      "\u001b[32m[I 2022-03-27 04:45:33,373]\u001b[0m Trial 731 finished with value: 5.355224677809082 and parameters: {'random_state': 519632, 'learning_rate': 0.10948831543560889, 'bagging_temperature': 0.9747442754855397, 'max_depth': 8, 'random_strength': 19, 'l2_leaf_reg': 8.862439238303074e-06, 'min_child_samples': 71, 'max_bin': 438, 'od_type': 'Iter', 'task_type': 'GPU', 'loss_function': 'MAE', 'eval_metric': 'MAE'}. Best is trial 121 with value: 5.343377942063889.\u001b[0m\n"
     ]
    },
    {
     "name": "stdout",
     "output_type": "stream",
     "text": [
      "MAE of Train: 5.196495753573449\n",
      "MAE of Validation: 5.355224677809082\n"
     ]
    },
    {
     "name": "stderr",
     "output_type": "stream",
     "text": [
      "\u001b[32m[I 2022-03-27 04:45:37,487]\u001b[0m Trial 732 finished with value: 5.350632338027672 and parameters: {'random_state': 519632, 'learning_rate': 0.08487856073536772, 'bagging_temperature': 1.426254990954295, 'max_depth': 9, 'random_strength': 18, 'l2_leaf_reg': 8.226258144314453e-06, 'min_child_samples': 74, 'max_bin': 441, 'od_type': 'Iter', 'task_type': 'GPU', 'loss_function': 'MAE', 'eval_metric': 'MAE'}. Best is trial 121 with value: 5.343377942063889.\u001b[0m\n"
     ]
    },
    {
     "name": "stdout",
     "output_type": "stream",
     "text": [
      "MAE of Train: 5.200560981356349\n",
      "MAE of Validation: 5.350632338027672\n"
     ]
    },
    {
     "name": "stderr",
     "output_type": "stream",
     "text": [
      "\u001b[32m[I 2022-03-27 04:45:41,198]\u001b[0m Trial 733 finished with value: 5.35435895645069 and parameters: {'random_state': 519632, 'learning_rate': 0.09803393469630692, 'bagging_temperature': 1.1713942388321463, 'max_depth': 9, 'random_strength': 33, 'l2_leaf_reg': 9.001483812138666e-06, 'min_child_samples': 92, 'max_bin': 433, 'od_type': 'Iter', 'task_type': 'GPU', 'loss_function': 'MAE', 'eval_metric': 'MAE'}. Best is trial 121 with value: 5.343377942063889.\u001b[0m\n"
     ]
    },
    {
     "name": "stdout",
     "output_type": "stream",
     "text": [
      "MAE of Train: 5.208800332434481\n",
      "MAE of Validation: 5.35435895645069\n"
     ]
    },
    {
     "name": "stderr",
     "output_type": "stream",
     "text": [
      "\u001b[32m[I 2022-03-27 04:45:45,610]\u001b[0m Trial 734 finished with value: 5.35226977223527 and parameters: {'random_state': 519632, 'learning_rate': 0.07212688770358827, 'bagging_temperature': 1.5032847051209295, 'max_depth': 9, 'random_strength': 18, 'l2_leaf_reg': 8.568417194292545e-06, 'min_child_samples': 70, 'max_bin': 431, 'od_type': 'Iter', 'task_type': 'GPU', 'loss_function': 'MAE', 'eval_metric': 'MAE'}. Best is trial 121 with value: 5.343377942063889.\u001b[0m\n"
     ]
    },
    {
     "name": "stdout",
     "output_type": "stream",
     "text": [
      "MAE of Train: 5.205898018121113\n",
      "MAE of Validation: 5.35226977223527\n"
     ]
    },
    {
     "name": "stderr",
     "output_type": "stream",
     "text": [
      "\u001b[32m[I 2022-03-27 04:45:50,330]\u001b[0m Trial 735 finished with value: 5.352620831446891 and parameters: {'random_state': 519632, 'learning_rate': 0.0739513016379853, 'bagging_temperature': 0.9969184870612785, 'max_depth': 9, 'random_strength': 29, 'l2_leaf_reg': 9.211760987629535e-06, 'min_child_samples': 68, 'max_bin': 443, 'od_type': 'Iter', 'task_type': 'GPU', 'loss_function': 'MAE', 'eval_metric': 'MAE'}. Best is trial 121 with value: 5.343377942063889.\u001b[0m\n"
     ]
    },
    {
     "name": "stdout",
     "output_type": "stream",
     "text": [
      "MAE of Train: 5.202230108743747\n",
      "MAE of Validation: 5.352620831446891\n"
     ]
    },
    {
     "name": "stderr",
     "output_type": "stream",
     "text": [
      "\u001b[32m[I 2022-03-27 04:45:53,375]\u001b[0m Trial 736 finished with value: 5.35053244831603 and parameters: {'random_state': 519632, 'learning_rate': 0.13367130517163822, 'bagging_temperature': 1.3085984945046705, 'max_depth': 9, 'random_strength': 16, 'l2_leaf_reg': 8.64402371197878e-06, 'min_child_samples': 73, 'max_bin': 424, 'od_type': 'Iter', 'task_type': 'GPU', 'loss_function': 'MAE', 'eval_metric': 'MAE'}. Best is trial 121 with value: 5.343377942063889.\u001b[0m\n"
     ]
    },
    {
     "name": "stdout",
     "output_type": "stream",
     "text": [
      "MAE of Train: 5.183983293147431\n",
      "MAE of Validation: 5.35053244831603\n"
     ]
    },
    {
     "name": "stderr",
     "output_type": "stream",
     "text": [
      "\u001b[32m[I 2022-03-27 04:45:58,345]\u001b[0m Trial 737 finished with value: 5.347253293813757 and parameters: {'random_state': 519632, 'learning_rate': 0.08278503180019467, 'bagging_temperature': 1.5779548043842666, 'max_depth': 9, 'random_strength': 19, 'l2_leaf_reg': 9.694511944412156e-06, 'min_child_samples': 66, 'max_bin': 438, 'od_type': 'Iter', 'task_type': 'GPU', 'loss_function': 'MAE', 'eval_metric': 'MAE'}. Best is trial 121 with value: 5.343377942063889.\u001b[0m\n"
     ]
    },
    {
     "name": "stdout",
     "output_type": "stream",
     "text": [
      "MAE of Train: 5.156078560783242\n",
      "MAE of Validation: 5.347253293813757\n"
     ]
    },
    {
     "name": "stderr",
     "output_type": "stream",
     "text": [
      "\u001b[32m[I 2022-03-27 04:46:02,069]\u001b[0m Trial 738 finished with value: 5.380534413227547 and parameters: {'random_state': 519632, 'learning_rate': 0.09438888838036881, 'bagging_temperature': 1.1775193598145937, 'max_depth': 5, 'random_strength': 31, 'l2_leaf_reg': 9.265667217454659e-06, 'min_child_samples': 71, 'max_bin': 447, 'od_type': 'Iter', 'task_type': 'GPU', 'loss_function': 'MAE', 'eval_metric': 'MAE'}. Best is trial 121 with value: 5.343377942063889.\u001b[0m\n"
     ]
    },
    {
     "name": "stdout",
     "output_type": "stream",
     "text": [
      "MAE of Train: 5.342528592432067\n",
      "MAE of Validation: 5.380534413227547\n"
     ]
    },
    {
     "name": "stderr",
     "output_type": "stream",
     "text": [
      "\u001b[32m[I 2022-03-27 04:46:05,538]\u001b[0m Trial 739 finished with value: 5.407888278354775 and parameters: {'random_state': 519632, 'learning_rate': 0.06807085670107224, 'bagging_temperature': 0.9254101147164544, 'max_depth': 4, 'random_strength': 17, 'l2_leaf_reg': 8.383041794677542e-06, 'min_child_samples': 67, 'max_bin': 442, 'od_type': 'Iter', 'task_type': 'GPU', 'loss_function': 'MAE', 'eval_metric': 'MAE'}. Best is trial 121 with value: 5.343377942063889.\u001b[0m\n"
     ]
    },
    {
     "name": "stdout",
     "output_type": "stream",
     "text": [
      "MAE of Train: 5.398163662826774\n",
      "MAE of Validation: 5.407888278354775\n"
     ]
    },
    {
     "name": "stderr",
     "output_type": "stream",
     "text": [
      "\u001b[32m[I 2022-03-27 04:46:09,756]\u001b[0m Trial 740 finished with value: 5.37681735128889 and parameters: {'random_state': 519632, 'learning_rate': 0.10799571126571166, 'bagging_temperature': 17.43664475923519, 'max_depth': 9, 'random_strength': 28, 'l2_leaf_reg': 1.4361305379485702e-05, 'min_child_samples': 69, 'max_bin': 431, 'od_type': 'Iter', 'task_type': 'GPU', 'loss_function': 'MAE', 'eval_metric': 'MAE'}. Best is trial 121 with value: 5.343377942063889.\u001b[0m\n"
     ]
    },
    {
     "name": "stdout",
     "output_type": "stream",
     "text": [
      "MAE of Train: 5.16781412069787\n",
      "MAE of Validation: 5.37681735128889\n"
     ]
    },
    {
     "name": "stderr",
     "output_type": "stream",
     "text": [
      "\u001b[32m[I 2022-03-27 04:46:13,791]\u001b[0m Trial 741 finished with value: 5.378047291866787 and parameters: {'random_state': 519632, 'learning_rate': 0.060255575091910464, 'bagging_temperature': 1.6142637844649859, 'max_depth': 6, 'random_strength': 45, 'l2_leaf_reg': 9.75292166112218e-06, 'min_child_samples': 71, 'max_bin': 451, 'od_type': 'Iter', 'task_type': 'GPU', 'loss_function': 'MAE', 'eval_metric': 'MAE'}. Best is trial 121 with value: 5.343377942063889.\u001b[0m\n"
     ]
    },
    {
     "name": "stdout",
     "output_type": "stream",
     "text": [
      "MAE of Train: 5.3366511440339215\n",
      "MAE of Validation: 5.378047291866787\n"
     ]
    },
    {
     "name": "stderr",
     "output_type": "stream",
     "text": [
      "\u001b[32m[I 2022-03-27 04:46:18,051]\u001b[0m Trial 742 finished with value: 5.349770631241853 and parameters: {'random_state': 519632, 'learning_rate': 0.08356452885772424, 'bagging_temperature': 1.2887398880125056, 'max_depth': 9, 'random_strength': 36, 'l2_leaf_reg': 7.795742185719553e-06, 'min_child_samples': 66, 'max_bin': 456, 'od_type': 'Iter', 'task_type': 'GPU', 'loss_function': 'MAE', 'eval_metric': 'MAE'}. Best is trial 121 with value: 5.343377942063889.\u001b[0m\n"
     ]
    },
    {
     "name": "stdout",
     "output_type": "stream",
     "text": [
      "MAE of Train: 5.202795319155012\n",
      "MAE of Validation: 5.349770631241853\n"
     ]
    },
    {
     "name": "stderr",
     "output_type": "stream",
     "text": [
      "\u001b[32m[I 2022-03-27 04:46:23,040]\u001b[0m Trial 743 finished with value: 5.34901770061292 and parameters: {'random_state': 519632, 'learning_rate': 0.07167469199743084, 'bagging_temperature': 1.1000682649566447, 'max_depth': 9, 'random_strength': 21, 'l2_leaf_reg': 1.7783389672755542e-05, 'min_child_samples': 69, 'max_bin': 459, 'od_type': 'Iter', 'task_type': 'GPU', 'loss_function': 'MAE', 'eval_metric': 'MAE'}. Best is trial 121 with value: 5.343377942063889.\u001b[0m\n"
     ]
    },
    {
     "name": "stdout",
     "output_type": "stream",
     "text": [
      "MAE of Train: 5.201852503154379\n",
      "MAE of Validation: 5.34901770061292\n"
     ]
    },
    {
     "name": "stderr",
     "output_type": "stream",
     "text": [
      "\u001b[32m[I 2022-03-27 04:46:28,782]\u001b[0m Trial 744 finished with value: 5.3512474477449725 and parameters: {'random_state': 519632, 'learning_rate': 0.05509943184161812, 'bagging_temperature': 0.8801246340837114, 'max_depth': 9, 'random_strength': 29, 'l2_leaf_reg': 1.0044472012713292e-05, 'min_child_samples': 73, 'max_bin': 448, 'od_type': 'Iter', 'task_type': 'GPU', 'loss_function': 'MAE', 'eval_metric': 'MAE'}. Best is trial 121 with value: 5.343377942063889.\u001b[0m\n"
     ]
    },
    {
     "name": "stdout",
     "output_type": "stream",
     "text": [
      "MAE of Train: 5.216449966075828\n",
      "MAE of Validation: 5.3512474477449725\n"
     ]
    },
    {
     "name": "stderr",
     "output_type": "stream",
     "text": [
      "\u001b[32m[I 2022-03-27 04:46:32,828]\u001b[0m Trial 745 finished with value: 5.347978733763775 and parameters: {'random_state': 519632, 'learning_rate': 0.09082174930503491, 'bagging_temperature': 1.4191989168699624, 'max_depth': 9, 'random_strength': 32, 'l2_leaf_reg': 1.3501072752836734e-05, 'min_child_samples': 65, 'max_bin': 441, 'od_type': 'Iter', 'task_type': 'GPU', 'loss_function': 'MAE', 'eval_metric': 'MAE'}. Best is trial 121 with value: 5.343377942063889.\u001b[0m\n"
     ]
    },
    {
     "name": "stdout",
     "output_type": "stream",
     "text": [
      "MAE of Train: 5.190400159864248\n",
      "MAE of Validation: 5.347978733763775\n"
     ]
    },
    {
     "name": "stderr",
     "output_type": "stream",
     "text": [
      "\u001b[32m[I 2022-03-27 04:46:37,516]\u001b[0m Trial 746 finished with value: 5.351967935278516 and parameters: {'random_state': 519632, 'learning_rate': 0.06796128872486619, 'bagging_temperature': 1.7217582605415431, 'max_depth': 9, 'random_strength': 39, 'l2_leaf_reg': 9.34288212124574e-06, 'min_child_samples': 76, 'max_bin': 418, 'od_type': 'Iter', 'task_type': 'GPU', 'loss_function': 'MAE', 'eval_metric': 'MAE'}. Best is trial 121 with value: 5.343377942063889.\u001b[0m\n"
     ]
    },
    {
     "name": "stdout",
     "output_type": "stream",
     "text": [
      "MAE of Train: 5.204351526092988\n",
      "MAE of Validation: 5.351967935278516\n"
     ]
    },
    {
     "name": "stderr",
     "output_type": "stream",
     "text": [
      "\u001b[32m[I 2022-03-27 04:46:41,181]\u001b[0m Trial 747 finished with value: 5.3514331964461235 and parameters: {'random_state': 519632, 'learning_rate': 0.12274425463113348, 'bagging_temperature': 1.1297557078572766, 'max_depth': 9, 'random_strength': 25, 'l2_leaf_reg': 1.4585756928910276e-05, 'min_child_samples': 67, 'max_bin': 436, 'od_type': 'Iter', 'task_type': 'GPU', 'loss_function': 'MAE', 'eval_metric': 'MAE'}. Best is trial 121 with value: 5.343377942063889.\u001b[0m\n"
     ]
    },
    {
     "name": "stdout",
     "output_type": "stream",
     "text": [
      "MAE of Train: 5.161570229026347\n",
      "MAE of Validation: 5.3514331964461235\n"
     ]
    },
    {
     "name": "stderr",
     "output_type": "stream",
     "text": [
      "\u001b[32m[I 2022-03-27 04:46:46,534]\u001b[0m Trial 748 finished with value: 12.081640312693283 and parameters: {'random_state': 519632, 'learning_rate': 0.00019801416541189305, 'bagging_temperature': 1.4137222166438825, 'max_depth': 9, 'random_strength': 17, 'l2_leaf_reg': 8.807792241477733e-06, 'min_child_samples': 70, 'max_bin': 464, 'od_type': 'Iter', 'task_type': 'GPU', 'loss_function': 'MAE', 'eval_metric': 'MAE'}. Best is trial 121 with value: 5.343377942063889.\u001b[0m\n"
     ]
    },
    {
     "name": "stdout",
     "output_type": "stream",
     "text": [
      "MAE of Train: 12.079278956133336\n",
      "MAE of Validation: 12.081640312693283\n"
     ]
    },
    {
     "name": "stderr",
     "output_type": "stream",
     "text": [
      "\u001b[32m[I 2022-03-27 04:46:51,092]\u001b[0m Trial 749 finished with value: 5.349212169390122 and parameters: {'random_state': 519632, 'learning_rate': 0.07881641084944031, 'bagging_temperature': 1.702065659011657, 'max_depth': 9, 'random_strength': 27, 'l2_leaf_reg': 9.907308278762449e-06, 'min_child_samples': 68, 'max_bin': 451, 'od_type': 'Iter', 'task_type': 'GPU', 'loss_function': 'MAE', 'eval_metric': 'MAE'}. Best is trial 121 with value: 5.343377942063889.\u001b[0m\n"
     ]
    },
    {
     "name": "stdout",
     "output_type": "stream",
     "text": [
      "MAE of Train: 5.184411511241599\n",
      "MAE of Validation: 5.349212169390122\n"
     ]
    },
    {
     "name": "stderr",
     "output_type": "stream",
     "text": [
      "\u001b[32m[I 2022-03-27 04:46:56,830]\u001b[0m Trial 750 finished with value: 5.35326434960956 and parameters: {'random_state': 519632, 'learning_rate': 0.05755200319122487, 'bagging_temperature': 0.9881697529204254, 'max_depth': 9, 'random_strength': 31, 'l2_leaf_reg': 1.0231954179204554e-05, 'min_child_samples': 64, 'max_bin': 459, 'od_type': 'Iter', 'task_type': 'GPU', 'loss_function': 'MAE', 'eval_metric': 'MAE'}. Best is trial 121 with value: 5.343377942063889.\u001b[0m\n"
     ]
    },
    {
     "name": "stdout",
     "output_type": "stream",
     "text": [
      "MAE of Train: 5.215478977581609\n",
      "MAE of Validation: 5.35326434960956\n"
     ]
    },
    {
     "name": "stderr",
     "output_type": "stream",
     "text": [
      "\u001b[32m[I 2022-03-27 04:47:00,692]\u001b[0m Trial 751 finished with value: 5.34931365211596 and parameters: {'random_state': 519632, 'learning_rate': 0.10468243765258517, 'bagging_temperature': 1.2758264271072046, 'max_depth': 9, 'random_strength': 35, 'l2_leaf_reg': 1.390725102000022e-05, 'min_child_samples': 72, 'max_bin': 466, 'od_type': 'Iter', 'task_type': 'GPU', 'loss_function': 'MAE', 'eval_metric': 'MAE'}. Best is trial 121 with value: 5.343377942063889.\u001b[0m\n"
     ]
    },
    {
     "name": "stdout",
     "output_type": "stream",
     "text": [
      "MAE of Train: 5.187129240898682\n",
      "MAE of Validation: 5.34931365211596\n"
     ]
    },
    {
     "name": "stderr",
     "output_type": "stream",
     "text": [
      "\u001b[32m[I 2022-03-27 04:47:06,570]\u001b[0m Trial 752 finished with value: 5.460830859620653 and parameters: {'random_state': 519632, 'learning_rate': 0.00623789481097412, 'bagging_temperature': 1.9903934687831129, 'max_depth': 9, 'random_strength': 15, 'l2_leaf_reg': 8.123967430372636e-06, 'min_child_samples': 85, 'max_bin': 445, 'od_type': 'Iter', 'task_type': 'GPU', 'loss_function': 'MAE', 'eval_metric': 'MAE'}. Best is trial 121 with value: 5.343377942063889.\u001b[0m\n"
     ]
    },
    {
     "name": "stdout",
     "output_type": "stream",
     "text": [
      "MAE of Train: 5.466181224486757\n",
      "MAE of Validation: 5.460830859620653\n"
     ]
    },
    {
     "name": "stderr",
     "output_type": "stream",
     "text": [
      "\u001b[32m[I 2022-03-27 04:47:11,479]\u001b[0m Trial 753 finished with value: 5.352066886451779 and parameters: {'random_state': 519632, 'learning_rate': 0.06913621839151482, 'bagging_temperature': 1.4356578863283187, 'max_depth': 9, 'random_strength': 20, 'l2_leaf_reg': 1.2905199582828203e-05, 'min_child_samples': 69, 'max_bin': 453, 'od_type': 'Iter', 'task_type': 'GPU', 'loss_function': 'MAE', 'eval_metric': 'MAE'}. Best is trial 121 with value: 5.343377942063889.\u001b[0m\n"
     ]
    },
    {
     "name": "stdout",
     "output_type": "stream",
     "text": [
      "MAE of Train: 5.213345517323711\n",
      "MAE of Validation: 5.352066886451779\n"
     ]
    },
    {
     "name": "stderr",
     "output_type": "stream",
     "text": [
      "\u001b[32m[I 2022-03-27 04:47:17,221]\u001b[0m Trial 754 finished with value: 5.626261756210724 and parameters: {'random_state': 519632, 'learning_rate': 0.0034898010171636037, 'bagging_temperature': 0.8964083733382568, 'max_depth': 9, 'random_strength': 24, 'l2_leaf_reg': 9.182211637789321e-06, 'min_child_samples': 66, 'max_bin': 472, 'od_type': 'Iter', 'task_type': 'GPU', 'loss_function': 'MAE', 'eval_metric': 'MAE'}. Best is trial 121 with value: 5.343377942063889.\u001b[0m\n"
     ]
    },
    {
     "name": "stdout",
     "output_type": "stream",
     "text": [
      "MAE of Train: 5.628304038452821\n",
      "MAE of Validation: 5.626261756210724\n"
     ]
    },
    {
     "name": "stderr",
     "output_type": "stream",
     "text": [
      "\u001b[32m[I 2022-03-27 04:47:21,606]\u001b[0m Trial 755 finished with value: 5.350595088619871 and parameters: {'random_state': 519632, 'learning_rate': 0.08856238436965604, 'bagging_temperature': 1.1540422230080025, 'max_depth': 9, 'random_strength': 30, 'l2_leaf_reg': 1.5305285382049064e-05, 'min_child_samples': 72, 'max_bin': 461, 'od_type': 'Iter', 'task_type': 'GPU', 'loss_function': 'MAE', 'eval_metric': 'MAE'}. Best is trial 121 with value: 5.343377942063889.\u001b[0m\n"
     ]
    },
    {
     "name": "stdout",
     "output_type": "stream",
     "text": [
      "MAE of Train: 5.193577510872846\n",
      "MAE of Validation: 5.350595088619871\n"
     ]
    },
    {
     "name": "stderr",
     "output_type": "stream",
     "text": [
      "\u001b[32m[I 2022-03-27 04:47:27,549]\u001b[0m Trial 756 finished with value: 5.350304136364308 and parameters: {'random_state': 519632, 'learning_rate': 0.050147671433248005, 'bagging_temperature': 1.6407201930518056, 'max_depth': 9, 'random_strength': 27, 'l2_leaf_reg': 1.0556487564942792e-05, 'min_child_samples': 64, 'max_bin': 429, 'od_type': 'Iter', 'task_type': 'GPU', 'loss_function': 'MAE', 'eval_metric': 'MAE'}. Best is trial 121 with value: 5.343377942063889.\u001b[0m\n"
     ]
    },
    {
     "name": "stdout",
     "output_type": "stream",
     "text": [
      "MAE of Train: 5.217652940349504\n",
      "MAE of Validation: 5.350304136364308\n"
     ]
    },
    {
     "name": "stderr",
     "output_type": "stream",
     "text": [
      "\u001b[32m[I 2022-03-27 04:47:33,186]\u001b[0m Trial 757 finished with value: 9.306395541147657 and parameters: {'random_state': 519632, 'learning_rate': 0.0006260807167355732, 'bagging_temperature': 2.1976780482446236, 'max_depth': 9, 'random_strength': 22, 'l2_leaf_reg': 1.0210235419913944e-05, 'min_child_samples': 75, 'max_bin': 457, 'od_type': 'Iter', 'task_type': 'GPU', 'loss_function': 'MAE', 'eval_metric': 'MAE'}. Best is trial 121 with value: 5.343377942063889.\u001b[0m\n"
     ]
    },
    {
     "name": "stdout",
     "output_type": "stream",
     "text": [
      "MAE of Train: 9.299908757267218\n",
      "MAE of Validation: 9.306395541147657\n"
     ]
    },
    {
     "name": "stderr",
     "output_type": "stream",
     "text": [
      "\u001b[32m[I 2022-03-27 04:47:36,115]\u001b[0m Trial 758 finished with value: 5.355490321452148 and parameters: {'random_state': 519632, 'learning_rate': 0.1506084703307648, 'bagging_temperature': 1.2491823329508154, 'max_depth': 9, 'random_strength': 18, 'l2_leaf_reg': 1.3267064030723937e-05, 'min_child_samples': 70, 'max_bin': 261, 'od_type': 'Iter', 'task_type': 'GPU', 'loss_function': 'MAE', 'eval_metric': 'MAE'}. Best is trial 121 with value: 5.343377942063889.\u001b[0m\n"
     ]
    },
    {
     "name": "stdout",
     "output_type": "stream",
     "text": [
      "MAE of Train: 5.1986858991445555\n",
      "MAE of Validation: 5.355490321452148\n"
     ]
    },
    {
     "name": "stderr",
     "output_type": "stream",
     "text": [
      "\u001b[32m[I 2022-03-27 04:47:41,722]\u001b[0m Trial 759 finished with value: 5.35438115371626 and parameters: {'random_state': 519632, 'learning_rate': 0.06485775632516048, 'bagging_temperature': 0.04841402732371254, 'max_depth': 9, 'random_strength': 33, 'l2_leaf_reg': 9.491844749350948e-06, 'min_child_samples': 68, 'max_bin': 468, 'od_type': 'Iter', 'task_type': 'GPU', 'loss_function': 'MAE', 'eval_metric': 'MAE'}. Best is trial 121 with value: 5.343377942063889.\u001b[0m\n"
     ]
    },
    {
     "name": "stdout",
     "output_type": "stream",
     "text": [
      "MAE of Train: 5.232532351876181\n",
      "MAE of Validation: 5.35438115371626\n"
     ]
    },
    {
     "name": "stderr",
     "output_type": "stream",
     "text": [
      "\u001b[32m[I 2022-03-27 04:47:47,343]\u001b[0m Trial 760 finished with value: 5.345422430892257 and parameters: {'random_state': 519632, 'learning_rate': 0.0764946591529656, 'bagging_temperature': 1.6578864750407039, 'max_depth': 9, 'random_strength': 29, 'l2_leaf_reg': 8.780068475633576e-06, 'min_child_samples': 66, 'max_bin': 447, 'od_type': 'Iter', 'task_type': 'GPU', 'loss_function': 'MAE', 'eval_metric': 'MAE'}. Best is trial 121 with value: 5.343377942063889.\u001b[0m\n"
     ]
    },
    {
     "name": "stdout",
     "output_type": "stream",
     "text": [
      "MAE of Train: 5.1579417041518765\n",
      "MAE of Validation: 5.345422430892257\n"
     ]
    },
    {
     "name": "stderr",
     "output_type": "stream",
     "text": [
      "\u001b[32m[I 2022-03-27 04:47:53,303]\u001b[0m Trial 761 finished with value: 5.419171167461995 and parameters: {'random_state': 519632, 'learning_rate': 0.013534884620149089, 'bagging_temperature': 2.4388463690260043, 'max_depth': 9, 'random_strength': 25, 'l2_leaf_reg': 7.838791265550696e-06, 'min_child_samples': 64, 'max_bin': 452, 'od_type': 'Iter', 'task_type': 'GPU', 'loss_function': 'MAE', 'eval_metric': 'MAE'}. Best is trial 121 with value: 5.343377942063889.\u001b[0m\n"
     ]
    },
    {
     "name": "stdout",
     "output_type": "stream",
     "text": [
      "MAE of Train: 5.411424321598311\n",
      "MAE of Validation: 5.419171167461995\n"
     ]
    },
    {
     "name": "stderr",
     "output_type": "stream",
     "text": [
      "\u001b[32m[I 2022-03-27 04:47:58,562]\u001b[0m Trial 762 finished with value: 5.347193493011487 and parameters: {'random_state': 519632, 'learning_rate': 0.09273400374691894, 'bagging_temperature': 1.9073790732468578, 'max_depth': 9, 'random_strength': 91, 'l2_leaf_reg': 8.51291500367386e-06, 'min_child_samples': 66, 'max_bin': 465, 'od_type': 'Iter', 'task_type': 'GPU', 'loss_function': 'MAE', 'eval_metric': 'MAE'}. Best is trial 121 with value: 5.343377942063889.\u001b[0m\n"
     ]
    },
    {
     "name": "stdout",
     "output_type": "stream",
     "text": [
      "MAE of Train: 5.126366219296025\n",
      "MAE of Validation: 5.347193493011487\n"
     ]
    },
    {
     "name": "stderr",
     "output_type": "stream",
     "text": [
      "\u001b[32m[I 2022-03-27 04:48:02,376]\u001b[0m Trial 763 finished with value: 5.351078737677535 and parameters: {'random_state': 519632, 'learning_rate': 0.11274723151040225, 'bagging_temperature': 1.754384036813065, 'max_depth': 9, 'random_strength': 23, 'l2_leaf_reg': 8.847360389575587e-06, 'min_child_samples': 66, 'max_bin': 473, 'od_type': 'Iter', 'task_type': 'GPU', 'loss_function': 'MAE', 'eval_metric': 'MAE'}. Best is trial 121 with value: 5.343377942063889.\u001b[0m\n"
     ]
    },
    {
     "name": "stdout",
     "output_type": "stream",
     "text": [
      "MAE of Train: 5.168750706597341\n",
      "MAE of Validation: 5.351078737677535\n"
     ]
    },
    {
     "name": "stderr",
     "output_type": "stream",
     "text": [
      "\u001b[32m[I 2022-03-27 04:48:07,547]\u001b[0m Trial 764 finished with value: 5.349340226386053 and parameters: {'random_state': 519632, 'learning_rate': 0.07943504881874465, 'bagging_temperature': 2.1932569845764958, 'max_depth': 9, 'random_strength': 28, 'l2_leaf_reg': 8.241491742992749e-06, 'min_child_samples': 63, 'max_bin': 456, 'od_type': 'Iter', 'task_type': 'GPU', 'loss_function': 'MAE', 'eval_metric': 'MAE'}. Best is trial 121 with value: 5.343377942063889.\u001b[0m\n"
     ]
    },
    {
     "name": "stdout",
     "output_type": "stream",
     "text": [
      "MAE of Train: 5.173863896695256\n",
      "MAE of Validation: 5.349340226386053\n"
     ]
    },
    {
     "name": "stderr",
     "output_type": "stream",
     "text": [
      "\u001b[32m[I 2022-03-27 04:48:11,187]\u001b[0m Trial 765 finished with value: 5.352874331275565 and parameters: {'random_state': 519632, 'learning_rate': 0.09793525730189737, 'bagging_temperature': 1.5377742695493057, 'max_depth': 9, 'random_strength': 28, 'l2_leaf_reg': 7.224148644155695e-06, 'min_child_samples': 65, 'max_bin': 450, 'od_type': 'IncToDec', 'task_type': 'GPU', 'loss_function': 'MAE', 'eval_metric': 'MAE'}. Best is trial 121 with value: 5.343377942063889.\u001b[0m\n"
     ]
    },
    {
     "name": "stdout",
     "output_type": "stream",
     "text": [
      "MAE of Train: 5.214854880315492\n",
      "MAE of Validation: 5.352874331275565\n"
     ]
    },
    {
     "name": "stderr",
     "output_type": "stream",
     "text": [
      "\u001b[32m[I 2022-03-27 04:48:16,463]\u001b[0m Trial 766 finished with value: 5.350804151693397 and parameters: {'random_state': 519632, 'learning_rate': 0.0749067162725082, 'bagging_temperature': 1.8180132356911183, 'max_depth': 9, 'random_strength': 15, 'l2_leaf_reg': 8.874335898614374e-06, 'min_child_samples': 67, 'max_bin': 464, 'od_type': 'IncToDec', 'task_type': 'GPU', 'loss_function': 'MAE', 'eval_metric': 'MAE'}. Best is trial 121 with value: 5.343377942063889.\u001b[0m\n"
     ]
    },
    {
     "name": "stdout",
     "output_type": "stream",
     "text": [
      "MAE of Train: 5.1715849783180206\n",
      "MAE of Validation: 5.350804151693397\n"
     ]
    },
    {
     "name": "stderr",
     "output_type": "stream",
     "text": [
      "\u001b[32m[I 2022-03-27 04:48:22,454]\u001b[0m Trial 767 finished with value: 5.347969030576624 and parameters: {'random_state': 519632, 'learning_rate': 0.07850256496807856, 'bagging_temperature': 1.4210331643434384, 'max_depth': 9, 'random_strength': 25, 'l2_leaf_reg': 9.25725709324031e-06, 'min_child_samples': 63, 'max_bin': 472, 'od_type': 'IncToDec', 'task_type': 'GPU', 'loss_function': 'MAE', 'eval_metric': 'MAE'}. Best is trial 121 with value: 5.343377942063889.\u001b[0m\n"
     ]
    },
    {
     "name": "stdout",
     "output_type": "stream",
     "text": [
      "MAE of Train: 5.1331291904326335\n",
      "MAE of Validation: 5.347969030576624\n"
     ]
    },
    {
     "name": "stderr",
     "output_type": "stream",
     "text": [
      "\u001b[32m[I 2022-03-27 04:48:26,200]\u001b[0m Trial 768 finished with value: 5.353679409117239 and parameters: {'random_state': 519632, 'learning_rate': 0.11383943602269216, 'bagging_temperature': 2.03968133856173, 'max_depth': 8, 'random_strength': 20, 'l2_leaf_reg': 8.344014990374303e-06, 'min_child_samples': 67, 'max_bin': 460, 'od_type': 'IncToDec', 'task_type': 'GPU', 'loss_function': 'MAE', 'eval_metric': 'MAE'}. Best is trial 121 with value: 5.343377942063889.\u001b[0m\n"
     ]
    },
    {
     "name": "stdout",
     "output_type": "stream",
     "text": [
      "MAE of Train: 5.201990914014232\n",
      "MAE of Validation: 5.353679409117239\n"
     ]
    },
    {
     "name": "stderr",
     "output_type": "stream",
     "text": [
      "\u001b[32m[I 2022-03-27 04:48:30,946]\u001b[0m Trial 769 finished with value: 5.349338940977158 and parameters: {'random_state': 519632, 'learning_rate': 0.08922876989505564, 'bagging_temperature': 1.5861509167359615, 'max_depth': 9, 'random_strength': 26, 'l2_leaf_reg': 9.380681302384987e-06, 'min_child_samples': 65, 'max_bin': 500, 'od_type': 'IncToDec', 'task_type': 'GPU', 'loss_function': 'MAE', 'eval_metric': 'MAE'}. Best is trial 121 with value: 5.343377942063889.\u001b[0m\n"
     ]
    },
    {
     "name": "stdout",
     "output_type": "stream",
     "text": [
      "MAE of Train: 5.165654642697485\n",
      "MAE of Validation: 5.349338940977158\n"
     ]
    },
    {
     "name": "stderr",
     "output_type": "stream",
     "text": [
      "\u001b[32m[I 2022-03-27 04:48:36,002]\u001b[0m Trial 770 finished with value: 5.352724388236666 and parameters: {'random_state': 519632, 'learning_rate': 0.08096555429076951, 'bagging_temperature': 2.4900907559001992, 'max_depth': 9, 'random_strength': 29, 'l2_leaf_reg': 8.466477472454927e-06, 'min_child_samples': 68, 'max_bin': 477, 'od_type': 'Iter', 'task_type': 'GPU', 'loss_function': 'MAE', 'eval_metric': 'MAE'}. Best is trial 121 with value: 5.343377942063889.\u001b[0m\n"
     ]
    },
    {
     "name": "stdout",
     "output_type": "stream",
     "text": [
      "MAE of Train: 5.168432880282694\n",
      "MAE of Validation: 5.352724388236666\n"
     ]
    },
    {
     "name": "stderr",
     "output_type": "stream",
     "text": [
      "\u001b[32m[I 2022-03-27 04:48:40,958]\u001b[0m Trial 771 finished with value: 5.352532043811711 and parameters: {'random_state': 519632, 'learning_rate': 0.06920052242813059, 'bagging_temperature': 1.0538991239171602, 'max_depth': 9, 'random_strength': 16, 'l2_leaf_reg': 7.331529183197901e-06, 'min_child_samples': 71, 'max_bin': 446, 'od_type': 'IncToDec', 'task_type': 'GPU', 'loss_function': 'MAE', 'eval_metric': 'MAE'}. Best is trial 121 with value: 5.343377942063889.\u001b[0m\n"
     ]
    },
    {
     "name": "stdout",
     "output_type": "stream",
     "text": [
      "MAE of Train: 5.219100940544219\n",
      "MAE of Validation: 5.352532043811711\n"
     ]
    },
    {
     "name": "stderr",
     "output_type": "stream",
     "text": [
      "\u001b[32m[I 2022-03-27 04:48:45,022]\u001b[0m Trial 772 finished with value: 5.351407236583341 and parameters: {'random_state': 519632, 'learning_rate': 0.13990082887218866, 'bagging_temperature': 1.556287087574879, 'max_depth': 9, 'random_strength': 22, 'l2_leaf_reg': 7.688434041628395e-06, 'min_child_samples': 63, 'max_bin': 484, 'od_type': 'IncToDec', 'task_type': 'GPU', 'loss_function': 'MAE', 'eval_metric': 'MAE'}. Best is trial 121 with value: 5.343377942063889.\u001b[0m\n"
     ]
    },
    {
     "name": "stdout",
     "output_type": "stream",
     "text": [
      "MAE of Train: 5.1399956516631065\n",
      "MAE of Validation: 5.351407236583341\n"
     ]
    },
    {
     "name": "stderr",
     "output_type": "stream",
     "text": [
      "\u001b[32m[I 2022-03-27 04:48:49,201]\u001b[0m Trial 773 finished with value: 5.351397917433695 and parameters: {'random_state': 519632, 'learning_rate': 0.10132698993474203, 'bagging_temperature': 1.331610280059382, 'max_depth': 9, 'random_strength': 18, 'l2_leaf_reg': 9.71157333810437e-06, 'min_child_samples': 66, 'max_bin': 437, 'od_type': 'IncToDec', 'task_type': 'GPU', 'loss_function': 'MAE', 'eval_metric': 'MAE'}. Best is trial 121 with value: 5.343377942063889.\u001b[0m\n"
     ]
    },
    {
     "name": "stdout",
     "output_type": "stream",
     "text": [
      "MAE of Train: 5.1782154585077205\n",
      "MAE of Validation: 5.351397917433695\n"
     ]
    },
    {
     "name": "stderr",
     "output_type": "stream",
     "text": [
      "\u001b[32m[I 2022-03-27 04:48:55,416]\u001b[0m Trial 774 finished with value: 5.34921075740707 and parameters: {'random_state': 519632, 'learning_rate': 0.05654079627890028, 'bagging_temperature': 1.8050754371443707, 'max_depth': 9, 'random_strength': 27, 'l2_leaf_reg': 1.3893654229830587e-05, 'min_child_samples': 70, 'max_bin': 400, 'od_type': 'IncToDec', 'task_type': 'GPU', 'loss_function': 'MAE', 'eval_metric': 'MAE'}. Best is trial 121 with value: 5.343377942063889.\u001b[0m\n"
     ]
    },
    {
     "name": "stdout",
     "output_type": "stream",
     "text": [
      "MAE of Train: 5.19176328563295\n",
      "MAE of Validation: 5.34921075740707\n"
     ]
    },
    {
     "name": "stderr",
     "output_type": "stream",
     "text": [
      "\u001b[32m[I 2022-03-27 04:49:01,234]\u001b[0m Trial 775 finished with value: 5.3497718204669145 and parameters: {'random_state': 519632, 'learning_rate': 0.0737319522845032, 'bagging_temperature': 0.8553247367553839, 'max_depth': 9, 'random_strength': 30, 'l2_leaf_reg': 8.837007987078205e-06, 'min_child_samples': 68, 'max_bin': 455, 'od_type': 'IncToDec', 'task_type': 'GPU', 'loss_function': 'MAE', 'eval_metric': 'MAE'}. Best is trial 121 with value: 5.343377942063889.\u001b[0m\n"
     ]
    },
    {
     "name": "stdout",
     "output_type": "stream",
     "text": [
      "MAE of Train: 5.163147907972626\n",
      "MAE of Validation: 5.3497718204669145\n"
     ]
    },
    {
     "name": "stderr",
     "output_type": "stream",
     "text": [
      "\u001b[32m[I 2022-03-27 04:49:05,843]\u001b[0m Trial 776 finished with value: 5.348566271102846 and parameters: {'random_state': 519632, 'learning_rate': 0.08616264330569455, 'bagging_temperature': 1.1166835765843242, 'max_depth': 9, 'random_strength': 23, 'l2_leaf_reg': 6.507637976898537e-06, 'min_child_samples': 64, 'max_bin': 469, 'od_type': 'Iter', 'task_type': 'GPU', 'loss_function': 'MAE', 'eval_metric': 'MAE'}. Best is trial 121 with value: 5.343377942063889.\u001b[0m\n"
     ]
    },
    {
     "name": "stdout",
     "output_type": "stream",
     "text": [
      "MAE of Train: 5.183794498487222\n",
      "MAE of Validation: 5.348566271102846\n"
     ]
    },
    {
     "name": "stderr",
     "output_type": "stream",
     "text": [
      "\u001b[32m[I 2022-03-27 04:49:11,750]\u001b[0m Trial 777 finished with value: 5.349894232358304 and parameters: {'random_state': 519632, 'learning_rate': 0.06216899124579508, 'bagging_temperature': 2.147741912795634, 'max_depth': 9, 'random_strength': 13, 'l2_leaf_reg': 9.702144725546051e-06, 'min_child_samples': 74, 'max_bin': 316, 'od_type': 'IncToDec', 'task_type': 'GPU', 'loss_function': 'MAE', 'eval_metric': 'MAE'}. Best is trial 121 with value: 5.343377942063889.\u001b[0m\n"
     ]
    },
    {
     "name": "stdout",
     "output_type": "stream",
     "text": [
      "MAE of Train: 5.168204821845199\n",
      "MAE of Validation: 5.349894232358304\n"
     ]
    },
    {
     "name": "stderr",
     "output_type": "stream",
     "text": [
      "\u001b[32m[I 2022-03-27 04:49:16,149]\u001b[0m Trial 778 finished with value: 5.3504384121245305 and parameters: {'random_state': 519632, 'learning_rate': 0.10129146775086031, 'bagging_temperature': 1.3744439605702592, 'max_depth': 9, 'random_strength': 26, 'l2_leaf_reg': 1.5010718856222766e-05, 'min_child_samples': 62, 'max_bin': 494, 'od_type': 'IncToDec', 'task_type': 'GPU', 'loss_function': 'MAE', 'eval_metric': 'MAE'}. Best is trial 121 with value: 5.343377942063889.\u001b[0m\n"
     ]
    },
    {
     "name": "stdout",
     "output_type": "stream",
     "text": [
      "MAE of Train: 5.151461713598866\n",
      "MAE of Validation: 5.3504384121245305\n"
     ]
    },
    {
     "name": "stderr",
     "output_type": "stream",
     "text": [
      "\u001b[32m[I 2022-03-27 04:49:22,131]\u001b[0m Trial 779 finished with value: 5.350079039219599 and parameters: {'random_state': 519632, 'learning_rate': 0.05176706843668286, 'bagging_temperature': 1.691065842583656, 'max_depth': 9, 'random_strength': 29, 'l2_leaf_reg': 1.2962030449166926e-05, 'min_child_samples': 72, 'max_bin': 462, 'od_type': 'IncToDec', 'task_type': 'GPU', 'loss_function': 'MAE', 'eval_metric': 'MAE'}. Best is trial 121 with value: 5.343377942063889.\u001b[0m\n"
     ]
    },
    {
     "name": "stdout",
     "output_type": "stream",
     "text": [
      "MAE of Train: 5.2076997931307165\n",
      "MAE of Validation: 5.350079039219599\n"
     ]
    },
    {
     "name": "stderr",
     "output_type": "stream",
     "text": [
      "\u001b[32m[I 2022-03-27 04:49:26,672]\u001b[0m Trial 780 finished with value: 5.357757322660056 and parameters: {'random_state': 519632, 'learning_rate': 0.07242661378779428, 'bagging_temperature': 3.0525504293917853, 'max_depth': 9, 'random_strength': 20, 'l2_leaf_reg': 9.091632391648313e-06, 'min_child_samples': 67, 'max_bin': 374, 'od_type': 'IncToDec', 'task_type': 'GPU', 'loss_function': 'MAE', 'eval_metric': 'MAE'}. Best is trial 121 with value: 5.343377942063889.\u001b[0m\n"
     ]
    },
    {
     "name": "stdout",
     "output_type": "stream",
     "text": [
      "MAE of Train: 5.193798119673823\n",
      "MAE of Validation: 5.357757322660056\n"
     ]
    },
    {
     "name": "stderr",
     "output_type": "stream",
     "text": [
      "\u001b[32m[I 2022-03-27 04:49:31,205]\u001b[0m Trial 781 finished with value: 5.357903633012992 and parameters: {'random_state': 519632, 'learning_rate': 0.08905116893773625, 'bagging_temperature': 0.9953768666952326, 'max_depth': 7, 'random_strength': 24, 'l2_leaf_reg': 7.977893369519924e-06, 'min_child_samples': 65, 'max_bin': 488, 'od_type': 'Iter', 'task_type': 'GPU', 'loss_function': 'MAE', 'eval_metric': 'MAE'}. Best is trial 121 with value: 5.343377942063889.\u001b[0m\n"
     ]
    },
    {
     "name": "stdout",
     "output_type": "stream",
     "text": [
      "MAE of Train: 5.25429304088216\n",
      "MAE of Validation: 5.357903633012992\n"
     ]
    },
    {
     "name": "stderr",
     "output_type": "stream",
     "text": [
      "\u001b[32m[I 2022-03-27 04:49:36,741]\u001b[0m Trial 782 finished with value: 5.350675757572234 and parameters: {'random_state': 519632, 'learning_rate': 0.05983423437922894, 'bagging_temperature': 1.2274405665306614, 'max_depth': 9, 'random_strength': 17, 'l2_leaf_reg': 9.938390673294473e-06, 'min_child_samples': 69, 'max_bin': 449, 'od_type': 'IncToDec', 'task_type': 'GPU', 'loss_function': 'MAE', 'eval_metric': 'MAE'}. Best is trial 121 with value: 5.343377942063889.\u001b[0m\n"
     ]
    },
    {
     "name": "stdout",
     "output_type": "stream",
     "text": [
      "MAE of Train: 5.210098300282347\n",
      "MAE of Validation: 5.350675757572234\n"
     ]
    },
    {
     "name": "stderr",
     "output_type": "stream",
     "text": [
      "\u001b[32m[I 2022-03-27 04:49:40,445]\u001b[0m Trial 783 finished with value: 5.368642866180221 and parameters: {'random_state': 519632, 'learning_rate': 0.1151976056103751, 'bagging_temperature': 8.823088885157494, 'max_depth': 9, 'random_strength': 15, 'l2_leaf_reg': 1.0163967040746684e-05, 'min_child_samples': 30, 'max_bin': 477, 'od_type': 'IncToDec', 'task_type': 'GPU', 'loss_function': 'MAE', 'eval_metric': 'MAE'}. Best is trial 121 with value: 5.343377942063889.\u001b[0m\n"
     ]
    },
    {
     "name": "stdout",
     "output_type": "stream",
     "text": [
      "MAE of Train: 5.179905525522522\n",
      "MAE of Validation: 5.368642866180221\n"
     ]
    },
    {
     "name": "stderr",
     "output_type": "stream",
     "text": [
      "\u001b[32m[I 2022-03-27 04:49:46,244]\u001b[0m Trial 784 finished with value: 5.356366482473064 and parameters: {'random_state': 519632, 'learning_rate': 0.04250429683856069, 'bagging_temperature': 1.6152108164806875, 'max_depth': 9, 'random_strength': 41, 'l2_leaf_reg': 1.4329638427294418e-05, 'min_child_samples': 70, 'max_bin': 482, 'od_type': 'IncToDec', 'task_type': 'GPU', 'loss_function': 'MAE', 'eval_metric': 'MAE'}. Best is trial 121 with value: 5.343377942063889.\u001b[0m\n"
     ]
    },
    {
     "name": "stdout",
     "output_type": "stream",
     "text": [
      "MAE of Train: 5.257302166647852\n",
      "MAE of Validation: 5.356366482473064\n"
     ]
    },
    {
     "name": "stderr",
     "output_type": "stream",
     "text": [
      "\u001b[32m[I 2022-03-27 04:49:52,213]\u001b[0m Trial 785 finished with value: 5.347612614691142 and parameters: {'random_state': 519632, 'learning_rate': 0.06958723749142735, 'bagging_temperature': 0.8618059182666763, 'max_depth': 9, 'random_strength': 33, 'l2_leaf_reg': 1.2375419662192147e-05, 'min_child_samples': 66, 'max_bin': 456, 'od_type': 'IncToDec', 'task_type': 'GPU', 'loss_function': 'MAE', 'eval_metric': 'MAE'}. Best is trial 121 with value: 5.343377942063889.\u001b[0m\n"
     ]
    },
    {
     "name": "stdout",
     "output_type": "stream",
     "text": [
      "MAE of Train: 5.172880443887873\n",
      "MAE of Validation: 5.347612614691142\n"
     ]
    },
    {
     "name": "stderr",
     "output_type": "stream",
     "text": [
      "\u001b[32m[I 2022-03-27 04:49:57,494]\u001b[0m Trial 786 finished with value: 5.347668287188372 and parameters: {'random_state': 519632, 'learning_rate': 0.08250413816554623, 'bagging_temperature': 1.416208939922338, 'max_depth': 9, 'random_strength': 27, 'l2_leaf_reg': 1.3528325170479862e-05, 'min_child_samples': 48, 'max_bin': 472, 'od_type': 'Iter', 'task_type': 'GPU', 'loss_function': 'MAE', 'eval_metric': 'MAE'}. Best is trial 121 with value: 5.343377942063889.\u001b[0m\n"
     ]
    },
    {
     "name": "stdout",
     "output_type": "stream",
     "text": [
      "MAE of Train: 5.155300526966232\n",
      "MAE of Validation: 5.347668287188372\n"
     ]
    },
    {
     "name": "stderr",
     "output_type": "stream",
     "text": [
      "\u001b[32m[I 2022-03-27 04:50:03,294]\u001b[0m Trial 787 finished with value: 5.349715452801292 and parameters: {'random_state': 519632, 'learning_rate': 0.05398386800274797, 'bagging_temperature': 1.9844509423302419, 'max_depth': 9, 'random_strength': 30, 'l2_leaf_reg': 9.015936154127438e-06, 'min_child_samples': 73, 'max_bin': 442, 'od_type': 'IncToDec', 'task_type': 'GPU', 'loss_function': 'MAE', 'eval_metric': 'MAE'}. Best is trial 121 with value: 5.343377942063889.\u001b[0m\n"
     ]
    },
    {
     "name": "stdout",
     "output_type": "stream",
     "text": [
      "MAE of Train: 5.196838397904753\n",
      "MAE of Validation: 5.349715452801292\n"
     ]
    },
    {
     "name": "stderr",
     "output_type": "stream",
     "text": [
      "\u001b[32m[I 2022-03-27 04:50:07,236]\u001b[0m Trial 788 finished with value: 5.351436917999596 and parameters: {'random_state': 519632, 'learning_rate': 0.09547145872007817, 'bagging_temperature': 1.0748452421474424, 'max_depth': 9, 'random_strength': 21, 'l2_leaf_reg': 1.057877724158312e-05, 'min_child_samples': 68, 'max_bin': 465, 'od_type': 'IncToDec', 'task_type': 'GPU', 'loss_function': 'MAE', 'eval_metric': 'MAE'}. Best is trial 121 with value: 5.343377942063889.\u001b[0m\n"
     ]
    },
    {
     "name": "stdout",
     "output_type": "stream",
     "text": [
      "MAE of Train: 5.201846600357267\n",
      "MAE of Validation: 5.351436917999596\n"
     ]
    },
    {
     "name": "stderr",
     "output_type": "stream",
     "text": [
      "\u001b[32m[I 2022-03-27 04:50:13,014]\u001b[0m Trial 789 finished with value: 5.348765236652436 and parameters: {'random_state': 519632, 'learning_rate': 0.06622457174847739, 'bagging_temperature': 1.4089933974967606, 'max_depth': 9, 'random_strength': 24, 'l2_leaf_reg': 8.390972351214446e-06, 'min_child_samples': 62, 'max_bin': 491, 'od_type': 'IncToDec', 'task_type': 'GPU', 'loss_function': 'MAE', 'eval_metric': 'MAE'}. Best is trial 121 with value: 5.343377942063889.\u001b[0m\n"
     ]
    },
    {
     "name": "stdout",
     "output_type": "stream",
     "text": [
      "MAE of Train: 5.171953579967138\n",
      "MAE of Validation: 5.348765236652436\n"
     ]
    },
    {
     "name": "stderr",
     "output_type": "stream",
     "text": [
      "\u001b[32m[I 2022-03-27 04:50:17,780]\u001b[0m Trial 790 finished with value: 5.351605338730503 and parameters: {'random_state': 519632, 'learning_rate': 0.07982459436088314, 'bagging_temperature': 2.4464628897914458, 'max_depth': 9, 'random_strength': 11, 'l2_leaf_reg': 1.286081951899521e-05, 'min_child_samples': 71, 'max_bin': 449, 'od_type': 'IncToDec', 'task_type': 'GPU', 'loss_function': 'MAE', 'eval_metric': 'MAE'}. Best is trial 121 with value: 5.343377942063889.\u001b[0m\n"
     ]
    },
    {
     "name": "stdout",
     "output_type": "stream",
     "text": [
      "MAE of Train: 5.160407595415008\n",
      "MAE of Validation: 5.351605338730503\n"
     ]
    },
    {
     "name": "stderr",
     "output_type": "stream",
     "text": [
      "\u001b[32m[I 2022-03-27 04:50:23,586]\u001b[0m Trial 791 finished with value: 5.34970267612714 and parameters: {'random_state': 519632, 'learning_rate': 0.0598632675404412, 'bagging_temperature': 1.167845806658719, 'max_depth': 9, 'random_strength': 28, 'l2_leaf_reg': 9.412145379030045e-06, 'min_child_samples': 64, 'max_bin': 482, 'od_type': 'Iter', 'task_type': 'GPU', 'loss_function': 'MAE', 'eval_metric': 'MAE'}. Best is trial 121 with value: 5.343377942063889.\u001b[0m\n"
     ]
    },
    {
     "name": "stdout",
     "output_type": "stream",
     "text": [
      "MAE of Train: 5.19585597900988\n",
      "MAE of Validation: 5.34970267612714\n"
     ]
    },
    {
     "name": "stderr",
     "output_type": "stream",
     "text": [
      "\u001b[32m[I 2022-03-27 04:50:26,519]\u001b[0m Trial 792 finished with value: 5.356069544339309 and parameters: {'random_state': 519632, 'learning_rate': 0.12599840950121244, 'bagging_temperature': 1.7598849507872256, 'max_depth': 9, 'random_strength': 19, 'l2_leaf_reg': 1.0211748897502684e-05, 'min_child_samples': 40, 'max_bin': 459, 'od_type': 'IncToDec', 'task_type': 'GPU', 'loss_function': 'MAE', 'eval_metric': 'MAE'}. Best is trial 121 with value: 5.343377942063889.\u001b[0m\n"
     ]
    },
    {
     "name": "stdout",
     "output_type": "stream",
     "text": [
      "MAE of Train: 5.205517388216853\n",
      "MAE of Validation: 5.356069544339309\n"
     ]
    },
    {
     "name": "stderr",
     "output_type": "stream",
     "text": [
      "\u001b[32m[I 2022-03-27 04:50:32,290]\u001b[0m Trial 793 finished with value: 5.355304155983077 and parameters: {'random_state': 519632, 'learning_rate': 0.04856941653360024, 'bagging_temperature': 0.872884641889699, 'max_depth': 9, 'random_strength': 32, 'l2_leaf_reg': 7.798673355059133e-06, 'min_child_samples': 67, 'max_bin': 473, 'od_type': 'IncToDec', 'task_type': 'GPU', 'loss_function': 'MAE', 'eval_metric': 'MAE'}. Best is trial 121 with value: 5.343377942063889.\u001b[0m\n"
     ]
    },
    {
     "name": "stdout",
     "output_type": "stream",
     "text": [
      "MAE of Train: 5.243893857648797\n",
      "MAE of Validation: 5.355304155983077\n"
     ]
    },
    {
     "name": "stderr",
     "output_type": "stream",
     "text": [
      "\u001b[32m[I 2022-03-27 04:50:37,709]\u001b[0m Trial 794 finished with value: 5.347110270582641 and parameters: {'random_state': 519632, 'learning_rate': 0.07603927459925121, 'bagging_temperature': 1.5357896785344032, 'max_depth': 9, 'random_strength': 14, 'l2_leaf_reg': 9.575401511476428e-06, 'min_child_samples': 69, 'max_bin': 496, 'od_type': 'IncToDec', 'task_type': 'GPU', 'loss_function': 'MAE', 'eval_metric': 'MAE'}. Best is trial 121 with value: 5.343377942063889.\u001b[0m\n"
     ]
    },
    {
     "name": "stdout",
     "output_type": "stream",
     "text": [
      "MAE of Train: 5.15254971469151\n",
      "MAE of Validation: 5.347110270582641\n"
     ]
    },
    {
     "name": "stderr",
     "output_type": "stream",
     "text": [
      "\u001b[32m[I 2022-03-27 04:50:41,994]\u001b[0m Trial 795 finished with value: 5.35247284740374 and parameters: {'random_state': 519632, 'learning_rate': 0.09570507120804779, 'bagging_temperature': 1.0623463516477702, 'max_depth': 9, 'random_strength': 26, 'l2_leaf_reg': 1.2405105318977295e-05, 'min_child_samples': 77, 'max_bin': 487, 'od_type': 'IncToDec', 'task_type': 'GPU', 'loss_function': 'MAE', 'eval_metric': 'MAE'}. Best is trial 121 with value: 5.343377942063889.\u001b[0m\n"
     ]
    },
    {
     "name": "stdout",
     "output_type": "stream",
     "text": [
      "MAE of Train: 5.176334962721201\n",
      "MAE of Validation: 5.35247284740374\n"
     ]
    },
    {
     "name": "stderr",
     "output_type": "stream",
     "text": [
      "\u001b[32m[I 2022-03-27 04:50:46,888]\u001b[0m Trial 796 finished with value: 5.347918349652065 and parameters: {'random_state': 519632, 'learning_rate': 0.06651715345292983, 'bagging_temperature': 1.2790334310020752, 'max_depth': 9, 'random_strength': 30, 'l2_leaf_reg': 1.0698520139147346e-05, 'min_child_samples': 48, 'max_bin': 467, 'od_type': 'IncToDec', 'task_type': 'GPU', 'loss_function': 'MAE', 'eval_metric': 'MAE'}. Best is trial 121 with value: 5.343377942063889.\u001b[0m\n"
     ]
    },
    {
     "name": "stdout",
     "output_type": "stream",
     "text": [
      "MAE of Train: 5.2184509816501405\n",
      "MAE of Validation: 5.347918349652065\n"
     ]
    },
    {
     "name": "stderr",
     "output_type": "stream",
     "text": [
      "\u001b[32m[I 2022-03-27 04:50:51,667]\u001b[0m Trial 797 finished with value: 6.253800914803374 and parameters: {'random_state': 519632, 'learning_rate': 0.0020009531368996043, 'bagging_temperature': 1.9063602069201508, 'max_depth': 8, 'random_strength': 37, 'l2_leaf_reg': 8.683754501300599e-06, 'min_child_samples': 65, 'max_bin': 454, 'od_type': 'Iter', 'task_type': 'GPU', 'loss_function': 'MAE', 'eval_metric': 'MAE'}. Best is trial 121 with value: 5.343377942063889.\u001b[0m\n"
     ]
    },
    {
     "name": "stdout",
     "output_type": "stream",
     "text": [
      "MAE of Train: 6.243939448060677\n",
      "MAE of Validation: 6.253800914803374\n"
     ]
    },
    {
     "name": "stderr",
     "output_type": "stream",
     "text": [
      "\u001b[32m[I 2022-03-27 04:50:56,402]\u001b[0m Trial 798 finished with value: 5.34929741941576 and parameters: {'random_state': 519632, 'learning_rate': 0.08481716908876673, 'bagging_temperature': 0.7577813718749427, 'max_depth': 9, 'random_strength': 17, 'l2_leaf_reg': 5.859532049156335e-06, 'min_child_samples': 71, 'max_bin': 476, 'od_type': 'IncToDec', 'task_type': 'GPU', 'loss_function': 'MAE', 'eval_metric': 'MAE'}. Best is trial 121 with value: 5.343377942063889.\u001b[0m\n"
     ]
    },
    {
     "name": "stdout",
     "output_type": "stream",
     "text": [
      "MAE of Train: 5.185552990666953\n",
      "MAE of Validation: 5.34929741941576\n"
     ]
    },
    {
     "name": "stderr",
     "output_type": "stream",
     "text": [
      "\u001b[32m[I 2022-03-27 04:51:02,142]\u001b[0m Trial 799 finished with value: 5.348114146751384 and parameters: {'random_state': 519632, 'learning_rate': 0.05705653042782644, 'bagging_temperature': 1.5210738763993708, 'max_depth': 9, 'random_strength': 35, 'l2_leaf_reg': 6.780346472038301e-06, 'min_child_samples': 67, 'max_bin': 436, 'od_type': 'IncToDec', 'task_type': 'GPU', 'loss_function': 'MAE', 'eval_metric': 'MAE'}. Best is trial 121 with value: 5.343377942063889.\u001b[0m\n"
     ]
    },
    {
     "name": "stdout",
     "output_type": "stream",
     "text": [
      "MAE of Train: 5.194564077361372\n",
      "MAE of Validation: 5.348114146751384\n"
     ]
    },
    {
     "name": "stderr",
     "output_type": "stream",
     "text": [
      "\u001b[32m[I 2022-03-27 04:51:05,486]\u001b[0m Trial 800 finished with value: 5.353526035172522 and parameters: {'random_state': 519632, 'learning_rate': 0.10497537161677428, 'bagging_temperature': 2.195834066218394, 'max_depth': 9, 'random_strength': 24, 'l2_leaf_reg': 1.3343290932304365e-05, 'min_child_samples': 62, 'max_bin': 415, 'od_type': 'IncToDec', 'task_type': 'GPU', 'loss_function': 'MAE', 'eval_metric': 'MAE'}. Best is trial 121 with value: 5.343377942063889.\u001b[0m\n"
     ]
    },
    {
     "name": "stdout",
     "output_type": "stream",
     "text": [
      "MAE of Train: 5.199297908584721\n",
      "MAE of Validation: 5.353526035172522\n"
     ]
    },
    {
     "name": "stderr",
     "output_type": "stream",
     "text": [
      "\u001b[32m[I 2022-03-27 04:51:11,188]\u001b[0m Trial 801 finished with value: 5.3546037088276 and parameters: {'random_state': 519632, 'learning_rate': 0.07057605082003196, 'bagging_temperature': 0.11943941729421544, 'max_depth': 9, 'random_strength': 22, 'l2_leaf_reg': 1.1935756270365971e-05, 'min_child_samples': 75, 'max_bin': 462, 'od_type': 'IncToDec', 'task_type': 'GPU', 'loss_function': 'MAE', 'eval_metric': 'MAE'}. Best is trial 121 with value: 5.343377942063889.\u001b[0m\n"
     ]
    },
    {
     "name": "stdout",
     "output_type": "stream",
     "text": [
      "MAE of Train: 5.206065528899937\n",
      "MAE of Validation: 5.3546037088276\n"
     ]
    },
    {
     "name": "stderr",
     "output_type": "stream",
     "text": [
      "\u001b[32m[I 2022-03-27 04:51:16,967]\u001b[0m Trial 802 finished with value: 5.353200337770681 and parameters: {'random_state': 519632, 'learning_rate': 0.0472323809322214, 'bagging_temperature': 1.0037953414114482, 'max_depth': 9, 'random_strength': 28, 'l2_leaf_reg': 1.4648382767655233e-05, 'min_child_samples': 70, 'max_bin': 446, 'od_type': 'Iter', 'task_type': 'GPU', 'loss_function': 'MAE', 'eval_metric': 'MAE'}. Best is trial 121 with value: 5.343377942063889.\u001b[0m\n"
     ]
    },
    {
     "name": "stdout",
     "output_type": "stream",
     "text": [
      "MAE of Train: 5.2426883347794595\n",
      "MAE of Validation: 5.353200337770681\n"
     ]
    },
    {
     "name": "stderr",
     "output_type": "stream",
     "text": [
      "\u001b[32m[I 2022-03-27 04:51:22,027]\u001b[0m Trial 803 finished with value: 5.346993051406995 and parameters: {'random_state': 519632, 'learning_rate': 0.0773506148016569, 'bagging_temperature': 1.2171121717984876, 'max_depth': 9, 'random_strength': 13, 'l2_leaf_reg': 1.012183170002533e-05, 'min_child_samples': 64, 'max_bin': 487, 'od_type': 'IncToDec', 'task_type': 'GPU', 'loss_function': 'MAE', 'eval_metric': 'MAE'}. Best is trial 121 with value: 5.343377942063889.\u001b[0m\n"
     ]
    },
    {
     "name": "stdout",
     "output_type": "stream",
     "text": [
      "MAE of Train: 5.17356182922358\n",
      "MAE of Validation: 5.346993051406995\n"
     ]
    },
    {
     "name": "stderr",
     "output_type": "stream",
     "text": [
      "\u001b[32m[I 2022-03-27 04:51:27,671]\u001b[0m Trial 804 finished with value: 5.349921346523075 and parameters: {'random_state': 519632, 'learning_rate': 0.06464826035482443, 'bagging_temperature': 1.7813415040087732, 'max_depth': 9, 'random_strength': 26, 'l2_leaf_reg': 1.6287124910329715e-05, 'min_child_samples': 49, 'max_bin': 480, 'od_type': 'IncToDec', 'task_type': 'GPU', 'loss_function': 'MAE', 'eval_metric': 'MAE'}. Best is trial 121 with value: 5.343377942063889.\u001b[0m\n"
     ]
    },
    {
     "name": "stdout",
     "output_type": "stream",
     "text": [
      "MAE of Train: 5.179395808036567\n",
      "MAE of Validation: 5.349921346523075\n"
     ]
    },
    {
     "name": "stderr",
     "output_type": "stream",
     "text": [
      "\u001b[32m[I 2022-03-27 04:51:31,023]\u001b[0m Trial 805 finished with value: 5.358553479002621 and parameters: {'random_state': 519632, 'learning_rate': 0.11552597743276677, 'bagging_temperature': 3.5104170526219223, 'max_depth': 9, 'random_strength': 19, 'l2_leaf_reg': 1.0857853322633164e-05, 'min_child_samples': 68, 'max_bin': 452, 'od_type': 'IncToDec', 'task_type': 'GPU', 'loss_function': 'MAE', 'eval_metric': 'MAE'}. Best is trial 121 with value: 5.343377942063889.\u001b[0m\n"
     ]
    },
    {
     "name": "stdout",
     "output_type": "stream",
     "text": [
      "MAE of Train: 5.186918083358386\n",
      "MAE of Validation: 5.358553479002621\n"
     ]
    },
    {
     "name": "stderr",
     "output_type": "stream",
     "text": [
      "\u001b[32m[I 2022-03-27 04:51:35,526]\u001b[0m Trial 806 finished with value: 5.349436666570571 and parameters: {'random_state': 519632, 'learning_rate': 0.08993284303148129, 'bagging_temperature': 1.3837936395689623, 'max_depth': 9, 'random_strength': 31, 'l2_leaf_reg': 1.3954145245153011e-05, 'min_child_samples': 73, 'max_bin': 468, 'od_type': 'IncToDec', 'task_type': 'GPU', 'loss_function': 'MAE', 'eval_metric': 'MAE'}. Best is trial 121 with value: 5.343377942063889.\u001b[0m\n"
     ]
    },
    {
     "name": "stdout",
     "output_type": "stream",
     "text": [
      "MAE of Train: 5.164916296786876\n",
      "MAE of Validation: 5.349436666570571\n"
     ]
    },
    {
     "name": "stderr",
     "output_type": "stream",
     "text": [
      "\u001b[32m[I 2022-03-27 04:51:41,095]\u001b[0m Trial 807 finished with value: 5.511331591191347 and parameters: {'random_state': 519632, 'learning_rate': 0.0045788853316545836, 'bagging_temperature': 0.9421031483266536, 'max_depth': 9, 'random_strength': 16, 'l2_leaf_reg': 9.265795559843436e-06, 'min_child_samples': 42, 'max_bin': 494, 'od_type': 'Iter', 'task_type': 'GPU', 'loss_function': 'MAE', 'eval_metric': 'MAE'}. Best is trial 121 with value: 5.343377942063889.\u001b[0m\n"
     ]
    },
    {
     "name": "stdout",
     "output_type": "stream",
     "text": [
      "MAE of Train: 5.518232971004513\n",
      "MAE of Validation: 5.511331591191347\n"
     ]
    },
    {
     "name": "stderr",
     "output_type": "stream",
     "text": [
      "\u001b[32m[I 2022-03-27 04:51:47,091]\u001b[0m Trial 808 finished with value: 5.352068818576909 and parameters: {'random_state': 519632, 'learning_rate': 0.05293811095594542, 'bagging_temperature': 2.5840275626832683, 'max_depth': 9, 'random_strength': 33, 'l2_leaf_reg': 1.2872397110165983e-05, 'min_child_samples': 66, 'max_bin': 462, 'od_type': 'IncToDec', 'task_type': 'GPU', 'loss_function': 'MAE', 'eval_metric': 'MAE'}. Best is trial 121 with value: 5.343377942063889.\u001b[0m\n"
     ]
    },
    {
     "name": "stdout",
     "output_type": "stream",
     "text": [
      "MAE of Train: 5.199699519058213\n",
      "MAE of Validation: 5.352068818576909\n"
     ]
    },
    {
     "name": "stderr",
     "output_type": "stream",
     "text": [
      "\u001b[32m[I 2022-03-27 04:51:52,921]\u001b[0m Trial 809 finished with value: 5.347266509770969 and parameters: {'random_state': 519632, 'learning_rate': 0.06144373934024178, 'bagging_temperature': 1.6510576237401755, 'max_depth': 9, 'random_strength': 28, 'l2_leaf_reg': 9.720464259622074e-06, 'min_child_samples': 69, 'max_bin': 474, 'od_type': 'IncToDec', 'task_type': 'GPU', 'loss_function': 'MAE', 'eval_metric': 'MAE'}. Best is trial 121 with value: 5.343377942063889.\u001b[0m\n"
     ]
    },
    {
     "name": "stdout",
     "output_type": "stream",
     "text": [
      "MAE of Train: 5.178096367152602\n",
      "MAE of Validation: 5.347266509770969\n"
     ]
    },
    {
     "name": "stderr",
     "output_type": "stream",
     "text": [
      "\u001b[32m[I 2022-03-27 04:51:58,634]\u001b[0m Trial 810 finished with value: 5.3459034866790045 and parameters: {'random_state': 519632, 'learning_rate': 0.07549632638593304, 'bagging_temperature': 1.1804866843866004, 'max_depth': 9, 'random_strength': 11, 'l2_leaf_reg': 8.505282722155422e-06, 'min_child_samples': 45, 'max_bin': 456, 'od_type': 'IncToDec', 'task_type': 'GPU', 'loss_function': 'MAE', 'eval_metric': 'MAE'}. Best is trial 121 with value: 5.343377942063889.\u001b[0m\n"
     ]
    },
    {
     "name": "stdout",
     "output_type": "stream",
     "text": [
      "MAE of Train: 5.149557184273156\n",
      "MAE of Validation: 5.3459034866790045\n"
     ]
    },
    {
     "name": "stderr",
     "output_type": "stream",
     "text": [
      "\u001b[32m[I 2022-03-27 04:52:03,136]\u001b[0m Trial 811 finished with value: 5.3545798647822656 and parameters: {'random_state': 519632, 'learning_rate': 0.09297465365336678, 'bagging_temperature': 0.8488217789450088, 'max_depth': 7, 'random_strength': 10, 'l2_leaf_reg': 7.828192148022181e-06, 'min_child_samples': 44, 'max_bin': 455, 'od_type': 'IncToDec', 'task_type': 'GPU', 'loss_function': 'MAE', 'eval_metric': 'MAE'}. Best is trial 121 with value: 5.343377942063889.\u001b[0m\n"
     ]
    },
    {
     "name": "stdout",
     "output_type": "stream",
     "text": [
      "MAE of Train: 5.242353973246289\n",
      "MAE of Validation: 5.3545798647822656\n"
     ]
    },
    {
     "name": "stderr",
     "output_type": "stream",
     "text": [
      "\u001b[32m[I 2022-03-27 04:52:06,576]\u001b[0m Trial 812 finished with value: 5.351562861867082 and parameters: {'random_state': 519632, 'learning_rate': 0.14291243349169921, 'bagging_temperature': 0.7575509519486284, 'max_depth': 9, 'random_strength': 10, 'l2_leaf_reg': 7.101705902009628e-06, 'min_child_samples': 45, 'max_bin': 444, 'od_type': 'Iter', 'task_type': 'GPU', 'loss_function': 'MAE', 'eval_metric': 'MAE'}. Best is trial 121 with value: 5.343377942063889.\u001b[0m\n"
     ]
    },
    {
     "name": "stdout",
     "output_type": "stream",
     "text": [
      "MAE of Train: 5.166379965035052\n",
      "MAE of Validation: 5.351562861867082\n"
     ]
    },
    {
     "name": "stderr",
     "output_type": "stream",
     "text": [
      "\u001b[32m[I 2022-03-27 04:52:11,105]\u001b[0m Trial 813 finished with value: 5.349058807833139 and parameters: {'random_state': 519632, 'learning_rate': 0.07978675066399094, 'bagging_temperature': 1.0751920269908908, 'max_depth': 9, 'random_strength': 11, 'l2_leaf_reg': 1.3595533582993568e-05, 'min_child_samples': 37, 'max_bin': 456, 'od_type': 'IncToDec', 'task_type': 'GPU', 'loss_function': 'MAE', 'eval_metric': 'MAE'}. Best is trial 121 with value: 5.343377942063889.\u001b[0m\n"
     ]
    },
    {
     "name": "stdout",
     "output_type": "stream",
     "text": [
      "MAE of Train: 5.20231029857485\n",
      "MAE of Validation: 5.349058807833139\n"
     ]
    },
    {
     "name": "stderr",
     "output_type": "stream",
     "text": [
      "\u001b[32m[I 2022-03-27 04:52:15,133]\u001b[0m Trial 814 finished with value: 5.348159507189662 and parameters: {'random_state': 519632, 'learning_rate': 0.10040852147522396, 'bagging_temperature': 1.2051253919151819, 'max_depth': 9, 'random_strength': 8, 'l2_leaf_reg': 8.263395409742984e-06, 'min_child_samples': 43, 'max_bin': 450, 'od_type': 'IncToDec', 'task_type': 'GPU', 'loss_function': 'MAE', 'eval_metric': 'MAE'}. Best is trial 121 with value: 5.343377942063889.\u001b[0m\n"
     ]
    },
    {
     "name": "stdout",
     "output_type": "stream",
     "text": [
      "MAE of Train: 5.177952301216826\n",
      "MAE of Validation: 5.348159507189662\n"
     ]
    },
    {
     "name": "stderr",
     "output_type": "stream",
     "text": [
      "\u001b[32m[I 2022-03-27 04:52:20,016]\u001b[0m Trial 815 finished with value: 5.349892101799365 and parameters: {'random_state': 519632, 'learning_rate': 0.0758571610353503, 'bagging_temperature': 0.9356466945200924, 'max_depth': 9, 'random_strength': 13, 'l2_leaf_reg': 8.489814063563729e-06, 'min_child_samples': 40, 'max_bin': 460, 'od_type': 'IncToDec', 'task_type': 'GPU', 'loss_function': 'MAE', 'eval_metric': 'MAE'}. Best is trial 121 with value: 5.343377942063889.\u001b[0m\n"
     ]
    },
    {
     "name": "stdout",
     "output_type": "stream",
     "text": [
      "MAE of Train: 5.200016944253335\n",
      "MAE of Validation: 5.349892101799365\n"
     ]
    },
    {
     "name": "stderr",
     "output_type": "stream",
     "text": [
      "\u001b[32m[I 2022-03-27 04:52:23,190]\u001b[0m Trial 816 finished with value: 5.350189560098964 and parameters: {'random_state': 519632, 'learning_rate': 0.12087727431234829, 'bagging_temperature': 1.2579464343517666, 'max_depth': 9, 'random_strength': 12, 'l2_leaf_reg': 8.758511933744048e-06, 'min_child_samples': 47, 'max_bin': 447, 'od_type': 'IncToDec', 'task_type': 'GPU', 'loss_function': 'MAE', 'eval_metric': 'MAE'}. Best is trial 121 with value: 5.343377942063889.\u001b[0m\n"
     ]
    },
    {
     "name": "stdout",
     "output_type": "stream",
     "text": [
      "MAE of Train: 5.201083636066507\n",
      "MAE of Validation: 5.350189560098964\n"
     ]
    },
    {
     "name": "stderr",
     "output_type": "stream",
     "text": [
      "\u001b[32m[I 2022-03-27 04:52:26,554]\u001b[0m Trial 817 finished with value: 5.417587900586753 and parameters: {'random_state': 519632, 'learning_rate': 0.08462740355626035, 'bagging_temperature': 1.070549998356725, 'max_depth': 3, 'random_strength': 9, 'l2_leaf_reg': 7.749529233091946e-06, 'min_child_samples': 47, 'max_bin': 459, 'od_type': 'IncToDec', 'task_type': 'GPU', 'loss_function': 'MAE', 'eval_metric': 'MAE'}. Best is trial 121 with value: 5.343377942063889.\u001b[0m\n"
     ]
    },
    {
     "name": "stdout",
     "output_type": "stream",
     "text": [
      "MAE of Train: 5.4155543161724005\n",
      "MAE of Validation: 5.417587900586753\n"
     ]
    },
    {
     "name": "stderr",
     "output_type": "stream",
     "text": [
      "\u001b[32m[I 2022-03-27 04:52:30,179]\u001b[0m Trial 818 finished with value: 5.351607504851815 and parameters: {'random_state': 519632, 'learning_rate': 0.10765888145796965, 'bagging_temperature': 1.502820419144867, 'max_depth': 9, 'random_strength': 11, 'l2_leaf_reg': 8.035231090040748e-06, 'min_child_samples': 45, 'max_bin': 440, 'od_type': 'Iter', 'task_type': 'GPU', 'loss_function': 'MAE', 'eval_metric': 'MAE'}. Best is trial 121 with value: 5.343377942063889.\u001b[0m\n"
     ]
    },
    {
     "name": "stdout",
     "output_type": "stream",
     "text": [
      "MAE of Train: 5.190881906911125\n",
      "MAE of Validation: 5.351607504851815\n"
     ]
    },
    {
     "name": "stderr",
     "output_type": "stream",
     "text": [
      "\u001b[32m[I 2022-03-27 04:52:35,335]\u001b[0m Trial 819 finished with value: 5.349908234125619 and parameters: {'random_state': 519632, 'learning_rate': 0.07187840326158353, 'bagging_temperature': 0.7744688991314618, 'max_depth': 9, 'random_strength': 13, 'l2_leaf_reg': 7.327256910427994e-06, 'min_child_samples': 42, 'max_bin': 452, 'od_type': 'IncToDec', 'task_type': 'GPU', 'loss_function': 'MAE', 'eval_metric': 'MAE'}. Best is trial 121 with value: 5.343377942063889.\u001b[0m\n"
     ]
    },
    {
     "name": "stdout",
     "output_type": "stream",
     "text": [
      "MAE of Train: 5.208987577104866\n",
      "MAE of Validation: 5.349908234125619\n"
     ]
    },
    {
     "name": "stderr",
     "output_type": "stream",
     "text": [
      "\u001b[32m[I 2022-03-27 04:52:40,714]\u001b[0m Trial 820 finished with value: 5.350145306590473 and parameters: {'random_state': 519632, 'learning_rate': 0.08797718115949744, 'bagging_temperature': 1.2565732173827724, 'max_depth': 8, 'random_strength': 14, 'l2_leaf_reg': 8.91585607066319e-06, 'min_child_samples': 45, 'max_bin': 305, 'od_type': 'IncToDec', 'task_type': 'GPU', 'loss_function': 'MAE', 'eval_metric': 'MAE'}. Best is trial 121 with value: 5.343377942063889.\u001b[0m\n"
     ]
    },
    {
     "name": "stdout",
     "output_type": "stream",
     "text": [
      "MAE of Train: 5.189235051219438\n",
      "MAE of Validation: 5.350145306590473\n"
     ]
    },
    {
     "name": "stderr",
     "output_type": "stream",
     "text": [
      "\u001b[32m[I 2022-03-27 04:52:45,962]\u001b[0m Trial 821 finished with value: 5.351228048254175 and parameters: {'random_state': 519632, 'learning_rate': 0.06726331120680429, 'bagging_temperature': 1.9971585041486422, 'max_depth': 9, 'random_strength': 15, 'l2_leaf_reg': 1.2147777765578254e-05, 'min_child_samples': 47, 'max_bin': 468, 'od_type': 'IncToDec', 'task_type': 'GPU', 'loss_function': 'MAE', 'eval_metric': 'MAE'}. Best is trial 121 with value: 5.343377942063889.\u001b[0m\n"
     ]
    },
    {
     "name": "stdout",
     "output_type": "stream",
     "text": [
      "MAE of Train: 5.192684358496357\n",
      "MAE of Validation: 5.351228048254175\n"
     ]
    },
    {
     "name": "stderr",
     "output_type": "stream",
     "text": [
      "\u001b[32m[I 2022-03-27 04:52:51,101]\u001b[0m Trial 822 finished with value: 5.3480270265328915 and parameters: {'random_state': 519632, 'learning_rate': 0.07455949132130099, 'bagging_temperature': 1.0134700224343294, 'max_depth': 9, 'random_strength': 9, 'l2_leaf_reg': 1.5507157048576843e-05, 'min_child_samples': 50, 'max_bin': 464, 'od_type': 'IncToDec', 'task_type': 'GPU', 'loss_function': 'MAE', 'eval_metric': 'MAE'}. Best is trial 121 with value: 5.343377942063889.\u001b[0m\n"
     ]
    },
    {
     "name": "stdout",
     "output_type": "stream",
     "text": [
      "MAE of Train: 5.202902482299565\n",
      "MAE of Validation: 5.3480270265328915\n"
     ]
    },
    {
     "name": "stderr",
     "output_type": "stream",
     "text": [
      "\u001b[32m[I 2022-03-27 04:52:55,269]\u001b[0m Trial 823 finished with value: 5.3496770235344835 and parameters: {'random_state': 519632, 'learning_rate': 0.10038049823984611, 'bagging_temperature': 1.4235230112835333, 'max_depth': 9, 'random_strength': 11, 'l2_leaf_reg': 6.694203911438767e-06, 'min_child_samples': 43, 'max_bin': 455, 'od_type': 'Iter', 'task_type': 'GPU', 'loss_function': 'MAE', 'eval_metric': 'MAE'}. Best is trial 121 with value: 5.343377942063889.\u001b[0m\n"
     ]
    },
    {
     "name": "stdout",
     "output_type": "stream",
     "text": [
      "MAE of Train: 5.196287198741969\n",
      "MAE of Validation: 5.3496770235344835\n"
     ]
    },
    {
     "name": "stderr",
     "output_type": "stream",
     "text": [
      "\u001b[32m[I 2022-03-27 04:53:01,588]\u001b[0m Trial 824 finished with value: 5.3485793778555655 and parameters: {'random_state': 519632, 'learning_rate': 0.05837296797366871, 'bagging_temperature': 1.7454134506620929, 'max_depth': 9, 'random_strength': 6, 'l2_leaf_reg': 8.497593932926764e-06, 'min_child_samples': 49, 'max_bin': 448, 'od_type': 'IncToDec', 'task_type': 'GPU', 'loss_function': 'MAE', 'eval_metric': 'MAE'}. Best is trial 121 with value: 5.343377942063889.\u001b[0m\n"
     ]
    },
    {
     "name": "stdout",
     "output_type": "stream",
     "text": [
      "MAE of Train: 5.180402751739521\n",
      "MAE of Validation: 5.3485793778555655\n"
     ]
    },
    {
     "name": "stderr",
     "output_type": "stream",
     "text": [
      "\u001b[32m[I 2022-03-27 04:53:06,201]\u001b[0m Trial 825 finished with value: 5.3562614871375525 and parameters: {'random_state': 519632, 'learning_rate': 0.08682211853412772, 'bagging_temperature': 0.03152431842648434, 'max_depth': 9, 'random_strength': 14, 'l2_leaf_reg': 9.219467511059079e-06, 'min_child_samples': 46, 'max_bin': 459, 'od_type': 'IncToDec', 'task_type': 'GPU', 'loss_function': 'MAE', 'eval_metric': 'MAE'}. Best is trial 121 with value: 5.343377942063889.\u001b[0m\n"
     ]
    },
    {
     "name": "stdout",
     "output_type": "stream",
     "text": [
      "MAE of Train: 5.211079346950988\n",
      "MAE of Validation: 5.3562614871375525\n"
     ]
    },
    {
     "name": "stderr",
     "output_type": "stream",
     "text": [
      "\u001b[32m[I 2022-03-27 04:53:12,014]\u001b[0m Trial 826 finished with value: 5.345921960629367 and parameters: {'random_state': 519632, 'learning_rate': 0.0635872531157524, 'bagging_temperature': 1.1058687073577218, 'max_depth': 9, 'random_strength': 16, 'l2_leaf_reg': 1.2435913188816969e-05, 'min_child_samples': 40, 'max_bin': 442, 'od_type': 'IncToDec', 'task_type': 'GPU', 'loss_function': 'MAE', 'eval_metric': 'MAE'}. Best is trial 121 with value: 5.343377942063889.\u001b[0m\n"
     ]
    },
    {
     "name": "stdout",
     "output_type": "stream",
     "text": [
      "MAE of Train: 5.179755189524668\n",
      "MAE of Validation: 5.345921960629367\n"
     ]
    },
    {
     "name": "stderr",
     "output_type": "stream",
     "text": [
      "\u001b[32m[I 2022-03-27 04:53:15,516]\u001b[0m Trial 827 finished with value: 5.424020375333061 and parameters: {'random_state': 519632, 'learning_rate': 0.04001746446507154, 'bagging_temperature': 1.301527653424085, 'max_depth': 4, 'random_strength': 16, 'l2_leaf_reg': 1.2630974518187273e-05, 'min_child_samples': 36, 'max_bin': 451, 'od_type': 'IncToDec', 'task_type': 'GPU', 'loss_function': 'MAE', 'eval_metric': 'MAE'}. Best is trial 121 with value: 5.343377942063889.\u001b[0m\n"
     ]
    },
    {
     "name": "stdout",
     "output_type": "stream",
     "text": [
      "MAE of Train: 5.424063096422923\n",
      "MAE of Validation: 5.424020375333061\n"
     ]
    },
    {
     "name": "stderr",
     "output_type": "stream",
     "text": [
      "\u001b[32m[I 2022-03-27 04:53:21,290]\u001b[0m Trial 828 finished with value: 5.354261395928389 and parameters: {'random_state': 519632, 'learning_rate': 0.0467742110347872, 'bagging_temperature': 2.0664661022776585, 'max_depth': 9, 'random_strength': 15, 'l2_leaf_reg': 1.2390806362117694e-05, 'min_child_samples': 38, 'max_bin': 428, 'od_type': 'Iter', 'task_type': 'GPU', 'loss_function': 'MAE', 'eval_metric': 'MAE'}. Best is trial 121 with value: 5.343377942063889.\u001b[0m\n"
     ]
    },
    {
     "name": "stdout",
     "output_type": "stream",
     "text": [
      "MAE of Train: 5.22366912119229\n",
      "MAE of Validation: 5.354261395928389\n"
     ]
    },
    {
     "name": "stderr",
     "output_type": "stream",
     "text": [
      "\u001b[32m[I 2022-03-27 04:53:27,066]\u001b[0m Trial 829 finished with value: 5.350268129882107 and parameters: {'random_state': 519632, 'learning_rate': 0.05247310578754498, 'bagging_temperature': 1.5646998581772775, 'max_depth': 9, 'random_strength': 13, 'l2_leaf_reg': 1.3400171709492505e-05, 'min_child_samples': 35, 'max_bin': 441, 'od_type': 'IncToDec', 'task_type': 'GPU', 'loss_function': 'MAE', 'eval_metric': 'MAE'}. Best is trial 121 with value: 5.343377942063889.\u001b[0m\n"
     ]
    },
    {
     "name": "stdout",
     "output_type": "stream",
     "text": [
      "MAE of Train: 5.203434153575375\n",
      "MAE of Validation: 5.350268129882107\n"
     ]
    },
    {
     "name": "stderr",
     "output_type": "stream",
     "text": [
      "\u001b[32m[I 2022-03-27 04:53:32,626]\u001b[0m Trial 830 finished with value: 5.351450543312375 and parameters: {'random_state': 519632, 'learning_rate': 0.05968912154617554, 'bagging_temperature': 1.13249150732106, 'max_depth': 9, 'random_strength': 16, 'l2_leaf_reg': 1.3146623593663605e-05, 'min_child_samples': 72, 'max_bin': 432, 'od_type': 'IncToDec', 'task_type': 'GPU', 'loss_function': 'MAE', 'eval_metric': 'MAE'}. Best is trial 121 with value: 5.343377942063889.\u001b[0m\n"
     ]
    },
    {
     "name": "stdout",
     "output_type": "stream",
     "text": [
      "MAE of Train: 5.210358081881813\n",
      "MAE of Validation: 5.351450543312375\n"
     ]
    },
    {
     "name": "stderr",
     "output_type": "stream",
     "text": [
      "\u001b[32m[I 2022-03-27 04:53:38,442]\u001b[0m Trial 831 finished with value: 5.347930833202863 and parameters: {'random_state': 519632, 'learning_rate': 0.06445415047251259, 'bagging_temperature': 0.8375847334170053, 'max_depth': 9, 'random_strength': 12, 'l2_leaf_reg': 1.3884837467340246e-05, 'min_child_samples': 41, 'max_bin': 436, 'od_type': 'IncToDec', 'task_type': 'GPU', 'loss_function': 'MAE', 'eval_metric': 'MAE'}. Best is trial 121 with value: 5.343377942063889.\u001b[0m\n"
     ]
    },
    {
     "name": "stdout",
     "output_type": "stream",
     "text": [
      "MAE of Train: 5.180541229028323\n",
      "MAE of Validation: 5.347930833202863\n"
     ]
    },
    {
     "name": "stderr",
     "output_type": "stream",
     "text": [
      "\u001b[32m[I 2022-03-27 04:53:44,212]\u001b[0m Trial 832 finished with value: 5.351828095400827 and parameters: {'random_state': 519632, 'learning_rate': 0.04629282873465387, 'bagging_temperature': 1.437430465149799, 'max_depth': 9, 'random_strength': 17, 'l2_leaf_reg': 1.280330970389897e-05, 'min_child_samples': 66, 'max_bin': 441, 'od_type': 'IncToDec', 'task_type': 'GPU', 'loss_function': 'MAE', 'eval_metric': 'MAE'}. Best is trial 121 with value: 5.343377942063889.\u001b[0m\n"
     ]
    },
    {
     "name": "stdout",
     "output_type": "stream",
     "text": [
      "MAE of Train: 5.2354024110880895\n",
      "MAE of Validation: 5.351828095400827\n"
     ]
    },
    {
     "name": "stderr",
     "output_type": "stream",
     "text": [
      "\u001b[32m[I 2022-03-27 04:53:50,008]\u001b[0m Trial 833 finished with value: 5.346179142313679 and parameters: {'random_state': 519632, 'learning_rate': 0.05829057152576016, 'bagging_temperature': 1.7858585838954308, 'max_depth': 9, 'random_strength': 11, 'l2_leaf_reg': 1.2034210600248929e-05, 'min_child_samples': 38, 'max_bin': 436, 'od_type': 'Iter', 'task_type': 'GPU', 'loss_function': 'MAE', 'eval_metric': 'MAE'}. Best is trial 121 with value: 5.343377942063889.\u001b[0m\n"
     ]
    },
    {
     "name": "stdout",
     "output_type": "stream",
     "text": [
      "MAE of Train: 5.18157491786669\n",
      "MAE of Validation: 5.346179142313679\n"
     ]
    },
    {
     "name": "stderr",
     "output_type": "stream",
     "text": [
      "\u001b[32m[I 2022-03-27 04:53:55,230]\u001b[0m Trial 834 finished with value: 5.34878530392365 and parameters: {'random_state': 519632, 'learning_rate': 0.07109999495080739, 'bagging_temperature': 1.1227664368667487, 'max_depth': 9, 'random_strength': 14, 'l2_leaf_reg': 1.4798447172823057e-05, 'min_child_samples': 42, 'max_bin': 423, 'od_type': 'IncToDec', 'task_type': 'GPU', 'loss_function': 'MAE', 'eval_metric': 'MAE'}. Best is trial 121 with value: 5.343377942063889.\u001b[0m\n"
     ]
    },
    {
     "name": "stdout",
     "output_type": "stream",
     "text": [
      "MAE of Train: 5.188702960052151\n",
      "MAE of Validation: 5.34878530392365\n"
     ]
    },
    {
     "name": "stderr",
     "output_type": "stream",
     "text": [
      "\u001b[32m[I 2022-03-27 04:54:01,008]\u001b[0m Trial 835 finished with value: 5.360577700374823 and parameters: {'random_state': 519632, 'learning_rate': 0.03948679971879928, 'bagging_temperature': 0.9409454899141527, 'max_depth': 9, 'random_strength': 18, 'l2_leaf_reg': 1.4137207392913253e-05, 'min_child_samples': 39, 'max_bin': 444, 'od_type': 'IncToDec', 'task_type': 'GPU', 'loss_function': 'MAE', 'eval_metric': 'MAE'}. Best is trial 121 with value: 5.343377942063889.\u001b[0m\n"
     ]
    },
    {
     "name": "stdout",
     "output_type": "stream",
     "text": [
      "MAE of Train: 5.272452679667306\n",
      "MAE of Validation: 5.360577700374823\n"
     ]
    },
    {
     "name": "stderr",
     "output_type": "stream",
     "text": [
      "\u001b[32m[I 2022-03-27 04:54:06,874]\u001b[0m Trial 836 finished with value: 5.349263144651918 and parameters: {'random_state': 519632, 'learning_rate': 0.052669581715758806, 'bagging_temperature': 1.329846007741568, 'max_depth': 9, 'random_strength': 9, 'l2_leaf_reg': 1.2665048444939795e-05, 'min_child_samples': 68, 'max_bin': 444, 'od_type': 'IncToDec', 'task_type': 'GPU', 'loss_function': 'MAE', 'eval_metric': 'MAE'}. Best is trial 121 with value: 5.343377942063889.\u001b[0m\n"
     ]
    },
    {
     "name": "stdout",
     "output_type": "stream",
     "text": [
      "MAE of Train: 5.205123138134505\n",
      "MAE of Validation: 5.349263144651918\n"
     ]
    },
    {
     "name": "stderr",
     "output_type": "stream",
     "text": [
      "\u001b[32m[I 2022-03-27 04:54:09,355]\u001b[0m Trial 837 finished with value: 5.35995976438903 and parameters: {'random_state': 519632, 'learning_rate': 0.18022927299378905, 'bagging_temperature': 2.1740732618223544, 'max_depth': 9, 'random_strength': 12, 'l2_leaf_reg': 1.3205276824365512e-05, 'min_child_samples': 41, 'max_bin': 271, 'od_type': 'IncToDec', 'task_type': 'GPU', 'loss_function': 'MAE', 'eval_metric': 'MAE'}. Best is trial 121 with value: 5.343377942063889.\u001b[0m\n"
     ]
    },
    {
     "name": "stdout",
     "output_type": "stream",
     "text": [
      "MAE of Train: 5.170421229501857\n",
      "MAE of Validation: 5.35995976438903\n"
     ]
    },
    {
     "name": "stderr",
     "output_type": "stream",
     "text": [
      "\u001b[32m[I 2022-03-27 04:54:14,259]\u001b[0m Trial 838 finished with value: 5.356809597611993 and parameters: {'random_state': 519632, 'learning_rate': 0.06620523692428795, 'bagging_temperature': 0.6757968798282771, 'max_depth': 8, 'random_strength': 15, 'l2_leaf_reg': 1.2061624666835335e-05, 'min_child_samples': 39, 'max_bin': 435, 'od_type': 'Iter', 'task_type': 'GPU', 'loss_function': 'MAE', 'eval_metric': 'MAE'}. Best is trial 121 with value: 5.343377942063889.\u001b[0m\n"
     ]
    },
    {
     "name": "stdout",
     "output_type": "stream",
     "text": [
      "MAE of Train: 5.240303585733034\n",
      "MAE of Validation: 5.356809597611993\n"
     ]
    },
    {
     "name": "stderr",
     "output_type": "stream",
     "text": [
      "\u001b[32m[I 2022-03-27 04:54:18,895]\u001b[0m Trial 839 finished with value: 5.348038387642875 and parameters: {'random_state': 519632, 'learning_rate': 0.07594431976087514, 'bagging_temperature': 1.5465109138637467, 'max_depth': 9, 'random_strength': 16, 'l2_leaf_reg': 7.5671050093605165e-06, 'min_child_samples': 17, 'max_bin': 449, 'od_type': 'IncToDec', 'task_type': 'GPU', 'loss_function': 'MAE', 'eval_metric': 'MAE'}. Best is trial 121 with value: 5.343377942063889.\u001b[0m\n"
     ]
    },
    {
     "name": "stdout",
     "output_type": "stream",
     "text": [
      "MAE of Train: 5.183952536470901\n",
      "MAE of Validation: 5.348038387642875\n"
     ]
    },
    {
     "name": "stderr",
     "output_type": "stream",
     "text": [
      "\u001b[32m[I 2022-03-27 04:54:24,608]\u001b[0m Trial 840 finished with value: 5.351871235952835 and parameters: {'random_state': 519632, 'learning_rate': 0.06069094884684091, 'bagging_temperature': 2.5905668351525577, 'max_depth': 9, 'random_strength': 14, 'l2_leaf_reg': 1.1674139160364767e-05, 'min_child_samples': 64, 'max_bin': 455, 'od_type': 'IncToDec', 'task_type': 'GPU', 'loss_function': 'MAE', 'eval_metric': 'MAE'}. Best is trial 121 with value: 5.343377942063889.\u001b[0m\n"
     ]
    },
    {
     "name": "stdout",
     "output_type": "stream",
     "text": [
      "MAE of Train: 5.174548136942613\n",
      "MAE of Validation: 5.351871235952835\n"
     ]
    },
    {
     "name": "stderr",
     "output_type": "stream",
     "text": [
      "\u001b[32m[I 2022-03-27 04:54:28,779]\u001b[0m Trial 841 finished with value: 5.346757848516798 and parameters: {'random_state': 519632, 'learning_rate': 0.0905899181099332, 'bagging_temperature': 1.1983585678206254, 'max_depth': 9, 'random_strength': 18, 'l2_leaf_reg': 1.2633685185155852e-05, 'min_child_samples': 71, 'max_bin': 446, 'od_type': 'IncToDec', 'task_type': 'GPU', 'loss_function': 'MAE', 'eval_metric': 'MAE'}. Best is trial 121 with value: 5.343377942063889.\u001b[0m\n"
     ]
    },
    {
     "name": "stdout",
     "output_type": "stream",
     "text": [
      "MAE of Train: 5.188601542333235\n",
      "MAE of Validation: 5.346757848516798\n"
     ]
    },
    {
     "name": "stderr",
     "output_type": "stream",
     "text": [
      "\u001b[32m[I 2022-03-27 04:54:33,976]\u001b[0m Trial 842 finished with value: 5.348809698540087 and parameters: {'random_state': 519632, 'learning_rate': 0.07062327414065779, 'bagging_temperature': 1.690251340607217, 'max_depth': 9, 'random_strength': 7, 'l2_leaf_reg': 8.120334810019612e-06, 'min_child_samples': 41, 'max_bin': 459, 'od_type': 'IncToDec', 'task_type': 'GPU', 'loss_function': 'MAE', 'eval_metric': 'MAE'}. Best is trial 121 with value: 5.343377942063889.\u001b[0m\n"
     ]
    },
    {
     "name": "stdout",
     "output_type": "stream",
     "text": [
      "MAE of Train: 5.173561805906767\n",
      "MAE of Validation: 5.348809698540087\n"
     ]
    },
    {
     "name": "stderr",
     "output_type": "stream",
     "text": [
      "\u001b[32m[I 2022-03-27 04:54:39,764]\u001b[0m Trial 843 finished with value: 5.353381772312937 and parameters: {'random_state': 519632, 'learning_rate': 0.05104662761949418, 'bagging_temperature': 1.3436148756625086, 'max_depth': 9, 'random_strength': 34, 'l2_leaf_reg': 1.367093574313953e-05, 'min_child_samples': 69, 'max_bin': 464, 'od_type': 'IncToDec', 'task_type': 'GPU', 'loss_function': 'MAE', 'eval_metric': 'MAE'}. Best is trial 121 with value: 5.343377942063889.\u001b[0m\n"
     ]
    },
    {
     "name": "stdout",
     "output_type": "stream",
     "text": [
      "MAE of Train: 5.22473691023075\n",
      "MAE of Validation: 5.353381772312937\n"
     ]
    },
    {
     "name": "stderr",
     "output_type": "stream",
     "text": [
      "\u001b[32m[I 2022-03-27 04:54:43,704]\u001b[0m Trial 844 finished with value: 5.349881422453997 and parameters: {'random_state': 519632, 'learning_rate': 0.08046610737964321, 'bagging_temperature': 0.9405227816487901, 'max_depth': 9, 'random_strength': 12, 'l2_leaf_reg': 1.174448856732198e-05, 'min_child_samples': 40, 'max_bin': 449, 'od_type': 'Iter', 'task_type': 'GPU', 'loss_function': 'MAE', 'eval_metric': 'MAE'}. Best is trial 121 with value: 5.343377942063889.\u001b[0m\n"
     ]
    },
    {
     "name": "stdout",
     "output_type": "stream",
     "text": [
      "MAE of Train: 5.219513738239059\n",
      "MAE of Validation: 5.349881422453997\n"
     ]
    },
    {
     "name": "stderr",
     "output_type": "stream",
     "text": [
      "\u001b[32m[I 2022-03-27 04:54:47,671]\u001b[0m Trial 845 finished with value: 5.351536893550322 and parameters: {'random_state': 519632, 'learning_rate': 0.10915261675275788, 'bagging_temperature': 1.981431000020112, 'max_depth': 9, 'random_strength': 18, 'l2_leaf_reg': 1.3155559111530218e-05, 'min_child_samples': 66, 'max_bin': 456, 'od_type': 'IncToDec', 'task_type': 'GPU', 'loss_function': 'MAE', 'eval_metric': 'MAE'}. Best is trial 121 with value: 5.343377942063889.\u001b[0m\n"
     ]
    },
    {
     "name": "stdout",
     "output_type": "stream",
     "text": [
      "MAE of Train: 5.1481278449426515\n",
      "MAE of Validation: 5.351536893550322\n"
     ]
    },
    {
     "name": "stderr",
     "output_type": "stream",
     "text": [
      "\u001b[32m[I 2022-03-27 04:54:53,433]\u001b[0m Trial 846 finished with value: 5.347352082004916 and parameters: {'random_state': 519632, 'learning_rate': 0.0636755328057112, 'bagging_temperature': 1.122134188052653, 'max_depth': 9, 'random_strength': 15, 'l2_leaf_reg': 1.4645310979109698e-05, 'min_child_samples': 67, 'max_bin': 438, 'od_type': 'IncToDec', 'task_type': 'GPU', 'loss_function': 'MAE', 'eval_metric': 'MAE'}. Best is trial 121 with value: 5.343377942063889.\u001b[0m\n"
     ]
    },
    {
     "name": "stdout",
     "output_type": "stream",
     "text": [
      "MAE of Train: 5.177157967446947\n",
      "MAE of Validation: 5.347352082004916\n"
     ]
    },
    {
     "name": "stderr",
     "output_type": "stream",
     "text": [
      "\u001b[32m[I 2022-03-27 04:54:59,234]\u001b[0m Trial 847 finished with value: 5.351214160762716 and parameters: {'random_state': 519632, 'learning_rate': 0.05504828977590573, 'bagging_temperature': 1.6076705883907552, 'max_depth': 9, 'random_strength': 44, 'l2_leaf_reg': 1.242227470652843e-05, 'min_child_samples': 74, 'max_bin': 429, 'od_type': 'IncToDec', 'task_type': 'GPU', 'loss_function': 'MAE', 'eval_metric': 'MAE'}. Best is trial 121 with value: 5.343377942063889.\u001b[0m\n"
     ]
    },
    {
     "name": "stdout",
     "output_type": "stream",
     "text": [
      "MAE of Train: 5.20638197055899\n",
      "MAE of Validation: 5.351214160762716\n"
     ]
    },
    {
     "name": "stderr",
     "output_type": "stream",
     "text": [
      "\u001b[32m[I 2022-03-27 04:55:04,003]\u001b[0m Trial 848 finished with value: 5.348724321272005 and parameters: {'random_state': 519632, 'learning_rate': 0.08340914597250455, 'bagging_temperature': 0.7474911146165231, 'max_depth': 9, 'random_strength': 10, 'l2_leaf_reg': 8.432178220386543e-06, 'min_child_samples': 64, 'max_bin': 466, 'od_type': 'IncToDec', 'task_type': 'GPU', 'loss_function': 'MAE', 'eval_metric': 'MAE'}. Best is trial 121 with value: 5.343377942063889.\u001b[0m\n"
     ]
    },
    {
     "name": "stdout",
     "output_type": "stream",
     "text": [
      "MAE of Train: 5.189118884050025\n",
      "MAE of Validation: 5.348724321272005\n"
     ]
    },
    {
     "name": "stderr",
     "output_type": "stream",
     "text": [
      "\u001b[32m[I 2022-03-27 04:55:08,762]\u001b[0m Trial 849 finished with value: 5.354955638495373 and parameters: {'random_state': 519632, 'learning_rate': 0.07138719839536455, 'bagging_temperature': 1.4227738187049876, 'max_depth': 9, 'random_strength': 37, 'l2_leaf_reg': 1.1581685950029188e-05, 'min_child_samples': 26, 'max_bin': 451, 'od_type': 'Iter', 'task_type': 'GPU', 'loss_function': 'MAE', 'eval_metric': 'MAE'}. Best is trial 121 with value: 5.343377942063889.\u001b[0m\n"
     ]
    },
    {
     "name": "stdout",
     "output_type": "stream",
     "text": [
      "MAE of Train: 5.19898057319789\n",
      "MAE of Validation: 5.354955638495373\n"
     ]
    },
    {
     "name": "stderr",
     "output_type": "stream",
     "text": [
      "\u001b[32m[I 2022-03-27 04:55:11,829]\u001b[0m Trial 850 finished with value: 5.359354571475335 and parameters: {'random_state': 519632, 'learning_rate': 0.12404603285976229, 'bagging_temperature': 0.9720614930310851, 'max_depth': 9, 'random_strength': 31, 'l2_leaf_reg': 7.329615863228603e-06, 'min_child_samples': 69, 'max_bin': 442, 'od_type': 'IncToDec', 'task_type': 'GPU', 'loss_function': 'MAE', 'eval_metric': 'MAE'}. Best is trial 121 with value: 5.343377942063889.\u001b[0m\n"
     ]
    },
    {
     "name": "stdout",
     "output_type": "stream",
     "text": [
      "MAE of Train: 5.2138862505501\n",
      "MAE of Validation: 5.359354571475335\n"
     ]
    },
    {
     "name": "stderr",
     "output_type": "stream",
     "text": [
      "\u001b[32m[I 2022-03-27 04:55:17,637]\u001b[0m Trial 851 finished with value: 5.35168791050365 and parameters: {'random_state': 519632, 'learning_rate': 0.044283255020130835, 'bagging_temperature': 1.7790271626069694, 'max_depth': 9, 'random_strength': 13, 'l2_leaf_reg': 8.97295713145473e-06, 'min_child_samples': 70, 'max_bin': 461, 'od_type': 'IncToDec', 'task_type': 'GPU', 'loss_function': 'MAE', 'eval_metric': 'MAE'}. Best is trial 121 with value: 5.343377942063889.\u001b[0m\n"
     ]
    },
    {
     "name": "stdout",
     "output_type": "stream",
     "text": [
      "MAE of Train: 5.230732711122654\n",
      "MAE of Validation: 5.35168791050365\n"
     ]
    },
    {
     "name": "stderr",
     "output_type": "stream",
     "text": [
      "\u001b[32m[I 2022-03-27 04:55:23,281]\u001b[0m Trial 852 finished with value: 5.381210142279722 and parameters: {'random_state': 519632, 'learning_rate': 0.024389824837822458, 'bagging_temperature': 1.1588300688753423, 'max_depth': 9, 'random_strength': 17, 'l2_leaf_reg': 1.379349156751546e-05, 'min_child_samples': 43, 'max_bin': 388, 'od_type': 'IncToDec', 'task_type': 'GPU', 'loss_function': 'MAE', 'eval_metric': 'MAE'}. Best is trial 121 with value: 5.343377942063889.\u001b[0m\n"
     ]
    },
    {
     "name": "stdout",
     "output_type": "stream",
     "text": [
      "MAE of Train: 5.339499673927903\n",
      "MAE of Validation: 5.381210142279722\n"
     ]
    },
    {
     "name": "stderr",
     "output_type": "stream",
     "text": [
      "\u001b[32m[I 2022-03-27 04:55:26,601]\u001b[0m Trial 853 finished with value: 5.3556852133030795 and parameters: {'random_state': 519632, 'learning_rate': 0.09806847787706413, 'bagging_temperature': 2.2804551986299426, 'max_depth': 9, 'random_strength': 34, 'l2_leaf_reg': 6.010427444536863e-06, 'min_child_samples': 65, 'max_bin': 352, 'od_type': 'IncToDec', 'task_type': 'GPU', 'loss_function': 'MAE', 'eval_metric': 'MAE'}. Best is trial 121 with value: 5.343377942063889.\u001b[0m\n"
     ]
    },
    {
     "name": "stdout",
     "output_type": "stream",
     "text": [
      "MAE of Train: 5.206152543455209\n",
      "MAE of Validation: 5.3556852133030795\n"
     ]
    },
    {
     "name": "stderr",
     "output_type": "stream",
     "text": [
      "\u001b[32m[I 2022-03-27 04:55:32,317]\u001b[0m Trial 854 finished with value: 5.349389262861041 and parameters: {'random_state': 519632, 'learning_rate': 0.0636928563751991, 'bagging_temperature': 1.343473479370312, 'max_depth': 9, 'random_strength': 32, 'l2_leaf_reg': 1.1269412742832444e-05, 'min_child_samples': 72, 'max_bin': 469, 'od_type': 'Iter', 'task_type': 'GPU', 'loss_function': 'MAE', 'eval_metric': 'MAE'}. Best is trial 121 with value: 5.343377942063889.\u001b[0m\n"
     ]
    },
    {
     "name": "stdout",
     "output_type": "stream",
     "text": [
      "MAE of Train: 5.182748257520366\n",
      "MAE of Validation: 5.349389262861041\n"
     ]
    },
    {
     "name": "stderr",
     "output_type": "stream",
     "text": [
      "\u001b[32m[I 2022-03-27 04:55:33,153]\u001b[0m Trial 855 finished with value: 5.4875002950907605 and parameters: {'random_state': 519632, 'learning_rate': 0.2240470211113752, 'bagging_temperature': 1.834361122021904, 'max_depth': 5, 'random_strength': 15, 'l2_leaf_reg': 1.2109562417865752e-05, 'min_child_samples': 67, 'max_bin': 456, 'od_type': 'IncToDec', 'task_type': 'GPU', 'loss_function': 'MAE', 'eval_metric': 'MAE'}. Best is trial 121 with value: 5.343377942063889.\u001b[0m\n"
     ]
    },
    {
     "name": "stdout",
     "output_type": "stream",
     "text": [
      "MAE of Train: 5.493370782024452\n",
      "MAE of Validation: 5.4875002950907605\n"
     ]
    },
    {
     "name": "stderr",
     "output_type": "stream",
     "text": [
      "\u001b[32m[I 2022-03-27 04:55:37,702]\u001b[0m Trial 856 finished with value: 5.351601119517025 and parameters: {'random_state': 519632, 'learning_rate': 0.0792849086181889, 'bagging_temperature': 2.983530755182742, 'max_depth': 9, 'random_strength': 19, 'l2_leaf_reg': 8.891654076310537e-06, 'min_child_samples': 34, 'max_bin': 445, 'od_type': 'IncToDec', 'task_type': 'GPU', 'loss_function': 'MAE', 'eval_metric': 'MAE'}. Best is trial 121 with value: 5.343377942063889.\u001b[0m\n"
     ]
    },
    {
     "name": "stdout",
     "output_type": "stream",
     "text": [
      "MAE of Train: 5.177274719381633\n",
      "MAE of Validation: 5.351601119517025\n"
     ]
    },
    {
     "name": "stderr",
     "output_type": "stream",
     "text": [
      "\u001b[32m[I 2022-03-27 04:55:41,719]\u001b[0m Trial 857 finished with value: 5.381740665470237 and parameters: {'random_state': 519632, 'learning_rate': 0.05272949902578056, 'bagging_temperature': 0.8724171352751011, 'max_depth': 6, 'random_strength': 11, 'l2_leaf_reg': 1.300252279139406e-05, 'min_child_samples': 62, 'max_bin': 463, 'od_type': 'IncToDec', 'task_type': 'GPU', 'loss_function': 'MAE', 'eval_metric': 'MAE'}. Best is trial 121 with value: 5.343377942063889.\u001b[0m\n"
     ]
    },
    {
     "name": "stdout",
     "output_type": "stream",
     "text": [
      "MAE of Train: 5.351638365847339\n",
      "MAE of Validation: 5.381740665470237\n"
     ]
    },
    {
     "name": "stderr",
     "output_type": "stream",
     "text": [
      "\u001b[32m[I 2022-03-27 04:55:45,628]\u001b[0m Trial 858 finished with value: 5.349128567816815 and parameters: {'random_state': 519632, 'learning_rate': 0.09151254212035032, 'bagging_temperature': 1.2052871095899533, 'max_depth': 9, 'random_strength': 30, 'l2_leaf_reg': 1.4299665886821922e-05, 'min_child_samples': 70, 'max_bin': 452, 'od_type': 'IncToDec', 'task_type': 'GPU', 'loss_function': 'MAE', 'eval_metric': 'MAE'}. Best is trial 121 with value: 5.343377942063889.\u001b[0m\n"
     ]
    },
    {
     "name": "stdout",
     "output_type": "stream",
     "text": [
      "MAE of Train: 5.206116990720868\n",
      "MAE of Validation: 5.349128567816815\n"
     ]
    },
    {
     "name": "stderr",
     "output_type": "stream",
     "text": [
      "\u001b[32m[I 2022-03-27 04:55:50,928]\u001b[0m Trial 859 finished with value: 5.347370082968947 and parameters: {'random_state': 519632, 'learning_rate': 0.07013986157154821, 'bagging_temperature': 1.4533139799995587, 'max_depth': 9, 'random_strength': 9, 'l2_leaf_reg': 9.546410892671089e-06, 'min_child_samples': 68, 'max_bin': 471, 'od_type': 'Iter', 'task_type': 'GPU', 'loss_function': 'MAE', 'eval_metric': 'MAE'}. Best is trial 121 with value: 5.343377942063889.\u001b[0m\n"
     ]
    },
    {
     "name": "stdout",
     "output_type": "stream",
     "text": [
      "MAE of Train: 5.166717419318985\n",
      "MAE of Validation: 5.347370082968947\n"
     ]
    },
    {
     "name": "stderr",
     "output_type": "stream",
     "text": [
      "\u001b[32m[I 2022-03-27 04:55:56,540]\u001b[0m Trial 860 finished with value: 5.348524451262806 and parameters: {'random_state': 519632, 'learning_rate': 0.05953191930276391, 'bagging_temperature': 1.05078952344128, 'max_depth': 9, 'random_strength': 13, 'l2_leaf_reg': 7.91868384937225e-06, 'min_child_samples': 66, 'max_bin': 458, 'od_type': 'IncToDec', 'task_type': 'GPU', 'loss_function': 'MAE', 'eval_metric': 'MAE'}. Best is trial 121 with value: 5.343377942063889.\u001b[0m\n"
     ]
    },
    {
     "name": "stdout",
     "output_type": "stream",
     "text": [
      "MAE of Train: 5.200388509919814\n",
      "MAE of Validation: 5.348524451262806\n"
     ]
    },
    {
     "name": "stderr",
     "output_type": "stream",
     "text": [
      "\u001b[32m[I 2022-03-27 04:55:59,770]\u001b[0m Trial 861 finished with value: 5.354605418513073 and parameters: {'random_state': 519632, 'learning_rate': 0.104695028822904, 'bagging_temperature': 1.6608011819131416, 'max_depth': 9, 'random_strength': 39, 'l2_leaf_reg': 4.329412504208536e-06, 'min_child_samples': 44, 'max_bin': 442, 'od_type': 'IncToDec', 'task_type': 'GPU', 'loss_function': 'MAE', 'eval_metric': 'MAE'}. Best is trial 121 with value: 5.343377942063889.\u001b[0m\n"
     ]
    },
    {
     "name": "stdout",
     "output_type": "stream",
     "text": [
      "MAE of Train: 5.217583940249618\n",
      "MAE of Validation: 5.354605418513073\n"
     ]
    },
    {
     "name": "stderr",
     "output_type": "stream",
     "text": [
      "\u001b[32m[I 2022-03-27 04:56:04,310]\u001b[0m Trial 862 finished with value: 5.350170546922956 and parameters: {'random_state': 519632, 'learning_rate': 0.07917698396320981, 'bagging_temperature': 2.130334721741678, 'max_depth': 9, 'random_strength': 35, 'l2_leaf_reg': 1.1021087289307323e-05, 'min_child_samples': 73, 'max_bin': 450, 'od_type': 'IncToDec', 'task_type': 'GPU', 'loss_function': 'MAE', 'eval_metric': 'MAE'}. Best is trial 121 with value: 5.343377942063889.\u001b[0m\n"
     ]
    },
    {
     "name": "stdout",
     "output_type": "stream",
     "text": [
      "MAE of Train: 5.181286689938917\n",
      "MAE of Validation: 5.350170546922956\n"
     ]
    },
    {
     "name": "stderr",
     "output_type": "stream",
     "text": [
      "\u001b[32m[I 2022-03-27 04:56:09,207]\u001b[0m Trial 863 finished with value: 5.348438375547808 and parameters: {'random_state': 519632, 'learning_rate': 0.0701560594351181, 'bagging_temperature': 1.3004935789206264, 'max_depth': 9, 'random_strength': 7, 'l2_leaf_reg': 1.2669486000455525e-05, 'min_child_samples': 63, 'max_bin': 469, 'od_type': 'IncToDec', 'task_type': 'GPU', 'loss_function': 'MAE', 'eval_metric': 'MAE'}. Best is trial 121 with value: 5.343377942063889.\u001b[0m\n"
     ]
    },
    {
     "name": "stdout",
     "output_type": "stream",
     "text": [
      "MAE of Train: 5.185145652099768\n",
      "MAE of Validation: 5.348438375547808\n"
     ]
    },
    {
     "name": "stderr",
     "output_type": "stream",
     "text": [
      "\u001b[32m[I 2022-03-27 04:56:12,142]\u001b[0m Trial 864 finished with value: 5.353479020062452 and parameters: {'random_state': 519632, 'learning_rate': 0.14250453651743167, 'bagging_temperature': 1.5401552294503589, 'max_depth': 9, 'random_strength': 17, 'l2_leaf_reg': 1.3473098527478942e-05, 'min_child_samples': 36, 'max_bin': 433, 'od_type': 'Iter', 'task_type': 'GPU', 'loss_function': 'MAE', 'eval_metric': 'MAE'}. Best is trial 121 with value: 5.343377942063889.\u001b[0m\n"
     ]
    },
    {
     "name": "stdout",
     "output_type": "stream",
     "text": [
      "MAE of Train: 5.1773387948024805\n",
      "MAE of Validation: 5.353479020062452\n"
     ]
    },
    {
     "name": "stderr",
     "output_type": "stream",
     "text": [
      "\u001b[32m[I 2022-03-27 04:56:16,609]\u001b[0m Trial 865 finished with value: 5.349333019133815 and parameters: {'random_state': 519632, 'learning_rate': 0.09213624427969515, 'bagging_temperature': 0.9884444404047463, 'max_depth': 9, 'random_strength': 32, 'l2_leaf_reg': 9.523027410368788e-06, 'min_child_samples': 51, 'max_bin': 463, 'od_type': 'IncToDec', 'task_type': 'GPU', 'loss_function': 'MAE', 'eval_metric': 'MAE'}. Best is trial 121 with value: 5.343377942063889.\u001b[0m\n"
     ]
    },
    {
     "name": "stdout",
     "output_type": "stream",
     "text": [
      "MAE of Train: 5.174848162865687\n",
      "MAE of Validation: 5.349333019133815\n"
     ]
    },
    {
     "name": "stderr",
     "output_type": "stream",
     "text": [
      "\u001b[32m[I 2022-03-27 04:56:21,463]\u001b[0m Trial 866 finished with value: 5.3754822653840515 and parameters: {'random_state': 519632, 'learning_rate': 0.037120762358220066, 'bagging_temperature': 0.8333836750495458, 'max_depth': 8, 'random_strength': 29, 'l2_leaf_reg': 1.1765546960308888e-05, 'min_child_samples': 68, 'max_bin': 454, 'od_type': 'IncToDec', 'task_type': 'GPU', 'loss_function': 'MAE', 'eval_metric': 'MAE'}. Best is trial 121 with value: 5.343377942063889.\u001b[0m\n"
     ]
    },
    {
     "name": "stdout",
     "output_type": "stream",
     "text": [
      "MAE of Train: 5.32771716903998\n",
      "MAE of Validation: 5.3754822653840515\n"
     ]
    },
    {
     "name": "stderr",
     "output_type": "stream",
     "text": [
      "\u001b[32m[I 2022-03-27 04:56:27,185]\u001b[0m Trial 867 finished with value: 5.352324292774646 and parameters: {'random_state': 519632, 'learning_rate': 0.05402570759484657, 'bagging_temperature': 1.840621172168812, 'max_depth': 9, 'random_strength': 20, 'l2_leaf_reg': 8.51555632702007e-06, 'min_child_samples': 71, 'max_bin': 474, 'od_type': 'IncToDec', 'task_type': 'GPU', 'loss_function': 'MAE', 'eval_metric': 'MAE'}. Best is trial 121 with value: 5.343377942063889.\u001b[0m\n"
     ]
    },
    {
     "name": "stdout",
     "output_type": "stream",
     "text": [
      "MAE of Train: 5.200958508764286\n",
      "MAE of Validation: 5.352324292774646\n"
     ]
    },
    {
     "name": "stderr",
     "output_type": "stream",
     "text": [
      "\u001b[32m[I 2022-03-27 04:56:32,923]\u001b[0m Trial 868 finished with value: 5.352152837904921 and parameters: {'random_state': 519632, 'learning_rate': 0.04469842570399437, 'bagging_temperature': 1.201604260174595, 'max_depth': 9, 'random_strength': 15, 'l2_leaf_reg': 1.0366998317164682e-05, 'min_child_samples': 65, 'max_bin': 447, 'od_type': 'IncToDec', 'task_type': 'GPU', 'loss_function': 'MAE', 'eval_metric': 'MAE'}. Best is trial 121 with value: 5.343377942063889.\u001b[0m\n"
     ]
    },
    {
     "name": "stdout",
     "output_type": "stream",
     "text": [
      "MAE of Train: 5.2379384708031465\n",
      "MAE of Validation: 5.352152837904921\n"
     ]
    },
    {
     "name": "stderr",
     "output_type": "stream",
     "text": [
      "\u001b[32m[I 2022-03-27 04:56:37,896]\u001b[0m Trial 869 finished with value: 5.351773628179161 and parameters: {'random_state': 519632, 'learning_rate': 0.06358518072954104, 'bagging_temperature': 0.6813990538502983, 'max_depth': 9, 'random_strength': 12, 'l2_leaf_reg': 6.628747457936601e-06, 'min_child_samples': 48, 'max_bin': 424, 'od_type': 'Iter', 'task_type': 'GPU', 'loss_function': 'MAE', 'eval_metric': 'MAE'}. Best is trial 121 with value: 5.343377942063889.\u001b[0m\n"
     ]
    },
    {
     "name": "stdout",
     "output_type": "stream",
     "text": [
      "MAE of Train: 5.216233189242934\n",
      "MAE of Validation: 5.351773628179161\n"
     ]
    },
    {
     "name": "stderr",
     "output_type": "stream",
     "text": [
      "\u001b[32m[I 2022-03-27 04:56:42,487]\u001b[0m Trial 870 finished with value: 5.353448376122364 and parameters: {'random_state': 519632, 'learning_rate': 0.07878982142716157, 'bagging_temperature': 2.5572792495468173, 'max_depth': 9, 'random_strength': 29, 'l2_leaf_reg': 1.1181192782007118e-05, 'min_child_samples': 43, 'max_bin': 461, 'od_type': 'IncToDec', 'task_type': 'GPU', 'loss_function': 'MAE', 'eval_metric': 'MAE'}. Best is trial 121 with value: 5.343377942063889.\u001b[0m\n"
     ]
    },
    {
     "name": "stdout",
     "output_type": "stream",
     "text": [
      "MAE of Train: 5.17699636681711\n",
      "MAE of Validation: 5.353448376122364\n"
     ]
    },
    {
     "name": "stderr",
     "output_type": "stream",
     "text": [
      "\u001b[32m[I 2022-03-27 04:56:45,573]\u001b[0m Trial 871 finished with value: 5.358136361658136 and parameters: {'random_state': 519632, 'learning_rate': 0.12128282605176122, 'bagging_temperature': 1.5123891595280399, 'max_depth': 9, 'random_strength': 17, 'l2_leaf_reg': 1.2163589489386695e-05, 'min_child_samples': 75, 'max_bin': 468, 'od_type': 'IncToDec', 'task_type': 'GPU', 'loss_function': 'MAE', 'eval_metric': 'MAE'}. Best is trial 121 with value: 5.343377942063889.\u001b[0m\n"
     ]
    },
    {
     "name": "stdout",
     "output_type": "stream",
     "text": [
      "MAE of Train: 5.195395696467149\n",
      "MAE of Validation: 5.358136361658136\n"
     ]
    },
    {
     "name": "stderr",
     "output_type": "stream",
     "text": [
      "\u001b[32m[I 2022-03-27 04:56:51,224]\u001b[0m Trial 872 finished with value: 5.371289321060565 and parameters: {'random_state': 519632, 'learning_rate': 0.03196631250153554, 'bagging_temperature': 1.0850608049902206, 'max_depth': 9, 'random_strength': 30, 'l2_leaf_reg': 9.195188880930959e-06, 'min_child_samples': 69, 'max_bin': 408, 'od_type': 'IncToDec', 'task_type': 'GPU', 'loss_function': 'MAE', 'eval_metric': 'MAE'}. Best is trial 121 with value: 5.343377942063889.\u001b[0m\n"
     ]
    },
    {
     "name": "stdout",
     "output_type": "stream",
     "text": [
      "MAE of Train: 5.316955170239886\n",
      "MAE of Validation: 5.371289321060565\n"
     ]
    },
    {
     "name": "stderr",
     "output_type": "stream",
     "text": [
      "\u001b[32m[I 2022-03-27 04:56:55,540]\u001b[0m Trial 873 finished with value: 5.350264067305332 and parameters: {'random_state': 519632, 'learning_rate': 0.08560290638411752, 'bagging_temperature': 2.0700935768241457, 'max_depth': 9, 'random_strength': 14, 'l2_leaf_reg': 9.87609439262104e-06, 'min_child_samples': 40, 'max_bin': 455, 'od_type': 'IncToDec', 'task_type': 'GPU', 'loss_function': 'MAE', 'eval_metric': 'MAE'}. Best is trial 121 with value: 5.343377942063889.\u001b[0m\n"
     ]
    },
    {
     "name": "stdout",
     "output_type": "stream",
     "text": [
      "MAE of Train: 5.175710372529942\n",
      "MAE of Validation: 5.350264067305332\n"
     ]
    },
    {
     "name": "stderr",
     "output_type": "stream",
     "text": [
      "\u001b[32m[I 2022-03-27 04:57:01,212]\u001b[0m Trial 874 finished with value: 5.349209169348441 and parameters: {'random_state': 519632, 'learning_rate': 0.055931832121546884, 'bagging_temperature': 1.3717876733535663, 'max_depth': 9, 'random_strength': 19, 'l2_leaf_reg': 5.45726401930419e-06, 'min_child_samples': 67, 'max_bin': 474, 'od_type': 'Iter', 'task_type': 'GPU', 'loss_function': 'MAE', 'eval_metric': 'MAE'}. Best is trial 121 with value: 5.343377942063889.\u001b[0m\n"
     ]
    },
    {
     "name": "stdout",
     "output_type": "stream",
     "text": [
      "MAE of Train: 5.198686560885289\n",
      "MAE of Validation: 5.349209169348441\n"
     ]
    },
    {
     "name": "stderr",
     "output_type": "stream",
     "text": [
      "\u001b[32m[I 2022-03-27 04:57:05,407]\u001b[0m Trial 875 finished with value: 5.354596441025953 and parameters: {'random_state': 519632, 'learning_rate': 0.06962059209667715, 'bagging_temperature': 1.6836828988925545, 'max_depth': 9, 'random_strength': 27, 'l2_leaf_reg': 1.5486780946011093e-05, 'min_child_samples': 64, 'max_bin': 213, 'od_type': 'IncToDec', 'task_type': 'GPU', 'loss_function': 'MAE', 'eval_metric': 'MAE'}. Best is trial 121 with value: 5.343377942063889.\u001b[0m\n"
     ]
    },
    {
     "name": "stdout",
     "output_type": "stream",
     "text": [
      "MAE of Train: 5.230436536090129\n",
      "MAE of Validation: 5.354596441025953\n"
     ]
    },
    {
     "name": "stderr",
     "output_type": "stream",
     "text": [
      "\u001b[32m[I 2022-03-27 04:57:10,900]\u001b[0m Trial 876 finished with value: 6.686091113266219 and parameters: {'random_state': 519632, 'learning_rate': 0.0014717594300365899, 'bagging_temperature': 0.9468588859761418, 'max_depth': 9, 'random_strength': 4, 'l2_leaf_reg': 1.4140066037430036e-05, 'min_child_samples': 45, 'max_bin': 442, 'od_type': 'IncToDec', 'task_type': 'GPU', 'loss_function': 'MAE', 'eval_metric': 'MAE'}. Best is trial 121 with value: 5.343377942063889.\u001b[0m\n"
     ]
    },
    {
     "name": "stdout",
     "output_type": "stream",
     "text": [
      "MAE of Train: 6.679816555406232\n",
      "MAE of Validation: 6.686091113266219\n"
     ]
    },
    {
     "name": "stderr",
     "output_type": "stream",
     "text": [
      "\u001b[32m[I 2022-03-27 04:57:14,350]\u001b[0m Trial 877 finished with value: 5.3630689405844345 and parameters: {'random_state': 519632, 'learning_rate': 0.10326332835322134, 'bagging_temperature': 5.347288354389536, 'max_depth': 9, 'random_strength': 98, 'l2_leaf_reg': 7.739649809797084e-06, 'min_child_samples': 71, 'max_bin': 439, 'od_type': 'IncToDec', 'task_type': 'GPU', 'loss_function': 'MAE', 'eval_metric': 'MAE'}. Best is trial 121 with value: 5.343377942063889.\u001b[0m\n"
     ]
    },
    {
     "name": "stdout",
     "output_type": "stream",
     "text": [
      "MAE of Train: 5.2074531356950455\n",
      "MAE of Validation: 5.3630689405844345\n"
     ]
    },
    {
     "name": "stderr",
     "output_type": "stream",
     "text": [
      "\u001b[32m[I 2022-03-27 04:57:19,625]\u001b[0m Trial 878 finished with value: 5.351486312824241 and parameters: {'random_state': 519632, 'learning_rate': 0.06400614107049792, 'bagging_temperature': 1.284995641834187, 'max_depth': 9, 'random_strength': 33, 'l2_leaf_reg': 1.0765394282350634e-05, 'min_child_samples': 38, 'max_bin': 450, 'od_type': 'IncToDec', 'task_type': 'GPU', 'loss_function': 'MAE', 'eval_metric': 'MAE'}. Best is trial 121 with value: 5.343377942063889.\u001b[0m\n"
     ]
    },
    {
     "name": "stdout",
     "output_type": "stream",
     "text": [
      "MAE of Train: 5.204878782032728\n",
      "MAE of Validation: 5.351486312824241\n"
     ]
    },
    {
     "name": "stderr",
     "output_type": "stream",
     "text": [
      "\u001b[32m[I 2022-03-27 04:57:24,286]\u001b[0m Trial 879 finished with value: 5.347520974217707 and parameters: {'random_state': 519632, 'learning_rate': 0.08724324421282222, 'bagging_temperature': 1.1293345499049616, 'max_depth': 9, 'random_strength': 16, 'l2_leaf_reg': 1.3253408195466257e-05, 'min_child_samples': 62, 'max_bin': 464, 'od_type': 'Iter', 'task_type': 'GPU', 'loss_function': 'MAE', 'eval_metric': 'MAE'}. Best is trial 121 with value: 5.343377942063889.\u001b[0m\n"
     ]
    },
    {
     "name": "stdout",
     "output_type": "stream",
     "text": [
      "MAE of Train: 5.1665216384252854\n",
      "MAE of Validation: 5.347520974217707\n"
     ]
    },
    {
     "name": "stderr",
     "output_type": "stream",
     "text": [
      "\u001b[32m[I 2022-03-27 04:57:29,954]\u001b[0m Trial 880 finished with value: 5.34931414105464 and parameters: {'random_state': 519632, 'learning_rate': 0.050490096303456994, 'bagging_temperature': 1.872748695251034, 'max_depth': 9, 'random_strength': 31, 'l2_leaf_reg': 8.625592235737039e-06, 'min_child_samples': 66, 'max_bin': 458, 'od_type': 'IncToDec', 'task_type': 'GPU', 'loss_function': 'MAE', 'eval_metric': 'MAE'}. Best is trial 121 with value: 5.343377942063889.\u001b[0m\n"
     ]
    },
    {
     "name": "stdout",
     "output_type": "stream",
     "text": [
      "MAE of Train: 5.218204421099746\n",
      "MAE of Validation: 5.34931414105464\n"
     ]
    },
    {
     "name": "stderr",
     "output_type": "stream",
     "text": [
      "\u001b[32m[I 2022-03-27 04:57:33,542]\u001b[0m Trial 881 finished with value: 5.35796061055546 and parameters: {'random_state': 519632, 'learning_rate': 0.0741720231743231, 'bagging_temperature': 0.76365276860587, 'max_depth': 9, 'random_strength': 10, 'l2_leaf_reg': 1.1580757241073566e-05, 'min_child_samples': 12, 'max_bin': 363, 'od_type': 'IncToDec', 'task_type': 'GPU', 'loss_function': 'MAE', 'eval_metric': 'MAE'}. Best is trial 121 with value: 5.343377942063889.\u001b[0m\n"
     ]
    },
    {
     "name": "stdout",
     "output_type": "stream",
     "text": [
      "MAE of Train: 5.260089402359534\n",
      "MAE of Validation: 5.35796061055546\n"
     ]
    },
    {
     "name": "stderr",
     "output_type": "stream",
     "text": [
      "\u001b[32m[I 2022-03-27 04:57:39,305]\u001b[0m Trial 882 finished with value: 5.348578628388058 and parameters: {'random_state': 519632, 'learning_rate': 0.06086137000591775, 'bagging_temperature': 1.557204117654723, 'max_depth': 9, 'random_strength': 36, 'l2_leaf_reg': 1.245271008333864e-05, 'min_child_samples': 50, 'max_bin': 478, 'od_type': 'IncToDec', 'task_type': 'GPU', 'loss_function': 'MAE', 'eval_metric': 'MAE'}. Best is trial 121 with value: 5.343377942063889.\u001b[0m\n"
     ]
    },
    {
     "name": "stdout",
     "output_type": "stream",
     "text": [
      "MAE of Train: 5.182577453757983\n",
      "MAE of Validation: 5.348578628388058\n"
     ]
    },
    {
     "name": "stderr",
     "output_type": "stream",
     "text": [
      "\u001b[32m[I 2022-03-27 04:57:44,005]\u001b[0m Trial 883 finished with value: 5.349796988101691 and parameters: {'random_state': 519632, 'learning_rate': 0.10114614614630654, 'bagging_temperature': 1.3270237014714694, 'max_depth': 9, 'random_strength': 76, 'l2_leaf_reg': 1.023967384866025e-05, 'min_child_samples': 70, 'max_bin': 468, 'od_type': 'IncToDec', 'task_type': 'GPU', 'loss_function': 'MAE', 'eval_metric': 'MAE'}. Best is trial 121 with value: 5.343377942063889.\u001b[0m\n"
     ]
    },
    {
     "name": "stdout",
     "output_type": "stream",
     "text": [
      "MAE of Train: 5.142567220344013\n",
      "MAE of Validation: 5.349796988101691\n"
     ]
    },
    {
     "name": "stderr",
     "output_type": "stream",
     "text": [
      "\u001b[32m[I 2022-03-27 04:57:48,195]\u001b[0m Trial 884 finished with value: 5.349851726484377 and parameters: {'random_state': 519632, 'learning_rate': 0.08346806127255885, 'bagging_temperature': 0.9110914021471219, 'max_depth': 9, 'random_strength': 20, 'l2_leaf_reg': 9.181147264110571e-06, 'min_child_samples': 68, 'max_bin': 453, 'od_type': 'Iter', 'task_type': 'GPU', 'loss_function': 'MAE', 'eval_metric': 'MAE'}. Best is trial 121 with value: 5.343377942063889.\u001b[0m\n"
     ]
    },
    {
     "name": "stdout",
     "output_type": "stream",
     "text": [
      "MAE of Train: 5.205228155588159\n",
      "MAE of Validation: 5.349851726484377\n"
     ]
    },
    {
     "name": "stderr",
     "output_type": "stream",
     "text": [
      "\u001b[32m[I 2022-03-27 04:57:52,754]\u001b[0m Trial 885 finished with value: 5.352575603313106 and parameters: {'random_state': 519632, 'learning_rate': 0.0724708297415112, 'bagging_temperature': 2.279127732643027, 'max_depth': 9, 'random_strength': 47, 'l2_leaf_reg': 2.37377669989418e-05, 'min_child_samples': 73, 'max_bin': 446, 'od_type': 'IncToDec', 'task_type': 'GPU', 'loss_function': 'MAE', 'eval_metric': 'MAE'}. Best is trial 121 with value: 5.343377942063889.\u001b[0m\n"
     ]
    },
    {
     "name": "stdout",
     "output_type": "stream",
     "text": [
      "MAE of Train: 5.201253387740585\n",
      "MAE of Validation: 5.352575603313106\n"
     ]
    },
    {
     "name": "stderr",
     "output_type": "stream",
     "text": [
      "\u001b[32m[I 2022-03-27 04:57:58,444]\u001b[0m Trial 886 finished with value: 5.3555617424232835 and parameters: {'random_state': 519632, 'learning_rate': 0.04482164585342757, 'bagging_temperature': 1.5575709717020165, 'max_depth': 9, 'random_strength': 28, 'l2_leaf_reg': 7.268478101089788e-06, 'min_child_samples': 48, 'max_bin': 460, 'od_type': 'IncToDec', 'task_type': 'GPU', 'loss_function': 'MAE', 'eval_metric': 'MAE'}. Best is trial 121 with value: 5.343377942063889.\u001b[0m\n"
     ]
    },
    {
     "name": "stdout",
     "output_type": "stream",
     "text": [
      "MAE of Train: 5.2419024041747635\n",
      "MAE of Validation: 5.3555617424232835\n"
     ]
    },
    {
     "name": "stderr",
     "output_type": "stream",
     "text": [
      "\u001b[32m[I 2022-03-27 04:58:04,138]\u001b[0m Trial 887 finished with value: 5.347787661430383 and parameters: {'random_state': 519632, 'learning_rate': 0.05668978812480085, 'bagging_temperature': 1.0788464693549844, 'max_depth': 9, 'random_strength': 12, 'l2_leaf_reg': 8.129088859710142e-06, 'min_child_samples': 64, 'max_bin': 436, 'od_type': 'IncToDec', 'task_type': 'GPU', 'loss_function': 'MAE', 'eval_metric': 'MAE'}. Best is trial 121 with value: 5.343377942063889.\u001b[0m\n"
     ]
    },
    {
     "name": "stdout",
     "output_type": "stream",
     "text": [
      "MAE of Train: 5.200607421825636\n",
      "MAE of Validation: 5.347787661430383\n"
     ]
    },
    {
     "name": "stderr",
     "output_type": "stream",
     "text": [
      "\u001b[32m[I 2022-03-27 04:58:06,974]\u001b[0m Trial 888 finished with value: 5.357336335109418 and parameters: {'random_state': 519632, 'learning_rate': 0.11850414767074009, 'bagging_temperature': 1.8629589820927492, 'max_depth': 9, 'random_strength': 26, 'l2_leaf_reg': 9.692374765523457e-06, 'min_child_samples': 42, 'max_bin': 473, 'od_type': 'IncToDec', 'task_type': 'GPU', 'loss_function': 'MAE', 'eval_metric': 'MAE'}. Best is trial 121 with value: 5.343377942063889.\u001b[0m\n"
     ]
    },
    {
     "name": "stdout",
     "output_type": "stream",
     "text": [
      "MAE of Train: 5.215435358524825\n",
      "MAE of Validation: 5.357336335109418\n"
     ]
    },
    {
     "name": "stderr",
     "output_type": "stream",
     "text": [
      "\u001b[32m[I 2022-03-27 04:58:12,509]\u001b[0m Trial 889 finished with value: 5.346378927760629 and parameters: {'random_state': 519632, 'learning_rate': 0.06841452823370515, 'bagging_temperature': 1.2608679773775502, 'max_depth': 9, 'random_strength': 14, 'l2_leaf_reg': 1.511844766956377e-05, 'min_child_samples': 78, 'max_bin': 478, 'od_type': 'Iter', 'task_type': 'GPU', 'loss_function': 'MAE', 'eval_metric': 'MAE'}. Best is trial 121 with value: 5.343377942063889.\u001b[0m\n"
     ]
    },
    {
     "name": "stdout",
     "output_type": "stream",
     "text": [
      "MAE of Train: 5.176935577910972\n",
      "MAE of Validation: 5.346378927760629\n"
     ]
    },
    {
     "name": "stderr",
     "output_type": "stream",
     "text": [
      "\u001b[32m[I 2022-03-27 04:58:17,226]\u001b[0m Trial 890 finished with value: 5.351755716481887 and parameters: {'random_state': 519632, 'learning_rate': 0.08937376030898478, 'bagging_temperature': 1.569541770942944, 'max_depth': 9, 'random_strength': 65, 'l2_leaf_reg': 1.0758084293576359e-05, 'min_child_samples': 45, 'max_bin': 465, 'od_type': 'IncToDec', 'task_type': 'GPU', 'loss_function': 'MAE', 'eval_metric': 'MAE'}. Best is trial 121 with value: 5.343377942063889.\u001b[0m\n"
     ]
    },
    {
     "name": "stdout",
     "output_type": "stream",
     "text": [
      "MAE of Train: 5.156585932090571\n",
      "MAE of Validation: 5.351755716481887\n"
     ]
    },
    {
     "name": "stderr",
     "output_type": "stream",
     "text": [
      "\u001b[32m[I 2022-03-27 04:58:21,873]\u001b[0m Trial 891 finished with value: 5.35157859061151 and parameters: {'random_state': 519632, 'learning_rate': 0.07801517168455702, 'bagging_temperature': 0.6250134242726783, 'max_depth': 9, 'random_strength': 18, 'l2_leaf_reg': 1.3138980309021485e-05, 'min_child_samples': 66, 'max_bin': 457, 'od_type': 'IncToDec', 'task_type': 'GPU', 'loss_function': 'MAE', 'eval_metric': 'MAE'}. Best is trial 121 with value: 5.343377942063889.\u001b[0m\n"
     ]
    },
    {
     "name": "stdout",
     "output_type": "stream",
     "text": [
      "MAE of Train: 5.207889086085194\n",
      "MAE of Validation: 5.35157859061151\n"
     ]
    },
    {
     "name": "stderr",
     "output_type": "stream",
     "text": [
      "\u001b[32m[I 2022-03-27 04:58:27,611]\u001b[0m Trial 892 finished with value: 5.351465184070414 and parameters: {'random_state': 519632, 'learning_rate': 0.06125015796385465, 'bagging_temperature': 1.0381701359474895, 'max_depth': 9, 'random_strength': 30, 'l2_leaf_reg': 1.1978993175098926e-05, 'min_child_samples': 69, 'max_bin': 451, 'od_type': 'IncToDec', 'task_type': 'GPU', 'loss_function': 'MAE', 'eval_metric': 'MAE'}. Best is trial 121 with value: 5.343377942063889.\u001b[0m\n"
     ]
    },
    {
     "name": "stdout",
     "output_type": "stream",
     "text": [
      "MAE of Train: 5.197513889381654\n",
      "MAE of Validation: 5.351465184070414\n"
     ]
    },
    {
     "name": "stderr",
     "output_type": "stream",
     "text": [
      "\u001b[32m[I 2022-03-27 04:58:31,769]\u001b[0m Trial 893 finished with value: 5.35099540771359 and parameters: {'random_state': 519632, 'learning_rate': 0.09968088319717677, 'bagging_temperature': 1.3429417585034973, 'max_depth': 9, 'random_strength': 34, 'l2_leaf_reg': 1.133342052483493e-05, 'min_child_samples': 47, 'max_bin': 446, 'od_type': 'IncToDec', 'task_type': 'GPU', 'loss_function': 'MAE', 'eval_metric': 'MAE'}. Best is trial 121 with value: 5.343377942063889.\u001b[0m\n"
     ]
    },
    {
     "name": "stdout",
     "output_type": "stream",
     "text": [
      "MAE of Train: 5.1654934807729065\n",
      "MAE of Validation: 5.35099540771359\n"
     ]
    },
    {
     "name": "stderr",
     "output_type": "stream",
     "text": [
      "\u001b[32m[I 2022-03-27 04:58:37,482]\u001b[0m Trial 894 finished with value: 5.353912763642347 and parameters: {'random_state': 519632, 'learning_rate': 0.04939993239721628, 'bagging_temperature': 0.8226504431835672, 'max_depth': 9, 'random_strength': 16, 'l2_leaf_reg': 1.2599799061950612e-05, 'min_child_samples': 71, 'max_bin': 470, 'od_type': 'IncToDec', 'task_type': 'GPU', 'loss_function': 'MAE', 'eval_metric': 'MAE'}. Best is trial 121 with value: 5.343377942063889.\u001b[0m\n"
     ]
    },
    {
     "name": "stdout",
     "output_type": "stream",
     "text": [
      "MAE of Train: 5.2347509353932224\n",
      "MAE of Validation: 5.353912763642347\n"
     ]
    },
    {
     "name": "stderr",
     "output_type": "stream",
     "text": [
      "\u001b[32m[I 2022-03-27 04:58:42,327]\u001b[0m Trial 895 finished with value: 5.352209833702721 and parameters: {'random_state': 519632, 'learning_rate': 0.07299621788964038, 'bagging_temperature': 2.0863397107579824, 'max_depth': 8, 'random_strength': 21, 'l2_leaf_reg': 1.4246901643354726e-05, 'min_child_samples': 67, 'max_bin': 480, 'od_type': 'Iter', 'task_type': 'GPU', 'loss_function': 'MAE', 'eval_metric': 'MAE'}. Best is trial 121 with value: 5.343377942063889.\u001b[0m\n"
     ]
    },
    {
     "name": "stdout",
     "output_type": "stream",
     "text": [
      "MAE of Train: 5.210349814391769\n",
      "MAE of Validation: 5.352209833702721\n"
     ]
    },
    {
     "name": "stderr",
     "output_type": "stream",
     "text": [
      "\u001b[32m[I 2022-03-27 04:58:46,396]\u001b[0m Trial 896 finished with value: 5.352664291011966 and parameters: {'random_state': 519632, 'learning_rate': 0.08857851371511449, 'bagging_temperature': 2.7546354928524464, 'max_depth': 9, 'random_strength': 9, 'l2_leaf_reg': 1.0034835629485972e-05, 'min_child_samples': 52, 'max_bin': 429, 'od_type': 'IncToDec', 'task_type': 'GPU', 'loss_function': 'MAE', 'eval_metric': 'MAE'}. Best is trial 121 with value: 5.343377942063889.\u001b[0m\n"
     ]
    },
    {
     "name": "stdout",
     "output_type": "stream",
     "text": [
      "MAE of Train: 5.174999315402265\n",
      "MAE of Validation: 5.352664291011966\n"
     ]
    },
    {
     "name": "stderr",
     "output_type": "stream",
     "text": [
      "\u001b[32m[I 2022-03-27 04:58:49,224]\u001b[0m Trial 897 finished with value: 5.357625261807757 and parameters: {'random_state': 519632, 'learning_rate': 0.16225634934337702, 'bagging_temperature': 1.1805901975241526, 'max_depth': 9, 'random_strength': 32, 'l2_leaf_reg': 8.912588614705227e-06, 'min_child_samples': 63, 'max_bin': 461, 'od_type': 'IncToDec', 'task_type': 'GPU', 'loss_function': 'MAE', 'eval_metric': 'MAE'}. Best is trial 121 with value: 5.343377942063889.\u001b[0m\n"
     ]
    },
    {
     "name": "stdout",
     "output_type": "stream",
     "text": [
      "MAE of Train: 5.176882889525974\n",
      "MAE of Validation: 5.357625261807757\n"
     ]
    },
    {
     "name": "stderr",
     "output_type": "stream",
     "text": [
      "\u001b[32m[I 2022-03-27 04:58:54,980]\u001b[0m Trial 898 finished with value: 5.348392492950137 and parameters: {'random_state': 519632, 'learning_rate': 0.061707375239002334, 'bagging_temperature': 1.8194837900179177, 'max_depth': 9, 'random_strength': 28, 'l2_leaf_reg': 8.198730984424589e-06, 'min_child_samples': 44, 'max_bin': 439, 'od_type': 'IncToDec', 'task_type': 'GPU', 'loss_function': 'MAE', 'eval_metric': 'MAE'}. Best is trial 121 with value: 5.343377942063889.\u001b[0m\n"
     ]
    },
    {
     "name": "stdout",
     "output_type": "stream",
     "text": [
      "MAE of Train: 5.171624040026369\n",
      "MAE of Validation: 5.348392492950137\n"
     ]
    },
    {
     "name": "stderr",
     "output_type": "stream",
     "text": [
      "\u001b[32m[I 2022-03-27 04:58:58,529]\u001b[0m Trial 899 finished with value: 5.351859871438217 and parameters: {'random_state': 519632, 'learning_rate': 0.1365556876738939, 'bagging_temperature': 0.06247597791457789, 'max_depth': 9, 'random_strength': 26, 'l2_leaf_reg': 1.0378624106746394e-05, 'min_child_samples': 65, 'max_bin': 452, 'od_type': 'IncToDec', 'task_type': 'GPU', 'loss_function': 'MAE', 'eval_metric': 'MAE'}. Best is trial 121 with value: 5.343377942063889.\u001b[0m\n"
     ]
    },
    {
     "name": "stdout",
     "output_type": "stream",
     "text": [
      "MAE of Train: 5.178980958877386\n",
      "MAE of Validation: 5.351859871438217\n"
     ]
    },
    {
     "name": "stderr",
     "output_type": "stream",
     "text": [
      "\u001b[32m[I 2022-03-27 04:59:04,190]\u001b[0m Trial 900 finished with value: 5.3502831545060765 and parameters: {'random_state': 519632, 'learning_rate': 0.0529161717297324, 'bagging_temperature': 1.434286418165522, 'max_depth': 9, 'random_strength': 74, 'l2_leaf_reg': 1.3593688933028505e-05, 'min_child_samples': 73, 'max_bin': 476, 'od_type': 'Iter', 'task_type': 'GPU', 'loss_function': 'MAE', 'eval_metric': 'MAE'}. Best is trial 121 with value: 5.343377942063889.\u001b[0m\n"
     ]
    },
    {
     "name": "stdout",
     "output_type": "stream",
     "text": [
      "MAE of Train: 5.217830391182636\n",
      "MAE of Validation: 5.3502831545060765\n"
     ]
    },
    {
     "name": "stderr",
     "output_type": "stream",
     "text": [
      "\u001b[32m[I 2022-03-27 04:59:08,113]\u001b[0m Trial 901 finished with value: 5.3526474728374875 and parameters: {'random_state': 519632, 'learning_rate': 0.11080261922879035, 'bagging_temperature': 0.9603906539933421, 'max_depth': 9, 'random_strength': 12, 'l2_leaf_reg': 9.546726370794487e-06, 'min_child_samples': 61, 'max_bin': 465, 'od_type': 'IncToDec', 'task_type': 'GPU', 'loss_function': 'MAE', 'eval_metric': 'MAE'}. Best is trial 121 with value: 5.343377942063889.\u001b[0m\n"
     ]
    },
    {
     "name": "stdout",
     "output_type": "stream",
     "text": [
      "MAE of Train: 5.1735826212142655\n",
      "MAE of Validation: 5.3526474728374875\n"
     ]
    },
    {
     "name": "stderr",
     "output_type": "stream",
     "text": [
      "\u001b[32m[I 2022-03-27 04:59:12,466]\u001b[0m Trial 902 finished with value: 5.351668180269146 and parameters: {'random_state': 519632, 'learning_rate': 0.07539329219476962, 'bagging_temperature': 1.6599544021511345, 'max_depth': 9, 'random_strength': 6, 'l2_leaf_reg': 1.1235657797543201e-05, 'min_child_samples': 76, 'max_bin': 483, 'od_type': 'IncToDec', 'task_type': 'GPU', 'loss_function': 'MAE', 'eval_metric': 'MAE'}. Best is trial 121 with value: 5.343377942063889.\u001b[0m\n"
     ]
    },
    {
     "name": "stdout",
     "output_type": "stream",
     "text": [
      "MAE of Train: 5.19081388923643\n",
      "MAE of Validation: 5.351668180269146\n"
     ]
    },
    {
     "name": "stderr",
     "output_type": "stream",
     "text": [
      "\u001b[32m[I 2022-03-27 04:59:17,582]\u001b[0m Trial 903 finished with value: 12.888134705913934 and parameters: {'random_state': 519632, 'learning_rate': 0.00011317251488824643, 'bagging_temperature': 1.1782160011379337, 'max_depth': 9, 'random_strength': 86, 'l2_leaf_reg': 1.864330284874409e-05, 'min_child_samples': 69, 'max_bin': 457, 'od_type': 'IncToDec', 'task_type': 'GPU', 'loss_function': 'MAE', 'eval_metric': 'MAE'}. Best is trial 121 with value: 5.343377942063889.\u001b[0m\n"
     ]
    },
    {
     "name": "stdout",
     "output_type": "stream",
     "text": [
      "MAE of Train: 12.886921937579459\n",
      "MAE of Validation: 12.888134705913934\n"
     ]
    },
    {
     "name": "stderr",
     "output_type": "stream",
     "text": [
      "\u001b[32m[I 2022-03-27 04:59:21,975]\u001b[0m Trial 904 finished with value: 5.3637980525944595 and parameters: {'random_state': 519632, 'learning_rate': 0.06550209241230957, 'bagging_temperature': 2.3376717769081403, 'max_depth': 7, 'random_strength': 14, 'l2_leaf_reg': 1.2630424361922393e-05, 'min_child_samples': 41, 'max_bin': 447, 'od_type': 'IncToDec', 'task_type': 'GPU', 'loss_function': 'MAE', 'eval_metric': 'MAE'}. Best is trial 121 with value: 5.343377942063889.\u001b[0m\n"
     ]
    },
    {
     "name": "stdout",
     "output_type": "stream",
     "text": [
      "MAE of Train: 5.281269712330953\n",
      "MAE of Validation: 5.3637980525944595\n"
     ]
    },
    {
     "name": "stderr",
     "output_type": "stream",
     "text": [
      "\u001b[32m[I 2022-03-27 04:59:26,115]\u001b[0m Trial 905 finished with value: 5.34955286180064 and parameters: {'random_state': 519632, 'learning_rate': 0.0894635659524868, 'bagging_temperature': 1.4202470052459575, 'max_depth': 9, 'random_strength': 38, 'l2_leaf_reg': 1.1953371834256638e-05, 'min_child_samples': 50, 'max_bin': 471, 'od_type': 'Iter', 'task_type': 'GPU', 'loss_function': 'MAE', 'eval_metric': 'MAE'}. Best is trial 121 with value: 5.343377942063889.\u001b[0m\n"
     ]
    },
    {
     "name": "stdout",
     "output_type": "stream",
     "text": [
      "MAE of Train: 5.199357817024353\n",
      "MAE of Validation: 5.34955286180064\n"
     ]
    },
    {
     "name": "stderr",
     "output_type": "stream",
     "text": [
      "\u001b[32m[I 2022-03-27 04:59:26,644]\u001b[0m Trial 906 finished with value: 13.91781104801239 and parameters: {'random_state': 519632, 'learning_rate': 0.07567441494318043, 'bagging_temperature': 99.72721242508779, 'max_depth': 9, 'random_strength': 24, 'l2_leaf_reg': 1.0657675165303124e-05, 'min_child_samples': 67, 'max_bin': 442, 'od_type': 'IncToDec', 'task_type': 'GPU', 'loss_function': 'MAE', 'eval_metric': 'MAE'}. Best is trial 121 with value: 5.343377942063889.\u001b[0m\n"
     ]
    },
    {
     "name": "stdout",
     "output_type": "stream",
     "text": [
      "MAE of Train: 13.91636551368095\n",
      "MAE of Validation: 13.91781104801239\n"
     ]
    },
    {
     "name": "stderr",
     "output_type": "stream",
     "text": [
      "\u001b[32m[I 2022-03-27 04:59:32,464]\u001b[0m Trial 907 finished with value: 5.357439054396126 and parameters: {'random_state': 519632, 'learning_rate': 0.04379948601491583, 'bagging_temperature': 0.8357260639799962, 'max_depth': 9, 'random_strength': 17, 'l2_leaf_reg': 8.67159163176552e-06, 'min_child_samples': 71, 'max_bin': 455, 'od_type': 'IncToDec', 'task_type': 'GPU', 'loss_function': 'MAE', 'eval_metric': 'MAE'}. Best is trial 121 with value: 5.343377942063889.\u001b[0m\n"
     ]
    },
    {
     "name": "stdout",
     "output_type": "stream",
     "text": [
      "MAE of Train: 5.259633044411471\n",
      "MAE of Validation: 5.357439054396126\n"
     ]
    },
    {
     "name": "stderr",
     "output_type": "stream",
     "text": [
      "\u001b[32m[I 2022-03-27 04:59:38,167]\u001b[0m Trial 908 finished with value: 5.350247597146056 and parameters: {'random_state': 519632, 'learning_rate': 0.056621697794292845, 'bagging_temperature': 1.0650107463370604, 'max_depth': 9, 'random_strength': 21, 'l2_leaf_reg': 1.4595409762546834e-05, 'min_child_samples': 46, 'max_bin': 482, 'od_type': 'IncToDec', 'task_type': 'GPU', 'loss_function': 'MAE', 'eval_metric': 'MAE'}. Best is trial 121 with value: 5.343377942063889.\u001b[0m\n"
     ]
    },
    {
     "name": "stdout",
     "output_type": "stream",
     "text": [
      "MAE of Train: 5.207974130833021\n",
      "MAE of Validation: 5.350247597146056\n"
     ]
    },
    {
     "name": "stderr",
     "output_type": "stream",
     "text": [
      "\u001b[32m[I 2022-03-27 04:59:41,699]\u001b[0m Trial 909 finished with value: 5.347764021841815 and parameters: {'random_state': 519632, 'learning_rate': 0.1037004103165932, 'bagging_temperature': 1.8678447500623412, 'max_depth': 9, 'random_strength': 29, 'l2_leaf_reg': 6.956098569887605e-06, 'min_child_samples': 65, 'max_bin': 464, 'od_type': 'IncToDec', 'task_type': 'GPU', 'loss_function': 'MAE', 'eval_metric': 'MAE'}. Best is trial 121 with value: 5.343377942063889.\u001b[0m\n"
     ]
    },
    {
     "name": "stdout",
     "output_type": "stream",
     "text": [
      "MAE of Train: 5.187971254727992\n",
      "MAE of Validation: 5.347764021841815\n"
     ]
    },
    {
     "name": "stderr",
     "output_type": "stream",
     "text": [
      "\u001b[32m[I 2022-03-27 04:59:47,180]\u001b[0m Trial 910 finished with value: 5.46665124793392 and parameters: {'random_state': 519632, 'learning_rate': 0.008015676417088688, 'bagging_temperature': 1.306431112854958, 'max_depth': 9, 'random_strength': 31, 'l2_leaf_reg': 9.250609087915339e-06, 'min_child_samples': 48, 'max_bin': 474, 'od_type': 'Iter', 'task_type': 'GPU', 'loss_function': 'MAE', 'eval_metric': 'MAE'}. Best is trial 121 with value: 5.343377942063889.\u001b[0m\n"
     ]
    },
    {
     "name": "stdout",
     "output_type": "stream",
     "text": [
      "MAE of Train: 5.471701411906437\n",
      "MAE of Validation: 5.46665124793392\n"
     ]
    },
    {
     "name": "stderr",
     "output_type": "stream",
     "text": [
      "\u001b[32m[I 2022-03-27 04:59:52,881]\u001b[0m Trial 911 finished with value: 5.347420863598417 and parameters: {'random_state': 519632, 'learning_rate': 0.067177675512162, 'bagging_temperature': 1.4914228975825998, 'max_depth': 9, 'random_strength': 80, 'l2_leaf_reg': 1.0018189787592242e-05, 'min_child_samples': 68, 'max_bin': 449, 'od_type': 'IncToDec', 'task_type': 'GPU', 'loss_function': 'MAE', 'eval_metric': 'MAE'}. Best is trial 121 with value: 5.343377942063889.\u001b[0m\n"
     ]
    },
    {
     "name": "stdout",
     "output_type": "stream",
     "text": [
      "MAE of Train: 5.172384721503118\n",
      "MAE of Validation: 5.347420863598417\n"
     ]
    },
    {
     "name": "stderr",
     "output_type": "stream",
     "text": [
      "\u001b[32m[I 2022-03-27 04:59:56,636]\u001b[0m Trial 912 finished with value: 5.353611196051741 and parameters: {'random_state': 519632, 'learning_rate': 0.08242720283381333, 'bagging_temperature': 0.7069182992106706, 'max_depth': 9, 'random_strength': 18, 'l2_leaf_reg': 1.3038461988482475e-05, 'min_child_samples': 43, 'max_bin': 459, 'od_type': 'IncToDec', 'task_type': 'GPU', 'loss_function': 'MAE', 'eval_metric': 'MAE'}. Best is trial 121 with value: 5.343377942063889.\u001b[0m\n"
     ]
    },
    {
     "name": "stdout",
     "output_type": "stream",
     "text": [
      "MAE of Train: 5.231752100329518\n",
      "MAE of Validation: 5.353611196051741\n"
     ]
    },
    {
     "name": "stderr",
     "output_type": "stream",
     "text": [
      "\u001b[32m[I 2022-03-27 05:00:02,351]\u001b[0m Trial 913 finished with value: 5.3501432614054325 and parameters: {'random_state': 519632, 'learning_rate': 0.05350050400145656, 'bagging_temperature': 0.9983857044180197, 'max_depth': 9, 'random_strength': 25, 'l2_leaf_reg': 7.587774999472874e-06, 'min_child_samples': 63, 'max_bin': 470, 'od_type': 'IncToDec', 'task_type': 'GPU', 'loss_function': 'MAE', 'eval_metric': 'MAE'}. Best is trial 121 with value: 5.343377942063889.\u001b[0m\n"
     ]
    },
    {
     "name": "stdout",
     "output_type": "stream",
     "text": [
      "MAE of Train: 5.225571333002307\n",
      "MAE of Validation: 5.3501432614054325\n"
     ]
    },
    {
     "name": "stderr",
     "output_type": "stream",
     "text": [
      "\u001b[32m[I 2022-03-27 05:00:06,754]\u001b[0m Trial 914 finished with value: 5.350128398538879 and parameters: {'random_state': 519632, 'learning_rate': 0.09654982333747078, 'bagging_temperature': 2.1523853376632496, 'max_depth': 9, 'random_strength': 11, 'l2_leaf_reg': 1.152287401014872e-05, 'min_child_samples': 70, 'max_bin': 482, 'od_type': 'IncToDec', 'task_type': 'GPU', 'loss_function': 'MAE', 'eval_metric': 'MAE'}. Best is trial 121 with value: 5.343377942063889.\u001b[0m\n"
     ]
    },
    {
     "name": "stdout",
     "output_type": "stream",
     "text": [
      "MAE of Train: 5.144160837489722\n",
      "MAE of Validation: 5.350128398538879\n"
     ]
    },
    {
     "name": "stderr",
     "output_type": "stream",
     "text": [
      "\u001b[32m[I 2022-03-27 05:00:11,661]\u001b[0m Trial 915 finished with value: 5.350875140841034 and parameters: {'random_state': 519632, 'learning_rate': 0.06761283984639677, 'bagging_temperature': 1.6654959000547462, 'max_depth': 9, 'random_strength': 15, 'l2_leaf_reg': 1.0899275087933445e-05, 'min_child_samples': 39, 'max_bin': 433, 'od_type': 'Iter', 'task_type': 'GPU', 'loss_function': 'MAE', 'eval_metric': 'MAE'}. Best is trial 121 with value: 5.343377942063889.\u001b[0m\n"
     ]
    },
    {
     "name": "stdout",
     "output_type": "stream",
     "text": [
      "MAE of Train: 5.192567643383249\n",
      "MAE of Validation: 5.350875140841034\n"
     ]
    },
    {
     "name": "stderr",
     "output_type": "stream",
     "text": [
      "\u001b[32m[I 2022-03-27 05:00:16,806]\u001b[0m Trial 916 finished with value: 5.348699992200956 and parameters: {'random_state': 519632, 'learning_rate': 0.08116241214621962, 'bagging_temperature': 1.2825396863303642, 'max_depth': 9, 'random_strength': 28, 'l2_leaf_reg': 1.3941725512991775e-05, 'min_child_samples': 72, 'max_bin': 463, 'od_type': 'IncToDec', 'task_type': 'GPU', 'loss_function': 'MAE', 'eval_metric': 'MAE'}. Best is trial 121 with value: 5.343377942063889.\u001b[0m\n"
     ]
    },
    {
     "name": "stdout",
     "output_type": "stream",
     "text": [
      "MAE of Train: 5.161770822676454\n",
      "MAE of Validation: 5.348699992200956\n"
     ]
    },
    {
     "name": "stderr",
     "output_type": "stream",
     "text": [
      "\u001b[32m[I 2022-03-27 05:00:21,709]\u001b[0m Trial 917 finished with value: 5.359033028192078 and parameters: {'random_state': 519632, 'learning_rate': 0.05923008873631853, 'bagging_temperature': 1.5865979074163485, 'max_depth': 8, 'random_strength': 33, 'l2_leaf_reg': 8.761872187066522e-06, 'min_child_samples': 51, 'max_bin': 454, 'od_type': 'IncToDec', 'task_type': 'GPU', 'loss_function': 'MAE', 'eval_metric': 'MAE'}. Best is trial 121 with value: 5.343377942063889.\u001b[0m\n"
     ]
    },
    {
     "name": "stdout",
     "output_type": "stream",
     "text": [
      "MAE of Train: 5.247120568484027\n",
      "MAE of Validation: 5.359033028192078\n"
     ]
    },
    {
     "name": "stderr",
     "output_type": "stream",
     "text": [
      "\u001b[32m[I 2022-03-27 05:00:25,093]\u001b[0m Trial 918 finished with value: 5.356025900743569 and parameters: {'random_state': 519632, 'learning_rate': 0.12300614364323978, 'bagging_temperature': 1.1448353795233723, 'max_depth': 9, 'random_strength': 35, 'l2_leaf_reg': 1.2342619080811286e-05, 'min_child_samples': 7, 'max_bin': 447, 'od_type': 'IncToDec', 'task_type': 'GPU', 'loss_function': 'MAE', 'eval_metric': 'MAE'}. Best is trial 121 with value: 5.343377942063889.\u001b[0m\n"
     ]
    },
    {
     "name": "stdout",
     "output_type": "stream",
     "text": [
      "MAE of Train: 5.189694228958416\n",
      "MAE of Validation: 5.356025900743569\n"
     ]
    },
    {
     "name": "stderr",
     "output_type": "stream",
     "text": [
      "\u001b[32m[I 2022-03-27 05:00:30,820]\u001b[0m Trial 919 finished with value: 5.352566329001901 and parameters: {'random_state': 519632, 'learning_rate': 0.047852232093896996, 'bagging_temperature': 0.9082628353850861, 'max_depth': 9, 'random_strength': 22, 'l2_leaf_reg': 9.914109315868734e-06, 'min_child_samples': 66, 'max_bin': 477, 'od_type': 'IncToDec', 'task_type': 'GPU', 'loss_function': 'MAE', 'eval_metric': 'MAE'}. Best is trial 121 with value: 5.343377942063889.\u001b[0m\n"
     ]
    },
    {
     "name": "stdout",
     "output_type": "stream",
     "text": [
      "MAE of Train: 5.232571184088506\n",
      "MAE of Validation: 5.352566329001901\n"
     ]
    },
    {
     "name": "stderr",
     "output_type": "stream",
     "text": [
      "\u001b[32m[I 2022-03-27 05:00:34,875]\u001b[0m Trial 920 finished with value: 5.3524005861195025 and parameters: {'random_state': 519632, 'learning_rate': 0.07518203056668091, 'bagging_temperature': 1.9252307732220184, 'max_depth': 9, 'random_strength': 8, 'l2_leaf_reg': 8.135941787759775e-06, 'min_child_samples': 61, 'max_bin': 441, 'od_type': 'Iter', 'task_type': 'GPU', 'loss_function': 'MAE', 'eval_metric': 'MAE'}. Best is trial 121 with value: 5.343377942063889.\u001b[0m\n"
     ]
    },
    {
     "name": "stdout",
     "output_type": "stream",
     "text": [
      "MAE of Train: 5.208367966266595\n",
      "MAE of Validation: 5.3524005861195025\n"
     ]
    },
    {
     "name": "stderr",
     "output_type": "stream",
     "text": [
      "\u001b[32m[I 2022-03-27 05:00:38,555]\u001b[0m Trial 921 finished with value: 5.38668742354631 and parameters: {'random_state': 519632, 'learning_rate': 0.09262590684683364, 'bagging_temperature': 3.0584865494277143, 'max_depth': 5, 'random_strength': 27, 'l2_leaf_reg': 1.3387511541570481e-05, 'min_child_samples': 69, 'max_bin': 487, 'od_type': 'IncToDec', 'task_type': 'GPU', 'loss_function': 'MAE', 'eval_metric': 'MAE'}. Best is trial 121 with value: 5.343377942063889.\u001b[0m\n"
     ]
    },
    {
     "name": "stdout",
     "output_type": "stream",
     "text": [
      "MAE of Train: 5.353028330439431\n",
      "MAE of Validation: 5.38668742354631\n"
     ]
    },
    {
     "name": "stderr",
     "output_type": "stream",
     "text": [
      "\u001b[32m[I 2022-03-27 05:00:44,284]\u001b[0m Trial 922 finished with value: 5.34635852465424 and parameters: {'random_state': 519632, 'learning_rate': 0.06261164410027219, 'bagging_temperature': 1.3757273196416449, 'max_depth': 9, 'random_strength': 13, 'l2_leaf_reg': 9.313168681519255e-06, 'min_child_samples': 49, 'max_bin': 469, 'od_type': 'IncToDec', 'task_type': 'GPU', 'loss_function': 'MAE', 'eval_metric': 'MAE'}. Best is trial 121 with value: 5.343377942063889.\u001b[0m\n"
     ]
    },
    {
     "name": "stdout",
     "output_type": "stream",
     "text": [
      "MAE of Train: 5.170699082456566\n",
      "MAE of Validation: 5.34635852465424\n"
     ]
    },
    {
     "name": "stderr",
     "output_type": "stream",
     "text": [
      "\u001b[32m[I 2022-03-27 05:00:49,968]\u001b[0m Trial 923 finished with value: 5.364723432689002 and parameters: {'random_state': 519632, 'learning_rate': 0.03594909235497453, 'bagging_temperature': 1.1735686755113777, 'max_depth': 9, 'random_strength': 30, 'l2_leaf_reg': 1.1579666457979368e-05, 'min_child_samples': 74, 'max_bin': 460, 'od_type': 'IncToDec', 'task_type': 'GPU', 'loss_function': 'MAE', 'eval_metric': 'MAE'}. Best is trial 121 with value: 5.343377942063889.\u001b[0m\n"
     ]
    },
    {
     "name": "stdout",
     "output_type": "stream",
     "text": [
      "MAE of Train: 5.294346985638732\n",
      "MAE of Validation: 5.364723432689002\n"
     ]
    },
    {
     "name": "stderr",
     "output_type": "stream",
     "text": [
      "\u001b[32m[I 2022-03-27 05:00:53,977]\u001b[0m Trial 924 finished with value: 5.355811398678374 and parameters: {'random_state': 519632, 'learning_rate': 0.08123573615685818, 'bagging_temperature': 2.420328317324052, 'max_depth': 9, 'random_strength': 16, 'l2_leaf_reg': 1.0437649272965018e-05, 'min_child_samples': 46, 'max_bin': 453, 'od_type': 'IncToDec', 'task_type': 'GPU', 'loss_function': 'MAE', 'eval_metric': 'MAE'}. Best is trial 121 with value: 5.343377942063889.\u001b[0m\n"
     ]
    },
    {
     "name": "stdout",
     "output_type": "stream",
     "text": [
      "MAE of Train: 5.198312005051404\n",
      "MAE of Validation: 5.355811398678374\n"
     ]
    },
    {
     "name": "stderr",
     "output_type": "stream",
     "text": [
      "\u001b[32m[I 2022-03-27 05:00:59,685]\u001b[0m Trial 925 finished with value: 5.345027174203631 and parameters: {'random_state': 519632, 'learning_rate': 0.06693836283122791, 'bagging_temperature': 1.71673550974474, 'max_depth': 9, 'random_strength': 18, 'l2_leaf_reg': 1.270277592442429e-05, 'min_child_samples': 67, 'max_bin': 476, 'od_type': 'Iter', 'task_type': 'GPU', 'loss_function': 'MAE', 'eval_metric': 'MAE'}. Best is trial 121 with value: 5.343377942063889.\u001b[0m\n"
     ]
    },
    {
     "name": "stdout",
     "output_type": "stream",
     "text": [
      "MAE of Train: 5.1594557617879815\n",
      "MAE of Validation: 5.345027174203631\n"
     ]
    },
    {
     "name": "stderr",
     "output_type": "stream",
     "text": [
      "\u001b[32m[I 2022-03-27 05:01:02,982]\u001b[0m Trial 926 finished with value: 5.352540192300319 and parameters: {'random_state': 519632, 'learning_rate': 0.10890656483298257, 'bagging_temperature': 2.056274451286084, 'max_depth': 9, 'random_strength': 17, 'l2_leaf_reg': 1.2957536586803676e-05, 'min_child_samples': 64, 'max_bin': 478, 'od_type': 'Iter', 'task_type': 'GPU', 'loss_function': 'MAE', 'eval_metric': 'MAE'}. Best is trial 121 with value: 5.343377942063889.\u001b[0m\n"
     ]
    },
    {
     "name": "stdout",
     "output_type": "stream",
     "text": [
      "MAE of Train: 5.191992310951914\n",
      "MAE of Validation: 5.352540192300319\n"
     ]
    },
    {
     "name": "stderr",
     "output_type": "stream",
     "text": [
      "\u001b[32m[I 2022-03-27 05:01:05,059]\u001b[0m Trial 927 finished with value: 5.381955999636285 and parameters: {'random_state': 519632, 'learning_rate': 0.2913793968161362, 'bagging_temperature': 3.81684391179167, 'max_depth': 9, 'random_strength': 18, 'l2_leaf_reg': 1.249454109053441e-05, 'min_child_samples': 65, 'max_bin': 475, 'od_type': 'Iter', 'task_type': 'GPU', 'loss_function': 'MAE', 'eval_metric': 'MAE'}. Best is trial 121 with value: 5.343377942063889.\u001b[0m\n"
     ]
    },
    {
     "name": "stdout",
     "output_type": "stream",
     "text": [
      "MAE of Train: 5.157053107993841\n",
      "MAE of Validation: 5.381955999636285\n"
     ]
    },
    {
     "name": "stderr",
     "output_type": "stream",
     "text": [
      "\u001b[32m[I 2022-03-27 05:01:09,113]\u001b[0m Trial 928 finished with value: 5.3543015090147605 and parameters: {'random_state': 519632, 'learning_rate': 0.09522852514720444, 'bagging_temperature': 2.701916565544279, 'max_depth': 9, 'random_strength': 20, 'l2_leaf_reg': 1.3713894415475057e-05, 'min_child_samples': 67, 'max_bin': 482, 'od_type': 'Iter', 'task_type': 'GPU', 'loss_function': 'MAE', 'eval_metric': 'MAE'}. Best is trial 121 with value: 5.343377942063889.\u001b[0m\n"
     ]
    },
    {
     "name": "stdout",
     "output_type": "stream",
     "text": [
      "MAE of Train: 5.167163618332036\n",
      "MAE of Validation: 5.3543015090147605\n"
     ]
    },
    {
     "name": "stderr",
     "output_type": "stream",
     "text": [
      "\u001b[32m[I 2022-03-27 05:01:13,236]\u001b[0m Trial 929 finished with value: 5.352672841311714 and parameters: {'random_state': 519632, 'learning_rate': 0.07149935903613384, 'bagging_temperature': 1.7673557309263161, 'max_depth': 9, 'random_strength': 19, 'l2_leaf_reg': 1.2163672772055693e-05, 'min_child_samples': 62, 'max_bin': 486, 'od_type': 'Iter', 'task_type': 'GPU', 'loss_function': 'MAE', 'eval_metric': 'MAE'}. Best is trial 121 with value: 5.343377942063889.\u001b[0m\n"
     ]
    },
    {
     "name": "stdout",
     "output_type": "stream",
     "text": [
      "MAE of Train: 5.218849432145779\n",
      "MAE of Validation: 5.352672841311714\n"
     ]
    },
    {
     "name": "stderr",
     "output_type": "stream",
     "text": [
      "\u001b[32m[I 2022-03-27 05:01:18,885]\u001b[0m Trial 930 finished with value: 5.403942574618772 and parameters: {'random_state': 519632, 'learning_rate': 0.016521494423875866, 'bagging_temperature': 2.019782473078351, 'max_depth': 9, 'random_strength': 20, 'l2_leaf_reg': 1.3211397430409259e-05, 'min_child_samples': 44, 'max_bin': 473, 'od_type': 'Iter', 'task_type': 'GPU', 'loss_function': 'MAE', 'eval_metric': 'MAE'}. Best is trial 121 with value: 5.343377942063889.\u001b[0m\n"
     ]
    },
    {
     "name": "stdout",
     "output_type": "stream",
     "text": [
      "MAE of Train: 5.386478382875004\n",
      "MAE of Validation: 5.403942574618772\n"
     ]
    },
    {
     "name": "stderr",
     "output_type": "stream",
     "text": [
      "\u001b[32m[I 2022-03-27 05:01:22,898]\u001b[0m Trial 931 finished with value: 5.351591871338812 and parameters: {'random_state': 519632, 'learning_rate': 0.08185426300964715, 'bagging_temperature': 1.612356488569167, 'max_depth': 9, 'random_strength': 16, 'l2_leaf_reg': 1.2203363929806365e-05, 'min_child_samples': 65, 'max_bin': 479, 'od_type': 'Iter', 'task_type': 'GPU', 'loss_function': 'MAE', 'eval_metric': 'MAE'}. Best is trial 121 with value: 5.343377942063889.\u001b[0m\n"
     ]
    },
    {
     "name": "stdout",
     "output_type": "stream",
     "text": [
      "MAE of Train: 5.205766947251614\n",
      "MAE of Validation: 5.351591871338812\n"
     ]
    },
    {
     "name": "stderr",
     "output_type": "stream",
     "text": [
      "\u001b[32m[I 2022-03-27 05:01:28,618]\u001b[0m Trial 932 finished with value: 5.370007748769162 and parameters: {'random_state': 519632, 'learning_rate': 0.06828423855148412, 'bagging_temperature': 23.555488950058972, 'max_depth': 9, 'random_strength': 14, 'l2_leaf_reg': 1.2743238571246478e-05, 'min_child_samples': 67, 'max_bin': 491, 'od_type': 'Iter', 'task_type': 'GPU', 'loss_function': 'MAE', 'eval_metric': 'MAE'}. Best is trial 121 with value: 5.343377942063889.\u001b[0m\n"
     ]
    },
    {
     "name": "stdout",
     "output_type": "stream",
     "text": [
      "MAE of Train: 5.192076325702503\n",
      "MAE of Validation: 5.370007748769162\n"
     ]
    },
    {
     "name": "stderr",
     "output_type": "stream",
     "text": [
      "\u001b[32m[I 2022-03-27 05:01:32,709]\u001b[0m Trial 933 finished with value: 5.352540646059528 and parameters: {'random_state': 519632, 'learning_rate': 0.09227865936113741, 'bagging_temperature': 1.682415420068717, 'max_depth': 9, 'random_strength': 18, 'l2_leaf_reg': 1.3818114649555009e-05, 'min_child_samples': 54, 'max_bin': 469, 'od_type': 'Iter', 'task_type': 'GPU', 'loss_function': 'MAE', 'eval_metric': 'MAE'}. Best is trial 121 with value: 5.343377942063889.\u001b[0m\n"
     ]
    },
    {
     "name": "stdout",
     "output_type": "stream",
     "text": [
      "MAE of Train: 5.182014010026962\n",
      "MAE of Validation: 5.352540646059528\n"
     ]
    },
    {
     "name": "stderr",
     "output_type": "stream",
     "text": [
      "\u001b[32m[I 2022-03-27 05:01:38,424]\u001b[0m Trial 934 finished with value: 5.35067546244815 and parameters: {'random_state': 519632, 'learning_rate': 0.05775766137308633, 'bagging_temperature': 0.8239247455676496, 'max_depth': 9, 'random_strength': 41, 'l2_leaf_reg': 1.1844735746699495e-05, 'min_child_samples': 63, 'max_bin': 483, 'od_type': 'Iter', 'task_type': 'GPU', 'loss_function': 'MAE', 'eval_metric': 'MAE'}. Best is trial 121 with value: 5.343377942063889.\u001b[0m\n"
     ]
    },
    {
     "name": "stdout",
     "output_type": "stream",
     "text": [
      "MAE of Train: 5.211425754064662\n",
      "MAE of Validation: 5.35067546244815\n"
     ]
    },
    {
     "name": "stderr",
     "output_type": "stream",
     "text": [
      "\u001b[32m[I 2022-03-27 05:01:41,751]\u001b[0m Trial 935 finished with value: 5.356357831838674 and parameters: {'random_state': 519632, 'learning_rate': 0.11443316485226747, 'bagging_temperature': 0.010692372890199902, 'max_depth': 9, 'random_strength': 15, 'l2_leaf_reg': 1.2710352386124492e-05, 'min_child_samples': 42, 'max_bin': 472, 'od_type': 'Iter', 'task_type': 'GPU', 'loss_function': 'MAE', 'eval_metric': 'MAE'}. Best is trial 121 with value: 5.343377942063889.\u001b[0m\n"
     ]
    },
    {
     "name": "stdout",
     "output_type": "stream",
     "text": [
      "MAE of Train: 5.223096222976533\n",
      "MAE of Validation: 5.356357831838674\n"
     ]
    },
    {
     "name": "stderr",
     "output_type": "stream",
     "text": [
      "\u001b[32m[I 2022-03-27 05:01:46,465]\u001b[0m Trial 936 finished with value: 5.352600151621553 and parameters: {'random_state': 519632, 'learning_rate': 0.07058840843984437, 'bagging_temperature': 2.1879659369692415, 'max_depth': 9, 'random_strength': 21, 'l2_leaf_reg': 1.4334875401430432e-05, 'min_child_samples': 67, 'max_bin': 466, 'od_type': 'Iter', 'task_type': 'GPU', 'loss_function': 'MAE', 'eval_metric': 'MAE'}. Best is trial 121 with value: 5.343377942063889.\u001b[0m\n"
     ]
    },
    {
     "name": "stdout",
     "output_type": "stream",
     "text": [
      "MAE of Train: 5.19159101986747\n",
      "MAE of Validation: 5.352600151621553\n"
     ]
    },
    {
     "name": "stderr",
     "output_type": "stream",
     "text": [
      "\u001b[32m[I 2022-03-27 05:01:51,456]\u001b[0m Trial 937 finished with value: 5.351013094650385 and parameters: {'random_state': 519632, 'learning_rate': 0.07743046461782804, 'bagging_temperature': 0.020417987596814235, 'max_depth': 9, 'random_strength': 17, 'l2_leaf_reg': 1.32481192028857e-05, 'min_child_samples': 48, 'max_bin': 489, 'od_type': 'Iter', 'task_type': 'GPU', 'loss_function': 'MAE', 'eval_metric': 'MAE'}. Best is trial 121 with value: 5.343377942063889.\u001b[0m\n"
     ]
    },
    {
     "name": "stdout",
     "output_type": "stream",
     "text": [
      "MAE of Train: 5.207461625484173\n",
      "MAE of Validation: 5.351013094650385\n"
     ]
    },
    {
     "name": "stderr",
     "output_type": "stream",
     "text": [
      "\u001b[32m[I 2022-03-27 05:01:54,606]\u001b[0m Trial 938 finished with value: 5.357267999704061 and parameters: {'random_state': 519632, 'learning_rate': 0.13761707180949348, 'bagging_temperature': 1.4000521930788656, 'max_depth': 9, 'random_strength': 19, 'l2_leaf_reg': 1.152359644584713e-05, 'min_child_samples': 61, 'max_bin': 475, 'od_type': 'Iter', 'task_type': 'GPU', 'loss_function': 'MAE', 'eval_metric': 'MAE'}. Best is trial 121 with value: 5.343377942063889.\u001b[0m\n"
     ]
    },
    {
     "name": "stdout",
     "output_type": "stream",
     "text": [
      "MAE of Train: 5.16940335825738\n",
      "MAE of Validation: 5.357267999704061\n"
     ]
    },
    {
     "name": "stderr",
     "output_type": "stream",
     "text": [
      "\u001b[32m[I 2022-03-27 05:02:00,333]\u001b[0m Trial 939 finished with value: 5.348890813884129 and parameters: {'random_state': 519632, 'learning_rate': 0.06045287759169532, 'bagging_temperature': 1.034687652054451, 'max_depth': 9, 'random_strength': 14, 'l2_leaf_reg': 1.2789668461271852e-05, 'min_child_samples': 46, 'max_bin': 479, 'od_type': 'Iter', 'task_type': 'GPU', 'loss_function': 'MAE', 'eval_metric': 'MAE'}. Best is trial 121 with value: 5.343377942063889.\u001b[0m\n"
     ]
    },
    {
     "name": "stdout",
     "output_type": "stream",
     "text": [
      "MAE of Train: 5.193591885932542\n",
      "MAE of Validation: 5.348890813884129\n"
     ]
    },
    {
     "name": "stderr",
     "output_type": "stream",
     "text": [
      "\u001b[32m[I 2022-03-27 05:02:04,923]\u001b[0m Trial 940 finished with value: 5.348387741891287 and parameters: {'random_state': 519632, 'learning_rate': 0.0924021183453434, 'bagging_temperature': 1.2359851912034918, 'max_depth': 9, 'random_strength': 12, 'l2_leaf_reg': 1.469362644153955e-05, 'min_child_samples': 64, 'max_bin': 466, 'od_type': 'Iter', 'task_type': 'GPU', 'loss_function': 'MAE', 'eval_metric': 'MAE'}. Best is trial 121 with value: 5.343377942063889.\u001b[0m\n"
     ]
    },
    {
     "name": "stdout",
     "output_type": "stream",
     "text": [
      "MAE of Train: 5.165579781905094\n",
      "MAE of Validation: 5.348387741891287\n"
     ]
    },
    {
     "name": "stderr",
     "output_type": "stream",
     "text": [
      "\u001b[32m[I 2022-03-27 05:02:08,606]\u001b[0m Trial 941 finished with value: 5.354596404412956 and parameters: {'random_state': 519632, 'learning_rate': 0.08286010333659354, 'bagging_temperature': 1.8359310958242179, 'max_depth': 9, 'random_strength': 23, 'l2_leaf_reg': 1.1027505752245687e-05, 'min_child_samples': 52, 'max_bin': 483, 'od_type': 'Iter', 'task_type': 'GPU', 'loss_function': 'MAE', 'eval_metric': 'MAE'}. Best is trial 121 with value: 5.343377942063889.\u001b[0m\n"
     ]
    },
    {
     "name": "stdout",
     "output_type": "stream",
     "text": [
      "MAE of Train: 5.218686931536199\n",
      "MAE of Validation: 5.354596404412956\n"
     ]
    },
    {
     "name": "stderr",
     "output_type": "stream",
     "text": [
      "\u001b[32m[I 2022-03-27 05:02:14,337]\u001b[0m Trial 942 finished with value: 5.351112749543256 and parameters: {'random_state': 519632, 'learning_rate': 0.05043382091225252, 'bagging_temperature': 2.554832967038898, 'max_depth': 9, 'random_strength': 16, 'l2_leaf_reg': 1.1774098084697709e-05, 'min_child_samples': 68, 'max_bin': 495, 'od_type': 'Iter', 'task_type': 'GPU', 'loss_function': 'MAE', 'eval_metric': 'MAE'}. Best is trial 121 with value: 5.343377942063889.\u001b[0m\n"
     ]
    },
    {
     "name": "stdout",
     "output_type": "stream",
     "text": [
      "MAE of Train: 5.207426617045487\n",
      "MAE of Validation: 5.351112749543256\n"
     ]
    },
    {
     "name": "stderr",
     "output_type": "stream",
     "text": [
      "\u001b[32m[I 2022-03-27 05:02:19,167]\u001b[0m Trial 943 finished with value: 5.3512841402351565 and parameters: {'random_state': 519632, 'learning_rate': 0.06812293454312132, 'bagging_temperature': 1.457058982214104, 'max_depth': 8, 'random_strength': 11, 'l2_leaf_reg': 1.370730783724625e-05, 'min_child_samples': 66, 'max_bin': 474, 'od_type': 'Iter', 'task_type': 'GPU', 'loss_function': 'MAE', 'eval_metric': 'MAE'}. Best is trial 121 with value: 5.343377942063889.\u001b[0m\n"
     ]
    },
    {
     "name": "stdout",
     "output_type": "stream",
     "text": [
      "MAE of Train: 5.219886936041233\n",
      "MAE of Validation: 5.3512841402351565\n"
     ]
    },
    {
     "name": "stderr",
     "output_type": "stream",
     "text": [
      "\u001b[32m[I 2022-03-27 05:02:22,900]\u001b[0m Trial 944 finished with value: 5.352971722497029 and parameters: {'random_state': 519632, 'learning_rate': 0.10465281866578226, 'bagging_temperature': 0.5779533257434188, 'max_depth': 9, 'random_strength': 21, 'l2_leaf_reg': 1.1153627044577433e-05, 'min_child_samples': 44, 'max_bin': 500, 'od_type': 'Iter', 'task_type': 'GPU', 'loss_function': 'MAE', 'eval_metric': 'MAE'}. Best is trial 121 with value: 5.343377942063889.\u001b[0m\n"
     ]
    },
    {
     "name": "stdout",
     "output_type": "stream",
     "text": [
      "MAE of Train: 5.202548938353553\n",
      "MAE of Validation: 5.352971722497029\n"
     ]
    },
    {
     "name": "stderr",
     "output_type": "stream",
     "text": [
      "\u001b[32m[I 2022-03-27 05:02:28,626]\u001b[0m Trial 945 finished with value: 5.3490270665361965 and parameters: {'random_state': 519632, 'learning_rate': 0.059016369904164666, 'bagging_temperature': 0.9978837407421807, 'max_depth': 9, 'random_strength': 19, 'l2_leaf_reg': 1.2188100109529754e-05, 'min_child_samples': 70, 'max_bin': 487, 'od_type': 'Iter', 'task_type': 'GPU', 'loss_function': 'MAE', 'eval_metric': 'MAE'}. Best is trial 121 with value: 5.343377942063889.\u001b[0m\n"
     ]
    },
    {
     "name": "stdout",
     "output_type": "stream",
     "text": [
      "MAE of Train: 5.1927010656399855\n",
      "MAE of Validation: 5.3490270665361965\n"
     ]
    },
    {
     "name": "stderr",
     "output_type": "stream",
     "text": [
      "\u001b[32m[I 2022-03-27 05:02:34,331]\u001b[0m Trial 946 finished with value: 5.357974507510535 and parameters: {'random_state': 519632, 'learning_rate': 0.04075998867156378, 'bagging_temperature': 0.7023370225935431, 'max_depth': 9, 'random_strength': 9, 'l2_leaf_reg': 1.3288697219550898e-05, 'min_child_samples': 65, 'max_bin': 466, 'od_type': 'Iter', 'task_type': 'GPU', 'loss_function': 'MAE', 'eval_metric': 'MAE'}. Best is trial 121 with value: 5.343377942063889.\u001b[0m\n"
     ]
    },
    {
     "name": "stdout",
     "output_type": "stream",
     "text": [
      "MAE of Train: 5.267762915985167\n",
      "MAE of Validation: 5.357974507510535\n"
     ]
    },
    {
     "name": "stderr",
     "output_type": "stream",
     "text": [
      "\u001b[32m[I 2022-03-27 05:02:38,518]\u001b[0m Trial 947 finished with value: 5.349825726731439 and parameters: {'random_state': 519632, 'learning_rate': 0.08087121502391711, 'bagging_temperature': 1.172255069671039, 'max_depth': 9, 'random_strength': 14, 'l2_leaf_reg': 1.240970081578453e-05, 'min_child_samples': 41, 'max_bin': 477, 'od_type': 'Iter', 'task_type': 'GPU', 'loss_function': 'MAE', 'eval_metric': 'MAE'}. Best is trial 121 with value: 5.343377942063889.\u001b[0m\n"
     ]
    },
    {
     "name": "stdout",
     "output_type": "stream",
     "text": [
      "MAE of Train: 5.206633029339005\n",
      "MAE of Validation: 5.349825726731439\n"
     ]
    },
    {
     "name": "stderr",
     "output_type": "stream",
     "text": [
      "\u001b[32m[I 2022-03-27 05:02:44,235]\u001b[0m Trial 948 finished with value: 5.345947285833765 and parameters: {'random_state': 519632, 'learning_rate': 0.05144679498240266, 'bagging_temperature': 1.511889293425606, 'max_depth': 9, 'random_strength': 22, 'l2_leaf_reg': 1.11707470507522e-05, 'min_child_samples': 60, 'max_bin': 302, 'od_type': 'IncToDec', 'task_type': 'GPU', 'loss_function': 'MAE', 'eval_metric': 'MAE'}. Best is trial 121 with value: 5.343377942063889.\u001b[0m\n"
     ]
    },
    {
     "name": "stdout",
     "output_type": "stream",
     "text": [
      "MAE of Train: 5.209812784497226\n",
      "MAE of Validation: 5.345947285833765\n"
     ]
    },
    {
     "name": "stderr",
     "output_type": "stream",
     "text": [
      "\u001b[32m[I 2022-03-27 05:02:48,242]\u001b[0m Trial 949 finished with value: 5.3863120999445355 and parameters: {'random_state': 519632, 'learning_rate': 0.04643579256756873, 'bagging_temperature': 2.348651068829414, 'max_depth': 6, 'random_strength': 22, 'l2_leaf_reg': 1.062177844200032e-05, 'min_child_samples': 62, 'max_bin': 298, 'od_type': 'IncToDec', 'task_type': 'GPU', 'loss_function': 'MAE', 'eval_metric': 'MAE'}. Best is trial 121 with value: 5.343377942063889.\u001b[0m\n"
     ]
    },
    {
     "name": "stdout",
     "output_type": "stream",
     "text": [
      "MAE of Train: 5.3592208586629955\n",
      "MAE of Validation: 5.3863120999445355\n"
     ]
    },
    {
     "name": "stderr",
     "output_type": "stream",
     "text": [
      "\u001b[32m[I 2022-03-27 05:02:53,964]\u001b[0m Trial 950 finished with value: 5.3508200837791335 and parameters: {'random_state': 519632, 'learning_rate': 0.04814923987307277, 'bagging_temperature': 1.8741807034589257, 'max_depth': 9, 'random_strength': 20, 'l2_leaf_reg': 1.0449693105723634e-05, 'min_child_samples': 58, 'max_bin': 285, 'od_type': 'IncToDec', 'task_type': 'GPU', 'loss_function': 'MAE', 'eval_metric': 'MAE'}. Best is trial 121 with value: 5.343377942063889.\u001b[0m\n"
     ]
    },
    {
     "name": "stdout",
     "output_type": "stream",
     "text": [
      "MAE of Train: 5.221702138636687\n",
      "MAE of Validation: 5.3508200837791335\n"
     ]
    },
    {
     "name": "stderr",
     "output_type": "stream",
     "text": [
      "\u001b[32m[I 2022-03-27 05:02:59,118]\u001b[0m Trial 951 finished with value: 5.355522959389864 and parameters: {'random_state': 519632, 'learning_rate': 0.05578303912701968, 'bagging_temperature': 3.2007192142676493, 'max_depth': 9, 'random_strength': 18, 'l2_leaf_reg': 1.5985997405963827e-05, 'min_child_samples': 59, 'max_bin': 292, 'od_type': 'Iter', 'task_type': 'GPU', 'loss_function': 'MAE', 'eval_metric': 'MAE'}. Best is trial 121 with value: 5.343377942063889.\u001b[0m\n"
     ]
    },
    {
     "name": "stdout",
     "output_type": "stream",
     "text": [
      "MAE of Train: 5.208837149832871\n",
      "MAE of Validation: 5.355522959389864\n"
     ]
    },
    {
     "name": "stderr",
     "output_type": "stream",
     "text": [
      "\u001b[32m[I 2022-03-27 05:03:04,664]\u001b[0m Trial 952 finished with value: 5.4445007396176495 and parameters: {'random_state': 519632, 'learning_rate': 0.01000055316102721, 'bagging_temperature': 1.6982800520779824, 'max_depth': 9, 'random_strength': 22, 'l2_leaf_reg': 1.1120378527949938e-05, 'min_child_samples': 59, 'max_bin': 460, 'od_type': 'IncToDec', 'task_type': 'GPU', 'loss_function': 'MAE', 'eval_metric': 'MAE'}. Best is trial 121 with value: 5.343377942063889.\u001b[0m\n"
     ]
    },
    {
     "name": "stdout",
     "output_type": "stream",
     "text": [
      "MAE of Train: 5.446766425654867\n",
      "MAE of Validation: 5.4445007396176495\n"
     ]
    },
    {
     "name": "stderr",
     "output_type": "stream",
     "text": [
      "\u001b[32m[I 2022-03-27 05:03:10,397]\u001b[0m Trial 953 finished with value: 5.355591383850102 and parameters: {'random_state': 519632, 'learning_rate': 0.039450452160859954, 'bagging_temperature': 2.1067446715068083, 'max_depth': 9, 'random_strength': 22, 'l2_leaf_reg': 1.4912111125608284e-05, 'min_child_samples': 56, 'max_bin': 318, 'od_type': 'IncToDec', 'task_type': 'GPU', 'loss_function': 'MAE', 'eval_metric': 'MAE'}. Best is trial 121 with value: 5.343377942063889.\u001b[0m\n"
     ]
    },
    {
     "name": "stdout",
     "output_type": "stream",
     "text": [
      "MAE of Train: 5.2500268099735745\n",
      "MAE of Validation: 5.355591383850102\n"
     ]
    },
    {
     "name": "stderr",
     "output_type": "stream",
     "text": [
      "\u001b[32m[I 2022-03-27 05:03:16,203]\u001b[0m Trial 954 finished with value: 5.34744725153733 and parameters: {'random_state': 519632, 'learning_rate': 0.051840632623077997, 'bagging_temperature': 1.4816222209811512, 'max_depth': 9, 'random_strength': 19, 'l2_leaf_reg': 1.0137206113849266e-05, 'min_child_samples': 61, 'max_bin': 230, 'od_type': 'IncToDec', 'task_type': 'GPU', 'loss_function': 'MAE', 'eval_metric': 'MAE'}. Best is trial 121 with value: 5.343377942063889.\u001b[0m\n"
     ]
    },
    {
     "name": "stdout",
     "output_type": "stream",
     "text": [
      "MAE of Train: 5.2091243785583305\n",
      "MAE of Validation: 5.34744725153733\n"
     ]
    },
    {
     "name": "stderr",
     "output_type": "stream",
     "text": [
      "\u001b[32m[I 2022-03-27 05:03:21,419]\u001b[0m Trial 955 finished with value: 5.346090051279837 and parameters: {'random_state': 519632, 'learning_rate': 0.0659877382978629, 'bagging_temperature': 1.6670930838922209, 'max_depth': 9, 'random_strength': 20, 'l2_leaf_reg': 1.1258107929854866e-05, 'min_child_samples': 60, 'max_bin': 458, 'od_type': 'IncToDec', 'task_type': 'GPU', 'loss_function': 'MAE', 'eval_metric': 'MAE'}. Best is trial 121 with value: 5.343377942063889.\u001b[0m\n"
     ]
    },
    {
     "name": "stdout",
     "output_type": "stream",
     "text": [
      "MAE of Train: 5.185877351906678\n",
      "MAE of Validation: 5.346090051279837\n"
     ]
    },
    {
     "name": "stderr",
     "output_type": "stream",
     "text": [
      "\u001b[32m[I 2022-03-27 05:03:27,348]\u001b[0m Trial 956 finished with value: 5.349115473175528 and parameters: {'random_state': 519632, 'learning_rate': 0.06254257665927274, 'bagging_temperature': 1.4884341675284807, 'max_depth': 9, 'random_strength': 17, 'l2_leaf_reg': 1.4029485734060437e-05, 'min_child_samples': 60, 'max_bin': 462, 'od_type': 'Iter', 'task_type': 'GPU', 'loss_function': 'MAE', 'eval_metric': 'MAE'}. Best is trial 121 with value: 5.343377942063889.\u001b[0m\n"
     ]
    },
    {
     "name": "stdout",
     "output_type": "stream",
     "text": [
      "MAE of Train: 5.173845551830446\n",
      "MAE of Validation: 5.349115473175528\n"
     ]
    },
    {
     "name": "stderr",
     "output_type": "stream",
     "text": [
      "\u001b[32m[I 2022-03-27 05:03:32,628]\u001b[0m Trial 957 finished with value: 5.348842692151432 and parameters: {'random_state': 519632, 'learning_rate': 0.07207400466473696, 'bagging_temperature': 1.9718069815053405, 'max_depth': 9, 'random_strength': 92, 'l2_leaf_reg': 1.0683252384005033e-05, 'min_child_samples': 37, 'max_bin': 418, 'od_type': 'IncToDec', 'task_type': 'GPU', 'loss_function': 'MAE', 'eval_metric': 'MAE'}. Best is trial 121 with value: 5.343377942063889.\u001b[0m\n"
     ]
    },
    {
     "name": "stdout",
     "output_type": "stream",
     "text": [
      "MAE of Train: 5.170526365461351\n",
      "MAE of Validation: 5.348842692151432\n"
     ]
    },
    {
     "name": "stderr",
     "output_type": "stream",
     "text": [
      "\u001b[32m[I 2022-03-27 05:03:38,350]\u001b[0m Trial 958 finished with value: 5.349216856559107 and parameters: {'random_state': 519632, 'learning_rate': 0.053874515786207514, 'bagging_temperature': 1.2914543584001001, 'max_depth': 9, 'random_strength': 18, 'l2_leaf_reg': 1.0085179717171482e-05, 'min_child_samples': 55, 'max_bin': 246, 'od_type': 'IncToDec', 'task_type': 'GPU', 'loss_function': 'MAE', 'eval_metric': 'MAE'}. Best is trial 121 with value: 5.343377942063889.\u001b[0m\n"
     ]
    },
    {
     "name": "stdout",
     "output_type": "stream",
     "text": [
      "MAE of Train: 5.208455176015657\n",
      "MAE of Validation: 5.349216856559107\n"
     ]
    },
    {
     "name": "stderr",
     "output_type": "stream",
     "text": [
      "\u001b[32m[I 2022-03-27 05:03:42,562]\u001b[0m Trial 959 finished with value: 5.353029700888952 and parameters: {'random_state': 519632, 'learning_rate': 0.08701017416970021, 'bagging_temperature': 2.3621315939853527, 'max_depth': 9, 'random_strength': 22, 'l2_leaf_reg': 1.1912634055158509e-05, 'min_child_samples': 50, 'max_bin': 345, 'od_type': 'IncToDec', 'task_type': 'GPU', 'loss_function': 'MAE', 'eval_metric': 'MAE'}. Best is trial 121 with value: 5.343377942063889.\u001b[0m\n"
     ]
    },
    {
     "name": "stdout",
     "output_type": "stream",
     "text": [
      "MAE of Train: 5.176200707628969\n",
      "MAE of Validation: 5.353029700888952\n"
     ]
    },
    {
     "name": "stderr",
     "output_type": "stream",
     "text": [
      "\u001b[32m[I 2022-03-27 05:03:45,833]\u001b[0m Trial 960 finished with value: 5.353024806860266 and parameters: {'random_state': 519632, 'learning_rate': 0.11218906204080321, 'bagging_temperature': 1.6989267346271204, 'max_depth': 9, 'random_strength': 15, 'l2_leaf_reg': 9.715003319900178e-06, 'min_child_samples': 53, 'max_bin': 304, 'od_type': 'IncToDec', 'task_type': 'GPU', 'loss_function': 'MAE', 'eval_metric': 'MAE'}. Best is trial 121 with value: 5.343377942063889.\u001b[0m\n"
     ]
    },
    {
     "name": "stdout",
     "output_type": "stream",
     "text": [
      "MAE of Train: 5.195140827088302\n",
      "MAE of Validation: 5.353024806860266\n"
     ]
    },
    {
     "name": "stderr",
     "output_type": "stream",
     "text": [
      "\u001b[32m[I 2022-03-27 05:03:50,924]\u001b[0m Trial 961 finished with value: 5.350857528261637 and parameters: {'random_state': 519632, 'learning_rate': 0.0735821272098454, 'bagging_temperature': 1.176373025715742, 'max_depth': 9, 'random_strength': 16, 'l2_leaf_reg': 1.0995989483264785e-05, 'min_child_samples': 60, 'max_bin': 313, 'od_type': 'Iter', 'task_type': 'GPU', 'loss_function': 'MAE', 'eval_metric': 'MAE'}. Best is trial 121 with value: 5.343377942063889.\u001b[0m\n"
     ]
    },
    {
     "name": "stdout",
     "output_type": "stream",
     "text": [
      "MAE of Train: 5.1832676983414405\n",
      "MAE of Validation: 5.350857528261637\n"
     ]
    },
    {
     "name": "stderr",
     "output_type": "stream",
     "text": [
      "\u001b[32m[I 2022-03-27 05:03:56,240]\u001b[0m Trial 962 finished with value: 5.349464731708619 and parameters: {'random_state': 519632, 'learning_rate': 0.06225980305468649, 'bagging_temperature': 1.4257665096440448, 'max_depth': 9, 'random_strength': 23, 'l2_leaf_reg': 1.270567113577587e-05, 'min_child_samples': 62, 'max_bin': 244, 'od_type': 'IncToDec', 'task_type': 'GPU', 'loss_function': 'MAE', 'eval_metric': 'MAE'}. Best is trial 121 with value: 5.343377942063889.\u001b[0m\n"
     ]
    },
    {
     "name": "stdout",
     "output_type": "stream",
     "text": [
      "MAE of Train: 5.2033881374532704\n",
      "MAE of Validation: 5.349464731708619\n"
     ]
    },
    {
     "name": "stderr",
     "output_type": "stream",
     "text": [
      "\u001b[32m[I 2022-03-27 05:04:00,661]\u001b[0m Trial 963 finished with value: 5.350939083147107 and parameters: {'random_state': 519632, 'learning_rate': 0.09660570763646757, 'bagging_temperature': 0.9136204643223984, 'max_depth': 9, 'random_strength': 24, 'l2_leaf_reg': 2.0223361873734536e-05, 'min_child_samples': 57, 'max_bin': 454, 'od_type': 'IncToDec', 'task_type': 'GPU', 'loss_function': 'MAE', 'eval_metric': 'MAE'}. Best is trial 121 with value: 5.343377942063889.\u001b[0m\n"
     ]
    },
    {
     "name": "stdout",
     "output_type": "stream",
     "text": [
      "MAE of Train: 5.17620078148336\n",
      "MAE of Validation: 5.350939083147107\n"
     ]
    },
    {
     "name": "stderr",
     "output_type": "stream",
     "text": [
      "\u001b[32m[I 2022-03-27 05:04:06,392]\u001b[0m Trial 964 finished with value: 5.354376796683346 and parameters: {'random_state': 519632, 'learning_rate': 0.043339135884824145, 'bagging_temperature': 2.017950200944849, 'max_depth': 9, 'random_strength': 19, 'l2_leaf_reg': 1.3559675574346704e-05, 'min_child_samples': 33, 'max_bin': 466, 'od_type': 'IncToDec', 'task_type': 'GPU', 'loss_function': 'MAE', 'eval_metric': 'MAE'}. Best is trial 121 with value: 5.343377942063889.\u001b[0m\n"
     ]
    },
    {
     "name": "stdout",
     "output_type": "stream",
     "text": [
      "MAE of Train: 5.233362157255205\n",
      "MAE of Validation: 5.354376796683346\n"
     ]
    },
    {
     "name": "stderr",
     "output_type": "stream",
     "text": [
      "\u001b[32m[I 2022-03-27 05:04:11,084]\u001b[0m Trial 965 finished with value: 5.349401778190913 and parameters: {'random_state': 519632, 'learning_rate': 0.08082001294585892, 'bagging_temperature': 1.5326286504422657, 'max_depth': 9, 'random_strength': 20, 'l2_leaf_reg': 9.503326670128956e-06, 'min_child_samples': 48, 'max_bin': 336, 'od_type': 'Iter', 'task_type': 'GPU', 'loss_function': 'MAE', 'eval_metric': 'MAE'}. Best is trial 121 with value: 5.343377942063889.\u001b[0m\n"
     ]
    },
    {
     "name": "stdout",
     "output_type": "stream",
     "text": [
      "MAE of Train: 5.177289213125516\n",
      "MAE of Validation: 5.349401778190913\n"
     ]
    },
    {
     "name": "stderr",
     "output_type": "stream",
     "text": [
      "\u001b[32m[I 2022-03-27 05:04:16,884]\u001b[0m Trial 966 finished with value: 5.351599179977826 and parameters: {'random_state': 519632, 'learning_rate': 0.05420965440628823, 'bagging_temperature': 1.0620663652553117, 'max_depth': 9, 'random_strength': 13, 'l2_leaf_reg': 6.172663793620301e-06, 'min_child_samples': 45, 'max_bin': 334, 'od_type': 'IncToDec', 'task_type': 'GPU', 'loss_function': 'MAE', 'eval_metric': 'MAE'}. Best is trial 121 with value: 5.343377942063889.\u001b[0m\n"
     ]
    },
    {
     "name": "stdout",
     "output_type": "stream",
     "text": [
      "MAE of Train: 5.211938243127989\n",
      "MAE of Validation: 5.351599179977826\n"
     ]
    },
    {
     "name": "stderr",
     "output_type": "stream",
     "text": [
      "\u001b[32m[I 2022-03-27 05:04:17,414]\u001b[0m Trial 967 finished with value: 13.91781104801239 and parameters: {'random_state': 519632, 'learning_rate': 0.06791416142998563, 'bagging_temperature': 41.24603157259488, 'max_depth': 9, 'random_strength': 17, 'l2_leaf_reg': 1.1725959278166401e-05, 'min_child_samples': 63, 'max_bin': 261, 'od_type': 'IncToDec', 'task_type': 'GPU', 'loss_function': 'MAE', 'eval_metric': 'MAE'}. Best is trial 121 with value: 5.343377942063889.\u001b[0m\n"
     ]
    },
    {
     "name": "stdout",
     "output_type": "stream",
     "text": [
      "MAE of Train: 13.91636551368095\n",
      "MAE of Validation: 13.91781104801239\n"
     ]
    },
    {
     "name": "stderr",
     "output_type": "stream",
     "text": [
      "\u001b[32m[I 2022-03-27 05:04:21,681]\u001b[0m Trial 968 finished with value: 5.350903932970757 and parameters: {'random_state': 519632, 'learning_rate': 0.08841569385104353, 'bagging_temperature': 1.30160554308324, 'max_depth': 9, 'random_strength': 7, 'l2_leaf_reg': 1.0569303614767555e-05, 'min_child_samples': 46, 'max_bin': 326, 'od_type': 'IncToDec', 'task_type': 'GPU', 'loss_function': 'MAE', 'eval_metric': 'MAE'}. Best is trial 121 with value: 5.343377942063889.\u001b[0m\n"
     ]
    },
    {
     "name": "stdout",
     "output_type": "stream",
     "text": [
      "MAE of Train: 5.181639962685239\n",
      "MAE of Validation: 5.350903932970757\n"
     ]
    },
    {
     "name": "stderr",
     "output_type": "stream",
     "text": [
      "\u001b[32m[I 2022-03-27 05:04:24,473]\u001b[0m Trial 969 finished with value: 5.354402086721014 and parameters: {'random_state': 519632, 'learning_rate': 0.1323923327160887, 'bagging_temperature': 2.5407255483231572, 'max_depth': 9, 'random_strength': 10, 'l2_leaf_reg': 1.4269360972708572e-05, 'min_child_samples': 50, 'max_bin': 268, 'od_type': 'IncToDec', 'task_type': 'GPU', 'loss_function': 'MAE', 'eval_metric': 'MAE'}. Best is trial 121 with value: 5.343377942063889.\u001b[0m\n"
     ]
    },
    {
     "name": "stdout",
     "output_type": "stream",
     "text": [
      "MAE of Train: 5.18547250259799\n",
      "MAE of Validation: 5.354402086721014\n"
     ]
    },
    {
     "name": "stderr",
     "output_type": "stream",
     "text": [
      "\u001b[32m[I 2022-03-27 05:04:30,194]\u001b[0m Trial 970 finished with value: 5.347766493911064 and parameters: {'random_state': 519632, 'learning_rate': 0.06096964277370796, 'bagging_temperature': 1.8348037291605248, 'max_depth': 9, 'random_strength': 21, 'l2_leaf_reg': 1.3141438937353114e-05, 'min_child_samples': 43, 'max_bin': 494, 'od_type': 'Iter', 'task_type': 'GPU', 'loss_function': 'MAE', 'eval_metric': 'MAE'}. Best is trial 121 with value: 5.343377942063889.\u001b[0m\n"
     ]
    },
    {
     "name": "stdout",
     "output_type": "stream",
     "text": [
      "MAE of Train: 5.1775135864885025\n",
      "MAE of Validation: 5.347766493911064\n"
     ]
    },
    {
     "name": "stderr",
     "output_type": "stream",
     "text": [
      "\u001b[32m[I 2022-03-27 05:04:35,834]\u001b[0m Trial 971 finished with value: 5.376378886599925 and parameters: {'random_state': 519632, 'learning_rate': 0.02699276616643113, 'bagging_temperature': 1.5789375503805936, 'max_depth': 9, 'random_strength': 24, 'l2_leaf_reg': 1.527118670321441e-05, 'min_child_samples': 40, 'max_bin': 286, 'od_type': 'IncToDec', 'task_type': 'GPU', 'loss_function': 'MAE', 'eval_metric': 'MAE'}. Best is trial 121 with value: 5.343377942063889.\u001b[0m\n"
     ]
    },
    {
     "name": "stdout",
     "output_type": "stream",
     "text": [
      "MAE of Train: 5.330169328623739\n",
      "MAE of Validation: 5.376378886599925\n"
     ]
    },
    {
     "name": "stderr",
     "output_type": "stream",
     "text": [
      "\u001b[32m[I 2022-03-27 05:04:38,880]\u001b[0m Trial 972 finished with value: 5.355474898541454 and parameters: {'random_state': 519632, 'learning_rate': 0.10096539121252004, 'bagging_temperature': 0.8123395838000412, 'max_depth': 9, 'random_strength': 15, 'l2_leaf_reg': 1.1313347038184371e-05, 'min_child_samples': 60, 'max_bin': 459, 'od_type': 'IncToDec', 'task_type': 'GPU', 'loss_function': 'MAE', 'eval_metric': 'MAE'}. Best is trial 121 with value: 5.343377942063889.\u001b[0m\n"
     ]
    },
    {
     "name": "stdout",
     "output_type": "stream",
     "text": [
      "MAE of Train: 5.255789678174869\n",
      "MAE of Validation: 5.355474898541454\n"
     ]
    },
    {
     "name": "stderr",
     "output_type": "stream",
     "text": [
      "\u001b[32m[I 2022-03-27 05:04:43,810]\u001b[0m Trial 973 finished with value: 5.350259397248538 and parameters: {'random_state': 519632, 'learning_rate': 0.07517071570012383, 'bagging_temperature': 1.1642903831762443, 'max_depth': 8, 'random_strength': 13, 'l2_leaf_reg': 1.0243718183362715e-05, 'min_child_samples': 47, 'max_bin': 360, 'od_type': 'IncToDec', 'task_type': 'GPU', 'loss_function': 'MAE', 'eval_metric': 'MAE'}. Best is trial 121 with value: 5.343377942063889.\u001b[0m\n"
     ]
    },
    {
     "name": "stdout",
     "output_type": "stream",
     "text": [
      "MAE of Train: 5.205576203616905\n",
      "MAE of Validation: 5.350259397248538\n"
     ]
    },
    {
     "name": "stderr",
     "output_type": "stream",
     "text": [
      "\u001b[32m[I 2022-03-27 05:04:49,550]\u001b[0m Trial 974 finished with value: 5.349112310848175 and parameters: {'random_state': 519632, 'learning_rate': 0.053695699852333946, 'bagging_temperature': 1.3572088314100084, 'max_depth': 9, 'random_strength': 18, 'l2_leaf_reg': 4.9437170494420005e-06, 'min_child_samples': 63, 'max_bin': 380, 'od_type': 'Iter', 'task_type': 'GPU', 'loss_function': 'MAE', 'eval_metric': 'MAE'}. Best is trial 121 with value: 5.343377942063889.\u001b[0m\n"
     ]
    },
    {
     "name": "stdout",
     "output_type": "stream",
     "text": [
      "MAE of Train: 5.205167246252799\n",
      "MAE of Validation: 5.349112310848175\n"
     ]
    },
    {
     "name": "stderr",
     "output_type": "stream",
     "text": [
      "\u001b[32m[I 2022-03-27 05:04:55,264]\u001b[0m Trial 975 finished with value: 5.349349858880452 and parameters: {'random_state': 519632, 'learning_rate': 0.06692569744934826, 'bagging_temperature': 1.0105525102506283, 'max_depth': 9, 'random_strength': 16, 'l2_leaf_reg': 1.227803890942997e-05, 'min_child_samples': 58, 'max_bin': 469, 'od_type': 'IncToDec', 'task_type': 'GPU', 'loss_function': 'MAE', 'eval_metric': 'MAE'}. Best is trial 121 with value: 5.343377942063889.\u001b[0m\n"
     ]
    },
    {
     "name": "stdout",
     "output_type": "stream",
     "text": [
      "MAE of Train: 5.174386809544122\n",
      "MAE of Validation: 5.349349858880452\n"
     ]
    },
    {
     "name": "stderr",
     "output_type": "stream",
     "text": [
      "\u001b[32m[I 2022-03-27 05:05:00,989]\u001b[0m Trial 976 finished with value: 5.3525859723790905 and parameters: {'random_state': 519632, 'learning_rate': 0.047514070333171586, 'bagging_temperature': 1.8295941822589825, 'max_depth': 9, 'random_strength': 12, 'l2_leaf_reg': 9.001378165028142e-06, 'min_child_samples': 53, 'max_bin': 354, 'od_type': 'IncToDec', 'task_type': 'GPU', 'loss_function': 'MAE', 'eval_metric': 'MAE'}. Best is trial 121 with value: 5.343377942063889.\u001b[0m\n"
     ]
    },
    {
     "name": "stdout",
     "output_type": "stream",
     "text": [
      "MAE of Train: 5.221665887541494\n",
      "MAE of Validation: 5.3525859723790905\n"
     ]
    },
    {
     "name": "stderr",
     "output_type": "stream",
     "text": [
      "\u001b[32m[I 2022-03-27 05:05:05,064]\u001b[0m Trial 977 finished with value: 5.353680913805652 and parameters: {'random_state': 519632, 'learning_rate': 0.08400910260195381, 'bagging_temperature': 2.185368110079728, 'max_depth': 9, 'random_strength': 24, 'l2_leaf_reg': 9.869085098016765e-06, 'min_child_samples': 49, 'max_bin': 424, 'od_type': 'IncToDec', 'task_type': 'GPU', 'loss_function': 'MAE', 'eval_metric': 'MAE'}. Best is trial 121 with value: 5.343377942063889.\u001b[0m\n"
     ]
    },
    {
     "name": "stdout",
     "output_type": "stream",
     "text": [
      "MAE of Train: 5.193864852942822\n",
      "MAE of Validation: 5.353680913805652\n"
     ]
    },
    {
     "name": "stderr",
     "output_type": "stream",
     "text": [
      "\u001b[32m[I 2022-03-27 05:05:08,367]\u001b[0m Trial 978 finished with value: 5.355038399880162 and parameters: {'random_state': 519632, 'learning_rate': 0.11386373630108586, 'bagging_temperature': 1.3712586130514453, 'max_depth': 9, 'random_strength': 21, 'l2_leaf_reg': 1.738371639912748e-05, 'min_child_samples': 44, 'max_bin': 281, 'od_type': 'Iter', 'task_type': 'GPU', 'loss_function': 'MAE', 'eval_metric': 'MAE'}. Best is trial 121 with value: 5.343377942063889.\u001b[0m\n"
     ]
    },
    {
     "name": "stdout",
     "output_type": "stream",
     "text": [
      "MAE of Train: 5.1983743241390385\n",
      "MAE of Validation: 5.355038399880162\n"
     ]
    },
    {
     "name": "stderr",
     "output_type": "stream",
     "text": [
      "\u001b[32m[I 2022-03-27 05:05:13,889]\u001b[0m Trial 979 finished with value: 5.346232136017485 and parameters: {'random_state': 519632, 'learning_rate': 0.07403924018757417, 'bagging_temperature': 1.676016374533066, 'max_depth': 9, 'random_strength': 38, 'l2_leaf_reg': 1.0795650980510241e-05, 'min_child_samples': 64, 'max_bin': 342, 'od_type': 'IncToDec', 'task_type': 'GPU', 'loss_function': 'MAE', 'eval_metric': 'MAE'}. Best is trial 121 with value: 5.343377942063889.\u001b[0m\n"
     ]
    },
    {
     "name": "stdout",
     "output_type": "stream",
     "text": [
      "MAE of Train: 5.158170266190695\n",
      "MAE of Validation: 5.346232136017485\n"
     ]
    },
    {
     "name": "stderr",
     "output_type": "stream",
     "text": [
      "\u001b[32m[I 2022-03-27 05:05:19,590]\u001b[0m Trial 980 finished with value: 5.349632487562622 and parameters: {'random_state': 519632, 'learning_rate': 0.06118115195429576, 'bagging_temperature': 1.1236850730401862, 'max_depth': 9, 'random_strength': 18, 'l2_leaf_reg': 1.1718337689393326e-05, 'min_child_samples': 72, 'max_bin': 370, 'od_type': 'IncToDec', 'task_type': 'GPU', 'loss_function': 'MAE', 'eval_metric': 'MAE'}. Best is trial 121 with value: 5.343377942063889.\u001b[0m\n"
     ]
    },
    {
     "name": "stdout",
     "output_type": "stream",
     "text": [
      "MAE of Train: 5.19150953258482\n",
      "MAE of Validation: 5.349632487562622\n"
     ]
    },
    {
     "name": "stderr",
     "output_type": "stream",
     "text": [
      "\u001b[32m[I 2022-03-27 05:05:23,364]\u001b[0m Trial 981 finished with value: 5.352205215305118 and parameters: {'random_state': 519632, 'learning_rate': 0.09372164925197643, 'bagging_temperature': 0.9129921359723941, 'max_depth': 9, 'random_strength': 15, 'l2_leaf_reg': 9.445287364722586e-06, 'min_child_samples': 69, 'max_bin': 393, 'od_type': 'IncToDec', 'task_type': 'GPU', 'loss_function': 'MAE', 'eval_metric': 'MAE'}. Best is trial 121 with value: 5.343377942063889.\u001b[0m\n"
     ]
    },
    {
     "name": "stdout",
     "output_type": "stream",
     "text": [
      "MAE of Train: 5.215071274173227\n",
      "MAE of Validation: 5.352205215305118\n"
     ]
    },
    {
     "name": "stderr",
     "output_type": "stream",
     "text": [
      "\u001b[32m[I 2022-03-27 05:05:29,111]\u001b[0m Trial 982 finished with value: 5.346634995539073 and parameters: {'random_state': 519632, 'learning_rate': 0.07542356366649124, 'bagging_temperature': 1.4445181527746058, 'max_depth': 9, 'random_strength': 10, 'l2_leaf_reg': 1.265204615951183e-05, 'min_child_samples': 51, 'max_bin': 255, 'od_type': 'IncToDec', 'task_type': 'GPU', 'loss_function': 'MAE', 'eval_metric': 'MAE'}. Best is trial 121 with value: 5.343377942063889.\u001b[0m\n"
     ]
    },
    {
     "name": "stdout",
     "output_type": "stream",
     "text": [
      "MAE of Train: 5.13455243422143\n",
      "MAE of Validation: 5.346634995539073\n"
     ]
    },
    {
     "name": "stderr",
     "output_type": "stream",
     "text": [
      "\u001b[32m[I 2022-03-27 05:05:34,725]\u001b[0m Trial 983 finished with value: 5.350332671452978 and parameters: {'random_state': 519632, 'learning_rate': 0.054882926313152114, 'bagging_temperature': 0.7755640513879344, 'max_depth': 9, 'random_strength': 5, 'l2_leaf_reg': 1.4076743602841739e-05, 'min_child_samples': 75, 'max_bin': 451, 'od_type': 'Iter', 'task_type': 'GPU', 'loss_function': 'MAE', 'eval_metric': 'MAE'}. Best is trial 121 with value: 5.343377942063889.\u001b[0m\n"
     ]
    },
    {
     "name": "stdout",
     "output_type": "stream",
     "text": [
      "MAE of Train: 5.217403621964457\n",
      "MAE of Validation: 5.350332671452978\n"
     ]
    },
    {
     "name": "stderr",
     "output_type": "stream",
     "text": [
      "\u001b[32m[I 2022-03-27 05:05:40,107]\u001b[0m Trial 984 finished with value: 5.34734076239871 and parameters: {'random_state': 519632, 'learning_rate': 0.06666108059599253, 'bagging_temperature': 1.1794010178381675, 'max_depth': 9, 'random_strength': 20, 'l2_leaf_reg': 1.3474189912061082e-05, 'min_child_samples': 62, 'max_bin': 490, 'od_type': 'IncToDec', 'task_type': 'GPU', 'loss_function': 'MAE', 'eval_metric': 'MAE'}. Best is trial 121 with value: 5.343377942063889.\u001b[0m\n"
     ]
    },
    {
     "name": "stdout",
     "output_type": "stream",
     "text": [
      "MAE of Train: 5.182087038679962\n",
      "MAE of Validation: 5.34734076239871\n"
     ]
    },
    {
     "name": "stderr",
     "output_type": "stream",
     "text": [
      "\u001b[32m[I 2022-03-27 05:05:45,534]\u001b[0m Trial 985 finished with value: 10.98194179608106 and parameters: {'random_state': 519632, 'learning_rate': 0.0003371606059056251, 'bagging_temperature': 2.7317480828010767, 'max_depth': 9, 'random_strength': 25, 'l2_leaf_reg': 1.123871893360562e-05, 'min_child_samples': 41, 'max_bin': 412, 'od_type': 'IncToDec', 'task_type': 'GPU', 'loss_function': 'MAE', 'eval_metric': 'MAE'}. Best is trial 121 with value: 5.343377942063889.\u001b[0m\n"
     ]
    },
    {
     "name": "stdout",
     "output_type": "stream",
     "text": [
      "MAE of Train: 10.978254450409034\n",
      "MAE of Validation: 10.98194179608106\n"
     ]
    },
    {
     "name": "stderr",
     "output_type": "stream",
     "text": [
      "\u001b[32m[I 2022-03-27 05:05:48,994]\u001b[0m Trial 986 finished with value: 5.354196511089182 and parameters: {'random_state': 519632, 'learning_rate': 0.10048165463975545, 'bagging_temperature': 1.777726540150708, 'max_depth': 9, 'random_strength': 17, 'l2_leaf_reg': 1.0096079165405657e-05, 'min_child_samples': 46, 'max_bin': 301, 'od_type': 'IncToDec', 'task_type': 'GPU', 'loss_function': 'MAE', 'eval_metric': 'MAE'}. Best is trial 121 with value: 5.343377942063889.\u001b[0m\n"
     ]
    },
    {
     "name": "stdout",
     "output_type": "stream",
     "text": [
      "MAE of Train: 5.200089324697657\n",
      "MAE of Validation: 5.354196511089182\n"
     ]
    },
    {
     "name": "stderr",
     "output_type": "stream",
     "text": [
      "\u001b[32m[I 2022-03-27 05:05:54,664]\u001b[0m Trial 987 finished with value: 5.362001406138071 and parameters: {'random_state': 519632, 'learning_rate': 0.034283787070188934, 'bagging_temperature': 2.121988525350867, 'max_depth': 9, 'random_strength': 43, 'l2_leaf_reg': 1.2246822941759674e-05, 'min_child_samples': 66, 'max_bin': 464, 'od_type': 'Iter', 'task_type': 'GPU', 'loss_function': 'MAE', 'eval_metric': 'MAE'}. Best is trial 121 with value: 5.343377942063889.\u001b[0m\n"
     ]
    },
    {
     "name": "stdout",
     "output_type": "stream",
     "text": [
      "MAE of Train: 5.284263941345316\n",
      "MAE of Validation: 5.362001406138071\n"
     ]
    },
    {
     "name": "stderr",
     "output_type": "stream",
     "text": [
      "\u001b[32m[I 2022-03-27 05:05:58,841]\u001b[0m Trial 988 finished with value: 5.3497097143800785 and parameters: {'random_state': 519632, 'learning_rate': 0.08484673194216237, 'bagging_temperature': 1.5105005803298097, 'max_depth': 9, 'random_strength': 36, 'l2_leaf_reg': 1.2930305284751288e-05, 'min_child_samples': 55, 'max_bin': 221, 'od_type': 'IncToDec', 'task_type': 'GPU', 'loss_function': 'MAE', 'eval_metric': 'MAE'}. Best is trial 121 with value: 5.343377942063889.\u001b[0m\n"
     ]
    },
    {
     "name": "stdout",
     "output_type": "stream",
     "text": [
      "MAE of Train: 5.191291736116462\n",
      "MAE of Validation: 5.3497097143800785\n"
     ]
    },
    {
     "name": "stderr",
     "output_type": "stream",
     "text": [
      "\u001b[32m[I 2022-03-27 05:06:04,621]\u001b[0m Trial 989 finished with value: 5.355370423562249 and parameters: {'random_state': 519632, 'learning_rate': 0.0460166944212074, 'bagging_temperature': 1.0444828571672993, 'max_depth': 9, 'random_strength': 13, 'l2_leaf_reg': 9.235597712162758e-06, 'min_child_samples': 71, 'max_bin': 276, 'od_type': 'IncToDec', 'task_type': 'GPU', 'loss_function': 'MAE', 'eval_metric': 'MAE'}. Best is trial 121 with value: 5.343377942063889.\u001b[0m\n"
     ]
    },
    {
     "name": "stdout",
     "output_type": "stream",
     "text": [
      "MAE of Train: 5.243147859428276\n",
      "MAE of Validation: 5.355370423562249\n"
     ]
    },
    {
     "name": "stderr",
     "output_type": "stream",
     "text": [
      "\u001b[32m[I 2022-03-27 05:06:08,647]\u001b[0m Trial 990 finished with value: 5.358962108854428 and parameters: {'random_state': 519632, 'learning_rate': 0.12361637514324007, 'bagging_temperature': 1.2796726738294304, 'max_depth': 6, 'random_strength': 23, 'l2_leaf_reg': 1.4771498896602791e-05, 'min_child_samples': 48, 'max_bin': 456, 'od_type': 'IncToDec', 'task_type': 'GPU', 'loss_function': 'MAE', 'eval_metric': 'MAE'}. Best is trial 121 with value: 5.343377942063889.\u001b[0m\n"
     ]
    },
    {
     "name": "stdout",
     "output_type": "stream",
     "text": [
      "MAE of Train: 5.261635876795571\n",
      "MAE of Validation: 5.358962108854428\n"
     ]
    },
    {
     "name": "stderr",
     "output_type": "stream",
     "text": [
      "\u001b[32m[I 2022-03-27 05:06:11,904]\u001b[0m Trial 991 finished with value: 5.419409775797213 and parameters: {'random_state': 519632, 'learning_rate': 0.0787039609059848, 'bagging_temperature': 0.6858171537949059, 'max_depth': 3, 'random_strength': 19, 'l2_leaf_reg': 1.0856615011065125e-05, 'min_child_samples': 68, 'max_bin': 444, 'od_type': 'Iter', 'task_type': 'GPU', 'loss_function': 'MAE', 'eval_metric': 'MAE'}. Best is trial 121 with value: 5.343377942063889.\u001b[0m\n"
     ]
    },
    {
     "name": "stdout",
     "output_type": "stream",
     "text": [
      "MAE of Train: 5.418918486303657\n",
      "MAE of Validation: 5.419409775797213\n"
     ]
    },
    {
     "name": "stderr",
     "output_type": "stream",
     "text": [
      "\u001b[32m[I 2022-03-27 05:06:17,647]\u001b[0m Trial 992 finished with value: 5.348178720186268 and parameters: {'random_state': 519632, 'learning_rate': 0.06258642053353813, 'bagging_temperature': 1.6987013329504375, 'max_depth': 9, 'random_strength': 14, 'l2_leaf_reg': 1.1547591487991546e-05, 'min_child_samples': 65, 'max_bin': 470, 'od_type': 'IncToDec', 'task_type': 'GPU', 'loss_function': 'MAE', 'eval_metric': 'MAE'}. Best is trial 121 with value: 5.343377942063889.\u001b[0m\n"
     ]
    },
    {
     "name": "stdout",
     "output_type": "stream",
     "text": [
      "MAE of Train: 5.16802265529252\n",
      "MAE of Validation: 5.348178720186268\n"
     ]
    },
    {
     "name": "stderr",
     "output_type": "stream",
     "text": [
      "\u001b[32m[I 2022-03-27 05:06:23,421]\u001b[0m Trial 993 finished with value: 5.347868913267722 and parameters: {'random_state': 519632, 'learning_rate': 0.053668847798059215, 'bagging_temperature': 0.9136155515512686, 'max_depth': 9, 'random_strength': 11, 'l2_leaf_reg': 9.692744896208172e-06, 'min_child_samples': 39, 'max_bin': 435, 'od_type': 'IncToDec', 'task_type': 'GPU', 'loss_function': 'MAE', 'eval_metric': 'MAE'}. Best is trial 121 with value: 5.343377942063889.\u001b[0m\n"
     ]
    },
    {
     "name": "stdout",
     "output_type": "stream",
     "text": [
      "MAE of Train: 5.216100979653108\n",
      "MAE of Validation: 5.347868913267722\n"
     ]
    },
    {
     "name": "stderr",
     "output_type": "stream",
     "text": [
      "\u001b[32m[I 2022-03-27 05:06:26,839]\u001b[0m Trial 994 finished with value: 5.357174615097343 and parameters: {'random_state': 519632, 'learning_rate': 0.09466364235520093, 'bagging_temperature': 2.030243793688627, 'max_depth': 9, 'random_strength': 72, 'l2_leaf_reg': 1.1968204212225919e-05, 'min_child_samples': 20, 'max_bin': 484, 'od_type': 'IncToDec', 'task_type': 'GPU', 'loss_function': 'MAE', 'eval_metric': 'MAE'}. Best is trial 121 with value: 5.343377942063889.\u001b[0m\n"
     ]
    },
    {
     "name": "stdout",
     "output_type": "stream",
     "text": [
      "MAE of Train: 5.222127186011869\n",
      "MAE of Validation: 5.357174615097343\n"
     ]
    },
    {
     "name": "stderr",
     "output_type": "stream",
     "text": [
      "\u001b[32m[I 2022-03-27 05:06:31,681]\u001b[0m Trial 995 finished with value: 5.354463853084439 and parameters: {'random_state': 519632, 'learning_rate': 0.06727134826667035, 'bagging_temperature': 1.2896918328005387, 'max_depth': 8, 'random_strength': 16, 'l2_leaf_reg': 8.715526855275846e-06, 'min_child_samples': 43, 'max_bin': 450, 'od_type': 'IncToDec', 'task_type': 'GPU', 'loss_function': 'MAE', 'eval_metric': 'MAE'}. Best is trial 121 with value: 5.343377942063889.\u001b[0m\n"
     ]
    },
    {
     "name": "stdout",
     "output_type": "stream",
     "text": [
      "MAE of Train: 5.229991011891472\n",
      "MAE of Validation: 5.354463853084439\n"
     ]
    },
    {
     "name": "stderr",
     "output_type": "stream",
     "text": [
      "\u001b[32m[I 2022-03-27 05:06:37,079]\u001b[0m Trial 996 finished with value: 5.887753784606161 and parameters: {'random_state': 519632, 'learning_rate': 0.002476477797598589, 'bagging_temperature': 1.557085878825597, 'max_depth': 9, 'random_strength': 22, 'l2_leaf_reg': 1.0572228531188334e-05, 'min_child_samples': 61, 'max_bin': 329, 'od_type': 'Iter', 'task_type': 'GPU', 'loss_function': 'MAE', 'eval_metric': 'MAE'}. Best is trial 121 with value: 5.343377942063889.\u001b[0m\n"
     ]
    },
    {
     "name": "stdout",
     "output_type": "stream",
     "text": [
      "MAE of Train: 5.882655939599268\n",
      "MAE of Validation: 5.887753784606161\n"
     ]
    },
    {
     "name": "stderr",
     "output_type": "stream",
     "text": [
      "\u001b[32m[I 2022-03-27 05:06:42,254]\u001b[0m Trial 997 finished with value: 5.345881317977389 and parameters: {'random_state': 519632, 'learning_rate': 0.07573786491040559, 'bagging_temperature': 1.0216045562759701, 'max_depth': 9, 'random_strength': 25, 'l2_leaf_reg': 6.7581652633622114e-06, 'min_child_samples': 64, 'max_bin': 463, 'od_type': 'IncToDec', 'task_type': 'GPU', 'loss_function': 'MAE', 'eval_metric': 'MAE'}. Best is trial 121 with value: 5.343377942063889.\u001b[0m\n"
     ]
    },
    {
     "name": "stdout",
     "output_type": "stream",
     "text": [
      "MAE of Train: 5.175767504466778\n",
      "MAE of Validation: 5.345881317977389\n"
     ]
    },
    {
     "name": "stderr",
     "output_type": "stream",
     "text": [
      "\u001b[32m[I 2022-03-27 05:06:45,110]\u001b[0m Trial 998 finished with value: 5.36045595495514 and parameters: {'random_state': 519632, 'learning_rate': 0.17216896913317797, 'bagging_temperature': 0.6401842322474127, 'max_depth': 9, 'random_strength': 27, 'l2_leaf_reg': 5.871421425597376e-06, 'min_child_samples': 60, 'max_bin': 462, 'od_type': 'IncToDec', 'task_type': 'GPU', 'loss_function': 'MAE', 'eval_metric': 'MAE'}. Best is trial 121 with value: 5.343377942063889.\u001b[0m\n"
     ]
    },
    {
     "name": "stdout",
     "output_type": "stream",
     "text": [
      "MAE of Train: 5.183856510520371\n",
      "MAE of Validation: 5.36045595495514\n"
     ]
    },
    {
     "name": "stderr",
     "output_type": "stream",
     "text": [
      "\u001b[32m[I 2022-03-27 05:06:48,943]\u001b[0m Trial 999 finished with value: 5.351910986950801 and parameters: {'random_state': 519632, 'learning_rate': 0.10999579435757147, 'bagging_temperature': 1.0316393654724403, 'max_depth': 9, 'random_strength': 26, 'l2_leaf_reg': 6.770563990415716e-06, 'min_child_samples': 62, 'max_bin': 322, 'od_type': 'IncToDec', 'task_type': 'GPU', 'loss_function': 'MAE', 'eval_metric': 'MAE'}. Best is trial 121 with value: 5.343377942063889.\u001b[0m\n"
     ]
    },
    {
     "name": "stdout",
     "output_type": "stream",
     "text": [
      "MAE of Train: 5.1776811093001225\n",
      "MAE of Validation: 5.351910986950801\n",
      "Best Score: 5.343377942063889\n",
      "Best trial {'random_state': 519632, 'learning_rate': 0.06613991920995126, 'bagging_temperature': 1.447292201383705, 'max_depth': 9, 'random_strength': 38, 'l2_leaf_reg': 1.1891771199513387e-05, 'min_child_samples': 46, 'max_bin': 481, 'od_type': 'IncToDec', 'task_type': 'GPU', 'loss_function': 'MAE', 'eval_metric': 'MAE'}\n",
      "0:\tlearn: 13.2114490\ttest: 13.2136734\tbest: 13.2136734 (0)\ttotal: 5.35ms\tremaining: 2m 40s\n",
      "1000:\tlearn: 5.1556042\ttest: 5.3433284\tbest: 5.3433284 (1000)\ttotal: 4.92s\tremaining: 2m 22s\n",
      "bestTest = 5.342686822\n",
      "bestIteration = 1072\n",
      "Shrink model to first 1073 iterations.\n"
     ]
    }
   ],
   "source": [
    "import optuna\n",
    "from optuna.samplers import TPESampler\n",
    "from catboost import CatBoostRegressor\n",
    "from sklearn.model_selection import train_test_split\n",
    "\n",
    "TRIALS = 1000\n",
    "TIMEOUT = 3600 * 6\n",
    "\n",
    "if allow_optimize:\n",
    "    sampler = TPESampler(seed=362356)\n",
    "\n",
    "    study = optuna.create_study(\n",
    "        study_name = 'cat_parameter_opt',\n",
    "        direction = 'minimize',\n",
    "        sampler = sampler,\n",
    "    )\n",
    "    study.optimize(objective, n_trials=TRIALS)\n",
    "    print(\"Best Score:\",study.best_value)\n",
    "    print(\"Best trial\",study.best_trial.params)\n",
    "    \n",
    "    best_params = study.best_params\n",
    "    \n",
    "    X_train_tmp, X_valid_tmp, y_train_tmp, y_valid_tmp = train_test_split(X, y, test_size=0.3, random_state=42)\n",
    "    model_tmp = CatBoostRegressor(**best_params, n_estimators=30000, verbose=1000).fit(X_train_tmp, y_train_tmp, eval_set=[(X_valid_tmp, y_valid_tmp)], early_stopping_rounds=35)"
   ]
  },
  {
   "cell_type": "code",
   "execution_count": 63,
   "id": "a693e7bf-6f37-4805-add8-fae17f7b042d",
   "metadata": {},
   "outputs": [
    {
     "name": "stdout",
     "output_type": "stream",
     "text": [
      "0:\tlearn: 13.2117114\ttotal: 5.52ms\tremaining: 5.91s\n",
      "1000:\tlearn: 5.2159974\ttotal: 5.17s\tremaining: 368ms\n",
      "1071:\tlearn: 5.2033412\ttotal: 5.53s\tremaining: 0us\n"
     ]
    }
   ],
   "source": [
    "model = CatBoostRegressor(**best_params, n_estimators=model_tmp.get_best_iteration(), verbose=1000).fit(X, y)"
   ]
  },
  {
   "cell_type": "code",
   "execution_count": 68,
   "id": "bb70b0d3-e8f8-4aba-91c3-8b934375d12c",
   "metadata": {},
   "outputs": [],
   "source": [
    "df_sub[target_] = model.predict(df_v2_te).round().copy()\n",
    "\n",
    "# sep = df_v2_tr[(df_v2_tr['dt_d'] >= 246) & (df_v2_tr['dt_t'] >= 0)]\n",
    "# lower = sep.groupby(['dt_t', 'x', 'y', 'direction']).congestion.quantile(0.15).values\n",
    "# upper = sep.groupby(['dt_t', 'x', 'y', 'direction']).congestion.quantile(0.7).values\n",
    "\n",
    "df_sub[target_] = df_sub[target_].clip(lower, upper)\n",
    "\n",
    "import datetime\n",
    "\n",
    "now = datetime.datetime.now()\n",
    "str_datetime = now.strftime(\"%y%m%d_%H%M%S\")\n",
    "# df_sub.to_csv(DIR_DATASET+'submission-'+NAME_PROJECT+'-'+str_datetime+'.csv', index = 0)\n",
    "df_sub.to_csv(DIR_DATASET+'submission-'+NAME_PROJECT+'-'+str_datetime+'.csv')"
   ]
  },
  {
   "cell_type": "code",
   "execution_count": 69,
   "id": "45164d96-bcbf-4b4d-a717-856d8ef7d543",
   "metadata": {},
   "outputs": [
    {
     "data": {
      "text/html": [
       "<div>\n",
       "<style scoped>\n",
       "    .dataframe tbody tr th:only-of-type {\n",
       "        vertical-align: middle;\n",
       "    }\n",
       "\n",
       "    .dataframe tbody tr th {\n",
       "        vertical-align: top;\n",
       "    }\n",
       "\n",
       "    .dataframe thead th {\n",
       "        text-align: right;\n",
       "    }\n",
       "</style>\n",
       "<table border=\"1\" class=\"dataframe\">\n",
       "  <thead>\n",
       "    <tr style=\"text-align: right;\">\n",
       "      <th></th>\n",
       "      <th>congestion</th>\n",
       "    </tr>\n",
       "    <tr>\n",
       "      <th>row_id</th>\n",
       "      <th></th>\n",
       "    </tr>\n",
       "  </thead>\n",
       "  <tbody>\n",
       "    <tr>\n",
       "      <th>848835</th>\n",
       "      <td>48.0</td>\n",
       "    </tr>\n",
       "    <tr>\n",
       "      <th>848836</th>\n",
       "      <td>34.0</td>\n",
       "    </tr>\n",
       "    <tr>\n",
       "      <th>848837</th>\n",
       "      <td>54.0</td>\n",
       "    </tr>\n",
       "    <tr>\n",
       "      <th>848838</th>\n",
       "      <td>25.0</td>\n",
       "    </tr>\n",
       "    <tr>\n",
       "      <th>848839</th>\n",
       "      <td>73.0</td>\n",
       "    </tr>\n",
       "  </tbody>\n",
       "</table>\n",
       "</div>"
      ],
      "text/plain": [
       "        congestion\n",
       "row_id            \n",
       "848835  48.0      \n",
       "848836  34.0      \n",
       "848837  54.0      \n",
       "848838  25.0      \n",
       "848839  73.0      "
      ]
     },
     "execution_count": 69,
     "metadata": {},
     "output_type": "execute_result"
    }
   ],
   "source": [
    "df_sub.head()"
   ]
  },
  {
   "cell_type": "code",
   "execution_count": null,
   "id": "503504b0-c52c-481d-9d9e-92af573d4564",
   "metadata": {},
   "outputs": [],
   "source": [
    "dir_dataset = \"C:/Users/0stix/Datasets/\"\n",
    "name_project = '2203-kaggle-tps2203'\n",
    "df_train = pd.read_csv(dir_dataset+name_project+'/train.csv')\n",
    "df_test = pd.read_csv(dir_dataset+name_project+'/test.csv')\n",
    "df_sub = pd.read_csv(dir_dataset+name_project+'/sample_submission.csv')\n",
    "\n",
    "len_train = len(df_train)\n",
    "df_all = pd.concat([df_train, df_test], axis=0)\n",
    "target = 'congestion'"
   ]
  },
  {
   "cell_type": "code",
   "execution_count": null,
   "id": "ed42359a-c6c8-4a61-8dad-3418aea4b3ca",
   "metadata": {},
   "outputs": [],
   "source": [
    "cat_reg = CatBoostRegressor(**study_.best_trial.params, n_estimators=model_tmp.get_best_iteration(), verbose=1000)\n",
    "cat_reg.fit(X_tr, y_tr)\n",
    "df_sub[target] = cat_reg.predict(X_te)\n",
    "\n",
    "import datetime\n",
    "now = datetime.datetime.now()\n",
    "str_datetime = now.strftime(\"%y%m%d_%H%M%S\")\n",
    "df_sub.to_csv(dir_dataset+'submission-'+name_project+'-'+str_datetime+'.csv', index = 0)"
   ]
  }
 ],
 "metadata": {
  "kernelspec": {
   "display_name": "Python 3 (ipykernel)",
   "language": "python",
   "name": "python3"
  },
  "language_info": {
   "codemirror_mode": {
    "name": "ipython",
    "version": 3
   },
   "file_extension": ".py",
   "mimetype": "text/x-python",
   "name": "python",
   "nbconvert_exporter": "python",
   "pygments_lexer": "ipython3",
   "version": "3.8.12"
  },
  "widgets": {
   "application/vnd.jupyter.widget-state+json": {
    "state": {
     "0dee46361305411fab56ce3d1ea0c387": {
      "model_module": "@jupyter-widgets/controls",
      "model_module_version": "1.5.0",
      "model_name": "IntProgressModel",
      "state": {
       "description": "Processing: ",
       "layout": "IPY_MODEL_a18fb267c06847a9ad7332250c53da27",
       "max": 6,
       "style": "IPY_MODEL_79e5c28de8114b779f379cad9fe7b7a0",
       "value": 6
      }
     },
     "36663fda14a14cc290ec881004f1fb5a": {
      "model_module": "@jupyter-widgets/controls",
      "model_module_version": "1.5.0",
      "model_name": "IntProgressModel",
      "state": {
       "description": "Processing: ",
       "layout": "IPY_MODEL_69ca3097087d4662a0c092116ca6aefa",
       "max": 89,
       "style": "IPY_MODEL_7226cfc3c3dc4a6f8a59bb9a3985f21f",
       "value": 89
      }
     },
     "5071c9745a4b440d8719378a26346420": {
      "model_module": "@jupyter-widgets/base",
      "model_module_version": "1.2.0",
      "model_name": "LayoutModel",
      "state": {}
     },
     "5c8b3109ae034e4f953b5ebf8215c615": {
      "model_module": "@jupyter-widgets/controls",
      "model_module_version": "1.5.0",
      "model_name": "IntProgressModel",
      "state": {
       "description": "Processing: ",
       "layout": "IPY_MODEL_5071c9745a4b440d8719378a26346420",
       "max": 6,
       "style": "IPY_MODEL_972936013f2544b3950ce704f2d57719",
       "value": 6
      }
     },
     "69ca3097087d4662a0c092116ca6aefa": {
      "model_module": "@jupyter-widgets/base",
      "model_module_version": "1.2.0",
      "model_name": "LayoutModel",
      "state": {}
     },
     "7226cfc3c3dc4a6f8a59bb9a3985f21f": {
      "model_module": "@jupyter-widgets/controls",
      "model_module_version": "1.5.0",
      "model_name": "ProgressStyleModel",
      "state": {
       "description_width": ""
      }
     },
     "79e5c28de8114b779f379cad9fe7b7a0": {
      "model_module": "@jupyter-widgets/controls",
      "model_module_version": "1.5.0",
      "model_name": "ProgressStyleModel",
      "state": {
       "description_width": ""
      }
     },
     "853cff9123994f9fb8faedf5ef0cd74b": {
      "model_module": "@jupyter-widgets/controls",
      "model_module_version": "1.5.0",
      "model_name": "IntProgressModel",
      "state": {
       "description": "Processing: ",
       "layout": "IPY_MODEL_fef688465f304f50933d4293bb8e2ded",
       "max": 3,
       "style": "IPY_MODEL_b569ef8d15974bad92a141126fa51fbc",
       "value": 3
      }
     },
     "972936013f2544b3950ce704f2d57719": {
      "model_module": "@jupyter-widgets/controls",
      "model_module_version": "1.5.0",
      "model_name": "ProgressStyleModel",
      "state": {
       "description_width": ""
      }
     },
     "a18fb267c06847a9ad7332250c53da27": {
      "model_module": "@jupyter-widgets/base",
      "model_module_version": "1.2.0",
      "model_name": "LayoutModel",
      "state": {}
     },
     "b569ef8d15974bad92a141126fa51fbc": {
      "model_module": "@jupyter-widgets/controls",
      "model_module_version": "1.5.0",
      "model_name": "ProgressStyleModel",
      "state": {
       "description_width": ""
      }
     },
     "fef688465f304f50933d4293bb8e2ded": {
      "model_module": "@jupyter-widgets/base",
      "model_module_version": "1.2.0",
      "model_name": "LayoutModel",
      "state": {}
     }
    },
    "version_major": 2,
    "version_minor": 0
   }
  }
 },
 "nbformat": 4,
 "nbformat_minor": 5
}
