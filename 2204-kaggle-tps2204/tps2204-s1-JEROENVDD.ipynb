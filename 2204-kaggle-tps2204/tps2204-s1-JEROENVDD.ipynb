{
 "cells": [
  {
   "cell_type": "markdown",
   "id": "17ecdb1d",
   "metadata": {
    "papermill": {
     "duration": 0.034931,
     "end_time": "2022-04-28T13:00:26.624984",
     "exception": false,
     "start_time": "2022-04-28T13:00:26.590053",
     "status": "completed"
    },
    "tags": []
   },
   "source": [
    "# The best model for TPSAPR22 without DL"
   ]
  },
  {
   "cell_type": "markdown",
   "id": "57101aa8",
   "metadata": {
    "papermill": {
     "duration": 0.034387,
     "end_time": "2022-04-28T13:00:26.692174",
     "exception": false,
     "start_time": "2022-04-28T13:00:26.657787",
     "status": "completed"
    },
    "tags": []
   },
   "source": [
    "What does this notebook do?\n",
    "- We extract features using tsflex `tsflex`: https://github.com/predict-idlab/tsflex  \n",
    "- We perform feature selection using `powershap`: https://github.com/predict-idlab/powershap  \n",
    "- We fit 1 final catboost model on the collection of features (in this notebook)\n",
    "\n",
    "\n",
    "# <a style=\"color:orange\">The feature extraction & feature selection libraries</a>\n",
    "\n",
    "## [**tsflex**](https://github.com/predict-idlab/tsflex)\n",
    "> #### `tsflex` is a toolkit for **flex**ible **t**ime **s**eries processing & feature extraction, that is highly efficient  \n",
    "\n",
    "`tsflex` is flexible as it: \n",
    " * handles multivariate time series\n",
    " * **integrates** with many other libraries (numpy, scipy, seglearn, tsfresh, tsfel, catch22, ...)\n",
    " * coveniently allows to extract features on **multiple step & window sizes**\n",
    "\n",
    "## [**powershap**](https://github.com/predict-idlab/powershap)\n",
    "> #### `powershap` is a **feature selection method** that uses statistical hypothesis testing and power calculations on **Shapley values**, enabling fast and intuitive wrapper-based feature selection.  \n",
    "\n",
    "<br>\n",
    "\n",
    "---\n",
    "\n",
    "\n",
    "Some features have been inspired by [AMBROSM's notebook](https://www.kaggle.com/code/ambrosm/tpsapr22-best-model-without-nn)\n",
    "\n",
    "<br>"
   ]
  },
  {
   "cell_type": "code",
   "execution_count": 2,
   "id": "0477b1c8",
   "metadata": {
    "_kg_hide-input": true,
    "papermill": {
     "duration": 8.245916,
     "end_time": "2022-04-28T13:01:23.716401",
     "exception": false,
     "start_time": "2022-04-28T13:01:15.470485",
     "status": "completed"
    },
    "tags": []
   },
   "outputs": [],
   "source": [
    "import numpy as np\n",
    "import pandas as pd\n",
    "import matplotlib.pyplot as plt\n",
    "from matplotlib.ticker import MaxNLocator\n",
    "from cycler import cycler\n",
    "from IPython.display import display\n",
    "from tqdm.notebook import tqdm\n",
    "import datetime\n",
    "import scipy.stats\n",
    "\n",
    "from sklearn.model_selection import GroupKFold, cross_val_score, GroupShuffleSplit\n",
    "from sklearn.experimental import enable_hist_gradient_boosting\n",
    "from sklearn.ensemble import HistGradientBoostingRegressor, HistGradientBoostingClassifier\n",
    "from sklearn.feature_selection import SequentialFeatureSelector\n",
    "from sklearn.metrics import roc_auc_score, roc_curve\n",
    "from sklearn.pipeline import make_pipeline\n",
    "from catboost import CatBoostClassifier\n",
    "\n",
    "# Our feature extraction library\n",
    "from tsflex.features import FeatureCollection, MultipleFeatureDescriptors, FuncWrapper\n",
    "from tsflex.features.integrations import seglearn_feature_dict_wrapper, tsfresh_settings_wrapper, catch22_wrapper\n",
    "\n",
    "# Our feature selection library\n",
    "from powershap import PowerShap\n",
    "\n",
    "# The feature function libraries\n",
    "from seglearn.feature_functions import base_features\n",
    "from tsfresh.feature_extraction import ComprehensiveFCParameters\n",
    "import antropy as ant\n",
    "# from catch22 import catch22_all"
   ]
  },
  {
   "cell_type": "code",
   "execution_count": 3,
   "id": "325b4dd1",
   "metadata": {
    "_kg_hide-input": true,
    "papermill": {
     "duration": 0.067689,
     "end_time": "2022-04-28T13:01:23.844075",
     "exception": false,
     "start_time": "2022-04-28T13:01:23.776386",
     "status": "completed"
    },
    "tags": []
   },
   "outputs": [],
   "source": [
    "import warnings\n",
    "\n",
    "warnings.filterwarnings(\"ignore\", category=RuntimeWarning)"
   ]
  },
  {
   "cell_type": "code",
   "execution_count": 4,
   "id": "14b1a631",
   "metadata": {
    "_kg_hide-input": true,
    "papermill": {
     "duration": 0.075723,
     "end_time": "2022-04-28T13:01:23.980611",
     "exception": false,
     "start_time": "2022-04-28T13:01:23.904888",
     "status": "completed"
    },
    "tags": []
   },
   "outputs": [],
   "source": [
    "def reduce_mem_usage(df):\n",
    "    \"\"\" iterate through all the columns of a dataframe and modify the data type\n",
    "        to reduce memory usage.        \n",
    "    \"\"\"\n",
    "    start_mem = df.memory_usage().sum() / 1024**2\n",
    "    print('Memory usage of dataframe is {:.2f} MB'.format(start_mem))\n",
    "    \n",
    "    for col in df.columns:\n",
    "        col_type = df[col].dtype\n",
    "        \n",
    "        if col_type != object:\n",
    "            c_min = df[col].min()\n",
    "            c_max = df[col].max()\n",
    "            if str(col_type)[:3] == 'int':\n",
    "                if c_min > np.iinfo(np.int8).min and c_max < np.iinfo(np.int8).max:\n",
    "                    df[col] = df[col].astype(np.int32)\n",
    "                elif c_min > np.iinfo(np.int16).min and c_max < np.iinfo(np.int16).max:\n",
    "                    df[col] = df[col].astype(np.int32)\n",
    "                elif c_min > np.iinfo(np.int32).min and c_max < np.iinfo(np.int32).max:\n",
    "                    df[col] = df[col].astype(np.int32)\n",
    "                elif c_min > np.iinfo(np.int64).min and c_max < np.iinfo(np.int64).max:\n",
    "                    df[col] = df[col].astype(np.int64)  \n",
    "            else:\n",
    "                if c_min > np.finfo(np.float16).min and c_max < np.finfo(np.float16).max:\n",
    "                    df[col] = df[col].astype(np.float32)\n",
    "                elif c_min > np.finfo(np.float32).min and c_max < np.finfo(np.float32).max:\n",
    "                    df[col] = df[col].astype(np.float32)\n",
    "                else:\n",
    "                    df[col] = df[col].astype(np.float64)\n",
    "        else:\n",
    "            df[col] = df[col].astype('category')\n",
    "\n",
    "    end_mem = df.memory_usage().sum() / 1024**2\n",
    "    print('Memory usage after optimization is: {:.2f} MB'.format(end_mem))\n",
    "    print('Decreased by {:.1f}%'.format(100 * (start_mem - end_mem) / start_mem))\n",
    "    \n",
    "    return df"
   ]
  },
  {
   "cell_type": "markdown",
   "id": "5814be67",
   "metadata": {
    "papermill": {
     "duration": 0.059192,
     "end_time": "2022-04-28T13:01:24.099668",
     "exception": false,
     "start_time": "2022-04-28T13:01:24.040476",
     "status": "completed"
    },
    "tags": []
   },
   "source": [
    "## Load the data"
   ]
  },
  {
   "cell_type": "code",
   "execution_count": 6,
   "id": "7e96ff25",
   "metadata": {
    "papermill": {
     "duration": 11.929456,
     "end_time": "2022-04-28T13:01:36.089305",
     "exception": false,
     "start_time": "2022-04-28T13:01:24.159849",
     "status": "completed"
    },
    "tags": []
   },
   "outputs": [
    {
     "data": {
      "text/plain": [
       "((1558080, 17), (733080, 16))"
      ]
     },
     "execution_count": 6,
     "metadata": {},
     "output_type": "execute_result"
    }
   ],
   "source": [
    "DIR_DATASET = \"C:/Users/0stxx/Datasets/\"\n",
    "NAME_PROJECT = '2204-kaggle-tps2204'\n",
    "\n",
    "df_train = pd.read_csv(DIR_DATASET + NAME_PROJECT + '/train.csv')\n",
    "df_train_labels = pd.read_csv(DIR_DATASET + NAME_PROJECT + '/train_labels.csv')\n",
    "df_test = pd.read_csv(DIR_DATASET + NAME_PROJECT + '/test.csv')\n",
    "df_sub = pd.read_csv(DIR_DATASET + NAME_PROJECT + '/sample_submission.csv')\n",
    "\n",
    "# Reading the raw data\n",
    "train = df_train\n",
    "train_labels = df_train_labels \n",
    "test = df_test\n",
    "\n",
    "# Merge the labels into the train data\n",
    "train = train.merge(train_labels, how='left', on=\"sequence\")\n",
    "\n",
    "sensors = [col for col in train.columns if 'sensor_' in col]\n",
    "\n",
    "train.shape, test.shape"
   ]
  },
  {
   "cell_type": "code",
   "execution_count": 7,
   "id": "78d9e1c1",
   "metadata": {
    "_kg_hide-output": true,
    "papermill": {
     "duration": 1.519366,
     "end_time": "2022-04-28T13:01:37.674724",
     "exception": false,
     "start_time": "2022-04-28T13:01:36.155358",
     "status": "completed"
    },
    "tags": []
   },
   "outputs": [
    {
     "name": "stdout",
     "output_type": "stream",
     "text": [
      "Memory usage of dataframe is 213.97 MB\n",
      "Memory usage after optimization is: 112.93 MB\n",
      "Decreased by 47.2%\n",
      "Memory usage of dataframe is 89.49 MB\n",
      "Memory usage after optimization is: 44.74 MB\n",
      "Decreased by 50.0%\n"
     ]
    },
    {
     "data": {
      "text/html": [
       "<div>\n",
       "<style scoped>\n",
       "    .dataframe tbody tr th:only-of-type {\n",
       "        vertical-align: middle;\n",
       "    }\n",
       "\n",
       "    .dataframe tbody tr th {\n",
       "        vertical-align: top;\n",
       "    }\n",
       "\n",
       "    .dataframe thead tr th {\n",
       "        text-align: left;\n",
       "    }\n",
       "\n",
       "    .dataframe thead tr:last-of-type th {\n",
       "        text-align: right;\n",
       "    }\n",
       "</style>\n",
       "<table border=\"1\" class=\"dataframe\">\n",
       "  <thead>\n",
       "    <tr>\n",
       "      <th></th>\n",
       "      <th></th>\n",
       "      <th colspan=\"10\" halign=\"left\">sensor_00</th>\n",
       "      <th>...</th>\n",
       "      <th colspan=\"10\" halign=\"left\">sensor_12</th>\n",
       "    </tr>\n",
       "    <tr>\n",
       "      <th></th>\n",
       "      <th>step</th>\n",
       "      <th>0</th>\n",
       "      <th>1</th>\n",
       "      <th>2</th>\n",
       "      <th>3</th>\n",
       "      <th>4</th>\n",
       "      <th>5</th>\n",
       "      <th>6</th>\n",
       "      <th>7</th>\n",
       "      <th>8</th>\n",
       "      <th>9</th>\n",
       "      <th>...</th>\n",
       "      <th>50</th>\n",
       "      <th>51</th>\n",
       "      <th>52</th>\n",
       "      <th>53</th>\n",
       "      <th>54</th>\n",
       "      <th>55</th>\n",
       "      <th>56</th>\n",
       "      <th>57</th>\n",
       "      <th>58</th>\n",
       "      <th>59</th>\n",
       "    </tr>\n",
       "    <tr>\n",
       "      <th>sequence</th>\n",
       "      <th>subject</th>\n",
       "      <th></th>\n",
       "      <th></th>\n",
       "      <th></th>\n",
       "      <th></th>\n",
       "      <th></th>\n",
       "      <th></th>\n",
       "      <th></th>\n",
       "      <th></th>\n",
       "      <th></th>\n",
       "      <th></th>\n",
       "      <th></th>\n",
       "      <th></th>\n",
       "      <th></th>\n",
       "      <th></th>\n",
       "      <th></th>\n",
       "      <th></th>\n",
       "      <th></th>\n",
       "      <th></th>\n",
       "      <th></th>\n",
       "      <th></th>\n",
       "      <th></th>\n",
       "    </tr>\n",
       "  </thead>\n",
       "  <tbody>\n",
       "    <tr>\n",
       "      <th>0</th>\n",
       "      <th>47</th>\n",
       "      <td>-0.196291</td>\n",
       "      <td>-0.447450</td>\n",
       "      <td>0.326893</td>\n",
       "      <td>0.523184</td>\n",
       "      <td>0.272025</td>\n",
       "      <td>-1.073416</td>\n",
       "      <td>0.350850</td>\n",
       "      <td>-0.304482</td>\n",
       "      <td>-0.216383</td>\n",
       "      <td>0.303709</td>\n",
       "      <td>...</td>\n",
       "      <td>-1.670077</td>\n",
       "      <td>-5.306479</td>\n",
       "      <td>3.621057</td>\n",
       "      <td>4.965047</td>\n",
       "      <td>-3.615089</td>\n",
       "      <td>0.791134</td>\n",
       "      <td>5.887042</td>\n",
       "      <td>-7.211424</td>\n",
       "      <td>-26.738705</td>\n",
       "      <td>-50.658993</td>\n",
       "    </tr>\n",
       "    <tr>\n",
       "      <th>1</th>\n",
       "      <th>66</th>\n",
       "      <td>-6.657650</td>\n",
       "      <td>1.633694</td>\n",
       "      <td>1.863215</td>\n",
       "      <td>-2.846213</td>\n",
       "      <td>0.593508</td>\n",
       "      <td>2.469861</td>\n",
       "      <td>-1.202473</td>\n",
       "      <td>-0.829212</td>\n",
       "      <td>1.091190</td>\n",
       "      <td>-0.334621</td>\n",
       "      <td>...</td>\n",
       "      <td>-0.338022</td>\n",
       "      <td>0.234868</td>\n",
       "      <td>0.030691</td>\n",
       "      <td>0.037511</td>\n",
       "      <td>-0.120205</td>\n",
       "      <td>0.056692</td>\n",
       "      <td>0.062234</td>\n",
       "      <td>-0.013640</td>\n",
       "      <td>0.098039</td>\n",
       "      <td>-0.115090</td>\n",
       "    </tr>\n",
       "    <tr>\n",
       "      <th>2</th>\n",
       "      <th>66</th>\n",
       "      <td>-1.741886</td>\n",
       "      <td>3.402627</td>\n",
       "      <td>-0.632148</td>\n",
       "      <td>0.208655</td>\n",
       "      <td>-0.800618</td>\n",
       "      <td>-2.274343</td>\n",
       "      <td>2.009274</td>\n",
       "      <td>-0.563369</td>\n",
       "      <td>-0.050232</td>\n",
       "      <td>0.800618</td>\n",
       "      <td>...</td>\n",
       "      <td>-0.172634</td>\n",
       "      <td>0.091645</td>\n",
       "      <td>-0.028986</td>\n",
       "      <td>-0.202472</td>\n",
       "      <td>0.332481</td>\n",
       "      <td>-0.013214</td>\n",
       "      <td>0.245524</td>\n",
       "      <td>-0.091219</td>\n",
       "      <td>-0.306905</td>\n",
       "      <td>0.046036</td>\n",
       "    </tr>\n",
       "    <tr>\n",
       "      <th>3</th>\n",
       "      <th>542</th>\n",
       "      <td>0.264297</td>\n",
       "      <td>-1.808346</td>\n",
       "      <td>0.078825</td>\n",
       "      <td>1.037094</td>\n",
       "      <td>-0.189335</td>\n",
       "      <td>-1.302937</td>\n",
       "      <td>1.078825</td>\n",
       "      <td>2.257342</td>\n",
       "      <td>-2.283617</td>\n",
       "      <td>-2.759660</td>\n",
       "      <td>...</td>\n",
       "      <td>0.145354</td>\n",
       "      <td>-0.045610</td>\n",
       "      <td>-0.098039</td>\n",
       "      <td>-0.049446</td>\n",
       "      <td>0.055840</td>\n",
       "      <td>-0.022165</td>\n",
       "      <td>0.054135</td>\n",
       "      <td>-0.185422</td>\n",
       "      <td>0.311168</td>\n",
       "      <td>-0.166240</td>\n",
       "    </tr>\n",
       "    <tr>\n",
       "      <th>4</th>\n",
       "      <th>437</th>\n",
       "      <td>0.567233</td>\n",
       "      <td>-0.823802</td>\n",
       "      <td>1.476816</td>\n",
       "      <td>-1.710201</td>\n",
       "      <td>-0.408810</td>\n",
       "      <td>0.556414</td>\n",
       "      <td>0.853168</td>\n",
       "      <td>-0.406491</td>\n",
       "      <td>-0.009274</td>\n",
       "      <td>-0.021638</td>\n",
       "      <td>...</td>\n",
       "      <td>0.001705</td>\n",
       "      <td>-0.050725</td>\n",
       "      <td>-0.025149</td>\n",
       "      <td>0.106138</td>\n",
       "      <td>-0.098465</td>\n",
       "      <td>-0.040068</td>\n",
       "      <td>0.135976</td>\n",
       "      <td>0.121910</td>\n",
       "      <td>-0.059676</td>\n",
       "      <td>-0.087809</td>\n",
       "    </tr>\n",
       "    <tr>\n",
       "      <th>...</th>\n",
       "      <th>...</th>\n",
       "      <td>...</td>\n",
       "      <td>...</td>\n",
       "      <td>...</td>\n",
       "      <td>...</td>\n",
       "      <td>...</td>\n",
       "      <td>...</td>\n",
       "      <td>...</td>\n",
       "      <td>...</td>\n",
       "      <td>...</td>\n",
       "      <td>...</td>\n",
       "      <td>...</td>\n",
       "      <td>...</td>\n",
       "      <td>...</td>\n",
       "      <td>...</td>\n",
       "      <td>...</td>\n",
       "      <td>...</td>\n",
       "      <td>...</td>\n",
       "      <td>...</td>\n",
       "      <td>...</td>\n",
       "      <td>...</td>\n",
       "      <td>...</td>\n",
       "    </tr>\n",
       "    <tr>\n",
       "      <th>25963</th>\n",
       "      <th>558</th>\n",
       "      <td>-1.441267</td>\n",
       "      <td>2.359351</td>\n",
       "      <td>-0.881762</td>\n",
       "      <td>1.299073</td>\n",
       "      <td>-0.862442</td>\n",
       "      <td>-1.428130</td>\n",
       "      <td>0.125193</td>\n",
       "      <td>2.119784</td>\n",
       "      <td>0.208655</td>\n",
       "      <td>1.847759</td>\n",
       "      <td>...</td>\n",
       "      <td>0.049020</td>\n",
       "      <td>-0.089940</td>\n",
       "      <td>0.059250</td>\n",
       "      <td>-0.013640</td>\n",
       "      <td>-0.083973</td>\n",
       "      <td>0.026002</td>\n",
       "      <td>0.036232</td>\n",
       "      <td>-0.042199</td>\n",
       "      <td>0.028986</td>\n",
       "      <td>-0.015772</td>\n",
       "    </tr>\n",
       "    <tr>\n",
       "      <th>25964</th>\n",
       "      <th>297</th>\n",
       "      <td>0.996909</td>\n",
       "      <td>0.415765</td>\n",
       "      <td>1.874034</td>\n",
       "      <td>-5.220247</td>\n",
       "      <td>2.927357</td>\n",
       "      <td>-0.311437</td>\n",
       "      <td>0.496909</td>\n",
       "      <td>0.372488</td>\n",
       "      <td>-0.341577</td>\n",
       "      <td>-0.565688</td>\n",
       "      <td>...</td>\n",
       "      <td>36.889172</td>\n",
       "      <td>21.105286</td>\n",
       "      <td>-4.421143</td>\n",
       "      <td>16.871696</td>\n",
       "      <td>-4.326940</td>\n",
       "      <td>-13.625319</td>\n",
       "      <td>9.957375</td>\n",
       "      <td>-13.389174</td>\n",
       "      <td>-17.123615</td>\n",
       "      <td>9.219522</td>\n",
       "    </tr>\n",
       "    <tr>\n",
       "      <th>25965</th>\n",
       "      <th>129</th>\n",
       "      <td>-0.097372</td>\n",
       "      <td>-0.860896</td>\n",
       "      <td>0.928903</td>\n",
       "      <td>0.750386</td>\n",
       "      <td>1.346986</td>\n",
       "      <td>-3.422720</td>\n",
       "      <td>0.983771</td>\n",
       "      <td>2.818393</td>\n",
       "      <td>-1.460587</td>\n",
       "      <td>-1.988408</td>\n",
       "      <td>...</td>\n",
       "      <td>2.394714</td>\n",
       "      <td>-0.677323</td>\n",
       "      <td>1.435209</td>\n",
       "      <td>-0.645780</td>\n",
       "      <td>-0.449275</td>\n",
       "      <td>0.271952</td>\n",
       "      <td>-0.262575</td>\n",
       "      <td>0.713129</td>\n",
       "      <td>-1.378517</td>\n",
       "      <td>1.802217</td>\n",
       "    </tr>\n",
       "    <tr>\n",
       "      <th>25966</th>\n",
       "      <th>170</th>\n",
       "      <td>-0.357032</td>\n",
       "      <td>-1.603555</td>\n",
       "      <td>-0.296754</td>\n",
       "      <td>0.273570</td>\n",
       "      <td>0.462133</td>\n",
       "      <td>0.244977</td>\n",
       "      <td>-0.341577</td>\n",
       "      <td>-0.229521</td>\n",
       "      <td>0.877125</td>\n",
       "      <td>-1.197063</td>\n",
       "      <td>...</td>\n",
       "      <td>14.010656</td>\n",
       "      <td>48.826939</td>\n",
       "      <td>25.958227</td>\n",
       "      <td>-7.077153</td>\n",
       "      <td>-12.375533</td>\n",
       "      <td>9.170076</td>\n",
       "      <td>6.789855</td>\n",
       "      <td>-15.287297</td>\n",
       "      <td>-10.659846</td>\n",
       "      <td>19.436914</td>\n",
       "    </tr>\n",
       "    <tr>\n",
       "      <th>25967</th>\n",
       "      <th>327</th>\n",
       "      <td>-0.313756</td>\n",
       "      <td>0.392581</td>\n",
       "      <td>-0.554096</td>\n",
       "      <td>0.070325</td>\n",
       "      <td>-0.258114</td>\n",
       "      <td>0.095054</td>\n",
       "      <td>0.387172</td>\n",
       "      <td>-0.824575</td>\n",
       "      <td>0.471406</td>\n",
       "      <td>-0.037094</td>\n",
       "      <td>...</td>\n",
       "      <td>0.909207</td>\n",
       "      <td>-0.830776</td>\n",
       "      <td>-1.007246</td>\n",
       "      <td>1.064365</td>\n",
       "      <td>0.639812</td>\n",
       "      <td>-0.914748</td>\n",
       "      <td>-0.515772</td>\n",
       "      <td>0.928389</td>\n",
       "      <td>0.211424</td>\n",
       "      <td>-1.561381</td>\n",
       "    </tr>\n",
       "  </tbody>\n",
       "</table>\n",
       "<p>25968 rows × 780 columns</p>\n",
       "</div>"
      ],
      "text/plain": [
       "                 sensor_00                                                    \\\n",
       "step                    0         1         2         3         4         5    \n",
       "sequence subject                                                               \n",
       "0        47      -0.196291 -0.447450  0.326893  0.523184  0.272025 -1.073416   \n",
       "1        66      -6.657650  1.633694  1.863215 -2.846213  0.593508  2.469861   \n",
       "2        66      -1.741886  3.402627 -0.632148  0.208655 -0.800618 -2.274343   \n",
       "3        542      0.264297 -1.808346  0.078825  1.037094 -0.189335 -1.302937   \n",
       "4        437      0.567233 -0.823802  1.476816 -1.710201 -0.408810  0.556414   \n",
       "...                    ...       ...       ...       ...       ...       ...   \n",
       "25963    558     -1.441267  2.359351 -0.881762  1.299073 -0.862442 -1.428130   \n",
       "25964    297      0.996909  0.415765  1.874034 -5.220247  2.927357 -0.311437   \n",
       "25965    129     -0.097372 -0.860896  0.928903  0.750386  1.346986 -3.422720   \n",
       "25966    170     -0.357032 -1.603555 -0.296754  0.273570  0.462133  0.244977   \n",
       "25967    327     -0.313756  0.392581 -0.554096  0.070325 -0.258114  0.095054   \n",
       "\n",
       "                                                          ...  sensor_12  \\\n",
       "step                    6         7         8         9   ...         50   \n",
       "sequence subject                                          ...              \n",
       "0        47       0.350850 -0.304482 -0.216383  0.303709  ...  -1.670077   \n",
       "1        66      -1.202473 -0.829212  1.091190 -0.334621  ...  -0.338022   \n",
       "2        66       2.009274 -0.563369 -0.050232  0.800618  ...  -0.172634   \n",
       "3        542      1.078825  2.257342 -2.283617 -2.759660  ...   0.145354   \n",
       "4        437      0.853168 -0.406491 -0.009274 -0.021638  ...   0.001705   \n",
       "...                    ...       ...       ...       ...  ...        ...   \n",
       "25963    558      0.125193  2.119784  0.208655  1.847759  ...   0.049020   \n",
       "25964    297      0.496909  0.372488 -0.341577 -0.565688  ...  36.889172   \n",
       "25965    129      0.983771  2.818393 -1.460587 -1.988408  ...   2.394714   \n",
       "25966    170     -0.341577 -0.229521  0.877125 -1.197063  ...  14.010656   \n",
       "25967    327      0.387172 -0.824575  0.471406 -0.037094  ...   0.909207   \n",
       "\n",
       "                                                                         \\\n",
       "step                     51         52         53         54         55   \n",
       "sequence subject                                                          \n",
       "0        47       -5.306479   3.621057   4.965047  -3.615089   0.791134   \n",
       "1        66        0.234868   0.030691   0.037511  -0.120205   0.056692   \n",
       "2        66        0.091645  -0.028986  -0.202472   0.332481  -0.013214   \n",
       "3        542      -0.045610  -0.098039  -0.049446   0.055840  -0.022165   \n",
       "4        437      -0.050725  -0.025149   0.106138  -0.098465  -0.040068   \n",
       "...                     ...        ...        ...        ...        ...   \n",
       "25963    558      -0.089940   0.059250  -0.013640  -0.083973   0.026002   \n",
       "25964    297      21.105286  -4.421143  16.871696  -4.326940 -13.625319   \n",
       "25965    129      -0.677323   1.435209  -0.645780  -0.449275   0.271952   \n",
       "25966    170      48.826939  25.958227  -7.077153 -12.375533   9.170076   \n",
       "25967    327      -0.830776  -1.007246   1.064365   0.639812  -0.914748   \n",
       "\n",
       "                                                             \n",
       "step                    56         57         58         59  \n",
       "sequence subject                                             \n",
       "0        47       5.887042  -7.211424 -26.738705 -50.658993  \n",
       "1        66       0.062234  -0.013640   0.098039  -0.115090  \n",
       "2        66       0.245524  -0.091219  -0.306905   0.046036  \n",
       "3        542      0.054135  -0.185422   0.311168  -0.166240  \n",
       "4        437      0.135976   0.121910  -0.059676  -0.087809  \n",
       "...                    ...        ...        ...        ...  \n",
       "25963    558      0.036232  -0.042199   0.028986  -0.015772  \n",
       "25964    297      9.957375 -13.389174 -17.123615   9.219522  \n",
       "25965    129     -0.262575   0.713129  -1.378517   1.802217  \n",
       "25966    170      6.789855 -15.287297 -10.659846  19.436914  \n",
       "25967    327     -0.515772   0.928389   0.211424  -1.561381  \n",
       "\n",
       "[25968 rows x 780 columns]"
      ]
     },
     "metadata": {},
     "output_type": "display_data"
    }
   ],
   "source": [
    "train = reduce_mem_usage(train)\n",
    "test = reduce_mem_usage(test)\n",
    "\n",
    "train_pivoted0 = train.pivot(index=['sequence', 'subject'], columns='step', values=sensors)\n",
    "display(train_pivoted0)"
   ]
  },
  {
   "cell_type": "markdown",
   "id": "29be03d7",
   "metadata": {
    "papermill": {
     "duration": 0.061128,
     "end_time": "2022-04-28T13:01:37.798226",
     "exception": false,
     "start_time": "2022-04-28T13:01:37.737098",
     "status": "completed"
    },
    "tags": []
   },
   "source": [
    "# Feature extraction with **tsflex**"
   ]
  },
  {
   "cell_type": "markdown",
   "id": "d151d6d2",
   "metadata": {
    "papermill": {
     "duration": 0.061109,
     "end_time": "2022-04-28T13:01:37.920414",
     "exception": false,
     "start_time": "2022-04-28T13:01:37.859305",
     "status": "completed"
    },
    "tags": []
   },
   "source": [
    "## Extract the same features as in [this notebook](https://www.kaggle.com/code/ambrosm/tpsapr22-best-model-without-nn)\n",
    "\n",
    "Let's keep it simple and calculate only the following features:\n",
    "- For every sensor, we calculate mean, standard deviation, interquartile range, standard deviation divided by mean, and kurtosis. This gives the first 5\\*13=65 features.\n",
    "- For the special sensor_02, we count how many times it goes up or down.\n",
    "- For sensor_02, we calculate the sum of all upward / downward steps, the maximum of all upward / downward steps, and the mean of all upward / downward steps. \n",
    "- For every subject, we count how many sequences belong to it, and we add this count as a feature to all sequences of the subject (the [EDA](https://www.kaggle.com/code/ambrosm/tpsapr22-eda-which-makes-sense) gives the motivation for this feature). \n",
    "\n",
    "Now we have 74 features. "
   ]
  },
  {
   "cell_type": "code",
   "execution_count": 8,
   "id": "be35e94e",
   "metadata": {
    "papermill": {
     "duration": 1.730156,
     "end_time": "2022-04-28T13:01:39.713117",
     "exception": false,
     "start_time": "2022-04-28T13:01:37.982961",
     "status": "completed"
    },
    "tags": []
   },
   "outputs": [
    {
     "name": "stdout",
     "output_type": "stream",
     "text": [
      "74\n"
     ]
    }
   ],
   "source": [
    "# Feature engineering\n",
    "def engineer(df):\n",
    "    new_df = pd.DataFrame([], index=df.index)\n",
    "    for sensor in sensors:\n",
    "        new_df[sensor + '_mean'] = df[sensor].mean(axis=1)\n",
    "        new_df[sensor + '_std'] = df[sensor].std(axis=1)\n",
    "        new_df[sensor + '_iqr'] = scipy.stats.iqr(df[sensor], axis=1)\n",
    "        new_df[sensor + '_sm'] = np.nan_to_num(new_df[sensor + '_std'] / \n",
    "                                               new_df[sensor + '_mean'].abs()).clip(-1e30, 1e30)\n",
    "        new_df[sensor + '_kurtosis'] = scipy.stats.kurtosis(df[sensor], axis=1)\n",
    "    new_df['sensor_02_up'] = (df.sensor_02.diff(axis=1) > 0).sum(axis=1)\n",
    "    new_df['sensor_02_down'] = (df.sensor_02.diff(axis=1) < 0).sum(axis=1)\n",
    "    new_df['sensor_02_upsum'] = df.sensor_02.diff(axis=1).clip(0, None).sum(axis=1)\n",
    "    new_df['sensor_02_downsum'] = df.sensor_02.diff(axis=1) .clip(None, 0).sum(axis=1)\n",
    "    new_df['sensor_02_upmax'] = df.sensor_02.diff(axis=1).max(axis=1)\n",
    "    new_df['sensor_02_downmax'] = df.sensor_02.diff(axis=1).min(axis=1)\n",
    "    new_df['sensor_02_upmean'] = np.nan_to_num(new_df['sensor_02_upsum'] / new_df['sensor_02_up'], posinf=40)\n",
    "    new_df['sensor_02_downmean'] = np.nan_to_num(new_df['sensor_02_downsum'] / new_df['sensor_02_down'], neginf=-40)\n",
    "    return new_df\n",
    "\n",
    "train_pivoted = engineer(train_pivoted0)\n",
    "\n",
    "train_shuffled = train_pivoted.sample(frac=1.0, random_state=1)\n",
    "labels_shuffled = train_labels.reindex(train_shuffled.index.get_level_values('sequence'))\n",
    "labels_shuffled = labels_shuffled[['state']].merge(train[['sequence', 'subject']].groupby('sequence').min(),\n",
    "                                                   how='left', on='sequence')\n",
    "labels_shuffled = labels_shuffled.merge(labels_shuffled.groupby('subject').size().rename('sequence_count'),\n",
    "                                        how='left', on='subject')\n",
    "train_shuffled['sequence_count_of_subject'] = labels_shuffled['sequence_count'].values\n",
    "\n",
    "selected_columns = train_shuffled.columns\n",
    "print(len(selected_columns))\n",
    "#train_shuffled.columns"
   ]
  },
  {
   "cell_type": "markdown",
   "id": "1604c5ad",
   "metadata": {
    "papermill": {
     "duration": 0.06913,
     "end_time": "2022-04-28T13:01:39.847343",
     "exception": false,
     "start_time": "2022-04-28T13:01:39.778213",
     "status": "completed"
    },
    "tags": []
   },
   "source": [
    "## Extract base features from seglearn"
   ]
  },
  {
   "cell_type": "code",
   "execution_count": 9,
   "id": "822e0c96",
   "metadata": {
    "papermill": {
     "duration": 71.61524,
     "end_time": "2022-04-28T13:02:51.526595",
     "exception": false,
     "start_time": "2022-04-28T13:01:39.911355",
     "status": "completed"
    },
    "tags": []
   },
   "outputs": [
    {
     "name": "stderr",
     "output_type": "stream",
     "text": [
      "100%|██████████| 143/143 [01:21<00:00,  1.74it/s]\n"
     ]
    }
   ],
   "source": [
    "basic_feats = MultipleFeatureDescriptors(\n",
    "        functions=seglearn_feature_dict_wrapper(base_features()),\n",
    "        series_names=sensors,\n",
    "        windows=60,\n",
    "        strides=60,\n",
    "    )\n",
    "\n",
    "fc_seglearn = FeatureCollection(basic_feats)\n",
    "\n",
    "df_feats = fc_seglearn.calculate(train, show_progress=True, return_df=True, window_idx=\"begin\")\n",
    "df_feats.index = train['sequence'].unique()"
   ]
  },
  {
   "cell_type": "code",
   "execution_count": 10,
   "id": "959ec399",
   "metadata": {
    "papermill": {
     "duration": 0.390187,
     "end_time": "2022-04-28T13:02:51.980613",
     "exception": false,
     "start_time": "2022-04-28T13:02:51.590426",
     "status": "completed"
    },
    "tags": []
   },
   "outputs": [],
   "source": [
    "train_shuffled = train_shuffled.reset_index().merge(df_feats, left_on='sequence', right_index=True)\n",
    "train_shuffled = train_shuffled.set_index(['sequence', 'subject'])"
   ]
  },
  {
   "cell_type": "markdown",
   "id": "48b318d8",
   "metadata": {
    "papermill": {
     "duration": 0.064584,
     "end_time": "2022-04-28T13:02:52.107234",
     "exception": false,
     "start_time": "2022-04-28T13:02:52.042650",
     "status": "completed"
    },
    "tags": []
   },
   "source": [
    "## Load extracted & selected tsfresh features"
   ]
  },
  {
   "cell_type": "markdown",
   "id": "f8387c30",
   "metadata": {
    "papermill": {
     "duration": 0.061774,
     "end_time": "2022-04-28T13:02:52.233352",
     "exception": false,
     "start_time": "2022-04-28T13:02:52.171578",
     "status": "completed"
    },
    "tags": []
   },
   "source": [
    "The selection of these features were performed locally using `powershap`"
   ]
  },
  {
   "cell_type": "code",
   "execution_count": 11,
   "id": "4a911e33",
   "metadata": {
    "papermill": {
     "duration": 0.165074,
     "end_time": "2022-04-28T13:02:52.461189",
     "exception": false,
     "start_time": "2022-04-28T13:02:52.296115",
     "status": "completed"
    },
    "tags": []
   },
   "outputs": [],
   "source": [
    "# create the tsfresh feature extractor\n",
    "settings = ComprehensiveFCParameters()  # all the tsfresh features\n",
    "del settings[\"linear_trend_timewise\"]  # requires a time-index\n",
    "\n",
    "fc_tsfresh = FeatureCollection(\n",
    "    MultipleFeatureDescriptors(\n",
    "        functions=tsfresh_settings_wrapper(settings),\n",
    "        series_names=sensors,\n",
    "        windows=60,\n",
    "        strides=60\n",
    "    )\n",
    ")"
   ]
  },
  {
   "cell_type": "code",
   "execution_count": 12,
   "id": "abacb5a8",
   "metadata": {
    "papermill": {
     "duration": 17.732553,
     "end_time": "2022-04-28T13:03:10.256122",
     "exception": false,
     "start_time": "2022-04-28T13:02:52.523569",
     "status": "completed"
    },
    "tags": []
   },
   "outputs": [
    {
     "ename": "FileNotFoundError",
     "evalue": "[Errno 2] No such file or directory: '../input/tsflex-x-tsfresh-feature-extraction/tsfresh_feats_train.parquet'",
     "output_type": "error",
     "traceback": [
      "\u001b[1;31m---------------------------------------------------------------------------\u001b[0m",
      "\u001b[1;31mFileNotFoundError\u001b[0m                         Traceback (most recent call last)",
      "Input \u001b[1;32mIn [12]\u001b[0m, in \u001b[0;36m<cell line: 117>\u001b[1;34m()\u001b[0m\n\u001b[0;32m      1\u001b[0m tsfresh_selected_cols \u001b[38;5;241m=\u001b[39m [\u001b[38;5;124m\"\u001b[39m\u001b[38;5;124msensor_00__ar_coefficient_\u001b[39m\u001b[38;5;124m{\u001b[39m\u001b[38;5;124m'\u001b[39m\u001b[38;5;124mcoeff\u001b[39m\u001b[38;5;124m'\u001b[39m\u001b[38;5;124m: 0, \u001b[39m\u001b[38;5;124m'\u001b[39m\u001b[38;5;124mk\u001b[39m\u001b[38;5;124m'\u001b[39m\u001b[38;5;124m: 10}__w=60_s=60\u001b[39m\u001b[38;5;124m\"\u001b[39m,\n\u001b[0;32m      2\u001b[0m        \u001b[38;5;124m\"\u001b[39m\u001b[38;5;124msensor_00__ar_coefficient_\u001b[39m\u001b[38;5;124m{\u001b[39m\u001b[38;5;124m'\u001b[39m\u001b[38;5;124mcoeff\u001b[39m\u001b[38;5;124m'\u001b[39m\u001b[38;5;124m: 3, \u001b[39m\u001b[38;5;124m'\u001b[39m\u001b[38;5;124mk\u001b[39m\u001b[38;5;124m'\u001b[39m\u001b[38;5;124m: 10}__w=60_s=60\u001b[39m\u001b[38;5;124m\"\u001b[39m,\n\u001b[0;32m      3\u001b[0m        \u001b[38;5;124m\"\u001b[39m\u001b[38;5;124msensor_00__ar_coefficient_\u001b[39m\u001b[38;5;124m{\u001b[39m\u001b[38;5;124m'\u001b[39m\u001b[38;5;124mcoeff\u001b[39m\u001b[38;5;124m'\u001b[39m\u001b[38;5;124m: 4, \u001b[39m\u001b[38;5;124m'\u001b[39m\u001b[38;5;124mk\u001b[39m\u001b[38;5;124m'\u001b[39m\u001b[38;5;124m: 10}__w=60_s=60\u001b[39m\u001b[38;5;124m\"\u001b[39m,\n\u001b[1;32m   (...)\u001b[0m\n\u001b[0;32m    113\u001b[0m        \u001b[38;5;124m\"\u001b[39m\u001b[38;5;124msensor_12__partial_autocorrelation_\u001b[39m\u001b[38;5;124m{\u001b[39m\u001b[38;5;124m'\u001b[39m\u001b[38;5;124mlag\u001b[39m\u001b[38;5;124m'\u001b[39m\u001b[38;5;124m: 3}__w=60_s=60\u001b[39m\u001b[38;5;124m\"\u001b[39m,\n\u001b[0;32m    114\u001b[0m        \u001b[38;5;124m\"\u001b[39m\u001b[38;5;124msensor_12__ratio_beyond_r_sigma_\u001b[39m\u001b[38;5;124m{\u001b[39m\u001b[38;5;124m'\u001b[39m\u001b[38;5;124mr\u001b[39m\u001b[38;5;124m'\u001b[39m\u001b[38;5;124m: 2}__w=60_s=60\u001b[39m\u001b[38;5;124m\"\u001b[39m]\n\u001b[1;32m--> 117\u001b[0m df_feats_tsfresh \u001b[38;5;241m=\u001b[39m \u001b[43mpd\u001b[49m\u001b[38;5;241;43m.\u001b[39;49m\u001b[43mread_parquet\u001b[49m\u001b[43m(\u001b[49m\u001b[38;5;124;43m'\u001b[39;49m\u001b[38;5;124;43m../input/tsflex-x-tsfresh-feature-extraction/tsfresh_feats_train.parquet\u001b[39;49m\u001b[38;5;124;43m'\u001b[39;49m\u001b[43m)\u001b[49m[tsfresh_selected_cols]\n\u001b[0;32m    118\u001b[0m df_feats_tsfresh\u001b[38;5;241m.\u001b[39mindex \u001b[38;5;241m=\u001b[39m train[\u001b[38;5;124m'\u001b[39m\u001b[38;5;124msequence\u001b[39m\u001b[38;5;124m'\u001b[39m]\u001b[38;5;241m.\u001b[39munique()\n",
      "File \u001b[1;32m~\\AppData\\Roaming\\Python\\Python39\\site-packages\\pandas\\io\\parquet.py:495\u001b[0m, in \u001b[0;36mread_parquet\u001b[1;34m(path, engine, columns, storage_options, use_nullable_dtypes, **kwargs)\u001b[0m\n\u001b[0;32m    442\u001b[0m \u001b[38;5;124;03m\"\"\"\u001b[39;00m\n\u001b[0;32m    443\u001b[0m \u001b[38;5;124;03mLoad a parquet object from the file path, returning a DataFrame.\u001b[39;00m\n\u001b[0;32m    444\u001b[0m \n\u001b[1;32m   (...)\u001b[0m\n\u001b[0;32m    491\u001b[0m \u001b[38;5;124;03mDataFrame\u001b[39;00m\n\u001b[0;32m    492\u001b[0m \u001b[38;5;124;03m\"\"\"\u001b[39;00m\n\u001b[0;32m    493\u001b[0m impl \u001b[38;5;241m=\u001b[39m get_engine(engine)\n\u001b[1;32m--> 495\u001b[0m \u001b[38;5;28;01mreturn\u001b[39;00m impl\u001b[38;5;241m.\u001b[39mread(\n\u001b[0;32m    496\u001b[0m     path,\n\u001b[0;32m    497\u001b[0m     columns\u001b[38;5;241m=\u001b[39mcolumns,\n\u001b[0;32m    498\u001b[0m     storage_options\u001b[38;5;241m=\u001b[39mstorage_options,\n\u001b[0;32m    499\u001b[0m     use_nullable_dtypes\u001b[38;5;241m=\u001b[39muse_nullable_dtypes,\n\u001b[0;32m    500\u001b[0m     \u001b[38;5;241m*\u001b[39m\u001b[38;5;241m*\u001b[39mkwargs,\n\u001b[0;32m    501\u001b[0m )\n",
      "File \u001b[1;32m~\\AppData\\Roaming\\Python\\Python39\\site-packages\\pandas\\io\\parquet.py:339\u001b[0m, in \u001b[0;36mFastParquetImpl.read\u001b[1;34m(self, path, columns, storage_options, **kwargs)\u001b[0m\n\u001b[0;32m    332\u001b[0m         parquet_kwargs[\u001b[38;5;124m\"\u001b[39m\u001b[38;5;124mopen_with\u001b[39m\u001b[38;5;124m\"\u001b[39m] \u001b[38;5;241m=\u001b[39m \u001b[38;5;28;01mlambda\u001b[39;00m path, _: fsspec\u001b[38;5;241m.\u001b[39mopen(\n\u001b[0;32m    333\u001b[0m             path, \u001b[38;5;124m\"\u001b[39m\u001b[38;5;124mrb\u001b[39m\u001b[38;5;124m\"\u001b[39m, \u001b[38;5;241m*\u001b[39m\u001b[38;5;241m*\u001b[39m(storage_options \u001b[38;5;129;01mor\u001b[39;00m {})\n\u001b[0;32m    334\u001b[0m         )\u001b[38;5;241m.\u001b[39mopen()\n\u001b[0;32m    335\u001b[0m \u001b[38;5;28;01melif\u001b[39;00m \u001b[38;5;28misinstance\u001b[39m(path, \u001b[38;5;28mstr\u001b[39m) \u001b[38;5;129;01mand\u001b[39;00m \u001b[38;5;129;01mnot\u001b[39;00m os\u001b[38;5;241m.\u001b[39mpath\u001b[38;5;241m.\u001b[39misdir(path):\n\u001b[0;32m    336\u001b[0m     \u001b[38;5;66;03m# use get_handle only when we are very certain that it is not a directory\u001b[39;00m\n\u001b[0;32m    337\u001b[0m     \u001b[38;5;66;03m# fsspec resources can also point to directories\u001b[39;00m\n\u001b[0;32m    338\u001b[0m     \u001b[38;5;66;03m# this branch is used for example when reading from non-fsspec URLs\u001b[39;00m\n\u001b[1;32m--> 339\u001b[0m     handles \u001b[38;5;241m=\u001b[39m \u001b[43mget_handle\u001b[49m\u001b[43m(\u001b[49m\n\u001b[0;32m    340\u001b[0m \u001b[43m        \u001b[49m\u001b[43mpath\u001b[49m\u001b[43m,\u001b[49m\u001b[43m \u001b[49m\u001b[38;5;124;43m\"\u001b[39;49m\u001b[38;5;124;43mrb\u001b[39;49m\u001b[38;5;124;43m\"\u001b[39;49m\u001b[43m,\u001b[49m\u001b[43m \u001b[49m\u001b[43mis_text\u001b[49m\u001b[38;5;241;43m=\u001b[39;49m\u001b[38;5;28;43;01mFalse\u001b[39;49;00m\u001b[43m,\u001b[49m\u001b[43m \u001b[49m\u001b[43mstorage_options\u001b[49m\u001b[38;5;241;43m=\u001b[39;49m\u001b[43mstorage_options\u001b[49m\n\u001b[0;32m    341\u001b[0m \u001b[43m    \u001b[49m\u001b[43m)\u001b[49m\n\u001b[0;32m    342\u001b[0m     path \u001b[38;5;241m=\u001b[39m handles\u001b[38;5;241m.\u001b[39mhandle\n\u001b[0;32m    344\u001b[0m parquet_file \u001b[38;5;241m=\u001b[39m \u001b[38;5;28mself\u001b[39m\u001b[38;5;241m.\u001b[39mapi\u001b[38;5;241m.\u001b[39mParquetFile(path, \u001b[38;5;241m*\u001b[39m\u001b[38;5;241m*\u001b[39mparquet_kwargs)\n",
      "File \u001b[1;32m~\\AppData\\Roaming\\Python\\Python39\\site-packages\\pandas\\io\\common.py:711\u001b[0m, in \u001b[0;36mget_handle\u001b[1;34m(path_or_buf, mode, encoding, compression, memory_map, is_text, errors, storage_options)\u001b[0m\n\u001b[0;32m    702\u001b[0m         handle \u001b[38;5;241m=\u001b[39m \u001b[38;5;28mopen\u001b[39m(\n\u001b[0;32m    703\u001b[0m             handle,\n\u001b[0;32m    704\u001b[0m             ioargs\u001b[38;5;241m.\u001b[39mmode,\n\u001b[1;32m   (...)\u001b[0m\n\u001b[0;32m    707\u001b[0m             newline\u001b[38;5;241m=\u001b[39m\u001b[38;5;124m\"\u001b[39m\u001b[38;5;124m\"\u001b[39m,\n\u001b[0;32m    708\u001b[0m         )\n\u001b[0;32m    709\u001b[0m     \u001b[38;5;28;01melse\u001b[39;00m:\n\u001b[0;32m    710\u001b[0m         \u001b[38;5;66;03m# Binary mode\u001b[39;00m\n\u001b[1;32m--> 711\u001b[0m         handle \u001b[38;5;241m=\u001b[39m \u001b[38;5;28;43mopen\u001b[39;49m\u001b[43m(\u001b[49m\u001b[43mhandle\u001b[49m\u001b[43m,\u001b[49m\u001b[43m \u001b[49m\u001b[43mioargs\u001b[49m\u001b[38;5;241;43m.\u001b[39;49m\u001b[43mmode\u001b[49m\u001b[43m)\u001b[49m\n\u001b[0;32m    712\u001b[0m     handles\u001b[38;5;241m.\u001b[39mappend(handle)\n\u001b[0;32m    714\u001b[0m \u001b[38;5;66;03m# Convert BytesIO or file objects passed with an encoding\u001b[39;00m\n",
      "\u001b[1;31mFileNotFoundError\u001b[0m: [Errno 2] No such file or directory: '../input/tsflex-x-tsfresh-feature-extraction/tsfresh_feats_train.parquet'"
     ]
    }
   ],
   "source": [
    "tsfresh_selected_cols = [\"sensor_00__ar_coefficient_{'coeff': 0, 'k': 10}__w=60_s=60\",\n",
    "       \"sensor_00__ar_coefficient_{'coeff': 3, 'k': 10}__w=60_s=60\",\n",
    "       \"sensor_00__ar_coefficient_{'coeff': 4, 'k': 10}__w=60_s=60\",\n",
    "       \"sensor_00__augmented_dickey_fuller_{'attr': 'usedlag'}__w=60_s=60\",\n",
    "       \"sensor_01__ar_coefficient_{'coeff': 0, 'k': 10}__w=60_s=60\",\n",
    "       \"sensor_01__ar_coefficient_{'coeff': 1, 'k': 10}__w=60_s=60\",\n",
    "       \"sensor_01__ar_coefficient_{'coeff': 2, 'k': 10}__w=60_s=60\",\n",
    "       \"sensor_01__ar_coefficient_{'coeff': 3, 'k': 10}__w=60_s=60\",\n",
    "       \"sensor_01__ar_coefficient_{'coeff': 4, 'k': 10}__w=60_s=60\",\n",
    "       \"sensor_01__ar_coefficient_{'coeff': 6, 'k': 10}__w=60_s=60\",\n",
    "       \"sensor_01__cwt_coefficients_{'widths': (2, 5, 10, 20), 'coeff': 10, 'w': 10}__w=60_s=60\",\n",
    "       \"sensor_01__fft_coefficient_{'coeff': 1, 'attr': 'imag'}__w=60_s=60\",\n",
    "       \"sensor_01__spkt_welch_density_{'coeff': 2}__w=60_s=60\",\n",
    "       \"sensor_02__agg_linear_trend_{'attr': 'intercept', 'chunk_len': 10, 'f_agg': 'var'}__w=60_s=60\",\n",
    "       \"sensor_02__agg_linear_trend_{'attr': 'slope', 'chunk_len': 10, 'f_agg': 'var'}__w=60_s=60\",\n",
    "       \"sensor_02__agg_linear_trend_{'attr': 'stderr', 'chunk_len': 5, 'f_agg': 'var'}__w=60_s=60\",\n",
    "       \"sensor_02__change_quantiles_{'ql': 0.0, 'qh': 1.0, 'isabs': True, 'f_agg': 'mean'}__w=60_s=60\",\n",
    "       \"sensor_02__change_quantiles_{'ql': 0.0, 'qh': 1.0, 'isabs': True, 'f_agg': 'var'}__w=60_s=60\",\n",
    "       \"sensor_02__change_quantiles_{'ql': 0.2, 'qh': 0.6, 'isabs': False, 'f_agg': 'mean'}__w=60_s=60\",\n",
    "       \"sensor_02__change_quantiles_{'ql': 0.2, 'qh': 1.0, 'isabs': True, 'f_agg': 'mean'}__w=60_s=60\",\n",
    "       \"sensor_02__change_quantiles_{'ql': 0.6, 'qh': 1.0, 'isabs': False, 'f_agg': 'mean'}__w=60_s=60\",\n",
    "       \"sensor_02__change_quantiles_{'ql': 0.8, 'qh': 1.0, 'isabs': False, 'f_agg': 'mean'}__w=60_s=60\",\n",
    "       \"sensor_02__change_quantiles_{'ql': 0.8, 'qh': 1.0, 'isabs': True, 'f_agg': 'var'}__w=60_s=60\",\n",
    "       \"sensor_02__cid_ce_{'normalize': True}__w=60_s=60\",\n",
    "       'sensor_02__mean_abs_change__w=60_s=60',\n",
    "       \"sensor_02__number_peaks_{'n': 1}__w=60_s=60\",\n",
    "       \"sensor_02__partial_autocorrelation_{'lag': 2}__w=60_s=60\",\n",
    "       \"sensor_03__ar_coefficient_{'coeff': 0, 'k': 10}__w=60_s=60\",\n",
    "       \"sensor_03__ar_coefficient_{'coeff': 5, 'k': 10}__w=60_s=60\",\n",
    "       \"sensor_04__agg_autocorrelation_{'f_agg': 'var', 'maxlag': 40}__w=60_s=60\",\n",
    "       \"sensor_04__agg_linear_trend_{'attr': 'rvalue', 'chunk_len': 10, 'f_agg': 'min'}__w=60_s=60\",\n",
    "       \"sensor_04__agg_linear_trend_{'attr': 'rvalue', 'chunk_len': 10, 'f_agg': 'var'}__w=60_s=60\",\n",
    "       \"sensor_04__agg_linear_trend_{'attr': 'rvalue', 'chunk_len': 5, 'f_agg': 'min'}__w=60_s=60\",\n",
    "       \"sensor_04__approximate_entropy_{'m': 2, 'r': 0.5}__w=60_s=60\",\n",
    "       \"sensor_04__ar_coefficient_{'coeff': 0, 'k': 10}__w=60_s=60\",\n",
    "       \"sensor_04__ar_coefficient_{'coeff': 10, 'k': 10}__w=60_s=60\",\n",
    "       \"sensor_04__ar_coefficient_{'coeff': 2, 'k': 10}__w=60_s=60\",\n",
    "       \"sensor_04__ar_coefficient_{'coeff': 4, 'k': 10}__w=60_s=60\",\n",
    "       \"sensor_04__augmented_dickey_fuller_{'attr': 'usedlag'}__w=60_s=60\",\n",
    "       \"sensor_04__autocorrelation_{'lag': 7}__w=60_s=60\",\n",
    "       \"sensor_04__cid_ce_{'normalize': True}__w=60_s=60\",\n",
    "       \"sensor_04__energy_ratio_by_chunks_{'num_segments': 10, 'segment_focus': 0}__w=60_s=60\",\n",
    "       \"sensor_04__energy_ratio_by_chunks_{'num_segments': 10, 'segment_focus': 2}__w=60_s=60\",\n",
    "       \"sensor_04__energy_ratio_by_chunks_{'num_segments': 10, 'segment_focus': 3}__w=60_s=60\",\n",
    "       \"sensor_04__energy_ratio_by_chunks_{'num_segments': 10, 'segment_focus': 4}__w=60_s=60\",\n",
    "       \"sensor_04__energy_ratio_by_chunks_{'num_segments': 10, 'segment_focus': 5}__w=60_s=60\",\n",
    "       \"sensor_04__energy_ratio_by_chunks_{'num_segments': 10, 'segment_focus': 6}__w=60_s=60\",\n",
    "       \"sensor_04__energy_ratio_by_chunks_{'num_segments': 10, 'segment_focus': 7}__w=60_s=60\",\n",
    "       \"sensor_04__energy_ratio_by_chunks_{'num_segments': 10, 'segment_focus': 9}__w=60_s=60\",\n",
    "       \"sensor_04__fft_aggregated_{'aggtype': 'kurtosis'}__w=60_s=60\",\n",
    "       \"sensor_04__fft_aggregated_{'aggtype': 'skew'}__w=60_s=60\",\n",
    "       \"sensor_04__fft_coefficient_{'coeff': 3, 'attr': 'abs'}__w=60_s=60\",\n",
    "       \"sensor_04__fourier_entropy_{'bins': 100}__w=60_s=60\",\n",
    "       \"sensor_04__friedrich_coefficients_{'coeff': 1, 'm': 3, 'r': 30}__w=60_s=60\",\n",
    "       \"sensor_04__friedrich_coefficients_{'coeff': 3, 'm': 3, 'r': 30}__w=60_s=60\",\n",
    "       \"sensor_04__index_mass_quantile_{'q': 0.2}__w=60_s=60\",\n",
    "       'sensor_04__kurtosis__w=60_s=60',\n",
    "       \"sensor_04__large_standard_deviation_{'r': 0.25}__w=60_s=60\",\n",
    "       'sensor_04__longest_strike_above_mean__w=60_s=60',\n",
    "       \"sensor_04__number_peaks_{'n': 10}__w=60_s=60\",\n",
    "       \"sensor_04__number_peaks_{'n': 5}__w=60_s=60\",\n",
    "       \"sensor_04__ratio_beyond_r_sigma_{'r': 0.5}__w=60_s=60\",\n",
    "       \"sensor_04__ratio_beyond_r_sigma_{'r': 1}__w=60_s=60\",\n",
    "       \"sensor_04__ratio_beyond_r_sigma_{'r': 2}__w=60_s=60\",\n",
    "       \"sensor_04__spkt_welch_density_{'coeff': 2}__w=60_s=60\",\n",
    "       \"sensor_04__time_reversal_asymmetry_statistic_{'lag': 2}__w=60_s=60\",\n",
    "       \"sensor_05__ar_coefficient_{'coeff': 0, 'k': 10}__w=60_s=60\",\n",
    "       \"sensor_05__ar_coefficient_{'coeff': 2, 'k': 10}__w=60_s=60\",\n",
    "       \"sensor_05__fft_coefficient_{'coeff': 0, 'attr': 'abs'}__w=60_s=60\",\n",
    "       \"sensor_05__fft_coefficient_{'coeff': 4, 'attr': 'abs'}__w=60_s=60\",\n",
    "       \"sensor_06__ar_coefficient_{'coeff': 0, 'k': 10}__w=60_s=60\",\n",
    "       \"sensor_06__fft_coefficient_{'coeff': 1, 'attr': 'imag'}__w=60_s=60\",\n",
    "       \"sensor_06__spkt_welch_density_{'coeff': 2}__w=60_s=60\",\n",
    "       \"sensor_07__ar_coefficient_{'coeff': 0, 'k': 10}__w=60_s=60\",\n",
    "       \"sensor_07__ar_coefficient_{'coeff': 5, 'k': 10}__w=60_s=60\",\n",
    "       'sensor_07__skewness__w=60_s=60',\n",
    "       \"sensor_07__spkt_welch_density_{'coeff': 2}__w=60_s=60\",\n",
    "       \"sensor_09__ar_coefficient_{'coeff': 0, 'k': 10}__w=60_s=60\",\n",
    "       \"sensor_09__ar_coefficient_{'coeff': 5, 'k': 10}__w=60_s=60\",\n",
    "       \"sensor_09__augmented_dickey_fuller_{'attr': 'usedlag'}__w=60_s=60\",\n",
    "       \"sensor_09__fft_coefficient_{'coeff': 1, 'attr': 'imag'}__w=60_s=60\",\n",
    "       \"sensor_09__spkt_welch_density_{'coeff': 2}__w=60_s=60\",\n",
    "       \"sensor_10__ar_coefficient_{'coeff': 0, 'k': 10}__w=60_s=60\",\n",
    "       \"sensor_10__ar_coefficient_{'coeff': 10, 'k': 10}__w=60_s=60\",\n",
    "       \"sensor_10__augmented_dickey_fuller_{'attr': 'usedlag'}__w=60_s=60\",\n",
    "       \"sensor_10__autocorrelation_{'lag': 2}__w=60_s=60\",\n",
    "       \"sensor_10__autocorrelation_{'lag': 5}__w=60_s=60\",\n",
    "       \"sensor_10__cid_ce_{'normalize': True}__w=60_s=60\",\n",
    "       \"sensor_10__energy_ratio_by_chunks_{'num_segments': 10, 'segment_focus': 1}__w=60_s=60\",\n",
    "       \"sensor_10__energy_ratio_by_chunks_{'num_segments': 10, 'segment_focus': 3}__w=60_s=60\",\n",
    "       \"sensor_10__fft_coefficient_{'coeff': 3, 'attr': 'abs'}__w=60_s=60\",\n",
    "       \"sensor_10__fft_coefficient_{'coeff': 4, 'attr': 'abs'}__w=60_s=60\",\n",
    "       \"sensor_10__fft_coefficient_{'coeff': 6, 'attr': 'abs'}__w=60_s=60\",\n",
    "       \"sensor_10__fourier_entropy_{'bins': 100}__w=60_s=60\",\n",
    "       'sensor_10__kurtosis__w=60_s=60',\n",
    "       \"sensor_10__linear_trend_{'attr': 'pvalue'}__w=60_s=60\",\n",
    "       \"sensor_10__partial_autocorrelation_{'lag': 3}__w=60_s=60\",\n",
    "       \"sensor_10__partial_autocorrelation_{'lag': 4}__w=60_s=60\",\n",
    "       \"sensor_10__spkt_welch_density_{'coeff': 2}__w=60_s=60\",\n",
    "       \"sensor_11__ar_coefficient_{'coeff': 0, 'k': 10}__w=60_s=60\",\n",
    "       \"sensor_11__ar_coefficient_{'coeff': 1, 'k': 10}__w=60_s=60\",\n",
    "       \"sensor_12__ar_coefficient_{'coeff': 0, 'k': 10}__w=60_s=60\",\n",
    "       \"sensor_12__ar_coefficient_{'coeff': 1, 'k': 10}__w=60_s=60\",\n",
    "       \"sensor_12__ar_coefficient_{'coeff': 10, 'k': 10}__w=60_s=60\",\n",
    "       \"sensor_12__ar_coefficient_{'coeff': 2, 'k': 10}__w=60_s=60\",\n",
    "       \"sensor_12__augmented_dickey_fuller_{'attr': 'usedlag'}__w=60_s=60\",\n",
    "       \"sensor_12__autocorrelation_{'lag': 2}__w=60_s=60\",\n",
    "       \"sensor_12__change_quantiles_{'ql': 0.4, 'qh': 0.6, 'isabs': True, 'f_agg': 'mean'}__w=60_s=60\",\n",
    "       \"sensor_12__change_quantiles_{'ql': 0.8, 'qh': 1.0, 'isabs': True, 'f_agg': 'mean'}__w=60_s=60\",\n",
    "       \"sensor_12__fft_aggregated_{'aggtype': 'skew'}__w=60_s=60\",\n",
    "       \"sensor_12__fft_coefficient_{'coeff': 0, 'attr': 'abs'}__w=60_s=60\",\n",
    "       \"sensor_12__fourier_entropy_{'bins': 100}__w=60_s=60\",\n",
    "       \"sensor_12__partial_autocorrelation_{'lag': 3}__w=60_s=60\",\n",
    "       \"sensor_12__ratio_beyond_r_sigma_{'r': 2}__w=60_s=60\"]\n",
    "\n",
    "\n",
    "df_feats_tsfresh = pd.read_parquet('../input/tsflex-x-tsfresh-feature-extraction/tsfresh_feats_train.parquet')[tsfresh_selected_cols]\n",
    "df_feats_tsfresh.index = train['sequence'].unique()"
   ]
  },
  {
   "cell_type": "code",
   "execution_count": 12,
   "id": "8080342a",
   "metadata": {
    "execution": {
     "iopub.execute_input": "2022-04-28T13:03:10.382208Z",
     "iopub.status.busy": "2022-04-28T13:03:10.381917Z",
     "iopub.status.idle": "2022-04-28T13:03:10.394628Z",
     "shell.execute_reply": "2022-04-28T13:03:10.393495Z"
    },
    "papermill": {
     "duration": 0.07823,
     "end_time": "2022-04-28T13:03:10.396724",
     "exception": false,
     "start_time": "2022-04-28T13:03:10.318494",
     "status": "completed"
    },
    "tags": []
   },
   "outputs": [
    {
     "name": "stdout",
     "output_type": "stream",
     "text": [
      "[]\n"
     ]
    }
   ],
   "source": [
    "already_included = list(set(train_shuffled.columns).intersection(df_feats_tsfresh.columns))\n",
    "print(already_included)\n",
    "df_feats_tsfresh = df_feats_tsfresh.drop(columns=already_included)"
   ]
  },
  {
   "cell_type": "code",
   "execution_count": 13,
   "id": "4c5794d5",
   "metadata": {
    "execution": {
     "iopub.execute_input": "2022-04-28T13:03:10.535212Z",
     "iopub.status.busy": "2022-04-28T13:03:10.533527Z",
     "iopub.status.idle": "2022-04-28T13:03:11.182091Z",
     "shell.execute_reply": "2022-04-28T13:03:11.180581Z"
    },
    "papermill": {
     "duration": 0.725781,
     "end_time": "2022-04-28T13:03:11.184958",
     "exception": false,
     "start_time": "2022-04-28T13:03:10.459177",
     "status": "completed"
    },
    "tags": []
   },
   "outputs": [],
   "source": [
    "train_shuffled = train_shuffled.reset_index().merge(df_feats_tsfresh, left_on='sequence', right_index=True)\n",
    "train_shuffled = train_shuffled.set_index(['sequence', 'subject'])"
   ]
  },
  {
   "cell_type": "markdown",
   "id": "d93d8d1e",
   "metadata": {
    "papermill": {
     "duration": 0.085966,
     "end_time": "2022-04-28T13:03:11.341942",
     "exception": false,
     "start_time": "2022-04-28T13:03:11.255976",
     "status": "completed"
    },
    "tags": []
   },
   "source": [
    "## Extract antropy features"
   ]
  },
  {
   "cell_type": "code",
   "execution_count": 14,
   "id": "a5580d7f",
   "metadata": {
    "execution": {
     "iopub.execute_input": "2022-04-28T13:03:11.497329Z",
     "iopub.status.busy": "2022-04-28T13:03:11.496029Z",
     "iopub.status.idle": "2022-04-28T13:03:41.672710Z",
     "shell.execute_reply": "2022-04-28T13:03:41.671710Z"
    },
    "papermill": {
     "duration": 30.258295,
     "end_time": "2022-04-28T13:03:41.675062",
     "exception": false,
     "start_time": "2022-04-28T13:03:11.416767",
     "status": "completed"
    },
    "tags": []
   },
   "outputs": [
    {
     "data": {
      "application/vnd.jupyter.widget-view+json": {
       "model_id": "19b8768845c1453cb5e3f605a296b13e",
       "version_major": 2,
       "version_minor": 0
      },
      "text/plain": [
       "  0%|          | 0/65 [00:00<?, ?it/s]"
      ]
     },
     "metadata": {},
     "output_type": "display_data"
    }
   ],
   "source": [
    "time_funcs = [\n",
    "    ant.svd_entropy, ant.perm_entropy, ant.katz_fd, ant.higuchi_fd, ant.petrosian_fd\n",
    "]\n",
    "\n",
    "fc_antropy = FeatureCollection(\n",
    "    MultipleFeatureDescriptors(\n",
    "        functions=time_funcs,\n",
    "        series_names=sensors,\n",
    "        windows=60,\n",
    "        strides=60\n",
    "    )\n",
    ")\n",
    "\n",
    "df_feats_antropy = fc_antropy.calculate(train.astype(np.float32), return_df=True, show_progress=True)\n",
    "df_feats_antropy.index = train['sequence'].unique()"
   ]
  },
  {
   "cell_type": "code",
   "execution_count": 15,
   "id": "f0d7b4cd",
   "metadata": {
    "execution": {
     "iopub.execute_input": "2022-04-28T13:03:41.803539Z",
     "iopub.status.busy": "2022-04-28T13:03:41.803228Z",
     "iopub.status.idle": "2022-04-28T13:03:41.812909Z",
     "shell.execute_reply": "2022-04-28T13:03:41.811810Z"
    },
    "papermill": {
     "duration": 0.076684,
     "end_time": "2022-04-28T13:03:41.814780",
     "exception": false,
     "start_time": "2022-04-28T13:03:41.738096",
     "status": "completed"
    },
    "tags": []
   },
   "outputs": [
    {
     "name": "stdout",
     "output_type": "stream",
     "text": [
      "[]\n"
     ]
    }
   ],
   "source": [
    "already_included = list(set(train_shuffled.columns).intersection(df_feats_antropy.columns))\n",
    "print(already_included)\n",
    "df_feats_antropy = df_feats_antropy.drop(columns=already_included)"
   ]
  },
  {
   "cell_type": "code",
   "execution_count": 16,
   "id": "9932de99",
   "metadata": {
    "execution": {
     "iopub.execute_input": "2022-04-28T13:03:41.944045Z",
     "iopub.status.busy": "2022-04-28T13:03:41.943743Z",
     "iopub.status.idle": "2022-04-28T13:03:42.663620Z",
     "shell.execute_reply": "2022-04-28T13:03:42.662609Z"
    },
    "papermill": {
     "duration": 0.786723,
     "end_time": "2022-04-28T13:03:42.666034",
     "exception": false,
     "start_time": "2022-04-28T13:03:41.879311",
     "status": "completed"
    },
    "tags": []
   },
   "outputs": [],
   "source": [
    "train_shuffled = train_shuffled.reset_index().merge(df_feats_antropy, left_on='sequence', right_index=True)\n",
    "train_shuffled = train_shuffled.set_index(['sequence', 'subject'])"
   ]
  },
  {
   "cell_type": "markdown",
   "id": "724a7cd1",
   "metadata": {
    "papermill": {
     "duration": 0.063053,
     "end_time": "2022-04-28T13:03:42.791964",
     "exception": false,
     "start_time": "2022-04-28T13:03:42.728911",
     "status": "completed"
    },
    "tags": []
   },
   "source": [
    "## Extract catch22 features"
   ]
  },
  {
   "cell_type": "code",
   "execution_count": 17,
   "id": "70daae58",
   "metadata": {
    "execution": {
     "iopub.execute_input": "2022-04-28T13:03:42.922165Z",
     "iopub.status.busy": "2022-04-28T13:03:42.921568Z",
     "iopub.status.idle": "2022-04-28T13:04:57.759238Z",
     "shell.execute_reply": "2022-04-28T13:04:57.758435Z"
    },
    "papermill": {
     "duration": 74.905244,
     "end_time": "2022-04-28T13:04:57.761892",
     "exception": false,
     "start_time": "2022-04-28T13:03:42.856648",
     "status": "completed"
    },
    "tags": []
   },
   "outputs": [
    {
     "data": {
      "application/vnd.jupyter.widget-view+json": {
       "model_id": "a02867bfd0cb42819476add543540dd0",
       "version_major": 2,
       "version_minor": 0
      },
      "text/plain": [
       "  0%|          | 0/13 [00:00<?, ?it/s]"
      ]
     },
     "metadata": {},
     "output_type": "display_data"
    }
   ],
   "source": [
    "fc_catch22 = FeatureCollection(\n",
    "    MultipleFeatureDescriptors(\n",
    "        functions=catch22_wrapper(catch22_all),\n",
    "        series_names=sensors,\n",
    "        windows=60,\n",
    "        strides=60\n",
    "    )\n",
    ")\n",
    "\n",
    "df_feats_train_catch22 = fc_catch22.calculate(train, show_progress=True, return_df=True, window_idx=\"begin\")\n",
    "df_feats_train_catch22.index =  train[\"sequence\"].unique()"
   ]
  },
  {
   "cell_type": "code",
   "execution_count": 18,
   "id": "200da86f",
   "metadata": {
    "execution": {
     "iopub.execute_input": "2022-04-28T13:04:57.893269Z",
     "iopub.status.busy": "2022-04-28T13:04:57.892665Z",
     "iopub.status.idle": "2022-04-28T13:04:57.923688Z",
     "shell.execute_reply": "2022-04-28T13:04:57.922523Z"
    },
    "papermill": {
     "duration": 0.099342,
     "end_time": "2022-04-28T13:04:57.925606",
     "exception": false,
     "start_time": "2022-04-28T13:04:57.826264",
     "status": "completed"
    },
    "tags": []
   },
   "outputs": [
    {
     "name": "stdout",
     "output_type": "stream",
     "text": [
      "[]\n"
     ]
    }
   ],
   "source": [
    "already_included = list(set(train_shuffled.columns).intersection(df_feats_train_catch22.columns))\n",
    "print(already_included)\n",
    "df_feats_train_catch22 = df_feats_train_catch22.drop(columns=already_included)"
   ]
  },
  {
   "cell_type": "code",
   "execution_count": 19,
   "id": "6c1a3673",
   "metadata": {
    "execution": {
     "iopub.execute_input": "2022-04-28T13:04:58.055685Z",
     "iopub.status.busy": "2022-04-28T13:04:58.055131Z",
     "iopub.status.idle": "2022-04-28T13:04:59.301348Z",
     "shell.execute_reply": "2022-04-28T13:04:59.300427Z"
    },
    "papermill": {
     "duration": 1.314071,
     "end_time": "2022-04-28T13:04:59.303765",
     "exception": false,
     "start_time": "2022-04-28T13:04:57.989694",
     "status": "completed"
    },
    "tags": []
   },
   "outputs": [],
   "source": [
    "train_shuffled = train_shuffled.reset_index().merge(df_feats_train_catch22, left_on='sequence', right_index=True)\n",
    "train_shuffled = train_shuffled.set_index(['sequence', 'subject'])"
   ]
  },
  {
   "cell_type": "markdown",
   "id": "7e99df21",
   "metadata": {
    "papermill": {
     "duration": 0.064659,
     "end_time": "2022-04-28T13:04:59.435529",
     "exception": false,
     "start_time": "2022-04-28T13:04:59.370870",
     "status": "completed"
    },
    "tags": []
   },
   "source": [
    "# Feature selection with **powershap**"
   ]
  },
  {
   "cell_type": "code",
   "execution_count": 20,
   "id": "61303684",
   "metadata": {
    "execution": {
     "iopub.execute_input": "2022-04-28T13:04:59.567464Z",
     "iopub.status.busy": "2022-04-28T13:04:59.566923Z",
     "iopub.status.idle": "2022-04-28T13:04:59.574239Z",
     "shell.execute_reply": "2022-04-28T13:04:59.573510Z"
    },
    "papermill": {
     "duration": 0.076475,
     "end_time": "2022-04-28T13:04:59.576135",
     "exception": false,
     "start_time": "2022-04-28T13:04:59.499660",
     "status": "completed"
    },
    "tags": []
   },
   "outputs": [
    {
     "data": {
      "text/plain": [
       "48"
      ]
     },
     "execution_count": 20,
     "metadata": {},
     "output_type": "execute_result"
    }
   ],
   "source": [
    "# Drop some useless features: see https://www.kaggle.com/code/ambrosm/tpsapr22-best-model-without-nn\n",
    "dropped_features = ['sensor_05_kurtosis', 'sensor_08_mean',\n",
    "                    'sensor_05_std', 'sensor_06_kurtosis',\n",
    "                    'sensor_06_std', 'sensor_03_std',\n",
    "                    'sensor_02_kurtosis', 'sensor_03_kurtosis',\n",
    "                    'sensor_09_kurtosis', 'sensor_03_mean',\n",
    "                    'sensor_00_mean', 'sensor_02_iqr',\n",
    "                    'sensor_05_mean', 'sensor_06_mean',\n",
    "                    'sensor_07_std', 'sensor_10_iqr',\n",
    "                    'sensor_11_iqr', 'sensor_12_iqr',\n",
    "                    'sensor_09_mean', 'sensor_02_sm',\n",
    "                    'sensor_03_sm', 'sensor_05_iqr', \n",
    "                    'sensor_06_sm', 'sensor_09_iqr', \n",
    "                    'sensor_07_iqr', 'sensor_10_mean']\n",
    "selected_columns = [f for f in selected_columns if f not in dropped_features]\n",
    "len(selected_columns)"
   ]
  },
  {
   "cell_type": "code",
   "execution_count": 21,
   "id": "6f3614fc",
   "metadata": {
    "execution": {
     "iopub.execute_input": "2022-04-28T13:04:59.705693Z",
     "iopub.status.busy": "2022-04-28T13:04:59.705401Z",
     "iopub.status.idle": "2022-04-28T13:04:59.709335Z",
     "shell.execute_reply": "2022-04-28T13:04:59.708416Z"
    },
    "papermill": {
     "duration": 0.071318,
     "end_time": "2022-04-28T13:04:59.711281",
     "exception": false,
     "start_time": "2022-04-28T13:04:59.639963",
     "status": "completed"
    },
    "tags": []
   },
   "outputs": [],
   "source": [
    "seglearn_features = list(df_feats.columns)\n",
    "selected_columns += seglearn_features"
   ]
  },
  {
   "cell_type": "markdown",
   "id": "81f8e783",
   "metadata": {
    "papermill": {
     "duration": 0.063711,
     "end_time": "2022-04-28T13:04:59.839106",
     "exception": false,
     "start_time": "2022-04-28T13:04:59.775395",
     "status": "completed"
    },
    "tags": []
   },
   "source": [
    "The feature selection for the tsfresh features has been performed by [powershap](https://github.com/predict-idlab/powershap)"
   ]
  },
  {
   "cell_type": "code",
   "execution_count": 22,
   "id": "7f853398",
   "metadata": {
    "execution": {
     "iopub.execute_input": "2022-04-28T13:04:59.970355Z",
     "iopub.status.busy": "2022-04-28T13:04:59.969909Z",
     "iopub.status.idle": "2022-04-28T13:04:59.974145Z",
     "shell.execute_reply": "2022-04-28T13:04:59.973533Z"
    },
    "papermill": {
     "duration": 0.072291,
     "end_time": "2022-04-28T13:04:59.975814",
     "exception": false,
     "start_time": "2022-04-28T13:04:59.903523",
     "status": "completed"
    },
    "tags": []
   },
   "outputs": [],
   "source": [
    "tsfresh_features = list(df_feats_tsfresh.columns)\n",
    "selected_columns += tsfresh_features"
   ]
  },
  {
   "cell_type": "code",
   "execution_count": 23,
   "id": "3098b02b",
   "metadata": {
    "execution": {
     "iopub.execute_input": "2022-04-28T13:05:00.105664Z",
     "iopub.status.busy": "2022-04-28T13:05:00.105244Z",
     "iopub.status.idle": "2022-04-28T13:05:00.109241Z",
     "shell.execute_reply": "2022-04-28T13:05:00.108665Z"
    },
    "papermill": {
     "duration": 0.071367,
     "end_time": "2022-04-28T13:05:00.110903",
     "exception": false,
     "start_time": "2022-04-28T13:05:00.039536",
     "status": "completed"
    },
    "tags": []
   },
   "outputs": [],
   "source": [
    "antropy_features = list(df_feats_antropy.columns)\n",
    "selected_columns += antropy_features"
   ]
  },
  {
   "cell_type": "code",
   "execution_count": 24,
   "id": "14c8eaae",
   "metadata": {
    "execution": {
     "iopub.execute_input": "2022-04-28T13:05:00.243900Z",
     "iopub.status.busy": "2022-04-28T13:05:00.243435Z",
     "iopub.status.idle": "2022-04-28T13:05:00.248077Z",
     "shell.execute_reply": "2022-04-28T13:05:00.247427Z"
    },
    "papermill": {
     "duration": 0.071836,
     "end_time": "2022-04-28T13:05:00.249831",
     "exception": false,
     "start_time": "2022-04-28T13:05:00.177995",
     "status": "completed"
    },
    "tags": []
   },
   "outputs": [],
   "source": [
    "catch22_feature_names = list(df_feats_train_catch22.columns)\n",
    "if 'sequence' in catch22_feature_names:\n",
    "    catch22_feature_names.remove('sequence')\n",
    "    \n",
    "selected_columns += catch22_feature_names"
   ]
  },
  {
   "cell_type": "code",
   "execution_count": 25,
   "id": "5778a104",
   "metadata": {
    "execution": {
     "iopub.execute_input": "2022-04-28T13:05:00.379101Z",
     "iopub.status.busy": "2022-04-28T13:05:00.378638Z",
     "iopub.status.idle": "2022-04-28T13:05:00.384474Z",
     "shell.execute_reply": "2022-04-28T13:05:00.383734Z"
    },
    "papermill": {
     "duration": 0.072942,
     "end_time": "2022-04-28T13:05:00.386291",
     "exception": false,
     "start_time": "2022-04-28T13:05:00.313349",
     "status": "completed"
    },
    "tags": []
   },
   "outputs": [
    {
     "data": {
      "text/plain": [
       "656"
      ]
     },
     "execution_count": 25,
     "metadata": {},
     "output_type": "execute_result"
    }
   ],
   "source": [
    "len(selected_columns)"
   ]
  },
  {
   "cell_type": "code",
   "execution_count": null,
   "id": "70e3859c",
   "metadata": {
    "papermill": {
     "duration": 0.063932,
     "end_time": "2022-04-28T13:05:00.514552",
     "exception": false,
     "start_time": "2022-04-28T13:05:00.450620",
     "status": "completed"
    },
    "tags": []
   },
   "outputs": [],
   "source": []
  },
  {
   "cell_type": "markdown",
   "id": "e4372c35",
   "metadata": {
    "papermill": {
     "duration": 0.064088,
     "end_time": "2022-04-28T13:05:00.643431",
     "exception": false,
     "start_time": "2022-04-28T13:05:00.579343",
     "status": "completed"
    },
    "tags": []
   },
   "source": [
    "#### Now apply **powershap** for feature selection"
   ]
  },
  {
   "cell_type": "code",
   "execution_count": 26,
   "id": "921566cd",
   "metadata": {
    "execution": {
     "iopub.execute_input": "2022-04-28T13:05:00.773858Z",
     "iopub.status.busy": "2022-04-28T13:05:00.773358Z",
     "iopub.status.idle": "2022-04-28T13:12:47.595840Z",
     "shell.execute_reply": "2022-04-28T13:12:47.594839Z"
    },
    "papermill": {
     "duration": 466.890166,
     "end_time": "2022-04-28T13:12:47.597716",
     "exception": false,
     "start_time": "2022-04-28T13:05:00.707550",
     "status": "completed"
    },
    "tags": []
   },
   "outputs": [
    {
     "data": {
      "application/vnd.jupyter.widget-view+json": {
       "model_id": "c99098ba3143401ea0d54a887e0abcc5",
       "version_major": 2,
       "version_minor": 0
      },
      "text/plain": [
       "  0%|          | 0/10 [00:00<?, ?it/s]"
      ]
     },
     "metadata": {},
     "output_type": "display_data"
    },
    {
     "data": {
      "application/vnd.jupyter.widget-view+json": {
       "model_id": "536facc910d6492da8cc833190c9d949",
       "version_major": 2,
       "version_minor": 0
      },
      "text/plain": [
       "  0%|          | 0/10 [00:00<?, ?it/s]"
      ]
     },
     "metadata": {},
     "output_type": "display_data"
    },
    {
     "data": {
      "text/plain": [
       "PowerShap(model=<catboost.core.CatBoostClassifier object at 0x7fbfd3eda310>)"
      ]
     },
     "execution_count": 26,
     "metadata": {},
     "output_type": "execute_result"
    }
   ],
   "source": [
    "selector = PowerShap()\n",
    "selector.fit(train_shuffled[selected_columns], labels_shuffled[\"state\"])\n"
   ]
  },
  {
   "cell_type": "code",
   "execution_count": 27,
   "id": "f61474d9",
   "metadata": {
    "execution": {
     "iopub.execute_input": "2022-04-28T13:12:47.729457Z",
     "iopub.status.busy": "2022-04-28T13:12:47.729187Z",
     "iopub.status.idle": "2022-04-28T13:12:47.735596Z",
     "shell.execute_reply": "2022-04-28T13:12:47.734730Z"
    },
    "papermill": {
     "duration": 0.074756,
     "end_time": "2022-04-28T13:12:47.737766",
     "exception": false,
     "start_time": "2022-04-28T13:12:47.663010",
     "status": "completed"
    },
    "tags": []
   },
   "outputs": [
    {
     "data": {
      "text/plain": [
       "154"
      ]
     },
     "execution_count": 27,
     "metadata": {},
     "output_type": "execute_result"
    }
   ],
   "source": [
    "selected_columns_p = np.array(selected_columns)[selector._get_support_mask()]\n",
    "len(selected_columns_p)"
   ]
  },
  {
   "cell_type": "markdown",
   "id": "09efe9c7",
   "metadata": {
    "papermill": {
     "duration": 0.065294,
     "end_time": "2022-04-28T13:12:47.868582",
     "exception": false,
     "start_time": "2022-04-28T13:12:47.803288",
     "status": "completed"
    },
    "tags": []
   },
   "source": [
    "### Extract the selected features on the test set"
   ]
  },
  {
   "cell_type": "code",
   "execution_count": 28,
   "id": "71fd8c60",
   "metadata": {
    "execution": {
     "iopub.execute_input": "2022-04-28T13:12:48.004947Z",
     "iopub.status.busy": "2022-04-28T13:12:48.004560Z",
     "iopub.status.idle": "2022-04-28T13:12:48.072096Z",
     "shell.execute_reply": "2022-04-28T13:12:48.070911Z"
    },
    "papermill": {
     "duration": 0.139373,
     "end_time": "2022-04-28T13:12:48.075047",
     "exception": false,
     "start_time": "2022-04-28T13:12:47.935674",
     "status": "completed"
    },
    "tags": []
   },
   "outputs": [
    {
     "name": "stdout",
     "output_type": "stream",
     "text": [
      "138\n"
     ]
    }
   ],
   "source": [
    "fc_all = FeatureCollection(\n",
    "    [\n",
    "        fc_seglearn,\n",
    "        fc_tsfresh.reduce(tsfresh_selected_cols),\n",
    "        fc_antropy,\n",
    "        fc_catch22,\n",
    "    ]\n",
    ")\n",
    "\n",
    "selected_columns_p_tsflex = [c for c in selected_columns_p if c.endswith(\"_w=60_s=60\")]\n",
    "print(len(selected_columns_p_tsflex))\n",
    "fc_selected = fc_all.reduce(selected_columns_p_tsflex)"
   ]
  },
  {
   "cell_type": "code",
   "execution_count": 29,
   "id": "17e7d1c2",
   "metadata": {
    "execution": {
     "iopub.execute_input": "2022-04-28T13:12:48.211227Z",
     "iopub.status.busy": "2022-04-28T13:12:48.210496Z",
     "iopub.status.idle": "2022-04-28T13:20:42.836425Z",
     "shell.execute_reply": "2022-04-28T13:20:42.834890Z"
    },
    "papermill": {
     "duration": 474.696634,
     "end_time": "2022-04-28T13:20:42.839375",
     "exception": false,
     "start_time": "2022-04-28T13:12:48.142741",
     "status": "completed"
    },
    "tags": []
   },
   "outputs": [
    {
     "data": {
      "application/vnd.jupyter.widget-view+json": {
       "model_id": "606f6062565a4deaa8f5d6187f7f6b23",
       "version_major": 2,
       "version_minor": 0
      },
      "text/plain": [
       "  0%|          | 0/88 [00:00<?, ?it/s]"
      ]
     },
     "metadata": {},
     "output_type": "display_data"
    },
    {
     "name": "stdout",
     "output_type": "stream",
     "text": [
      "(12218, 2591)\n"
     ]
    },
    {
     "data": {
      "text/plain": [
       "(12218, 138)"
      ]
     },
     "execution_count": 29,
     "metadata": {},
     "output_type": "execute_result"
    }
   ],
   "source": [
    "df_feats_test = fc_selected.calculate(test, return_df=True, show_progress=True)\n",
    "print(df_feats_test.shape)  # Some features return multiple outputs (that is why this shape is way larger than # selected cols)\n",
    "df_feats_test = df_feats_test[selected_columns_p_tsflex]\n",
    "df_feats_test.index = test[\"sequence\"].unique()\n",
    "df_feats_test.shape"
   ]
  },
  {
   "cell_type": "code",
   "execution_count": 30,
   "id": "f18a5e10",
   "metadata": {
    "execution": {
     "iopub.execute_input": "2022-04-28T13:20:42.979191Z",
     "iopub.status.busy": "2022-04-28T13:20:42.978308Z",
     "iopub.status.idle": "2022-04-28T13:20:44.247863Z",
     "shell.execute_reply": "2022-04-28T13:20:44.246914Z"
    },
    "papermill": {
     "duration": 1.343468,
     "end_time": "2022-04-28T13:20:44.249940",
     "exception": false,
     "start_time": "2022-04-28T13:20:42.906472",
     "status": "completed"
    },
    "tags": []
   },
   "outputs": [
    {
     "data": {
      "text/html": [
       "<div>\n",
       "<style scoped>\n",
       "    .dataframe tbody tr th:only-of-type {\n",
       "        vertical-align: middle;\n",
       "    }\n",
       "\n",
       "    .dataframe tbody tr th {\n",
       "        vertical-align: top;\n",
       "    }\n",
       "\n",
       "    .dataframe thead th {\n",
       "        text-align: right;\n",
       "    }\n",
       "</style>\n",
       "<table border=\"1\" class=\"dataframe\">\n",
       "  <thead>\n",
       "    <tr style=\"text-align: right;\">\n",
       "      <th></th>\n",
       "      <th>sequence</th>\n",
       "      <th>subject</th>\n",
       "      <th>sensor_00_mean</th>\n",
       "      <th>sensor_00_std</th>\n",
       "      <th>sensor_00_iqr</th>\n",
       "      <th>sensor_00_sm</th>\n",
       "      <th>sensor_00_kurtosis</th>\n",
       "      <th>sensor_01_mean</th>\n",
       "      <th>sensor_01_std</th>\n",
       "      <th>sensor_01_iqr</th>\n",
       "      <th>...</th>\n",
       "      <th>sensor_07__SP_Summaries_welch_rect_area_5_1__w=60_s=60</th>\n",
       "      <th>sensor_10__CO_Embed2_Dist_tau_d_expfit_meandiff__w=60_s=60</th>\n",
       "      <th>sensor_10__CO_FirstMin_ac__w=60_s=60</th>\n",
       "      <th>sensor_10__SP_Summaries_welch_rect_area_5_1__w=60_s=60</th>\n",
       "      <th>sensor_11__DN_OutlierInclude_n_001_mdrmd__w=60_s=60</th>\n",
       "      <th>sensor_11__SP_Summaries_welch_rect_area_5_1__w=60_s=60</th>\n",
       "      <th>sensor_12__CO_Embed2_Dist_tau_d_expfit_meandiff__w=60_s=60</th>\n",
       "      <th>sensor_12__SC_FluctAnal_2_rsrangefit_50_1_logi_prop_r1__w=60_s=60</th>\n",
       "      <th>sensor_12__SP_Summaries_welch_rect_area_5_1__w=60_s=60</th>\n",
       "      <th>sequence_count_of_subject</th>\n",
       "    </tr>\n",
       "  </thead>\n",
       "  <tbody>\n",
       "    <tr>\n",
       "      <th>0</th>\n",
       "      <td>25968</td>\n",
       "      <td>684</td>\n",
       "      <td>-0.002602</td>\n",
       "      <td>1.091741</td>\n",
       "      <td>1.078632</td>\n",
       "      <td>419.616577</td>\n",
       "      <td>6.400713</td>\n",
       "      <td>-0.036432</td>\n",
       "      <td>4.499484</td>\n",
       "      <td>0.990284</td>\n",
       "      <td>...</td>\n",
       "      <td>0.023508</td>\n",
       "      <td>0.074308</td>\n",
       "      <td>2.0</td>\n",
       "      <td>0.074504</td>\n",
       "      <td>-0.250000</td>\n",
       "      <td>0.032295</td>\n",
       "      <td>0.052997</td>\n",
       "      <td>0.730769</td>\n",
       "      <td>0.003189</td>\n",
       "      <td>70</td>\n",
       "    </tr>\n",
       "    <tr>\n",
       "      <th>1</th>\n",
       "      <td>25969</td>\n",
       "      <td>935</td>\n",
       "      <td>0.028516</td>\n",
       "      <td>1.450040</td>\n",
       "      <td>0.844281</td>\n",
       "      <td>50.849651</td>\n",
       "      <td>6.634404</td>\n",
       "      <td>0.002276</td>\n",
       "      <td>0.775379</td>\n",
       "      <td>1.079832</td>\n",
       "      <td>...</td>\n",
       "      <td>0.005527</td>\n",
       "      <td>0.104384</td>\n",
       "      <td>2.0</td>\n",
       "      <td>0.025742</td>\n",
       "      <td>0.033333</td>\n",
       "      <td>0.016460</td>\n",
       "      <td>0.141736</td>\n",
       "      <td>0.769231</td>\n",
       "      <td>0.013637</td>\n",
       "      <td>59</td>\n",
       "    </tr>\n",
       "  </tbody>\n",
       "</table>\n",
       "<p>2 rows × 214 columns</p>\n",
       "</div>"
      ],
      "text/plain": [
       "   sequence  subject  sensor_00_mean  sensor_00_std  sensor_00_iqr  \\\n",
       "0     25968      684       -0.002602       1.091741       1.078632   \n",
       "1     25969      935        0.028516       1.450040       0.844281   \n",
       "\n",
       "   sensor_00_sm  sensor_00_kurtosis  sensor_01_mean  sensor_01_std  \\\n",
       "0    419.616577            6.400713       -0.036432       4.499484   \n",
       "1     50.849651            6.634404        0.002276       0.775379   \n",
       "\n",
       "   sensor_01_iqr  ...  sensor_07__SP_Summaries_welch_rect_area_5_1__w=60_s=60  \\\n",
       "0       0.990284  ...                                           0.023508        \n",
       "1       1.079832  ...                                           0.005527        \n",
       "\n",
       "   sensor_10__CO_Embed2_Dist_tau_d_expfit_meandiff__w=60_s=60  \\\n",
       "0                                           0.074308            \n",
       "1                                           0.104384            \n",
       "\n",
       "   sensor_10__CO_FirstMin_ac__w=60_s=60  \\\n",
       "0                                   2.0   \n",
       "1                                   2.0   \n",
       "\n",
       "   sensor_10__SP_Summaries_welch_rect_area_5_1__w=60_s=60  \\\n",
       "0                                           0.074504        \n",
       "1                                           0.025742        \n",
       "\n",
       "   sensor_11__DN_OutlierInclude_n_001_mdrmd__w=60_s=60  \\\n",
       "0                                          -0.250000     \n",
       "1                                           0.033333     \n",
       "\n",
       "   sensor_11__SP_Summaries_welch_rect_area_5_1__w=60_s=60  \\\n",
       "0                                           0.032295        \n",
       "1                                           0.016460        \n",
       "\n",
       "   sensor_12__CO_Embed2_Dist_tau_d_expfit_meandiff__w=60_s=60  \\\n",
       "0                                           0.052997            \n",
       "1                                           0.141736            \n",
       "\n",
       "   sensor_12__SC_FluctAnal_2_rsrangefit_50_1_logi_prop_r1__w=60_s=60  \\\n",
       "0                                           0.730769                   \n",
       "1                                           0.769231                   \n",
       "\n",
       "   sensor_12__SP_Summaries_welch_rect_area_5_1__w=60_s=60  \\\n",
       "0                                           0.003189        \n",
       "1                                           0.013637        \n",
       "\n",
       "   sequence_count_of_subject  \n",
       "0                         70  \n",
       "1                         59  \n",
       "\n",
       "[2 rows x 214 columns]"
      ]
     },
     "execution_count": 30,
     "metadata": {},
     "output_type": "execute_result"
    }
   ],
   "source": [
    "# Feature engineering for test\n",
    "\n",
    "test_pivoted0 = test.pivot(index=['sequence', 'subject'], columns='step', values=sensors)\n",
    "# Manual feature extraction (cfr. AmbrosM)\n",
    "test_pivoted = engineer(test_pivoted0)\n",
    "\n",
    "# Add the selected features from the reduced tsflex feature collection\n",
    "test_pivoted = test_pivoted.reset_index().merge(df_feats_test, left_on='sequence', right_index=True)\n",
    "test_pivoted = test_pivoted.set_index(['sequence', 'subject'])\n",
    "\n",
    "sequence_count = test_pivoted.index.to_frame(index=False).groupby('subject').size().rename('sequence_count_of_subject')\n",
    "submission = pd.DataFrame({'sequence': test_pivoted.index.get_level_values('sequence')})\n",
    "test_pivoted = test_pivoted.reset_index()\n",
    "test_pivoted = test_pivoted.merge(sequence_count, how='left', on='subject')\n",
    "test_pivoted.head(2)"
   ]
  },
  {
   "cell_type": "markdown",
   "id": "f3af6264",
   "metadata": {
    "papermill": {
     "duration": 0.068287,
     "end_time": "2022-04-28T13:20:44.387715",
     "exception": false,
     "start_time": "2022-04-28T13:20:44.319428",
     "status": "completed"
    },
    "tags": []
   },
   "source": [
    "# Cross validation"
   ]
  },
  {
   "cell_type": "code",
   "execution_count": 31,
   "id": "56bfd45f",
   "metadata": {
    "execution": {
     "iopub.execute_input": "2022-04-28T13:20:44.525907Z",
     "iopub.status.busy": "2022-04-28T13:20:44.525216Z",
     "iopub.status.idle": "2022-04-28T13:20:44.532463Z",
     "shell.execute_reply": "2022-04-28T13:20:44.531575Z"
    },
    "papermill": {
     "duration": 0.078043,
     "end_time": "2022-04-28T13:20:44.534228",
     "exception": false,
     "start_time": "2022-04-28T13:20:44.456185",
     "status": "completed"
    },
    "tags": []
   },
   "outputs": [],
   "source": [
    "assert all([c in test_pivoted.columns.values for c in selected_columns_p])"
   ]
  },
  {
   "cell_type": "code",
   "execution_count": 32,
   "id": "a8aed635",
   "metadata": {
    "execution": {
     "iopub.execute_input": "2022-04-28T13:20:44.673842Z",
     "iopub.status.busy": "2022-04-28T13:20:44.673539Z",
     "iopub.status.idle": "2022-04-28T13:28:08.613912Z",
     "shell.execute_reply": "2022-04-28T13:28:08.612816Z"
    },
    "papermill": {
     "duration": 444.087522,
     "end_time": "2022-04-28T13:28:08.692090",
     "exception": false,
     "start_time": "2022-04-28T13:20:44.604568",
     "status": "completed"
    },
    "tags": []
   },
   "outputs": [
    {
     "name": "stdout",
     "output_type": "stream",
     "text": [
      "154 features\n",
      "Fold 0: n_iter = 1499    AUC = 0.9740\n",
      "Fold 1: n_iter = 1487    AUC = 0.9710\n",
      "Fold 2: n_iter = 1899    AUC = 0.9757\n",
      "Fold 3: n_iter = 1381    AUC = 0.9754\n",
      "Fold 4: n_iter = 1973    AUC = 0.9695\n",
      "OOF AUC:                       0.9731\n",
      "CPU times: user 27min 20s, sys: 54.9 s, total: 28min 15s\n",
      "Wall time: 7min 23s\n"
     ]
    }
   ],
   "source": [
    "%%time\n",
    "\n",
    "# Cross-validation of the classifier\n",
    "\n",
    "print(f\"{len(selected_columns_p)} features\")\n",
    "score_list = []\n",
    "kf = GroupKFold(n_splits=5)\n",
    "for fold, (idx_tr, idx_va) in enumerate(kf.split(train_shuffled, groups=train_shuffled.index.get_level_values('subject'))):\n",
    "    X_tr = train_shuffled.iloc[idx_tr][selected_columns_p]\n",
    "    X_va = train_shuffled.iloc[idx_va][selected_columns_p]\n",
    "    y_tr = labels_shuffled.iloc[idx_tr].state\n",
    "    y_va = labels_shuffled.iloc[idx_va].state\n",
    "    \n",
    "    train_groups = train_shuffled.index.get_level_values('subject')[idx_tr]\n",
    "    \n",
    "    kf2 = GroupKFold(n_splits=10)\n",
    "    idx_cv_tr, idx_cv_val = next(kf.split(X_tr, groups=train_groups))\n",
    "    X_cv_tr = X_tr.iloc[idx_cv_tr]\n",
    "    X_cv_va = X_tr.iloc[idx_cv_val]\n",
    "    y_cv_tr = y_tr.iloc[idx_cv_tr]\n",
    "    y_cv_val = y_tr.iloc[idx_cv_val]\n",
    "\n",
    "    model = CatBoostClassifier(iterations=5000, verbose=0, od_type='Iter', od_wait=100, task_type=\"CPU\")\n",
    "    model.fit(X_cv_tr, y_cv_tr, eval_set=(X_cv_va, y_cv_val))\n",
    "    \n",
    "    best_iter = model.get_best_iteration()\n",
    "    \n",
    "    model = CatBoostClassifier(iterations=best_iter+100, verbose=0, \n",
    "                               learning_rate=model._learning_rate,\n",
    "                               od_type='Iter', od_wait=100, task_type=\"CPU\")\n",
    "    model.fit(X_tr, y_tr)\n",
    "\n",
    "    y_va_pred = model.predict_proba(X_va.values)[:,1]\n",
    "    score = roc_auc_score(y_va, y_va_pred)\n",
    "    try:\n",
    "        print(f\"Fold {fold}: n_iter ={best_iter:5d}    AUC = {score:.4f}\")\n",
    "    except AttributeError:\n",
    "        print(f\"Fold {fold}:                  AUC = {score:.3f}\")\n",
    "    score_list.append(score)\n",
    "    \n",
    "print(f\"OOF AUC:                       {np.mean(score_list):.4f}\")\n"
   ]
  },
  {
   "cell_type": "markdown",
   "id": "6feb3ec5",
   "metadata": {
    "papermill": {
     "duration": 0.075496,
     "end_time": "2022-04-28T13:28:08.841521",
     "exception": false,
     "start_time": "2022-04-28T13:28:08.766025",
     "status": "completed"
    },
    "tags": []
   },
   "source": [
    "## Generate submission"
   ]
  },
  {
   "cell_type": "code",
   "execution_count": 33,
   "id": "a4d5c5c4",
   "metadata": {
    "execution": {
     "iopub.execute_input": "2022-04-28T13:28:08.995141Z",
     "iopub.status.busy": "2022-04-28T13:28:08.994364Z",
     "iopub.status.idle": "2022-04-28T13:44:33.784917Z",
     "shell.execute_reply": "2022-04-28T13:44:33.783917Z"
    },
    "papermill": {
     "duration": 984.944287,
     "end_time": "2022-04-28T13:44:33.860290",
     "exception": false,
     "start_time": "2022-04-28T13:28:08.916003",
     "status": "completed"
    },
    "tags": []
   },
   "outputs": [
    {
     "name": "stdout",
     "output_type": "stream",
     "text": [
      "154 features\n",
      " 0 [ 7422. 10259.  1884. ...  5527.  2217.  2290.]\n",
      "\n",
      " 1 [ 7643. 10895.  1711. ...  5848.  2206.  2508.]\n",
      "\n",
      " 2 [ 7797. 10621.  1744. ...  6012.  2313.  2571.]\n",
      "\n",
      " 3 [ 8022. 10589.  2019. ...  5668.  2378.  2414.]\n",
      "\n",
      " 4 [ 7666. 10739.  1952. ...  5692.  2346.  2463.]\n",
      "\n",
      " 5 [ 6948. 10544.  1733. ...  5543.  2216.  2468.]\n",
      "\n",
      " 6 [ 8128. 10234.  2114. ...  5583.  2621.  2227.]\n",
      "\n",
      " 7 [ 7121. 10209.  1642. ...  5775.  2530.  2838.]\n",
      "\n",
      " 8 [ 7552. 10203.  1603. ...  5401.  2168.  2854.]\n",
      "\n",
      " 9 [ 7210. 10527.  1734. ...  5428.  2126.  2287.]\n",
      "\n"
     ]
    },
    {
     "data": {
      "text/html": [
       "<div>\n",
       "<style scoped>\n",
       "    .dataframe tbody tr th:only-of-type {\n",
       "        vertical-align: middle;\n",
       "    }\n",
       "\n",
       "    .dataframe tbody tr th {\n",
       "        vertical-align: top;\n",
       "    }\n",
       "\n",
       "    .dataframe thead th {\n",
       "        text-align: right;\n",
       "    }\n",
       "</style>\n",
       "<table border=\"1\" class=\"dataframe\">\n",
       "  <thead>\n",
       "    <tr style=\"text-align: right;\">\n",
       "      <th></th>\n",
       "      <th>sequence</th>\n",
       "      <th>state</th>\n",
       "    </tr>\n",
       "  </thead>\n",
       "  <tbody>\n",
       "    <tr>\n",
       "      <th>0</th>\n",
       "      <td>25968</td>\n",
       "      <td>7550.9</td>\n",
       "    </tr>\n",
       "    <tr>\n",
       "      <th>1</th>\n",
       "      <td>25969</td>\n",
       "      <td>10482.0</td>\n",
       "    </tr>\n",
       "    <tr>\n",
       "      <th>2</th>\n",
       "      <td>25970</td>\n",
       "      <td>1813.6</td>\n",
       "    </tr>\n",
       "    <tr>\n",
       "      <th>3</th>\n",
       "      <td>25971</td>\n",
       "      <td>6585.2</td>\n",
       "    </tr>\n",
       "    <tr>\n",
       "      <th>4</th>\n",
       "      <td>25972</td>\n",
       "      <td>5651.2</td>\n",
       "    </tr>\n",
       "    <tr>\n",
       "      <th>...</th>\n",
       "      <td>...</td>\n",
       "      <td>...</td>\n",
       "    </tr>\n",
       "    <tr>\n",
       "      <th>12213</th>\n",
       "      <td>38181</td>\n",
       "      <td>8835.9</td>\n",
       "    </tr>\n",
       "    <tr>\n",
       "      <th>12214</th>\n",
       "      <td>38182</td>\n",
       "      <td>6049.9</td>\n",
       "    </tr>\n",
       "    <tr>\n",
       "      <th>12215</th>\n",
       "      <td>38183</td>\n",
       "      <td>5647.7</td>\n",
       "    </tr>\n",
       "    <tr>\n",
       "      <th>12216</th>\n",
       "      <td>38184</td>\n",
       "      <td>2312.1</td>\n",
       "    </tr>\n",
       "    <tr>\n",
       "      <th>12217</th>\n",
       "      <td>38185</td>\n",
       "      <td>2492.0</td>\n",
       "    </tr>\n",
       "  </tbody>\n",
       "</table>\n",
       "<p>12218 rows × 2 columns</p>\n",
       "</div>"
      ],
      "text/plain": [
       "       sequence    state\n",
       "0         25968   7550.9\n",
       "1         25969  10482.0\n",
       "2         25970   1813.6\n",
       "3         25971   6585.2\n",
       "4         25972   5651.2\n",
       "...         ...      ...\n",
       "12213     38181   8835.9\n",
       "12214     38182   6049.9\n",
       "12215     38183   5647.7\n",
       "12216     38184   2312.1\n",
       "12217     38185   2492.0\n",
       "\n",
       "[12218 rows x 2 columns]"
      ]
     },
     "execution_count": 33,
     "metadata": {},
     "output_type": "execute_result"
    }
   ],
   "source": [
    "# Retrain, predict and write submission\n",
    "print(f\"{len(selected_columns_p)} features\")\n",
    "\n",
    "pred_list = []\n",
    "for seed in range(10):\n",
    "    X_tr = train_shuffled[selected_columns_p]\n",
    "    y_tr = labels_shuffled.state\n",
    "\n",
    "    kf2 = GroupShuffleSplit(n_splits=10, random_state=seed)\n",
    "    idx_cv_tr, idx_cv_val = next(kf2.split(X_tr, groups=train_shuffled.index.get_level_values('subject')))\n",
    "    X_cv_tr = X_tr.iloc[idx_cv_tr]\n",
    "    X_cv_va = X_tr.iloc[idx_cv_val]\n",
    "    y_cv_tr = y_tr.iloc[idx_cv_tr]\n",
    "    y_cv_val = y_tr.iloc[idx_cv_val]\n",
    "    \n",
    "    model = CatBoostClassifier(iterations=5000, verbose=0, od_type='Iter', \n",
    "                               random_state=seed,\n",
    "                               od_wait=100, task_type=\"CPU\")\n",
    "    model.fit(X_cv_tr, y_cv_tr, eval_set=(X_cv_va, y_cv_val))\n",
    "    \n",
    "    best_iter = model.get_best_iteration()\n",
    "    \n",
    "    model = CatBoostClassifier(iterations=best_iter+100, verbose=0, \n",
    "                               learning_rate=model._learning_rate,\n",
    "                               random_state=seed,\n",
    "                               od_type='Iter', od_wait=100, task_type=\"CPU\")\n",
    "    model.fit(X_tr, y_tr)\n",
    "    pred_list.append(scipy.stats.rankdata(model.predict_proba(test_pivoted[selected_columns_p].values)[:, 1]))\n",
    "    \n",
    "    print(f\"{seed:2}\", pred_list[-1])\n",
    "    print()\n",
    "submission['state'] = sum(pred_list) / len(pred_list)\n",
    "submission.to_csv('submission.csv', index=False)\n",
    "submission"
   ]
  },
  {
   "cell_type": "code",
   "execution_count": null,
   "id": "72318ceb",
   "metadata": {
    "papermill": {
     "duration": 0.074211,
     "end_time": "2022-04-28T13:44:34.144787",
     "exception": false,
     "start_time": "2022-04-28T13:44:34.070576",
     "status": "completed"
    },
    "tags": []
   },
   "outputs": [],
   "source": []
  }
 ],
 "metadata": {
  "kernelspec": {
   "display_name": "Python 3 (ipykernel)",
   "language": "python",
   "name": "python3"
  },
  "language_info": {
   "codemirror_mode": {
    "name": "ipython",
    "version": 3
   },
   "file_extension": ".py",
   "mimetype": "text/x-python",
   "name": "python",
   "nbconvert_exporter": "python",
   "pygments_lexer": "ipython3",
   "version": "3.9.7"
  },
  "papermill": {
   "default_parameters": {},
   "duration": 2658.356377,
   "end_time": "2022-04-28T13:44:35.647404",
   "environment_variables": {},
   "exception": null,
   "input_path": "__notebook__.ipynb",
   "output_path": "__notebook__.ipynb",
   "parameters": {},
   "start_time": "2022-04-28T13:00:17.291027",
   "version": "2.3.4"
  },
  "widgets": {
   "application/vnd.jupyter.widget-state+json": {
    "state": {},
    "version_major": 2,
    "version_minor": 0
   }
  }
 },
 "nbformat": 4,
 "nbformat_minor": 5
}
