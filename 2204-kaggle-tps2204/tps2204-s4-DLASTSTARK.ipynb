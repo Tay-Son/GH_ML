{
 "cells": [
  {
   "cell_type": "markdown",
   "id": "ef7eb2a4",
   "metadata": {
    "papermill": {
     "duration": 0.021242,
     "end_time": "2022-04-17T16:00:06.265971",
     "exception": false,
     "start_time": "2022-04-17T16:00:06.244729",
     "status": "completed"
    },
    "tags": []
   },
   "source": [
    "## Import libraries"
   ]
  },
  {
   "cell_type": "code",
   "execution_count": 1,
   "id": "a33fa6df-5b7b-434d-9d3d-d92310265e65",
   "metadata": {},
   "outputs": [
    {
     "name": "stdout",
     "output_type": "stream",
     "text": [
      "2.8.0\n"
     ]
    },
    {
     "data": {
      "text/plain": [
       "[PhysicalDevice(name='/physical_device:GPU:0', device_type='GPU')]"
      ]
     },
     "execution_count": 1,
     "metadata": {},
     "output_type": "execute_result"
    }
   ],
   "source": [
    "import tensorflow as tf\n",
    "\n",
    "print(tf.__version__)\n",
    "tf.config.list_physical_devices('GPU')"
   ]
  },
  {
   "cell_type": "code",
   "execution_count": 2,
   "id": "efed424d",
   "metadata": {
    "papermill": {
     "duration": 6.312445,
     "end_time": "2022-04-17T16:00:12.598733",
     "exception": false,
     "start_time": "2022-04-17T16:00:06.286288",
     "status": "completed"
    },
    "tags": []
   },
   "outputs": [],
   "source": [
    "import gc\n",
    "import numpy as np\n",
    "import pandas as pd\n",
    "from tqdm import tqdm\n",
    "from sklearn.metrics import roc_auc_score\n",
    "from sklearn.model_selection import StratifiedKFold\n",
    "from sklearn.preprocessing import QuantileTransformer\n",
    "\n",
    "import tensorflow as tf\n",
    "from tensorflow.keras.utils import plot_model\n",
    "from tensorflow.keras.models import Model, load_model\n",
    "from tensorflow.keras.callbacks import EarlyStopping\n",
    "from tensorflow.keras.callbacks import ModelCheckpoint\n",
    "from tensorflow.keras.callbacks import ReduceLROnPlateau\n",
    "from tensorflow.keras.layers import GlobalAveragePooling1D\n",
    "from tensorflow.keras.layers import GlobalMaxPooling1D, Add\n",
    "from tensorflow.keras.layers import Bidirectional, LSTM, GRU\n",
    "from tensorflow.keras.layers import Input, BatchNormalization\n",
    "from tensorflow.keras.layers import Dense, Concatenate, Multiply\n",
    "\n",
    "import warnings\n",
    "warnings.filterwarnings(\"ignore\")\n",
    "\n",
    "np.random.seed(12)\n",
    "tf.random.set_seed(12)"
   ]
  },
  {
   "cell_type": "markdown",
   "id": "a571c8f0",
   "metadata": {
    "papermill": {
     "duration": 0.020492,
     "end_time": "2022-04-17T16:00:12.640114",
     "exception": false,
     "start_time": "2022-04-17T16:00:12.619622",
     "status": "completed"
    },
    "tags": []
   },
   "source": [
    "## Load source datasets"
   ]
  },
  {
   "cell_type": "code",
   "execution_count": 3,
   "id": "b5041349-da24-471d-9e01-6207807890a1",
   "metadata": {},
   "outputs": [],
   "source": [
    "DIR_DATASET = \"C:/Users/0stxx/Datasets/\"\n",
    "NAME_PROJECT = '2204-kaggle-tps2204'\n",
    "\n",
    "df_train = pd.read_csv(DIR_DATASET + NAME_PROJECT + '/train.csv')\n",
    "df_train_labels = pd.read_csv(DIR_DATASET + NAME_PROJECT + '/train_labels.csv')\n",
    "df_test = pd.read_csv(DIR_DATASET + NAME_PROJECT + '/test.csv')\n",
    "df_sub = pd.read_csv(DIR_DATASET + NAME_PROJECT + '/sample_submission.csv')"
   ]
  },
  {
   "cell_type": "code",
   "execution_count": 4,
   "id": "4f40e418",
   "metadata": {
    "papermill": {
     "duration": 8.526891,
     "end_time": "2022-04-17T16:00:21.187480",
     "exception": false,
     "start_time": "2022-04-17T16:00:12.660589",
     "status": "completed"
    },
    "tags": []
   },
   "outputs": [
    {
     "name": "stdout",
     "output_type": "stream",
     "text": [
      "train: (1558080, 16)\n"
     ]
    },
    {
     "data": {
      "text/html": [
       "<div>\n",
       "<style scoped>\n",
       "    .dataframe tbody tr th:only-of-type {\n",
       "        vertical-align: middle;\n",
       "    }\n",
       "\n",
       "    .dataframe tbody tr th {\n",
       "        vertical-align: top;\n",
       "    }\n",
       "\n",
       "    .dataframe thead th {\n",
       "        text-align: right;\n",
       "    }\n",
       "</style>\n",
       "<table border=\"1\" class=\"dataframe\">\n",
       "  <thead>\n",
       "    <tr style=\"text-align: right;\">\n",
       "      <th></th>\n",
       "      <th>sequence</th>\n",
       "      <th>subject</th>\n",
       "      <th>step</th>\n",
       "      <th>sensor_00</th>\n",
       "      <th>sensor_01</th>\n",
       "      <th>sensor_02</th>\n",
       "      <th>sensor_03</th>\n",
       "      <th>sensor_04</th>\n",
       "      <th>sensor_05</th>\n",
       "      <th>sensor_06</th>\n",
       "      <th>sensor_07</th>\n",
       "      <th>sensor_08</th>\n",
       "      <th>sensor_09</th>\n",
       "      <th>sensor_10</th>\n",
       "      <th>sensor_11</th>\n",
       "      <th>sensor_12</th>\n",
       "    </tr>\n",
       "  </thead>\n",
       "  <tbody>\n",
       "    <tr>\n",
       "      <th>0</th>\n",
       "      <td>0</td>\n",
       "      <td>47</td>\n",
       "      <td>0</td>\n",
       "      <td>-0.196291</td>\n",
       "      <td>0.112395</td>\n",
       "      <td>1.0</td>\n",
       "      <td>0.329204</td>\n",
       "      <td>-1.004660</td>\n",
       "      <td>-0.131638</td>\n",
       "      <td>-0.127505</td>\n",
       "      <td>0.368702</td>\n",
       "      <td>-0.1</td>\n",
       "      <td>-0.963873</td>\n",
       "      <td>-0.985069</td>\n",
       "      <td>0.531893</td>\n",
       "      <td>4.751492</td>\n",
       "    </tr>\n",
       "    <tr>\n",
       "      <th>1</th>\n",
       "      <td>0</td>\n",
       "      <td>47</td>\n",
       "      <td>1</td>\n",
       "      <td>-0.447450</td>\n",
       "      <td>0.134454</td>\n",
       "      <td>1.0</td>\n",
       "      <td>-0.658407</td>\n",
       "      <td>0.162495</td>\n",
       "      <td>0.340314</td>\n",
       "      <td>-0.209472</td>\n",
       "      <td>-0.867176</td>\n",
       "      <td>0.2</td>\n",
       "      <td>-0.301301</td>\n",
       "      <td>0.082733</td>\n",
       "      <td>-0.231481</td>\n",
       "      <td>0.454390</td>\n",
       "    </tr>\n",
       "    <tr>\n",
       "      <th>2</th>\n",
       "      <td>0</td>\n",
       "      <td>47</td>\n",
       "      <td>2</td>\n",
       "      <td>0.326893</td>\n",
       "      <td>-0.694328</td>\n",
       "      <td>1.0</td>\n",
       "      <td>0.330088</td>\n",
       "      <td>0.473678</td>\n",
       "      <td>1.280479</td>\n",
       "      <td>-0.094718</td>\n",
       "      <td>0.535878</td>\n",
       "      <td>1.4</td>\n",
       "      <td>1.002168</td>\n",
       "      <td>0.449221</td>\n",
       "      <td>-0.586420</td>\n",
       "      <td>-4.736147</td>\n",
       "    </tr>\n",
       "    <tr>\n",
       "      <th>3</th>\n",
       "      <td>0</td>\n",
       "      <td>47</td>\n",
       "      <td>3</td>\n",
       "      <td>0.523184</td>\n",
       "      <td>0.751050</td>\n",
       "      <td>1.0</td>\n",
       "      <td>0.976991</td>\n",
       "      <td>-0.563287</td>\n",
       "      <td>-0.720269</td>\n",
       "      <td>0.793260</td>\n",
       "      <td>0.951145</td>\n",
       "      <td>-0.3</td>\n",
       "      <td>-0.995665</td>\n",
       "      <td>-0.434290</td>\n",
       "      <td>1.344650</td>\n",
       "      <td>0.429241</td>\n",
       "    </tr>\n",
       "    <tr>\n",
       "      <th>4</th>\n",
       "      <td>0</td>\n",
       "      <td>47</td>\n",
       "      <td>4</td>\n",
       "      <td>0.272025</td>\n",
       "      <td>1.074580</td>\n",
       "      <td>1.0</td>\n",
       "      <td>-0.136283</td>\n",
       "      <td>0.398579</td>\n",
       "      <td>0.044877</td>\n",
       "      <td>0.560109</td>\n",
       "      <td>-0.541985</td>\n",
       "      <td>-0.9</td>\n",
       "      <td>1.055636</td>\n",
       "      <td>0.812631</td>\n",
       "      <td>0.123457</td>\n",
       "      <td>-0.223359</td>\n",
       "    </tr>\n",
       "  </tbody>\n",
       "</table>\n",
       "</div>"
      ],
      "text/plain": [
       "   sequence  subject  step  sensor_00  sensor_01  sensor_02  sensor_03  \\\n",
       "0         0       47     0  -0.196291   0.112395        1.0   0.329204   \n",
       "1         0       47     1  -0.447450   0.134454        1.0  -0.658407   \n",
       "2         0       47     2   0.326893  -0.694328        1.0   0.330088   \n",
       "3         0       47     3   0.523184   0.751050        1.0   0.976991   \n",
       "4         0       47     4   0.272025   1.074580        1.0  -0.136283   \n",
       "\n",
       "   sensor_04  sensor_05  sensor_06  sensor_07  sensor_08  sensor_09  \\\n",
       "0  -1.004660  -0.131638  -0.127505   0.368702       -0.1  -0.963873   \n",
       "1   0.162495   0.340314  -0.209472  -0.867176        0.2  -0.301301   \n",
       "2   0.473678   1.280479  -0.094718   0.535878        1.4   1.002168   \n",
       "3  -0.563287  -0.720269   0.793260   0.951145       -0.3  -0.995665   \n",
       "4   0.398579   0.044877   0.560109  -0.541985       -0.9   1.055636   \n",
       "\n",
       "   sensor_10  sensor_11  sensor_12  \n",
       "0  -0.985069   0.531893   4.751492  \n",
       "1   0.082733  -0.231481   0.454390  \n",
       "2   0.449221  -0.586420  -4.736147  \n",
       "3  -0.434290   1.344650   0.429241  \n",
       "4   0.812631   0.123457  -0.223359  "
      ]
     },
     "execution_count": 4,
     "metadata": {},
     "output_type": "execute_result"
    }
   ],
   "source": [
    "train = df_train\n",
    "train.sort_values(by=['sequence','step'], inplace=True)\n",
    "print(f\"train: {train.shape}\")\n",
    "train.head()"
   ]
  },
  {
   "cell_type": "code",
   "execution_count": 5,
   "id": "b55ced4a",
   "metadata": {
    "papermill": {
     "duration": 0.045692,
     "end_time": "2022-04-17T16:00:21.254145",
     "exception": false,
     "start_time": "2022-04-17T16:00:21.208453",
     "status": "completed"
    },
    "tags": []
   },
   "outputs": [
    {
     "name": "stdout",
     "output_type": "stream",
     "text": [
      "train_labels: (25968, 2)\n"
     ]
    },
    {
     "data": {
      "text/html": [
       "<div>\n",
       "<style scoped>\n",
       "    .dataframe tbody tr th:only-of-type {\n",
       "        vertical-align: middle;\n",
       "    }\n",
       "\n",
       "    .dataframe tbody tr th {\n",
       "        vertical-align: top;\n",
       "    }\n",
       "\n",
       "    .dataframe thead th {\n",
       "        text-align: right;\n",
       "    }\n",
       "</style>\n",
       "<table border=\"1\" class=\"dataframe\">\n",
       "  <thead>\n",
       "    <tr style=\"text-align: right;\">\n",
       "      <th></th>\n",
       "      <th>sequence</th>\n",
       "      <th>state</th>\n",
       "    </tr>\n",
       "  </thead>\n",
       "  <tbody>\n",
       "    <tr>\n",
       "      <th>0</th>\n",
       "      <td>0</td>\n",
       "      <td>0</td>\n",
       "    </tr>\n",
       "    <tr>\n",
       "      <th>1</th>\n",
       "      <td>1</td>\n",
       "      <td>1</td>\n",
       "    </tr>\n",
       "    <tr>\n",
       "      <th>2</th>\n",
       "      <td>2</td>\n",
       "      <td>1</td>\n",
       "    </tr>\n",
       "    <tr>\n",
       "      <th>3</th>\n",
       "      <td>3</td>\n",
       "      <td>1</td>\n",
       "    </tr>\n",
       "    <tr>\n",
       "      <th>4</th>\n",
       "      <td>4</td>\n",
       "      <td>1</td>\n",
       "    </tr>\n",
       "  </tbody>\n",
       "</table>\n",
       "</div>"
      ],
      "text/plain": [
       "   sequence  state\n",
       "0         0      0\n",
       "1         1      1\n",
       "2         2      1\n",
       "3         3      1\n",
       "4         4      1"
      ]
     },
     "execution_count": 5,
     "metadata": {},
     "output_type": "execute_result"
    }
   ],
   "source": [
    "train_labels = df_train_labels\n",
    "train_labels.sort_values(by=['sequence'], inplace=True)\n",
    "print(f\"train_labels: {train_labels.shape}\")\n",
    "train_labels.head()"
   ]
  },
  {
   "cell_type": "code",
   "execution_count": 6,
   "id": "fb38bb2e",
   "metadata": {
    "papermill": {
     "duration": 3.809089,
     "end_time": "2022-04-17T16:00:25.085042",
     "exception": false,
     "start_time": "2022-04-17T16:00:21.275953",
     "status": "completed"
    },
    "tags": []
   },
   "outputs": [
    {
     "name": "stdout",
     "output_type": "stream",
     "text": [
      "test: (733080, 16)\n"
     ]
    },
    {
     "data": {
      "text/html": [
       "<div>\n",
       "<style scoped>\n",
       "    .dataframe tbody tr th:only-of-type {\n",
       "        vertical-align: middle;\n",
       "    }\n",
       "\n",
       "    .dataframe tbody tr th {\n",
       "        vertical-align: top;\n",
       "    }\n",
       "\n",
       "    .dataframe thead th {\n",
       "        text-align: right;\n",
       "    }\n",
       "</style>\n",
       "<table border=\"1\" class=\"dataframe\">\n",
       "  <thead>\n",
       "    <tr style=\"text-align: right;\">\n",
       "      <th></th>\n",
       "      <th>sequence</th>\n",
       "      <th>subject</th>\n",
       "      <th>step</th>\n",
       "      <th>sensor_00</th>\n",
       "      <th>sensor_01</th>\n",
       "      <th>sensor_02</th>\n",
       "      <th>sensor_03</th>\n",
       "      <th>sensor_04</th>\n",
       "      <th>sensor_05</th>\n",
       "      <th>sensor_06</th>\n",
       "      <th>sensor_07</th>\n",
       "      <th>sensor_08</th>\n",
       "      <th>sensor_09</th>\n",
       "      <th>sensor_10</th>\n",
       "      <th>sensor_11</th>\n",
       "      <th>sensor_12</th>\n",
       "    </tr>\n",
       "  </thead>\n",
       "  <tbody>\n",
       "    <tr>\n",
       "      <th>0</th>\n",
       "      <td>25968</td>\n",
       "      <td>684</td>\n",
       "      <td>0</td>\n",
       "      <td>2.427357</td>\n",
       "      <td>19.639706</td>\n",
       "      <td>1.0</td>\n",
       "      <td>-1.466372</td>\n",
       "      <td>-1.289973</td>\n",
       "      <td>-4.207928</td>\n",
       "      <td>2.486339</td>\n",
       "      <td>-2.493893</td>\n",
       "      <td>8.0</td>\n",
       "      <td>-1.123555</td>\n",
       "      <td>-1.673048</td>\n",
       "      <td>10.980453</td>\n",
       "      <td>0.419011</td>\n",
       "    </tr>\n",
       "    <tr>\n",
       "      <th>1</th>\n",
       "      <td>25968</td>\n",
       "      <td>684</td>\n",
       "      <td>1</td>\n",
       "      <td>-4.950541</td>\n",
       "      <td>-21.747899</td>\n",
       "      <td>1.0</td>\n",
       "      <td>0.983186</td>\n",
       "      <td>-0.569053</td>\n",
       "      <td>1.845924</td>\n",
       "      <td>-3.887978</td>\n",
       "      <td>1.727481</td>\n",
       "      <td>-2.9</td>\n",
       "      <td>0.395231</td>\n",
       "      <td>-0.882233</td>\n",
       "      <td>-1.871399</td>\n",
       "      <td>-0.008525</td>\n",
       "    </tr>\n",
       "    <tr>\n",
       "      <th>2</th>\n",
       "      <td>25968</td>\n",
       "      <td>684</td>\n",
       "      <td>2</td>\n",
       "      <td>1.136012</td>\n",
       "      <td>-10.756303</td>\n",
       "      <td>1.0</td>\n",
       "      <td>1.016814</td>\n",
       "      <td>0.964157</td>\n",
       "      <td>2.454749</td>\n",
       "      <td>0.312386</td>\n",
       "      <td>1.154198</td>\n",
       "      <td>-5.6</td>\n",
       "      <td>1.114162</td>\n",
       "      <td>1.525273</td>\n",
       "      <td>-11.584362</td>\n",
       "      <td>0.139812</td>\n",
       "    </tr>\n",
       "    <tr>\n",
       "      <th>3</th>\n",
       "      <td>25968</td>\n",
       "      <td>684</td>\n",
       "      <td>3</td>\n",
       "      <td>0.806028</td>\n",
       "      <td>6.504202</td>\n",
       "      <td>1.0</td>\n",
       "      <td>-0.179646</td>\n",
       "      <td>0.969221</td>\n",
       "      <td>-1.035153</td>\n",
       "      <td>-0.457195</td>\n",
       "      <td>0.254962</td>\n",
       "      <td>-2.7</td>\n",
       "      <td>-0.588873</td>\n",
       "      <td>0.608761</td>\n",
       "      <td>-4.241770</td>\n",
       "      <td>-0.462916</td>\n",
       "    </tr>\n",
       "    <tr>\n",
       "      <th>4</th>\n",
       "      <td>25968</td>\n",
       "      <td>684</td>\n",
       "      <td>4</td>\n",
       "      <td>1.288253</td>\n",
       "      <td>5.552521</td>\n",
       "      <td>1.0</td>\n",
       "      <td>-0.493805</td>\n",
       "      <td>-1.036124</td>\n",
       "      <td>-1.126402</td>\n",
       "      <td>2.008197</td>\n",
       "      <td>-0.730534</td>\n",
       "      <td>0.0</td>\n",
       "      <td>0.899566</td>\n",
       "      <td>-1.259615</td>\n",
       "      <td>-0.472222</td>\n",
       "      <td>-0.121483</td>\n",
       "    </tr>\n",
       "  </tbody>\n",
       "</table>\n",
       "</div>"
      ],
      "text/plain": [
       "   sequence  subject  step  sensor_00  sensor_01  sensor_02  sensor_03  \\\n",
       "0     25968      684     0   2.427357  19.639706        1.0  -1.466372   \n",
       "1     25968      684     1  -4.950541 -21.747899        1.0   0.983186   \n",
       "2     25968      684     2   1.136012 -10.756303        1.0   1.016814   \n",
       "3     25968      684     3   0.806028   6.504202        1.0  -0.179646   \n",
       "4     25968      684     4   1.288253   5.552521        1.0  -0.493805   \n",
       "\n",
       "   sensor_04  sensor_05  sensor_06  sensor_07  sensor_08  sensor_09  \\\n",
       "0  -1.289973  -4.207928   2.486339  -2.493893        8.0  -1.123555   \n",
       "1  -0.569053   1.845924  -3.887978   1.727481       -2.9   0.395231   \n",
       "2   0.964157   2.454749   0.312386   1.154198       -5.6   1.114162   \n",
       "3   0.969221  -1.035153  -0.457195   0.254962       -2.7  -0.588873   \n",
       "4  -1.036124  -1.126402   2.008197  -0.730534        0.0   0.899566   \n",
       "\n",
       "   sensor_10  sensor_11  sensor_12  \n",
       "0  -1.673048  10.980453   0.419011  \n",
       "1  -0.882233  -1.871399  -0.008525  \n",
       "2   1.525273 -11.584362   0.139812  \n",
       "3   0.608761  -4.241770  -0.462916  \n",
       "4  -1.259615  -0.472222  -0.121483  "
      ]
     },
     "execution_count": 6,
     "metadata": {},
     "output_type": "execute_result"
    }
   ],
   "source": [
    "test = df_test\n",
    "test.sort_values(by=['sequence','step'], inplace=True)\n",
    "print(f\"test: {test.shape}\")\n",
    "test.head()"
   ]
  },
  {
   "cell_type": "code",
   "execution_count": 7,
   "id": "aeb57872",
   "metadata": {
    "papermill": {
     "duration": 0.045666,
     "end_time": "2022-04-17T16:00:25.153953",
     "exception": false,
     "start_time": "2022-04-17T16:00:25.108287",
     "status": "completed"
    },
    "tags": []
   },
   "outputs": [
    {
     "name": "stdout",
     "output_type": "stream",
     "text": [
      "submission: (12218, 2)\n"
     ]
    },
    {
     "data": {
      "text/html": [
       "<div>\n",
       "<style scoped>\n",
       "    .dataframe tbody tr th:only-of-type {\n",
       "        vertical-align: middle;\n",
       "    }\n",
       "\n",
       "    .dataframe tbody tr th {\n",
       "        vertical-align: top;\n",
       "    }\n",
       "\n",
       "    .dataframe thead th {\n",
       "        text-align: right;\n",
       "    }\n",
       "</style>\n",
       "<table border=\"1\" class=\"dataframe\">\n",
       "  <thead>\n",
       "    <tr style=\"text-align: right;\">\n",
       "      <th></th>\n",
       "      <th>sequence</th>\n",
       "      <th>state</th>\n",
       "    </tr>\n",
       "  </thead>\n",
       "  <tbody>\n",
       "    <tr>\n",
       "      <th>0</th>\n",
       "      <td>25968</td>\n",
       "      <td>0</td>\n",
       "    </tr>\n",
       "    <tr>\n",
       "      <th>1</th>\n",
       "      <td>25969</td>\n",
       "      <td>0</td>\n",
       "    </tr>\n",
       "    <tr>\n",
       "      <th>2</th>\n",
       "      <td>25970</td>\n",
       "      <td>0</td>\n",
       "    </tr>\n",
       "    <tr>\n",
       "      <th>3</th>\n",
       "      <td>25971</td>\n",
       "      <td>0</td>\n",
       "    </tr>\n",
       "    <tr>\n",
       "      <th>4</th>\n",
       "      <td>25972</td>\n",
       "      <td>0</td>\n",
       "    </tr>\n",
       "  </tbody>\n",
       "</table>\n",
       "</div>"
      ],
      "text/plain": [
       "   sequence  state\n",
       "0     25968      0\n",
       "1     25969      0\n",
       "2     25970      0\n",
       "3     25971      0\n",
       "4     25972      0"
      ]
     },
     "execution_count": 7,
     "metadata": {},
     "output_type": "execute_result"
    }
   ],
   "source": [
    "submission = df_sub\n",
    "print(f\"submission: {submission.shape}\")\n",
    "submission.head()"
   ]
  },
  {
   "cell_type": "markdown",
   "id": "c6223886",
   "metadata": {
    "papermill": {
     "duration": 0.025204,
     "end_time": "2022-04-17T16:00:25.204294",
     "exception": false,
     "start_time": "2022-04-17T16:00:25.179090",
     "status": "completed"
    },
    "tags": []
   },
   "source": [
    "## Feature Engineering"
   ]
  },
  {
   "cell_type": "code",
   "execution_count": 8,
   "id": "22e3e8e2",
   "metadata": {
    "papermill": {
     "duration": 0.032933,
     "end_time": "2022-04-17T16:00:25.262621",
     "exception": false,
     "start_time": "2022-04-17T16:00:25.229688",
     "status": "completed"
    },
    "tags": []
   },
   "outputs": [],
   "source": [
    "def sub_imp(x):\n",
    "    if x < 25:\n",
    "        return 0\n",
    "    elif x > 95:\n",
    "        return 2\n",
    "    else:\n",
    "        return 1"
   ]
  },
  {
   "cell_type": "code",
   "execution_count": 9,
   "id": "c2c347f3",
   "metadata": {
    "papermill": {
     "duration": 0.045094,
     "end_time": "2022-04-17T16:00:25.331548",
     "exception": false,
     "start_time": "2022-04-17T16:00:25.286454",
     "status": "completed"
    },
    "tags": []
   },
   "outputs": [],
   "source": [
    "def add_features(df):\n",
    "    for col in tqdm(sensor_cols):\n",
    "        \n",
    "        for window in [1,2,3,6]:\n",
    "            df[f'{col}_lead_diff{window}'] = df[col] - df.groupby('sequence')[col].shift(window).fillna(0)\n",
    "            df[f'{col}_lag_diff{window}'] = df[col] - df.groupby('sequence')[col].shift(-1*window).fillna(0)\n",
    "        \n",
    "        for window in [3,6,12,24]:\n",
    "            df[col+'_roll_'+str(window)+'_mean'] = df.groupby('sequence')[col]\\\n",
    "                                                     .rolling(window=window, min_periods=1)\\\n",
    "                                                     .mean().reset_index(level=0,drop=True)\n",
    "            \n",
    "            df[col+'_roll_'+str(window)+'_std'] = df.groupby('sequence')[col]\\\n",
    "                                                    .rolling(window=window, min_periods=1)\\\n",
    "                                                    .std().reset_index(level=0,drop=True)\n",
    "            \n",
    "            df[col+'_roll_'+str(window)+'_sum'] = df.groupby('sequence')[col]\\\n",
    "                                                    .rolling(window=window, min_periods=1)\\\n",
    "                                                    .sum().reset_index(level=0,drop=True)\n",
    "    \n",
    "    df.fillna(0, inplace=True)\n",
    "    \n",
    "    sub_stat = df[['sequence', 'subject']]\\\n",
    "                .drop_duplicates()\\\n",
    "                .groupby('subject')\\\n",
    "                .agg({'sequence': 'count'})\\\n",
    "                .rename(columns={'sequence': 'count'}).reset_index()\n",
    "    \n",
    "    df = df.merge(sub_stat, on='subject', how='left')\n",
    "    df['sub_imp'] = df['count'].apply(lambda x: sub_imp(x))\n",
    "    df.drop('count', axis=1, inplace=True)\n",
    "        \n",
    "    return df"
   ]
  },
  {
   "cell_type": "code",
   "execution_count": 10,
   "id": "918ccbbf",
   "metadata": {
    "papermill": {
     "duration": 542.208009,
     "end_time": "2022-04-17T16:09:27.564299",
     "exception": false,
     "start_time": "2022-04-17T16:00:25.356290",
     "status": "completed"
    },
    "tags": []
   },
   "outputs": [
    {
     "name": "stderr",
     "output_type": "stream",
     "text": [
      "100%|██████████| 13/13 [02:29<00:00, 11.49s/it]\n",
      "100%|██████████| 13/13 [01:10<00:00,  5.44s/it]\n"
     ]
    },
    {
     "name": "stdout",
     "output_type": "stream",
     "text": [
      "train: (1558080, 277) \n",
      "test: (733080, 277)\n"
     ]
    }
   ],
   "source": [
    "sensor_cols = [col for col in train.columns if 'sensor' in col]\n",
    "train = add_features(train)\n",
    "test = add_features(test)\n",
    "print(f\"train: {train.shape} \\ntest: {test.shape}\")"
   ]
  },
  {
   "cell_type": "code",
   "execution_count": 11,
   "id": "a4b5c853",
   "metadata": {
    "papermill": {
     "duration": 1.575025,
     "end_time": "2022-04-17T16:09:29.173821",
     "exception": false,
     "start_time": "2022-04-17T16:09:27.598796",
     "status": "completed"
    },
    "tags": []
   },
   "outputs": [],
   "source": [
    "train.drop([\"sequence\",\"step\",\"subject\"], axis=1, inplace=True)\n",
    "test.drop([\"sequence\",\"step\",\"subject\"], axis=1, inplace=True)"
   ]
  },
  {
   "cell_type": "code",
   "execution_count": 12,
   "id": "2ddabf98",
   "metadata": {
    "papermill": {
     "duration": 175.776946,
     "end_time": "2022-04-17T16:12:24.985778",
     "exception": false,
     "start_time": "2022-04-17T16:09:29.208832",
     "status": "completed"
    },
    "tags": []
   },
   "outputs": [],
   "source": [
    "scaler = QuantileTransformer(n_quantiles=2000, \n",
    "                             output_distribution='normal', \n",
    "                             random_state=42).fit(train)\n",
    "train = scaler.transform(train)\n",
    "test = scaler.transform(test)"
   ]
  },
  {
   "cell_type": "code",
   "execution_count": 13,
   "id": "c11c1ebd",
   "metadata": {
    "papermill": {
     "duration": 2.444468,
     "end_time": "2022-04-17T16:12:27.465896",
     "exception": false,
     "start_time": "2022-04-17T16:12:25.021428",
     "status": "completed"
    },
    "tags": []
   },
   "outputs": [
    {
     "name": "stdout",
     "output_type": "stream",
     "text": [
      "train: (25968, 60, 274) \n",
      "test: (12218, 60, 274) \n",
      "train_labels (25968, 1)\n"
     ]
    }
   ],
   "source": [
    "train = train.reshape(-1, 60, train.shape[-1]).copy()\n",
    "test = test.reshape(-1, 60, train.shape[-1]).copy()\n",
    "train_labels = train_labels['state'].values.reshape(-1,1)\n",
    "print(f\"train: {train.shape} \\ntest: {test.shape} \\ntrain_labels {train_labels.shape}\")"
   ]
  },
  {
   "cell_type": "code",
   "execution_count": 14,
   "id": "6d886033",
   "metadata": {
    "papermill": {
     "duration": 0.214366,
     "end_time": "2022-04-17T16:12:27.715918",
     "exception": false,
     "start_time": "2022-04-17T16:12:27.501552",
     "status": "completed"
    },
    "tags": []
   },
   "outputs": [
    {
     "data": {
      "text/plain": [
       "0"
      ]
     },
     "execution_count": 14,
     "metadata": {},
     "output_type": "execute_result"
    }
   ],
   "source": [
    "del scaler\n",
    "gc.collect()"
   ]
  },
  {
   "cell_type": "markdown",
   "id": "93b84aad",
   "metadata": {
    "papermill": {
     "duration": 0.034656,
     "end_time": "2022-04-17T16:12:27.786427",
     "exception": false,
     "start_time": "2022-04-17T16:12:27.751771",
     "status": "completed"
    },
    "tags": []
   },
   "source": [
    "## Hardware config"
   ]
  },
  {
   "cell_type": "code",
   "execution_count": 15,
   "id": "3549a215",
   "metadata": {
    "papermill": {
     "duration": 5.780583,
     "end_time": "2022-04-17T16:12:33.602142",
     "exception": false,
     "start_time": "2022-04-17T16:12:27.821559",
     "status": "completed"
    },
    "tags": []
   },
   "outputs": [
    {
     "name": "stdout",
     "output_type": "stream",
     "text": [
      "Running on 1 replicas\n",
      "Batch Size: 8\n"
     ]
    }
   ],
   "source": [
    "try:\n",
    "    tpu = tf.distribute.cluster_resolver.TPUClusterResolver()\n",
    "    tf.config.experimental_connect_to_cluster(tpu)\n",
    "    tf.tpu.experimental.initialize_tpu_system(tpu)\n",
    "    strategy = tf.distribute.experimental.TPUStrategy(tpu)\n",
    "    BATCH_SIZE = strategy.num_replicas_in_sync * 32\n",
    "    print(\"Running on TPU:\", tpu.master())\n",
    "    print(f\"Batch Size: {BATCH_SIZE}\")\n",
    "    \n",
    "except ValueError:\n",
    "    strategy = tf.distribute.get_strategy()\n",
    "    BATCH_SIZE = 8\n",
    "    print(f\"Running on {strategy.num_replicas_in_sync} replicas\")\n",
    "    print(f\"Batch Size: {BATCH_SIZE}\")"
   ]
  },
  {
   "cell_type": "markdown",
   "id": "962d6a92",
   "metadata": {
    "papermill": {
     "duration": 0.035274,
     "end_time": "2022-04-17T16:12:33.673636",
     "exception": false,
     "start_time": "2022-04-17T16:12:33.638362",
     "status": "completed"
    },
    "tags": []
   },
   "source": [
    "## Keras Model"
   ]
  },
  {
   "cell_type": "code",
   "execution_count": 16,
   "id": "f50eb9cd",
   "metadata": {
    "papermill": {
     "duration": 0.049293,
     "end_time": "2022-04-17T16:12:33.758139",
     "exception": false,
     "start_time": "2022-04-17T16:12:33.708846",
     "status": "completed"
    },
    "tags": []
   },
   "outputs": [],
   "source": [
    "def dnn_model():\n",
    "    \n",
    "    x_input = Input(shape=(train.shape[-2:]))\n",
    "    \n",
    "    x1 = Bidirectional(LSTM(units=768, return_sequences=True))(x_input)\n",
    "    x2 = Bidirectional(LSTM(units=512, return_sequences=True))(x1)\n",
    "    x3 = Bidirectional(LSTM(units=384, return_sequences=True))(x2)\n",
    "    x4 = Bidirectional(LSTM(units=256, return_sequences=True))(x3)\n",
    "    x5 = Bidirectional(LSTM(units=128, return_sequences=True))(x4)\n",
    "    \n",
    "    z1 = Bidirectional(GRU(units=384, return_sequences=True))(x2)\n",
    "    z2 = Multiply()([x3, z1])\n",
    "    \n",
    "    z3 = Bidirectional(GRU(units=256, return_sequences=True))(z2)\n",
    "    z4 = Multiply()([x4, z3])\n",
    "    \n",
    "    z5 = Bidirectional(GRU(units=128, return_sequences=True))(z4)\n",
    "    \n",
    "    x = Concatenate(axis=2)([x1, x3, x5, z1, z3, z5])\n",
    "    x = GlobalMaxPooling1D()(x)\n",
    "    \n",
    "    x = Dense(units=1024, activation='selu')(x)\n",
    "    x = Dense(units=128, activation='selu')(x)\n",
    "    \n",
    "    x_output = Dense(units=1, activation='sigmoid')(x)\n",
    "\n",
    "    model = Model(inputs=x_input, outputs=x_output, \n",
    "                  name='TPS_Apr22_TFv2_Model')\n",
    "    return model"
   ]
  },
  {
   "cell_type": "code",
   "execution_count": 17,
   "id": "e8320d4a",
   "metadata": {
    "papermill": {
     "duration": 5.145695,
     "end_time": "2022-04-17T16:12:38.940586",
     "exception": false,
     "start_time": "2022-04-17T16:12:33.794891",
     "status": "completed"
    },
    "tags": []
   },
   "outputs": [
    {
     "name": "stdout",
     "output_type": "stream",
     "text": [
      "Model: \"TPS_Apr22_TFv2_Model\"\n",
      "__________________________________________________________________________________________________\n",
      " Layer (type)                   Output Shape         Param #     Connected to                     \n",
      "==================================================================================================\n",
      " input_1 (InputLayer)           [(None, 60, 274)]    0           []                               \n",
      "                                                                                                  \n",
      " bidirectional (Bidirectional)  (None, 60, 1536)     6408192     ['input_1[0][0]']                \n",
      "                                                                                                  \n",
      " bidirectional_1 (Bidirectional  (None, 60, 1024)    8392704     ['bidirectional[0][0]']          \n",
      " )                                                                                                \n",
      "                                                                                                  \n",
      " bidirectional_2 (Bidirectional  (None, 60, 768)     4328448     ['bidirectional_1[0][0]']        \n",
      " )                                                                                                \n",
      "                                                                                                  \n",
      " bidirectional_5 (Bidirectional  (None, 60, 768)     3248640     ['bidirectional_1[0][0]']        \n",
      " )                                                                                                \n",
      "                                                                                                  \n",
      " multiply (Multiply)            (None, 60, 768)      0           ['bidirectional_2[0][0]',        \n",
      "                                                                  'bidirectional_5[0][0]']        \n",
      "                                                                                                  \n",
      " bidirectional_3 (Bidirectional  (None, 60, 512)     2099200     ['bidirectional_2[0][0]']        \n",
      " )                                                                                                \n",
      "                                                                                                  \n",
      " bidirectional_6 (Bidirectional  (None, 60, 512)     1575936     ['multiply[0][0]']               \n",
      " )                                                                                                \n",
      "                                                                                                  \n",
      " multiply_1 (Multiply)          (None, 60, 512)      0           ['bidirectional_3[0][0]',        \n",
      "                                                                  'bidirectional_6[0][0]']        \n",
      "                                                                                                  \n",
      " bidirectional_4 (Bidirectional  (None, 60, 256)     656384      ['bidirectional_3[0][0]']        \n",
      " )                                                                                                \n",
      "                                                                                                  \n",
      " bidirectional_7 (Bidirectional  (None, 60, 256)     493056      ['multiply_1[0][0]']             \n",
      " )                                                                                                \n",
      "                                                                                                  \n",
      " concatenate (Concatenate)      (None, 60, 4096)     0           ['bidirectional[0][0]',          \n",
      "                                                                  'bidirectional_2[0][0]',        \n",
      "                                                                  'bidirectional_4[0][0]',        \n",
      "                                                                  'bidirectional_5[0][0]',        \n",
      "                                                                  'bidirectional_6[0][0]',        \n",
      "                                                                  'bidirectional_7[0][0]']        \n",
      "                                                                                                  \n",
      " global_max_pooling1d (GlobalMa  (None, 4096)        0           ['concatenate[0][0]']            \n",
      " xPooling1D)                                                                                      \n",
      "                                                                                                  \n",
      " dense (Dense)                  (None, 1024)         4195328     ['global_max_pooling1d[0][0]']   \n",
      "                                                                                                  \n",
      " dense_1 (Dense)                (None, 128)          131200      ['dense[0][0]']                  \n",
      "                                                                                                  \n",
      " dense_2 (Dense)                (None, 1)            129         ['dense_1[0][0]']                \n",
      "                                                                                                  \n",
      "==================================================================================================\n",
      "Total params: 31,529,217\n",
      "Trainable params: 31,529,217\n",
      "Non-trainable params: 0\n",
      "__________________________________________________________________________________________________\n"
     ]
    }
   ],
   "source": [
    "model = dnn_model()\n",
    "model.summary()"
   ]
  },
  {
   "cell_type": "code",
   "execution_count": 18,
   "id": "1c9dfb42",
   "metadata": {
    "papermill": {
     "duration": 1.586331,
     "end_time": "2022-04-17T16:12:40.563408",
     "exception": false,
     "start_time": "2022-04-17T16:12:38.977077",
     "status": "completed"
    },
    "tags": []
   },
   "outputs": [
    {
     "name": "stdout",
     "output_type": "stream",
     "text": [
      "You must install pydot (`pip install pydot`) and install graphviz (see instructions at https://graphviz.gitlab.io/download/) for plot_model/model_to_dot to work.\n"
     ]
    }
   ],
   "source": [
    "plot_model(\n",
    "    model, \n",
    "    to_file='TPS_Apr22_TFv2_Model.png', \n",
    "    show_shapes=True,\n",
    "    show_layer_names=True\n",
    ")"
   ]
  },
  {
   "cell_type": "code",
   "execution_count": null,
   "id": "5abf617e",
   "metadata": {
    "papermill": {
     "duration": 3015.563253,
     "end_time": "2022-04-17T17:02:56.168984",
     "exception": false,
     "start_time": "2022-04-17T16:12:40.605731",
     "status": "completed"
    },
    "tags": []
   },
   "outputs": [
    {
     "name": "stdout",
     "output_type": "stream",
     "text": [
      "Epoch 1/100\n",
      "  17/2922 [..............................] - ETA: 4:02 - loss: 2.7696 - auc: 0.5376"
     ]
    }
   ],
   "source": [
    "with strategy.scope():\n",
    "    \n",
    "    VERBOSE = 1\n",
    "    test_preds = []\n",
    "    kf = StratifiedKFold(n_splits=10, shuffle=True, random_state=42)\n",
    "    \n",
    "    for fold, (train_idx, test_idx) in enumerate(kf.split(train, train_labels)):\n",
    "        X_train, X_valid = train[train_idx], train[test_idx]\n",
    "        y_train, y_valid = train_labels[train_idx], train_labels[test_idx]\n",
    "        \n",
    "        model = dnn_model()\n",
    "        model.compile(optimizer='adam', loss=\"binary_crossentropy\", metrics=['AUC'])\n",
    "\n",
    "        lr = ReduceLROnPlateau(monitor=\"val_auc\", factor=0.75, \n",
    "                               patience=4, verbose=VERBOSE)\n",
    "        \n",
    "        save_locally = tf.saved_model.SaveOptions(experimental_io_device='/job:localhost')\n",
    "        chk_point = ModelCheckpoint(f'./TPS_Apr22_TFv2_Model_{fold+1}C.h5', options=save_locally, \n",
    "                                    monitor='val_auc', verbose=VERBOSE, \n",
    "                                    save_best_only=True, mode='max')\n",
    "\n",
    "        es = EarlyStopping(monitor=\"val_auc\", patience=10, \n",
    "                           verbose=VERBOSE, mode=\"max\", \n",
    "                           restore_best_weights=True)\n",
    "        \n",
    "        model.fit(X_train, y_train, \n",
    "                  validation_data=(X_valid, y_valid), \n",
    "                  epochs=100,\n",
    "                  verbose=VERBOSE,\n",
    "                  batch_size=BATCH_SIZE, \n",
    "                  callbacks=[lr, chk_point, es])\n",
    "        \n",
    "        load_locally = tf.saved_model.LoadOptions(experimental_io_device='/job:localhost')\n",
    "        model = load_model(f'./TPS_Apr22_TFv2_Model_{fold+1}C.h5', options=load_locally)\n",
    "        \n",
    "        y_pred = model.predict(X_valid, batch_size=BATCH_SIZE, verbose=VERBOSE).squeeze()\n",
    "        score = roc_auc_score(y_valid, y_pred)\n",
    "        print(f\"Fold-{fold+1} | OOF Score: {score}\")\n",
    "        \n",
    "        test_preds.append(model.predict(test, batch_size=BATCH_SIZE, verbose=VERBOSE).squeeze())\n",
    "        \n",
    "        del model, y_pred\n",
    "        del X_train, X_valid\n",
    "        del y_train, y_valid\n",
    "        gc.collect()"
   ]
  },
  {
   "cell_type": "markdown",
   "id": "f594818e",
   "metadata": {
    "papermill": {
     "duration": 0.046985,
     "end_time": "2022-04-17T17:02:56.264293",
     "exception": false,
     "start_time": "2022-04-17T17:02:56.217308",
     "status": "completed"
    },
    "tags": []
   },
   "source": [
    "## Create submission file"
   ]
  },
  {
   "cell_type": "code",
   "execution_count": null,
   "id": "1a497ecf",
   "metadata": {
    "papermill": {
     "duration": 0.11964,
     "end_time": "2022-04-17T17:02:56.430905",
     "exception": false,
     "start_time": "2022-04-17T17:02:56.311265",
     "status": "completed"
    },
    "tags": []
   },
   "outputs": [],
   "source": [
    "submission[\"state\"] = np.mean(np.vstack(test_preds), axis=0)\n",
    "submission.to_csv('mean_submission.csv', index=False)\n",
    "submission.head()"
   ]
  },
  {
   "cell_type": "code",
   "execution_count": null,
   "id": "501aa37e",
   "metadata": {
    "papermill": {
     "duration": 0.105439,
     "end_time": "2022-04-17T17:02:56.584010",
     "exception": false,
     "start_time": "2022-04-17T17:02:56.478571",
     "status": "completed"
    },
    "tags": []
   },
   "outputs": [],
   "source": [
    "submission[\"state\"] = np.median(np.vstack(test_preds), axis=0)\n",
    "submission.to_csv('median_submission.csv', index=False)\n",
    "submission.head()"
   ]
  },
  {
   "cell_type": "code",
   "execution_count": null,
   "id": "809825e6",
   "metadata": {
    "papermill": {
     "duration": 0.055039,
     "end_time": "2022-04-17T17:02:56.685993",
     "exception": false,
     "start_time": "2022-04-17T17:02:56.630954",
     "status": "completed"
    },
    "tags": []
   },
   "outputs": [],
   "source": [
    "# Good Day!!"
   ]
  },
  {
   "cell_type": "code",
   "execution_count": null,
   "id": "6fd77aba-52bc-4f3b-a0fa-5b9bd78520e4",
   "metadata": {},
   "outputs": [],
   "source": []
  }
 ],
 "metadata": {
  "kernelspec": {
   "display_name": "Python 3 (ipykernel)",
   "language": "python",
   "name": "python3"
  },
  "language_info": {
   "codemirror_mode": {
    "name": "ipython",
    "version": 3
   },
   "file_extension": ".py",
   "mimetype": "text/x-python",
   "name": "python",
   "nbconvert_exporter": "python",
   "pygments_lexer": "ipython3",
   "version": "3.9.7"
  },
  "papermill": {
   "default_parameters": {},
   "duration": 3781.801426,
   "end_time": "2022-04-17T17:03:00.040612",
   "environment_variables": {},
   "exception": null,
   "input_path": "__notebook__.ipynb",
   "output_path": "__notebook__.ipynb",
   "parameters": {},
   "start_time": "2022-04-17T15:59:58.239186",
   "version": "2.3.3"
  }
 },
 "nbformat": 4,
 "nbformat_minor": 5
}
