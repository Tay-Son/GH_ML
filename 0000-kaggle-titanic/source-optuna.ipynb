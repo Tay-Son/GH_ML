{
 "cells": [
  {
   "cell_type": "code",
   "execution_count": 1,
   "id": "5c238ee1-2e69-4fa8-b51f-c4589ca1ef05",
   "metadata": {},
   "outputs": [],
   "source": [
    "# Notebook 출력설정\n",
    "# 주요 라이브러리 임포트\n",
    "\n",
    "import warnings\n",
    "warnings.filterwarnings('ignore')\n",
    "\n",
    "import numpy as np\n",
    "import pandas as pd\n",
    "pd.set_option('display.max_colwidth', -1)\n",
    "pd.set_option('display.max_rows', 500)\n",
    "pd.set_option('display.max_columns', 500)\n",
    "pd.set_option('display.width', 1000)\n",
    "\n",
    "%matplotlib inline\n",
    "import matplotlib.pylab as plt\n",
    "plt.rcParams[\"figure.figsize\"] = (15,5)\n",
    "plt.rcParams['lines.linewidth'] = 1\n",
    "plt.rcParams['axes.grid'] = True\n",
    "import seaborn as sns"
   ]
  },
  {
   "cell_type": "code",
   "execution_count": 2,
   "id": "836ec6e1-0bba-4afa-83d3-8214e8490caa",
   "metadata": {},
   "outputs": [],
   "source": [
    "DIR_DATASET = \"C:/Users/0stix/Datasets/\"\n",
    "NAME_PROJECT = '0000-kaggle-titanic'"
   ]
  },
  {
   "cell_type": "code",
   "execution_count": 21,
   "id": "a35dfdf0-d52e-48ce-b90d-d02474785935",
   "metadata": {},
   "outputs": [],
   "source": [
    "df_train = pd.read_csv(DIR_DATASET + NAME_PROJECT + '/train.csv', index_col='PassengerId')\n",
    "df_test = pd.read_csv(DIR_DATASET + NAME_PROJECT + '/test.csv', index_col='PassengerId')\n",
    "\n",
    "len_train = len(df_train)\n",
    "df_all = pd.concat([df_train, df_test], axis=0)\n",
    "target_ = 'Survived'"
   ]
  },
  {
   "cell_type": "code",
   "execution_count": 4,
   "id": "e569d8b6-e7a8-48f1-80c2-f7b5e82e68e1",
   "metadata": {},
   "outputs": [],
   "source": [
    "df_v0 = pd.DataFrame()\n",
    "df_v0['Sex'] = df_all['Sex'].astype('category').cat.codes\n",
    "df_v0['Embarked'] = df_all['Embarked'].fillna('S').astype('category').cat.codes\n",
    "df_v0['SibSp'] = df_all['SibSp'].copy()\n",
    "df_v0['Parch'] = df_all['Parch'].copy()\n",
    "df_v0['Family'] = 1 + df_v0['SibSp'] + df_v0['Parch']\n",
    "df_v0['Solo'] = df_v0['Family'].apply(lambda x:1 if x == 1 else 0)\n",
    "df_v0['Fare'] = pd.qcut(df_all['Fare'], 5).astype('category').cat.codes\n",
    "\n",
    "df_v0['Title'] = df_all['Name'].str.extract(' ([A-Za-z]+)\\.', expand=False)\n",
    "df_v0['Title'].replace(['Lady', 'Countess','Capt', 'Col','Don', 'Dr', 'Major', 'Rev', 'Sir', 'Jonkheer', 'Dona'], 'Other',inplace=True)\n",
    "df_v0['Title'].replace('Mlle', 'Miss')\n",
    "df_v0['Title'].replace('Ms', 'Miss')\n",
    "df_v0['Title'].replace('Mme', 'Mrs')\n",
    "df_v0['Title'] = df_v0['Title'].astype('category').cat.codes\n",
    "\n",
    "df_v0['Age'] = df_all['Age'].copy()\n",
    "df_v0['Age'].fillna(df_v0.groupby(\"Title\")[\"Age\"].transform(\"median\"), inplace=True)\n",
    "\n",
    "cnt_ = 1\n",
    "lst_age = [0, 10, 15, 20, 25, 30, 35, 40, 45, 50, 60, 120]\n",
    "for age_a, age_b in zip(lst_age[:-1],lst_age[1:]):\n",
    "    df_v0.loc[(df_v0['Age'] > age_a) & (df_v0['Age'] <= age_b), 'Age_c'] = cnt_\n",
    "    cnt_ += 1\n",
    "\n",
    "df_v0['Pclass'] = df_all['Pclass'].copy()\n",
    "dct_ = {chr_:idx_ for idx_, chr_ in enumerate('ABCDEFGT')}\n",
    "df_v0['Cabin'] = df_all['Cabin'].str[:1].map(dct_)\n",
    "df_v0['Cabin'] = df_v0.groupby('Pclass')['Cabin'].transform('median')\n",
    "\n",
    "df_v0['Survived'] = df_all['Survived'].copy()\n",
    "# df_train_v0 = df_v0[:len_train]\n",
    "# df_test_v0 = df_v0[len_train:]"
   ]
  },
  {
   "cell_type": "code",
   "execution_count": 5,
   "id": "4a11be9a-db5d-42bb-9a2d-c86490a47674",
   "metadata": {},
   "outputs": [],
   "source": [
    "X_, y_ = df_v0.drop(['Survived'], axis=1).values, df_v0[['Survived']].values\n",
    "# X_, y_ = df_v0.drop(['Survived'], axis=1), df_v0[['Survived']]\n",
    "\n",
    "X_train, X_test, y_train = X_[:len_train], X_[len_train:], y_[:len_train]"
   ]
  },
  {
   "cell_type": "code",
   "execution_count": 6,
   "id": "a4c174d0-d02c-4f14-b3c0-628928061a11",
   "metadata": {},
   "outputs": [],
   "source": [
    "from sklearn.model_selection import train_test_split\n",
    "from sklearn.metrics import accuracy_score\n",
    "from catboost import CatBoostClassifier\n",
    "import time\n",
    "\n",
    "\n",
    "def objective_(trial_):\n",
    "    lst_param = {\n",
    "        \"random_state\":trial_.suggest_categorical(\"random_state\", [1]),\n",
    "        'learning_rate' : trial_.suggest_loguniform('learning_rate', 0.0001, 0.3),\n",
    "        'bagging_temperature' :trial_.suggest_loguniform('bagging_temperature', 0.01, 100.00),\n",
    "        \"n_estimators\": 1000,\n",
    "        \"max_depth\":trial_.suggest_int(\"max_depth\", 2, 9),\n",
    "        'random_strength' :trial_.suggest_int('random_strength', 0, 100),\n",
    "        \"l2_leaf_reg\":trial_.suggest_float(\"l2_leaf_reg\",1e-8,3e-5),\n",
    "        \"min_child_samples\": trial_.suggest_int(\"min_child_samples\", 5, 100),\n",
    "        \"max_bin\": trial_.suggest_int(\"max_bin\", 50, 200),\n",
    "        'od_type': trial_.suggest_categorical('od_type', ['IncToDec', 'Iter']),\n",
    "        # 'task_type': trial_.suggest_categorical('task_type', ['GPU']),\n",
    "        # 'loss_function': trial_.suggest_categorical('loss_function', ['Accuracy']),\n",
    "        # 'eval_metric': trial_.suggest_categorical('eval_metric', ['Accuracy'])\n",
    "    }\n",
    "    \n",
    "    X_tr_t, X_va_t, y_tr_t, y_va_t = train_test_split(X_train, y_train, test_size=.3, random_state=1)\n",
    "    \n",
    "    model_ = CatBoostClassifier(**lst_param)\n",
    "    model_.fit(\n",
    "        X_tr_t,\n",
    "        y_tr_t,\n",
    "        eval_set=[(X_va_t, y_va_t)],\n",
    "        early_stopping_rounds=15,\n",
    "        verbose=0\n",
    "    )\n",
    "    \n",
    "    y_tr_p = model_.predict(X_tr_t)\n",
    "    y_va_p = model_.predict(X_va_t)\n",
    "    score_tr = accuracy_score(y_tr_t, y_tr_p)\n",
    "    score_va = accuracy_score(y_va_t, y_va_p)\n",
    "    print(score_tr, score_va)\n",
    "    \n",
    "    return score_va"
   ]
  },
  {
   "cell_type": "code",
   "execution_count": 7,
   "id": "5a30fed0-91c6-46ea-b937-a0870c33b7ba",
   "metadata": {
    "collapsed": true,
    "jupyter": {
     "outputs_hidden": true
    },
    "tags": []
   },
   "outputs": [
    {
     "name": "stderr",
     "output_type": "stream",
     "text": [
      "\u001b[32m[I 2022-03-27 18:54:33,679]\u001b[0m A new study created in memory with name: no-name-928d013e-8255-4b4a-a89e-bfcad490a823\u001b[0m\n",
      "\u001b[32m[I 2022-03-27 18:54:34,219]\u001b[0m Trial 0 finished with value: 0.7611940298507462 and parameters: {'random_state': 1, 'learning_rate': 0.0028186170601294433, 'bagging_temperature': 7.608481233714797, 'max_depth': 2, 'random_strength': 30, 'l2_leaf_reg': 4.41120916560522e-06, 'min_child_samples': 13, 'max_bin': 78, 'od_type': 'Iter'}. Best is trial 0 with value: 0.7611940298507462.\u001b[0m\n"
     ]
    },
    {
     "name": "stdout",
     "output_type": "stream",
     "text": [
      "0.8346709470304976 0.7611940298507462\n"
     ]
    },
    {
     "name": "stderr",
     "output_type": "stream",
     "text": [
      "\u001b[32m[I 2022-03-27 18:54:34,443]\u001b[0m Trial 1 finished with value: 0.7835820895522388 and parameters: {'random_state': 1, 'learning_rate': 0.007473621824976351, 'bagging_temperature': 0.47509237210306143, 'max_depth': 7, 'random_strength': 20, 'l2_leaf_reg': 2.6344741917364455e-05, 'min_child_samples': 7, 'max_bin': 151, 'od_type': 'Iter'}. Best is trial 1 with value: 0.7835820895522388.\u001b[0m\n"
     ]
    },
    {
     "name": "stdout",
     "output_type": "stream",
     "text": [
      "0.8860353130016051 0.7835820895522388\n"
     ]
    },
    {
     "name": "stderr",
     "output_type": "stream",
     "text": [
      "\u001b[32m[I 2022-03-27 18:54:35,339]\u001b[0m Trial 2 finished with value: 0.7611940298507462 and parameters: {'random_state': 1, 'learning_rate': 0.0003077105652918673, 'bagging_temperature': 0.0620020367716472, 'max_depth': 8, 'random_strength': 97, 'l2_leaf_reg': 9.409591102995692e-06, 'min_child_samples': 71, 'max_bin': 182, 'od_type': 'IncToDec'}. Best is trial 1 with value: 0.7835820895522388.\u001b[0m\n"
     ]
    },
    {
     "name": "stdout",
     "output_type": "stream",
     "text": [
      "0.8764044943820225 0.7611940298507462\n"
     ]
    },
    {
     "name": "stderr",
     "output_type": "stream",
     "text": [
      "\u001b[32m[I 2022-03-27 18:54:36,427]\u001b[0m Trial 3 finished with value: 0.7835820895522388 and parameters: {'random_state': 1, 'learning_rate': 0.00013670934951917445, 'bagging_temperature': 0.04778831065857701, 'max_depth': 9, 'random_strength': 9, 'l2_leaf_reg': 1.2639017673901514e-05, 'min_child_samples': 96, 'max_bin': 130, 'od_type': 'IncToDec'}. Best is trial 1 with value: 0.7835820895522388.\u001b[0m\n"
     ]
    },
    {
     "name": "stdout",
     "output_type": "stream",
     "text": [
      "0.8876404494382022 0.7835820895522388\n",
      "0.8539325842696629 0.7873134328358209\n"
     ]
    },
    {
     "name": "stderr",
     "output_type": "stream",
     "text": [
      "\u001b[32m[I 2022-03-27 18:54:36,613]\u001b[0m Trial 4 finished with value: 0.7873134328358209 and parameters: {'random_state': 1, 'learning_rate': 0.024380744710772666, 'bagging_temperature': 21.802318892988552, 'max_depth': 2, 'random_strength': 75, 'l2_leaf_reg': 2.9665944056305777e-05, 'min_child_samples': 76, 'max_bin': 92, 'od_type': 'IncToDec'}. Best is trial 4 with value: 0.7873134328358209.\u001b[0m\n",
      "\u001b[32m[I 2022-03-27 18:54:37,056]\u001b[0m Trial 5 finished with value: 0.7761194029850746 and parameters: {'random_state': 1, 'learning_rate': 0.003608943638977899, 'bagging_temperature': 43.09054751874316, 'max_depth': 4, 'random_strength': 29, 'l2_leaf_reg': 3.909556877827147e-06, 'min_child_samples': 6, 'max_bin': 152, 'od_type': 'Iter'}. Best is trial 4 with value: 0.7873134328358209.\u001b[0m\n"
     ]
    },
    {
     "name": "stdout",
     "output_type": "stream",
     "text": [
      "0.8780096308186196 0.7761194029850746\n"
     ]
    },
    {
     "name": "stderr",
     "output_type": "stream",
     "text": [
      "\u001b[32m[I 2022-03-27 18:54:37,298]\u001b[0m Trial 6 finished with value: 0.7761194029850746 and parameters: {'random_state': 1, 'learning_rate': 0.00511987644331619, 'bagging_temperature': 0.016347456126376794, 'max_depth': 6, 'random_strength': 14, 'l2_leaf_reg': 1.7683273051729495e-05, 'min_child_samples': 72, 'max_bin': 65, 'od_type': 'Iter'}. Best is trial 4 with value: 0.7873134328358209.\u001b[0m\n"
     ]
    },
    {
     "name": "stdout",
     "output_type": "stream",
     "text": [
      "0.884430176565008 0.7761194029850746\n"
     ]
    },
    {
     "name": "stderr",
     "output_type": "stream",
     "text": [
      "\u001b[32m[I 2022-03-27 18:54:37,729]\u001b[0m Trial 7 finished with value: 0.7686567164179104 and parameters: {'random_state': 1, 'learning_rate': 0.002755189922841211, 'bagging_temperature': 0.015842139594029105, 'max_depth': 6, 'random_strength': 67, 'l2_leaf_reg': 1.5451524470628675e-05, 'min_child_samples': 95, 'max_bin': 138, 'od_type': 'IncToDec'}. Best is trial 4 with value: 0.7873134328358209.\u001b[0m\n"
     ]
    },
    {
     "name": "stdout",
     "output_type": "stream",
     "text": [
      "0.8812199036918138 0.7686567164179104\n"
     ]
    },
    {
     "name": "stderr",
     "output_type": "stream",
     "text": [
      "\u001b[32m[I 2022-03-27 18:54:38,299]\u001b[0m Trial 8 finished with value: 0.7798507462686567 and parameters: {'random_state': 1, 'learning_rate': 0.0003049865921744471, 'bagging_temperature': 16.9654410644995, 'max_depth': 5, 'random_strength': 16, 'l2_leaf_reg': 2.7825982326077058e-05, 'min_child_samples': 38, 'max_bin': 163, 'od_type': 'Iter'}. Best is trial 4 with value: 0.7873134328358209.\u001b[0m\n",
      "\u001b[32m[I 2022-03-27 18:54:38,472]\u001b[0m Trial 9 finished with value: 0.7835820895522388 and parameters: {'random_state': 1, 'learning_rate': 0.014742932839200043, 'bagging_temperature': 10.08717919806723, 'max_depth': 4, 'random_strength': 27, 'l2_leaf_reg': 2.6877627683700047e-05, 'min_child_samples': 46, 'max_bin': 195, 'od_type': 'IncToDec'}. Best is trial 4 with value: 0.7873134328358209.\u001b[0m\n"
     ]
    },
    {
     "name": "stdout",
     "output_type": "stream",
     "text": [
      "0.8731942215088283 0.7798507462686567\n",
      "0.8764044943820225 0.7835820895522388\n"
     ]
    },
    {
     "name": "stderr",
     "output_type": "stream",
     "text": [
      "\u001b[32m[I 2022-03-27 18:54:38,554]\u001b[0m Trial 10 finished with value: 0.7873134328358209 and parameters: {'random_state': 1, 'learning_rate': 0.2736130240743567, 'bagging_temperature': 1.4685681712342116, 'max_depth': 2, 'random_strength': 68, 'l2_leaf_reg': 2.0259490534225215e-05, 'min_child_samples': 69, 'max_bin': 95, 'od_type': 'IncToDec'}. Best is trial 4 with value: 0.7873134328358209.\u001b[0m\n",
      "\u001b[32m[I 2022-03-27 18:54:38,639]\u001b[0m Trial 11 finished with value: 0.7723880597014925 and parameters: {'random_state': 1, 'learning_rate': 0.1727855808662338, 'bagging_temperature': 1.3465769925663673, 'max_depth': 2, 'random_strength': 69, 'l2_leaf_reg': 2.113020156677088e-05, 'min_child_samples': 74, 'max_bin': 98, 'od_type': 'IncToDec'}. Best is trial 4 with value: 0.7873134328358209.\u001b[0m\n",
      "\u001b[32m[I 2022-03-27 18:54:38,720]\u001b[0m Trial 12 finished with value: 0.7574626865671642 and parameters: {'random_state': 1, 'learning_rate': 0.18460593653382065, 'bagging_temperature': 1.4237396144108452, 'max_depth': 3, 'random_strength': 81, 'l2_leaf_reg': 2.2647008194200122e-05, 'min_child_samples': 56, 'max_bin': 103, 'od_type': 'IncToDec'}. Best is trial 4 with value: 0.7873134328358209.\u001b[0m\n"
     ]
    },
    {
     "name": "stdout",
     "output_type": "stream",
     "text": [
      "0.8635634028892456 0.7873134328358209\n",
      "0.8587479935794543 0.7723880597014925\n",
      "0.8715890850722311 0.7574626865671642\n"
     ]
    },
    {
     "name": "stderr",
     "output_type": "stream",
     "text": [
      "\u001b[32m[I 2022-03-27 18:54:38,847]\u001b[0m Trial 13 finished with value: 0.7723880597014925 and parameters: {'random_state': 1, 'learning_rate': 0.03570917682419282, 'bagging_temperature': 77.3702824584057, 'max_depth': 2, 'random_strength': 50, 'l2_leaf_reg': 2.995039620574427e-05, 'min_child_samples': 81, 'max_bin': 51, 'od_type': 'IncToDec'}. Best is trial 4 with value: 0.7873134328358209.\u001b[0m\n",
      "\u001b[32m[I 2022-03-27 18:54:38,966]\u001b[0m Trial 14 finished with value: 0.7835820895522388 and parameters: {'random_state': 1, 'learning_rate': 0.055769253527723245, 'bagging_temperature': 0.35111503605715016, 'max_depth': 3, 'random_strength': 50, 'l2_leaf_reg': 2.301828021508159e-05, 'min_child_samples': 59, 'max_bin': 104, 'od_type': 'IncToDec'}. Best is trial 4 with value: 0.7873134328358209.\u001b[0m\n"
     ]
    },
    {
     "name": "stdout",
     "output_type": "stream",
     "text": [
      "0.8475120385232745 0.7723880597014925\n",
      "0.8683788121990369 0.7835820895522388\n"
     ]
    },
    {
     "name": "stderr",
     "output_type": "stream",
     "text": [
      "\u001b[32m[I 2022-03-27 18:54:39,081]\u001b[0m Trial 15 finished with value: 0.7835820895522388 and parameters: {'random_state': 1, 'learning_rate': 0.06654861044729544, 'bagging_temperature': 3.4402068203666194, 'max_depth': 4, 'random_strength': 90, 'l2_leaf_reg': 1.9432706157720344e-05, 'min_child_samples': 29, 'max_bin': 85, 'od_type': 'IncToDec'}. Best is trial 4 with value: 0.7873134328358209.\u001b[0m\n",
      "\u001b[32m[I 2022-03-27 18:54:39,149]\u001b[0m Trial 16 finished with value: 0.7425373134328358 and parameters: {'random_state': 1, 'learning_rate': 0.2625217392568422, 'bagging_temperature': 33.19016000494406, 'max_depth': 3, 'random_strength': 66, 'l2_leaf_reg': 1.0500884094976865e-05, 'min_child_samples': 86, 'max_bin': 116, 'od_type': 'IncToDec'}. Best is trial 4 with value: 0.7873134328358209.\u001b[0m\n",
      "\u001b[32m[I 2022-03-27 18:54:39,295]\u001b[0m Trial 17 finished with value: 0.7761194029850746 and parameters: {'random_state': 1, 'learning_rate': 0.02242497851529822, 'bagging_temperature': 3.1235775389674196, 'max_depth': 5, 'random_strength': 77, 'l2_leaf_reg': 4.635331984805517e-08, 'min_child_samples': 61, 'max_bin': 79, 'od_type': 'IncToDec'}. Best is trial 4 with value: 0.7873134328358209.\u001b[0m\n"
     ]
    },
    {
     "name": "stdout",
     "output_type": "stream",
     "text": [
      "0.8747993579454254 0.7835820895522388\n",
      "0.8443017656500803 0.7425373134328358\n",
      "0.8796147672552167 0.7761194029850746\n"
     ]
    },
    {
     "name": "stderr",
     "output_type": "stream",
     "text": [
      "\u001b[32m[I 2022-03-27 18:54:39,399]\u001b[0m Trial 18 finished with value: 0.7798507462686567 and parameters: {'random_state': 1, 'learning_rate': 0.09859017838923861, 'bagging_temperature': 0.21710310893336832, 'max_depth': 2, 'random_strength': 56, 'l2_leaf_reg': 2.3994474459828028e-05, 'min_child_samples': 85, 'max_bin': 119, 'od_type': 'IncToDec'}. Best is trial 4 with value: 0.7873134328358209.\u001b[0m\n"
     ]
    },
    {
     "name": "stdout",
     "output_type": "stream",
     "text": [
      "0.8651685393258427 0.7798507462686567\n"
     ]
    },
    {
     "name": "stderr",
     "output_type": "stream",
     "text": [
      "\u001b[32m[I 2022-03-27 18:54:39,878]\u001b[0m Trial 19 finished with value: 0.7574626865671642 and parameters: {'random_state': 1, 'learning_rate': 0.0011367890985096115, 'bagging_temperature': 3.967374341251461, 'max_depth': 3, 'random_strength': 38, 'l2_leaf_reg': 1.664857236205949e-05, 'min_child_samples': 65, 'max_bin': 54, 'od_type': 'IncToDec'}. Best is trial 4 with value: 0.7873134328358209.\u001b[0m\n"
     ]
    },
    {
     "name": "stdout",
     "output_type": "stream",
     "text": [
      "0.8330658105939005 0.7574626865671642\n"
     ]
    },
    {
     "name": "stderr",
     "output_type": "stream",
     "text": [
      "\u001b[32m[I 2022-03-27 18:54:40,106]\u001b[0m Trial 20 finished with value: 0.7649253731343284 and parameters: {'random_state': 1, 'learning_rate': 0.013181961726790495, 'bagging_temperature': 0.12811394341447713, 'max_depth': 4, 'random_strength': 84, 'l2_leaf_reg': 2.513247492334395e-05, 'min_child_samples': 48, 'max_bin': 91, 'od_type': 'IncToDec'}. Best is trial 4 with value: 0.7873134328358209.\u001b[0m\n"
     ]
    },
    {
     "name": "stdout",
     "output_type": "stream",
     "text": [
      "0.8876404494382022 0.7649253731343284\n"
     ]
    },
    {
     "name": "stderr",
     "output_type": "stream",
     "text": [
      "\u001b[32m[I 2022-03-27 18:54:40,359]\u001b[0m Trial 21 finished with value: 0.7761194029850746 and parameters: {'random_state': 1, 'learning_rate': 0.008385326411728025, 'bagging_temperature': 0.5433433396336697, 'max_depth': 8, 'random_strength': 58, 'l2_leaf_reg': 2.9769590702887194e-05, 'min_child_samples': 19, 'max_bin': 150, 'od_type': 'Iter'}. Best is trial 4 with value: 0.7873134328358209.\u001b[0m\n"
     ]
    },
    {
     "name": "stdout",
     "output_type": "stream",
     "text": [
      "0.8876404494382022 0.7761194029850746\n"
     ]
    },
    {
     "name": "stderr",
     "output_type": "stream",
     "text": [
      "\u001b[32m[I 2022-03-27 18:54:41,128]\u001b[0m Trial 22 finished with value: 0.7723880597014925 and parameters: {'random_state': 1, 'learning_rate': 0.0010132310088360528, 'bagging_temperature': 0.9466827314484936, 'max_depth': 7, 'random_strength': 100, 'l2_leaf_reg': 2.6535577419757976e-05, 'min_child_samples': 30, 'max_bin': 115, 'od_type': 'Iter'}. Best is trial 4 with value: 0.7873134328358209.\u001b[0m\n",
      "\u001b[32m[I 2022-03-27 18:54:41,222]\u001b[0m Trial 23 finished with value: 0.7761194029850746 and parameters: {'random_state': 1, 'learning_rate': 0.035543571142718895, 'bagging_temperature': 0.4832913385181694, 'max_depth': 7, 'random_strength': 42, 'l2_leaf_reg': 2.023885039509454e-05, 'min_child_samples': 77, 'max_bin': 174, 'od_type': 'Iter'}. Best is trial 4 with value: 0.7873134328358209.\u001b[0m\n"
     ]
    },
    {
     "name": "stdout",
     "output_type": "stream",
     "text": [
      "0.884430176565008 0.7723880597014925\n",
      "0.8860353130016051 0.7761194029850746\n"
     ]
    },
    {
     "name": "stderr",
     "output_type": "stream",
     "text": [
      "\u001b[32m[I 2022-03-27 18:54:41,368]\u001b[0m Trial 24 finished with value: 0.7910447761194029 and parameters: {'random_state': 1, 'learning_rate': 0.010149838447239521, 'bagging_temperature': 0.15835488336719264, 'max_depth': 7, 'random_strength': 3, 'l2_leaf_reg': 2.5577900130027307e-05, 'min_child_samples': 51, 'max_bin': 132, 'od_type': 'Iter'}. Best is trial 24 with value: 0.7910447761194029.\u001b[0m\n",
      "\u001b[32m[I 2022-03-27 18:54:41,455]\u001b[0m Trial 25 finished with value: 0.7947761194029851 and parameters: {'random_state': 1, 'learning_rate': 0.10292780511029942, 'bagging_temperature': 0.09485622888338828, 'max_depth': 9, 'random_strength': 4, 'l2_leaf_reg': 2.8523380955038458e-05, 'min_child_samples': 66, 'max_bin': 132, 'od_type': 'Iter'}. Best is trial 25 with value: 0.7947761194029851.\u001b[0m\n",
      "\u001b[32m[I 2022-03-27 18:54:41,529]\u001b[0m Trial 26 finished with value: 0.7798507462686567 and parameters: {'random_state': 1, 'learning_rate': 0.1023501071707644, 'bagging_temperature': 0.0844550460886558, 'max_depth': 9, 'random_strength': 8, 'l2_leaf_reg': 2.86156484953366e-05, 'min_child_samples': 52, 'max_bin': 134, 'od_type': 'Iter'}. Best is trial 25 with value: 0.7947761194029851.\u001b[0m\n"
     ]
    },
    {
     "name": "stdout",
     "output_type": "stream",
     "text": [
      "0.8876404494382022 0.7910447761194029\n",
      "0.85553772070626 0.7947761194029851\n",
      "0.8459069020866774 0.7798507462686567\n"
     ]
    },
    {
     "name": "stderr",
     "output_type": "stream",
     "text": [
      "\u001b[32m[I 2022-03-27 18:54:41,621]\u001b[0m Trial 27 finished with value: 0.7649253731343284 and parameters: {'random_state': 1, 'learning_rate': 0.026484999949533596, 'bagging_temperature': 0.02946528938869136, 'max_depth': 8, 'random_strength': 0, 'l2_leaf_reg': 2.4779678689325112e-05, 'min_child_samples': 40, 'max_bin': 142, 'od_type': 'Iter'}. Best is trial 25 with value: 0.7947761194029851.\u001b[0m\n",
      "\u001b[32m[I 2022-03-27 18:54:41,694]\u001b[0m Trial 28 finished with value: 0.7873134328358209 and parameters: {'random_state': 1, 'learning_rate': 0.2789106669797584, 'bagging_temperature': 0.18067858441211296, 'max_depth': 9, 'random_strength': 1, 'l2_leaf_reg': 1.8674607107322532e-05, 'min_child_samples': 67, 'max_bin': 125, 'od_type': 'Iter'}. Best is trial 25 with value: 0.7947761194029851.\u001b[0m\n",
      "\u001b[32m[I 2022-03-27 18:54:41,780]\u001b[0m Trial 29 finished with value: 0.7798507462686567 and parameters: {'random_state': 1, 'learning_rate': 0.10018331515928942, 'bagging_temperature': 0.17263206329611744, 'max_depth': 9, 'random_strength': 5, 'l2_leaf_reg': 1.849594639121681e-05, 'min_child_samples': 65, 'max_bin': 125, 'od_type': 'Iter'}. Best is trial 25 with value: 0.7947761194029851.\u001b[0m\n"
     ]
    },
    {
     "name": "stdout",
     "output_type": "stream",
     "text": [
      "0.9229534510433387 0.7649253731343284\n",
      "0.8731942215088283 0.7873134328358209\n",
      "0.8812199036918138 0.7798507462686567\n"
     ]
    },
    {
     "name": "stderr",
     "output_type": "stream",
     "text": [
      "\u001b[32m[I 2022-03-27 18:54:41,947]\u001b[0m Trial 30 finished with value: 0.7798507462686567 and parameters: {'random_state': 1, 'learning_rate': 0.014886249477118025, 'bagging_temperature': 0.04385524502509173, 'max_depth': 6, 'random_strength': 40, 'l2_leaf_reg': 2.8287374136240417e-05, 'min_child_samples': 88, 'max_bin': 110, 'od_type': 'Iter'}. Best is trial 25 with value: 0.7947761194029851.\u001b[0m\n",
      "\u001b[32m[I 2022-03-27 18:54:42,042]\u001b[0m Trial 31 finished with value: 0.7798507462686567 and parameters: {'random_state': 1, 'learning_rate': 0.062456749468320964, 'bagging_temperature': 0.11302566622429203, 'max_depth': 8, 'random_strength': 1, 'l2_leaf_reg': 2.221700913472266e-05, 'min_child_samples': 53, 'max_bin': 122, 'od_type': 'Iter'}. Best is trial 25 with value: 0.7947761194029851.\u001b[0m\n",
      "\u001b[32m[I 2022-03-27 18:54:42,117]\u001b[0m Trial 32 finished with value: 0.7798507462686567 and parameters: {'random_state': 1, 'learning_rate': 0.13065585050589487, 'bagging_temperature': 0.2705430174198248, 'max_depth': 9, 'random_strength': 21, 'l2_leaf_reg': 2.561413007594658e-05, 'min_child_samples': 63, 'max_bin': 145, 'od_type': 'Iter'}. Best is trial 25 with value: 0.7947761194029851.\u001b[0m\n"
     ]
    },
    {
     "name": "stdout",
     "output_type": "stream",
     "text": [
      "0.884430176565008 0.7798507462686567\n",
      "0.8796147672552167 0.7798507462686567\n",
      "0.8587479935794543 0.7798507462686567\n"
     ]
    },
    {
     "name": "stderr",
     "output_type": "stream",
     "text": [
      "\u001b[32m[I 2022-03-27 18:54:42,183]\u001b[0m Trial 33 finished with value: 0.7835820895522388 and parameters: {'random_state': 1, 'learning_rate': 0.2933533063891074, 'bagging_temperature': 0.799909969537209, 'max_depth': 7, 'random_strength': 13, 'l2_leaf_reg': 1.3233618802735022e-05, 'min_child_samples': 68, 'max_bin': 165, 'od_type': 'Iter'}. Best is trial 25 with value: 0.7947761194029851.\u001b[0m\n",
      "\u001b[32m[I 2022-03-27 18:54:42,272]\u001b[0m Trial 34 finished with value: 0.7873134328358209 and parameters: {'random_state': 1, 'learning_rate': 0.04251740804751719, 'bagging_temperature': 0.010260845052162413, 'max_depth': 8, 'random_strength': 20, 'l2_leaf_reg': 2.7126116683496985e-05, 'min_child_samples': 79, 'max_bin': 69, 'od_type': 'Iter'}. Best is trial 25 with value: 0.7947761194029851.\u001b[0m\n",
      "\u001b[32m[I 2022-03-27 18:54:42,355]\u001b[0m Trial 35 finished with value: 0.7761194029850746 and parameters: {'random_state': 1, 'learning_rate': 0.04906362303722838, 'bagging_temperature': 0.010435335284159103, 'max_depth': 8, 'random_strength': 22, 'l2_leaf_reg': 2.7109080934534168e-05, 'min_child_samples': 79, 'max_bin': 68, 'od_type': 'Iter'}. Best is trial 25 with value: 0.7947761194029851.\u001b[0m\n"
     ]
    },
    {
     "name": "stdout",
     "output_type": "stream",
     "text": [
      "0.8683788121990369 0.7835820895522388\n",
      "0.9004815409309791 0.7873134328358209\n",
      "0.8940609951845907 0.7761194029850746\n"
     ]
    },
    {
     "name": "stderr",
     "output_type": "stream",
     "text": [
      "\u001b[32m[I 2022-03-27 18:54:42,698]\u001b[0m Trial 36 finished with value: 0.7761194029850746 and parameters: {'random_state': 1, 'learning_rate': 0.008058439821527761, 'bagging_temperature': 7.423703411719801, 'max_depth': 2, 'random_strength': 70, 'l2_leaf_reg': 2.413187631113727e-05, 'min_child_samples': 92, 'max_bin': 96, 'od_type': 'IncToDec'}. Best is trial 25 with value: 0.7947761194029851.\u001b[0m\n",
      "\u001b[32m[I 2022-03-27 18:54:42,768]\u001b[0m Trial 37 finished with value: 0.7425373134328358 and parameters: {'random_state': 1, 'learning_rate': 0.16235076113682279, 'bagging_temperature': 0.037084634663418506, 'max_depth': 8, 'random_strength': 34, 'l2_leaf_reg': 2.130361353102895e-05, 'min_child_samples': 71, 'max_bin': 74, 'od_type': 'Iter'}. Best is trial 25 with value: 0.7947761194029851.\u001b[0m\n"
     ]
    },
    {
     "name": "stdout",
     "output_type": "stream",
     "text": [
      "0.8459069020866774 0.7761194029850746\n",
      "0.869983948635634 0.7425373134328358\n"
     ]
    },
    {
     "name": "stderr",
     "output_type": "stream",
     "text": [
      "\u001b[32m[I 2022-03-27 18:54:43,369]\u001b[0m Trial 38 finished with value: 0.7761194029850746 and parameters: {'random_state': 1, 'learning_rate': 0.002072343966999238, 'bagging_temperature': 0.06319022513130713, 'max_depth': 9, 'random_strength': 6, 'l2_leaf_reg': 7.654708403732579e-06, 'min_child_samples': 100, 'max_bin': 158, 'od_type': 'Iter'}. Best is trial 25 with value: 0.7947761194029851.\u001b[0m\n"
     ]
    },
    {
     "name": "stdout",
     "output_type": "stream",
     "text": [
      "0.8972712680577849 0.7761194029850746\n"
     ]
    },
    {
     "name": "stderr",
     "output_type": "stream",
     "text": [
      "\u001b[32m[I 2022-03-27 18:54:43,615]\u001b[0m Trial 39 finished with value: 0.7761194029850746 and parameters: {'random_state': 1, 'learning_rate': 0.004957107128999068, 'bagging_temperature': 0.021087188242398178, 'max_depth': 7, 'random_strength': 13, 'l2_leaf_reg': 2.9059041483245747e-05, 'min_child_samples': 78, 'max_bin': 59, 'od_type': 'Iter'}. Best is trial 25 with value: 0.7947761194029851.\u001b[0m\n",
      "\u001b[32m[I 2022-03-27 18:54:43,704]\u001b[0m Trial 40 finished with value: 0.7761194029850746 and parameters: {'random_state': 1, 'learning_rate': 0.07475833664764397, 'bagging_temperature': 0.01017725448363534, 'max_depth': 9, 'random_strength': 18, 'l2_leaf_reg': 1.4198467551384492e-05, 'min_child_samples': 46, 'max_bin': 127, 'od_type': 'Iter'}. Best is trial 25 with value: 0.7947761194029851.\u001b[0m\n",
      "\u001b[32m[I 2022-03-27 18:54:43,774]\u001b[0m Trial 41 finished with value: 0.7761194029850746 and parameters: {'random_state': 1, 'learning_rate': 0.22602273403877676, 'bagging_temperature': 0.14358018455916147, 'max_depth': 5, 'random_strength': 75, 'l2_leaf_reg': 1.885041313595304e-05, 'min_child_samples': 70, 'max_bin': 135, 'od_type': 'IncToDec'}. Best is trial 25 with value: 0.7947761194029851.\u001b[0m\n"
     ]
    },
    {
     "name": "stdout",
     "output_type": "stream",
     "text": [
      "0.8908507223113965 0.7761194029850746\n",
      "0.8731942215088283 0.7761194029850746\n",
      "0.8812199036918138 0.7761194029850746\n"
     ]
    },
    {
     "name": "stderr",
     "output_type": "stream",
     "text": [
      "\u001b[32m[I 2022-03-27 18:54:43,909]\u001b[0m Trial 42 finished with value: 0.7723880597014925 and parameters: {'random_state': 1, 'learning_rate': 0.021683280010328054, 'bagging_temperature': 27.356023305397617, 'max_depth': 6, 'random_strength': 61, 'l2_leaf_reg': 2.7507321741741627e-05, 'min_child_samples': 75, 'max_bin': 79, 'od_type': 'Iter'}. Best is trial 25 with value: 0.7947761194029851.\u001b[0m\n",
      "\u001b[32m[I 2022-03-27 18:54:43,993]\u001b[0m Trial 43 finished with value: 0.7761194029850746 and parameters: {'random_state': 1, 'learning_rate': 0.13038830971197432, 'bagging_temperature': 1.7263705036769328, 'max_depth': 9, 'random_strength': 25, 'l2_leaf_reg': 1.724034673000413e-05, 'min_child_samples': 58, 'max_bin': 111, 'od_type': 'Iter'}. Best is trial 25 with value: 0.7947761194029851.\u001b[0m\n",
      "\u001b[32m[I 2022-03-27 18:54:44,089]\u001b[0m Trial 44 finished with value: 0.7835820895522388 and parameters: {'random_state': 1, 'learning_rate': 0.03463109960823123, 'bagging_temperature': 0.07336209247746354, 'max_depth': 8, 'random_strength': 10, 'l2_leaf_reg': 2.6103834356771953e-05, 'min_child_samples': 82, 'max_bin': 64, 'od_type': 'Iter'}. Best is trial 25 with value: 0.7947761194029851.\u001b[0m\n"
     ]
    },
    {
     "name": "stdout",
     "output_type": "stream",
     "text": [
      "0.8812199036918138 0.7723880597014925\n",
      "0.8747993579454254 0.7761194029850746\n",
      "0.8876404494382022 0.7835820895522388\n"
     ]
    },
    {
     "name": "stderr",
     "output_type": "stream",
     "text": [
      "\u001b[32m[I 2022-03-27 18:54:44,233]\u001b[0m Trial 45 finished with value: 0.7910447761194029 and parameters: {'random_state': 1, 'learning_rate': 0.013151362118090109, 'bagging_temperature': 0.3356460519899304, 'max_depth': 8, 'random_strength': 4, 'l2_leaf_reg': 2.9959037630186218e-05, 'min_child_samples': 54, 'max_bin': 90, 'od_type': 'Iter'}. Best is trial 25 with value: 0.7947761194029851.\u001b[0m\n",
      "\u001b[32m[I 2022-03-27 18:54:44,364]\u001b[0m Trial 46 finished with value: 0.7835820895522388 and parameters: {'random_state': 1, 'learning_rate': 0.012091507032609076, 'bagging_temperature': 0.2877684301275718, 'max_depth': 7, 'random_strength': 2, 'l2_leaf_reg': 2.804519758186671e-05, 'min_child_samples': 39, 'max_bin': 144, 'od_type': 'Iter'}. Best is trial 25 with value: 0.7947761194029851.\u001b[0m\n"
     ]
    },
    {
     "name": "stdout",
     "output_type": "stream",
     "text": [
      "0.8892455858747994 0.7910447761194029\n",
      "0.8940609951845907 0.7835820895522388\n"
     ]
    },
    {
     "name": "stderr",
     "output_type": "stream",
     "text": [
      "\u001b[32m[I 2022-03-27 18:54:44,815]\u001b[0m Trial 47 finished with value: 0.7723880597014925 and parameters: {'random_state': 1, 'learning_rate': 0.00334435000148276, 'bagging_temperature': 0.38350117854320337, 'max_depth': 9, 'random_strength': 10, 'l2_leaf_reg': 2.9851508348173627e-05, 'min_child_samples': 51, 'max_bin': 88, 'od_type': 'Iter'}. Best is trial 25 with value: 0.7947761194029851.\u001b[0m\n"
     ]
    },
    {
     "name": "stdout",
     "output_type": "stream",
     "text": [
      "0.9036918138041734 0.7723880597014925\n"
     ]
    },
    {
     "name": "stderr",
     "output_type": "stream",
     "text": [
      "\u001b[32m[I 2022-03-27 18:54:45,096]\u001b[0m Trial 48 finished with value: 0.7723880597014925 and parameters: {'random_state': 1, 'learning_rate': 0.006003693059453361, 'bagging_temperature': 91.06400799991161, 'max_depth': 8, 'random_strength': 31, 'l2_leaf_reg': 2.656000799614406e-05, 'min_child_samples': 56, 'max_bin': 103, 'od_type': 'Iter'}. Best is trial 25 with value: 0.7947761194029851.\u001b[0m\n",
      "\u001b[32m[I 2022-03-27 18:54:45,175]\u001b[0m Trial 49 finished with value: 0.7985074626865671 and parameters: {'random_state': 1, 'learning_rate': 0.18333296252694983, 'bagging_temperature': 0.7511073805612992, 'max_depth': 9, 'random_strength': 4, 'l2_leaf_reg': 1.5892553741851624e-05, 'min_child_samples': 43, 'max_bin': 128, 'od_type': 'Iter'}. Best is trial 49 with value: 0.7985074626865671.\u001b[0m\n"
     ]
    },
    {
     "name": "stdout",
     "output_type": "stream",
     "text": [
      "0.884430176565008 0.7723880597014925\n",
      "0.85553772070626 0.7985074626865671\n"
     ]
    },
    {
     "name": "stderr",
     "output_type": "stream",
     "text": [
      "\u001b[32m[I 2022-03-27 18:54:45,311]\u001b[0m Trial 50 finished with value: 0.7761194029850746 and parameters: {'random_state': 1, 'learning_rate': 0.019105053081928315, 'bagging_temperature': 0.7277852418205463, 'max_depth': 7, 'random_strength': 93, 'l2_leaf_reg': 2.3196269990646986e-05, 'min_child_samples': 43, 'max_bin': 133, 'od_type': 'Iter'}. Best is trial 49 with value: 0.7985074626865671.\u001b[0m\n",
      "\u001b[32m[I 2022-03-27 18:54:45,420]\u001b[0m Trial 51 finished with value: 0.7835820895522388 and parameters: {'random_state': 1, 'learning_rate': 0.043234465507442275, 'bagging_temperature': 1.893781720685088, 'max_depth': 8, 'random_strength': 15, 'l2_leaf_reg': 2.8798665486942314e-05, 'min_child_samples': 36, 'max_bin': 109, 'od_type': 'Iter'}. Best is trial 49 with value: 0.7985074626865671.\u001b[0m\n"
     ]
    },
    {
     "name": "stdout",
     "output_type": "stream",
     "text": [
      "0.8796147672552167 0.7761194029850746\n",
      "0.8940609951845907 0.7835820895522388\n"
     ]
    },
    {
     "name": "stderr",
     "output_type": "stream",
     "text": [
      "\u001b[32m[I 2022-03-27 18:54:45,581]\u001b[0m Trial 52 finished with value: 0.7798507462686567 and parameters: {'random_state': 1, 'learning_rate': 0.010286098388483367, 'bagging_temperature': 0.0923959398777212, 'max_depth': 8, 'random_strength': 5, 'l2_leaf_reg': 1.1205636279764705e-05, 'min_child_samples': 29, 'max_bin': 73, 'od_type': 'Iter'}. Best is trial 49 with value: 0.7985074626865671.\u001b[0m\n",
      "\u001b[32m[I 2022-03-27 18:54:45,663]\u001b[0m Trial 53 finished with value: 0.7947761194029851 and parameters: {'random_state': 1, 'learning_rate': 0.18691975652862994, 'bagging_temperature': 0.1770479288530046, 'max_depth': 9, 'random_strength': 4, 'l2_leaf_reg': 1.5979517586749397e-05, 'min_child_samples': 34, 'max_bin': 128, 'od_type': 'Iter'}. Best is trial 49 with value: 0.7985074626865671.\u001b[0m\n",
      "\u001b[32m[I 2022-03-27 18:54:45,776]\u001b[0m Trial 54 finished with value: 0.7947761194029851 and parameters: {'random_state': 1, 'learning_rate': 0.08143581825088306, 'bagging_temperature': 0.6356511742131209, 'max_depth': 9, 'random_strength': 11, 'l2_leaf_reg': 1.5708437202068e-05, 'min_child_samples': 34, 'max_bin': 141, 'od_type': 'Iter'}. Best is trial 49 with value: 0.7985074626865671.\u001b[0m\n"
     ]
    },
    {
     "name": "stdout",
     "output_type": "stream",
     "text": [
      "0.8908507223113965 0.7798507462686567\n",
      "0.8523274478330658 0.7947761194029851\n",
      "0.8812199036918138 0.7947761194029851\n"
     ]
    },
    {
     "name": "stderr",
     "output_type": "stream",
     "text": [
      "\u001b[32m[I 2022-03-27 18:54:45,849]\u001b[0m Trial 55 finished with value: 0.7798507462686567 and parameters: {'random_state': 1, 'learning_rate': 0.18910570081872835, 'bagging_temperature': 0.2244947332278955, 'max_depth': 9, 'random_strength': 5, 'l2_leaf_reg': 7.6500289886961e-06, 'min_child_samples': 33, 'max_bin': 153, 'od_type': 'Iter'}. Best is trial 49 with value: 0.7985074626865671.\u001b[0m\n",
      "\u001b[32m[I 2022-03-27 18:54:45,935]\u001b[0m Trial 56 finished with value: 0.7835820895522388 and parameters: {'random_state': 1, 'learning_rate': 0.07726180815251182, 'bagging_temperature': 0.5331662989507787, 'max_depth': 9, 'random_strength': 10, 'l2_leaf_reg': 1.4050444531339191e-05, 'min_child_samples': 21, 'max_bin': 137, 'od_type': 'Iter'}. Best is trial 49 with value: 0.7985074626865671.\u001b[0m\n",
      "\u001b[32m[I 2022-03-27 18:54:46,008]\u001b[0m Trial 57 finished with value: 0.7761194029850746 and parameters: {'random_state': 1, 'learning_rate': 0.12452533328488634, 'bagging_temperature': 0.32616959830088826, 'max_depth': 9, 'random_strength': 17, 'l2_leaf_reg': 1.5311403760872595e-05, 'min_child_samples': 23, 'max_bin': 128, 'od_type': 'Iter'}. Best is trial 49 with value: 0.7985074626865671.\u001b[0m\n"
     ]
    },
    {
     "name": "stdout",
     "output_type": "stream",
     "text": [
      "0.8796147672552167 0.7798507462686567\n",
      "0.8635634028892456 0.7835820895522388\n",
      "0.8747993579454254 0.7761194029850746\n"
     ]
    },
    {
     "name": "stderr",
     "output_type": "stream",
     "text": [
      "\u001b[32m[I 2022-03-27 18:54:47,112]\u001b[0m Trial 58 finished with value: 0.7761194029850746 and parameters: {'random_state': 1, 'learning_rate': 0.0004493382518329624, 'bagging_temperature': 0.6687181367641915, 'max_depth': 9, 'random_strength': 13, 'l2_leaf_reg': 1.6404039080562643e-05, 'min_child_samples': 12, 'max_bin': 141, 'od_type': 'Iter'}. Best is trial 49 with value: 0.7985074626865671.\u001b[0m\n",
      "\u001b[32m[I 2022-03-27 18:54:47,180]\u001b[0m Trial 59 finished with value: 0.7761194029850746 and parameters: {'random_state': 1, 'learning_rate': 0.21117444558874712, 'bagging_temperature': 1.120749337555912, 'max_depth': 8, 'random_strength': 4, 'l2_leaf_reg': 1.2153669985646058e-05, 'min_child_samples': 42, 'max_bin': 119, 'od_type': 'Iter'}. Best is trial 49 with value: 0.7985074626865671.\u001b[0m\n",
      "\u001b[32m[I 2022-03-27 18:54:47,287]\u001b[0m Trial 60 finished with value: 0.7723880597014925 and parameters: {'random_state': 1, 'learning_rate': 0.029130820022910533, 'bagging_temperature': 2.313985244110504, 'max_depth': 9, 'random_strength': 8, 'l2_leaf_reg': 3.0080796810286284e-06, 'min_child_samples': 48, 'max_bin': 148, 'od_type': 'Iter'}. Best is trial 49 with value: 0.7985074626865671.\u001b[0m\n"
     ]
    },
    {
     "name": "stdout",
     "output_type": "stream",
     "text": [
      "0.8892455858747994 0.7761194029850746\n",
      "0.8651685393258427 0.7761194029850746\n",
      "0.884430176565008 0.7723880597014925\n"
     ]
    },
    {
     "name": "stderr",
     "output_type": "stream",
     "text": [
      "\u001b[32m[I 2022-03-27 18:54:47,393]\u001b[0m Trial 61 finished with value: 0.7686567164179104 and parameters: {'random_state': 1, 'learning_rate': 0.016860917007140985, 'bagging_temperature': 0.4196700079943506, 'max_depth': 9, 'random_strength': 0, 'l2_leaf_reg': 2.9809868157510174e-05, 'min_child_samples': 25, 'max_bin': 131, 'od_type': 'IncToDec'}. Best is trial 49 with value: 0.7985074626865671.\u001b[0m\n",
      "\u001b[32m[I 2022-03-27 18:54:47,485]\u001b[0m Trial 62 finished with value: 0.7798507462686567 and parameters: {'random_state': 1, 'learning_rate': 0.08142489267350896, 'bagging_temperature': 0.20141953750916175, 'max_depth': 8, 'random_strength': 45, 'l2_leaf_reg': 1.553243179676319e-05, 'min_child_samples': 34, 'max_bin': 116, 'od_type': 'IncToDec'}. Best is trial 49 with value: 0.7985074626865671.\u001b[0m\n",
      "\u001b[32m[I 2022-03-27 18:54:47,572]\u001b[0m Trial 63 finished with value: 0.7835820895522388 and parameters: {'random_state': 1, 'learning_rate': 0.17113980794431083, 'bagging_temperature': 53.68957082301564, 'max_depth': 9, 'random_strength': 7, 'l2_leaf_reg': 2.7910215453457516e-05, 'min_child_samples': 42, 'max_bin': 121, 'od_type': 'Iter'}. Best is trial 49 with value: 0.7985074626865671.\u001b[0m\n"
     ]
    },
    {
     "name": "stdout",
     "output_type": "stream",
     "text": [
      "0.9181380417335474 0.7686567164179104\n",
      "0.8924558587479936 0.7798507462686567\n",
      "0.8731942215088283 0.7835820895522388\n"
     ]
    },
    {
     "name": "stderr",
     "output_type": "stream",
     "text": [
      "\u001b[32m[I 2022-03-27 18:54:47,645]\u001b[0m Trial 64 finished with value: 0.7723880597014925 and parameters: {'random_state': 1, 'learning_rate': 0.2833977353501557, 'bagging_temperature': 0.11391695186195225, 'max_depth': 9, 'random_strength': 3, 'l2_leaf_reg': 1.6111869499322442e-05, 'min_child_samples': 45, 'max_bin': 156, 'od_type': 'Iter'}. Best is trial 49 with value: 0.7985074626865671.\u001b[0m\n",
      "\u001b[32m[I 2022-03-27 18:54:47,834]\u001b[0m Trial 65 finished with value: 0.7723880597014925 and parameters: {'random_state': 1, 'learning_rate': 0.010218207525443938, 'bagging_temperature': 5.174929699045627, 'max_depth': 5, 'random_strength': 11, 'l2_leaf_reg': 1.765459061161287e-05, 'min_child_samples': 50, 'max_bin': 140, 'od_type': 'IncToDec'}. Best is trial 49 with value: 0.7985074626865671.\u001b[0m\n"
     ]
    },
    {
     "name": "stdout",
     "output_type": "stream",
     "text": [
      "0.8715890850722311 0.7723880597014925\n",
      "0.8876404494382022 0.7723880597014925\n"
     ]
    },
    {
     "name": "stderr",
     "output_type": "stream",
     "text": [
      "\u001b[32m[I 2022-03-27 18:54:48,232]\u001b[0m Trial 66 finished with value: 0.7649253731343284 and parameters: {'random_state': 1, 'learning_rate': 0.006084839658305538, 'bagging_temperature': 0.16061115748670032, 'max_depth': 4, 'random_strength': 85, 'l2_leaf_reg': 9.424031725822947e-06, 'min_child_samples': 55, 'max_bin': 84, 'od_type': 'Iter'}. Best is trial 49 with value: 0.7985074626865671.\u001b[0m\n",
      "\u001b[32m[I 2022-03-27 18:54:48,312]\u001b[0m Trial 67 finished with value: 0.7798507462686567 and parameters: {'random_state': 1, 'learning_rate': 0.1350738309340011, 'bagging_temperature': 0.05046291512630346, 'max_depth': 9, 'random_strength': 0, 'l2_leaf_reg': 1.4476436314838871e-05, 'min_child_samples': 65, 'max_bin': 124, 'od_type': 'Iter'}. Best is trial 49 with value: 0.7985074626865671.\u001b[0m\n",
      "\u001b[32m[I 2022-03-27 18:54:48,386]\u001b[0m Trial 68 finished with value: 0.7835820895522388 and parameters: {'random_state': 1, 'learning_rate': 0.09989323923472998, 'bagging_temperature': 0.2295626306310539, 'max_depth': 8, 'random_strength': 3, 'l2_leaf_reg': 1.9924732407928167e-05, 'min_child_samples': 62, 'max_bin': 170, 'od_type': 'Iter'}. Best is trial 49 with value: 0.7985074626865671.\u001b[0m\n"
     ]
    },
    {
     "name": "stdout",
     "output_type": "stream",
     "text": [
      "0.8780096308186196 0.7649253731343284\n",
      "0.898876404494382 0.7798507462686567\n",
      "0.869983948635634 0.7835820895522388\n"
     ]
    },
    {
     "name": "stderr",
     "output_type": "stream",
     "text": [
      "\u001b[32m[I 2022-03-27 18:54:48,472]\u001b[0m Trial 69 finished with value: 0.7910447761194029 and parameters: {'random_state': 1, 'learning_rate': 0.052995872494541595, 'bagging_temperature': 0.020429759770785767, 'max_depth': 8, 'random_strength': 18, 'l2_leaf_reg': 2.4217488405664784e-05, 'min_child_samples': 37, 'max_bin': 129, 'od_type': 'Iter'}. Best is trial 49 with value: 0.7985074626865671.\u001b[0m\n",
      "\u001b[32m[I 2022-03-27 18:54:48,561]\u001b[0m Trial 70 finished with value: 0.7723880597014925 and parameters: {'random_state': 1, 'learning_rate': 0.056409021780807124, 'bagging_temperature': 0.025416167154265288, 'max_depth': 7, 'random_strength': 24, 'l2_leaf_reg': 2.4973835091204066e-05, 'min_child_samples': 26, 'max_bin': 148, 'od_type': 'Iter'}. Best is trial 49 with value: 0.7985074626865671.\u001b[0m\n",
      "\u001b[32m[I 2022-03-27 18:54:48,633]\u001b[0m Trial 71 finished with value: 0.7910447761194029 and parameters: {'random_state': 1, 'learning_rate': 0.22453038420155172, 'bagging_temperature': 0.9384805579613211, 'max_depth': 9, 'random_strength': 7, 'l2_leaf_reg': 2.1029928334742403e-05, 'min_child_samples': 37, 'max_bin': 194, 'od_type': 'Iter'}. Best is trial 49 with value: 0.7985074626865671.\u001b[0m\n"
     ]
    },
    {
     "name": "stdout",
     "output_type": "stream",
     "text": [
      "0.884430176565008 0.7910447761194029\n",
      "0.884430176565008 0.7723880597014925\n",
      "0.85553772070626 0.7910447761194029\n"
     ]
    },
    {
     "name": "stderr",
     "output_type": "stream",
     "text": [
      "\u001b[32m[I 2022-03-27 18:54:48,711]\u001b[0m Trial 72 finished with value: 0.7910447761194029 and parameters: {'random_state': 1, 'learning_rate': 0.14329264786315485, 'bagging_temperature': 1.0842780040035596, 'max_depth': 8, 'random_strength': 16, 'l2_leaf_reg': 2.3798087690719525e-05, 'min_child_samples': 37, 'max_bin': 199, 'od_type': 'Iter'}. Best is trial 49 with value: 0.7985074626865671.\u001b[0m\n",
      "\u001b[32m[I 2022-03-27 18:54:48,785]\u001b[0m Trial 73 finished with value: 0.7835820895522388 and parameters: {'random_state': 1, 'learning_rate': 0.15386630434269133, 'bagging_temperature': 1.1487405642866597, 'max_depth': 9, 'random_strength': 8, 'l2_leaf_reg': 2.562094494191205e-05, 'min_child_samples': 34, 'max_bin': 200, 'od_type': 'Iter'}. Best is trial 49 with value: 0.7985074626865671.\u001b[0m\n",
      "\u001b[32m[I 2022-03-27 18:54:48,856]\u001b[0m Trial 74 finished with value: 0.7873134328358209 and parameters: {'random_state': 1, 'learning_rate': 0.2342878104708381, 'bagging_temperature': 0.609585914129142, 'max_depth': 9, 'random_strength': 12, 'l2_leaf_reg': 1.7873056067047472e-05, 'min_child_samples': 39, 'max_bin': 131, 'od_type': 'Iter'}. Best is trial 49 with value: 0.7985074626865671.\u001b[0m\n"
     ]
    },
    {
     "name": "stdout",
     "output_type": "stream",
     "text": [
      "0.8683788121990369 0.7910447761194029\n",
      "0.8731942215088283 0.7835820895522388\n",
      "0.8651685393258427 0.7873134328358209\n"
     ]
    },
    {
     "name": "stderr",
     "output_type": "stream",
     "text": [
      "\u001b[32m[I 2022-03-27 18:54:48,944]\u001b[0m Trial 75 finished with value: 0.7835820895522388 and parameters: {'random_state': 1, 'learning_rate': 0.0898622047886099, 'bagging_temperature': 0.4484778927986514, 'max_depth': 8, 'random_strength': 17, 'l2_leaf_reg': 2.3977076355365862e-05, 'min_child_samples': 17, 'max_bin': 104, 'od_type': 'Iter'}. Best is trial 49 with value: 0.7985074626865671.\u001b[0m\n",
      "\u001b[32m[I 2022-03-27 18:54:49,029]\u001b[0m Trial 76 finished with value: 0.7798507462686567 and parameters: {'random_state': 1, 'learning_rate': 0.1111719291945132, 'bagging_temperature': 0.015767886924224206, 'max_depth': 9, 'random_strength': 7, 'l2_leaf_reg': 2.1210607840269615e-05, 'min_child_samples': 29, 'max_bin': 136, 'od_type': 'Iter'}. Best is trial 49 with value: 0.7985074626865671.\u001b[0m\n",
      "\u001b[32m[I 2022-03-27 18:54:49,106]\u001b[0m Trial 77 finished with value: 0.7798507462686567 and parameters: {'random_state': 1, 'learning_rate': 0.19212333090906908, 'bagging_temperature': 1.2587723924903096, 'max_depth': 8, 'random_strength': 3, 'l2_leaf_reg': 1.2157897386037108e-05, 'min_child_samples': 49, 'max_bin': 187, 'od_type': 'Iter'}. Best is trial 49 with value: 0.7985074626865671.\u001b[0m\n"
     ]
    },
    {
     "name": "stdout",
     "output_type": "stream",
     "text": [
      "0.8940609951845907 0.7835820895522388\n",
      "0.8747993579454254 0.7798507462686567\n",
      "0.8764044943820225 0.7798507462686567\n"
     ]
    },
    {
     "name": "stderr",
     "output_type": "stream",
     "text": [
      "\u001b[32m[I 2022-03-27 18:54:49,203]\u001b[0m Trial 78 finished with value: 0.7761194029850746 and parameters: {'random_state': 1, 'learning_rate': 0.05962453936755853, 'bagging_temperature': 0.7985504635824737, 'max_depth': 6, 'random_strength': 14, 'l2_leaf_reg': 1.3317592748457818e-05, 'min_child_samples': 45, 'max_bin': 128, 'od_type': 'Iter'}. Best is trial 49 with value: 0.7985074626865671.\u001b[0m\n",
      "\u001b[32m[I 2022-03-27 18:54:49,305]\u001b[0m Trial 79 finished with value: 0.7649253731343284 and parameters: {'random_state': 1, 'learning_rate': 0.14615391654833976, 'bagging_temperature': 0.9459655492652128, 'max_depth': 9, 'random_strength': 19, 'l2_leaf_reg': 2.306872756981371e-05, 'min_child_samples': 37, 'max_bin': 180, 'od_type': 'Iter'}. Best is trial 49 with value: 0.7985074626865671.\u001b[0m\n",
      "\u001b[32m[I 2022-03-27 18:54:49,395]\u001b[0m Trial 80 finished with value: 0.7611940298507462 and parameters: {'random_state': 1, 'learning_rate': 0.07127894037576948, 'bagging_temperature': 0.29653043295447484, 'max_depth': 8, 'random_strength': 29, 'l2_leaf_reg': 2.182647001404861e-05, 'min_child_samples': 33, 'max_bin': 190, 'od_type': 'Iter'}. Best is trial 49 with value: 0.7985074626865671.\u001b[0m\n"
     ]
    },
    {
     "name": "stdout",
     "output_type": "stream",
     "text": [
      "0.8731942215088283 0.7761194029850746\n",
      "0.8587479935794543 0.7649253731343284\n",
      "0.8764044943820225 0.7611940298507462\n"
     ]
    },
    {
     "name": "stderr",
     "output_type": "stream",
     "text": [
      "\u001b[32m[I 2022-03-27 18:54:49,470]\u001b[0m Trial 81 finished with value: 0.7649253731343284 and parameters: {'random_state': 1, 'learning_rate': 0.11419591859488708, 'bagging_temperature': 2.6632222614984618, 'max_depth': 7, 'random_strength': 9, 'l2_leaf_reg': 2.4101527947991397e-05, 'min_child_samples': 30, 'max_bin': 200, 'od_type': 'Iter'}. Best is trial 49 with value: 0.7985074626865671.\u001b[0m\n",
      "\u001b[32m[I 2022-03-27 18:54:49,544]\u001b[0m Trial 82 finished with value: 0.7761194029850746 and parameters: {'random_state': 1, 'learning_rate': 0.2334619775797673, 'bagging_temperature': 0.5022630886574295, 'max_depth': 8, 'random_strength': 6, 'l2_leaf_reg': 2.5979711748945632e-05, 'min_child_samples': 42, 'max_bin': 195, 'od_type': 'Iter'}. Best is trial 49 with value: 0.7985074626865671.\u001b[0m\n",
      "\u001b[32m[I 2022-03-27 18:54:49,644]\u001b[0m Trial 83 finished with value: 0.7761194029850746 and parameters: {'random_state': 1, 'learning_rate': 0.04715734943516204, 'bagging_temperature': 0.36535062281226227, 'max_depth': 8, 'random_strength': 15, 'l2_leaf_reg': 1.945825060558322e-05, 'min_child_samples': 36, 'max_bin': 179, 'od_type': 'Iter'}. Best is trial 49 with value: 0.7985074626865671.\u001b[0m\n"
     ]
    },
    {
     "name": "stdout",
     "output_type": "stream",
     "text": [
      "0.8715890850722311 0.7649253731343284\n",
      "0.8635634028892456 0.7761194029850746\n",
      "0.8780096308186196 0.7761194029850746\n"
     ]
    },
    {
     "name": "stderr",
     "output_type": "stream",
     "text": [
      "\u001b[32m[I 2022-03-27 18:54:49,737]\u001b[0m Trial 84 finished with value: 0.7835820895522388 and parameters: {'random_state': 1, 'learning_rate': 0.15031930216137124, 'bagging_temperature': 0.1444249274773784, 'max_depth': 9, 'random_strength': 23, 'l2_leaf_reg': 2.0599007571038953e-05, 'min_child_samples': 53, 'max_bin': 188, 'od_type': 'Iter'}. Best is trial 49 with value: 0.7985074626865671.\u001b[0m\n"
     ]
    },
    {
     "name": "stdout",
     "output_type": "stream",
     "text": [
      "0.8731942215088283 0.7835820895522388\n"
     ]
    },
    {
     "name": "stderr",
     "output_type": "stream",
     "text": [
      "\u001b[32m[I 2022-03-27 18:54:50,163]\u001b[0m Trial 85 finished with value: 0.7947761194029851 and parameters: {'random_state': 1, 'learning_rate': 0.001981480764773654, 'bagging_temperature': 1.596175585419477, 'max_depth': 7, 'random_strength': 2, 'l2_leaf_reg': 2.7115182247229573e-05, 'min_child_samples': 40, 'max_bin': 115, 'od_type': 'Iter'}. Best is trial 49 with value: 0.7985074626865671.\u001b[0m\n"
     ]
    },
    {
     "name": "stdout",
     "output_type": "stream",
     "text": [
      "0.8892455858747994 0.7947761194029851\n"
     ]
    },
    {
     "name": "stderr",
     "output_type": "stream",
     "text": [
      "\u001b[32m[I 2022-03-27 18:54:50,645]\u001b[0m Trial 86 finished with value: 0.7686567164179104 and parameters: {'random_state': 1, 'learning_rate': 0.001109501339411482, 'bagging_temperature': 1.7216340622657722, 'max_depth': 6, 'random_strength': 0, 'l2_leaf_reg': 2.8847170297199282e-05, 'min_child_samples': 41, 'max_bin': 99, 'od_type': 'Iter'}. Best is trial 49 with value: 0.7985074626865671.\u001b[0m\n"
     ]
    },
    {
     "name": "stdout",
     "output_type": "stream",
     "text": [
      "0.898876404494382 0.7686567164179104\n"
     ]
    },
    {
     "name": "stderr",
     "output_type": "stream",
     "text": [
      "\u001b[32m[I 2022-03-27 18:54:51,414]\u001b[0m Trial 87 finished with value: 0.7761194029850746 and parameters: {'random_state': 1, 'learning_rate': 0.0013048391087283236, 'bagging_temperature': 5.187090042501062, 'max_depth': 7, 'random_strength': 12, 'l2_leaf_reg': 2.253564218392292e-05, 'min_child_samples': 44, 'max_bin': 117, 'od_type': 'Iter'}. Best is trial 49 with value: 0.7985074626865671.\u001b[0m\n"
     ]
    },
    {
     "name": "stdout",
     "output_type": "stream",
     "text": [
      "0.884430176565008 0.7761194029850746\n"
     ]
    },
    {
     "name": "stderr",
     "output_type": "stream",
     "text": [
      "\u001b[32m[I 2022-03-27 18:54:52,136]\u001b[0m Trial 88 finished with value: 0.7723880597014925 and parameters: {'random_state': 1, 'learning_rate': 0.002300117208896058, 'bagging_temperature': 1.4875554871382357, 'max_depth': 9, 'random_strength': 20, 'l2_leaf_reg': 2.7027188868193997e-05, 'min_child_samples': 32, 'max_bin': 110, 'od_type': 'Iter'}. Best is trial 49 with value: 0.7985074626865671.\u001b[0m\n"
     ]
    },
    {
     "name": "stdout",
     "output_type": "stream",
     "text": [
      "0.898876404494382 0.7723880597014925\n"
     ]
    },
    {
     "name": "stderr",
     "output_type": "stream",
     "text": [
      "\u001b[32m[I 2022-03-27 18:54:52,911]\u001b[0m Trial 89 finished with value: 0.7761194029850746 and parameters: {'random_state': 1, 'learning_rate': 0.0005988725314519023, 'bagging_temperature': 0.897738853628367, 'max_depth': 7, 'random_strength': 9, 'l2_leaf_reg': 2.460689823081688e-05, 'min_child_samples': 38, 'max_bin': 195, 'od_type': 'Iter'}. Best is trial 49 with value: 0.7985074626865671.\u001b[0m\n",
      "\u001b[32m[I 2022-03-27 18:54:52,985]\u001b[0m Trial 90 finished with value: 0.7723880597014925 and parameters: {'random_state': 1, 'learning_rate': 0.09107234594975243, 'bagging_temperature': 0.6279405963582317, 'max_depth': 8, 'random_strength': 27, 'l2_leaf_reg': 2.351156549539379e-05, 'min_child_samples': 26, 'max_bin': 163, 'od_type': 'Iter'}. Best is trial 49 with value: 0.7985074626865671.\u001b[0m\n",
      "\u001b[32m[I 2022-03-27 18:54:53,055]\u001b[0m Trial 91 finished with value: 0.7947761194029851 and parameters: {'random_state': 1, 'learning_rate': 0.18329180400852393, 'bagging_temperature': 0.09444638360022486, 'max_depth': 8, 'random_strength': 4, 'l2_leaf_reg': 2.7411142350605166e-05, 'min_child_samples': 40, 'max_bin': 123, 'od_type': 'Iter'}. Best is trial 49 with value: 0.7985074626865671.\u001b[0m\n"
     ]
    },
    {
     "name": "stdout",
     "output_type": "stream",
     "text": [
      "0.8860353130016051 0.7761194029850746\n",
      "0.8796147672552167 0.7723880597014925\n",
      "0.8619582664526485 0.7947761194029851\n"
     ]
    },
    {
     "name": "stderr",
     "output_type": "stream",
     "text": [
      "\u001b[32m[I 2022-03-27 18:54:53,138]\u001b[0m Trial 92 finished with value: 0.7910447761194029 and parameters: {'random_state': 1, 'learning_rate': 0.18238666219101068, 'bagging_temperature': 0.0634085295311886, 'max_depth': 9, 'random_strength': 2, 'l2_leaf_reg': 2.6532431492306484e-05, 'min_child_samples': 47, 'max_bin': 123, 'od_type': 'Iter'}. Best is trial 49 with value: 0.7985074626865671.\u001b[0m\n"
     ]
    },
    {
     "name": "stdout",
     "output_type": "stream",
     "text": [
      "0.8635634028892456 0.7910447761194029\n"
     ]
    },
    {
     "name": "stderr",
     "output_type": "stream",
     "text": [
      "\u001b[32m[I 2022-03-27 18:54:53,386]\u001b[0m Trial 93 finished with value: 0.7835820895522388 and parameters: {'random_state': 1, 'learning_rate': 0.00460416020298008, 'bagging_temperature': 0.08078826586913085, 'max_depth': 7, 'random_strength': 3, 'l2_leaf_reg': 2.7561907397979115e-05, 'min_child_samples': 46, 'max_bin': 113, 'od_type': 'Iter'}. Best is trial 49 with value: 0.7985074626865671.\u001b[0m\n",
      "\u001b[32m[I 2022-03-27 18:54:53,463]\u001b[0m Trial 94 finished with value: 0.7761194029850746 and parameters: {'random_state': 1, 'learning_rate': 0.19646729802155774, 'bagging_temperature': 0.05554584496418089, 'max_depth': 9, 'random_strength': 5, 'l2_leaf_reg': 2.8313267298122135e-05, 'min_child_samples': 59, 'max_bin': 122, 'od_type': 'Iter'}. Best is trial 49 with value: 0.7985074626865671.\u001b[0m\n",
      "\u001b[32m[I 2022-03-27 18:54:53,536]\u001b[0m Trial 95 finished with value: 0.7873134328358209 and parameters: {'random_state': 1, 'learning_rate': 0.24629759458306402, 'bagging_temperature': 0.04026070544962069, 'max_depth': 9, 'random_strength': 7, 'l2_leaf_reg': 2.6384690672852478e-05, 'min_child_samples': 35, 'max_bin': 127, 'od_type': 'Iter'}. Best is trial 49 with value: 0.7985074626865671.\u001b[0m\n"
     ]
    },
    {
     "name": "stdout",
     "output_type": "stream",
     "text": [
      "0.8908507223113965 0.7835820895522388\n",
      "0.8812199036918138 0.7761194029850746\n",
      "0.8667736757624398 0.7873134328358209\n"
     ]
    },
    {
     "name": "stderr",
     "output_type": "stream",
     "text": [
      "\u001b[32m[I 2022-03-27 18:54:53,615]\u001b[0m Trial 96 finished with value: 0.7761194029850746 and parameters: {'random_state': 1, 'learning_rate': 0.29045658207427105, 'bagging_temperature': 0.0975520368120503, 'max_depth': 9, 'random_strength': 2, 'l2_leaf_reg': 2.9388368324653275e-05, 'min_child_samples': 40, 'max_bin': 138, 'od_type': 'Iter'}. Best is trial 49 with value: 0.7985074626865671.\u001b[0m\n",
      "\u001b[32m[I 2022-03-27 18:54:53,686]\u001b[0m Trial 97 finished with value: 0.7910447761194029 and parameters: {'random_state': 1, 'learning_rate': 0.17099697962858698, 'bagging_temperature': 2.0332984626851762, 'max_depth': 9, 'random_strength': 10, 'l2_leaf_reg': 1.692920054086935e-05, 'min_child_samples': 31, 'max_bin': 120, 'od_type': 'Iter'}. Best is trial 49 with value: 0.7985074626865671.\u001b[0m\n"
     ]
    },
    {
     "name": "stdout",
     "output_type": "stream",
     "text": [
      "0.8539325842696629 0.7761194029850746\n",
      "0.85553772070626 0.7910447761194029\n"
     ]
    },
    {
     "name": "stderr",
     "output_type": "stream",
     "text": [
      "\u001b[32m[I 2022-03-27 18:54:54,398]\u001b[0m Trial 98 finished with value: 0.7761194029850746 and parameters: {'random_state': 1, 'learning_rate': 0.0017539454013896798, 'bagging_temperature': 2.0651036426893437, 'max_depth': 8, 'random_strength': 10, 'l2_leaf_reg': 1.716923959374104e-05, 'min_child_samples': 32, 'max_bin': 106, 'od_type': 'Iter'}. Best is trial 49 with value: 0.7985074626865671.\u001b[0m\n",
      "\u001b[32m[I 2022-03-27 18:54:54,483]\u001b[0m Trial 99 finished with value: 0.7798507462686567 and parameters: {'random_state': 1, 'learning_rate': 0.10542193311465488, 'bagging_temperature': 3.642524520400095, 'max_depth': 9, 'random_strength': 5, 'l2_leaf_reg': 1.4789460777391918e-05, 'min_child_samples': 40, 'max_bin': 114, 'od_type': 'Iter'}. Best is trial 49 with value: 0.7985074626865671.\u001b[0m\n"
     ]
    },
    {
     "name": "stdout",
     "output_type": "stream",
     "text": [
      "0.8972712680577849 0.7761194029850746\n",
      "0.898876404494382 0.7798507462686567\n"
     ]
    },
    {
     "name": "stderr",
     "output_type": "stream",
     "text": [
      "\u001b[32m[I 2022-03-27 18:54:54,695]\u001b[0m Trial 100 finished with value: 0.7761194029850746 and parameters: {'random_state': 1, 'learning_rate': 0.007028930307239125, 'bagging_temperature': 0.17135469977611353, 'max_depth': 6, 'random_strength': 6, 'l2_leaf_reg': 2.541836986721377e-05, 'min_child_samples': 51, 'max_bin': 132, 'od_type': 'Iter'}. Best is trial 49 with value: 0.7985074626865671.\u001b[0m\n",
      "\u001b[32m[I 2022-03-27 18:54:54,769]\u001b[0m Trial 101 finished with value: 0.7910447761194029 and parameters: {'random_state': 1, 'learning_rate': 0.17370617713000686, 'bagging_temperature': 0.06787466052420843, 'max_depth': 9, 'random_strength': 2, 'l2_leaf_reg': 1.577035448335921e-05, 'min_child_samples': 48, 'max_bin': 119, 'od_type': 'Iter'}. Best is trial 49 with value: 0.7985074626865671.\u001b[0m\n"
     ]
    },
    {
     "name": "stdout",
     "output_type": "stream",
     "text": [
      "0.8892455858747994 0.7761194029850746\n",
      "0.8635634028892456 0.7910447761194029\n"
     ]
    },
    {
     "name": "stderr",
     "output_type": "stream",
     "text": [
      "\u001b[32m[I 2022-03-27 18:54:55,972]\u001b[0m Trial 102 finished with value: 0.7910447761194029 and parameters: {'random_state': 1, 'learning_rate': 0.00019387071411892443, 'bagging_temperature': 0.06727277757488383, 'max_depth': 9, 'random_strength': 1, 'l2_leaf_reg': 1.571420704418696e-05, 'min_child_samples': 48, 'max_bin': 119, 'od_type': 'Iter'}. Best is trial 49 with value: 0.7985074626865671.\u001b[0m\n"
     ]
    },
    {
     "name": "stdout",
     "output_type": "stream",
     "text": [
      "0.884430176565008 0.7910447761194029\n"
     ]
    },
    {
     "name": "stderr",
     "output_type": "stream",
     "text": [
      "\u001b[32m[I 2022-03-27 18:54:57,637]\u001b[0m Trial 103 finished with value: 0.7723880597014925 and parameters: {'random_state': 1, 'learning_rate': 0.00016355971068521825, 'bagging_temperature': 0.12821242954728437, 'max_depth': 9, 'random_strength': 0, 'l2_leaf_reg': 1.5533632740261172e-05, 'min_child_samples': 54, 'max_bin': 125, 'od_type': 'Iter'}. Best is trial 49 with value: 0.7985074626865671.\u001b[0m\n",
      "\u001b[32m[I 2022-03-27 18:54:57,709]\u001b[0m Trial 104 finished with value: 0.7910447761194029 and parameters: {'random_state': 1, 'learning_rate': 0.21685683635307548, 'bagging_temperature': 0.014012311452464586, 'max_depth': 9, 'random_strength': 10, 'l2_leaf_reg': 1.6799392471718685e-05, 'min_child_samples': 31, 'max_bin': 123, 'od_type': 'Iter'}. Best is trial 49 with value: 0.7985074626865671.\u001b[0m\n",
      "\u001b[32m[I 2022-03-27 18:54:57,781]\u001b[0m Trial 105 finished with value: 0.7873134328358209 and parameters: {'random_state': 1, 'learning_rate': 0.12497664343157298, 'bagging_temperature': 0.25242108536340124, 'max_depth': 8, 'random_strength': 4, 'l2_leaf_reg': 2.740799336905531e-05, 'min_child_samples': 44, 'max_bin': 134, 'od_type': 'Iter'}. Best is trial 49 with value: 0.7985074626865671.\u001b[0m\n"
     ]
    },
    {
     "name": "stdout",
     "output_type": "stream",
     "text": [
      "0.9149277688603531 0.7723880597014925\n",
      "0.85553772070626 0.7910447761194029\n",
      "0.85553772070626 0.7873134328358209\n"
     ]
    },
    {
     "name": "stderr",
     "output_type": "stream",
     "text": [
      "\u001b[32m[I 2022-03-27 18:54:58,168]\u001b[0m Trial 106 finished with value: 0.7723880597014925 and parameters: {'random_state': 1, 'learning_rate': 0.0036249197794979765, 'bagging_temperature': 0.03130537816003095, 'max_depth': 9, 'random_strength': 12, 'l2_leaf_reg': 1.8282388029536463e-05, 'min_child_samples': 28, 'max_bin': 144, 'od_type': 'Iter'}. Best is trial 49 with value: 0.7985074626865671.\u001b[0m\n",
      "\u001b[32m[I 2022-03-27 18:54:58,265]\u001b[0m Trial 107 finished with value: 0.7798507462686567 and parameters: {'random_state': 1, 'learning_rate': 0.07586342827727488, 'bagging_temperature': 0.06910204330179648, 'max_depth': 9, 'random_strength': 2, 'l2_leaf_reg': 1.3627968322513424e-05, 'min_child_samples': 48, 'max_bin': 130, 'od_type': 'Iter'}. Best is trial 49 with value: 0.7985074626865671.\u001b[0m\n",
      "\u001b[32m[I 2022-03-27 18:54:58,336]\u001b[0m Trial 108 finished with value: 0.7910447761194029 and parameters: {'random_state': 1, 'learning_rate': 0.1449709543980103, 'bagging_temperature': 0.09949302137547568, 'max_depth': 8, 'random_strength': 8, 'l2_leaf_reg': 2.4640058918202787e-05, 'min_child_samples': 38, 'max_bin': 127, 'od_type': 'Iter'}. Best is trial 49 with value: 0.7985074626865671.\u001b[0m\n"
     ]
    },
    {
     "name": "stdout",
     "output_type": "stream",
     "text": [
      "0.9004815409309791 0.7723880597014925\n",
      "0.8956661316211878 0.7798507462686567\n",
      "0.8715890850722311 0.7910447761194029\n"
     ]
    },
    {
     "name": "stderr",
     "output_type": "stream",
     "text": [
      "\u001b[32m[I 2022-03-27 18:54:59,499]\u001b[0m Trial 109 finished with value: 0.7873134328358209 and parameters: {'random_state': 1, 'learning_rate': 0.00013297464038557823, 'bagging_temperature': 0.0429246412733683, 'max_depth': 9, 'random_strength': 2, 'l2_leaf_reg': 1.664487968270753e-05, 'min_child_samples': 31, 'max_bin': 120, 'od_type': 'Iter'}. Best is trial 49 with value: 0.7985074626865671.\u001b[0m\n",
      "\u001b[32m[I 2022-03-27 18:54:59,578]\u001b[0m Trial 110 finished with value: 0.7798507462686567 and parameters: {'random_state': 1, 'learning_rate': 0.0874295529546692, 'bagging_temperature': 1.4887429621671273, 'max_depth': 8, 'random_strength': 14, 'l2_leaf_reg': 2.4552400724577742e-05, 'min_child_samples': 38, 'max_bin': 100, 'od_type': 'Iter'}. Best is trial 49 with value: 0.7985074626865671.\u001b[0m\n",
      "\u001b[32m[I 2022-03-27 18:54:59,650]\u001b[0m Trial 111 finished with value: 0.7910447761194029 and parameters: {'random_state': 1, 'learning_rate': 0.17411340318844873, 'bagging_temperature': 1.0379526503123147, 'max_depth': 8, 'random_strength': 16, 'l2_leaf_reg': 2.904607482256711e-05, 'min_child_samples': 36, 'max_bin': 93, 'od_type': 'Iter'}. Best is trial 49 with value: 0.7985074626865671.\u001b[0m\n"
     ]
    },
    {
     "name": "stdout",
     "output_type": "stream",
     "text": [
      "0.8747993579454254 0.7873134328358209\n",
      "0.869983948635634 0.7798507462686567\n",
      "0.8667736757624398 0.7910447761194029\n"
     ]
    },
    {
     "name": "stderr",
     "output_type": "stream",
     "text": [
      "\u001b[32m[I 2022-03-27 18:54:59,727]\u001b[0m Trial 112 finished with value: 0.7798507462686567 and parameters: {'random_state': 1, 'learning_rate': 0.2032821588663365, 'bagging_temperature': 2.438943094212938, 'max_depth': 8, 'random_strength': 7, 'l2_leaf_reg': 2.6611137488903525e-05, 'min_child_samples': 34, 'max_bin': 124, 'od_type': 'Iter'}. Best is trial 49 with value: 0.7985074626865671.\u001b[0m\n",
      "\u001b[32m[I 2022-03-27 18:54:59,800]\u001b[0m Trial 113 finished with value: 0.7835820895522388 and parameters: {'random_state': 1, 'learning_rate': 0.2425807342406158, 'bagging_temperature': 0.11189219286488385, 'max_depth': 9, 'random_strength': 8, 'l2_leaf_reg': 2.805998609705738e-05, 'min_child_samples': 46, 'max_bin': 139, 'od_type': 'Iter'}. Best is trial 49 with value: 0.7985074626865671.\u001b[0m\n"
     ]
    },
    {
     "name": "stdout",
     "output_type": "stream",
     "text": [
      "0.8683788121990369 0.7798507462686567\n",
      "0.8715890850722311 0.7835820895522388\n"
     ]
    },
    {
     "name": "stderr",
     "output_type": "stream",
     "text": [
      "\u001b[32m[I 2022-03-27 18:55:00,919]\u001b[0m Trial 114 finished with value: 0.7761194029850746 and parameters: {'random_state': 1, 'learning_rate': 0.00028589823651842814, 'bagging_temperature': 0.01330612408081372, 'max_depth': 9, 'random_strength': 12, 'l2_leaf_reg': 1.5055710740516783e-05, 'min_child_samples': 41, 'max_bin': 117, 'od_type': 'Iter'}. Best is trial 49 with value: 0.7985074626865671.\u001b[0m\n"
     ]
    },
    {
     "name": "stdout",
     "output_type": "stream",
     "text": [
      "0.8956661316211878 0.7761194029850746\n"
     ]
    },
    {
     "name": "stderr",
     "output_type": "stream",
     "text": [
      "\u001b[32m[I 2022-03-27 18:55:02,563]\u001b[0m Trial 115 finished with value: 0.7723880597014925 and parameters: {'random_state': 1, 'learning_rate': 0.00011125002327129272, 'bagging_temperature': 0.02718561147984942, 'max_depth': 9, 'random_strength': 0, 'l2_leaf_reg': 2.606426833636315e-05, 'min_child_samples': 44, 'max_bin': 136, 'od_type': 'Iter'}. Best is trial 49 with value: 0.7985074626865671.\u001b[0m\n"
     ]
    },
    {
     "name": "stdout",
     "output_type": "stream",
     "text": [
      "0.913322632423756 0.7723880597014925\n"
     ]
    },
    {
     "name": "stderr",
     "output_type": "stream",
     "text": [
      "\u001b[32m[I 2022-03-27 18:55:03,702]\u001b[0m Trial 116 finished with value: 0.7798507462686567 and parameters: {'random_state': 1, 'learning_rate': 0.0008113309043890486, 'bagging_temperature': 0.05723431891057784, 'max_depth': 9, 'random_strength': 10, 'l2_leaf_reg': 1.7268123218191348e-05, 'min_child_samples': 57, 'max_bin': 107, 'od_type': 'Iter'}. Best is trial 49 with value: 0.7985074626865671.\u001b[0m\n",
      "\u001b[32m[I 2022-03-27 18:55:03,854]\u001b[0m Trial 117 finished with value: 0.7873134328358209 and parameters: {'random_state': 1, 'learning_rate': 0.010828828784561465, 'bagging_temperature': 0.3102568345990929, 'max_depth': 7, 'random_strength': 4, 'l2_leaf_reg': 2.5523531419381464e-05, 'min_child_samples': 60, 'max_bin': 129, 'od_type': 'IncToDec'}. Best is trial 49 with value: 0.7985074626865671.\u001b[0m\n"
     ]
    },
    {
     "name": "stdout",
     "output_type": "stream",
     "text": [
      "0.8972712680577849 0.7798507462686567\n",
      "0.8828250401284109 0.7873134328358209\n"
     ]
    },
    {
     "name": "stderr",
     "output_type": "stream",
     "text": [
      "\u001b[32m[I 2022-03-27 18:55:03,927]\u001b[0m Trial 118 finished with value: 0.7873134328358209 and parameters: {'random_state': 1, 'learning_rate': 0.11943221872664343, 'bagging_temperature': 0.022774048302183245, 'max_depth': 8, 'random_strength': 18, 'l2_leaf_reg': 2.8660620563016914e-05, 'min_child_samples': 73, 'max_bin': 133, 'od_type': 'Iter'}. Best is trial 49 with value: 0.7985074626865671.\u001b[0m\n"
     ]
    },
    {
     "name": "stdout",
     "output_type": "stream",
     "text": [
      "0.8683788121990369 0.7873134328358209\n"
     ]
    },
    {
     "name": "stderr",
     "output_type": "stream",
     "text": [
      "\u001b[32m[I 2022-03-27 18:55:04,153]\u001b[0m Trial 119 finished with value: 0.7761194029850746 and parameters: {'random_state': 1, 'learning_rate': 0.008694104167306978, 'bagging_temperature': 0.8107273679631447, 'max_depth': 9, 'random_strength': 5, 'l2_leaf_reg': 2.7028009125207066e-05, 'min_child_samples': 35, 'max_bin': 113, 'od_type': 'Iter'}. Best is trial 49 with value: 0.7985074626865671.\u001b[0m\n"
     ]
    },
    {
     "name": "stdout",
     "output_type": "stream",
     "text": [
      "0.9004815409309791 0.7761194029850746\n"
     ]
    },
    {
     "name": "stderr",
     "output_type": "stream",
     "text": [
      "\u001b[32m[I 2022-03-27 18:55:04,931]\u001b[0m Trial 120 finished with value: 0.7910447761194029 and parameters: {'random_state': 1, 'learning_rate': 0.00023892071863902366, 'bagging_temperature': 0.09656040849420776, 'max_depth': 7, 'random_strength': 2, 'l2_leaf_reg': 1.6288573475598478e-05, 'min_child_samples': 50, 'max_bin': 127, 'od_type': 'Iter'}. Best is trial 49 with value: 0.7985074626865671.\u001b[0m\n",
      "\u001b[32m[I 2022-03-27 18:55:05,000]\u001b[0m Trial 121 finished with value: 0.7873134328358209 and parameters: {'random_state': 1, 'learning_rate': 0.16091802718101014, 'bagging_temperature': 0.07519618502062393, 'max_depth': 7, 'random_strength': 3, 'l2_leaf_reg': 2.9466609250651477e-05, 'min_child_samples': 50, 'max_bin': 84, 'od_type': 'Iter'}. Best is trial 49 with value: 0.7985074626865671.\u001b[0m\n"
     ]
    },
    {
     "name": "stdout",
     "output_type": "stream",
     "text": [
      "0.8635634028892456 0.7910447761194029\n",
      "0.8651685393258427 0.7873134328358209\n"
     ]
    },
    {
     "name": "stderr",
     "output_type": "stream",
     "text": [
      "\u001b[32m[I 2022-03-27 18:55:05,891]\u001b[0m Trial 122 finished with value: 0.7873134328358209 and parameters: {'random_state': 1, 'learning_rate': 0.00024629622181352075, 'bagging_temperature': 0.018573964009890757, 'max_depth': 8, 'random_strength': 8, 'l2_leaf_reg': 1.6244168698589368e-05, 'min_child_samples': 49, 'max_bin': 128, 'od_type': 'Iter'}. Best is trial 49 with value: 0.7985074626865671.\u001b[0m\n",
      "\u001b[32m[I 2022-03-27 18:55:05,969]\u001b[0m Trial 123 finished with value: 0.7686567164179104 and parameters: {'random_state': 1, 'learning_rate': 0.16945182529422395, 'bagging_temperature': 0.6920809246580658, 'max_depth': 8, 'random_strength': 52, 'l2_leaf_reg': 1.3874544264004213e-05, 'min_child_samples': 36, 'max_bin': 94, 'od_type': 'Iter'}. Best is trial 49 with value: 0.7985074626865671.\u001b[0m\n",
      "\u001b[32m[I 2022-03-27 18:55:06,048]\u001b[0m Trial 124 finished with value: 0.7723880597014925 and parameters: {'random_state': 1, 'learning_rate': 0.17389998573507628, 'bagging_temperature': 1.2884896461673234, 'max_depth': 9, 'random_strength': 16, 'l2_leaf_reg': 2.9318120753332697e-05, 'min_child_samples': 42, 'max_bin': 88, 'od_type': 'Iter'}. Best is trial 49 with value: 0.7985074626865671.\u001b[0m\n"
     ]
    },
    {
     "name": "stdout",
     "output_type": "stream",
     "text": [
      "0.8796147672552167 0.7873134328358209\n",
      "0.8876404494382022 0.7686567164179104\n",
      "0.8764044943820225 0.7723880597014925\n"
     ]
    },
    {
     "name": "stderr",
     "output_type": "stream",
     "text": [
      "\u001b[32m[I 2022-03-27 18:55:06,122]\u001b[0m Trial 125 finished with value: 0.7910447761194029 and parameters: {'random_state': 1, 'learning_rate': 0.21919638710833345, 'bagging_temperature': 0.03640473277669534, 'max_depth': 9, 'random_strength': 11, 'l2_leaf_reg': 1.587888660632687e-05, 'min_child_samples': 28, 'max_bin': 118, 'od_type': 'Iter'}. Best is trial 49 with value: 0.7985074626865671.\u001b[0m\n",
      "\u001b[32m[I 2022-03-27 18:55:06,199]\u001b[0m Trial 126 finished with value: 0.7723880597014925 and parameters: {'random_state': 1, 'learning_rate': 0.13498617666098928, 'bagging_temperature': 0.033753490017896876, 'max_depth': 9, 'random_strength': 6, 'l2_leaf_reg': 1.2486392618147319e-05, 'min_child_samples': 23, 'max_bin': 121, 'od_type': 'Iter'}. Best is trial 49 with value: 0.7985074626865671.\u001b[0m\n",
      "\u001b[32m[I 2022-03-27 18:55:06,277]\u001b[0m Trial 127 finished with value: 0.7723880597014925 and parameters: {'random_state': 1, 'learning_rate': 0.25979186402152304, 'bagging_temperature': 0.012252932068588487, 'max_depth': 8, 'random_strength': 14, 'l2_leaf_reg': 1.9103230872781047e-05, 'min_child_samples': 27, 'max_bin': 141, 'od_type': 'Iter'}. Best is trial 49 with value: 0.7985074626865671.\u001b[0m\n"
     ]
    },
    {
     "name": "stdout",
     "output_type": "stream",
     "text": [
      "0.8539325842696629 0.7910447761194029\n",
      "0.8731942215088283 0.7723880597014925\n",
      "0.8892455858747994 0.7723880597014925\n"
     ]
    },
    {
     "name": "stderr",
     "output_type": "stream",
     "text": [
      "\u001b[32m[I 2022-03-27 18:55:06,353]\u001b[0m Trial 128 finished with value: 0.7649253731343284 and parameters: {'random_state': 1, 'learning_rate': 0.13484884940071146, 'bagging_temperature': 1.0408729681222073, 'max_depth': 8, 'random_strength': 8, 'l2_leaf_reg': 1.4473741563389366e-05, 'min_child_samples': 38, 'max_bin': 74, 'od_type': 'Iter'}. Best is trial 49 with value: 0.7985074626865671.\u001b[0m\n",
      "\u001b[32m[I 2022-03-27 18:55:06,448]\u001b[0m Trial 129 finished with value: 0.7649253731343284 and parameters: {'random_state': 1, 'learning_rate': 0.03105297453631674, 'bagging_temperature': 0.048467486898852344, 'max_depth': 9, 'random_strength': 0, 'l2_leaf_reg': 1.5677219078532333e-05, 'min_child_samples': 23, 'max_bin': 119, 'od_type': 'Iter'}. Best is trial 49 with value: 0.7985074626865671.\u001b[0m\n"
     ]
    },
    {
     "name": "stdout",
     "output_type": "stream",
     "text": [
      "0.8828250401284109 0.7649253731343284\n",
      "0.9261637239165329 0.7649253731343284\n"
     ]
    },
    {
     "name": "stderr",
     "output_type": "stream",
     "text": [
      "\u001b[32m[I 2022-03-27 18:55:07,601]\u001b[0m Trial 130 finished with value: 0.7910447761194029 and parameters: {'random_state': 1, 'learning_rate': 0.0004407526101584671, 'bagging_temperature': 0.14482118651857256, 'max_depth': 9, 'random_strength': 4, 'l2_leaf_reg': 1.5854325044996643e-05, 'min_child_samples': 52, 'max_bin': 116, 'od_type': 'Iter'}. Best is trial 49 with value: 0.7985074626865671.\u001b[0m\n"
     ]
    },
    {
     "name": "stdout",
     "output_type": "stream",
     "text": [
      "0.8796147672552167 0.7910447761194029\n"
     ]
    },
    {
     "name": "stderr",
     "output_type": "stream",
     "text": [
      "\u001b[32m[I 2022-03-27 18:55:08,374]\u001b[0m Trial 131 finished with value: 0.7910447761194029 and parameters: {'random_state': 1, 'learning_rate': 0.0004332376970196285, 'bagging_temperature': 0.18969471186099934, 'max_depth': 7, 'random_strength': 2, 'l2_leaf_reg': 2.7775893763488817e-05, 'min_child_samples': 47, 'max_bin': 112, 'od_type': 'Iter'}. Best is trial 49 with value: 0.7985074626865671.\u001b[0m\n",
      "\u001b[32m[I 2022-03-27 18:55:08,459]\u001b[0m Trial 132 finished with value: 0.7761194029850746 and parameters: {'random_state': 1, 'learning_rate': 0.29847158685761105, 'bagging_temperature': 0.18525752387933786, 'max_depth': 8, 'random_strength': 5, 'l2_leaf_reg': 2.857051933138931e-05, 'min_child_samples': 37, 'max_bin': 191, 'od_type': 'Iter'}. Best is trial 49 with value: 0.7985074626865671.\u001b[0m\n",
      "\u001b[32m[I 2022-03-27 18:55:08,540]\u001b[0m Trial 133 finished with value: 0.7910447761194029 and parameters: {'random_state': 1, 'learning_rate': 0.20702511101049292, 'bagging_temperature': 0.01885544410941626, 'max_depth': 9, 'random_strength': 10, 'l2_leaf_reg': 1.787541217416579e-05, 'min_child_samples': 31, 'max_bin': 124, 'od_type': 'Iter'}. Best is trial 49 with value: 0.7985074626865671.\u001b[0m\n"
     ]
    },
    {
     "name": "stdout",
     "output_type": "stream",
     "text": [
      "0.869983948635634 0.7910447761194029\n",
      "0.8635634028892456 0.7761194029850746\n",
      "0.85553772070626 0.7910447761194029\n"
     ]
    },
    {
     "name": "stderr",
     "output_type": "stream",
     "text": [
      "\u001b[32m[I 2022-03-27 18:55:08,675]\u001b[0m Trial 134 finished with value: 0.7798507462686567 and parameters: {'random_state': 1, 'learning_rate': 0.014761180671783697, 'bagging_temperature': 0.44151754387227277, 'max_depth': 7, 'random_strength': 12, 'l2_leaf_reg': 2.6688358902264976e-05, 'min_child_samples': 40, 'max_bin': 131, 'od_type': 'Iter'}. Best is trial 49 with value: 0.7985074626865671.\u001b[0m\n",
      "\u001b[32m[I 2022-03-27 18:55:08,760]\u001b[0m Trial 135 finished with value: 0.7649253731343284 and parameters: {'random_state': 1, 'learning_rate': 0.10198235441777259, 'bagging_temperature': 2.7970458253126216, 'max_depth': 9, 'random_strength': 9, 'l2_leaf_reg': 2.5130856126668973e-05, 'min_child_samples': 33, 'max_bin': 124, 'od_type': 'Iter'}. Best is trial 49 with value: 0.7985074626865671.\u001b[0m\n",
      "\u001b[32m[I 2022-03-27 18:55:08,826]\u001b[0m Trial 136 finished with value: 0.7761194029850746 and parameters: {'random_state': 1, 'learning_rate': 0.1878163833352458, 'bagging_temperature': 0.13294150536820262, 'max_depth': 6, 'random_strength': 3, 'l2_leaf_reg': 1.6722241971048074e-05, 'min_child_samples': 47, 'max_bin': 115, 'od_type': 'Iter'}. Best is trial 49 with value: 0.7985074626865671.\u001b[0m\n"
     ]
    },
    {
     "name": "stdout",
     "output_type": "stream",
     "text": [
      "0.8892455858747994 0.7798507462686567\n",
      "0.8860353130016051 0.7649253731343284\n",
      "0.8635634028892456 0.7761194029850746\n"
     ]
    },
    {
     "name": "stderr",
     "output_type": "stream",
     "text": [
      "\u001b[32m[I 2022-03-27 18:55:08,923]\u001b[0m Trial 137 finished with value: 0.7835820895522388 and parameters: {'random_state': 1, 'learning_rate': 0.06262657122936696, 'bagging_temperature': 0.5793324435652153, 'max_depth': 8, 'random_strength': 7, 'l2_leaf_reg': 2.4052524046876802e-05, 'min_child_samples': 39, 'max_bin': 197, 'od_type': 'IncToDec'}. Best is trial 49 with value: 0.7985074626865671.\u001b[0m\n",
      "\u001b[32m[I 2022-03-27 18:55:09,002]\u001b[0m Trial 138 finished with value: 0.7723880597014925 and parameters: {'random_state': 1, 'learning_rate': 0.22400469732039452, 'bagging_temperature': 1.6925311731964838, 'max_depth': 9, 'random_strength': 6, 'l2_leaf_reg': 1.4957332546542553e-05, 'min_child_samples': 43, 'max_bin': 123, 'od_type': 'Iter'}. Best is trial 49 with value: 0.7985074626865671.\u001b[0m\n"
     ]
    },
    {
     "name": "stdout",
     "output_type": "stream",
     "text": [
      "0.8908507223113965 0.7835820895522388\n",
      "0.8812199036918138 0.7723880597014925\n"
     ]
    },
    {
     "name": "stderr",
     "output_type": "stream",
     "text": [
      "\u001b[32m[I 2022-03-27 18:55:09,768]\u001b[0m Trial 139 finished with value: 0.7910447761194029 and parameters: {'random_state': 1, 'learning_rate': 0.000368837731133794, 'bagging_temperature': 0.15115156520649295, 'max_depth': 7, 'random_strength': 4, 'l2_leaf_reg': 1.635298699075644e-05, 'min_child_samples': 52, 'max_bin': 127, 'od_type': 'Iter'}. Best is trial 49 with value: 0.7985074626865671.\u001b[0m\n",
      "\u001b[32m[I 2022-03-27 18:55:09,848]\u001b[0m Trial 140 finished with value: 0.7761194029850746 and parameters: {'random_state': 1, 'learning_rate': 0.11199301063571065, 'bagging_temperature': 0.014608619725073707, 'max_depth': 9, 'random_strength': 21, 'l2_leaf_reg': 2.0406959303553085e-05, 'min_child_samples': 31, 'max_bin': 51, 'od_type': 'Iter'}. Best is trial 49 with value: 0.7985074626865671.\u001b[0m\n"
     ]
    },
    {
     "name": "stdout",
     "output_type": "stream",
     "text": [
      "0.8683788121990369 0.7910447761194029\n",
      "0.8747993579454254 0.7761194029850746\n"
     ]
    },
    {
     "name": "stderr",
     "output_type": "stream",
     "text": [
      "\u001b[32m[I 2022-03-27 18:55:10,616]\u001b[0m Trial 141 finished with value: 0.7723880597014925 and parameters: {'random_state': 1, 'learning_rate': 0.0003817529030250012, 'bagging_temperature': 0.08634308300246808, 'max_depth': 7, 'random_strength': 16, 'l2_leaf_reg': 2.9961671848612405e-05, 'min_child_samples': 52, 'max_bin': 91, 'od_type': 'Iter'}. Best is trial 49 with value: 0.7985074626865671.\u001b[0m\n",
      "\u001b[32m[I 2022-03-27 18:55:10,708]\u001b[0m Trial 142 finished with value: 0.7873134328358209 and parameters: {'random_state': 1, 'learning_rate': 0.050070978307227273, 'bagging_temperature': 0.10798440587354048, 'max_depth': 8, 'random_strength': 18, 'l2_leaf_reg': 2.8217819255680776e-05, 'min_child_samples': 29, 'max_bin': 136, 'od_type': 'Iter'}. Best is trial 49 with value: 0.7985074626865671.\u001b[0m\n",
      "\u001b[32m[I 2022-03-27 18:55:10,794]\u001b[0m Trial 143 finished with value: 0.7835820895522388 and parameters: {'random_state': 1, 'learning_rate': 0.16567035184963252, 'bagging_temperature': 2.1229001207030938, 'max_depth': 9, 'random_strength': 10, 'l2_leaf_reg': 2.2418972935775e-05, 'min_child_samples': 34, 'max_bin': 133, 'od_type': 'Iter'}. Best is trial 49 with value: 0.7985074626865671.\u001b[0m\n"
     ]
    },
    {
     "name": "stdout",
     "output_type": "stream",
     "text": [
      "0.8796147672552167 0.7723880597014925\n",
      "0.8876404494382022 0.7873134328358209\n",
      "0.8635634028892456 0.7835820895522388\n"
     ]
    },
    {
     "name": "stderr",
     "output_type": "stream",
     "text": [
      "\u001b[32m[I 2022-03-27 18:55:10,900]\u001b[0m Trial 144 finished with value: 0.7723880597014925 and parameters: {'random_state': 1, 'learning_rate': 0.022076599707094198, 'bagging_temperature': 0.22868861790414471, 'max_depth': 9, 'random_strength': 0, 'l2_leaf_reg': 1.5040230354573397e-05, 'min_child_samples': 55, 'max_bin': 121, 'od_type': 'Iter'}. Best is trial 49 with value: 0.7985074626865671.\u001b[0m\n",
      "\u001b[32m[I 2022-03-27 18:55:10,978]\u001b[0m Trial 145 finished with value: 0.7835820895522388 and parameters: {'random_state': 1, 'learning_rate': 0.15040033394883395, 'bagging_temperature': 0.01918592731300355, 'max_depth': 9, 'random_strength': 2, 'l2_leaf_reg': 1.8128826493462838e-05, 'min_child_samples': 44, 'max_bin': 110, 'od_type': 'Iter'}. Best is trial 49 with value: 0.7985074626865671.\u001b[0m\n"
     ]
    },
    {
     "name": "stdout",
     "output_type": "stream",
     "text": [
      "0.9197431781701445 0.7723880597014925\n",
      "0.8796147672552167 0.7835820895522388\n"
     ]
    },
    {
     "name": "stderr",
     "output_type": "stream",
     "text": [
      "\u001b[32m[I 2022-03-27 18:55:11,129]\u001b[0m Trial 146 finished with value: 0.7723880597014925 and parameters: {'random_state': 1, 'learning_rate': 0.01887968816236211, 'bagging_temperature': 0.06354678472751335, 'max_depth': 9, 'random_strength': 7, 'l2_leaf_reg': 2.598716333950136e-05, 'min_child_samples': 40, 'max_bin': 130, 'od_type': 'Iter'}. Best is trial 49 with value: 0.7985074626865671.\u001b[0m\n"
     ]
    },
    {
     "name": "stdout",
     "output_type": "stream",
     "text": [
      "0.8940609951845907 0.7723880597014925\n"
     ]
    },
    {
     "name": "stderr",
     "output_type": "stream",
     "text": [
      "\u001b[32m[I 2022-03-27 18:55:11,897]\u001b[0m Trial 147 finished with value: 0.7723880597014925 and parameters: {'random_state': 1, 'learning_rate': 0.00020802207353233865, 'bagging_temperature': 0.19954295721250145, 'max_depth': 7, 'random_strength': 13, 'l2_leaf_reg': 2.759750441080629e-05, 'min_child_samples': 36, 'max_bin': 126, 'od_type': 'Iter'}. Best is trial 49 with value: 0.7985074626865671.\u001b[0m\n"
     ]
    },
    {
     "name": "stdout",
     "output_type": "stream",
     "text": [
      "0.8796147672552167 0.7723880597014925\n"
     ]
    },
    {
     "name": "stderr",
     "output_type": "stream",
     "text": [
      "\u001b[32m[I 2022-03-27 18:55:12,665]\u001b[0m Trial 148 finished with value: 0.7947761194029851 and parameters: {'random_state': 1, 'learning_rate': 0.0005577070686865059, 'bagging_temperature': 0.14988418860654454, 'max_depth': 7, 'random_strength': 4, 'l2_leaf_reg': 2.1669755839839538e-05, 'min_child_samples': 53, 'max_bin': 128, 'od_type': 'Iter'}. Best is trial 49 with value: 0.7985074626865671.\u001b[0m\n"
     ]
    },
    {
     "name": "stdout",
     "output_type": "stream",
     "text": [
      "0.8715890850722311 0.7947761194029851\n"
     ]
    },
    {
     "name": "stderr",
     "output_type": "stream",
     "text": [
      "\u001b[32m[I 2022-03-27 18:55:13,240]\u001b[0m Trial 149 finished with value: 0.7835820895522388 and parameters: {'random_state': 1, 'learning_rate': 0.0016026751007889278, 'bagging_temperature': 0.07569859130768317, 'max_depth': 9, 'random_strength': 1, 'l2_leaf_reg': 2.3796015414855838e-05, 'min_child_samples': 47, 'max_bin': 120, 'od_type': 'Iter'}. Best is trial 49 with value: 0.7985074626865671.\u001b[0m\n",
      "\u001b[32m[I 2022-03-27 18:55:13,318]\u001b[0m Trial 150 finished with value: 0.7835820895522388 and parameters: {'random_state': 1, 'learning_rate': 0.14665569685471141, 'bagging_temperature': 0.11169163883945733, 'max_depth': 9, 'random_strength': 5, 'l2_leaf_reg': 2.3248176434426512e-05, 'min_child_samples': 42, 'max_bin': 169, 'od_type': 'Iter'}. Best is trial 49 with value: 0.7985074626865671.\u001b[0m\n",
      "\u001b[32m[I 2022-03-27 18:55:13,393]\u001b[0m Trial 151 finished with value: 0.7835820895522388 and parameters: {'random_state': 1, 'learning_rate': 0.1837258410509597, 'bagging_temperature': 0.08776696990633027, 'max_depth': 9, 'random_strength': 9, 'l2_leaf_reg': 2.1705492291029573e-05, 'min_child_samples': 38, 'max_bin': 130, 'od_type': 'Iter'}. Best is trial 49 with value: 0.7985074626865671.\u001b[0m\n"
     ]
    },
    {
     "name": "stdout",
     "output_type": "stream",
     "text": [
      "0.898876404494382 0.7835820895522388\n",
      "0.8828250401284109 0.7835820895522388\n",
      "0.8635634028892456 0.7835820895522388\n"
     ]
    },
    {
     "name": "stderr",
     "output_type": "stream",
     "text": [
      "\u001b[32m[I 2022-03-27 18:55:14,543]\u001b[0m Trial 152 finished with value: 0.7835820895522388 and parameters: {'random_state': 1, 'learning_rate': 0.0006819528321367502, 'bagging_temperature': 0.05954759841381563, 'max_depth': 9, 'random_strength': 2, 'l2_leaf_reg': 1.7380713546316773e-05, 'min_child_samples': 49, 'max_bin': 125, 'od_type': 'Iter'}. Best is trial 49 with value: 0.7985074626865671.\u001b[0m\n"
     ]
    },
    {
     "name": "stdout",
     "output_type": "stream",
     "text": [
      "0.8940609951845907 0.7835820895522388\n"
     ]
    },
    {
     "name": "stderr",
     "output_type": "stream",
     "text": [
      "\u001b[32m[I 2022-03-27 18:55:15,330]\u001b[0m Trial 153 finished with value: 0.7910447761194029 and parameters: {'random_state': 1, 'learning_rate': 0.0005239759245110166, 'bagging_temperature': 0.15658407325993254, 'max_depth': 7, 'random_strength': 4, 'l2_leaf_reg': 1.585102019394271e-05, 'min_child_samples': 54, 'max_bin': 117, 'od_type': 'Iter'}. Best is trial 49 with value: 0.7985074626865671.\u001b[0m\n"
     ]
    },
    {
     "name": "stdout",
     "output_type": "stream",
     "text": [
      "0.869983948635634 0.7910447761194029\n"
     ]
    },
    {
     "name": "stderr",
     "output_type": "stream",
     "text": [
      "\u001b[32m[I 2022-03-27 18:55:16,112]\u001b[0m Trial 154 finished with value: 0.7910447761194029 and parameters: {'random_state': 1, 'learning_rate': 0.00018356616468617114, 'bagging_temperature': 0.10419512551504004, 'max_depth': 7, 'random_strength': 4, 'l2_leaf_reg': 1.7040079220287055e-05, 'min_child_samples': 57, 'max_bin': 81, 'od_type': 'Iter'}. Best is trial 49 with value: 0.7985074626865671.\u001b[0m\n"
     ]
    },
    {
     "name": "stdout",
     "output_type": "stream",
     "text": [
      "0.8651685393258427 0.7910447761194029\n"
     ]
    },
    {
     "name": "stderr",
     "output_type": "stream",
     "text": [
      "\u001b[32m[I 2022-03-27 18:55:17,016]\u001b[0m Trial 155 finished with value: 0.7798507462686567 and parameters: {'random_state': 1, 'learning_rate': 0.00015272594971515446, 'bagging_temperature': 0.10517096966464835, 'max_depth': 7, 'random_strength': 0, 'l2_leaf_reg': 1.6485838633959432e-05, 'min_child_samples': 66, 'max_bin': 145, 'od_type': 'Iter'}. Best is trial 49 with value: 0.7985074626865671.\u001b[0m\n"
     ]
    },
    {
     "name": "stdout",
     "output_type": "stream",
     "text": [
      "0.8924558587479936 0.7798507462686567\n"
     ]
    },
    {
     "name": "stderr",
     "output_type": "stream",
     "text": [
      "\u001b[32m[I 2022-03-27 18:55:17,676]\u001b[0m Trial 156 finished with value: 0.7985074626865671 and parameters: {'random_state': 1, 'learning_rate': 0.0003500855423513006, 'bagging_temperature': 1.0460704574835058, 'max_depth': 6, 'random_strength': 7, 'l2_leaf_reg': 1.3038336221967244e-05, 'min_child_samples': 41, 'max_bin': 113, 'od_type': 'Iter'}. Best is trial 49 with value: 0.7985074626865671.\u001b[0m\n"
     ]
    },
    {
     "name": "stdout",
     "output_type": "stream",
     "text": [
      "0.8715890850722311 0.7985074626865671\n"
     ]
    },
    {
     "name": "stderr",
     "output_type": "stream",
     "text": [
      "\u001b[32m[I 2022-03-27 18:55:18,331]\u001b[0m Trial 157 finished with value: 0.7723880597014925 and parameters: {'random_state': 1, 'learning_rate': 0.0002734366097435065, 'bagging_temperature': 0.2615355398105643, 'max_depth': 6, 'random_strength': 34, 'l2_leaf_reg': 1.321660672728004e-05, 'min_child_samples': 63, 'max_bin': 112, 'od_type': 'Iter'}. Best is trial 49 with value: 0.7985074626865671.\u001b[0m\n",
      "\u001b[32m[I 2022-03-27 18:55:18,406]\u001b[0m Trial 158 finished with value: 0.7649253731343284 and parameters: {'random_state': 1, 'learning_rate': 0.21496406197312373, 'bagging_temperature': 13.567346166601046, 'max_depth': 6, 'random_strength': 6, 'l2_leaf_reg': 1.0325641370755757e-05, 'min_child_samples': 35, 'max_bin': 127, 'od_type': 'Iter'}. Best is trial 49 with value: 0.7985074626865671.\u001b[0m\n"
     ]
    },
    {
     "name": "stdout",
     "output_type": "stream",
     "text": [
      "0.8667736757624398 0.7723880597014925\n",
      "0.8539325842696629 0.7649253731343284\n"
     ]
    },
    {
     "name": "stderr",
     "output_type": "stream",
     "text": [
      "\u001b[32m[I 2022-03-27 18:55:19,074]\u001b[0m Trial 159 finished with value: 0.7798507462686567 and parameters: {'random_state': 1, 'learning_rate': 0.00034019848417253263, 'bagging_temperature': 0.37910436304234696, 'max_depth': 6, 'random_strength': 11, 'l2_leaf_reg': 1.7757305705363692e-05, 'min_child_samples': 52, 'max_bin': 124, 'od_type': 'Iter'}. Best is trial 49 with value: 0.7985074626865671.\u001b[0m\n"
     ]
    },
    {
     "name": "stdout",
     "output_type": "stream",
     "text": [
      "0.8796147672552167 0.7798507462686567\n"
     ]
    },
    {
     "name": "stderr",
     "output_type": "stream",
     "text": [
      "\u001b[32m[I 2022-03-27 18:55:19,692]\u001b[0m Trial 160 finished with value: 0.7761194029850746 and parameters: {'random_state': 1, 'learning_rate': 0.0005989155868603151, 'bagging_temperature': 1.4211037993186801, 'max_depth': 5, 'random_strength': 8, 'l2_leaf_reg': 2.469525533289325e-05, 'min_child_samples': 32, 'max_bin': 107, 'od_type': 'IncToDec'}. Best is trial 49 with value: 0.7985074626865671.\u001b[0m\n"
     ]
    },
    {
     "name": "stdout",
     "output_type": "stream",
     "text": [
      "0.8731942215088283 0.7761194029850746\n"
     ]
    },
    {
     "name": "stderr",
     "output_type": "stream",
     "text": [
      "\u001b[32m[I 2022-03-27 18:55:20,431]\u001b[0m Trial 161 finished with value: 0.7835820895522388 and parameters: {'random_state': 1, 'learning_rate': 0.00019334142010514642, 'bagging_temperature': 0.12234386504149578, 'max_depth': 7, 'random_strength': 4, 'l2_leaf_reg': 1.4365058419859823e-05, 'min_child_samples': 57, 'max_bin': 62, 'od_type': 'Iter'}. Best is trial 49 with value: 0.7985074626865671.\u001b[0m\n"
     ]
    },
    {
     "name": "stdout",
     "output_type": "stream",
     "text": [
      "0.8635634028892456 0.7835820895522388\n"
     ]
    },
    {
     "name": "stderr",
     "output_type": "stream",
     "text": [
      "\u001b[32m[I 2022-03-27 18:55:21,209]\u001b[0m Trial 162 finished with value: 0.7910447761194029 and parameters: {'random_state': 1, 'learning_rate': 0.00019449546135581994, 'bagging_temperature': 0.06854781231170069, 'max_depth': 7, 'random_strength': 2, 'l2_leaf_reg': 1.5624752789670553e-05, 'min_child_samples': 45, 'max_bin': 115, 'od_type': 'Iter'}. Best is trial 49 with value: 0.7985074626865671.\u001b[0m\n"
     ]
    },
    {
     "name": "stdout",
     "output_type": "stream",
     "text": [
      "0.8587479935794543 0.7910447761194029\n"
     ]
    },
    {
     "name": "stderr",
     "output_type": "stream",
     "text": [
      "\u001b[32m[I 2022-03-27 18:55:21,977]\u001b[0m Trial 163 finished with value: 0.7985074626865671 and parameters: {'random_state': 1, 'learning_rate': 0.00022316450264928556, 'bagging_temperature': 0.09235117811987449, 'max_depth': 7, 'random_strength': 7, 'l2_leaf_reg': 1.692171238071346e-05, 'min_child_samples': 45, 'max_bin': 135, 'od_type': 'Iter'}. Best is trial 49 with value: 0.7985074626865671.\u001b[0m\n"
     ]
    },
    {
     "name": "stdout",
     "output_type": "stream",
     "text": [
      "0.8747993579454254 0.7985074626865671\n"
     ]
    },
    {
     "name": "stderr",
     "output_type": "stream",
     "text": [
      "\u001b[32m[I 2022-03-27 18:55:22,756]\u001b[0m Trial 164 finished with value: 0.7910447761194029 and parameters: {'random_state': 1, 'learning_rate': 0.00024998079098789504, 'bagging_temperature': 0.09150267258370734, 'max_depth': 7, 'random_strength': 6, 'l2_leaf_reg': 1.6896445609455035e-05, 'min_child_samples': 50, 'max_bin': 134, 'od_type': 'Iter'}. Best is trial 49 with value: 0.7985074626865671.\u001b[0m\n"
     ]
    },
    {
     "name": "stdout",
     "output_type": "stream",
     "text": [
      "0.869983948635634 0.7910447761194029\n"
     ]
    },
    {
     "name": "stderr",
     "output_type": "stream",
     "text": [
      "\u001b[32m[I 2022-03-27 18:55:23,542]\u001b[0m Trial 165 finished with value: 0.7947761194029851 and parameters: {'random_state': 1, 'learning_rate': 0.00033010079945926626, 'bagging_temperature': 0.1524296941654033, 'max_depth': 7, 'random_strength': 4, 'l2_leaf_reg': 1.8583726584232648e-05, 'min_child_samples': 51, 'max_bin': 132, 'od_type': 'Iter'}. Best is trial 49 with value: 0.7985074626865671.\u001b[0m\n"
     ]
    },
    {
     "name": "stdout",
     "output_type": "stream",
     "text": [
      "0.869983948635634 0.7947761194029851\n"
     ]
    },
    {
     "name": "stderr",
     "output_type": "stream",
     "text": [
      "\u001b[32m[I 2022-03-27 18:55:24,325]\u001b[0m Trial 166 finished with value: 0.7761194029850746 and parameters: {'random_state': 1, 'learning_rate': 0.0004438152545270705, 'bagging_temperature': 0.04735382256026266, 'max_depth': 7, 'random_strength': 8, 'l2_leaf_reg': 1.849807688629211e-05, 'min_child_samples': 46, 'max_bin': 139, 'od_type': 'Iter'}. Best is trial 49 with value: 0.7985074626865671.\u001b[0m\n"
     ]
    },
    {
     "name": "stdout",
     "output_type": "stream",
     "text": [
      "0.8908507223113965 0.7761194029850746\n"
     ]
    },
    {
     "name": "stderr",
     "output_type": "stream",
     "text": [
      "\u001b[32m[I 2022-03-27 18:55:25,115]\u001b[0m Trial 167 finished with value: 0.7910447761194029 and parameters: {'random_state': 1, 'learning_rate': 0.00031517405182340715, 'bagging_temperature': 0.21211753974202716, 'max_depth': 7, 'random_strength': 6, 'l2_leaf_reg': 1.8676654908032714e-05, 'min_child_samples': 43, 'max_bin': 135, 'od_type': 'Iter'}. Best is trial 49 with value: 0.7985074626865671.\u001b[0m\n"
     ]
    },
    {
     "name": "stdout",
     "output_type": "stream",
     "text": [
      "0.869983948635634 0.7910447761194029\n"
     ]
    },
    {
     "name": "stderr",
     "output_type": "stream",
     "text": [
      "\u001b[32m[I 2022-03-27 18:55:25,874]\u001b[0m Trial 168 finished with value: 0.7873134328358209 and parameters: {'random_state': 1, 'learning_rate': 0.00035161175865813576, 'bagging_temperature': 0.1724974123924408, 'max_depth': 7, 'random_strength': 4, 'l2_leaf_reg': 1.785046304778801e-05, 'min_child_samples': 55, 'max_bin': 128, 'od_type': 'Iter'}. Best is trial 49 with value: 0.7985074626865671.\u001b[0m\n"
     ]
    },
    {
     "name": "stdout",
     "output_type": "stream",
     "text": [
      "0.869983948635634 0.7873134328358209\n"
     ]
    },
    {
     "name": "stderr",
     "output_type": "stream",
     "text": [
      "\u001b[32m[I 2022-03-27 18:55:26,594]\u001b[0m Trial 169 finished with value: 0.7723880597014925 and parameters: {'random_state': 1, 'learning_rate': 0.00040648697420439517, 'bagging_temperature': 0.1345354252596042, 'max_depth': 6, 'random_strength': 0, 'l2_leaf_reg': 1.5489450960245532e-05, 'min_child_samples': 47, 'max_bin': 119, 'od_type': 'Iter'}. Best is trial 49 with value: 0.7985074626865671.\u001b[0m\n"
     ]
    },
    {
     "name": "stdout",
     "output_type": "stream",
     "text": [
      "0.8924558587479936 0.7723880597014925\n"
     ]
    },
    {
     "name": "stderr",
     "output_type": "stream",
     "text": [
      "\u001b[32m[I 2022-03-27 18:55:27,191]\u001b[0m Trial 170 finished with value: 0.753731343283582 and parameters: {'random_state': 1, 'learning_rate': 0.0008389274145051381, 'bagging_temperature': 0.8525128405289377, 'max_depth': 5, 'random_strength': 45, 'l2_leaf_reg': 2.173496454157603e-05, 'min_child_samples': 41, 'max_bin': 122, 'od_type': 'Iter'}. Best is trial 49 with value: 0.7985074626865671.\u001b[0m\n"
     ]
    },
    {
     "name": "stdout",
     "output_type": "stream",
     "text": [
      "0.8651685393258427 0.753731343283582\n"
     ]
    },
    {
     "name": "stderr",
     "output_type": "stream",
     "text": [
      "\u001b[32m[I 2022-03-27 18:55:28,108]\u001b[0m Trial 171 finished with value: 0.7761194029850746 and parameters: {'random_state': 1, 'learning_rate': 0.00012008466008741688, 'bagging_temperature': 1.1087163595837508, 'max_depth': 8, 'random_strength': 11, 'l2_leaf_reg': 1.949831452124918e-05, 'min_child_samples': 37, 'max_bin': 131, 'od_type': 'Iter'}. Best is trial 49 with value: 0.7985074626865671.\u001b[0m\n"
     ]
    },
    {
     "name": "stdout",
     "output_type": "stream",
     "text": [
      "0.8908507223113965 0.7761194029850746\n"
     ]
    },
    {
     "name": "stderr",
     "output_type": "stream",
     "text": [
      "\u001b[32m[I 2022-03-27 18:55:28,874]\u001b[0m Trial 172 finished with value: 0.7947761194029851 and parameters: {'random_state': 1, 'learning_rate': 0.0002302514090994107, 'bagging_temperature': 0.2103107768830909, 'max_depth': 7, 'random_strength': 4, 'l2_leaf_reg': 2.9037529012809134e-05, 'min_child_samples': 54, 'max_bin': 137, 'od_type': 'Iter'}. Best is trial 49 with value: 0.7985074626865671.\u001b[0m\n"
     ]
    },
    {
     "name": "stdout",
     "output_type": "stream",
     "text": [
      "0.8651685393258427 0.7947761194029851\n"
     ]
    },
    {
     "name": "stderr",
     "output_type": "stream",
     "text": [
      "\u001b[32m[I 2022-03-27 18:55:29,775]\u001b[0m Trial 173 finished with value: 0.7723880597014925 and parameters: {'random_state': 1, 'learning_rate': 0.00021233305421036977, 'bagging_temperature': 1.0339027876689433, 'max_depth': 8, 'random_strength': 15, 'l2_leaf_reg': 2.89758965560309e-05, 'min_child_samples': 39, 'max_bin': 139, 'od_type': 'Iter'}. Best is trial 49 with value: 0.7985074626865671.\u001b[0m\n"
     ]
    },
    {
     "name": "stdout",
     "output_type": "stream",
     "text": [
      "0.884430176565008 0.7723880597014925\n"
     ]
    },
    {
     "name": "stderr",
     "output_type": "stream",
     "text": [
      "\u001b[32m[I 2022-03-27 18:55:30,565]\u001b[0m Trial 174 finished with value: 0.7947761194029851 and parameters: {'random_state': 1, 'learning_rate': 0.0004781517696654312, 'bagging_temperature': 0.13124043966205043, 'max_depth': 7, 'random_strength': 5, 'l2_leaf_reg': 1.7247122373357852e-05, 'min_child_samples': 60, 'max_bin': 143, 'od_type': 'Iter'}. Best is trial 49 with value: 0.7985074626865671.\u001b[0m\n"
     ]
    },
    {
     "name": "stdout",
     "output_type": "stream",
     "text": [
      "0.8731942215088283 0.7947761194029851\n"
     ]
    },
    {
     "name": "stderr",
     "output_type": "stream",
     "text": [
      "\u001b[32m[I 2022-03-27 18:55:31,345]\u001b[0m Trial 175 finished with value: 0.7910447761194029 and parameters: {'random_state': 1, 'learning_rate': 0.0005243873269226469, 'bagging_temperature': 0.18323550501912952, 'max_depth': 7, 'random_strength': 3, 'l2_leaf_reg': 1.628874134721022e-05, 'min_child_samples': 53, 'max_bin': 148, 'od_type': 'Iter'}. Best is trial 49 with value: 0.7985074626865671.\u001b[0m\n"
     ]
    },
    {
     "name": "stdout",
     "output_type": "stream",
     "text": [
      "0.8715890850722311 0.7910447761194029\n"
     ]
    },
    {
     "name": "stderr",
     "output_type": "stream",
     "text": [
      "\u001b[32m[I 2022-03-27 18:55:32,122]\u001b[0m Trial 176 finished with value: 0.7873134328358209 and parameters: {'random_state': 1, 'learning_rate': 0.000534798482527473, 'bagging_temperature': 0.18422632813744425, 'max_depth': 7, 'random_strength': 3, 'l2_leaf_reg': 1.6295201534244838e-05, 'min_child_samples': 60, 'max_bin': 151, 'od_type': 'Iter'}. Best is trial 49 with value: 0.7985074626865671.\u001b[0m\n"
     ]
    },
    {
     "name": "stdout",
     "output_type": "stream",
     "text": [
      "0.869983948635634 0.7873134328358209\n"
     ]
    },
    {
     "name": "stderr",
     "output_type": "stream",
     "text": [
      "\u001b[32m[I 2022-03-27 18:55:32,934]\u001b[0m Trial 177 finished with value: 0.7873134328358209 and parameters: {'random_state': 1, 'learning_rate': 0.0002466480314671979, 'bagging_temperature': 0.13808074151259517, 'max_depth': 7, 'random_strength': 6, 'l2_leaf_reg': 1.684362891129564e-05, 'min_child_samples': 70, 'max_bin': 134, 'od_type': 'Iter'}. Best is trial 49 with value: 0.7985074626865671.\u001b[0m\n"
     ]
    },
    {
     "name": "stdout",
     "output_type": "stream",
     "text": [
      "0.8715890850722311 0.7873134328358209\n"
     ]
    },
    {
     "name": "stderr",
     "output_type": "stream",
     "text": [
      "\u001b[32m[I 2022-03-27 18:55:33,765]\u001b[0m Trial 178 finished with value: 0.7947761194029851 and parameters: {'random_state': 1, 'learning_rate': 0.00045834037968565906, 'bagging_temperature': 0.12807458906941452, 'max_depth': 7, 'random_strength': 2, 'l2_leaf_reg': 1.4875142241884833e-05, 'min_child_samples': 48, 'max_bin': 117, 'od_type': 'Iter'}. Best is trial 49 with value: 0.7985074626865671.\u001b[0m\n"
     ]
    },
    {
     "name": "stdout",
     "output_type": "stream",
     "text": [
      "0.869983948635634 0.7947761194029851\n"
     ]
    },
    {
     "name": "stderr",
     "output_type": "stream",
     "text": [
      "\u001b[32m[I 2022-03-27 18:55:34,603]\u001b[0m Trial 179 finished with value: 0.7947761194029851 and parameters: {'random_state': 1, 'learning_rate': 0.000571369091052181, 'bagging_temperature': 0.2574233559977455, 'max_depth': 7, 'random_strength': 4, 'l2_leaf_reg': 1.4772757181627046e-05, 'min_child_samples': 57, 'max_bin': 143, 'od_type': 'Iter'}. Best is trial 49 with value: 0.7985074626865671.\u001b[0m\n"
     ]
    },
    {
     "name": "stdout",
     "output_type": "stream",
     "text": [
      "0.8715890850722311 0.7947761194029851\n"
     ]
    },
    {
     "name": "stderr",
     "output_type": "stream",
     "text": [
      "\u001b[32m[I 2022-03-27 18:55:35,369]\u001b[0m Trial 180 finished with value: 0.7873134328358209 and parameters: {'random_state': 1, 'learning_rate': 0.0007650960142544362, 'bagging_temperature': 0.28044655572862204, 'max_depth': 7, 'random_strength': 5, 'l2_leaf_reg': 1.2774546370407467e-05, 'min_child_samples': 56, 'max_bin': 142, 'od_type': 'Iter'}. Best is trial 49 with value: 0.7985074626865671.\u001b[0m\n"
     ]
    },
    {
     "name": "stdout",
     "output_type": "stream",
     "text": [
      "0.8796147672552167 0.7873134328358209\n"
     ]
    },
    {
     "name": "stderr",
     "output_type": "stream",
     "text": [
      "\u001b[32m[I 2022-03-27 18:55:36,164]\u001b[0m Trial 181 finished with value: 0.7649253731343284 and parameters: {'random_state': 1, 'learning_rate': 0.00030621280984492884, 'bagging_temperature': 0.1541570032672828, 'max_depth': 7, 'random_strength': 64, 'l2_leaf_reg': 1.5008952272941858e-05, 'min_child_samples': 59, 'max_bin': 138, 'od_type': 'Iter'}. Best is trial 49 with value: 0.7985074626865671.\u001b[0m\n"
     ]
    },
    {
     "name": "stdout",
     "output_type": "stream",
     "text": [
      "0.8715890850722311 0.7649253731343284\n"
     ]
    },
    {
     "name": "stderr",
     "output_type": "stream",
     "text": [
      "\u001b[32m[I 2022-03-27 18:55:36,951]\u001b[0m Trial 182 finished with value: 0.7723880597014925 and parameters: {'random_state': 1, 'learning_rate': 0.0005249112677403209, 'bagging_temperature': 1.6269732076584351, 'max_depth': 7, 'random_strength': 8, 'l2_leaf_reg': 2.090149100890321e-05, 'min_child_samples': 61, 'max_bin': 144, 'od_type': 'Iter'}. Best is trial 49 with value: 0.7985074626865671.\u001b[0m\n"
     ]
    },
    {
     "name": "stdout",
     "output_type": "stream",
     "text": [
      "0.8908507223113965 0.7723880597014925\n"
     ]
    },
    {
     "name": "stderr",
     "output_type": "stream",
     "text": [
      "\u001b[32m[I 2022-03-27 18:55:37,729]\u001b[0m Trial 183 finished with value: 0.7873134328358209 and parameters: {'random_state': 1, 'learning_rate': 0.0002521565414714834, 'bagging_temperature': 0.23946300787640604, 'max_depth': 7, 'random_strength': 6, 'l2_leaf_reg': 1.90277566141454e-05, 'min_child_samples': 50, 'max_bin': 134, 'od_type': 'Iter'}. Best is trial 49 with value: 0.7985074626865671.\u001b[0m\n"
     ]
    },
    {
     "name": "stdout",
     "output_type": "stream",
     "text": [
      "0.8683788121990369 0.7873134328358209\n"
     ]
    },
    {
     "name": "stderr",
     "output_type": "stream",
     "text": [
      "\u001b[32m[I 2022-03-27 18:55:38,504]\u001b[0m Trial 184 finished with value: 0.7947761194029851 and parameters: {'random_state': 1, 'learning_rate': 0.0006094179902947677, 'bagging_temperature': 0.12448163234383029, 'max_depth': 7, 'random_strength': 2, 'l2_leaf_reg': 1.5038899794276222e-05, 'min_child_samples': 54, 'max_bin': 137, 'od_type': 'Iter'}. Best is trial 49 with value: 0.7985074626865671.\u001b[0m\n"
     ]
    },
    {
     "name": "stdout",
     "output_type": "stream",
     "text": [
      "0.8731942215088283 0.7947761194029851\n"
     ]
    },
    {
     "name": "stderr",
     "output_type": "stream",
     "text": [
      "\u001b[32m[I 2022-03-27 18:55:39,278]\u001b[0m Trial 185 finished with value: 0.7947761194029851 and parameters: {'random_state': 1, 'learning_rate': 0.0007006957600743358, 'bagging_temperature': 0.7441291610538945, 'max_depth': 7, 'random_strength': 1, 'l2_leaf_reg': 1.4174296405505172e-05, 'min_child_samples': 55, 'max_bin': 146, 'od_type': 'Iter'}. Best is trial 49 with value: 0.7985074626865671.\u001b[0m\n"
     ]
    },
    {
     "name": "stdout",
     "output_type": "stream",
     "text": [
      "0.8860353130016051 0.7947761194029851\n"
     ]
    },
    {
     "name": "stderr",
     "output_type": "stream",
     "text": [
      "\u001b[32m[I 2022-03-27 18:55:39,989]\u001b[0m Trial 186 finished with value: 0.7723880597014925 and parameters: {'random_state': 1, 'learning_rate': 0.0005839433712597513, 'bagging_temperature': 0.7350124367087842, 'max_depth': 7, 'random_strength': 0, 'l2_leaf_reg': 1.3994462946438581e-05, 'min_child_samples': 64, 'max_bin': 153, 'od_type': 'Iter'}. Best is trial 49 with value: 0.7985074626865671.\u001b[0m\n"
     ]
    },
    {
     "name": "stdout",
     "output_type": "stream",
     "text": [
      "0.9085072231139647 0.7723880597014925\n"
     ]
    },
    {
     "name": "stderr",
     "output_type": "stream",
     "text": [
      "\u001b[32m[I 2022-03-27 18:55:40,698]\u001b[0m Trial 187 finished with value: 0.7947761194029851 and parameters: {'random_state': 1, 'learning_rate': 0.0008960075341266529, 'bagging_temperature': 0.12211957249078725, 'max_depth': 7, 'random_strength': 2, 'l2_leaf_reg': 1.3512675973367783e-05, 'min_child_samples': 54, 'max_bin': 146, 'od_type': 'Iter'}. Best is trial 49 with value: 0.7985074626865671.\u001b[0m\n"
     ]
    },
    {
     "name": "stdout",
     "output_type": "stream",
     "text": [
      "0.8828250401284109 0.7947761194029851\n"
     ]
    },
    {
     "name": "stderr",
     "output_type": "stream",
     "text": [
      "\u001b[32m[I 2022-03-27 18:55:41,461]\u001b[0m Trial 188 finished with value: 0.7835820895522388 and parameters: {'random_state': 1, 'learning_rate': 0.0009559694685745132, 'bagging_temperature': 0.08482792661749838, 'max_depth': 7, 'random_strength': 2, 'l2_leaf_reg': 1.3247481439432752e-05, 'min_child_samples': 53, 'max_bin': 147, 'od_type': 'Iter'}. Best is trial 49 with value: 0.7985074626865671.\u001b[0m\n"
     ]
    },
    {
     "name": "stdout",
     "output_type": "stream",
     "text": [
      "0.8876404494382022 0.7835820895522388\n"
     ]
    },
    {
     "name": "stderr",
     "output_type": "stream",
     "text": [
      "\u001b[32m[I 2022-03-27 18:55:42,220]\u001b[0m Trial 189 finished with value: 0.7947761194029851 and parameters: {'random_state': 1, 'learning_rate': 0.0007671933266424861, 'bagging_temperature': 0.12543254470081355, 'max_depth': 7, 'random_strength': 2, 'l2_leaf_reg': 1.4713858676214488e-05, 'min_child_samples': 55, 'max_bin': 143, 'od_type': 'Iter'}. Best is trial 49 with value: 0.7985074626865671.\u001b[0m\n"
     ]
    },
    {
     "name": "stdout",
     "output_type": "stream",
     "text": [
      "0.8796147672552167 0.7947761194029851\n"
     ]
    },
    {
     "name": "stderr",
     "output_type": "stream",
     "text": [
      "\u001b[32m[I 2022-03-27 18:55:42,858]\u001b[0m Trial 190 finished with value: 0.7686567164179104 and parameters: {'random_state': 1, 'learning_rate': 0.0006686202568205053, 'bagging_temperature': 0.12058705915029702, 'max_depth': 7, 'random_strength': 0, 'l2_leaf_reg': 1.440435561428236e-05, 'min_child_samples': 58, 'max_bin': 145, 'od_type': 'Iter'}. Best is trial 49 with value: 0.7985074626865671.\u001b[0m\n"
     ]
    },
    {
     "name": "stdout",
     "output_type": "stream",
     "text": [
      "0.9085072231139647 0.7686567164179104\n"
     ]
    },
    {
     "name": "stderr",
     "output_type": "stream",
     "text": [
      "\u001b[32m[I 2022-03-27 18:55:43,643]\u001b[0m Trial 191 finished with value: 0.7873134328358209 and parameters: {'random_state': 1, 'learning_rate': 0.0009488193005094392, 'bagging_temperature': 0.1291190038787307, 'max_depth': 7, 'random_strength': 3, 'l2_leaf_reg': 1.1882754852088741e-05, 'min_child_samples': 54, 'max_bin': 149, 'od_type': 'Iter'}. Best is trial 49 with value: 0.7985074626865671.\u001b[0m\n"
     ]
    },
    {
     "name": "stdout",
     "output_type": "stream",
     "text": [
      "0.884430176565008 0.7873134328358209\n"
     ]
    },
    {
     "name": "stderr",
     "output_type": "stream",
     "text": [
      "\u001b[32m[I 2022-03-27 18:55:44,280]\u001b[0m Trial 192 finished with value: 0.7723880597014925 and parameters: {'random_state': 1, 'learning_rate': 0.0013701442688141673, 'bagging_temperature': 0.09533149764960783, 'max_depth': 7, 'random_strength': 5, 'l2_leaf_reg': 1.3766832701763205e-05, 'min_child_samples': 56, 'max_bin': 141, 'od_type': 'Iter'}. Best is trial 49 with value: 0.7985074626865671.\u001b[0m\n"
     ]
    },
    {
     "name": "stdout",
     "output_type": "stream",
     "text": [
      "0.8908507223113965 0.7723880597014925\n"
     ]
    },
    {
     "name": "stderr",
     "output_type": "stream",
     "text": [
      "\u001b[32m[I 2022-03-27 18:55:45,080]\u001b[0m Trial 193 finished with value: 0.7910447761194029 and parameters: {'random_state': 1, 'learning_rate': 0.0004602240409155469, 'bagging_temperature': 0.169305797553619, 'max_depth': 7, 'random_strength': 2, 'l2_leaf_reg': 1.4780013119116454e-05, 'min_child_samples': 53, 'max_bin': 157, 'od_type': 'Iter'}. Best is trial 49 with value: 0.7985074626865671.\u001b[0m\n"
     ]
    },
    {
     "name": "stdout",
     "output_type": "stream",
     "text": [
      "0.8667736757624398 0.7910447761194029\n"
     ]
    },
    {
     "name": "stderr",
     "output_type": "stream",
     "text": [
      "\u001b[32m[I 2022-03-27 18:55:45,853]\u001b[0m Trial 194 finished with value: 0.8022388059701493 and parameters: {'random_state': 1, 'learning_rate': 0.0007046467385886047, 'bagging_temperature': 0.12200640988518986, 'max_depth': 7, 'random_strength': 1, 'l2_leaf_reg': 1.2861408231357856e-05, 'min_child_samples': 58, 'max_bin': 143, 'od_type': 'Iter'}. Best is trial 194 with value: 0.8022388059701493.\u001b[0m\n"
     ]
    },
    {
     "name": "stdout",
     "output_type": "stream",
     "text": [
      "0.8828250401284109 0.8022388059701493\n"
     ]
    },
    {
     "name": "stderr",
     "output_type": "stream",
     "text": [
      "\u001b[32m[I 2022-03-27 18:55:46,613]\u001b[0m Trial 195 finished with value: 0.7947761194029851 and parameters: {'random_state': 1, 'learning_rate': 0.0006798520002191279, 'bagging_temperature': 0.11923116153090799, 'max_depth': 7, 'random_strength': 4, 'l2_leaf_reg': 1.1408762798773607e-05, 'min_child_samples': 62, 'max_bin': 142, 'od_type': 'Iter'}. Best is trial 194 with value: 0.8022388059701493.\u001b[0m\n"
     ]
    },
    {
     "name": "stdout",
     "output_type": "stream",
     "text": [
      "0.8747993579454254 0.7947761194029851\n"
     ]
    },
    {
     "name": "stderr",
     "output_type": "stream",
     "text": [
      "\u001b[32m[I 2022-03-27 18:55:47,383]\u001b[0m Trial 196 finished with value: 0.7947761194029851 and parameters: {'random_state': 1, 'learning_rate': 0.0006692535826448562, 'bagging_temperature': 0.11887110384477928, 'max_depth': 7, 'random_strength': 4, 'l2_leaf_reg': 1.1633478870426687e-05, 'min_child_samples': 61, 'max_bin': 144, 'od_type': 'Iter'}. Best is trial 194 with value: 0.8022388059701493.\u001b[0m\n"
     ]
    },
    {
     "name": "stdout",
     "output_type": "stream",
     "text": [
      "0.8747993579454254 0.7947761194029851\n"
     ]
    },
    {
     "name": "stderr",
     "output_type": "stream",
     "text": [
      "\u001b[32m[I 2022-03-27 18:55:48,163]\u001b[0m Trial 197 finished with value: 0.7873134328358209 and parameters: {'random_state': 1, 'learning_rate': 0.0008232329426336014, 'bagging_temperature': 0.1486417060007533, 'max_depth': 7, 'random_strength': 4, 'l2_leaf_reg': 1.0852878081510726e-05, 'min_child_samples': 62, 'max_bin': 143, 'od_type': 'IncToDec'}. Best is trial 194 with value: 0.8022388059701493.\u001b[0m\n"
     ]
    },
    {
     "name": "stdout",
     "output_type": "stream",
     "text": [
      "0.8812199036918138 0.7873134328358209\n"
     ]
    },
    {
     "name": "stderr",
     "output_type": "stream",
     "text": [
      "\u001b[32m[I 2022-03-27 18:55:48,956]\u001b[0m Trial 198 finished with value: 0.7835820895522388 and parameters: {'random_state': 1, 'learning_rate': 0.0006157362145876831, 'bagging_temperature': 0.11939971099938912, 'max_depth': 7, 'random_strength': 6, 'l2_leaf_reg': 1.126014730204935e-05, 'min_child_samples': 67, 'max_bin': 137, 'od_type': 'Iter'}. Best is trial 194 with value: 0.8022388059701493.\u001b[0m\n"
     ]
    },
    {
     "name": "stdout",
     "output_type": "stream",
     "text": [
      "0.8812199036918138 0.7835820895522388\n"
     ]
    },
    {
     "name": "stderr",
     "output_type": "stream",
     "text": [
      "\u001b[32m[I 2022-03-27 18:55:49,406]\u001b[0m Trial 199 finished with value: 0.7723880597014925 and parameters: {'random_state': 1, 'learning_rate': 0.0010960780675452109, 'bagging_temperature': 0.21062124251964423, 'max_depth': 7, 'random_strength': 0, 'l2_leaf_reg': 1.3372988921606339e-05, 'min_child_samples': 59, 'max_bin': 153, 'od_type': 'Iter'}. Best is trial 194 with value: 0.8022388059701493.\u001b[0m\n"
     ]
    },
    {
     "name": "stdout",
     "output_type": "stream",
     "text": [
      "0.9085072231139647 0.7723880597014925\n"
     ]
    },
    {
     "name": "stderr",
     "output_type": "stream",
     "text": [
      "\u001b[32m[I 2022-03-27 18:55:50,197]\u001b[0m Trial 200 finished with value: 0.7947761194029851 and parameters: {'random_state': 1, 'learning_rate': 0.0007604032390496604, 'bagging_temperature': 0.08033276407674655, 'max_depth': 7, 'random_strength': 4, 'l2_leaf_reg': 1.1697230244961092e-05, 'min_child_samples': 63, 'max_bin': 147, 'od_type': 'Iter'}. Best is trial 194 with value: 0.8022388059701493.\u001b[0m\n"
     ]
    },
    {
     "name": "stdout",
     "output_type": "stream",
     "text": [
      "0.8747993579454254 0.7947761194029851\n"
     ]
    },
    {
     "name": "stderr",
     "output_type": "stream",
     "text": [
      "\u001b[32m[I 2022-03-27 18:55:50,967]\u001b[0m Trial 201 finished with value: 0.7873134328358209 and parameters: {'random_state': 1, 'learning_rate': 0.000771668306144846, 'bagging_temperature': 0.08161848173522049, 'max_depth': 7, 'random_strength': 2, 'l2_leaf_reg': 1.2539270549447754e-05, 'min_child_samples': 58, 'max_bin': 147, 'od_type': 'Iter'}. Best is trial 194 with value: 0.8022388059701493.\u001b[0m\n"
     ]
    },
    {
     "name": "stdout",
     "output_type": "stream",
     "text": [
      "0.8812199036918138 0.7873134328358209\n"
     ]
    },
    {
     "name": "stderr",
     "output_type": "stream",
     "text": [
      "\u001b[32m[I 2022-03-27 18:55:51,760]\u001b[0m Trial 202 finished with value: 0.7985074626865671 and parameters: {'random_state': 1, 'learning_rate': 0.0007058490055800008, 'bagging_temperature': 0.10409905160253538, 'max_depth': 7, 'random_strength': 2, 'l2_leaf_reg': 1.0306477080304467e-05, 'min_child_samples': 57, 'max_bin': 142, 'od_type': 'Iter'}. Best is trial 194 with value: 0.8022388059701493.\u001b[0m\n"
     ]
    },
    {
     "name": "stdout",
     "output_type": "stream",
     "text": [
      "0.8812199036918138 0.7985074626865671\n"
     ]
    },
    {
     "name": "stderr",
     "output_type": "stream",
     "text": [
      "\u001b[32m[I 2022-03-27 18:55:52,531]\u001b[0m Trial 203 finished with value: 0.7985074626865671 and parameters: {'random_state': 1, 'learning_rate': 0.0006691530361745868, 'bagging_temperature': 0.10839844744582001, 'max_depth': 7, 'random_strength': 4, 'l2_leaf_reg': 1.1704856057404761e-05, 'min_child_samples': 65, 'max_bin': 140, 'od_type': 'Iter'}. Best is trial 194 with value: 0.8022388059701493.\u001b[0m\n"
     ]
    },
    {
     "name": "stdout",
     "output_type": "stream",
     "text": [
      "0.8747993579454254 0.7985074626865671\n"
     ]
    },
    {
     "name": "stderr",
     "output_type": "stream",
     "text": [
      "\u001b[32m[I 2022-03-27 18:55:53,298]\u001b[0m Trial 204 finished with value: 0.7873134328358209 and parameters: {'random_state': 1, 'learning_rate': 0.0009058027897779863, 'bagging_temperature': 0.11140815028324637, 'max_depth': 7, 'random_strength': 7, 'l2_leaf_reg': 9.981200222057295e-06, 'min_child_samples': 63, 'max_bin': 141, 'od_type': 'Iter'}. Best is trial 194 with value: 0.8022388059701493.\u001b[0m\n"
     ]
    },
    {
     "name": "stdout",
     "output_type": "stream",
     "text": [
      "0.8876404494382022 0.7873134328358209\n"
     ]
    },
    {
     "name": "stderr",
     "output_type": "stream",
     "text": [
      "\u001b[32m[I 2022-03-27 18:55:54,091]\u001b[0m Trial 205 finished with value: 0.7947761194029851 and parameters: {'random_state': 1, 'learning_rate': 0.000763423637590602, 'bagging_temperature': 0.09751942714272674, 'max_depth': 7, 'random_strength': 2, 'l2_leaf_reg': 1.1516535961131466e-05, 'min_child_samples': 68, 'max_bin': 150, 'od_type': 'Iter'}. Best is trial 194 with value: 0.8022388059701493.\u001b[0m\n"
     ]
    },
    {
     "name": "stdout",
     "output_type": "stream",
     "text": [
      "0.8796147672552167 0.7947761194029851\n"
     ]
    },
    {
     "name": "stderr",
     "output_type": "stream",
     "text": [
      "\u001b[32m[I 2022-03-27 18:55:55,008]\u001b[0m Trial 206 finished with value: 0.7723880597014925 and parameters: {'random_state': 1, 'learning_rate': 0.000465688455802224, 'bagging_temperature': 0.09552498088977963, 'max_depth': 7, 'random_strength': 0, 'l2_leaf_reg': 9.16916891551038e-06, 'min_child_samples': 69, 'max_bin': 150, 'od_type': 'Iter'}. Best is trial 194 with value: 0.8022388059701493.\u001b[0m\n"
     ]
    },
    {
     "name": "stdout",
     "output_type": "stream",
     "text": [
      "0.9069020866773676 0.7723880597014925\n"
     ]
    },
    {
     "name": "stderr",
     "output_type": "stream",
     "text": [
      "\u001b[32m[I 2022-03-27 18:55:55,791]\u001b[0m Trial 207 finished with value: 0.7910447761194029 and parameters: {'random_state': 1, 'learning_rate': 0.000632837440231496, 'bagging_temperature': 0.12562664611701327, 'max_depth': 7, 'random_strength': 2, 'l2_leaf_reg': 1.1930217690716862e-05, 'min_child_samples': 62, 'max_bin': 145, 'od_type': 'Iter'}. Best is trial 194 with value: 0.8022388059701493.\u001b[0m\n"
     ]
    },
    {
     "name": "stdout",
     "output_type": "stream",
     "text": [
      "0.8731942215088283 0.7910447761194029\n"
     ]
    },
    {
     "name": "stderr",
     "output_type": "stream",
     "text": [
      "\u001b[32m[I 2022-03-27 18:55:56,553]\u001b[0m Trial 208 finished with value: 0.7947761194029851 and parameters: {'random_state': 1, 'learning_rate': 0.0006853301432103243, 'bagging_temperature': 0.11720482035989556, 'max_depth': 7, 'random_strength': 6, 'l2_leaf_reg': 1.2803962725558252e-05, 'min_child_samples': 60, 'max_bin': 140, 'od_type': 'Iter'}. Best is trial 194 with value: 0.8022388059701493.\u001b[0m\n"
     ]
    },
    {
     "name": "stdout",
     "output_type": "stream",
     "text": [
      "0.884430176565008 0.7947761194029851\n"
     ]
    },
    {
     "name": "stderr",
     "output_type": "stream",
     "text": [
      "\u001b[32m[I 2022-03-27 18:55:57,215]\u001b[0m Trial 209 finished with value: 0.7985074626865671 and parameters: {'random_state': 1, 'learning_rate': 0.0005319333929073045, 'bagging_temperature': 0.5180458935314123, 'max_depth': 6, 'random_strength': 7, 'l2_leaf_reg': 1.2882762739100952e-05, 'min_child_samples': 67, 'max_bin': 137, 'od_type': 'Iter'}. Best is trial 194 with value: 0.8022388059701493.\u001b[0m\n"
     ]
    },
    {
     "name": "stdout",
     "output_type": "stream",
     "text": [
      "0.8747993579454254 0.7985074626865671\n"
     ]
    },
    {
     "name": "stderr",
     "output_type": "stream",
     "text": [
      "\u001b[32m[I 2022-03-27 18:55:57,871]\u001b[0m Trial 210 finished with value: 0.7873134328358209 and parameters: {'random_state': 1, 'learning_rate': 0.00038903139104792925, 'bagging_temperature': 0.07989836522053925, 'max_depth': 6, 'random_strength': 8, 'l2_leaf_reg': 9.98535044352324e-06, 'min_child_samples': 65, 'max_bin': 140, 'od_type': 'Iter'}. Best is trial 194 with value: 0.8022388059701493.\u001b[0m\n"
     ]
    },
    {
     "name": "stdout",
     "output_type": "stream",
     "text": [
      "0.8715890850722311 0.7873134328358209\n"
     ]
    },
    {
     "name": "stderr",
     "output_type": "stream",
     "text": [
      "\u001b[32m[I 2022-03-27 18:55:58,534]\u001b[0m Trial 211 finished with value: 0.7947761194029851 and parameters: {'random_state': 1, 'learning_rate': 0.0007117150245156594, 'bagging_temperature': 0.5852910342271064, 'max_depth': 6, 'random_strength': 4, 'l2_leaf_reg': 1.1610730459678978e-05, 'min_child_samples': 61, 'max_bin': 143, 'od_type': 'Iter'}. Best is trial 194 with value: 0.8022388059701493.\u001b[0m\n"
     ]
    },
    {
     "name": "stdout",
     "output_type": "stream",
     "text": [
      "0.8683788121990369 0.7947761194029851\n"
     ]
    },
    {
     "name": "stderr",
     "output_type": "stream",
     "text": [
      "\u001b[32m[I 2022-03-27 18:55:59,191]\u001b[0m Trial 212 finished with value: 0.7947761194029851 and parameters: {'random_state': 1, 'learning_rate': 0.0005375757513407545, 'bagging_temperature': 0.49522444086671996, 'max_depth': 6, 'random_strength': 5, 'l2_leaf_reg': 1.0875266950293839e-05, 'min_child_samples': 65, 'max_bin': 138, 'od_type': 'Iter'}. Best is trial 194 with value: 0.8022388059701493.\u001b[0m\n"
     ]
    },
    {
     "name": "stdout",
     "output_type": "stream",
     "text": [
      "0.869983948635634 0.7947761194029851\n"
     ]
    },
    {
     "name": "stderr",
     "output_type": "stream",
     "text": [
      "\u001b[32m[I 2022-03-27 18:55:59,845]\u001b[0m Trial 213 finished with value: 0.7947761194029851 and parameters: {'random_state': 1, 'learning_rate': 0.0006781482861263693, 'bagging_temperature': 0.5096113624863832, 'max_depth': 6, 'random_strength': 5, 'l2_leaf_reg': 1.0935137343871518e-05, 'min_child_samples': 65, 'max_bin': 143, 'od_type': 'Iter'}. Best is trial 194 with value: 0.8022388059701493.\u001b[0m\n"
     ]
    },
    {
     "name": "stdout",
     "output_type": "stream",
     "text": [
      "0.8651685393258427 0.7947761194029851\n"
     ]
    },
    {
     "name": "stderr",
     "output_type": "stream",
     "text": [
      "\u001b[32m[I 2022-03-27 18:56:00,511]\u001b[0m Trial 214 finished with value: 0.7873134328358209 and parameters: {'random_state': 1, 'learning_rate': 0.000552263392404775, 'bagging_temperature': 0.465126285867541, 'max_depth': 6, 'random_strength': 3, 'l2_leaf_reg': 9.336168591042519e-06, 'min_child_samples': 64, 'max_bin': 138, 'od_type': 'Iter'}. Best is trial 194 with value: 0.8022388059701493.\u001b[0m\n"
     ]
    },
    {
     "name": "stdout",
     "output_type": "stream",
     "text": [
      "0.8603531300160514 0.7873134328358209\n"
     ]
    },
    {
     "name": "stderr",
     "output_type": "stream",
     "text": [
      "\u001b[32m[I 2022-03-27 18:56:01,299]\u001b[0m Trial 215 finished with value: 0.7985074626865671 and parameters: {'random_state': 1, 'learning_rate': 0.0004967909211633591, 'bagging_temperature': 0.1478260263731919, 'max_depth': 7, 'random_strength': 1, 'l2_leaf_reg': 1.2382987587439522e-05, 'min_child_samples': 56, 'max_bin': 136, 'od_type': 'Iter'}. Best is trial 194 with value: 0.8022388059701493.\u001b[0m\n"
     ]
    },
    {
     "name": "stdout",
     "output_type": "stream",
     "text": [
      "0.8780096308186196 0.7985074626865671\n"
     ]
    },
    {
     "name": "stderr",
     "output_type": "stream",
     "text": [
      "\u001b[32m[I 2022-03-27 18:56:02,002]\u001b[0m Trial 216 finished with value: 0.7723880597014925 and parameters: {'random_state': 1, 'learning_rate': 0.0006932507044772816, 'bagging_temperature': 0.6107657005504288, 'max_depth': 6, 'random_strength': 0, 'l2_leaf_reg': 1.2799989179621266e-05, 'min_child_samples': 56, 'max_bin': 137, 'od_type': 'Iter'}. Best is trial 194 with value: 0.8022388059701493.\u001b[0m\n"
     ]
    },
    {
     "name": "stdout",
     "output_type": "stream",
     "text": [
      "0.8956661316211878 0.7723880597014925\n"
     ]
    },
    {
     "name": "stderr",
     "output_type": "stream",
     "text": [
      "\u001b[32m[I 2022-03-27 18:56:02,766]\u001b[0m Trial 217 finished with value: 0.7947761194029851 and parameters: {'random_state': 1, 'learning_rate': 0.0010040040025434693, 'bagging_temperature': 0.10235541262707268, 'max_depth': 7, 'random_strength': 2, 'l2_leaf_reg': 1.2611097462989053e-05, 'min_child_samples': 70, 'max_bin': 140, 'od_type': 'Iter'}. Best is trial 194 with value: 0.8022388059701493.\u001b[0m\n"
     ]
    },
    {
     "name": "stdout",
     "output_type": "stream",
     "text": [
      "0.884430176565008 0.7947761194029851\n"
     ]
    },
    {
     "name": "stderr",
     "output_type": "stream",
     "text": [
      "\u001b[32m[I 2022-03-27 18:56:03,430]\u001b[0m Trial 218 finished with value: 0.7985074626865671 and parameters: {'random_state': 1, 'learning_rate': 0.0004793996636853055, 'bagging_temperature': 0.16067047519485414, 'max_depth': 6, 'random_strength': 7, 'l2_leaf_reg': 1.318843298701931e-05, 'min_child_samples': 70, 'max_bin': 132, 'od_type': 'Iter'}. Best is trial 194 with value: 0.8022388059701493.\u001b[0m\n"
     ]
    },
    {
     "name": "stdout",
     "output_type": "stream",
     "text": [
      "0.8731942215088283 0.7985074626865671\n"
     ]
    },
    {
     "name": "stderr",
     "output_type": "stream",
     "text": [
      "\u001b[32m[I 2022-03-27 18:56:04,208]\u001b[0m Trial 219 finished with value: 0.7835820895522388 and parameters: {'random_state': 1, 'learning_rate': 0.00044245861321586005, 'bagging_temperature': 0.15861263424461433, 'max_depth': 7, 'random_strength': 8, 'l2_leaf_reg': 1.238147006762535e-05, 'min_child_samples': 69, 'max_bin': 132, 'od_type': 'Iter'}. Best is trial 194 with value: 0.8022388059701493.\u001b[0m\n"
     ]
    },
    {
     "name": "stdout",
     "output_type": "stream",
     "text": [
      "0.884430176565008 0.7835820895522388\n"
     ]
    },
    {
     "name": "stderr",
     "output_type": "stream",
     "text": [
      "\u001b[32m[I 2022-03-27 18:56:04,721]\u001b[0m Trial 220 finished with value: 0.7761194029850746 and parameters: {'random_state': 1, 'learning_rate': 0.0004858411594409271, 'bagging_temperature': 0.14002923924826952, 'max_depth': 3, 'random_strength': 7, 'l2_leaf_reg': 1.3877726747902398e-05, 'min_child_samples': 57, 'max_bin': 135, 'od_type': 'Iter'}. Best is trial 194 with value: 0.8022388059701493.\u001b[0m\n"
     ]
    },
    {
     "name": "stdout",
     "output_type": "stream",
     "text": [
      "0.8459069020866774 0.7761194029850746\n"
     ]
    },
    {
     "name": "stderr",
     "output_type": "stream",
     "text": [
      "\u001b[32m[I 2022-03-27 18:56:05,295]\u001b[0m Trial 221 finished with value: 0.7947761194029851 and parameters: {'random_state': 1, 'learning_rate': 0.0008509057438565675, 'bagging_temperature': 0.2154288279183662, 'max_depth': 4, 'random_strength': 1, 'l2_leaf_reg': 1.3378954295378313e-05, 'min_child_samples': 72, 'max_bin': 146, 'od_type': 'Iter'}. Best is trial 194 with value: 0.8022388059701493.\u001b[0m\n"
     ]
    },
    {
     "name": "stdout",
     "output_type": "stream",
     "text": [
      "0.8507223113964687 0.7947761194029851\n"
     ]
    },
    {
     "name": "stderr",
     "output_type": "stream",
     "text": [
      "\u001b[32m[I 2022-03-27 18:56:05,831]\u001b[0m Trial 222 finished with value: 0.7798507462686567 and parameters: {'random_state': 1, 'learning_rate': 0.0012629576445914925, 'bagging_temperature': 0.20988551204882533, 'max_depth': 4, 'random_strength': 0, 'l2_leaf_reg': 1.3298275332867083e-05, 'min_child_samples': 75, 'max_bin': 146, 'od_type': 'Iter'}. Best is trial 194 with value: 0.8022388059701493.\u001b[0m\n"
     ]
    },
    {
     "name": "stdout",
     "output_type": "stream",
     "text": [
      "0.8812199036918138 0.7798507462686567\n"
     ]
    },
    {
     "name": "stderr",
     "output_type": "stream",
     "text": [
      "\u001b[32m[I 2022-03-27 18:56:06,598]\u001b[0m Trial 223 finished with value: 0.7985074626865671 and parameters: {'random_state': 1, 'learning_rate': 0.0005888030187068032, 'bagging_temperature': 0.1586902748580253, 'max_depth': 7, 'random_strength': 4, 'l2_leaf_reg': 1.1780580174564103e-05, 'min_child_samples': 58, 'max_bin': 142, 'od_type': 'Iter'}. Best is trial 194 with value: 0.8022388059701493.\u001b[0m\n"
     ]
    },
    {
     "name": "stdout",
     "output_type": "stream",
     "text": [
      "0.8731942215088283 0.7985074626865671\n"
     ]
    },
    {
     "name": "stderr",
     "output_type": "stream",
     "text": [
      "\u001b[32m[I 2022-03-27 18:56:07,388]\u001b[0m Trial 224 finished with value: 0.7947761194029851 and parameters: {'random_state': 1, 'learning_rate': 0.0003451216470599618, 'bagging_temperature': 0.15096271978205505, 'max_depth': 7, 'random_strength': 6, 'l2_leaf_reg': 1.5082706761751148e-05, 'min_child_samples': 58, 'max_bin': 132, 'od_type': 'Iter'}. Best is trial 194 with value: 0.8022388059701493.\u001b[0m\n"
     ]
    },
    {
     "name": "stdout",
     "output_type": "stream",
     "text": [
      "0.8715890850722311 0.7947761194029851\n"
     ]
    },
    {
     "name": "stderr",
     "output_type": "stream",
     "text": [
      "\u001b[32m[I 2022-03-27 18:56:07,967]\u001b[0m Trial 225 finished with value: 0.7798507462686567 and parameters: {'random_state': 1, 'learning_rate': 0.0005956134325852705, 'bagging_temperature': 0.16710062333807882, 'max_depth': 5, 'random_strength': 9, 'l2_leaf_reg': 1.1961841857594479e-05, 'min_child_samples': 58, 'max_bin': 142, 'od_type': 'Iter'}. Best is trial 194 with value: 0.8022388059701493.\u001b[0m\n"
     ]
    },
    {
     "name": "stdout",
     "output_type": "stream",
     "text": [
      "0.8828250401284109 0.7798507462686567\n"
     ]
    },
    {
     "name": "stderr",
     "output_type": "stream",
     "text": [
      "\u001b[32m[I 2022-03-27 18:56:08,771]\u001b[0m Trial 226 finished with value: 0.7985074626865671 and parameters: {'random_state': 1, 'learning_rate': 0.0007796642208902681, 'bagging_temperature': 0.7256396639716408, 'max_depth': 7, 'random_strength': 3, 'l2_leaf_reg': 1.1300430728961325e-05, 'min_child_samples': 67, 'max_bin': 151, 'od_type': 'Iter'}. Best is trial 194 with value: 0.8022388059701493.\u001b[0m\n"
     ]
    },
    {
     "name": "stdout",
     "output_type": "stream",
     "text": [
      "0.8780096308186196 0.7985074626865671\n"
     ]
    },
    {
     "name": "stderr",
     "output_type": "stream",
     "text": [
      "\u001b[32m[I 2022-03-27 18:56:09,516]\u001b[0m Trial 227 finished with value: 0.7835820895522388 and parameters: {'random_state': 1, 'learning_rate': 0.0005648000344720758, 'bagging_temperature': 0.6890158674838274, 'max_depth': 7, 'random_strength': 73, 'l2_leaf_reg': 1.3798499740102213e-05, 'min_child_samples': 55, 'max_bin': 136, 'od_type': 'Iter'}. Best is trial 194 with value: 0.8022388059701493.\u001b[0m\n"
     ]
    },
    {
     "name": "stdout",
     "output_type": "stream",
     "text": [
      "0.8812199036918138 0.7835820895522388\n"
     ]
    },
    {
     "name": "stderr",
     "output_type": "stream",
     "text": [
      "\u001b[32m[I 2022-03-27 18:56:10,280]\u001b[0m Trial 228 finished with value: 0.7910447761194029 and parameters: {'random_state': 1, 'learning_rate': 0.0003963731041813504, 'bagging_temperature': 0.1756319250548461, 'max_depth': 7, 'random_strength': 4, 'l2_leaf_reg': 1.1162335684909363e-05, 'min_child_samples': 60, 'max_bin': 143, 'od_type': 'Iter'}. Best is trial 194 with value: 0.8022388059701493.\u001b[0m\n"
     ]
    },
    {
     "name": "stdout",
     "output_type": "stream",
     "text": [
      "0.869983948635634 0.7910447761194029\n"
     ]
    },
    {
     "name": "stderr",
     "output_type": "stream",
     "text": [
      "\u001b[32m[I 2022-03-27 18:56:10,611]\u001b[0m Trial 229 finished with value: 0.7761194029850746 and parameters: {'random_state': 1, 'learning_rate': 0.0029202110943962506, 'bagging_temperature': 0.35137074444637645, 'max_depth': 6, 'random_strength': 5, 'l2_leaf_reg': 1.0657530045924783e-05, 'min_child_samples': 67, 'max_bin': 138, 'od_type': 'Iter'}. Best is trial 194 with value: 0.8022388059701493.\u001b[0m\n"
     ]
    },
    {
     "name": "stdout",
     "output_type": "stream",
     "text": [
      "0.884430176565008 0.7761194029850746\n"
     ]
    },
    {
     "name": "stderr",
     "output_type": "stream",
     "text": [
      "\u001b[32m[I 2022-03-27 18:56:11,285]\u001b[0m Trial 230 finished with value: 0.7910447761194029 and parameters: {'random_state': 1, 'learning_rate': 0.0006557426628478455, 'bagging_temperature': 0.5336716331650374, 'max_depth': 6, 'random_strength': 6, 'l2_leaf_reg': 8.07354504346273e-06, 'min_child_samples': 65, 'max_bin': 140, 'od_type': 'IncToDec'}. Best is trial 194 with value: 0.8022388059701493.\u001b[0m\n"
     ]
    },
    {
     "name": "stdout",
     "output_type": "stream",
     "text": [
      "0.8683788121990369 0.7910447761194029\n"
     ]
    },
    {
     "name": "stderr",
     "output_type": "stream",
     "text": [
      "\u001b[32m[I 2022-03-27 18:56:11,946]\u001b[0m Trial 231 finished with value: 0.7873134328358209 and parameters: {'random_state': 1, 'learning_rate': 0.0010603402215316605, 'bagging_temperature': 0.09289720816541515, 'max_depth': 6, 'random_strength': 7, 'l2_leaf_reg': 1.1589763297689713e-05, 'min_child_samples': 67, 'max_bin': 152, 'od_type': 'Iter'}. Best is trial 194 with value: 0.8022388059701493.\u001b[0m\n"
     ]
    },
    {
     "name": "stdout",
     "output_type": "stream",
     "text": [
      "0.8828250401284109 0.7873134328358209\n"
     ]
    },
    {
     "name": "stderr",
     "output_type": "stream",
     "text": [
      "\u001b[32m[I 2022-03-27 18:56:12,604]\u001b[0m Trial 232 finished with value: 0.7947761194029851 and parameters: {'random_state': 1, 'learning_rate': 0.0007244799024902508, 'bagging_temperature': 0.5548220798389204, 'max_depth': 6, 'random_strength': 5, 'l2_leaf_reg': 1.1136339321928357e-05, 'min_child_samples': 63, 'max_bin': 140, 'od_type': 'Iter'}. Best is trial 194 with value: 0.8022388059701493.\u001b[0m\n"
     ]
    },
    {
     "name": "stdout",
     "output_type": "stream",
     "text": [
      "0.8683788121990369 0.7947761194029851\n"
     ]
    },
    {
     "name": "stderr",
     "output_type": "stream",
     "text": [
      "\u001b[32m[I 2022-03-27 18:56:13,380]\u001b[0m Trial 233 finished with value: 0.7985074626865671 and parameters: {'random_state': 1, 'learning_rate': 0.0007161223295494012, 'bagging_temperature': 0.8624746580276557, 'max_depth': 7, 'random_strength': 2, 'l2_leaf_reg': 1.1551408603128719e-05, 'min_child_samples': 61, 'max_bin': 149, 'od_type': 'Iter'}. Best is trial 194 with value: 0.8022388059701493.\u001b[0m\n"
     ]
    },
    {
     "name": "stdout",
     "output_type": "stream",
     "text": [
      "0.8780096308186196 0.7985074626865671\n"
     ]
    },
    {
     "name": "stderr",
     "output_type": "stream",
     "text": [
      "\u001b[32m[I 2022-03-27 18:56:14,153]\u001b[0m Trial 234 finished with value: 0.7835820895522388 and parameters: {'random_state': 1, 'learning_rate': 0.0007954630724223252, 'bagging_temperature': 0.8667795198660516, 'max_depth': 7, 'random_strength': 3, 'l2_leaf_reg': 1.2165768496483799e-05, 'min_child_samples': 60, 'max_bin': 149, 'od_type': 'Iter'}. Best is trial 194 with value: 0.8022388059701493.\u001b[0m\n"
     ]
    },
    {
     "name": "stdout",
     "output_type": "stream",
     "text": [
      "0.8780096308186196 0.7835820895522388\n"
     ]
    },
    {
     "name": "stderr",
     "output_type": "stream",
     "text": [
      "\u001b[32m[I 2022-03-27 18:56:14,912]\u001b[0m Trial 235 finished with value: 0.7910447761194029 and parameters: {'random_state': 1, 'learning_rate': 0.0009024095394017954, 'bagging_temperature': 0.945819752370682, 'max_depth': 7, 'random_strength': 2, 'l2_leaf_reg': 4.1313152699721583e-07, 'min_child_samples': 55, 'max_bin': 147, 'od_type': 'Iter'}. Best is trial 194 with value: 0.8022388059701493.\u001b[0m\n"
     ]
    },
    {
     "name": "stdout",
     "output_type": "stream",
     "text": [
      "0.884430176565008 0.7910447761194029\n"
     ]
    },
    {
     "name": "stderr",
     "output_type": "stream",
     "text": [
      "\u001b[32m[I 2022-03-27 18:56:15,700]\u001b[0m Trial 236 finished with value: 0.7910447761194029 and parameters: {'random_state': 1, 'learning_rate': 0.0004957605901855717, 'bagging_temperature': 0.7472624152472249, 'max_depth': 7, 'random_strength': 2, 'l2_leaf_reg': 1.4378490817893713e-05, 'min_child_samples': 56, 'max_bin': 155, 'od_type': 'Iter'}. Best is trial 194 with value: 0.8022388059701493.\u001b[0m\n"
     ]
    },
    {
     "name": "stdout",
     "output_type": "stream",
     "text": [
      "0.8715890850722311 0.7910447761194029\n"
     ]
    },
    {
     "name": "stderr",
     "output_type": "stream",
     "text": [
      "\u001b[32m[I 2022-03-27 18:56:16,464]\u001b[0m Trial 237 finished with value: 0.7873134328358209 and parameters: {'random_state': 1, 'learning_rate': 0.000570721387680545, 'bagging_temperature': 0.12679821731949154, 'max_depth': 7, 'random_strength': 3, 'l2_leaf_reg': 1.019074173647406e-05, 'min_child_samples': 53, 'max_bin': 134, 'od_type': 'Iter'}. Best is trial 194 with value: 0.8022388059701493.\u001b[0m\n"
     ]
    },
    {
     "name": "stdout",
     "output_type": "stream",
     "text": [
      "0.8715890850722311 0.7873134328358209\n"
     ]
    },
    {
     "name": "stderr",
     "output_type": "stream",
     "text": [
      "\u001b[32m[I 2022-03-27 18:56:17,223]\u001b[0m Trial 238 finished with value: 0.7910447761194029 and parameters: {'random_state': 1, 'learning_rate': 0.00030337289087785136, 'bagging_temperature': 0.1391785156549083, 'max_depth': 7, 'random_strength': 5, 'l2_leaf_reg': 1.1890770925096846e-05, 'min_child_samples': 62, 'max_bin': 159, 'od_type': 'Iter'}. Best is trial 194 with value: 0.8022388059701493.\u001b[0m\n"
     ]
    },
    {
     "name": "stdout",
     "output_type": "stream",
     "text": [
      "0.869983948635634 0.7910447761194029\n"
     ]
    },
    {
     "name": "stderr",
     "output_type": "stream",
     "text": [
      "\u001b[32m[I 2022-03-27 18:56:17,763]\u001b[0m Trial 239 finished with value: 0.7723880597014925 and parameters: {'random_state': 1, 'learning_rate': 0.0009166638062679453, 'bagging_temperature': 0.43152070948694476, 'max_depth': 6, 'random_strength': 0, 'l2_leaf_reg': 1.292586257534076e-05, 'min_child_samples': 73, 'max_bin': 151, 'od_type': 'Iter'}. Best is trial 194 with value: 0.8022388059701493.\u001b[0m\n"
     ]
    },
    {
     "name": "stdout",
     "output_type": "stream",
     "text": [
      "0.898876404494382 0.7723880597014925\n"
     ]
    },
    {
     "name": "stderr",
     "output_type": "stream",
     "text": [
      "\u001b[32m[I 2022-03-27 18:56:18,415]\u001b[0m Trial 240 finished with value: 0.7910447761194029 and parameters: {'random_state': 1, 'learning_rate': 0.00034309655735273426, 'bagging_temperature': 1.217997058437474, 'max_depth': 6, 'random_strength': 7, 'l2_leaf_reg': 1.0721556963878924e-05, 'min_child_samples': 68, 'max_bin': 130, 'od_type': 'Iter'}. Best is trial 194 with value: 0.8022388059701493.\u001b[0m\n"
     ]
    },
    {
     "name": "stdout",
     "output_type": "stream",
     "text": [
      "0.8715890850722311 0.7910447761194029\n"
     ]
    },
    {
     "name": "stderr",
     "output_type": "stream",
     "text": [
      "\u001b[32m[I 2022-03-27 18:56:19,191]\u001b[0m Trial 241 finished with value: 0.7910447761194029 and parameters: {'random_state': 1, 'learning_rate': 0.00048107130891605866, 'bagging_temperature': 0.15670454841626183, 'max_depth': 7, 'random_strength': 4, 'l2_leaf_reg': 1.2261385603686509e-05, 'min_child_samples': 58, 'max_bin': 144, 'od_type': 'Iter'}. Best is trial 194 with value: 0.8022388059701493.\u001b[0m\n"
     ]
    },
    {
     "name": "stdout",
     "output_type": "stream",
     "text": [
      "0.869983948635634 0.7910447761194029\n"
     ]
    },
    {
     "name": "stderr",
     "output_type": "stream",
     "text": [
      "\u001b[32m[I 2022-03-27 18:56:19,954]\u001b[0m Trial 242 finished with value: 0.7985074626865671 and parameters: {'random_state': 1, 'learning_rate': 0.0005920994167588566, 'bagging_temperature': 0.13322963939580895, 'max_depth': 7, 'random_strength': 2, 'l2_leaf_reg': 1.3095653284016204e-05, 'min_child_samples': 54, 'max_bin': 136, 'od_type': 'Iter'}. Best is trial 194 with value: 0.8022388059701493.\u001b[0m\n"
     ]
    },
    {
     "name": "stdout",
     "output_type": "stream",
     "text": [
      "0.8747993579454254 0.7985074626865671\n"
     ]
    },
    {
     "name": "stderr",
     "output_type": "stream",
     "text": [
      "\u001b[32m[I 2022-03-27 18:56:20,761]\u001b[0m Trial 243 finished with value: 0.7910447761194029 and parameters: {'random_state': 1, 'learning_rate': 0.0006346988925545286, 'bagging_temperature': 0.11423239152827813, 'max_depth': 7, 'random_strength': 3, 'l2_leaf_reg': 1.2673058360303212e-05, 'min_child_samples': 63, 'max_bin': 136, 'od_type': 'Iter'}. Best is trial 194 with value: 0.8022388059701493.\u001b[0m\n"
     ]
    },
    {
     "name": "stdout",
     "output_type": "stream",
     "text": [
      "0.8764044943820225 0.7910447761194029\n"
     ]
    },
    {
     "name": "stderr",
     "output_type": "stream",
     "text": [
      "\u001b[32m[I 2022-03-27 18:56:21,524]\u001b[0m Trial 244 finished with value: 0.7910447761194029 and parameters: {'random_state': 1, 'learning_rate': 0.0007558613856928776, 'bagging_temperature': 0.10807857351445342, 'max_depth': 7, 'random_strength': 2, 'l2_leaf_reg': 1.4197739692541647e-05, 'min_child_samples': 56, 'max_bin': 148, 'od_type': 'Iter'}. Best is trial 194 with value: 0.8022388059701493.\u001b[0m\n"
     ]
    },
    {
     "name": "stdout",
     "output_type": "stream",
     "text": [
      "0.8747993579454254 0.7910447761194029\n"
     ]
    },
    {
     "name": "stderr",
     "output_type": "stream",
     "text": [
      "\u001b[32m[I 2022-03-27 18:56:22,138]\u001b[0m Trial 245 finished with value: 0.7761194029850746 and parameters: {'random_state': 1, 'learning_rate': 0.000756578800378216, 'bagging_temperature': 0.07563707749146117, 'max_depth': 7, 'random_strength': 0, 'l2_leaf_reg': 1.2625854044105098e-05, 'min_child_samples': 60, 'max_bin': 150, 'od_type': 'Iter'}. Best is trial 194 with value: 0.8022388059701493.\u001b[0m\n"
     ]
    },
    {
     "name": "stdout",
     "output_type": "stream",
     "text": [
      "0.9069020866773676 0.7761194029850746\n"
     ]
    },
    {
     "name": "stderr",
     "output_type": "stream",
     "text": [
      "\u001b[32m[I 2022-03-27 18:56:22,792]\u001b[0m Trial 246 finished with value: 0.7985074626865671 and parameters: {'random_state': 1, 'learning_rate': 0.0006954147037622088, 'bagging_temperature': 0.784657571074267, 'max_depth': 6, 'random_strength': 6, 'l2_leaf_reg': 1.1437207838800877e-05, 'min_child_samples': 72, 'max_bin': 140, 'od_type': 'Iter'}. Best is trial 194 with value: 0.8022388059701493.\u001b[0m\n"
     ]
    },
    {
     "name": "stdout",
     "output_type": "stream",
     "text": [
      "0.8715890850722311 0.7985074626865671\n"
     ]
    },
    {
     "name": "stderr",
     "output_type": "stream",
     "text": [
      "\u001b[32m[I 2022-03-27 18:56:23,562]\u001b[0m Trial 247 finished with value: 0.7873134328358209 and parameters: {'random_state': 1, 'learning_rate': 0.00039573588626806835, 'bagging_temperature': 0.14465224640690647, 'max_depth': 7, 'random_strength': 6, 'l2_leaf_reg': 1.331060913246163e-05, 'min_child_samples': 58, 'max_bin': 145, 'od_type': 'Iter'}. Best is trial 194 with value: 0.8022388059701493.\u001b[0m\n"
     ]
    },
    {
     "name": "stdout",
     "output_type": "stream",
     "text": [
      "0.8731942215088283 0.7873134328358209\n"
     ]
    },
    {
     "name": "stderr",
     "output_type": "stream",
     "text": [
      "\u001b[32m[I 2022-03-27 18:56:24,360]\u001b[0m Trial 248 finished with value: 0.7910447761194029 and parameters: {'random_state': 1, 'learning_rate': 0.0005621064128951693, 'bagging_temperature': 0.7605615352215879, 'max_depth': 7, 'random_strength': 1, 'l2_leaf_reg': 1.4293041648044432e-05, 'min_child_samples': 72, 'max_bin': 132, 'od_type': 'Iter'}. Best is trial 194 with value: 0.8022388059701493.\u001b[0m\n"
     ]
    },
    {
     "name": "stdout",
     "output_type": "stream",
     "text": [
      "0.8796147672552167 0.7910447761194029\n"
     ]
    },
    {
     "name": "stderr",
     "output_type": "stream",
     "text": [
      "\u001b[32m[I 2022-03-27 18:56:25,018]\u001b[0m Trial 249 finished with value: 0.7649253731343284 and parameters: {'random_state': 1, 'learning_rate': 0.001237828716805568, 'bagging_temperature': 0.5237311399820846, 'max_depth': 6, 'random_strength': 10, 'l2_leaf_reg': 1.1050582931773733e-05, 'min_child_samples': 71, 'max_bin': 140, 'od_type': 'Iter'}. Best is trial 194 with value: 0.8022388059701493.\u001b[0m\n"
     ]
    },
    {
     "name": "stdout",
     "output_type": "stream",
     "text": [
      "0.8828250401284109 0.7649253731343284\n"
     ]
    },
    {
     "name": "stderr",
     "output_type": "stream",
     "text": [
      "\u001b[32m[I 2022-03-27 18:56:25,668]\u001b[0m Trial 250 finished with value: 0.7985074626865671 and parameters: {'random_state': 1, 'learning_rate': 0.000658620292020165, 'bagging_temperature': 0.1061313347006751, 'max_depth': 6, 'random_strength': 7, 'l2_leaf_reg': 1.0448467136540396e-05, 'min_child_samples': 69, 'max_bin': 141, 'od_type': 'Iter'}. Best is trial 194 with value: 0.8022388059701493.\u001b[0m\n"
     ]
    },
    {
     "name": "stdout",
     "output_type": "stream",
     "text": [
      "0.8747993579454254 0.7985074626865671\n"
     ]
    },
    {
     "name": "stderr",
     "output_type": "stream",
     "text": [
      "\u001b[32m[I 2022-03-27 18:56:26,453]\u001b[0m Trial 251 finished with value: 0.7798507462686567 and parameters: {'random_state': 1, 'learning_rate': 0.0005195188789424676, 'bagging_temperature': 0.880645213739627, 'max_depth': 7, 'random_strength': 8, 'l2_leaf_reg': 9.988360464234186e-06, 'min_child_samples': 51, 'max_bin': 137, 'od_type': 'Iter'}. Best is trial 194 with value: 0.8022388059701493.\u001b[0m\n"
     ]
    },
    {
     "name": "stdout",
     "output_type": "stream",
     "text": [
      "0.8876404494382022 0.7798507462686567\n"
     ]
    },
    {
     "name": "stderr",
     "output_type": "stream",
     "text": [
      "\u001b[32m[I 2022-03-27 18:56:27,185]\u001b[0m Trial 252 finished with value: 0.7910447761194029 and parameters: {'random_state': 1, 'learning_rate': 0.0009046854450150112, 'bagging_temperature': 0.8493691541490517, 'max_depth': 6, 'random_strength': 1, 'l2_leaf_reg': 8.731522963403696e-06, 'min_child_samples': 77, 'max_bin': 140, 'od_type': 'Iter'}. Best is trial 194 with value: 0.8022388059701493.\u001b[0m\n"
     ]
    },
    {
     "name": "stdout",
     "output_type": "stream",
     "text": [
      "0.8764044943820225 0.7910447761194029\n"
     ]
    },
    {
     "name": "stderr",
     "output_type": "stream",
     "text": [
      "\u001b[32m[I 2022-03-27 18:56:27,903]\u001b[0m Trial 253 finished with value: 0.7686567164179104 and parameters: {'random_state': 1, 'learning_rate': 0.0004910630740316134, 'bagging_temperature': 0.6279844414298947, 'max_depth': 6, 'random_strength': 9, 'l2_leaf_reg': 1.0476750446587224e-05, 'min_child_samples': 67, 'max_bin': 135, 'od_type': 'Iter'}. Best is trial 194 with value: 0.8022388059701493.\u001b[0m\n"
     ]
    },
    {
     "name": "stdout",
     "output_type": "stream",
     "text": [
      "0.8828250401284109 0.7686567164179104\n"
     ]
    },
    {
     "name": "stderr",
     "output_type": "stream",
     "text": [
      "\u001b[32m[I 2022-03-27 18:56:28,593]\u001b[0m Trial 254 finished with value: 0.7761194029850746 and parameters: {'random_state': 1, 'learning_rate': 0.0010717572700996436, 'bagging_temperature': 0.5671680533950006, 'max_depth': 6, 'random_strength': 6, 'l2_leaf_reg': 1.1181699683459295e-05, 'min_child_samples': 70, 'max_bin': 140, 'od_type': 'Iter'}. Best is trial 194 with value: 0.8022388059701493.\u001b[0m\n"
     ]
    },
    {
     "name": "stdout",
     "output_type": "stream",
     "text": [
      "0.884430176565008 0.7761194029850746\n"
     ]
    },
    {
     "name": "stderr",
     "output_type": "stream",
     "text": [
      "\u001b[32m[I 2022-03-27 18:56:29,268]\u001b[0m Trial 255 finished with value: 0.7910447761194029 and parameters: {'random_state': 1, 'learning_rate': 0.0004186629500795396, 'bagging_temperature': 0.2753030544789401, 'max_depth': 6, 'random_strength': 5, 'l2_leaf_reg': 1.2177495374309817e-05, 'min_child_samples': 64, 'max_bin': 140, 'od_type': 'Iter'}. Best is trial 194 with value: 0.8022388059701493.\u001b[0m\n"
     ]
    },
    {
     "name": "stdout",
     "output_type": "stream",
     "text": [
      "0.8635634028892456 0.7910447761194029\n"
     ]
    },
    {
     "name": "stderr",
     "output_type": "stream",
     "text": [
      "\u001b[32m[I 2022-03-27 18:56:29,985]\u001b[0m Trial 256 finished with value: 0.7723880597014925 and parameters: {'random_state': 1, 'learning_rate': 0.0008462995309591022, 'bagging_temperature': 0.4935742752245139, 'max_depth': 6, 'random_strength': 9, 'l2_leaf_reg': 1.0802702184125013e-05, 'min_child_samples': 72, 'max_bin': 142, 'od_type': 'Iter'}. Best is trial 194 with value: 0.8022388059701493.\u001b[0m\n"
     ]
    },
    {
     "name": "stdout",
     "output_type": "stream",
     "text": [
      "0.8892455858747994 0.7723880597014925\n"
     ]
    },
    {
     "name": "stderr",
     "output_type": "stream",
     "text": [
      "\u001b[32m[I 2022-03-27 18:56:30,530]\u001b[0m Trial 257 finished with value: 0.7873134328358209 and parameters: {'random_state': 1, 'learning_rate': 0.0006713412753086328, 'bagging_temperature': 0.10908210236163007, 'max_depth': 4, 'random_strength': 2, 'l2_leaf_reg': 5.251330361378986e-06, 'min_child_samples': 74, 'max_bin': 146, 'od_type': 'Iter'}. Best is trial 194 with value: 0.8022388059701493.\u001b[0m\n"
     ]
    },
    {
     "name": "stdout",
     "output_type": "stream",
     "text": [
      "0.8523274478330658 0.7873134328358209\n"
     ]
    },
    {
     "name": "stderr",
     "output_type": "stream",
     "text": [
      "\u001b[32m[I 2022-03-27 18:56:31,226]\u001b[0m Trial 258 finished with value: 0.7910447761194029 and parameters: {'random_state': 1, 'learning_rate': 0.0006046164646737786, 'bagging_temperature': 0.6558746851294794, 'max_depth': 6, 'random_strength': 5, 'l2_leaf_reg': 1.1646574927779458e-05, 'min_child_samples': 66, 'max_bin': 138, 'od_type': 'Iter'}. Best is trial 194 with value: 0.8022388059701493.\u001b[0m\n"
     ]
    },
    {
     "name": "stdout",
     "output_type": "stream",
     "text": [
      "0.8651685393258427 0.7910447761194029\n"
     ]
    },
    {
     "name": "stderr",
     "output_type": "stream",
     "text": [
      "\u001b[32m[I 2022-03-27 18:56:32,018]\u001b[0m Trial 259 finished with value: 0.7947761194029851 and parameters: {'random_state': 1, 'learning_rate': 0.0004717184422587461, 'bagging_temperature': 0.18870457711592, 'max_depth': 7, 'random_strength': 3, 'l2_leaf_reg': 1.3656132136804997e-05, 'min_child_samples': 54, 'max_bin': 136, 'od_type': 'Iter'}. Best is trial 194 with value: 0.8022388059701493.\u001b[0m\n"
     ]
    },
    {
     "name": "stdout",
     "output_type": "stream",
     "text": [
      "0.8635634028892456 0.7947761194029851\n"
     ]
    },
    {
     "name": "stderr",
     "output_type": "stream",
     "text": [
      "\u001b[32m[I 2022-03-27 18:56:32,292]\u001b[0m Trial 260 finished with value: 0.7686567164179104 and parameters: {'random_state': 1, 'learning_rate': 0.0021811643101032415, 'bagging_temperature': 0.9623512875793887, 'max_depth': 7, 'random_strength': 0, 'l2_leaf_reg': 1.3099912092488289e-05, 'min_child_samples': 56, 'max_bin': 133, 'od_type': 'Iter'}. Best is trial 194 with value: 0.8022388059701493.\u001b[0m\n"
     ]
    },
    {
     "name": "stdout",
     "output_type": "stream",
     "text": [
      "0.9085072231139647 0.7686567164179104\n"
     ]
    },
    {
     "name": "stderr",
     "output_type": "stream",
     "text": [
      "\u001b[32m[I 2022-03-27 18:56:32,883]\u001b[0m Trial 261 finished with value: 0.7835820895522388 and parameters: {'random_state': 1, 'learning_rate': 0.00043117494635739153, 'bagging_temperature': 1.2899107238270406, 'max_depth': 5, 'random_strength': 3, 'l2_leaf_reg': 1.5339568128568086e-05, 'min_child_samples': 51, 'max_bin': 128, 'od_type': 'IncToDec'}. Best is trial 194 with value: 0.8022388059701493.\u001b[0m\n"
     ]
    },
    {
     "name": "stdout",
     "output_type": "stream",
     "text": [
      "0.85553772070626 0.7835820895522388\n"
     ]
    },
    {
     "name": "stderr",
     "output_type": "stream",
     "text": [
      "\u001b[32m[I 2022-03-27 18:56:33,541]\u001b[0m Trial 262 finished with value: 0.7798507462686567 and parameters: {'random_state': 1, 'learning_rate': 0.0009123523306112964, 'bagging_temperature': 0.839049568968017, 'max_depth': 6, 'random_strength': 56, 'l2_leaf_reg': 1.2344822011621252e-05, 'min_child_samples': 70, 'max_bin': 144, 'od_type': 'Iter'}. Best is trial 194 with value: 0.8022388059701493.\u001b[0m\n"
     ]
    },
    {
     "name": "stdout",
     "output_type": "stream",
     "text": [
      "0.8796147672552167 0.7798507462686567\n"
     ]
    },
    {
     "name": "stderr",
     "output_type": "stream",
     "text": [
      "\u001b[32m[I 2022-03-27 18:56:34,271]\u001b[0m Trial 263 finished with value: 0.7835820895522388 and parameters: {'random_state': 1, 'learning_rate': 0.0008107462972101138, 'bagging_temperature': 0.0797848958551826, 'max_depth': 6, 'random_strength': 6, 'l2_leaf_reg': 1.1758439033068984e-05, 'min_child_samples': 63, 'max_bin': 148, 'od_type': 'Iter'}. Best is trial 194 with value: 0.8022388059701493.\u001b[0m\n"
     ]
    },
    {
     "name": "stdout",
     "output_type": "stream",
     "text": [
      "0.8796147672552167 0.7835820895522388\n"
     ]
    },
    {
     "name": "stderr",
     "output_type": "stream",
     "text": [
      "\u001b[32m[I 2022-03-27 18:56:34,883]\u001b[0m Trial 264 finished with value: 0.7947761194029851 and parameters: {'random_state': 1, 'learning_rate': 0.000764638120852335, 'bagging_temperature': 0.7032719463136019, 'max_depth': 5, 'random_strength': 1, 'l2_leaf_reg': 1.304921558183709e-05, 'min_child_samples': 68, 'max_bin': 146, 'od_type': 'Iter'}. Best is trial 194 with value: 0.8022388059701493.\u001b[0m\n"
     ]
    },
    {
     "name": "stdout",
     "output_type": "stream",
     "text": [
      "0.8603531300160514 0.7947761194029851\n"
     ]
    },
    {
     "name": "stderr",
     "output_type": "stream",
     "text": [
      "\u001b[32m[I 2022-03-27 18:56:35,665]\u001b[0m Trial 265 finished with value: 0.7985074626865671 and parameters: {'random_state': 1, 'learning_rate': 0.0003271945806142412, 'bagging_temperature': 0.23050800992006984, 'max_depth': 7, 'random_strength': 7, 'l2_leaf_reg': 1.2594599413861006e-05, 'min_child_samples': 69, 'max_bin': 133, 'od_type': 'Iter'}. Best is trial 194 with value: 0.8022388059701493.\u001b[0m\n"
     ]
    },
    {
     "name": "stdout",
     "output_type": "stream",
     "text": [
      "0.8731942215088283 0.7985074626865671\n"
     ]
    },
    {
     "name": "stderr",
     "output_type": "stream",
     "text": [
      "\u001b[32m[I 2022-03-27 18:56:36,482]\u001b[0m Trial 266 finished with value: 0.7835820895522388 and parameters: {'random_state': 1, 'learning_rate': 0.0002175676384544233, 'bagging_temperature': 0.178796638683671, 'max_depth': 7, 'random_strength': 8, 'l2_leaf_reg': 1.1708171688928708e-05, 'min_child_samples': 61, 'max_bin': 133, 'od_type': 'Iter'}. Best is trial 194 with value: 0.8022388059701493.\u001b[0m\n"
     ]
    },
    {
     "name": "stdout",
     "output_type": "stream",
     "text": [
      "0.8828250401284109 0.7835820895522388\n"
     ]
    },
    {
     "name": "stderr",
     "output_type": "stream",
     "text": [
      "\u001b[32m[I 2022-03-27 18:56:37,207]\u001b[0m Trial 267 finished with value: 0.7910447761194029 and parameters: {'random_state': 1, 'learning_rate': 0.0006466846906564586, 'bagging_temperature': 0.249035714476329, 'max_depth': 6, 'random_strength': 7, 'l2_leaf_reg': 1.25166899991039e-05, 'min_child_samples': 72, 'max_bin': 138, 'od_type': 'Iter'}. Best is trial 194 with value: 0.8022388059701493.\u001b[0m\n"
     ]
    },
    {
     "name": "stdout",
     "output_type": "stream",
     "text": [
      "0.8764044943820225 0.7910447761194029\n"
     ]
    },
    {
     "name": "stderr",
     "output_type": "stream",
     "text": [
      "\u001b[32m[I 2022-03-27 18:56:38,054]\u001b[0m Trial 268 finished with value: 0.7686567164179104 and parameters: {'random_state': 1, 'learning_rate': 0.0006439495992966005, 'bagging_temperature': 0.095214220261136, 'max_depth': 7, 'random_strength': 99, 'l2_leaf_reg': 1.1507453943458523e-05, 'min_child_samples': 68, 'max_bin': 151, 'od_type': 'Iter'}. Best is trial 194 with value: 0.8022388059701493.\u001b[0m\n"
     ]
    },
    {
     "name": "stdout",
     "output_type": "stream",
     "text": [
      "0.8747993579454254 0.7686567164179104\n"
     ]
    },
    {
     "name": "stderr",
     "output_type": "stream",
     "text": [
      "\u001b[32m[I 2022-03-27 18:56:38,717]\u001b[0m Trial 269 finished with value: 0.7910447761194029 and parameters: {'random_state': 1, 'learning_rate': 0.0007566315864050544, 'bagging_temperature': 0.08692000960689704, 'max_depth': 5, 'random_strength': 3, 'l2_leaf_reg': 1.3421003521575378e-05, 'min_child_samples': 68, 'max_bin': 146, 'od_type': 'Iter'}. Best is trial 194 with value: 0.8022388059701493.\u001b[0m\n"
     ]
    },
    {
     "name": "stdout",
     "output_type": "stream",
     "text": [
      "0.8571428571428571 0.7910447761194029\n"
     ]
    },
    {
     "name": "stderr",
     "output_type": "stream",
     "text": [
      "\u001b[32m[I 2022-03-27 18:56:39,208]\u001b[0m Trial 270 finished with value: 0.7873134328358209 and parameters: {'random_state': 1, 'learning_rate': 0.00028722386065184723, 'bagging_temperature': 0.29356933982812244, 'max_depth': 3, 'random_strength': 6, 'l2_leaf_reg': 1.102301563215319e-05, 'min_child_samples': 65, 'max_bin': 137, 'od_type': 'Iter'}. Best is trial 194 with value: 0.8022388059701493.\u001b[0m\n"
     ]
    },
    {
     "name": "stdout",
     "output_type": "stream",
     "text": [
      "0.8426966292134831 0.7873134328358209\n"
     ]
    },
    {
     "name": "stderr",
     "output_type": "stream",
     "text": [
      "\u001b[32m[I 2022-03-27 18:56:39,980]\u001b[0m Trial 271 finished with value: 0.7798507462686567 and parameters: {'random_state': 1, 'learning_rate': 0.0006778806651683486, 'bagging_temperature': 0.16915683093827524, 'max_depth': 7, 'random_strength': 10, 'l2_leaf_reg': 1.1396809668780104e-05, 'min_child_samples': 61, 'max_bin': 135, 'od_type': 'Iter'}. Best is trial 194 with value: 0.8022388059701493.\u001b[0m\n"
     ]
    },
    {
     "name": "stdout",
     "output_type": "stream",
     "text": [
      "0.8860353130016051 0.7798507462686567\n"
     ]
    },
    {
     "name": "stderr",
     "output_type": "stream",
     "text": [
      "\u001b[32m[I 2022-03-27 18:56:40,753]\u001b[0m Trial 272 finished with value: 0.7686567164179104 and parameters: {'random_state': 1, 'learning_rate': 0.00033766963069755746, 'bagging_temperature': 0.18560783281988724, 'max_depth': 7, 'random_strength': 82, 'l2_leaf_reg': 1.2779079847585841e-05, 'min_child_samples': 70, 'max_bin': 131, 'od_type': 'Iter'}. Best is trial 194 with value: 0.8022388059701493.\u001b[0m\n"
     ]
    },
    {
     "name": "stdout",
     "output_type": "stream",
     "text": [
      "0.869983948635634 0.7686567164179104\n"
     ]
    },
    {
     "name": "stderr",
     "output_type": "stream",
     "text": [
      "\u001b[32m[I 2022-03-27 18:56:41,433]\u001b[0m Trial 273 finished with value: 0.7723880597014925 and parameters: {'random_state': 1, 'learning_rate': 0.0008163537437524263, 'bagging_temperature': 0.09915545223564308, 'max_depth': 6, 'random_strength': 12, 'l2_leaf_reg': 1.195402196243109e-05, 'min_child_samples': 74, 'max_bin': 155, 'od_type': 'Iter'}. Best is trial 194 with value: 0.8022388059701493.\u001b[0m\n"
     ]
    },
    {
     "name": "stdout",
     "output_type": "stream",
     "text": [
      "0.8780096308186196 0.7723880597014925\n"
     ]
    },
    {
     "name": "stderr",
     "output_type": "stream",
     "text": [
      "\u001b[32m[I 2022-03-27 18:56:41,742]\u001b[0m Trial 274 finished with value: 0.7723880597014925 and parameters: {'random_state': 1, 'learning_rate': 0.0039060266239854743, 'bagging_temperature': 0.14479072836848345, 'max_depth': 7, 'random_strength': 7, 'l2_leaf_reg': 1.0180121065118407e-05, 'min_child_samples': 59, 'max_bin': 129, 'od_type': 'Iter'}. Best is trial 194 with value: 0.8022388059701493.\u001b[0m\n"
     ]
    },
    {
     "name": "stdout",
     "output_type": "stream",
     "text": [
      "0.8940609951845907 0.7723880597014925\n"
     ]
    },
    {
     "name": "stderr",
     "output_type": "stream",
     "text": [
      "\u001b[32m[I 2022-03-27 18:56:42,518]\u001b[0m Trial 275 finished with value: 0.7947761194029851 and parameters: {'random_state': 1, 'learning_rate': 0.00036656486886572134, 'bagging_temperature': 0.19329432172137265, 'max_depth': 7, 'random_strength': 6, 'l2_leaf_reg': 1.2220498814896633e-05, 'min_child_samples': 67, 'max_bin': 131, 'od_type': 'Iter'}. Best is trial 194 with value: 0.8022388059701493.\u001b[0m\n"
     ]
    },
    {
     "name": "stdout",
     "output_type": "stream",
     "text": [
      "0.8731942215088283 0.7947761194029851\n"
     ]
    },
    {
     "name": "stderr",
     "output_type": "stream",
     "text": [
      "\u001b[32m[I 2022-03-27 18:56:43,177]\u001b[0m Trial 276 finished with value: 0.7761194029850746 and parameters: {'random_state': 1, 'learning_rate': 0.0010334652165956094, 'bagging_temperature': 0.40890608499673325, 'max_depth': 6, 'random_strength': 9, 'l2_leaf_reg': 9.716304648822194e-06, 'min_child_samples': 66, 'max_bin': 140, 'od_type': 'Iter'}. Best is trial 194 with value: 0.8022388059701493.\u001b[0m\n"
     ]
    },
    {
     "name": "stdout",
     "output_type": "stream",
     "text": [
      "0.884430176565008 0.7761194029850746\n"
     ]
    },
    {
     "name": "stderr",
     "output_type": "stream",
     "text": [
      "\u001b[32m[I 2022-03-27 18:56:43,976]\u001b[0m Trial 277 finished with value: 0.7910447761194029 and parameters: {'random_state': 1, 'learning_rate': 0.0003710223709534245, 'bagging_temperature': 0.21974774317278953, 'max_depth': 7, 'random_strength': 4, 'l2_leaf_reg': 1.2343098750524632e-05, 'min_child_samples': 43, 'max_bin': 130, 'od_type': 'Iter'}. Best is trial 194 with value: 0.8022388059701493.\u001b[0m\n"
     ]
    },
    {
     "name": "stdout",
     "output_type": "stream",
     "text": [
      "0.869983948635634 0.7910447761194029\n"
     ]
    },
    {
     "name": "stderr",
     "output_type": "stream",
     "text": [
      "\u001b[32m[I 2022-03-27 18:56:44,657]\u001b[0m Trial 278 finished with value: 0.7686567164179104 and parameters: {'random_state': 1, 'learning_rate': 0.00017149597153420006, 'bagging_temperature': 0.6175425206608202, 'max_depth': 6, 'random_strength': 93, 'l2_leaf_reg': 1.0552701683788252e-05, 'min_child_samples': 65, 'max_bin': 135, 'od_type': 'Iter'}. Best is trial 194 with value: 0.8022388059701493.\u001b[0m\n"
     ]
    },
    {
     "name": "stdout",
     "output_type": "stream",
     "text": [
      "0.8619582664526485 0.7686567164179104\n"
     ]
    },
    {
     "name": "stderr",
     "output_type": "stream",
     "text": [
      "\u001b[32m[I 2022-03-27 18:56:45,251]\u001b[0m Trial 279 finished with value: 0.7910447761194029 and parameters: {'random_state': 1, 'learning_rate': 0.0006974049802961609, 'bagging_temperature': 0.7486126827509654, 'max_depth': 5, 'random_strength': 4, 'l2_leaf_reg': 1.3438242637686694e-05, 'min_child_samples': 62, 'max_bin': 146, 'od_type': 'Iter'}. Best is trial 194 with value: 0.8022388059701493.\u001b[0m\n"
     ]
    },
    {
     "name": "stdout",
     "output_type": "stream",
     "text": [
      "0.8603531300160514 0.7910447761194029\n"
     ]
    },
    {
     "name": "stderr",
     "output_type": "stream",
     "text": [
      "\u001b[32m[I 2022-03-27 18:56:46,062]\u001b[0m Trial 280 finished with value: 0.7910447761194029 and parameters: {'random_state': 1, 'learning_rate': 0.0006011108033678168, 'bagging_temperature': 0.11409944417449099, 'max_depth': 7, 'random_strength': 2, 'l2_leaf_reg': 1.2868770447739457e-05, 'min_child_samples': 69, 'max_bin': 149, 'od_type': 'IncToDec'}. Best is trial 194 with value: 0.8022388059701493.\u001b[0m\n"
     ]
    },
    {
     "name": "stdout",
     "output_type": "stream",
     "text": [
      "0.8747993579454254 0.7910447761194029\n"
     ]
    },
    {
     "name": "stderr",
     "output_type": "stream",
     "text": [
      "\u001b[32m[I 2022-03-27 18:56:46,736]\u001b[0m Trial 281 finished with value: 0.7985074626865671 and parameters: {'random_state': 1, 'learning_rate': 0.00054409146670162, 'bagging_temperature': 0.5767356595383675, 'max_depth': 6, 'random_strength': 8, 'l2_leaf_reg': 1.1028373255704045e-05, 'min_child_samples': 72, 'max_bin': 141, 'od_type': 'Iter'}. Best is trial 194 with value: 0.8022388059701493.\u001b[0m\n"
     ]
    },
    {
     "name": "stdout",
     "output_type": "stream",
     "text": [
      "0.8764044943820225 0.7985074626865671\n"
     ]
    },
    {
     "name": "stderr",
     "output_type": "stream",
     "text": [
      "\u001b[32m[I 2022-03-27 18:56:47,396]\u001b[0m Trial 282 finished with value: 0.7723880597014925 and parameters: {'random_state': 1, 'learning_rate': 0.00045561617797450606, 'bagging_temperature': 1.2100567906814108, 'max_depth': 6, 'random_strength': 12, 'l2_leaf_reg': 9.60079155434339e-06, 'min_child_samples': 75, 'max_bin': 142, 'od_type': 'Iter'}. Best is trial 194 with value: 0.8022388059701493.\u001b[0m\n"
     ]
    },
    {
     "name": "stdout",
     "output_type": "stream",
     "text": [
      "0.8780096308186196 0.7723880597014925\n"
     ]
    },
    {
     "name": "stderr",
     "output_type": "stream",
     "text": [
      "\u001b[32m[I 2022-03-27 18:56:47,984]\u001b[0m Trial 283 finished with value: 0.7723880597014925 and parameters: {'random_state': 1, 'learning_rate': 0.0005606417707324498, 'bagging_temperature': 0.9456829068329264, 'max_depth': 5, 'random_strength': 8, 'l2_leaf_reg': 1.1415718913412799e-05, 'min_child_samples': 70, 'max_bin': 136, 'od_type': 'Iter'}. Best is trial 194 with value: 0.8022388059701493.\u001b[0m\n"
     ]
    },
    {
     "name": "stdout",
     "output_type": "stream",
     "text": [
      "0.8731942215088283 0.7723880597014925\n"
     ]
    },
    {
     "name": "stderr",
     "output_type": "stream",
     "text": [
      "\u001b[32m[I 2022-03-27 18:56:48,786]\u001b[0m Trial 284 finished with value: 0.7723880597014925 and parameters: {'random_state': 1, 'learning_rate': 0.0004828871552787731, 'bagging_temperature': 0.1407582951155118, 'max_depth': 7, 'random_strength': 9, 'l2_leaf_reg': 1.3688477925808314e-05, 'min_child_samples': 58, 'max_bin': 133, 'od_type': 'Iter'}. Best is trial 194 with value: 0.8022388059701493.\u001b[0m\n"
     ]
    },
    {
     "name": "stdout",
     "output_type": "stream",
     "text": [
      "0.8876404494382022 0.7723880597014925\n"
     ]
    },
    {
     "name": "stderr",
     "output_type": "stream",
     "text": [
      "\u001b[32m[I 2022-03-27 18:56:49,704]\u001b[0m Trial 285 finished with value: 0.7686567164179104 and parameters: {'random_state': 1, 'learning_rate': 0.0004990223001655782, 'bagging_temperature': 0.23753038113302702, 'max_depth': 7, 'random_strength': 0, 'l2_leaf_reg': 1.408481259523123e-05, 'min_child_samples': 6, 'max_bin': 143, 'od_type': 'Iter'}. Best is trial 194 with value: 0.8022388059701493.\u001b[0m\n"
     ]
    },
    {
     "name": "stdout",
     "output_type": "stream",
     "text": [
      "0.9101123595505618 0.7686567164179104\n"
     ]
    },
    {
     "name": "stderr",
     "output_type": "stream",
     "text": [
      "\u001b[32m[I 2022-03-27 18:56:50,525]\u001b[0m Trial 286 finished with value: 0.7985074626865671 and parameters: {'random_state': 1, 'learning_rate': 0.0007131412409411271, 'bagging_temperature': 0.0649709136896719, 'max_depth': 7, 'random_strength': 3, 'l2_leaf_reg': 1.1793582000667144e-05, 'min_child_samples': 10, 'max_bin': 143, 'od_type': 'Iter'}. Best is trial 194 with value: 0.8022388059701493.\u001b[0m\n"
     ]
    },
    {
     "name": "stdout",
     "output_type": "stream",
     "text": [
      "0.8764044943820225 0.7985074626865671\n"
     ]
    },
    {
     "name": "stderr",
     "output_type": "stream",
     "text": [
      "\u001b[32m[I 2022-03-27 18:56:51,376]\u001b[0m Trial 287 finished with value: 0.7947761194029851 and parameters: {'random_state': 1, 'learning_rate': 0.0005639384892732936, 'bagging_temperature': 0.06530858728380279, 'max_depth': 7, 'random_strength': 2, 'l2_leaf_reg': 1.3745370043378678e-05, 'min_child_samples': 54, 'max_bin': 137, 'od_type': 'Iter'}. Best is trial 194 with value: 0.8022388059701493.\u001b[0m\n"
     ]
    },
    {
     "name": "stdout",
     "output_type": "stream",
     "text": [
      "0.8731942215088283 0.7947761194029851\n"
     ]
    },
    {
     "name": "stderr",
     "output_type": "stream",
     "text": [
      "\u001b[32m[I 2022-03-27 18:56:51,945]\u001b[0m Trial 288 finished with value: 0.7723880597014925 and parameters: {'random_state': 1, 'learning_rate': 0.0010093002909246454, 'bagging_temperature': 0.34453486323236154, 'max_depth': 4, 'random_strength': 11, 'l2_leaf_reg': 1.0515171480364991e-05, 'min_child_samples': 9, 'max_bin': 141, 'od_type': 'Iter'}. Best is trial 194 with value: 0.8022388059701493.\u001b[0m\n"
     ]
    },
    {
     "name": "stdout",
     "output_type": "stream",
     "text": [
      "0.8715890850722311 0.7723880597014925\n"
     ]
    },
    {
     "name": "stderr",
     "output_type": "stream",
     "text": [
      "\u001b[32m[I 2022-03-27 18:56:52,723]\u001b[0m Trial 289 finished with value: 0.7947761194029851 and parameters: {'random_state': 1, 'learning_rate': 0.0004093463451157821, 'bagging_temperature': 0.12574290398306728, 'max_depth': 6, 'random_strength': 5, 'l2_leaf_reg': 1.1121058034485494e-05, 'min_child_samples': 18, 'max_bin': 143, 'od_type': 'Iter'}. Best is trial 194 with value: 0.8022388059701493.\u001b[0m\n"
     ]
    },
    {
     "name": "stdout",
     "output_type": "stream",
     "text": [
      "0.8667736757624398 0.7947761194029851\n"
     ]
    },
    {
     "name": "stderr",
     "output_type": "stream",
     "text": [
      "\u001b[32m[I 2022-03-27 18:56:53,209]\u001b[0m Trial 290 finished with value: 0.7798507462686567 and parameters: {'random_state': 1, 'learning_rate': 0.0011463150080858852, 'bagging_temperature': 0.05710678674604829, 'max_depth': 7, 'random_strength': 0, 'l2_leaf_reg': 1.2466581431633519e-05, 'min_child_samples': 72, 'max_bin': 152, 'od_type': 'Iter'}. Best is trial 194 with value: 0.8022388059701493.\u001b[0m\n"
     ]
    },
    {
     "name": "stdout",
     "output_type": "stream",
     "text": [
      "0.9085072231139647 0.7798507462686567\n"
     ]
    },
    {
     "name": "stderr",
     "output_type": "stream",
     "text": [
      "\u001b[32m[I 2022-03-27 18:56:53,876]\u001b[0m Trial 291 finished with value: 0.7835820895522388 and parameters: {'random_state': 1, 'learning_rate': 0.0008662955923120608, 'bagging_temperature': 0.5942841658929126, 'max_depth': 6, 'random_strength': 8, 'l2_leaf_reg': 1.1970866448591234e-05, 'min_child_samples': 14, 'max_bin': 140, 'od_type': 'Iter'}. Best is trial 194 with value: 0.8022388059701493.\u001b[0m\n"
     ]
    },
    {
     "name": "stdout",
     "output_type": "stream",
     "text": [
      "0.8828250401284109 0.7835820895522388\n"
     ]
    },
    {
     "name": "stderr",
     "output_type": "stream",
     "text": [
      "\u001b[32m[I 2022-03-27 18:56:54,586]\u001b[0m Trial 292 finished with value: 0.7910447761194029 and parameters: {'random_state': 1, 'learning_rate': 0.0007543898600356347, 'bagging_temperature': 1.4945595850372044, 'max_depth': 6, 'random_strength': 2, 'l2_leaf_reg': 1.0462716208937018e-05, 'min_child_samples': 93, 'max_bin': 153, 'od_type': 'Iter'}. Best is trial 194 with value: 0.8022388059701493.\u001b[0m\n"
     ]
    },
    {
     "name": "stdout",
     "output_type": "stream",
     "text": [
      "0.8683788121990369 0.7910447761194029\n"
     ]
    },
    {
     "name": "stderr",
     "output_type": "stream",
     "text": [
      "\u001b[32m[I 2022-03-27 18:56:55,386]\u001b[0m Trial 293 finished with value: 0.7947761194029851 and parameters: {'random_state': 1, 'learning_rate': 0.0002817637752157528, 'bagging_temperature': 0.14095008772022277, 'max_depth': 7, 'random_strength': 4, 'l2_leaf_reg': 1.5061387087324939e-05, 'min_child_samples': 52, 'max_bin': 137, 'od_type': 'Iter'}. Best is trial 194 with value: 0.8022388059701493.\u001b[0m\n"
     ]
    },
    {
     "name": "stdout",
     "output_type": "stream",
     "text": [
      "0.8683788121990369 0.7947761194029851\n"
     ]
    },
    {
     "name": "stderr",
     "output_type": "stream",
     "text": [
      "\u001b[32m[I 2022-03-27 18:56:56,241]\u001b[0m Trial 294 finished with value: 0.7723880597014925 and parameters: {'random_state': 1, 'learning_rate': 0.0005432248224788893, 'bagging_temperature': 0.7846933147702783, 'max_depth': 7, 'random_strength': 0, 'l2_leaf_reg': 1.475915418748325e-05, 'min_child_samples': 80, 'max_bin': 144, 'od_type': 'Iter'}. Best is trial 194 with value: 0.8022388059701493.\u001b[0m\n"
     ]
    },
    {
     "name": "stdout",
     "output_type": "stream",
     "text": [
      "0.9101123595505618 0.7723880597014925\n"
     ]
    },
    {
     "name": "stderr",
     "output_type": "stream",
     "text": [
      "\u001b[32m[I 2022-03-27 18:56:57,039]\u001b[0m Trial 295 finished with value: 0.7835820895522388 and parameters: {'random_state': 1, 'learning_rate': 0.00046632226455198825, 'bagging_temperature': 0.10015664127771759, 'max_depth': 7, 'random_strength': 3, 'l2_leaf_reg': 1.153744925079361e-05, 'min_child_samples': 76, 'max_bin': 158, 'od_type': 'Iter'}. Best is trial 194 with value: 0.8022388059701493.\u001b[0m\n"
     ]
    },
    {
     "name": "stdout",
     "output_type": "stream",
     "text": [
      "0.869983948635634 0.7835820895522388\n"
     ]
    },
    {
     "name": "stderr",
     "output_type": "stream",
     "text": [
      "\u001b[32m[I 2022-03-27 18:56:57,708]\u001b[0m Trial 296 finished with value: 0.7910447761194029 and parameters: {'random_state': 1, 'learning_rate': 0.0006703662630266314, 'bagging_temperature': 1.0953497459503643, 'max_depth': 6, 'random_strength': 7, 'l2_leaf_reg': 1.13096587793557e-05, 'min_child_samples': 63, 'max_bin': 142, 'od_type': 'Iter'}. Best is trial 194 with value: 0.8022388059701493.\u001b[0m\n"
     ]
    },
    {
     "name": "stdout",
     "output_type": "stream",
     "text": [
      "0.8764044943820225 0.7910447761194029\n"
     ]
    },
    {
     "name": "stderr",
     "output_type": "stream",
     "text": [
      "\u001b[32m[I 2022-03-27 18:56:58,370]\u001b[0m Trial 297 finished with value: 0.7910447761194029 and parameters: {'random_state': 1, 'learning_rate': 0.0010191966778113867, 'bagging_temperature': 0.4254202875175669, 'max_depth': 6, 'random_strength': 5, 'l2_leaf_reg': 1.2670276408309494e-05, 'min_child_samples': 65, 'max_bin': 139, 'od_type': 'Iter'}. Best is trial 194 with value: 0.8022388059701493.\u001b[0m\n"
     ]
    },
    {
     "name": "stdout",
     "output_type": "stream",
     "text": [
      "0.8731942215088283 0.7910447761194029\n"
     ]
    },
    {
     "name": "stderr",
     "output_type": "stream",
     "text": [
      "\u001b[32m[I 2022-03-27 18:56:59,027]\u001b[0m Trial 298 finished with value: 0.7947761194029851 and parameters: {'random_state': 1, 'learning_rate': 0.0005914115134475294, 'bagging_temperature': 0.5047766749694056, 'max_depth': 6, 'random_strength': 5, 'l2_leaf_reg': 1.0611085440411003e-05, 'min_child_samples': 70, 'max_bin': 144, 'od_type': 'Iter'}. Best is trial 194 with value: 0.8022388059701493.\u001b[0m\n"
     ]
    },
    {
     "name": "stdout",
     "output_type": "stream",
     "text": [
      "0.8683788121990369 0.7947761194029851\n"
     ]
    },
    {
     "name": "stderr",
     "output_type": "stream",
     "text": [
      "\u001b[32m[I 2022-03-27 18:56:59,682]\u001b[0m Trial 299 finished with value: 0.7574626865671642 and parameters: {'random_state': 1, 'learning_rate': 0.0003758784276984843, 'bagging_temperature': 0.0685686945816627, 'max_depth': 6, 'random_strength': 38, 'l2_leaf_reg': 1.0973583883361263e-05, 'min_child_samples': 5, 'max_bin': 132, 'od_type': 'Iter'}. Best is trial 194 with value: 0.8022388059701493.\u001b[0m\n"
     ]
    },
    {
     "name": "stdout",
     "output_type": "stream",
     "text": [
      "0.8715890850722311 0.7574626865671642\n"
     ]
    },
    {
     "name": "stderr",
     "output_type": "stream",
     "text": [
      "\u001b[32m[I 2022-03-27 18:57:00,457]\u001b[0m Trial 300 finished with value: 0.7910447761194029 and parameters: {'random_state': 1, 'learning_rate': 0.0002854247580952298, 'bagging_temperature': 0.07559627229810592, 'max_depth': 7, 'random_strength': 7, 'l2_leaf_reg': 1.2066827639245914e-05, 'min_child_samples': 69, 'max_bin': 149, 'od_type': 'Iter'}. Best is trial 194 with value: 0.8022388059701493.\u001b[0m\n"
     ]
    },
    {
     "name": "stdout",
     "output_type": "stream",
     "text": [
      "0.8731942215088283 0.7910447761194029\n"
     ]
    },
    {
     "name": "stderr",
     "output_type": "stream",
     "text": [
      "\u001b[32m[I 2022-03-27 18:57:01,244]\u001b[0m Trial 301 finished with value: 0.7985074626865671 and parameters: {'random_state': 1, 'learning_rate': 0.000675032963655412, 'bagging_temperature': 0.10596045161839916, 'max_depth': 7, 'random_strength': 2, 'l2_leaf_reg': 6.032124136303246e-06, 'min_child_samples': 55, 'max_bin': 142, 'od_type': 'IncToDec'}. Best is trial 194 with value: 0.8022388059701493.\u001b[0m\n"
     ]
    },
    {
     "name": "stdout",
     "output_type": "stream",
     "text": [
      "0.8764044943820225 0.7985074626865671\n"
     ]
    },
    {
     "name": "stderr",
     "output_type": "stream",
     "text": [
      "\u001b[32m[I 2022-03-27 18:57:01,694]\u001b[0m Trial 302 finished with value: 0.7910447761194029 and parameters: {'random_state': 1, 'learning_rate': 0.0014538920973827365, 'bagging_temperature': 0.0626493281603533, 'max_depth': 7, 'random_strength': 1, 'l2_leaf_reg': 1.3585336026131087e-05, 'min_child_samples': 73, 'max_bin': 147, 'od_type': 'IncToDec'}. Best is trial 194 with value: 0.8022388059701493.\u001b[0m\n"
     ]
    },
    {
     "name": "stdout",
     "output_type": "stream",
     "text": [
      "0.8860353130016051 0.7910447761194029\n"
     ]
    },
    {
     "name": "stderr",
     "output_type": "stream",
     "text": [
      "\u001b[32m[I 2022-03-27 18:57:02,470]\u001b[0m Trial 303 finished with value: 0.7947761194029851 and parameters: {'random_state': 1, 'learning_rate': 0.0006580931847539162, 'bagging_temperature': 0.11226100650576057, 'max_depth': 7, 'random_strength': 4, 'l2_leaf_reg': 5.413233082472906e-06, 'min_child_samples': 57, 'max_bin': 144, 'od_type': 'IncToDec'}. Best is trial 194 with value: 0.8022388059701493.\u001b[0m\n"
     ]
    },
    {
     "name": "stdout",
     "output_type": "stream",
     "text": [
      "0.8731942215088283 0.7947761194029851\n"
     ]
    },
    {
     "name": "stderr",
     "output_type": "stream",
     "text": [
      "\u001b[32m[I 2022-03-27 18:57:03,127]\u001b[0m Trial 304 finished with value: 0.7798507462686567 and parameters: {'random_state': 1, 'learning_rate': 0.00032465210709049406, 'bagging_temperature': 0.1602750429474529, 'max_depth': 6, 'random_strength': 10, 'l2_leaf_reg': 3.149406167122131e-06, 'min_child_samples': 58, 'max_bin': 133, 'od_type': 'IncToDec'}. Best is trial 194 with value: 0.8022388059701493.\u001b[0m\n"
     ]
    },
    {
     "name": "stdout",
     "output_type": "stream",
     "text": [
      "0.8796147672552167 0.7798507462686567\n"
     ]
    },
    {
     "name": "stderr",
     "output_type": "stream",
     "text": [
      "\u001b[32m[I 2022-03-27 18:57:03,931]\u001b[0m Trial 305 finished with value: 0.7947761194029851 and parameters: {'random_state': 1, 'learning_rate': 0.00040663393058952633, 'bagging_temperature': 0.6244631609191801, 'max_depth': 7, 'random_strength': 7, 'l2_leaf_reg': 9.177356268811387e-06, 'min_child_samples': 44, 'max_bin': 114, 'od_type': 'IncToDec'}. Best is trial 194 with value: 0.8022388059701493.\u001b[0m\n"
     ]
    },
    {
     "name": "stdout",
     "output_type": "stream",
     "text": [
      "0.8780096308186196 0.7947761194029851\n"
     ]
    },
    {
     "name": "stderr",
     "output_type": "stream",
     "text": [
      "\u001b[32m[I 2022-03-27 18:57:04,647]\u001b[0m Trial 306 finished with value: 0.7761194029850746 and parameters: {'random_state': 1, 'learning_rate': 0.0002336547370371714, 'bagging_temperature': 0.2006579455046004, 'max_depth': 6, 'random_strength': 10, 'l2_leaf_reg': 2.3349251651859585e-07, 'min_child_samples': 9, 'max_bin': 134, 'od_type': 'IncToDec'}. Best is trial 194 with value: 0.8022388059701493.\u001b[0m\n"
     ]
    },
    {
     "name": "stdout",
     "output_type": "stream",
     "text": [
      "0.8764044943820225 0.7761194029850746\n"
     ]
    },
    {
     "name": "stderr",
     "output_type": "stream",
     "text": [
      "\u001b[32m[I 2022-03-27 18:57:05,151]\u001b[0m Trial 307 finished with value: 0.75 and parameters: {'random_state': 1, 'learning_rate': 0.0005344208037555348, 'bagging_temperature': 0.09029567811573776, 'max_depth': 2, 'random_strength': 7, 'l2_leaf_reg': 6.025153286093895e-06, 'min_child_samples': 72, 'max_bin': 126, 'od_type': 'IncToDec'}. Best is trial 194 with value: 0.8022388059701493.\u001b[0m\n"
     ]
    },
    {
     "name": "stdout",
     "output_type": "stream",
     "text": [
      "0.8105939004815409 0.75\n"
     ]
    },
    {
     "name": "stderr",
     "output_type": "stream",
     "text": [
      "\u001b[32m[I 2022-03-27 18:57:06,027]\u001b[0m Trial 308 finished with value: 0.8022388059701493 and parameters: {'random_state': 1, 'learning_rate': 0.000743605668098258, 'bagging_temperature': 0.10073457709494275, 'max_depth': 6, 'random_strength': 6, 'l2_leaf_reg': 6.669855147003529e-06, 'min_child_samples': 67, 'max_bin': 140, 'od_type': 'IncToDec'}. Best is trial 194 with value: 0.8022388059701493.\u001b[0m\n"
     ]
    },
    {
     "name": "stdout",
     "output_type": "stream",
     "text": [
      "0.8747993579454254 0.8022388059701493\n"
     ]
    },
    {
     "name": "stderr",
     "output_type": "stream",
     "text": [
      "\u001b[32m[I 2022-03-27 18:57:07,059]\u001b[0m Trial 309 finished with value: 0.7947761194029851 and parameters: {'random_state': 1, 'learning_rate': 0.0008552969623535993, 'bagging_temperature': 0.08653011993936333, 'max_depth': 6, 'random_strength': 4, 'l2_leaf_reg': 6.608856703461796e-06, 'min_child_samples': 67, 'max_bin': 109, 'od_type': 'IncToDec'}. Best is trial 194 with value: 0.8022388059701493.\u001b[0m\n"
     ]
    },
    {
     "name": "stdout",
     "output_type": "stream",
     "text": [
      "0.8683788121990369 0.7947761194029851\n"
     ]
    },
    {
     "name": "stderr",
     "output_type": "stream",
     "text": [
      "\u001b[32m[I 2022-03-27 18:57:07,950]\u001b[0m Trial 310 finished with value: 0.7910447761194029 and parameters: {'random_state': 1, 'learning_rate': 0.0006016193042580388, 'bagging_temperature': 0.08722334577753726, 'max_depth': 7, 'random_strength': 2, 'l2_leaf_reg': 6.6976463910608876e-06, 'min_child_samples': 71, 'max_bin': 137, 'od_type': 'IncToDec'}. Best is trial 194 with value: 0.8022388059701493.\u001b[0m\n"
     ]
    },
    {
     "name": "stdout",
     "output_type": "stream",
     "text": [
      "0.8747993579454254 0.7910447761194029\n"
     ]
    },
    {
     "name": "stderr",
     "output_type": "stream",
     "text": [
      "\u001b[32m[I 2022-03-27 18:57:08,818]\u001b[0m Trial 311 finished with value: 0.7910447761194029 and parameters: {'random_state': 1, 'learning_rate': 0.0007372330265978838, 'bagging_temperature': 0.10148536115554126, 'max_depth': 7, 'random_strength': 2, 'l2_leaf_reg': 4.71342980353675e-06, 'min_child_samples': 54, 'max_bin': 150, 'od_type': 'IncToDec'}. Best is trial 194 with value: 0.8022388059701493.\u001b[0m\n"
     ]
    },
    {
     "name": "stdout",
     "output_type": "stream",
     "text": [
      "0.8764044943820225 0.7910447761194029\n"
     ]
    },
    {
     "name": "stderr",
     "output_type": "stream",
     "text": [
      "\u001b[32m[I 2022-03-27 18:57:09,432]\u001b[0m Trial 312 finished with value: 0.7873134328358209 and parameters: {'random_state': 1, 'learning_rate': 0.0007530719620251692, 'bagging_temperature': 0.962207142578093, 'max_depth': 5, 'random_strength': 6, 'l2_leaf_reg': 6.852640181746188e-06, 'min_child_samples': 67, 'max_bin': 140, 'od_type': 'IncToDec'}. Best is trial 194 with value: 0.8022388059701493.\u001b[0m\n"
     ]
    },
    {
     "name": "stdout",
     "output_type": "stream",
     "text": [
      "0.8667736757624398 0.7873134328358209\n"
     ]
    },
    {
     "name": "stderr",
     "output_type": "stream",
     "text": [
      "\u001b[32m[I 2022-03-27 18:57:10,236]\u001b[0m Trial 313 finished with value: 0.7947761194029851 and parameters: {'random_state': 1, 'learning_rate': 0.00021639976455655802, 'bagging_temperature': 0.1360330995138683, 'max_depth': 7, 'random_strength': 8, 'l2_leaf_reg': 6.318964239936584e-06, 'min_child_samples': 52, 'max_bin': 137, 'od_type': 'IncToDec'}. Best is trial 194 with value: 0.8022388059701493.\u001b[0m\n"
     ]
    },
    {
     "name": "stdout",
     "output_type": "stream",
     "text": [
      "0.8780096308186196 0.7947761194029851\n"
     ]
    },
    {
     "name": "stderr",
     "output_type": "stream",
     "text": [
      "\u001b[32m[I 2022-03-27 18:57:11,050]\u001b[0m Trial 314 finished with value: 0.7947761194029851 and parameters: {'random_state': 1, 'learning_rate': 0.0006060326860924115, 'bagging_temperature': 0.05029536766565925, 'max_depth': 7, 'random_strength': 4, 'l2_leaf_reg': 1.1784476285230847e-05, 'min_child_samples': 62, 'max_bin': 140, 'od_type': 'IncToDec'}. Best is trial 194 with value: 0.8022388059701493.\u001b[0m\n"
     ]
    },
    {
     "name": "stdout",
     "output_type": "stream",
     "text": [
      "0.8747993579454254 0.7947761194029851\n"
     ]
    },
    {
     "name": "stderr",
     "output_type": "stream",
     "text": [
      "\u001b[32m[I 2022-03-27 18:57:11,692]\u001b[0m Trial 315 finished with value: 0.7798507462686567 and parameters: {'random_state': 1, 'learning_rate': 0.0001411450200807656, 'bagging_temperature': 0.15871604339291215, 'max_depth': 5, 'random_strength': 9, 'l2_leaf_reg': 6.155510865930368e-06, 'min_child_samples': 68, 'max_bin': 132, 'od_type': 'IncToDec'}. Best is trial 194 with value: 0.8022388059701493.\u001b[0m\n"
     ]
    },
    {
     "name": "stdout",
     "output_type": "stream",
     "text": [
      "0.8780096308186196 0.7798507462686567\n"
     ]
    },
    {
     "name": "stderr",
     "output_type": "stream",
     "text": [
      "\u001b[32m[I 2022-03-27 18:57:12,363]\u001b[0m Trial 316 finished with value: 0.7947761194029851 and parameters: {'random_state': 1, 'learning_rate': 0.0004896427897740484, 'bagging_temperature': 0.03753102637359206, 'max_depth': 6, 'random_strength': 5, 'l2_leaf_reg': 1.2930622612562902e-05, 'min_child_samples': 70, 'max_bin': 142, 'od_type': 'IncToDec'}. Best is trial 194 with value: 0.8022388059701493.\u001b[0m\n"
     ]
    },
    {
     "name": "stdout",
     "output_type": "stream",
     "text": [
      "0.8667736757624398 0.7947761194029851\n"
     ]
    },
    {
     "name": "stderr",
     "output_type": "stream",
     "text": [
      "\u001b[32m[I 2022-03-27 18:57:13,056]\u001b[0m Trial 317 finished with value: 0.7761194029850746 and parameters: {'random_state': 1, 'learning_rate': 0.0005371750127665526, 'bagging_temperature': 0.10782280597312983, 'max_depth': 6, 'random_strength': 11, 'l2_leaf_reg': 1.5523510607332674e-05, 'min_child_samples': 42, 'max_bin': 137, 'od_type': 'Iter'}. Best is trial 194 with value: 0.8022388059701493.\u001b[0m\n"
     ]
    },
    {
     "name": "stdout",
     "output_type": "stream",
     "text": [
      "0.8812199036918138 0.7761194029850746\n"
     ]
    },
    {
     "name": "stderr",
     "output_type": "stream",
     "text": [
      "\u001b[32m[I 2022-03-27 18:57:13,750]\u001b[0m Trial 318 finished with value: 0.7947761194029851 and parameters: {'random_state': 1, 'learning_rate': 0.000650810731365048, 'bagging_temperature': 0.4686395762420796, 'max_depth': 6, 'random_strength': 6, 'l2_leaf_reg': 5.028620496454723e-06, 'min_child_samples': 66, 'max_bin': 143, 'od_type': 'IncToDec'}. Best is trial 194 with value: 0.8022388059701493.\u001b[0m\n"
     ]
    },
    {
     "name": "stdout",
     "output_type": "stream",
     "text": [
      "0.8683788121990369 0.7947761194029851\n"
     ]
    },
    {
     "name": "stderr",
     "output_type": "stream",
     "text": [
      "\u001b[32m[I 2022-03-27 18:57:14,374]\u001b[0m Trial 319 finished with value: 0.7686567164179104 and parameters: {'random_state': 1, 'learning_rate': 0.0007956464900446796, 'bagging_temperature': 0.739522457702452, 'max_depth': 6, 'random_strength': 0, 'l2_leaf_reg': 3.850282793788536e-06, 'min_child_samples': 40, 'max_bin': 139, 'od_type': 'Iter'}. Best is trial 194 with value: 0.8022388059701493.\u001b[0m\n"
     ]
    },
    {
     "name": "stdout",
     "output_type": "stream",
     "text": [
      "0.8972712680577849 0.7686567164179104\n"
     ]
    },
    {
     "name": "stderr",
     "output_type": "stream",
     "text": [
      "\u001b[32m[I 2022-03-27 18:57:15,229]\u001b[0m Trial 320 finished with value: 0.7873134328358209 and parameters: {'random_state': 1, 'learning_rate': 0.000591447673708936, 'bagging_temperature': 0.06615828084797058, 'max_depth': 7, 'random_strength': 3, 'l2_leaf_reg': 8.538946781142017e-06, 'min_child_samples': 74, 'max_bin': 135, 'od_type': 'IncToDec'}. Best is trial 194 with value: 0.8022388059701493.\u001b[0m\n"
     ]
    },
    {
     "name": "stdout",
     "output_type": "stream",
     "text": [
      "0.8731942215088283 0.7873134328358209\n"
     ]
    },
    {
     "name": "stderr",
     "output_type": "stream",
     "text": [
      "\u001b[32m[I 2022-03-27 18:57:16,037]\u001b[0m Trial 321 finished with value: 0.7910447761194029 and parameters: {'random_state': 1, 'learning_rate': 0.0003860044804417208, 'bagging_temperature': 0.06823230024165611, 'max_depth': 7, 'random_strength': 6, 'l2_leaf_reg': 1.2740271689142667e-05, 'min_child_samples': 59, 'max_bin': 135, 'od_type': 'Iter'}. Best is trial 194 with value: 0.8022388059701493.\u001b[0m\n"
     ]
    },
    {
     "name": "stdout",
     "output_type": "stream",
     "text": [
      "0.8764044943820225 0.7910447761194029\n"
     ]
    },
    {
     "name": "stderr",
     "output_type": "stream",
     "text": [
      "\u001b[32m[I 2022-03-27 18:57:16,770]\u001b[0m Trial 322 finished with value: 0.7835820895522388 and parameters: {'random_state': 1, 'learning_rate': 0.0008895741560177611, 'bagging_temperature': 1.8436659316094324, 'max_depth': 6, 'random_strength': 26, 'l2_leaf_reg': 1.3371910697964661e-05, 'min_child_samples': 72, 'max_bin': 147, 'od_type': 'Iter'}. Best is trial 194 with value: 0.8022388059701493.\u001b[0m\n"
     ]
    },
    {
     "name": "stdout",
     "output_type": "stream",
     "text": [
      "0.8764044943820225 0.7835820895522388\n"
     ]
    },
    {
     "name": "stderr",
     "output_type": "stream",
     "text": [
      "\u001b[32m[I 2022-03-27 18:57:17,657]\u001b[0m Trial 323 finished with value: 0.7798507462686567 and parameters: {'random_state': 1, 'learning_rate': 0.0005267541615383864, 'bagging_temperature': 0.708698723229702, 'max_depth': 7, 'random_strength': 33, 'l2_leaf_reg': 1.3103769762317608e-05, 'min_child_samples': 69, 'max_bin': 140, 'od_type': 'Iter'}. Best is trial 194 with value: 0.8022388059701493.\u001b[0m\n"
     ]
    },
    {
     "name": "stdout",
     "output_type": "stream",
     "text": [
      "0.8828250401284109 0.7798507462686567\n"
     ]
    },
    {
     "name": "stderr",
     "output_type": "stream",
     "text": [
      "\u001b[32m[I 2022-03-27 18:57:18,481]\u001b[0m Trial 324 finished with value: 0.7761194029850746 and parameters: {'random_state': 1, 'learning_rate': 0.0006525554760250697, 'bagging_temperature': 0.1224631324625234, 'max_depth': 7, 'random_strength': 8, 'l2_leaf_reg': 7.183652969733937e-06, 'min_child_samples': 20, 'max_bin': 142, 'od_type': 'Iter'}. Best is trial 194 with value: 0.8022388059701493.\u001b[0m\n"
     ]
    },
    {
     "name": "stdout",
     "output_type": "stream",
     "text": [
      "0.8908507223113965 0.7761194029850746\n"
     ]
    },
    {
     "name": "stderr",
     "output_type": "stream",
     "text": [
      "\u001b[32m[I 2022-03-27 18:57:19,150]\u001b[0m Trial 325 finished with value: 0.7947761194029851 and parameters: {'random_state': 1, 'learning_rate': 0.00043083764217558294, 'bagging_temperature': 1.1103109438045737, 'max_depth': 6, 'random_strength': 5, 'l2_leaf_reg': 9.788882124535156e-06, 'min_child_samples': 70, 'max_bin': 145, 'od_type': 'Iter'}. Best is trial 194 with value: 0.8022388059701493.\u001b[0m\n"
     ]
    },
    {
     "name": "stdout",
     "output_type": "stream",
     "text": [
      "0.8635634028892456 0.7947761194029851\n"
     ]
    },
    {
     "name": "stderr",
     "output_type": "stream",
     "text": [
      "\u001b[32m[I 2022-03-27 18:57:19,823]\u001b[0m Trial 326 finished with value: 0.7723880597014925 and parameters: {'random_state': 1, 'learning_rate': 0.0009209287509815746, 'bagging_temperature': 0.6090771808987568, 'max_depth': 6, 'random_strength': 13, 'l2_leaf_reg': 8.936797443154672e-06, 'min_child_samples': 86, 'max_bin': 107, 'od_type': 'IncToDec'}. Best is trial 194 with value: 0.8022388059701493.\u001b[0m\n"
     ]
    },
    {
     "name": "stdout",
     "output_type": "stream",
     "text": [
      "0.8764044943820225 0.7723880597014925\n"
     ]
    },
    {
     "name": "stderr",
     "output_type": "stream",
     "text": [
      "\u001b[32m[I 2022-03-27 18:57:20,714]\u001b[0m Trial 327 finished with value: 0.7910447761194029 and parameters: {'random_state': 1, 'learning_rate': 0.0002869833816384535, 'bagging_temperature': 0.16027695590618923, 'max_depth': 7, 'random_strength': 5, 'l2_leaf_reg': 9.872422076567957e-06, 'min_child_samples': 49, 'max_bin': 130, 'od_type': 'Iter'}. Best is trial 194 with value: 0.8022388059701493.\u001b[0m\n"
     ]
    },
    {
     "name": "stdout",
     "output_type": "stream",
     "text": [
      "0.8683788121990369 0.7910447761194029\n"
     ]
    },
    {
     "name": "stderr",
     "output_type": "stream",
     "text": [
      "\u001b[32m[I 2022-03-27 18:57:21,542]\u001b[0m Trial 328 finished with value: 0.7723880597014925 and parameters: {'random_state': 1, 'learning_rate': 0.0005153334381000865, 'bagging_temperature': 0.10301356366850704, 'max_depth': 7, 'random_strength': 9, 'l2_leaf_reg': 7.79049803434249e-06, 'min_child_samples': 56, 'max_bin': 126, 'od_type': 'Iter'}. Best is trial 194 with value: 0.8022388059701493.\u001b[0m\n"
     ]
    },
    {
     "name": "stdout",
     "output_type": "stream",
     "text": [
      "0.884430176565008 0.7723880597014925\n"
     ]
    },
    {
     "name": "stderr",
     "output_type": "stream",
     "text": [
      "\u001b[32m[I 2022-03-27 18:57:22,333]\u001b[0m Trial 329 finished with value: 0.7910447761194029 and parameters: {'random_state': 1, 'learning_rate': 0.00041809039433803193, 'bagging_temperature': 0.054833643312217156, 'max_depth': 7, 'random_strength': 3, 'l2_leaf_reg': 1.1437742256790976e-05, 'min_child_samples': 64, 'max_bin': 114, 'od_type': 'IncToDec'}. Best is trial 194 with value: 0.8022388059701493.\u001b[0m\n"
     ]
    },
    {
     "name": "stdout",
     "output_type": "stream",
     "text": [
      "0.8667736757624398 0.7910447761194029\n"
     ]
    },
    {
     "name": "stderr",
     "output_type": "stream",
     "text": [
      "\u001b[32m[I 2022-03-27 18:57:23,120]\u001b[0m Trial 330 finished with value: 0.7910447761194029 and parameters: {'random_state': 1, 'learning_rate': 0.000713511759457693, 'bagging_temperature': 0.11129851842084981, 'max_depth': 7, 'random_strength': 1, 'l2_leaf_reg': 1.2340434033906833e-05, 'min_child_samples': 77, 'max_bin': 150, 'od_type': 'Iter'}. Best is trial 194 with value: 0.8022388059701493.\u001b[0m\n"
     ]
    },
    {
     "name": "stdout",
     "output_type": "stream",
     "text": [
      "0.8828250401284109 0.7910447761194029\n"
     ]
    },
    {
     "name": "stderr",
     "output_type": "stream",
     "text": [
      "\u001b[32m[I 2022-03-27 18:57:23,681]\u001b[0m Trial 331 finished with value: 0.7947761194029851 and parameters: {'random_state': 1, 'learning_rate': 0.0011026308460715313, 'bagging_temperature': 0.19702151190264683, 'max_depth': 4, 'random_strength': 7, 'l2_leaf_reg': 1.5936908994386602e-05, 'min_child_samples': 72, 'max_bin': 129, 'od_type': 'Iter'}. Best is trial 194 with value: 0.8022388059701493.\u001b[0m\n"
     ]
    },
    {
     "name": "stdout",
     "output_type": "stream",
     "text": [
      "0.8667736757624398 0.7947761194029851\n"
     ]
    },
    {
     "name": "stderr",
     "output_type": "stream",
     "text": [
      "\u001b[32m[I 2022-03-27 18:57:24,506]\u001b[0m Trial 332 finished with value: 0.7873134328358209 and parameters: {'random_state': 1, 'learning_rate': 0.0004907059983643073, 'bagging_temperature': 0.137792304875731, 'max_depth': 7, 'random_strength': 3, 'l2_leaf_reg': 1.2211918953555665e-05, 'min_child_samples': 55, 'max_bin': 154, 'od_type': 'Iter'}. Best is trial 194 with value: 0.8022388059701493.\u001b[0m\n"
     ]
    },
    {
     "name": "stdout",
     "output_type": "stream",
     "text": [
      "0.869983948635634 0.7873134328358209\n"
     ]
    },
    {
     "name": "stderr",
     "output_type": "stream",
     "text": [
      "\u001b[32m[I 2022-03-27 18:57:25,151]\u001b[0m Trial 333 finished with value: 0.7686567164179104 and parameters: {'random_state': 1, 'learning_rate': 0.0008535700489997265, 'bagging_temperature': 0.13091070860271453, 'max_depth': 7, 'random_strength': 0, 'l2_leaf_reg': 1.3848331948791768e-05, 'min_child_samples': 53, 'max_bin': 147, 'od_type': 'Iter'}. Best is trial 194 with value: 0.8022388059701493.\u001b[0m\n"
     ]
    },
    {
     "name": "stdout",
     "output_type": "stream",
     "text": [
      "0.9101123595505618 0.7686567164179104\n"
     ]
    },
    {
     "name": "stderr",
     "output_type": "stream",
     "text": [
      "\u001b[32m[I 2022-03-27 18:57:25,838]\u001b[0m Trial 334 finished with value: 0.7947761194029851 and parameters: {'random_state': 1, 'learning_rate': 0.0005804051332504498, 'bagging_temperature': 0.04583491897643015, 'max_depth': 6, 'random_strength': 4, 'l2_leaf_reg': 1.4480709675719192e-06, 'min_child_samples': 65, 'max_bin': 138, 'od_type': 'IncToDec'}. Best is trial 194 with value: 0.8022388059701493.\u001b[0m\n"
     ]
    },
    {
     "name": "stdout",
     "output_type": "stream",
     "text": [
      "0.8651685393258427 0.7947761194029851\n"
     ]
    },
    {
     "name": "stderr",
     "output_type": "stream",
     "text": [
      "\u001b[32m[I 2022-03-27 18:57:26,506]\u001b[0m Trial 335 finished with value: 0.7798507462686567 and parameters: {'random_state': 1, 'learning_rate': 0.0007694955401791256, 'bagging_temperature': 0.8280141596488054, 'max_depth': 6, 'random_strength': 11, 'l2_leaf_reg': 1.9711559770035607e-05, 'min_child_samples': 100, 'max_bin': 134, 'od_type': 'Iter'}. Best is trial 194 with value: 0.8022388059701493.\u001b[0m\n"
     ]
    },
    {
     "name": "stdout",
     "output_type": "stream",
     "text": [
      "0.8796147672552167 0.7798507462686567\n"
     ]
    },
    {
     "name": "stderr",
     "output_type": "stream",
     "text": [
      "\u001b[32m[I 2022-03-27 18:57:27,190]\u001b[0m Trial 336 finished with value: 0.7947761194029851 and parameters: {'random_state': 1, 'learning_rate': 0.0005873049564556886, 'bagging_temperature': 0.405669484857544, 'max_depth': 6, 'random_strength': 5, 'l2_leaf_reg': 1.0663623866815915e-05, 'min_child_samples': 67, 'max_bin': 139, 'od_type': 'Iter'}. Best is trial 194 with value: 0.8022388059701493.\u001b[0m\n"
     ]
    },
    {
     "name": "stdout",
     "output_type": "stream",
     "text": [
      "0.8683788121990369 0.7947761194029851\n"
     ]
    },
    {
     "name": "stderr",
     "output_type": "stream",
     "text": [
      "\u001b[32m[I 2022-03-27 18:57:27,783]\u001b[0m Trial 337 finished with value: 0.7910447761194029 and parameters: {'random_state': 1, 'learning_rate': 0.0007125916806777124, 'bagging_temperature': 0.08095852533437704, 'max_depth': 5, 'random_strength': 2, 'l2_leaf_reg': 1.303767133239368e-05, 'min_child_samples': 69, 'max_bin': 144, 'od_type': 'Iter'}. Best is trial 194 with value: 0.8022388059701493.\u001b[0m\n"
     ]
    },
    {
     "name": "stdout",
     "output_type": "stream",
     "text": [
      "0.85553772070626 0.7910447761194029\n"
     ]
    },
    {
     "name": "stderr",
     "output_type": "stream",
     "text": [
      "\u001b[32m[I 2022-03-27 18:57:28,495]\u001b[0m Trial 338 finished with value: 0.7910447761194029 and parameters: {'random_state': 1, 'learning_rate': 0.0009235938733565733, 'bagging_temperature': 61.70375986818304, 'max_depth': 7, 'random_strength': 1, 'l2_leaf_reg': 1.3938600812959877e-05, 'min_child_samples': 56, 'max_bin': 147, 'od_type': 'Iter'}. Best is trial 194 with value: 0.8022388059701493.\u001b[0m\n"
     ]
    },
    {
     "name": "stdout",
     "output_type": "stream",
     "text": [
      "0.8892455858747994 0.7910447761194029\n"
     ]
    },
    {
     "name": "stderr",
     "output_type": "stream",
     "text": [
      "\u001b[32m[I 2022-03-27 18:57:29,262]\u001b[0m Trial 339 finished with value: 0.7985074626865671 and parameters: {'random_state': 1, 'learning_rate': 0.00018716449011886812, 'bagging_temperature': 0.07776690313207191, 'max_depth': 7, 'random_strength': 8, 'l2_leaf_reg': 6.171490811175986e-06, 'min_child_samples': 51, 'max_bin': 128, 'od_type': 'IncToDec'}. Best is trial 194 with value: 0.8022388059701493.\u001b[0m\n"
     ]
    },
    {
     "name": "stdout",
     "output_type": "stream",
     "text": [
      "0.8731942215088283 0.7985074626865671\n"
     ]
    },
    {
     "name": "stderr",
     "output_type": "stream",
     "text": [
      "\u001b[32m[I 2022-03-27 18:57:30,052]\u001b[0m Trial 340 finished with value: 0.7835820895522388 and parameters: {'random_state': 1, 'learning_rate': 0.00017400427600974938, 'bagging_temperature': 0.08103486652738937, 'max_depth': 7, 'random_strength': 9, 'l2_leaf_reg': 7.240745050162105e-06, 'min_child_samples': 16, 'max_bin': 102, 'od_type': 'IncToDec'}. Best is trial 194 with value: 0.8022388059701493.\u001b[0m\n"
     ]
    },
    {
     "name": "stdout",
     "output_type": "stream",
     "text": [
      "0.8796147672552167 0.7835820895522388\n"
     ]
    },
    {
     "name": "stderr",
     "output_type": "stream",
     "text": [
      "\u001b[32m[I 2022-03-27 18:57:30,723]\u001b[0m Trial 341 finished with value: 0.7947761194029851 and parameters: {'random_state': 1, 'learning_rate': 0.00014480721213527947, 'bagging_temperature': 0.09091411374402407, 'max_depth': 6, 'random_strength': 6, 'l2_leaf_reg': 6.031565380779489e-06, 'min_child_samples': 60, 'max_bin': 128, 'od_type': 'IncToDec'}. Best is trial 194 with value: 0.8022388059701493.\u001b[0m\n"
     ]
    },
    {
     "name": "stdout",
     "output_type": "stream",
     "text": [
      "0.8587479935794543 0.7947761194029851\n"
     ]
    },
    {
     "name": "stderr",
     "output_type": "stream",
     "text": [
      "\u001b[32m[I 2022-03-27 18:57:31,523]\u001b[0m Trial 342 finished with value: 0.7910447761194029 and parameters: {'random_state': 1, 'learning_rate': 0.00011285503061220699, 'bagging_temperature': 0.07864149160374795, 'max_depth': 7, 'random_strength': 7, 'l2_leaf_reg': 6.145589308081408e-06, 'min_child_samples': 61, 'max_bin': 151, 'od_type': 'IncToDec'}. Best is trial 194 with value: 0.8022388059701493.\u001b[0m\n"
     ]
    },
    {
     "name": "stdout",
     "output_type": "stream",
     "text": [
      "0.8715890850722311 0.7910447761194029\n"
     ]
    },
    {
     "name": "stderr",
     "output_type": "stream",
     "text": [
      "\u001b[32m[I 2022-03-27 18:57:32,297]\u001b[0m Trial 343 finished with value: 0.7835820895522388 and parameters: {'random_state': 1, 'learning_rate': 0.00018134210955339126, 'bagging_temperature': 0.05820166713118161, 'max_depth': 7, 'random_strength': 3, 'l2_leaf_reg': 1.4500312484743354e-05, 'min_child_samples': 49, 'max_bin': 135, 'od_type': 'Iter'}. Best is trial 194 with value: 0.8022388059701493.\u001b[0m\n"
     ]
    },
    {
     "name": "stdout",
     "output_type": "stream",
     "text": [
      "0.8587479935794543 0.7835820895522388\n"
     ]
    },
    {
     "name": "stderr",
     "output_type": "stream",
     "text": [
      "\u001b[32m[I 2022-03-27 18:57:33,061]\u001b[0m Trial 344 finished with value: 0.7873134328358209 and parameters: {'random_state': 1, 'learning_rate': 0.0002836228268448464, 'bagging_temperature': 23.174879833229344, 'max_depth': 7, 'random_strength': 48, 'l2_leaf_reg': 1.1408329599021012e-05, 'min_child_samples': 51, 'max_bin': 137, 'od_type': 'Iter'}. Best is trial 194 with value: 0.8022388059701493.\u001b[0m\n"
     ]
    },
    {
     "name": "stdout",
     "output_type": "stream",
     "text": [
      "0.8796147672552167 0.7873134328358209\n"
     ]
    },
    {
     "name": "stderr",
     "output_type": "stream",
     "text": [
      "\u001b[32m[I 2022-03-27 18:57:33,732]\u001b[0m Trial 345 finished with value: 0.7761194029850746 and parameters: {'random_state': 1, 'learning_rate': 0.0003361747152541176, 'bagging_temperature': 0.6590595062875922, 'max_depth': 6, 'random_strength': 11, 'l2_leaf_reg': 1.5848148470464382e-05, 'min_child_samples': 58, 'max_bin': 130, 'od_type': 'Iter'}. Best is trial 194 with value: 0.8022388059701493.\u001b[0m\n"
     ]
    },
    {
     "name": "stdout",
     "output_type": "stream",
     "text": [
      "0.8796147672552167 0.7761194029850746\n"
     ]
    },
    {
     "name": "stderr",
     "output_type": "stream",
     "text": [
      "\u001b[32m[I 2022-03-27 18:57:34,350]\u001b[0m Trial 346 finished with value: 0.7873134328358209 and parameters: {'random_state': 1, 'learning_rate': 0.0004219664161516501, 'bagging_temperature': 0.9073349350718848, 'max_depth': 5, 'random_strength': 8, 'l2_leaf_reg': 5.704766739587449e-06, 'min_child_samples': 44, 'max_bin': 124, 'od_type': 'IncToDec'}. Best is trial 194 with value: 0.8022388059701493.\u001b[0m\n"
     ]
    },
    {
     "name": "stdout",
     "output_type": "stream",
     "text": [
      "0.8683788121990369 0.7873134328358209\n"
     ]
    },
    {
     "name": "stderr",
     "output_type": "stream",
     "text": [
      "\u001b[32m[I 2022-03-27 18:57:35,124]\u001b[0m Trial 347 finished with value: 0.7947761194029851 and parameters: {'random_state': 1, 'learning_rate': 0.0007140104153631422, 'bagging_temperature': 0.07677581593507608, 'max_depth': 7, 'random_strength': 4, 'l2_leaf_reg': 1.1761263412020304e-05, 'min_child_samples': 63, 'max_bin': 142, 'od_type': 'Iter'}. Best is trial 194 with value: 0.8022388059701493.\u001b[0m\n"
     ]
    },
    {
     "name": "stdout",
     "output_type": "stream",
     "text": [
      "0.8780096308186196 0.7947761194029851\n"
     ]
    },
    {
     "name": "stderr",
     "output_type": "stream",
     "text": [
      "\u001b[32m[I 2022-03-27 18:57:35,883]\u001b[0m Trial 348 finished with value: 0.7723880597014925 and parameters: {'random_state': 1, 'learning_rate': 0.0006364101350978631, 'bagging_temperature': 0.10335675446130015, 'max_depth': 7, 'random_strength': 13, 'l2_leaf_reg': 1.1776389829257637e-05, 'min_child_samples': 60, 'max_bin': 147, 'od_type': 'Iter'}. Best is trial 194 with value: 0.8022388059701493.\u001b[0m\n"
     ]
    },
    {
     "name": "stdout",
     "output_type": "stream",
     "text": [
      "0.8860353130016051 0.7723880597014925\n"
     ]
    },
    {
     "name": "stderr",
     "output_type": "stream",
     "text": [
      "\u001b[32m[I 2022-03-27 18:57:36,547]\u001b[0m Trial 349 finished with value: 0.7910447761194029 and parameters: {'random_state': 1, 'learning_rate': 0.00024258353707172286, 'bagging_temperature': 0.3447359249708002, 'max_depth': 6, 'random_strength': 6, 'l2_leaf_reg': 1.0396923383694084e-05, 'min_child_samples': 57, 'max_bin': 132, 'od_type': 'Iter'}. Best is trial 194 with value: 0.8022388059701493.\u001b[0m\n"
     ]
    },
    {
     "name": "stdout",
     "output_type": "stream",
     "text": [
      "0.8667736757624398 0.7910447761194029\n"
     ]
    },
    {
     "name": "stderr",
     "output_type": "stream",
     "text": [
      "\u001b[32m[I 2022-03-27 18:57:37,336]\u001b[0m Trial 350 finished with value: 0.7947761194029851 and parameters: {'random_state': 1, 'learning_rate': 0.0004860899721267472, 'bagging_temperature': 0.17777554343347865, 'max_depth': 7, 'random_strength': 2, 'l2_leaf_reg': 4.1871442292988285e-06, 'min_child_samples': 53, 'max_bin': 162, 'od_type': 'Iter'}. Best is trial 194 with value: 0.8022388059701493.\u001b[0m\n"
     ]
    },
    {
     "name": "stdout",
     "output_type": "stream",
     "text": [
      "0.8731942215088283 0.7947761194029851\n"
     ]
    },
    {
     "name": "stderr",
     "output_type": "stream",
     "text": [
      "\u001b[32m[I 2022-03-27 18:57:38,145]\u001b[0m Trial 351 finished with value: 0.7611940298507462 and parameters: {'random_state': 1, 'learning_rate': 0.000566997880926313, 'bagging_temperature': 0.08981625425568576, 'max_depth': 8, 'random_strength': 0, 'l2_leaf_reg': 8.334605085723404e-06, 'min_child_samples': 55, 'max_bin': 163, 'od_type': 'Iter'}. Best is trial 194 with value: 0.8022388059701493.\u001b[0m\n"
     ]
    },
    {
     "name": "stdout",
     "output_type": "stream",
     "text": [
      "0.913322632423756 0.7611940298507462\n"
     ]
    },
    {
     "name": "stderr",
     "output_type": "stream",
     "text": [
      "\u001b[32m[I 2022-03-27 18:57:38,798]\u001b[0m Trial 352 finished with value: 0.7798507462686567 and parameters: {'random_state': 1, 'learning_rate': 0.00026277778485650217, 'bagging_temperature': 0.06295030738549579, 'max_depth': 6, 'random_strength': 9, 'l2_leaf_reg': 1.2329558162340715e-05, 'min_child_samples': 51, 'max_bin': 137, 'od_type': 'Iter'}. Best is trial 194 with value: 0.8022388059701493.\u001b[0m\n"
     ]
    },
    {
     "name": "stdout",
     "output_type": "stream",
     "text": [
      "0.8715890850722311 0.7798507462686567\n"
     ]
    },
    {
     "name": "stderr",
     "output_type": "stream",
     "text": [
      "\u001b[32m[I 2022-03-27 18:57:39,479]\u001b[0m Trial 353 finished with value: 0.7910447761194029 and parameters: {'random_state': 1, 'learning_rate': 0.0008597304110802398, 'bagging_temperature': 0.11560760404651448, 'max_depth': 6, 'random_strength': 4, 'l2_leaf_reg': 6.748805509541878e-06, 'min_child_samples': 67, 'max_bin': 110, 'od_type': 'IncToDec'}. Best is trial 194 with value: 0.8022388059701493.\u001b[0m\n"
     ]
    },
    {
     "name": "stdout",
     "output_type": "stream",
     "text": [
      "0.8683788121990369 0.7910447761194029\n"
     ]
    },
    {
     "name": "stderr",
     "output_type": "stream",
     "text": [
      "\u001b[32m[I 2022-03-27 18:57:40,271]\u001b[0m Trial 354 finished with value: 0.7985074626865671 and parameters: {'random_state': 1, 'learning_rate': 0.0003719202149175763, 'bagging_temperature': 1.1730041000678457, 'max_depth': 7, 'random_strength': 7, 'l2_leaf_reg': 1.014696886681705e-05, 'min_child_samples': 71, 'max_bin': 144, 'od_type': 'Iter'}. Best is trial 194 with value: 0.8022388059701493.\u001b[0m\n"
     ]
    },
    {
     "name": "stdout",
     "output_type": "stream",
     "text": [
      "0.8764044943820225 0.7985074626865671\n"
     ]
    },
    {
     "name": "stderr",
     "output_type": "stream",
     "text": [
      "\u001b[32m[I 2022-03-27 18:57:41,068]\u001b[0m Trial 355 finished with value: 0.7686567164179104 and parameters: {'random_state': 1, 'learning_rate': 0.0003536468220341211, 'bagging_temperature': 1.1432669961340922, 'max_depth': 7, 'random_strength': 11, 'l2_leaf_reg': 1.0972194874010095e-05, 'min_child_samples': 75, 'max_bin': 140, 'od_type': 'Iter'}. Best is trial 194 with value: 0.8022388059701493.\u001b[0m\n"
     ]
    },
    {
     "name": "stdout",
     "output_type": "stream",
     "text": [
      "0.8812199036918138 0.7686567164179104\n"
     ]
    },
    {
     "name": "stderr",
     "output_type": "stream",
     "text": [
      "\u001b[32m[I 2022-03-27 18:57:41,746]\u001b[0m Trial 356 finished with value: 0.7798507462686567 and parameters: {'random_state': 1, 'learning_rate': 0.0005082993052651871, 'bagging_temperature': 1.352799666020798, 'max_depth': 6, 'random_strength': 8, 'l2_leaf_reg': 9.57147875375005e-06, 'min_child_samples': 73, 'max_bin': 142, 'od_type': 'Iter'}. Best is trial 194 with value: 0.8022388059701493.\u001b[0m\n"
     ]
    },
    {
     "name": "stdout",
     "output_type": "stream",
     "text": [
      "0.8828250401284109 0.7798507462686567\n"
     ]
    },
    {
     "name": "stderr",
     "output_type": "stream",
     "text": [
      "\u001b[32m[I 2022-03-27 18:57:42,412]\u001b[0m Trial 357 finished with value: 0.7947761194029851 and parameters: {'random_state': 1, 'learning_rate': 0.0004012857090906716, 'bagging_temperature': 1.0097477844715532, 'max_depth': 6, 'random_strength': 6, 'l2_leaf_reg': 1.033464540197723e-05, 'min_child_samples': 12, 'max_bin': 144, 'od_type': 'Iter'}. Best is trial 194 with value: 0.8022388059701493.\u001b[0m\n"
     ]
    },
    {
     "name": "stdout",
     "output_type": "stream",
     "text": [
      "0.869983948635634 0.7947761194029851\n"
     ]
    },
    {
     "name": "stderr",
     "output_type": "stream",
     "text": [
      "\u001b[32m[I 2022-03-27 18:57:43,082]\u001b[0m Trial 358 finished with value: 0.7873134328358209 and parameters: {'random_state': 1, 'learning_rate': 0.0006697168857108414, 'bagging_temperature': 0.5326739545742182, 'max_depth': 6, 'random_strength': 7, 'l2_leaf_reg': 1.0886274191035533e-05, 'min_child_samples': 65, 'max_bin': 139, 'od_type': 'Iter'}. Best is trial 194 with value: 0.8022388059701493.\u001b[0m\n"
     ]
    },
    {
     "name": "stdout",
     "output_type": "stream",
     "text": [
      "0.8764044943820225 0.7873134328358209\n"
     ]
    },
    {
     "name": "stderr",
     "output_type": "stream",
     "text": [
      "\u001b[32m[I 2022-03-27 18:57:43,310]\u001b[0m Trial 359 finished with value: 0.7835820895522388 and parameters: {'random_state': 1, 'learning_rate': 0.00662997219777661, 'bagging_temperature': 1.2528188988455013, 'max_depth': 7, 'random_strength': 9, 'l2_leaf_reg': 1.2223107292773004e-05, 'min_child_samples': 71, 'max_bin': 134, 'od_type': 'Iter'}. Best is trial 194 with value: 0.8022388059701493.\u001b[0m\n"
     ]
    },
    {
     "name": "stdout",
     "output_type": "stream",
     "text": [
      "0.8876404494382022 0.7835820895522388\n"
     ]
    },
    {
     "name": "stderr",
     "output_type": "stream",
     "text": [
      "\u001b[32m[I 2022-03-27 18:57:44,089]\u001b[0m Trial 360 finished with value: 0.7947761194029851 and parameters: {'random_state': 1, 'learning_rate': 0.0002841300661810537, 'bagging_temperature': 0.15287102677642492, 'max_depth': 7, 'random_strength': 6, 'l2_leaf_reg': 1.2274553467907758e-05, 'min_child_samples': 68, 'max_bin': 130, 'od_type': 'Iter'}. Best is trial 194 with value: 0.8022388059701493.\u001b[0m\n"
     ]
    },
    {
     "name": "stdout",
     "output_type": "stream",
     "text": [
      "0.8731942215088283 0.7947761194029851\n"
     ]
    },
    {
     "name": "stderr",
     "output_type": "stream",
     "text": [
      "\u001b[32m[I 2022-03-27 18:57:44,634]\u001b[0m Trial 361 finished with value: 0.7910447761194029 and parameters: {'random_state': 1, 'learning_rate': 0.0011454770143101338, 'bagging_temperature': 0.21899164350095746, 'max_depth': 4, 'random_strength': 8, 'l2_leaf_reg': 1.695126774995585e-05, 'min_child_samples': 73, 'max_bin': 128, 'od_type': 'Iter'}. Best is trial 194 with value: 0.8022388059701493.\u001b[0m\n"
     ]
    },
    {
     "name": "stdout",
     "output_type": "stream",
     "text": [
      "0.8651685393258427 0.7910447761194029\n"
     ]
    },
    {
     "name": "stderr",
     "output_type": "stream",
     "text": [
      "\u001b[32m[I 2022-03-27 18:57:45,437]\u001b[0m Trial 362 finished with value: 0.753731343283582 and parameters: {'random_state': 1, 'learning_rate': 0.0003066925124520704, 'bagging_temperature': 0.06988673789366107, 'max_depth': 7, 'random_strength': 87, 'l2_leaf_reg': 1.1198961124630328e-05, 'min_child_samples': 12, 'max_bin': 137, 'od_type': 'Iter'}. Best is trial 194 with value: 0.8022388059701493.\u001b[0m\n"
     ]
    },
    {
     "name": "stdout",
     "output_type": "stream",
     "text": [
      "0.8731942215088283 0.753731343283582\n"
     ]
    },
    {
     "name": "stderr",
     "output_type": "stream",
     "text": [
      "\u001b[32m[I 2022-03-27 18:57:46,384]\u001b[0m Trial 363 finished with value: 0.7723880597014925 and parameters: {'random_state': 1, 'learning_rate': 0.0004474324647407275, 'bagging_temperature': 0.7090129646018414, 'max_depth': 7, 'random_strength': 0, 'l2_leaf_reg': 1.3994985658633185e-05, 'min_child_samples': 55, 'max_bin': 126, 'od_type': 'IncToDec'}. Best is trial 194 with value: 0.8022388059701493.\u001b[0m\n"
     ]
    },
    {
     "name": "stdout",
     "output_type": "stream",
     "text": [
      "0.9069020866773676 0.7723880597014925\n"
     ]
    },
    {
     "name": "stderr",
     "output_type": "stream",
     "text": [
      "\u001b[32m[I 2022-03-27 18:57:47,172]\u001b[0m Trial 364 finished with value: 0.7835820895522388 and parameters: {'random_state': 1, 'learning_rate': 0.0005957367095925739, 'bagging_temperature': 0.8199343547176517, 'max_depth': 7, 'random_strength': 14, 'l2_leaf_reg': 1.1888306121190515e-05, 'min_child_samples': 69, 'max_bin': 97, 'od_type': 'Iter'}. Best is trial 194 with value: 0.8022388059701493.\u001b[0m\n"
     ]
    },
    {
     "name": "stdout",
     "output_type": "stream",
     "text": [
      "0.8812199036918138 0.7835820895522388\n"
     ]
    },
    {
     "name": "stderr",
     "output_type": "stream",
     "text": [
      "\u001b[32m[I 2022-03-27 18:57:47,859]\u001b[0m Trial 365 finished with value: 0.7947761194029851 and parameters: {'random_state': 1, 'learning_rate': 0.0005095316202486937, 'bagging_temperature': 1.493277082959328, 'max_depth': 6, 'random_strength': 5, 'l2_leaf_reg': 1.0079974790047417e-05, 'min_child_samples': 64, 'max_bin': 140, 'od_type': 'Iter'}. Best is trial 194 with value: 0.8022388059701493.\u001b[0m\n"
     ]
    },
    {
     "name": "stdout",
     "output_type": "stream",
     "text": [
      "0.8667736757624398 0.7947761194029851\n"
     ]
    },
    {
     "name": "stderr",
     "output_type": "stream",
     "text": [
      "\u001b[32m[I 2022-03-27 18:57:48,643]\u001b[0m Trial 366 finished with value: 0.7910447761194029 and parameters: {'random_state': 1, 'learning_rate': 0.0004463488421578873, 'bagging_temperature': 0.28555593726789386, 'max_depth': 7, 'random_strength': 3, 'l2_leaf_reg': 1.7654531407030244e-05, 'min_child_samples': 46, 'max_bin': 143, 'od_type': 'Iter'}. Best is trial 194 with value: 0.8022388059701493.\u001b[0m\n"
     ]
    },
    {
     "name": "stdout",
     "output_type": "stream",
     "text": [
      "0.8667736757624398 0.7910447761194029\n"
     ]
    },
    {
     "name": "stderr",
     "output_type": "stream",
     "text": [
      "\u001b[32m[I 2022-03-27 18:57:49,445]\u001b[0m Trial 367 finished with value: 0.7947761194029851 and parameters: {'random_state': 1, 'learning_rate': 0.00033233028398023954, 'bagging_temperature': 0.12382539424383832, 'max_depth': 7, 'random_strength': 4, 'l2_leaf_reg': 1.140233169273726e-05, 'min_child_samples': 17, 'max_bin': 142, 'od_type': 'Iter'}. Best is trial 194 with value: 0.8022388059701493.\u001b[0m\n"
     ]
    },
    {
     "name": "stdout",
     "output_type": "stream",
     "text": [
      "0.869983948635634 0.7947761194029851\n"
     ]
    },
    {
     "name": "stderr",
     "output_type": "stream",
     "text": [
      "\u001b[32m[I 2022-03-27 18:57:49,725]\u001b[0m Trial 368 finished with value: 0.7835820895522388 and parameters: {'random_state': 1, 'learning_rate': 0.005612153805173124, 'bagging_temperature': 1.697273522321681, 'max_depth': 7, 'random_strength': 10, 'l2_leaf_reg': 1.294475911449758e-05, 'min_child_samples': 41, 'max_bin': 133, 'od_type': 'Iter'}. Best is trial 194 with value: 0.8022388059701493.\u001b[0m\n"
     ]
    },
    {
     "name": "stdout",
     "output_type": "stream",
     "text": [
      "0.8860353130016051 0.7835820895522388\n"
     ]
    },
    {
     "name": "stderr",
     "output_type": "stream",
     "text": [
      "\u001b[32m[I 2022-03-27 18:57:50,422]\u001b[0m Trial 369 finished with value: 0.7947761194029851 and parameters: {'random_state': 1, 'learning_rate': 0.00036516711342388694, 'bagging_temperature': 0.12231254085599443, 'max_depth': 6, 'random_strength': 7, 'l2_leaf_reg': 1.0614168619976655e-05, 'min_child_samples': 10, 'max_bin': 145, 'od_type': 'Iter'}. Best is trial 194 with value: 0.8022388059701493.\u001b[0m\n"
     ]
    },
    {
     "name": "stdout",
     "output_type": "stream",
     "text": [
      "0.8683788121990369 0.7947761194029851\n"
     ]
    },
    {
     "name": "stderr",
     "output_type": "stream",
     "text": [
      "\u001b[32m[I 2022-03-27 18:57:51,207]\u001b[0m Trial 370 finished with value: 0.7798507462686567 and parameters: {'random_state': 1, 'learning_rate': 0.0009999728533167072, 'bagging_temperature': 0.09991436984178, 'max_depth': 7, 'random_strength': 77, 'l2_leaf_reg': 1.2731763439779912e-05, 'min_child_samples': 70, 'max_bin': 132, 'od_type': 'IncToDec'}. Best is trial 194 with value: 0.8022388059701493.\u001b[0m\n"
     ]
    },
    {
     "name": "stdout",
     "output_type": "stream",
     "text": [
      "0.8828250401284109 0.7798507462686567\n"
     ]
    },
    {
     "name": "stderr",
     "output_type": "stream",
     "text": [
      "\u001b[32m[I 2022-03-27 18:57:52,004]\u001b[0m Trial 371 finished with value: 0.7910447761194029 and parameters: {'random_state': 1, 'learning_rate': 0.000158393512657943, 'bagging_temperature': 0.042992591822098636, 'max_depth': 7, 'random_strength': 9, 'l2_leaf_reg': 7.5907893267340335e-06, 'min_child_samples': 52, 'max_bin': 136, 'od_type': 'IncToDec'}. Best is trial 194 with value: 0.8022388059701493.\u001b[0m\n"
     ]
    },
    {
     "name": "stdout",
     "output_type": "stream",
     "text": [
      "0.8764044943820225 0.7910447761194029\n"
     ]
    },
    {
     "name": "stderr",
     "output_type": "stream",
     "text": [
      "\u001b[32m[I 2022-03-27 18:57:52,843]\u001b[0m Trial 372 finished with value: 0.8022388059701493 and parameters: {'random_state': 1, 'learning_rate': 0.0007806617960826537, 'bagging_temperature': 0.11120156144885918, 'max_depth': 7, 'random_strength': 3, 'l2_leaf_reg': 1.2077471089121805e-05, 'min_child_samples': 58, 'max_bin': 145, 'od_type': 'Iter'}. Best is trial 194 with value: 0.8022388059701493.\u001b[0m\n"
     ]
    },
    {
     "name": "stdout",
     "output_type": "stream",
     "text": [
      "0.8780096308186196 0.8022388059701493\n"
     ]
    },
    {
     "name": "stderr",
     "output_type": "stream",
     "text": [
      "\u001b[32m[I 2022-03-27 18:57:53,663]\u001b[0m Trial 373 finished with value: 0.7723880597014925 and parameters: {'random_state': 1, 'learning_rate': 0.0006888393837894764, 'bagging_temperature': 1.0063466310006912, 'max_depth': 7, 'random_strength': 63, 'l2_leaf_reg': 1.2124410736159666e-05, 'min_child_samples': 46, 'max_bin': 140, 'od_type': 'Iter'}. Best is trial 194 with value: 0.8022388059701493.\u001b[0m\n",
      "\u001b[32m[I 2022-03-27 18:57:53,759]\u001b[0m Trial 374 finished with value: 0.7873134328358209 and parameters: {'random_state': 1, 'learning_rate': 0.2115596887605637, 'bagging_temperature': 0.08986884690163817, 'max_depth': 7, 'random_strength': 3, 'l2_leaf_reg': 5.36795145000094e-06, 'min_child_samples': 43, 'max_bin': 122, 'od_type': 'Iter'}. Best is trial 194 with value: 0.8022388059701493.\u001b[0m\n"
     ]
    },
    {
     "name": "stdout",
     "output_type": "stream",
     "text": [
      "0.8828250401284109 0.7723880597014925\n",
      "0.8587479935794543 0.7873134328358209\n"
     ]
    },
    {
     "name": "stderr",
     "output_type": "stream",
     "text": [
      "\u001b[32m[I 2022-03-27 18:57:53,876]\u001b[0m Trial 375 finished with value: 0.7985074626865671 and parameters: {'random_state': 1, 'learning_rate': 0.0407098826535793, 'bagging_temperature': 0.09527190301104906, 'max_depth': 8, 'random_strength': 2, 'l2_leaf_reg': 1.2736325264149607e-05, 'min_child_samples': 71, 'max_bin': 148, 'od_type': 'Iter'}. Best is trial 194 with value: 0.8022388059701493.\u001b[0m\n",
      "\u001b[32m[I 2022-03-27 18:57:54,024]\u001b[0m Trial 376 finished with value: 0.7761194029850746 and parameters: {'random_state': 1, 'learning_rate': 0.01620062893938688, 'bagging_temperature': 0.07380220070468578, 'max_depth': 8, 'random_strength': 7, 'l2_leaf_reg': 9.4503549433854e-06, 'min_child_samples': 78, 'max_bin': 149, 'od_type': 'IncToDec'}. Best is trial 194 with value: 0.8022388059701493.\u001b[0m\n"
     ]
    },
    {
     "name": "stdout",
     "output_type": "stream",
     "text": [
      "0.8860353130016051 0.7985074626865671\n",
      "0.8956661316211878 0.7761194029850746\n"
     ]
    },
    {
     "name": "stderr",
     "output_type": "stream",
     "text": [
      "\u001b[32m[I 2022-03-27 18:57:54,972]\u001b[0m Trial 377 finished with value: 0.7835820895522388 and parameters: {'random_state': 1, 'learning_rate': 0.0007833369649817985, 'bagging_temperature': 0.1028961784453778, 'max_depth': 8, 'random_strength': 1, 'l2_leaf_reg': 1.1746715793678269e-05, 'min_child_samples': 75, 'max_bin': 152, 'od_type': 'Iter'}. Best is trial 194 with value: 0.8022388059701493.\u001b[0m\n"
     ]
    },
    {
     "name": "stdout",
     "output_type": "stream",
     "text": [
      "0.8972712680577849 0.7835820895522388\n"
     ]
    },
    {
     "name": "stderr",
     "output_type": "stream",
     "text": [
      "\u001b[32m[I 2022-03-27 18:57:55,794]\u001b[0m Trial 378 finished with value: 0.7761194029850746 and parameters: {'random_state': 1, 'learning_rate': 0.0002039823685654296, 'bagging_temperature': 0.13243866402069376, 'max_depth': 7, 'random_strength': 11, 'l2_leaf_reg': 5.772725871405888e-06, 'min_child_samples': 72, 'max_bin': 156, 'od_type': 'IncToDec'}. Best is trial 194 with value: 0.8022388059701493.\u001b[0m\n"
     ]
    },
    {
     "name": "stdout",
     "output_type": "stream",
     "text": [
      "0.884430176565008 0.7761194029850746\n"
     ]
    },
    {
     "name": "stderr",
     "output_type": "stream",
     "text": [
      "\u001b[32m[I 2022-03-27 18:57:56,536]\u001b[0m Trial 379 finished with value: 0.7910447761194029 and parameters: {'random_state': 1, 'learning_rate': 0.000398341821171206, 'bagging_temperature': 0.09389816508724984, 'max_depth': 6, 'random_strength': 5, 'l2_leaf_reg': 1.1067886646253384e-05, 'min_child_samples': 7, 'max_bin': 148, 'od_type': 'Iter'}. Best is trial 194 with value: 0.8022388059701493.\u001b[0m\n"
     ]
    },
    {
     "name": "stdout",
     "output_type": "stream",
     "text": [
      "0.8603531300160514 0.7910447761194029\n"
     ]
    },
    {
     "name": "stderr",
     "output_type": "stream",
     "text": [
      "\u001b[32m[I 2022-03-27 18:57:56,863]\u001b[0m Trial 380 finished with value: 0.7910447761194029 and parameters: {'random_state': 1, 'learning_rate': 0.0027806644420724906, 'bagging_temperature': 2.22594832536464, 'max_depth': 7, 'random_strength': 2, 'l2_leaf_reg': 1.3023927549196046e-05, 'min_child_samples': 71, 'max_bin': 145, 'od_type': 'Iter'}. Best is trial 194 with value: 0.8022388059701493.\u001b[0m\n"
     ]
    },
    {
     "name": "stdout",
     "output_type": "stream",
     "text": [
      "0.8812199036918138 0.7910447761194029\n"
     ]
    },
    {
     "name": "stderr",
     "output_type": "stream",
     "text": [
      "\u001b[32m[I 2022-03-27 18:57:57,158]\u001b[0m Trial 381 finished with value: 0.7910447761194029 and parameters: {'random_state': 1, 'learning_rate': 0.004404677676308562, 'bagging_temperature': 0.08120931626399895, 'max_depth': 8, 'random_strength': 3, 'l2_leaf_reg': 1.2696498394619276e-05, 'min_child_samples': 74, 'max_bin': 154, 'od_type': 'Iter'}. Best is trial 194 with value: 0.8022388059701493.\u001b[0m\n",
      "\u001b[32m[I 2022-03-27 18:57:57,288]\u001b[0m Trial 382 finished with value: 0.7761194029850746 and parameters: {'random_state': 1, 'learning_rate': 0.030947479568306624, 'bagging_temperature': 1.0475677534338346, 'max_depth': 6, 'random_strength': 71, 'l2_leaf_reg': 1.0282845091716432e-05, 'min_child_samples': 68, 'max_bin': 147, 'od_type': 'Iter'}. Best is trial 194 with value: 0.8022388059701493.\u001b[0m\n"
     ]
    },
    {
     "name": "stdout",
     "output_type": "stream",
     "text": [
      "0.8924558587479936 0.7910447761194029\n",
      "0.8747993579454254 0.7761194029850746\n"
     ]
    },
    {
     "name": "stderr",
     "output_type": "stream",
     "text": [
      "\u001b[32m[I 2022-03-27 18:57:58,209]\u001b[0m Trial 383 finished with value: 0.7761194029850746 and parameters: {'random_state': 1, 'learning_rate': 0.0005834304564616059, 'bagging_temperature': 0.15714139934758842, 'max_depth': 7, 'random_strength': 0, 'l2_leaf_reg': 1.2348890977019117e-05, 'min_child_samples': 59, 'max_bin': 142, 'od_type': 'Iter'}. Best is trial 194 with value: 0.8022388059701493.\u001b[0m\n"
     ]
    },
    {
     "name": "stdout",
     "output_type": "stream",
     "text": [
      "0.9101123595505618 0.7761194029850746\n"
     ]
    },
    {
     "name": "stderr",
     "output_type": "stream",
     "text": [
      "\u001b[32m[I 2022-03-27 18:57:59,031]\u001b[0m Trial 384 finished with value: 0.7947761194029851 and parameters: {'random_state': 1, 'learning_rate': 0.0006268743927972939, 'bagging_temperature': 0.05895759843726833, 'max_depth': 7, 'random_strength': 4, 'l2_leaf_reg': 1.1774540051144185e-05, 'min_child_samples': 66, 'max_bin': 139, 'od_type': 'IncToDec'}. Best is trial 194 with value: 0.8022388059701493.\u001b[0m\n",
      "\u001b[32m[I 2022-03-27 18:57:59,150]\u001b[0m Trial 385 finished with value: 0.7686567164179104 and parameters: {'random_state': 1, 'learning_rate': 0.041300434960216986, 'bagging_temperature': 36.821715965294196, 'max_depth': 7, 'random_strength': 2, 'l2_leaf_reg': 1.1512034264625275e-05, 'min_child_samples': 69, 'max_bin': 150, 'od_type': 'Iter'}. Best is trial 194 with value: 0.8022388059701493.\u001b[0m\n"
     ]
    },
    {
     "name": "stdout",
     "output_type": "stream",
     "text": [
      "0.8747993579454254 0.7947761194029851\n",
      "0.8812199036918138 0.7686567164179104\n"
     ]
    },
    {
     "name": "stderr",
     "output_type": "stream",
     "text": [
      "\u001b[32m[I 2022-03-27 18:58:00,009]\u001b[0m Trial 386 finished with value: 0.7947761194029851 and parameters: {'random_state': 1, 'learning_rate': 0.0005298081244030023, 'bagging_temperature': 0.11236676209290004, 'max_depth': 7, 'random_strength': 5, 'l2_leaf_reg': 1.2978079279657605e-05, 'min_child_samples': 58, 'max_bin': 127, 'od_type': 'Iter'}. Best is trial 194 with value: 0.8022388059701493.\u001b[0m\n",
      "\u001b[32m[I 2022-03-27 18:58:00,128]\u001b[0m Trial 387 finished with value: 0.7835820895522388 and parameters: {'random_state': 1, 'learning_rate': 0.02369991909492155, 'bagging_temperature': 0.1627130337941407, 'max_depth': 8, 'random_strength': 7, 'l2_leaf_reg': 1.236830876505644e-05, 'min_child_samples': 71, 'max_bin': 134, 'od_type': 'Iter'}. Best is trial 194 with value: 0.8022388059701493.\u001b[0m\n"
     ]
    },
    {
     "name": "stdout",
     "output_type": "stream",
     "text": [
      "0.8731942215088283 0.7947761194029851\n",
      "0.8892455858747994 0.7835820895522388\n"
     ]
    },
    {
     "name": "stderr",
     "output_type": "stream",
     "text": [
      "\u001b[32m[I 2022-03-27 18:58:00,826]\u001b[0m Trial 388 finished with value: 0.7947761194029851 and parameters: {'random_state': 1, 'learning_rate': 0.0004493499454845924, 'bagging_temperature': 0.10362257618370802, 'max_depth': 6, 'random_strength': 5, 'l2_leaf_reg': 1.0655249463532443e-05, 'min_child_samples': 15, 'max_bin': 144, 'od_type': 'Iter'}. Best is trial 194 with value: 0.8022388059701493.\u001b[0m\n"
     ]
    },
    {
     "name": "stdout",
     "output_type": "stream",
     "text": [
      "0.8635634028892456 0.7947761194029851\n"
     ]
    },
    {
     "name": "stderr",
     "output_type": "stream",
     "text": [
      "\u001b[32m[I 2022-03-27 18:58:01,719]\u001b[0m Trial 389 finished with value: 0.7947761194029851 and parameters: {'random_state': 1, 'learning_rate': 0.0007491697786559915, 'bagging_temperature': 0.13140895774681263, 'max_depth': 7, 'random_strength': 3, 'l2_leaf_reg': 1.312344223668675e-05, 'min_child_samples': 57, 'max_bin': 129, 'od_type': 'Iter'}. Best is trial 194 with value: 0.8022388059701493.\u001b[0m\n"
     ]
    },
    {
     "name": "stdout",
     "output_type": "stream",
     "text": [
      "0.8764044943820225 0.7947761194029851\n"
     ]
    },
    {
     "name": "stderr",
     "output_type": "stream",
     "text": [
      "\u001b[32m[I 2022-03-27 18:58:02,545]\u001b[0m Trial 390 finished with value: 0.7761194029850746 and parameters: {'random_state': 1, 'learning_rate': 0.0006013023824701902, 'bagging_temperature': 0.053795973569910095, 'max_depth': 7, 'random_strength': 0, 'l2_leaf_reg': 1.2033592045628434e-05, 'min_child_samples': 83, 'max_bin': 141, 'od_type': 'IncToDec'}. Best is trial 194 with value: 0.8022388059701493.\u001b[0m\n"
     ]
    },
    {
     "name": "stdout",
     "output_type": "stream",
     "text": [
      "0.9085072231139647 0.7761194029850746\n"
     ]
    },
    {
     "name": "stderr",
     "output_type": "stream",
     "text": [
      "\u001b[32m[I 2022-03-27 18:58:03,476]\u001b[0m Trial 391 finished with value: 0.7798507462686567 and parameters: {'random_state': 1, 'learning_rate': 0.0008156618924108057, 'bagging_temperature': 0.0786731848951724, 'max_depth': 7, 'random_strength': 9, 'l2_leaf_reg': 1.3467221416581462e-05, 'min_child_samples': 66, 'max_bin': 147, 'od_type': 'Iter'}. Best is trial 194 with value: 0.8022388059701493.\u001b[0m\n",
      "\u001b[32m[I 2022-03-27 18:58:03,598]\u001b[0m Trial 392 finished with value: 0.7798507462686567 and parameters: {'random_state': 1, 'learning_rate': 0.06667254331354154, 'bagging_temperature': 0.8355171047938452, 'max_depth': 7, 'random_strength': 10, 'l2_leaf_reg': 1.0918936713624651e-05, 'min_child_samples': 74, 'max_bin': 139, 'od_type': 'Iter'}. Best is trial 194 with value: 0.8022388059701493.\u001b[0m\n"
     ]
    },
    {
     "name": "stdout",
     "output_type": "stream",
     "text": [
      "0.8892455858747994 0.7798507462686567\n",
      "0.8876404494382022 0.7798507462686567\n"
     ]
    },
    {
     "name": "stderr",
     "output_type": "stream",
     "text": [
      "\u001b[32m[I 2022-03-27 18:58:03,746]\u001b[0m Trial 393 finished with value: 0.7798507462686567 and parameters: {'random_state': 1, 'learning_rate': 0.07935510816004422, 'bagging_temperature': 0.855776216552221, 'max_depth': 8, 'random_strength': 12, 'l2_leaf_reg': 1.265124978944443e-05, 'min_child_samples': 71, 'max_bin': 145, 'od_type': 'Iter'}. Best is trial 194 with value: 0.8022388059701493.\u001b[0m\n"
     ]
    },
    {
     "name": "stdout",
     "output_type": "stream",
     "text": [
      "0.8828250401284109 0.7798507462686567\n"
     ]
    },
    {
     "name": "stderr",
     "output_type": "stream",
     "text": [
      "\u001b[32m[I 2022-03-27 18:58:04,640]\u001b[0m Trial 394 finished with value: 0.7910447761194029 and parameters: {'random_state': 1, 'learning_rate': 0.00020175639382532184, 'bagging_temperature': 0.12924279875824413, 'max_depth': 7, 'random_strength': 8, 'l2_leaf_reg': 4.95963729015857e-06, 'min_child_samples': 56, 'max_bin': 137, 'od_type': 'IncToDec'}. Best is trial 194 with value: 0.8022388059701493.\u001b[0m\n"
     ]
    },
    {
     "name": "stdout",
     "output_type": "stream",
     "text": [
      "0.8812199036918138 0.7910447761194029\n"
     ]
    },
    {
     "name": "stderr",
     "output_type": "stream",
     "text": [
      "\u001b[32m[I 2022-03-27 18:58:05,343]\u001b[0m Trial 395 finished with value: 0.7873134328358209 and parameters: {'random_state': 1, 'learning_rate': 0.0009591027913429525, 'bagging_temperature': 0.08176548006554851, 'max_depth': 6, 'random_strength': 4, 'l2_leaf_reg': 7.821161595887948e-06, 'min_child_samples': 67, 'max_bin': 149, 'od_type': 'IncToDec'}. Best is trial 194 with value: 0.8022388059701493.\u001b[0m\n"
     ]
    },
    {
     "name": "stdout",
     "output_type": "stream",
     "text": [
      "0.8731942215088283 0.7873134328358209\n"
     ]
    },
    {
     "name": "stderr",
     "output_type": "stream",
     "text": [
      "\u001b[32m[I 2022-03-27 18:58:06,034]\u001b[0m Trial 396 finished with value: 0.7873134328358209 and parameters: {'random_state': 1, 'learning_rate': 0.0007676212720874627, 'bagging_temperature': 0.08966171727251138, 'max_depth': 6, 'random_strength': 6, 'l2_leaf_reg': 6.010963062727348e-06, 'min_child_samples': 68, 'max_bin': 104, 'od_type': 'IncToDec'}. Best is trial 194 with value: 0.8022388059701493.\u001b[0m\n"
     ]
    },
    {
     "name": "stdout",
     "output_type": "stream",
     "text": [
      "0.8731942215088283 0.7873134328358209\n"
     ]
    },
    {
     "name": "stderr",
     "output_type": "stream",
     "text": [
      "\u001b[32m[I 2022-03-27 18:58:06,311]\u001b[0m Trial 397 finished with value: 0.7761194029850746 and parameters: {'random_state': 1, 'learning_rate': 0.008624865118900411, 'bagging_temperature': 0.14796175070283152, 'max_depth': 7, 'random_strength': 59, 'l2_leaf_reg': 1.3414768557024114e-05, 'min_child_samples': 60, 'max_bin': 135, 'od_type': 'Iter'}. Best is trial 194 with value: 0.8022388059701493.\u001b[0m\n",
      "\u001b[32m[I 2022-03-27 18:58:06,465]\u001b[0m Trial 398 finished with value: 0.7873134328358209 and parameters: {'random_state': 1, 'learning_rate': 0.013034968437739545, 'bagging_temperature': 0.09683434350799057, 'max_depth': 7, 'random_strength': 2, 'l2_leaf_reg': 1.24101982534743e-05, 'min_child_samples': 70, 'max_bin': 141, 'od_type': 'Iter'}. Best is trial 194 with value: 0.8022388059701493.\u001b[0m\n"
     ]
    },
    {
     "name": "stdout",
     "output_type": "stream",
     "text": [
      "0.8860353130016051 0.7761194029850746\n",
      "0.8780096308186196 0.7873134328358209\n"
     ]
    },
    {
     "name": "stderr",
     "output_type": "stream",
     "text": [
      "\u001b[32m[I 2022-03-27 18:58:07,332]\u001b[0m Trial 399 finished with value: 0.7985074626865671 and parameters: {'random_state': 1, 'learning_rate': 0.0005185578862652952, 'bagging_temperature': 1.4803984532925731, 'max_depth': 6, 'random_strength': 6, 'l2_leaf_reg': 9.671137778902947e-06, 'min_child_samples': 63, 'max_bin': 141, 'od_type': 'Iter'}. Best is trial 194 with value: 0.8022388059701493.\u001b[0m\n"
     ]
    },
    {
     "name": "stdout",
     "output_type": "stream",
     "text": [
      "0.8715890850722311 0.7985074626865671\n"
     ]
    },
    {
     "name": "stderr",
     "output_type": "stream",
     "text": [
      "\u001b[32m[I 2022-03-27 18:58:08,185]\u001b[0m Trial 400 finished with value: 0.7947761194029851 and parameters: {'random_state': 1, 'learning_rate': 0.0005033721813284962, 'bagging_temperature': 0.9454337787070443, 'max_depth': 6, 'random_strength': 7, 'l2_leaf_reg': 9.52396118152685e-06, 'min_child_samples': 64, 'max_bin': 143, 'od_type': 'Iter'}. Best is trial 194 with value: 0.8022388059701493.\u001b[0m\n"
     ]
    },
    {
     "name": "stdout",
     "output_type": "stream",
     "text": [
      "0.8683788121990369 0.7947761194029851\n"
     ]
    },
    {
     "name": "stderr",
     "output_type": "stream",
     "text": [
      "\u001b[32m[I 2022-03-27 18:58:08,928]\u001b[0m Trial 401 finished with value: 0.7947761194029851 and parameters: {'random_state': 1, 'learning_rate': 0.0006661524991780873, 'bagging_temperature': 1.2628366589790394, 'max_depth': 6, 'random_strength': 6, 'l2_leaf_reg': 1.0054965041519304e-05, 'min_child_samples': 62, 'max_bin': 138, 'od_type': 'Iter'}. Best is trial 194 with value: 0.8022388059701493.\u001b[0m\n"
     ]
    },
    {
     "name": "stdout",
     "output_type": "stream",
     "text": [
      "0.8715890850722311 0.7947761194029851\n"
     ]
    },
    {
     "name": "stderr",
     "output_type": "stream",
     "text": [
      "\u001b[32m[I 2022-03-27 18:58:09,622]\u001b[0m Trial 402 finished with value: 0.7910447761194029 and parameters: {'random_state': 1, 'learning_rate': 0.0005155469352554099, 'bagging_temperature': 1.2296399380592766, 'max_depth': 6, 'random_strength': 2, 'l2_leaf_reg': 8.599165744614898e-06, 'min_child_samples': 59, 'max_bin': 145, 'od_type': 'Iter'}. Best is trial 194 with value: 0.8022388059701493.\u001b[0m\n"
     ]
    },
    {
     "name": "stdout",
     "output_type": "stream",
     "text": [
      "0.8603531300160514 0.7910447761194029\n"
     ]
    },
    {
     "name": "stderr",
     "output_type": "stream",
     "text": [
      "\u001b[32m[I 2022-03-27 18:58:10,367]\u001b[0m Trial 403 finished with value: 0.7574626865671642 and parameters: {'random_state': 1, 'learning_rate': 0.00040579209284312905, 'bagging_temperature': 1.3683865327147169, 'max_depth': 6, 'random_strength': 39, 'l2_leaf_reg': 1.1060180013620501e-05, 'min_child_samples': 76, 'max_bin': 152, 'od_type': 'Iter'}. Best is trial 194 with value: 0.8022388059701493.\u001b[0m\n"
     ]
    },
    {
     "name": "stdout",
     "output_type": "stream",
     "text": [
      "0.8683788121990369 0.7574626865671642\n"
     ]
    },
    {
     "name": "stderr",
     "output_type": "stream",
     "text": [
      "\u001b[32m[I 2022-03-27 18:58:11,103]\u001b[0m Trial 404 finished with value: 0.7947761194029851 and parameters: {'random_state': 1, 'learning_rate': 0.0006348280877644512, 'bagging_temperature': 1.697712191107793, 'max_depth': 6, 'random_strength': 4, 'l2_leaf_reg': 1.0010417433568112e-05, 'min_child_samples': 24, 'max_bin': 142, 'od_type': 'Iter'}. Best is trial 194 with value: 0.8022388059701493.\u001b[0m\n"
     ]
    },
    {
     "name": "stdout",
     "output_type": "stream",
     "text": [
      "0.8651685393258427 0.7947761194029851\n"
     ]
    },
    {
     "name": "stderr",
     "output_type": "stream",
     "text": [
      "\u001b[32m[I 2022-03-27 18:58:11,801]\u001b[0m Trial 405 finished with value: 0.7574626865671642 and parameters: {'random_state': 1, 'learning_rate': 0.0005488062710896757, 'bagging_temperature': 0.1130132115075075, 'max_depth': 6, 'random_strength': 42, 'l2_leaf_reg': 1.1358153174631084e-05, 'min_child_samples': 61, 'max_bin': 134, 'od_type': 'Iter'}. Best is trial 194 with value: 0.8022388059701493.\u001b[0m\n"
     ]
    },
    {
     "name": "stdout",
     "output_type": "stream",
     "text": [
      "0.8731942215088283 0.7574626865671642\n"
     ]
    },
    {
     "name": "stderr",
     "output_type": "stream",
     "text": [
      "\u001b[32m[I 2022-03-27 18:58:12,646]\u001b[0m Trial 406 finished with value: 0.7835820895522388 and parameters: {'random_state': 1, 'learning_rate': 0.00012837550129807707, 'bagging_temperature': 0.07031408509613318, 'max_depth': 7, 'random_strength': 8, 'l2_leaf_reg': 9.173464890897972e-06, 'min_child_samples': 66, 'max_bin': 148, 'od_type': 'Iter'}. Best is trial 194 with value: 0.8022388059701493.\u001b[0m\n"
     ]
    },
    {
     "name": "stdout",
     "output_type": "stream",
     "text": [
      "0.8812199036918138 0.7835820895522388\n"
     ]
    },
    {
     "name": "stderr",
     "output_type": "stream",
     "text": [
      "\u001b[32m[I 2022-03-27 18:58:13,640]\u001b[0m Trial 407 finished with value: 0.7723880597014925 and parameters: {'random_state': 1, 'learning_rate': 0.0004513536656934224, 'bagging_temperature': 1.0977823466502767, 'max_depth': 7, 'random_strength': 0, 'l2_leaf_reg': 1.1842068770450319e-05, 'min_child_samples': 73, 'max_bin': 139, 'od_type': 'Iter'}. Best is trial 194 with value: 0.8022388059701493.\u001b[0m\n"
     ]
    },
    {
     "name": "stdout",
     "output_type": "stream",
     "text": [
      "0.9085072231139647 0.7723880597014925\n"
     ]
    },
    {
     "name": "stderr",
     "output_type": "stream",
     "text": [
      "\u001b[32m[I 2022-03-27 18:58:14,386]\u001b[0m Trial 408 finished with value: 0.7910447761194029 and parameters: {'random_state': 1, 'learning_rate': 0.00035161849267909673, 'bagging_temperature': 0.6999076598359669, 'max_depth': 6, 'random_strength': 6, 'l2_leaf_reg': 1.0539237810657976e-05, 'min_child_samples': 64, 'max_bin': 145, 'od_type': 'Iter'}. Best is trial 194 with value: 0.8022388059701493.\u001b[0m\n"
     ]
    },
    {
     "name": "stdout",
     "output_type": "stream",
     "text": [
      "0.8683788121990369 0.7910447761194029\n"
     ]
    },
    {
     "name": "stderr",
     "output_type": "stream",
     "text": [
      "\u001b[32m[I 2022-03-27 18:58:15,189]\u001b[0m Trial 409 finished with value: 0.7761194029850746 and parameters: {'random_state': 1, 'learning_rate': 0.0012858072113904567, 'bagging_temperature': 0.10498683009546943, 'max_depth': 7, 'random_strength': 10, 'l2_leaf_reg': 1.1474579428298293e-05, 'min_child_samples': 57, 'max_bin': 141, 'od_type': 'Iter'}. Best is trial 194 with value: 0.8022388059701493.\u001b[0m\n"
     ]
    },
    {
     "name": "stdout",
     "output_type": "stream",
     "text": [
      "0.8860353130016051 0.7761194029850746\n"
     ]
    },
    {
     "name": "stderr",
     "output_type": "stream",
     "text": [
      "\u001b[32m[I 2022-03-27 18:58:16,055]\u001b[0m Trial 410 finished with value: 0.8022388059701493 and parameters: {'random_state': 1, 'learning_rate': 0.0007180636429528401, 'bagging_temperature': 0.0719330575190717, 'max_depth': 7, 'random_strength': 3, 'l2_leaf_reg': 1.1039492638506724e-05, 'min_child_samples': 68, 'max_bin': 136, 'od_type': 'Iter'}. Best is trial 194 with value: 0.8022388059701493.\u001b[0m\n"
     ]
    },
    {
     "name": "stdout",
     "output_type": "stream",
     "text": [
      "0.8731942215088283 0.8022388059701493\n"
     ]
    },
    {
     "name": "stderr",
     "output_type": "stream",
     "text": [
      "\u001b[32m[I 2022-03-27 18:58:16,832]\u001b[0m Trial 411 finished with value: 0.7873134328358209 and parameters: {'random_state': 1, 'learning_rate': 0.0008318024501084104, 'bagging_temperature': 0.06666203236438688, 'max_depth': 6, 'random_strength': 2, 'l2_leaf_reg': 1.2007813707631786e-05, 'min_child_samples': 90, 'max_bin': 135, 'od_type': 'Iter'}. Best is trial 194 with value: 0.8022388059701493.\u001b[0m\n"
     ]
    },
    {
     "name": "stdout",
     "output_type": "stream",
     "text": [
      "0.8683788121990369 0.7873134328358209\n"
     ]
    },
    {
     "name": "stderr",
     "output_type": "stream",
     "text": [
      "\u001b[32m[I 2022-03-27 18:58:17,622]\u001b[0m Trial 412 finished with value: 0.7910447761194029 and parameters: {'random_state': 1, 'learning_rate': 0.0009763510180642661, 'bagging_temperature': 0.05479259543298024, 'max_depth': 7, 'random_strength': 3, 'l2_leaf_reg': 1.1133525933973608e-05, 'min_child_samples': 69, 'max_bin': 131, 'od_type': 'Iter'}. Best is trial 194 with value: 0.8022388059701493.\u001b[0m\n"
     ]
    },
    {
     "name": "stdout",
     "output_type": "stream",
     "text": [
      "0.884430176565008 0.7910447761194029\n"
     ]
    },
    {
     "name": "stderr",
     "output_type": "stream",
     "text": [
      "\u001b[32m[I 2022-03-27 18:58:18,615]\u001b[0m Trial 413 finished with value: 0.7835820895522388 and parameters: {'random_state': 1, 'learning_rate': 0.0006522634006727104, 'bagging_temperature': 1.5017213780832437, 'max_depth': 8, 'random_strength': 5, 'l2_leaf_reg': 1.2651378873334967e-05, 'min_child_samples': 68, 'max_bin': 136, 'od_type': 'Iter'}. Best is trial 194 with value: 0.8022388059701493.\u001b[0m\n"
     ]
    },
    {
     "name": "stdout",
     "output_type": "stream",
     "text": [
      "0.8860353130016051 0.7835820895522388\n"
     ]
    },
    {
     "name": "stderr",
     "output_type": "stream",
     "text": [
      "\u001b[32m[I 2022-03-27 18:58:19,292]\u001b[0m Trial 414 finished with value: 0.7686567164179104 and parameters: {'random_state': 1, 'learning_rate': 0.0007671817536666874, 'bagging_temperature': 0.07354153070617712, 'max_depth': 7, 'random_strength': 0, 'l2_leaf_reg': 1.2177818945932284e-05, 'min_child_samples': 66, 'max_bin': 132, 'od_type': 'Iter'}. Best is trial 194 with value: 0.8022388059701493.\u001b[0m\n"
     ]
    },
    {
     "name": "stdout",
     "output_type": "stream",
     "text": [
      "0.9101123595505618 0.7686567164179104\n"
     ]
    },
    {
     "name": "stderr",
     "output_type": "stream",
     "text": [
      "\u001b[32m[I 2022-03-27 18:58:20,093]\u001b[0m Trial 415 finished with value: 0.7761194029850746 and parameters: {'random_state': 1, 'learning_rate': 0.0005474044539264041, 'bagging_temperature': 0.0878382694404059, 'max_depth': 7, 'random_strength': 13, 'l2_leaf_reg': 1.0185425915944555e-05, 'min_child_samples': 70, 'max_bin': 138, 'od_type': 'Iter'}. Best is trial 194 with value: 0.8022388059701493.\u001b[0m\n"
     ]
    },
    {
     "name": "stdout",
     "output_type": "stream",
     "text": [
      "0.884430176565008 0.7761194029850746\n"
     ]
    },
    {
     "name": "stderr",
     "output_type": "stream",
     "text": [
      "\u001b[32m[I 2022-03-27 18:58:20,788]\u001b[0m Trial 416 finished with value: 0.7873134328358209 and parameters: {'random_state': 1, 'learning_rate': 0.000440822890672019, 'bagging_temperature': 0.9983508927829253, 'max_depth': 6, 'random_strength': 7, 'l2_leaf_reg': 1.0671390811891261e-05, 'min_child_samples': 62, 'max_bin': 135, 'od_type': 'Iter'}. Best is trial 194 with value: 0.8022388059701493.\u001b[0m\n"
     ]
    },
    {
     "name": "stdout",
     "output_type": "stream",
     "text": [
      "0.8731942215088283 0.7873134328358209\n"
     ]
    },
    {
     "name": "stderr",
     "output_type": "stream",
     "text": [
      "\u001b[32m[I 2022-03-27 18:58:21,597]\u001b[0m Trial 417 finished with value: 0.8022388059701493 and parameters: {'random_state': 1, 'learning_rate': 0.0002456883081433545, 'bagging_temperature': 0.6205094191632935, 'max_depth': 7, 'random_strength': 9, 'l2_leaf_reg': 9.750993381984437e-06, 'min_child_samples': 72, 'max_bin': 138, 'od_type': 'Iter'}. Best is trial 194 with value: 0.8022388059701493.\u001b[0m\n"
     ]
    },
    {
     "name": "stdout",
     "output_type": "stream",
     "text": [
      "0.8812199036918138 0.8022388059701493\n"
     ]
    },
    {
     "name": "stderr",
     "output_type": "stream",
     "text": [
      "\u001b[32m[I 2022-03-27 18:58:22,482]\u001b[0m Trial 418 finished with value: 0.7910447761194029 and parameters: {'random_state': 1, 'learning_rate': 0.00023795377524615062, 'bagging_temperature': 0.7432839155324464, 'max_depth': 7, 'random_strength': 9, 'l2_leaf_reg': 7.225952323235232e-06, 'min_child_samples': 65, 'max_bin': 141, 'od_type': 'Iter'}. Best is trial 194 with value: 0.8022388059701493.\u001b[0m\n"
     ]
    },
    {
     "name": "stdout",
     "output_type": "stream",
     "text": [
      "0.8796147672552167 0.7910447761194029\n"
     ]
    },
    {
     "name": "stderr",
     "output_type": "stream",
     "text": [
      "\u001b[32m[I 2022-03-27 18:58:23,262]\u001b[0m Trial 419 finished with value: 0.7798507462686567 and parameters: {'random_state': 1, 'learning_rate': 0.00021737894472565473, 'bagging_temperature': 0.5719707096293013, 'max_depth': 7, 'random_strength': 11, 'l2_leaf_reg': 3.5747396617946618e-06, 'min_child_samples': 73, 'max_bin': 54, 'od_type': 'Iter'}. Best is trial 194 with value: 0.8022388059701493.\u001b[0m\n"
     ]
    },
    {
     "name": "stdout",
     "output_type": "stream",
     "text": [
      "0.8860353130016051 0.7798507462686567\n"
     ]
    },
    {
     "name": "stderr",
     "output_type": "stream",
     "text": [
      "\u001b[32m[I 2022-03-27 18:58:24,078]\u001b[0m Trial 420 finished with value: 0.7910447761194029 and parameters: {'random_state': 1, 'learning_rate': 0.00026668968303505367, 'bagging_temperature': 15.184033387073791, 'max_depth': 7, 'random_strength': 5, 'l2_leaf_reg': 8.914582052495768e-06, 'min_child_samples': 76, 'max_bin': 138, 'od_type': 'Iter'}. Best is trial 194 with value: 0.8022388059701493.\u001b[0m\n"
     ]
    },
    {
     "name": "stdout",
     "output_type": "stream",
     "text": [
      "0.8683788121990369 0.7910447761194029\n"
     ]
    },
    {
     "name": "stderr",
     "output_type": "stream",
     "text": [
      "\u001b[32m[I 2022-03-27 18:58:24,999]\u001b[0m Trial 421 finished with value: 0.7947761194029851 and parameters: {'random_state': 1, 'learning_rate': 0.0003078999016694893, 'bagging_temperature': 0.09928117299693136, 'max_depth': 7, 'random_strength': 8, 'l2_leaf_reg': 9.42396240105014e-06, 'min_child_samples': 68, 'max_bin': 133, 'od_type': 'Iter'}. Best is trial 194 with value: 0.8022388059701493.\u001b[0m\n"
     ]
    },
    {
     "name": "stdout",
     "output_type": "stream",
     "text": [
      "0.8796147672552167 0.7947761194029851\n"
     ]
    },
    {
     "name": "stderr",
     "output_type": "stream",
     "text": [
      "\u001b[32m[I 2022-03-27 18:58:25,704]\u001b[0m Trial 422 finished with value: 0.7910447761194029 and parameters: {'random_state': 1, 'learning_rate': 0.0003641242271113456, 'bagging_temperature': 0.6272287791486818, 'max_depth': 6, 'random_strength': 4, 'l2_leaf_reg': 1.1466470342152726e-05, 'min_child_samples': 70, 'max_bin': 145, 'od_type': 'Iter'}. Best is trial 194 with value: 0.8022388059701493.\u001b[0m\n"
     ]
    },
    {
     "name": "stdout",
     "output_type": "stream",
     "text": [
      "0.85553772070626 0.7910447761194029\n"
     ]
    },
    {
     "name": "stderr",
     "output_type": "stream",
     "text": [
      "\u001b[32m[I 2022-03-27 18:58:26,498]\u001b[0m Trial 423 finished with value: 0.7798507462686567 and parameters: {'random_state': 1, 'learning_rate': 0.0006903232140787541, 'bagging_temperature': 0.5091051670650637, 'max_depth': 7, 'random_strength': 6, 'l2_leaf_reg': 9.829834928357648e-06, 'min_child_samples': 59, 'max_bin': 139, 'od_type': 'Iter'}. Best is trial 194 with value: 0.8022388059701493.\u001b[0m\n"
     ]
    },
    {
     "name": "stdout",
     "output_type": "stream",
     "text": [
      "0.8860353130016051 0.7798507462686567\n"
     ]
    },
    {
     "name": "stderr",
     "output_type": "stream",
     "text": [
      "\u001b[32m[I 2022-03-27 18:58:27,307]\u001b[0m Trial 424 finished with value: 0.7947761194029851 and parameters: {'random_state': 1, 'learning_rate': 0.00017208008103903366, 'bagging_temperature': 0.07375530735065602, 'max_depth': 7, 'random_strength': 9, 'l2_leaf_reg': 8.792012777626608e-06, 'min_child_samples': 64, 'max_bin': 159, 'od_type': 'Iter'}. Best is trial 194 with value: 0.8022388059701493.\u001b[0m\n"
     ]
    },
    {
     "name": "stdout",
     "output_type": "stream",
     "text": [
      "0.8731942215088283 0.7947761194029851\n"
     ]
    },
    {
     "name": "stderr",
     "output_type": "stream",
     "text": [
      "\u001b[32m[I 2022-03-27 18:58:28,115]\u001b[0m Trial 425 finished with value: 0.7835820895522388 and parameters: {'random_state': 1, 'learning_rate': 0.00024829256432555926, 'bagging_temperature': 0.7540687445625486, 'max_depth': 7, 'random_strength': 3, 'l2_leaf_reg': 1.0871477610466201e-05, 'min_child_samples': 72, 'max_bin': 136, 'od_type': 'Iter'}. Best is trial 194 with value: 0.8022388059701493.\u001b[0m\n"
     ]
    },
    {
     "name": "stdout",
     "output_type": "stream",
     "text": [
      "0.8635634028892456 0.7835820895522388\n"
     ]
    },
    {
     "name": "stderr",
     "output_type": "stream",
     "text": [
      "\u001b[32m[I 2022-03-27 18:58:28,936]\u001b[0m Trial 426 finished with value: 0.7798507462686567 and parameters: {'random_state': 1, 'learning_rate': 0.0008701408241151189, 'bagging_temperature': 0.059486764382888836, 'max_depth': 7, 'random_strength': 29, 'l2_leaf_reg': 9.943543295707084e-06, 'min_child_samples': 71, 'max_bin': 149, 'od_type': 'Iter'}. Best is trial 194 with value: 0.8022388059701493.\u001b[0m\n",
      "\u001b[32m[I 2022-03-27 18:58:29,035]\u001b[0m Trial 427 finished with value: 0.7761194029850746 and parameters: {'random_state': 1, 'learning_rate': 0.01901679310758886, 'bagging_temperature': 5.293485018871158, 'max_depth': 7, 'random_strength': 0, 'l2_leaf_reg': 1.8865122053322442e-06, 'min_child_samples': 62, 'max_bin': 143, 'od_type': 'IncToDec'}. Best is trial 194 with value: 0.8022388059701493.\u001b[0m\n"
     ]
    },
    {
     "name": "stdout",
     "output_type": "stream",
     "text": [
      "0.884430176565008 0.7798507462686567\n",
      "0.9101123595505618 0.7761194029850746\n"
     ]
    },
    {
     "name": "stderr",
     "output_type": "stream",
     "text": [
      "\u001b[32m[I 2022-03-27 18:58:29,855]\u001b[0m Trial 428 finished with value: 0.7985074626865671 and parameters: {'random_state': 1, 'learning_rate': 0.0007101106402192569, 'bagging_temperature': 0.11615119486702034, 'max_depth': 7, 'random_strength': 2, 'l2_leaf_reg': 4.669140677701461e-06, 'min_child_samples': 66, 'max_bin': 131, 'od_type': 'Iter'}. Best is trial 194 with value: 0.8022388059701493.\u001b[0m\n"
     ]
    },
    {
     "name": "stdout",
     "output_type": "stream",
     "text": [
      "0.8747993579454254 0.7985074626865671\n"
     ]
    },
    {
     "name": "stderr",
     "output_type": "stream",
     "text": [
      "\u001b[32m[I 2022-03-27 18:58:30,652]\u001b[0m Trial 429 finished with value: 0.7910447761194029 and parameters: {'random_state': 1, 'learning_rate': 0.000743986541877164, 'bagging_temperature': 0.17301073985441323, 'max_depth': 7, 'random_strength': 2, 'l2_leaf_reg': 5.190995204613921e-06, 'min_child_samples': 75, 'max_bin': 130, 'od_type': 'Iter'}. Best is trial 194 with value: 0.8022388059701493.\u001b[0m\n"
     ]
    },
    {
     "name": "stdout",
     "output_type": "stream",
     "text": [
      "0.8780096308186196 0.7910447761194029\n"
     ]
    },
    {
     "name": "stderr",
     "output_type": "stream",
     "text": [
      "\u001b[32m[I 2022-03-27 18:58:31,591]\u001b[0m Trial 430 finished with value: 0.7686567164179104 and parameters: {'random_state': 1, 'learning_rate': 0.0010670135452688957, 'bagging_temperature': 0.04477111233171939, 'max_depth': 8, 'random_strength': 55, 'l2_leaf_reg': 4.648231542816275e-06, 'min_child_samples': 66, 'max_bin': 154, 'od_type': 'Iter'}. Best is trial 194 with value: 0.8022388059701493.\u001b[0m\n"
     ]
    },
    {
     "name": "stdout",
     "output_type": "stream",
     "text": [
      "0.8876404494382022 0.7686567164179104\n"
     ]
    },
    {
     "name": "stderr",
     "output_type": "stream",
     "text": [
      "\u001b[32m[I 2022-03-27 18:58:32,258]\u001b[0m Trial 431 finished with value: 0.7798507462686567 and parameters: {'random_state': 1, 'learning_rate': 0.0006074015998419124, 'bagging_temperature': 0.08700810555945579, 'max_depth': 6, 'random_strength': 14, 'l2_leaf_reg': 1.0426995913823425e-05, 'min_child_samples': 69, 'max_bin': 142, 'od_type': 'Iter'}. Best is trial 194 with value: 0.8022388059701493.\u001b[0m\n"
     ]
    },
    {
     "name": "stdout",
     "output_type": "stream",
     "text": [
      "0.8796147672552167 0.7798507462686567\n"
     ]
    },
    {
     "name": "stderr",
     "output_type": "stream",
     "text": [
      "\u001b[32m[I 2022-03-27 18:58:32,936]\u001b[0m Trial 432 finished with value: 0.7910447761194029 and parameters: {'random_state': 1, 'learning_rate': 0.0005091670206752461, 'bagging_temperature': 1.8451943166692761, 'max_depth': 6, 'random_strength': 5, 'l2_leaf_reg': 1.1104639714278475e-05, 'min_child_samples': 73, 'max_bin': 146, 'od_type': 'Iter'}. Best is trial 194 with value: 0.8022388059701493.\u001b[0m\n"
     ]
    },
    {
     "name": "stdout",
     "output_type": "stream",
     "text": [
      "0.8651685393258427 0.7910447761194029\n"
     ]
    },
    {
     "name": "stderr",
     "output_type": "stream",
     "text": [
      "\u001b[32m[I 2022-03-27 18:58:33,720]\u001b[0m Trial 433 finished with value: 0.7873134328358209 and parameters: {'random_state': 1, 'learning_rate': 0.0006224925853074498, 'bagging_temperature': 0.44831758005071964, 'max_depth': 7, 'random_strength': 3, 'l2_leaf_reg': 9.551562704500641e-06, 'min_child_samples': 71, 'max_bin': 140, 'od_type': 'Iter'}. Best is trial 194 with value: 0.8022388059701493.\u001b[0m\n"
     ]
    },
    {
     "name": "stdout",
     "output_type": "stream",
     "text": [
      "0.8715890850722311 0.7873134328358209\n"
     ]
    },
    {
     "name": "stderr",
     "output_type": "stream",
     "text": [
      "\u001b[32m[I 2022-03-27 18:58:34,470]\u001b[0m Trial 434 finished with value: 0.8022388059701493 and parameters: {'random_state': 1, 'learning_rate': 0.0008960146945734409, 'bagging_temperature': 0.13434623413085184, 'max_depth': 7, 'random_strength': 2, 'l2_leaf_reg': 3.1551927088403224e-06, 'min_child_samples': 68, 'max_bin': 125, 'od_type': 'IncToDec'}. Best is trial 194 with value: 0.8022388059701493.\u001b[0m\n"
     ]
    },
    {
     "name": "stdout",
     "output_type": "stream",
     "text": [
      "0.8812199036918138 0.8022388059701493\n"
     ]
    },
    {
     "name": "stderr",
     "output_type": "stream",
     "text": [
      "\u001b[32m[I 2022-03-27 18:58:34,820]\u001b[0m Trial 435 finished with value: 0.7723880597014925 and parameters: {'random_state': 1, 'learning_rate': 0.0017786097591188394, 'bagging_temperature': 0.1450964365873819, 'max_depth': 7, 'random_strength': 0, 'l2_leaf_reg': 4.1573843086911565e-06, 'min_child_samples': 67, 'max_bin': 125, 'od_type': 'IncToDec'}. Best is trial 194 with value: 0.8022388059701493.\u001b[0m\n"
     ]
    },
    {
     "name": "stdout",
     "output_type": "stream",
     "text": [
      "0.9117174959871589 0.7723880597014925\n"
     ]
    },
    {
     "name": "stderr",
     "output_type": "stream",
     "text": [
      "\u001b[32m[I 2022-03-27 18:58:35,619]\u001b[0m Trial 436 finished with value: 0.7873134328358209 and parameters: {'random_state': 1, 'learning_rate': 0.0008880550824787784, 'bagging_temperature': 0.17727634444373902, 'max_depth': 7, 'random_strength': 2, 'l2_leaf_reg': 9.919416929593434e-07, 'min_child_samples': 68, 'max_bin': 125, 'od_type': 'IncToDec'}. Best is trial 194 with value: 0.8022388059701493.\u001b[0m\n"
     ]
    },
    {
     "name": "stdout",
     "output_type": "stream",
     "text": [
      "0.884430176565008 0.7873134328358209\n"
     ]
    },
    {
     "name": "stderr",
     "output_type": "stream",
     "text": [
      "\u001b[32m[I 2022-03-27 18:58:36,541]\u001b[0m Trial 437 finished with value: 0.7873134328358209 and parameters: {'random_state': 1, 'learning_rate': 0.00031945993526376766, 'bagging_temperature': 1.0733653993692194, 'max_depth': 8, 'random_strength': 4, 'l2_leaf_reg': 1.7072155182179934e-06, 'min_child_samples': 66, 'max_bin': 131, 'od_type': 'Iter'}. Best is trial 194 with value: 0.8022388059701493.\u001b[0m\n"
     ]
    },
    {
     "name": "stdout",
     "output_type": "stream",
     "text": [
      "0.8715890850722311 0.7873134328358209\n"
     ]
    },
    {
     "name": "stderr",
     "output_type": "stream",
     "text": [
      "\u001b[32m[I 2022-03-27 18:58:36,979]\u001b[0m Trial 438 finished with value: 0.7686567164179104 and parameters: {'random_state': 1, 'learning_rate': 0.0012197973518723103, 'bagging_temperature': 0.1189862605588723, 'max_depth': 7, 'random_strength': 0, 'l2_leaf_reg': 2.995563632951485e-06, 'min_child_samples': 63, 'max_bin': 122, 'od_type': 'IncToDec'}. Best is trial 194 with value: 0.8022388059701493.\u001b[0m\n"
     ]
    },
    {
     "name": "stdout",
     "output_type": "stream",
     "text": [
      "0.9117174959871589 0.7686567164179104\n"
     ]
    },
    {
     "name": "stderr",
     "output_type": "stream",
     "text": [
      "\u001b[32m[I 2022-03-27 18:58:37,682]\u001b[0m Trial 439 finished with value: 0.7798507462686567 and parameters: {'random_state': 1, 'learning_rate': 0.0009631875880339661, 'bagging_temperature': 0.8877669949274186, 'max_depth': 6, 'random_strength': 7, 'l2_leaf_reg': 2.9655061998506235e-06, 'min_child_samples': 67, 'max_bin': 124, 'od_type': 'IncToDec'}. Best is trial 194 with value: 0.8022388059701493.\u001b[0m\n"
     ]
    },
    {
     "name": "stdout",
     "output_type": "stream",
     "text": [
      "0.8892455858747994 0.7798507462686567\n"
     ]
    },
    {
     "name": "stderr",
     "output_type": "stream",
     "text": [
      "\u001b[32m[I 2022-03-27 18:58:38,481]\u001b[0m Trial 440 finished with value: 0.7910447761194029 and parameters: {'random_state': 1, 'learning_rate': 0.0008170778138869787, 'bagging_temperature': 0.6686553500082822, 'max_depth': 7, 'random_strength': 2, 'l2_leaf_reg': 4.417475813052839e-06, 'min_child_samples': 64, 'max_bin': 150, 'od_type': 'IncToDec'}. Best is trial 194 with value: 0.8022388059701493.\u001b[0m\n"
     ]
    },
    {
     "name": "stdout",
     "output_type": "stream",
     "text": [
      "0.8796147672552167 0.7910447761194029\n"
     ]
    },
    {
     "name": "stderr",
     "output_type": "stream",
     "text": [
      "\u001b[32m[I 2022-03-27 18:58:39,275]\u001b[0m Trial 441 finished with value: 0.7910447761194029 and parameters: {'random_state': 1, 'learning_rate': 0.00019065675100968623, 'bagging_temperature': 0.06564022825216255, 'max_depth': 7, 'random_strength': 5, 'l2_leaf_reg': 3.3628831363820714e-06, 'min_child_samples': 68, 'max_bin': 145, 'od_type': 'Iter'}. Best is trial 194 with value: 0.8022388059701493.\u001b[0m\n"
     ]
    },
    {
     "name": "stdout",
     "output_type": "stream",
     "text": [
      "0.8667736757624398 0.7910447761194029\n"
     ]
    },
    {
     "name": "stderr",
     "output_type": "stream",
     "text": [
      "\u001b[32m[I 2022-03-27 18:58:40,065]\u001b[0m Trial 442 finished with value: 0.7947761194029851 and parameters: {'random_state': 1, 'learning_rate': 0.0006903828857816847, 'bagging_temperature': 0.13689735794986627, 'max_depth': 7, 'random_strength': 4, 'l2_leaf_reg': 2.7036779665004567e-06, 'min_child_samples': 57, 'max_bin': 135, 'od_type': 'IncToDec'}. Best is trial 194 with value: 0.8022388059701493.\u001b[0m\n"
     ]
    },
    {
     "name": "stdout",
     "output_type": "stream",
     "text": [
      "0.8747993579454254 0.7947761194029851\n"
     ]
    },
    {
     "name": "stderr",
     "output_type": "stream",
     "text": [
      "\u001b[32m[I 2022-03-27 18:58:40,865]\u001b[0m Trial 443 finished with value: 0.7947761194029851 and parameters: {'random_state': 1, 'learning_rate': 0.0007633754089210544, 'bagging_temperature': 0.19861945533949535, 'max_depth': 7, 'random_strength': 2, 'l2_leaf_reg': 4.762588362815694e-06, 'min_child_samples': 21, 'max_bin': 129, 'od_type': 'IncToDec'}. Best is trial 194 with value: 0.8022388059701493.\u001b[0m\n"
     ]
    },
    {
     "name": "stdout",
     "output_type": "stream",
     "text": [
      "0.8796147672552167 0.7947761194029851\n"
     ]
    },
    {
     "name": "stderr",
     "output_type": "stream",
     "text": [
      "\u001b[32m[I 2022-03-27 18:58:41,528]\u001b[0m Trial 444 finished with value: 0.7723880597014925 and parameters: {'random_state': 1, 'learning_rate': 0.0007103876704839454, 'bagging_temperature': 0.12382209912140014, 'max_depth': 7, 'random_strength': 0, 'l2_leaf_reg': 1.1890029885119956e-05, 'min_child_samples': 54, 'max_bin': 127, 'od_type': 'IncToDec'}. Best is trial 194 with value: 0.8022388059701493.\u001b[0m\n"
     ]
    },
    {
     "name": "stdout",
     "output_type": "stream",
     "text": [
      "0.9101123595505618 0.7723880597014925\n"
     ]
    },
    {
     "name": "stderr",
     "output_type": "stream",
     "text": [
      "\u001b[32m[I 2022-03-27 18:58:42,263]\u001b[0m Trial 445 finished with value: 0.7947761194029851 and parameters: {'random_state': 1, 'learning_rate': 0.0009816979512223534, 'bagging_temperature': 9.6783026873411, 'max_depth': 7, 'random_strength': 2, 'l2_leaf_reg': 1.2921154899218984e-05, 'min_child_samples': 56, 'max_bin': 128, 'od_type': 'IncToDec'}. Best is trial 194 with value: 0.8022388059701493.\u001b[0m\n"
     ]
    },
    {
     "name": "stdout",
     "output_type": "stream",
     "text": [
      "0.8828250401284109 0.7947761194029851\n"
     ]
    },
    {
     "name": "stderr",
     "output_type": "stream",
     "text": [
      "\u001b[32m[I 2022-03-27 18:58:43,063]\u001b[0m Trial 446 finished with value: 0.7873134328358209 and parameters: {'random_state': 1, 'learning_rate': 0.0005630281675625898, 'bagging_temperature': 0.10680108435577437, 'max_depth': 7, 'random_strength': 4, 'l2_leaf_reg': 2.0272265915799815e-06, 'min_child_samples': 71, 'max_bin': 138, 'od_type': 'IncToDec'}. Best is trial 194 with value: 0.8022388059701493.\u001b[0m\n"
     ]
    },
    {
     "name": "stdout",
     "output_type": "stream",
     "text": [
      "0.8731942215088283 0.7873134328358209\n"
     ]
    },
    {
     "name": "stderr",
     "output_type": "stream",
     "text": [
      "\u001b[32m[I 2022-03-27 18:58:43,867]\u001b[0m Trial 447 finished with value: 0.7910447761194029 and parameters: {'random_state': 1, 'learning_rate': 0.00046292668569022303, 'bagging_temperature': 3.0407553302546524, 'max_depth': 7, 'random_strength': 7, 'l2_leaf_reg': 1.05628927671573e-05, 'min_child_samples': 61, 'max_bin': 137, 'od_type': 'Iter'}. Best is trial 194 with value: 0.8022388059701493.\u001b[0m\n"
     ]
    },
    {
     "name": "stdout",
     "output_type": "stream",
     "text": [
      "0.8828250401284109 0.7910447761194029\n"
     ]
    },
    {
     "name": "stderr",
     "output_type": "stream",
     "text": [
      "\u001b[32m[I 2022-03-27 18:58:44,690]\u001b[0m Trial 448 finished with value: 0.7947761194029851 and parameters: {'random_state': 1, 'learning_rate': 0.0008515688286661947, 'bagging_temperature': 0.3458421431025226, 'max_depth': 7, 'random_strength': 2, 'l2_leaf_reg': 1.146702083755831e-05, 'min_child_samples': 74, 'max_bin': 143, 'od_type': 'IncToDec'}. Best is trial 194 with value: 0.8022388059701493.\u001b[0m\n"
     ]
    },
    {
     "name": "stdout",
     "output_type": "stream",
     "text": [
      "0.884430176565008 0.7947761194029851\n"
     ]
    },
    {
     "name": "stderr",
     "output_type": "stream",
     "text": [
      "\u001b[32m[I 2022-03-27 18:58:45,461]\u001b[0m Trial 449 finished with value: 0.7723880597014925 and parameters: {'random_state': 1, 'learning_rate': 0.0006035762853632723, 'bagging_temperature': 0.5451163817425548, 'max_depth': 7, 'random_strength': 11, 'l2_leaf_reg': 1.2144131223023642e-05, 'min_child_samples': 69, 'max_bin': 134, 'od_type': 'Iter'}. Best is trial 194 with value: 0.8022388059701493.\u001b[0m\n"
     ]
    },
    {
     "name": "stdout",
     "output_type": "stream",
     "text": [
      "0.8828250401284109 0.7723880597014925\n"
     ]
    },
    {
     "name": "stderr",
     "output_type": "stream",
     "text": [
      "\u001b[32m[I 2022-03-27 18:58:46,254]\u001b[0m Trial 450 finished with value: 0.7947761194029851 and parameters: {'random_state': 1, 'learning_rate': 0.00038979739574360536, 'bagging_temperature': 0.10599498311302853, 'max_depth': 7, 'random_strength': 6, 'l2_leaf_reg': 3.861172937094399e-06, 'min_child_samples': 64, 'max_bin': 175, 'od_type': 'Iter'}. Best is trial 194 with value: 0.8022388059701493.\u001b[0m\n",
      "\u001b[32m[I 2022-03-27 18:58:46,345]\u001b[0m Trial 451 finished with value: 0.7798507462686567 and parameters: {'random_state': 1, 'learning_rate': 0.040401909106721395, 'bagging_temperature': 0.11665154981979307, 'max_depth': 7, 'random_strength': 0, 'l2_leaf_reg': 1.3846212520634048e-05, 'min_child_samples': 45, 'max_bin': 131, 'od_type': 'IncToDec'}. Best is trial 194 with value: 0.8022388059701493.\u001b[0m\n"
     ]
    },
    {
     "name": "stdout",
     "output_type": "stream",
     "text": [
      "0.8747993579454254 0.7947761194029851\n",
      "0.9052969502407705 0.7798507462686567\n"
     ]
    },
    {
     "name": "stderr",
     "output_type": "stream",
     "text": [
      "\u001b[32m[I 2022-03-27 18:58:47,271]\u001b[0m Trial 452 finished with value: 0.7910447761194029 and parameters: {'random_state': 1, 'learning_rate': 0.0005613495230086486, 'bagging_temperature': 0.13944686443588913, 'max_depth': 8, 'random_strength': 2, 'l2_leaf_reg': 5.67946358495415e-06, 'min_child_samples': 65, 'max_bin': 141, 'od_type': 'Iter'}. Best is trial 194 with value: 0.8022388059701493.\u001b[0m\n"
     ]
    },
    {
     "name": "stdout",
     "output_type": "stream",
     "text": [
      "0.8812199036918138 0.7910447761194029\n"
     ]
    },
    {
     "name": "stderr",
     "output_type": "stream",
     "text": [
      "\u001b[32m[I 2022-03-27 18:58:48,051]\u001b[0m Trial 453 finished with value: 0.7798507462686567 and parameters: {'random_state': 1, 'learning_rate': 0.000668650865121753, 'bagging_temperature': 0.1826899772497402, 'max_depth': 7, 'random_strength': 7, 'l2_leaf_reg': 8.169594671118393e-06, 'min_child_samples': 55, 'max_bin': 135, 'od_type': 'Iter'}. Best is trial 194 with value: 0.8022388059701493.\u001b[0m\n"
     ]
    },
    {
     "name": "stdout",
     "output_type": "stream",
     "text": [
      "0.8892455858747994 0.7798507462686567\n"
     ]
    },
    {
     "name": "stderr",
     "output_type": "stream",
     "text": [
      "\u001b[32m[I 2022-03-27 18:58:48,731]\u001b[0m Trial 454 finished with value: 0.7761194029850746 and parameters: {'random_state': 1, 'learning_rate': 0.00032702986469508756, 'bagging_temperature': 0.24590993864074875, 'max_depth': 6, 'random_strength': 9, 'l2_leaf_reg': 9.121738799817283e-06, 'min_child_samples': 72, 'max_bin': 152, 'od_type': 'Iter'}. Best is trial 194 with value: 0.8022388059701493.\u001b[0m\n"
     ]
    },
    {
     "name": "stdout",
     "output_type": "stream",
     "text": [
      "0.8796147672552167 0.7761194029850746\n"
     ]
    },
    {
     "name": "stderr",
     "output_type": "stream",
     "text": [
      "\u001b[32m[I 2022-03-27 18:58:49,515]\u001b[0m Trial 455 finished with value: 0.7873134328358209 and parameters: {'random_state': 1, 'learning_rate': 0.00015893509545367797, 'bagging_temperature': 0.16264838442218674, 'max_depth': 7, 'random_strength': 5, 'l2_leaf_reg': 6.5376694873046355e-06, 'min_child_samples': 59, 'max_bin': 132, 'od_type': 'Iter'}. Best is trial 194 with value: 0.8022388059701493.\u001b[0m\n"
     ]
    },
    {
     "name": "stdout",
     "output_type": "stream",
     "text": [
      "0.869983948635634 0.7873134328358209\n"
     ]
    },
    {
     "name": "stderr",
     "output_type": "stream",
     "text": [
      "\u001b[32m[I 2022-03-27 18:58:50,438]\u001b[0m Trial 456 finished with value: 0.7910447761194029 and parameters: {'random_state': 1, 'learning_rate': 0.0005119296078492245, 'bagging_temperature': 0.05196434099562323, 'max_depth': 8, 'random_strength': 4, 'l2_leaf_reg': 1.3217987924318457e-05, 'min_child_samples': 48, 'max_bin': 138, 'od_type': 'Iter'}. Best is trial 194 with value: 0.8022388059701493.\u001b[0m\n"
     ]
    },
    {
     "name": "stdout",
     "output_type": "stream",
     "text": [
      "0.8747993579454254 0.7910447761194029\n"
     ]
    },
    {
     "name": "stderr",
     "output_type": "stream",
     "text": [
      "\u001b[32m[I 2022-03-27 18:58:51,224]\u001b[0m Trial 457 finished with value: 0.7947761194029851 and parameters: {'random_state': 1, 'learning_rate': 0.00040922479172596877, 'bagging_temperature': 0.14593644210096032, 'max_depth': 7, 'random_strength': 6, 'l2_leaf_reg': 1.0011781672067083e-05, 'min_child_samples': 69, 'max_bin': 148, 'od_type': 'Iter'}. Best is trial 194 with value: 0.8022388059701493.\u001b[0m\n"
     ]
    },
    {
     "name": "stdout",
     "output_type": "stream",
     "text": [
      "0.8828250401284109 0.7947761194029851\n"
     ]
    },
    {
     "name": "stderr",
     "output_type": "stream",
     "text": [
      "\u001b[32m[I 2022-03-27 18:58:52,047]\u001b[0m Trial 458 finished with value: 0.7947761194029851 and parameters: {'random_state': 1, 'learning_rate': 0.0004479088416462446, 'bagging_temperature': 1.3586577703109002, 'max_depth': 7, 'random_strength': 5, 'l2_leaf_reg': 1.3344429127128253e-05, 'min_child_samples': 61, 'max_bin': 156, 'od_type': 'Iter'}. Best is trial 194 with value: 0.8022388059701493.\u001b[0m\n"
     ]
    },
    {
     "name": "stdout",
     "output_type": "stream",
     "text": [
      "0.8731942215088283 0.7947761194029851\n"
     ]
    },
    {
     "name": "stderr",
     "output_type": "stream",
     "text": [
      "\u001b[32m[I 2022-03-27 18:58:52,641]\u001b[0m Trial 459 finished with value: 0.7723880597014925 and parameters: {'random_state': 1, 'learning_rate': 0.0008084127383691678, 'bagging_temperature': 0.12238638712295062, 'max_depth': 7, 'random_strength': 0, 'l2_leaf_reg': 2.3623147658798533e-06, 'min_child_samples': 71, 'max_bin': 133, 'od_type': 'IncToDec'}. Best is trial 194 with value: 0.8022388059701493.\u001b[0m\n"
     ]
    },
    {
     "name": "stdout",
     "output_type": "stream",
     "text": [
      "0.9085072231139647 0.7723880597014925\n"
     ]
    },
    {
     "name": "stderr",
     "output_type": "stream",
     "text": [
      "\u001b[32m[I 2022-03-27 18:58:53,312]\u001b[0m Trial 460 finished with value: 0.7873134328358209 and parameters: {'random_state': 1, 'learning_rate': 0.0011343177443650719, 'bagging_temperature': 0.0857811847760399, 'max_depth': 7, 'random_strength': 3, 'l2_leaf_reg': 1.042698349360647e-05, 'min_child_samples': 63, 'max_bin': 146, 'od_type': 'Iter'}. Best is trial 194 with value: 0.8022388059701493.\u001b[0m\n"
     ]
    },
    {
     "name": "stdout",
     "output_type": "stream",
     "text": [
      "0.8908507223113965 0.7873134328358209\n"
     ]
    },
    {
     "name": "stderr",
     "output_type": "stream",
     "text": [
      "\u001b[32m[I 2022-03-27 18:58:53,995]\u001b[0m Trial 461 finished with value: 0.7686567164179104 and parameters: {'random_state': 1, 'learning_rate': 0.0008786224075939032, 'bagging_temperature': 0.9125412046484065, 'max_depth': 6, 'random_strength': 9, 'l2_leaf_reg': 1.0981210477874256e-05, 'min_child_samples': 77, 'max_bin': 122, 'od_type': 'Iter'}. Best is trial 194 with value: 0.8022388059701493.\u001b[0m\n"
     ]
    },
    {
     "name": "stdout",
     "output_type": "stream",
     "text": [
      "0.8860353130016051 0.7686567164179104\n"
     ]
    },
    {
     "name": "stderr",
     "output_type": "stream",
     "text": [
      "\u001b[32m[I 2022-03-27 18:58:54,536]\u001b[0m Trial 462 finished with value: 0.7910447761194029 and parameters: {'random_state': 1, 'learning_rate': 0.0014429287447865894, 'bagging_temperature': 0.09167012425986765, 'max_depth': 7, 'random_strength': 2, 'l2_leaf_reg': 7.180275684465627e-06, 'min_child_samples': 53, 'max_bin': 132, 'od_type': 'IncToDec'}. Best is trial 194 with value: 0.8022388059701493.\u001b[0m\n"
     ]
    },
    {
     "name": "stdout",
     "output_type": "stream",
     "text": [
      "0.8828250401284109 0.7910447761194029\n"
     ]
    },
    {
     "name": "stderr",
     "output_type": "stream",
     "text": [
      "\u001b[32m[I 2022-03-27 18:58:55,326]\u001b[0m Trial 463 finished with value: 0.7947761194029851 and parameters: {'random_state': 1, 'learning_rate': 0.00022361867656647014, 'bagging_temperature': 0.07476964696809701, 'max_depth': 7, 'random_strength': 6, 'l2_leaf_reg': 8.498392747874813e-06, 'min_child_samples': 50, 'max_bin': 149, 'od_type': 'Iter'}. Best is trial 194 with value: 0.8022388059701493.\u001b[0m\n"
     ]
    },
    {
     "name": "stdout",
     "output_type": "stream",
     "text": [
      "0.8683788121990369 0.7947761194029851\n"
     ]
    },
    {
     "name": "stderr",
     "output_type": "stream",
     "text": [
      "\u001b[32m[I 2022-03-27 18:58:56,103]\u001b[0m Trial 464 finished with value: 0.7835820895522388 and parameters: {'random_state': 1, 'learning_rate': 0.00025664425183101, 'bagging_temperature': 0.07465210436321172, 'max_depth': 7, 'random_strength': 4, 'l2_leaf_reg': 9.778932134120496e-06, 'min_child_samples': 66, 'max_bin': 144, 'od_type': 'Iter'}. Best is trial 194 with value: 0.8022388059701493.\u001b[0m\n",
      "\u001b[32m[I 2022-03-27 18:58:56,229]\u001b[0m Trial 465 finished with value: 0.7798507462686567 and parameters: {'random_state': 1, 'learning_rate': 0.02731817621630426, 'bagging_temperature': 0.09749657999974838, 'max_depth': 6, 'random_strength': 10, 'l2_leaf_reg': 1.12594379215497e-05, 'min_child_samples': 66, 'max_bin': 119, 'od_type': 'Iter'}. Best is trial 194 with value: 0.8022388059701493.\u001b[0m\n"
     ]
    },
    {
     "name": "stdout",
     "output_type": "stream",
     "text": [
      "0.8635634028892456 0.7835820895522388\n",
      "0.8796147672552167 0.7798507462686567\n"
     ]
    },
    {
     "name": "stderr",
     "output_type": "stream",
     "text": [
      "\u001b[32m[I 2022-03-27 18:58:57,024]\u001b[0m Trial 466 finished with value: 0.7798507462686567 and parameters: {'random_state': 1, 'learning_rate': 0.0002581290597513784, 'bagging_temperature': 0.7567201272790243, 'max_depth': 7, 'random_strength': 8, 'l2_leaf_reg': 4.129409629621044e-06, 'min_child_samples': 69, 'max_bin': 128, 'od_type': 'Iter'}. Best is trial 194 with value: 0.8022388059701493.\u001b[0m\n"
     ]
    },
    {
     "name": "stdout",
     "output_type": "stream",
     "text": [
      "0.884430176565008 0.7798507462686567\n"
     ]
    },
    {
     "name": "stderr",
     "output_type": "stream",
     "text": [
      "\u001b[32m[I 2022-03-27 18:58:57,808]\u001b[0m Trial 467 finished with value: 0.7947761194029851 and parameters: {'random_state': 1, 'learning_rate': 0.000286999897976305, 'bagging_temperature': 2.080528616712356, 'max_depth': 7, 'random_strength': 2, 'l2_leaf_reg': 5.675311637648472e-06, 'min_child_samples': 58, 'max_bin': 138, 'od_type': 'Iter'}. Best is trial 194 with value: 0.8022388059701493.\u001b[0m\n"
     ]
    },
    {
     "name": "stdout",
     "output_type": "stream",
     "text": [
      "0.8635634028892456 0.7947761194029851\n"
     ]
    },
    {
     "name": "stderr",
     "output_type": "stream",
     "text": [
      "\u001b[32m[I 2022-03-27 18:58:58,726]\u001b[0m Trial 468 finished with value: 0.7761194029850746 and parameters: {'random_state': 1, 'learning_rate': 0.0003505062439372161, 'bagging_temperature': 0.4089407970692344, 'max_depth': 8, 'random_strength': 8, 'l2_leaf_reg': 1.2493917118943349e-05, 'min_child_samples': 71, 'max_bin': 126, 'od_type': 'IncToDec'}. Best is trial 194 with value: 0.8022388059701493.\u001b[0m\n"
     ]
    },
    {
     "name": "stdout",
     "output_type": "stream",
     "text": [
      "0.8924558587479936 0.7761194029850746\n"
     ]
    },
    {
     "name": "stderr",
     "output_type": "stream",
     "text": [
      "\u001b[32m[I 2022-03-27 18:58:59,417]\u001b[0m Trial 469 finished with value: 0.7910447761194029 and parameters: {'random_state': 1, 'learning_rate': 0.0006972866897913808, 'bagging_temperature': 0.6074360865997949, 'max_depth': 6, 'random_strength': 4, 'l2_leaf_reg': 1.1861321028918954e-05, 'min_child_samples': 68, 'max_bin': 141, 'od_type': 'Iter'}. Best is trial 194 with value: 0.8022388059701493.\u001b[0m\n"
     ]
    },
    {
     "name": "stdout",
     "output_type": "stream",
     "text": [
      "0.869983948635634 0.7910447761194029\n"
     ]
    },
    {
     "name": "stderr",
     "output_type": "stream",
     "text": [
      "\u001b[32m[I 2022-03-27 18:59:00,204]\u001b[0m Trial 470 finished with value: 0.7761194029850746 and parameters: {'random_state': 1, 'learning_rate': 0.0001012061351723774, 'bagging_temperature': 0.09553926620270811, 'max_depth': 7, 'random_strength': 12, 'l2_leaf_reg': 1.631598252464836e-05, 'min_child_samples': 74, 'max_bin': 130, 'od_type': 'Iter'}. Best is trial 194 with value: 0.8022388059701493.\u001b[0m\n"
     ]
    },
    {
     "name": "stdout",
     "output_type": "stream",
     "text": [
      "0.8812199036918138 0.7761194029850746\n"
     ]
    },
    {
     "name": "stderr",
     "output_type": "stream",
     "text": [
      "\u001b[32m[I 2022-03-27 18:59:00,880]\u001b[0m Trial 471 finished with value: 0.7835820895522388 and parameters: {'random_state': 1, 'learning_rate': 0.000616102769098645, 'bagging_temperature': 0.22255157544912857, 'max_depth': 5, 'random_strength': 0, 'l2_leaf_reg': 1.0774647623781707e-05, 'min_child_samples': 60, 'max_bin': 141, 'od_type': 'Iter'}. Best is trial 194 with value: 0.8022388059701493.\u001b[0m\n"
     ]
    },
    {
     "name": "stdout",
     "output_type": "stream",
     "text": [
      "0.884430176565008 0.7835820895522388\n"
     ]
    },
    {
     "name": "stderr",
     "output_type": "stream",
     "text": [
      "\u001b[32m[I 2022-03-27 18:59:01,692]\u001b[0m Trial 472 finished with value: 0.7947761194029851 and parameters: {'random_state': 1, 'learning_rate': 0.0007884900448153761, 'bagging_temperature': 0.12366666931506731, 'max_depth': 7, 'random_strength': 2, 'l2_leaf_reg': 1.2600043695072013e-05, 'min_child_samples': 69, 'max_bin': 137, 'od_type': 'Iter'}. Best is trial 194 with value: 0.8022388059701493.\u001b[0m\n"
     ]
    },
    {
     "name": "stdout",
     "output_type": "stream",
     "text": [
      "0.8796147672552167 0.7947761194029851\n"
     ]
    },
    {
     "name": "stderr",
     "output_type": "stream",
     "text": [
      "\u001b[32m[I 2022-03-27 18:59:02,387]\u001b[0m Trial 473 finished with value: 0.7761194029850746 and parameters: {'random_state': 1, 'learning_rate': 0.0010269785269562861, 'bagging_temperature': 1.0604641543757525, 'max_depth': 6, 'random_strength': 6, 'l2_leaf_reg': 5.198131064478675e-06, 'min_child_samples': 41, 'max_bin': 146, 'od_type': 'Iter'}. Best is trial 194 with value: 0.8022388059701493.\u001b[0m\n"
     ]
    },
    {
     "name": "stdout",
     "output_type": "stream",
     "text": [
      "0.884430176565008 0.7761194029850746\n"
     ]
    },
    {
     "name": "stderr",
     "output_type": "stream",
     "text": [
      "\u001b[32m[I 2022-03-27 18:59:03,059]\u001b[0m Trial 474 finished with value: 0.7910447761194029 and parameters: {'random_state': 1, 'learning_rate': 0.0006474015434947037, 'bagging_temperature': 0.493113867167307, 'max_depth': 6, 'random_strength': 4, 'l2_leaf_reg': 1.2879655382301443e-05, 'min_child_samples': 80, 'max_bin': 135, 'od_type': 'Iter'}. Best is trial 194 with value: 0.8022388059701493.\u001b[0m\n"
     ]
    },
    {
     "name": "stdout",
     "output_type": "stream",
     "text": [
      "0.8635634028892456 0.7910447761194029\n",
      "0.8956661316211878 0.7723880597014925\n"
     ]
    },
    {
     "name": "stderr",
     "output_type": "stream",
     "text": [
      "\u001b[32m[I 2022-03-27 18:59:03,249]\u001b[0m Trial 475 finished with value: 0.7723880597014925 and parameters: {'random_state': 1, 'learning_rate': 0.010576438443236028, 'bagging_temperature': 1.3376973115904205, 'max_depth': 7, 'random_strength': 10, 'l2_leaf_reg': 1.357885522155434e-05, 'min_child_samples': 67, 'max_bin': 129, 'od_type': 'IncToDec'}. Best is trial 194 with value: 0.8022388059701493.\u001b[0m\n",
      "\u001b[32m[I 2022-03-27 18:59:03,916]\u001b[0m Trial 476 finished with value: 0.7649253731343284 and parameters: {'random_state': 1, 'learning_rate': 0.0005567222137393521, 'bagging_temperature': 0.7702355432140199, 'max_depth': 6, 'random_strength': 36, 'l2_leaf_reg': 1.1665798486585897e-05, 'min_child_samples': 58, 'max_bin': 140, 'od_type': 'Iter'}. Best is trial 194 with value: 0.8022388059701493.\u001b[0m\n"
     ]
    },
    {
     "name": "stdout",
     "output_type": "stream",
     "text": [
      "0.869983948635634 0.7649253731343284\n"
     ]
    },
    {
     "name": "stderr",
     "output_type": "stream",
     "text": [
      "\u001b[32m[I 2022-03-27 18:59:04,711]\u001b[0m Trial 477 finished with value: 0.7835820895522388 and parameters: {'random_state': 1, 'learning_rate': 0.000863562196548856, 'bagging_temperature': 0.0833876022849418, 'max_depth': 7, 'random_strength': 67, 'l2_leaf_reg': 1.1294960335638859e-05, 'min_child_samples': 72, 'max_bin': 143, 'od_type': 'Iter'}. Best is trial 194 with value: 0.8022388059701493.\u001b[0m\n"
     ]
    },
    {
     "name": "stdout",
     "output_type": "stream",
     "text": [
      "0.8812199036918138 0.7835820895522388\n"
     ]
    },
    {
     "name": "stderr",
     "output_type": "stream",
     "text": [
      "\u001b[32m[I 2022-03-27 18:59:05,383]\u001b[0m Trial 478 finished with value: 0.7947761194029851 and parameters: {'random_state': 1, 'learning_rate': 0.0004871741432967197, 'bagging_temperature': 0.8978620639957088, 'max_depth': 6, 'random_strength': 7, 'l2_leaf_reg': 9.449953873428782e-06, 'min_child_samples': 62, 'max_bin': 142, 'od_type': 'Iter'}. Best is trial 194 with value: 0.8022388059701493.\u001b[0m\n"
     ]
    },
    {
     "name": "stdout",
     "output_type": "stream",
     "text": [
      "0.8764044943820225 0.7947761194029851\n"
     ]
    },
    {
     "name": "stderr",
     "output_type": "stream",
     "text": [
      "\u001b[32m[I 2022-03-27 18:59:06,198]\u001b[0m Trial 479 finished with value: 0.7873134328358209 and parameters: {'random_state': 1, 'learning_rate': 0.0007247036541416603, 'bagging_temperature': 0.16276611657879306, 'max_depth': 7, 'random_strength': 4, 'l2_leaf_reg': 1.1936889308142644e-05, 'min_child_samples': 64, 'max_bin': 136, 'od_type': 'Iter'}. Best is trial 194 with value: 0.8022388059701493.\u001b[0m\n"
     ]
    },
    {
     "name": "stdout",
     "output_type": "stream",
     "text": [
      "0.884430176565008 0.7873134328358209\n"
     ]
    },
    {
     "name": "stderr",
     "output_type": "stream",
     "text": [
      "\u001b[32m[I 2022-03-27 18:59:06,991]\u001b[0m Trial 480 finished with value: 0.7985074626865671 and parameters: {'random_state': 1, 'learning_rate': 0.0006935216206179545, 'bagging_temperature': 0.15505250549551453, 'max_depth': 7, 'random_strength': 2, 'l2_leaf_reg': 1.1764015476786039e-05, 'min_child_samples': 56, 'max_bin': 135, 'od_type': 'Iter'}. Best is trial 194 with value: 0.8022388059701493.\u001b[0m\n"
     ]
    },
    {
     "name": "stdout",
     "output_type": "stream",
     "text": [
      "0.8764044943820225 0.7985074626865671\n"
     ]
    },
    {
     "name": "stderr",
     "output_type": "stream",
     "text": [
      "\u001b[32m[I 2022-03-27 18:59:07,827]\u001b[0m Trial 481 finished with value: 0.7723880597014925 and parameters: {'random_state': 1, 'learning_rate': 0.0005826710908708051, 'bagging_temperature': 0.1373544037935589, 'max_depth': 7, 'random_strength': 0, 'l2_leaf_reg': 1.1211336221471364e-05, 'min_child_samples': 57, 'max_bin': 152, 'od_type': 'IncToDec'}. Best is trial 194 with value: 0.8022388059701493.\u001b[0m\n"
     ]
    },
    {
     "name": "stdout",
     "output_type": "stream",
     "text": [
      "0.9101123595505618 0.7723880597014925\n"
     ]
    },
    {
     "name": "stderr",
     "output_type": "stream",
     "text": [
      "\u001b[32m[I 2022-03-27 18:59:08,623]\u001b[0m Trial 482 finished with value: 0.7910447761194029 and parameters: {'random_state': 1, 'learning_rate': 0.0007320656667626938, 'bagging_temperature': 0.14833435037501413, 'max_depth': 7, 'random_strength': 2, 'l2_leaf_reg': 1.4246346729579327e-05, 'min_child_samples': 55, 'max_bin': 135, 'od_type': 'Iter'}. Best is trial 194 with value: 0.8022388059701493.\u001b[0m\n"
     ]
    },
    {
     "name": "stdout",
     "output_type": "stream",
     "text": [
      "0.8780096308186196 0.7910447761194029\n"
     ]
    },
    {
     "name": "stderr",
     "output_type": "stream",
     "text": [
      "\u001b[32m[I 2022-03-27 18:59:09,397]\u001b[0m Trial 483 finished with value: 0.7835820895522388 and parameters: {'random_state': 1, 'learning_rate': 0.0009963883682693184, 'bagging_temperature': 0.20786998175267124, 'max_depth': 7, 'random_strength': 2, 'l2_leaf_reg': 1.2243687637715513e-05, 'min_child_samples': 53, 'max_bin': 133, 'od_type': 'Iter'}. Best is trial 194 with value: 0.8022388059701493.\u001b[0m\n",
      "\u001b[32m[I 2022-03-27 18:59:09,494]\u001b[0m Trial 484 finished with value: 0.7798507462686567 and parameters: {'random_state': 1, 'learning_rate': 0.05911204757875813, 'bagging_temperature': 1.2249807932118053, 'max_depth': 8, 'random_strength': 6, 'l2_leaf_reg': 1.7283082463594954e-05, 'min_child_samples': 74, 'max_bin': 146, 'od_type': 'IncToDec'}. Best is trial 194 with value: 0.8022388059701493.\u001b[0m\n"
     ]
    },
    {
     "name": "stdout",
     "output_type": "stream",
     "text": [
      "0.8860353130016051 0.7835820895522388\n",
      "0.8764044943820225 0.7798507462686567\n"
     ]
    },
    {
     "name": "stderr",
     "output_type": "stream",
     "text": [
      "\u001b[32m[I 2022-03-27 18:59:10,301]\u001b[0m Trial 485 finished with value: 0.7835820895522388 and parameters: {'random_state': 1, 'learning_rate': 0.000198757231586312, 'bagging_temperature': 0.03186924966123181, 'max_depth': 7, 'random_strength': 4, 'l2_leaf_reg': 1.3380424984380897e-05, 'min_child_samples': 60, 'max_bin': 125, 'od_type': 'Iter'}. Best is trial 194 with value: 0.8022388059701493.\u001b[0m\n"
     ]
    },
    {
     "name": "stdout",
     "output_type": "stream",
     "text": [
      "0.8651685393258427 0.7835820895522388\n"
     ]
    },
    {
     "name": "stderr",
     "output_type": "stream",
     "text": [
      "\u001b[32m[I 2022-03-27 18:59:10,988]\u001b[0m Trial 486 finished with value: 0.7910447761194029 and parameters: {'random_state': 1, 'learning_rate': 0.00040713047134910093, 'bagging_temperature': 0.8520794542420891, 'max_depth': 6, 'random_strength': 5, 'l2_leaf_reg': 1.2678236932107815e-05, 'min_child_samples': 42, 'max_bin': 139, 'od_type': 'Iter'}. Best is trial 194 with value: 0.8022388059701493.\u001b[0m\n"
     ]
    },
    {
     "name": "stdout",
     "output_type": "stream",
     "text": [
      "0.8603531300160514 0.7910447761194029\n"
     ]
    },
    {
     "name": "stderr",
     "output_type": "stream",
     "text": [
      "\u001b[32m[I 2022-03-27 18:59:11,656]\u001b[0m Trial 487 finished with value: 0.7723880597014925 and parameters: {'random_state': 1, 'learning_rate': 0.0004968594808949807, 'bagging_temperature': 0.26811712540704796, 'max_depth': 6, 'random_strength': 8, 'l2_leaf_reg': 1.2561020595181251e-05, 'min_child_samples': 70, 'max_bin': 131, 'od_type': 'Iter'}. Best is trial 194 with value: 0.8022388059701493.\u001b[0m\n"
     ]
    },
    {
     "name": "stdout",
     "output_type": "stream",
     "text": [
      "0.8780096308186196 0.7723880597014925\n"
     ]
    },
    {
     "name": "stderr",
     "output_type": "stream",
     "text": [
      "\u001b[32m[I 2022-03-27 18:59:12,437]\u001b[0m Trial 488 finished with value: 0.7611940298507462 and parameters: {'random_state': 1, 'learning_rate': 0.00047890513821679067, 'bagging_temperature': 0.05894647221126807, 'max_depth': 7, 'random_strength': 52, 'l2_leaf_reg': 1.0258179960303087e-05, 'min_child_samples': 56, 'max_bin': 127, 'od_type': 'Iter'}. Best is trial 194 with value: 0.8022388059701493.\u001b[0m\n"
     ]
    },
    {
     "name": "stdout",
     "output_type": "stream",
     "text": [
      "0.8764044943820225 0.7611940298507462\n"
     ]
    },
    {
     "name": "stderr",
     "output_type": "stream",
     "text": [
      "\u001b[32m[I 2022-03-27 18:59:13,226]\u001b[0m Trial 489 finished with value: 0.7723880597014925 and parameters: {'random_state': 1, 'learning_rate': 0.0005604739997796552, 'bagging_temperature': 0.586368333556902, 'max_depth': 7, 'random_strength': 24, 'l2_leaf_reg': 1.0870987364395672e-05, 'min_child_samples': 73, 'max_bin': 144, 'od_type': 'Iter'}. Best is trial 194 with value: 0.8022388059701493.\u001b[0m\n"
     ]
    },
    {
     "name": "stdout",
     "output_type": "stream",
     "text": [
      "0.884430176565008 0.7723880597014925\n"
     ]
    },
    {
     "name": "stderr",
     "output_type": "stream",
     "text": [
      "\u001b[32m[I 2022-03-27 18:59:14,019]\u001b[0m Trial 490 finished with value: 0.7798507462686567 and parameters: {'random_state': 1, 'learning_rate': 0.0005867749070781539, 'bagging_temperature': 0.09986876465695645, 'max_depth': 7, 'random_strength': 10, 'l2_leaf_reg': 8.978222655520179e-06, 'min_child_samples': 58, 'max_bin': 139, 'od_type': 'IncToDec'}. Best is trial 194 with value: 0.8022388059701493.\u001b[0m\n"
     ]
    },
    {
     "name": "stdout",
     "output_type": "stream",
     "text": [
      "0.8828250401284109 0.7798507462686567\n"
     ]
    },
    {
     "name": "stderr",
     "output_type": "stream",
     "text": [
      "\u001b[32m[I 2022-03-27 18:59:14,822]\u001b[0m Trial 491 finished with value: 0.7798507462686567 and parameters: {'random_state': 1, 'learning_rate': 0.00020716676657433035, 'bagging_temperature': 0.06524482109121121, 'max_depth': 7, 'random_strength': 8, 'l2_leaf_reg': 3.529496249230193e-06, 'min_child_samples': 71, 'max_bin': 121, 'od_type': 'Iter'}. Best is trial 194 with value: 0.8022388059701493.\u001b[0m\n"
     ]
    },
    {
     "name": "stdout",
     "output_type": "stream",
     "text": [
      "0.8828250401284109 0.7798507462686567\n"
     ]
    },
    {
     "name": "stderr",
     "output_type": "stream",
     "text": [
      "\u001b[32m[I 2022-03-27 18:59:15,604]\u001b[0m Trial 492 finished with value: 0.7761194029850746 and parameters: {'random_state': 1, 'learning_rate': 0.00031617367770192994, 'bagging_temperature': 0.1206426131817186, 'max_depth': 7, 'random_strength': 13, 'l2_leaf_reg': 1.3193355398200595e-05, 'min_child_samples': 50, 'max_bin': 133, 'od_type': 'Iter'}. Best is trial 194 with value: 0.8022388059701493.\u001b[0m\n"
     ]
    },
    {
     "name": "stdout",
     "output_type": "stream",
     "text": [
      "0.884430176565008 0.7761194029850746\n"
     ]
    },
    {
     "name": "stderr",
     "output_type": "stream",
     "text": [
      "\u001b[32m[I 2022-03-27 18:59:16,217]\u001b[0m Trial 493 finished with value: 0.7723880597014925 and parameters: {'random_state': 1, 'learning_rate': 0.000846898901278684, 'bagging_temperature': 0.7042042854521675, 'max_depth': 6, 'random_strength': 0, 'l2_leaf_reg': 1.3696058272432517e-05, 'min_child_samples': 66, 'max_bin': 137, 'od_type': 'Iter'}. Best is trial 194 with value: 0.8022388059701493.\u001b[0m\n"
     ]
    },
    {
     "name": "stdout",
     "output_type": "stream",
     "text": [
      "0.8972712680577849 0.7723880597014925\n"
     ]
    },
    {
     "name": "stderr",
     "output_type": "stream",
     "text": [
      "\u001b[32m[I 2022-03-27 18:59:16,951]\u001b[0m Trial 494 finished with value: 0.7910447761194029 and parameters: {'random_state': 1, 'learning_rate': 0.0006812513302859014, 'bagging_temperature': 0.1869453634174528, 'max_depth': 6, 'random_strength': 4, 'l2_leaf_reg': 1.1765972111794018e-05, 'min_child_samples': 54, 'max_bin': 136, 'od_type': 'Iter'}. Best is trial 194 with value: 0.8022388059701493.\u001b[0m\n"
     ]
    },
    {
     "name": "stdout",
     "output_type": "stream",
     "text": [
      "0.869983948635634 0.7910447761194029\n"
     ]
    },
    {
     "name": "stderr",
     "output_type": "stream",
     "text": [
      "\u001b[32m[I 2022-03-27 18:59:17,738]\u001b[0m Trial 495 finished with value: 0.7798507462686567 and parameters: {'random_state': 1, 'learning_rate': 0.0009601847559851107, 'bagging_temperature': 1.6559764468749396, 'max_depth': 7, 'random_strength': 6, 'l2_leaf_reg': 8.142426560701479e-06, 'min_child_samples': 62, 'max_bin': 143, 'od_type': 'IncToDec'}. Best is trial 194 with value: 0.8022388059701493.\u001b[0m\n"
     ]
    },
    {
     "name": "stdout",
     "output_type": "stream",
     "text": [
      "0.8908507223113965 0.7798507462686567\n"
     ]
    },
    {
     "name": "stderr",
     "output_type": "stream",
     "text": [
      "\u001b[32m[I 2022-03-27 18:59:18,348]\u001b[0m Trial 496 finished with value: 0.7910447761194029 and parameters: {'random_state': 1, 'learning_rate': 0.0005189898461272666, 'bagging_temperature': 0.1739208287352346, 'max_depth': 5, 'random_strength': 6, 'l2_leaf_reg': 1.068934286915828e-05, 'min_child_samples': 67, 'max_bin': 131, 'od_type': 'Iter'}. Best is trial 194 with value: 0.8022388059701493.\u001b[0m\n"
     ]
    },
    {
     "name": "stdout",
     "output_type": "stream",
     "text": [
      "0.8635634028892456 0.7910447761194029\n"
     ]
    },
    {
     "name": "stderr",
     "output_type": "stream",
     "text": [
      "\u001b[32m[I 2022-03-27 18:59:18,791]\u001b[0m Trial 497 finished with value: 0.7947761194029851 and parameters: {'random_state': 1, 'learning_rate': 0.003186915933680003, 'bagging_temperature': 0.07618235455660413, 'max_depth': 3, 'random_strength': 2, 'l2_leaf_reg': 6.548316385006592e-06, 'min_child_samples': 60, 'max_bin': 149, 'od_type': 'Iter'}. Best is trial 194 with value: 0.8022388059701493.\u001b[0m\n"
     ]
    },
    {
     "name": "stdout",
     "output_type": "stream",
     "text": [
      "0.8571428571428571 0.7947761194029851\n"
     ]
    },
    {
     "name": "stderr",
     "output_type": "stream",
     "text": [
      "\u001b[32m[I 2022-03-27 18:59:19,473]\u001b[0m Trial 498 finished with value: 0.7873134328358209 and parameters: {'random_state': 1, 'learning_rate': 0.001228441960638885, 'bagging_temperature': 0.11903742719079842, 'max_depth': 7, 'random_strength': 2, 'l2_leaf_reg': 9.79658161649502e-06, 'min_child_samples': 78, 'max_bin': 147, 'od_type': 'Iter'}. Best is trial 194 with value: 0.8022388059701493.\u001b[0m\n"
     ]
    },
    {
     "name": "stdout",
     "output_type": "stream",
     "text": [
      "0.8908507223113965 0.7873134328358209\n"
     ]
    },
    {
     "name": "stderr",
     "output_type": "stream",
     "text": [
      "\u001b[32m[I 2022-03-27 18:59:20,404]\u001b[0m Trial 499 finished with value: 0.7873134328358209 and parameters: {'random_state': 1, 'learning_rate': 0.000646754207269184, 'bagging_temperature': 0.13790634878881858, 'max_depth': 8, 'random_strength': 4, 'l2_leaf_reg': 1.1845811254610167e-05, 'min_child_samples': 64, 'max_bin': 139, 'od_type': 'Iter'}. Best is trial 194 with value: 0.8022388059701493.\u001b[0m\n"
     ]
    },
    {
     "name": "stdout",
     "output_type": "stream",
     "text": [
      "0.8828250401284109 0.7873134328358209\n",
      "0.8022388059701493\n",
      "{'random_state': 1, 'learning_rate': 0.0007046467385886047, 'bagging_temperature': 0.12200640988518986, 'max_depth': 7, 'random_strength': 1, 'l2_leaf_reg': 1.2861408231357856e-05, 'min_child_samples': 58, 'max_bin': 143, 'od_type': 'Iter'}\n"
     ]
    }
   ],
   "source": [
    "import optuna\n",
    "from optuna.samplers import TPESampler\n",
    "from catboost import CatBoostClassifier\n",
    "from sklearn.model_selection import train_test_split\n",
    "\n",
    "TRIALS = 500\n",
    "TIMEOUT = 1800\n",
    "\n",
    "sampler_ = TPESampler(seed=1)\n",
    "\n",
    "study_ = optuna.create_study(\n",
    "    direction='maximize',\n",
    "    sampler=sampler_,\n",
    ")\n",
    "\n",
    "study_.optimize(\n",
    "    objective_, \n",
    "    n_trials=TRIALS, \n",
    "    timeout=TIMEOUT, \n",
    "    n_jobs=1, \n",
    "    callbacks=None,\n",
    "    # show_progress_bar=True,\n",
    "    )\n",
    "\n",
    "print(study_.best_value)\n",
    "print(study_.best_trial.params)"
   ]
  },
  {
   "cell_type": "code",
   "execution_count": 11,
   "id": "48717ff2-59cc-4d2a-9879-0b4ea0e42a1f",
   "metadata": {},
   "outputs": [
    {
     "name": "stdout",
     "output_type": "stream",
     "text": [
      "0:\tlearn: 0.6924198\ttest: 0.6925170\tbest: 0.6925170 (0)\ttotal: 872us\tremaining: 26.2s\n",
      "1000:\tlearn: 0.3570328\ttest: 0.4719808\tbest: 0.4719808 (1000)\ttotal: 639ms\tremaining: 18.5s\n",
      "Stopped by overfitting detector  (15 iterations wait)\n",
      "\n",
      "bestTest = 0.4701055037\n",
      "bestIteration = 1116\n",
      "\n",
      "Shrink model to first 1117 iterations.\n"
     ]
    },
    {
     "data": {
      "text/plain": [
       "<catboost.core.CatBoostClassifier at 0x25acc8b10d0>"
      ]
     },
     "execution_count": 11,
     "metadata": {},
     "output_type": "execute_result"
    }
   ],
   "source": [
    "from catboost import CatBoostClassifier\n",
    "\n",
    "best_params = study_.best_params\n",
    "\n",
    "X_tr_t, X_va_t, y_tr_t, y_va_t = train_test_split(X_train, y_train, test_size=0.3, random_state=1)\n",
    "model_tmp = CatBoostClassifier(**best_params, n_estimators=30000, verbose=1000)\n",
    "model_tmp.fit(X_tr_t, y_tr_t, eval_set=[(X_va_t, y_va_t)], early_stopping_rounds=15)"
   ]
  },
  {
   "cell_type": "code",
   "execution_count": 12,
   "id": "420622a5-11ff-4d64-9a6a-f0fa51d3ab43",
   "metadata": {},
   "outputs": [
    {
     "name": "stdout",
     "output_type": "stream",
     "text": [
      "0:\tlearn: 0.6924927\ttotal: 17.3ms\tremaining: 19.3s\n",
      "1000:\tlearn: 0.3966805\ttotal: 717ms\tremaining: 82.3ms\n",
      "1115:\tlearn: 0.3843078\ttotal: 796ms\tremaining: 0us\n"
     ]
    }
   ],
   "source": [
    "model_final = CatBoostClassifier(**best_params, \n",
    "                                 n_estimators=model_tmp.get_best_iteration(), \n",
    "                                 verbose=1000)\n",
    "model_final.fit(X_train, y_train)\n",
    "y_pred = model_final.predict(X_test)"
   ]
  },
  {
   "cell_type": "code",
   "execution_count": 22,
   "id": "1a6a0f67-cdbd-4fee-8a51-8d530a5e5532",
   "metadata": {},
   "outputs": [],
   "source": [
    "df_sub = pd.read_csv(DIR_DATASET + NAME_PROJECT + '/gender_submission.csv', index_col='PassengerId')\n",
    "df_sub[target_] = y_pred.astype(int)"
   ]
  },
  {
   "cell_type": "code",
   "execution_count": 26,
   "id": "9532f4dd-53ea-40d2-bb39-eff83799f8d1",
   "metadata": {},
   "outputs": [],
   "source": [
    "import datetime\n",
    "now = datetime.datetime.now()\n",
    "str_datetime = now.strftime(\"%y%m%d_%H%M%S\")\n",
    "df_sub.to_csv(DIR_DATASET + 'submission-' + NAME_PROJECT + '-'+str_datetime+'.csv', index = 1)"
   ]
  }
 ],
 "metadata": {
  "kernelspec": {
   "display_name": "Python 3 (ipykernel)",
   "language": "python",
   "name": "python3"
  },
  "language_info": {
   "codemirror_mode": {
    "name": "ipython",
    "version": 3
   },
   "file_extension": ".py",
   "mimetype": "text/x-python",
   "name": "python",
   "nbconvert_exporter": "python",
   "pygments_lexer": "ipython3",
   "version": "3.8.12"
  },
  "widgets": {
   "application/vnd.jupyter.widget-state+json": {
    "state": {},
    "version_major": 2,
    "version_minor": 0
   }
  }
 },
 "nbformat": 4,
 "nbformat_minor": 5
}
