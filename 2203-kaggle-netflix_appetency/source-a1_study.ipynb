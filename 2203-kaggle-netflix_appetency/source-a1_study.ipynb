{
 "cells": [
  {
   "cell_type": "code",
   "execution_count": 1,
   "id": "6046e69c-8bb4-4a42-ab45-293bfa665aea",
   "metadata": {},
   "outputs": [],
   "source": [
    "# Notebook 출력설정\n",
    "# 주요 라이브러리 임포트\n",
    "\n",
    "import warnings\n",
    "warnings.filterwarnings('ignore')\n",
    "\n",
    "import numpy as np\n",
    "import pandas as pd\n",
    "pd.set_option('display.max_colwidth', -1)\n",
    "pd.set_option('display.max_rows', 2000)\n",
    "pd.set_option('display.max_columns',2000)\n",
    "pd.set_option('display.width', 2000)\n",
    "\n",
    "%matplotlib inline\n",
    "import matplotlib.pylab as plt\n",
    "plt.rcParams[\"figure.figsize\"] = (15,5)\n",
    "plt.rcParams['lines.linewidth'] = 1\n",
    "plt.rcParams['axes.grid'] = True\n",
    "import seaborn as sns"
   ]
  },
  {
   "cell_type": "code",
   "execution_count": 2,
   "id": "64033cc7-aeac-4eb2-85cd-e8b68a33a15c",
   "metadata": {},
   "outputs": [],
   "source": [
    "# 원본 데이터셋 로드\n",
    "DIR_DATASET = \"C:/Users/0stix/Datasets/\"\n",
    "NAME_PROJECT = \"2203-kaggle-netflix_appetency\""
   ]
  },
  {
   "cell_type": "code",
   "execution_count": 4,
   "id": "ed8f8597-c751-4617-bcbb-0cd5d42aa75b",
   "metadata": {},
   "outputs": [],
   "source": [
    "df_train = pd.read_csv(DIR_DATASET + NAME_PROJECT + '/train.csv')\n",
    "df_test = pd.read_csv(DIR_DATASET + NAME_PROJECT + '/test.csv')\n",
    "df_sub = pd.read_csv(DIR_DATASET + NAME_PROJECT + '/sample_submission.csv')"
   ]
  },
  {
   "cell_type": "code",
   "execution_count": 5,
   "id": "d37687dc-2987-44b1-847b-589f338114dc",
   "metadata": {},
   "outputs": [],
   "source": [
    "def get_missings(df):\n",
    "    labels, values = list(), list()\n",
    "    if df.isna().sum().sum()>0:\n",
    "        for column in df.columns:\n",
    "            if df[column].isnull().sum():\n",
    "                labels.append(column)\n",
    "                values.append((df[column].isnull().sum() / len(df[column]))*100)\n",
    "        missings=pd.DataFrame({'Feature':labels,'MissingPercent':values }).sort_values(by='MissingPercent',ascending=False)\n",
    "        return missings\n",
    "    else:\n",
    "        return False"
   ]
  },
  {
   "cell_type": "code",
   "execution_count": 6,
   "id": "cdf5db7e-9445-4084-9478-2598ceedfffc",
   "metadata": {},
   "outputs": [
    {
     "data": {
      "text/plain": [
       "0        11/10/2017\n",
       "1        25/03/2015\n",
       "2        27/01/2015\n",
       "3        05/02/2014\n",
       "4        20/07/2009\n",
       "            ...    \n",
       "69995    27/09/2010\n",
       "69996    19/09/2016\n",
       "69997    14/09/2005\n",
       "69998    29/11/2017\n",
       "69999    23/01/2018\n",
       "Name: feature_191, Length: 70000, dtype: object"
      ]
     },
     "execution_count": 6,
     "metadata": {},
     "output_type": "execute_result"
    }
   ],
   "source": [
    "df_train['feature_191']"
   ]
  },
  {
   "cell_type": "code",
   "execution_count": null,
   "id": "24ed638e-74da-466f-92be-f8db3189c264",
   "metadata": {},
   "outputs": [],
   "source": []
  }
 ],
 "metadata": {
  "kernelspec": {
   "display_name": "Python 3 (ipykernel)",
   "language": "python",
   "name": "python3"
  },
  "language_info": {
   "codemirror_mode": {
    "name": "ipython",
    "version": 3
   },
   "file_extension": ".py",
   "mimetype": "text/x-python",
   "name": "python",
   "nbconvert_exporter": "python",
   "pygments_lexer": "ipython3",
   "version": "3.8.12"
  },
  "widgets": {
   "application/vnd.jupyter.widget-state+json": {
    "state": {},
    "version_major": 2,
    "version_minor": 0
   }
  }
 },
 "nbformat": 4,
 "nbformat_minor": 5
}
