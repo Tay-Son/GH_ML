{
 "cells": [
  {
   "cell_type": "code",
   "execution_count": 1,
   "id": "f673036e-2b02-4fdf-a4c5-42d191f8d490",
   "metadata": {},
   "outputs": [],
   "source": [
    "import warnings\n",
    "warnings.filterwarnings('ignore')\n",
    "\n",
    "import pandas as pd\n",
    "import numpy as np\n",
    "import matplotlib.pyplot as plt\n",
    "import seaborn as sns\n",
    "import datetime"
   ]
  },
  {
   "cell_type": "code",
   "execution_count": 2,
   "id": "7810435c-d6da-41f9-8cca-c45208f11bf0",
   "metadata": {},
   "outputs": [],
   "source": [
    "dir_dataset = \"C:/Users/0stix/Datasets/\"\n",
    "\n",
    "name_dataset = 'TPS_jan_2022'\n",
    "\n",
    "df_train = pd.read_csv(dir_dataset+name_dataset+'/train.csv')\n",
    "df_test = pd.read_csv(dir_dataset+name_dataset+'/test.csv')\n",
    "df_sub = pd.read_csv(dir_dataset+name_dataset+'/sample_submission.csv')\n",
    "len_train = len(df_train)\n",
    "target='num_sold'\n",
    "\n",
    "df_all = pd.concat([df_train,df_test],axis=0)\n",
    "\n",
    "# df_all.head(18)\n",
    "# df_all.tail()"
   ]
  },
  {
   "cell_type": "code",
   "execution_count": 3,
   "id": "e834828b-01b8-4e25-8478-1224494f1732",
   "metadata": {},
   "outputs": [],
   "source": [
    "from sklearn.preprocessing import OneHotEncoder\n",
    "from holidays import Finland, Norway, Sweden\n",
    "\n",
    "df_v0 = pd.DataFrame()\n",
    "\n",
    "for attrib in ['country', 'store', 'product']:\n",
    "#     df_v0 = pd.concat([df_v0, pd.get_dummies(df_all[attrib].astype('category').cat.codes, prefix=attrib)], axis=1)\n",
    "    df_v0[attrib] = df_all[attrib].astype('category').cat.codes\n",
    "\n",
    "df_v0['datetime'] = pd.to_datetime(df_all['date'])\n",
    "\n",
    "# df_v0 = pd.concat([df_v0, pd.get_dummies(df_v0['datetime'].dt.year.astype('category').cat.codes, prefix='year')], axis=1)\n",
    "df_v0 = pd.concat([df_v0, pd.get_dummies(df_v0['datetime'].dt.month.astype('category').cat.codes, prefix='month')], axis=1)\n",
    "df_v0 = pd.concat([df_v0, pd.get_dummies(df_v0['datetime'].dt.isocalendar().week.astype('category').cat.codes, prefix='week')], axis=1)\n",
    "# df_v0 = pd.concat([df_v0, pd.get_dummies(df_v0['datetime'].dt.day.astype('category').cat.codes, prefix='day')], axis=1)\n",
    "df_v0 = pd.concat([df_v0, pd.get_dummies(df_v0['datetime'].dt.dayofweek.astype('category').cat.codes, prefix='dow')], axis=1)\n",
    "\n",
    "df_v0['holidays'] = 0\n",
    "\n",
    "lst_holidays = []\n",
    "lst_holidays.append(Finland())\n",
    "lst_holidays.append(Norway())\n",
    "lst_holidays.append(Sweden())\n",
    "\n",
    "df_v0['holidays'] = df_v0.apply(lambda row: 1 if row['datetime'] in lst_holidays[row['country']] else 0, axis=1)\n",
    "df_v0.drop('datetime', axis=1, inplace=True)\n",
    "\n",
    "df_v0[target] = df_all[target].copy()\n",
    "df_train_v0 = df_v0[:len_train]\n",
    "df_test_v0 = df_v0[len_train:]\n",
    "\n",
    "X_, y_ = df_v0.drop([target], axis=1).values, df_v0[[target]].values\n",
    "X_train, test_, y_train = X_[:len_train], X_[len_train:], y_[:len_train]\n",
    "\n",
    "# df_v0.tail(5)\n",
    "# df_v0.describe()\n",
    "# df_v0.columns[20:]\n",
    "# df_v0[df_v0.datetime==datetime.datetime(2018,12,23)]\n",
    "# df_v0.head(18)"
   ]
  },
  {
   "cell_type": "code",
   "execution_count": 4,
   "id": "3f95899c-1fb8-4213-8560-6fea315b3918",
   "metadata": {},
   "outputs": [
    {
     "data": {
      "text/plain": [
       "((21038, 76), (5260, 76), (21038, 1), (5260, 1))"
      ]
     },
     "execution_count": 4,
     "metadata": {},
     "output_type": "execute_result"
    }
   ],
   "source": [
    "from xgboost import XGBRegressor\n",
    "from lightgbm import LGBMRegressor\n",
    "from sklearn.ensemble import RandomForestRegressor\n",
    "from sklearn.model_selection import train_test_split\n",
    "\n",
    "X_t, X_v, y_t, y_v = train_test_split(X_train, y_train, test_size=0.2, random_state=1)\n",
    "X_t.shape,X_v.shape,y_t.shape,y_v.shape"
   ]
  },
  {
   "cell_type": "code",
   "execution_count": 6,
   "id": "629ee8cf-1e12-41c5-98fc-f50a62453dfa",
   "metadata": {},
   "outputs": [],
   "source": [
    "lgbm_reg = LGBMRegressor(n_estimators=100)\n",
    "lgbm_reg.fit(X_t, y_t.flatten())\n",
    "y_p = lgbm_reg.predict(X_v)"
   ]
  },
  {
   "cell_type": "code",
   "execution_count": 7,
   "id": "47d3f652-6da2-4caf-854f-0259c5db2348",
   "metadata": {},
   "outputs": [
    {
     "name": "stdout",
     "output_type": "stream",
     "text": [
      "smape:  4.128205710873964\n"
     ]
    }
   ],
   "source": [
    "def smape(A, F):\n",
    "    return 100 / len(A) * np.sum(np.abs(F - A) / (np.abs(A) + np.abs(F)))\n",
    "smape_ = smape(y_v.flatten(), y_p)\n",
    "print('smape: ', smape_)"
   ]
  },
  {
   "cell_type": "code",
   "execution_count": 8,
   "id": "eb851d4a-c120-4abc-9ed0-cc5487576934",
   "metadata": {},
   "outputs": [],
   "source": [
    "df_sub[target] = lgbm_reg.predict(test_)\n",
    "lst_gdp = [1.07,1.013,1.003]\n",
    "\n",
    "df_sub['num_sold'] = df_sub.apply(lambda row: row['num_sold'] * lst_gdp[((int(row['row_id'])%18))//6], axis=1)\n",
    "\n",
    "import datetime\n",
    "now = datetime.datetime.now()\n",
    "str_datetime = now.strftime(\"%y%m%d_%H%M%S\")\n",
    "df_sub.to_csv(dir_dataset+'submission-'+name_dataset+'-'+str_datetime+'.csv', index = 0)"
   ]
  }
 ],
 "metadata": {
  "kernelspec": {
   "display_name": "Python 3",
   "language": "python",
   "name": "python3"
  },
  "language_info": {
   "codemirror_mode": {
    "name": "ipython",
    "version": 3
   },
   "file_extension": ".py",
   "mimetype": "text/x-python",
   "name": "python",
   "nbconvert_exporter": "python",
   "pygments_lexer": "ipython3",
   "version": "3.8.10"
  },
  "widgets": {
   "application/vnd.jupyter.widget-state+json": {
    "state": {},
    "version_major": 2,
    "version_minor": 0
   }
  }
 },
 "nbformat": 4,
 "nbformat_minor": 5
}
