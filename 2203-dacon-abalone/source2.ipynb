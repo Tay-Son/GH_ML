{
 "cells": [
  {
   "cell_type": "code",
   "execution_count": 1,
   "id": "57d12d06-84d8-4dd2-97fa-64f475c08e6b",
   "metadata": {},
   "outputs": [],
   "source": [
    "# Notebook 출력설정\n",
    "# 주요 라이브러리 임포트\n",
    "\n",
    "import warnings\n",
    "warnings.filterwarnings('ignore')\n",
    "\n",
    "import numpy as np\n",
    "import pandas as pd\n",
    "pd.set_option('display.max_colwidth', -1)\n",
    "pd.set_option('display.max_rows', 500)\n",
    "pd.set_option('display.max_columns', 500)\n",
    "pd.set_option('display.width', 1000)\n",
    "\n",
    "%matplotlib inline\n",
    "import matplotlib.pylab as plt\n",
    "plt.rcParams[\"figure.figsize\"] = (15,5)\n",
    "plt.rcParams['lines.linewidth'] = 1\n",
    "plt.rcParams['axes.grid'] = True\n",
    "import seaborn as sns"
   ]
  },
  {
   "cell_type": "code",
   "execution_count": 2,
   "id": "b4b2ef87-3576-439e-9dd8-65cdf1f7c3f6",
   "metadata": {},
   "outputs": [
    {
     "ename": "FileNotFoundError",
     "evalue": "[Errno 2] No such file or directory: 'C:/Users/0stix/Datasets/2203-dacon-abalone/train.csv'",
     "output_type": "error",
     "traceback": [
      "\u001b[1;31m---------------------------------------------------------------------------\u001b[0m",
      "\u001b[1;31mFileNotFoundError\u001b[0m                         Traceback (most recent call last)",
      "Input \u001b[1;32mIn [2]\u001b[0m, in \u001b[0;36m<cell line: 4>\u001b[1;34m()\u001b[0m\n\u001b[0;32m      2\u001b[0m dir_dataset \u001b[38;5;241m=\u001b[39m \u001b[38;5;124m\"\u001b[39m\u001b[38;5;124mC:/Users/0stix/Datasets/\u001b[39m\u001b[38;5;124m\"\u001b[39m\n\u001b[0;32m      3\u001b[0m name_project \u001b[38;5;241m=\u001b[39m \u001b[38;5;124m'\u001b[39m\u001b[38;5;124m2203-dacon-abalone\u001b[39m\u001b[38;5;124m'\u001b[39m\n\u001b[1;32m----> 4\u001b[0m df_train \u001b[38;5;241m=\u001b[39m \u001b[43mpd\u001b[49m\u001b[38;5;241;43m.\u001b[39;49m\u001b[43mread_csv\u001b[49m\u001b[43m(\u001b[49m\u001b[43mdir_dataset\u001b[49m\u001b[38;5;241;43m+\u001b[39;49m\u001b[43mname_project\u001b[49m\u001b[38;5;241;43m+\u001b[39;49m\u001b[38;5;124;43m'\u001b[39;49m\u001b[38;5;124;43m/train.csv\u001b[39;49m\u001b[38;5;124;43m'\u001b[39;49m\u001b[43m)\u001b[49m\n\u001b[0;32m      5\u001b[0m df_test \u001b[38;5;241m=\u001b[39m pd\u001b[38;5;241m.\u001b[39mread_csv(dir_dataset\u001b[38;5;241m+\u001b[39mname_project\u001b[38;5;241m+\u001b[39m\u001b[38;5;124m'\u001b[39m\u001b[38;5;124m/test.csv\u001b[39m\u001b[38;5;124m'\u001b[39m)\n\u001b[0;32m      6\u001b[0m df_sub \u001b[38;5;241m=\u001b[39m pd\u001b[38;5;241m.\u001b[39mread_csv(dir_dataset\u001b[38;5;241m+\u001b[39mname_project\u001b[38;5;241m+\u001b[39m\u001b[38;5;124m'\u001b[39m\u001b[38;5;124m/sample_submission.csv\u001b[39m\u001b[38;5;124m'\u001b[39m)\n",
      "File \u001b[1;32m~\\anaconda3\\lib\\site-packages\\pandas\\util\\_decorators.py:311\u001b[0m, in \u001b[0;36mdeprecate_nonkeyword_arguments.<locals>.decorate.<locals>.wrapper\u001b[1;34m(*args, **kwargs)\u001b[0m\n\u001b[0;32m    305\u001b[0m \u001b[38;5;28;01mif\u001b[39;00m \u001b[38;5;28mlen\u001b[39m(args) \u001b[38;5;241m>\u001b[39m num_allow_args:\n\u001b[0;32m    306\u001b[0m     warnings\u001b[38;5;241m.\u001b[39mwarn(\n\u001b[0;32m    307\u001b[0m         msg\u001b[38;5;241m.\u001b[39mformat(arguments\u001b[38;5;241m=\u001b[39marguments),\n\u001b[0;32m    308\u001b[0m         \u001b[38;5;167;01mFutureWarning\u001b[39;00m,\n\u001b[0;32m    309\u001b[0m         stacklevel\u001b[38;5;241m=\u001b[39mstacklevel,\n\u001b[0;32m    310\u001b[0m     )\n\u001b[1;32m--> 311\u001b[0m \u001b[38;5;28;01mreturn\u001b[39;00m \u001b[43mfunc\u001b[49m\u001b[43m(\u001b[49m\u001b[38;5;241;43m*\u001b[39;49m\u001b[43margs\u001b[49m\u001b[43m,\u001b[49m\u001b[43m \u001b[49m\u001b[38;5;241;43m*\u001b[39;49m\u001b[38;5;241;43m*\u001b[39;49m\u001b[43mkwargs\u001b[49m\u001b[43m)\u001b[49m\n",
      "File \u001b[1;32m~\\anaconda3\\lib\\site-packages\\pandas\\io\\parsers\\readers.py:680\u001b[0m, in \u001b[0;36mread_csv\u001b[1;34m(filepath_or_buffer, sep, delimiter, header, names, index_col, usecols, squeeze, prefix, mangle_dupe_cols, dtype, engine, converters, true_values, false_values, skipinitialspace, skiprows, skipfooter, nrows, na_values, keep_default_na, na_filter, verbose, skip_blank_lines, parse_dates, infer_datetime_format, keep_date_col, date_parser, dayfirst, cache_dates, iterator, chunksize, compression, thousands, decimal, lineterminator, quotechar, quoting, doublequote, escapechar, comment, encoding, encoding_errors, dialect, error_bad_lines, warn_bad_lines, on_bad_lines, delim_whitespace, low_memory, memory_map, float_precision, storage_options)\u001b[0m\n\u001b[0;32m    665\u001b[0m kwds_defaults \u001b[38;5;241m=\u001b[39m _refine_defaults_read(\n\u001b[0;32m    666\u001b[0m     dialect,\n\u001b[0;32m    667\u001b[0m     delimiter,\n\u001b[1;32m   (...)\u001b[0m\n\u001b[0;32m    676\u001b[0m     defaults\u001b[38;5;241m=\u001b[39m{\u001b[38;5;124m\"\u001b[39m\u001b[38;5;124mdelimiter\u001b[39m\u001b[38;5;124m\"\u001b[39m: \u001b[38;5;124m\"\u001b[39m\u001b[38;5;124m,\u001b[39m\u001b[38;5;124m\"\u001b[39m},\n\u001b[0;32m    677\u001b[0m )\n\u001b[0;32m    678\u001b[0m kwds\u001b[38;5;241m.\u001b[39mupdate(kwds_defaults)\n\u001b[1;32m--> 680\u001b[0m \u001b[38;5;28;01mreturn\u001b[39;00m \u001b[43m_read\u001b[49m\u001b[43m(\u001b[49m\u001b[43mfilepath_or_buffer\u001b[49m\u001b[43m,\u001b[49m\u001b[43m \u001b[49m\u001b[43mkwds\u001b[49m\u001b[43m)\u001b[49m\n",
      "File \u001b[1;32m~\\anaconda3\\lib\\site-packages\\pandas\\io\\parsers\\readers.py:575\u001b[0m, in \u001b[0;36m_read\u001b[1;34m(filepath_or_buffer, kwds)\u001b[0m\n\u001b[0;32m    572\u001b[0m _validate_names(kwds\u001b[38;5;241m.\u001b[39mget(\u001b[38;5;124m\"\u001b[39m\u001b[38;5;124mnames\u001b[39m\u001b[38;5;124m\"\u001b[39m, \u001b[38;5;28;01mNone\u001b[39;00m))\n\u001b[0;32m    574\u001b[0m \u001b[38;5;66;03m# Create the parser.\u001b[39;00m\n\u001b[1;32m--> 575\u001b[0m parser \u001b[38;5;241m=\u001b[39m \u001b[43mTextFileReader\u001b[49m\u001b[43m(\u001b[49m\u001b[43mfilepath_or_buffer\u001b[49m\u001b[43m,\u001b[49m\u001b[43m \u001b[49m\u001b[38;5;241;43m*\u001b[39;49m\u001b[38;5;241;43m*\u001b[39;49m\u001b[43mkwds\u001b[49m\u001b[43m)\u001b[49m\n\u001b[0;32m    577\u001b[0m \u001b[38;5;28;01mif\u001b[39;00m chunksize \u001b[38;5;129;01mor\u001b[39;00m iterator:\n\u001b[0;32m    578\u001b[0m     \u001b[38;5;28;01mreturn\u001b[39;00m parser\n",
      "File \u001b[1;32m~\\anaconda3\\lib\\site-packages\\pandas\\io\\parsers\\readers.py:933\u001b[0m, in \u001b[0;36mTextFileReader.__init__\u001b[1;34m(self, f, engine, **kwds)\u001b[0m\n\u001b[0;32m    930\u001b[0m     \u001b[38;5;28mself\u001b[39m\u001b[38;5;241m.\u001b[39moptions[\u001b[38;5;124m\"\u001b[39m\u001b[38;5;124mhas_index_names\u001b[39m\u001b[38;5;124m\"\u001b[39m] \u001b[38;5;241m=\u001b[39m kwds[\u001b[38;5;124m\"\u001b[39m\u001b[38;5;124mhas_index_names\u001b[39m\u001b[38;5;124m\"\u001b[39m]\n\u001b[0;32m    932\u001b[0m \u001b[38;5;28mself\u001b[39m\u001b[38;5;241m.\u001b[39mhandles: IOHandles \u001b[38;5;241m|\u001b[39m \u001b[38;5;28;01mNone\u001b[39;00m \u001b[38;5;241m=\u001b[39m \u001b[38;5;28;01mNone\u001b[39;00m\n\u001b[1;32m--> 933\u001b[0m \u001b[38;5;28mself\u001b[39m\u001b[38;5;241m.\u001b[39m_engine \u001b[38;5;241m=\u001b[39m \u001b[38;5;28;43mself\u001b[39;49m\u001b[38;5;241;43m.\u001b[39;49m\u001b[43m_make_engine\u001b[49m\u001b[43m(\u001b[49m\u001b[43mf\u001b[49m\u001b[43m,\u001b[49m\u001b[43m \u001b[49m\u001b[38;5;28;43mself\u001b[39;49m\u001b[38;5;241;43m.\u001b[39;49m\u001b[43mengine\u001b[49m\u001b[43m)\u001b[49m\n",
      "File \u001b[1;32m~\\anaconda3\\lib\\site-packages\\pandas\\io\\parsers\\readers.py:1217\u001b[0m, in \u001b[0;36mTextFileReader._make_engine\u001b[1;34m(self, f, engine)\u001b[0m\n\u001b[0;32m   1213\u001b[0m     mode \u001b[38;5;241m=\u001b[39m \u001b[38;5;124m\"\u001b[39m\u001b[38;5;124mrb\u001b[39m\u001b[38;5;124m\"\u001b[39m\n\u001b[0;32m   1214\u001b[0m \u001b[38;5;66;03m# error: No overload variant of \"get_handle\" matches argument types\u001b[39;00m\n\u001b[0;32m   1215\u001b[0m \u001b[38;5;66;03m# \"Union[str, PathLike[str], ReadCsvBuffer[bytes], ReadCsvBuffer[str]]\"\u001b[39;00m\n\u001b[0;32m   1216\u001b[0m \u001b[38;5;66;03m# , \"str\", \"bool\", \"Any\", \"Any\", \"Any\", \"Any\", \"Any\"\u001b[39;00m\n\u001b[1;32m-> 1217\u001b[0m \u001b[38;5;28mself\u001b[39m\u001b[38;5;241m.\u001b[39mhandles \u001b[38;5;241m=\u001b[39m \u001b[43mget_handle\u001b[49m\u001b[43m(\u001b[49m\u001b[43m  \u001b[49m\u001b[38;5;66;43;03m# type: ignore[call-overload]\u001b[39;49;00m\n\u001b[0;32m   1218\u001b[0m \u001b[43m    \u001b[49m\u001b[43mf\u001b[49m\u001b[43m,\u001b[49m\n\u001b[0;32m   1219\u001b[0m \u001b[43m    \u001b[49m\u001b[43mmode\u001b[49m\u001b[43m,\u001b[49m\n\u001b[0;32m   1220\u001b[0m \u001b[43m    \u001b[49m\u001b[43mencoding\u001b[49m\u001b[38;5;241;43m=\u001b[39;49m\u001b[38;5;28;43mself\u001b[39;49m\u001b[38;5;241;43m.\u001b[39;49m\u001b[43moptions\u001b[49m\u001b[38;5;241;43m.\u001b[39;49m\u001b[43mget\u001b[49m\u001b[43m(\u001b[49m\u001b[38;5;124;43m\"\u001b[39;49m\u001b[38;5;124;43mencoding\u001b[39;49m\u001b[38;5;124;43m\"\u001b[39;49m\u001b[43m,\u001b[49m\u001b[43m \u001b[49m\u001b[38;5;28;43;01mNone\u001b[39;49;00m\u001b[43m)\u001b[49m\u001b[43m,\u001b[49m\n\u001b[0;32m   1221\u001b[0m \u001b[43m    \u001b[49m\u001b[43mcompression\u001b[49m\u001b[38;5;241;43m=\u001b[39;49m\u001b[38;5;28;43mself\u001b[39;49m\u001b[38;5;241;43m.\u001b[39;49m\u001b[43moptions\u001b[49m\u001b[38;5;241;43m.\u001b[39;49m\u001b[43mget\u001b[49m\u001b[43m(\u001b[49m\u001b[38;5;124;43m\"\u001b[39;49m\u001b[38;5;124;43mcompression\u001b[39;49m\u001b[38;5;124;43m\"\u001b[39;49m\u001b[43m,\u001b[49m\u001b[43m \u001b[49m\u001b[38;5;28;43;01mNone\u001b[39;49;00m\u001b[43m)\u001b[49m\u001b[43m,\u001b[49m\n\u001b[0;32m   1222\u001b[0m \u001b[43m    \u001b[49m\u001b[43mmemory_map\u001b[49m\u001b[38;5;241;43m=\u001b[39;49m\u001b[38;5;28;43mself\u001b[39;49m\u001b[38;5;241;43m.\u001b[39;49m\u001b[43moptions\u001b[49m\u001b[38;5;241;43m.\u001b[39;49m\u001b[43mget\u001b[49m\u001b[43m(\u001b[49m\u001b[38;5;124;43m\"\u001b[39;49m\u001b[38;5;124;43mmemory_map\u001b[39;49m\u001b[38;5;124;43m\"\u001b[39;49m\u001b[43m,\u001b[49m\u001b[43m \u001b[49m\u001b[38;5;28;43;01mFalse\u001b[39;49;00m\u001b[43m)\u001b[49m\u001b[43m,\u001b[49m\n\u001b[0;32m   1223\u001b[0m \u001b[43m    \u001b[49m\u001b[43mis_text\u001b[49m\u001b[38;5;241;43m=\u001b[39;49m\u001b[43mis_text\u001b[49m\u001b[43m,\u001b[49m\n\u001b[0;32m   1224\u001b[0m \u001b[43m    \u001b[49m\u001b[43merrors\u001b[49m\u001b[38;5;241;43m=\u001b[39;49m\u001b[38;5;28;43mself\u001b[39;49m\u001b[38;5;241;43m.\u001b[39;49m\u001b[43moptions\u001b[49m\u001b[38;5;241;43m.\u001b[39;49m\u001b[43mget\u001b[49m\u001b[43m(\u001b[49m\u001b[38;5;124;43m\"\u001b[39;49m\u001b[38;5;124;43mencoding_errors\u001b[39;49m\u001b[38;5;124;43m\"\u001b[39;49m\u001b[43m,\u001b[49m\u001b[43m \u001b[49m\u001b[38;5;124;43m\"\u001b[39;49m\u001b[38;5;124;43mstrict\u001b[39;49m\u001b[38;5;124;43m\"\u001b[39;49m\u001b[43m)\u001b[49m\u001b[43m,\u001b[49m\n\u001b[0;32m   1225\u001b[0m \u001b[43m    \u001b[49m\u001b[43mstorage_options\u001b[49m\u001b[38;5;241;43m=\u001b[39;49m\u001b[38;5;28;43mself\u001b[39;49m\u001b[38;5;241;43m.\u001b[39;49m\u001b[43moptions\u001b[49m\u001b[38;5;241;43m.\u001b[39;49m\u001b[43mget\u001b[49m\u001b[43m(\u001b[49m\u001b[38;5;124;43m\"\u001b[39;49m\u001b[38;5;124;43mstorage_options\u001b[39;49m\u001b[38;5;124;43m\"\u001b[39;49m\u001b[43m,\u001b[49m\u001b[43m \u001b[49m\u001b[38;5;28;43;01mNone\u001b[39;49;00m\u001b[43m)\u001b[49m\u001b[43m,\u001b[49m\n\u001b[0;32m   1226\u001b[0m \u001b[43m\u001b[49m\u001b[43m)\u001b[49m\n\u001b[0;32m   1227\u001b[0m \u001b[38;5;28;01massert\u001b[39;00m \u001b[38;5;28mself\u001b[39m\u001b[38;5;241m.\u001b[39mhandles \u001b[38;5;129;01mis\u001b[39;00m \u001b[38;5;129;01mnot\u001b[39;00m \u001b[38;5;28;01mNone\u001b[39;00m\n\u001b[0;32m   1228\u001b[0m f \u001b[38;5;241m=\u001b[39m \u001b[38;5;28mself\u001b[39m\u001b[38;5;241m.\u001b[39mhandles\u001b[38;5;241m.\u001b[39mhandle\n",
      "File \u001b[1;32m~\\anaconda3\\lib\\site-packages\\pandas\\io\\common.py:789\u001b[0m, in \u001b[0;36mget_handle\u001b[1;34m(path_or_buf, mode, encoding, compression, memory_map, is_text, errors, storage_options)\u001b[0m\n\u001b[0;32m    784\u001b[0m \u001b[38;5;28;01melif\u001b[39;00m \u001b[38;5;28misinstance\u001b[39m(handle, \u001b[38;5;28mstr\u001b[39m):\n\u001b[0;32m    785\u001b[0m     \u001b[38;5;66;03m# Check whether the filename is to be opened in binary mode.\u001b[39;00m\n\u001b[0;32m    786\u001b[0m     \u001b[38;5;66;03m# Binary mode does not support 'encoding' and 'newline'.\u001b[39;00m\n\u001b[0;32m    787\u001b[0m     \u001b[38;5;28;01mif\u001b[39;00m ioargs\u001b[38;5;241m.\u001b[39mencoding \u001b[38;5;129;01mand\u001b[39;00m \u001b[38;5;124m\"\u001b[39m\u001b[38;5;124mb\u001b[39m\u001b[38;5;124m\"\u001b[39m \u001b[38;5;129;01mnot\u001b[39;00m \u001b[38;5;129;01min\u001b[39;00m ioargs\u001b[38;5;241m.\u001b[39mmode:\n\u001b[0;32m    788\u001b[0m         \u001b[38;5;66;03m# Encoding\u001b[39;00m\n\u001b[1;32m--> 789\u001b[0m         handle \u001b[38;5;241m=\u001b[39m \u001b[38;5;28;43mopen\u001b[39;49m\u001b[43m(\u001b[49m\n\u001b[0;32m    790\u001b[0m \u001b[43m            \u001b[49m\u001b[43mhandle\u001b[49m\u001b[43m,\u001b[49m\n\u001b[0;32m    791\u001b[0m \u001b[43m            \u001b[49m\u001b[43mioargs\u001b[49m\u001b[38;5;241;43m.\u001b[39;49m\u001b[43mmode\u001b[49m\u001b[43m,\u001b[49m\n\u001b[0;32m    792\u001b[0m \u001b[43m            \u001b[49m\u001b[43mencoding\u001b[49m\u001b[38;5;241;43m=\u001b[39;49m\u001b[43mioargs\u001b[49m\u001b[38;5;241;43m.\u001b[39;49m\u001b[43mencoding\u001b[49m\u001b[43m,\u001b[49m\n\u001b[0;32m    793\u001b[0m \u001b[43m            \u001b[49m\u001b[43merrors\u001b[49m\u001b[38;5;241;43m=\u001b[39;49m\u001b[43merrors\u001b[49m\u001b[43m,\u001b[49m\n\u001b[0;32m    794\u001b[0m \u001b[43m            \u001b[49m\u001b[43mnewline\u001b[49m\u001b[38;5;241;43m=\u001b[39;49m\u001b[38;5;124;43m\"\u001b[39;49m\u001b[38;5;124;43m\"\u001b[39;49m\u001b[43m,\u001b[49m\n\u001b[0;32m    795\u001b[0m \u001b[43m        \u001b[49m\u001b[43m)\u001b[49m\n\u001b[0;32m    796\u001b[0m     \u001b[38;5;28;01melse\u001b[39;00m:\n\u001b[0;32m    797\u001b[0m         \u001b[38;5;66;03m# Binary mode\u001b[39;00m\n\u001b[0;32m    798\u001b[0m         handle \u001b[38;5;241m=\u001b[39m \u001b[38;5;28mopen\u001b[39m(handle, ioargs\u001b[38;5;241m.\u001b[39mmode)\n",
      "\u001b[1;31mFileNotFoundError\u001b[0m: [Errno 2] No such file or directory: 'C:/Users/0stix/Datasets/2203-dacon-abalone/train.csv'"
     ]
    }
   ],
   "source": [
    "# 원본 데이터셋 로드\n",
    "dir_dataset = \"C:/Users/0stix/Datasets/\"\n",
    "name_project = '2203-dacon-abalone'\n",
    "df_train = pd.read_csv(dir_dataset+name_project+'/train.csv')\n",
    "df_test = pd.read_csv(dir_dataset+name_project+'/test.csv')\n",
    "df_sub = pd.read_csv(dir_dataset+name_project+'/sample_submission.csv')\n",
    "\n",
    "len_train = len(df_train)\n",
    "df_all = pd.concat([df_train, df_test], axis=0)\n",
    "target = 'Target'"
   ]
  },
  {
   "cell_type": "code",
   "execution_count": 74,
   "id": "d9506920-9966-409c-a48c-c9ac3f7d6383",
   "metadata": {},
   "outputs": [],
   "source": [
    "eta_ = 0.00001\n",
    "\n",
    "df_v0 = pd.DataFrame()\n",
    "\n",
    "df_v0 = pd.get_dummies(df_all['Gender'].astype('category').cat.codes, prefix='G')\n",
    "\n",
    "df_v0['L'] = df_all['Lenght']\n",
    "df_v0['D'] = df_all['Diameter']\n",
    "df_v0['H'] = df_all['Height']\n",
    "\n",
    "df_v0['V'] = df_v0['L'] * df_v0['D'] * df_v0['H']\n",
    "df_v0['L/D'] = df_v0['L'] / (df_v0['D'] + eta_)\n",
    "df_v0['D/H'] = df_v0['D'] / (df_v0['H'] + eta_)\n",
    "df_v0['H/L'] = df_v0['H'] / (df_v0['L'] + eta_)\n",
    "\n",
    "df_v0['wWl'] = df_all['Whole Weight']\n",
    "df_v0['wSk'] = df_all['Shucked Weight']\n",
    "df_v0['wVs'] = df_all['Viscra Weight']\n",
    "df_v0['wSl'] = df_all['Shell Weight']\n",
    "df_v0['wEt'] = df_v0['wWl'] - (df_v0['wSk'] + df_v0['wVs'] + df_v0['wSl'])\n",
    "\n",
    "df_v0['rSk'] = df_v0['wSk'] / (df_v0['wWl'] + eta_)\n",
    "df_v0['rVs'] = df_v0['wVs'] / (df_v0['wWl'] + eta_)\n",
    "df_v0['rSl'] = df_v0['wSl'] / (df_v0['wWl'] + eta_)\n",
    "\n",
    "df_v0['wWl/V'] = df_v0['wWl'] / (df_v0['V'] + eta_)\n",
    "# df_v0['wSk/V'] = df_v0['wSk'] / df_v0['V']\n",
    "# df_v0['wVs/V'] = df_v0['wVs'] / df_v0['V']\n",
    "df_v0['wSl/V'] = df_v0['wSl'] / (df_v0['V'] + eta_)\n",
    "df_v0['wEt/V'] = df_v0['wEt'] / (df_v0['V'] + eta_)\n",
    "\n",
    "df_v0['rSk/V'] = df_v0['rSk'] / (df_v0['V'] + eta_)\n",
    "df_v0['rVs/V'] = df_v0['rVs'] / (df_v0['V'] + eta_)\n",
    "# df_v0['rSl/V'] = df_v0['rSl'] / df_v0['V']\n",
    "\n",
    "# df_v0['rSk/L'] = df_v0['rSk'] / df_v0['L']\n",
    "# df_v0['rSk/D'] = df_v0['rSk'] / df_v0['D']\n",
    "# df_v0['rSk/H'] = df_v0['rSk'] / df_v0['H']\n",
    "# df_v0['rSk/D/H'] = df_v0['rSk'] / df_v0['D/H']\n",
    "\n",
    "\n",
    "# df_v0[target] = df_all[target] + .5\n",
    "df_v0[target] = df_all[target]"
   ]
  },
  {
   "cell_type": "code",
   "execution_count": 75,
   "id": "55d0dcf7-2065-41cd-8653-349247c4944b",
   "metadata": {
    "tags": []
   },
   "outputs": [
    {
     "data": {
      "text/plain": [
       "G_0      0.241170\n",
       "G_1      0.437064\n",
       "G_2      0.193054\n",
       "L        0.543789\n",
       "D        0.567933\n",
       "H        0.604654\n",
       "V        0.548341\n",
       "L/D      0.387792\n",
       "D/H      0.239966\n",
       "H/L      0.377216\n",
       "wWl      0.538404\n",
       "wSk      0.420126\n",
       "wVs      0.497283\n",
       "wSl      0.625819\n",
       "wEt      0.509678\n",
       "rSk      0.188242\n",
       "rVs      0.092707\n",
       "rSl      0.167282\n",
       "wWl/V    0.175033\n",
       "wSl/V    0.010841\n",
       "wEt/V    0.127347\n",
       "rSk/V    0.361384\n",
       "rVs/V    0.336601\n",
       "dtype: float64"
      ]
     },
     "execution_count": 75,
     "metadata": {},
     "output_type": "execute_result"
    }
   ],
   "source": [
    "df_v0.drop(target, axis=1).corrwith(df_v0[target]).abs()"
   ]
  },
  {
   "cell_type": "code",
   "execution_count": 76,
   "id": "0314387d-4125-4e84-b14f-b78d7d13201e",
   "metadata": {},
   "outputs": [],
   "source": [
    "def tr_te_split(df_all, len_train, target):\n",
    "    X = df_all.drop(target, axis=1)\n",
    "    y = df_all[target]\n",
    "    X_tr = X[:len_train]\n",
    "    y_tr = y[:len_train]\n",
    "    X_te = X[len_train:]\n",
    "    return X_tr, y_tr, X_te"
   ]
  },
  {
   "cell_type": "code",
   "execution_count": 77,
   "id": "a0ac44f3-a76f-497e-93f0-ca2443ff68c4",
   "metadata": {},
   "outputs": [],
   "source": [
    "# 고속 데이터셋 평가\n",
    "def eval_df(X, y, lst_model):\n",
    "    from sklearn.model_selection import cross_val_score\n",
    "    \n",
    "    grd_score = []\n",
    "    for model_ in lst_model:\n",
    "        grd_score.append(cross_val_score(\n",
    "            model_, \n",
    "            X, \n",
    "            y, \n",
    "            cv=5, \n",
    "            scoring=\"neg_mean_absolute_error\", \n",
    "            n_jobs=-1))\n",
    "        \n",
    "    return grd_score"
   ]
  },
  {
   "cell_type": "code",
   "execution_count": 78,
   "id": "eb472121-9982-4187-9949-df65fa7af999",
   "metadata": {},
   "outputs": [],
   "source": [
    "from xgboost import XGBRegressor\n",
    "from catboost import CatBoostRegressor\n",
    "\n",
    "lst_model = [\n",
    "    # XGBRegressor(),\n",
    "    CatBoostRegressor(silent=True)\n",
    "]\n",
    "\n",
    "X_train, y_train, X_test = tr_te_split(df_v0, len_train, target)\n",
    "# X_train.shape, y_train.shape, X_test.shape\n",
    "# grd_score = eval_df(X_trrain, y_train, lst_model)"
   ]
  },
  {
   "cell_type": "code",
   "execution_count": 79,
   "id": "25ad567f-84ab-4427-b6e7-d1468ca38627",
   "metadata": {},
   "outputs": [],
   "source": [
    "import optuna\n",
    "from optuna.samplers import TPESampler\n",
    "optuna.logging.set_verbosity(optuna.logging.CRITICAL)"
   ]
  },
  {
   "cell_type": "code",
   "execution_count": 80,
   "id": "e00867b0-8830-492a-8148-ff145614eb3b",
   "metadata": {},
   "outputs": [],
   "source": [
    "import numpy as np\n",
    "\n",
    "def NMAE_(true, pred):\n",
    "    mae = np.mean(np.abs(true-pred))\n",
    "    score = mae / np.mean(np.abs(true))\n",
    "    return score"
   ]
  },
  {
   "cell_type": "code",
   "execution_count": 81,
   "id": "a91879af-1a68-48e0-b707-59beecf9ee4b",
   "metadata": {},
   "outputs": [],
   "source": [
    "VERBOSE_ = 0\n",
    "RANDOM_STATE = 0\n",
    "EVAL_METRIC = 'mae'\n",
    "SCORING_ = NMAE_"
   ]
  },
  {
   "cell_type": "markdown",
   "id": "85055c98-c971-45d2-8193-2029149687ea",
   "metadata": {},
   "source": [
    "# XGBOOST"
   ]
  },
  {
   "cell_type": "code",
   "execution_count": 82,
   "id": "9ecbde5c-6a00-4a55-8baa-e9996cd8304e",
   "metadata": {},
   "outputs": [],
   "source": [
    "# xgboost\n",
    "from sklearn.model_selection import StratifiedKFold\n",
    "from xgboost import XGBRegressor\n",
    "import time\n",
    "\n",
    "early_stopping_rounds = 100\n",
    "\n",
    "def obj_xgr(trial_):\n",
    "    lst_param = {\n",
    "        \"random_state\" : RANDOM_STATE,\n",
    "        \"eval_metric\" : EVAL_METRIC,\n",
    "        # ------------------------------------------------------------\n",
    "        # Learning_rate: 성능고려해서 조절 - 낮을수록 고득점 유리\n",
    "        \"learning_rate\" : 0.05,\n",
    "        # \"learning_rate\" : trial_.suggest_loguniform(\"learning_rate\", 0.0001, 0.3),\n",
    "        \n",
    "        # \"n_estimators\": trial_.suggest_int(\"n_estimators\", 50, 1000),\n",
    "        \"n_estimators\": 10000,\n",
    "        \n",
    "        # \"Max_depth\": 01\n",
    "        \"max_depth\":trial_.suggest_int(\"max_depth\", 2, 10),\n",
    "        \n",
    "        # \"Max_leaves\": 02\n",
    "        \"max_leaves\":trial_.suggest_int(\"max_leaves\", 32, 1024),\n",
    "        \n",
    "        # \"Row_sampling\", \"Col_sampling\": 03\n",
    "        \"subsample\": 0.7,\n",
    "        # \"subsample\":trial_.suggest_float(\"subsample\", 0.5, 1.0),\n",
    "        \"colsample_bytree\": 0.7,\n",
    "        # \"colsample_bytree\":trial_.suggest_float(\"colsample_bytree\", 0.5, 1.0),\n",
    "        \n",
    "        \n",
    "        # \"booster\": trial_.suggest_categorical(\"booster\", [\"gbtree\", \"gblinear\", \"dart\"]),\n",
    "        \"lambda\": trial_.suggest_loguniform(\"lambda\", 1e-8, 1.0),\n",
    "        \"alpha\": trial_.suggest_loguniform(\"alpha\", 1e-8, 1.0),\n",
    "        \n",
    "        # ------------------------------------------------------------\n",
    "        # \"Tree_method\":\n",
    "        # \"tree_method\" : \"gpu_hist\",\n",
    "        # \"tree_method\" : trial_.suggest_categorical(\"tree_method\", [\"exact\", \"approx\", \"hist\", \"gpu_hist\"]),\n",
    "        \n",
    "        # ------------------------------------------------------------\n",
    "        # 'reg_alpha': 2.9735993984217104,\n",
    "        # 'reg_lambda': 2.214625977393439,\n",
    "        # 'scale_pos_weight': 0.9,\n",
    "        # 'gamma': 0.5\n",
    "    }\n",
    "    \n",
    "    # if lst_param[\"booster\"] == \"gbtree\" or lst_param[\"booster\"] == \"dart\":\n",
    "        # lst_param[\"max_depth\"] = trial_.suggest_int(\"max_depth\", 1, 9)\n",
    "        # lst_param[\"eta\"] = trial_.suggest_loguniform(\"eta\", 1e-8, 1.0)\n",
    "        # lst_param[\"gamma\"] = trial_.suggest_loguniform(\"gamma\", 1e-8, 1.0)\n",
    "        # lst_param[\"grow_policy\"] = trial_.suggest_categorical(\"grow_policy\", [\"depthwise\", \"lossguide\"])\n",
    "    # if lst_param[\"booster\"] == \"dart\":\n",
    "    #     lst_param[\"sample_type\"] = trial_.suggest_categorical(\"sample_type\", [\"uniform\", \"weighted\"])\n",
    "    #     lst_param[\"normalize_type\"] = trial_.suggest_categorical(\"normalize_type\", [\"tree\", \"forest\"])\n",
    "    #     lst_param[\"rate_drop\"] = trial_.suggest_loguniform(\"rate_drop\", 1e-8, 1.0)\n",
    "    #     lst_param[\"skip_drop\"] = trial_.suggest_loguniform(\"skip_drop\", 1e-8, 1.0)\n",
    "    \n",
    "    time_s = time.time()\n",
    "    lst_score = []\n",
    "    \n",
    "    cv_ = StratifiedKFold(n_splits=5, shuffle=True, random_state=RANDOM_STATE)\n",
    "    for indice_tr, indice_va in cv_.split(X_train, y_train):\n",
    "        X_tr, X_va = X_train.iloc[indice_tr], X_train.iloc[indice_va]\n",
    "        y_tr, y_va = y_train.iloc[indice_tr], y_train.iloc[indice_va]\n",
    "        model_ = XGBRegressor(**lst_param)\n",
    "        model_.fit(\n",
    "            X_tr,\n",
    "            y_tr,\n",
    "            eval_set = [(X_va, y_va)],\n",
    "            eval_metric=EVAL_METRIC,\n",
    "            early_stopping_rounds=early_stopping_rounds,\n",
    "            verbose=VERBOSE_,\n",
    "        )\n",
    "        p_va = model_.predict(X_va)\n",
    "        lst_score.append(SCORING_(y_va, p_va))\n",
    "    score_va = np.mean(lst_score)\n",
    "    \n",
    "    if VERBOSE_:\n",
    "        print(\"VS: {:>6.4f}, ET: {:>6.2f}\".format(score_va, time.time() - time_s))\n",
    "\n",
    "    return score_va"
   ]
  },
  {
   "cell_type": "code",
   "execution_count": 83,
   "id": "f0c52fcd-4668-4018-83a3-f016ff1853ff",
   "metadata": {
    "tags": []
   },
   "outputs": [
    {
     "data": {
      "application/vnd.jupyter.widget-view+json": {
       "model_id": "e168f222947648ec8a11fc661621ee92",
       "version_major": 2,
       "version_minor": 0
      },
      "text/plain": [
       "  0%|          | 0/100 [00:00<?, ?it/s]"
      ]
     },
     "metadata": {},
     "output_type": "display_data"
    },
    {
     "name": "stdout",
     "output_type": "stream",
     "text": [
      "0.14827746906961708\n",
      "{'max_depth': 3, 'max_leaves': 899, 'lambda': 0.46265991819794877, 'alpha': 5.9009057497927356e-08}\n"
     ]
    }
   ],
   "source": [
    "TRIALS = 100\n",
    "TIMEOUT = 1200\n",
    "\n",
    "sampler_ = TPESampler()\n",
    "study_ = optuna.create_study(\n",
    "    direction = 'minimize',\n",
    "    sampler = sampler_,\n",
    ")\n",
    "study_.optimize(obj_xgr, n_trials=TRIALS, timeout=TIMEOUT, show_progress_bar=1)\n",
    "print(study_.best_value)\n",
    "print(study_.best_trial.params)"
   ]
  },
  {
   "cell_type": "code",
   "execution_count": 84,
   "id": "b0498113-9772-4fc0-8d1e-7c6cc6ecea5f",
   "metadata": {},
   "outputs": [
    {
     "name": "stdout",
     "output_type": "stream",
     "text": [
      "0.15168466973259284\n"
     ]
    }
   ],
   "source": [
    "from sklearn.model_selection import train_test_split\n",
    "\n",
    "X_tr, X_va, y_tr, y_va = train_test_split(X_train, y_train, test_size=0.3, random_state=RANDOM_STATE)\n",
    "model_tmp = XGBRegressor(**study_.best_params, n_estimators=30000)\n",
    "model_tmp.fit(X_tr, y_tr, eval_set=[(X_va, y_va)], early_stopping_rounds=early_stopping_rounds,verbose=0)\n",
    "\n",
    "# model_ = XGBRegressor(**study_.best_params, n_estimators=model_tmp.get_booster().best_ntree_limit, verbose=VERBOSE_)\n",
    "model_va = XGBRegressor(**study_.best_params, n_estimators=model_tmp.get_booster().best_ntree_limit)\n",
    "model_va.fit(X_tr, y_tr)\n",
    "p_va = model_va.predict(X_va)\n",
    "print(SCORING_(y_va, p_va))"
   ]
  },
  {
   "cell_type": "code",
   "execution_count": 85,
   "id": "acf9b2b9-9740-451c-9cb7-8bdb4af2c5d3",
   "metadata": {},
   "outputs": [],
   "source": [
    "model_ = XGBRegressor(**study_.best_params, n_estimators=model_tmp.get_booster().best_ntree_limit)\n",
    "model_.fit(X_train, y_train)\n",
    "p_test_xgb = model_.predict(X_test)"
   ]
  },
  {
   "cell_type": "code",
   "execution_count": 87,
   "id": "a630b55d-5475-48d6-a08b-6b0e9cb71f38",
   "metadata": {
    "collapsed": true,
    "jupyter": {
     "outputs_hidden": true
    },
    "tags": []
   },
   "outputs": [
    {
     "data": {
      "image/png": "[encoded data removed]",
      "text/plain": [
       "<Figure size 720x576 with 1 Axes>"
      ]
     },
     "metadata": {
      "needs_background": "light"
     },
     "output_type": "display_data"
    }
   ],
   "source": [
    "FI=pd.DataFrame({'Features':df_v0.columns[:-1],'Importance':model_.feature_importances_})\n",
    "FI=FI.sort_values(by='Importance',ascending=False)[:20]\n",
    "#plot\n",
    "plt.figure(figsize=(10,8))\n",
    "sns.barplot(x=FI.Importance,y=FI.Features).set_title('XGBoost Feature importance')\n",
    "plt.show()"
   ]
  },
  {
   "cell_type": "markdown",
   "id": "cd17aa59-4f96-4635-9c9d-a3530aa847b7",
   "metadata": {},
   "source": [
    "# NGBOOST"
   ]
  },
  {
   "cell_type": "code",
   "execution_count": 100,
   "id": "4ee9ef11-d69a-4a9f-8bc9-4eec04761f79",
   "metadata": {},
   "outputs": [],
   "source": [
    "# ngboost\n",
    "from sklearn.model_selection import StratifiedKFold\n",
    "from ngboost import NGBRegressor\n",
    "import time\n",
    "\n",
    "early_stopping_rounds = 100\n",
    "\n",
    "def obj_ngr(trial_):\n",
    "    lst_param = {\n",
    "        \"random_state\" : RANDOM_STATE,\n",
    "        # \"eval_metric\" : EVAL_METRIC,\n",
    "        # ------------------------------------------------------------\n",
    "#         # Learning_rate: 성능고려해서 조절 - 낮을수록 고득점 유리\n",
    "        \"learning_rate\" : 0.05,\n",
    "#         # \"learning_rate\" : trial_.suggest_loguniform(\"learning_rate\", 0.0001, 0.3),\n",
    "        \n",
    "#         # \"n_estimators\": trial_.suggest_int(\"n_estimators\", 50, 1000),\n",
    "        \"n_estimators\": 10000,\n",
    "        \n",
    "        \"verbose\": False,\n",
    "        \n",
    "#         # \"Max_depth\": 01\n",
    "#         \"max_depth\":trial_.suggest_int(\"max_depth\", 2, 10),\n",
    "        \n",
    "#         # \"Max_leaves\": 02\n",
    "#         \"max_leaves\":trial_.suggest_int(\"max_leaves\", 32, 1024),\n",
    "        \n",
    "#         # \"Row_sampling\", \"Col_sampling\": 03\n",
    "        \"col_sample\": 0.7\n",
    "#         \"subsample\": 0.7,\n",
    "#         # \"subsample\":trial_.suggest_float(\"subsample\", 0.5, 1.0),\n",
    "\n",
    "#         # \"col_sample\":trial_.suggest_float(\"col_sample\", 0.5, 1.0),\n",
    "        \n",
    "        \n",
    "#         # \"booster\": trial_.suggest_categorical(\"booster\", [\"gbtree\", \"gblinear\", \"dart\"]),\n",
    "#         \"lambda\": trial_.suggest_loguniform(\"lambda\", 1e-8, 1.0),\n",
    "#         \"alpha\": trial_.suggest_loguniform(\"alpha\", 1e-8, 1.0),\n",
    "        \n",
    "        # ------------------------------------------------------------\n",
    "\n",
    "    }\n",
    "    \n",
    "\n",
    "    time_s = time.time()\n",
    "    lst_score = []\n",
    "    \n",
    "    cv_ = StratifiedKFold(n_splits=5, shuffle=True, random_state=RANDOM_STATE)\n",
    "    for indice_tr, indice_va in cv_.split(X_train, y_train):\n",
    "        X_tr, X_va = X_train.iloc[indice_tr], X_train.iloc[indice_va]\n",
    "        y_tr, y_va = y_train.iloc[indice_tr], y_train.iloc[indice_va]\n",
    "        model_ = NGBRegressor(**lst_param)\n",
    "        model_.fit(\n",
    "            X_tr,\n",
    "            y_tr,\n",
    "            X_val=X_va,\n",
    "            Y_val=y_va,\n",
    "            # eval_set = [(X_va, y_va)],\n",
    "            # eval_metric=EVAL_METRIC,\n",
    "            early_stopping_rounds=early_stopping_rounds,\n",
    "            # verbose=VERBOSE_,\n",
    "        )\n",
    "        p_va = model_.predict(X_va)\n",
    "        lst_score.append(SCORING_(y_va, p_va))\n",
    "    score_va = np.mean(lst_score)\n",
    "    \n",
    "    if VERBOSE_:\n",
    "        print(\"VS: {:>6.4f}, ET: {:>6.2f}\".format(score_va, time.time() - time_s))\n",
    "\n",
    "    return score_va"
   ]
  },
  {
   "cell_type": "code",
   "execution_count": 101,
   "id": "1e8ec9e4-fa0b-4873-8ee2-c967ed854678",
   "metadata": {},
   "outputs": [
    {
     "data": {
      "application/vnd.jupyter.widget-view+json": {
       "model_id": "50912c028bad42fd93861bd19a5c9c1f",
       "version_major": 2,
       "version_minor": 0
      },
      "text/plain": [
       "  0%|          | 0/1 [00:00<?, ?it/s]"
      ]
     },
     "metadata": {},
     "output_type": "display_data"
    },
    {
     "name": "stdout",
     "output_type": "stream",
     "text": [
      "0.15580566673955382\n"
     ]
    }
   ],
   "source": [
    "TRIALS = 1\n",
    "TIMEOUT = 1200\n",
    "\n",
    "sampler_ = TPESampler()\n",
    "study_ = optuna.create_study(\n",
    "    direction = 'minimize',\n",
    "    sampler = sampler_,\n",
    ")\n",
    "study_.optimize(obj_ngr, n_trials=TRIALS, timeout=TIMEOUT, show_progress_bar=1)\n",
    "print(study_.best_value)"
   ]
  },
  {
   "cell_type": "code",
   "execution_count": 102,
   "id": "bec598bc-0e11-4966-a9a6-175f45cc1a7d",
   "metadata": {},
   "outputs": [
    {
     "name": "stdout",
     "output_type": "stream",
     "text": [
      "[iter 0] loss=2.6057 val_loss=2.5358 scale=1.0000 norm=2.5090\n",
      "[iter 100] loss=2.1214 val_loss=2.2086 scale=1.0000 norm=1.7065\n",
      "[iter 200] loss=1.8483 val_loss=2.1152 scale=2.0000 norm=2.8735\n",
      "== Early stopping achieved.\n",
      "== Best iteration / VAL186 (val_loss=2.1139)\n",
      "[iter 0] loss=2.6057 val_loss=0.0000 scale=1.0000 norm=2.5090\n",
      "[iter 100] loss=2.1214 val_loss=0.0000 scale=1.0000 norm=1.7065\n",
      "0.15852789788791197\n"
     ]
    }
   ],
   "source": [
    "from sklearn.model_selection import train_test_split\n",
    "\n",
    "X_tr, X_va, y_tr, y_va = train_test_split(X_train, y_train, test_size=0.3, random_state=RANDOM_STATE)\n",
    "model_tmp = NGBRegressor(**study_.best_params, n_estimators=30000)\n",
    "model_tmp.fit(X_tr, y_tr, X_val=X_va, Y_val=y_va, early_stopping_rounds=early_stopping_rounds)\n",
    "\n",
    "model_va = NGBRegressor(**study_.best_params, n_estimators=model_tmp.best_val_loss_itr)\n",
    "model_va.fit(X_tr, y_tr)\n",
    "p_va = model_va.predict(X_va)\n",
    "print(SCORING_(y_va, p_va))"
   ]
  },
  {
   "cell_type": "code",
   "execution_count": 91,
   "id": "7966560f-8484-4454-a862-c820c825b356",
   "metadata": {},
   "outputs": [
    {
     "name": "stdout",
     "output_type": "stream",
     "text": [
      "[iter 0] loss=2.5863 val_loss=0.0000 scale=1.0000 norm=2.4917\n",
      "[iter 100] loss=2.1108 val_loss=0.0000 scale=1.0000 norm=1.6761\n"
     ]
    }
   ],
   "source": [
    "model_ = NGBRegressor(**study_.best_params, n_estimators=model_tmp.best_val_loss_itr)\n",
    "model_.fit(X_train, y_train)\n",
    "p_test_ngb = model_.predict(X_test)"
   ]
  },
  {
   "cell_type": "markdown",
   "id": "e042a79f-3317-45e7-a24a-661d868b5bc7",
   "metadata": {},
   "source": [
    "# CATBOOST"
   ]
  },
  {
   "cell_type": "code",
   "execution_count": null,
   "id": "9fee569d-6674-4f8b-86cf-e3c7a77ee924",
   "metadata": {},
   "outputs": [],
   "source": [
    "# xbgoost\n",
    "from sklearn.model_selection import StratifiedKFold\n",
    "from catboost import CatBoostRegressor\n",
    "import time\n",
    "\n",
    "early_stopping_rounds = 100\n",
    "\n",
    "def obj_xgr(trial_):\n",
    "    lst_param = {\n",
    "        \"random_state\" : RANDOM_STATE,\n",
    "        \"eval_metric\" : EVAL_METRIC,\n",
    "        # ------------------------------------------------------------\n",
    "        # Learning_rate: 성능고려해서 조절 - 낮을수록 고득점 유리\n",
    "        \"learning_rate\" : 0.05,\n",
    "        # \"learning_rate\" : trial_.suggest_loguniform(\"learning_rate\", 0.0001, 0.3),\n",
    "        \n",
    "        # \"n_estimators\": trial_.suggest_int(\"n_estimators\", 50, 1000),\n",
    "        \"n_estimators\": 10000,\n",
    "        \n",
    "        # \"Max_depth\": 01\n",
    "        \"max_depth\":trial_.suggest_int(\"max_depth\", 2, 10),\n",
    "        \n",
    "        # \"Max_leaves\": 02\n",
    "        \"max_leaves\":trial_.suggest_int(\"max_leaves\", 32, 1024),\n",
    "        \n",
    "        # \"Row_sampling\", \"Col_sampling\": 03\n",
    "        \"subsample\": 0.7,\n",
    "        # \"subsample\":trial_.suggest_float(\"subsample\", 0.5, 1.0),\n",
    "        \"colsample_bytree\": 0.7,\n",
    "        # \"colsample_bytree\":trial_.suggest_float(\"colsample_bytree\", 0.5, 1.0),\n",
    "        \n",
    "        \n",
    "        # \"booster\": trial_.suggest_categorical(\"booster\", [\"gbtree\", \"gblinear\", \"dart\"]),\n",
    "        \"lambda\": trial_.suggest_loguniform(\"lambda\", 1e-8, 1.0),\n",
    "        \"alpha\": trial_.suggest_loguniform(\"alpha\", 1e-8, 1.0),\n",
    "        \n",
    "        # ------------------------------------------------------------\n",
    "        # \"Tree_method\":\n",
    "        # \"tree_method\" : \"gpu_hist\",\n",
    "        # \"tree_method\" : trial_.suggest_categorical(\"tree_method\", [\"exact\", \"approx\", \"hist\", \"gpu_hist\"]),\n",
    "        \n",
    "        # ------------------------------------------------------------\n",
    "        # 'reg_alpha': 2.9735993984217104,\n",
    "        # 'reg_lambda': 2.214625977393439,\n",
    "        # 'scale_pos_weight': 0.9,\n",
    "        # 'gamma': 0.5\n",
    "    }\n",
    "    \n",
    "    # if lst_param[\"booster\"] == \"gbtree\" or lst_param[\"booster\"] == \"dart\":\n",
    "        # lst_param[\"max_depth\"] = trial_.suggest_int(\"max_depth\", 1, 9)\n",
    "        # lst_param[\"eta\"] = trial_.suggest_loguniform(\"eta\", 1e-8, 1.0)\n",
    "        # lst_param[\"gamma\"] = trial_.suggest_loguniform(\"gamma\", 1e-8, 1.0)\n",
    "        # lst_param[\"grow_policy\"] = trial_.suggest_categorical(\"grow_policy\", [\"depthwise\", \"lossguide\"])\n",
    "    # if lst_param[\"booster\"] == \"dart\":\n",
    "    #     lst_param[\"sample_type\"] = trial_.suggest_categorical(\"sample_type\", [\"uniform\", \"weighted\"])\n",
    "    #     lst_param[\"normalize_type\"] = trial_.suggest_categorical(\"normalize_type\", [\"tree\", \"forest\"])\n",
    "    #     lst_param[\"rate_drop\"] = trial_.suggest_loguniform(\"rate_drop\", 1e-8, 1.0)\n",
    "    #     lst_param[\"skip_drop\"] = trial_.suggest_loguniform(\"skip_drop\", 1e-8, 1.0)\n",
    "    \n",
    "    time_s = time.time()\n",
    "    lst_score = []\n",
    "    \n",
    "    cv_ = StratifiedKFold(n_splits=5, shuffle=True, random_state=RANDOM_STATE)\n",
    "    for indice_tr, indice_va in cv_.split(X_train, y_train):\n",
    "        X_tr, X_va = X_train.iloc[indice_tr], X_train.iloc[indice_va]\n",
    "        y_tr, y_va = y_train.iloc[indice_tr], y_train.iloc[indice_va]\n",
    "        model_ = CatBoostRegressor(**lst_param)\n",
    "        model_.fit(\n",
    "            X_tr,\n",
    "            y_tr,\n",
    "            eval_set = [(X_va, y_va)],\n",
    "            eval_metric=EVAL_METRIC,\n",
    "            early_stopping_rounds=early_stopping_rounds,\n",
    "            verbose=VERBOSE_,\n",
    "        )\n",
    "        p_va = model_.predict(X_va)\n",
    "        lst_score.append(SCORING_(y_va, p_va))\n",
    "    score_va = np.mean(lst_score)\n",
    "    \n",
    "    if VERBOSE_:\n",
    "        print(\"VS: {:>6.4f}, ET: {:>6.2f}\".format(score_va, time.time() - time_s))\n",
    "\n",
    "    return score_va"
   ]
  },
  {
   "cell_type": "code",
   "execution_count": null,
   "id": "e603804b-ac86-4c3a-8cba-48250fc3cac5",
   "metadata": {},
   "outputs": [],
   "source": [
    "TRIALS = 100\n",
    "TIMEOUT = 1200\n",
    "\n",
    "sampler_ = TPESampler()\n",
    "study_ = optuna.create_study(\n",
    "    direction = 'minimize',\n",
    "    sampler = sampler_,\n",
    ")\n",
    "study_.optimize(obj_xgr, n_trials=TRIALS, timeout=TIMEOUT, show_progress_bar=1)\n",
    "print(study_.best_value)\n",
    "print(study_.best_trial.params)"
   ]
  },
  {
   "cell_type": "code",
   "execution_count": null,
   "id": "c34a2b0b-7b57-4ed6-b543-94f38c4282f2",
   "metadata": {},
   "outputs": [],
   "source": [
    "model_ = XGBRegressor(**study_.best_params, n_estimators=model_tmp.get_booster().best_ntree_limit)\n",
    "model_.fit(X_train, y_train)\n",
    "p_test_xgb = model_.predict(X_test)"
   ]
  },
  {
   "cell_type": "code",
   "execution_count": null,
   "id": "f2bc8057-5df2-41b1-994e-49278c82c8de",
   "metadata": {},
   "outputs": [],
   "source": []
  },
  {
   "cell_type": "markdown",
   "id": "77709271-b747-463d-8638-2167f472efe0",
   "metadata": {},
   "source": [
    "# SOFT VOTING"
   ]
  },
  {
   "cell_type": "code",
   "execution_count": 95,
   "id": "3617a4b9-3a55-4a93-8a44-83e698de8283",
   "metadata": {},
   "outputs": [],
   "source": [
    "# df_sub[target] = .5 * p_test_xgb + .5 * p_test_ngb\n",
    "# df_sub[target] = 0 * p_test_xgb + 1 * p_test_ngb\n",
    "# df_sub[target] = 1 * p_test_xgb + 0 * p_test_ngb\n",
    "\n",
    "\n",
    "import datetime\n",
    "now = datetime.datetime.now()\n",
    "str_datetime = now.strftime(\"%y%m%d_%H%M%S\")\n",
    "df_sub.to_csv(dir_dataset+'submission-'+name_project+'-'+str_datetime+'.csv', index = 0)"
   ]
  },
  {
   "cell_type": "code",
   "execution_count": 93,
   "id": "9264c735-d3f1-4c6c-a2db-53ea33978e7b",
   "metadata": {},
   "outputs": [
    {
     "data": {
      "text/html": [
       "<div>\n",
       "<style scoped>\n",
       "    .dataframe tbody tr th:only-of-type {\n",
       "        vertical-align: middle;\n",
       "    }\n",
       "\n",
       "    .dataframe tbody tr th {\n",
       "        vertical-align: top;\n",
       "    }\n",
       "\n",
       "    .dataframe thead th {\n",
       "        text-align: right;\n",
       "    }\n",
       "</style>\n",
       "<table border=\"1\" class=\"dataframe\">\n",
       "  <thead>\n",
       "    <tr style=\"text-align: right;\">\n",
       "      <th></th>\n",
       "      <th>id</th>\n",
       "      <th>Target</th>\n",
       "    </tr>\n",
       "  </thead>\n",
       "  <tbody>\n",
       "    <tr>\n",
       "      <th>0</th>\n",
       "      <td>1</td>\n",
       "      <td>11.575770</td>\n",
       "    </tr>\n",
       "    <tr>\n",
       "      <th>1</th>\n",
       "      <td>2</td>\n",
       "      <td>13.431096</td>\n",
       "    </tr>\n",
       "    <tr>\n",
       "      <th>2</th>\n",
       "      <td>3</td>\n",
       "      <td>6.316694</td>\n",
       "    </tr>\n",
       "    <tr>\n",
       "      <th>3</th>\n",
       "      <td>4</td>\n",
       "      <td>10.871872</td>\n",
       "    </tr>\n",
       "    <tr>\n",
       "      <th>4</th>\n",
       "      <td>5</td>\n",
       "      <td>10.045742</td>\n",
       "    </tr>\n",
       "    <tr>\n",
       "      <th>...</th>\n",
       "      <td>...</td>\n",
       "      <td>...</td>\n",
       "    </tr>\n",
       "    <tr>\n",
       "      <th>2919</th>\n",
       "      <td>2920</td>\n",
       "      <td>4.433254</td>\n",
       "    </tr>\n",
       "    <tr>\n",
       "      <th>2920</th>\n",
       "      <td>2921</td>\n",
       "      <td>7.542690</td>\n",
       "    </tr>\n",
       "    <tr>\n",
       "      <th>2921</th>\n",
       "      <td>2922</td>\n",
       "      <td>9.201646</td>\n",
       "    </tr>\n",
       "    <tr>\n",
       "      <th>2922</th>\n",
       "      <td>2923</td>\n",
       "      <td>10.051076</td>\n",
       "    </tr>\n",
       "    <tr>\n",
       "      <th>2923</th>\n",
       "      <td>2924</td>\n",
       "      <td>11.527444</td>\n",
       "    </tr>\n",
       "  </tbody>\n",
       "</table>\n",
       "<p>2924 rows × 2 columns</p>\n",
       "</div>"
      ],
      "text/plain": [
       "        id     Target\n",
       "0     1     11.575770\n",
       "1     2     13.431096\n",
       "2     3     6.316694 \n",
       "3     4     10.871872\n",
       "4     5     10.045742\n",
       "...  ..           ...\n",
       "2919  2920  4.433254 \n",
       "2920  2921  7.542690 \n",
       "2921  2922  9.201646 \n",
       "2922  2923  10.051076\n",
       "2923  2924  11.527444\n",
       "\n",
       "[2924 rows x 2 columns]"
      ]
     },
     "execution_count": 93,
     "metadata": {},
     "output_type": "execute_result"
    }
   ],
   "source": [
    "df_sub"
   ]
  },
  {
   "cell_type": "code",
   "execution_count": null,
   "id": "5ba97ed0-074c-43fe-afa4-d71d4b159e06",
   "metadata": {},
   "outputs": [],
   "source": []
  },
  {
   "cell_type": "code",
   "execution_count": null,
   "id": "69743b18-1e10-42de-bae2-878ec33eaf41",
   "metadata": {
    "tags": []
   },
   "outputs": [],
   "source": [
    "# catboost\n",
    "from sklearn.model_selection import StratifiedKFold\n",
    "from catboost import CatBoostRegressor\n",
    "import time\n",
    "\n",
    "early_stopping_rounds = 30\n",
    "\n",
    "def obj_cbr(trial_):\n",
    "    lst_param = {\n",
    "        \n",
    "    }\n",
    "    \n",
    "    cv_ = StratifiedKFold(n_splits=5, shuffle=True, random_state=RANDOM_STATE)\n",
    "    \n",
    "    lst_score =[]\n",
    "    for indice_tr, indice_va in cv_.split(X_train, y_train):\n",
    "        X_tr, X_va = X_train.iloc[indice_tr]\n",
    "        y_tr, y_va = y_train.iloc[indice_va] \n",
    "    \n",
    "        model_ = CatBoostRegressor(**lst_param)\n",
    "        model_.fit(\n",
    "            X_tr,\n",
    "            y_tr,\n",
    "            eval_set = [(X_va, y_va)],\n",
    "            eval_metric=EVAL_METRIC,\n",
    "            early_stopping_rounds=early_stopping_rounds\n",
    "            verbose=VERBOSE_\n",
    "        )\n",
    "        y_pr = model.predict_proba(X_va)[:,1]\n",
    "        lst_score.append(SCORE_(y_va, y_pr))\n",
    "    score_va = mean(lst_score)\n",
    "    return score_va"
   ]
  },
  {
   "cell_type": "code",
   "execution_count": 35,
   "id": "64a03319-cdb7-4dce-a150-df9ce0057cc7",
   "metadata": {
    "tags": []
   },
   "outputs": [],
   "source": [
    "from sklearn.metrics import mean_absolute_error as mae\n",
    "from sklearn.model_selection import train_test_split\n",
    "from catboost import CatBoostRegressor\n",
    "import time\n",
    "\n",
    "def objective(trial):\n",
    "    params = {\n",
    "        \"random_state\":trial.suggest_categorical(\"random_state\", [0]),\n",
    "        'learning_rate' : trial.suggest_loguniform('learning_rate', 0.0001, 0.3),\n",
    "        'bagging_temperature' :trial.suggest_loguniform('bagging_temperature', 0.01, 100.00),\n",
    "        # \"n_estimators\": trial.suggest_int(\"n_estimators\", 50, 1000),\n",
    "        \"n_estimators\": 1000,\n",
    "        \"max_depth\":trial.suggest_int(\"max_depth\", 2, 9),\n",
    "        'random_strength' :trial.suggest_int('random_strength', 0, 100),\n",
    "        \"l2_leaf_reg\":trial.suggest_float(\"l2_leaf_reg\",1e-8,3e-5),\n",
    "        \"min_child_samples\": trial.suggest_int(\"min_child_samples\", 5, 100),\n",
    "        \"max_bin\": trial.suggest_int(\"max_bin\", 200, 500),\n",
    "        # 'od_type': trial.suggest_categorical('od_type', ['IncToDec', 'Iter']),\n",
    "        # 'task_type': trial.suggest_categorical('task_type', ['GPU']),\n",
    "        'loss_function': trial.suggest_categorical('loss_function', ['MAE']),\n",
    "        'eval_metric': trial.suggest_categorical('eval_metric', ['MAE'])\n",
    "    }\n",
    "    \n",
    "    model = CatBoostRegressor(**params)\n",
    "    \n",
    "    time_s = time.time()\n",
    "    # for key_, value_ in params.items():\n",
    "    #     print(key_, value_)\n",
    "        \n",
    "    X_train_tmp, X_valid_tmp, y_train_tmp, y_valid_tmp = train_test_split(X_tr, y_tr, test_size=0.3, random_state=42)\n",
    "    model.fit(\n",
    "        X_train_tmp, y_train_tmp,\n",
    "        eval_set=[(X_valid_tmp, y_valid_tmp)],\n",
    "        early_stopping_rounds=50, \n",
    "        verbose=0,\n",
    "    )\n",
    "        \n",
    "    y_train_pred = model.predict(X_train_tmp)\n",
    "    y_valid_pred = model.predict(X_valid_tmp)\n",
    "    train_mae = mae(y_train_tmp, y_train_pred)\n",
    "    valid_mae = mae(y_valid_tmp, y_valid_pred)\n",
    "    \n",
    "    # print(f'MAE of Train: {train_mae}, MAE of Validation: {valid_mae}', time.time() - time_s)\n",
    "    # print(f'MAE of Train: {train_mae}, MAE of Validation: {valid_mae}', time.time() - time_s)\n",
    "    print(\"MAE Tr: {:5.3f}, MAE Va: {:5.3f}, ET: {:06.1f}\".format(train_mae, valid_mae, time.time() - time_s))\n",
    "    \n",
    "    # print()\n",
    "    \n",
    "    return valid_mae"
   ]
  },
  {
   "cell_type": "code",
   "execution_count": 36,
   "id": "9156f691-120e-4a86-bd20-41f46a0333d9",
   "metadata": {
    "collapsed": true,
    "jupyter": {
     "outputs_hidden": true
    },
    "tags": []
   },
   "outputs": [
    {
     "name": "stdout",
     "output_type": "stream",
     "text": [
      "MAE Tr: 1.418, MAE Va: 1.465, ET: 0000.1\n",
      "MAE Tr: 1.989, MAE Va: 1.872, ET: 0001.0\n",
      "MAE Tr: 2.259, MAE Va: 2.112, ET: 0001.9\n",
      "MAE Tr: 2.026, MAE Va: 1.936, ET: 0011.0\n",
      "MAE Tr: 1.441, MAE Va: 1.425, ET: 0000.1\n",
      "MAE Tr: 1.429, MAE Va: 1.424, ET: 0000.3\n",
      "MAE Tr: 2.299, MAE Va: 2.148, ET: 0002.6\n",
      "MAE Tr: 1.368, MAE Va: 1.440, ET: 0002.2\n",
      "MAE Tr: 0.995, MAE Va: 1.418, ET: 0023.4\n",
      "MAE Tr: 1.489, MAE Va: 1.487, ET: 0000.1\n",
      "MAE Tr: 1.007, MAE Va: 1.412, ET: 0020.8\n",
      "MAE Tr: 1.000, MAE Va: 1.420, ET: 0017.9\n",
      "MAE Tr: 1.387, MAE Va: 1.492, ET: 0005.1\n",
      "MAE Tr: 1.049, MAE Va: 1.406, ET: 0002.5\n",
      "MAE Tr: 1.091, MAE Va: 1.424, ET: 0001.0\n",
      "MAE Tr: 1.040, MAE Va: 1.409, ET: 0003.8\n",
      "MAE Tr: 1.281, MAE Va: 1.421, ET: 0000.7\n",
      "MAE Tr: 1.146, MAE Va: 1.421, ET: 0000.6\n",
      "MAE Tr: 1.115, MAE Va: 1.416, ET: 0001.8\n",
      "MAE Tr: 1.177, MAE Va: 1.419, ET: 0001.0\n",
      "MAE Tr: 1.729, MAE Va: 1.659, ET: 0001.3\n",
      "MAE Tr: 1.040, MAE Va: 1.407, ET: 0004.2\n",
      "MAE Tr: 1.066, MAE Va: 1.416, ET: 0003.0\n",
      "MAE Tr: 1.072, MAE Va: 1.404, ET: 0001.0\n",
      "MAE Tr: 1.184, MAE Va: 1.421, ET: 0000.7\n",
      "MAE Tr: 1.516, MAE Va: 1.506, ET: 0001.9\n",
      "MAE Tr: 1.258, MAE Va: 1.454, ET: 0000.3\n",
      "MAE Tr: 1.085, MAE Va: 1.420, ET: 0003.3\n",
      "MAE Tr: 1.196, MAE Va: 1.417, ET: 0001.0\n",
      "MAE Tr: 1.295, MAE Va: 1.412, ET: 0000.2\n",
      "MAE Tr: 1.067, MAE Va: 1.403, ET: 0001.1\n",
      "MAE Tr: 1.195, MAE Va: 1.414, ET: 0000.7\n",
      "MAE Tr: 1.032, MAE Va: 1.455, ET: 0000.9\n",
      "MAE Tr: 1.051, MAE Va: 1.408, ET: 0001.6\n",
      "MAE Tr: 1.262, MAE Va: 1.440, ET: 0000.3\n",
      "MAE Tr: 0.998, MAE Va: 1.418, ET: 0021.2\n",
      "MAE Tr: 1.925, MAE Va: 1.828, ET: 0002.2\n",
      "MAE Tr: 0.999, MAE Va: 1.440, ET: 0000.9\n",
      "MAE Tr: 1.148, MAE Va: 1.425, ET: 0000.9\n",
      "MAE Tr: 1.376, MAE Va: 1.471, ET: 0000.2\n",
      "MAE Tr: 0.923, MAE Va: 1.418, ET: 0005.6\n",
      "MAE Tr: 1.201, MAE Va: 1.414, ET: 0001.0\n",
      "MAE Tr: 1.203, MAE Va: 1.406, ET: 0000.6\n",
      "MAE Tr: 1.073, MAE Va: 1.413, ET: 0001.1\n",
      "MAE Tr: 1.078, MAE Va: 1.402, ET: 0000.8\n",
      "MAE Tr: 1.149, MAE Va: 1.406, ET: 0000.4\n",
      "MAE Tr: 1.218, MAE Va: 1.446, ET: 0000.2\n",
      "MAE Tr: 1.381, MAE Va: 1.471, ET: 0000.2\n",
      "MAE Tr: 1.192, MAE Va: 1.439, ET: 0000.3\n",
      "MAE Tr: 1.414, MAE Va: 1.432, ET: 0000.1\n",
      "MAE Tr: 1.220, MAE Va: 1.434, ET: 0000.4\n",
      "MAE Tr: 1.091, MAE Va: 1.408, ET: 0001.1\n",
      "MAE Tr: 1.202, MAE Va: 1.417, ET: 0001.2\n",
      "MAE Tr: 1.129, MAE Va: 1.406, ET: 0000.6\n",
      "MAE Tr: 1.138, MAE Va: 1.412, ET: 0000.5\n",
      "MAE Tr: 1.124, MAE Va: 1.436, ET: 0000.6\n",
      "MAE Tr: 1.308, MAE Va: 1.440, ET: 0000.2\n",
      "MAE Tr: 1.250, MAE Va: 1.420, ET: 0000.6\n",
      "MAE Tr: 1.054, MAE Va: 1.413, ET: 0000.8\n",
      "MAE Tr: 2.179, MAE Va: 2.041, ET: 0001.4\n",
      "MAE Tr: 1.144, MAE Va: 1.413, ET: 0000.4\n",
      "MAE Tr: 0.979, MAE Va: 1.408, ET: 0001.9\n",
      "MAE Tr: 1.165, MAE Va: 1.436, ET: 0000.5\n",
      "MAE Tr: 1.147, MAE Va: 1.414, ET: 0001.7\n",
      "MAE Tr: 1.162, MAE Va: 1.409, ET: 0001.5\n",
      "MAE Tr: 1.160, MAE Va: 1.451, ET: 0000.8\n",
      "MAE Tr: 1.279, MAE Va: 1.424, ET: 0002.3\n",
      "MAE Tr: 1.147, MAE Va: 1.412, ET: 0000.7\n",
      "MAE Tr: 1.022, MAE Va: 1.440, ET: 0007.3\n",
      "MAE Tr: 1.115, MAE Va: 1.418, ET: 0001.1\n",
      "MAE Tr: 1.150, MAE Va: 1.410, ET: 0000.7\n",
      "MAE Tr: 1.039, MAE Va: 1.408, ET: 0003.7\n",
      "MAE Tr: 0.939, MAE Va: 1.418, ET: 0021.3\n",
      "MAE Tr: 1.271, MAE Va: 1.441, ET: 0006.5\n",
      "MAE Tr: 1.129, MAE Va: 1.416, ET: 0001.8\n",
      "MAE Tr: 0.980, MAE Va: 1.407, ET: 0001.2\n",
      "MAE Tr: 1.197, MAE Va: 1.416, ET: 0001.2\n",
      "MAE Tr: 1.324, MAE Va: 1.422, ET: 0000.5\n",
      "MAE Tr: 1.151, MAE Va: 1.419, ET: 0001.3\n",
      "MAE Tr: 1.261, MAE Va: 1.432, ET: 0002.7\n",
      "MAE Tr: 1.110, MAE Va: 1.440, ET: 0000.2\n",
      "MAE Tr: 1.037, MAE Va: 1.413, ET: 0001.1\n",
      "MAE Tr: 0.919, MAE Va: 1.451, ET: 0000.8\n",
      "MAE Tr: 0.860, MAE Va: 1.408, ET: 0005.9\n",
      "MAE Tr: 1.084, MAE Va: 1.438, ET: 0000.8\n",
      "MAE Tr: 1.024, MAE Va: 1.409, ET: 0001.8\n",
      "MAE Tr: 1.103, MAE Va: 1.416, ET: 0005.1\n",
      "MAE Tr: 1.110, MAE Va: 1.435, ET: 0000.5\n",
      "MAE Tr: 1.087, MAE Va: 1.420, ET: 0001.6\n",
      "MAE Tr: 0.877, MAE Va: 1.396, ET: 0001.1\n",
      "MAE Tr: 2.312, MAE Va: 2.157, ET: 0003.0\n",
      "MAE Tr: 1.134, MAE Va: 1.420, ET: 0000.6\n",
      "MAE Tr: 1.149, MAE Va: 1.418, ET: 0000.8\n",
      "MAE Tr: 1.104, MAE Va: 1.435, ET: 0001.6\n",
      "MAE Tr: 1.142, MAE Va: 1.410, ET: 0000.7\n",
      "MAE Tr: 1.156, MAE Va: 1.420, ET: 0001.2\n",
      "MAE Tr: 1.256, MAE Va: 1.418, ET: 0001.2\n",
      "MAE Tr: 1.171, MAE Va: 1.412, ET: 0001.5\n",
      "MAE Tr: 1.164, MAE Va: 1.414, ET: 0001.2\n",
      "MAE Tr: 1.412, MAE Va: 1.420, ET: 0000.2\n",
      "1.39638022789636 {'random_state': 0, 'learning_rate': 0.057049900855158896, 'bagging_temperature': 0.4657472139497721, 'max_depth': 7, 'random_strength': 75, 'l2_leaf_reg': 1.2724583196784004e-05, 'min_child_samples': 49, 'max_bin': 456, 'loss_function': 'MAE', 'eval_metric': 'MAE'}\n"
     ]
    }
   ],
   "source": [
    "TRIALS = 100\n",
    "TIMEOUT = 1200\n",
    "\n",
    "sampler_ = TPESampler()\n",
    "study_ = optuna.create_study(\n",
    "    study_name = 'cat_parameter_opt',\n",
    "    direction = 'minimize',\n",
    "    sampler = sampler_,\n",
    ")\n",
    "study_.optimize(objective, n_trials=TRIALS, timeout=TIMEOUT, show_progress_bar=0, )\n",
    "print(study_.best_value, study_.best_trial.params)"
   ]
  },
  {
   "cell_type": "code",
   "execution_count": null,
   "id": "b8b40712-536d-472f-be09-674a3aa7dc4b",
   "metadata": {},
   "outputs": [],
   "source": []
  }
 ],
 "metadata": {
  "kernelspec": {
   "display_name": "Python 3 (ipykernel)",
   "language": "python",
   "name": "python3"
  },
  "language_info": {
   "codemirror_mode": {
    "name": "ipython",
    "version": 3
   },
   "file_extension": ".py",
   "mimetype": "text/x-python",
   "name": "python",
   "nbconvert_exporter": "python",
   "pygments_lexer": "ipython3",
   "version": "3.8.10"
  },
  "widgets": {
   "application/vnd.jupyter.widget-state+json": {
    "state": {},
    "version_major": 2,
    "version_minor": 0
   }
  }
 },
 "nbformat": 4,
 "nbformat_minor": 5
}
