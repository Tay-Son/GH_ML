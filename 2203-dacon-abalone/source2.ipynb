{
 "cells": [
  {
   "cell_type": "code",
   "execution_count": 1,
   "id": "57d12d06-84d8-4dd2-97fa-64f475c08e6b",
   "metadata": {},
   "outputs": [],
   "source": [
    "# Notebook 출력설정\n",
    "# 주요 라이브러리 임포트\n",
    "\n",
    "import warnings\n",
    "warnings.filterwarnings('ignore')\n",
    "\n",
    "import numpy as np\n",
    "import pandas as pd\n",
    "pd.set_option('display.max_colwidth', -1)\n",
    "pd.set_option('display.max_rows', 500)\n",
    "pd.set_option('display.max_columns', 500)\n",
    "pd.set_option('display.width', 1000)\n",
    "\n",
    "%matplotlib inline\n",
    "import matplotlib.pylab as plt\n",
    "plt.rcParams[\"figure.figsize\"] = (15,5)\n",
    "plt.rcParams['lines.linewidth'] = 1\n",
    "plt.rcParams['axes.grid'] = True\n",
    "import seaborn as sns"
   ]
  },
  {
   "cell_type": "code",
   "execution_count": 2,
   "id": "b4b2ef87-3576-439e-9dd8-65cdf1f7c3f6",
   "metadata": {},
   "outputs": [],
   "source": [
    "# 원본 데이터셋 로드\n",
    "dir_dataset = \"C:/Users/0stix/Datasets/\"\n",
    "name_project = '2203-dacon-abalone'\n",
    "df_train = pd.read_csv(dir_dataset+name_project+'/train.csv')\n",
    "df_test = pd.read_csv(dir_dataset+name_project+'/test.csv')\n",
    "df_sub = pd.read_csv(dir_dataset+name_project+'/sample_submission.csv')\n",
    "\n",
    "len_train = len(df_train)\n",
    "df_all = pd.concat([df_train, df_test], axis=0)\n",
    "target = 'Target'"
   ]
  },
  {
   "cell_type": "code",
   "execution_count": 74,
   "id": "d9506920-9966-409c-a48c-c9ac3f7d6383",
   "metadata": {},
   "outputs": [],
   "source": [
    "eta_ = 0.00001\n",
    "\n",
    "df_v0 = pd.DataFrame()\n",
    "\n",
    "df_v0 = pd.get_dummies(df_all['Gender'].astype('category').cat.codes, prefix='G')\n",
    "\n",
    "df_v0['L'] = df_all['Lenght']\n",
    "df_v0['D'] = df_all['Diameter']\n",
    "df_v0['H'] = df_all['Height']\n",
    "\n",
    "df_v0['V'] = df_v0['L'] * df_v0['D'] * df_v0['H']\n",
    "df_v0['L/D'] = df_v0['L'] / (df_v0['D'] + eta_)\n",
    "df_v0['D/H'] = df_v0['D'] / (df_v0['H'] + eta_)\n",
    "df_v0['H/L'] = df_v0['H'] / (df_v0['L'] + eta_)\n",
    "\n",
    "df_v0['wWl'] = df_all['Whole Weight']\n",
    "df_v0['wSk'] = df_all['Shucked Weight']\n",
    "df_v0['wVs'] = df_all['Viscra Weight']\n",
    "df_v0['wSl'] = df_all['Shell Weight']\n",
    "df_v0['wEt'] = df_v0['wWl'] - (df_v0['wSk'] + df_v0['wVs'] + df_v0['wSl'])\n",
    "\n",
    "df_v0['rSk'] = df_v0['wSk'] / (df_v0['wWl'] + eta_)\n",
    "df_v0['rVs'] = df_v0['wVs'] / (df_v0['wWl'] + eta_)\n",
    "df_v0['rSl'] = df_v0['wSl'] / (df_v0['wWl'] + eta_)\n",
    "\n",
    "df_v0['wWl/V'] = df_v0['wWl'] / (df_v0['V'] + eta_)\n",
    "# df_v0['wSk/V'] = df_v0['wSk'] / df_v0['V']\n",
    "# df_v0['wVs/V'] = df_v0['wVs'] / df_v0['V']\n",
    "df_v0['wSl/V'] = df_v0['wSl'] / (df_v0['V'] + eta_)\n",
    "df_v0['wEt/V'] = df_v0['wEt'] / (df_v0['V'] + eta_)\n",
    "\n",
    "df_v0['rSk/V'] = df_v0['rSk'] / (df_v0['V'] + eta_)\n",
    "df_v0['rVs/V'] = df_v0['rVs'] / (df_v0['V'] + eta_)\n",
    "# df_v0['rSl/V'] = df_v0['rSl'] / df_v0['V']\n",
    "\n",
    "# df_v0['rSk/L'] = df_v0['rSk'] / df_v0['L']\n",
    "# df_v0['rSk/D'] = df_v0['rSk'] / df_v0['D']\n",
    "# df_v0['rSk/H'] = df_v0['rSk'] / df_v0['H']\n",
    "# df_v0['rSk/D/H'] = df_v0['rSk'] / df_v0['D/H']\n",
    "\n",
    "\n",
    "# df_v0[target] = df_all[target] + .5\n",
    "df_v0[target] = df_all[target]"
   ]
  },
  {
   "cell_type": "code",
   "execution_count": 75,
   "id": "55d0dcf7-2065-41cd-8653-349247c4944b",
   "metadata": {
    "tags": []
   },
   "outputs": [
    {
     "data": {
      "text/plain": [
       "G_0      0.241170\n",
       "G_1      0.437064\n",
       "G_2      0.193054\n",
       "L        0.543789\n",
       "D        0.567933\n",
       "H        0.604654\n",
       "V        0.548341\n",
       "L/D      0.387792\n",
       "D/H      0.239966\n",
       "H/L      0.377216\n",
       "wWl      0.538404\n",
       "wSk      0.420126\n",
       "wVs      0.497283\n",
       "wSl      0.625819\n",
       "wEt      0.509678\n",
       "rSk      0.188242\n",
       "rVs      0.092707\n",
       "rSl      0.167282\n",
       "wWl/V    0.175033\n",
       "wSl/V    0.010841\n",
       "wEt/V    0.127347\n",
       "rSk/V    0.361384\n",
       "rVs/V    0.336601\n",
       "dtype: float64"
      ]
     },
     "execution_count": 75,
     "metadata": {},
     "output_type": "execute_result"
    }
   ],
   "source": [
    "df_v0.drop(target, axis=1).corrwith(df_v0[target]).abs()"
   ]
  },
  {
   "cell_type": "code",
   "execution_count": 76,
   "id": "0314387d-4125-4e84-b14f-b78d7d13201e",
   "metadata": {},
   "outputs": [],
   "source": [
    "def tr_te_split(df_all, len_train, target):\n",
    "    X = df_all.drop(target, axis=1)\n",
    "    y = df_all[target]\n",
    "    X_tr = X[:len_train]\n",
    "    y_tr = y[:len_train]\n",
    "    X_te = X[len_train:]\n",
    "    return X_tr, y_tr, X_te"
   ]
  },
  {
   "cell_type": "code",
   "execution_count": 77,
   "id": "a0ac44f3-a76f-497e-93f0-ca2443ff68c4",
   "metadata": {},
   "outputs": [],
   "source": [
    "# 고속 데이터셋 평가\n",
    "def eval_df(X, y, lst_model):\n",
    "    from sklearn.model_selection import cross_val_score\n",
    "    \n",
    "    grd_score = []\n",
    "    for model_ in lst_model:\n",
    "        grd_score.append(cross_val_score(\n",
    "            model_, \n",
    "            X, \n",
    "            y, \n",
    "            cv=5, \n",
    "            scoring=\"neg_mean_absolute_error\", \n",
    "            n_jobs=-1))\n",
    "        \n",
    "    return grd_score"
   ]
  },
  {
   "cell_type": "code",
   "execution_count": 78,
   "id": "eb472121-9982-4187-9949-df65fa7af999",
   "metadata": {},
   "outputs": [],
   "source": [
    "from xgboost import XGBRegressor\n",
    "from catboost import CatBoostRegressor\n",
    "\n",
    "lst_model = [\n",
    "    # XGBRegressor(),\n",
    "    CatBoostRegressor(silent=True)\n",
    "]\n",
    "\n",
    "X_train, y_train, X_test = tr_te_split(df_v0, len_train, target)\n",
    "# X_train.shape, y_train.shape, X_test.shape\n",
    "# grd_score = eval_df(X_trrain, y_train, lst_model)"
   ]
  },
  {
   "cell_type": "code",
   "execution_count": 79,
   "id": "25ad567f-84ab-4427-b6e7-d1468ca38627",
   "metadata": {},
   "outputs": [],
   "source": [
    "import optuna\n",
    "from optuna.samplers import TPESampler\n",
    "optuna.logging.set_verbosity(optuna.logging.CRITICAL)"
   ]
  },
  {
   "cell_type": "code",
   "execution_count": 80,
   "id": "e00867b0-8830-492a-8148-ff145614eb3b",
   "metadata": {},
   "outputs": [],
   "source": [
    "import numpy as np\n",
    "\n",
    "def NMAE_(true, pred):\n",
    "    mae = np.mean(np.abs(true-pred))\n",
    "    score = mae / np.mean(np.abs(true))\n",
    "    return score"
   ]
  },
  {
   "cell_type": "code",
   "execution_count": 81,
   "id": "a91879af-1a68-48e0-b707-59beecf9ee4b",
   "metadata": {},
   "outputs": [],
   "source": [
    "VERBOSE_ = 0\n",
    "RANDOM_STATE = 0\n",
    "EVAL_METRIC = 'mae'\n",
    "SCORING_ = NMAE_"
   ]
  },
  {
   "cell_type": "markdown",
   "id": "85055c98-c971-45d2-8193-2029149687ea",
   "metadata": {},
   "source": [
    "# XGBOOST"
   ]
  },
  {
   "cell_type": "code",
   "execution_count": 82,
   "id": "9ecbde5c-6a00-4a55-8baa-e9996cd8304e",
   "metadata": {},
   "outputs": [],
   "source": [
    "# xgboost\n",
    "from sklearn.model_selection import StratifiedKFold\n",
    "from xgboost import XGBRegressor\n",
    "import time\n",
    "\n",
    "early_stopping_rounds = 100\n",
    "\n",
    "def obj_xgr(trial_):\n",
    "    lst_param = {\n",
    "        \"random_state\" : RANDOM_STATE,\n",
    "        \"eval_metric\" : EVAL_METRIC,\n",
    "        # ------------------------------------------------------------\n",
    "        # Learning_rate: 성능고려해서 조절 - 낮을수록 고득점 유리\n",
    "        \"learning_rate\" : 0.05,\n",
    "        # \"learning_rate\" : trial_.suggest_loguniform(\"learning_rate\", 0.0001, 0.3),\n",
    "        \n",
    "        # \"n_estimators\": trial_.suggest_int(\"n_estimators\", 50, 1000),\n",
    "        \"n_estimators\": 10000,\n",
    "        \n",
    "        # \"Max_depth\": 01\n",
    "        \"max_depth\":trial_.suggest_int(\"max_depth\", 2, 10),\n",
    "        \n",
    "        # \"Max_leaves\": 02\n",
    "        \"max_leaves\":trial_.suggest_int(\"max_leaves\", 32, 1024),\n",
    "        \n",
    "        # \"Row_sampling\", \"Col_sampling\": 03\n",
    "        \"subsample\": 0.7,\n",
    "        # \"subsample\":trial_.suggest_float(\"subsample\", 0.5, 1.0),\n",
    "        \"colsample_bytree\": 0.7,\n",
    "        # \"colsample_bytree\":trial_.suggest_float(\"colsample_bytree\", 0.5, 1.0),\n",
    "        \n",
    "        \n",
    "        # \"booster\": trial_.suggest_categorical(\"booster\", [\"gbtree\", \"gblinear\", \"dart\"]),\n",
    "        \"lambda\": trial_.suggest_loguniform(\"lambda\", 1e-8, 1.0),\n",
    "        \"alpha\": trial_.suggest_loguniform(\"alpha\", 1e-8, 1.0),\n",
    "        \n",
    "        # ------------------------------------------------------------\n",
    "        # \"Tree_method\":\n",
    "        # \"tree_method\" : \"gpu_hist\",\n",
    "        # \"tree_method\" : trial_.suggest_categorical(\"tree_method\", [\"exact\", \"approx\", \"hist\", \"gpu_hist\"]),\n",
    "        \n",
    "        # ------------------------------------------------------------\n",
    "        # 'reg_alpha': 2.9735993984217104,\n",
    "        # 'reg_lambda': 2.214625977393439,\n",
    "        # 'scale_pos_weight': 0.9,\n",
    "        # 'gamma': 0.5\n",
    "    }\n",
    "    \n",
    "    # if lst_param[\"booster\"] == \"gbtree\" or lst_param[\"booster\"] == \"dart\":\n",
    "        # lst_param[\"max_depth\"] = trial_.suggest_int(\"max_depth\", 1, 9)\n",
    "        # lst_param[\"eta\"] = trial_.suggest_loguniform(\"eta\", 1e-8, 1.0)\n",
    "        # lst_param[\"gamma\"] = trial_.suggest_loguniform(\"gamma\", 1e-8, 1.0)\n",
    "        # lst_param[\"grow_policy\"] = trial_.suggest_categorical(\"grow_policy\", [\"depthwise\", \"lossguide\"])\n",
    "    # if lst_param[\"booster\"] == \"dart\":\n",
    "    #     lst_param[\"sample_type\"] = trial_.suggest_categorical(\"sample_type\", [\"uniform\", \"weighted\"])\n",
    "    #     lst_param[\"normalize_type\"] = trial_.suggest_categorical(\"normalize_type\", [\"tree\", \"forest\"])\n",
    "    #     lst_param[\"rate_drop\"] = trial_.suggest_loguniform(\"rate_drop\", 1e-8, 1.0)\n",
    "    #     lst_param[\"skip_drop\"] = trial_.suggest_loguniform(\"skip_drop\", 1e-8, 1.0)\n",
    "    \n",
    "    time_s = time.time()\n",
    "    lst_score = []\n",
    "    \n",
    "    cv_ = StratifiedKFold(n_splits=5, shuffle=True, random_state=RANDOM_STATE)\n",
    "    for indice_tr, indice_va in cv_.split(X_train, y_train):\n",
    "        X_tr, X_va = X_train.iloc[indice_tr], X_train.iloc[indice_va]\n",
    "        y_tr, y_va = y_train.iloc[indice_tr], y_train.iloc[indice_va]\n",
    "        model_ = XGBRegressor(**lst_param)\n",
    "        model_.fit(\n",
    "            X_tr,\n",
    "            y_tr,\n",
    "            eval_set = [(X_va, y_va)],\n",
    "            eval_metric=EVAL_METRIC,\n",
    "            early_stopping_rounds=early_stopping_rounds,\n",
    "            verbose=VERBOSE_,\n",
    "        )\n",
    "        p_va = model_.predict(X_va)\n",
    "        lst_score.append(SCORING_(y_va, p_va))\n",
    "    score_va = np.mean(lst_score)\n",
    "    \n",
    "    if VERBOSE_:\n",
    "        print(\"VS: {:>6.4f}, ET: {:>6.2f}\".format(score_va, time.time() - time_s))\n",
    "\n",
    "    return score_va"
   ]
  },
  {
   "cell_type": "code",
   "execution_count": 83,
   "id": "f0c52fcd-4668-4018-83a3-f016ff1853ff",
   "metadata": {
    "tags": []
   },
   "outputs": [
    {
     "data": {
      "application/vnd.jupyter.widget-view+json": {
       "model_id": "e168f222947648ec8a11fc661621ee92",
       "version_major": 2,
       "version_minor": 0
      },
      "text/plain": [
       "  0%|          | 0/100 [00:00<?, ?it/s]"
      ]
     },
     "metadata": {},
     "output_type": "display_data"
    },
    {
     "name": "stdout",
     "output_type": "stream",
     "text": [
      "0.14827746906961708\n",
      "{'max_depth': 3, 'max_leaves': 899, 'lambda': 0.46265991819794877, 'alpha': 5.9009057497927356e-08}\n"
     ]
    }
   ],
   "source": [
    "TRIALS = 100\n",
    "TIMEOUT = 1200\n",
    "\n",
    "sampler_ = TPESampler()\n",
    "study_ = optuna.create_study(\n",
    "    direction = 'minimize',\n",
    "    sampler = sampler_,\n",
    ")\n",
    "study_.optimize(obj_xgr, n_trials=TRIALS, timeout=TIMEOUT, show_progress_bar=1)\n",
    "print(study_.best_value)\n",
    "print(study_.best_trial.params)"
   ]
  },
  {
   "cell_type": "code",
   "execution_count": 84,
   "id": "b0498113-9772-4fc0-8d1e-7c6cc6ecea5f",
   "metadata": {},
   "outputs": [
    {
     "name": "stdout",
     "output_type": "stream",
     "text": [
      "0.15168466973259284\n"
     ]
    }
   ],
   "source": [
    "from sklearn.model_selection import train_test_split\n",
    "\n",
    "X_tr, X_va, y_tr, y_va = train_test_split(X_train, y_train, test_size=0.3, random_state=RANDOM_STATE)\n",
    "model_tmp = XGBRegressor(**study_.best_params, n_estimators=30000)\n",
    "model_tmp.fit(X_tr, y_tr, eval_set=[(X_va, y_va)], early_stopping_rounds=early_stopping_rounds,verbose=0)\n",
    "\n",
    "# model_ = XGBRegressor(**study_.best_params, n_estimators=model_tmp.get_booster().best_ntree_limit, verbose=VERBOSE_)\n",
    "model_va = XGBRegressor(**study_.best_params, n_estimators=model_tmp.get_booster().best_ntree_limit)\n",
    "model_va.fit(X_tr, y_tr)\n",
    "p_va = model_va.predict(X_va)\n",
    "print(SCORING_(y_va, p_va))"
   ]
  },
  {
   "cell_type": "code",
   "execution_count": 85,
   "id": "acf9b2b9-9740-451c-9cb7-8bdb4af2c5d3",
   "metadata": {},
   "outputs": [],
   "source": [
    "model_ = XGBRegressor(**study_.best_params, n_estimators=model_tmp.get_booster().best_ntree_limit)\n",
    "model_.fit(X_train, y_train)\n",
    "p_test_xgb = model_.predict(X_test)"
   ]
  },
  {
   "cell_type": "code",
   "execution_count": 87,
   "id": "a630b55d-5475-48d6-a08b-6b0e9cb71f38",
   "metadata": {
    "collapsed": true,
    "jupyter": {
     "outputs_hidden": true
    },
    "tags": []
   },
   "outputs": [
    {
     "data": {
      "image/png": "[encoded data removed]",
      "text/plain": [
       "<Figure size 720x576 with 1 Axes>"
      ]
     },
     "metadata": {
      "needs_background": "light"
     },
     "output_type": "display_data"
    }
   ],
   "source": [
    "FI=pd.DataFrame({'Features':df_v0.columns[:-1],'Importance':model_.feature_importances_})\n",
    "FI=FI.sort_values(by='Importance',ascending=False)[:20]\n",
    "#plot\n",
    "plt.figure(figsize=(10,8))\n",
    "sns.barplot(x=FI.Importance,y=FI.Features).set_title('XGBoost Feature importance')\n",
    "plt.show()"
   ]
  },
  {
   "cell_type": "markdown",
   "id": "cd17aa59-4f96-4635-9c9d-a3530aa847b7",
   "metadata": {},
   "source": [
    "# NGBOOST"
   ]
  },
  {
   "cell_type": "code",
   "execution_count": 100,
   "id": "4ee9ef11-d69a-4a9f-8bc9-4eec04761f79",
   "metadata": {},
   "outputs": [],
   "source": [
    "# ngboost\n",
    "from sklearn.model_selection import StratifiedKFold\n",
    "from ngboost import NGBRegressor\n",
    "import time\n",
    "\n",
    "early_stopping_rounds = 100\n",
    "\n",
    "def obj_ngr(trial_):\n",
    "    lst_param = {\n",
    "        \"random_state\" : RANDOM_STATE,\n",
    "        # \"eval_metric\" : EVAL_METRIC,\n",
    "        # ------------------------------------------------------------\n",
    "#         # Learning_rate: 성능고려해서 조절 - 낮을수록 고득점 유리\n",
    "        \"learning_rate\" : 0.05,\n",
    "#         # \"learning_rate\" : trial_.suggest_loguniform(\"learning_rate\", 0.0001, 0.3),\n",
    "        \n",
    "#         # \"n_estimators\": trial_.suggest_int(\"n_estimators\", 50, 1000),\n",
    "        \"n_estimators\": 10000,\n",
    "        \n",
    "        \"verbose\": False,\n",
    "        \n",
    "#         # \"Max_depth\": 01\n",
    "#         \"max_depth\":trial_.suggest_int(\"max_depth\", 2, 10),\n",
    "        \n",
    "#         # \"Max_leaves\": 02\n",
    "#         \"max_leaves\":trial_.suggest_int(\"max_leaves\", 32, 1024),\n",
    "        \n",
    "#         # \"Row_sampling\", \"Col_sampling\": 03\n",
    "        \"col_sample\": 0.7\n",
    "#         \"subsample\": 0.7,\n",
    "#         # \"subsample\":trial_.suggest_float(\"subsample\", 0.5, 1.0),\n",
    "\n",
    "#         # \"col_sample\":trial_.suggest_float(\"col_sample\", 0.5, 1.0),\n",
    "        \n",
    "        \n",
    "#         # \"booster\": trial_.suggest_categorical(\"booster\", [\"gbtree\", \"gblinear\", \"dart\"]),\n",
    "#         \"lambda\": trial_.suggest_loguniform(\"lambda\", 1e-8, 1.0),\n",
    "#         \"alpha\": trial_.suggest_loguniform(\"alpha\", 1e-8, 1.0),\n",
    "        \n",
    "        # ------------------------------------------------------------\n",
    "\n",
    "    }\n",
    "    \n",
    "\n",
    "    time_s = time.time()\n",
    "    lst_score = []\n",
    "    \n",
    "    cv_ = StratifiedKFold(n_splits=5, shuffle=True, random_state=RANDOM_STATE)\n",
    "    for indice_tr, indice_va in cv_.split(X_train, y_train):\n",
    "        X_tr, X_va = X_train.iloc[indice_tr], X_train.iloc[indice_va]\n",
    "        y_tr, y_va = y_train.iloc[indice_tr], y_train.iloc[indice_va]\n",
    "        model_ = NGBRegressor(**lst_param)\n",
    "        model_.fit(\n",
    "            X_tr,\n",
    "            y_tr,\n",
    "            X_val=X_va,\n",
    "            Y_val=y_va,\n",
    "            # eval_set = [(X_va, y_va)],\n",
    "            # eval_metric=EVAL_METRIC,\n",
    "            early_stopping_rounds=early_stopping_rounds,\n",
    "            # verbose=VERBOSE_,\n",
    "        )\n",
    "        p_va = model_.predict(X_va)\n",
    "        lst_score.append(SCORING_(y_va, p_va))\n",
    "    score_va = np.mean(lst_score)\n",
    "    \n",
    "    if VERBOSE_:\n",
    "        print(\"VS: {:>6.4f}, ET: {:>6.2f}\".format(score_va, time.time() - time_s))\n",
    "\n",
    "    return score_va"
   ]
  },
  {
   "cell_type": "code",
   "execution_count": 101,
   "id": "1e8ec9e4-fa0b-4873-8ee2-c967ed854678",
   "metadata": {},
   "outputs": [
    {
     "data": {
      "application/vnd.jupyter.widget-view+json": {
       "model_id": "50912c028bad42fd93861bd19a5c9c1f",
       "version_major": 2,
       "version_minor": 0
      },
      "text/plain": [
       "  0%|          | 0/1 [00:00<?, ?it/s]"
      ]
     },
     "metadata": {},
     "output_type": "display_data"
    },
    {
     "name": "stdout",
     "output_type": "stream",
     "text": [
      "0.15580566673955382\n"
     ]
    }
   ],
   "source": [
    "TRIALS = 1\n",
    "TIMEOUT = 1200\n",
    "\n",
    "sampler_ = TPESampler()\n",
    "study_ = optuna.create_study(\n",
    "    direction = 'minimize',\n",
    "    sampler = sampler_,\n",
    ")\n",
    "study_.optimize(obj_ngr, n_trials=TRIALS, timeout=TIMEOUT, show_progress_bar=1)\n",
    "print(study_.best_value)"
   ]
  },
  {
   "cell_type": "code",
   "execution_count": 102,
   "id": "bec598bc-0e11-4966-a9a6-175f45cc1a7d",
   "metadata": {},
   "outputs": [
    {
     "name": "stdout",
     "output_type": "stream",
     "text": [
      "[iter 0] loss=2.6057 val_loss=2.5358 scale=1.0000 norm=2.5090\n",
      "[iter 100] loss=2.1214 val_loss=2.2086 scale=1.0000 norm=1.7065\n",
      "[iter 200] loss=1.8483 val_loss=2.1152 scale=2.0000 norm=2.8735\n",
      "== Early stopping achieved.\n",
      "== Best iteration / VAL186 (val_loss=2.1139)\n",
      "[iter 0] loss=2.6057 val_loss=0.0000 scale=1.0000 norm=2.5090\n",
      "[iter 100] loss=2.1214 val_loss=0.0000 scale=1.0000 norm=1.7065\n",
      "0.15852789788791197\n"
     ]
    }
   ],
   "source": [
    "from sklearn.model_selection import train_test_split\n",
    "\n",
    "X_tr, X_va, y_tr, y_va = train_test_split(X_train, y_train, test_size=0.3, random_state=RANDOM_STATE)\n",
    "model_tmp = NGBRegressor(**study_.best_params, n_estimators=30000)\n",
    "model_tmp.fit(X_tr, y_tr, X_val=X_va, Y_val=y_va, early_stopping_rounds=early_stopping_rounds)\n",
    "\n",
    "model_va = NGBRegressor(**study_.best_params, n_estimators=model_tmp.best_val_loss_itr)\n",
    "model_va.fit(X_tr, y_tr)\n",
    "p_va = model_va.predict(X_va)\n",
    "print(SCORING_(y_va, p_va))"
   ]
  },
  {
   "cell_type": "code",
   "execution_count": 91,
   "id": "7966560f-8484-4454-a862-c820c825b356",
   "metadata": {},
   "outputs": [
    {
     "name": "stdout",
     "output_type": "stream",
     "text": [
      "[iter 0] loss=2.5863 val_loss=0.0000 scale=1.0000 norm=2.4917\n",
      "[iter 100] loss=2.1108 val_loss=0.0000 scale=1.0000 norm=1.6761\n"
     ]
    }
   ],
   "source": [
    "model_ = NGBRegressor(**study_.best_params, n_estimators=model_tmp.best_val_loss_itr)\n",
    "model_.fit(X_train, y_train)\n",
    "p_test_ngb = model_.predict(X_test)"
   ]
  },
  {
   "cell_type": "markdown",
   "id": "e042a79f-3317-45e7-a24a-661d868b5bc7",
   "metadata": {},
   "source": [
    "# CATBOOST"
   ]
  },
  {
   "cell_type": "code",
   "execution_count": null,
   "id": "9fee569d-6674-4f8b-86cf-e3c7a77ee924",
   "metadata": {},
   "outputs": [],
   "source": [
    "# xbgoost\n",
    "from sklearn.model_selection import StratifiedKFold\n",
    "from catboost import CatBoostRegressor\n",
    "import time\n",
    "\n",
    "early_stopping_rounds = 100\n",
    "\n",
    "def obj_xgr(trial_):\n",
    "    lst_param = {\n",
    "        \"random_state\" : RANDOM_STATE,\n",
    "        \"eval_metric\" : EVAL_METRIC,\n",
    "        # ------------------------------------------------------------\n",
    "        # Learning_rate: 성능고려해서 조절 - 낮을수록 고득점 유리\n",
    "        \"learning_rate\" : 0.05,\n",
    "        # \"learning_rate\" : trial_.suggest_loguniform(\"learning_rate\", 0.0001, 0.3),\n",
    "        \n",
    "        # \"n_estimators\": trial_.suggest_int(\"n_estimators\", 50, 1000),\n",
    "        \"n_estimators\": 10000,\n",
    "        \n",
    "        # \"Max_depth\": 01\n",
    "        \"max_depth\":trial_.suggest_int(\"max_depth\", 2, 10),\n",
    "        \n",
    "        # \"Max_leaves\": 02\n",
    "        \"max_leaves\":trial_.suggest_int(\"max_leaves\", 32, 1024),\n",
    "        \n",
    "        # \"Row_sampling\", \"Col_sampling\": 03\n",
    "        \"subsample\": 0.7,\n",
    "        # \"subsample\":trial_.suggest_float(\"subsample\", 0.5, 1.0),\n",
    "        \"colsample_bytree\": 0.7,\n",
    "        # \"colsample_bytree\":trial_.suggest_float(\"colsample_bytree\", 0.5, 1.0),\n",
    "        \n",
    "        \n",
    "        # \"booster\": trial_.suggest_categorical(\"booster\", [\"gbtree\", \"gblinear\", \"dart\"]),\n",
    "        \"lambda\": trial_.suggest_loguniform(\"lambda\", 1e-8, 1.0),\n",
    "        \"alpha\": trial_.suggest_loguniform(\"alpha\", 1e-8, 1.0),\n",
    "        \n",
    "        # ------------------------------------------------------------\n",
    "        # \"Tree_method\":\n",
    "        # \"tree_method\" : \"gpu_hist\",\n",
    "        # \"tree_method\" : trial_.suggest_categorical(\"tree_method\", [\"exact\", \"approx\", \"hist\", \"gpu_hist\"]),\n",
    "        \n",
    "        # ------------------------------------------------------------\n",
    "        # 'reg_alpha': 2.9735993984217104,\n",
    "        # 'reg_lambda': 2.214625977393439,\n",
    "        # 'scale_pos_weight': 0.9,\n",
    "        # 'gamma': 0.5\n",
    "    }\n",
    "    \n",
    "    # if lst_param[\"booster\"] == \"gbtree\" or lst_param[\"booster\"] == \"dart\":\n",
    "        # lst_param[\"max_depth\"] = trial_.suggest_int(\"max_depth\", 1, 9)\n",
    "        # lst_param[\"eta\"] = trial_.suggest_loguniform(\"eta\", 1e-8, 1.0)\n",
    "        # lst_param[\"gamma\"] = trial_.suggest_loguniform(\"gamma\", 1e-8, 1.0)\n",
    "        # lst_param[\"grow_policy\"] = trial_.suggest_categorical(\"grow_policy\", [\"depthwise\", \"lossguide\"])\n",
    "    # if lst_param[\"booster\"] == \"dart\":\n",
    "    #     lst_param[\"sample_type\"] = trial_.suggest_categorical(\"sample_type\", [\"uniform\", \"weighted\"])\n",
    "    #     lst_param[\"normalize_type\"] = trial_.suggest_categorical(\"normalize_type\", [\"tree\", \"forest\"])\n",
    "    #     lst_param[\"rate_drop\"] = trial_.suggest_loguniform(\"rate_drop\", 1e-8, 1.0)\n",
    "    #     lst_param[\"skip_drop\"] = trial_.suggest_loguniform(\"skip_drop\", 1e-8, 1.0)\n",
    "    \n",
    "    time_s = time.time()\n",
    "    lst_score = []\n",
    "    \n",
    "    cv_ = StratifiedKFold(n_splits=5, shuffle=True, random_state=RANDOM_STATE)\n",
    "    for indice_tr, indice_va in cv_.split(X_train, y_train):\n",
    "        X_tr, X_va = X_train.iloc[indice_tr], X_train.iloc[indice_va]\n",
    "        y_tr, y_va = y_train.iloc[indice_tr], y_train.iloc[indice_va]\n",
    "        model_ = CatBoostRegressor(**lst_param)\n",
    "        model_.fit(\n",
    "            X_tr,\n",
    "            y_tr,\n",
    "            eval_set = [(X_va, y_va)],\n",
    "            eval_metric=EVAL_METRIC,\n",
    "            early_stopping_rounds=early_stopping_rounds,\n",
    "            verbose=VERBOSE_,\n",
    "        )\n",
    "        p_va = model_.predict(X_va)\n",
    "        lst_score.append(SCORING_(y_va, p_va))\n",
    "    score_va = np.mean(lst_score)\n",
    "    \n",
    "    if VERBOSE_:\n",
    "        print(\"VS: {:>6.4f}, ET: {:>6.2f}\".format(score_va, time.time() - time_s))\n",
    "\n",
    "    return score_va"
   ]
  },
  {
   "cell_type": "code",
   "execution_count": null,
   "id": "e603804b-ac86-4c3a-8cba-48250fc3cac5",
   "metadata": {},
   "outputs": [],
   "source": [
    "TRIALS = 100\n",
    "TIMEOUT = 1200\n",
    "\n",
    "sampler_ = TPESampler()\n",
    "study_ = optuna.create_study(\n",
    "    direction = 'minimize',\n",
    "    sampler = sampler_,\n",
    ")\n",
    "study_.optimize(obj_xgr, n_trials=TRIALS, timeout=TIMEOUT, show_progress_bar=1)\n",
    "print(study_.best_value)\n",
    "print(study_.best_trial.params)"
   ]
  },
  {
   "cell_type": "code",
   "execution_count": null,
   "id": "c34a2b0b-7b57-4ed6-b543-94f38c4282f2",
   "metadata": {},
   "outputs": [],
   "source": [
    "model_ = XGBRegressor(**study_.best_params, n_estimators=model_tmp.get_booster().best_ntree_limit)\n",
    "model_.fit(X_train, y_train)\n",
    "p_test_xgb = model_.predict(X_test)"
   ]
  },
  {
   "cell_type": "code",
   "execution_count": null,
   "id": "f2bc8057-5df2-41b1-994e-49278c82c8de",
   "metadata": {},
   "outputs": [],
   "source": []
  },
  {
   "cell_type": "markdown",
   "id": "77709271-b747-463d-8638-2167f472efe0",
   "metadata": {},
   "source": [
    "# SOFT VOTING"
   ]
  },
  {
   "cell_type": "code",
   "execution_count": 95,
   "id": "3617a4b9-3a55-4a93-8a44-83e698de8283",
   "metadata": {},
   "outputs": [],
   "source": [
    "# df_sub[target] = .5 * p_test_xgb + .5 * p_test_ngb\n",
    "# df_sub[target] = 0 * p_test_xgb + 1 * p_test_ngb\n",
    "# df_sub[target] = 1 * p_test_xgb + 0 * p_test_ngb\n",
    "\n",
    "\n",
    "import datetime\n",
    "now = datetime.datetime.now()\n",
    "str_datetime = now.strftime(\"%y%m%d_%H%M%S\")\n",
    "df_sub.to_csv(dir_dataset+'submission-'+name_project+'-'+str_datetime+'.csv', index = 0)"
   ]
  },
  {
   "cell_type": "code",
   "execution_count": 93,
   "id": "9264c735-d3f1-4c6c-a2db-53ea33978e7b",
   "metadata": {},
   "outputs": [
    {
     "data": {
      "text/html": [
       "<div>\n",
       "<style scoped>\n",
       "    .dataframe tbody tr th:only-of-type {\n",
       "        vertical-align: middle;\n",
       "    }\n",
       "\n",
       "    .dataframe tbody tr th {\n",
       "        vertical-align: top;\n",
       "    }\n",
       "\n",
       "    .dataframe thead th {\n",
       "        text-align: right;\n",
       "    }\n",
       "</style>\n",
       "<table border=\"1\" class=\"dataframe\">\n",
       "  <thead>\n",
       "    <tr style=\"text-align: right;\">\n",
       "      <th></th>\n",
       "      <th>id</th>\n",
       "      <th>Target</th>\n",
       "    </tr>\n",
       "  </thead>\n",
       "  <tbody>\n",
       "    <tr>\n",
       "      <th>0</th>\n",
       "      <td>1</td>\n",
       "      <td>11.575770</td>\n",
       "    </tr>\n",
       "    <tr>\n",
       "      <th>1</th>\n",
       "      <td>2</td>\n",
       "      <td>13.431096</td>\n",
       "    </tr>\n",
       "    <tr>\n",
       "      <th>2</th>\n",
       "      <td>3</td>\n",
       "      <td>6.316694</td>\n",
       "    </tr>\n",
       "    <tr>\n",
       "      <th>3</th>\n",
       "      <td>4</td>\n",
       "      <td>10.871872</td>\n",
       "    </tr>\n",
       "    <tr>\n",
       "      <th>4</th>\n",
       "      <td>5</td>\n",
       "      <td>10.045742</td>\n",
       "    </tr>\n",
       "    <tr>\n",
       "      <th>...</th>\n",
       "      <td>...</td>\n",
       "      <td>...</td>\n",
       "    </tr>\n",
       "    <tr>\n",
       "      <th>2919</th>\n",
       "      <td>2920</td>\n",
       "      <td>4.433254</td>\n",
       "    </tr>\n",
       "    <tr>\n",
       "      <th>2920</th>\n",
       "      <td>2921</td>\n",
       "      <td>7.542690</td>\n",
       "    </tr>\n",
       "    <tr>\n",
       "      <th>2921</th>\n",
       "      <td>2922</td>\n",
       "      <td>9.201646</td>\n",
       "    </tr>\n",
       "    <tr>\n",
       "      <th>2922</th>\n",
       "      <td>2923</td>\n",
       "      <td>10.051076</td>\n",
       "    </tr>\n",
       "    <tr>\n",
       "      <th>2923</th>\n",
       "      <td>2924</td>\n",
       "      <td>11.527444</td>\n",
       "    </tr>\n",
       "  </tbody>\n",
       "</table>\n",
       "<p>2924 rows × 2 columns</p>\n",
       "</div>"
      ],
      "text/plain": [
       "        id     Target\n",
       "0     1     11.575770\n",
       "1     2     13.431096\n",
       "2     3     6.316694 \n",
       "3     4     10.871872\n",
       "4     5     10.045742\n",
       "...  ..           ...\n",
       "2919  2920  4.433254 \n",
       "2920  2921  7.542690 \n",
       "2921  2922  9.201646 \n",
       "2922  2923  10.051076\n",
       "2923  2924  11.527444\n",
       "\n",
       "[2924 rows x 2 columns]"
      ]
     },
     "execution_count": 93,
     "metadata": {},
     "output_type": "execute_result"
    }
   ],
   "source": [
    "df_sub"
   ]
  },
  {
   "cell_type": "code",
   "execution_count": null,
   "id": "5ba97ed0-074c-43fe-afa4-d71d4b159e06",
   "metadata": {},
   "outputs": [],
   "source": []
  },
  {
   "cell_type": "code",
   "execution_count": null,
   "id": "69743b18-1e10-42de-bae2-878ec33eaf41",
   "metadata": {
    "tags": []
   },
   "outputs": [],
   "source": [
    "# catboost\n",
    "from sklearn.model_selection import StratifiedKFold\n",
    "from catboost import CatBoostRegressor\n",
    "import time\n",
    "\n",
    "early_stopping_rounds = 30\n",
    "\n",
    "def obj_cbr(trial_):\n",
    "    lst_param = {\n",
    "        \n",
    "    }\n",
    "    \n",
    "    cv_ = StratifiedKFold(n_splits=5, shuffle=True, random_state=RANDOM_STATE)\n",
    "    \n",
    "    lst_score =[]\n",
    "    for indice_tr, indice_va in cv_.split(X_train, y_train):\n",
    "        X_tr, X_va = X_train.iloc[indice_tr]\n",
    "        y_tr, y_va = y_train.iloc[indice_va] \n",
    "    \n",
    "        model_ = CatBoostRegressor(**lst_param)\n",
    "        model_.fit(\n",
    "            X_tr,\n",
    "            y_tr,\n",
    "            eval_set = [(X_va, y_va)],\n",
    "            eval_metric=EVAL_METRIC,\n",
    "            early_stopping_rounds=early_stopping_rounds\n",
    "            verbose=VERBOSE_\n",
    "        )\n",
    "        y_pr = model.predict_proba(X_va)[:,1]\n",
    "        lst_score.append(SCORE_(y_va, y_pr))\n",
    "    score_va = mean(lst_score)\n",
    "    return score_va"
   ]
  },
  {
   "cell_type": "code",
   "execution_count": 35,
   "id": "64a03319-cdb7-4dce-a150-df9ce0057cc7",
   "metadata": {
    "tags": []
   },
   "outputs": [],
   "source": [
    "from sklearn.metrics import mean_absolute_error as mae\n",
    "from sklearn.model_selection import train_test_split\n",
    "from catboost import CatBoostRegressor\n",
    "import time\n",
    "\n",
    "def objective(trial):\n",
    "    params = {\n",
    "        \"random_state\":trial.suggest_categorical(\"random_state\", [0]),\n",
    "        'learning_rate' : trial.suggest_loguniform('learning_rate', 0.0001, 0.3),\n",
    "        'bagging_temperature' :trial.suggest_loguniform('bagging_temperature', 0.01, 100.00),\n",
    "        # \"n_estimators\": trial.suggest_int(\"n_estimators\", 50, 1000),\n",
    "        \"n_estimators\": 1000,\n",
    "        \"max_depth\":trial.suggest_int(\"max_depth\", 2, 9),\n",
    "        'random_strength' :trial.suggest_int('random_strength', 0, 100),\n",
    "        \"l2_leaf_reg\":trial.suggest_float(\"l2_leaf_reg\",1e-8,3e-5),\n",
    "        \"min_child_samples\": trial.suggest_int(\"min_child_samples\", 5, 100),\n",
    "        \"max_bin\": trial.suggest_int(\"max_bin\", 200, 500),\n",
    "        # 'od_type': trial.suggest_categorical('od_type', ['IncToDec', 'Iter']),\n",
    "        # 'task_type': trial.suggest_categorical('task_type', ['GPU']),\n",
    "        'loss_function': trial.suggest_categorical('loss_function', ['MAE']),\n",
    "        'eval_metric': trial.suggest_categorical('eval_metric', ['MAE'])\n",
    "    }\n",
    "    \n",
    "    model = CatBoostRegressor(**params)\n",
    "    \n",
    "    time_s = time.time()\n",
    "    # for key_, value_ in params.items():\n",
    "    #     print(key_, value_)\n",
    "        \n",
    "    X_train_tmp, X_valid_tmp, y_train_tmp, y_valid_tmp = train_test_split(X_tr, y_tr, test_size=0.3, random_state=42)\n",
    "    model.fit(\n",
    "        X_train_tmp, y_train_tmp,\n",
    "        eval_set=[(X_valid_tmp, y_valid_tmp)],\n",
    "        early_stopping_rounds=50, \n",
    "        verbose=0,\n",
    "    )\n",
    "        \n",
    "    y_train_pred = model.predict(X_train_tmp)\n",
    "    y_valid_pred = model.predict(X_valid_tmp)\n",
    "    train_mae = mae(y_train_tmp, y_train_pred)\n",
    "    valid_mae = mae(y_valid_tmp, y_valid_pred)\n",
    "    \n",
    "    # print(f'MAE of Train: {train_mae}, MAE of Validation: {valid_mae}', time.time() - time_s)\n",
    "    # print(f'MAE of Train: {train_mae}, MAE of Validation: {valid_mae}', time.time() - time_s)\n",
    "    print(\"MAE Tr: {:5.3f}, MAE Va: {:5.3f}, ET: {:06.1f}\".format(train_mae, valid_mae, time.time() - time_s))\n",
    "    \n",
    "    # print()\n",
    "    \n",
    "    return valid_mae"
   ]
  },
  {
   "cell_type": "code",
   "execution_count": 36,
   "id": "9156f691-120e-4a86-bd20-41f46a0333d9",
   "metadata": {
    "collapsed": true,
    "jupyter": {
     "outputs_hidden": true
    },
    "tags": []
   },
   "outputs": [
    {
     "name": "stdout",
     "output_type": "stream",
     "text": [
      "MAE Tr: 1.418, MAE Va: 1.465, ET: 0000.1\n",
      "MAE Tr: 1.989, MAE Va: 1.872, ET: 0001.0\n",
      "MAE Tr: 2.259, MAE Va: 2.112, ET: 0001.9\n",
      "MAE Tr: 2.026, MAE Va: 1.936, ET: 0011.0\n",
      "MAE Tr: 1.441, MAE Va: 1.425, ET: 0000.1\n",
      "MAE Tr: 1.429, MAE Va: 1.424, ET: 0000.3\n",
      "MAE Tr: 2.299, MAE Va: 2.148, ET: 0002.6\n",
      "MAE Tr: 1.368, MAE Va: 1.440, ET: 0002.2\n",
      "MAE Tr: 0.995, MAE Va: 1.418, ET: 0023.4\n",
      "MAE Tr: 1.489, MAE Va: 1.487, ET: 0000.1\n",
      "MAE Tr: 1.007, MAE Va: 1.412, ET: 0020.8\n",
      "MAE Tr: 1.000, MAE Va: 1.420, ET: 0017.9\n",
      "MAE Tr: 1.387, MAE Va: 1.492, ET: 0005.1\n",
      "MAE Tr: 1.049, MAE Va: 1.406, ET: 0002.5\n",
      "MAE Tr: 1.091, MAE Va: 1.424, ET: 0001.0\n",
      "MAE Tr: 1.040, MAE Va: 1.409, ET: 0003.8\n",
      "MAE Tr: 1.281, MAE Va: 1.421, ET: 0000.7\n",
      "MAE Tr: 1.146, MAE Va: 1.421, ET: 0000.6\n",
      "MAE Tr: 1.115, MAE Va: 1.416, ET: 0001.8\n",
      "MAE Tr: 1.177, MAE Va: 1.419, ET: 0001.0\n",
      "MAE Tr: 1.729, MAE Va: 1.659, ET: 0001.3\n",
      "MAE Tr: 1.040, MAE Va: 1.407, ET: 0004.2\n",
      "MAE Tr: 1.066, MAE Va: 1.416, ET: 0003.0\n",
      "MAE Tr: 1.072, MAE Va: 1.404, ET: 0001.0\n",
      "MAE Tr: 1.184, MAE Va: 1.421, ET: 0000.7\n",
      "MAE Tr: 1.516, MAE Va: 1.506, ET: 0001.9\n",
      "MAE Tr: 1.258, MAE Va: 1.454, ET: 0000.3\n",
      "MAE Tr: 1.085, MAE Va: 1.420, ET: 0003.3\n",
      "MAE Tr: 1.196, MAE Va: 1.417, ET: 0001.0\n",
      "MAE Tr: 1.295, MAE Va: 1.412, ET: 0000.2\n",
      "MAE Tr: 1.067, MAE Va: 1.403, ET: 0001.1\n",
      "MAE Tr: 1.195, MAE Va: 1.414, ET: 0000.7\n",
      "MAE Tr: 1.032, MAE Va: 1.455, ET: 0000.9\n",
      "MAE Tr: 1.051, MAE Va: 1.408, ET: 0001.6\n",
      "MAE Tr: 1.262, MAE Va: 1.440, ET: 0000.3\n",
      "MAE Tr: 0.998, MAE Va: 1.418, ET: 0021.2\n",
      "MAE Tr: 1.925, MAE Va: 1.828, ET: 0002.2\n",
      "MAE Tr: 0.999, MAE Va: 1.440, ET: 0000.9\n",
      "MAE Tr: 1.148, MAE Va: 1.425, ET: 0000.9\n",
      "MAE Tr: 1.376, MAE Va: 1.471, ET: 0000.2\n",
      "MAE Tr: 0.923, MAE Va: 1.418, ET: 0005.6\n",
      "MAE Tr: 1.201, MAE Va: 1.414, ET: 0001.0\n",
      "MAE Tr: 1.203, MAE Va: 1.406, ET: 0000.6\n",
      "MAE Tr: 1.073, MAE Va: 1.413, ET: 0001.1\n",
      "MAE Tr: 1.078, MAE Va: 1.402, ET: 0000.8\n",
      "MAE Tr: 1.149, MAE Va: 1.406, ET: 0000.4\n",
      "MAE Tr: 1.218, MAE Va: 1.446, ET: 0000.2\n",
      "MAE Tr: 1.381, MAE Va: 1.471, ET: 0000.2\n",
      "MAE Tr: 1.192, MAE Va: 1.439, ET: 0000.3\n",
      "MAE Tr: 1.414, MAE Va: 1.432, ET: 0000.1\n",
      "MAE Tr: 1.220, MAE Va: 1.434, ET: 0000.4\n",
      "MAE Tr: 1.091, MAE Va: 1.408, ET: 0001.1\n",
      "MAE Tr: 1.202, MAE Va: 1.417, ET: 0001.2\n",
      "MAE Tr: 1.129, MAE Va: 1.406, ET: 0000.6\n",
      "MAE Tr: 1.138, MAE Va: 1.412, ET: 0000.5\n",
      "MAE Tr: 1.124, MAE Va: 1.436, ET: 0000.6\n",
      "MAE Tr: 1.308, MAE Va: 1.440, ET: 0000.2\n",
      "MAE Tr: 1.250, MAE Va: 1.420, ET: 0000.6\n",
      "MAE Tr: 1.054, MAE Va: 1.413, ET: 0000.8\n",
      "MAE Tr: 2.179, MAE Va: 2.041, ET: 0001.4\n",
      "MAE Tr: 1.144, MAE Va: 1.413, ET: 0000.4\n",
      "MAE Tr: 0.979, MAE Va: 1.408, ET: 0001.9\n",
      "MAE Tr: 1.165, MAE Va: 1.436, ET: 0000.5\n",
      "MAE Tr: 1.147, MAE Va: 1.414, ET: 0001.7\n",
      "MAE Tr: 1.162, MAE Va: 1.409, ET: 0001.5\n",
      "MAE Tr: 1.160, MAE Va: 1.451, ET: 0000.8\n",
      "MAE Tr: 1.279, MAE Va: 1.424, ET: 0002.3\n",
      "MAE Tr: 1.147, MAE Va: 1.412, ET: 0000.7\n",
      "MAE Tr: 1.022, MAE Va: 1.440, ET: 0007.3\n",
      "MAE Tr: 1.115, MAE Va: 1.418, ET: 0001.1\n",
      "MAE Tr: 1.150, MAE Va: 1.410, ET: 0000.7\n",
      "MAE Tr: 1.039, MAE Va: 1.408, ET: 0003.7\n",
      "MAE Tr: 0.939, MAE Va: 1.418, ET: 0021.3\n",
      "MAE Tr: 1.271, MAE Va: 1.441, ET: 0006.5\n",
      "MAE Tr: 1.129, MAE Va: 1.416, ET: 0001.8\n",
      "MAE Tr: 0.980, MAE Va: 1.407, ET: 0001.2\n",
      "MAE Tr: 1.197, MAE Va: 1.416, ET: 0001.2\n",
      "MAE Tr: 1.324, MAE Va: 1.422, ET: 0000.5\n",
      "MAE Tr: 1.151, MAE Va: 1.419, ET: 0001.3\n",
      "MAE Tr: 1.261, MAE Va: 1.432, ET: 0002.7\n",
      "MAE Tr: 1.110, MAE Va: 1.440, ET: 0000.2\n",
      "MAE Tr: 1.037, MAE Va: 1.413, ET: 0001.1\n",
      "MAE Tr: 0.919, MAE Va: 1.451, ET: 0000.8\n",
      "MAE Tr: 0.860, MAE Va: 1.408, ET: 0005.9\n",
      "MAE Tr: 1.084, MAE Va: 1.438, ET: 0000.8\n",
      "MAE Tr: 1.024, MAE Va: 1.409, ET: 0001.8\n",
      "MAE Tr: 1.103, MAE Va: 1.416, ET: 0005.1\n",
      "MAE Tr: 1.110, MAE Va: 1.435, ET: 0000.5\n",
      "MAE Tr: 1.087, MAE Va: 1.420, ET: 0001.6\n",
      "MAE Tr: 0.877, MAE Va: 1.396, ET: 0001.1\n",
      "MAE Tr: 2.312, MAE Va: 2.157, ET: 0003.0\n",
      "MAE Tr: 1.134, MAE Va: 1.420, ET: 0000.6\n",
      "MAE Tr: 1.149, MAE Va: 1.418, ET: 0000.8\n",
      "MAE Tr: 1.104, MAE Va: 1.435, ET: 0001.6\n",
      "MAE Tr: 1.142, MAE Va: 1.410, ET: 0000.7\n",
      "MAE Tr: 1.156, MAE Va: 1.420, ET: 0001.2\n",
      "MAE Tr: 1.256, MAE Va: 1.418, ET: 0001.2\n",
      "MAE Tr: 1.171, MAE Va: 1.412, ET: 0001.5\n",
      "MAE Tr: 1.164, MAE Va: 1.414, ET: 0001.2\n",
      "MAE Tr: 1.412, MAE Va: 1.420, ET: 0000.2\n",
      "1.39638022789636 {'random_state': 0, 'learning_rate': 0.057049900855158896, 'bagging_temperature': 0.4657472139497721, 'max_depth': 7, 'random_strength': 75, 'l2_leaf_reg': 1.2724583196784004e-05, 'min_child_samples': 49, 'max_bin': 456, 'loss_function': 'MAE', 'eval_metric': 'MAE'}\n"
     ]
    }
   ],
   "source": [
    "TRIALS = 100\n",
    "TIMEOUT = 1200\n",
    "\n",
    "sampler_ = TPESampler()\n",
    "study_ = optuna.create_study(\n",
    "    study_name = 'cat_parameter_opt',\n",
    "    direction = 'minimize',\n",
    "    sampler = sampler_,\n",
    ")\n",
    "study_.optimize(objective, n_trials=TRIALS, timeout=TIMEOUT, show_progress_bar=0, )\n",
    "print(study_.best_value, study_.best_trial.params)"
   ]
  },
  {
   "cell_type": "code",
   "execution_count": null,
   "id": "b8b40712-536d-472f-be09-674a3aa7dc4b",
   "metadata": {},
   "outputs": [],
   "source": []
  }
 ],
 "metadata": {
  "kernelspec": {
   "display_name": "Python 3 (ipykernel)",
   "language": "python",
   "name": "python3"
  },
  "language_info": {
   "codemirror_mode": {
    "name": "ipython",
    "version": 3
   },
   "file_extension": ".py",
   "mimetype": "text/x-python",
   "name": "python",
   "nbconvert_exporter": "python",
   "pygments_lexer": "ipython3",
   "version": "3.8.10"
  },
  "widgets": {
   "application/vnd.jupyter.widget-state+json": {
    "state": {
     "003010ca00344a399bb7d476b386cf8f": {
      "model_module": "@jupyter-widgets/controls",
      "model_module_version": "1.5.0",
      "model_name": "ProgressStyleModel",
      "state": {
       "description_width": ""
      }
     },
     "00df445cd65a4d59bb5eeeb04585e0c2": {
      "model_module": "@jupyter-widgets/base",
      "model_module_version": "1.2.0",
      "model_name": "LayoutModel",
      "state": {}
     },
     "0171d1b6f0ed412596dd1a047e7b132c": {
      "model_module": "@jupyter-widgets/base",
      "model_module_version": "1.2.0",
      "model_name": "LayoutModel",
      "state": {}
     },
     "0299d0e1b6534d439e4ae5856fc50f75": {
      "model_module": "@jupyter-widgets/controls",
      "model_module_version": "1.5.0",
      "model_name": "HTMLModel",
      "state": {
       "layout": "IPY_MODEL_dd8c83e507a9463d835fe15e2d6a269b",
       "style": "IPY_MODEL_c3a741d37d4040aa83732c2d8af07abf",
       "value": " 1/1 [00:05&lt;00:00,  5.25s/it, 5.24/1200 seconds]"
      }
     },
     "03a583217aba40d9b0f81481a0067c76": {
      "model_module": "@jupyter-widgets/base",
      "model_module_version": "1.2.0",
      "model_name": "LayoutModel",
      "state": {}
     },
     "05245d380f5842daa98551ca77e57cb9": {
      "model_module": "@jupyter-widgets/controls",
      "model_module_version": "1.5.0",
      "model_name": "HTMLModel",
      "state": {
       "layout": "IPY_MODEL_25edd9995e4148368a9f93122b007718",
       "style": "IPY_MODEL_12f6f50e609f403480968e3c9f22f3ed",
       "value": " 2/100 [00:54&lt;43:02, 26.35s/it, 52.72/1200 seconds]"
      }
     },
     "08c635aa60604e7f96955571bd5c4b44": {
      "model_module": "@jupyter-widgets/controls",
      "model_module_version": "1.5.0",
      "model_name": "DescriptionStyleModel",
      "state": {
       "description_width": ""
      }
     },
     "098e7b5dbb4348f782ce40dcd2bac4e5": {
      "model_module": "@jupyter-widgets/controls",
      "model_module_version": "1.5.0",
      "model_name": "HTMLModel",
      "state": {
       "layout": "IPY_MODEL_b14e88f6d6574128ba765c026a7858c0",
       "style": "IPY_MODEL_394cb34b9a6b4bd7b6fea8d0a7231280",
       "value": " 1/1 [00:26&lt;00:00, 26.62s/it, 26.60/1200 seconds]"
      }
     },
     "09a5d69ca51c471faf1fba8d6e9d5d18": {
      "model_module": "@jupyter-widgets/base",
      "model_module_version": "1.2.0",
      "model_name": "LayoutModel",
      "state": {}
     },
     "0a02959cb5ce4c0d9be803ac8ff80b5f": {
      "model_module": "@jupyter-widgets/base",
      "model_module_version": "1.2.0",
      "model_name": "LayoutModel",
      "state": {}
     },
     "0a69991c93fd416d8296fdd613b48595": {
      "model_module": "@jupyter-widgets/base",
      "model_module_version": "1.2.0",
      "model_name": "LayoutModel",
      "state": {}
     },
     "0b4d05e66423400f8194f1385cfb37bc": {
      "model_module": "@jupyter-widgets/base",
      "model_module_version": "1.2.0",
      "model_name": "LayoutModel",
      "state": {}
     },
     "0be34ccb1e614a5fa17aac75f58da4c4": {
      "model_module": "@jupyter-widgets/controls",
      "model_module_version": "1.5.0",
      "model_name": "HTMLModel",
      "state": {
       "layout": "IPY_MODEL_bcde809e68cc404bbd6edf9f283abb1a",
       "style": "IPY_MODEL_e156fe9973a04d35b48291442878a2ee",
       "value": " 1/1 [00:26&lt;00:00, 26.24s/it, 26.23/1200 seconds]"
      }
     },
     "0d32be78241f499bb99d1a696183a8a3": {
      "model_module": "@jupyter-widgets/controls",
      "model_module_version": "1.5.0",
      "model_name": "HTMLModel",
      "state": {
       "layout": "IPY_MODEL_0dfb94875a13449ea56280a69b24fbe4",
       "style": "IPY_MODEL_ed7a630428a14996ac5cddbcbd2127fe",
       "value": "  0%"
      }
     },
     "0dfb94875a13449ea56280a69b24fbe4": {
      "model_module": "@jupyter-widgets/base",
      "model_module_version": "1.2.0",
      "model_name": "LayoutModel",
      "state": {}
     },
     "1216fa36d3f84a0b8dd1687950abf920": {
      "model_module": "@jupyter-widgets/controls",
      "model_module_version": "1.5.0",
      "model_name": "HTMLModel",
      "state": {
       "layout": "IPY_MODEL_a00a92569aa54ee58fa8b5a0ed0363e6",
       "style": "IPY_MODEL_8688fd03aa0e43839d24a04d8a266b07",
       "value": "100%"
      }
     },
     "129d18ad86bb4f8dae0fe0d666fe72b5": {
      "model_module": "@jupyter-widgets/controls",
      "model_module_version": "1.5.0",
      "model_name": "HTMLModel",
      "state": {
       "layout": "IPY_MODEL_a30dd6492dd345b69479c20f4fb56d69",
       "style": "IPY_MODEL_ba6b63ac247a418883af9429969e7cd4",
       "value": " 0/5 [00:00&lt;?, ?it/s]"
      }
     },
     "12f6f50e609f403480968e3c9f22f3ed": {
      "model_module": "@jupyter-widgets/controls",
      "model_module_version": "1.5.0",
      "model_name": "DescriptionStyleModel",
      "state": {
       "description_width": ""
      }
     },
     "130039460e17465ca2cdd0a185c4478c": {
      "model_module": "@jupyter-widgets/controls",
      "model_module_version": "1.5.0",
      "model_name": "ProgressStyleModel",
      "state": {
       "description_width": ""
      }
     },
     "142903c9b74545f1ab02450fa48d678f": {
      "model_module": "@jupyter-widgets/controls",
      "model_module_version": "1.5.0",
      "model_name": "HTMLModel",
      "state": {
       "layout": "IPY_MODEL_ef76fafbca22414fb38c9f9864f88e1a",
       "style": "IPY_MODEL_89222b49f6144f63b9dbdfd207727c2a",
       "value": "100%"
      }
     },
     "1436b33e74004925868bdfc03af85b4a": {
      "model_module": "@jupyter-widgets/controls",
      "model_module_version": "1.5.0",
      "model_name": "ProgressStyleModel",
      "state": {
       "description_width": ""
      }
     },
     "147b43c087ec4cccae974374ac6f1b3b": {
      "model_module": "@jupyter-widgets/controls",
      "model_module_version": "1.5.0",
      "model_name": "DescriptionStyleModel",
      "state": {
       "description_width": ""
      }
     },
     "1642af35c05846bb925fe90096d97aa4": {
      "model_module": "@jupyter-widgets/base",
      "model_module_version": "1.2.0",
      "model_name": "LayoutModel",
      "state": {}
     },
     "16c492d64126490180ad890cb8c4b4a8": {
      "model_module": "@jupyter-widgets/base",
      "model_module_version": "1.2.0",
      "model_name": "LayoutModel",
      "state": {}
     },
     "1a5ed98fb29d4c698497690e557d7c14": {
      "model_module": "@jupyter-widgets/controls",
      "model_module_version": "1.5.0",
      "model_name": "HBoxModel",
      "state": {
       "children": [
        "IPY_MODEL_6ba0fb1daa9949ac953787c9f727af66",
        "IPY_MODEL_fd23b2f14ce14821abacbf4e51e23156",
        "IPY_MODEL_41c51166616441dc91adbe9cb935fbc7"
       ],
       "layout": "IPY_MODEL_e669ed15a42542ad9b08c73a80549dde"
      }
     },
     "1ab700cd08dc408a80a198d6633f7783": {
      "model_module": "@jupyter-widgets/controls",
      "model_module_version": "1.5.0",
      "model_name": "FloatProgressModel",
      "state": {
       "bar_style": "danger",
       "layout": "IPY_MODEL_f11e47046dda4080932ad0fa7e6becd7",
       "style": "IPY_MODEL_4402fd426c1844f687c0da10390100b7"
      }
     },
     "1b229498224b42669ae20853e29b1ecb": {
      "model_module": "@jupyter-widgets/base",
      "model_module_version": "1.2.0",
      "model_name": "LayoutModel",
      "state": {}
     },
     "1d6463247b4e46e8980702ce8a07ca48": {
      "model_module": "@jupyter-widgets/base",
      "model_module_version": "1.2.0",
      "model_name": "LayoutModel",
      "state": {}
     },
     "20d4d6b9ce574ed085adeef6445045ec": {
      "model_module": "@jupyter-widgets/base",
      "model_module_version": "1.2.0",
      "model_name": "LayoutModel",
      "state": {}
     },
     "2355900a01164cc9a0934d8b7e8123d3": {
      "model_module": "@jupyter-widgets/base",
      "model_module_version": "1.2.0",
      "model_name": "LayoutModel",
      "state": {}
     },
     "25edd9995e4148368a9f93122b007718": {
      "model_module": "@jupyter-widgets/base",
      "model_module_version": "1.2.0",
      "model_name": "LayoutModel",
      "state": {}
     },
     "260628258f4a44639a5b2048193f2bc8": {
      "model_module": "@jupyter-widgets/controls",
      "model_module_version": "1.5.0",
      "model_name": "ProgressStyleModel",
      "state": {
       "description_width": ""
      }
     },
     "26327b03bbb248cd8657c41659e8fe97": {
      "model_module": "@jupyter-widgets/base",
      "model_module_version": "1.2.0",
      "model_name": "LayoutModel",
      "state": {}
     },
     "27168a5e2fd54db3877362bf0c0d970e": {
      "model_module": "@jupyter-widgets/base",
      "model_module_version": "1.2.0",
      "model_name": "LayoutModel",
      "state": {}
     },
     "271b70bff2914bc7b6ac0b7472b3d39f": {
      "model_module": "@jupyter-widgets/controls",
      "model_module_version": "1.5.0",
      "model_name": "HTMLModel",
      "state": {
       "layout": "IPY_MODEL_8f65a883eaf84feab9a1a8f6a9fd33c2",
       "style": "IPY_MODEL_39b5929314244de4ac87411ab7266778",
       "value": "  0%"
      }
     },
     "2c6737a45a65426ab547f1081600d220": {
      "model_module": "@jupyter-widgets/controls",
      "model_module_version": "1.5.0",
      "model_name": "HTMLModel",
      "state": {
       "layout": "IPY_MODEL_4c7c097c28684855a8f226d04f021c33",
       "style": "IPY_MODEL_96eb9854e4fc4a2e903ef0eed4fa7017",
       "value": "100%"
      }
     },
     "2e4cd7c347f747779d0a060a72fff875": {
      "model_module": "@jupyter-widgets/controls",
      "model_module_version": "1.5.0",
      "model_name": "HTMLModel",
      "state": {
       "layout": "IPY_MODEL_16c492d64126490180ad890cb8c4b4a8",
       "style": "IPY_MODEL_8a198c529ef94e79a2a6e04d5661e2cf",
       "value": "  0%"
      }
     },
     "3409b018f58e4f409aadee600b4b0341": {
      "model_module": "@jupyter-widgets/base",
      "model_module_version": "1.2.0",
      "model_name": "LayoutModel",
      "state": {}
     },
     "38562bc8de474599bef5f33e38d131f0": {
      "model_module": "@jupyter-widgets/controls",
      "model_module_version": "1.5.0",
      "model_name": "DescriptionStyleModel",
      "state": {
       "description_width": ""
      }
     },
     "394cb34b9a6b4bd7b6fea8d0a7231280": {
      "model_module": "@jupyter-widgets/controls",
      "model_module_version": "1.5.0",
      "model_name": "DescriptionStyleModel",
      "state": {
       "description_width": ""
      }
     },
     "39a85f981d5a44b1b8d7a9ffc89fda9b": {
      "model_module": "@jupyter-widgets/base",
      "model_module_version": "1.2.0",
      "model_name": "LayoutModel",
      "state": {}
     },
     "39b5929314244de4ac87411ab7266778": {
      "model_module": "@jupyter-widgets/controls",
      "model_module_version": "1.5.0",
      "model_name": "DescriptionStyleModel",
      "state": {
       "description_width": ""
      }
     },
     "3c4e9000e29c4ce4ba89a6cd005a8564": {
      "model_module": "@jupyter-widgets/controls",
      "model_module_version": "1.5.0",
      "model_name": "DescriptionStyleModel",
      "state": {
       "description_width": ""
      }
     },
     "406549693ea04a5bbc0c4d07a8e149e5": {
      "model_module": "@jupyter-widgets/base",
      "model_module_version": "1.2.0",
      "model_name": "LayoutModel",
      "state": {}
     },
     "40e82836f2c942b990fca757aed67b20": {
      "model_module": "@jupyter-widgets/controls",
      "model_module_version": "1.5.0",
      "model_name": "FloatProgressModel",
      "state": {
       "bar_style": "danger",
       "layout": "IPY_MODEL_94b43885966f49ee8544c78b7d6acb24",
       "style": "IPY_MODEL_e7205d474c1f45328d11b670c407dd3c"
      }
     },
     "41c51166616441dc91adbe9cb935fbc7": {
      "model_module": "@jupyter-widgets/controls",
      "model_module_version": "1.5.0",
      "model_name": "HTMLModel",
      "state": {
       "layout": "IPY_MODEL_d8edea9227ad4445b4ddcbae889761e4",
       "style": "IPY_MODEL_38562bc8de474599bef5f33e38d131f0",
       "value": " 0/100 [00:00&lt;?, ?it/s]"
      }
     },
     "41de01d2518c45b59d8fbc8f736d7357": {
      "model_module": "@jupyter-widgets/base",
      "model_module_version": "1.2.0",
      "model_name": "LayoutModel",
      "state": {}
     },
     "4402fd426c1844f687c0da10390100b7": {
      "model_module": "@jupyter-widgets/controls",
      "model_module_version": "1.5.0",
      "model_name": "ProgressStyleModel",
      "state": {
       "description_width": ""
      }
     },
     "47ccffe8084d479b9d9e76f11dc46c03": {
      "model_module": "@jupyter-widgets/controls",
      "model_module_version": "1.5.0",
      "model_name": "DescriptionStyleModel",
      "state": {
       "description_width": ""
      }
     },
     "48b5d7f942354673a296db8f0344eec1": {
      "model_module": "@jupyter-widgets/controls",
      "model_module_version": "1.5.0",
      "model_name": "DescriptionStyleModel",
      "state": {
       "description_width": ""
      }
     },
     "4c7c097c28684855a8f226d04f021c33": {
      "model_module": "@jupyter-widgets/base",
      "model_module_version": "1.2.0",
      "model_name": "LayoutModel",
      "state": {}
     },
     "4dab4414f6f540fa9eab9bef0a13b726": {
      "model_module": "@jupyter-widgets/controls",
      "model_module_version": "1.5.0",
      "model_name": "HBoxModel",
      "state": {
       "children": [
        "IPY_MODEL_977abf27f7e241e890aef0ab293a94f8",
        "IPY_MODEL_df583bb219d1492fa1e3eff4ddf3d55f",
        "IPY_MODEL_098e7b5dbb4348f782ce40dcd2bac4e5"
       ],
       "layout": "IPY_MODEL_39a85f981d5a44b1b8d7a9ffc89fda9b"
      }
     },
     "50912c028bad42fd93861bd19a5c9c1f": {
      "model_module": "@jupyter-widgets/controls",
      "model_module_version": "1.5.0",
      "model_name": "HBoxModel",
      "state": {
       "children": [
        "IPY_MODEL_2c6737a45a65426ab547f1081600d220",
        "IPY_MODEL_dfc1a79f36e2477597c7bc1f26fcaa93",
        "IPY_MODEL_6b932283e8634d1ca985c09c131c8903"
       ],
       "layout": "IPY_MODEL_41de01d2518c45b59d8fbc8f736d7357"
      }
     },
     "513f55b000be4b83bf25325258a239f0": {
      "model_module": "@jupyter-widgets/controls",
      "model_module_version": "1.5.0",
      "model_name": "HBoxModel",
      "state": {
       "children": [
        "IPY_MODEL_f4db93908b2044f4b7395e07181e65ce",
        "IPY_MODEL_1ab700cd08dc408a80a198d6633f7783",
        "IPY_MODEL_b5c94e1bfc3a4333b921b033be4662e6"
       ],
       "layout": "IPY_MODEL_ccaf2bcdb6d04c6aba265d05a0629aa8"
      }
     },
     "55cf2839b9924dffa92d0f7fcbc5211b": {
      "model_module": "@jupyter-widgets/base",
      "model_module_version": "1.2.0",
      "model_name": "LayoutModel",
      "state": {}
     },
     "55daf922f0df44acbe3b58fd0bd68b87": {
      "model_module": "@jupyter-widgets/base",
      "model_module_version": "1.2.0",
      "model_name": "LayoutModel",
      "state": {}
     },
     "62775c9a4d624cbeabe84435f91b463b": {
      "model_module": "@jupyter-widgets/controls",
      "model_module_version": "1.5.0",
      "model_name": "ProgressStyleModel",
      "state": {
       "description_width": ""
      }
     },
     "63bf58753c8a45e6a86261e5c8686db6": {
      "model_module": "@jupyter-widgets/controls",
      "model_module_version": "1.5.0",
      "model_name": "HTMLModel",
      "state": {
       "layout": "IPY_MODEL_fedbce5a6bd840898a742d2e20f92733",
       "style": "IPY_MODEL_48b5d7f942354673a296db8f0344eec1",
       "value": " 20%"
      }
     },
     "6529d12577e448a9a791647bd869bf36": {
      "model_module": "@jupyter-widgets/controls",
      "model_module_version": "1.5.0",
      "model_name": "FloatProgressModel",
      "state": {
       "bar_style": "danger",
       "layout": "IPY_MODEL_20d4d6b9ce574ed085adeef6445045ec",
       "style": "IPY_MODEL_130039460e17465ca2cdd0a185c4478c",
       "value": 2
      }
     },
     "68f1c935aec647b69de1fdbb9ca062bd": {
      "model_module": "@jupyter-widgets/controls",
      "model_module_version": "1.5.0",
      "model_name": "FloatProgressModel",
      "state": {
       "bar_style": "danger",
       "layout": "IPY_MODEL_0b4d05e66423400f8194f1385cfb37bc",
       "max": 5,
       "style": "IPY_MODEL_003010ca00344a399bb7d476b386cf8f"
      }
     },
     "6b932283e8634d1ca985c09c131c8903": {
      "model_module": "@jupyter-widgets/controls",
      "model_module_version": "1.5.0",
      "model_name": "HTMLModel",
      "state": {
       "layout": "IPY_MODEL_86a7608836b74c119de4c2388339fcbf",
       "style": "IPY_MODEL_8c81e0c3a89743899b6c62bc787dbbf0",
       "value": " 1/1 [00:06&lt;00:00,  6.15s/it, 6.14/1200 seconds]"
      }
     },
     "6ba0fb1daa9949ac953787c9f727af66": {
      "model_module": "@jupyter-widgets/controls",
      "model_module_version": "1.5.0",
      "model_name": "HTMLModel",
      "state": {
       "layout": "IPY_MODEL_0171d1b6f0ed412596dd1a047e7b132c",
       "style": "IPY_MODEL_08c635aa60604e7f96955571bd5c4b44",
       "value": "  0%"
      }
     },
     "75eb1b008a264eb1b9e41a5ab38a00c3": {
      "model_module": "@jupyter-widgets/controls",
      "model_module_version": "1.5.0",
      "model_name": "DescriptionStyleModel",
      "state": {
       "description_width": ""
      }
     },
     "79b2b6d0e9514b4d9c8af823767e4908": {
      "model_module": "@jupyter-widgets/base",
      "model_module_version": "1.2.0",
      "model_name": "LayoutModel",
      "state": {}
     },
     "7cb63d33f6ce430580cd39f69f467821": {
      "model_module": "@jupyter-widgets/base",
      "model_module_version": "1.2.0",
      "model_name": "LayoutModel",
      "state": {}
     },
     "7f4dce5379da4702b8996980e90ac933": {
      "model_module": "@jupyter-widgets/base",
      "model_module_version": "1.2.0",
      "model_name": "LayoutModel",
      "state": {}
     },
     "83e2ae200f9e4f46b87f83ffc20831f1": {
      "model_module": "@jupyter-widgets/controls",
      "model_module_version": "1.5.0",
      "model_name": "DescriptionStyleModel",
      "state": {
       "description_width": ""
      }
     },
     "8688fd03aa0e43839d24a04d8a266b07": {
      "model_module": "@jupyter-widgets/controls",
      "model_module_version": "1.5.0",
      "model_name": "DescriptionStyleModel",
      "state": {
       "description_width": ""
      }
     },
     "86a7608836b74c119de4c2388339fcbf": {
      "model_module": "@jupyter-widgets/base",
      "model_module_version": "1.2.0",
      "model_name": "LayoutModel",
      "state": {}
     },
     "870876e0557f466cbe11c5988359ed77": {
      "model_module": "@jupyter-widgets/controls",
      "model_module_version": "1.5.0",
      "model_name": "HTMLModel",
      "state": {
       "layout": "IPY_MODEL_8cc1bbd2cc234034b8f1ad7ecec05534",
       "style": "IPY_MODEL_c5c9e3ef06c94f5fb412947795596f10",
       "value": " 100/100 [01:12&lt;00:00,  1.40it/s, 72.49/1200 seconds]"
      }
     },
     "87ee5eb34f9c4fd2b9e8c612f92f37f2": {
      "model_module": "@jupyter-widgets/base",
      "model_module_version": "1.2.0",
      "model_name": "LayoutModel",
      "state": {}
     },
     "88e3f4c3b935464eabcdcb2fad34d281": {
      "model_module": "@jupyter-widgets/controls",
      "model_module_version": "1.5.0",
      "model_name": "DescriptionStyleModel",
      "state": {
       "description_width": ""
      }
     },
     "89222b49f6144f63b9dbdfd207727c2a": {
      "model_module": "@jupyter-widgets/controls",
      "model_module_version": "1.5.0",
      "model_name": "DescriptionStyleModel",
      "state": {
       "description_width": ""
      }
     },
     "8a198c529ef94e79a2a6e04d5661e2cf": {
      "model_module": "@jupyter-widgets/controls",
      "model_module_version": "1.5.0",
      "model_name": "DescriptionStyleModel",
      "state": {
       "description_width": ""
      }
     },
     "8c81e0c3a89743899b6c62bc787dbbf0": {
      "model_module": "@jupyter-widgets/controls",
      "model_module_version": "1.5.0",
      "model_name": "DescriptionStyleModel",
      "state": {
       "description_width": ""
      }
     },
     "8cc1bbd2cc234034b8f1ad7ecec05534": {
      "model_module": "@jupyter-widgets/base",
      "model_module_version": "1.2.0",
      "model_name": "LayoutModel",
      "state": {}
     },
     "8d6995f24c154662a5b66b608ec3f851": {
      "model_module": "@jupyter-widgets/controls",
      "model_module_version": "1.5.0",
      "model_name": "HTMLModel",
      "state": {
       "layout": "IPY_MODEL_b1f91803b3f545f9ad9f2af9b2cff98e",
       "style": "IPY_MODEL_83e2ae200f9e4f46b87f83ffc20831f1",
       "value": "  2%"
      }
     },
     "8f65a883eaf84feab9a1a8f6a9fd33c2": {
      "model_module": "@jupyter-widgets/base",
      "model_module_version": "1.2.0",
      "model_name": "LayoutModel",
      "state": {}
     },
     "91092cea2068435d949cafd83c546bae": {
      "model_module": "@jupyter-widgets/controls",
      "model_module_version": "1.5.0",
      "model_name": "ProgressStyleModel",
      "state": {
       "description_width": ""
      }
     },
     "94b43885966f49ee8544c78b7d6acb24": {
      "model_module": "@jupyter-widgets/base",
      "model_module_version": "1.2.0",
      "model_name": "LayoutModel",
      "state": {}
     },
     "96d1306e8baa4084be0a04ff5fe3080f": {
      "model_module": "@jupyter-widgets/controls",
      "model_module_version": "1.5.0",
      "model_name": "HBoxModel",
      "state": {
       "children": [
        "IPY_MODEL_0d32be78241f499bb99d1a696183a8a3",
        "IPY_MODEL_40e82836f2c942b990fca757aed67b20",
        "IPY_MODEL_dc4e784d4c164402a0953d9abb4a201b"
       ],
       "layout": "IPY_MODEL_7f4dce5379da4702b8996980e90ac933"
      }
     },
     "96eb9854e4fc4a2e903ef0eed4fa7017": {
      "model_module": "@jupyter-widgets/controls",
      "model_module_version": "1.5.0",
      "model_name": "DescriptionStyleModel",
      "state": {
       "description_width": ""
      }
     },
     "977abf27f7e241e890aef0ab293a94f8": {
      "model_module": "@jupyter-widgets/controls",
      "model_module_version": "1.5.0",
      "model_name": "HTMLModel",
      "state": {
       "layout": "IPY_MODEL_79b2b6d0e9514b4d9c8af823767e4908",
       "style": "IPY_MODEL_88e3f4c3b935464eabcdcb2fad34d281",
       "value": "100%"
      }
     },
     "98340fa9ea3d4e29bbd0fa839b0e2a69": {
      "model_module": "@jupyter-widgets/base",
      "model_module_version": "1.2.0",
      "model_name": "LayoutModel",
      "state": {}
     },
     "9aae1e3dd79542f7a90b2b9612a9fbcd": {
      "model_module": "@jupyter-widgets/base",
      "model_module_version": "1.2.0",
      "model_name": "LayoutModel",
      "state": {}
     },
     "9c56ea95dc024b64a4a4d6bbb5ee30cf": {
      "model_module": "@jupyter-widgets/controls",
      "model_module_version": "1.5.0",
      "model_name": "FloatProgressModel",
      "state": {
       "bar_style": "success",
       "layout": "IPY_MODEL_1642af35c05846bb925fe90096d97aa4",
       "max": 1,
       "style": "IPY_MODEL_62775c9a4d624cbeabe84435f91b463b",
       "value": 1
      }
     },
     "a00a92569aa54ee58fa8b5a0ed0363e6": {
      "model_module": "@jupyter-widgets/base",
      "model_module_version": "1.2.0",
      "model_name": "LayoutModel",
      "state": {}
     },
     "a053ea1c7c6b45d48712343daf98321a": {
      "model_module": "@jupyter-widgets/base",
      "model_module_version": "1.2.0",
      "model_name": "LayoutModel",
      "state": {}
     },
     "a30dd6492dd345b69479c20f4fb56d69": {
      "model_module": "@jupyter-widgets/base",
      "model_module_version": "1.2.0",
      "model_name": "LayoutModel",
      "state": {}
     },
     "a8ce56d6be324cb9a46af7b606d746d8": {
      "model_module": "@jupyter-widgets/base",
      "model_module_version": "1.2.0",
      "model_name": "LayoutModel",
      "state": {}
     },
     "ad7681f0e245462f9d57d2b6df4540b0": {
      "model_module": "@jupyter-widgets/controls",
      "model_module_version": "1.5.0",
      "model_name": "HTMLModel",
      "state": {
       "layout": "IPY_MODEL_55daf922f0df44acbe3b58fd0bd68b87",
       "style": "IPY_MODEL_147b43c087ec4cccae974374ac6f1b3b",
       "value": " 1/5 [00:34&lt;01:45, 26.36s/it, 26.34/1200 seconds]"
      }
     },
     "adf09b39f51545d5a8b7534a81e6fe07": {
      "model_module": "@jupyter-widgets/controls",
      "model_module_version": "1.5.0",
      "model_name": "DescriptionStyleModel",
      "state": {
       "description_width": ""
      }
     },
     "b14e88f6d6574128ba765c026a7858c0": {
      "model_module": "@jupyter-widgets/base",
      "model_module_version": "1.2.0",
      "model_name": "LayoutModel",
      "state": {}
     },
     "b1f91803b3f545f9ad9f2af9b2cff98e": {
      "model_module": "@jupyter-widgets/base",
      "model_module_version": "1.2.0",
      "model_name": "LayoutModel",
      "state": {}
     },
     "b46003ddfcaf461d9d8b05ce163f0651": {
      "model_module": "@jupyter-widgets/controls",
      "model_module_version": "1.5.0",
      "model_name": "HBoxModel",
      "state": {
       "children": [
        "IPY_MODEL_1216fa36d3f84a0b8dd1687950abf920",
        "IPY_MODEL_f8b211c8499f415ea6319a2c5d49629f",
        "IPY_MODEL_0be34ccb1e614a5fa17aac75f58da4c4"
       ],
       "layout": "IPY_MODEL_26327b03bbb248cd8657c41659e8fe97"
      }
     },
     "b59aea315780458ab8344cb648c61c7b": {
      "model_module": "@jupyter-widgets/controls",
      "model_module_version": "1.5.0",
      "model_name": "HTMLModel",
      "state": {
       "layout": "IPY_MODEL_09a5d69ca51c471faf1fba8d6e9d5d18",
       "style": "IPY_MODEL_3c4e9000e29c4ce4ba89a6cd005a8564",
       "value": " 0/100 [00:00&lt;?, ?it/s]"
      }
     },
     "b5c94e1bfc3a4333b921b033be4662e6": {
      "model_module": "@jupyter-widgets/controls",
      "model_module_version": "1.5.0",
      "model_name": "HTMLModel",
      "state": {
       "layout": "IPY_MODEL_00df445cd65a4d59bb5eeeb04585e0c2",
       "style": "IPY_MODEL_b7baaabb320e4f1f991c5cafc7da01e3",
       "value": " 0/100 [00:00&lt;?, ?it/s]"
      }
     },
     "b7baaabb320e4f1f991c5cafc7da01e3": {
      "model_module": "@jupyter-widgets/controls",
      "model_module_version": "1.5.0",
      "model_name": "DescriptionStyleModel",
      "state": {
       "description_width": ""
      }
     },
     "ba4f9c82926f415b8b2d63942ab1bc18": {
      "model_module": "@jupyter-widgets/controls",
      "model_module_version": "1.5.0",
      "model_name": "ProgressStyleModel",
      "state": {
       "description_width": ""
      }
     },
     "ba6b63ac247a418883af9429969e7cd4": {
      "model_module": "@jupyter-widgets/controls",
      "model_module_version": "1.5.0",
      "model_name": "DescriptionStyleModel",
      "state": {
       "description_width": ""
      }
     },
     "ba9fdc765e754d319906598aba213a6a": {
      "model_module": "@jupyter-widgets/controls",
      "model_module_version": "1.5.0",
      "model_name": "ProgressStyleModel",
      "state": {
       "description_width": ""
      }
     },
     "bcde809e68cc404bbd6edf9f283abb1a": {
      "model_module": "@jupyter-widgets/base",
      "model_module_version": "1.2.0",
      "model_name": "LayoutModel",
      "state": {}
     },
     "c1b618e17560495ca1c7c96dd4658940": {
      "model_module": "@jupyter-widgets/controls",
      "model_module_version": "1.5.0",
      "model_name": "HBoxModel",
      "state": {
       "children": [
        "IPY_MODEL_63bf58753c8a45e6a86261e5c8686db6",
        "IPY_MODEL_db3c62e5531a4c79b1acaa3d953d4e55",
        "IPY_MODEL_ad7681f0e245462f9d57d2b6df4540b0"
       ],
       "layout": "IPY_MODEL_3409b018f58e4f409aadee600b4b0341"
      }
     },
     "c1c5d1aa02b14bd78c9536d348f81888": {
      "model_module": "@jupyter-widgets/controls",
      "model_module_version": "1.5.0",
      "model_name": "HBoxModel",
      "state": {
       "children": [
        "IPY_MODEL_8d6995f24c154662a5b66b608ec3f851",
        "IPY_MODEL_6529d12577e448a9a791647bd869bf36",
        "IPY_MODEL_05245d380f5842daa98551ca77e57cb9"
       ],
       "layout": "IPY_MODEL_55cf2839b9924dffa92d0f7fcbc5211b"
      }
     },
     "c3a741d37d4040aa83732c2d8af07abf": {
      "model_module": "@jupyter-widgets/controls",
      "model_module_version": "1.5.0",
      "model_name": "DescriptionStyleModel",
      "state": {
       "description_width": ""
      }
     },
     "c5b97db2497e47e2bce1b33566cb95f3": {
      "model_module": "@jupyter-widgets/controls",
      "model_module_version": "1.5.0",
      "model_name": "HTMLModel",
      "state": {
       "layout": "IPY_MODEL_d443ffb5242e44c4b9a4abff1959adb4",
       "style": "IPY_MODEL_f28ac792ec1e4643a60e4e0547f96eab",
       "value": "100%"
      }
     },
     "c5c9e3ef06c94f5fb412947795596f10": {
      "model_module": "@jupyter-widgets/controls",
      "model_module_version": "1.5.0",
      "model_name": "DescriptionStyleModel",
      "state": {
       "description_width": ""
      }
     },
     "c91b72bbf4414fa4b8646130d0e483f1": {
      "model_module": "@jupyter-widgets/controls",
      "model_module_version": "1.5.0",
      "model_name": "ProgressStyleModel",
      "state": {
       "description_width": ""
      }
     },
     "cc1e5b85fd254d309c1ecc4e908afaa4": {
      "model_module": "@jupyter-widgets/controls",
      "model_module_version": "1.5.0",
      "model_name": "HBoxModel",
      "state": {
       "children": [
        "IPY_MODEL_f2f4d692aa194c55b5879c685aad52da",
        "IPY_MODEL_9c56ea95dc024b64a4a4d6bbb5ee30cf",
        "IPY_MODEL_e3383dbed04f442093876dac95b1d95c"
       ],
       "layout": "IPY_MODEL_fe83ff8a33ea46dca7210795d7bd2882"
      }
     },
     "ccaf2bcdb6d04c6aba265d05a0629aa8": {
      "model_module": "@jupyter-widgets/base",
      "model_module_version": "1.2.0",
      "model_name": "LayoutModel",
      "state": {}
     },
     "d443ffb5242e44c4b9a4abff1959adb4": {
      "model_module": "@jupyter-widgets/base",
      "model_module_version": "1.2.0",
      "model_name": "LayoutModel",
      "state": {}
     },
     "d8edea9227ad4445b4ddcbae889761e4": {
      "model_module": "@jupyter-widgets/base",
      "model_module_version": "1.2.0",
      "model_name": "LayoutModel",
      "state": {}
     },
     "d93c834f109644a9bd2f2da5496afcdd": {
      "model_module": "@jupyter-widgets/controls",
      "model_module_version": "1.5.0",
      "model_name": "HBoxModel",
      "state": {
       "children": [
        "IPY_MODEL_271b70bff2914bc7b6ac0b7472b3d39f",
        "IPY_MODEL_68f1c935aec647b69de1fdbb9ca062bd",
        "IPY_MODEL_129d18ad86bb4f8dae0fe0d666fe72b5"
       ],
       "layout": "IPY_MODEL_98340fa9ea3d4e29bbd0fa839b0e2a69"
      }
     },
     "d97070b4fd944f3eab951a6daebb8b59": {
      "model_module": "@jupyter-widgets/controls",
      "model_module_version": "1.5.0",
      "model_name": "ProgressStyleModel",
      "state": {
       "description_width": ""
      }
     },
     "db3c62e5531a4c79b1acaa3d953d4e55": {
      "model_module": "@jupyter-widgets/controls",
      "model_module_version": "1.5.0",
      "model_name": "FloatProgressModel",
      "state": {
       "bar_style": "danger",
       "layout": "IPY_MODEL_2355900a01164cc9a0934d8b7e8123d3",
       "max": 5,
       "style": "IPY_MODEL_d97070b4fd944f3eab951a6daebb8b59",
       "value": 1
      }
     },
     "dc4e784d4c164402a0953d9abb4a201b": {
      "model_module": "@jupyter-widgets/controls",
      "model_module_version": "1.5.0",
      "model_name": "HTMLModel",
      "state": {
       "layout": "IPY_MODEL_a8ce56d6be324cb9a46af7b606d746d8",
       "style": "IPY_MODEL_f32122ba07f24d54893e77a60e0666d6",
       "value": " 0/100 [00:00&lt;?, ?it/s]"
      }
     },
     "dd27d758ee62493491591d015ac20de7": {
      "model_module": "@jupyter-widgets/controls",
      "model_module_version": "1.5.0",
      "model_name": "ProgressStyleModel",
      "state": {
       "description_width": ""
      }
     },
     "dd8c83e507a9463d835fe15e2d6a269b": {
      "model_module": "@jupyter-widgets/base",
      "model_module_version": "1.2.0",
      "model_name": "LayoutModel",
      "state": {}
     },
     "df583bb219d1492fa1e3eff4ddf3d55f": {
      "model_module": "@jupyter-widgets/controls",
      "model_module_version": "1.5.0",
      "model_name": "FloatProgressModel",
      "state": {
       "bar_style": "success",
       "layout": "IPY_MODEL_03a583217aba40d9b0f81481a0067c76",
       "max": 1,
       "style": "IPY_MODEL_91092cea2068435d949cafd83c546bae",
       "value": 1
      }
     },
     "dfc1a79f36e2477597c7bc1f26fcaa93": {
      "model_module": "@jupyter-widgets/controls",
      "model_module_version": "1.5.0",
      "model_name": "FloatProgressModel",
      "state": {
       "bar_style": "success",
       "layout": "IPY_MODEL_406549693ea04a5bbc0c4d07a8e149e5",
       "max": 1,
       "style": "IPY_MODEL_ba4f9c82926f415b8b2d63942ab1bc18",
       "value": 1
      }
     },
     "e0f4a935bed84b85b4056181e2a8d43a": {
      "model_module": "@jupyter-widgets/controls",
      "model_module_version": "1.5.0",
      "model_name": "HBoxModel",
      "state": {
       "children": [
        "IPY_MODEL_2e4cd7c347f747779d0a060a72fff875",
        "IPY_MODEL_ff3d9a35ae014e8194c49dd45a8b5107",
        "IPY_MODEL_b59aea315780458ab8344cb648c61c7b"
       ],
       "layout": "IPY_MODEL_a053ea1c7c6b45d48712343daf98321a"
      }
     },
     "e156fe9973a04d35b48291442878a2ee": {
      "model_module": "@jupyter-widgets/controls",
      "model_module_version": "1.5.0",
      "model_name": "DescriptionStyleModel",
      "state": {
       "description_width": ""
      }
     },
     "e168f222947648ec8a11fc661621ee92": {
      "model_module": "@jupyter-widgets/controls",
      "model_module_version": "1.5.0",
      "model_name": "HBoxModel",
      "state": {
       "children": [
        "IPY_MODEL_c5b97db2497e47e2bce1b33566cb95f3",
        "IPY_MODEL_e413c0f615ba474ba1f618640b8b0500",
        "IPY_MODEL_870876e0557f466cbe11c5988359ed77"
       ],
       "layout": "IPY_MODEL_0a69991c93fd416d8296fdd613b48595"
      }
     },
     "e17e278f95ed4f60ad9e8db2e277b57b": {
      "model_module": "@jupyter-widgets/base",
      "model_module_version": "1.2.0",
      "model_name": "LayoutModel",
      "state": {}
     },
     "e1dffc44e4824f138c73842b21c2cd74": {
      "model_module": "@jupyter-widgets/controls",
      "model_module_version": "1.5.0",
      "model_name": "HBoxModel",
      "state": {
       "children": [
        "IPY_MODEL_142903c9b74545f1ab02450fa48d678f",
        "IPY_MODEL_f4118605f1ed4b1f8e943cb609dd4e00",
        "IPY_MODEL_0299d0e1b6534d439e4ae5856fc50f75"
       ],
       "layout": "IPY_MODEL_fb3ea1dff69f42158578cd54ac7f68ba"
      }
     },
     "e3383dbed04f442093876dac95b1d95c": {
      "model_module": "@jupyter-widgets/controls",
      "model_module_version": "1.5.0",
      "model_name": "HTMLModel",
      "state": {
       "layout": "IPY_MODEL_87ee5eb34f9c4fd2b9e8c612f92f37f2",
       "style": "IPY_MODEL_75eb1b008a264eb1b9e41a5ab38a00c3",
       "value": " 1/1 [00:05&lt;00:00,  5.28s/it, 5.27/1200 seconds]"
      }
     },
     "e413c0f615ba474ba1f618640b8b0500": {
      "model_module": "@jupyter-widgets/controls",
      "model_module_version": "1.5.0",
      "model_name": "FloatProgressModel",
      "state": {
       "bar_style": "success",
       "layout": "IPY_MODEL_27168a5e2fd54db3877362bf0c0d970e",
       "style": "IPY_MODEL_dd27d758ee62493491591d015ac20de7",
       "value": 100
      }
     },
     "e669ed15a42542ad9b08c73a80549dde": {
      "model_module": "@jupyter-widgets/base",
      "model_module_version": "1.2.0",
      "model_name": "LayoutModel",
      "state": {}
     },
     "e7205d474c1f45328d11b670c407dd3c": {
      "model_module": "@jupyter-widgets/controls",
      "model_module_version": "1.5.0",
      "model_name": "ProgressStyleModel",
      "state": {
       "description_width": ""
      }
     },
     "ed7a630428a14996ac5cddbcbd2127fe": {
      "model_module": "@jupyter-widgets/controls",
      "model_module_version": "1.5.0",
      "model_name": "DescriptionStyleModel",
      "state": {
       "description_width": ""
      }
     },
     "ef76fafbca22414fb38c9f9864f88e1a": {
      "model_module": "@jupyter-widgets/base",
      "model_module_version": "1.2.0",
      "model_name": "LayoutModel",
      "state": {}
     },
     "f11e47046dda4080932ad0fa7e6becd7": {
      "model_module": "@jupyter-widgets/base",
      "model_module_version": "1.2.0",
      "model_name": "LayoutModel",
      "state": {}
     },
     "f28ac792ec1e4643a60e4e0547f96eab": {
      "model_module": "@jupyter-widgets/controls",
      "model_module_version": "1.5.0",
      "model_name": "DescriptionStyleModel",
      "state": {
       "description_width": ""
      }
     },
     "f2f4d692aa194c55b5879c685aad52da": {
      "model_module": "@jupyter-widgets/controls",
      "model_module_version": "1.5.0",
      "model_name": "HTMLModel",
      "state": {
       "layout": "IPY_MODEL_9aae1e3dd79542f7a90b2b9612a9fbcd",
       "style": "IPY_MODEL_adf09b39f51545d5a8b7534a81e6fe07",
       "value": "100%"
      }
     },
     "f32122ba07f24d54893e77a60e0666d6": {
      "model_module": "@jupyter-widgets/controls",
      "model_module_version": "1.5.0",
      "model_name": "DescriptionStyleModel",
      "state": {
       "description_width": ""
      }
     },
     "f4118605f1ed4b1f8e943cb609dd4e00": {
      "model_module": "@jupyter-widgets/controls",
      "model_module_version": "1.5.0",
      "model_name": "FloatProgressModel",
      "state": {
       "bar_style": "success",
       "layout": "IPY_MODEL_1b229498224b42669ae20853e29b1ecb",
       "max": 1,
       "style": "IPY_MODEL_ba9fdc765e754d319906598aba213a6a",
       "value": 1
      }
     },
     "f4db93908b2044f4b7395e07181e65ce": {
      "model_module": "@jupyter-widgets/controls",
      "model_module_version": "1.5.0",
      "model_name": "HTMLModel",
      "state": {
       "layout": "IPY_MODEL_7cb63d33f6ce430580cd39f69f467821",
       "style": "IPY_MODEL_47ccffe8084d479b9d9e76f11dc46c03",
       "value": "  0%"
      }
     },
     "f8b211c8499f415ea6319a2c5d49629f": {
      "model_module": "@jupyter-widgets/controls",
      "model_module_version": "1.5.0",
      "model_name": "FloatProgressModel",
      "state": {
       "bar_style": "success",
       "layout": "IPY_MODEL_1d6463247b4e46e8980702ce8a07ca48",
       "max": 1,
       "style": "IPY_MODEL_c91b72bbf4414fa4b8646130d0e483f1",
       "value": 1
      }
     },
     "fb3ea1dff69f42158578cd54ac7f68ba": {
      "model_module": "@jupyter-widgets/base",
      "model_module_version": "1.2.0",
      "model_name": "LayoutModel",
      "state": {}
     },
     "fd23b2f14ce14821abacbf4e51e23156": {
      "model_module": "@jupyter-widgets/controls",
      "model_module_version": "1.5.0",
      "model_name": "FloatProgressModel",
      "state": {
       "bar_style": "danger",
       "layout": "IPY_MODEL_e17e278f95ed4f60ad9e8db2e277b57b",
       "style": "IPY_MODEL_260628258f4a44639a5b2048193f2bc8"
      }
     },
     "fe83ff8a33ea46dca7210795d7bd2882": {
      "model_module": "@jupyter-widgets/base",
      "model_module_version": "1.2.0",
      "model_name": "LayoutModel",
      "state": {}
     },
     "fedbce5a6bd840898a742d2e20f92733": {
      "model_module": "@jupyter-widgets/base",
      "model_module_version": "1.2.0",
      "model_name": "LayoutModel",
      "state": {}
     },
     "ff3d9a35ae014e8194c49dd45a8b5107": {
      "model_module": "@jupyter-widgets/controls",
      "model_module_version": "1.5.0",
      "model_name": "FloatProgressModel",
      "state": {
       "bar_style": "danger",
       "layout": "IPY_MODEL_0a02959cb5ce4c0d9be803ac8ff80b5f",
       "style": "IPY_MODEL_1436b33e74004925868bdfc03af85b4a"
      }
     }
    },
    "version_major": 2,
    "version_minor": 0
   }
  }
 },
 "nbformat": 4,
 "nbformat_minor": 5
}
