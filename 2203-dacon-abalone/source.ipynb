{
 "cells": [
  {
   "cell_type": "code",
   "execution_count": 1,
   "id": "3e32053a-6eec-4228-bbb4-f5a1fbaaa98a",
   "metadata": {},
   "outputs": [],
   "source": [
    "# Notebook 출력설정\n",
    "# 주요 라이브러리 임포트\n",
    "\n",
    "import warnings\n",
    "warnings.filterwarnings('ignore')\n",
    "\n",
    "import numpy as np\n",
    "import pandas as pd\n",
    "pd.set_option('display.max_colwidth', -1)\n",
    "pd.set_option('display.max_rows', 500)\n",
    "pd.set_option('display.max_columns', 500)\n",
    "pd.set_option('display.width', 1000)\n",
    "\n",
    "%matplotlib inline\n",
    "import matplotlib.pylab as plt\n",
    "plt.rcParams[\"figure.figsize\"] = (15,5)\n",
    "plt.rcParams['lines.linewidth'] = 1\n",
    "plt.rcParams['axes.grid'] = True\n",
    "import seaborn as sns"
   ]
  },
  {
   "cell_type": "code",
   "execution_count": 2,
   "id": "97445e3f-02a2-496d-9530-bb6cd7892065",
   "metadata": {},
   "outputs": [],
   "source": [
    "# 원본 데이터셋 로드\n",
    "dir_dataset = \"C:/Users/0stix/Datasets/\"\n",
    "name_project = '2203-dacon-abalone'\n",
    "df_train = pd.read_csv(dir_dataset+name_project+'/train.csv')\n",
    "df_test = pd.read_csv(dir_dataset+name_project+'/test.csv')\n",
    "df_sub = pd.read_csv(dir_dataset+name_project+'/sample_submission.csv')\n",
    "\n",
    "len_train = len(df_train)\n",
    "df_all = pd.concat([df_train, df_test], axis=0)\n",
    "target = 'Target'"
   ]
  },
  {
   "cell_type": "code",
   "execution_count": 3,
   "id": "93b6be77-0a18-4d03-8ea5-aec48b6cf076",
   "metadata": {},
   "outputs": [
    {
     "data": {
      "text/html": [
       "<div>\n",
       "<style scoped>\n",
       "    .dataframe tbody tr th:only-of-type {\n",
       "        vertical-align: middle;\n",
       "    }\n",
       "\n",
       "    .dataframe tbody tr th {\n",
       "        vertical-align: top;\n",
       "    }\n",
       "\n",
       "    .dataframe thead th {\n",
       "        text-align: right;\n",
       "    }\n",
       "</style>\n",
       "<table border=\"1\" class=\"dataframe\">\n",
       "  <thead>\n",
       "    <tr style=\"text-align: right;\">\n",
       "      <th></th>\n",
       "      <th>id</th>\n",
       "      <th>Gender</th>\n",
       "      <th>Lenght</th>\n",
       "      <th>Diameter</th>\n",
       "      <th>Height</th>\n",
       "      <th>Whole Weight</th>\n",
       "      <th>Shucked Weight</th>\n",
       "      <th>Viscra Weight</th>\n",
       "      <th>Shell Weight</th>\n",
       "      <th>Target</th>\n",
       "    </tr>\n",
       "  </thead>\n",
       "  <tbody>\n",
       "    <tr>\n",
       "      <th>0</th>\n",
       "      <td>1</td>\n",
       "      <td>M</td>\n",
       "      <td>0.605</td>\n",
       "      <td>0.470</td>\n",
       "      <td>0.115</td>\n",
       "      <td>1.1140</td>\n",
       "      <td>0.3925</td>\n",
       "      <td>0.2910</td>\n",
       "      <td>0.3100</td>\n",
       "      <td>15.0</td>\n",
       "    </tr>\n",
       "    <tr>\n",
       "      <th>1</th>\n",
       "      <td>2</td>\n",
       "      <td>I</td>\n",
       "      <td>0.430</td>\n",
       "      <td>0.315</td>\n",
       "      <td>0.095</td>\n",
       "      <td>0.3780</td>\n",
       "      <td>0.1750</td>\n",
       "      <td>0.0800</td>\n",
       "      <td>0.1045</td>\n",
       "      <td>8.0</td>\n",
       "    </tr>\n",
       "    <tr>\n",
       "      <th>2</th>\n",
       "      <td>3</td>\n",
       "      <td>I</td>\n",
       "      <td>0.580</td>\n",
       "      <td>0.490</td>\n",
       "      <td>0.195</td>\n",
       "      <td>1.3165</td>\n",
       "      <td>0.5305</td>\n",
       "      <td>0.2540</td>\n",
       "      <td>0.4100</td>\n",
       "      <td>18.0</td>\n",
       "    </tr>\n",
       "    <tr>\n",
       "      <th>3</th>\n",
       "      <td>4</td>\n",
       "      <td>M</td>\n",
       "      <td>0.535</td>\n",
       "      <td>0.405</td>\n",
       "      <td>0.175</td>\n",
       "      <td>1.2705</td>\n",
       "      <td>0.5480</td>\n",
       "      <td>0.3265</td>\n",
       "      <td>0.3370</td>\n",
       "      <td>13.0</td>\n",
       "    </tr>\n",
       "    <tr>\n",
       "      <th>4</th>\n",
       "      <td>5</td>\n",
       "      <td>I</td>\n",
       "      <td>0.310</td>\n",
       "      <td>0.235</td>\n",
       "      <td>0.090</td>\n",
       "      <td>0.1270</td>\n",
       "      <td>0.0480</td>\n",
       "      <td>0.0310</td>\n",
       "      <td>0.0400</td>\n",
       "      <td>6.0</td>\n",
       "    </tr>\n",
       "  </tbody>\n",
       "</table>\n",
       "</div>"
      ],
      "text/plain": [
       "   id Gender  Lenght  Diameter  Height  Whole Weight  Shucked Weight  Viscra Weight  Shell Weight  Target\n",
       "0  1   M      0.605   0.470     0.115   1.1140        0.3925          0.2910         0.3100        15.0  \n",
       "1  2   I      0.430   0.315     0.095   0.3780        0.1750          0.0800         0.1045        8.0   \n",
       "2  3   I      0.580   0.490     0.195   1.3165        0.5305          0.2540         0.4100        18.0  \n",
       "3  4   M      0.535   0.405     0.175   1.2705        0.5480          0.3265         0.3370        13.0  \n",
       "4  5   I      0.310   0.235     0.090   0.1270        0.0480          0.0310         0.0400        6.0   "
      ]
     },
     "execution_count": 3,
     "metadata": {},
     "output_type": "execute_result"
    }
   ],
   "source": [
    "df_all.head()\n",
    "# df_all.info()\n",
    "# df_all.describe()"
   ]
  },
  {
   "cell_type": "code",
   "execution_count": 4,
   "id": "c60a2629-9739-435e-9d56-ade44259a968",
   "metadata": {},
   "outputs": [],
   "source": [
    "# Whole weight = 전체 무게\n",
    "# Shucked weight = 껍데기제거(살) 무게\n",
    "# Viscra weight = 내장 무게\n",
    "# Shell weight = 껍데기 무게"
   ]
  },
  {
   "cell_type": "code",
   "execution_count": 5,
   "id": "776e5a28-0002-4969-8596-fad4d4a4a5e3",
   "metadata": {},
   "outputs": [],
   "source": [
    "df_v0 = pd.DataFrame()\n",
    "\n",
    "df_v0 = pd.get_dummies(df_all['Gender'].astype('category').cat.codes, prefix='G')\n",
    "\n",
    "df_v0['L'] = df_all['Lenght']\n",
    "df_v0['D'] = df_all['Diameter']\n",
    "df_v0['H'] = df_all['Height']\n",
    "\n",
    "# df_v0['V'] = df_v0['L'] * df_v0['D'] * df_v0['H']\n",
    "df_v0['L/D'] = df_v0['L'] / df_v0['D']\n",
    "df_v0['D/H'] = df_v0['D'] / df_v0['H']\n",
    "df_v0['H/L'] = df_v0['H'] / df_v0['L']\n",
    "\n",
    "df_v0['wWl'] = df_all['Whole Weight']\n",
    "df_v0['wSk'] = df_all['Shucked Weight']\n",
    "df_v0['wVs'] = df_all['Viscra Weight']\n",
    "df_v0['wSl'] = df_all['Shell Weight']\n",
    "\n",
    "df_v0['rSk'] = df_v0['wSk'] / df_v0['wWl']\n",
    "df_v0['rVs'] = df_v0['wVs'] / df_v0['wWl']\n",
    "df_v0['rSl'] = df_v0['wSl'] / df_v0['wWl']\n",
    "\n",
    "# df_v0[target] = df_all[target] + .5\n",
    "df_v0[target] = df_all[target]"
   ]
  },
  {
   "cell_type": "code",
   "execution_count": 6,
   "id": "a64b68de-0f56-47e6-9401-53198b056aa8",
   "metadata": {},
   "outputs": [],
   "source": [
    "def tr_te_split(df_all, len_train, target):\n",
    "    X = df_all.drop(target, axis=1)\n",
    "    y = df_all[target]\n",
    "    X_tr = X[:len_train]\n",
    "    y_tr = y[:len_train]\n",
    "    X_te = X[len_train:]\n",
    "    return X_tr, y_tr, X_te"
   ]
  },
  {
   "cell_type": "code",
   "execution_count": 7,
   "id": "c0008d82-0433-4889-98b0-1b4a24971d0c",
   "metadata": {},
   "outputs": [],
   "source": [
    "# 고속 데이터셋 평가\n",
    "def eval_df(X, y, lst_model):\n",
    "    from sklearn.model_selection import cross_val_score\n",
    "    \n",
    "    grd_score = []\n",
    "    for model_ in lst_model:\n",
    "        grd_score.append(cross_val_score(\n",
    "            model_, \n",
    "            X, \n",
    "            y, \n",
    "            cv=5, \n",
    "            scoring=\"neg_mean_absolute_error\", \n",
    "            n_jobs=-1))\n",
    "        \n",
    "    return grd_score"
   ]
  },
  {
   "cell_type": "code",
   "execution_count": 8,
   "id": "f63a1bdc-47c8-4335-a0e3-cd8fc8701ec9",
   "metadata": {
    "tags": []
   },
   "outputs": [],
   "source": [
    "from xgboost import XGBRegressor\n",
    "from catboost import CatBoostRegressor\n",
    "\n",
    "lst_model = [\n",
    "    # XGBRegressor(),\n",
    "    CatBoostRegressor(silent=True)\n",
    "]\n",
    "\n",
    "X_tr, y_tr, X_te = tr_te_split(df_v0, len_train, target)\n",
    "\n",
    "grd_score = eval_df(X_tr, y_tr, lst_model)"
   ]
  },
  {
   "cell_type": "code",
   "execution_count": 9,
   "id": "5d6fa5b1-b48f-4503-a433-235b69d862f6",
   "metadata": {},
   "outputs": [
    {
     "data": {
      "text/plain": [
       "0.1583315869166241"
      ]
     },
     "execution_count": 9,
     "metadata": {},
     "output_type": "execute_result"
    }
   ],
   "source": [
    "-np.mean(list(map(np.mean, grd_score))) / np.mean(np.abs(y_tr))"
   ]
  },
  {
   "cell_type": "code",
   "execution_count": 10,
   "id": "65e678d4-392d-46cd-bba7-16f15a52bbda",
   "metadata": {},
   "outputs": [
    {
     "data": {
      "text/plain": [
       "-1.5694160490857711"
      ]
     },
     "execution_count": 10,
     "metadata": {},
     "output_type": "execute_result"
    }
   ],
   "source": [
    "np.mean(grd_score)"
   ]
  },
  {
   "cell_type": "code",
   "execution_count": 11,
   "id": "847f1abd-07db-4a35-8de3-cbd7ab67539d",
   "metadata": {},
   "outputs": [],
   "source": [
    "import numpy as np\n",
    "\n",
    "def NMAE(true, pred):\n",
    "    mae = np.mean(np.abs(true-pred))\n",
    "    score = mae / np.mean(np.abs(true))\n",
    "    return score"
   ]
  },
  {
   "cell_type": "code",
   "execution_count": null,
   "id": "34bcaf85-ca86-49f0-8d21-165d03504a3b",
   "metadata": {},
   "outputs": [],
   "source": []
  },
  {
   "cell_type": "code",
   "execution_count": 12,
   "id": "a55ae3c8-326b-4868-a563-47b7bc74f424",
   "metadata": {},
   "outputs": [],
   "source": [
    "from sklearn.metrics import mean_absolute_error as mae\n",
    "from sklearn.model_selection import train_test_split\n",
    "from catboost import CatBoostRegressor\n",
    "import time\n",
    "\n",
    "def objective(trial):\n",
    "    params = {\n",
    "        \"random_state\":trial.suggest_categorical(\"random_state\", [2022]),\n",
    "        'learning_rate' : trial.suggest_loguniform('learning_rate', 0.0001, 0.3),\n",
    "        'bagging_temperature' :trial.suggest_loguniform('bagging_temperature', 0.01, 100.00),\n",
    "        # \"n_estimators\": trial.suggest_int(\"n_estimators\", 50, 1000),\n",
    "        \"n_estimators\": 1000,\n",
    "        \"max_depth\":trial.suggest_int(\"max_depth\", 2, 9),\n",
    "        'random_strength' :trial.suggest_int('random_strength', 0, 100),\n",
    "        \"l2_leaf_reg\":trial.suggest_float(\"l2_leaf_reg\",1e-8,3e-5),\n",
    "        \"min_child_samples\": trial.suggest_int(\"min_child_samples\", 5, 100),\n",
    "        \"max_bin\": trial.suggest_int(\"max_bin\", 200, 500),\n",
    "        # 'od_type': trial.suggest_categorical('od_type', ['IncToDec', 'Iter']),\n",
    "        # 'task_type': trial.suggest_categorical('task_type', ['GPU']),\n",
    "        'loss_function': trial.suggest_categorical('loss_function', ['MAE']),\n",
    "        'eval_metric': trial.suggest_categorical('eval_metric', ['MAE'])\n",
    "    }\n",
    "    \n",
    "    model = CatBoostRegressor(**params)\n",
    "    \n",
    "    time_s = time.time()\n",
    "    # for key_, value_ in params.items():\n",
    "    #     print(key_, value_)\n",
    "        \n",
    "    X_train_tmp, X_valid_tmp, y_train_tmp, y_valid_tmp = train_test_split(X_tr, y_tr, test_size=0.3, random_state=42)\n",
    "    model.fit(\n",
    "        X_train_tmp, y_train_tmp,\n",
    "        eval_set=[(X_valid_tmp, y_valid_tmp)],\n",
    "        early_stopping_rounds=25, \n",
    "        verbose=0,\n",
    "    )\n",
    "        \n",
    "    y_train_pred = model.predict(X_train_tmp)\n",
    "    y_valid_pred = model.predict(X_valid_tmp)\n",
    "    train_mae = mae(y_train_tmp, y_train_pred)\n",
    "    valid_mae = mae(y_valid_tmp, y_valid_pred)\n",
    "    \n",
    "    print(f'MAE of Train: {train_mae}, MAE of Validation: {valid_mae}', time.time() - time_s)\n",
    "    print()\n",
    "    \n",
    "    return valid_mae"
   ]
  },
  {
   "cell_type": "code",
   "execution_count": 18,
   "id": "c54742fe-647e-4f6f-980b-2665bb89725a",
   "metadata": {
    "tags": []
   },
   "outputs": [],
   "source": [
    "import optuna\n",
    "from optuna.samplers import TPESampler"
   ]
  },
  {
   "cell_type": "code",
   "execution_count": 22,
   "id": "2b4933a6-f5e4-4275-861f-5a8de792e828",
   "metadata": {},
   "outputs": [
    {
     "data": {
      "text/plain": [
       "40"
      ]
     },
     "execution_count": 22,
     "metadata": {},
     "output_type": "execute_result"
    }
   ],
   "source": [
    "optuna.logging.set_verbosity(optuna.logging.ERROR)\n",
    "optuna.logging.get_verbosity()"
   ]
  },
  {
   "cell_type": "code",
   "execution_count": 23,
   "id": "d9f5abde-ac04-424a-a79b-2076654a8f55",
   "metadata": {
    "tags": []
   },
   "outputs": [
    {
     "name": "stdout",
     "output_type": "stream",
     "text": [
      "MAE of Train: 2.2672691480216267, MAE of Validation: 2.1121310634044304 0.5635576248168945\n",
      "\n",
      "MAE of Train: 1.630960858530001, MAE of Validation: 1.5575654897830675 0.7440004348754883\n",
      "\n",
      "MAE of Train: 1.3341872653905493, MAE of Validation: 1.4402235442624443 0.08899927139282227\n",
      "\n",
      "MAE of Train: 1.379933772602387, MAE of Validation: 1.4154995197283335 0.25699949264526367\n",
      "\n",
      "MAE of Train: 1.3076734230567946, MAE of Validation: 1.4185706294245455 0.11800003051757812\n",
      "\n",
      "MAE of Train: 1.2953317930465038, MAE of Validation: 1.4080733289368739 0.16199946403503418\n",
      "\n",
      "MAE of Train: 1.760005007004558, MAE of Validation: 1.7170482163622152 13.366000413894653\n",
      "\n",
      "MAE of Train: 1.258662927613821, MAE of Validation: 1.4186806670659027 0.18399786949157715\n",
      "\n",
      "MAE of Train: 1.2946994977522321, MAE of Validation: 1.4134088301369319 2.0629990100860596\n",
      "\n",
      "MAE of Train: 1.1669732481827018, MAE of Validation: 1.4111249184094459 1.563999891281128\n",
      "\n",
      "MAE of Train: 1.2320668303398299, MAE of Validation: 1.3919482991877674 0.4979994297027588\n",
      "\n",
      "MAE of Train: 1.3319644348658577, MAE of Validation: 1.4006263456518275 0.2409985065460205\n",
      "\n",
      "MAE of Train: 1.3140915469272474, MAE of Validation: 1.3994093578119027 0.36499977111816406\n",
      "\n",
      "MAE of Train: 1.3051154214133738, MAE of Validation: 1.4039640154224076 0.610999345779419\n",
      "\n",
      "MAE of Train: 1.570434634141891, MAE of Validation: 1.5097599536192485 0.7579984664916992\n",
      "\n",
      "MAE of Train: 2.3434803194114946, MAE of Validation: 2.181717629697363 0.46099853515625\n",
      "\n",
      "MAE of Train: 1.3120247149487738, MAE of Validation: 1.4128721575029075 0.29399919509887695\n",
      "\n",
      "MAE of Train: 1.1908189133435205, MAE of Validation: 1.4000316684876273 1.5739994049072266\n",
      "\n",
      "MAE of Train: 1.3691532587688313, MAE of Validation: 1.4243238723753961 0.18200087547302246\n",
      "\n",
      "MAE of Train: 1.595997522577455, MAE of Validation: 1.6029275228799438 1.1720004081726074\n",
      "\n",
      "MAE of Train: 1.4582089292897262, MAE of Validation: 1.4403269626909005 0.5629992485046387\n",
      "\n",
      "MAE of Train: 1.2381363345484682, MAE of Validation: 1.401747931708182 1.0439980030059814\n",
      "\n",
      "MAE of Train: 1.2033565844622884, MAE of Validation: 1.4028658549902115 2.8159968852996826\n",
      "\n",
      "MAE of Train: 1.1921691092399236, MAE of Validation: 1.3832453520530603 0.3539998531341553\n",
      "\n",
      "MAE of Train: 1.3458544529201286, MAE of Validation: 1.409150374092682 0.20199894905090332\n",
      "\n",
      "MAE of Train: 1.345931443766556, MAE of Validation: 1.4411300539243443 0.11100244522094727\n",
      "\n",
      "MAE of Train: 1.347503607435447, MAE of Validation: 1.4024689035814397 0.35199785232543945\n",
      "\n",
      "MAE of Train: 1.3262541052758197, MAE of Validation: 1.4036131125492932 0.18399953842163086\n",
      "\n",
      "MAE of Train: 1.286936896635113, MAE of Validation: 1.3887613246150061 0.38500022888183594\n",
      "\n",
      "MAE of Train: 1.153007123914393, MAE of Validation: 1.4123051480543 0.39100027084350586\n",
      "\n",
      "MAE of Train: 1.2590809168042654, MAE of Validation: 1.3792066301951489 0.1249995231628418\n",
      "\n",
      "MAE of Train: 1.299512380903828, MAE of Validation: 1.3844254823401516 0.11799979209899902\n",
      "\n",
      "MAE of Train: 1.28319768724033, MAE of Validation: 1.4162915352803676 0.11299920082092285\n",
      "\n",
      "MAE of Train: 1.3720020273421418, MAE of Validation: 1.4531601970200263 0.13100171089172363\n",
      "\n",
      "MAE of Train: 1.3705323528534195, MAE of Validation: 1.4489605855749548 0.0970005989074707\n",
      "\n",
      "MAE of Train: 1.3157915918165255, MAE of Validation: 1.3993920959796857 0.1529998779296875\n",
      "\n",
      "MAE of Train: 1.353871000990915, MAE of Validation: 1.4640243646019482 0.12599945068359375\n",
      "\n",
      "MAE of Train: 1.3015215138311336, MAE of Validation: 1.3942836579517321 0.2220003604888916\n",
      "\n",
      "MAE of Train: 1.3535534429830762, MAE of Validation: 1.4338911791347597 0.11699962615966797\n",
      "\n",
      "MAE of Train: 0.9596859805637474, MAE of Validation: 1.4463304158307506 1.1760008335113525\n",
      "\n",
      "MAE of Train: 1.2039117331280451, MAE of Validation: 1.453150098250044 0.24599885940551758\n",
      "\n",
      "MAE of Train: 1.2819758922937596, MAE of Validation: 1.3874989015718495 0.32200050354003906\n",
      "\n",
      "MAE of Train: 1.248436429693559, MAE of Validation: 1.3920893365958433 0.3110008239746094\n",
      "\n",
      "MAE of Train: 1.1912770578468133, MAE of Validation: 1.4309818753205548 0.1900010108947754\n",
      "\n",
      "MAE of Train: 1.3294539565137822, MAE of Validation: 1.4028695614245277 0.13900232315063477\n",
      "\n",
      "MAE of Train: 1.2467472144767238, MAE of Validation: 1.4199200385399247 0.4550001621246338\n",
      "\n",
      "MAE of Train: 1.2352033428375997, MAE of Validation: 1.3869628007022834 0.26000094413757324\n",
      "\n",
      "MAE of Train: 1.4171623475824766, MAE of Validation: 1.4553956969584076 0.0970003604888916\n",
      "\n",
      "MAE of Train: 1.287996603935144, MAE of Validation: 1.4509045927792157 0.1249997615814209\n",
      "\n",
      "MAE of Train: 1.2904926820342197, MAE of Validation: 1.404822733216263 0.2089989185333252\n",
      "\n",
      "MAE of Train: 1.4803887926924602, MAE of Validation: 1.4732727099037795 1.2510006427764893\n",
      "\n",
      "MAE of Train: 1.2701833108331166, MAE of Validation: 1.3900274584017533 0.5279974937438965\n",
      "\n",
      "MAE of Train: 1.2738991942377151, MAE of Validation: 1.4062490059615236 0.272998571395874\n",
      "\n",
      "MAE of Train: 1.277076787707511, MAE of Validation: 1.3965462802885544 0.45599794387817383\n",
      "\n",
      "MAE of Train: 1.2471131451030741, MAE of Validation: 1.3879632904646857 0.2589995861053467\n",
      "\n",
      "MAE of Train: 1.3081974106850316, MAE of Validation: 1.432410067907434 0.17799997329711914\n",
      "\n",
      "MAE of Train: 1.2072588810663343, MAE of Validation: 1.4229821441890242 0.12799882888793945\n",
      "\n",
      "MAE of Train: 1.2465274295734625, MAE of Validation: 1.3916541702810474 0.268998384475708\n",
      "\n",
      "MAE of Train: 1.8743579734051363, MAE of Validation: 1.7855185737143355 1.5159978866577148\n",
      "\n",
      "MAE of Train: 1.3605001818664777, MAE of Validation: 1.4275520845785705 0.11099767684936523\n",
      "\n",
      "MAE of Train: 1.1708162906988744, MAE of Validation: 1.458737772308565 0.09999752044677734\n",
      "\n",
      "MAE of Train: 1.2697803335911673, MAE of Validation: 1.4006467585335927 0.612999439239502\n",
      "\n",
      "MAE of Train: 1.22553849090151, MAE of Validation: 1.3862191656882394 0.4249989986419678\n",
      "\n",
      "MAE of Train: 1.261004858959262, MAE of Validation: 1.384602605405349 0.40199995040893555\n",
      "\n",
      "MAE of Train: 1.1654049966589537, MAE of Validation: 1.3971134555594011 1.863999366760254\n",
      "\n",
      "MAE of Train: 1.3055701345788921, MAE of Validation: 1.4058429015419807 0.3509998321533203\n",
      "\n",
      "MAE of Train: 1.2642056889689175, MAE of Validation: 1.4078095936028654 0.7539992332458496\n",
      "\n",
      "MAE of Train: 1.3067600604719292, MAE of Validation: 1.3966860889674815 0.27300000190734863\n",
      "\n",
      "MAE of Train: 1.3701543085908492, MAE of Validation: 1.4057707853601307 1.0069990158081055\n",
      "\n",
      "MAE of Train: 1.2590431740413355, MAE of Validation: 1.4339572991161211 0.23299932479858398\n",
      "\n",
      "MAE of Train: 2.288099463070187, MAE of Validation: 2.135541342744047 1.485999345779419\n",
      "\n",
      "MAE of Train: 1.2754006118245351, MAE of Validation: 1.3755803239681192 0.23399996757507324\n",
      "\n",
      "MAE of Train: 1.2658785435411926, MAE of Validation: 1.3853989360200114 0.2719991207122803\n",
      "\n",
      "MAE of Train: 1.405506800437546, MAE of Validation: 1.4158840919640026 0.17699933052062988\n",
      "\n",
      "MAE of Train: 1.3188817677768585, MAE of Validation: 1.391207434951571 0.14899945259094238\n",
      "\n",
      "MAE of Train: 1.2864071399203907, MAE of Validation: 1.394406445013026 0.4549977779388428\n",
      "\n",
      "MAE of Train: 1.2535430072317306, MAE of Validation: 1.414837988293645 0.25100040435791016\n",
      "\n",
      "MAE of Train: 1.343861125549698, MAE of Validation: 1.4035590343547002 0.5009980201721191\n",
      "\n",
      "MAE of Train: 1.276008561257281, MAE of Validation: 1.3970067088074705 0.2989983558654785\n",
      "\n",
      "MAE of Train: 1.2674345838539274, MAE of Validation: 1.4282573637937876 0.1699988842010498\n",
      "\n",
      "MAE of Train: 1.2577322084177232, MAE of Validation: 1.3948353753324263 0.18999767303466797\n",
      "\n",
      "MAE of Train: 1.244450249683583, MAE of Validation: 1.3808657319841764 0.40799880027770996\n",
      "\n",
      "MAE of Train: 1.2929923633944806, MAE of Validation: 1.4045344327863558 0.12299990653991699\n",
      "\n",
      "MAE of Train: 1.246009116097451, MAE of Validation: 1.3854126095883221 0.43799853324890137\n",
      "\n",
      "MAE of Train: 1.3353977352394752, MAE of Validation: 1.4063367685044281 0.29999876022338867\n",
      "\n",
      "MAE of Train: 1.2360613155192073, MAE of Validation: 1.398769920602805 0.7229998111724854\n",
      "\n",
      "MAE of Train: 1.265661649491371, MAE of Validation: 1.4011629532134655 0.4890000820159912\n",
      "\n",
      "MAE of Train: 1.255069801252942, MAE of Validation: 1.4113201124571084 0.3970000743865967\n",
      "\n",
      "MAE of Train: 1.2606224103435504, MAE of Validation: 1.404345657512523 0.8209996223449707\n",
      "\n",
      "MAE of Train: 1.321720734201495, MAE of Validation: 1.3978740548581496 0.36299872398376465\n",
      "\n",
      "MAE of Train: 1.359409503749568, MAE of Validation: 1.4273209823065016 2.0289998054504395\n",
      "\n",
      "MAE of Train: 1.2615726066234771, MAE of Validation: 1.3863220665959834 0.27900195121765137\n",
      "\n",
      "MAE of Train: 1.2741985200779917, MAE of Validation: 1.386273584442532 0.2780017852783203\n",
      "\n",
      "MAE of Train: 1.273357256991878, MAE of Validation: 1.3978311008386373 0.3520019054412842\n",
      "\n",
      "MAE of Train: 1.2576318721734558, MAE of Validation: 1.405837646862176 0.27199840545654297\n",
      "\n",
      "MAE of Train: 1.1952632633565217, MAE of Validation: 1.4034975025944147 0.2950012683868408\n",
      "\n",
      "MAE of Train: 1.3351961723630517, MAE of Validation: 1.448913887912384 0.0989990234375\n",
      "\n",
      "MAE of Train: 1.133798939832408, MAE of Validation: 1.3991250093456087 0.20399856567382812\n",
      "\n",
      "MAE of Train: 1.6104081041524352, MAE of Validation: 1.578103064795348 2.192000150680542\n",
      "\n",
      "MAE of Train: 1.1833414483808518, MAE of Validation: 1.4218191539844014 0.2599983215332031\n",
      "\n",
      "1.3755803239681192 {'random_state': 2022, 'learning_rate': 0.05338427881698264, 'bagging_temperature': 0.033504624978212966, 'max_depth': 6, 'random_strength': 32, 'l2_leaf_reg': 2.688308707409342e-05, 'min_child_samples': 45, 'max_bin': 423, 'loss_function': 'MAE', 'eval_metric': 'MAE'}\n"
     ]
    }
   ],
   "source": [
    "TRIALS = 100\n",
    "TIMEOUT = 3600\n",
    "\n",
    "sampler_ = TPESampler()\n",
    "study_ = optuna.create_study(\n",
    "    study_name = 'cat_parameter_opt',\n",
    "    direction = 'minimize',\n",
    "    sampler = sampler_,\n",
    ")\n",
    "study_.optimize(objective, n_trials=TRIALS, timeout=TIMEOUT, show_progress_bar=0, )\n",
    "print(study_.best_value, study_.best_trial.params)"
   ]
  },
  {
   "cell_type": "code",
   "execution_count": 24,
   "id": "1d58b04c-f7ff-4b07-bce9-6d84a36d0ac2",
   "metadata": {
    "tags": []
   },
   "outputs": [
    {
     "name": "stdout",
     "output_type": "stream",
     "text": [
      "0:\tlearn: 2.3684683\ttest: 2.2076713\tbest: 2.2076713 (0)\ttotal: 1.08ms\tremaining: 32.3s\n",
      "Stopped by overfitting detector  (35 iterations wait)\n",
      "\n",
      "bestTest = 1.374574792\n",
      "bestIteration = 147\n",
      "\n",
      "Shrink model to first 148 iterations.\n"
     ]
    }
   ],
   "source": [
    "best_params = study_.best_params\n",
    "\n",
    "X_train_tmp, X_valid_tmp, y_train_tmp, y_valid_tmp = train_test_split(X_tr, y_tr, test_size=0.3, random_state=42)\n",
    "model_tmp = CatBoostRegressor(**best_params, n_estimators=30000, verbose=1000).fit(X_train_tmp, y_train_tmp, eval_set=[(X_valid_tmp, y_valid_tmp)], early_stopping_rounds=35)\n",
    "\n",
    "# X_train_tmp, X_valid_tmp, y_train_tmp, y_valid_tmp = train_test_split(X_tr, y_tr, test_size=0.3, random_state=42)\n",
    "# model_tmp = CatBoostRegressor(**study_.best_params, \n",
    "#                               n_estimators = 1000, \n",
    "#                               verbose=1000)\n",
    "# # model_tmp.set_params(n_estimators = 30000)\n",
    "# model_tmp.fit(X_train_tmp, y_train_tmp, eval_set=[(X_valid_tmp, y_valid_tmp)], early_stopping_rounds=35)\n",
    "\n",
    "# if allow_optimize:\n",
    "#     sampler = TPESampler(seed=42)\n",
    "\n",
    "#     study = optuna.create_study(\n",
    "#         study_name = 'cat_parameter_opt',\n",
    "#         direction = 'minimize',\n",
    "#         sampler = sampler,\n",
    "#     )\n",
    "#     study.optimize(objective, n_trials=TRIALS)\n",
    "#     print(\"Best Score:\",study.best_value)\n",
    "#     print(\"Best trial\",study.best_trial.params)\n",
    "    \n",
    "#     best_params = study.best_params\n",
    "    \n",
    "#     X_train_tmp, X_valid_tmp, y_train_tmp, y_valid_tmp = train_test_split(X, y, test_size=0.3, random_state=42)\n",
    "#     model_tmp = CatBoostRegressor(**best_params, n_estimators=30000, verbose=1000).fit(X_train_tmp, y_train_tmp, eval_set=[(X_valid_tmp, y_valid_tmp)], early_stopping_rounds=35)"
   ]
  },
  {
   "cell_type": "code",
   "execution_count": 25,
   "id": "7e6b0dc2-7d44-4b0f-9044-c21cbb0b63bc",
   "metadata": {
    "tags": []
   },
   "outputs": [
    {
     "name": "stdout",
     "output_type": "stream",
     "text": [
      "0:\tlearn: 2.3131782\ttotal: 1.6ms\tremaining: 233ms\n",
      "146:\tlearn: 1.2557168\ttotal: 209ms\tremaining: 0us\n"
     ]
    }
   ],
   "source": [
    "cat_reg = CatBoostRegressor(**study_.best_trial.params, n_estimators=model_tmp.get_best_iteration(), verbose=1000)\n",
    "cat_reg.fit(X_tr, y_tr)\n",
    "df_sub[target] = cat_reg.predict(X_te)\n",
    "\n",
    "import datetime\n",
    "now = datetime.datetime.now()\n",
    "str_datetime = now.strftime(\"%y%m%d_%H%M%S\")\n",
    "df_sub.to_csv(dir_dataset+'submission-'+name_project+'-'+str_datetime+'.csv', index = 0)"
   ]
  },
  {
   "cell_type": "code",
   "execution_count": 16,
   "id": "5ad879d9-8863-44ee-95b3-68809b114b99",
   "metadata": {},
   "outputs": [],
   "source": [
    "from sklearn.model_selection import GridSearchCV\n",
    "\n",
    "param_grid={\n",
    "    'max_depth': [2, 3, 4, 5, 6, 7, 8],\n",
    "    'n_estimators': [50, 100, 150, 200, 250, 300],\n",
    "    'min_child_weight': [1, 2, 3, 4, 5]\n",
    "}"
   ]
  },
  {
   "cell_type": "code",
   "execution_count": 17,
   "id": "5b02e863-43ce-494e-9ed9-26a17ed2bf8b",
   "metadata": {},
   "outputs": [
    {
     "ename": "NameError",
     "evalue": "name 'X' is not defined",
     "output_type": "error",
     "traceback": [
      "\u001b[1;31m---------------------------------------------------------------------------\u001b[0m",
      "\u001b[1;31mNameError\u001b[0m                                 Traceback (most recent call last)",
      "Input \u001b[1;32mIn [17]\u001b[0m, in \u001b[0;36m<cell line: 3>\u001b[1;34m()\u001b[0m\n\u001b[0;32m     15\u001b[0m     regressor \u001b[38;5;241m=\u001b[39m XGBRegressor(\n\u001b[0;32m     16\u001b[0m \u001b[38;5;66;03m#         tree_method = 'gpu_hist', \u001b[39;00m\n\u001b[0;32m     17\u001b[0m \u001b[38;5;66;03m#         predictor = 'gpu_predictor'\u001b[39;00m\n\u001b[0;32m     18\u001b[0m     )\n\u001b[0;32m     19\u001b[0m     CV_regressor \u001b[38;5;241m=\u001b[39m GridSearchCV(regressor, param_grid, cv\u001b[38;5;241m=\u001b[39m\u001b[38;5;241m3\u001b[39m, scoring\u001b[38;5;241m=\u001b[39m\u001b[38;5;124m\"\u001b[39m\u001b[38;5;124mneg_mean_absolute_error\u001b[39m\u001b[38;5;124m\"\u001b[39m, n_jobs\u001b[38;5;241m=\u001b[39m \u001b[38;5;241m-\u001b[39m\u001b[38;5;241m1\u001b[39m, return_train_score \u001b[38;5;241m=\u001b[39m \u001b[38;5;28;01mTrue\u001b[39;00m, verbose \u001b[38;5;241m=\u001b[39m \u001b[38;5;241m1\u001b[39m)\n\u001b[1;32m---> 20\u001b[0m     CV_regressor\u001b[38;5;241m.\u001b[39mfit(\u001b[43mX\u001b[49m, y)\n\u001b[0;32m     22\u001b[0m     \u001b[38;5;28mprint\u001b[39m(\u001b[38;5;124m\"\u001b[39m\u001b[38;5;124mThe best hyperparameters are : \u001b[39m\u001b[38;5;124m\"\u001b[39m,\u001b[38;5;124m\"\u001b[39m\u001b[38;5;130;01m\\n\u001b[39;00m\u001b[38;5;124m\"\u001b[39m)\n\u001b[0;32m     23\u001b[0m     \u001b[38;5;28mprint\u001b[39m(CV_regressor\u001b[38;5;241m.\u001b[39mbest_params_)\n",
      "\u001b[1;31mNameError\u001b[0m: name 'X' is not defined"
     ]
    }
   ],
   "source": [
    "from sklearn.model_selection import GridSearchCV\n",
    "allow_optimize = 1\n",
    "if allow_optimize:\n",
    "    param_grid={\n",
    "#         'max_depth': [4,5,6,7,8,9],\n",
    "        'max_depth': [5],\n",
    "        #'n_estimators': [100,200,300,400,500,600,700,800,900,1000],\n",
    "        'n_estimators': [75],\n",
    "#         'min_child_weight' : [1,2,3,4,5,6],\n",
    "        'min_child_weight' : [1],\n",
    "        \n",
    "#       'gpu_id' : [0]\n",
    "        }\n",
    "\n",
    "    regressor = XGBRegressor(\n",
    "#         tree_method = 'gpu_hist', \n",
    "#         predictor = 'gpu_predictor'\n",
    "    )\n",
    "    CV_regressor = GridSearchCV(regressor, param_grid, cv=3, scoring=\"neg_mean_absolute_error\", n_jobs= -1, return_train_score = True, verbose = 1)\n",
    "    CV_regressor.fit(X, y)\n",
    "    \n",
    "    print(\"The best hyperparameters are : \",\"\\n\")\n",
    "    print(CV_regressor.best_params_)"
   ]
  }
 ],
 "metadata": {
  "kernelspec": {
   "display_name": "Python 3 (ipykernel)",
   "language": "python",
   "name": "python3"
  },
  "language_info": {
   "codemirror_mode": {
    "name": "ipython",
    "version": 3
   },
   "file_extension": ".py",
   "mimetype": "text/x-python",
   "name": "python",
   "nbconvert_exporter": "python",
   "pygments_lexer": "ipython3",
   "version": "3.8.10"
  },
  "widgets": {
   "application/vnd.jupyter.widget-state+json": {
    "state": {
     "056b4a7f37484fc7be5179e387027f49": {
      "model_module": "@jupyter-widgets/base",
      "model_module_version": "1.2.0",
      "model_name": "LayoutModel",
      "state": {}
     },
     "14c54358dd0f40e0af5aed444c2d17d7": {
      "model_module": "@jupyter-widgets/controls",
      "model_module_version": "1.5.0",
      "model_name": "HBoxModel",
      "state": {
       "children": [
        "IPY_MODEL_cf27e4e931274648ac2fa54a31f9d21e",
        "IPY_MODEL_596b3c0bd79f47c8bebc79a334edb748",
        "IPY_MODEL_2fb5b49d212c4f19bb3dfef4105a268e"
       ],
       "layout": "IPY_MODEL_35dea43b2ee34054a9911ecd7f816f19"
      }
     },
     "2fb5b49d212c4f19bb3dfef4105a268e": {
      "model_module": "@jupyter-widgets/controls",
      "model_module_version": "1.5.0",
      "model_name": "HTMLModel",
      "state": {
       "layout": "IPY_MODEL_e9f2cf97dd5c46a3bbc80320b7d9fee2",
       "style": "IPY_MODEL_f07ff590855346aaab7bb6f33bd21070",
       "value": " 100/100 [01:04&lt;00:00,  5.52it/s, 64.04/3600 seconds]"
      }
     },
     "35dea43b2ee34054a9911ecd7f816f19": {
      "model_module": "@jupyter-widgets/base",
      "model_module_version": "1.2.0",
      "model_name": "LayoutModel",
      "state": {}
     },
     "596b3c0bd79f47c8bebc79a334edb748": {
      "model_module": "@jupyter-widgets/controls",
      "model_module_version": "1.5.0",
      "model_name": "FloatProgressModel",
      "state": {
       "bar_style": "success",
       "layout": "IPY_MODEL_fe13a98409ef47aca90d0d49e1aaaa05",
       "style": "IPY_MODEL_cb577f5cffd14514bca3251ac6e81eb8",
       "value": 100
      }
     },
     "7e25d63bae6746f7bd142d4c2b59f1a9": {
      "model_module": "@jupyter-widgets/controls",
      "model_module_version": "1.5.0",
      "model_name": "DescriptionStyleModel",
      "state": {
       "description_width": ""
      }
     },
     "cb577f5cffd14514bca3251ac6e81eb8": {
      "model_module": "@jupyter-widgets/controls",
      "model_module_version": "1.5.0",
      "model_name": "ProgressStyleModel",
      "state": {
       "description_width": ""
      }
     },
     "cf27e4e931274648ac2fa54a31f9d21e": {
      "model_module": "@jupyter-widgets/controls",
      "model_module_version": "1.5.0",
      "model_name": "HTMLModel",
      "state": {
       "layout": "IPY_MODEL_056b4a7f37484fc7be5179e387027f49",
       "style": "IPY_MODEL_7e25d63bae6746f7bd142d4c2b59f1a9",
       "value": "100%"
      }
     },
     "e9f2cf97dd5c46a3bbc80320b7d9fee2": {
      "model_module": "@jupyter-widgets/base",
      "model_module_version": "1.2.0",
      "model_name": "LayoutModel",
      "state": {}
     },
     "f07ff590855346aaab7bb6f33bd21070": {
      "model_module": "@jupyter-widgets/controls",
      "model_module_version": "1.5.0",
      "model_name": "DescriptionStyleModel",
      "state": {
       "description_width": ""
      }
     },
     "fe13a98409ef47aca90d0d49e1aaaa05": {
      "model_module": "@jupyter-widgets/base",
      "model_module_version": "1.2.0",
      "model_name": "LayoutModel",
      "state": {}
     }
    },
    "version_major": 2,
    "version_minor": 0
   }
  }
 },
 "nbformat": 4,
 "nbformat_minor": 5
}
