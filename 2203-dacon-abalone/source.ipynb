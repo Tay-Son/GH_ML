{
 "cells": [
  {
   "cell_type": "code",
   "execution_count": 1,
   "id": "3e32053a-6eec-4228-bbb4-f5a1fbaaa98a",
   "metadata": {},
   "outputs": [],
   "source": [
    "# Notebook 출력설정\n",
    "# 주요 라이브러리 임포트\n",
    "\n",
    "import warnings\n",
    "warnings.filterwarnings('ignore')\n",
    "\n",
    "import numpy as np\n",
    "import pandas as pd\n",
    "pd.set_option('display.max_colwidth', -1)\n",
    "pd.set_option('display.max_rows', 500)\n",
    "pd.set_option('display.max_columns', 500)\n",
    "pd.set_option('display.width', 1000)\n",
    "\n",
    "%matplotlib inline\n",
    "import matplotlib.pylab as plt\n",
    "plt.rcParams[\"figure.figsize\"] = (15,5)\n",
    "plt.rcParams['lines.linewidth'] = 1\n",
    "plt.rcParams['axes.grid'] = True\n",
    "import seaborn as sns"
   ]
  },
  {
   "cell_type": "code",
   "execution_count": 69,
   "id": "97445e3f-02a2-496d-9530-bb6cd7892065",
   "metadata": {},
   "outputs": [],
   "source": [
    "# 원본 데이터셋 로드\n",
    "dir_dataset = \"C:/Users/0stix/Datasets/\"\n",
    "name_project = '2203-dacon-abalone'\n",
    "df_train = pd.read_csv(dir_dataset+name_project+'/train.csv')\n",
    "df_test = pd.read_csv(dir_dataset+name_project+'/test.csv')\n",
    "df_sub = pd.read_csv(dir_dataset+name_project+'/sample_submission.csv')\n",
    "\n",
    "len_train = len(df_train)\n",
    "df_all = pd.concat([df_train, df_test], axis=0)\n",
    "target = 'Target'"
   ]
  },
  {
   "cell_type": "code",
   "execution_count": 9,
   "id": "93b6be77-0a18-4d03-8ea5-aec48b6cf076",
   "metadata": {},
   "outputs": [
    {
     "data": {
      "text/html": [
       "<div>\n",
       "<style scoped>\n",
       "    .dataframe tbody tr th:only-of-type {\n",
       "        vertical-align: middle;\n",
       "    }\n",
       "\n",
       "    .dataframe tbody tr th {\n",
       "        vertical-align: top;\n",
       "    }\n",
       "\n",
       "    .dataframe thead th {\n",
       "        text-align: right;\n",
       "    }\n",
       "</style>\n",
       "<table border=\"1\" class=\"dataframe\">\n",
       "  <thead>\n",
       "    <tr style=\"text-align: right;\">\n",
       "      <th></th>\n",
       "      <th>id</th>\n",
       "      <th>Gender</th>\n",
       "      <th>Lenght</th>\n",
       "      <th>Diameter</th>\n",
       "      <th>Height</th>\n",
       "      <th>Whole Weight</th>\n",
       "      <th>Shucked Weight</th>\n",
       "      <th>Viscra Weight</th>\n",
       "      <th>Shell Weight</th>\n",
       "      <th>Target</th>\n",
       "    </tr>\n",
       "  </thead>\n",
       "  <tbody>\n",
       "    <tr>\n",
       "      <th>0</th>\n",
       "      <td>1</td>\n",
       "      <td>M</td>\n",
       "      <td>0.605</td>\n",
       "      <td>0.470</td>\n",
       "      <td>0.115</td>\n",
       "      <td>1.1140</td>\n",
       "      <td>0.3925</td>\n",
       "      <td>0.2910</td>\n",
       "      <td>0.3100</td>\n",
       "      <td>15.0</td>\n",
       "    </tr>\n",
       "    <tr>\n",
       "      <th>1</th>\n",
       "      <td>2</td>\n",
       "      <td>I</td>\n",
       "      <td>0.430</td>\n",
       "      <td>0.315</td>\n",
       "      <td>0.095</td>\n",
       "      <td>0.3780</td>\n",
       "      <td>0.1750</td>\n",
       "      <td>0.0800</td>\n",
       "      <td>0.1045</td>\n",
       "      <td>8.0</td>\n",
       "    </tr>\n",
       "    <tr>\n",
       "      <th>2</th>\n",
       "      <td>3</td>\n",
       "      <td>I</td>\n",
       "      <td>0.580</td>\n",
       "      <td>0.490</td>\n",
       "      <td>0.195</td>\n",
       "      <td>1.3165</td>\n",
       "      <td>0.5305</td>\n",
       "      <td>0.2540</td>\n",
       "      <td>0.4100</td>\n",
       "      <td>18.0</td>\n",
       "    </tr>\n",
       "    <tr>\n",
       "      <th>3</th>\n",
       "      <td>4</td>\n",
       "      <td>M</td>\n",
       "      <td>0.535</td>\n",
       "      <td>0.405</td>\n",
       "      <td>0.175</td>\n",
       "      <td>1.2705</td>\n",
       "      <td>0.5480</td>\n",
       "      <td>0.3265</td>\n",
       "      <td>0.3370</td>\n",
       "      <td>13.0</td>\n",
       "    </tr>\n",
       "    <tr>\n",
       "      <th>4</th>\n",
       "      <td>5</td>\n",
       "      <td>I</td>\n",
       "      <td>0.310</td>\n",
       "      <td>0.235</td>\n",
       "      <td>0.090</td>\n",
       "      <td>0.1270</td>\n",
       "      <td>0.0480</td>\n",
       "      <td>0.0310</td>\n",
       "      <td>0.0400</td>\n",
       "      <td>6.0</td>\n",
       "    </tr>\n",
       "  </tbody>\n",
       "</table>\n",
       "</div>"
      ],
      "text/plain": [
       "   id Gender  Lenght  Diameter  Height  Whole Weight  Shucked Weight  Viscra Weight  Shell Weight  Target\n",
       "0  1   M      0.605   0.470     0.115   1.1140        0.3925          0.2910         0.3100        15.0  \n",
       "1  2   I      0.430   0.315     0.095   0.3780        0.1750          0.0800         0.1045        8.0   \n",
       "2  3   I      0.580   0.490     0.195   1.3165        0.5305          0.2540         0.4100        18.0  \n",
       "3  4   M      0.535   0.405     0.175   1.2705        0.5480          0.3265         0.3370        13.0  \n",
       "4  5   I      0.310   0.235     0.090   0.1270        0.0480          0.0310         0.0400        6.0   "
      ]
     },
     "execution_count": 9,
     "metadata": {},
     "output_type": "execute_result"
    }
   ],
   "source": [
    "df_all.head()\n",
    "# df_all.info()\n",
    "# df_all.describe()"
   ]
  },
  {
   "cell_type": "code",
   "execution_count": null,
   "id": "c60a2629-9739-435e-9d56-ade44259a968",
   "metadata": {},
   "outputs": [],
   "source": [
    "# Whole weight = 전체 무게\n",
    "# Shucked weight = 껍데기제거(살) 무게\n",
    "# Viscra weight = 내장 무게\n",
    "# Shell weight = 껍데기 무게"
   ]
  },
  {
   "cell_type": "code",
   "execution_count": 10,
   "id": "7b158d82-1a39-46c3-bc1c-22c653867da4",
   "metadata": {},
   "outputs": [
    {
     "data": {
      "text/plain": [
       "array(['M', 'I', 'F'], dtype=object)"
      ]
     },
     "execution_count": 10,
     "metadata": {},
     "output_type": "execute_result"
    }
   ],
   "source": [
    "df_all['Gender'].unique()"
   ]
  },
  {
   "cell_type": "code",
   "execution_count": 4,
   "id": "0751dcf6-50a2-4fe6-8a90-2c7c3acd78ae",
   "metadata": {},
   "outputs": [
    {
     "data": {
      "text/plain": [
       "1253"
      ]
     },
     "execution_count": 4,
     "metadata": {},
     "output_type": "execute_result"
    }
   ],
   "source": [
    "len_train"
   ]
  },
  {
   "cell_type": "code",
   "execution_count": 113,
   "id": "776e5a28-0002-4969-8596-fad4d4a4a5e3",
   "metadata": {},
   "outputs": [],
   "source": [
    "df_v0 = pd.DataFrame()\n",
    "\n",
    "df_v0 = pd.get_dummies(df_all['Gender'].astype('category').cat.codes, prefix='G')\n",
    "\n",
    "df_v0['L'] = df_all['Lenght']\n",
    "df_v0['D'] = df_all['Diameter']\n",
    "df_v0['H'] = df_all['Height']\n",
    "\n",
    "df_v0['L/D'] = df_v0['L'] / df_v0['D']\n",
    "df_v0['D/H'] = df_v0['D'] / df_v0['H']\n",
    "df_v0['H/L'] = df_v0['H'] / df_v0['L']\n",
    "\n",
    "df_v0['wWl'] = df_all['Whole Weight']\n",
    "df_v0['wSk'] = df_all['Shucked Weight']\n",
    "df_v0['wVs'] = df_all['Viscra Weight']\n",
    "df_v0['wSl'] = df_all['Shell Weight']\n",
    "\n",
    "df_v0['rSk'] = df_v0['wSk'] / df_v0['wWl']\n",
    "df_v0['rVs'] = df_v0['wVs'] / df_v0['wWl']\n",
    "df_v0['rSl'] = df_v0['wSl'] / df_v0['wWl']\n",
    "\n",
    "# df_v0[target] = df_all[target] + .5\n",
    "df_v0[target] = df_all[target]"
   ]
  },
  {
   "cell_type": "code",
   "execution_count": 114,
   "id": "a64b68de-0f56-47e6-9401-53198b056aa8",
   "metadata": {},
   "outputs": [],
   "source": [
    "def tr_te_split(df_all, len_train, target):\n",
    "    X = df_all.drop(target, axis=1)\n",
    "    y = df_all[target]\n",
    "    X_tr = X[:len_train]\n",
    "    y_tr = y[:len_train]\n",
    "    X_te = X[len_train:]\n",
    "    return X_tr, y_tr, X_te"
   ]
  },
  {
   "cell_type": "code",
   "execution_count": 115,
   "id": "c0008d82-0433-4889-98b0-1b4a24971d0c",
   "metadata": {},
   "outputs": [],
   "source": [
    "# 고속 데이터셋 평가\n",
    "def eval_df(X, y, lst_model):\n",
    "    from sklearn.model_selection import cross_val_score\n",
    "    \n",
    "    grd_score = []\n",
    "    for model_ in lst_model:\n",
    "        grd_score.append(cross_val_score(\n",
    "            model_, \n",
    "            X, \n",
    "            y, \n",
    "            cv=5, \n",
    "            scoring=\"neg_mean_absolute_error\", \n",
    "            n_jobs=-1))\n",
    "        \n",
    "    return grd_score"
   ]
  },
  {
   "cell_type": "code",
   "execution_count": 116,
   "id": "f63a1bdc-47c8-4335-a0e3-cd8fc8701ec9",
   "metadata": {
    "tags": []
   },
   "outputs": [],
   "source": [
    "from xgboost import XGBRegressor\n",
    "from catboost import CatBoostRegressor\n",
    "\n",
    "lst_model = [\n",
    "    # XGBRegressor(),\n",
    "    CatBoostRegressor(silent=True)\n",
    "]\n",
    "\n",
    "X_tr, y_tr, X_te = tr_te_split(df_v0, len_train, target)\n",
    "\n",
    "grd_score = eval_df(X_tr, y_tr, lst_model)"
   ]
  },
  {
   "cell_type": "code",
   "execution_count": 117,
   "id": "5d6fa5b1-b48f-4503-a433-235b69d862f6",
   "metadata": {},
   "outputs": [
    {
     "data": {
      "text/plain": [
       "1.6703697059342588"
      ]
     },
     "execution_count": 117,
     "metadata": {},
     "output_type": "execute_result"
    }
   ],
   "source": [
    "-np.mean(list(map(np.mean, grd_score)))"
   ]
  },
  {
   "cell_type": "code",
   "execution_count": 97,
   "id": "65e678d4-392d-46cd-bba7-16f15a52bbda",
   "metadata": {},
   "outputs": [
    {
     "data": {
      "text/plain": [
       "[array([-1.4576537 , -1.62852356, -1.69092835, -1.64521161, -1.92953131]),\n",
       " array([-1.32727061, -1.55295134, -1.63503327, -1.60421292, -1.72761211])]"
      ]
     },
     "execution_count": 97,
     "metadata": {},
     "output_type": "execute_result"
    }
   ],
   "source": [
    "grd_score"
   ]
  },
  {
   "cell_type": "code",
   "execution_count": 86,
   "id": "7e6b0dc2-7d44-4b0f-9044-c21cbb0b63bc",
   "metadata": {},
   "outputs": [],
   "source": [
    "cat_reg = CatBoostRegressor(silent=True)\n",
    "cat_reg.fit(X_tr, y_tr)\n",
    "df_sub[target] = cat_reg.predict(X_te)\n",
    "\n",
    "import datetime\n",
    "now = datetime.datetime.now()\n",
    "str_datetime = now.strftime(\"%y%m%d_%H%M%S\")\n",
    "df_sub.to_csv(dir_dataset+'submission-'+name_project+'-'+str_datetime+'.csv', index = 0)"
   ]
  },
  {
   "cell_type": "code",
   "execution_count": null,
   "id": "0f21d210-1277-466f-b83a-43d69fd7c66a",
   "metadata": {},
   "outputs": [],
   "source": [
    "from xgboost import XGBRegressor\n",
    "from catboost import CatBoostRegressor\n",
    "from sklearn.preprocessing import LabelEncoder\n",
    "from sklearn.model_selection import cross_val_score\n",
    "\n",
    "# def score_dataset(X, y, model=XGBRegressor(tree_method='gpu_hist', predictor='gpu_predictor'), model_2 = CatBoostRegressor(task_type = 'GPU', silent=True)):\n",
    "def score_dataset(X, y, model=XGBRegressor(), model_2 = CatBoostRegressor(silent=True)):\n",
    "#def score_dataset(X, y, model=XGBRegressor(), model_2 = CatBoostRegressor(silent=True)):\n",
    "    # Label encoding is good for XGBoost and RandomForest, but one-hot\n",
    "    # would be better for models like Lasso or Ridge. The `cat.codes`\n",
    "    # attribute holds the category levels.\n",
    "    for colname in X.select_dtypes([\"object\"]).columns:\n",
    "        X[colname] = LabelEncoder().fit_transform(X[colname])\n",
    "    X['week'] = X['week'].astype(int)\n",
    "    X = X.drop('row_id',axis=1)\n",
    "    # Metric for TPS Mar22 competition is MAE (Mean Absolute Error)\n",
    "    score_xgb = cross_val_score(\n",
    "        model, X, y, cv=5, scoring=\"neg_mean_absolute_error\", n_jobs=1\n",
    "    )\n",
    "    \n",
    "    score_cat = cross_val_score(\n",
    "        model_2, X, y, cv=5, scoring=\"neg_mean_absolute_error\", n_jobs=1\n",
    "    )\n",
    "    \n",
    "    score = -0.5 * (score_xgb.mean() + score_cat.mean())\n",
    "    return score\n",
    "\n",
    "#df_data = df_data.reset_index().set_index('row_id')\n",
    "#df_data = df_data.drop(outliers_index,axis=0)\n",
    "#df_data = df_data.reset_index().set_index('time')\n",
    "\n",
    "x = df_data[df_data['congestion'].isnull() == False].copy()\n",
    "y = pd.DataFrame(x.pop('congestion'))\n",
    "\n",
    "baseline_score = score_dataset(x, y)\n",
    "print(f\"Baseline score: {baseline_score:.5f} MAE\")"
   ]
  },
  {
   "cell_type": "code",
   "execution_count": null,
   "id": "847f1abd-07db-4a35-8de3-cbd7ab67539d",
   "metadata": {},
   "outputs": [],
   "source": [
    "import numpy as np\n",
    "\n",
    "def NMAE(true, pred):\n",
    "    mae = np.mean(np.abs(true-pred))\n",
    "    score = mae / np.mean(np.abs(true))\n",
    "    return score"
   ]
  }
 ],
 "metadata": {
  "kernelspec": {
   "display_name": "Python 3 (ipykernel)",
   "language": "python",
   "name": "python3"
  },
  "language_info": {
   "codemirror_mode": {
    "name": "ipython",
    "version": 3
   },
   "file_extension": ".py",
   "mimetype": "text/x-python",
   "name": "python",
   "nbconvert_exporter": "python",
   "pygments_lexer": "ipython3",
   "version": "3.8.10"
  },
  "widgets": {
   "application/vnd.jupyter.widget-state+json": {
    "state": {},
    "version_major": 2,
    "version_minor": 0
   }
  }
 },
 "nbformat": 4,
 "nbformat_minor": 5
}
