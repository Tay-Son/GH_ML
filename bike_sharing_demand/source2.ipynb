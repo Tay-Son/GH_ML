{
 "cells": [
  {
   "cell_type": "code",
   "execution_count": 1,
   "id": "34122a5b-9144-43f7-a1d6-e0d09334df34",
   "metadata": {},
   "outputs": [],
   "source": [
    "# read original data\n",
    "import pandas as pd\n",
    "import numpy as np\n",
    "import matplotlib.pyplot as plt\n",
    "import seaborn as sns\n",
    "\n",
    "Dataset_dir = \"C:/Users/0stix/Datasets/bike_sharing_demand/\"\n",
    "\n",
    "df_orig_train = pd.read_csv(Dataset_dir+\"train.csv\")\n",
    "df_orig_test = pd.read_csv(Dataset_dir+\"test.csv\")\n",
    "df_orig_sample = pd.read_csv(Dataset_dir+\"sampleSubmission.csv\")"
   ]
  },
  {
   "cell_type": "code",
   "execution_count": null,
   "id": "fa088699-4f0d-479f-8f5a-8f56d465c456",
   "metadata": {},
   "outputs": [],
   "source": [
    "from sklearn.base import BaseEstimator, TransformerMixin\n",
    "\n",
    "class FeatureEditor(BaseEstimator,TransformerMixin):\n",
    "    def __init__(self):\n",
    "        pass\n",
    "    def fit(self, X, y=None):\n",
    "        return self\n",
    "    def transform(self, X, y=None):\n",
    "        \n",
    "\n",
    "\n",
    "\n",
    "X_ = df_orig_train.drop([\"casual\", \"registered\", \"count\"], axis=1).copy()\n",
    "y_ = df_orig_train[\"count\"].copy()\n",
    "y_log = np.log1p(y_)\n",
    "\n",
    "X_[\"datetime\"] = X_.apply(pd.to_datetime)\n",
    "X_[\"year\"] = X_.datetime.apply(lambda x: x.year)\n",
    "X_[\"month\"] = X_.datetime.apply(lambda x: x.month)\n",
    "X_[\"day\"] = X_.datetime.apply(lambda x: x.day)\n",
    "X_[\"hour\"] = X_.datetime.apply(lambda x: x.hour)\n",
    "X_.drop(\"datetime\", axis=1, inplace=True)\n",
    "X_ = pd.get_dummies(X_, columns=[\"year\", \"month\", \"day\", \"hour\", \"holiday\", \"workingday\", \"season\", \"weather\"])"
   ]
  },
  {
   "cell_type": "code",
   "execution_count": null,
   "id": "224f0def-aa59-4dd4-b219-76ec4f2a7d05",
   "metadata": {},
   "outputs": [],
   "source": [
    "from sklearn.model_selection import train_test_split, GridSearchCV\n",
    "from sklearn.linear_model import LinearRegression, Ridge, Lasso\n",
    "\n",
    "X_train, X_val, y_train_log, y_val_log = train_test_split(X_, y_log, test_size=0.3, random_state=0)\n",
    "\n",
    "lr_reg = LinearRegression()\n",
    "lr_reg.fit(X_train, y_train_log)\n",
    "y_pred_log = lr_reg.predict(X_val)\n",
    "y_pred = np.expm1(y_pred_log)\n",
    "y_val = np.expm1(y_val_log)\n",
    "evaluate_regr(y_val, y_pred)"
   ]
  },
  {
   "cell_type": "code",
   "execution_count": null,
   "id": "0c81520b-33bc-429d-b090-8debf48e3576",
   "metadata": {},
   "outputs": [],
   "source": [
    "from sklearn.metrics import mean_squared_error, mean_absolute_error\n",
    "\n",
    "\n",
    "def rmsle(y, pred):\n",
    "    log_y = np.log1p(y)\n",
    "    log_pred = np.log1p(pred)\n",
    "    squared_error = (log_y - log_pred) ** 2\n",
    "    rmsle = np.sqrt(np.mean(squared_error))\n",
    "    return rmsle\n",
    "\n",
    "\n",
    "def rmse(y, pred):\n",
    "    return np.sqrt(mean_squared_error(y, pred))\n",
    "\n",
    "\n",
    "def evaluate_regr(y, pred):\n",
    "    dct_ = {'rmsle_val': rmsle(y, pred),\n",
    "            'rmse_val': rmse(y, pred),\n",
    "            'mae_val': mean_absolute_error(y, pred)}\n",
    "    print(dct_.items())"
   ]
  },
  {
   "cell_type": "code",
   "execution_count": null,
   "id": "a6771e80-e8de-4c82-9a92-a9e0313fabd4",
   "metadata": {},
   "outputs": [],
   "source": []
  }
 ],
 "metadata": {
  "kernelspec": {
   "display_name": "Python 3",
   "language": "python",
   "name": "python3"
  },
  "language_info": {
   "codemirror_mode": {
    "name": "ipython",
    "version": 3
   },
   "file_extension": ".py",
   "mimetype": "text/x-python",
   "name": "python",
   "nbconvert_exporter": "python",
   "pygments_lexer": "ipython3",
   "version": "3.8.10"
  }
 },
 "nbformat": 4,
 "nbformat_minor": 5
}
